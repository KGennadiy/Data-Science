{
 "cells": [
  {
   "cell_type": "markdown",
   "metadata": {},
   "source": [
    "# Определение стоимости автомобилей"
   ]
  },
  {
   "cell_type": "markdown",
   "metadata": {},
   "source": [
    "Сервис по продаже автомобилей с пробегом «Не бит, не крашен» разрабатывает приложение для привлечения новых клиентов. В нём можно быстро узнать рыночную стоимость своего автомобиля. В вашем распоряжении исторические данные: технические характеристики, комплектации и цены автомобилей. Вам нужно построить модель для определения стоимости. \n",
    "\n",
    "Заказчику важны:\n",
    "\n",
    "- качество предсказания;\n",
    "- скорость предсказания;\n",
    "- время обучения."
   ]
  },
  {
   "cell_type": "markdown",
   "metadata": {},
   "source": [
    "## Подготовка данных"
   ]
  },
  {
   "cell_type": "code",
   "execution_count": 1,
   "metadata": {},
   "outputs": [],
   "source": [
    "# Импорт библиотек\n",
    "import pandas as pd \n",
    "import numpy as np\n",
    "import warnings\n",
    "\n",
    "from sklearn.model_selection import cross_val_score\n",
    "from lightgbm import LGBMRegressor\n",
    "from sklearn.linear_model import LinearRegression\n",
    "from sklearn.pipeline import Pipeline\n",
    "from sklearn.metrics import mean_squared_error\n",
    "from sklearn.tree import DecisionTreeRegressor\n",
    "\n",
    "from sklearn.model_selection import train_test_split, GridSearchCV\n",
    "from sklearn.preprocessing import OrdinalEncoder, StandardScaler\n",
    "warnings.filterwarnings('ignore')"
   ]
  },
  {
   "cell_type": "markdown",
   "metadata": {},
   "source": [
    "### Получение и анализ данных"
   ]
  },
  {
   "cell_type": "code",
   "execution_count": 2,
   "metadata": {},
   "outputs": [],
   "source": [
    "df = pd.read_csv('/datasets/autos.csv')"
   ]
  },
  {
   "cell_type": "code",
   "execution_count": 3,
   "metadata": {
    "scrolled": true
   },
   "outputs": [
    {
     "name": "stdout",
     "output_type": "stream",
     "text": [
      "<class 'pandas.core.frame.DataFrame'>\n",
      "RangeIndex: 354369 entries, 0 to 354368\n",
      "Data columns (total 16 columns):\n",
      " #   Column             Non-Null Count   Dtype \n",
      "---  ------             --------------   ----- \n",
      " 0   DateCrawled        354369 non-null  object\n",
      " 1   Price              354369 non-null  int64 \n",
      " 2   VehicleType        316879 non-null  object\n",
      " 3   RegistrationYear   354369 non-null  int64 \n",
      " 4   Gearbox            334536 non-null  object\n",
      " 5   Power              354369 non-null  int64 \n",
      " 6   Model              334664 non-null  object\n",
      " 7   Kilometer          354369 non-null  int64 \n",
      " 8   RegistrationMonth  354369 non-null  int64 \n",
      " 9   FuelType           321474 non-null  object\n",
      " 10  Brand              354369 non-null  object\n",
      " 11  NotRepaired        283215 non-null  object\n",
      " 12  DateCreated        354369 non-null  object\n",
      " 13  NumberOfPictures   354369 non-null  int64 \n",
      " 14  PostalCode         354369 non-null  int64 \n",
      " 15  LastSeen           354369 non-null  object\n",
      "dtypes: int64(7), object(9)\n",
      "memory usage: 43.3+ MB\n"
     ]
    },
    {
     "data": {
      "text/plain": [
       "None"
      ]
     },
     "metadata": {},
     "output_type": "display_data"
    },
    {
     "data": {
      "text/html": [
       "<div>\n",
       "<style scoped>\n",
       "    .dataframe tbody tr th:only-of-type {\n",
       "        vertical-align: middle;\n",
       "    }\n",
       "\n",
       "    .dataframe tbody tr th {\n",
       "        vertical-align: top;\n",
       "    }\n",
       "\n",
       "    .dataframe thead th {\n",
       "        text-align: right;\n",
       "    }\n",
       "</style>\n",
       "<table border=\"1\" class=\"dataframe\">\n",
       "  <thead>\n",
       "    <tr style=\"text-align: right;\">\n",
       "      <th></th>\n",
       "      <th>DateCrawled</th>\n",
       "      <th>Price</th>\n",
       "      <th>VehicleType</th>\n",
       "      <th>RegistrationYear</th>\n",
       "      <th>Gearbox</th>\n",
       "      <th>Power</th>\n",
       "      <th>Model</th>\n",
       "      <th>Kilometer</th>\n",
       "      <th>RegistrationMonth</th>\n",
       "      <th>FuelType</th>\n",
       "      <th>Brand</th>\n",
       "      <th>NotRepaired</th>\n",
       "      <th>DateCreated</th>\n",
       "      <th>NumberOfPictures</th>\n",
       "      <th>PostalCode</th>\n",
       "      <th>LastSeen</th>\n",
       "    </tr>\n",
       "  </thead>\n",
       "  <tbody>\n",
       "    <tr>\n",
       "      <th>0</th>\n",
       "      <td>2016-03-24 11:52:17</td>\n",
       "      <td>480</td>\n",
       "      <td>NaN</td>\n",
       "      <td>1993</td>\n",
       "      <td>manual</td>\n",
       "      <td>0</td>\n",
       "      <td>golf</td>\n",
       "      <td>150000</td>\n",
       "      <td>0</td>\n",
       "      <td>petrol</td>\n",
       "      <td>volkswagen</td>\n",
       "      <td>NaN</td>\n",
       "      <td>2016-03-24 00:00:00</td>\n",
       "      <td>0</td>\n",
       "      <td>70435</td>\n",
       "      <td>2016-04-07 03:16:57</td>\n",
       "    </tr>\n",
       "    <tr>\n",
       "      <th>1</th>\n",
       "      <td>2016-03-24 10:58:45</td>\n",
       "      <td>18300</td>\n",
       "      <td>coupe</td>\n",
       "      <td>2011</td>\n",
       "      <td>manual</td>\n",
       "      <td>190</td>\n",
       "      <td>NaN</td>\n",
       "      <td>125000</td>\n",
       "      <td>5</td>\n",
       "      <td>gasoline</td>\n",
       "      <td>audi</td>\n",
       "      <td>yes</td>\n",
       "      <td>2016-03-24 00:00:00</td>\n",
       "      <td>0</td>\n",
       "      <td>66954</td>\n",
       "      <td>2016-04-07 01:46:50</td>\n",
       "    </tr>\n",
       "    <tr>\n",
       "      <th>2</th>\n",
       "      <td>2016-03-14 12:52:21</td>\n",
       "      <td>9800</td>\n",
       "      <td>suv</td>\n",
       "      <td>2004</td>\n",
       "      <td>auto</td>\n",
       "      <td>163</td>\n",
       "      <td>grand</td>\n",
       "      <td>125000</td>\n",
       "      <td>8</td>\n",
       "      <td>gasoline</td>\n",
       "      <td>jeep</td>\n",
       "      <td>NaN</td>\n",
       "      <td>2016-03-14 00:00:00</td>\n",
       "      <td>0</td>\n",
       "      <td>90480</td>\n",
       "      <td>2016-04-05 12:47:46</td>\n",
       "    </tr>\n",
       "    <tr>\n",
       "      <th>3</th>\n",
       "      <td>2016-03-17 16:54:04</td>\n",
       "      <td>1500</td>\n",
       "      <td>small</td>\n",
       "      <td>2001</td>\n",
       "      <td>manual</td>\n",
       "      <td>75</td>\n",
       "      <td>golf</td>\n",
       "      <td>150000</td>\n",
       "      <td>6</td>\n",
       "      <td>petrol</td>\n",
       "      <td>volkswagen</td>\n",
       "      <td>no</td>\n",
       "      <td>2016-03-17 00:00:00</td>\n",
       "      <td>0</td>\n",
       "      <td>91074</td>\n",
       "      <td>2016-03-17 17:40:17</td>\n",
       "    </tr>\n",
       "    <tr>\n",
       "      <th>4</th>\n",
       "      <td>2016-03-31 17:25:20</td>\n",
       "      <td>3600</td>\n",
       "      <td>small</td>\n",
       "      <td>2008</td>\n",
       "      <td>manual</td>\n",
       "      <td>69</td>\n",
       "      <td>fabia</td>\n",
       "      <td>90000</td>\n",
       "      <td>7</td>\n",
       "      <td>gasoline</td>\n",
       "      <td>skoda</td>\n",
       "      <td>no</td>\n",
       "      <td>2016-03-31 00:00:00</td>\n",
       "      <td>0</td>\n",
       "      <td>60437</td>\n",
       "      <td>2016-04-06 10:17:21</td>\n",
       "    </tr>\n",
       "  </tbody>\n",
       "</table>\n",
       "</div>"
      ],
      "text/plain": [
       "           DateCrawled  Price VehicleType  RegistrationYear Gearbox  Power  \\\n",
       "0  2016-03-24 11:52:17    480         NaN              1993  manual      0   \n",
       "1  2016-03-24 10:58:45  18300       coupe              2011  manual    190   \n",
       "2  2016-03-14 12:52:21   9800         suv              2004    auto    163   \n",
       "3  2016-03-17 16:54:04   1500       small              2001  manual     75   \n",
       "4  2016-03-31 17:25:20   3600       small              2008  manual     69   \n",
       "\n",
       "   Model  Kilometer  RegistrationMonth  FuelType       Brand NotRepaired  \\\n",
       "0   golf     150000                  0    petrol  volkswagen         NaN   \n",
       "1    NaN     125000                  5  gasoline        audi         yes   \n",
       "2  grand     125000                  8  gasoline        jeep         NaN   \n",
       "3   golf     150000                  6    petrol  volkswagen          no   \n",
       "4  fabia      90000                  7  gasoline       skoda          no   \n",
       "\n",
       "           DateCreated  NumberOfPictures  PostalCode             LastSeen  \n",
       "0  2016-03-24 00:00:00                 0       70435  2016-04-07 03:16:57  \n",
       "1  2016-03-24 00:00:00                 0       66954  2016-04-07 01:46:50  \n",
       "2  2016-03-14 00:00:00                 0       90480  2016-04-05 12:47:46  \n",
       "3  2016-03-17 00:00:00                 0       91074  2016-03-17 17:40:17  \n",
       "4  2016-03-31 00:00:00                 0       60437  2016-04-06 10:17:21  "
      ]
     },
     "metadata": {},
     "output_type": "display_data"
    },
    {
     "data": {
      "text/html": [
       "<div>\n",
       "<style scoped>\n",
       "    .dataframe tbody tr th:only-of-type {\n",
       "        vertical-align: middle;\n",
       "    }\n",
       "\n",
       "    .dataframe tbody tr th {\n",
       "        vertical-align: top;\n",
       "    }\n",
       "\n",
       "    .dataframe thead th {\n",
       "        text-align: right;\n",
       "    }\n",
       "</style>\n",
       "<table border=\"1\" class=\"dataframe\">\n",
       "  <thead>\n",
       "    <tr style=\"text-align: right;\">\n",
       "      <th></th>\n",
       "      <th>DateCrawled</th>\n",
       "      <th>Price</th>\n",
       "      <th>VehicleType</th>\n",
       "      <th>RegistrationYear</th>\n",
       "      <th>Gearbox</th>\n",
       "      <th>Power</th>\n",
       "      <th>Model</th>\n",
       "      <th>Kilometer</th>\n",
       "      <th>RegistrationMonth</th>\n",
       "      <th>FuelType</th>\n",
       "      <th>Brand</th>\n",
       "      <th>NotRepaired</th>\n",
       "      <th>DateCreated</th>\n",
       "      <th>NumberOfPictures</th>\n",
       "      <th>PostalCode</th>\n",
       "      <th>LastSeen</th>\n",
       "    </tr>\n",
       "  </thead>\n",
       "  <tbody>\n",
       "    <tr>\n",
       "      <th>354364</th>\n",
       "      <td>2016-03-21 09:50:58</td>\n",
       "      <td>0</td>\n",
       "      <td>NaN</td>\n",
       "      <td>2005</td>\n",
       "      <td>manual</td>\n",
       "      <td>0</td>\n",
       "      <td>colt</td>\n",
       "      <td>150000</td>\n",
       "      <td>7</td>\n",
       "      <td>petrol</td>\n",
       "      <td>mitsubishi</td>\n",
       "      <td>yes</td>\n",
       "      <td>2016-03-21 00:00:00</td>\n",
       "      <td>0</td>\n",
       "      <td>2694</td>\n",
       "      <td>2016-03-21 10:42:49</td>\n",
       "    </tr>\n",
       "    <tr>\n",
       "      <th>354365</th>\n",
       "      <td>2016-03-14 17:48:27</td>\n",
       "      <td>2200</td>\n",
       "      <td>NaN</td>\n",
       "      <td>2005</td>\n",
       "      <td>NaN</td>\n",
       "      <td>0</td>\n",
       "      <td>NaN</td>\n",
       "      <td>20000</td>\n",
       "      <td>1</td>\n",
       "      <td>NaN</td>\n",
       "      <td>sonstige_autos</td>\n",
       "      <td>NaN</td>\n",
       "      <td>2016-03-14 00:00:00</td>\n",
       "      <td>0</td>\n",
       "      <td>39576</td>\n",
       "      <td>2016-04-06 00:46:52</td>\n",
       "    </tr>\n",
       "    <tr>\n",
       "      <th>354366</th>\n",
       "      <td>2016-03-05 19:56:21</td>\n",
       "      <td>1199</td>\n",
       "      <td>convertible</td>\n",
       "      <td>2000</td>\n",
       "      <td>auto</td>\n",
       "      <td>101</td>\n",
       "      <td>fortwo</td>\n",
       "      <td>125000</td>\n",
       "      <td>3</td>\n",
       "      <td>petrol</td>\n",
       "      <td>smart</td>\n",
       "      <td>no</td>\n",
       "      <td>2016-03-05 00:00:00</td>\n",
       "      <td>0</td>\n",
       "      <td>26135</td>\n",
       "      <td>2016-03-11 18:17:12</td>\n",
       "    </tr>\n",
       "    <tr>\n",
       "      <th>354367</th>\n",
       "      <td>2016-03-19 18:57:12</td>\n",
       "      <td>9200</td>\n",
       "      <td>bus</td>\n",
       "      <td>1996</td>\n",
       "      <td>manual</td>\n",
       "      <td>102</td>\n",
       "      <td>transporter</td>\n",
       "      <td>150000</td>\n",
       "      <td>3</td>\n",
       "      <td>gasoline</td>\n",
       "      <td>volkswagen</td>\n",
       "      <td>no</td>\n",
       "      <td>2016-03-19 00:00:00</td>\n",
       "      <td>0</td>\n",
       "      <td>87439</td>\n",
       "      <td>2016-04-07 07:15:26</td>\n",
       "    </tr>\n",
       "    <tr>\n",
       "      <th>354368</th>\n",
       "      <td>2016-03-20 19:41:08</td>\n",
       "      <td>3400</td>\n",
       "      <td>wagon</td>\n",
       "      <td>2002</td>\n",
       "      <td>manual</td>\n",
       "      <td>100</td>\n",
       "      <td>golf</td>\n",
       "      <td>150000</td>\n",
       "      <td>6</td>\n",
       "      <td>gasoline</td>\n",
       "      <td>volkswagen</td>\n",
       "      <td>NaN</td>\n",
       "      <td>2016-03-20 00:00:00</td>\n",
       "      <td>0</td>\n",
       "      <td>40764</td>\n",
       "      <td>2016-03-24 12:45:21</td>\n",
       "    </tr>\n",
       "  </tbody>\n",
       "</table>\n",
       "</div>"
      ],
      "text/plain": [
       "                DateCrawled  Price  VehicleType  RegistrationYear Gearbox  \\\n",
       "354364  2016-03-21 09:50:58      0          NaN              2005  manual   \n",
       "354365  2016-03-14 17:48:27   2200          NaN              2005     NaN   \n",
       "354366  2016-03-05 19:56:21   1199  convertible              2000    auto   \n",
       "354367  2016-03-19 18:57:12   9200          bus              1996  manual   \n",
       "354368  2016-03-20 19:41:08   3400        wagon              2002  manual   \n",
       "\n",
       "        Power        Model  Kilometer  RegistrationMonth  FuelType  \\\n",
       "354364      0         colt     150000                  7    petrol   \n",
       "354365      0          NaN      20000                  1       NaN   \n",
       "354366    101       fortwo     125000                  3    petrol   \n",
       "354367    102  transporter     150000                  3  gasoline   \n",
       "354368    100         golf     150000                  6  gasoline   \n",
       "\n",
       "                 Brand NotRepaired          DateCreated  NumberOfPictures  \\\n",
       "354364      mitsubishi         yes  2016-03-21 00:00:00                 0   \n",
       "354365  sonstige_autos         NaN  2016-03-14 00:00:00                 0   \n",
       "354366           smart          no  2016-03-05 00:00:00                 0   \n",
       "354367      volkswagen          no  2016-03-19 00:00:00                 0   \n",
       "354368      volkswagen         NaN  2016-03-20 00:00:00                 0   \n",
       "\n",
       "        PostalCode             LastSeen  \n",
       "354364        2694  2016-03-21 10:42:49  \n",
       "354365       39576  2016-04-06 00:46:52  \n",
       "354366       26135  2016-03-11 18:17:12  \n",
       "354367       87439  2016-04-07 07:15:26  \n",
       "354368       40764  2016-03-24 12:45:21  "
      ]
     },
     "metadata": {},
     "output_type": "display_data"
    }
   ],
   "source": [
    "display(df.info())\n",
    "display(df.head())\n",
    "display(df.tail())"
   ]
  },
  {
   "cell_type": "code",
   "execution_count": 4,
   "metadata": {},
   "outputs": [
    {
     "data": {
      "text/html": [
       "<div>\n",
       "<style scoped>\n",
       "    .dataframe tbody tr th:only-of-type {\n",
       "        vertical-align: middle;\n",
       "    }\n",
       "\n",
       "    .dataframe tbody tr th {\n",
       "        vertical-align: top;\n",
       "    }\n",
       "\n",
       "    .dataframe thead th {\n",
       "        text-align: right;\n",
       "    }\n",
       "</style>\n",
       "<table border=\"1\" class=\"dataframe\">\n",
       "  <thead>\n",
       "    <tr style=\"text-align: right;\">\n",
       "      <th></th>\n",
       "      <th>Price</th>\n",
       "      <th>RegistrationYear</th>\n",
       "      <th>Power</th>\n",
       "      <th>Kilometer</th>\n",
       "      <th>RegistrationMonth</th>\n",
       "      <th>NumberOfPictures</th>\n",
       "      <th>PostalCode</th>\n",
       "    </tr>\n",
       "  </thead>\n",
       "  <tbody>\n",
       "    <tr>\n",
       "      <th>count</th>\n",
       "      <td>354369.000000</td>\n",
       "      <td>354369.000000</td>\n",
       "      <td>354369.000000</td>\n",
       "      <td>354369.000000</td>\n",
       "      <td>354369.000000</td>\n",
       "      <td>354369.0</td>\n",
       "      <td>354369.000000</td>\n",
       "    </tr>\n",
       "    <tr>\n",
       "      <th>mean</th>\n",
       "      <td>4416.656776</td>\n",
       "      <td>2004.234448</td>\n",
       "      <td>110.094337</td>\n",
       "      <td>128211.172535</td>\n",
       "      <td>5.714645</td>\n",
       "      <td>0.0</td>\n",
       "      <td>50508.689087</td>\n",
       "    </tr>\n",
       "    <tr>\n",
       "      <th>std</th>\n",
       "      <td>4514.158514</td>\n",
       "      <td>90.227958</td>\n",
       "      <td>189.850405</td>\n",
       "      <td>37905.341530</td>\n",
       "      <td>3.726421</td>\n",
       "      <td>0.0</td>\n",
       "      <td>25783.096248</td>\n",
       "    </tr>\n",
       "    <tr>\n",
       "      <th>min</th>\n",
       "      <td>0.000000</td>\n",
       "      <td>1000.000000</td>\n",
       "      <td>0.000000</td>\n",
       "      <td>5000.000000</td>\n",
       "      <td>0.000000</td>\n",
       "      <td>0.0</td>\n",
       "      <td>1067.000000</td>\n",
       "    </tr>\n",
       "    <tr>\n",
       "      <th>25%</th>\n",
       "      <td>1050.000000</td>\n",
       "      <td>1999.000000</td>\n",
       "      <td>69.000000</td>\n",
       "      <td>125000.000000</td>\n",
       "      <td>3.000000</td>\n",
       "      <td>0.0</td>\n",
       "      <td>30165.000000</td>\n",
       "    </tr>\n",
       "    <tr>\n",
       "      <th>50%</th>\n",
       "      <td>2700.000000</td>\n",
       "      <td>2003.000000</td>\n",
       "      <td>105.000000</td>\n",
       "      <td>150000.000000</td>\n",
       "      <td>6.000000</td>\n",
       "      <td>0.0</td>\n",
       "      <td>49413.000000</td>\n",
       "    </tr>\n",
       "    <tr>\n",
       "      <th>75%</th>\n",
       "      <td>6400.000000</td>\n",
       "      <td>2008.000000</td>\n",
       "      <td>143.000000</td>\n",
       "      <td>150000.000000</td>\n",
       "      <td>9.000000</td>\n",
       "      <td>0.0</td>\n",
       "      <td>71083.000000</td>\n",
       "    </tr>\n",
       "    <tr>\n",
       "      <th>max</th>\n",
       "      <td>20000.000000</td>\n",
       "      <td>9999.000000</td>\n",
       "      <td>20000.000000</td>\n",
       "      <td>150000.000000</td>\n",
       "      <td>12.000000</td>\n",
       "      <td>0.0</td>\n",
       "      <td>99998.000000</td>\n",
       "    </tr>\n",
       "  </tbody>\n",
       "</table>\n",
       "</div>"
      ],
      "text/plain": [
       "               Price  RegistrationYear          Power      Kilometer  \\\n",
       "count  354369.000000     354369.000000  354369.000000  354369.000000   \n",
       "mean     4416.656776       2004.234448     110.094337  128211.172535   \n",
       "std      4514.158514         90.227958     189.850405   37905.341530   \n",
       "min         0.000000       1000.000000       0.000000    5000.000000   \n",
       "25%      1050.000000       1999.000000      69.000000  125000.000000   \n",
       "50%      2700.000000       2003.000000     105.000000  150000.000000   \n",
       "75%      6400.000000       2008.000000     143.000000  150000.000000   \n",
       "max     20000.000000       9999.000000   20000.000000  150000.000000   \n",
       "\n",
       "       RegistrationMonth  NumberOfPictures     PostalCode  \n",
       "count      354369.000000          354369.0  354369.000000  \n",
       "mean            5.714645               0.0   50508.689087  \n",
       "std             3.726421               0.0   25783.096248  \n",
       "min             0.000000               0.0    1067.000000  \n",
       "25%             3.000000               0.0   30165.000000  \n",
       "50%             6.000000               0.0   49413.000000  \n",
       "75%             9.000000               0.0   71083.000000  \n",
       "max            12.000000               0.0   99998.000000  "
      ]
     },
     "metadata": {},
     "output_type": "display_data"
    },
    {
     "data": {
      "text/html": [
       "<div>\n",
       "<style scoped>\n",
       "    .dataframe tbody tr th:only-of-type {\n",
       "        vertical-align: middle;\n",
       "    }\n",
       "\n",
       "    .dataframe tbody tr th {\n",
       "        vertical-align: top;\n",
       "    }\n",
       "\n",
       "    .dataframe thead th {\n",
       "        text-align: right;\n",
       "    }\n",
       "</style>\n",
       "<table border=\"1\" class=\"dataframe\">\n",
       "  <thead>\n",
       "    <tr style=\"text-align: right;\">\n",
       "      <th></th>\n",
       "      <th>DateCrawled</th>\n",
       "      <th>VehicleType</th>\n",
       "      <th>Gearbox</th>\n",
       "      <th>Model</th>\n",
       "      <th>FuelType</th>\n",
       "      <th>Brand</th>\n",
       "      <th>NotRepaired</th>\n",
       "      <th>DateCreated</th>\n",
       "      <th>LastSeen</th>\n",
       "    </tr>\n",
       "  </thead>\n",
       "  <tbody>\n",
       "    <tr>\n",
       "      <th>count</th>\n",
       "      <td>354369</td>\n",
       "      <td>316879</td>\n",
       "      <td>334536</td>\n",
       "      <td>334664</td>\n",
       "      <td>321474</td>\n",
       "      <td>354369</td>\n",
       "      <td>283215</td>\n",
       "      <td>354369</td>\n",
       "      <td>354369</td>\n",
       "    </tr>\n",
       "    <tr>\n",
       "      <th>unique</th>\n",
       "      <td>271174</td>\n",
       "      <td>8</td>\n",
       "      <td>2</td>\n",
       "      <td>250</td>\n",
       "      <td>7</td>\n",
       "      <td>40</td>\n",
       "      <td>2</td>\n",
       "      <td>109</td>\n",
       "      <td>179150</td>\n",
       "    </tr>\n",
       "    <tr>\n",
       "      <th>top</th>\n",
       "      <td>2016-03-24 14:49:47</td>\n",
       "      <td>sedan</td>\n",
       "      <td>manual</td>\n",
       "      <td>golf</td>\n",
       "      <td>petrol</td>\n",
       "      <td>volkswagen</td>\n",
       "      <td>no</td>\n",
       "      <td>2016-04-03 00:00:00</td>\n",
       "      <td>2016-04-06 13:45:54</td>\n",
       "    </tr>\n",
       "    <tr>\n",
       "      <th>freq</th>\n",
       "      <td>7</td>\n",
       "      <td>91457</td>\n",
       "      <td>268251</td>\n",
       "      <td>29232</td>\n",
       "      <td>216352</td>\n",
       "      <td>77013</td>\n",
       "      <td>247161</td>\n",
       "      <td>13719</td>\n",
       "      <td>17</td>\n",
       "    </tr>\n",
       "  </tbody>\n",
       "</table>\n",
       "</div>"
      ],
      "text/plain": [
       "                DateCrawled VehicleType Gearbox   Model FuelType       Brand  \\\n",
       "count                354369      316879  334536  334664   321474      354369   \n",
       "unique               271174           8       2     250        7          40   \n",
       "top     2016-03-24 14:49:47       sedan  manual    golf   petrol  volkswagen   \n",
       "freq                      7       91457  268251   29232   216352       77013   \n",
       "\n",
       "       NotRepaired          DateCreated             LastSeen  \n",
       "count       283215               354369               354369  \n",
       "unique           2                  109               179150  \n",
       "top             no  2016-04-03 00:00:00  2016-04-06 13:45:54  \n",
       "freq        247161                13719                   17  "
      ]
     },
     "metadata": {},
     "output_type": "display_data"
    },
    {
     "data": {
      "text/plain": [
       "'Полных дубликатов:'"
      ]
     },
     "metadata": {},
     "output_type": "display_data"
    },
    {
     "data": {
      "text/plain": [
       "4"
      ]
     },
     "metadata": {},
     "output_type": "display_data"
    }
   ],
   "source": [
    "display(df.describe())\n",
    "display(df.describe(include=['object']))\n",
    "display('Полных дубликатов:', df.duplicated().sum())"
   ]
  },
  {
   "cell_type": "markdown",
   "metadata": {},
   "source": [
    "<b> Предварительный анализ</b> полученных данных позволил выявить следующие особенности:\n",
    "1) датасет содержит 354365 строк и 16 столбцов;<br>\n",
    "2) столбец Price(цена (евро)) содержит нулевые значения, которые могут повлиять на обучение модели;<br>\n",
    "3) в столбцах RegistrationYear (год регистрации автомобиля) и RegistrationMonth (месяц регистрации автомобиля) присутствуют недостоверные данные: год не может быть 1000 или 9999, месяц не может быть 0;<br>\n",
    "4) в столбце Power(мощность л.с.) присутствуют аномальные значения (менее 10 и более 500 л.с., что не может соответствовать действительности исходя из природы изучаемых данных);<br>\n",
    "5) в столбце Kilometer(пробег (км)) значения ограничены 150000, что наводит на мысль о каких либо ограничениях или фильтрах при формировании датасета;<br>\n",
    "6) присутствуют пропуски в столбцах VehicleType(тип автомобильного кузова - 37490 шт.), Gearbox(тип коробки передач - 19833шт.), Model(модель автомобиля - 19705шт.), FuelType(тип топлива - 32895шт.) и NotRepaired(была машина в ремонте или нет - 71154шт.);<br>\n",
    "7) в стобце NumberOfPictures(количество фотографий автомобиля) отсутствуют данные;<br>\n",
    "8) вывлено 4 полных дубликата данных."
   ]
  },
  {
   "cell_type": "markdown",
   "metadata": {},
   "source": [
    "### Предобработка\n",
    "\n",
    "<b> Для оптимизации вычислительного времени и приведения данных к реальным значениям проведем предобработку"
   ]
  },
  {
   "cell_type": "code",
   "execution_count": 5,
   "metadata": {},
   "outputs": [],
   "source": [
    "# Уделание полных дубликатов\n",
    "df.drop_duplicates(inplace = True)"
   ]
  },
  {
   "cell_type": "markdown",
   "metadata": {},
   "source": [
    "#### Удаление несущественных для поставленной задачи столбцов"
   ]
  },
  {
   "cell_type": "code",
   "execution_count": 6,
   "metadata": {
    "scrolled": true
   },
   "outputs": [
    {
     "name": "stdout",
     "output_type": "stream",
     "text": [
      "<class 'pandas.core.frame.DataFrame'>\n",
      "Int64Index: 354365 entries, 0 to 354368\n",
      "Data columns (total 11 columns):\n",
      " #   Column             Non-Null Count   Dtype \n",
      "---  ------             --------------   ----- \n",
      " 0   Price              354365 non-null  int64 \n",
      " 1   VehicleType        316875 non-null  object\n",
      " 2   RegistrationYear   354365 non-null  int64 \n",
      " 3   RegistrationMonth  354365 non-null  int64 \n",
      " 4   Gearbox            334532 non-null  object\n",
      " 5   Power              354365 non-null  int64 \n",
      " 6   Model              334660 non-null  object\n",
      " 7   Kilometer          354365 non-null  int64 \n",
      " 8   FuelType           321470 non-null  object\n",
      " 9   Brand              354365 non-null  object\n",
      " 10  NotRepaired        283211 non-null  object\n",
      "dtypes: int64(5), object(6)\n",
      "memory usage: 32.4+ MB\n"
     ]
    }
   ],
   "source": [
    "#Оставим значимые столбцы для дальнейшей обработки\n",
    "df = df[['Price', 'VehicleType', \n",
    "         'RegistrationYear', 'RegistrationMonth',\n",
    "         'Gearbox', 'Power', 'Model',\n",
    "         'Kilometer', 'FuelType',\n",
    "         'Brand', 'NotRepaired']]\n",
    "df.info()"
   ]
  },
  {
   "cell_type": "markdown",
   "metadata": {},
   "source": [
    "Что привело к экономии в использовании памяти более 30%"
   ]
  },
  {
   "cell_type": "markdown",
   "metadata": {},
   "source": [
    "#### Обработка пропущенных и нулевых значений"
   ]
  },
  {
   "cell_type": "code",
   "execution_count": 7,
   "metadata": {
    "scrolled": false
   },
   "outputs": [
    {
     "data": {
      "text/plain": [
       "NotRepaired          20.079297\n",
       "VehicleType          10.579487\n",
       "FuelType              9.282802\n",
       "Gearbox               5.596772\n",
       "Model                 5.560651\n",
       "Price                 0.000000\n",
       "RegistrationYear      0.000000\n",
       "RegistrationMonth     0.000000\n",
       "Power                 0.000000\n",
       "Kilometer             0.000000\n",
       "Brand                 0.000000\n",
       "dtype: float64"
      ]
     },
     "execution_count": 7,
     "metadata": {},
     "output_type": "execute_result"
    }
   ],
   "source": [
    "df.isna().sum().sort_values(ascending=False) / df.shape[0] * 100"
   ]
  },
  {
   "cell_type": "markdown",
   "metadata": {},
   "source": [
    "<b> Объем пропущенных значений по столбцам:</b>\n",
    "\n",
    " - 20% в столбце NotRepaired(вероятно владельцы пропустили это значения из-за отсутствия или намеренного сокрытия информации);\n",
    " - 10% в столбце VehicleType(подстановка значений не представляется возможной);\n",
    " - 9% в столбце FuelType(подстановка значений не представляется возможной);\n",
    " - 5% в столбце GearBox(подстановка значений не представляется возможной, пустые значения лучше удалить);\n",
    " - 5% в столбце Model(можем предположить, что наименование модели отсутствовало в справочнике, т.к. редкие автомобили могут значительно отличаться в цене, пустые значения лучше удалить)."
   ]
  },
  {
   "cell_type": "markdown",
   "metadata": {},
   "source": [
    "##### Cтолбец Price (цена в евро)"
   ]
  },
  {
   "cell_type": "code",
   "execution_count": 8,
   "metadata": {},
   "outputs": [
    {
     "data": {
      "text/plain": [
       "<AxesSubplot:>"
      ]
     },
     "execution_count": 8,
     "metadata": {},
     "output_type": "execute_result"
    },
    {
     "data": {
      "image/png": "[encoded data removed]",
      "text/plain": [
       "<Figure size 1080x576 with 1 Axes>"
      ]
     },
     "metadata": {
      "needs_background": "light"
     },
     "output_type": "display_data"
    }
   ],
   "source": [
    "# Проверим наполнение целевого признака\n",
    "df['Price'].hist(bins=100, figsize=(15,8))"
   ]
  },
  {
   "cell_type": "markdown",
   "metadata": {},
   "source": [
    "<b> Удалим значения дешевле 50 евро, т.к. такая стоимость автомобиля даже на запчасти не имеет смысла (природа таких значений возможна из-за ошибки в заполнении или пропущенных значений)"
   ]
  },
  {
   "cell_type": "code",
   "execution_count": 9,
   "metadata": {},
   "outputs": [],
   "source": [
    "df = df.query('Price > 50')"
   ]
  },
  {
   "cell_type": "markdown",
   "metadata": {},
   "source": [
    "##### Столбцы RegistrationYear (год регистрации автомобиля) и RegistrationMonth (месяц регистрации автомобиля)\n",
    "\n",
    "Удалим недостоверные данные"
   ]
  },
  {
   "cell_type": "code",
   "execution_count": 10,
   "metadata": {
    "scrolled": true
   },
   "outputs": [
    {
     "data": {
      "text/plain": [
       "<AxesSubplot:>"
      ]
     },
     "execution_count": 10,
     "metadata": {},
     "output_type": "execute_result"
    },
    {
     "data": {
      "image/png": "[encoded data removed]",
      "text/plain": [
       "<Figure size 1080x576 with 1 Axes>"
      ]
     },
     "metadata": {
      "needs_background": "light"
     },
     "output_type": "display_data"
    }
   ],
   "source": [
    "# Проверим наполнение признака с учетом поправки на суть значения\n",
    "# Значения до 1970 года удалим, т.к. их стоимость формируется на основании антикварной ценности экземпляров\n",
    "# Значения после 2020 года невозможны\n",
    "df = df.query('1969 < RegistrationYear < 2020')\n",
    "df['RegistrationYear'].hist(bins=50, figsize=(15,8))"
   ]
  },
  {
   "cell_type": "code",
   "execution_count": 11,
   "metadata": {
    "scrolled": true
   },
   "outputs": [
    {
     "data": {
      "text/plain": [
       "<AxesSubplot:>"
      ]
     },
     "execution_count": 11,
     "metadata": {},
     "output_type": "execute_result"
    },
    {
     "data": {
      "image/png": "[encoded data removed]",
      "text/plain": [
       "<Figure size 1080x576 with 1 Axes>"
      ]
     },
     "metadata": {
      "needs_background": "light"
     },
     "output_type": "display_data"
    }
   ],
   "source": [
    "# Проверим наполнение признака\n",
    "df['RegistrationMonth'].hist(bins=13, figsize=(15,8))"
   ]
  },
  {
   "cell_type": "markdown",
   "metadata": {},
   "source": [
    "Исходя из распределения, можно предположить, что строки со значением месяца **0** заполнялись по принципу **не указано**, т.к. имеют не значительное количество (на общем фоне) и выброс на фоне соседних месяцев.\n",
    "\n",
    "Для очистки от \"**шума**\" при обучении, значение **0** удалим"
   ]
  },
  {
   "cell_type": "code",
   "execution_count": 12,
   "metadata": {},
   "outputs": [],
   "source": [
    "df = df.query('RegistrationMonth > 0')"
   ]
  },
  {
   "cell_type": "markdown",
   "metadata": {},
   "source": [
    "##### Столбец Power (мощность л.с.)\n",
    "\n",
    "Удалим из столбца Power аномальные значения (менее 10 и более 500 л.с., т.к. за пределами данного диапазона для автомобилей природа занчений данных вызывает большие сомнения из-за малой распространенности серийного производства таких машин)"
   ]
  },
  {
   "cell_type": "code",
   "execution_count": 13,
   "metadata": {},
   "outputs": [
    {
     "data": {
      "text/plain": [
       "<AxesSubplot:>"
      ]
     },
     "execution_count": 13,
     "metadata": {},
     "output_type": "execute_result"
    },
    {
     "data": {
      "image/png": "[encoded data removed]",
      "text/plain": [
       "<Figure size 1080x576 with 1 Axes>"
      ]
     },
     "metadata": {
      "needs_background": "light"
     },
     "output_type": "display_data"
    }
   ],
   "source": [
    "df = df.query('9 < Power < 501')\n",
    "df['Power'].hist(bins=100, figsize=(15,8))"
   ]
  },
  {
   "cell_type": "markdown",
   "metadata": {},
   "source": [
    "##### Столбец Kilometer(пробег, км)\n",
    "\n",
    "в столбце Kilometer(пробег (км)) значения ограничены 150000, что наводит на мысль о каких либо ограничениях или фильтрах при формировании датасета"
   ]
  },
  {
   "cell_type": "code",
   "execution_count": 14,
   "metadata": {
    "scrolled": true
   },
   "outputs": [
    {
     "data": {
      "text/plain": [
       "<AxesSubplot:>"
      ]
     },
     "execution_count": 14,
     "metadata": {},
     "output_type": "execute_result"
    },
    {
     "data": {
      "image/png": "[encoded data removed]",
      "text/plain": [
       "<Figure size 1080x576 with 1 Axes>"
      ]
     },
     "metadata": {
      "needs_background": "light"
     },
     "output_type": "display_data"
    }
   ],
   "source": [
    "df['Kilometer'].hist(bins=30, figsize=(15,8))"
   ]
  },
  {
   "cell_type": "markdown",
   "metadata": {},
   "source": [
    "Судя по распределению, значение пробега несёт условный характер"
   ]
  },
  {
   "cell_type": "markdown",
   "metadata": {},
   "source": [
    "##### Столбец NotRepaired (была машина в ремонте или нет)\n",
    "\n",
    "Заменим отсутствующие значения предположением, что машина не была в ремонте."
   ]
  },
  {
   "cell_type": "code",
   "execution_count": 15,
   "metadata": {},
   "outputs": [],
   "source": [
    "df['NotRepaired'] = df['NotRepaired'].fillna('no')"
   ]
  },
  {
   "cell_type": "markdown",
   "metadata": {},
   "source": [
    "##### Столбцы VehicleType (тип автомобильного кузова), VehicleType (тип автомобильного кузова), GearBox (тип коробки передач) и Model (модель автомобиля) \n",
    "\n",
    "Заполнение пропусков в данных столбцах может привести в совокумности к значительным искажениям при формировании модели и считаю необходимым их удалить"
   ]
  },
  {
   "cell_type": "code",
   "execution_count": 16,
   "metadata": {},
   "outputs": [
    {
     "name": "stdout",
     "output_type": "stream",
     "text": [
      "Price                0\n",
      "VehicleType          0\n",
      "RegistrationYear     0\n",
      "RegistrationMonth    0\n",
      "Gearbox              0\n",
      "Power                0\n",
      "Model                0\n",
      "Kilometer            0\n",
      "FuelType             0\n",
      "Brand                0\n",
      "NotRepaired          0\n",
      "dtype: int64\n"
     ]
    }
   ],
   "source": [
    "df = df.dropna().reset_index(drop=True)\n",
    "print(df.isnull().sum())"
   ]
  },
  {
   "cell_type": "code",
   "execution_count": 17,
   "metadata": {
    "scrolled": true
   },
   "outputs": [
    {
     "name": "stdout",
     "output_type": "stream",
     "text": [
      "<class 'pandas.core.frame.DataFrame'>\n",
      "RangeIndex: 252646 entries, 0 to 252645\n",
      "Data columns (total 11 columns):\n",
      " #   Column             Non-Null Count   Dtype \n",
      "---  ------             --------------   ----- \n",
      " 0   Price              252646 non-null  int64 \n",
      " 1   VehicleType        252646 non-null  object\n",
      " 2   RegistrationYear   252646 non-null  int64 \n",
      " 3   RegistrationMonth  252646 non-null  int64 \n",
      " 4   Gearbox            252646 non-null  object\n",
      " 5   Power              252646 non-null  int64 \n",
      " 6   Model              252646 non-null  object\n",
      " 7   Kilometer          252646 non-null  int64 \n",
      " 8   FuelType           252646 non-null  object\n",
      " 9   Brand              252646 non-null  object\n",
      " 10  NotRepaired        252646 non-null  object\n",
      "dtypes: int64(5), object(6)\n",
      "memory usage: 21.2+ MB\n"
     ]
    }
   ],
   "source": [
    "df.shape\n",
    "df.info()"
   ]
  },
  {
   "cell_type": "markdown",
   "metadata": {},
   "source": [
    "<b> Вывод по данным</b>\n",
    "\n",
    "1) Была изучена таблица данных.<br>\n",
    "2) Удалены аномальные и пропущенные значения.<br>\n",
    "3) Выделены небходимые столбцы для обучения модели.<br>\n",
    "4) Заполнены пропуски в столбцах и удалены некорректные значения.\n",
    "5) Достигрута значительная экономия ресурсов памяти (долее 50%), что ускорит обучение модели.\n",
    "\n",
    "**После предобработки** мы удалили 35% данных, НО можем утверждать о результирующем высоком качестве полученной выборки пригодной для дельнейшего моделирования"
   ]
  },
  {
   "cell_type": "markdown",
   "metadata": {},
   "source": [
    "\n",
    "## Обучение моделей"
   ]
  },
  {
   "cell_type": "markdown",
   "metadata": {
    "scrolled": true
   },
   "source": [
    "Выберем следующие регрессоры для обучения:\n",
    "<b>\n",
    " - Градиентный бустинг (LGBMRegressor);\n",
    " - Линейная регрессия (LinearRegression);\n",
    " - Решающее дерево (DecisionTreeRegressor).</b>\n",
    "\n",
    "В качестве метрики для для оценки всех моделей будем использовать RMSE. Качество моделей будем проверять на кроссвалидации.\n",
    "\n",
    "Подготовим 3 типа признаков для кроссвалидации:\n",
    " - Оригинальные (org_features);\n",
    " - Закодированные Прямым кодированием OE (ord_features);\n",
    " - Закодированные Фиктивным кодированием OHE (ohe_features)."
   ]
  },
  {
   "cell_type": "code",
   "execution_count": 18,
   "metadata": {},
   "outputs": [],
   "source": [
    "#Оригинальные принаки\n",
    "org_features = df.drop('Price', axis=1)\n",
    "\n",
    "#Прямое кодирование\n",
    "encd = OrdinalEncoder()\n",
    "cat_columns = ['VehicleType','Gearbox','Model','FuelType','Brand','NotRepaired']\n",
    "cat_features = org_features[cat_columns]\n",
    "cat_features = pd.DataFrame(encd.fit_transform(cat_features),\n",
    "                                columns=cat_features.columns, \n",
    "                                index=cat_features.index)\n",
    "ord_features = org_features.copy()\n",
    "for column in cat_columns:\n",
    "    ord_features[column] = cat_features[column]\n",
    "\n",
    "# Фиктивное кодирование\n",
    "ohe_features = pd.get_dummies(org_features, drop_first=True)\n",
    "\n",
    "#Целевой признак\n",
    "targ = df['Price']"
   ]
  },
  {
   "cell_type": "code",
   "execution_count": 19,
   "metadata": {},
   "outputs": [],
   "source": [
    "org_features_tr, org_features_t, targ_tr, targ_t = train_test_split(\n",
    "    org_features, targ, test_size=0.25, random_state=12345)\n",
    "\n",
    "ord_features_tr = ord_features.loc[org_features_tr.index, :]\n",
    "ord_features_t = ord_features.loc[org_features_t.index, :]\n",
    "\n",
    "ohe_features_tr = ohe_features.loc[org_features_tr.index, :]\n",
    "ohe_features_t = ohe_features.loc[org_features_t.index, :]"
   ]
  },
  {
   "cell_type": "markdown",
   "metadata": {},
   "source": [
    "### Градиентный бустинг (LGBMRegressor)"
   ]
  },
  {
   "cell_type": "markdown",
   "metadata": {},
   "source": [
    "%%time\n",
    "print(\"Обучение Градиентным бустингом c Прямым кодированием (OE)\")\n",
    "hyperparams = [{'num_leaves':[20, 60, 100], \n",
    "                'learning_rate':[0.1, 0.3, 0.5],\n",
    "                'random_state':[12345]}]\n",
    "lgbm = GridSearchCV(LGBMRegressor(), hyperparams, scoring='neg_mean_squared_error')\n",
    "lgbm.fit(ord_features_tr, targ_tr)\n",
    "print(\"Наилучшие найденные параметры:\")\n",
    "print(lgbm.best_params_)\n",
    "print(\"Поле параметров:\")\n",
    "means = lgbm.cv_results_['mean_test_score']\n",
    "stds = lgbm.cv_results_['std_test_score']\n",
    "for mean, std, params in zip(means, stds, lgbm.cv_results_['params']):\n",
    "    print(\"%0.3f for %r\"% ((mean*-1)** 0.5, params))\n",
    "RMSE_LGBM = (max(means)*-1) ** 0.5\n",
    "print(\"RMSE для Градиентного бустинга c Прямым кодированием (OE) =\", RMSE_LGBM)"
   ]
  },
  {
   "cell_type": "code",
   "execution_count": 20,
   "metadata": {},
   "outputs": [
    {
     "name": "stdout",
     "output_type": "stream",
     "text": [
      "RMSE для Градиентного бустинга c Прямым кодированием (OE) на тестовой выборке = 1533.628225605426\n",
      "CPU times: user 10min 17s, sys: 6.2 s, total: 10min 23s\n",
      "Wall time: 10min 28s\n"
     ]
    }
   ],
   "source": [
    "%%time\n",
    "model = LGBMRegressor(learning_rate=0.3, \n",
    "                      num_leaves=100, \n",
    "                      random_state=12345)\n",
    "model.fit(ord_features_tr, targ_tr)\n",
    "\n",
    "targ_pred = model.predict(ord_features_t)\n",
    "\n",
    "f_RMSE_LGBMR = mean_squared_error(targ_t, targ_pred) ** 0.5\n",
    "print(\"RMSE для Градиентного бустинга c Прямым кодированием (OE) на тестовой выборке =\", f_RMSE_LGBMR)"
   ]
  },
  {
   "cell_type": "markdown",
   "metadata": {},
   "source": [
    "### Линейная регрессия (LinearRegression)"
   ]
  },
  {
   "cell_type": "markdown",
   "metadata": {},
   "source": [
    "#### Проведем обучение без масштабирования"
   ]
  },
  {
   "cell_type": "code",
   "execution_count": 21,
   "metadata": {},
   "outputs": [
    {
     "name": "stdout",
     "output_type": "stream",
     "text": [
      "Обучение Линейной регрессией без масштабирования\n",
      "RMSE для Линейной регрессии без масштабирования = 2436.0770731606276\n",
      "CPU times: user 1min 15s, sys: 2min 32s, total: 3min 47s\n",
      "Wall time: 3min 48s\n"
     ]
    }
   ],
   "source": [
    "%%time\n",
    "print(\"Обучение Линейной регрессией без масштабирования\")\n",
    "RMSE_LR = (cross_val_score(LinearRegression(), ohe_features_tr, targ_tr, \n",
    "                             cv=5, scoring='neg_mean_squared_error').mean() * -1) ** 0.5\n",
    "print(\"RMSE для Линейной регрессии без масштабирования =\", RMSE_LR)"
   ]
  },
  {
   "cell_type": "code",
   "execution_count": 22,
   "metadata": {},
   "outputs": [
    {
     "name": "stdout",
     "output_type": "stream",
     "text": [
      "RMSE для Линейной регрессии без масштабирования на тестовой выборке = 2448.098109137804\n",
      "CPU times: user 18.6 s, sys: 38.4 s, total: 57 s\n",
      "Wall time: 57.3 s\n"
     ]
    }
   ],
   "source": [
    "%%time\n",
    "model = LinearRegression()\n",
    "model.fit(ohe_features_tr, targ_tr)\n",
    "\n",
    "LinearRegression(copy_X=True, fit_intercept=True, n_jobs=None, normalize=False)\n",
    "\n",
    "targ_pred = model.predict(ohe_features_t)\n",
    "\n",
    "f_RMSE_LR = mean_squared_error(targ_t, targ_pred) ** 0.5\n",
    "print(\"RMSE для Линейной регрессии без масштабирования на тестовой выборке =\", f_RMSE_LR)"
   ]
  },
  {
   "cell_type": "markdown",
   "metadata": {},
   "source": [
    "#### Проведем обучение с масштабированием"
   ]
  },
  {
   "cell_type": "code",
   "execution_count": 23,
   "metadata": {},
   "outputs": [
    {
     "name": "stdout",
     "output_type": "stream",
     "text": [
      "Обучение Линейной регрессией с масштабированием\n",
      "RMSE для Линейной регрессии после масштабирования = 7729303991268.882\n",
      "CPU times: user 1min 15s, sys: 2min 24s, total: 3min 39s\n",
      "Wall time: 3min 40s\n"
     ]
    }
   ],
   "source": [
    "%%time\n",
    "print(\"Обучение Линейной регрессией с масштабированием\")\n",
    "RMSE_LRs = (cross_val_score(Pipeline([(\"standard_scaller\", StandardScaler()),\n",
    "                            (\"linear_regression\", LinearRegression())]),\n",
    "                            ohe_features_tr, targ_tr, \n",
    "                            cv=5, scoring='neg_mean_squared_error').mean() * -1) ** 0.5\n",
    "print(\"RMSE для Линейной регрессии после масштабирования =\", RMSE_LRs)"
   ]
  },
  {
   "cell_type": "markdown",
   "metadata": {},
   "source": [
    "**Масштабирование значительно ухудшило показатели модели.\n",
    "Дальнейшее рассмотрения данной модели с масштабированием безсмысленно.**"
   ]
  },
  {
   "cell_type": "markdown",
   "metadata": {},
   "source": [
    "### Решающее дерево (DecisionTreeRegressor)"
   ]
  },
  {
   "cell_type": "markdown",
   "metadata": {},
   "source": [
    "#### Проведем обучение на признаках закодированных через Прямое кодирование (ОЕ)"
   ]
  },
  {
   "cell_type": "code",
   "execution_count": 24,
   "metadata": {},
   "outputs": [
    {
     "name": "stdout",
     "output_type": "stream",
     "text": [
      "Обучение Решающим деревом c Прямым кодированием (OE)\n",
      "Наилучшие найденные параметры:\n",
      "{'criterion': 'mse', 'max_depth': 14, 'random_state': 12345}\n",
      "Поле параметров:\n",
      "3121.906 for {'criterion': 'mse', 'max_depth': 2, 'random_state': 12345}\n",
      "2755.173 for {'criterion': 'mse', 'max_depth': 3, 'random_state': 12345}\n",
      "2509.906 for {'criterion': 'mse', 'max_depth': 4, 'random_state': 12345}\n",
      "2336.918 for {'criterion': 'mse', 'max_depth': 5, 'random_state': 12345}\n",
      "2226.379 for {'criterion': 'mse', 'max_depth': 6, 'random_state': 12345}\n",
      "2135.476 for {'criterion': 'mse', 'max_depth': 7, 'random_state': 12345}\n",
      "2058.192 for {'criterion': 'mse', 'max_depth': 8, 'random_state': 12345}\n",
      "1995.421 for {'criterion': 'mse', 'max_depth': 9, 'random_state': 12345}\n",
      "1940.044 for {'criterion': 'mse', 'max_depth': 10, 'random_state': 12345}\n",
      "1895.792 for {'criterion': 'mse', 'max_depth': 11, 'random_state': 12345}\n",
      "1862.441 for {'criterion': 'mse', 'max_depth': 12, 'random_state': 12345}\n",
      "1844.682 for {'criterion': 'mse', 'max_depth': 13, 'random_state': 12345}\n",
      "1837.993 for {'criterion': 'mse', 'max_depth': 14, 'random_state': 12345}\n",
      "1847.692 for {'criterion': 'mse', 'max_depth': 15, 'random_state': 12345}\n",
      "1864.860 for {'criterion': 'mse', 'max_depth': 16, 'random_state': 12345}\n",
      "1889.819 for {'criterion': 'mse', 'max_depth': 17, 'random_state': 12345}\n",
      "1910.343 for {'criterion': 'mse', 'max_depth': 18, 'random_state': 12345}\n",
      "1924.708 for {'criterion': 'mse', 'max_depth': 19, 'random_state': 12345}\n",
      "1956.608 for {'criterion': 'mse', 'max_depth': 20, 'random_state': 12345}\n",
      "1967.391 for {'criterion': 'mse', 'max_depth': 21, 'random_state': 12345}\n",
      "1978.293 for {'criterion': 'mse', 'max_depth': 22, 'random_state': 12345}\n",
      "1986.088 for {'criterion': 'mse', 'max_depth': 23, 'random_state': 12345}\n",
      "1996.062 for {'criterion': 'mse', 'max_depth': 24, 'random_state': 12345}\n",
      "2000.872 for {'criterion': 'mse', 'max_depth': 25, 'random_state': 12345}\n",
      "2005.837 for {'criterion': 'mse', 'max_depth': 26, 'random_state': 12345}\n",
      "2000.704 for {'criterion': 'mse', 'max_depth': 27, 'random_state': 12345}\n",
      "2004.360 for {'criterion': 'mse', 'max_depth': 28, 'random_state': 12345}\n",
      "2009.538 for {'criterion': 'mse', 'max_depth': 29, 'random_state': 12345}\n",
      "2010.413 for {'criterion': 'mse', 'max_depth': 30, 'random_state': 12345}\n",
      "2010.180 for {'criterion': 'mse', 'max_depth': 31, 'random_state': 12345}\n",
      "2010.302 for {'criterion': 'mse', 'max_depth': 32, 'random_state': 12345}\n",
      "2004.030 for {'criterion': 'mse', 'max_depth': 33, 'random_state': 12345}\n",
      "2011.536 for {'criterion': 'mse', 'max_depth': 34, 'random_state': 12345}\n",
      "2009.795 for {'criterion': 'mse', 'max_depth': 35, 'random_state': 12345}\n",
      "2012.079 for {'criterion': 'mse', 'max_depth': 36, 'random_state': 12345}\n",
      "2006.317 for {'criterion': 'mse', 'max_depth': 37, 'random_state': 12345}\n",
      "2010.183 for {'criterion': 'mse', 'max_depth': 38, 'random_state': 12345}\n",
      "2009.803 for {'criterion': 'mse', 'max_depth': 39, 'random_state': 12345}\n",
      "2009.560 for {'criterion': 'mse', 'max_depth': 40, 'random_state': 12345}\n",
      "RMSE для Решающего дерева c Прямым кодированием (OE) = 1837.9928444751718\n",
      "CPU times: user 1min 39s, sys: 799 ms, total: 1min 40s\n",
      "Wall time: 1min 40s\n"
     ]
    }
   ],
   "source": [
    "%%time\n",
    "print(\"Обучение Решающим деревом c Прямым кодированием (OE)\")\n",
    "max_depth_list = [x for x in range(2, 41)]\n",
    "hyperparams = [{'criterion':['mse'], \n",
    "                'max_depth':max_depth_list, \n",
    "                'random_state':[12345]}]\n",
    "dtr = GridSearchCV(DecisionTreeRegressor(), hyperparams, scoring='neg_mean_squared_error')\n",
    "dtr.fit(ord_features_tr, targ_tr)\n",
    "print(\"Наилучшие найденные параметры:\")\n",
    "print(dtr.best_params_)\n",
    "print(\"Поле параметров:\")\n",
    "means = dtr.cv_results_['mean_test_score']\n",
    "stds = dtr.cv_results_['std_test_score']\n",
    "for mean, std, params in zip(means, stds, dtr.cv_results_['params']):\n",
    "    print(\"%0.3f for %r\"% ((mean*-1)** 0.5, params))\n",
    "RMSE_DTR_OE = (max(means)*-1) ** 0.5\n",
    "print(\"RMSE для Решающего дерева c Прямым кодированием (OE) =\", RMSE_DTR_OE)"
   ]
  },
  {
   "cell_type": "code",
   "execution_count": 25,
   "metadata": {},
   "outputs": [
    {
     "name": "stdout",
     "output_type": "stream",
     "text": [
      "RMSE для Решающего дерева c Прямым кодированием (OE) на тестовой выборке = 1834.7691200753254\n",
      "CPU times: user 596 ms, sys: 4.36 ms, total: 600 ms\n",
      "Wall time: 602 ms\n"
     ]
    }
   ],
   "source": [
    "%%time\n",
    "model = DecisionTreeRegressor(criterion='mse', \n",
    "                              max_depth=14, \n",
    "                              random_state=12345) \n",
    "model.fit(ord_features_tr, targ_tr)\n",
    "targ_pred = model.predict(ord_features_t)\n",
    "f_RMSE_DTR_OE = mean_squared_error(targ_t, targ_pred) ** 0.5\n",
    "print(\"RMSE для Решающего дерева c Прямым кодированием (OE) на тестовой выборке =\", f_RMSE_DTR_OE)"
   ]
  },
  {
   "cell_type": "markdown",
   "metadata": {},
   "source": [
    "#### Проведем обучение на признаках закодированных через Фиктивное кодирование (OHE)"
   ]
  },
  {
   "cell_type": "code",
   "execution_count": 26,
   "metadata": {
    "scrolled": true
   },
   "outputs": [
    {
     "name": "stdout",
     "output_type": "stream",
     "text": [
      "Обучение Решающим деревом c Фиктивным кодированием (OHE)\n",
      "Наилучшие найденные параметры:\n",
      "{'criterion': 'mse', 'max_depth': 17, 'random_state': 12345}\n",
      "Поле параметров:\n",
      "3121.906 for {'criterion': 'mse', 'max_depth': 2, 'random_state': 12345}\n",
      "2755.173 for {'criterion': 'mse', 'max_depth': 3, 'random_state': 12345}\n",
      "2508.139 for {'criterion': 'mse', 'max_depth': 4, 'random_state': 12345}\n",
      "2339.017 for {'criterion': 'mse', 'max_depth': 5, 'random_state': 12345}\n",
      "2217.653 for {'criterion': 'mse', 'max_depth': 6, 'random_state': 12345}\n",
      "2132.903 for {'criterion': 'mse', 'max_depth': 7, 'random_state': 12345}\n",
      "2055.747 for {'criterion': 'mse', 'max_depth': 8, 'random_state': 12345}\n",
      "1995.080 for {'criterion': 'mse', 'max_depth': 9, 'random_state': 12345}\n",
      "1946.408 for {'criterion': 'mse', 'max_depth': 10, 'random_state': 12345}\n",
      "1909.835 for {'criterion': 'mse', 'max_depth': 11, 'random_state': 12345}\n",
      "1871.998 for {'criterion': 'mse', 'max_depth': 12, 'random_state': 12345}\n",
      "1849.137 for {'criterion': 'mse', 'max_depth': 13, 'random_state': 12345}\n",
      "1839.212 for {'criterion': 'mse', 'max_depth': 14, 'random_state': 12345}\n",
      "1835.007 for {'criterion': 'mse', 'max_depth': 15, 'random_state': 12345}\n",
      "1830.450 for {'criterion': 'mse', 'max_depth': 16, 'random_state': 12345}\n",
      "1828.106 for {'criterion': 'mse', 'max_depth': 17, 'random_state': 12345}\n",
      "1836.731 for {'criterion': 'mse', 'max_depth': 18, 'random_state': 12345}\n",
      "1844.328 for {'criterion': 'mse', 'max_depth': 19, 'random_state': 12345}\n",
      "1849.044 for {'criterion': 'mse', 'max_depth': 20, 'random_state': 12345}\n",
      "1862.957 for {'criterion': 'mse', 'max_depth': 21, 'random_state': 12345}\n",
      "1874.499 for {'criterion': 'mse', 'max_depth': 22, 'random_state': 12345}\n",
      "1879.881 for {'criterion': 'mse', 'max_depth': 23, 'random_state': 12345}\n",
      "1885.855 for {'criterion': 'mse', 'max_depth': 24, 'random_state': 12345}\n",
      "1896.355 for {'criterion': 'mse', 'max_depth': 25, 'random_state': 12345}\n",
      "1902.298 for {'criterion': 'mse', 'max_depth': 26, 'random_state': 12345}\n",
      "1907.804 for {'criterion': 'mse', 'max_depth': 27, 'random_state': 12345}\n",
      "1913.396 for {'criterion': 'mse', 'max_depth': 28, 'random_state': 12345}\n",
      "1920.572 for {'criterion': 'mse', 'max_depth': 29, 'random_state': 12345}\n",
      "1920.571 for {'criterion': 'mse', 'max_depth': 30, 'random_state': 12345}\n",
      "1921.063 for {'criterion': 'mse', 'max_depth': 31, 'random_state': 12345}\n",
      "1929.071 for {'criterion': 'mse', 'max_depth': 32, 'random_state': 12345}\n",
      "1930.241 for {'criterion': 'mse', 'max_depth': 33, 'random_state': 12345}\n",
      "1931.572 for {'criterion': 'mse', 'max_depth': 34, 'random_state': 12345}\n",
      "1935.892 for {'criterion': 'mse', 'max_depth': 35, 'random_state': 12345}\n",
      "1932.394 for {'criterion': 'mse', 'max_depth': 36, 'random_state': 12345}\n",
      "1938.030 for {'criterion': 'mse', 'max_depth': 37, 'random_state': 12345}\n",
      "1935.195 for {'criterion': 'mse', 'max_depth': 38, 'random_state': 12345}\n",
      "1940.212 for {'criterion': 'mse', 'max_depth': 39, 'random_state': 12345}\n",
      "1934.861 for {'criterion': 'mse', 'max_depth': 40, 'random_state': 12345}\n",
      "RMSE для Решающего дерева c Фиктивным кодированием (OHE) = 1828.105899193963\n",
      "CPU times: user 11min 59s, sys: 42.6 s, total: 12min 42s\n",
      "Wall time: 12min 44s\n"
     ]
    }
   ],
   "source": [
    "%%time\n",
    "print(\"Обучение Решающим деревом c Фиктивным кодированием (OHE)\")\n",
    "max_depth_list = [x for x in range(2, 41)]\n",
    "hyperparams = [{'criterion':['mse'], \n",
    "                'max_depth':max_depth_list, \n",
    "                'random_state':[12345]}]\n",
    "dtr = GridSearchCV(DecisionTreeRegressor(), hyperparams, scoring='neg_mean_squared_error')\n",
    "dtr.fit(ohe_features_tr, targ_tr)\n",
    "print(\"Наилучшие найденные параметры:\")\n",
    "print(dtr.best_params_)\n",
    "print(\"Поле параметров:\")\n",
    "means = dtr.cv_results_['mean_test_score']\n",
    "stds = dtr.cv_results_['std_test_score']\n",
    "for mean, std, params in zip(means, stds, dtr.cv_results_['params']):\n",
    "    print(\"%0.3f for %r\"% ((mean*-1)** 0.5, params))\n",
    "RMSE_DTR_OHE = (max(means)*-1) ** 0.5\n",
    "print(\"RMSE для Решающего дерева c Фиктивным кодированием (OHE) =\", RMSE_DTR_OHE)"
   ]
  },
  {
   "cell_type": "code",
   "execution_count": 27,
   "metadata": {},
   "outputs": [
    {
     "name": "stdout",
     "output_type": "stream",
     "text": [
      "RMSE для Решающего дерева c Фиктивным кодированием (OHE) на тестовой выборке = 1818.4135230326872\n",
      "CPU times: user 4.97 s, sys: 268 ms, total: 5.23 s\n",
      "Wall time: 5.27 s\n"
     ]
    }
   ],
   "source": [
    "%%time\n",
    "model = DecisionTreeRegressor(criterion='mse', \n",
    "                              max_depth=17, \n",
    "                              random_state=12345) \n",
    "model.fit(ohe_features_tr, targ_tr)\n",
    "targ_pred = model.predict(ohe_features_t)\n",
    "f_RMSE_DTR_OHE = mean_squared_error(targ_t, targ_pred) ** 0.5\n",
    "print(\"RMSE для Решающего дерева c Фиктивным кодированием (OHE) на тестовой выборке =\", f_RMSE_DTR_OHE)"
   ]
  },
  {
   "cell_type": "markdown",
   "metadata": {},
   "source": [
    "**На данном этапе изучены результаты по 3-м моделям**"
   ]
  },
  {
   "cell_type": "markdown",
   "metadata": {},
   "source": [
    "## Анализ моделей"
   ]
  },
  {
   "cell_type": "markdown",
   "metadata": {},
   "source": [
    "### Сравнение моделей"
   ]
  },
  {
   "cell_type": "code",
   "execution_count": 28,
   "metadata": {},
   "outputs": [
    {
     "data": {
      "text/html": [
       "<div>\n",
       "<style scoped>\n",
       "    .dataframe tbody tr th:only-of-type {\n",
       "        vertical-align: middle;\n",
       "    }\n",
       "\n",
       "    .dataframe tbody tr th {\n",
       "        vertical-align: top;\n",
       "    }\n",
       "\n",
       "    .dataframe thead th {\n",
       "        text-align: right;\n",
       "    }\n",
       "</style>\n",
       "<table border=\"1\" class=\"dataframe\">\n",
       "  <thead>\n",
       "    <tr style=\"text-align: right;\">\n",
       "      <th></th>\n",
       "      <th>Model</th>\n",
       "      <th>Train RMSE</th>\n",
       "      <th>Train Time, sec</th>\n",
       "      <th>Test RMSE</th>\n",
       "      <th>Test Time, sec</th>\n",
       "    </tr>\n",
       "  </thead>\n",
       "  <tbody>\n",
       "    <tr>\n",
       "      <th>0</th>\n",
       "      <td>LGBMRegressor</td>\n",
       "      <td>1525.92</td>\n",
       "      <td>559</td>\n",
       "      <td>1533.63</td>\n",
       "      <td>6.180</td>\n",
       "    </tr>\n",
       "    <tr>\n",
       "      <th>1</th>\n",
       "      <td>DecisionTreeRegressor(OE)</td>\n",
       "      <td>1837.99</td>\n",
       "      <td>90</td>\n",
       "      <td>1834.77</td>\n",
       "      <td>0.517</td>\n",
       "    </tr>\n",
       "    <tr>\n",
       "      <th>2</th>\n",
       "      <td>DecisionTreeRegressor(OHE)</td>\n",
       "      <td>1828.11</td>\n",
       "      <td>697</td>\n",
       "      <td>1818.41</td>\n",
       "      <td>4.590</td>\n",
       "    </tr>\n",
       "    <tr>\n",
       "      <th>3</th>\n",
       "      <td>LinearRegression</td>\n",
       "      <td>2436.08</td>\n",
       "      <td>63</td>\n",
       "      <td>2448.10</td>\n",
       "      <td>15.900</td>\n",
       "    </tr>\n",
       "  </tbody>\n",
       "</table>\n",
       "</div>"
      ],
      "text/plain": [
       "                        Model  Train RMSE  Train Time, sec  Test RMSE  \\\n",
       "0               LGBMRegressor     1525.92              559    1533.63   \n",
       "1   DecisionTreeRegressor(OE)     1837.99               90    1834.77   \n",
       "2  DecisionTreeRegressor(OHE)     1828.11              697    1818.41   \n",
       "3            LinearRegression     2436.08               63    2448.10   \n",
       "\n",
       "   Test Time, sec  \n",
       "0           6.180  \n",
       "1           0.517  \n",
       "2           4.590  \n",
       "3          15.900  "
      ]
     },
     "metadata": {},
     "output_type": "display_data"
    }
   ],
   "source": [
    "res = {\n",
    "    'Model' : ['LGBMRegressor', 'DecisionTreeRegressor(OE)','DecisionTreeRegressor(OHE)', 'LinearRegression'],\n",
    "    'Train RMSE' :pd.Series([1525.92, 1837.99, 1828.11, 2436.08]),\n",
    "    'Train Time, sec': pd.Series([559, 90, 697, 63]),\n",
    "    'Test RMSE' :pd.Series([1533.63, 1834.77, 1818.41, 2448.10]),\n",
    "    'Test Time, sec': pd.Series([6.18, 0.517, 4.59, 15.9])\n",
    "    }\n",
    "display(pd.DataFrame(res))"
   ]
  },
  {
   "cell_type": "markdown",
   "metadata": {},
   "source": [
    "### Итоговые выводы\n",
    "\n",
    "1) На начальном этапе были получены данные и проведена их предобработка, результатом которой стала рафинация достоверных показателей и оптимизация их размера.<br>\n",
    "\n",
    "2) Проведено изучение моделей Линейной регрессии (LinearRegression), Решающего дерева (DecisionTreeRegressor) и Градиентного бустинга (LGBMRegressor) с различным набором гиперпараметров.<br>\n",
    "\n",
    "3) Лидером по **КАЧЕСТВУ** безусловно стал **Градиентный бусстинг** с показателем **RMSE около 1530**. НО время его работы может оказаться неприемлемой роскощью для оперативного анализа.<br>\n",
    "\n",
    "4) Среди лидеров по **СКОРОСТИ РАБОТЫ** можно выделить **Линейную регрессию и Решающее дерево** (с гиперпараметрами, полученными через прямое кодирование). Скорость их обработки в десятки раз превосходит остальные рассматриваемые модели. <br>\n",
    "\n",
    "5) Если предположить, что рассматриваемые показатели равноценны по весу **в рейтинге, ЛИДЕРОМ** по совокупным показателям стоит выделить **Решающее дерево с прямым кодированием признаков**, как приемлемое по качеству предсказания, но значительно выигрывающее по скорости работы.<br>"
   ]
  }
 ],
 "metadata": {
  "ExecuteTimeLog": [
   {
    "duration": 369,
    "start_time": "2022-04-19T16:26:58.462Z"
   },
   {
    "duration": 1749,
    "start_time": "2022-04-19T16:26:58.888Z"
   },
   {
    "duration": 1433,
    "start_time": "2022-04-19T16:27:00.639Z"
   },
   {
    "duration": 1344,
    "start_time": "2022-04-19T16:45:44.674Z"
   },
   {
    "duration": 1430,
    "start_time": "2022-04-19T16:46:19.032Z"
   },
   {
    "duration": 146,
    "start_time": "2022-04-19T16:50:33.496Z"
   },
   {
    "duration": 200,
    "start_time": "2022-04-19T16:51:05.784Z"
   },
   {
    "duration": 1378,
    "start_time": "2022-04-19T16:51:12.359Z"
   },
   {
    "duration": 424,
    "start_time": "2022-04-19T16:51:32.998Z"
   },
   {
    "duration": 767,
    "start_time": "2022-04-19T16:51:33.425Z"
   },
   {
    "duration": 167,
    "start_time": "2022-04-19T16:51:34.194Z"
   },
   {
    "duration": 1328,
    "start_time": "2022-04-19T16:51:34.363Z"
   },
   {
    "duration": 3,
    "start_time": "2022-04-19T17:57:38.561Z"
   },
   {
    "duration": 9,
    "start_time": "2022-04-19T17:57:55.557Z"
   },
   {
    "duration": 66,
    "start_time": "2022-04-19T18:00:10.119Z"
   },
   {
    "duration": 68,
    "start_time": "2022-04-19T18:00:15.529Z"
   },
   {
    "duration": 119,
    "start_time": "2022-04-19T18:13:01.869Z"
   },
   {
    "duration": 592,
    "start_time": "2022-04-19T18:25:09.620Z"
   },
   {
    "duration": 743,
    "start_time": "2022-04-19T18:25:25.904Z"
   },
   {
    "duration": 264,
    "start_time": "2022-04-19T18:26:22.260Z"
   },
   {
    "duration": 13,
    "start_time": "2022-04-19T18:26:43.721Z"
   },
   {
    "duration": 14,
    "start_time": "2022-04-19T18:32:59.228Z"
   },
   {
    "duration": 420,
    "start_time": "2022-04-19T18:33:13.408Z"
   },
   {
    "duration": 793,
    "start_time": "2022-04-19T18:33:13.830Z"
   },
   {
    "duration": 184,
    "start_time": "2022-04-19T18:33:14.625Z"
   },
   {
    "duration": 1451,
    "start_time": "2022-04-19T18:33:14.821Z"
   },
   {
    "duration": 138,
    "start_time": "2022-04-19T18:33:16.274Z"
   },
   {
    "duration": 590,
    "start_time": "2022-04-19T18:33:16.414Z"
   },
   {
    "duration": 29,
    "start_time": "2022-04-19T18:33:17.006Z"
   },
   {
    "duration": 123,
    "start_time": "2022-04-19T18:33:17.037Z"
   },
   {
    "duration": 12,
    "start_time": "2022-04-19T18:36:24.741Z"
   },
   {
    "duration": 14,
    "start_time": "2022-04-19T18:36:47.048Z"
   },
   {
    "duration": 13,
    "start_time": "2022-04-19T18:36:52.938Z"
   },
   {
    "duration": 35,
    "start_time": "2022-04-19T18:41:18.431Z"
   },
   {
    "duration": 103,
    "start_time": "2022-04-19T18:42:46.234Z"
   },
   {
    "duration": 9,
    "start_time": "2022-04-19T18:43:10.906Z"
   },
   {
    "duration": 418,
    "start_time": "2022-04-19T18:44:24.708Z"
   },
   {
    "duration": 801,
    "start_time": "2022-04-19T18:44:25.128Z"
   },
   {
    "duration": 169,
    "start_time": "2022-04-19T18:44:25.931Z"
   },
   {
    "duration": 1339,
    "start_time": "2022-04-19T18:44:26.101Z"
   },
   {
    "duration": 122,
    "start_time": "2022-04-19T18:44:27.441Z"
   },
   {
    "duration": 546,
    "start_time": "2022-04-19T18:44:27.565Z"
   },
   {
    "duration": 126,
    "start_time": "2022-04-19T18:44:28.112Z"
   },
   {
    "duration": 8,
    "start_time": "2022-04-19T18:44:28.240Z"
   },
   {
    "duration": 23,
    "start_time": "2022-04-19T18:45:03.247Z"
   },
   {
    "duration": 8,
    "start_time": "2022-04-19T18:45:06.297Z"
   },
   {
    "duration": 8,
    "start_time": "2022-04-19T18:45:47.624Z"
   },
   {
    "duration": 200,
    "start_time": "2022-04-19T19:41:32.529Z"
   },
   {
    "duration": 76,
    "start_time": "2022-04-19T19:42:27.080Z"
   },
   {
    "duration": 75,
    "start_time": "2022-04-19T19:43:14.468Z"
   },
   {
    "duration": 166,
    "start_time": "2022-04-19T19:43:39.724Z"
   },
   {
    "duration": 74,
    "start_time": "2022-04-19T19:43:47.077Z"
   },
   {
    "duration": 76,
    "start_time": "2022-04-19T19:45:00.779Z"
   },
   {
    "duration": 418,
    "start_time": "2022-04-19T19:45:11.913Z"
   },
   {
    "duration": 793,
    "start_time": "2022-04-19T19:45:12.334Z"
   },
   {
    "duration": 173,
    "start_time": "2022-04-19T19:45:13.128Z"
   },
   {
    "duration": 1343,
    "start_time": "2022-04-19T19:45:13.302Z"
   },
   {
    "duration": 128,
    "start_time": "2022-04-19T19:45:14.648Z"
   },
   {
    "duration": 92,
    "start_time": "2022-04-19T19:45:14.778Z"
   },
   {
    "duration": 564,
    "start_time": "2022-04-19T19:45:14.873Z"
   },
   {
    "duration": 40,
    "start_time": "2022-04-19T19:45:15.439Z"
   },
   {
    "duration": 369,
    "start_time": "2022-04-20T05:20:09.931Z"
   },
   {
    "duration": 785,
    "start_time": "2022-04-20T05:20:10.302Z"
   },
   {
    "duration": 161,
    "start_time": "2022-04-20T05:20:11.088Z"
   },
   {
    "duration": 1273,
    "start_time": "2022-04-20T05:20:11.250Z"
   },
   {
    "duration": 134,
    "start_time": "2022-04-20T05:20:12.525Z"
   },
   {
    "duration": 88,
    "start_time": "2022-04-20T05:20:12.660Z"
   },
   {
    "duration": 684,
    "start_time": "2022-04-20T05:20:12.749Z"
   },
   {
    "duration": 36,
    "start_time": "2022-04-20T05:20:13.435Z"
   },
   {
    "duration": 7810,
    "start_time": "2022-04-20T05:20:13.473Z"
   },
   {
    "duration": 2951,
    "start_time": "2022-04-20T05:20:34.813Z"
   },
   {
    "duration": 262,
    "start_time": "2022-04-20T05:21:10.963Z"
   },
   {
    "duration": 12,
    "start_time": "2022-04-20T05:33:02.828Z"
   },
   {
    "duration": 247,
    "start_time": "2022-04-20T05:33:08.241Z"
   },
   {
    "duration": 191,
    "start_time": "2022-04-20T05:41:48.763Z"
   },
   {
    "duration": 231,
    "start_time": "2022-04-20T05:42:17.496Z"
   },
   {
    "duration": 259,
    "start_time": "2022-04-20T05:42:36.257Z"
   },
   {
    "duration": 2524,
    "start_time": "2022-04-20T05:43:04.786Z"
   },
   {
    "duration": 361,
    "start_time": "2022-04-20T05:44:35.629Z"
   },
   {
    "duration": 740,
    "start_time": "2022-04-20T05:44:35.992Z"
   },
   {
    "duration": 159,
    "start_time": "2022-04-20T05:44:36.734Z"
   },
   {
    "duration": 1249,
    "start_time": "2022-04-20T05:44:36.899Z"
   },
   {
    "duration": 121,
    "start_time": "2022-04-20T05:44:38.149Z"
   },
   {
    "duration": 79,
    "start_time": "2022-04-20T05:44:38.272Z"
   },
   {
    "duration": 513,
    "start_time": "2022-04-20T05:44:38.352Z"
   },
   {
    "duration": 46,
    "start_time": "2022-04-20T05:44:38.866Z"
   },
   {
    "duration": 228,
    "start_time": "2022-04-20T05:44:38.914Z"
   },
   {
    "duration": 164,
    "start_time": "2022-04-20T05:44:39.144Z"
   },
   {
    "duration": 307,
    "start_time": "2022-04-20T05:44:39.310Z"
   },
   {
    "duration": 250,
    "start_time": "2022-04-20T05:44:39.619Z"
   },
   {
    "duration": 158,
    "start_time": "2022-04-20T05:46:03.022Z"
   },
   {
    "duration": 243,
    "start_time": "2022-04-20T05:46:18.322Z"
   },
   {
    "duration": 227,
    "start_time": "2022-04-20T05:46:27.448Z"
   },
   {
    "duration": 155,
    "start_time": "2022-04-20T05:46:32.190Z"
   },
   {
    "duration": 30,
    "start_time": "2022-04-20T05:50:49.970Z"
   },
   {
    "duration": 671,
    "start_time": "2022-04-20T05:52:01.920Z"
   },
   {
    "duration": 1143,
    "start_time": "2022-04-20T05:57:10.701Z"
   },
   {
    "duration": 224,
    "start_time": "2022-04-20T05:57:46.045Z"
   },
   {
    "duration": 233,
    "start_time": "2022-04-20T05:58:05.378Z"
   },
   {
    "duration": 222,
    "start_time": "2022-04-20T05:58:13.638Z"
   },
   {
    "duration": 228,
    "start_time": "2022-04-20T05:58:32.846Z"
   },
   {
    "duration": 201,
    "start_time": "2022-04-20T05:58:50.932Z"
   },
   {
    "duration": 213,
    "start_time": "2022-04-20T05:59:05.692Z"
   },
   {
    "duration": 428,
    "start_time": "2022-04-20T06:00:48.465Z"
   },
   {
    "duration": 879,
    "start_time": "2022-04-20T06:00:48.896Z"
   },
   {
    "duration": 167,
    "start_time": "2022-04-20T06:00:49.777Z"
   },
   {
    "duration": 1357,
    "start_time": "2022-04-20T06:00:49.946Z"
   },
   {
    "duration": 127,
    "start_time": "2022-04-20T06:00:51.304Z"
   },
   {
    "duration": 90,
    "start_time": "2022-04-20T06:00:51.433Z"
   },
   {
    "duration": 541,
    "start_time": "2022-04-20T06:00:51.525Z"
   },
   {
    "duration": 44,
    "start_time": "2022-04-20T06:00:52.068Z"
   },
   {
    "duration": 211,
    "start_time": "2022-04-20T06:00:52.114Z"
   },
   {
    "duration": 166,
    "start_time": "2022-04-20T06:00:52.328Z"
   },
   {
    "duration": 28,
    "start_time": "2022-04-20T06:00:52.496Z"
   },
   {
    "duration": 365,
    "start_time": "2022-04-20T06:00:52.526Z"
   },
   {
    "duration": 245,
    "start_time": "2022-04-20T06:00:52.894Z"
   },
   {
    "duration": 408,
    "start_time": "2022-04-20T06:24:38.662Z"
   },
   {
    "duration": 738,
    "start_time": "2022-04-20T06:24:39.072Z"
   },
   {
    "duration": 144,
    "start_time": "2022-04-20T06:24:39.811Z"
   },
   {
    "duration": 1304,
    "start_time": "2022-04-20T06:24:39.957Z"
   },
   {
    "duration": 118,
    "start_time": "2022-04-20T06:24:41.263Z"
   },
   {
    "duration": 79,
    "start_time": "2022-04-20T06:24:41.382Z"
   },
   {
    "duration": 507,
    "start_time": "2022-04-20T06:24:41.463Z"
   },
   {
    "duration": 46,
    "start_time": "2022-04-20T06:24:41.972Z"
   },
   {
    "duration": 206,
    "start_time": "2022-04-20T06:24:42.019Z"
   },
   {
    "duration": 159,
    "start_time": "2022-04-20T06:24:42.227Z"
   },
   {
    "duration": 32,
    "start_time": "2022-04-20T06:24:42.387Z"
   },
   {
    "duration": 238,
    "start_time": "2022-04-20T06:24:42.420Z"
   },
   {
    "duration": 243,
    "start_time": "2022-04-20T06:24:42.660Z"
   },
   {
    "duration": 71,
    "start_time": "2022-04-20T06:24:42.905Z"
   },
   {
    "duration": 289,
    "start_time": "2022-04-20T06:31:52.180Z"
   },
   {
    "duration": 237,
    "start_time": "2022-04-20T06:32:13.237Z"
   },
   {
    "duration": 231,
    "start_time": "2022-04-20T06:49:06.341Z"
   },
   {
    "duration": 189,
    "start_time": "2022-04-20T06:51:57.350Z"
   },
   {
    "duration": 167,
    "start_time": "2022-04-20T06:52:04.595Z"
   },
   {
    "duration": 187,
    "start_time": "2022-04-20T06:52:14.758Z"
   },
   {
    "duration": 16,
    "start_time": "2022-04-20T06:53:48.098Z"
   },
   {
    "duration": 211,
    "start_time": "2022-04-20T06:54:06.063Z"
   },
   {
    "duration": 141,
    "start_time": "2022-04-20T07:39:14.213Z"
   },
   {
    "duration": 141,
    "start_time": "2022-04-20T07:44:28.872Z"
   },
   {
    "duration": 172,
    "start_time": "2022-04-20T07:44:39.540Z"
   },
   {
    "duration": 175,
    "start_time": "2022-04-20T07:44:57.860Z"
   },
   {
    "duration": 51,
    "start_time": "2022-04-20T07:45:05.289Z"
   },
   {
    "duration": 4,
    "start_time": "2022-04-20T08:04:08.996Z"
   },
   {
    "duration": 85,
    "start_time": "2022-04-20T08:04:15.347Z"
   },
   {
    "duration": 3,
    "start_time": "2022-04-20T08:04:27.249Z"
   },
   {
    "duration": 122,
    "start_time": "2022-04-20T08:04:34.206Z"
   },
   {
    "duration": 4,
    "start_time": "2022-04-20T08:04:38.622Z"
   },
   {
    "duration": 122,
    "start_time": "2022-04-20T08:04:39.659Z"
   },
   {
    "duration": 481,
    "start_time": "2022-04-20T08:04:47.244Z"
   },
   {
    "duration": 4,
    "start_time": "2022-04-20T08:04:54.651Z"
   },
   {
    "duration": 169,
    "start_time": "2022-04-20T08:04:54.791Z"
   },
   {
    "duration": 144,
    "start_time": "2022-04-20T08:05:19.709Z"
   },
   {
    "duration": 159,
    "start_time": "2022-04-20T08:05:48.731Z"
   },
   {
    "duration": 167,
    "start_time": "2022-04-20T08:06:01.396Z"
   },
   {
    "duration": 117,
    "start_time": "2022-04-20T08:06:04.533Z"
   },
   {
    "duration": 14,
    "start_time": "2022-04-20T08:06:25.292Z"
   },
   {
    "duration": 209,
    "start_time": "2022-04-20T08:06:37.998Z"
   },
   {
    "duration": 153,
    "start_time": "2022-04-20T08:06:45.819Z"
   },
   {
    "duration": 33,
    "start_time": "2022-04-20T08:10:14.365Z"
   },
   {
    "duration": 213,
    "start_time": "2022-04-20T08:10:56.787Z"
   },
   {
    "duration": 4,
    "start_time": "2022-04-20T08:12:31.809Z"
   },
   {
    "duration": 361,
    "start_time": "2022-04-20T08:15:55.629Z"
   },
   {
    "duration": 895,
    "start_time": "2022-04-20T08:15:55.992Z"
   },
   {
    "duration": 288,
    "start_time": "2022-04-20T08:15:56.889Z"
   },
   {
    "duration": 1337,
    "start_time": "2022-04-20T08:15:57.180Z"
   },
   {
    "duration": 475,
    "start_time": "2022-04-20T08:15:58.519Z"
   },
   {
    "duration": 125,
    "start_time": "2022-04-20T08:15:58.996Z"
   },
   {
    "duration": 89,
    "start_time": "2022-04-20T08:15:59.122Z"
   },
   {
    "duration": 608,
    "start_time": "2022-04-20T08:15:59.213Z"
   },
   {
    "duration": 24,
    "start_time": "2022-04-20T08:15:59.824Z"
   },
   {
    "duration": 219,
    "start_time": "2022-04-20T08:15:59.850Z"
   },
   {
    "duration": 168,
    "start_time": "2022-04-20T08:16:00.071Z"
   },
   {
    "duration": 26,
    "start_time": "2022-04-20T08:16:00.242Z"
   },
   {
    "duration": 311,
    "start_time": "2022-04-20T08:16:00.270Z"
   },
   {
    "duration": 205,
    "start_time": "2022-04-20T08:16:00.583Z"
   },
   {
    "duration": 25,
    "start_time": "2022-04-20T08:16:00.790Z"
   },
   {
    "duration": 155,
    "start_time": "2022-04-20T08:16:00.817Z"
   },
   {
    "duration": 4,
    "start_time": "2022-04-20T08:16:00.973Z"
   },
   {
    "duration": 60,
    "start_time": "2022-04-20T08:45:22.970Z"
   },
   {
    "duration": 884,
    "start_time": "2022-04-20T16:25:21.663Z"
   },
   {
    "duration": 0,
    "start_time": "2022-04-20T16:25:22.552Z"
   },
   {
    "duration": 0,
    "start_time": "2022-04-20T16:25:22.554Z"
   },
   {
    "duration": 0,
    "start_time": "2022-04-20T16:25:22.555Z"
   },
   {
    "duration": 1,
    "start_time": "2022-04-20T16:25:22.557Z"
   },
   {
    "duration": 0,
    "start_time": "2022-04-20T16:25:22.559Z"
   },
   {
    "duration": 0,
    "start_time": "2022-04-20T16:25:22.560Z"
   },
   {
    "duration": 0,
    "start_time": "2022-04-20T16:25:22.562Z"
   },
   {
    "duration": 0,
    "start_time": "2022-04-20T16:25:22.563Z"
   },
   {
    "duration": 0,
    "start_time": "2022-04-20T16:25:22.565Z"
   },
   {
    "duration": 0,
    "start_time": "2022-04-20T16:25:22.566Z"
   },
   {
    "duration": 0,
    "start_time": "2022-04-20T16:25:22.569Z"
   },
   {
    "duration": 0,
    "start_time": "2022-04-20T16:25:22.571Z"
   },
   {
    "duration": 0,
    "start_time": "2022-04-20T16:25:22.573Z"
   },
   {
    "duration": 0,
    "start_time": "2022-04-20T16:25:22.574Z"
   },
   {
    "duration": 0,
    "start_time": "2022-04-20T16:25:22.577Z"
   },
   {
    "duration": 0,
    "start_time": "2022-04-20T16:25:22.579Z"
   },
   {
    "duration": 0,
    "start_time": "2022-04-20T16:25:22.581Z"
   },
   {
    "duration": 5,
    "start_time": "2022-04-20T16:26:01.958Z"
   },
   {
    "duration": 477,
    "start_time": "2022-04-20T16:26:08.781Z"
   },
   {
    "duration": 1171,
    "start_time": "2022-04-20T16:26:09.261Z"
   },
   {
    "duration": 253,
    "start_time": "2022-04-20T16:26:10.434Z"
   },
   {
    "duration": 2200,
    "start_time": "2022-04-20T16:26:10.689Z"
   },
   {
    "duration": 838,
    "start_time": "2022-04-20T16:26:12.892Z"
   },
   {
    "duration": 211,
    "start_time": "2022-04-20T16:26:13.733Z"
   },
   {
    "duration": 152,
    "start_time": "2022-04-20T16:26:13.954Z"
   },
   {
    "duration": 1532,
    "start_time": "2022-04-20T16:26:14.108Z"
   },
   {
    "duration": 70,
    "start_time": "2022-04-20T16:26:15.643Z"
   },
   {
    "duration": 510,
    "start_time": "2022-04-20T16:26:15.715Z"
   },
   {
    "duration": 429,
    "start_time": "2022-04-20T16:26:16.228Z"
   },
   {
    "duration": 52,
    "start_time": "2022-04-20T16:26:16.660Z"
   },
   {
    "duration": 694,
    "start_time": "2022-04-20T16:26:16.714Z"
   },
   {
    "duration": 513,
    "start_time": "2022-04-20T16:26:17.413Z"
   },
   {
    "duration": 45,
    "start_time": "2022-04-20T16:26:17.929Z"
   },
   {
    "duration": 367,
    "start_time": "2022-04-20T16:26:17.978Z"
   },
   {
    "duration": 137,
    "start_time": "2022-04-20T16:26:18.348Z"
   },
   {
    "duration": 153,
    "start_time": "2022-04-20T16:26:18.488Z"
   },
   {
    "duration": 1197,
    "start_time": "2022-04-20T16:27:01.223Z"
   },
   {
    "duration": 4,
    "start_time": "2022-04-20T16:27:08.633Z"
   },
   {
    "duration": 1529,
    "start_time": "2022-04-20T16:27:16.534Z"
   },
   {
    "duration": 1237,
    "start_time": "2022-04-20T16:27:18.067Z"
   },
   {
    "duration": 276,
    "start_time": "2022-04-20T16:27:19.308Z"
   },
   {
    "duration": 3279,
    "start_time": "2022-04-20T16:27:19.587Z"
   },
   {
    "duration": 1183,
    "start_time": "2022-04-20T16:27:22.869Z"
   },
   {
    "duration": 312,
    "start_time": "2022-04-20T16:27:24.055Z"
   },
   {
    "duration": 117,
    "start_time": "2022-04-20T16:27:24.369Z"
   },
   {
    "duration": 1077,
    "start_time": "2022-04-20T16:27:24.488Z"
   },
   {
    "duration": 50,
    "start_time": "2022-04-20T16:27:25.568Z"
   },
   {
    "duration": 631,
    "start_time": "2022-04-20T16:27:25.622Z"
   },
   {
    "duration": 590,
    "start_time": "2022-04-20T16:27:26.256Z"
   },
   {
    "duration": 47,
    "start_time": "2022-04-20T16:27:26.848Z"
   },
   {
    "duration": 589,
    "start_time": "2022-04-20T16:27:26.898Z"
   },
   {
    "duration": 434,
    "start_time": "2022-04-20T16:27:27.490Z"
   },
   {
    "duration": 48,
    "start_time": "2022-04-20T16:27:27.927Z"
   },
   {
    "duration": 282,
    "start_time": "2022-04-20T16:27:27.978Z"
   },
   {
    "duration": 130,
    "start_time": "2022-04-20T16:27:28.263Z"
   },
   {
    "duration": 1300,
    "start_time": "2022-04-20T16:27:28.396Z"
   },
   {
    "duration": 1526,
    "start_time": "2022-04-20T16:34:13.497Z"
   },
   {
    "duration": 1667,
    "start_time": "2022-04-20T16:34:15.027Z"
   },
   {
    "duration": 414,
    "start_time": "2022-04-20T16:34:16.697Z"
   },
   {
    "duration": 2188,
    "start_time": "2022-04-20T16:34:17.114Z"
   },
   {
    "duration": 835,
    "start_time": "2022-04-20T16:34:19.304Z"
   },
   {
    "duration": 203,
    "start_time": "2022-04-20T16:34:20.141Z"
   },
   {
    "duration": 127,
    "start_time": "2022-04-20T16:34:20.347Z"
   },
   {
    "duration": 962,
    "start_time": "2022-04-20T16:34:20.476Z"
   },
   {
    "duration": 55,
    "start_time": "2022-04-20T16:34:21.440Z"
   },
   {
    "duration": 494,
    "start_time": "2022-04-20T16:34:21.499Z"
   },
   {
    "duration": 340,
    "start_time": "2022-04-20T16:34:21.996Z"
   },
   {
    "duration": 60,
    "start_time": "2022-04-20T16:34:22.339Z"
   },
   {
    "duration": 544,
    "start_time": "2022-04-20T16:34:22.401Z"
   },
   {
    "duration": 399,
    "start_time": "2022-04-20T16:34:22.952Z"
   },
   {
    "duration": 25,
    "start_time": "2022-04-20T16:34:23.354Z"
   },
   {
    "duration": 399,
    "start_time": "2022-04-20T16:34:23.381Z"
   },
   {
    "duration": 90,
    "start_time": "2022-04-20T16:34:23.783Z"
   },
   {
    "duration": 1428,
    "start_time": "2022-04-20T16:34:23.876Z"
   },
   {
    "duration": 178,
    "start_time": "2022-04-20T16:34:25.306Z"
   },
   {
    "duration": 26,
    "start_time": "2022-04-20T16:34:57.669Z"
   },
   {
    "duration": 1570,
    "start_time": "2022-04-20T16:35:03.954Z"
   },
   {
    "duration": 1128,
    "start_time": "2022-04-20T16:35:05.527Z"
   },
   {
    "duration": 231,
    "start_time": "2022-04-20T16:35:06.657Z"
   },
   {
    "duration": 2046,
    "start_time": "2022-04-20T16:35:06.891Z"
   },
   {
    "duration": 928,
    "start_time": "2022-04-20T16:35:08.939Z"
   },
   {
    "duration": 227,
    "start_time": "2022-04-20T16:35:09.869Z"
   },
   {
    "duration": 139,
    "start_time": "2022-04-20T16:35:10.099Z"
   },
   {
    "duration": 910,
    "start_time": "2022-04-20T16:35:10.241Z"
   },
   {
    "duration": 51,
    "start_time": "2022-04-20T16:35:11.153Z"
   },
   {
    "duration": 471,
    "start_time": "2022-04-20T16:35:11.208Z"
   },
   {
    "duration": 351,
    "start_time": "2022-04-20T16:35:11.681Z"
   },
   {
    "duration": 61,
    "start_time": "2022-04-20T16:35:12.034Z"
   },
   {
    "duration": 548,
    "start_time": "2022-04-20T16:35:12.098Z"
   },
   {
    "duration": 367,
    "start_time": "2022-04-20T16:35:12.651Z"
   },
   {
    "duration": 33,
    "start_time": "2022-04-20T16:35:13.020Z"
   },
   {
    "duration": 282,
    "start_time": "2022-04-20T16:35:13.055Z"
   },
   {
    "duration": 151,
    "start_time": "2022-04-20T16:35:13.339Z"
   },
   {
    "duration": 1329,
    "start_time": "2022-04-20T16:35:13.493Z"
   },
   {
    "duration": 589,
    "start_time": "2022-04-20T16:35:14.824Z"
   },
   {
    "duration": 1961,
    "start_time": "2022-04-20T16:35:52.558Z"
   },
   {
    "duration": 772,
    "start_time": "2022-04-20T16:35:54.523Z"
   },
   {
    "duration": 577,
    "start_time": "2022-04-20T16:36:02.771Z"
   },
   {
    "duration": 1583,
    "start_time": "2022-04-20T16:36:09.774Z"
   },
   {
    "duration": 1181,
    "start_time": "2022-04-20T16:36:11.360Z"
   },
   {
    "duration": 252,
    "start_time": "2022-04-20T16:36:12.544Z"
   },
   {
    "duration": 2006,
    "start_time": "2022-04-20T16:36:12.799Z"
   },
   {
    "duration": 804,
    "start_time": "2022-04-20T16:36:14.808Z"
   },
   {
    "duration": 179,
    "start_time": "2022-04-20T16:36:15.615Z"
   },
   {
    "duration": 123,
    "start_time": "2022-04-20T16:36:15.797Z"
   },
   {
    "duration": 1123,
    "start_time": "2022-04-20T16:36:15.922Z"
   },
   {
    "duration": 47,
    "start_time": "2022-04-20T16:36:17.051Z"
   },
   {
    "duration": 458,
    "start_time": "2022-04-20T16:36:17.101Z"
   },
   {
    "duration": 347,
    "start_time": "2022-04-20T16:36:17.562Z"
   },
   {
    "duration": 56,
    "start_time": "2022-04-20T16:36:17.912Z"
   },
   {
    "duration": 512,
    "start_time": "2022-04-20T16:36:17.972Z"
   },
   {
    "duration": 388,
    "start_time": "2022-04-20T16:36:18.486Z"
   },
   {
    "duration": 23,
    "start_time": "2022-04-20T16:36:18.877Z"
   },
   {
    "duration": 251,
    "start_time": "2022-04-20T16:36:18.903Z"
   },
   {
    "duration": 96,
    "start_time": "2022-04-20T16:36:19.157Z"
   },
   {
    "duration": 1590,
    "start_time": "2022-04-20T16:36:19.255Z"
   },
   {
    "duration": 514,
    "start_time": "2022-04-20T16:36:20.847Z"
   },
   {
    "duration": 472,
    "start_time": "2022-04-20T16:38:47.182Z"
   },
   {
    "duration": 333,
    "start_time": "2022-04-20T16:38:49.036Z"
   },
   {
    "duration": 32,
    "start_time": "2022-04-20T16:39:33.330Z"
   },
   {
    "duration": 149,
    "start_time": "2022-04-20T16:39:38.724Z"
   },
   {
    "duration": 5,
    "start_time": "2022-04-20T16:40:23.385Z"
   },
   {
    "duration": 1655,
    "start_time": "2022-04-20T16:40:37.859Z"
   },
   {
    "duration": 1383,
    "start_time": "2022-04-20T16:40:39.519Z"
   },
   {
    "duration": 280,
    "start_time": "2022-04-20T16:40:40.905Z"
   },
   {
    "duration": 2031,
    "start_time": "2022-04-20T16:40:41.189Z"
   },
   {
    "duration": 786,
    "start_time": "2022-04-20T16:40:43.223Z"
   },
   {
    "duration": 186,
    "start_time": "2022-04-20T16:40:44.011Z"
   },
   {
    "duration": 114,
    "start_time": "2022-04-20T16:40:44.199Z"
   },
   {
    "duration": 898,
    "start_time": "2022-04-20T16:40:44.315Z"
   },
   {
    "duration": 76,
    "start_time": "2022-04-20T16:40:45.216Z"
   },
   {
    "duration": 642,
    "start_time": "2022-04-20T16:40:45.297Z"
   },
   {
    "duration": 331,
    "start_time": "2022-04-20T16:40:45.952Z"
   },
   {
    "duration": 50,
    "start_time": "2022-04-20T16:40:46.285Z"
   },
   {
    "duration": 494,
    "start_time": "2022-04-20T16:40:46.337Z"
   },
   {
    "duration": 479,
    "start_time": "2022-04-20T16:40:46.833Z"
   },
   {
    "duration": 38,
    "start_time": "2022-04-20T16:40:47.314Z"
   },
   {
    "duration": 237,
    "start_time": "2022-04-20T16:40:47.354Z"
   },
   {
    "duration": 97,
    "start_time": "2022-04-20T16:40:47.594Z"
   },
   {
    "duration": 1510,
    "start_time": "2022-04-20T16:40:47.695Z"
   },
   {
    "duration": 570,
    "start_time": "2022-04-20T16:40:49.208Z"
   },
   {
    "duration": 301,
    "start_time": "2022-04-20T16:40:49.782Z"
   },
   {
    "duration": 1603,
    "start_time": "2022-04-20T16:42:04.212Z"
   },
   {
    "duration": 1318,
    "start_time": "2022-04-20T16:42:05.818Z"
   },
   {
    "duration": 263,
    "start_time": "2022-04-20T16:42:07.138Z"
   },
   {
    "duration": 2228,
    "start_time": "2022-04-20T16:42:07.404Z"
   },
   {
    "duration": 863,
    "start_time": "2022-04-20T16:42:09.635Z"
   },
   {
    "duration": 232,
    "start_time": "2022-04-20T16:42:10.500Z"
   },
   {
    "duration": 140,
    "start_time": "2022-04-20T16:42:10.735Z"
   },
   {
    "duration": 915,
    "start_time": "2022-04-20T16:42:10.878Z"
   },
   {
    "duration": 65,
    "start_time": "2022-04-20T16:42:11.795Z"
   },
   {
    "duration": 406,
    "start_time": "2022-04-20T16:42:11.863Z"
   },
   {
    "duration": 321,
    "start_time": "2022-04-20T16:42:12.272Z"
   },
   {
    "duration": 58,
    "start_time": "2022-04-20T16:42:12.595Z"
   },
   {
    "duration": 476,
    "start_time": "2022-04-20T16:42:12.656Z"
   },
   {
    "duration": 501,
    "start_time": "2022-04-20T16:42:13.136Z"
   },
   {
    "duration": 38,
    "start_time": "2022-04-20T16:42:13.640Z"
   },
   {
    "duration": 225,
    "start_time": "2022-04-20T16:42:13.681Z"
   },
   {
    "duration": 89,
    "start_time": "2022-04-20T16:42:13.908Z"
   },
   {
    "duration": 1701,
    "start_time": "2022-04-20T16:42:13.999Z"
   },
   {
    "duration": 551,
    "start_time": "2022-04-20T16:42:15.703Z"
   },
   {
    "duration": 266704,
    "start_time": "2022-04-20T16:42:16.257Z"
   },
   {
    "duration": 1861,
    "start_time": "2022-04-20T16:55:04.888Z"
   },
   {
    "duration": 1407,
    "start_time": "2022-04-20T16:55:06.753Z"
   },
   {
    "duration": 415,
    "start_time": "2022-04-20T16:55:08.164Z"
   },
   {
    "duration": 2473,
    "start_time": "2022-04-20T16:55:08.585Z"
   },
   {
    "duration": 918,
    "start_time": "2022-04-20T16:55:11.061Z"
   },
   {
    "duration": 214,
    "start_time": "2022-04-20T16:55:11.982Z"
   },
   {
    "duration": 127,
    "start_time": "2022-04-20T16:55:12.199Z"
   },
   {
    "duration": 1562,
    "start_time": "2022-04-20T16:55:12.329Z"
   },
   {
    "duration": 76,
    "start_time": "2022-04-20T16:55:13.894Z"
   },
   {
    "duration": 642,
    "start_time": "2022-04-20T16:55:13.977Z"
   },
   {
    "duration": 386,
    "start_time": "2022-04-20T16:55:14.621Z"
   },
   {
    "duration": 74,
    "start_time": "2022-04-20T16:55:15.009Z"
   },
   {
    "duration": 546,
    "start_time": "2022-04-20T16:55:15.086Z"
   },
   {
    "duration": 486,
    "start_time": "2022-04-20T16:55:15.635Z"
   },
   {
    "duration": 34,
    "start_time": "2022-04-20T16:55:16.123Z"
   },
   {
    "duration": 250,
    "start_time": "2022-04-20T16:55:16.160Z"
   },
   {
    "duration": 96,
    "start_time": "2022-04-20T16:55:16.413Z"
   },
   {
    "duration": 1890,
    "start_time": "2022-04-20T16:55:16.513Z"
   },
   {
    "duration": 583,
    "start_time": "2022-04-20T16:55:18.406Z"
   },
   {
    "duration": 286670,
    "start_time": "2022-04-20T16:55:18.992Z"
   },
   {
    "duration": 307,
    "start_time": "2022-04-20T17:00:05.754Z"
   },
   {
    "duration": 978,
    "start_time": "2022-04-20T17:00:21.104Z"
   },
   {
    "duration": 1693,
    "start_time": "2022-04-20T17:00:29.646Z"
   },
   {
    "duration": 1194,
    "start_time": "2022-04-20T17:00:31.344Z"
   },
   {
    "duration": 241,
    "start_time": "2022-04-20T17:00:32.541Z"
   },
   {
    "duration": 3028,
    "start_time": "2022-04-20T17:00:32.785Z"
   },
   {
    "duration": 892,
    "start_time": "2022-04-20T17:00:35.816Z"
   },
   {
    "duration": 291,
    "start_time": "2022-04-20T17:00:36.711Z"
   },
   {
    "duration": 203,
    "start_time": "2022-04-20T17:00:37.005Z"
   },
   {
    "duration": 970,
    "start_time": "2022-04-20T17:00:37.211Z"
   },
   {
    "duration": 49,
    "start_time": "2022-04-20T17:00:38.184Z"
   },
   {
    "duration": 563,
    "start_time": "2022-04-20T17:00:38.235Z"
   },
   {
    "duration": 323,
    "start_time": "2022-04-20T17:00:38.800Z"
   },
   {
    "duration": 65,
    "start_time": "2022-04-20T17:00:39.126Z"
   },
   {
    "duration": 476,
    "start_time": "2022-04-20T17:00:39.193Z"
   },
   {
    "duration": 589,
    "start_time": "2022-04-20T17:00:39.675Z"
   },
   {
    "duration": 40,
    "start_time": "2022-04-20T17:00:40.266Z"
   },
   {
    "duration": 294,
    "start_time": "2022-04-20T17:00:40.309Z"
   },
   {
    "duration": 95,
    "start_time": "2022-04-20T17:00:40.605Z"
   },
   {
    "duration": 818,
    "start_time": "2022-04-20T17:00:40.702Z"
   },
   {
    "duration": 493,
    "start_time": "2022-04-20T17:00:41.523Z"
   },
   {
    "duration": 1888,
    "start_time": "2022-04-20T17:05:39.655Z"
   },
   {
    "duration": 1369,
    "start_time": "2022-04-20T17:05:41.547Z"
   },
   {
    "duration": 257,
    "start_time": "2022-04-20T17:05:42.918Z"
   },
   {
    "duration": 2665,
    "start_time": "2022-04-20T17:05:43.178Z"
   },
   {
    "duration": 1108,
    "start_time": "2022-04-20T17:05:45.855Z"
   },
   {
    "duration": 187,
    "start_time": "2022-04-20T17:05:46.966Z"
   },
   {
    "duration": 146,
    "start_time": "2022-04-20T17:05:47.156Z"
   },
   {
    "duration": 895,
    "start_time": "2022-04-20T17:05:47.305Z"
   },
   {
    "duration": 62,
    "start_time": "2022-04-20T17:05:48.203Z"
   },
   {
    "duration": 426,
    "start_time": "2022-04-20T17:05:48.269Z"
   },
   {
    "duration": 478,
    "start_time": "2022-04-20T17:05:48.698Z"
   },
   {
    "duration": 47,
    "start_time": "2022-04-20T17:05:49.179Z"
   },
   {
    "duration": 523,
    "start_time": "2022-04-20T17:05:49.229Z"
   },
   {
    "duration": 571,
    "start_time": "2022-04-20T17:05:49.756Z"
   },
   {
    "duration": 35,
    "start_time": "2022-04-20T17:05:50.330Z"
   },
   {
    "duration": 369,
    "start_time": "2022-04-20T17:05:50.368Z"
   },
   {
    "duration": 92,
    "start_time": "2022-04-20T17:05:50.746Z"
   },
   {
    "duration": 1056,
    "start_time": "2022-04-20T17:05:50.852Z"
   },
   {
    "duration": 541,
    "start_time": "2022-04-20T17:05:51.911Z"
   },
   {
    "duration": 277918,
    "start_time": "2022-04-20T17:05:52.454Z"
   },
   {
    "duration": 468,
    "start_time": "2022-04-20T17:10:30.375Z"
   },
   {
    "duration": 254655,
    "start_time": "2022-04-20T17:11:20.397Z"
   },
   {
    "duration": 79,
    "start_time": "2022-04-20T17:28:07.421Z"
   },
   {
    "duration": 149,
    "start_time": "2022-04-20T17:28:20.222Z"
   },
   {
    "duration": 301,
    "start_time": "2022-04-20T17:28:42.775Z"
   },
   {
    "duration": 159,
    "start_time": "2022-04-20T17:28:52.070Z"
   },
   {
    "duration": 53,
    "start_time": "2022-04-20T17:29:17.159Z"
   },
   {
    "duration": 1885,
    "start_time": "2022-04-20T17:29:26.680Z"
   },
   {
    "duration": 118,
    "start_time": "2022-04-20T17:51:16.711Z"
   },
   {
    "duration": 24,
    "start_time": "2022-04-20T17:51:28.934Z"
   },
   {
    "duration": 129,
    "start_time": "2022-04-20T17:57:26.004Z"
   },
   {
    "duration": 829465,
    "start_time": "2022-04-20T18:00:25.390Z"
   },
   {
    "duration": 120,
    "start_time": "2022-04-20T18:39:50.215Z"
   },
   {
    "duration": 135,
    "start_time": "2022-04-20T18:40:12.478Z"
   },
   {
    "duration": 1335,
    "start_time": "2022-04-20T18:42:24.543Z"
   },
   {
    "duration": 748,
    "start_time": "2022-04-20T18:42:26.349Z"
   },
   {
    "duration": 49,
    "start_time": "2022-04-21T14:25:59.408Z"
   },
   {
    "duration": 1173,
    "start_time": "2022-04-21T14:26:14.122Z"
   },
   {
    "duration": 915,
    "start_time": "2022-04-21T14:26:15.297Z"
   },
   {
    "duration": 169,
    "start_time": "2022-04-21T14:26:16.213Z"
   },
   {
    "duration": 1567,
    "start_time": "2022-04-21T14:26:16.384Z"
   },
   {
    "duration": 552,
    "start_time": "2022-04-21T14:26:17.954Z"
   },
   {
    "duration": 147,
    "start_time": "2022-04-21T14:26:18.508Z"
   },
   {
    "duration": 92,
    "start_time": "2022-04-21T14:26:18.657Z"
   },
   {
    "duration": 715,
    "start_time": "2022-04-21T14:26:18.751Z"
   },
   {
    "duration": 41,
    "start_time": "2022-04-21T14:26:19.468Z"
   },
   {
    "duration": 251,
    "start_time": "2022-04-21T14:26:19.511Z"
   },
   {
    "duration": 204,
    "start_time": "2022-04-21T14:26:19.764Z"
   },
   {
    "duration": 28,
    "start_time": "2022-04-21T14:26:19.974Z"
   },
   {
    "duration": 421,
    "start_time": "2022-04-21T14:26:20.004Z"
   },
   {
    "duration": 219,
    "start_time": "2022-04-21T14:26:20.428Z"
   },
   {
    "duration": 27,
    "start_time": "2022-04-21T14:26:20.649Z"
   },
   {
    "duration": 171,
    "start_time": "2022-04-21T14:26:20.677Z"
   },
   {
    "duration": 73,
    "start_time": "2022-04-21T14:26:20.850Z"
   },
   {
    "duration": 1038,
    "start_time": "2022-04-21T14:26:20.924Z"
   },
   {
    "duration": 438,
    "start_time": "2022-04-21T14:26:21.964Z"
   },
   {
    "duration": 19,
    "start_time": "2022-04-21T14:26:27.090Z"
   },
   {
    "duration": 19,
    "start_time": "2022-04-21T14:26:47.947Z"
   },
   {
    "duration": 14,
    "start_time": "2022-04-21T14:26:57.393Z"
   },
   {
    "duration": 12,
    "start_time": "2022-04-21T14:27:09.255Z"
   },
   {
    "duration": 49,
    "start_time": "2022-04-21T14:27:36.613Z"
   },
   {
    "duration": 74,
    "start_time": "2022-04-21T14:27:48.034Z"
   },
   {
    "duration": 27,
    "start_time": "2022-04-21T14:28:00.817Z"
   },
   {
    "duration": 5,
    "start_time": "2022-04-21T14:33:40.673Z"
   },
   {
    "duration": 3,
    "start_time": "2022-04-21T14:34:13.893Z"
   },
   {
    "duration": 86722,
    "start_time": "2022-04-21T14:36:00.454Z"
   },
   {
    "duration": 139,
    "start_time": "2022-04-21T14:37:27.179Z"
   },
   {
    "duration": 6,
    "start_time": "2022-04-21T14:45:11.840Z"
   },
   {
    "duration": 157856,
    "start_time": "2022-04-21T14:45:21.257Z"
   },
   {
    "duration": 79304,
    "start_time": "2022-04-21T14:55:17.470Z"
   },
   {
    "duration": 92,
    "start_time": "2022-04-21T15:41:41.282Z"
   },
   {
    "duration": 21,
    "start_time": "2022-04-21T15:42:26.418Z"
   },
   {
    "duration": 91752,
    "start_time": "2022-04-21T15:42:34.445Z"
   },
   {
    "duration": 106,
    "start_time": "2022-04-21T15:46:26.164Z"
   },
   {
    "duration": 92347,
    "start_time": "2022-04-21T15:46:59.727Z"
   },
   {
    "duration": 92995,
    "start_time": "2022-04-21T15:52:33.709Z"
   },
   {
    "duration": 1214,
    "start_time": "2022-04-21T15:59:42.584Z"
   },
   {
    "duration": 828,
    "start_time": "2022-04-21T15:59:43.800Z"
   },
   {
    "duration": 164,
    "start_time": "2022-04-21T15:59:44.629Z"
   },
   {
    "duration": 1492,
    "start_time": "2022-04-21T15:59:44.794Z"
   },
   {
    "duration": 504,
    "start_time": "2022-04-21T15:59:46.289Z"
   },
   {
    "duration": 133,
    "start_time": "2022-04-21T15:59:46.795Z"
   },
   {
    "duration": 88,
    "start_time": "2022-04-21T15:59:46.930Z"
   },
   {
    "duration": 479,
    "start_time": "2022-04-21T15:59:47.020Z"
   },
   {
    "duration": 27,
    "start_time": "2022-04-21T15:59:47.500Z"
   },
   {
    "duration": 233,
    "start_time": "2022-04-21T15:59:47.529Z"
   },
   {
    "duration": 177,
    "start_time": "2022-04-21T15:59:47.763Z"
   },
   {
    "duration": 35,
    "start_time": "2022-04-21T15:59:47.942Z"
   },
   {
    "duration": 355,
    "start_time": "2022-04-21T15:59:47.979Z"
   },
   {
    "duration": 214,
    "start_time": "2022-04-21T15:59:48.337Z"
   },
   {
    "duration": 26,
    "start_time": "2022-04-21T15:59:48.553Z"
   },
   {
    "duration": 168,
    "start_time": "2022-04-21T15:59:48.582Z"
   },
   {
    "duration": 73,
    "start_time": "2022-04-21T15:59:48.752Z"
   },
   {
    "duration": 936,
    "start_time": "2022-04-21T15:59:48.827Z"
   },
   {
    "duration": 396,
    "start_time": "2022-04-21T15:59:49.765Z"
   },
   {
    "duration": 76726,
    "start_time": "2022-04-21T16:00:02.249Z"
   },
   {
    "duration": 96603,
    "start_time": "2022-04-21T16:01:18.978Z"
   },
   {
    "duration": 98909,
    "start_time": "2022-04-21T16:02:55.676Z"
   },
   {
    "duration": 1228,
    "start_time": "2022-04-21T16:17:52.191Z"
   },
   {
    "duration": 837,
    "start_time": "2022-04-21T16:17:53.421Z"
   },
   {
    "duration": 179,
    "start_time": "2022-04-21T16:17:54.259Z"
   },
   {
    "duration": 1527,
    "start_time": "2022-04-21T16:17:54.441Z"
   },
   {
    "duration": 534,
    "start_time": "2022-04-21T16:17:55.974Z"
   },
   {
    "duration": 144,
    "start_time": "2022-04-21T16:17:56.509Z"
   },
   {
    "duration": 92,
    "start_time": "2022-04-21T16:17:56.655Z"
   },
   {
    "duration": 522,
    "start_time": "2022-04-21T16:17:56.749Z"
   },
   {
    "duration": 37,
    "start_time": "2022-04-21T16:17:57.272Z"
   },
   {
    "duration": 238,
    "start_time": "2022-04-21T16:17:57.311Z"
   },
   {
    "duration": 196,
    "start_time": "2022-04-21T16:17:57.551Z"
   },
   {
    "duration": 38,
    "start_time": "2022-04-21T16:17:57.749Z"
   },
   {
    "duration": 378,
    "start_time": "2022-04-21T16:17:57.789Z"
   },
   {
    "duration": 215,
    "start_time": "2022-04-21T16:17:58.180Z"
   },
   {
    "duration": 18,
    "start_time": "2022-04-21T16:17:58.397Z"
   },
   {
    "duration": 182,
    "start_time": "2022-04-21T16:17:58.416Z"
   },
   {
    "duration": 61,
    "start_time": "2022-04-21T16:17:58.599Z"
   },
   {
    "duration": 958,
    "start_time": "2022-04-21T16:17:58.662Z"
   },
   {
    "duration": 416,
    "start_time": "2022-04-21T16:17:59.622Z"
   },
   {
    "duration": 120287,
    "start_time": "2022-04-21T16:18:15.491Z"
   },
   {
    "duration": 122603,
    "start_time": "2022-04-21T16:20:15.781Z"
   },
   {
    "duration": 92598,
    "start_time": "2022-04-21T16:22:18.475Z"
   },
   {
    "duration": 742566,
    "start_time": "2022-04-21T16:23:51.075Z"
   },
   {
    "duration": 47,
    "start_time": "2022-04-21T16:57:24.858Z"
   },
   {
    "duration": 1298929,
    "start_time": "2022-04-21T16:57:42.696Z"
   },
   {
    "duration": 1239,
    "start_time": "2022-04-21T17:26:37.374Z"
   },
   {
    "duration": 828,
    "start_time": "2022-04-21T17:26:38.615Z"
   },
   {
    "duration": 173,
    "start_time": "2022-04-21T17:26:39.444Z"
   },
   {
    "duration": 1561,
    "start_time": "2022-04-21T17:26:39.620Z"
   },
   {
    "duration": 534,
    "start_time": "2022-04-21T17:26:41.183Z"
   },
   {
    "duration": 145,
    "start_time": "2022-04-21T17:26:41.719Z"
   },
   {
    "duration": 376,
    "start_time": "2022-04-21T17:26:41.865Z"
   },
   {
    "duration": 549,
    "start_time": "2022-04-21T17:26:42.243Z"
   },
   {
    "duration": 28,
    "start_time": "2022-04-21T17:26:42.793Z"
   },
   {
    "duration": 254,
    "start_time": "2022-04-21T17:26:42.824Z"
   },
   {
    "duration": 198,
    "start_time": "2022-04-21T17:26:43.080Z"
   },
   {
    "duration": 26,
    "start_time": "2022-04-21T17:26:43.280Z"
   },
   {
    "duration": 402,
    "start_time": "2022-04-21T17:26:43.308Z"
   },
   {
    "duration": 226,
    "start_time": "2022-04-21T17:26:43.711Z"
   },
   {
    "duration": 18,
    "start_time": "2022-04-21T17:26:43.939Z"
   },
   {
    "duration": 175,
    "start_time": "2022-04-21T17:26:43.958Z"
   },
   {
    "duration": 75,
    "start_time": "2022-04-21T17:26:44.134Z"
   },
   {
    "duration": 1020,
    "start_time": "2022-04-21T17:26:44.211Z"
   },
   {
    "duration": 420,
    "start_time": "2022-04-21T17:26:45.233Z"
   },
   {
    "duration": 333211,
    "start_time": "2022-04-21T17:26:45.655Z"
   },
   {
    "duration": 93,
    "start_time": "2022-04-21T17:32:18.868Z"
   },
   {
    "duration": 72513,
    "start_time": "2022-04-21T17:32:18.963Z"
   },
   {
    "duration": 17595,
    "start_time": "2022-04-21T17:33:31.479Z"
   },
   {
    "duration": 86804,
    "start_time": "2022-04-21T17:33:49.076Z"
   },
   {
    "duration": 91026,
    "start_time": "2022-04-21T17:35:15.882Z"
   },
   {
    "duration": 87,
    "start_time": "2022-04-21T17:36:46.909Z"
   },
   {
    "duration": 1285,
    "start_time": "2022-04-21T17:47:30.726Z"
   },
   {
    "duration": 838,
    "start_time": "2022-04-21T17:47:32.013Z"
   },
   {
    "duration": 158,
    "start_time": "2022-04-21T17:47:32.853Z"
   },
   {
    "duration": 1637,
    "start_time": "2022-04-21T17:47:33.013Z"
   },
   {
    "duration": 557,
    "start_time": "2022-04-21T17:47:34.653Z"
   },
   {
    "duration": 144,
    "start_time": "2022-04-21T17:47:35.212Z"
   },
   {
    "duration": 88,
    "start_time": "2022-04-21T17:47:35.358Z"
   },
   {
    "duration": 552,
    "start_time": "2022-04-21T17:47:35.447Z"
   },
   {
    "duration": 32,
    "start_time": "2022-04-21T17:47:36.001Z"
   },
   {
    "duration": 262,
    "start_time": "2022-04-21T17:47:36.036Z"
   },
   {
    "duration": 191,
    "start_time": "2022-04-21T17:47:36.300Z"
   },
   {
    "duration": 25,
    "start_time": "2022-04-21T17:47:36.493Z"
   },
   {
    "duration": 393,
    "start_time": "2022-04-21T17:47:36.520Z"
   },
   {
    "duration": 230,
    "start_time": "2022-04-21T17:47:36.915Z"
   },
   {
    "duration": 34,
    "start_time": "2022-04-21T17:47:37.147Z"
   },
   {
    "duration": 185,
    "start_time": "2022-04-21T17:47:37.184Z"
   },
   {
    "duration": 63,
    "start_time": "2022-04-21T17:47:37.373Z"
   },
   {
    "duration": 987,
    "start_time": "2022-04-21T17:47:37.437Z"
   },
   {
    "duration": 431,
    "start_time": "2022-04-21T17:47:38.425Z"
   },
   {
    "duration": 1335,
    "start_time": "2022-04-21T18:05:12.404Z"
   },
   {
    "duration": 880,
    "start_time": "2022-04-21T18:05:13.741Z"
   },
   {
    "duration": 189,
    "start_time": "2022-04-21T18:05:14.622Z"
   },
   {
    "duration": 1613,
    "start_time": "2022-04-21T18:05:14.813Z"
   },
   {
    "duration": 524,
    "start_time": "2022-04-21T18:05:16.428Z"
   },
   {
    "duration": 156,
    "start_time": "2022-04-21T18:05:16.954Z"
   },
   {
    "duration": 99,
    "start_time": "2022-04-21T18:05:17.113Z"
   },
   {
    "duration": 570,
    "start_time": "2022-04-21T18:05:17.214Z"
   },
   {
    "duration": 37,
    "start_time": "2022-04-21T18:05:17.786Z"
   },
   {
    "duration": 276,
    "start_time": "2022-04-21T18:05:17.827Z"
   },
   {
    "duration": 196,
    "start_time": "2022-04-21T18:05:18.104Z"
   },
   {
    "duration": 28,
    "start_time": "2022-04-21T18:05:18.303Z"
   },
   {
    "duration": 386,
    "start_time": "2022-04-21T18:05:18.333Z"
   },
   {
    "duration": 220,
    "start_time": "2022-04-21T18:05:18.721Z"
   },
   {
    "duration": 19,
    "start_time": "2022-04-21T18:05:18.943Z"
   },
   {
    "duration": 166,
    "start_time": "2022-04-21T18:05:18.974Z"
   },
   {
    "duration": 70,
    "start_time": "2022-04-21T18:05:19.142Z"
   },
   {
    "duration": 1012,
    "start_time": "2022-04-21T18:05:19.213Z"
   },
   {
    "duration": 400,
    "start_time": "2022-04-21T18:05:20.227Z"
   },
   {
    "duration": 262357,
    "start_time": "2022-04-21T18:05:20.629Z"
   },
   {
    "duration": 68997,
    "start_time": "2022-04-21T18:09:42.988Z"
   },
   {
    "duration": 83594,
    "start_time": "2022-04-21T18:10:51.987Z"
   },
   {
    "duration": 27194,
    "start_time": "2022-04-21T18:12:15.584Z"
   },
   {
    "duration": 84496,
    "start_time": "2022-04-21T18:12:42.779Z"
   },
   {
    "duration": 94675,
    "start_time": "2022-04-21T18:14:07.279Z"
   },
   {
    "duration": 570,
    "start_time": "2022-04-21T18:15:41.956Z"
   },
   {
    "duration": 1259,
    "start_time": "2022-04-21T18:19:49.155Z"
   },
   {
    "duration": 811,
    "start_time": "2022-04-21T18:19:50.416Z"
   },
   {
    "duration": 164,
    "start_time": "2022-04-21T18:19:51.229Z"
   },
   {
    "duration": 1487,
    "start_time": "2022-04-21T18:19:51.394Z"
   },
   {
    "duration": 510,
    "start_time": "2022-04-21T18:19:52.883Z"
   },
   {
    "duration": 138,
    "start_time": "2022-04-21T18:19:53.395Z"
   },
   {
    "duration": 84,
    "start_time": "2022-04-21T18:19:53.535Z"
   },
   {
    "duration": 508,
    "start_time": "2022-04-21T18:19:53.621Z"
   },
   {
    "duration": 28,
    "start_time": "2022-04-21T18:19:54.131Z"
   },
   {
    "duration": 237,
    "start_time": "2022-04-21T18:19:54.161Z"
   },
   {
    "duration": 191,
    "start_time": "2022-04-21T18:19:54.399Z"
   },
   {
    "duration": 26,
    "start_time": "2022-04-21T18:19:54.592Z"
   },
   {
    "duration": 383,
    "start_time": "2022-04-21T18:19:54.620Z"
   },
   {
    "duration": 215,
    "start_time": "2022-04-21T18:19:55.006Z"
   },
   {
    "duration": 18,
    "start_time": "2022-04-21T18:19:55.223Z"
   },
   {
    "duration": 170,
    "start_time": "2022-04-21T18:19:55.243Z"
   },
   {
    "duration": 69,
    "start_time": "2022-04-21T18:19:55.415Z"
   },
   {
    "duration": 953,
    "start_time": "2022-04-21T18:19:55.486Z"
   },
   {
    "duration": 399,
    "start_time": "2022-04-21T18:19:56.441Z"
   },
   {
    "duration": 321541,
    "start_time": "2022-04-21T18:19:56.842Z"
   },
   {
    "duration": 51197,
    "start_time": "2022-04-21T18:25:18.385Z"
   },
   {
    "duration": 75590,
    "start_time": "2022-04-21T18:26:09.584Z"
   },
   {
    "duration": 26915,
    "start_time": "2022-04-21T18:27:25.176Z"
   },
   {
    "duration": 105297,
    "start_time": "2022-04-21T18:27:52.093Z"
   },
   {
    "duration": 94920,
    "start_time": "2022-04-21T18:29:37.475Z"
   },
   {
    "duration": 630,
    "start_time": "2022-04-21T18:31:12.397Z"
   },
   {
    "duration": 749083,
    "start_time": "2022-04-21T18:31:13.029Z"
   },
   {
    "duration": 557,
    "start_time": "2022-04-21T18:43:42.114Z"
   },
   {
    "duration": 12,
    "start_time": "2022-04-21T18:43:42.673Z"
   },
   {
    "duration": 25087,
    "start_time": "2022-04-21T18:43:42.688Z"
   },
   {
    "duration": 670,
    "start_time": "2022-04-21T18:44:07.778Z"
   },
   {
    "duration": 541,
    "start_time": "2022-04-21T18:51:10.541Z"
   },
   {
    "duration": 699,
    "start_time": "2022-04-21T18:51:28.919Z"
   },
   {
    "duration": 4624,
    "start_time": "2022-04-21T18:55:52.959Z"
   },
   {
    "duration": 1216,
    "start_time": "2022-04-21T18:56:12.335Z"
   },
   {
    "duration": 850,
    "start_time": "2022-04-21T18:56:13.553Z"
   },
   {
    "duration": 175,
    "start_time": "2022-04-21T18:56:14.405Z"
   },
   {
    "duration": 1637,
    "start_time": "2022-04-21T18:56:14.582Z"
   },
   {
    "duration": 550,
    "start_time": "2022-04-21T18:56:16.220Z"
   },
   {
    "duration": 151,
    "start_time": "2022-04-21T18:56:16.772Z"
   },
   {
    "duration": 105,
    "start_time": "2022-04-21T18:56:16.930Z"
   },
   {
    "duration": 530,
    "start_time": "2022-04-21T18:56:17.036Z"
   },
   {
    "duration": 31,
    "start_time": "2022-04-21T18:56:17.568Z"
   },
   {
    "duration": 252,
    "start_time": "2022-04-21T18:56:17.602Z"
   },
   {
    "duration": 192,
    "start_time": "2022-04-21T18:56:17.855Z"
   },
   {
    "duration": 40,
    "start_time": "2022-04-21T18:56:18.049Z"
   },
   {
    "duration": 389,
    "start_time": "2022-04-21T18:56:18.091Z"
   },
   {
    "duration": 218,
    "start_time": "2022-04-21T18:56:18.484Z"
   },
   {
    "duration": 18,
    "start_time": "2022-04-21T18:56:18.704Z"
   },
   {
    "duration": 193,
    "start_time": "2022-04-21T18:56:18.724Z"
   },
   {
    "duration": 78,
    "start_time": "2022-04-21T18:56:18.919Z"
   },
   {
    "duration": 1051,
    "start_time": "2022-04-21T18:56:18.999Z"
   },
   {
    "duration": 426,
    "start_time": "2022-04-21T18:56:20.052Z"
   },
   {
    "duration": 1203,
    "start_time": "2022-04-21T19:08:25.912Z"
   },
   {
    "duration": 871,
    "start_time": "2022-04-21T19:08:27.118Z"
   },
   {
    "duration": 168,
    "start_time": "2022-04-21T19:08:27.991Z"
   },
   {
    "duration": 1612,
    "start_time": "2022-04-21T19:08:28.175Z"
   },
   {
    "duration": 580,
    "start_time": "2022-04-21T19:08:29.789Z"
   },
   {
    "duration": 149,
    "start_time": "2022-04-21T19:08:30.372Z"
   },
   {
    "duration": 100,
    "start_time": "2022-04-21T19:08:30.523Z"
   },
   {
    "duration": 518,
    "start_time": "2022-04-21T19:08:30.624Z"
   },
   {
    "duration": 41,
    "start_time": "2022-04-21T19:08:31.144Z"
   },
   {
    "duration": 237,
    "start_time": "2022-04-21T19:08:31.188Z"
   },
   {
    "duration": 197,
    "start_time": "2022-04-21T19:08:31.427Z"
   },
   {
    "duration": 31,
    "start_time": "2022-04-21T19:08:31.626Z"
   },
   {
    "duration": 411,
    "start_time": "2022-04-21T19:08:31.659Z"
   },
   {
    "duration": 217,
    "start_time": "2022-04-21T19:08:32.072Z"
   },
   {
    "duration": 19,
    "start_time": "2022-04-21T19:08:32.291Z"
   },
   {
    "duration": 183,
    "start_time": "2022-04-21T19:08:32.312Z"
   },
   {
    "duration": 73,
    "start_time": "2022-04-21T19:08:32.500Z"
   },
   {
    "duration": 947,
    "start_time": "2022-04-21T19:08:32.575Z"
   },
   {
    "duration": 415,
    "start_time": "2022-04-21T19:08:33.524Z"
   },
   {
    "duration": 1313,
    "start_time": "2022-04-21T19:19:31.709Z"
   },
   {
    "duration": 878,
    "start_time": "2022-04-21T19:19:33.024Z"
   },
   {
    "duration": 193,
    "start_time": "2022-04-21T19:19:33.904Z"
   },
   {
    "duration": 1561,
    "start_time": "2022-04-21T19:19:34.099Z"
   },
   {
    "duration": 564,
    "start_time": "2022-04-21T19:19:35.662Z"
   },
   {
    "duration": 149,
    "start_time": "2022-04-21T19:19:36.227Z"
   },
   {
    "duration": 83,
    "start_time": "2022-04-21T19:19:36.378Z"
   },
   {
    "duration": 518,
    "start_time": "2022-04-21T19:19:36.463Z"
   },
   {
    "duration": 30,
    "start_time": "2022-04-21T19:19:36.983Z"
   },
   {
    "duration": 241,
    "start_time": "2022-04-21T19:19:37.015Z"
   },
   {
    "duration": 196,
    "start_time": "2022-04-21T19:19:37.257Z"
   },
   {
    "duration": 40,
    "start_time": "2022-04-21T19:19:37.455Z"
   },
   {
    "duration": 398,
    "start_time": "2022-04-21T19:19:37.497Z"
   },
   {
    "duration": 225,
    "start_time": "2022-04-21T19:19:37.898Z"
   },
   {
    "duration": 18,
    "start_time": "2022-04-21T19:19:38.125Z"
   },
   {
    "duration": 193,
    "start_time": "2022-04-21T19:19:38.145Z"
   },
   {
    "duration": 78,
    "start_time": "2022-04-21T19:19:38.339Z"
   },
   {
    "duration": 1041,
    "start_time": "2022-04-21T19:19:38.419Z"
   },
   {
    "duration": 418,
    "start_time": "2022-04-21T19:19:39.462Z"
   },
   {
    "duration": 821802,
    "start_time": "2022-04-21T19:19:39.882Z"
   },
   {
    "duration": 71316,
    "start_time": "2022-04-21T19:33:21.686Z"
   },
   {
    "duration": 112572,
    "start_time": "2022-04-21T19:34:33.003Z"
   },
   {
    "duration": 24906,
    "start_time": "2022-04-21T19:36:25.577Z"
   },
   {
    "duration": 122087,
    "start_time": "2022-04-21T19:36:50.491Z"
   },
   {
    "duration": 97882,
    "start_time": "2022-04-21T19:38:52.583Z"
   },
   {
    "duration": 540,
    "start_time": "2022-04-21T19:40:30.467Z"
   },
   {
    "duration": 771769,
    "start_time": "2022-04-21T19:40:31.009Z"
   },
   {
    "duration": 4639,
    "start_time": "2022-04-21T19:53:22.782Z"
   },
   {
    "duration": 12,
    "start_time": "2022-04-21T19:53:27.423Z"
   },
   {
    "duration": 1182,
    "start_time": "2022-04-22T07:14:40.316Z"
   },
   {
    "duration": 815,
    "start_time": "2022-04-22T07:14:41.500Z"
   },
   {
    "duration": 171,
    "start_time": "2022-04-22T07:14:42.317Z"
   },
   {
    "duration": 1443,
    "start_time": "2022-04-22T07:14:42.490Z"
   },
   {
    "duration": 500,
    "start_time": "2022-04-22T07:14:43.936Z"
   },
   {
    "duration": 145,
    "start_time": "2022-04-22T07:14:44.438Z"
   },
   {
    "duration": 99,
    "start_time": "2022-04-22T07:14:44.585Z"
   },
   {
    "duration": 695,
    "start_time": "2022-04-22T07:14:44.685Z"
   },
   {
    "duration": 45,
    "start_time": "2022-04-22T07:14:45.382Z"
   },
   {
    "duration": 247,
    "start_time": "2022-04-22T07:14:45.429Z"
   },
   {
    "duration": 188,
    "start_time": "2022-04-22T07:14:45.678Z"
   },
   {
    "duration": 22,
    "start_time": "2022-04-22T07:14:45.868Z"
   },
   {
    "duration": 389,
    "start_time": "2022-04-22T07:14:45.892Z"
   },
   {
    "duration": 232,
    "start_time": "2022-04-22T07:14:46.284Z"
   },
   {
    "duration": 25,
    "start_time": "2022-04-22T07:14:46.519Z"
   },
   {
    "duration": 164,
    "start_time": "2022-04-22T07:14:46.546Z"
   },
   {
    "duration": 75,
    "start_time": "2022-04-22T07:14:46.712Z"
   },
   {
    "duration": 898,
    "start_time": "2022-04-22T07:14:46.789Z"
   },
   {
    "duration": 385,
    "start_time": "2022-04-22T07:14:47.689Z"
   },
   {
    "duration": 1237,
    "start_time": "2022-04-22T07:28:24.994Z"
   },
   {
    "duration": 867,
    "start_time": "2022-04-22T07:28:26.236Z"
   },
   {
    "duration": 202,
    "start_time": "2022-04-22T07:28:27.107Z"
   },
   {
    "duration": 1477,
    "start_time": "2022-04-22T07:28:27.311Z"
   },
   {
    "duration": 513,
    "start_time": "2022-04-22T07:28:28.789Z"
   },
   {
    "duration": 153,
    "start_time": "2022-04-22T07:28:29.303Z"
   },
   {
    "duration": 109,
    "start_time": "2022-04-22T07:28:29.458Z"
   },
   {
    "duration": 554,
    "start_time": "2022-04-22T07:28:29.569Z"
   },
   {
    "duration": 25,
    "start_time": "2022-04-22T07:28:30.132Z"
   },
   {
    "duration": 293,
    "start_time": "2022-04-22T07:28:30.160Z"
   },
   {
    "duration": 189,
    "start_time": "2022-04-22T07:28:30.455Z"
   },
   {
    "duration": 27,
    "start_time": "2022-04-22T07:28:30.645Z"
   },
   {
    "duration": 406,
    "start_time": "2022-04-22T07:28:30.674Z"
   },
   {
    "duration": 252,
    "start_time": "2022-04-22T07:28:31.082Z"
   },
   {
    "duration": 20,
    "start_time": "2022-04-22T07:28:31.336Z"
   },
   {
    "duration": 192,
    "start_time": "2022-04-22T07:28:31.358Z"
   },
   {
    "duration": 73,
    "start_time": "2022-04-22T07:28:31.552Z"
   },
   {
    "duration": 974,
    "start_time": "2022-04-22T07:28:31.628Z"
   },
   {
    "duration": 389,
    "start_time": "2022-04-22T07:28:32.604Z"
   },
   {
    "duration": 1245,
    "start_time": "2022-04-22T07:52:50.198Z"
   },
   {
    "duration": 835,
    "start_time": "2022-04-22T07:52:51.445Z"
   },
   {
    "duration": 162,
    "start_time": "2022-04-22T07:52:52.282Z"
   },
   {
    "duration": 1459,
    "start_time": "2022-04-22T07:52:52.446Z"
   },
   {
    "duration": 516,
    "start_time": "2022-04-22T07:52:53.907Z"
   },
   {
    "duration": 139,
    "start_time": "2022-04-22T07:52:54.426Z"
   },
   {
    "duration": 95,
    "start_time": "2022-04-22T07:52:54.567Z"
   },
   {
    "duration": 492,
    "start_time": "2022-04-22T07:52:54.664Z"
   },
   {
    "duration": 30,
    "start_time": "2022-04-22T07:52:55.158Z"
   },
   {
    "duration": 259,
    "start_time": "2022-04-22T07:52:55.191Z"
   },
   {
    "duration": 183,
    "start_time": "2022-04-22T07:52:55.452Z"
   },
   {
    "duration": 26,
    "start_time": "2022-04-22T07:52:55.636Z"
   },
   {
    "duration": 388,
    "start_time": "2022-04-22T07:52:55.664Z"
   },
   {
    "duration": 208,
    "start_time": "2022-04-22T07:52:56.054Z"
   },
   {
    "duration": 19,
    "start_time": "2022-04-22T07:52:56.264Z"
   },
   {
    "duration": 187,
    "start_time": "2022-04-22T07:52:56.285Z"
   },
   {
    "duration": 74,
    "start_time": "2022-04-22T07:52:56.474Z"
   },
   {
    "duration": 910,
    "start_time": "2022-04-22T07:52:56.550Z"
   },
   {
    "duration": 390,
    "start_time": "2022-04-22T07:52:57.462Z"
   },
   {
    "duration": 1193,
    "start_time": "2022-04-22T07:57:42.181Z"
   },
   {
    "duration": 860,
    "start_time": "2022-04-22T07:57:43.376Z"
   },
   {
    "duration": 183,
    "start_time": "2022-04-22T07:57:44.238Z"
   },
   {
    "duration": 1418,
    "start_time": "2022-04-22T07:57:44.423Z"
   },
   {
    "duration": 484,
    "start_time": "2022-04-22T07:57:45.843Z"
   },
   {
    "duration": 160,
    "start_time": "2022-04-22T07:57:46.329Z"
   },
   {
    "duration": 87,
    "start_time": "2022-04-22T07:57:46.490Z"
   },
   {
    "duration": 524,
    "start_time": "2022-04-22T07:57:46.579Z"
   },
   {
    "duration": 33,
    "start_time": "2022-04-22T07:57:47.105Z"
   },
   {
    "duration": 220,
    "start_time": "2022-04-22T07:57:47.140Z"
   },
   {
    "duration": 185,
    "start_time": "2022-04-22T07:57:47.362Z"
   },
   {
    "duration": 24,
    "start_time": "2022-04-22T07:57:47.548Z"
   },
   {
    "duration": 365,
    "start_time": "2022-04-22T07:57:47.574Z"
   },
   {
    "duration": 226,
    "start_time": "2022-04-22T07:57:47.942Z"
   },
   {
    "duration": 16,
    "start_time": "2022-04-22T07:57:48.170Z"
   },
   {
    "duration": 171,
    "start_time": "2022-04-22T07:57:48.188Z"
   },
   {
    "duration": 68,
    "start_time": "2022-04-22T07:57:48.361Z"
   },
   {
    "duration": 889,
    "start_time": "2022-04-22T07:57:48.430Z"
   },
   {
    "duration": 369,
    "start_time": "2022-04-22T07:57:49.320Z"
   },
   {
    "duration": 843536,
    "start_time": "2022-04-22T07:57:49.691Z"
   },
   {
    "duration": 42787,
    "start_time": "2022-04-22T08:11:53.231Z"
   },
   {
    "duration": 137894,
    "start_time": "2022-04-22T08:12:36.020Z"
   },
   {
    "duration": 36503,
    "start_time": "2022-04-22T08:14:53.919Z"
   },
   {
    "duration": 145593,
    "start_time": "2022-04-22T08:15:30.424Z"
   },
   {
    "duration": 95184,
    "start_time": "2022-04-22T08:17:56.023Z"
   },
   {
    "duration": 490,
    "start_time": "2022-04-22T08:19:31.210Z"
   },
   {
    "duration": 709802,
    "start_time": "2022-04-22T08:19:31.702Z"
   },
   {
    "duration": 4143,
    "start_time": "2022-04-22T08:31:21.505Z"
   },
   {
    "duration": 13,
    "start_time": "2022-04-22T08:31:25.649Z"
   },
   {
    "duration": 1258,
    "start_time": "2022-04-22T08:49:29.603Z"
   },
   {
    "duration": 823,
    "start_time": "2022-04-22T08:49:30.863Z"
   },
   {
    "duration": 160,
    "start_time": "2022-04-22T08:49:31.688Z"
   },
   {
    "duration": 1476,
    "start_time": "2022-04-22T08:49:31.850Z"
   },
   {
    "duration": 496,
    "start_time": "2022-04-22T08:49:33.327Z"
   },
   {
    "duration": 136,
    "start_time": "2022-04-22T08:49:33.825Z"
   },
   {
    "duration": 96,
    "start_time": "2022-04-22T08:49:33.964Z"
   },
   {
    "duration": 507,
    "start_time": "2022-04-22T08:49:34.062Z"
   },
   {
    "duration": 24,
    "start_time": "2022-04-22T08:49:34.571Z"
   },
   {
    "duration": 231,
    "start_time": "2022-04-22T08:49:34.597Z"
   },
   {
    "duration": 189,
    "start_time": "2022-04-22T08:49:34.829Z"
   },
   {
    "duration": 23,
    "start_time": "2022-04-22T08:49:35.020Z"
   },
   {
    "duration": 375,
    "start_time": "2022-04-22T08:49:35.044Z"
   },
   {
    "duration": 212,
    "start_time": "2022-04-22T08:49:35.421Z"
   },
   {
    "duration": 17,
    "start_time": "2022-04-22T08:49:35.634Z"
   },
   {
    "duration": 159,
    "start_time": "2022-04-22T08:49:35.653Z"
   },
   {
    "duration": 64,
    "start_time": "2022-04-22T08:49:35.814Z"
   },
   {
    "duration": 853,
    "start_time": "2022-04-22T08:49:35.880Z"
   },
   {
    "duration": 362,
    "start_time": "2022-04-22T08:49:36.735Z"
   },
   {
    "duration": 559819,
    "start_time": "2022-04-22T08:49:37.098Z"
   },
   {
    "duration": 6189,
    "start_time": "2022-04-22T08:58:56.920Z"
   },
   {
    "duration": 63797,
    "start_time": "2022-04-22T08:59:03.111Z"
   },
   {
    "duration": 15903,
    "start_time": "2022-04-22T09:00:06.911Z"
   },
   {
    "duration": 69897,
    "start_time": "2022-04-22T09:00:22.817Z"
   },
   {
    "duration": 90166,
    "start_time": "2022-04-22T09:01:32.807Z"
   },
   {
    "duration": 521,
    "start_time": "2022-04-22T09:03:02.974Z"
   },
   {
    "duration": 697897,
    "start_time": "2022-04-22T09:03:03.497Z"
   },
   {
    "duration": 4592,
    "start_time": "2022-04-22T09:14:41.397Z"
   },
   {
    "duration": 10,
    "start_time": "2022-04-22T09:22:41.032Z"
   },
   {
    "duration": 11,
    "start_time": "2022-04-22T09:30:26.995Z"
   },
   {
    "duration": 12,
    "start_time": "2022-04-22T09:31:43.439Z"
   },
   {
    "duration": 11,
    "start_time": "2022-04-22T09:31:52.403Z"
   },
   {
    "duration": 14,
    "start_time": "2022-04-22T09:32:00.592Z"
   },
   {
    "duration": 11,
    "start_time": "2022-04-22T09:32:46.145Z"
   },
   {
    "duration": 12,
    "start_time": "2022-04-22T09:33:31.563Z"
   },
   {
    "duration": 1180,
    "start_time": "2022-04-23T06:21:04.237Z"
   },
   {
    "duration": 657,
    "start_time": "2022-04-23T06:21:08.030Z"
   },
   {
    "duration": 122,
    "start_time": "2022-04-23T06:21:09.302Z"
   },
   {
    "duration": 1109,
    "start_time": "2022-04-23T06:21:14.000Z"
   },
   {
    "duration": 430,
    "start_time": "2022-04-23T06:24:19.600Z"
   },
   {
    "duration": 104,
    "start_time": "2022-04-23T06:24:27.985Z"
   },
   {
    "duration": 63,
    "start_time": "2022-04-23T06:25:48.453Z"
   },
   {
    "duration": 3,
    "start_time": "2022-04-23T06:34:45.605Z"
   },
   {
    "duration": 602,
    "start_time": "2022-04-23T06:34:45.610Z"
   },
   {
    "duration": 119,
    "start_time": "2022-04-23T06:34:46.214Z"
   },
   {
    "duration": 1108,
    "start_time": "2022-04-23T06:34:46.334Z"
   },
   {
    "duration": 408,
    "start_time": "2022-04-23T06:34:47.444Z"
   },
   {
    "duration": 3,
    "start_time": "2022-04-23T06:34:59.388Z"
   },
   {
    "duration": 564,
    "start_time": "2022-04-23T06:36:18.855Z"
   },
   {
    "duration": 64,
    "start_time": "2022-04-23T06:36:36.174Z"
   },
   {
    "duration": 209,
    "start_time": "2022-04-23T06:36:46.704Z"
   },
   {
    "duration": 4,
    "start_time": "2022-04-23T06:39:09.420Z"
   },
   {
    "duration": 40,
    "start_time": "2022-04-23T06:39:10.009Z"
   },
   {
    "duration": 3,
    "start_time": "2022-04-23T06:39:12.436Z"
   },
   {
    "duration": 241,
    "start_time": "2022-04-23T06:39:46.247Z"
   },
   {
    "duration": 248,
    "start_time": "2022-04-23T06:40:03.333Z"
   },
   {
    "duration": 15,
    "start_time": "2022-04-23T06:40:11.976Z"
   },
   {
    "duration": 22,
    "start_time": "2022-04-23T06:40:25.560Z"
   },
   {
    "duration": 221,
    "start_time": "2022-04-23T06:40:33.228Z"
   },
   {
    "duration": 1091,
    "start_time": "2022-04-23T06:44:19.091Z"
   },
   {
    "duration": 4,
    "start_time": "2022-04-23T06:44:26.980Z"
   },
   {
    "duration": 650,
    "start_time": "2022-04-23T06:44:26.986Z"
   },
   {
    "duration": 116,
    "start_time": "2022-04-23T06:44:27.638Z"
   },
   {
    "duration": 1115,
    "start_time": "2022-04-23T06:44:27.757Z"
   },
   {
    "duration": 407,
    "start_time": "2022-04-23T06:44:28.874Z"
   },
   {
    "duration": 103,
    "start_time": "2022-04-23T06:44:29.283Z"
   },
   {
    "duration": 69,
    "start_time": "2022-04-23T06:44:29.388Z"
   },
   {
    "duration": 264,
    "start_time": "2022-04-23T06:44:29.459Z"
   },
   {
    "duration": 24,
    "start_time": "2022-04-23T06:44:29.725Z"
   },
   {
    "duration": 208,
    "start_time": "2022-04-23T06:44:29.752Z"
   },
   {
    "duration": 158,
    "start_time": "2022-04-23T06:44:29.962Z"
   },
   {
    "duration": 23,
    "start_time": "2022-04-23T06:44:30.124Z"
   },
   {
    "duration": 242,
    "start_time": "2022-04-23T06:44:30.148Z"
   },
   {
    "duration": 188,
    "start_time": "2022-04-23T06:44:30.391Z"
   },
   {
    "duration": 15,
    "start_time": "2022-04-23T06:44:30.581Z"
   },
   {
    "duration": 126,
    "start_time": "2022-04-23T06:44:30.597Z"
   },
   {
    "duration": 49,
    "start_time": "2022-04-23T06:44:30.725Z"
   },
   {
    "duration": 766,
    "start_time": "2022-04-23T06:44:33.566Z"
   },
   {
    "duration": 758,
    "start_time": "2022-04-23T06:45:58.524Z"
   },
   {
    "duration": 3,
    "start_time": "2022-04-23T06:46:12.473Z"
   },
   {
    "duration": 9,
    "start_time": "2022-04-23T06:46:52.490Z"
   },
   {
    "duration": 30,
    "start_time": "2022-04-23T06:46:58.925Z"
   },
   {
    "duration": 333,
    "start_time": "2022-04-23T06:47:17.903Z"
   },
   {
    "duration": 195388,
    "start_time": "2022-04-23T06:47:45.237Z"
   },
   {
    "duration": 6016,
    "start_time": "2022-04-23T06:51:19.220Z"
   },
   {
    "duration": 58173,
    "start_time": "2022-04-23T06:51:40.851Z"
   },
   {
    "duration": 14643,
    "start_time": "2022-04-23T06:53:53.185Z"
   },
   {
    "duration": 83669,
    "start_time": "2022-04-23T06:55:40.963Z"
   },
   {
    "duration": 24,
    "start_time": "2022-04-23T07:15:15.075Z"
   },
   {
    "duration": 13,
    "start_time": "2022-04-23T07:17:08.743Z"
   },
   {
    "duration": 2,
    "start_time": "2022-04-23T07:17:40.893Z"
   },
   {
    "duration": 3,
    "start_time": "2022-04-23T07:19:39.112Z"
   },
   {
    "duration": 4,
    "start_time": "2022-04-23T07:19:51.016Z"
   },
   {
    "duration": 3,
    "start_time": "2022-04-23T07:25:00.092Z"
   },
   {
    "duration": 5,
    "start_time": "2022-04-23T07:25:04.379Z"
   },
   {
    "duration": 5,
    "start_time": "2022-04-23T07:25:14.340Z"
   },
   {
    "duration": 8,
    "start_time": "2022-04-23T07:25:39.518Z"
   },
   {
    "duration": 15,
    "start_time": "2022-04-23T07:32:47.030Z"
   },
   {
    "duration": 23,
    "start_time": "2022-04-23T07:32:55.338Z"
   },
   {
    "duration": 21,
    "start_time": "2022-04-23T07:36:01.676Z"
   },
   {
    "duration": 4,
    "start_time": "2022-04-23T07:36:02.094Z"
   },
   {
    "duration": 414,
    "start_time": "2022-04-23T07:36:43.876Z"
   },
   {
    "duration": 57,
    "start_time": "2022-04-23T07:37:39.417Z"
   },
   {
    "duration": 441,
    "start_time": "2022-04-23T07:52:40.755Z"
   },
   {
    "duration": 259,
    "start_time": "2022-04-23T07:53:16.590Z"
   },
   {
    "duration": 23,
    "start_time": "2022-04-23T07:54:48.782Z"
   },
   {
    "duration": 1686,
    "start_time": "2022-04-23T07:55:09.292Z"
   },
   {
    "duration": 1689,
    "start_time": "2022-04-23T07:55:22.902Z"
   },
   {
    "duration": 24,
    "start_time": "2022-04-23T07:55:45.408Z"
   },
   {
    "duration": 4,
    "start_time": "2022-04-23T07:55:48.467Z"
   },
   {
    "duration": 1712,
    "start_time": "2022-04-23T07:56:47.911Z"
   },
   {
    "duration": 46,
    "start_time": "2022-04-23T07:56:55.919Z"
   },
   {
    "duration": 23,
    "start_time": "2022-04-23T07:56:59.981Z"
   },
   {
    "duration": 4,
    "start_time": "2022-04-23T07:57:31.875Z"
   },
   {
    "duration": 5,
    "start_time": "2022-04-23T07:57:35.255Z"
   },
   {
    "duration": 1331,
    "start_time": "2022-04-23T07:59:06.307Z"
   },
   {
    "duration": 701,
    "start_time": "2022-04-23T07:59:07.640Z"
   },
   {
    "duration": 133,
    "start_time": "2022-04-23T07:59:08.343Z"
   },
   {
    "duration": 1148,
    "start_time": "2022-04-23T07:59:08.477Z"
   },
   {
    "duration": 417,
    "start_time": "2022-04-23T07:59:09.627Z"
   },
   {
    "duration": 116,
    "start_time": "2022-04-23T07:59:10.046Z"
   },
   {
    "duration": 68,
    "start_time": "2022-04-23T07:59:10.163Z"
   },
   {
    "duration": 423,
    "start_time": "2022-04-23T07:59:10.233Z"
   },
   {
    "duration": 24,
    "start_time": "2022-04-23T07:59:10.658Z"
   },
   {
    "duration": 203,
    "start_time": "2022-04-23T07:59:10.684Z"
   },
   {
    "duration": 152,
    "start_time": "2022-04-23T07:59:10.888Z"
   },
   {
    "duration": 21,
    "start_time": "2022-04-23T07:59:11.042Z"
   },
   {
    "duration": 304,
    "start_time": "2022-04-23T07:59:11.065Z"
   },
   {
    "duration": 177,
    "start_time": "2022-04-23T07:59:11.371Z"
   },
   {
    "duration": 14,
    "start_time": "2022-04-23T07:59:11.549Z"
   },
   {
    "duration": 132,
    "start_time": "2022-04-23T07:59:11.565Z"
   },
   {
    "duration": 56,
    "start_time": "2022-04-23T07:59:11.698Z"
   },
   {
    "duration": 771,
    "start_time": "2022-04-23T07:59:11.756Z"
   },
   {
    "duration": 351,
    "start_time": "2022-04-23T07:59:12.529Z"
   },
   {
    "duration": 33,
    "start_time": "2022-04-23T07:59:25.046Z"
   },
   {
    "duration": 4,
    "start_time": "2022-04-23T07:59:26.353Z"
   },
   {
    "duration": 3,
    "start_time": "2022-04-23T07:59:27.625Z"
   },
   {
    "duration": 3,
    "start_time": "2022-04-23T07:59:32.326Z"
   },
   {
    "duration": 427,
    "start_time": "2022-04-23T07:59:33.834Z"
   },
   {
    "duration": 414,
    "start_time": "2022-04-23T07:59:34.553Z"
   },
   {
    "duration": 253,
    "start_time": "2022-04-23T07:59:41.017Z"
   },
   {
    "duration": 3,
    "start_time": "2022-04-23T08:00:44.590Z"
   },
   {
    "duration": 97,
    "start_time": "2022-04-23T08:02:24.495Z"
   },
   {
    "duration": 1861,
    "start_time": "2022-04-23T08:02:30.672Z"
   },
   {
    "duration": 61371,
    "start_time": "2022-04-23T08:02:33.862Z"
   },
   {
    "duration": 3,
    "start_time": "2022-04-23T08:05:10.047Z"
   },
   {
    "duration": 15903,
    "start_time": "2022-04-23T08:05:31.326Z"
   },
   {
    "duration": 5,
    "start_time": "2022-04-23T08:05:59.203Z"
   },
   {
    "duration": 16602,
    "start_time": "2022-04-23T08:09:23.553Z"
   },
   {
    "duration": 33329,
    "start_time": "2022-04-23T08:18:17.296Z"
   },
   {
    "duration": 4,
    "start_time": "2022-04-23T08:19:17.891Z"
   },
   {
    "duration": 4,
    "start_time": "2022-04-23T08:19:30.259Z"
   },
   {
    "duration": 5,
    "start_time": "2022-04-23T08:19:49.633Z"
   },
   {
    "duration": 4,
    "start_time": "2022-04-23T08:20:05.033Z"
   },
   {
    "duration": 30873,
    "start_time": "2022-04-23T08:20:34.052Z"
   },
   {
    "duration": 2,
    "start_time": "2022-04-23T08:23:02.614Z"
   },
   {
    "duration": 4,
    "start_time": "2022-04-23T08:23:14.726Z"
   },
   {
    "duration": 3,
    "start_time": "2022-04-23T08:23:23.610Z"
   },
   {
    "duration": 56,
    "start_time": "2022-04-23T08:24:14.114Z"
   },
   {
    "duration": 4,
    "start_time": "2022-04-23T08:24:15.404Z"
   },
   {
    "duration": 3,
    "start_time": "2022-04-23T08:24:16.020Z"
   },
   {
    "duration": 423,
    "start_time": "2022-04-23T08:24:16.995Z"
   },
   {
    "duration": 256,
    "start_time": "2022-04-23T08:24:26.168Z"
   },
   {
    "duration": 1866,
    "start_time": "2022-04-23T08:24:28.476Z"
   },
   {
    "duration": 14045,
    "start_time": "2022-04-23T08:24:31.080Z"
   },
   {
    "duration": 28401,
    "start_time": "2022-04-23T08:25:12.124Z"
   },
   {
    "duration": 61110,
    "start_time": "2022-04-23T08:26:56.729Z"
   },
   {
    "duration": 14310,
    "start_time": "2022-04-23T08:30:09.815Z"
   },
   {
    "duration": 15067,
    "start_time": "2022-04-23T08:30:46.464Z"
   },
   {
    "duration": 14136,
    "start_time": "2022-04-23T08:32:06.701Z"
   },
   {
    "duration": 60980,
    "start_time": "2022-04-23T08:32:25.252Z"
   },
   {
    "duration": 14198,
    "start_time": "2022-04-23T08:34:45.629Z"
   },
   {
    "duration": 58101,
    "start_time": "2022-04-23T08:35:04.830Z"
   },
   {
    "duration": 6,
    "start_time": "2022-04-23T08:37:52.936Z"
   },
   {
    "duration": 35,
    "start_time": "2022-04-23T08:38:09.429Z"
   },
   {
    "duration": 5,
    "start_time": "2022-04-23T08:39:10.612Z"
   },
   {
    "duration": 33,
    "start_time": "2022-04-23T08:39:18.015Z"
   },
   {
    "duration": 26,
    "start_time": "2022-04-23T08:40:20.639Z"
   },
   {
    "duration": 12,
    "start_time": "2022-04-23T08:40:37.598Z"
   },
   {
    "duration": 4,
    "start_time": "2022-04-23T08:57:05.561Z"
   },
   {
    "duration": 4,
    "start_time": "2022-04-23T08:57:15.427Z"
   },
   {
    "duration": 25,
    "start_time": "2022-04-23T08:57:47.018Z"
   },
   {
    "duration": 16,
    "start_time": "2022-04-23T08:57:56.419Z"
   },
   {
    "duration": 412,
    "start_time": "2022-04-23T08:58:02.845Z"
   },
   {
    "duration": 255,
    "start_time": "2022-04-23T08:58:03.707Z"
   },
   {
    "duration": 5,
    "start_time": "2022-04-23T08:58:06.681Z"
   },
   {
    "duration": 53,
    "start_time": "2022-04-23T08:59:13.434Z"
   },
   {
    "duration": 4,
    "start_time": "2022-04-23T08:59:14.658Z"
   },
   {
    "duration": 3,
    "start_time": "2022-04-23T08:59:15.352Z"
   },
   {
    "duration": 413,
    "start_time": "2022-04-23T08:59:17.622Z"
   },
   {
    "duration": 257,
    "start_time": "2022-04-23T08:59:18.598Z"
   },
   {
    "duration": 4,
    "start_time": "2022-04-23T08:59:19.138Z"
   },
   {
    "duration": 1853,
    "start_time": "2022-04-23T08:59:26.549Z"
   },
   {
    "duration": 14452,
    "start_time": "2022-04-23T08:59:31.872Z"
   },
   {
    "duration": 60163,
    "start_time": "2022-04-23T08:59:52.162Z"
   },
   {
    "duration": 14346,
    "start_time": "2022-04-23T09:01:33.083Z"
   },
   {
    "duration": 58010,
    "start_time": "2022-04-23T09:02:34.215Z"
   },
   {
    "duration": 44,
    "start_time": "2022-04-23T09:05:35.732Z"
   },
   {
    "duration": 1006,
    "start_time": "2022-04-23T09:06:28.610Z"
   },
   {
    "duration": 422,
    "start_time": "2022-04-23T09:06:55.140Z"
   },
   {
    "duration": 982,
    "start_time": "2022-04-23T09:06:55.565Z"
   },
   {
    "duration": 229,
    "start_time": "2022-04-23T09:06:56.550Z"
   },
   {
    "duration": 1151,
    "start_time": "2022-04-23T09:06:56.781Z"
   },
   {
    "duration": 423,
    "start_time": "2022-04-23T09:06:57.934Z"
   },
   {
    "duration": 109,
    "start_time": "2022-04-23T09:06:58.359Z"
   },
   {
    "duration": 74,
    "start_time": "2022-04-23T09:06:58.470Z"
   },
   {
    "duration": 429,
    "start_time": "2022-04-23T09:06:58.545Z"
   },
   {
    "duration": 24,
    "start_time": "2022-04-23T09:06:58.976Z"
   },
   {
    "duration": 196,
    "start_time": "2022-04-23T09:06:59.002Z"
   },
   {
    "duration": 163,
    "start_time": "2022-04-23T09:06:59.200Z"
   },
   {
    "duration": 23,
    "start_time": "2022-04-23T09:06:59.365Z"
   },
   {
    "duration": 307,
    "start_time": "2022-04-23T09:06:59.389Z"
   },
   {
    "duration": 175,
    "start_time": "2022-04-23T09:06:59.698Z"
   },
   {
    "duration": 15,
    "start_time": "2022-04-23T09:06:59.874Z"
   },
   {
    "duration": 122,
    "start_time": "2022-04-23T09:06:59.891Z"
   },
   {
    "duration": 56,
    "start_time": "2022-04-23T09:07:00.014Z"
   },
   {
    "duration": 766,
    "start_time": "2022-04-23T09:07:00.072Z"
   },
   {
    "duration": 347,
    "start_time": "2022-04-23T09:07:00.840Z"
   },
   {
    "duration": 65,
    "start_time": "2022-04-23T09:07:10.068Z"
   },
   {
    "duration": 4,
    "start_time": "2022-04-23T09:07:10.635Z"
   },
   {
    "duration": 3,
    "start_time": "2022-04-23T09:07:11.663Z"
   },
   {
    "duration": 432,
    "start_time": "2022-04-23T09:07:15.825Z"
   },
   {
    "duration": 253,
    "start_time": "2022-04-23T09:07:18.014Z"
   },
   {
    "duration": 1859,
    "start_time": "2022-04-23T09:07:18.627Z"
   },
   {
    "duration": 16230,
    "start_time": "2022-04-23T09:07:27.494Z"
   },
   {
    "duration": 4,
    "start_time": "2022-04-23T09:08:29.399Z"
   },
   {
    "duration": 655,
    "start_time": "2022-04-23T09:08:29.404Z"
   },
   {
    "duration": 121,
    "start_time": "2022-04-23T09:08:30.061Z"
   },
   {
    "duration": 1141,
    "start_time": "2022-04-23T09:08:30.184Z"
   },
   {
    "duration": 373,
    "start_time": "2022-04-23T09:08:31.327Z"
   },
   {
    "duration": 106,
    "start_time": "2022-04-23T09:08:31.701Z"
   },
   {
    "duration": 69,
    "start_time": "2022-04-23T09:08:31.809Z"
   },
   {
    "duration": 246,
    "start_time": "2022-04-23T09:08:31.880Z"
   },
   {
    "duration": 23,
    "start_time": "2022-04-23T09:08:32.128Z"
   },
   {
    "duration": 204,
    "start_time": "2022-04-23T09:08:32.153Z"
   },
   {
    "duration": 154,
    "start_time": "2022-04-23T09:08:32.358Z"
   },
   {
    "duration": 28,
    "start_time": "2022-04-23T09:08:32.514Z"
   },
   {
    "duration": 240,
    "start_time": "2022-04-23T09:08:32.544Z"
   },
   {
    "duration": 176,
    "start_time": "2022-04-23T09:08:32.786Z"
   },
   {
    "duration": 15,
    "start_time": "2022-04-23T09:08:32.963Z"
   },
   {
    "duration": 123,
    "start_time": "2022-04-23T09:08:32.980Z"
   },
   {
    "duration": 54,
    "start_time": "2022-04-23T09:08:33.105Z"
   },
   {
    "duration": 753,
    "start_time": "2022-04-23T09:08:33.160Z"
   },
   {
    "duration": 331,
    "start_time": "2022-04-23T09:08:33.915Z"
   },
   {
    "duration": 19371,
    "start_time": "2022-04-23T09:08:34.248Z"
   },
   {
    "duration": 22,
    "start_time": "2022-04-23T09:08:53.621Z"
   },
   {
    "duration": 22,
    "start_time": "2022-04-23T09:09:03.666Z"
   },
   {
    "duration": 4,
    "start_time": "2022-04-23T09:09:06.654Z"
   },
   {
    "duration": 3,
    "start_time": "2022-04-23T09:09:07.216Z"
   },
   {
    "duration": 413,
    "start_time": "2022-04-23T09:09:10.337Z"
   },
   {
    "duration": 253,
    "start_time": "2022-04-23T09:09:12.782Z"
   },
   {
    "duration": 1837,
    "start_time": "2022-04-23T09:09:14.040Z"
   },
   {
    "duration": 16461,
    "start_time": "2022-04-23T09:09:30.764Z"
   },
   {
    "duration": 63982,
    "start_time": "2022-04-23T09:10:42.458Z"
   },
   {
    "duration": 4,
    "start_time": "2022-04-23T09:12:31.200Z"
   },
   {
    "duration": 638,
    "start_time": "2022-04-23T09:12:31.205Z"
   },
   {
    "duration": 119,
    "start_time": "2022-04-23T09:12:31.845Z"
   },
   {
    "duration": 1127,
    "start_time": "2022-04-23T09:12:31.966Z"
   },
   {
    "duration": 390,
    "start_time": "2022-04-23T09:12:33.095Z"
   },
   {
    "duration": 103,
    "start_time": "2022-04-23T09:12:33.487Z"
   },
   {
    "duration": 68,
    "start_time": "2022-04-23T09:12:33.592Z"
   },
   {
    "duration": 252,
    "start_time": "2022-04-23T09:12:33.661Z"
   },
   {
    "duration": 33,
    "start_time": "2022-04-23T09:12:33.915Z"
   },
   {
    "duration": 292,
    "start_time": "2022-04-23T09:12:33.951Z"
   },
   {
    "duration": 163,
    "start_time": "2022-04-23T09:12:34.244Z"
   },
   {
    "duration": 32,
    "start_time": "2022-04-23T09:12:34.408Z"
   },
   {
    "duration": 234,
    "start_time": "2022-04-23T09:12:34.441Z"
   },
   {
    "duration": 188,
    "start_time": "2022-04-23T09:12:34.677Z"
   },
   {
    "duration": 16,
    "start_time": "2022-04-23T09:12:34.866Z"
   },
   {
    "duration": 120,
    "start_time": "2022-04-23T09:12:34.884Z"
   },
   {
    "duration": 54,
    "start_time": "2022-04-23T09:12:35.006Z"
   },
   {
    "duration": 1183,
    "start_time": "2022-04-23T09:12:35.062Z"
   },
   {
    "duration": 688,
    "start_time": "2022-04-23T09:12:36.247Z"
   },
   {
    "duration": 58,
    "start_time": "2022-04-23T09:12:42.577Z"
   },
   {
    "duration": 5,
    "start_time": "2022-04-23T09:12:44.618Z"
   },
   {
    "duration": 4,
    "start_time": "2022-04-23T09:12:45.047Z"
   },
   {
    "duration": 409,
    "start_time": "2022-04-23T09:12:45.547Z"
   },
   {
    "duration": 254,
    "start_time": "2022-04-23T09:12:45.958Z"
   },
   {
    "duration": 1836,
    "start_time": "2022-04-23T09:12:46.325Z"
   },
   {
    "duration": 17855,
    "start_time": "2022-04-23T09:12:53.877Z"
   },
   {
    "duration": 67723,
    "start_time": "2022-04-23T09:13:11.825Z"
   },
   {
    "duration": 4,
    "start_time": "2022-04-23T09:15:06.888Z"
   },
   {
    "duration": 644,
    "start_time": "2022-04-23T09:15:06.893Z"
   },
   {
    "duration": 137,
    "start_time": "2022-04-23T09:15:07.539Z"
   },
   {
    "duration": 1178,
    "start_time": "2022-04-23T09:15:07.677Z"
   },
   {
    "duration": 392,
    "start_time": "2022-04-23T09:15:08.857Z"
   },
   {
    "duration": 101,
    "start_time": "2022-04-23T09:15:09.251Z"
   },
   {
    "duration": 71,
    "start_time": "2022-04-23T09:15:09.354Z"
   },
   {
    "duration": 249,
    "start_time": "2022-04-23T09:15:09.427Z"
   },
   {
    "duration": 29,
    "start_time": "2022-04-23T09:15:09.679Z"
   },
   {
    "duration": 195,
    "start_time": "2022-04-23T09:15:09.723Z"
   },
   {
    "duration": 157,
    "start_time": "2022-04-23T09:15:09.920Z"
   },
   {
    "duration": 24,
    "start_time": "2022-04-23T09:15:10.078Z"
   },
   {
    "duration": 249,
    "start_time": "2022-04-23T09:15:10.106Z"
   },
   {
    "duration": 291,
    "start_time": "2022-04-23T09:15:10.357Z"
   },
   {
    "duration": 15,
    "start_time": "2022-04-23T09:15:10.650Z"
   },
   {
    "duration": 188,
    "start_time": "2022-04-23T09:15:10.667Z"
   },
   {
    "duration": 188,
    "start_time": "2022-04-23T09:15:10.857Z"
   },
   {
    "duration": 1793,
    "start_time": "2022-04-23T09:15:11.047Z"
   },
   {
    "duration": 340,
    "start_time": "2022-04-23T09:15:12.842Z"
   },
   {
    "duration": 64,
    "start_time": "2022-04-23T09:15:21.221Z"
   },
   {
    "duration": 3,
    "start_time": "2022-04-23T09:15:23.810Z"
   },
   {
    "duration": 3,
    "start_time": "2022-04-23T09:15:24.223Z"
   },
   {
    "duration": 414,
    "start_time": "2022-04-23T09:15:26.707Z"
   },
   {
    "duration": 255,
    "start_time": "2022-04-23T09:15:27.126Z"
   },
   {
    "duration": 1874,
    "start_time": "2022-04-23T09:15:28.207Z"
   },
   {
    "duration": 17919,
    "start_time": "2022-04-23T09:15:43.106Z"
   },
   {
    "duration": 66298,
    "start_time": "2022-04-23T09:16:01.027Z"
   },
   {
    "duration": 4,
    "start_time": "2022-04-23T09:17:42.680Z"
   },
   {
    "duration": 1201,
    "start_time": "2022-07-20T13:05:52.031Z"
   },
   {
    "duration": 1147,
    "start_time": "2022-07-20T13:05:53.234Z"
   },
   {
    "duration": 158,
    "start_time": "2022-07-20T13:05:54.383Z"
   },
   {
    "duration": 1524,
    "start_time": "2022-07-20T13:05:54.543Z"
   },
   {
    "duration": 514,
    "start_time": "2022-07-20T13:05:56.070Z"
   },
   {
    "duration": 120,
    "start_time": "2022-07-20T13:05:56.586Z"
   },
   {
    "duration": 80,
    "start_time": "2022-07-20T13:05:56.708Z"
   },
   {
    "duration": 546,
    "start_time": "2022-07-20T13:05:56.790Z"
   },
   {
    "duration": 28,
    "start_time": "2022-07-20T13:05:57.338Z"
   },
   {
    "duration": 299,
    "start_time": "2022-07-20T13:05:57.368Z"
   },
   {
    "duration": 202,
    "start_time": "2022-07-20T13:05:57.669Z"
   },
   {
    "duration": 26,
    "start_time": "2022-07-20T13:05:57.872Z"
   },
   {
    "duration": 393,
    "start_time": "2022-07-20T13:05:57.900Z"
   },
   {
    "duration": 228,
    "start_time": "2022-07-20T13:05:58.297Z"
   },
   {
    "duration": 17,
    "start_time": "2022-07-20T13:05:58.527Z"
   },
   {
    "duration": 154,
    "start_time": "2022-07-20T13:05:58.546Z"
   },
   {
    "duration": 62,
    "start_time": "2022-07-20T13:05:58.702Z"
   },
   {
    "duration": 1018,
    "start_time": "2022-07-20T13:05:58.765Z"
   },
   {
    "duration": 396,
    "start_time": "2022-07-20T13:05:59.786Z"
   },
   {
    "duration": 1188,
    "start_time": "2022-07-20T13:16:49.243Z"
   },
   {
    "duration": 869,
    "start_time": "2022-07-20T13:16:50.442Z"
   },
   {
    "duration": 173,
    "start_time": "2022-07-20T13:16:51.313Z"
   },
   {
    "duration": 1502,
    "start_time": "2022-07-20T13:16:51.488Z"
   },
   {
    "duration": 546,
    "start_time": "2022-07-20T13:16:52.994Z"
   },
   {
    "duration": 128,
    "start_time": "2022-07-20T13:16:53.542Z"
   },
   {
    "duration": 87,
    "start_time": "2022-07-20T13:16:53.672Z"
   },
   {
    "duration": 533,
    "start_time": "2022-07-20T13:16:53.761Z"
   },
   {
    "duration": 40,
    "start_time": "2022-07-20T13:16:54.296Z"
   },
   {
    "duration": 254,
    "start_time": "2022-07-20T13:16:54.341Z"
   },
   {
    "duration": 218,
    "start_time": "2022-07-20T13:16:54.597Z"
   },
   {
    "duration": 31,
    "start_time": "2022-07-20T13:16:54.816Z"
   },
   {
    "duration": 411,
    "start_time": "2022-07-20T13:16:54.849Z"
   },
   {
    "duration": 246,
    "start_time": "2022-07-20T13:16:55.264Z"
   },
   {
    "duration": 24,
    "start_time": "2022-07-20T13:16:55.511Z"
   },
   {
    "duration": 150,
    "start_time": "2022-07-20T13:16:55.536Z"
   },
   {
    "duration": 63,
    "start_time": "2022-07-20T13:16:55.688Z"
   },
   {
    "duration": 984,
    "start_time": "2022-07-20T13:16:55.753Z"
   },
   {
    "duration": 389,
    "start_time": "2022-07-20T13:16:56.739Z"
   },
   {
    "duration": 1284,
    "start_time": "2022-07-20T14:00:38.652Z"
   },
   {
    "duration": 846,
    "start_time": "2022-07-20T14:00:39.938Z"
   },
   {
    "duration": 175,
    "start_time": "2022-07-20T14:00:40.786Z"
   },
   {
    "duration": 1444,
    "start_time": "2022-07-20T14:00:40.963Z"
   },
   {
    "duration": 539,
    "start_time": "2022-07-20T14:00:42.408Z"
   },
   {
    "duration": 137,
    "start_time": "2022-07-20T14:00:42.948Z"
   },
   {
    "duration": 79,
    "start_time": "2022-07-20T14:00:43.087Z"
   },
   {
    "duration": 516,
    "start_time": "2022-07-20T14:00:43.168Z"
   },
   {
    "duration": 42,
    "start_time": "2022-07-20T14:00:43.686Z"
   },
   {
    "duration": 252,
    "start_time": "2022-07-20T14:00:43.731Z"
   },
   {
    "duration": 200,
    "start_time": "2022-07-20T14:00:43.985Z"
   },
   {
    "duration": 26,
    "start_time": "2022-07-20T14:00:44.187Z"
   },
   {
    "duration": 395,
    "start_time": "2022-07-20T14:00:44.223Z"
   },
   {
    "duration": 227,
    "start_time": "2022-07-20T14:00:44.625Z"
   },
   {
    "duration": 17,
    "start_time": "2022-07-20T14:00:44.853Z"
   },
   {
    "duration": 172,
    "start_time": "2022-07-20T14:00:44.871Z"
   },
   {
    "duration": 54,
    "start_time": "2022-07-20T14:00:45.045Z"
   },
   {
    "duration": 952,
    "start_time": "2022-07-20T14:00:45.100Z"
   },
   {
    "duration": 396,
    "start_time": "2022-07-20T14:00:46.054Z"
   },
   {
    "duration": 1224,
    "start_time": "2022-07-20T14:14:47.017Z"
   },
   {
    "duration": 915,
    "start_time": "2022-07-20T14:14:48.248Z"
   },
   {
    "duration": 205,
    "start_time": "2022-07-20T14:14:49.165Z"
   },
   {
    "duration": 1472,
    "start_time": "2022-07-20T14:14:49.373Z"
   },
   {
    "duration": 556,
    "start_time": "2022-07-20T14:14:50.846Z"
   },
   {
    "duration": 134,
    "start_time": "2022-07-20T14:14:51.404Z"
   },
   {
    "duration": 67,
    "start_time": "2022-07-20T14:14:51.540Z"
   },
   {
    "duration": 531,
    "start_time": "2022-07-20T14:14:51.609Z"
   },
   {
    "duration": 27,
    "start_time": "2022-07-20T14:14:52.141Z"
   },
   {
    "duration": 245,
    "start_time": "2022-07-20T14:14:52.170Z"
   },
   {
    "duration": 190,
    "start_time": "2022-07-20T14:14:52.417Z"
   },
   {
    "duration": 37,
    "start_time": "2022-07-20T14:14:52.609Z"
   },
   {
    "duration": 411,
    "start_time": "2022-07-20T14:14:52.648Z"
   },
   {
    "duration": 223,
    "start_time": "2022-07-20T14:14:53.061Z"
   },
   {
    "duration": 15,
    "start_time": "2022-07-20T14:14:53.286Z"
   },
   {
    "duration": 167,
    "start_time": "2022-07-20T14:14:53.303Z"
   },
   {
    "duration": 70,
    "start_time": "2022-07-20T14:14:53.472Z"
   },
   {
    "duration": 926,
    "start_time": "2022-07-20T14:14:53.546Z"
   },
   {
    "duration": 401,
    "start_time": "2022-07-20T14:14:54.474Z"
   },
   {
    "duration": 1152,
    "start_time": "2022-07-20T16:08:00.809Z"
   },
   {
    "duration": 871,
    "start_time": "2022-07-20T16:08:01.963Z"
   },
   {
    "duration": 165,
    "start_time": "2022-07-20T16:08:02.841Z"
   },
   {
    "duration": 1521,
    "start_time": "2022-07-20T16:08:03.008Z"
   },
   {
    "duration": 528,
    "start_time": "2022-07-20T16:08:04.533Z"
   },
   {
    "duration": 130,
    "start_time": "2022-07-20T16:08:05.063Z"
   },
   {
    "duration": 81,
    "start_time": "2022-07-20T16:08:05.195Z"
   },
   {
    "duration": 524,
    "start_time": "2022-07-20T16:08:05.277Z"
   },
   {
    "duration": 37,
    "start_time": "2022-07-20T16:08:05.803Z"
   },
   {
    "duration": 290,
    "start_time": "2022-07-20T16:08:05.842Z"
   },
   {
    "duration": 206,
    "start_time": "2022-07-20T16:08:06.133Z"
   },
   {
    "duration": 28,
    "start_time": "2022-07-20T16:08:06.340Z"
   },
   {
    "duration": 380,
    "start_time": "2022-07-20T16:08:06.370Z"
   },
   {
    "duration": 245,
    "start_time": "2022-07-20T16:08:06.754Z"
   },
   {
    "duration": 25,
    "start_time": "2022-07-20T16:08:07.001Z"
   },
   {
    "duration": 157,
    "start_time": "2022-07-20T16:08:07.029Z"
   },
   {
    "duration": 66,
    "start_time": "2022-07-20T16:08:07.188Z"
   },
   {
    "duration": 963,
    "start_time": "2022-07-20T16:08:07.256Z"
   },
   {
    "duration": 410,
    "start_time": "2022-07-20T16:08:08.221Z"
   },
   {
    "duration": 1323,
    "start_time": "2022-07-20T16:11:35.850Z"
   },
   {
    "duration": 911,
    "start_time": "2022-07-20T16:11:37.176Z"
   },
   {
    "duration": 159,
    "start_time": "2022-07-20T16:11:38.089Z"
   },
   {
    "duration": 1579,
    "start_time": "2022-07-20T16:11:38.250Z"
   },
   {
    "duration": 521,
    "start_time": "2022-07-20T16:11:39.831Z"
   },
   {
    "duration": 141,
    "start_time": "2022-07-20T16:11:40.353Z"
   },
   {
    "duration": 79,
    "start_time": "2022-07-20T16:11:40.495Z"
   },
   {
    "duration": 623,
    "start_time": "2022-07-20T16:11:40.575Z"
   },
   {
    "duration": 42,
    "start_time": "2022-07-20T16:11:41.199Z"
   },
   {
    "duration": 243,
    "start_time": "2022-07-20T16:11:41.243Z"
   },
   {
    "duration": 196,
    "start_time": "2022-07-20T16:11:41.488Z"
   },
   {
    "duration": 25,
    "start_time": "2022-07-20T16:11:41.685Z"
   },
   {
    "duration": 398,
    "start_time": "2022-07-20T16:11:41.712Z"
   },
   {
    "duration": 228,
    "start_time": "2022-07-20T16:11:42.111Z"
   },
   {
    "duration": 16,
    "start_time": "2022-07-20T16:11:42.340Z"
   },
   {
    "duration": 141,
    "start_time": "2022-07-20T16:11:42.358Z"
   },
   {
    "duration": 66,
    "start_time": "2022-07-20T16:11:42.500Z"
   },
   {
    "duration": 871,
    "start_time": "2022-07-20T16:11:42.568Z"
   },
   {
    "duration": 393,
    "start_time": "2022-07-20T16:11:43.441Z"
   },
   {
    "duration": 628209,
    "start_time": "2022-07-20T16:11:43.837Z"
   },
   {
    "duration": 228682,
    "start_time": "2022-07-20T16:22:12.048Z"
   },
   {
    "duration": 57308,
    "start_time": "2022-07-20T16:26:00.737Z"
   },
   {
    "duration": 220389,
    "start_time": "2022-07-20T16:26:58.050Z"
   },
   {
    "duration": 100499,
    "start_time": "2022-07-20T16:30:38.444Z"
   },
   {
    "duration": 607,
    "start_time": "2022-07-20T16:32:18.949Z"
   },
   {
    "duration": 764903,
    "start_time": "2022-07-20T16:32:19.558Z"
   },
   {
    "duration": 5281,
    "start_time": "2022-07-20T16:45:04.462Z"
   },
   {
    "duration": 14,
    "start_time": "2022-07-20T16:45:09.751Z"
   }
  ],
  "kernelspec": {
   "display_name": "Python 3 (ipykernel)",
   "language": "python",
   "name": "python3"
  },
  "language_info": {
   "codemirror_mode": {
    "name": "ipython",
    "version": 3
   },
   "file_extension": ".py",
   "mimetype": "text/x-python",
   "name": "python",
   "nbconvert_exporter": "python",
   "pygments_lexer": "ipython3",
   "version": "3.9.5"
  },
  "toc": {
   "base_numbering": 1,
   "nav_menu": {},
   "number_sections": true,
   "sideBar": true,
   "skip_h1_title": true,
   "title_cell": "Table of Contents",
   "title_sidebar": "Contents",
   "toc_cell": false,
   "toc_position": {
    "height": "calc(100% - 180px)",
    "left": "10px",
    "top": "150px",
    "width": "278.797px"
   },
   "toc_section_display": true,
   "toc_window_display": true
  }
 },
 "nbformat": 4,
 "nbformat_minor": 2
}
