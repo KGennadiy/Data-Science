{
 "cells": [
  {
   "cell_type": "markdown",
   "metadata": {},
   "source": [
    "# Защита персональных данных клиентов"
   ]
  },
  {
   "cell_type": "markdown",
   "metadata": {},
   "source": [
    "Вам нужно защитить данные клиентов страховой компании «Хоть потоп». Разработайте такой метод преобразования данных, чтобы по ним было сложно восстановить персональную информацию. Обоснуйте корректность его работы.\n",
    "\n",
    "Нужно защитить данные, чтобы при преобразовании качество моделей машинного обучения не ухудшилось. Подбирать наилучшую модель не требуется."
   ]
  },
  {
   "cell_type": "markdown",
   "metadata": {
    "toc": true
   },
   "source": [
    "<h1>Содержание<span class=\"tocSkip\"></span></h1>\n",
    "<div class=\"toc\"><ul class=\"toc-item\"><li><span><a href=\"#Загрузка-данных\" data-toc-modified-id=\"Загрузка-данных-1\"><span class=\"toc-item-num\">1&nbsp;&nbsp;</span>Загрузка данных</a></span></li><li><span><a href=\"#Умножение-матриц\" data-toc-modified-id=\"Умножение-матриц-2\"><span class=\"toc-item-num\">2&nbsp;&nbsp;</span>Умножение матриц</a></span></li><li><span><a href=\"#Алгоритм-преобразования\" data-toc-modified-id=\"Алгоритм-преобразования-3\"><span class=\"toc-item-num\">3&nbsp;&nbsp;</span>Алгоритм преобразования</a></span></li><li><span><a href=\"#Проверка-алгоритма\" data-toc-modified-id=\"Проверка-алгоритма-4\"><span class=\"toc-item-num\">4&nbsp;&nbsp;</span>Проверка алгоритма</a></span></li><li><span><a href=\"#Вывод\" data-toc-modified-id=\"Вывод-5\"><span class=\"toc-item-num\">5&nbsp;&nbsp;</span>Вывод</a></span></li><li><span><a href=\"#Чек-лист-проверки\" data-toc-modified-id=\"Чек-лист-проверки-6\"><span class=\"toc-item-num\">6&nbsp;&nbsp;</span>Чек-лист проверки</a></span></li></ul></div>"
   ]
  },
  {
   "cell_type": "markdown",
   "metadata": {},
   "source": [
    "## Загрузка данных"
   ]
  },
  {
   "cell_type": "markdown",
   "metadata": {},
   "source": [
    "Импорт библиотек"
   ]
  },
  {
   "cell_type": "code",
   "execution_count": 1,
   "metadata": {},
   "outputs": [],
   "source": [
    "import pandas as pd \n",
    "import numpy as np\n",
    "\n",
    "from sklearn.model_selection import train_test_split\n",
    "from sklearn.linear_model import LinearRegression\n",
    "from sklearn.metrics import r2_score"
   ]
  },
  {
   "cell_type": "markdown",
   "metadata": {},
   "source": [
    "Загрузка данных"
   ]
  },
  {
   "cell_type": "code",
   "execution_count": 2,
   "metadata": {},
   "outputs": [],
   "source": [
    "df = pd.read_csv('/datasets/insurance.csv')"
   ]
  },
  {
   "cell_type": "markdown",
   "metadata": {},
   "source": [
    "Функция для первичного анализа данных"
   ]
  },
  {
   "cell_type": "code",
   "execution_count": 3,
   "metadata": {},
   "outputs": [],
   "source": [
    "def df_info(ds):\n",
    "    print(50*\"-\")\n",
    "    print('Общая информация:')\n",
    "    print(ds.info())\n",
    "    print(50*\"-\")\n",
    "    print('Размер:')\n",
    "    print(ds.shape)\n",
    "    print(60*\"-\")\n",
    "    print('Пример данных в начале:')\n",
    "    print(ds.head())\n",
    "    print(60*\"-\")\n",
    "    print('Пример данных в конце:')\n",
    "    print(ds.tail())\n",
    "    print(78*\"-\")\n",
    "    print('Описание:')\n",
    "    print(ds.describe())\n",
    "    print(78*\"-\")\n",
    "    print('Дубликаты:')\n",
    "    print(ds.duplicated().sum())"
   ]
  },
  {
   "cell_type": "code",
   "execution_count": 4,
   "metadata": {},
   "outputs": [
    {
     "name": "stdout",
     "output_type": "stream",
     "text": [
      "--------------------------------------------------\n",
      "Общая информация:\n",
      "<class 'pandas.core.frame.DataFrame'>\n",
      "RangeIndex: 5000 entries, 0 to 4999\n",
      "Data columns (total 5 columns):\n",
      " #   Column             Non-Null Count  Dtype  \n",
      "---  ------             --------------  -----  \n",
      " 0   Пол                5000 non-null   int64  \n",
      " 1   Возраст            5000 non-null   float64\n",
      " 2   Зарплата           5000 non-null   float64\n",
      " 3   Члены семьи        5000 non-null   int64  \n",
      " 4   Страховые выплаты  5000 non-null   int64  \n",
      "dtypes: float64(2), int64(3)\n",
      "memory usage: 195.4 KB\n",
      "None\n",
      "--------------------------------------------------\n",
      "Размер:\n",
      "(5000, 5)\n",
      "------------------------------------------------------------\n",
      "Пример данных в начале:\n",
      "   Пол  Возраст  Зарплата  Члены семьи  Страховые выплаты\n",
      "0    1     41.0   49600.0            1                  0\n",
      "1    0     46.0   38000.0            1                  1\n",
      "2    0     29.0   21000.0            0                  0\n",
      "3    0     21.0   41700.0            2                  0\n",
      "4    1     28.0   26100.0            0                  0\n",
      "------------------------------------------------------------\n",
      "Пример данных в конце:\n",
      "      Пол  Возраст  Зарплата  Члены семьи  Страховые выплаты\n",
      "4995    0     28.0   35700.0            2                  0\n",
      "4996    0     34.0   52400.0            1                  0\n",
      "4997    0     20.0   33900.0            2                  0\n",
      "4998    1     22.0   32700.0            3                  0\n",
      "4999    1     28.0   40600.0            1                  0\n",
      "------------------------------------------------------------------------------\n",
      "Описание:\n",
      "               Пол      Возраст      Зарплата  Члены семьи  Страховые выплаты\n",
      "count  5000.000000  5000.000000   5000.000000  5000.000000        5000.000000\n",
      "mean      0.499000    30.952800  39916.360000     1.194200           0.148000\n",
      "std       0.500049     8.440807   9900.083569     1.091387           0.463183\n",
      "min       0.000000    18.000000   5300.000000     0.000000           0.000000\n",
      "25%       0.000000    24.000000  33300.000000     0.000000           0.000000\n",
      "50%       0.000000    30.000000  40200.000000     1.000000           0.000000\n",
      "75%       1.000000    37.000000  46600.000000     2.000000           0.000000\n",
      "max       1.000000    65.000000  79000.000000     6.000000           5.000000\n",
      "------------------------------------------------------------------------------\n",
      "Дубликаты:\n",
      "153\n"
     ]
    }
   ],
   "source": [
    "df_info(df)"
   ]
  },
  {
   "cell_type": "markdown",
   "metadata": {},
   "source": [
    "Вывод примера дубликатов"
   ]
  },
  {
   "cell_type": "code",
   "execution_count": 5,
   "metadata": {},
   "outputs": [
    {
     "data": {
      "text/html": [
       "<div>\n",
       "<style scoped>\n",
       "    .dataframe tbody tr th:only-of-type {\n",
       "        vertical-align: middle;\n",
       "    }\n",
       "\n",
       "    .dataframe tbody tr th {\n",
       "        vertical-align: top;\n",
       "    }\n",
       "\n",
       "    .dataframe thead th {\n",
       "        text-align: right;\n",
       "    }\n",
       "</style>\n",
       "<table border=\"1\" class=\"dataframe\">\n",
       "  <thead>\n",
       "    <tr style=\"text-align: right;\">\n",
       "      <th></th>\n",
       "      <th>Пол</th>\n",
       "      <th>Возраст</th>\n",
       "      <th>Зарплата</th>\n",
       "      <th>Члены семьи</th>\n",
       "      <th>Страховые выплаты</th>\n",
       "    </tr>\n",
       "  </thead>\n",
       "  <tbody>\n",
       "    <tr>\n",
       "      <th>2955</th>\n",
       "      <td>1</td>\n",
       "      <td>32.0</td>\n",
       "      <td>21600.0</td>\n",
       "      <td>0</td>\n",
       "      <td>0</td>\n",
       "    </tr>\n",
       "    <tr>\n",
       "      <th>2988</th>\n",
       "      <td>1</td>\n",
       "      <td>32.0</td>\n",
       "      <td>21600.0</td>\n",
       "      <td>0</td>\n",
       "      <td>0</td>\n",
       "    </tr>\n",
       "    <tr>\n",
       "      <th>361</th>\n",
       "      <td>0</td>\n",
       "      <td>50.0</td>\n",
       "      <td>24700.0</td>\n",
       "      <td>1</td>\n",
       "      <td>2</td>\n",
       "    </tr>\n",
       "    <tr>\n",
       "      <th>2869</th>\n",
       "      <td>0</td>\n",
       "      <td>50.0</td>\n",
       "      <td>24700.0</td>\n",
       "      <td>1</td>\n",
       "      <td>2</td>\n",
       "    </tr>\n",
       "    <tr>\n",
       "      <th>333</th>\n",
       "      <td>0</td>\n",
       "      <td>32.0</td>\n",
       "      <td>25600.0</td>\n",
       "      <td>1</td>\n",
       "      <td>0</td>\n",
       "    </tr>\n",
       "    <tr>\n",
       "      <th>4230</th>\n",
       "      <td>0</td>\n",
       "      <td>32.0</td>\n",
       "      <td>25600.0</td>\n",
       "      <td>1</td>\n",
       "      <td>0</td>\n",
       "    </tr>\n",
       "    <tr>\n",
       "      <th>1378</th>\n",
       "      <td>0</td>\n",
       "      <td>36.0</td>\n",
       "      <td>26400.0</td>\n",
       "      <td>0</td>\n",
       "      <td>0</td>\n",
       "    </tr>\n",
       "    <tr>\n",
       "      <th>2723</th>\n",
       "      <td>0</td>\n",
       "      <td>36.0</td>\n",
       "      <td>26400.0</td>\n",
       "      <td>0</td>\n",
       "      <td>0</td>\n",
       "    </tr>\n",
       "    <tr>\n",
       "      <th>1002</th>\n",
       "      <td>1</td>\n",
       "      <td>34.0</td>\n",
       "      <td>26900.0</td>\n",
       "      <td>0</td>\n",
       "      <td>0</td>\n",
       "    </tr>\n",
       "    <tr>\n",
       "      <th>1140</th>\n",
       "      <td>1</td>\n",
       "      <td>34.0</td>\n",
       "      <td>26900.0</td>\n",
       "      <td>0</td>\n",
       "      <td>0</td>\n",
       "    </tr>\n",
       "  </tbody>\n",
       "</table>\n",
       "</div>"
      ],
      "text/plain": [
       "      Пол  Возраст  Зарплата  Члены семьи  Страховые выплаты\n",
       "2955    1     32.0   21600.0            0                  0\n",
       "2988    1     32.0   21600.0            0                  0\n",
       "361     0     50.0   24700.0            1                  2\n",
       "2869    0     50.0   24700.0            1                  2\n",
       "333     0     32.0   25600.0            1                  0\n",
       "4230    0     32.0   25600.0            1                  0\n",
       "1378    0     36.0   26400.0            0                  0\n",
       "2723    0     36.0   26400.0            0                  0\n",
       "1002    1     34.0   26900.0            0                  0\n",
       "1140    1     34.0   26900.0            0                  0"
      ]
     },
     "execution_count": 5,
     "metadata": {},
     "output_type": "execute_result"
    }
   ],
   "source": [
    "df.loc[df.duplicated(keep=False)].sort_values(by='Зарплата').head(10)"
   ]
  },
  {
   "cell_type": "markdown",
   "metadata": {},
   "source": [
    "Анализ уникальных значений"
   ]
  },
  {
   "cell_type": "code",
   "execution_count": 6,
   "metadata": {},
   "outputs": [
    {
     "name": "stdout",
     "output_type": "stream",
     "text": [
      "Количество уникальных значений по столбцам\n",
      "Пол: 2\n",
      "Возраст: 46\n",
      "Зарплата: 524\n",
      "Члены семьи: 7\n",
      "Страховые выплаты: 6\n"
     ]
    }
   ],
   "source": [
    "cols = ['Пол', 'Возраст',  'Зарплата',  'Члены семьи',  'Страховые выплаты']\n",
    "print('Количество уникальных значений по столбцам')\n",
    "for i in cols:\n",
    "    print('%s:' %i, df[i].nunique())"
   ]
  },
  {
   "cell_type": "markdown",
   "metadata": {},
   "source": [
    "<b> ВЫВОДЫ </b>\n",
    "\n",
    " - данные загружены;\n",
    " - обнаружено 153 дубликата: т.к. данные малоинформативны и количество дубликатов мало, стоит их оставить;\n",
    " - судя по полченному описанию (describe) данные хорошие, пропусков и выбросов нет."
   ]
  },
  {
   "cell_type": "markdown",
   "metadata": {},
   "source": [
    "## Умножение матриц"
   ]
  },
  {
   "cell_type": "markdown",
   "metadata": {},
   "source": [
    "Обозначения:\n",
    "\n",
    "- $X$ — матрица признаков (нулевой столбец состоит из единиц)\n",
    "\n",
    "- $y$ — вектор целевого признака\n",
    "\n",
    "- $P$ — матрица, на которую умножаются признаки\n",
    "\n",
    "- $w$ — вектор весов линейной регрессии (нулевой элемент равен сдвигу)"
   ]
  },
  {
   "cell_type": "markdown",
   "metadata": {},
   "source": [
    "Предсказания:\n",
    "\n",
    "$$\n",
    "a = Xw\n",
    "$$\n",
    "\n",
    "Задача обучения:\n",
    "\n",
    "$$\n",
    "w = \\arg\\min_w MSE(Xw, y)\n",
    "$$\n",
    "\n",
    "Формула обучения:\n",
    "\n",
    "$$\n",
    "w = (X^T X)^{-1} X^T y\n",
    "$$"
   ]
  },
  {
   "cell_type": "markdown",
   "metadata": {},
   "source": [
    "<b> Признаки умножают на обратимую матрицу. Изменится ли качество линейной регрессии? (Её можно обучить заново.)<br>\n",
    " - a. Изменится. Приведите примеры матриц.\n",
    " - b. Не изменится. Укажите, как связаны параметры линейной регрессии в исходной задаче и в преобразованной."
   ]
  },
  {
   "cell_type": "markdown",
   "metadata": {},
   "source": [
    "**Ответ:** Не изменится. Укажите, как связаны параметры линейной регрессии в исходной задаче и в преобразованной.\n",
    "\n",
    "**Обоснование:**"
   ]
  },
  {
   "cell_type": "markdown",
   "metadata": {},
   "source": [
    "Пусть новая матрица признаков $X_1$ как произведение старой $X$ на матрицу $P$(обратимую):\n",
    "\n",
    "$$X_1=XP$$"
   ]
  },
  {
   "cell_type": "markdown",
   "metadata": {},
   "source": [
    "Применим значение $X_1$ к формуле обучения:\n",
    "$$w_1 = ((XP)^T XP)^{-1} (XP)^T y$$"
   ]
  },
  {
   "cell_type": "markdown",
   "metadata": {},
   "source": [
    "Раскроем скобки, выделив $P$:\n",
    "$$w_1 = (X^TP^T XP)^{-1} X^TP^T y$$\n",
    "\n",
    "$$w_1 = (X^T X)^{-1} X^T P^{-1} (P^T)^{-1} P^Ty$$"
   ]
  },
  {
   "cell_type": "markdown",
   "metadata": {},
   "source": [
    "Так как $P$ обратимая, то произведение $(P^T)^{-1}P^T$ равно единичной матрице($E$):\n",
    "$$w_1 = P^{-1} (X^T X)^{-1} X^T y$$"
   ]
  },
  {
   "cell_type": "markdown",
   "metadata": {},
   "source": [
    "Видим, что справа получилась формула для $w$:\n",
    "$$w_1 = P^{-1} w$$"
   ]
  },
  {
   "cell_type": "markdown",
   "metadata": {},
   "source": [
    "Воспользовавшись формулой предсказаний линейной регрессии, получаем:\n",
    "$$a_1 = X_1 w_1$$\n",
    "\n",
    "$$a_1 = X P P^{-1} w$$\n",
    "\n",
    "$$a_1 = X E w$$\n",
    "\n",
    "$$a_1 = X w = a$$"
   ]
  },
  {
   "cell_type": "markdown",
   "metadata": {},
   "source": [
    "<b> Мы доказали, что предсказания для матрицы признаков ($a_1$), умноженных на обратимую матрицу ($P$) равны предсказаниям $a$.\n",
    "    \n",
    "В данном случае, связь параметров линейной регрессии в исходной задаче $w$ и в преобразованной $w_1$ выглядит так:\n",
    "$$w_1 = P^{-1} w$$"
   ]
  },
  {
   "cell_type": "markdown",
   "metadata": {},
   "source": [
    "## Алгоритм преобразования"
   ]
  },
  {
   "cell_type": "markdown",
   "metadata": {},
   "source": [
    "**Алгоритм**\n",
    "\n",
    "В качестве алгоритма преобразования используем матрицу со случайными величинами, у которой существует обратная к ней матрица."
   ]
  },
  {
   "cell_type": "markdown",
   "metadata": {},
   "source": [
    "**Обоснование**"
   ]
  },
  {
   "cell_type": "code",
   "execution_count": 7,
   "metadata": {},
   "outputs": [],
   "source": [
    "#Разделение данных на целевые (target) и признаки (features):\n",
    "target = df.loc[:, 'Страховые выплаты']\n",
    "features = df.drop(['Страховые выплаты'], axis=1)"
   ]
  },
  {
   "cell_type": "code",
   "execution_count": 8,
   "metadata": {},
   "outputs": [],
   "source": [
    "#Разделение данных на тренировочную (train) и тестовую (test) выборки:\n",
    "features_train, features_test, target_train, target_test = train_test_split(features, target, test_size=0.25, random_state=12345)"
   ]
  },
  {
   "cell_type": "code",
   "execution_count": 9,
   "metadata": {},
   "outputs": [
    {
     "name": "stdout",
     "output_type": "stream",
     "text": [
      "(3750, 4)\n",
      "(1250, 4)\n"
     ]
    }
   ],
   "source": [
    "#Преобразование выборкок в матрицы:\n",
    "m_ftr = features_train.values\n",
    "m_ft = features_test.values\n",
    "print(m_ftr.shape)\n",
    "print(m_ft.shape)"
   ]
  },
  {
   "cell_type": "code",
   "execution_count": 10,
   "metadata": {},
   "outputs": [
    {
     "data": {
      "text/plain": [
       "array([[ 1., -1.,  1.,  1.],\n",
       "       [-1.,  2.,  2., -0.],\n",
       "       [ 2.,  1., -1.,  1.],\n",
       "       [ 0., -0.,  1., -0.]])"
      ]
     },
     "execution_count": 10,
     "metadata": {},
     "output_type": "execute_result"
    }
   ],
   "source": [
    "#Создадим рандомную обратимую матрицу 4 на 4 (по количеству признаков основной матрицы):\n",
    "\n",
    "rand_m = np.random.randn(4, 4)\n",
    "rand_m = np.round(rand_m)\n",
    "rand_m"
   ]
  },
  {
   "cell_type": "code",
   "execution_count": 11,
   "metadata": {},
   "outputs": [
    {
     "data": {
      "text/plain": [
       "array([[ 1.,  0.,  0.,  0.],\n",
       "       [ 0.,  1., -0.,  0.],\n",
       "       [ 0.,  0.,  1.,  0.],\n",
       "       [ 0.,  0., -0.,  1.]])"
      ]
     },
     "execution_count": 11,
     "metadata": {},
     "output_type": "execute_result"
    }
   ],
   "source": [
    "#Проверим получившейся матрицы на обратимость.\n",
    "np.round(rand_m @ np.linalg.inv(rand_m))"
   ]
  },
  {
   "cell_type": "markdown",
   "metadata": {},
   "source": [
    "В результате получилась единичная матрица - МАТРИЦА ОБРАТИМА\n"
   ]
  },
  {
   "cell_type": "code",
   "execution_count": 12,
   "metadata": {},
   "outputs": [],
   "source": [
    "#Перемножим тестовую и тренировочную матрицы на получившуюся рандомную обратимую матрицу:\n",
    "с_m_ftr = m_ftr.dot(rand_m)\n",
    "с_m_ft = m_ft.dot(rand_m)"
   ]
  },
  {
   "cell_type": "markdown",
   "metadata": {},
   "source": [
    "Для восстановления исходных данных перемножим Тренировочные признаки (train) на обратную рандомной матрицу:"
   ]
  },
  {
   "cell_type": "code",
   "execution_count": 13,
   "metadata": {},
   "outputs": [],
   "source": [
    "dc_m_ftr = с_m_ftr.dot(np.linalg.inv(rand_m))"
   ]
  },
  {
   "cell_type": "markdown",
   "metadata": {},
   "source": [
    "Восстановим DataFrame из матрицы:"
   ]
  },
  {
   "cell_type": "code",
   "execution_count": 14,
   "metadata": {},
   "outputs": [
    {
     "data": {
      "text/plain": [
       "(      Пол  Возраст  Зарплата  Члены семьи\n",
       " 0     1.0     43.0   36200.0          1.0\n",
       " 1     1.0     34.0   57600.0          0.0\n",
       " 2     0.0     32.0   41100.0          1.0\n",
       " 3     0.0     36.0   45100.0          1.0\n",
       " 4     0.0     33.0   50600.0          2.0\n",
       " ...   ...      ...       ...          ...\n",
       " 3745  0.0     42.0   32100.0          0.0\n",
       " 3746  0.0     28.0   22700.0          4.0\n",
       " 3747  1.0     41.0   44700.0          1.0\n",
       " 3748  0.0     22.0   50100.0          4.0\n",
       " 3749  0.0     19.0   40800.0          0.0\n",
       " \n",
       " [3750 rows x 4 columns],\n",
       "       Пол  Возраст  Зарплата  Члены семьи\n",
       " 3369    1     43.0   36200.0            1\n",
       " 1441    1     34.0   57600.0            0\n",
       " 571     0     32.0   41100.0            1\n",
       " 225     0     36.0   45100.0            1\n",
       " 2558    0     33.0   50600.0            2\n",
       " ...   ...      ...       ...          ...\n",
       " 3497    0     42.0   32100.0            0\n",
       " 3492    0     28.0   22700.0            4\n",
       " 2177    1     41.0   44700.0            1\n",
       " 3557    0     22.0   50100.0            4\n",
       " 4578    0     19.0   40800.0            0\n",
       " \n",
       " [3750 rows x 4 columns])"
      ]
     },
     "execution_count": 14,
     "metadata": {},
     "output_type": "execute_result"
    }
   ],
   "source": [
    "f_tr_check = pd.DataFrame(dc_m_ftr, columns=features_train.columns)\n",
    "f_tr_check, features_train"
   ]
  },
  {
   "cell_type": "markdown",
   "metadata": {},
   "source": [
    "<b> Данные не изменились"
   ]
  },
  {
   "cell_type": "markdown",
   "metadata": {},
   "source": [
    "## Проверка алгоритма"
   ]
  },
  {
   "cell_type": "markdown",
   "metadata": {},
   "source": [
    "Создадим модель для матриц с помощью Линейной регрессии"
   ]
  },
  {
   "cell_type": "code",
   "execution_count": 15,
   "metadata": {},
   "outputs": [
    {
     "name": "stdout",
     "output_type": "stream",
     "text": [
      "Оценка R2 для некодированной матрицы:  0.4352275713\n"
     ]
    }
   ],
   "source": [
    "model = LinearRegression()\n",
    "model.fit(m_ftr, target_train)\n",
    "predicted_norm = model.predict(features_test)\n",
    "norm_r2 = model.score(features_test, target_test).round(10)\n",
    "print('Оценка R2 для некодированной матрицы: ', norm_r2)"
   ]
  },
  {
   "cell_type": "code",
   "execution_count": 16,
   "metadata": {},
   "outputs": [
    {
     "name": "stdout",
     "output_type": "stream",
     "text": [
      "Оценка R2 для кодированной матрицы:  0.4352275713\n"
     ]
    }
   ],
   "source": [
    "model.fit(с_m_ftr, target_train)\n",
    "predicted_с = model.predict(с_m_ft)\n",
    "coded_r2 = model.score(с_m_ft, target_test).round(10)\n",
    "print('Оценка R2 для кодированной матрицы: ', coded_r2)"
   ]
  },
  {
   "cell_type": "markdown",
   "metadata": {},
   "source": [
    "## Вывод\n",
    "\n",
    "Проверив показатели качества моделей Линейной регрессии с помощью метрики R2 на данных (сначала на исходных, затем умноженных на обратимую матрицу) размер которой равен числу признаков. \n",
    "\n",
    "Показатели метрики совпадают, следовательно можно утверждать, что алгоритм работает."
   ]
  }
 ],
 "metadata": {
  "ExecuteTimeLog": [
   {
    "duration": 48,
    "start_time": "2022-04-09T06:35:09.225Z"
   },
   {
    "duration": 1480,
    "start_time": "2022-04-09T06:35:17.212Z"
   },
   {
    "duration": 18,
    "start_time": "2022-04-09T06:35:18.694Z"
   },
   {
    "duration": 67,
    "start_time": "2022-04-09T06:36:02.124Z"
   },
   {
    "duration": 4,
    "start_time": "2022-04-09T06:36:03.827Z"
   },
   {
    "duration": 24,
    "start_time": "2022-04-09T06:36:05.481Z"
   },
   {
    "duration": 20,
    "start_time": "2022-04-09T06:37:31.312Z"
   },
   {
    "duration": 91,
    "start_time": "2022-04-09T06:38:04.939Z"
   },
   {
    "duration": 20,
    "start_time": "2022-04-09T06:38:07.610Z"
   },
   {
    "duration": 72,
    "start_time": "2022-04-09T06:38:20.246Z"
   },
   {
    "duration": 19,
    "start_time": "2022-04-09T06:38:22.312Z"
   },
   {
    "duration": 5,
    "start_time": "2022-04-09T06:42:46.944Z"
   },
   {
    "duration": 23,
    "start_time": "2022-04-09T06:42:48.593Z"
   },
   {
    "duration": 4,
    "start_time": "2022-04-09T06:43:14.195Z"
   },
   {
    "duration": 20,
    "start_time": "2022-04-09T06:43:14.664Z"
   },
   {
    "duration": 4,
    "start_time": "2022-04-09T06:43:46.881Z"
   },
   {
    "duration": 19,
    "start_time": "2022-04-09T06:43:47.252Z"
   },
   {
    "duration": 4,
    "start_time": "2022-04-09T06:44:00.084Z"
   },
   {
    "duration": 21,
    "start_time": "2022-04-09T06:44:00.533Z"
   },
   {
    "duration": 4,
    "start_time": "2022-04-09T06:44:12.505Z"
   },
   {
    "duration": 22,
    "start_time": "2022-04-09T06:44:12.785Z"
   },
   {
    "duration": 4,
    "start_time": "2022-04-09T06:44:27.014Z"
   },
   {
    "duration": 20,
    "start_time": "2022-04-09T06:44:28.964Z"
   },
   {
    "duration": 4,
    "start_time": "2022-04-09T06:44:41.554Z"
   },
   {
    "duration": 20,
    "start_time": "2022-04-09T06:44:41.584Z"
   },
   {
    "duration": 7,
    "start_time": "2022-04-09T06:48:28.578Z"
   },
   {
    "duration": 5,
    "start_time": "2022-04-09T06:51:08.577Z"
   },
   {
    "duration": 31,
    "start_time": "2022-04-09T06:51:09.474Z"
   },
   {
    "duration": 14,
    "start_time": "2022-04-09T06:52:25.513Z"
   },
   {
    "duration": 5,
    "start_time": "2022-04-09T06:57:51.622Z"
   },
   {
    "duration": 40,
    "start_time": "2022-04-09T06:57:53.446Z"
   },
   {
    "duration": 4,
    "start_time": "2022-04-09T06:58:46.681Z"
   },
   {
    "duration": 30,
    "start_time": "2022-04-09T06:58:48.655Z"
   },
   {
    "duration": 4,
    "start_time": "2022-04-09T06:59:48.334Z"
   },
   {
    "duration": 31,
    "start_time": "2022-04-09T06:59:48.563Z"
   },
   {
    "duration": 4,
    "start_time": "2022-04-09T07:00:01.294Z"
   },
   {
    "duration": 35,
    "start_time": "2022-04-09T07:00:01.300Z"
   },
   {
    "duration": 4,
    "start_time": "2022-04-09T07:00:12.530Z"
   },
   {
    "duration": 32,
    "start_time": "2022-04-09T07:00:13.363Z"
   },
   {
    "duration": 2,
    "start_time": "2022-04-09T07:46:02.913Z"
   },
   {
    "duration": 15,
    "start_time": "2022-04-09T07:46:03.743Z"
   },
   {
    "duration": 353,
    "start_time": "2022-04-09T07:46:13.336Z"
   },
   {
    "duration": 11,
    "start_time": "2022-04-09T07:46:13.691Z"
   },
   {
    "duration": 4,
    "start_time": "2022-04-09T07:46:13.704Z"
   },
   {
    "duration": 35,
    "start_time": "2022-04-09T07:46:13.710Z"
   },
   {
    "duration": 32,
    "start_time": "2022-04-09T07:46:13.748Z"
   },
   {
    "duration": 8,
    "start_time": "2022-04-09T07:46:13.781Z"
   }
  ],
  "kernelspec": {
   "display_name": "Python 3 (ipykernel)",
   "language": "python",
   "name": "python3"
  },
  "language_info": {
   "codemirror_mode": {
    "name": "ipython",
    "version": 3
   },
   "file_extension": ".py",
   "mimetype": "text/x-python",
   "name": "python",
   "nbconvert_exporter": "python",
   "pygments_lexer": "ipython3",
   "version": "3.9.5"
  },
  "toc": {
   "base_numbering": 1,
   "nav_menu": {},
   "number_sections": true,
   "sideBar": true,
   "skip_h1_title": true,
   "title_cell": "Содержание",
   "title_sidebar": "Contents",
   "toc_cell": true,
   "toc_position": {
    "height": "calc(100% - 180px)",
    "left": "10px",
    "top": "150px",
    "width": "165px"
   },
   "toc_section_display": true,
   "toc_window_display": true
  }
 },
 "nbformat": 4,
 "nbformat_minor": 2
}
