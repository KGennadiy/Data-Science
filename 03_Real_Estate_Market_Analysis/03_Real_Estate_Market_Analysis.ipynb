{
 "cells": [
  {
   "cell_type": "markdown",
   "metadata": {},
   "source": [
    "# Исследование объявлений о продаже квартир\n",
    "\n",
    "В вашем распоряжении данные сервиса Яндекс.Недвижимость — архив объявлений о продаже квартир в Санкт-Петербурге и соседних населённых пунктах за несколько лет. Нужно научиться определять рыночную стоимость объектов недвижимости. Ваша задача — установить параметры. Это позволит построить автоматизированную систему: она отследит аномалии и мошенническую деятельность. \n",
    "\n",
    "По каждой квартире на продажу доступны два вида данных. Первые вписаны пользователем, вторые получены автоматически на основе картографических данных. Например, расстояние до центра, аэропорта, ближайшего парка и водоёма. "
   ]
  },
  {
   "cell_type": "markdown",
   "metadata": {
    "toc": true
   },
   "source": [
    "<h1>Содержание<span class=\"tocSkip\"></span></h1>\n",
    "<div class=\"toc\"><ul class=\"toc-item\"><li><span><a href=\"#Изучение-данных-из-файла\" data-toc-modified-id=\"Изучение-данных-из-файла-1\"><span class=\"toc-item-num\">1&nbsp;&nbsp;</span>Изучение данных из файла</a></span><ul class=\"toc-item\"><li><span><a href=\"#Вывод\" data-toc-modified-id=\"Вывод-1.1\"><span class=\"toc-item-num\">1.1&nbsp;&nbsp;</span>Вывод</a></span></li></ul></li><li><span><a href=\"#Предобработка-данных\" data-toc-modified-id=\"Предобработка-данных-2\"><span class=\"toc-item-num\">2&nbsp;&nbsp;</span>Предобработка данных</a></span></li><li><span><a href=\"#Расчёты-и-добавление-результатов-в-таблицу\" data-toc-modified-id=\"Расчёты-и-добавление-результатов-в-таблицу-3\"><span class=\"toc-item-num\">3&nbsp;&nbsp;</span>Расчёты и добавление результатов в таблицу</a></span><ul class=\"toc-item\"><li><span><a href=\"#Расчет-и-добавление-в-таблицу:-цена-квадратного-метра-(qm_price)\" data-toc-modified-id=\"Расчет-и-добавление-в-таблицу:-цена-квадратного-метра-(qm_price)-3.1\"><span class=\"toc-item-num\">3.1&nbsp;&nbsp;</span>Расчет и добавление в таблицу: цена квадратного метра (qm_price)</a></span></li><li><span><a href=\"#-Расчет-и-добавление-в-таблицу:-день-недели,-месяц-и-год-публикации-объявления\" data-toc-modified-id=\"-Расчет-и-добавление-в-таблицу:-день-недели,-месяц-и-год-публикации-объявления-3.2\"><span class=\"toc-item-num\">3.2&nbsp;&nbsp;</span> Расчет и добавление в таблицу: день недели, месяц и год публикации объявления</a></span></li><li><span><a href=\"#-Расчет-и-добавление-в-таблицу:-этаж-квартиры;-варианты-—-первый,-последний,-другой\" data-toc-modified-id=\"-Расчет-и-добавление-в-таблицу:-этаж-квартиры;-варианты-—-первый,-последний,-другой-3.3\"><span class=\"toc-item-num\">3.3&nbsp;&nbsp;</span> Расчет и добавление в таблицу: этаж квартиры; варианты — первый, последний, другой</a></span></li><li><span><a href=\"#-Расчет-и-добавление-в-таблицу:-соотношение-жилой-и-общей-площади,-а-также-отношение-площади-кухни-к-общей\" data-toc-modified-id=\"-Расчет-и-добавление-в-таблицу:-соотношение-жилой-и-общей-площади,-а-также-отношение-площади-кухни-к-общей-3.4\"><span class=\"toc-item-num\">3.4&nbsp;&nbsp;</span> Расчет и добавление в таблицу: соотношение жилой и общей площади, а также отношение площади кухни к общей</a></span></li></ul></li><li><span><a href=\"#Исследовательский-анализ-данных\" data-toc-modified-id=\"Исследовательский-анализ-данных-4\"><span class=\"toc-item-num\">4&nbsp;&nbsp;</span>Исследовательский анализ данных</a></span><ul class=\"toc-item\"><li><span><a href=\"#Изучение-площади\" data-toc-modified-id=\"Изучение-площади-4.1\"><span class=\"toc-item-num\">4.1&nbsp;&nbsp;</span>Изучение площади</a></span></li><li><span><a href=\"#Изучение-цены\" data-toc-modified-id=\"Изучение-цены-4.2\"><span class=\"toc-item-num\">4.2&nbsp;&nbsp;</span>Изучение цены</a></span></li><li><span><a href=\"#Изучение-числа-комнат\" data-toc-modified-id=\"Изучение-числа-комнат-4.3\"><span class=\"toc-item-num\">4.3&nbsp;&nbsp;</span>Изучение числа комнат</a></span></li><li><span><a href=\"#Изучение-высоты-потолков\" data-toc-modified-id=\"Изучение-высоты-потолков-4.4\"><span class=\"toc-item-num\">4.4&nbsp;&nbsp;</span>Изучение высоты потолков</a></span></li><li><span><a href=\"#Изучите-время-продажи-квартиры.\" data-toc-modified-id=\"Изучите-время-продажи-квартиры.-4.5\"><span class=\"toc-item-num\">4.5&nbsp;&nbsp;</span>Изучите время продажи квартиры.</a></span></li><li><span><a href=\"#Уберите-редкие-и-выбивающиеся-значения\" data-toc-modified-id=\"Уберите-редкие-и-выбивающиеся-значения-4.6\"><span class=\"toc-item-num\">4.6&nbsp;&nbsp;</span>Уберите редкие и выбивающиеся значения</a></span></li><li><span><a href=\"#Какие-факторы-больше-всего-влияют-на-стоимость-квартиры?\" data-toc-modified-id=\"Какие-факторы-больше-всего-влияют-на-стоимость-квартиры?-4.7\"><span class=\"toc-item-num\">4.7&nbsp;&nbsp;</span>Какие факторы больше всего влияют на стоимость квартиры?</a></span></li><li><span><a href=\"#Изучите-предложения-квартир-в-Санкт-Петербурге\" data-toc-modified-id=\"Изучите-предложения-квартир-в-Санкт-Петербурге-4.8\"><span class=\"toc-item-num\">4.8&nbsp;&nbsp;</span>Изучите предложения квартир в Санкт-Петербурге</a></span></li><li><span><a href=\"#Выделите-сегмент-квартир-в-центре\" data-toc-modified-id=\"Выделите-сегмент-квартир-в-центре-4.9\"><span class=\"toc-item-num\">4.9&nbsp;&nbsp;</span>Выделите сегмент квартир в центре</a></span></li></ul></li><li><span><a href=\"#Общий-вывод\" data-toc-modified-id=\"Общий-вывод-5\"><span class=\"toc-item-num\">5&nbsp;&nbsp;</span>Общий вывод</a></span></li><li><span><a href=\"#Чек-лист-готовности-проекта\" data-toc-modified-id=\"Чек-лист-готовности-проекта-6\"><span class=\"toc-item-num\">6&nbsp;&nbsp;</span>Чек-лист готовности проекта</a></span></li></ul></div>"
   ]
  },
  {
   "cell_type": "markdown",
   "metadata": {},
   "source": [
    "## Изучение данных из файла"
   ]
  },
  {
   "cell_type": "code",
   "execution_count": 1,
   "metadata": {},
   "outputs": [],
   "source": [
    "import pandas as pd\n",
    "df = pd.read_csv('/datasets/real_estate_data.csv',sep='\\t') # открытие файла и устранение склейки данных\n",
    "pd.set_option('display.max_columns',None)#необходимо для отображения всех столбцов (удаление \"...\")"
   ]
  },
  {
   "cell_type": "code",
   "execution_count": 2,
   "metadata": {},
   "outputs": [
    {
     "name": "stdout",
     "output_type": "stream",
     "text": [
      "<class 'pandas.core.frame.DataFrame'>\n",
      "RangeIndex: 23699 entries, 0 to 23698\n",
      "Data columns (total 22 columns):\n",
      " #   Column                Non-Null Count  Dtype  \n",
      "---  ------                --------------  -----  \n",
      " 0   total_images          23699 non-null  int64  \n",
      " 1   last_price            23699 non-null  float64\n",
      " 2   total_area            23699 non-null  float64\n",
      " 3   first_day_exposition  23699 non-null  object \n",
      " 4   rooms                 23699 non-null  int64  \n",
      " 5   ceiling_height        14504 non-null  float64\n",
      " 6   floors_total          23613 non-null  float64\n",
      " 7   living_area           21796 non-null  float64\n",
      " 8   floor                 23699 non-null  int64  \n",
      " 9   is_apartment          2775 non-null   object \n",
      " 10  studio                23699 non-null  bool   \n",
      " 11  open_plan             23699 non-null  bool   \n",
      " 12  kitchen_area          21421 non-null  float64\n",
      " 13  balcony               12180 non-null  float64\n",
      " 14  locality_name         23650 non-null  object \n",
      " 15  airports_nearest      18157 non-null  float64\n",
      " 16  cityCenters_nearest   18180 non-null  float64\n",
      " 17  parks_around3000      18181 non-null  float64\n",
      " 18  parks_nearest         8079 non-null   float64\n",
      " 19  ponds_around3000      18181 non-null  float64\n",
      " 20  ponds_nearest         9110 non-null   float64\n",
      " 21  days_exposition       20518 non-null  float64\n",
      "dtypes: bool(2), float64(14), int64(3), object(3)\n",
      "memory usage: 3.7+ MB\n"
     ]
    },
    {
     "data": {
      "text/plain": [
       "None"
      ]
     },
     "metadata": {},
     "output_type": "display_data"
    },
    {
     "data": {
      "text/html": [
       "<div>\n",
       "<style scoped>\n",
       "    .dataframe tbody tr th:only-of-type {\n",
       "        vertical-align: middle;\n",
       "    }\n",
       "\n",
       "    .dataframe tbody tr th {\n",
       "        vertical-align: top;\n",
       "    }\n",
       "\n",
       "    .dataframe thead th {\n",
       "        text-align: right;\n",
       "    }\n",
       "</style>\n",
       "<table border=\"1\" class=\"dataframe\">\n",
       "  <thead>\n",
       "    <tr style=\"text-align: right;\">\n",
       "      <th></th>\n",
       "      <th>total_images</th>\n",
       "      <th>last_price</th>\n",
       "      <th>total_area</th>\n",
       "      <th>first_day_exposition</th>\n",
       "      <th>rooms</th>\n",
       "      <th>ceiling_height</th>\n",
       "      <th>floors_total</th>\n",
       "      <th>living_area</th>\n",
       "      <th>floor</th>\n",
       "      <th>is_apartment</th>\n",
       "      <th>studio</th>\n",
       "      <th>open_plan</th>\n",
       "      <th>kitchen_area</th>\n",
       "      <th>balcony</th>\n",
       "      <th>locality_name</th>\n",
       "      <th>airports_nearest</th>\n",
       "      <th>cityCenters_nearest</th>\n",
       "      <th>parks_around3000</th>\n",
       "      <th>parks_nearest</th>\n",
       "      <th>ponds_around3000</th>\n",
       "      <th>ponds_nearest</th>\n",
       "      <th>days_exposition</th>\n",
       "    </tr>\n",
       "  </thead>\n",
       "  <tbody>\n",
       "    <tr>\n",
       "      <th>0</th>\n",
       "      <td>20</td>\n",
       "      <td>13000000.0</td>\n",
       "      <td>108.0</td>\n",
       "      <td>2019-03-07T00:00:00</td>\n",
       "      <td>3</td>\n",
       "      <td>2.70</td>\n",
       "      <td>16.0</td>\n",
       "      <td>51.0</td>\n",
       "      <td>8</td>\n",
       "      <td>NaN</td>\n",
       "      <td>False</td>\n",
       "      <td>False</td>\n",
       "      <td>25.0</td>\n",
       "      <td>NaN</td>\n",
       "      <td>Санкт-Петербург</td>\n",
       "      <td>18863.0</td>\n",
       "      <td>16028.0</td>\n",
       "      <td>1.0</td>\n",
       "      <td>482.0</td>\n",
       "      <td>2.0</td>\n",
       "      <td>755.0</td>\n",
       "      <td>NaN</td>\n",
       "    </tr>\n",
       "    <tr>\n",
       "      <th>1</th>\n",
       "      <td>7</td>\n",
       "      <td>3350000.0</td>\n",
       "      <td>40.4</td>\n",
       "      <td>2018-12-04T00:00:00</td>\n",
       "      <td>1</td>\n",
       "      <td>NaN</td>\n",
       "      <td>11.0</td>\n",
       "      <td>18.6</td>\n",
       "      <td>1</td>\n",
       "      <td>NaN</td>\n",
       "      <td>False</td>\n",
       "      <td>False</td>\n",
       "      <td>11.0</td>\n",
       "      <td>2.0</td>\n",
       "      <td>посёлок Шушары</td>\n",
       "      <td>12817.0</td>\n",
       "      <td>18603.0</td>\n",
       "      <td>0.0</td>\n",
       "      <td>NaN</td>\n",
       "      <td>0.0</td>\n",
       "      <td>NaN</td>\n",
       "      <td>81.0</td>\n",
       "    </tr>\n",
       "    <tr>\n",
       "      <th>2</th>\n",
       "      <td>10</td>\n",
       "      <td>5196000.0</td>\n",
       "      <td>56.0</td>\n",
       "      <td>2015-08-20T00:00:00</td>\n",
       "      <td>2</td>\n",
       "      <td>NaN</td>\n",
       "      <td>5.0</td>\n",
       "      <td>34.3</td>\n",
       "      <td>4</td>\n",
       "      <td>NaN</td>\n",
       "      <td>False</td>\n",
       "      <td>False</td>\n",
       "      <td>8.3</td>\n",
       "      <td>0.0</td>\n",
       "      <td>Санкт-Петербург</td>\n",
       "      <td>21741.0</td>\n",
       "      <td>13933.0</td>\n",
       "      <td>1.0</td>\n",
       "      <td>90.0</td>\n",
       "      <td>2.0</td>\n",
       "      <td>574.0</td>\n",
       "      <td>558.0</td>\n",
       "    </tr>\n",
       "    <tr>\n",
       "      <th>3</th>\n",
       "      <td>0</td>\n",
       "      <td>64900000.0</td>\n",
       "      <td>159.0</td>\n",
       "      <td>2015-07-24T00:00:00</td>\n",
       "      <td>3</td>\n",
       "      <td>NaN</td>\n",
       "      <td>14.0</td>\n",
       "      <td>NaN</td>\n",
       "      <td>9</td>\n",
       "      <td>NaN</td>\n",
       "      <td>False</td>\n",
       "      <td>False</td>\n",
       "      <td>NaN</td>\n",
       "      <td>0.0</td>\n",
       "      <td>Санкт-Петербург</td>\n",
       "      <td>28098.0</td>\n",
       "      <td>6800.0</td>\n",
       "      <td>2.0</td>\n",
       "      <td>84.0</td>\n",
       "      <td>3.0</td>\n",
       "      <td>234.0</td>\n",
       "      <td>424.0</td>\n",
       "    </tr>\n",
       "    <tr>\n",
       "      <th>4</th>\n",
       "      <td>2</td>\n",
       "      <td>10000000.0</td>\n",
       "      <td>100.0</td>\n",
       "      <td>2018-06-19T00:00:00</td>\n",
       "      <td>2</td>\n",
       "      <td>3.03</td>\n",
       "      <td>14.0</td>\n",
       "      <td>32.0</td>\n",
       "      <td>13</td>\n",
       "      <td>NaN</td>\n",
       "      <td>False</td>\n",
       "      <td>False</td>\n",
       "      <td>41.0</td>\n",
       "      <td>NaN</td>\n",
       "      <td>Санкт-Петербург</td>\n",
       "      <td>31856.0</td>\n",
       "      <td>8098.0</td>\n",
       "      <td>2.0</td>\n",
       "      <td>112.0</td>\n",
       "      <td>1.0</td>\n",
       "      <td>48.0</td>\n",
       "      <td>121.0</td>\n",
       "    </tr>\n",
       "  </tbody>\n",
       "</table>\n",
       "</div>"
      ],
      "text/plain": [
       "   total_images  last_price  total_area first_day_exposition  rooms  \\\n",
       "0            20  13000000.0       108.0  2019-03-07T00:00:00      3   \n",
       "1             7   3350000.0        40.4  2018-12-04T00:00:00      1   \n",
       "2            10   5196000.0        56.0  2015-08-20T00:00:00      2   \n",
       "3             0  64900000.0       159.0  2015-07-24T00:00:00      3   \n",
       "4             2  10000000.0       100.0  2018-06-19T00:00:00      2   \n",
       "\n",
       "   ceiling_height  floors_total  living_area  floor is_apartment  studio  \\\n",
       "0            2.70          16.0         51.0      8          NaN   False   \n",
       "1             NaN          11.0         18.6      1          NaN   False   \n",
       "2             NaN           5.0         34.3      4          NaN   False   \n",
       "3             NaN          14.0          NaN      9          NaN   False   \n",
       "4            3.03          14.0         32.0     13          NaN   False   \n",
       "\n",
       "   open_plan  kitchen_area  balcony    locality_name  airports_nearest  \\\n",
       "0      False          25.0      NaN  Санкт-Петербург           18863.0   \n",
       "1      False          11.0      2.0   посёлок Шушары           12817.0   \n",
       "2      False           8.3      0.0  Санкт-Петербург           21741.0   \n",
       "3      False           NaN      0.0  Санкт-Петербург           28098.0   \n",
       "4      False          41.0      NaN  Санкт-Петербург           31856.0   \n",
       "\n",
       "   cityCenters_nearest  parks_around3000  parks_nearest  ponds_around3000  \\\n",
       "0              16028.0               1.0          482.0               2.0   \n",
       "1              18603.0               0.0            NaN               0.0   \n",
       "2              13933.0               1.0           90.0               2.0   \n",
       "3               6800.0               2.0           84.0               3.0   \n",
       "4               8098.0               2.0          112.0               1.0   \n",
       "\n",
       "   ponds_nearest  days_exposition  \n",
       "0          755.0              NaN  \n",
       "1            NaN             81.0  \n",
       "2          574.0            558.0  \n",
       "3          234.0            424.0  \n",
       "4           48.0            121.0  "
      ]
     },
     "metadata": {},
     "output_type": "display_data"
    },
    {
     "data": {
      "text/html": [
       "<div>\n",
       "<style scoped>\n",
       "    .dataframe tbody tr th:only-of-type {\n",
       "        vertical-align: middle;\n",
       "    }\n",
       "\n",
       "    .dataframe tbody tr th {\n",
       "        vertical-align: top;\n",
       "    }\n",
       "\n",
       "    .dataframe thead th {\n",
       "        text-align: right;\n",
       "    }\n",
       "</style>\n",
       "<table border=\"1\" class=\"dataframe\">\n",
       "  <thead>\n",
       "    <tr style=\"text-align: right;\">\n",
       "      <th></th>\n",
       "      <th>total_images</th>\n",
       "      <th>last_price</th>\n",
       "      <th>total_area</th>\n",
       "      <th>first_day_exposition</th>\n",
       "      <th>rooms</th>\n",
       "      <th>ceiling_height</th>\n",
       "      <th>floors_total</th>\n",
       "      <th>living_area</th>\n",
       "      <th>floor</th>\n",
       "      <th>is_apartment</th>\n",
       "      <th>studio</th>\n",
       "      <th>open_plan</th>\n",
       "      <th>kitchen_area</th>\n",
       "      <th>balcony</th>\n",
       "      <th>locality_name</th>\n",
       "      <th>airports_nearest</th>\n",
       "      <th>cityCenters_nearest</th>\n",
       "      <th>parks_around3000</th>\n",
       "      <th>parks_nearest</th>\n",
       "      <th>ponds_around3000</th>\n",
       "      <th>ponds_nearest</th>\n",
       "      <th>days_exposition</th>\n",
       "    </tr>\n",
       "  </thead>\n",
       "  <tbody>\n",
       "    <tr>\n",
       "      <th>0</th>\n",
       "      <td>20</td>\n",
       "      <td>13000000.0</td>\n",
       "      <td>108.00</td>\n",
       "      <td>2019-03-07T00:00:00</td>\n",
       "      <td>3</td>\n",
       "      <td>2.70</td>\n",
       "      <td>16.0</td>\n",
       "      <td>51.00</td>\n",
       "      <td>8</td>\n",
       "      <td>NaN</td>\n",
       "      <td>False</td>\n",
       "      <td>False</td>\n",
       "      <td>25.00</td>\n",
       "      <td>NaN</td>\n",
       "      <td>Санкт-Петербург</td>\n",
       "      <td>18863.0</td>\n",
       "      <td>16028.0</td>\n",
       "      <td>1.0</td>\n",
       "      <td>482.0</td>\n",
       "      <td>2.0</td>\n",
       "      <td>755.0</td>\n",
       "      <td>NaN</td>\n",
       "    </tr>\n",
       "    <tr>\n",
       "      <th>1</th>\n",
       "      <td>7</td>\n",
       "      <td>3350000.0</td>\n",
       "      <td>40.40</td>\n",
       "      <td>2018-12-04T00:00:00</td>\n",
       "      <td>1</td>\n",
       "      <td>NaN</td>\n",
       "      <td>11.0</td>\n",
       "      <td>18.60</td>\n",
       "      <td>1</td>\n",
       "      <td>NaN</td>\n",
       "      <td>False</td>\n",
       "      <td>False</td>\n",
       "      <td>11.00</td>\n",
       "      <td>2.0</td>\n",
       "      <td>посёлок Шушары</td>\n",
       "      <td>12817.0</td>\n",
       "      <td>18603.0</td>\n",
       "      <td>0.0</td>\n",
       "      <td>NaN</td>\n",
       "      <td>0.0</td>\n",
       "      <td>NaN</td>\n",
       "      <td>81.0</td>\n",
       "    </tr>\n",
       "    <tr>\n",
       "      <th>2</th>\n",
       "      <td>10</td>\n",
       "      <td>5196000.0</td>\n",
       "      <td>56.00</td>\n",
       "      <td>2015-08-20T00:00:00</td>\n",
       "      <td>2</td>\n",
       "      <td>NaN</td>\n",
       "      <td>5.0</td>\n",
       "      <td>34.30</td>\n",
       "      <td>4</td>\n",
       "      <td>NaN</td>\n",
       "      <td>False</td>\n",
       "      <td>False</td>\n",
       "      <td>8.30</td>\n",
       "      <td>0.0</td>\n",
       "      <td>Санкт-Петербург</td>\n",
       "      <td>21741.0</td>\n",
       "      <td>13933.0</td>\n",
       "      <td>1.0</td>\n",
       "      <td>90.0</td>\n",
       "      <td>2.0</td>\n",
       "      <td>574.0</td>\n",
       "      <td>558.0</td>\n",
       "    </tr>\n",
       "    <tr>\n",
       "      <th>3</th>\n",
       "      <td>0</td>\n",
       "      <td>64900000.0</td>\n",
       "      <td>159.00</td>\n",
       "      <td>2015-07-24T00:00:00</td>\n",
       "      <td>3</td>\n",
       "      <td>NaN</td>\n",
       "      <td>14.0</td>\n",
       "      <td>NaN</td>\n",
       "      <td>9</td>\n",
       "      <td>NaN</td>\n",
       "      <td>False</td>\n",
       "      <td>False</td>\n",
       "      <td>NaN</td>\n",
       "      <td>0.0</td>\n",
       "      <td>Санкт-Петербург</td>\n",
       "      <td>28098.0</td>\n",
       "      <td>6800.0</td>\n",
       "      <td>2.0</td>\n",
       "      <td>84.0</td>\n",
       "      <td>3.0</td>\n",
       "      <td>234.0</td>\n",
       "      <td>424.0</td>\n",
       "    </tr>\n",
       "    <tr>\n",
       "      <th>4</th>\n",
       "      <td>2</td>\n",
       "      <td>10000000.0</td>\n",
       "      <td>100.00</td>\n",
       "      <td>2018-06-19T00:00:00</td>\n",
       "      <td>2</td>\n",
       "      <td>3.03</td>\n",
       "      <td>14.0</td>\n",
       "      <td>32.00</td>\n",
       "      <td>13</td>\n",
       "      <td>NaN</td>\n",
       "      <td>False</td>\n",
       "      <td>False</td>\n",
       "      <td>41.00</td>\n",
       "      <td>NaN</td>\n",
       "      <td>Санкт-Петербург</td>\n",
       "      <td>31856.0</td>\n",
       "      <td>8098.0</td>\n",
       "      <td>2.0</td>\n",
       "      <td>112.0</td>\n",
       "      <td>1.0</td>\n",
       "      <td>48.0</td>\n",
       "      <td>121.0</td>\n",
       "    </tr>\n",
       "    <tr>\n",
       "      <th>5</th>\n",
       "      <td>10</td>\n",
       "      <td>2890000.0</td>\n",
       "      <td>30.40</td>\n",
       "      <td>2018-09-10T00:00:00</td>\n",
       "      <td>1</td>\n",
       "      <td>NaN</td>\n",
       "      <td>12.0</td>\n",
       "      <td>14.40</td>\n",
       "      <td>5</td>\n",
       "      <td>NaN</td>\n",
       "      <td>False</td>\n",
       "      <td>False</td>\n",
       "      <td>9.10</td>\n",
       "      <td>NaN</td>\n",
       "      <td>городской посёлок Янино-1</td>\n",
       "      <td>NaN</td>\n",
       "      <td>NaN</td>\n",
       "      <td>NaN</td>\n",
       "      <td>NaN</td>\n",
       "      <td>NaN</td>\n",
       "      <td>NaN</td>\n",
       "      <td>55.0</td>\n",
       "    </tr>\n",
       "    <tr>\n",
       "      <th>6</th>\n",
       "      <td>6</td>\n",
       "      <td>3700000.0</td>\n",
       "      <td>37.30</td>\n",
       "      <td>2017-11-02T00:00:00</td>\n",
       "      <td>1</td>\n",
       "      <td>NaN</td>\n",
       "      <td>26.0</td>\n",
       "      <td>10.60</td>\n",
       "      <td>6</td>\n",
       "      <td>NaN</td>\n",
       "      <td>False</td>\n",
       "      <td>False</td>\n",
       "      <td>14.40</td>\n",
       "      <td>1.0</td>\n",
       "      <td>посёлок Парголово</td>\n",
       "      <td>52996.0</td>\n",
       "      <td>19143.0</td>\n",
       "      <td>0.0</td>\n",
       "      <td>NaN</td>\n",
       "      <td>0.0</td>\n",
       "      <td>NaN</td>\n",
       "      <td>155.0</td>\n",
       "    </tr>\n",
       "    <tr>\n",
       "      <th>7</th>\n",
       "      <td>5</td>\n",
       "      <td>7915000.0</td>\n",
       "      <td>71.60</td>\n",
       "      <td>2019-04-18T00:00:00</td>\n",
       "      <td>2</td>\n",
       "      <td>NaN</td>\n",
       "      <td>24.0</td>\n",
       "      <td>NaN</td>\n",
       "      <td>22</td>\n",
       "      <td>NaN</td>\n",
       "      <td>False</td>\n",
       "      <td>False</td>\n",
       "      <td>18.90</td>\n",
       "      <td>2.0</td>\n",
       "      <td>Санкт-Петербург</td>\n",
       "      <td>23982.0</td>\n",
       "      <td>11634.0</td>\n",
       "      <td>0.0</td>\n",
       "      <td>NaN</td>\n",
       "      <td>0.0</td>\n",
       "      <td>NaN</td>\n",
       "      <td>NaN</td>\n",
       "    </tr>\n",
       "    <tr>\n",
       "      <th>8</th>\n",
       "      <td>20</td>\n",
       "      <td>2900000.0</td>\n",
       "      <td>33.16</td>\n",
       "      <td>2018-05-23T00:00:00</td>\n",
       "      <td>1</td>\n",
       "      <td>NaN</td>\n",
       "      <td>27.0</td>\n",
       "      <td>15.43</td>\n",
       "      <td>26</td>\n",
       "      <td>NaN</td>\n",
       "      <td>False</td>\n",
       "      <td>False</td>\n",
       "      <td>8.81</td>\n",
       "      <td>NaN</td>\n",
       "      <td>посёлок Мурино</td>\n",
       "      <td>NaN</td>\n",
       "      <td>NaN</td>\n",
       "      <td>NaN</td>\n",
       "      <td>NaN</td>\n",
       "      <td>NaN</td>\n",
       "      <td>NaN</td>\n",
       "      <td>189.0</td>\n",
       "    </tr>\n",
       "    <tr>\n",
       "      <th>9</th>\n",
       "      <td>18</td>\n",
       "      <td>5400000.0</td>\n",
       "      <td>61.00</td>\n",
       "      <td>2017-02-26T00:00:00</td>\n",
       "      <td>3</td>\n",
       "      <td>2.50</td>\n",
       "      <td>9.0</td>\n",
       "      <td>43.60</td>\n",
       "      <td>7</td>\n",
       "      <td>NaN</td>\n",
       "      <td>False</td>\n",
       "      <td>False</td>\n",
       "      <td>6.50</td>\n",
       "      <td>2.0</td>\n",
       "      <td>Санкт-Петербург</td>\n",
       "      <td>50898.0</td>\n",
       "      <td>15008.0</td>\n",
       "      <td>0.0</td>\n",
       "      <td>NaN</td>\n",
       "      <td>0.0</td>\n",
       "      <td>NaN</td>\n",
       "      <td>289.0</td>\n",
       "    </tr>\n",
       "  </tbody>\n",
       "</table>\n",
       "</div>"
      ],
      "text/plain": [
       "   total_images  last_price  total_area first_day_exposition  rooms  \\\n",
       "0            20  13000000.0      108.00  2019-03-07T00:00:00      3   \n",
       "1             7   3350000.0       40.40  2018-12-04T00:00:00      1   \n",
       "2            10   5196000.0       56.00  2015-08-20T00:00:00      2   \n",
       "3             0  64900000.0      159.00  2015-07-24T00:00:00      3   \n",
       "4             2  10000000.0      100.00  2018-06-19T00:00:00      2   \n",
       "5            10   2890000.0       30.40  2018-09-10T00:00:00      1   \n",
       "6             6   3700000.0       37.30  2017-11-02T00:00:00      1   \n",
       "7             5   7915000.0       71.60  2019-04-18T00:00:00      2   \n",
       "8            20   2900000.0       33.16  2018-05-23T00:00:00      1   \n",
       "9            18   5400000.0       61.00  2017-02-26T00:00:00      3   \n",
       "\n",
       "   ceiling_height  floors_total  living_area  floor is_apartment  studio  \\\n",
       "0            2.70          16.0        51.00      8          NaN   False   \n",
       "1             NaN          11.0        18.60      1          NaN   False   \n",
       "2             NaN           5.0        34.30      4          NaN   False   \n",
       "3             NaN          14.0          NaN      9          NaN   False   \n",
       "4            3.03          14.0        32.00     13          NaN   False   \n",
       "5             NaN          12.0        14.40      5          NaN   False   \n",
       "6             NaN          26.0        10.60      6          NaN   False   \n",
       "7             NaN          24.0          NaN     22          NaN   False   \n",
       "8             NaN          27.0        15.43     26          NaN   False   \n",
       "9            2.50           9.0        43.60      7          NaN   False   \n",
       "\n",
       "   open_plan  kitchen_area  balcony              locality_name  \\\n",
       "0      False         25.00      NaN            Санкт-Петербург   \n",
       "1      False         11.00      2.0             посёлок Шушары   \n",
       "2      False          8.30      0.0            Санкт-Петербург   \n",
       "3      False           NaN      0.0            Санкт-Петербург   \n",
       "4      False         41.00      NaN            Санкт-Петербург   \n",
       "5      False          9.10      NaN  городской посёлок Янино-1   \n",
       "6      False         14.40      1.0          посёлок Парголово   \n",
       "7      False         18.90      2.0            Санкт-Петербург   \n",
       "8      False          8.81      NaN             посёлок Мурино   \n",
       "9      False          6.50      2.0            Санкт-Петербург   \n",
       "\n",
       "   airports_nearest  cityCenters_nearest  parks_around3000  parks_nearest  \\\n",
       "0           18863.0              16028.0               1.0          482.0   \n",
       "1           12817.0              18603.0               0.0            NaN   \n",
       "2           21741.0              13933.0               1.0           90.0   \n",
       "3           28098.0               6800.0               2.0           84.0   \n",
       "4           31856.0               8098.0               2.0          112.0   \n",
       "5               NaN                  NaN               NaN            NaN   \n",
       "6           52996.0              19143.0               0.0            NaN   \n",
       "7           23982.0              11634.0               0.0            NaN   \n",
       "8               NaN                  NaN               NaN            NaN   \n",
       "9           50898.0              15008.0               0.0            NaN   \n",
       "\n",
       "   ponds_around3000  ponds_nearest  days_exposition  \n",
       "0               2.0          755.0              NaN  \n",
       "1               0.0            NaN             81.0  \n",
       "2               2.0          574.0            558.0  \n",
       "3               3.0          234.0            424.0  \n",
       "4               1.0           48.0            121.0  \n",
       "5               NaN            NaN             55.0  \n",
       "6               0.0            NaN            155.0  \n",
       "7               0.0            NaN              NaN  \n",
       "8               NaN            NaN            189.0  \n",
       "9               0.0            NaN            289.0  "
      ]
     },
     "metadata": {},
     "output_type": "display_data"
    }
   ],
   "source": [
    "display(df.info())\n",
    "display(df.head())\n",
    "display(df[df.isna().any(axis=1)].head(10)) #на начальном этапе - поиск пустых значений для анализа"
   ]
  },
  {
   "cell_type": "markdown",
   "metadata": {},
   "source": [
    "### Вывод"
   ]
  },
  {
   "cell_type": "markdown",
   "metadata": {},
   "source": [
    "В результате анализа полученного массива информации выявлены следующие явные проблемы:\n",
    " - «склейка» данных;\n",
    " - некорректное название столбца «cityCenters_nearest»( с точки зрения «змеиного регистра»;\n",
    " - «first_day_exposition» (дата публикации) имеет тип object;\n",
    " - «last_price» (стоимость) имеет тип float;\n",
    " - «floors_total» (общее количество этажей в доме) имеет тип float;\n",
    " - «is_apartment» (апартаменты (булев тип)) имеет тип object;\n",
    " - «balcony» (число балконов ) имеет тип float\n",
    " - «parks_around3000» (число парков в радиусе 3 км) имеет тип float\n",
    " - «ponds_around3000» (число водоёмов в радиусе 3 км) имеет тип float\n",
    " - «days_exposition» (сколько дней было размещено объявление (от публикации до снятия)) имеет тип float\n",
    "\n",
    "Также есть явные проблемы со значениями данных в столбцах:\n",
    " - «ceiling_height»: в некоторых случаях значение более 6м;\n",
    " - «floors_total»: отсутствие значений - данная проблема методом подстановки значений не может быть устранена, т.к. на косвенно можно предположить, но не утверждать о корректном значении (например этаж = максимальной этажности дома и т.п.)\n",
    " - «is_apartment»: принимает значения «nan», «False» и «True»;\n",
    " - «locality_name»: имеет в названии варианты написания «посёлок» и «поселок»;\n",
    " - «balcony», «parks_around3000» «ponds_around3000», «days_exposition»: принимают значения «nan»\n"
   ]
  },
  {
   "cell_type": "markdown",
   "metadata": {},
   "source": [
    "## Предобработка данных"
   ]
  },
  {
   "cell_type": "code",
   "execution_count": 3,
   "metadata": {},
   "outputs": [],
   "source": [
    "# некорректное название столбца «cityCenters_nearest»( с точки зрения «змеиного регистра»)\n",
    "df.rename(columns={'cityCenters_nearest': 'city_сenters_nearest'}, inplace=True) # переименование столбца\n",
    "\n",
    "#«first_day_exposition» (дата публикации) имеет тип object\n",
    "df['first_day_exposition'] = pd.to_datetime(df['first_day_exposition'])\n",
    "\n",
    "\n",
    "# «is_apartment»: принимает значения «nan», «False» и «True» - изменяем значение nan на False\n",
    "# «is_apartment» (апартаменты (булев тип)) имеет тип object - ПРИ ИЗМЕНЕНИИ ЗНАЧЕНИЯ АВТОМАТИЧЕСКИ МЕНЯЕТ НА ТИП BOOL\n",
    "# положим, что если не указано, значит апартаментами не является\n",
    "df['is_apartment'] = df['is_apartment'].fillna(False)\n",
    "\n",
    "\n",
    "# «last_price» (стоимость) имеет тип float\n",
    "df['last_price'] = df['last_price'].fillna(0).abs().astype('Int64')\n",
    "\n",
    "\n",
    "#«floors_total» (общее количество этажей в доме) имеет тип float\n",
    "# заменили тип данных, т.к. количество этажей не может быть дробным числом\n",
    "df['floors_total'] = df['floors_total'].abs().astype('Int64')\n",
    "\n",
    "# «balcony» (число балконов) имеет тип float\n",
    "# «balcony»: принимает значения «nan» и целые значения - изменяем значение nan на \"0\"\n",
    "# положим, что если не указано, количество балконов \"0\" и значение не может быть дробным\n",
    "df['balcony'] = df['balcony'].fillna(0).abs().astype('Int64')\n",
    "\n",
    "#«parks_around3000» (число парков в радиусе 3 км) имеет тип float - обрабатываем аналогично предыдущему\n",
    "#«ponds_around3000» (число водоёмов в радиусе 3 км) имеет тип float - обрабатываем аналогично предыдущему\n",
    "df['parks_around3000'] = df['parks_around3000'].fillna(0).abs().astype('Int64')\n",
    "df['ponds_around3000'] = df['ponds_around3000'].fillna(0).abs().astype('Int64')\n",
    "\n",
    "#«locality_name»: имеет в названии варианты написания «посёлок» и «поселок»\n",
    "df['locality_name']= df['locality_name'].replace(to_replace='посёлок', value='поселок', regex=True)"
   ]
  },
  {
   "cell_type": "code",
   "execution_count": 4,
   "metadata": {},
   "outputs": [
    {
     "name": "stdout",
     "output_type": "stream",
     "text": [
      "Пропусков в 2014 году: 18\n",
      "Пропусков в 2015 году: 70\n",
      "Пропусков в 2016 году: 67\n",
      "Пропусков в 2017 году: 271\n",
      "Пропусков в 2018 году: 959\n",
      "Пропусков в 2019 году: 1796\n"
     ]
    }
   ],
   "source": [
    "#«days_exposition» (сколько дней было размещено объявление (от публикации до снятия)) \n",
    "#       имеет тип float - обрабатываем аналогично предыдущему\n",
    "# Округлили, т.к. значения после занятой для данного параметра несущественны\n",
    "df['days_exposition'] = df['days_exposition'].fillna(0).abs().round().astype('Int64')\n",
    "df['year'] = df['first_day_exposition'].dt.year\n",
    "print('Пропусков в 2014 году:', df[(df['days_exposition'] == 0)&(df['year'] == 2014)]['days_exposition'].count())\n",
    "print('Пропусков в 2015 году:', df[(df['days_exposition'] == 0)&(df['year'] == 2015)]['days_exposition'].count())\n",
    "print('Пропусков в 2016 году:', df[(df['days_exposition'] == 0)&(df['year'] == 2016)]['days_exposition'].count())\n",
    "print('Пропусков в 2017 году:', df[(df['days_exposition'] == 0)&(df['year'] == 2017)]['days_exposition'].count())\n",
    "print('Пропусков в 2018 году:', df[(df['days_exposition'] == 0)&(df['year'] == 2018)]['days_exposition'].count())\n",
    "print('Пропусков в 2019 году:', df[(df['days_exposition'] == 0)&(df['year'] == 2019)]['days_exposition'].count())\n"
   ]
  },
  {
   "cell_type": "markdown",
   "metadata": {},
   "source": [
    "## Расчёты и добавление результатов в таблицу"
   ]
  },
  {
   "cell_type": "markdown",
   "metadata": {},
   "source": [
    "<h3>Расчет и добавление в таблицу: цена квадратного метра (qm_price)"
   ]
  },
  {
   "cell_type": "code",
   "execution_count": 5,
   "metadata": {},
   "outputs": [
    {
     "data": {
      "text/html": [
       "<div>\n",
       "<style scoped>\n",
       "    .dataframe tbody tr th:only-of-type {\n",
       "        vertical-align: middle;\n",
       "    }\n",
       "\n",
       "    .dataframe tbody tr th {\n",
       "        vertical-align: top;\n",
       "    }\n",
       "\n",
       "    .dataframe thead th {\n",
       "        text-align: right;\n",
       "    }\n",
       "</style>\n",
       "<table border=\"1\" class=\"dataframe\">\n",
       "  <thead>\n",
       "    <tr style=\"text-align: right;\">\n",
       "      <th></th>\n",
       "      <th>total_images</th>\n",
       "      <th>last_price</th>\n",
       "      <th>total_area</th>\n",
       "      <th>first_day_exposition</th>\n",
       "      <th>rooms</th>\n",
       "      <th>ceiling_height</th>\n",
       "      <th>floors_total</th>\n",
       "      <th>living_area</th>\n",
       "      <th>floor</th>\n",
       "      <th>is_apartment</th>\n",
       "      <th>studio</th>\n",
       "      <th>open_plan</th>\n",
       "      <th>kitchen_area</th>\n",
       "      <th>balcony</th>\n",
       "      <th>locality_name</th>\n",
       "      <th>airports_nearest</th>\n",
       "      <th>city_сenters_nearest</th>\n",
       "      <th>parks_around3000</th>\n",
       "      <th>parks_nearest</th>\n",
       "      <th>ponds_around3000</th>\n",
       "      <th>ponds_nearest</th>\n",
       "      <th>days_exposition</th>\n",
       "      <th>year</th>\n",
       "      <th>qm_price</th>\n",
       "    </tr>\n",
       "  </thead>\n",
       "  <tbody>\n",
       "    <tr>\n",
       "      <th>0</th>\n",
       "      <td>20</td>\n",
       "      <td>13000000</td>\n",
       "      <td>108.0</td>\n",
       "      <td>2019-03-07</td>\n",
       "      <td>3</td>\n",
       "      <td>2.70</td>\n",
       "      <td>16</td>\n",
       "      <td>51.0</td>\n",
       "      <td>8</td>\n",
       "      <td>False</td>\n",
       "      <td>False</td>\n",
       "      <td>False</td>\n",
       "      <td>25.0</td>\n",
       "      <td>0</td>\n",
       "      <td>Санкт-Петербург</td>\n",
       "      <td>18863.0</td>\n",
       "      <td>16028.0</td>\n",
       "      <td>1</td>\n",
       "      <td>482.0</td>\n",
       "      <td>2</td>\n",
       "      <td>755.0</td>\n",
       "      <td>0</td>\n",
       "      <td>2019</td>\n",
       "      <td>120370</td>\n",
       "    </tr>\n",
       "    <tr>\n",
       "      <th>1</th>\n",
       "      <td>7</td>\n",
       "      <td>3350000</td>\n",
       "      <td>40.4</td>\n",
       "      <td>2018-12-04</td>\n",
       "      <td>1</td>\n",
       "      <td>NaN</td>\n",
       "      <td>11</td>\n",
       "      <td>18.6</td>\n",
       "      <td>1</td>\n",
       "      <td>False</td>\n",
       "      <td>False</td>\n",
       "      <td>False</td>\n",
       "      <td>11.0</td>\n",
       "      <td>2</td>\n",
       "      <td>поселок Шушары</td>\n",
       "      <td>12817.0</td>\n",
       "      <td>18603.0</td>\n",
       "      <td>0</td>\n",
       "      <td>NaN</td>\n",
       "      <td>0</td>\n",
       "      <td>NaN</td>\n",
       "      <td>81</td>\n",
       "      <td>2018</td>\n",
       "      <td>82920</td>\n",
       "    </tr>\n",
       "    <tr>\n",
       "      <th>2</th>\n",
       "      <td>10</td>\n",
       "      <td>5196000</td>\n",
       "      <td>56.0</td>\n",
       "      <td>2015-08-20</td>\n",
       "      <td>2</td>\n",
       "      <td>NaN</td>\n",
       "      <td>5</td>\n",
       "      <td>34.3</td>\n",
       "      <td>4</td>\n",
       "      <td>False</td>\n",
       "      <td>False</td>\n",
       "      <td>False</td>\n",
       "      <td>8.3</td>\n",
       "      <td>0</td>\n",
       "      <td>Санкт-Петербург</td>\n",
       "      <td>21741.0</td>\n",
       "      <td>13933.0</td>\n",
       "      <td>1</td>\n",
       "      <td>90.0</td>\n",
       "      <td>2</td>\n",
       "      <td>574.0</td>\n",
       "      <td>558</td>\n",
       "      <td>2015</td>\n",
       "      <td>92785</td>\n",
       "    </tr>\n",
       "    <tr>\n",
       "      <th>3</th>\n",
       "      <td>0</td>\n",
       "      <td>64900000</td>\n",
       "      <td>159.0</td>\n",
       "      <td>2015-07-24</td>\n",
       "      <td>3</td>\n",
       "      <td>NaN</td>\n",
       "      <td>14</td>\n",
       "      <td>NaN</td>\n",
       "      <td>9</td>\n",
       "      <td>False</td>\n",
       "      <td>False</td>\n",
       "      <td>False</td>\n",
       "      <td>NaN</td>\n",
       "      <td>0</td>\n",
       "      <td>Санкт-Петербург</td>\n",
       "      <td>28098.0</td>\n",
       "      <td>6800.0</td>\n",
       "      <td>2</td>\n",
       "      <td>84.0</td>\n",
       "      <td>3</td>\n",
       "      <td>234.0</td>\n",
       "      <td>424</td>\n",
       "      <td>2015</td>\n",
       "      <td>408176</td>\n",
       "    </tr>\n",
       "    <tr>\n",
       "      <th>4</th>\n",
       "      <td>2</td>\n",
       "      <td>10000000</td>\n",
       "      <td>100.0</td>\n",
       "      <td>2018-06-19</td>\n",
       "      <td>2</td>\n",
       "      <td>3.03</td>\n",
       "      <td>14</td>\n",
       "      <td>32.0</td>\n",
       "      <td>13</td>\n",
       "      <td>False</td>\n",
       "      <td>False</td>\n",
       "      <td>False</td>\n",
       "      <td>41.0</td>\n",
       "      <td>0</td>\n",
       "      <td>Санкт-Петербург</td>\n",
       "      <td>31856.0</td>\n",
       "      <td>8098.0</td>\n",
       "      <td>2</td>\n",
       "      <td>112.0</td>\n",
       "      <td>1</td>\n",
       "      <td>48.0</td>\n",
       "      <td>121</td>\n",
       "      <td>2018</td>\n",
       "      <td>100000</td>\n",
       "    </tr>\n",
       "  </tbody>\n",
       "</table>\n",
       "</div>"
      ],
      "text/plain": [
       "   total_images  last_price  total_area first_day_exposition  rooms  \\\n",
       "0            20    13000000       108.0           2019-03-07      3   \n",
       "1             7     3350000        40.4           2018-12-04      1   \n",
       "2            10     5196000        56.0           2015-08-20      2   \n",
       "3             0    64900000       159.0           2015-07-24      3   \n",
       "4             2    10000000       100.0           2018-06-19      2   \n",
       "\n",
       "   ceiling_height  floors_total  living_area  floor  is_apartment  studio  \\\n",
       "0            2.70            16         51.0      8         False   False   \n",
       "1             NaN            11         18.6      1         False   False   \n",
       "2             NaN             5         34.3      4         False   False   \n",
       "3             NaN            14          NaN      9         False   False   \n",
       "4            3.03            14         32.0     13         False   False   \n",
       "\n",
       "   open_plan  kitchen_area  balcony    locality_name  airports_nearest  \\\n",
       "0      False          25.0        0  Санкт-Петербург           18863.0   \n",
       "1      False          11.0        2   поселок Шушары           12817.0   \n",
       "2      False           8.3        0  Санкт-Петербург           21741.0   \n",
       "3      False           NaN        0  Санкт-Петербург           28098.0   \n",
       "4      False          41.0        0  Санкт-Петербург           31856.0   \n",
       "\n",
       "   city_сenters_nearest  parks_around3000  parks_nearest  ponds_around3000  \\\n",
       "0               16028.0                 1          482.0                 2   \n",
       "1               18603.0                 0            NaN                 0   \n",
       "2               13933.0                 1           90.0                 2   \n",
       "3                6800.0                 2           84.0                 3   \n",
       "4                8098.0                 2          112.0                 1   \n",
       "\n",
       "   ponds_nearest  days_exposition  year  qm_price  \n",
       "0          755.0                0  2019    120370  \n",
       "1            NaN               81  2018     82920  \n",
       "2          574.0              558  2015     92785  \n",
       "3          234.0              424  2015    408176  \n",
       "4           48.0              121  2018    100000  "
      ]
     },
     "metadata": {},
     "output_type": "display_data"
    }
   ],
   "source": [
    "df['qm_price'] = df['last_price']/df['total_area']\n",
    "# Округлили и присвоили тип столбца Целое\n",
    "df['qm_price'] = df['qm_price'].astype('Int64')\n",
    "\n",
    "\n",
    "display(df.head())"
   ]
  },
  {
   "cell_type": "markdown",
   "metadata": {},
   "source": [
    "<h3> Расчет и добавление в таблицу: день недели, месяц и год публикации объявления"
   ]
  },
  {
   "cell_type": "code",
   "execution_count": 6,
   "metadata": {},
   "outputs": [
    {
     "data": {
      "text/html": [
       "<div>\n",
       "<style scoped>\n",
       "    .dataframe tbody tr th:only-of-type {\n",
       "        vertical-align: middle;\n",
       "    }\n",
       "\n",
       "    .dataframe tbody tr th {\n",
       "        vertical-align: top;\n",
       "    }\n",
       "\n",
       "    .dataframe thead th {\n",
       "        text-align: right;\n",
       "    }\n",
       "</style>\n",
       "<table border=\"1\" class=\"dataframe\">\n",
       "  <thead>\n",
       "    <tr style=\"text-align: right;\">\n",
       "      <th></th>\n",
       "      <th>total_images</th>\n",
       "      <th>last_price</th>\n",
       "      <th>total_area</th>\n",
       "      <th>first_day_exposition</th>\n",
       "      <th>rooms</th>\n",
       "      <th>ceiling_height</th>\n",
       "      <th>floors_total</th>\n",
       "      <th>living_area</th>\n",
       "      <th>floor</th>\n",
       "      <th>is_apartment</th>\n",
       "      <th>studio</th>\n",
       "      <th>open_plan</th>\n",
       "      <th>kitchen_area</th>\n",
       "      <th>balcony</th>\n",
       "      <th>locality_name</th>\n",
       "      <th>airports_nearest</th>\n",
       "      <th>city_сenters_nearest</th>\n",
       "      <th>parks_around3000</th>\n",
       "      <th>parks_nearest</th>\n",
       "      <th>ponds_around3000</th>\n",
       "      <th>ponds_nearest</th>\n",
       "      <th>days_exposition</th>\n",
       "      <th>year</th>\n",
       "      <th>qm_price</th>\n",
       "      <th>day_of_week</th>\n",
       "      <th>month</th>\n",
       "    </tr>\n",
       "  </thead>\n",
       "  <tbody>\n",
       "    <tr>\n",
       "      <th>0</th>\n",
       "      <td>20</td>\n",
       "      <td>13000000</td>\n",
       "      <td>108.0</td>\n",
       "      <td>2019-03-07</td>\n",
       "      <td>3</td>\n",
       "      <td>2.70</td>\n",
       "      <td>16</td>\n",
       "      <td>51.0</td>\n",
       "      <td>8</td>\n",
       "      <td>False</td>\n",
       "      <td>False</td>\n",
       "      <td>False</td>\n",
       "      <td>25.0</td>\n",
       "      <td>0</td>\n",
       "      <td>Санкт-Петербург</td>\n",
       "      <td>18863.0</td>\n",
       "      <td>16028.0</td>\n",
       "      <td>1</td>\n",
       "      <td>482.0</td>\n",
       "      <td>2</td>\n",
       "      <td>755.0</td>\n",
       "      <td>0</td>\n",
       "      <td>2019</td>\n",
       "      <td>120370</td>\n",
       "      <td>3</td>\n",
       "      <td>3</td>\n",
       "    </tr>\n",
       "    <tr>\n",
       "      <th>1</th>\n",
       "      <td>7</td>\n",
       "      <td>3350000</td>\n",
       "      <td>40.4</td>\n",
       "      <td>2018-12-04</td>\n",
       "      <td>1</td>\n",
       "      <td>NaN</td>\n",
       "      <td>11</td>\n",
       "      <td>18.6</td>\n",
       "      <td>1</td>\n",
       "      <td>False</td>\n",
       "      <td>False</td>\n",
       "      <td>False</td>\n",
       "      <td>11.0</td>\n",
       "      <td>2</td>\n",
       "      <td>поселок Шушары</td>\n",
       "      <td>12817.0</td>\n",
       "      <td>18603.0</td>\n",
       "      <td>0</td>\n",
       "      <td>NaN</td>\n",
       "      <td>0</td>\n",
       "      <td>NaN</td>\n",
       "      <td>81</td>\n",
       "      <td>2018</td>\n",
       "      <td>82920</td>\n",
       "      <td>1</td>\n",
       "      <td>12</td>\n",
       "    </tr>\n",
       "    <tr>\n",
       "      <th>2</th>\n",
       "      <td>10</td>\n",
       "      <td>5196000</td>\n",
       "      <td>56.0</td>\n",
       "      <td>2015-08-20</td>\n",
       "      <td>2</td>\n",
       "      <td>NaN</td>\n",
       "      <td>5</td>\n",
       "      <td>34.3</td>\n",
       "      <td>4</td>\n",
       "      <td>False</td>\n",
       "      <td>False</td>\n",
       "      <td>False</td>\n",
       "      <td>8.3</td>\n",
       "      <td>0</td>\n",
       "      <td>Санкт-Петербург</td>\n",
       "      <td>21741.0</td>\n",
       "      <td>13933.0</td>\n",
       "      <td>1</td>\n",
       "      <td>90.0</td>\n",
       "      <td>2</td>\n",
       "      <td>574.0</td>\n",
       "      <td>558</td>\n",
       "      <td>2015</td>\n",
       "      <td>92785</td>\n",
       "      <td>3</td>\n",
       "      <td>8</td>\n",
       "    </tr>\n",
       "    <tr>\n",
       "      <th>3</th>\n",
       "      <td>0</td>\n",
       "      <td>64900000</td>\n",
       "      <td>159.0</td>\n",
       "      <td>2015-07-24</td>\n",
       "      <td>3</td>\n",
       "      <td>NaN</td>\n",
       "      <td>14</td>\n",
       "      <td>NaN</td>\n",
       "      <td>9</td>\n",
       "      <td>False</td>\n",
       "      <td>False</td>\n",
       "      <td>False</td>\n",
       "      <td>NaN</td>\n",
       "      <td>0</td>\n",
       "      <td>Санкт-Петербург</td>\n",
       "      <td>28098.0</td>\n",
       "      <td>6800.0</td>\n",
       "      <td>2</td>\n",
       "      <td>84.0</td>\n",
       "      <td>3</td>\n",
       "      <td>234.0</td>\n",
       "      <td>424</td>\n",
       "      <td>2015</td>\n",
       "      <td>408176</td>\n",
       "      <td>4</td>\n",
       "      <td>7</td>\n",
       "    </tr>\n",
       "    <tr>\n",
       "      <th>4</th>\n",
       "      <td>2</td>\n",
       "      <td>10000000</td>\n",
       "      <td>100.0</td>\n",
       "      <td>2018-06-19</td>\n",
       "      <td>2</td>\n",
       "      <td>3.03</td>\n",
       "      <td>14</td>\n",
       "      <td>32.0</td>\n",
       "      <td>13</td>\n",
       "      <td>False</td>\n",
       "      <td>False</td>\n",
       "      <td>False</td>\n",
       "      <td>41.0</td>\n",
       "      <td>0</td>\n",
       "      <td>Санкт-Петербург</td>\n",
       "      <td>31856.0</td>\n",
       "      <td>8098.0</td>\n",
       "      <td>2</td>\n",
       "      <td>112.0</td>\n",
       "      <td>1</td>\n",
       "      <td>48.0</td>\n",
       "      <td>121</td>\n",
       "      <td>2018</td>\n",
       "      <td>100000</td>\n",
       "      <td>1</td>\n",
       "      <td>6</td>\n",
       "    </tr>\n",
       "  </tbody>\n",
       "</table>\n",
       "</div>"
      ],
      "text/plain": [
       "   total_images  last_price  total_area first_day_exposition  rooms  \\\n",
       "0            20    13000000       108.0           2019-03-07      3   \n",
       "1             7     3350000        40.4           2018-12-04      1   \n",
       "2            10     5196000        56.0           2015-08-20      2   \n",
       "3             0    64900000       159.0           2015-07-24      3   \n",
       "4             2    10000000       100.0           2018-06-19      2   \n",
       "\n",
       "   ceiling_height  floors_total  living_area  floor  is_apartment  studio  \\\n",
       "0            2.70            16         51.0      8         False   False   \n",
       "1             NaN            11         18.6      1         False   False   \n",
       "2             NaN             5         34.3      4         False   False   \n",
       "3             NaN            14          NaN      9         False   False   \n",
       "4            3.03            14         32.0     13         False   False   \n",
       "\n",
       "   open_plan  kitchen_area  balcony    locality_name  airports_nearest  \\\n",
       "0      False          25.0        0  Санкт-Петербург           18863.0   \n",
       "1      False          11.0        2   поселок Шушары           12817.0   \n",
       "2      False           8.3        0  Санкт-Петербург           21741.0   \n",
       "3      False           NaN        0  Санкт-Петербург           28098.0   \n",
       "4      False          41.0        0  Санкт-Петербург           31856.0   \n",
       "\n",
       "   city_сenters_nearest  parks_around3000  parks_nearest  ponds_around3000  \\\n",
       "0               16028.0                 1          482.0                 2   \n",
       "1               18603.0                 0            NaN                 0   \n",
       "2               13933.0                 1           90.0                 2   \n",
       "3                6800.0                 2           84.0                 3   \n",
       "4                8098.0                 2          112.0                 1   \n",
       "\n",
       "   ponds_nearest  days_exposition  year  qm_price  day_of_week  month  \n",
       "0          755.0                0  2019    120370            3      3  \n",
       "1            NaN               81  2018     82920            1     12  \n",
       "2          574.0              558  2015     92785            3      8  \n",
       "3          234.0              424  2015    408176            4      7  \n",
       "4           48.0              121  2018    100000            1      6  "
      ]
     },
     "metadata": {},
     "output_type": "display_data"
    }
   ],
   "source": [
    "df['day_of_week'] = df['first_day_exposition'].dt.weekday\n",
    "df['month'] = df['first_day_exposition'].dt.month\n",
    "display(df.head(5))"
   ]
  },
  {
   "cell_type": "markdown",
   "metadata": {},
   "source": [
    "<h3> Расчет и добавление в таблицу: этаж квартиры; варианты — первый, последний, другой"
   ]
  },
  {
   "cell_type": "code",
   "execution_count": 7,
   "metadata": {},
   "outputs": [
    {
     "data": {
      "text/html": [
       "<div>\n",
       "<style scoped>\n",
       "    .dataframe tbody tr th:only-of-type {\n",
       "        vertical-align: middle;\n",
       "    }\n",
       "\n",
       "    .dataframe tbody tr th {\n",
       "        vertical-align: top;\n",
       "    }\n",
       "\n",
       "    .dataframe thead th {\n",
       "        text-align: right;\n",
       "    }\n",
       "</style>\n",
       "<table border=\"1\" class=\"dataframe\">\n",
       "  <thead>\n",
       "    <tr style=\"text-align: right;\">\n",
       "      <th></th>\n",
       "      <th>total_images</th>\n",
       "      <th>last_price</th>\n",
       "      <th>total_area</th>\n",
       "      <th>first_day_exposition</th>\n",
       "      <th>rooms</th>\n",
       "      <th>ceiling_height</th>\n",
       "      <th>floors_total</th>\n",
       "      <th>living_area</th>\n",
       "      <th>floor</th>\n",
       "      <th>is_apartment</th>\n",
       "      <th>studio</th>\n",
       "      <th>open_plan</th>\n",
       "      <th>kitchen_area</th>\n",
       "      <th>balcony</th>\n",
       "      <th>locality_name</th>\n",
       "      <th>airports_nearest</th>\n",
       "      <th>city_сenters_nearest</th>\n",
       "      <th>parks_around3000</th>\n",
       "      <th>parks_nearest</th>\n",
       "      <th>ponds_around3000</th>\n",
       "      <th>ponds_nearest</th>\n",
       "      <th>days_exposition</th>\n",
       "      <th>year</th>\n",
       "      <th>qm_price</th>\n",
       "      <th>day_of_week</th>\n",
       "      <th>month</th>\n",
       "      <th>id_floor</th>\n",
       "    </tr>\n",
       "  </thead>\n",
       "  <tbody>\n",
       "    <tr>\n",
       "      <th>0</th>\n",
       "      <td>20</td>\n",
       "      <td>13000000</td>\n",
       "      <td>108.0</td>\n",
       "      <td>2019-03-07</td>\n",
       "      <td>3</td>\n",
       "      <td>2.70</td>\n",
       "      <td>16</td>\n",
       "      <td>51.0</td>\n",
       "      <td>8</td>\n",
       "      <td>False</td>\n",
       "      <td>False</td>\n",
       "      <td>False</td>\n",
       "      <td>25.0</td>\n",
       "      <td>0</td>\n",
       "      <td>Санкт-Петербург</td>\n",
       "      <td>18863.0</td>\n",
       "      <td>16028.0</td>\n",
       "      <td>1</td>\n",
       "      <td>482.0</td>\n",
       "      <td>2</td>\n",
       "      <td>755.0</td>\n",
       "      <td>0</td>\n",
       "      <td>2019</td>\n",
       "      <td>120370</td>\n",
       "      <td>3</td>\n",
       "      <td>3</td>\n",
       "      <td>&lt;function f_id at 0x7f2e030d6550&gt;</td>\n",
       "    </tr>\n",
       "    <tr>\n",
       "      <th>1</th>\n",
       "      <td>7</td>\n",
       "      <td>3350000</td>\n",
       "      <td>40.4</td>\n",
       "      <td>2018-12-04</td>\n",
       "      <td>1</td>\n",
       "      <td>NaN</td>\n",
       "      <td>11</td>\n",
       "      <td>18.6</td>\n",
       "      <td>1</td>\n",
       "      <td>False</td>\n",
       "      <td>False</td>\n",
       "      <td>False</td>\n",
       "      <td>11.0</td>\n",
       "      <td>2</td>\n",
       "      <td>поселок Шушары</td>\n",
       "      <td>12817.0</td>\n",
       "      <td>18603.0</td>\n",
       "      <td>0</td>\n",
       "      <td>NaN</td>\n",
       "      <td>0</td>\n",
       "      <td>NaN</td>\n",
       "      <td>81</td>\n",
       "      <td>2018</td>\n",
       "      <td>82920</td>\n",
       "      <td>1</td>\n",
       "      <td>12</td>\n",
       "      <td>&lt;function f_id at 0x7f2e030d6550&gt;</td>\n",
       "    </tr>\n",
       "    <tr>\n",
       "      <th>2</th>\n",
       "      <td>10</td>\n",
       "      <td>5196000</td>\n",
       "      <td>56.0</td>\n",
       "      <td>2015-08-20</td>\n",
       "      <td>2</td>\n",
       "      <td>NaN</td>\n",
       "      <td>5</td>\n",
       "      <td>34.3</td>\n",
       "      <td>4</td>\n",
       "      <td>False</td>\n",
       "      <td>False</td>\n",
       "      <td>False</td>\n",
       "      <td>8.3</td>\n",
       "      <td>0</td>\n",
       "      <td>Санкт-Петербург</td>\n",
       "      <td>21741.0</td>\n",
       "      <td>13933.0</td>\n",
       "      <td>1</td>\n",
       "      <td>90.0</td>\n",
       "      <td>2</td>\n",
       "      <td>574.0</td>\n",
       "      <td>558</td>\n",
       "      <td>2015</td>\n",
       "      <td>92785</td>\n",
       "      <td>3</td>\n",
       "      <td>8</td>\n",
       "      <td>&lt;function f_id at 0x7f2e030d6550&gt;</td>\n",
       "    </tr>\n",
       "    <tr>\n",
       "      <th>3</th>\n",
       "      <td>0</td>\n",
       "      <td>64900000</td>\n",
       "      <td>159.0</td>\n",
       "      <td>2015-07-24</td>\n",
       "      <td>3</td>\n",
       "      <td>NaN</td>\n",
       "      <td>14</td>\n",
       "      <td>NaN</td>\n",
       "      <td>9</td>\n",
       "      <td>False</td>\n",
       "      <td>False</td>\n",
       "      <td>False</td>\n",
       "      <td>NaN</td>\n",
       "      <td>0</td>\n",
       "      <td>Санкт-Петербург</td>\n",
       "      <td>28098.0</td>\n",
       "      <td>6800.0</td>\n",
       "      <td>2</td>\n",
       "      <td>84.0</td>\n",
       "      <td>3</td>\n",
       "      <td>234.0</td>\n",
       "      <td>424</td>\n",
       "      <td>2015</td>\n",
       "      <td>408176</td>\n",
       "      <td>4</td>\n",
       "      <td>7</td>\n",
       "      <td>&lt;function f_id at 0x7f2e030d6550&gt;</td>\n",
       "    </tr>\n",
       "    <tr>\n",
       "      <th>4</th>\n",
       "      <td>2</td>\n",
       "      <td>10000000</td>\n",
       "      <td>100.0</td>\n",
       "      <td>2018-06-19</td>\n",
       "      <td>2</td>\n",
       "      <td>3.03</td>\n",
       "      <td>14</td>\n",
       "      <td>32.0</td>\n",
       "      <td>13</td>\n",
       "      <td>False</td>\n",
       "      <td>False</td>\n",
       "      <td>False</td>\n",
       "      <td>41.0</td>\n",
       "      <td>0</td>\n",
       "      <td>Санкт-Петербург</td>\n",
       "      <td>31856.0</td>\n",
       "      <td>8098.0</td>\n",
       "      <td>2</td>\n",
       "      <td>112.0</td>\n",
       "      <td>1</td>\n",
       "      <td>48.0</td>\n",
       "      <td>121</td>\n",
       "      <td>2018</td>\n",
       "      <td>100000</td>\n",
       "      <td>1</td>\n",
       "      <td>6</td>\n",
       "      <td>&lt;function f_id at 0x7f2e030d6550&gt;</td>\n",
       "    </tr>\n",
       "  </tbody>\n",
       "</table>\n",
       "</div>"
      ],
      "text/plain": [
       "   total_images  last_price  total_area first_day_exposition  rooms  \\\n",
       "0            20    13000000       108.0           2019-03-07      3   \n",
       "1             7     3350000        40.4           2018-12-04      1   \n",
       "2            10     5196000        56.0           2015-08-20      2   \n",
       "3             0    64900000       159.0           2015-07-24      3   \n",
       "4             2    10000000       100.0           2018-06-19      2   \n",
       "\n",
       "   ceiling_height  floors_total  living_area  floor  is_apartment  studio  \\\n",
       "0            2.70            16         51.0      8         False   False   \n",
       "1             NaN            11         18.6      1         False   False   \n",
       "2             NaN             5         34.3      4         False   False   \n",
       "3             NaN            14          NaN      9         False   False   \n",
       "4            3.03            14         32.0     13         False   False   \n",
       "\n",
       "   open_plan  kitchen_area  balcony    locality_name  airports_nearest  \\\n",
       "0      False          25.0        0  Санкт-Петербург           18863.0   \n",
       "1      False          11.0        2   поселок Шушары           12817.0   \n",
       "2      False           8.3        0  Санкт-Петербург           21741.0   \n",
       "3      False           NaN        0  Санкт-Петербург           28098.0   \n",
       "4      False          41.0        0  Санкт-Петербург           31856.0   \n",
       "\n",
       "   city_сenters_nearest  parks_around3000  parks_nearest  ponds_around3000  \\\n",
       "0               16028.0                 1          482.0                 2   \n",
       "1               18603.0                 0            NaN                 0   \n",
       "2               13933.0                 1           90.0                 2   \n",
       "3                6800.0                 2           84.0                 3   \n",
       "4                8098.0                 2          112.0                 1   \n",
       "\n",
       "   ponds_nearest  days_exposition  year  qm_price  day_of_week  month  \\\n",
       "0          755.0                0  2019    120370            3      3   \n",
       "1            NaN               81  2018     82920            1     12   \n",
       "2          574.0              558  2015     92785            3      8   \n",
       "3          234.0              424  2015    408176            4      7   \n",
       "4           48.0              121  2018    100000            1      6   \n",
       "\n",
       "                            id_floor  \n",
       "0  <function f_id at 0x7f2e030d6550>  \n",
       "1  <function f_id at 0x7f2e030d6550>  \n",
       "2  <function f_id at 0x7f2e030d6550>  \n",
       "3  <function f_id at 0x7f2e030d6550>  \n",
       "4  <function f_id at 0x7f2e030d6550>  "
      ]
     },
     "execution_count": 7,
     "metadata": {},
     "output_type": "execute_result"
    }
   ],
   "source": [
    "def f_id(fl):\n",
    "    if fl['floor']==1:\n",
    "        return 'Первый'\n",
    "    elif fl['floor'] == fl['floors_total']:\n",
    "        return 'Последний'\n",
    "    else:\n",
    "        return 'Другой'\n",
    " \n",
    "\n",
    "df['id_floor']=df.apply(lambda f: f_id,axis=1) \n",
    "\n",
    "df.head()"
   ]
  },
  {
   "cell_type": "markdown",
   "metadata": {},
   "source": [
    "<h3> Расчет и добавление в таблицу: соотношение жилой и общей площади, а также отношение площади кухни к общей"
   ]
  },
  {
   "cell_type": "code",
   "execution_count": 8,
   "metadata": {},
   "outputs": [
    {
     "data": {
      "text/html": [
       "<div>\n",
       "<style scoped>\n",
       "    .dataframe tbody tr th:only-of-type {\n",
       "        vertical-align: middle;\n",
       "    }\n",
       "\n",
       "    .dataframe tbody tr th {\n",
       "        vertical-align: top;\n",
       "    }\n",
       "\n",
       "    .dataframe thead th {\n",
       "        text-align: right;\n",
       "    }\n",
       "</style>\n",
       "<table border=\"1\" class=\"dataframe\">\n",
       "  <thead>\n",
       "    <tr style=\"text-align: right;\">\n",
       "      <th></th>\n",
       "      <th>total_images</th>\n",
       "      <th>last_price</th>\n",
       "      <th>total_area</th>\n",
       "      <th>first_day_exposition</th>\n",
       "      <th>rooms</th>\n",
       "      <th>ceiling_height</th>\n",
       "      <th>floors_total</th>\n",
       "      <th>living_area</th>\n",
       "      <th>floor</th>\n",
       "      <th>is_apartment</th>\n",
       "      <th>studio</th>\n",
       "      <th>open_plan</th>\n",
       "      <th>kitchen_area</th>\n",
       "      <th>balcony</th>\n",
       "      <th>locality_name</th>\n",
       "      <th>airports_nearest</th>\n",
       "      <th>city_сenters_nearest</th>\n",
       "      <th>parks_around3000</th>\n",
       "      <th>parks_nearest</th>\n",
       "      <th>ponds_around3000</th>\n",
       "      <th>ponds_nearest</th>\n",
       "      <th>days_exposition</th>\n",
       "      <th>year</th>\n",
       "      <th>qm_price</th>\n",
       "      <th>day_of_week</th>\n",
       "      <th>month</th>\n",
       "      <th>id_floor</th>\n",
       "      <th>ratio_area</th>\n",
       "      <th>ratio_kitchen_area</th>\n",
       "    </tr>\n",
       "  </thead>\n",
       "  <tbody>\n",
       "    <tr>\n",
       "      <th>0</th>\n",
       "      <td>20</td>\n",
       "      <td>13000000</td>\n",
       "      <td>108.0</td>\n",
       "      <td>2019-03-07</td>\n",
       "      <td>3</td>\n",
       "      <td>2.70</td>\n",
       "      <td>16</td>\n",
       "      <td>51.0</td>\n",
       "      <td>8</td>\n",
       "      <td>False</td>\n",
       "      <td>False</td>\n",
       "      <td>False</td>\n",
       "      <td>25.0</td>\n",
       "      <td>0</td>\n",
       "      <td>Санкт-Петербург</td>\n",
       "      <td>18863.0</td>\n",
       "      <td>16028.0</td>\n",
       "      <td>1</td>\n",
       "      <td>482.0</td>\n",
       "      <td>2</td>\n",
       "      <td>755.0</td>\n",
       "      <td>0</td>\n",
       "      <td>2019</td>\n",
       "      <td>120370</td>\n",
       "      <td>3</td>\n",
       "      <td>3</td>\n",
       "      <td>&lt;function f_id at 0x7f2e030d6550&gt;</td>\n",
       "      <td>0.472222</td>\n",
       "      <td>0.231481</td>\n",
       "    </tr>\n",
       "    <tr>\n",
       "      <th>1</th>\n",
       "      <td>7</td>\n",
       "      <td>3350000</td>\n",
       "      <td>40.4</td>\n",
       "      <td>2018-12-04</td>\n",
       "      <td>1</td>\n",
       "      <td>NaN</td>\n",
       "      <td>11</td>\n",
       "      <td>18.6</td>\n",
       "      <td>1</td>\n",
       "      <td>False</td>\n",
       "      <td>False</td>\n",
       "      <td>False</td>\n",
       "      <td>11.0</td>\n",
       "      <td>2</td>\n",
       "      <td>поселок Шушары</td>\n",
       "      <td>12817.0</td>\n",
       "      <td>18603.0</td>\n",
       "      <td>0</td>\n",
       "      <td>NaN</td>\n",
       "      <td>0</td>\n",
       "      <td>NaN</td>\n",
       "      <td>81</td>\n",
       "      <td>2018</td>\n",
       "      <td>82920</td>\n",
       "      <td>1</td>\n",
       "      <td>12</td>\n",
       "      <td>&lt;function f_id at 0x7f2e030d6550&gt;</td>\n",
       "      <td>0.460396</td>\n",
       "      <td>0.272277</td>\n",
       "    </tr>\n",
       "    <tr>\n",
       "      <th>2</th>\n",
       "      <td>10</td>\n",
       "      <td>5196000</td>\n",
       "      <td>56.0</td>\n",
       "      <td>2015-08-20</td>\n",
       "      <td>2</td>\n",
       "      <td>NaN</td>\n",
       "      <td>5</td>\n",
       "      <td>34.3</td>\n",
       "      <td>4</td>\n",
       "      <td>False</td>\n",
       "      <td>False</td>\n",
       "      <td>False</td>\n",
       "      <td>8.3</td>\n",
       "      <td>0</td>\n",
       "      <td>Санкт-Петербург</td>\n",
       "      <td>21741.0</td>\n",
       "      <td>13933.0</td>\n",
       "      <td>1</td>\n",
       "      <td>90.0</td>\n",
       "      <td>2</td>\n",
       "      <td>574.0</td>\n",
       "      <td>558</td>\n",
       "      <td>2015</td>\n",
       "      <td>92785</td>\n",
       "      <td>3</td>\n",
       "      <td>8</td>\n",
       "      <td>&lt;function f_id at 0x7f2e030d6550&gt;</td>\n",
       "      <td>0.612500</td>\n",
       "      <td>0.148214</td>\n",
       "    </tr>\n",
       "    <tr>\n",
       "      <th>3</th>\n",
       "      <td>0</td>\n",
       "      <td>64900000</td>\n",
       "      <td>159.0</td>\n",
       "      <td>2015-07-24</td>\n",
       "      <td>3</td>\n",
       "      <td>NaN</td>\n",
       "      <td>14</td>\n",
       "      <td>NaN</td>\n",
       "      <td>9</td>\n",
       "      <td>False</td>\n",
       "      <td>False</td>\n",
       "      <td>False</td>\n",
       "      <td>NaN</td>\n",
       "      <td>0</td>\n",
       "      <td>Санкт-Петербург</td>\n",
       "      <td>28098.0</td>\n",
       "      <td>6800.0</td>\n",
       "      <td>2</td>\n",
       "      <td>84.0</td>\n",
       "      <td>3</td>\n",
       "      <td>234.0</td>\n",
       "      <td>424</td>\n",
       "      <td>2015</td>\n",
       "      <td>408176</td>\n",
       "      <td>4</td>\n",
       "      <td>7</td>\n",
       "      <td>&lt;function f_id at 0x7f2e030d6550&gt;</td>\n",
       "      <td>NaN</td>\n",
       "      <td>NaN</td>\n",
       "    </tr>\n",
       "    <tr>\n",
       "      <th>4</th>\n",
       "      <td>2</td>\n",
       "      <td>10000000</td>\n",
       "      <td>100.0</td>\n",
       "      <td>2018-06-19</td>\n",
       "      <td>2</td>\n",
       "      <td>3.03</td>\n",
       "      <td>14</td>\n",
       "      <td>32.0</td>\n",
       "      <td>13</td>\n",
       "      <td>False</td>\n",
       "      <td>False</td>\n",
       "      <td>False</td>\n",
       "      <td>41.0</td>\n",
       "      <td>0</td>\n",
       "      <td>Санкт-Петербург</td>\n",
       "      <td>31856.0</td>\n",
       "      <td>8098.0</td>\n",
       "      <td>2</td>\n",
       "      <td>112.0</td>\n",
       "      <td>1</td>\n",
       "      <td>48.0</td>\n",
       "      <td>121</td>\n",
       "      <td>2018</td>\n",
       "      <td>100000</td>\n",
       "      <td>1</td>\n",
       "      <td>6</td>\n",
       "      <td>&lt;function f_id at 0x7f2e030d6550&gt;</td>\n",
       "      <td>0.320000</td>\n",
       "      <td>0.410000</td>\n",
       "    </tr>\n",
       "  </tbody>\n",
       "</table>\n",
       "</div>"
      ],
      "text/plain": [
       "   total_images  last_price  total_area first_day_exposition  rooms  \\\n",
       "0            20    13000000       108.0           2019-03-07      3   \n",
       "1             7     3350000        40.4           2018-12-04      1   \n",
       "2            10     5196000        56.0           2015-08-20      2   \n",
       "3             0    64900000       159.0           2015-07-24      3   \n",
       "4             2    10000000       100.0           2018-06-19      2   \n",
       "\n",
       "   ceiling_height  floors_total  living_area  floor  is_apartment  studio  \\\n",
       "0            2.70            16         51.0      8         False   False   \n",
       "1             NaN            11         18.6      1         False   False   \n",
       "2             NaN             5         34.3      4         False   False   \n",
       "3             NaN            14          NaN      9         False   False   \n",
       "4            3.03            14         32.0     13         False   False   \n",
       "\n",
       "   open_plan  kitchen_area  balcony    locality_name  airports_nearest  \\\n",
       "0      False          25.0        0  Санкт-Петербург           18863.0   \n",
       "1      False          11.0        2   поселок Шушары           12817.0   \n",
       "2      False           8.3        0  Санкт-Петербург           21741.0   \n",
       "3      False           NaN        0  Санкт-Петербург           28098.0   \n",
       "4      False          41.0        0  Санкт-Петербург           31856.0   \n",
       "\n",
       "   city_сenters_nearest  parks_around3000  parks_nearest  ponds_around3000  \\\n",
       "0               16028.0                 1          482.0                 2   \n",
       "1               18603.0                 0            NaN                 0   \n",
       "2               13933.0                 1           90.0                 2   \n",
       "3                6800.0                 2           84.0                 3   \n",
       "4                8098.0                 2          112.0                 1   \n",
       "\n",
       "   ponds_nearest  days_exposition  year  qm_price  day_of_week  month  \\\n",
       "0          755.0                0  2019    120370            3      3   \n",
       "1            NaN               81  2018     82920            1     12   \n",
       "2          574.0              558  2015     92785            3      8   \n",
       "3          234.0              424  2015    408176            4      7   \n",
       "4           48.0              121  2018    100000            1      6   \n",
       "\n",
       "                            id_floor  ratio_area  ratio_kitchen_area  \n",
       "0  <function f_id at 0x7f2e030d6550>    0.472222            0.231481  \n",
       "1  <function f_id at 0x7f2e030d6550>    0.460396            0.272277  \n",
       "2  <function f_id at 0x7f2e030d6550>    0.612500            0.148214  \n",
       "3  <function f_id at 0x7f2e030d6550>         NaN                 NaN  \n",
       "4  <function f_id at 0x7f2e030d6550>    0.320000            0.410000  "
      ]
     },
     "metadata": {},
     "output_type": "display_data"
    }
   ],
   "source": [
    "# Соотношение жилой и общей площади (ratio_area)\n",
    "df['ratio_area'] = df['living_area']/df['total_area']\n",
    "\n",
    "# Отношение площади кухни к общей\n",
    "df['ratio_kitchen_area'] = df['kitchen_area']/df['total_area']\n",
    "\n",
    "display(df.head())"
   ]
  },
  {
   "cell_type": "markdown",
   "metadata": {},
   "source": [
    "## Исследовательский анализ данных"
   ]
  },
  {
   "cell_type": "markdown",
   "metadata": {},
   "source": [
    "<h3>Изучение площади"
   ]
  },
  {
   "cell_type": "code",
   "execution_count": 9,
   "metadata": {},
   "outputs": [
    {
     "data": {
      "text/plain": [
       "count    23699.000000\n",
       "mean        60.348651\n",
       "std         35.654083\n",
       "min         12.000000\n",
       "25%         40.000000\n",
       "50%         52.000000\n",
       "75%         69.900000\n",
       "max        900.000000\n",
       "Name: total_area, dtype: float64"
      ]
     },
     "metadata": {},
     "output_type": "display_data"
    },
    {
     "data": {
      "text/plain": [
       "<AxesSubplot:>"
      ]
     },
     "execution_count": 9,
     "metadata": {},
     "output_type": "execute_result"
    },
    {
     "data": {
      "image/png": "[encoded data removed]",
      "text/plain": [
       "<Figure size 432x288 with 1 Axes>"
      ]
     },
     "metadata": {
      "needs_background": "light"
     },
     "output_type": "display_data"
    }
   ],
   "source": [
    "display(df['total_area'].describe())\n",
    "\n",
    "df['total_area'].hist(bins=100,range=(0,200))\n",
    "#display(df.query('total_area > 500')) \n",
    "#display(df.query('total_area <20')) "
   ]
  },
  {
   "cell_type": "markdown",
   "metadata": {},
   "source": [
    "<b>Выводы по параметру \"Площадь\":</b>\n",
    "1)\tЗначения заполнены по всем строкам<br>\n",
    "2)\tМинимальное значение 12<br>\n",
    "3)\tМаксимальное значение 900<br>\n",
    "4)\tИз графика видно, что основная масса квартир с площадью до 100 м2"
   ]
  },
  {
   "cell_type": "markdown",
   "metadata": {},
   "source": [
    "<h3>Изучение цены"
   ]
  },
  {
   "cell_type": "code",
   "execution_count": 10,
   "metadata": {},
   "outputs": [
    {
     "data": {
      "text/plain": [
       "count    2.369900e+04\n",
       "mean     6.541549e+06\n",
       "std      1.088701e+07\n",
       "min      1.219000e+04\n",
       "25%      3.400000e+06\n",
       "50%      4.650000e+06\n",
       "75%      6.800000e+06\n",
       "max      7.630000e+08\n",
       "Name: last_price, dtype: float64"
      ]
     },
     "metadata": {},
     "output_type": "display_data"
    },
    {
     "data": {
      "text/plain": [
       "<AxesSubplot:>"
      ]
     },
     "execution_count": 10,
     "metadata": {},
     "output_type": "execute_result"
    },
    {
     "data": {
      "image/png": "[encoded data removed]",
      "text/plain": [
       "<Figure size 432x288 with 1 Axes>"
      ]
     },
     "metadata": {
      "needs_background": "light"
     },
     "output_type": "display_data"
    }
   ],
   "source": [
    "display(df['last_price'].describe())\n",
    "\n",
    "df['last_price'].hist(bins=100,range=(0,15000000))"
   ]
  },
  {
   "cell_type": "markdown",
   "metadata": {},
   "source": [
    "<b>Выводы по параметру \"Цена\":</b>\n",
    "1)\tЗначения заполнены по всем строкам<br>\n",
    "2)\tМинимальное значение 12 190р.<br>\n",
    "3)\tМаксимальное значение 763 000 000<br>\n",
    "4)\tИз графика видно, что основная стоимость квартир находится у занчения 4 000 000р."
   ]
  },
  {
   "cell_type": "markdown",
   "metadata": {},
   "source": [
    "<h3>Изучение числа комнат"
   ]
  },
  {
   "cell_type": "code",
   "execution_count": 11,
   "metadata": {},
   "outputs": [
    {
     "data": {
      "text/plain": [
       "count    23699.000000\n",
       "mean         2.070636\n",
       "std          1.078405\n",
       "min          0.000000\n",
       "25%          1.000000\n",
       "50%          2.000000\n",
       "75%          3.000000\n",
       "max         19.000000\n",
       "Name: rooms, dtype: float64"
      ]
     },
     "metadata": {},
     "output_type": "display_data"
    },
    {
     "data": {
      "text/html": [
       "<div>\n",
       "<style scoped>\n",
       "    .dataframe tbody tr th:only-of-type {\n",
       "        vertical-align: middle;\n",
       "    }\n",
       "\n",
       "    .dataframe tbody tr th {\n",
       "        vertical-align: top;\n",
       "    }\n",
       "\n",
       "    .dataframe thead th {\n",
       "        text-align: right;\n",
       "    }\n",
       "</style>\n",
       "<table border=\"1\" class=\"dataframe\">\n",
       "  <thead>\n",
       "    <tr style=\"text-align: right;\">\n",
       "      <th></th>\n",
       "      <th>total_images</th>\n",
       "      <th>last_price</th>\n",
       "      <th>total_area</th>\n",
       "      <th>first_day_exposition</th>\n",
       "      <th>rooms</th>\n",
       "      <th>ceiling_height</th>\n",
       "      <th>floors_total</th>\n",
       "      <th>living_area</th>\n",
       "      <th>floor</th>\n",
       "      <th>is_apartment</th>\n",
       "      <th>studio</th>\n",
       "      <th>open_plan</th>\n",
       "      <th>kitchen_area</th>\n",
       "      <th>balcony</th>\n",
       "      <th>locality_name</th>\n",
       "      <th>airports_nearest</th>\n",
       "      <th>city_сenters_nearest</th>\n",
       "      <th>parks_around3000</th>\n",
       "      <th>parks_nearest</th>\n",
       "      <th>ponds_around3000</th>\n",
       "      <th>ponds_nearest</th>\n",
       "      <th>days_exposition</th>\n",
       "      <th>year</th>\n",
       "      <th>qm_price</th>\n",
       "      <th>day_of_week</th>\n",
       "      <th>month</th>\n",
       "      <th>id_floor</th>\n",
       "      <th>ratio_area</th>\n",
       "      <th>ratio_kitchen_area</th>\n",
       "    </tr>\n",
       "  </thead>\n",
       "  <tbody>\n",
       "    <tr>\n",
       "      <th>144</th>\n",
       "      <td>1</td>\n",
       "      <td>2450000</td>\n",
       "      <td>27.00</td>\n",
       "      <td>2017-03-30</td>\n",
       "      <td>0</td>\n",
       "      <td>NaN</td>\n",
       "      <td>24</td>\n",
       "      <td>15.50</td>\n",
       "      <td>2</td>\n",
       "      <td>False</td>\n",
       "      <td>True</td>\n",
       "      <td>False</td>\n",
       "      <td>NaN</td>\n",
       "      <td>2</td>\n",
       "      <td>поселок Мурино</td>\n",
       "      <td>NaN</td>\n",
       "      <td>NaN</td>\n",
       "      <td>0</td>\n",
       "      <td>NaN</td>\n",
       "      <td>0</td>\n",
       "      <td>NaN</td>\n",
       "      <td>181</td>\n",
       "      <td>2017</td>\n",
       "      <td>90740</td>\n",
       "      <td>3</td>\n",
       "      <td>3</td>\n",
       "      <td>&lt;function f_id at 0x7f2e030d6550&gt;</td>\n",
       "      <td>0.574074</td>\n",
       "      <td>NaN</td>\n",
       "    </tr>\n",
       "    <tr>\n",
       "      <th>349</th>\n",
       "      <td>4</td>\n",
       "      <td>2320000</td>\n",
       "      <td>25.00</td>\n",
       "      <td>2017-09-27</td>\n",
       "      <td>0</td>\n",
       "      <td>NaN</td>\n",
       "      <td>14</td>\n",
       "      <td>17.00</td>\n",
       "      <td>1</td>\n",
       "      <td>False</td>\n",
       "      <td>False</td>\n",
       "      <td>True</td>\n",
       "      <td>NaN</td>\n",
       "      <td>0</td>\n",
       "      <td>деревня Кудрово</td>\n",
       "      <td>NaN</td>\n",
       "      <td>NaN</td>\n",
       "      <td>0</td>\n",
       "      <td>NaN</td>\n",
       "      <td>0</td>\n",
       "      <td>NaN</td>\n",
       "      <td>45</td>\n",
       "      <td>2017</td>\n",
       "      <td>92800</td>\n",
       "      <td>2</td>\n",
       "      <td>9</td>\n",
       "      <td>&lt;function f_id at 0x7f2e030d6550&gt;</td>\n",
       "      <td>0.680000</td>\n",
       "      <td>NaN</td>\n",
       "    </tr>\n",
       "    <tr>\n",
       "      <th>440</th>\n",
       "      <td>8</td>\n",
       "      <td>2480000</td>\n",
       "      <td>27.11</td>\n",
       "      <td>2018-03-12</td>\n",
       "      <td>0</td>\n",
       "      <td>NaN</td>\n",
       "      <td>17</td>\n",
       "      <td>24.75</td>\n",
       "      <td>4</td>\n",
       "      <td>False</td>\n",
       "      <td>True</td>\n",
       "      <td>False</td>\n",
       "      <td>NaN</td>\n",
       "      <td>2</td>\n",
       "      <td>Санкт-Петербург</td>\n",
       "      <td>38171.0</td>\n",
       "      <td>15015.0</td>\n",
       "      <td>0</td>\n",
       "      <td>NaN</td>\n",
       "      <td>2</td>\n",
       "      <td>982.0</td>\n",
       "      <td>64</td>\n",
       "      <td>2018</td>\n",
       "      <td>91479</td>\n",
       "      <td>0</td>\n",
       "      <td>3</td>\n",
       "      <td>&lt;function f_id at 0x7f2e030d6550&gt;</td>\n",
       "      <td>0.912947</td>\n",
       "      <td>NaN</td>\n",
       "    </tr>\n",
       "    <tr>\n",
       "      <th>508</th>\n",
       "      <td>0</td>\n",
       "      <td>3375000</td>\n",
       "      <td>34.40</td>\n",
       "      <td>2017-03-28</td>\n",
       "      <td>0</td>\n",
       "      <td>NaN</td>\n",
       "      <td>26</td>\n",
       "      <td>24.30</td>\n",
       "      <td>19</td>\n",
       "      <td>False</td>\n",
       "      <td>False</td>\n",
       "      <td>True</td>\n",
       "      <td>NaN</td>\n",
       "      <td>1</td>\n",
       "      <td>поселок Парголово</td>\n",
       "      <td>53115.0</td>\n",
       "      <td>19292.0</td>\n",
       "      <td>0</td>\n",
       "      <td>NaN</td>\n",
       "      <td>1</td>\n",
       "      <td>593.0</td>\n",
       "      <td>430</td>\n",
       "      <td>2017</td>\n",
       "      <td>98110</td>\n",
       "      <td>1</td>\n",
       "      <td>3</td>\n",
       "      <td>&lt;function f_id at 0x7f2e030d6550&gt;</td>\n",
       "      <td>0.706395</td>\n",
       "      <td>NaN</td>\n",
       "    </tr>\n",
       "    <tr>\n",
       "      <th>608</th>\n",
       "      <td>2</td>\n",
       "      <td>1850000</td>\n",
       "      <td>25.00</td>\n",
       "      <td>2019-02-20</td>\n",
       "      <td>0</td>\n",
       "      <td>NaN</td>\n",
       "      <td>10</td>\n",
       "      <td>NaN</td>\n",
       "      <td>7</td>\n",
       "      <td>False</td>\n",
       "      <td>True</td>\n",
       "      <td>False</td>\n",
       "      <td>NaN</td>\n",
       "      <td>0</td>\n",
       "      <td>поселок Шушары</td>\n",
       "      <td>NaN</td>\n",
       "      <td>NaN</td>\n",
       "      <td>0</td>\n",
       "      <td>NaN</td>\n",
       "      <td>0</td>\n",
       "      <td>NaN</td>\n",
       "      <td>29</td>\n",
       "      <td>2019</td>\n",
       "      <td>74000</td>\n",
       "      <td>2</td>\n",
       "      <td>2</td>\n",
       "      <td>&lt;function f_id at 0x7f2e030d6550&gt;</td>\n",
       "      <td>NaN</td>\n",
       "      <td>NaN</td>\n",
       "    </tr>\n",
       "    <tr>\n",
       "      <th>...</th>\n",
       "      <td>...</td>\n",
       "      <td>...</td>\n",
       "      <td>...</td>\n",
       "      <td>...</td>\n",
       "      <td>...</td>\n",
       "      <td>...</td>\n",
       "      <td>...</td>\n",
       "      <td>...</td>\n",
       "      <td>...</td>\n",
       "      <td>...</td>\n",
       "      <td>...</td>\n",
       "      <td>...</td>\n",
       "      <td>...</td>\n",
       "      <td>...</td>\n",
       "      <td>...</td>\n",
       "      <td>...</td>\n",
       "      <td>...</td>\n",
       "      <td>...</td>\n",
       "      <td>...</td>\n",
       "      <td>...</td>\n",
       "      <td>...</td>\n",
       "      <td>...</td>\n",
       "      <td>...</td>\n",
       "      <td>...</td>\n",
       "      <td>...</td>\n",
       "      <td>...</td>\n",
       "      <td>...</td>\n",
       "      <td>...</td>\n",
       "      <td>...</td>\n",
       "    </tr>\n",
       "    <tr>\n",
       "      <th>23210</th>\n",
       "      <td>7</td>\n",
       "      <td>3200000</td>\n",
       "      <td>26.00</td>\n",
       "      <td>2017-09-01</td>\n",
       "      <td>0</td>\n",
       "      <td>NaN</td>\n",
       "      <td>25</td>\n",
       "      <td>18.00</td>\n",
       "      <td>16</td>\n",
       "      <td>False</td>\n",
       "      <td>True</td>\n",
       "      <td>False</td>\n",
       "      <td>NaN</td>\n",
       "      <td>0</td>\n",
       "      <td>Санкт-Петербург</td>\n",
       "      <td>11405.0</td>\n",
       "      <td>13222.0</td>\n",
       "      <td>0</td>\n",
       "      <td>NaN</td>\n",
       "      <td>1</td>\n",
       "      <td>623.0</td>\n",
       "      <td>14</td>\n",
       "      <td>2017</td>\n",
       "      <td>123076</td>\n",
       "      <td>4</td>\n",
       "      <td>9</td>\n",
       "      <td>&lt;function f_id at 0x7f2e030d6550&gt;</td>\n",
       "      <td>0.692308</td>\n",
       "      <td>NaN</td>\n",
       "    </tr>\n",
       "    <tr>\n",
       "      <th>23442</th>\n",
       "      <td>0</td>\n",
       "      <td>2500000</td>\n",
       "      <td>27.70</td>\n",
       "      <td>2017-09-28</td>\n",
       "      <td>0</td>\n",
       "      <td>NaN</td>\n",
       "      <td>24</td>\n",
       "      <td>18.00</td>\n",
       "      <td>4</td>\n",
       "      <td>False</td>\n",
       "      <td>False</td>\n",
       "      <td>True</td>\n",
       "      <td>NaN</td>\n",
       "      <td>2</td>\n",
       "      <td>поселок Мурино</td>\n",
       "      <td>NaN</td>\n",
       "      <td>NaN</td>\n",
       "      <td>0</td>\n",
       "      <td>NaN</td>\n",
       "      <td>0</td>\n",
       "      <td>NaN</td>\n",
       "      <td>4</td>\n",
       "      <td>2017</td>\n",
       "      <td>90252</td>\n",
       "      <td>3</td>\n",
       "      <td>9</td>\n",
       "      <td>&lt;function f_id at 0x7f2e030d6550&gt;</td>\n",
       "      <td>0.649819</td>\n",
       "      <td>NaN</td>\n",
       "    </tr>\n",
       "    <tr>\n",
       "      <th>23554</th>\n",
       "      <td>15</td>\n",
       "      <td>3350000</td>\n",
       "      <td>26.00</td>\n",
       "      <td>2018-09-07</td>\n",
       "      <td>0</td>\n",
       "      <td>NaN</td>\n",
       "      <td>19</td>\n",
       "      <td>NaN</td>\n",
       "      <td>8</td>\n",
       "      <td>False</td>\n",
       "      <td>True</td>\n",
       "      <td>False</td>\n",
       "      <td>NaN</td>\n",
       "      <td>0</td>\n",
       "      <td>Санкт-Петербург</td>\n",
       "      <td>18090.0</td>\n",
       "      <td>17092.0</td>\n",
       "      <td>0</td>\n",
       "      <td>NaN</td>\n",
       "      <td>2</td>\n",
       "      <td>112.0</td>\n",
       "      <td>31</td>\n",
       "      <td>2018</td>\n",
       "      <td>128846</td>\n",
       "      <td>4</td>\n",
       "      <td>9</td>\n",
       "      <td>&lt;function f_id at 0x7f2e030d6550&gt;</td>\n",
       "      <td>NaN</td>\n",
       "      <td>NaN</td>\n",
       "    </tr>\n",
       "    <tr>\n",
       "      <th>23592</th>\n",
       "      <td>10</td>\n",
       "      <td>1450000</td>\n",
       "      <td>29.00</td>\n",
       "      <td>2017-11-11</td>\n",
       "      <td>0</td>\n",
       "      <td>NaN</td>\n",
       "      <td>9</td>\n",
       "      <td>18.00</td>\n",
       "      <td>8</td>\n",
       "      <td>False</td>\n",
       "      <td>False</td>\n",
       "      <td>True</td>\n",
       "      <td>NaN</td>\n",
       "      <td>2</td>\n",
       "      <td>Никольское</td>\n",
       "      <td>NaN</td>\n",
       "      <td>NaN</td>\n",
       "      <td>0</td>\n",
       "      <td>NaN</td>\n",
       "      <td>0</td>\n",
       "      <td>NaN</td>\n",
       "      <td>82</td>\n",
       "      <td>2017</td>\n",
       "      <td>50000</td>\n",
       "      <td>5</td>\n",
       "      <td>11</td>\n",
       "      <td>&lt;function f_id at 0x7f2e030d6550&gt;</td>\n",
       "      <td>0.620690</td>\n",
       "      <td>NaN</td>\n",
       "    </tr>\n",
       "    <tr>\n",
       "      <th>23637</th>\n",
       "      <td>8</td>\n",
       "      <td>2350000</td>\n",
       "      <td>26.00</td>\n",
       "      <td>2018-06-26</td>\n",
       "      <td>0</td>\n",
       "      <td>NaN</td>\n",
       "      <td>25</td>\n",
       "      <td>17.00</td>\n",
       "      <td>4</td>\n",
       "      <td>False</td>\n",
       "      <td>True</td>\n",
       "      <td>False</td>\n",
       "      <td>NaN</td>\n",
       "      <td>2</td>\n",
       "      <td>поселок Бугры</td>\n",
       "      <td>NaN</td>\n",
       "      <td>NaN</td>\n",
       "      <td>0</td>\n",
       "      <td>NaN</td>\n",
       "      <td>0</td>\n",
       "      <td>NaN</td>\n",
       "      <td>207</td>\n",
       "      <td>2018</td>\n",
       "      <td>90384</td>\n",
       "      <td>1</td>\n",
       "      <td>6</td>\n",
       "      <td>&lt;function f_id at 0x7f2e030d6550&gt;</td>\n",
       "      <td>0.653846</td>\n",
       "      <td>NaN</td>\n",
       "    </tr>\n",
       "  </tbody>\n",
       "</table>\n",
       "<p>197 rows × 29 columns</p>\n",
       "</div>"
      ],
      "text/plain": [
       "       total_images  last_price  total_area first_day_exposition  rooms  \\\n",
       "144               1     2450000       27.00           2017-03-30      0   \n",
       "349               4     2320000       25.00           2017-09-27      0   \n",
       "440               8     2480000       27.11           2018-03-12      0   \n",
       "508               0     3375000       34.40           2017-03-28      0   \n",
       "608               2     1850000       25.00           2019-02-20      0   \n",
       "...             ...         ...         ...                  ...    ...   \n",
       "23210             7     3200000       26.00           2017-09-01      0   \n",
       "23442             0     2500000       27.70           2017-09-28      0   \n",
       "23554            15     3350000       26.00           2018-09-07      0   \n",
       "23592            10     1450000       29.00           2017-11-11      0   \n",
       "23637             8     2350000       26.00           2018-06-26      0   \n",
       "\n",
       "       ceiling_height  floors_total  living_area  floor  is_apartment  studio  \\\n",
       "144               NaN            24        15.50      2         False    True   \n",
       "349               NaN            14        17.00      1         False   False   \n",
       "440               NaN            17        24.75      4         False    True   \n",
       "508               NaN            26        24.30     19         False   False   \n",
       "608               NaN            10          NaN      7         False    True   \n",
       "...               ...           ...          ...    ...           ...     ...   \n",
       "23210             NaN            25        18.00     16         False    True   \n",
       "23442             NaN            24        18.00      4         False   False   \n",
       "23554             NaN            19          NaN      8         False    True   \n",
       "23592             NaN             9        18.00      8         False   False   \n",
       "23637             NaN            25        17.00      4         False    True   \n",
       "\n",
       "       open_plan  kitchen_area  balcony      locality_name  airports_nearest  \\\n",
       "144        False           NaN        2     поселок Мурино               NaN   \n",
       "349         True           NaN        0    деревня Кудрово               NaN   \n",
       "440        False           NaN        2    Санкт-Петербург           38171.0   \n",
       "508         True           NaN        1  поселок Парголово           53115.0   \n",
       "608        False           NaN        0     поселок Шушары               NaN   \n",
       "...          ...           ...      ...                ...               ...   \n",
       "23210      False           NaN        0    Санкт-Петербург           11405.0   \n",
       "23442       True           NaN        2     поселок Мурино               NaN   \n",
       "23554      False           NaN        0    Санкт-Петербург           18090.0   \n",
       "23592       True           NaN        2         Никольское               NaN   \n",
       "23637      False           NaN        2      поселок Бугры               NaN   \n",
       "\n",
       "       city_сenters_nearest  parks_around3000  parks_nearest  \\\n",
       "144                     NaN                 0            NaN   \n",
       "349                     NaN                 0            NaN   \n",
       "440                 15015.0                 0            NaN   \n",
       "508                 19292.0                 0            NaN   \n",
       "608                     NaN                 0            NaN   \n",
       "...                     ...               ...            ...   \n",
       "23210               13222.0                 0            NaN   \n",
       "23442                   NaN                 0            NaN   \n",
       "23554               17092.0                 0            NaN   \n",
       "23592                   NaN                 0            NaN   \n",
       "23637                   NaN                 0            NaN   \n",
       "\n",
       "       ponds_around3000  ponds_nearest  days_exposition  year  qm_price  \\\n",
       "144                   0            NaN              181  2017     90740   \n",
       "349                   0            NaN               45  2017     92800   \n",
       "440                   2          982.0               64  2018     91479   \n",
       "508                   1          593.0              430  2017     98110   \n",
       "608                   0            NaN               29  2019     74000   \n",
       "...                 ...            ...              ...   ...       ...   \n",
       "23210                 1          623.0               14  2017    123076   \n",
       "23442                 0            NaN                4  2017     90252   \n",
       "23554                 2          112.0               31  2018    128846   \n",
       "23592                 0            NaN               82  2017     50000   \n",
       "23637                 0            NaN              207  2018     90384   \n",
       "\n",
       "       day_of_week  month                           id_floor  ratio_area  \\\n",
       "144              3      3  <function f_id at 0x7f2e030d6550>    0.574074   \n",
       "349              2      9  <function f_id at 0x7f2e030d6550>    0.680000   \n",
       "440              0      3  <function f_id at 0x7f2e030d6550>    0.912947   \n",
       "508              1      3  <function f_id at 0x7f2e030d6550>    0.706395   \n",
       "608              2      2  <function f_id at 0x7f2e030d6550>         NaN   \n",
       "...            ...    ...                                ...         ...   \n",
       "23210            4      9  <function f_id at 0x7f2e030d6550>    0.692308   \n",
       "23442            3      9  <function f_id at 0x7f2e030d6550>    0.649819   \n",
       "23554            4      9  <function f_id at 0x7f2e030d6550>         NaN   \n",
       "23592            5     11  <function f_id at 0x7f2e030d6550>    0.620690   \n",
       "23637            1      6  <function f_id at 0x7f2e030d6550>    0.653846   \n",
       "\n",
       "       ratio_kitchen_area  \n",
       "144                   NaN  \n",
       "349                   NaN  \n",
       "440                   NaN  \n",
       "508                   NaN  \n",
       "608                   NaN  \n",
       "...                   ...  \n",
       "23210                 NaN  \n",
       "23442                 NaN  \n",
       "23554                 NaN  \n",
       "23592                 NaN  \n",
       "23637                 NaN  \n",
       "\n",
       "[197 rows x 29 columns]"
      ]
     },
     "metadata": {},
     "output_type": "display_data"
    },
    {
     "data": {
      "image/png": "[encoded data removed]",
      "text/plain": [
       "<Figure size 432x288 with 1 Axes>"
      ]
     },
     "metadata": {
      "needs_background": "light"
     },
     "output_type": "display_data"
    }
   ],
   "source": [
    "display(df['rooms'].describe())\n",
    "\n",
    "df['rooms'].hist(bins=20,range=(0,19))\n",
    "\n",
    "display(df.query('rooms < 1'))"
   ]
  },
  {
   "cell_type": "markdown",
   "metadata": {},
   "source": [
    "<b>Выводы по параметру \"Число комнат\":</b>\n",
    "1)\tЗначения заполнены по всем строкам<br>\n",
    "2)\tВ 197 случаях значение комнат указано как \"0\". Можно предположить, что указано в случае, когда по данному объекту указано, что это студия или свободная планировка<br>\n",
    "3)\tМаксимальное значение 19<br>\n",
    "4)\tИз графика видно, что основная часть квартир с 1-3 комнатами"
   ]
  },
  {
   "cell_type": "markdown",
   "metadata": {},
   "source": [
    "<h3>Изучение высоты потолков"
   ]
  },
  {
   "cell_type": "code",
   "execution_count": 12,
   "metadata": {},
   "outputs": [
    {
     "name": "stderr",
     "output_type": "stream",
     "text": [
      "/tmp/ipykernel_357/110832590.py:1: SettingWithCopyWarning: \n",
      "A value is trying to be set on a copy of a slice from a DataFrame\n",
      "\n",
      "See the caveats in the documentation: https://pandas.pydata.org/pandas-docs/stable/user_guide/indexing.html#returning-a-view-versus-a-copy\n",
      "  df['ceiling_height'][df['ceiling_height'] >11 ] = df['ceiling_height'][df['ceiling_height'] >11 ]/10\n"
     ]
    },
    {
     "data": {
      "text/plain": [
       "count    14504.000000\n",
       "mean         2.728739\n",
       "std          0.306050\n",
       "min          1.000000\n",
       "25%          2.510000\n",
       "50%          2.650000\n",
       "75%          2.800000\n",
       "max         10.300000\n",
       "Name: ceiling_height, dtype: float64"
      ]
     },
     "metadata": {},
     "output_type": "display_data"
    },
    {
     "data": {
      "text/plain": [
       "<AxesSubplot:>"
      ]
     },
     "execution_count": 12,
     "metadata": {},
     "output_type": "execute_result"
    },
    {
     "data": {
      "image/png": "[encoded data removed]",
      "text/plain": [
       "<Figure size 432x288 with 1 Axes>"
      ]
     },
     "metadata": {
      "needs_background": "light"
     },
     "output_type": "display_data"
    }
   ],
   "source": [
    "df['ceiling_height'][df['ceiling_height'] >11 ] = df['ceiling_height'][df['ceiling_height'] >11 ]/10\n",
    "\n",
    "display(df['ceiling_height'].describe())\n",
    "\n",
    "df['ceiling_height'].hist(range=(2.4,4))"
   ]
  },
  {
   "cell_type": "markdown",
   "metadata": {},
   "source": [
    "<b>Выводы по параметру \"Высота потолков\":</b>\n",
    "1)\tЗначения заполнены приблизительно в половине случаев<br>\n",
    "2)\tЗначения более 10м представляются маловероятными, тем более с учетом того, что данные объекты находятся в многоэтажном жилом фонде. Исходя из изложенного, можно для значений более 11м разделить на 10, для приведения значений к логичному виду<br>\n",
    "3)\tИз графика видно, что основная масса значений в диапазоне от 2,5 до 3,5м"
   ]
  },
  {
   "cell_type": "markdown",
   "metadata": {},
   "source": [
    "<h3>Изучите время продажи квартиры.</h3> <br>\n",
    "<b>Постройте гистограмму.</b>"
   ]
  },
  {
   "cell_type": "code",
   "execution_count": 13,
   "metadata": {},
   "outputs": [
    {
     "data": {
      "text/plain": [
       "<AxesSubplot:>"
      ]
     },
     "execution_count": 13,
     "metadata": {},
     "output_type": "execute_result"
    },
    {
     "data": {
      "image/png": "[encoded data removed]",
      "text/plain": [
       "<Figure size 432x288 with 1 Axes>"
      ]
     },
     "metadata": {
      "needs_background": "light"
     },
     "output_type": "display_data"
    }
   ],
   "source": [
    "df['days_exposition'].hist(bins=100,range=(1,1600))"
   ]
  },
  {
   "cell_type": "markdown",
   "metadata": {},
   "source": [
    "<b>Посчитайте среднее и медиану"
   ]
  },
  {
   "cell_type": "code",
   "execution_count": 14,
   "metadata": {},
   "outputs": [
    {
     "data": {
      "text/plain": [
       "count    23699.000000\n",
       "mean       156.608844\n",
       "std        213.546873\n",
       "min          0.000000\n",
       "25%         22.000000\n",
       "50%         74.000000\n",
       "75%        199.000000\n",
       "max       1580.000000\n",
       "Name: days_exposition, dtype: float64"
      ]
     },
     "metadata": {},
     "output_type": "display_data"
    }
   ],
   "source": [
    "display(df['days_exposition'].describe())"
   ]
  },
  {
   "cell_type": "markdown",
   "metadata": {},
   "source": [
    "<b>Опишите, сколько обычно занимает продажа. Когда можно считать, что продажи прошли очень быстро, а когда необычно долго?</b> <br>\n",
    "1) Из-за минимального выдающегося из общего количества значения \"0\", можем предположить, что им обозначены отсутствующие или пустые значения, по объектам находящимся в продаже.<br>\n",
    "2) Гистограмма показывает, что в среднем продажа занимает около 156 дней. <br>\n",
    "3) По данным, можно утверждать, что продажи менее 22 дня это быстрые, более 200 дней - долгие.\n",
    "<br>\n",
    "<br>\n",
    "4) В результате более подробного анализа, можно предположить, что \"выбросы\" (аномально высокие значения) возникали по причинам:\n",
    " - в период экономических потрясений в стране, что стимулировало спрос на ликвидное жильё;\n",
    " - начало программ льготной ипотеки"
   ]
  },
  {
   "cell_type": "code",
   "execution_count": 15,
   "metadata": {},
   "outputs": [
    {
     "data": {
      "text/plain": [
       "<AxesSubplot:>"
      ]
     },
     "execution_count": 15,
     "metadata": {},
     "output_type": "execute_result"
    },
    {
     "data": {
      "image/png": "[encoded data removed]",
      "text/plain": [
       "<Figure size 432x288 with 1 Axes>"
      ]
     },
     "metadata": {
      "needs_background": "light"
     },
     "output_type": "display_data"
    }
   ],
   "source": [
    "df['days_exposition'].hist(bins=100,range=(1,550))"
   ]
  },
  {
   "cell_type": "markdown",
   "metadata": {},
   "source": [
    "<h3>Уберите редкие и выбивающиеся значения"
   ]
  },
  {
   "cell_type": "code",
   "execution_count": 16,
   "metadata": {},
   "outputs": [
    {
     "name": "stdout",
     "output_type": "stream",
     "text": [
      "<class 'pandas.core.frame.DataFrame'>\n",
      "RangeIndex: 23699 entries, 0 to 23698\n",
      "Data columns (total 29 columns):\n",
      " #   Column                Non-Null Count  Dtype         \n",
      "---  ------                --------------  -----         \n",
      " 0   total_images          23699 non-null  int64         \n",
      " 1   last_price            23699 non-null  Int64         \n",
      " 2   total_area            23699 non-null  float64       \n",
      " 3   first_day_exposition  23699 non-null  datetime64[ns]\n",
      " 4   rooms                 23699 non-null  int64         \n",
      " 5   ceiling_height        14504 non-null  float64       \n",
      " 6   floors_total          23613 non-null  Int64         \n",
      " 7   living_area           21796 non-null  float64       \n",
      " 8   floor                 23699 non-null  int64         \n",
      " 9   is_apartment          23699 non-null  bool          \n",
      " 10  studio                23699 non-null  bool          \n",
      " 11  open_plan             23699 non-null  bool          \n",
      " 12  kitchen_area          21421 non-null  float64       \n",
      " 13  balcony               23699 non-null  Int64         \n",
      " 14  locality_name         23650 non-null  object        \n",
      " 15  airports_nearest      18157 non-null  float64       \n",
      " 16  city_сenters_nearest  18180 non-null  float64       \n",
      " 17  parks_around3000      23699 non-null  Int64         \n",
      " 18  parks_nearest         8079 non-null   float64       \n",
      " 19  ponds_around3000      23699 non-null  Int64         \n",
      " 20  ponds_nearest         9110 non-null   float64       \n",
      " 21  days_exposition       23699 non-null  Int64         \n",
      " 22  year                  23699 non-null  int64         \n",
      " 23  qm_price              23699 non-null  Int64         \n",
      " 24  day_of_week           23699 non-null  int64         \n",
      " 25  month                 23699 non-null  int64         \n",
      " 26  id_floor              23699 non-null  object        \n",
      " 27  ratio_area            21796 non-null  float64       \n",
      " 28  ratio_kitchen_area    21421 non-null  float64       \n",
      "dtypes: Int64(7), bool(3), datetime64[ns](1), float64(10), int64(6), object(2)\n",
      "memory usage: 4.9+ MB\n"
     ]
    },
    {
     "data": {
      "text/plain": [
       "None"
      ]
     },
     "metadata": {},
     "output_type": "display_data"
    },
    {
     "name": "stdout",
     "output_type": "stream",
     "text": [
      "<class 'pandas.core.frame.DataFrame'>\n",
      "RangeIndex: 23699 entries, 0 to 23698\n",
      "Data columns (total 29 columns):\n",
      " #   Column                Non-Null Count  Dtype         \n",
      "---  ------                --------------  -----         \n",
      " 0   total_images          23699 non-null  int64         \n",
      " 1   last_price            23661 non-null  Int64         \n",
      " 2   total_area            23690 non-null  float64       \n",
      " 3   first_day_exposition  23699 non-null  datetime64[ns]\n",
      " 4   rooms                 23688 non-null  float64       \n",
      " 5   ceiling_height        14504 non-null  float64       \n",
      " 6   floors_total          23613 non-null  Int64         \n",
      " 7   living_area           21796 non-null  float64       \n",
      " 8   floor                 23699 non-null  int64         \n",
      " 9   is_apartment          23699 non-null  bool          \n",
      " 10  studio                23699 non-null  bool          \n",
      " 11  open_plan             23699 non-null  bool          \n",
      " 12  kitchen_area          21421 non-null  float64       \n",
      " 13  balcony               23699 non-null  Int64         \n",
      " 14  locality_name         23650 non-null  object        \n",
      " 15  airports_nearest      18157 non-null  float64       \n",
      " 16  city_сenters_nearest  18180 non-null  float64       \n",
      " 17  parks_around3000      23699 non-null  Int64         \n",
      " 18  parks_nearest         8079 non-null   float64       \n",
      " 19  ponds_around3000      23699 non-null  Int64         \n",
      " 20  ponds_nearest         9110 non-null   float64       \n",
      " 21  days_exposition       23699 non-null  Int64         \n",
      " 22  year                  23699 non-null  int64         \n",
      " 23  qm_price              23699 non-null  Int64         \n",
      " 24  day_of_week           23699 non-null  int64         \n",
      " 25  month                 23699 non-null  int64         \n",
      " 26  id_floor              23699 non-null  object        \n",
      " 27  ratio_area            21796 non-null  float64       \n",
      " 28  ratio_kitchen_area    21421 non-null  float64       \n",
      "dtypes: Int64(7), bool(3), datetime64[ns](1), float64(11), int64(5), object(2)\n",
      "memory usage: 4.9+ MB\n"
     ]
    },
    {
     "data": {
      "text/plain": [
       "None"
      ]
     },
     "metadata": {},
     "output_type": "display_data"
    }
   ],
   "source": [
    "display(df.info())\n",
    "#Убираем значения со стоимостью более 100млн и менее 400тыс, \n",
    "#т.к. их значения значительно расширяют диапазон графиков снижая качество анализа\n",
    "df['last_price'] = df['last_price'][(df['last_price'] < 100000000)&(df['last_price'] > 400000)]\n",
    "#Убираем значения более 500 кв.м\n",
    "df['total_area'] = df['total_area'][df['total_area'] < 500]\n",
    "#Убираем значения комнат более 10\n",
    "df['rooms'] = df['rooms'][df['rooms'] < 10]\n",
    "display(df.info())"
   ]
  },
  {
   "cell_type": "markdown",
   "metadata": {},
   "source": [
    "<h3>Какие факторы больше всего влияют на стоимость квартиры?"
   ]
  },
  {
   "cell_type": "markdown",
   "metadata": {},
   "source": [
    "<b>Изучите, зависит ли цена от квадратного метра, числа комнат, этажа (первого или последнего), удалённости от центра. Также изучите зависимость от даты размещения: дня недели, месяца и года"
   ]
  },
  {
   "cell_type": "code",
   "execution_count": 17,
   "metadata": {},
   "outputs": [
    {
     "name": "stdout",
     "output_type": "stream",
     "text": [
      "            last_price  total_area\n",
      "last_price    1.000000    0.766807\n",
      "total_area    0.766807    1.000000\n"
     ]
    },
    {
     "data": {
      "image/png": "[encoded data removed]",
      "text/plain": [
       "<Figure size 432x288 with 1 Axes>"
      ]
     },
     "metadata": {
      "needs_background": "light"
     },
     "output_type": "display_data"
    }
   ],
   "source": [
    "df.plot(x='last_price', y='total_area', grid=True, kind='scatter')\n",
    "print(df[['last_price','total_area']].corr())"
   ]
  },
  {
   "cell_type": "markdown",
   "metadata": {},
   "source": [
    "Стоимость житья пропорциональна стоимости квадратного метра, что может быть связано с дополнительными удобствами в помещениях с большей площадью<br>\n",
    "<b>Корреляция высокая"
   ]
  },
  {
   "cell_type": "code",
   "execution_count": 18,
   "metadata": {},
   "outputs": [
    {
     "name": "stdout",
     "output_type": "stream",
     "text": [
      "            last_price     rooms\n",
      "last_price    1.000000  0.468184\n",
      "rooms         0.468184  1.000000\n"
     ]
    },
    {
     "data": {
      "image/png": "[encoded data removed]",
      "text/plain": [
       "<Figure size 432x288 with 1 Axes>"
      ]
     },
     "metadata": {
      "needs_background": "light"
     },
     "output_type": "display_data"
    }
   ],
   "source": [
    "df.plot(x='last_price', y='rooms', grid=True, kind='scatter')\n",
    "print(df[['last_price','rooms']].corr())"
   ]
  },
  {
   "cell_type": "markdown",
   "metadata": {},
   "source": [
    "Наиболее востребованными являются квартиры с 3-5 комнатами<br>\n",
    "<b>Корреляция средняя"
   ]
  },
  {
   "cell_type": "code",
   "execution_count": 19,
   "metadata": {},
   "outputs": [
    {
     "name": "stdout",
     "output_type": "stream",
     "text": [
      "            last_price     floor\n",
      "last_price    1.000000  0.036429\n",
      "floor         0.036429  1.000000\n"
     ]
    },
    {
     "data": {
      "image/png": "[encoded data removed]",
      "text/plain": [
       "<Figure size 432x288 with 1 Axes>"
      ]
     },
     "metadata": {
      "needs_background": "light"
     },
     "output_type": "display_data"
    }
   ],
   "source": [
    "df.plot(x='last_price', y='floor', grid=True, kind='scatter')\n",
    "print(df[['last_price','floor']].corr())"
   ]
  },
  {
   "cell_type": "markdown",
   "metadata": {},
   "source": [
    "Наиболее востребованными являются квартиры на этажах до 10. Верхние этажи менее привлекательны.<br>\n",
    "<b>Корреляция отсутствует"
   ]
  },
  {
   "cell_type": "code",
   "execution_count": 20,
   "metadata": {},
   "outputs": [
    {
     "name": "stdout",
     "output_type": "stream",
     "text": [
      "                      last_price  city_сenters_nearest\n",
      "last_price              1.000000             -0.300366\n",
      "city_сenters_nearest   -0.300366              1.000000\n"
     ]
    },
    {
     "data": {
      "image/png": "[encoded data removed]",
      "text/plain": [
       "<Figure size 432x288 with 1 Axes>"
      ]
     },
     "metadata": {
      "needs_background": "light"
     },
     "output_type": "display_data"
    }
   ],
   "source": [
    "df.plot(x='last_price', y='city_сenters_nearest', grid=True, kind='scatter')\n",
    "print(df[['last_price','city_сenters_nearest']].corr())"
   ]
  },
  {
   "cell_type": "markdown",
   "metadata": {},
   "source": [
    "Закономерно, квартиры ближе к центру имеют цену выше<br>\n",
    "<b>Корреляция незначительно обратная"
   ]
  },
  {
   "cell_type": "code",
   "execution_count": 21,
   "metadata": {},
   "outputs": [
    {
     "name": "stdout",
     "output_type": "stream",
     "text": [
      "             last_price  day_of_week\n",
      "last_price     1.000000    -0.003134\n",
      "day_of_week   -0.003134     1.000000\n"
     ]
    },
    {
     "data": {
      "image/png": "[encoded data removed]",
      "text/plain": [
       "<Figure size 432x288 with 1 Axes>"
      ]
     },
     "metadata": {
      "needs_background": "light"
     },
     "output_type": "display_data"
    }
   ],
   "source": [
    "df.plot(x='last_price', y='day_of_week', grid=True, kind='scatter')\n",
    "print(df[['last_price','day_of_week']].corr())"
   ]
  },
  {
   "cell_type": "markdown",
   "metadata": {},
   "source": [
    "В середине недели активность продавцов выше<br>\n",
    "<b>Корреляция отсутствует"
   ]
  },
  {
   "cell_type": "code",
   "execution_count": 22,
   "metadata": {},
   "outputs": [
    {
     "name": "stdout",
     "output_type": "stream",
     "text": [
      "            last_price     month\n",
      "last_price    1.000000  0.007317\n",
      "month         0.007317  1.000000\n"
     ]
    },
    {
     "data": {
      "image/png": "[encoded data removed]",
      "text/plain": [
       "<Figure size 432x288 with 1 Axes>"
      ]
     },
     "metadata": {
      "needs_background": "light"
     },
     "output_type": "display_data"
    }
   ],
   "source": [
    "df.plot(x='last_price', y='month', grid=True, kind='scatter')\n",
    "print(df[['last_price','month']].corr())"
   ]
  },
  {
   "cell_type": "markdown",
   "metadata": {},
   "source": [
    "По месяцу - значительных колебаний нет<br>\n",
    "<b>Корреляция отсутствует"
   ]
  },
  {
   "cell_type": "code",
   "execution_count": 23,
   "metadata": {},
   "outputs": [
    {
     "name": "stdout",
     "output_type": "stream",
     "text": [
      "            last_price      year\n",
      "last_price    1.000000 -0.053668\n",
      "year         -0.053668  1.000000\n"
     ]
    },
    {
     "data": {
      "image/png": "[encoded data removed]",
      "text/plain": [
       "<Figure size 432x288 with 1 Axes>"
      ]
     },
     "metadata": {
      "needs_background": "light"
     },
     "output_type": "display_data"
    }
   ],
   "source": [
    "df.plot(x='last_price', y='year', grid=True, kind='scatter')\n",
    "print(df[['last_price','year']].corr())"
   ]
  },
  {
   "cell_type": "markdown",
   "metadata": {},
   "source": [
    "Наибольшую активность рынок недвижимости демонстрировал в 2017г.<br>\n",
    "<b>Корреляция отсутствует"
   ]
  },
  {
   "cell_type": "markdown",
   "metadata": {},
   "source": [
    "<b>Выберите 10 населённых пунктов с наибольшим числом объявлений."
   ]
  },
  {
   "cell_type": "code",
   "execution_count": 24,
   "metadata": {},
   "outputs": [],
   "source": [
    "ln=df['locality_name'].value_counts(normalize=True).head(10)"
   ]
  },
  {
   "cell_type": "markdown",
   "metadata": {},
   "source": [
    "<b>Посчитайте среднюю цену квадратного метра в этих населённых пунктах. Выделите населённые пункты с самой высокой и низкой стоимостью жилья."
   ]
  },
  {
   "cell_type": "code",
   "execution_count": 25,
   "metadata": {},
   "outputs": [
    {
     "data": {
      "text/html": [
       "<div>\n",
       "<style scoped>\n",
       "    .dataframe tbody tr th:only-of-type {\n",
       "        vertical-align: middle;\n",
       "    }\n",
       "\n",
       "    .dataframe tbody tr th {\n",
       "        vertical-align: top;\n",
       "    }\n",
       "\n",
       "    .dataframe thead th {\n",
       "        text-align: right;\n",
       "    }\n",
       "</style>\n",
       "<table border=\"1\" class=\"dataframe\">\n",
       "  <thead>\n",
       "    <tr style=\"text-align: right;\">\n",
       "      <th></th>\n",
       "      <th>qm_price</th>\n",
       "    </tr>\n",
       "    <tr>\n",
       "      <th>locality_name</th>\n",
       "      <th></th>\n",
       "    </tr>\n",
       "  </thead>\n",
       "  <tbody>\n",
       "    <tr>\n",
       "      <th>Санкт-Петербург</th>\n",
       "      <td>114848.565231</td>\n",
       "    </tr>\n",
       "    <tr>\n",
       "      <th>Пушкин</th>\n",
       "      <td>103125.373984</td>\n",
       "    </tr>\n",
       "    <tr>\n",
       "      <th>деревня Кудрово</th>\n",
       "      <td>92473.086957</td>\n",
       "    </tr>\n",
       "    <tr>\n",
       "      <th>поселок Парголово</th>\n",
       "      <td>90175.489297</td>\n",
       "    </tr>\n",
       "    <tr>\n",
       "      <th>поселок Мурино</th>\n",
       "      <td>85681.305755</td>\n",
       "    </tr>\n",
       "    <tr>\n",
       "      <th>поселок Шушары</th>\n",
       "      <td>78676.904545</td>\n",
       "    </tr>\n",
       "    <tr>\n",
       "      <th>Колпино</th>\n",
       "      <td>75424.150888</td>\n",
       "    </tr>\n",
       "    <tr>\n",
       "      <th>Гатчина</th>\n",
       "      <td>68745.693811</td>\n",
       "    </tr>\n",
       "    <tr>\n",
       "      <th>Всеволожск</th>\n",
       "      <td>68654.007538</td>\n",
       "    </tr>\n",
       "    <tr>\n",
       "      <th>Выборг</th>\n",
       "      <td>58141.489451</td>\n",
       "    </tr>\n",
       "  </tbody>\n",
       "</table>\n",
       "</div>"
      ],
      "text/plain": [
       "                        qm_price\n",
       "locality_name                   \n",
       "Санкт-Петербург    114848.565231\n",
       "Пушкин             103125.373984\n",
       "деревня Кудрово     92473.086957\n",
       "поселок Парголово   90175.489297\n",
       "поселок Мурино      85681.305755\n",
       "поселок Шушары      78676.904545\n",
       "Колпино             75424.150888\n",
       "Гатчина             68745.693811\n",
       "Всеволожск          68654.007538\n",
       "Выборг              58141.489451"
      ]
     },
     "execution_count": 25,
     "metadata": {},
     "output_type": "execute_result"
    }
   ],
   "source": [
    "df.query('locality_name in @ln.index').pivot_table(index='locality_name', values='qm_price', aggfunc='mean').sort_values('qm_price',ascending=False)"
   ]
  },
  {
   "cell_type": "markdown",
   "metadata": {},
   "source": [
    "<b>Вывод</b><br>\n",
    "Из 10 самых популярных в объявлениях городов, самая высокая стоимость квадратного метра в Санкт-Петербурге, самая низкая в Выборге"
   ]
  },
  {
   "cell_type": "markdown",
   "metadata": {},
   "source": [
    "<h3>Изучите предложения квартир в Санкт-Петербурге"
   ]
  },
  {
   "cell_type": "markdown",
   "metadata": {},
   "source": [
    "<b> Задача — выяснить, какая область входит в центр. </b><br>\n",
    "Создайте столбец с расстоянием до центра в километрах: округлите до целых значений. После этого посчитайте среднюю цену для каждого километра. Постройте график: он должен показывать, как цена зависит от удалённости от центра. Определите границу, где график сильно меняется — это и будет центральная зона. \""
   ]
  },
  {
   "cell_type": "code",
   "execution_count": 26,
   "metadata": {},
   "outputs": [
    {
     "name": "stderr",
     "output_type": "stream",
     "text": [
      "/tmp/ipykernel_357/1464742688.py:2: SettingWithCopyWarning: \n",
      "A value is trying to be set on a copy of a slice from a DataFrame.\n",
      "Try using .loc[row_indexer,col_indexer] = value instead\n",
      "\n",
      "See the caveats in the documentation: https://pandas.pydata.org/pandas-docs/stable/user_guide/indexing.html#returning-a-view-versus-a-copy\n",
      "  df_sp['cсn_km']=(df_sp['city_сenters_nearest']/1000).round().astype('Int64')\n"
     ]
    },
    {
     "data": {
      "text/plain": [
       "<AxesSubplot:xlabel='cсn_km'>"
      ]
     },
     "metadata": {},
     "output_type": "display_data"
    },
    {
     "data": {
      "image/png": "[encoded data removed]",
      "text/plain": [
       "<Figure size 432x288 with 1 Axes>"
      ]
     },
     "metadata": {
      "needs_background": "light"
     },
     "output_type": "display_data"
    }
   ],
   "source": [
    "df_sp=df.query('locality_name == \"Санкт-Петербург\"')\n",
    "df_sp['cсn_km']=(df_sp['city_сenters_nearest']/1000).round().astype('Int64')\n",
    "display(df_sp.pivot_table(index='cсn_km', values='qm_price', aggfunc='mean').sort_values('cсn_km').plot(style='o-'))"
   ]
  },
  {
   "cell_type": "markdown",
   "metadata": {},
   "source": [
    "<b> Из графика видно, что центральная зона Санкт-Петербурга в радиусе 7км от географического центра города"
   ]
  },
  {
   "cell_type": "markdown",
   "metadata": {},
   "source": [
    "<h3>Выделите сегмент квартир в центре"
   ]
  },
  {
   "cell_type": "markdown",
   "metadata": {},
   "source": [
    "Проанализируйте эту территорию и изучите следующие параметры: площадь, цена, число комнат, высота потолков."
   ]
  },
  {
   "cell_type": "code",
   "execution_count": 27,
   "metadata": {},
   "outputs": [
    {
     "data": {
      "text/plain": [
       "<AxesSubplot:>"
      ]
     },
     "execution_count": 27,
     "metadata": {},
     "output_type": "execute_result"
    },
    {
     "data": {
      "image/png": "[encoded data removed]",
      "text/plain": [
       "<Figure size 432x288 with 1 Axes>"
      ]
     },
     "metadata": {
      "needs_background": "light"
     },
     "output_type": "display_data"
    }
   ],
   "source": [
    "df_sp=df_sp.query('cсn_km < 8') #выборка значений в радиусе 7 км от центра\n",
    "df_sp['total_area'].hist(bins=50)"
   ]
  },
  {
   "cell_type": "code",
   "execution_count": 28,
   "metadata": {},
   "outputs": [
    {
     "data": {
      "text/plain": [
       "<AxesSubplot:>"
      ]
     },
     "execution_count": 28,
     "metadata": {},
     "output_type": "execute_result"
    },
    {
     "data": {
      "image/png": "[encoded data removed]",
      "text/plain": [
       "<Figure size 432x288 with 1 Axes>"
      ]
     },
     "metadata": {
      "needs_background": "light"
     },
     "output_type": "display_data"
    }
   ],
   "source": [
    "df_sp['last_price'].hist(bins=50)"
   ]
  },
  {
   "cell_type": "code",
   "execution_count": 29,
   "metadata": {},
   "outputs": [
    {
     "data": {
      "text/plain": [
       "<AxesSubplot:>"
      ]
     },
     "execution_count": 29,
     "metadata": {},
     "output_type": "execute_result"
    },
    {
     "data": {
      "image/png": "[encoded data removed]",
      "text/plain": [
       "<Figure size 432x288 with 1 Axes>"
      ]
     },
     "metadata": {
      "needs_background": "light"
     },
     "output_type": "display_data"
    }
   ],
   "source": [
    "df_sp['rooms'].hist(bins=50)"
   ]
  },
  {
   "cell_type": "code",
   "execution_count": 30,
   "metadata": {},
   "outputs": [
    {
     "data": {
      "text/plain": [
       "<AxesSubplot:>"
      ]
     },
     "execution_count": 30,
     "metadata": {},
     "output_type": "execute_result"
    },
    {
     "data": {
      "image/png": "[encoded data removed]",
      "text/plain": [
       "<Figure size 432x288 with 1 Axes>"
      ]
     },
     "metadata": {
      "needs_background": "light"
     },
     "output_type": "display_data"
    }
   ],
   "source": [
    "df_sp['ceiling_height'].hist(bins=50)"
   ]
  },
  {
   "cell_type": "markdown",
   "metadata": {},
   "source": [
    "<b>Основная масса квартир в центре общей площадью от 20 до 120 кв.м., стоимостью в среднем 20млн.р., преобладающим количеством 2-3 комнат с потолками около 3-х метров"
   ]
  },
  {
   "cell_type": "code",
   "execution_count": 31,
   "metadata": {},
   "outputs": [
    {
     "data": {
      "text/plain": [
       "<AxesSubplot:xlabel='last_price'>"
      ]
     },
     "execution_count": 31,
     "metadata": {},
     "output_type": "execute_result"
    },
    {
     "data": {
      "image/png": "[encoded data removed]",
      "text/plain": [
       "<Figure size 432x288 with 1 Axes>"
      ]
     },
     "metadata": {
      "needs_background": "light"
     },
     "output_type": "display_data"
    }
   ],
   "source": [
    "df_sp.plot(x='last_price', y='rooms',style='o')"
   ]
  },
  {
   "cell_type": "code",
   "execution_count": 32,
   "metadata": {},
   "outputs": [
    {
     "data": {
      "text/plain": [
       "<AxesSubplot:xlabel='last_price'>"
      ]
     },
     "execution_count": 32,
     "metadata": {},
     "output_type": "execute_result"
    },
    {
     "data": {
      "image/png": "[encoded data removed]",
      "text/plain": [
       "<Figure size 432x288 with 1 Axes>"
      ]
     },
     "metadata": {
      "needs_background": "light"
     },
     "output_type": "display_data"
    }
   ],
   "source": [
    "df_sp.plot(x='last_price', y='floor',style='o')"
   ]
  },
  {
   "cell_type": "code",
   "execution_count": 33,
   "metadata": {},
   "outputs": [
    {
     "data": {
      "text/plain": [
       "<AxesSubplot:xlabel='last_price'>"
      ]
     },
     "execution_count": 33,
     "metadata": {},
     "output_type": "execute_result"
    },
    {
     "data": {
      "image/png": "[encoded data removed]",
      "text/plain": [
       "<Figure size 432x288 with 1 Axes>"
      ]
     },
     "metadata": {
      "needs_background": "light"
     },
     "output_type": "display_data"
    }
   ],
   "source": [
    "df_sp.plot(x='last_price', y='cсn_km',style='o',alpha=0.3)"
   ]
  },
  {
   "cell_type": "code",
   "execution_count": 34,
   "metadata": {},
   "outputs": [
    {
     "data": {
      "text/plain": [
       "<AxesSubplot:xlabel='last_price'>"
      ]
     },
     "execution_count": 34,
     "metadata": {},
     "output_type": "execute_result"
    },
    {
     "data": {
      "image/png": "[encoded data removed]",
      "text/plain": [
       "<Figure size 432x288 with 1 Axes>"
      ]
     },
     "metadata": {
      "needs_background": "light"
     },
     "output_type": "display_data"
    }
   ],
   "source": [
    "df_sp.plot(x='last_price', y='first_day_exposition',style='o',alpha=0.3)"
   ]
  },
  {
   "cell_type": "markdown",
   "metadata": {},
   "source": [
    "<b>Изученные данные по центральным районам Санкт-Петербурга позволяют сделать выводы:</b>\n",
    " - застройка центра города предсказуемо увеличивается от центра (количество предложений возрастает);\n",
    " - преобладают здания преимущественно с потолками около 3-х метров (что выше в сравнении с остальными предложениями)\n",
    " - средняя стоимость жилья значительно выше среднерыночной \n",
    " - этажность, позволяет судить о достаточно старой застройке, т.к. преобладают здания до 10 этажей, что характерно для советского времени\n"
   ]
  },
  {
   "cell_type": "markdown",
   "metadata": {},
   "source": [
    "## Общий вывод"
   ]
  },
  {
   "cell_type": "markdown",
   "metadata": {},
   "source": [
    "<b>В данной работе закрепили способы и методы анализа больших объёмов данных, что позволило проанализировать рынок недвижимости Ленинградской области.<br>\n",
    "В результате анализа были подтверждены гипотезы о стоимости и качестве жилья в центральных районах Санкт-Петербурга и определились различия с невидимостью остальных помещений в городе и области."
   ]
  },
  {
   "cell_type": "code",
   "execution_count": null,
   "metadata": {},
   "outputs": [],
   "source": []
  }
 ],
 "metadata": {
  "ExecuteTimeLog": [
   {
    "duration": 883,
    "start_time": "2021-12-26T08:27:57.250Z"
   },
   {
    "duration": 113,
    "start_time": "2021-12-26T09:31:07.039Z"
   },
   {
    "duration": 115,
    "start_time": "2021-12-26T09:32:09.950Z"
   },
   {
    "duration": 91,
    "start_time": "2021-12-26T09:32:16.659Z"
   },
   {
    "duration": 94,
    "start_time": "2021-12-26T09:36:32.979Z"
   },
   {
    "duration": 106,
    "start_time": "2021-12-26T09:36:39.939Z"
   },
   {
    "duration": 96,
    "start_time": "2021-12-26T09:36:51.479Z"
   },
   {
    "duration": 95,
    "start_time": "2021-12-26T09:47:02.859Z"
   },
   {
    "duration": 104,
    "start_time": "2021-12-26T09:47:15.961Z"
   },
   {
    "duration": 1242,
    "start_time": "2021-12-26T09:47:27.918Z"
   },
   {
    "duration": 90,
    "start_time": "2021-12-26T09:47:59.879Z"
   },
   {
    "duration": 155,
    "start_time": "2021-12-26T09:58:38.740Z"
   },
   {
    "duration": 136,
    "start_time": "2021-12-26T10:12:09.761Z"
   },
   {
    "duration": 142,
    "start_time": "2021-12-26T10:45:01.356Z"
   },
   {
    "duration": 137,
    "start_time": "2021-12-26T10:45:21.644Z"
   },
   {
    "duration": 150,
    "start_time": "2021-12-26T10:45:39.026Z"
   },
   {
    "duration": 468,
    "start_time": "2021-12-26T10:46:19.753Z"
   },
   {
    "duration": 470,
    "start_time": "2021-12-26T10:46:54.561Z"
   },
   {
    "duration": 137,
    "start_time": "2021-12-26T10:47:04.235Z"
   },
   {
    "duration": 134,
    "start_time": "2021-12-26T10:47:14.376Z"
   },
   {
    "duration": 132,
    "start_time": "2021-12-26T10:47:45.859Z"
   },
   {
    "duration": 135,
    "start_time": "2021-12-26T10:50:53.981Z"
   },
   {
    "duration": 132,
    "start_time": "2021-12-26T10:53:01.014Z"
   },
   {
    "duration": 137,
    "start_time": "2021-12-26T10:53:42.418Z"
   },
   {
    "duration": 151,
    "start_time": "2021-12-26T10:55:50.556Z"
   },
   {
    "duration": 138,
    "start_time": "2021-12-26T10:57:04.754Z"
   },
   {
    "duration": 142,
    "start_time": "2021-12-26T10:58:32.376Z"
   },
   {
    "duration": 134,
    "start_time": "2021-12-26T10:59:58.520Z"
   },
   {
    "duration": 137,
    "start_time": "2021-12-26T11:04:06.938Z"
   },
   {
    "duration": 126,
    "start_time": "2021-12-26T11:09:10.831Z"
   },
   {
    "duration": 149,
    "start_time": "2021-12-26T11:17:34.670Z"
   },
   {
    "duration": 158,
    "start_time": "2021-12-26T11:21:19.167Z"
   },
   {
    "duration": 165,
    "start_time": "2021-12-26T11:21:48.143Z"
   },
   {
    "duration": 32,
    "start_time": "2021-12-26T11:24:21.691Z"
   },
   {
    "duration": 37,
    "start_time": "2021-12-26T11:32:30.986Z"
   },
   {
    "duration": 68,
    "start_time": "2021-12-26T11:37:38.510Z"
   },
   {
    "duration": 47,
    "start_time": "2021-12-26T11:42:47.171Z"
   },
   {
    "duration": 8207,
    "start_time": "2021-12-26T11:44:30.112Z"
   },
   {
    "duration": 49,
    "start_time": "2021-12-26T11:44:48.661Z"
   },
   {
    "duration": 970,
    "start_time": "2021-12-26T11:46:21.658Z"
   },
   {
    "duration": 58,
    "start_time": "2021-12-26T11:47:01.472Z"
   },
   {
    "duration": 2592,
    "start_time": "2021-12-26T11:55:26.932Z"
   },
   {
    "duration": 2202,
    "start_time": "2021-12-26T11:59:32.234Z"
   },
   {
    "duration": 53,
    "start_time": "2021-12-26T11:59:38.351Z"
   },
   {
    "duration": 58,
    "start_time": "2021-12-26T11:59:49.349Z"
   },
   {
    "duration": 2384,
    "start_time": "2021-12-26T12:05:10.275Z"
   },
   {
    "duration": 2525,
    "start_time": "2021-12-26T12:05:37.785Z"
   },
   {
    "duration": 2432,
    "start_time": "2021-12-26T12:09:38.329Z"
   },
   {
    "duration": 52,
    "start_time": "2021-12-26T12:13:17.982Z"
   },
   {
    "duration": 64,
    "start_time": "2021-12-26T12:14:20.445Z"
   },
   {
    "duration": 61,
    "start_time": "2021-12-26T12:14:28.117Z"
   },
   {
    "duration": 963,
    "start_time": "2021-12-26T12:14:43.324Z"
   },
   {
    "duration": 80,
    "start_time": "2021-12-26T12:14:44.290Z"
   },
   {
    "duration": 56,
    "start_time": "2021-12-26T12:16:10.791Z"
   },
   {
    "duration": 53,
    "start_time": "2021-12-26T12:18:31.778Z"
   },
   {
    "duration": 60,
    "start_time": "2021-12-26T12:18:50.096Z"
   },
   {
    "duration": 58,
    "start_time": "2021-12-26T12:19:04.587Z"
   },
   {
    "duration": 56,
    "start_time": "2021-12-26T12:19:11.370Z"
   },
   {
    "duration": 59,
    "start_time": "2021-12-26T12:29:42.804Z"
   },
   {
    "duration": 56,
    "start_time": "2021-12-26T12:30:24.349Z"
   },
   {
    "duration": 529,
    "start_time": "2021-12-26T12:30:36.337Z"
   },
   {
    "duration": 351,
    "start_time": "2021-12-26T12:31:21.002Z"
   },
   {
    "duration": 59,
    "start_time": "2021-12-26T12:32:07.296Z"
   },
   {
    "duration": 342,
    "start_time": "2021-12-26T12:33:13.665Z"
   },
   {
    "duration": 179,
    "start_time": "2021-12-26T12:33:31.724Z"
   },
   {
    "duration": 353,
    "start_time": "2021-12-26T12:33:40.389Z"
   },
   {
    "duration": 60,
    "start_time": "2021-12-26T12:36:31.746Z"
   },
   {
    "duration": 408,
    "start_time": "2021-12-26T12:43:18.041Z"
   },
   {
    "duration": 426,
    "start_time": "2021-12-26T12:43:44.792Z"
   },
   {
    "duration": 59,
    "start_time": "2021-12-26T12:44:00.030Z"
   },
   {
    "duration": 69,
    "start_time": "2021-12-26T12:45:58.761Z"
   },
   {
    "duration": 169,
    "start_time": "2021-12-26T12:46:11.413Z"
   },
   {
    "duration": 80,
    "start_time": "2021-12-26T12:46:22.893Z"
   },
   {
    "duration": 340,
    "start_time": "2021-12-26T12:46:36.925Z"
   },
   {
    "duration": 73,
    "start_time": "2021-12-26T12:49:59.807Z"
   },
   {
    "duration": 34,
    "start_time": "2021-12-26T14:54:45.829Z"
   },
   {
    "duration": 35,
    "start_time": "2021-12-26T14:55:33.311Z"
   },
   {
    "duration": 33,
    "start_time": "2021-12-26T14:56:05.796Z"
   },
   {
    "duration": 457,
    "start_time": "2021-12-26T14:56:26.317Z"
   },
   {
    "duration": 359,
    "start_time": "2021-12-26T14:57:14.980Z"
   },
   {
    "duration": 328,
    "start_time": "2021-12-26T15:01:11.683Z"
   },
   {
    "duration": 322,
    "start_time": "2021-12-26T15:01:55.331Z"
   },
   {
    "duration": 32,
    "start_time": "2021-12-26T15:10:03.399Z"
   },
   {
    "duration": 45,
    "start_time": "2021-12-26T15:22:07.762Z"
   },
   {
    "duration": 46,
    "start_time": "2021-12-26T15:22:51.946Z"
   },
   {
    "duration": 941,
    "start_time": "2021-12-26T15:24:39.979Z"
   },
   {
    "duration": 108,
    "start_time": "2021-12-26T15:24:40.923Z"
   },
   {
    "duration": 56,
    "start_time": "2021-12-26T15:24:41.035Z"
   },
   {
    "duration": 4,
    "start_time": "2021-12-26T15:24:41.095Z"
   },
   {
    "duration": 73,
    "start_time": "2021-12-26T15:24:41.102Z"
   },
   {
    "duration": 3,
    "start_time": "2021-12-26T15:24:41.177Z"
   },
   {
    "duration": 45,
    "start_time": "2021-12-26T15:25:34.106Z"
   },
   {
    "duration": 85,
    "start_time": "2021-12-26T15:26:17.265Z"
   },
   {
    "duration": 61,
    "start_time": "2021-12-26T15:26:46.812Z"
   },
   {
    "duration": 496,
    "start_time": "2021-12-26T15:32:04.472Z"
   },
   {
    "duration": 59,
    "start_time": "2021-12-26T15:37:51.768Z"
   },
   {
    "duration": 1462,
    "start_time": "2021-12-26T15:38:50.916Z"
   },
   {
    "duration": 142,
    "start_time": "2021-12-26T15:39:10.133Z"
   },
   {
    "duration": 541,
    "start_time": "2021-12-26T15:40:34.254Z"
   },
   {
    "duration": 538,
    "start_time": "2021-12-26T15:41:11.761Z"
   },
   {
    "duration": 395,
    "start_time": "2021-12-26T15:41:27.769Z"
   },
   {
    "duration": 340,
    "start_time": "2021-12-26T15:44:41.671Z"
   },
   {
    "duration": 341,
    "start_time": "2021-12-26T15:44:57.127Z"
   },
   {
    "duration": 965,
    "start_time": "2021-12-26T15:49:07.156Z"
   },
   {
    "duration": 95,
    "start_time": "2021-12-26T15:49:08.123Z"
   },
   {
    "duration": 50,
    "start_time": "2021-12-26T15:49:08.221Z"
   },
   {
    "duration": 4,
    "start_time": "2021-12-26T15:49:08.274Z"
   },
   {
    "duration": 433,
    "start_time": "2021-12-26T15:49:08.280Z"
   },
   {
    "duration": -612,
    "start_time": "2021-12-26T15:49:09.328Z"
   },
   {
    "duration": 347,
    "start_time": "2021-12-26T16:15:10.834Z"
   },
   {
    "duration": 7896,
    "start_time": "2021-12-26T16:15:33.414Z"
   },
   {
    "duration": 8978,
    "start_time": "2021-12-26T16:15:42.993Z"
   },
   {
    "duration": 317,
    "start_time": "2021-12-26T16:16:12.382Z"
   },
   {
    "duration": 115,
    "start_time": "2021-12-26T16:19:12.770Z"
   },
   {
    "duration": 348,
    "start_time": "2021-12-26T16:19:19.749Z"
   },
   {
    "duration": 2213,
    "start_time": "2021-12-26T16:21:14.951Z"
   },
   {
    "duration": 2461,
    "start_time": "2021-12-26T16:21:31.186Z"
   },
   {
    "duration": 39,
    "start_time": "2021-12-26T17:19:26.500Z"
   },
   {
    "duration": 75,
    "start_time": "2021-12-26T17:22:28.602Z"
   },
   {
    "duration": 40,
    "start_time": "2021-12-26T17:28:58.235Z"
   },
   {
    "duration": 2289,
    "start_time": "2021-12-26T17:38:15.536Z"
   },
   {
    "duration": 385,
    "start_time": "2021-12-26T17:41:52.068Z"
   },
   {
    "duration": 304,
    "start_time": "2021-12-26T17:42:14.140Z"
   },
   {
    "duration": 11,
    "start_time": "2021-12-26T17:43:33.280Z"
   },
   {
    "duration": 19,
    "start_time": "2021-12-26T17:43:56.901Z"
   },
   {
    "duration": 36,
    "start_time": "2021-12-26T17:44:14.586Z"
   },
   {
    "duration": 8940,
    "start_time": "2021-12-26T17:44:35.062Z"
   },
   {
    "duration": -776,
    "start_time": "2021-12-26T17:44:44.782Z"
   },
   {
    "duration": 52,
    "start_time": "2021-12-26T17:45:02.261Z"
   },
   {
    "duration": 33,
    "start_time": "2021-12-26T17:45:44.395Z"
   },
   {
    "duration": 43,
    "start_time": "2021-12-26T17:49:00.630Z"
   },
   {
    "duration": 76,
    "start_time": "2021-12-26T17:49:28.008Z"
   },
   {
    "duration": 958,
    "start_time": "2021-12-26T18:06:20.601Z"
   },
   {
    "duration": 107,
    "start_time": "2021-12-26T18:06:21.566Z"
   },
   {
    "duration": 37,
    "start_time": "2021-12-26T18:06:21.676Z"
   },
   {
    "duration": 83,
    "start_time": "2021-12-26T18:06:21.716Z"
   },
   {
    "duration": 2646,
    "start_time": "2021-12-26T18:06:21.801Z"
   },
   {
    "duration": -695,
    "start_time": "2021-12-26T18:06:25.144Z"
   },
   {
    "duration": 46,
    "start_time": "2021-12-26T18:06:55.310Z"
   },
   {
    "duration": 579,
    "start_time": "2021-12-26T18:15:50.380Z"
   },
   {
    "duration": 108,
    "start_time": "2021-12-26T18:16:00.214Z"
   },
   {
    "duration": 64,
    "start_time": "2021-12-26T18:16:23.139Z"
   },
   {
    "duration": 519,
    "start_time": "2021-12-26T18:17:13.984Z"
   },
   {
    "duration": 62,
    "start_time": "2021-12-26T18:17:26.228Z"
   },
   {
    "duration": 563,
    "start_time": "2021-12-26T18:19:30.066Z"
   },
   {
    "duration": 689,
    "start_time": "2021-12-26T18:34:21.635Z"
   },
   {
    "duration": 132,
    "start_time": "2021-12-26T18:42:33.507Z"
   },
   {
    "duration": 1107,
    "start_time": "2021-12-26T18:42:50.950Z"
   },
   {
    "duration": 454,
    "start_time": "2021-12-28T08:24:48.131Z"
   },
   {
    "duration": 944,
    "start_time": "2021-12-28T08:25:00.101Z"
   },
   {
    "duration": 585,
    "start_time": "2021-12-28T08:25:01.047Z"
   },
   {
    "duration": -1208,
    "start_time": "2021-12-28T08:25:02.842Z"
   },
   {
    "duration": -1211,
    "start_time": "2021-12-28T08:25:02.847Z"
   },
   {
    "duration": -1213,
    "start_time": "2021-12-28T08:25:02.851Z"
   },
   {
    "duration": -1216,
    "start_time": "2021-12-28T08:25:02.855Z"
   },
   {
    "duration": 111,
    "start_time": "2021-12-28T08:26:58.985Z"
   },
   {
    "duration": 245,
    "start_time": "2021-12-28T08:27:27.869Z"
   },
   {
    "duration": 56,
    "start_time": "2021-12-28T08:27:45.976Z"
   },
   {
    "duration": 46,
    "start_time": "2021-12-28T08:28:07.973Z"
   },
   {
    "duration": 1329,
    "start_time": "2021-12-28T08:28:29.920Z"
   },
   {
    "duration": 104,
    "start_time": "2021-12-28T08:28:31.252Z"
   },
   {
    "duration": 36,
    "start_time": "2021-12-28T08:28:31.360Z"
   },
   {
    "duration": 80,
    "start_time": "2021-12-28T08:28:31.426Z"
   },
   {
    "duration": 1689,
    "start_time": "2021-12-28T08:28:31.524Z"
   },
   {
    "duration": 54,
    "start_time": "2021-12-28T08:28:33.224Z"
   },
   {
    "duration": 483,
    "start_time": "2021-12-28T08:29:14.745Z"
   },
   {
    "duration": 409,
    "start_time": "2021-12-28T08:29:50.722Z"
   },
   {
    "duration": 221,
    "start_time": "2021-12-28T08:29:56.128Z"
   },
   {
    "duration": 93,
    "start_time": "2021-12-28T08:30:02.478Z"
   },
   {
    "duration": 1126,
    "start_time": "2021-12-28T08:31:12.576Z"
   },
   {
    "duration": 100,
    "start_time": "2021-12-28T08:31:22.440Z"
   },
   {
    "duration": 525,
    "start_time": "2021-12-28T08:31:42.316Z"
   },
   {
    "duration": 204,
    "start_time": "2021-12-28T08:31:51.639Z"
   },
   {
    "duration": 93,
    "start_time": "2021-12-28T08:31:57.937Z"
   },
   {
    "duration": 268,
    "start_time": "2021-12-28T08:36:23.789Z"
   },
   {
    "duration": 102,
    "start_time": "2021-12-28T08:36:59.699Z"
   },
   {
    "duration": 41,
    "start_time": "2021-12-28T08:37:05.241Z"
   },
   {
    "duration": 53,
    "start_time": "2021-12-28T08:37:09.038Z"
   },
   {
    "duration": 54,
    "start_time": "2021-12-28T08:37:14.046Z"
   },
   {
    "duration": 1267,
    "start_time": "2021-12-28T08:37:32.813Z"
   },
   {
    "duration": 110,
    "start_time": "2021-12-28T08:37:34.084Z"
   },
   {
    "duration": 70,
    "start_time": "2021-12-28T08:37:34.197Z"
   },
   {
    "duration": 71,
    "start_time": "2021-12-28T08:37:34.270Z"
   },
   {
    "duration": 1151,
    "start_time": "2021-12-28T08:37:34.344Z"
   },
   {
    "duration": 67,
    "start_time": "2021-12-28T08:37:35.498Z"
   },
   {
    "duration": 1687,
    "start_time": "2021-12-28T08:44:42.747Z"
   },
   {
    "duration": 116,
    "start_time": "2021-12-28T08:45:14.864Z"
   },
   {
    "duration": 750,
    "start_time": "2021-12-28T08:57:21.476Z"
   },
   {
    "duration": 564,
    "start_time": "2021-12-28T08:57:35.942Z"
   },
   {
    "duration": 584,
    "start_time": "2021-12-28T08:58:56.196Z"
   },
   {
    "duration": 979,
    "start_time": "2021-12-28T08:59:37.064Z"
   },
   {
    "duration": 803,
    "start_time": "2021-12-28T08:59:49.744Z"
   },
   {
    "duration": 213,
    "start_time": "2021-12-28T08:59:56.717Z"
   },
   {
    "duration": 322,
    "start_time": "2021-12-28T09:00:00.156Z"
   },
   {
    "duration": 11,
    "start_time": "2021-12-28T09:00:12.281Z"
   },
   {
    "duration": 645,
    "start_time": "2021-12-28T09:00:34.845Z"
   },
   {
    "duration": 724,
    "start_time": "2021-12-28T09:01:17.032Z"
   },
   {
    "duration": 612,
    "start_time": "2021-12-28T09:03:07.722Z"
   },
   {
    "duration": 634,
    "start_time": "2021-12-28T09:03:22.125Z"
   },
   {
    "duration": 622,
    "start_time": "2021-12-28T09:03:43.838Z"
   },
   {
    "duration": 712,
    "start_time": "2021-12-28T09:05:25.391Z"
   },
   {
    "duration": 647,
    "start_time": "2021-12-28T09:14:25.018Z"
   },
   {
    "duration": 639,
    "start_time": "2021-12-28T09:15:08.366Z"
   },
   {
    "duration": 525,
    "start_time": "2021-12-28T09:15:35.970Z"
   },
   {
    "duration": 687,
    "start_time": "2021-12-28T09:18:19.996Z"
   },
   {
    "duration": 717,
    "start_time": "2021-12-28T09:32:25.077Z"
   },
   {
    "duration": 696,
    "start_time": "2021-12-28T09:33:09.893Z"
   },
   {
    "duration": 664,
    "start_time": "2021-12-28T09:34:01.377Z"
   },
   {
    "duration": 671,
    "start_time": "2021-12-28T09:34:10.997Z"
   },
   {
    "duration": 715,
    "start_time": "2021-12-28T09:34:33.141Z"
   },
   {
    "duration": 740,
    "start_time": "2021-12-28T09:45:04.535Z"
   },
   {
    "duration": 718,
    "start_time": "2021-12-28T09:45:44.205Z"
   },
   {
    "duration": 561,
    "start_time": "2021-12-28T09:46:03.571Z"
   },
   {
    "duration": 585,
    "start_time": "2021-12-28T09:46:12.418Z"
   },
   {
    "duration": 540,
    "start_time": "2021-12-28T09:46:46.241Z"
   },
   {
    "duration": 589,
    "start_time": "2021-12-28T09:46:55.437Z"
   },
   {
    "duration": 655,
    "start_time": "2021-12-28T09:47:13.609Z"
   },
   {
    "duration": 916,
    "start_time": "2021-12-28T09:50:01.765Z"
   },
   {
    "duration": 112,
    "start_time": "2021-12-28T09:56:46.064Z"
   },
   {
    "duration": 685,
    "start_time": "2021-12-28T09:56:55.101Z"
   },
   {
    "duration": 12,
    "start_time": "2021-12-28T09:59:49.948Z"
   },
   {
    "duration": 821,
    "start_time": "2021-12-28T10:00:04.985Z"
   },
   {
    "duration": 576,
    "start_time": "2021-12-28T10:00:27.184Z"
   },
   {
    "duration": 578,
    "start_time": "2021-12-28T10:00:37.264Z"
   },
   {
    "duration": 700,
    "start_time": "2021-12-28T10:00:41.483Z"
   },
   {
    "duration": 602,
    "start_time": "2021-12-28T10:00:55.488Z"
   },
   {
    "duration": 588,
    "start_time": "2021-12-28T10:06:15.210Z"
   },
   {
    "duration": 605,
    "start_time": "2021-12-28T10:06:31.654Z"
   },
   {
    "duration": 167,
    "start_time": "2021-12-28T10:59:50.970Z"
   },
   {
    "duration": 102,
    "start_time": "2021-12-28T10:59:51.139Z"
   },
   {
    "duration": 33,
    "start_time": "2021-12-28T10:59:51.244Z"
   },
   {
    "duration": 77,
    "start_time": "2021-12-28T10:59:51.279Z"
   },
   {
    "duration": 992,
    "start_time": "2021-12-28T10:59:51.359Z"
   },
   {
    "duration": 40,
    "start_time": "2021-12-28T10:59:52.353Z"
   },
   {
    "duration": 718,
    "start_time": "2021-12-28T10:59:52.396Z"
   },
   {
    "duration": 606,
    "start_time": "2021-12-28T10:59:53.124Z"
   },
   {
    "duration": 648,
    "start_time": "2021-12-28T10:59:53.734Z"
   },
   {
    "duration": 604,
    "start_time": "2021-12-28T10:59:54.385Z"
   },
   {
    "duration": 570,
    "start_time": "2021-12-28T11:00:44.320Z"
   },
   {
    "duration": 678,
    "start_time": "2021-12-28T11:01:37.802Z"
   },
   {
    "duration": 99,
    "start_time": "2021-12-28T11:01:51.968Z"
   },
   {
    "duration": 577,
    "start_time": "2021-12-28T11:01:57.108Z"
   },
   {
    "duration": 1072,
    "start_time": "2021-12-28T11:03:00.799Z"
   },
   {
    "duration": 109,
    "start_time": "2021-12-28T11:03:01.874Z"
   },
   {
    "duration": 52,
    "start_time": "2021-12-28T11:03:01.988Z"
   },
   {
    "duration": 63,
    "start_time": "2021-12-28T11:03:02.044Z"
   },
   {
    "duration": 1001,
    "start_time": "2021-12-28T11:03:02.124Z"
   },
   {
    "duration": 58,
    "start_time": "2021-12-28T11:03:03.128Z"
   },
   {
    "duration": 700,
    "start_time": "2021-12-28T11:03:03.189Z"
   },
   {
    "duration": 608,
    "start_time": "2021-12-28T11:03:03.893Z"
   },
   {
    "duration": 622,
    "start_time": "2021-12-28T11:03:04.504Z"
   },
   {
    "duration": 553,
    "start_time": "2021-12-28T11:03:05.128Z"
   },
   {
    "duration": 532,
    "start_time": "2021-12-28T11:03:26.217Z"
   },
   {
    "duration": 839,
    "start_time": "2021-12-28T11:06:01.741Z"
   },
   {
    "duration": 607,
    "start_time": "2021-12-28T11:23:12.475Z"
   },
   {
    "duration": 14,
    "start_time": "2021-12-28T11:26:45.941Z"
   },
   {
    "duration": 572,
    "start_time": "2021-12-28T11:29:06.788Z"
   },
   {
    "duration": 587,
    "start_time": "2021-12-28T11:29:19.608Z"
   },
   {
    "duration": 58,
    "start_time": "2021-12-28T12:11:00.514Z"
   },
   {
    "duration": 26,
    "start_time": "2021-12-28T12:13:15.349Z"
   },
   {
    "duration": 527,
    "start_time": "2021-12-28T12:18:05.514Z"
   },
   {
    "duration": 418,
    "start_time": "2021-12-28T12:20:22.248Z"
   },
   {
    "duration": 328,
    "start_time": "2021-12-28T12:20:51.944Z"
   },
   {
    "duration": 103,
    "start_time": "2021-12-28T12:21:32.032Z"
   },
   {
    "duration": 55,
    "start_time": "2021-12-28T12:21:36.014Z"
   },
   {
    "duration": 124,
    "start_time": "2021-12-28T12:25:56.378Z"
   },
   {
    "duration": 116,
    "start_time": "2021-12-28T12:26:09.252Z"
   },
   {
    "duration": 116,
    "start_time": "2021-12-28T12:26:17.885Z"
   },
   {
    "duration": 120,
    "start_time": "2021-12-28T12:26:32.293Z"
   },
   {
    "duration": 183,
    "start_time": "2021-12-28T12:26:55.300Z"
   },
   {
    "duration": 103,
    "start_time": "2021-12-28T12:27:02.598Z"
   },
   {
    "duration": 157,
    "start_time": "2021-12-28T12:27:12.769Z"
   },
   {
    "duration": 57,
    "start_time": "2021-12-28T12:27:42.977Z"
   },
   {
    "duration": 24,
    "start_time": "2021-12-28T12:27:49.868Z"
   },
   {
    "duration": 114,
    "start_time": "2021-12-28T12:29:42.168Z"
   },
   {
    "duration": 696,
    "start_time": "2021-12-28T13:49:27.463Z"
   },
   {
    "duration": 920,
    "start_time": "2021-12-28T13:52:03.473Z"
   },
   {
    "duration": 729,
    "start_time": "2021-12-28T13:55:47.916Z"
   },
   {
    "duration": 736,
    "start_time": "2021-12-28T13:56:11.016Z"
   },
   {
    "duration": 357,
    "start_time": "2021-12-28T13:57:45.567Z"
   },
   {
    "duration": 731,
    "start_time": "2021-12-28T13:58:40.977Z"
   },
   {
    "duration": 702,
    "start_time": "2021-12-28T14:00:32.076Z"
   },
   {
    "duration": 329,
    "start_time": "2021-12-28T14:09:25.089Z"
   },
   {
    "duration": 701,
    "start_time": "2021-12-28T14:09:40.038Z"
   },
   {
    "duration": 738,
    "start_time": "2021-12-28T14:09:45.519Z"
   },
   {
    "duration": 319,
    "start_time": "2021-12-28T14:11:02.583Z"
   },
   {
    "duration": 43,
    "start_time": "2021-12-28T14:11:53.824Z"
   },
   {
    "duration": 690,
    "start_time": "2021-12-28T14:12:26.684Z"
   },
   {
    "duration": 315,
    "start_time": "2021-12-28T14:20:51.958Z"
   },
   {
    "duration": 11,
    "start_time": "2021-12-28T14:21:24.146Z"
   },
   {
    "duration": 10,
    "start_time": "2021-12-28T14:21:40.643Z"
   },
   {
    "duration": 315,
    "start_time": "2021-12-28T14:22:51.648Z"
   },
   {
    "duration": 318,
    "start_time": "2021-12-28T14:22:59.232Z"
   },
   {
    "duration": 408,
    "start_time": "2021-12-28T14:24:46.183Z"
   },
   {
    "duration": 148,
    "start_time": "2021-12-28T14:25:03.726Z"
   },
   {
    "duration": 111,
    "start_time": "2021-12-28T14:25:10.042Z"
   },
   {
    "duration": 114,
    "start_time": "2021-12-28T14:29:28.448Z"
   },
   {
    "duration": 65,
    "start_time": "2021-12-28T14:29:37.064Z"
   },
   {
    "duration": 41,
    "start_time": "2021-12-28T14:29:54.930Z"
   },
   {
    "duration": 57,
    "start_time": "2021-12-28T14:30:16.731Z"
   },
   {
    "duration": 21,
    "start_time": "2021-12-28T15:00:05.504Z"
   },
   {
    "duration": 60,
    "start_time": "2021-12-28T15:00:23.612Z"
   },
   {
    "duration": 716,
    "start_time": "2021-12-28T15:00:30.150Z"
   },
   {
    "duration": 684,
    "start_time": "2021-12-28T15:00:41.880Z"
   },
   {
    "duration": 737,
    "start_time": "2021-12-28T15:00:49.442Z"
   },
   {
    "duration": 755,
    "start_time": "2021-12-28T15:00:57.981Z"
   },
   {
    "duration": 9071,
    "start_time": "2021-12-28T15:01:08.811Z"
   },
   {
    "duration": -1650,
    "start_time": "2021-12-28T15:01:19.535Z"
   },
   {
    "duration": -1659,
    "start_time": "2021-12-28T15:01:19.546Z"
   },
   {
    "duration": 8931,
    "start_time": "2021-12-28T15:01:38.940Z"
   },
   {
    "duration": 888,
    "start_time": "2021-12-28T15:15:08.281Z"
   },
   {
    "duration": 95,
    "start_time": "2021-12-28T15:15:09.172Z"
   },
   {
    "duration": 53,
    "start_time": "2021-12-28T15:15:09.270Z"
   },
   {
    "duration": 43,
    "start_time": "2021-12-28T15:15:09.327Z"
   },
   {
    "duration": 963,
    "start_time": "2021-12-28T15:15:09.372Z"
   },
   {
    "duration": 41,
    "start_time": "2021-12-28T15:15:10.337Z"
   },
   {
    "duration": 681,
    "start_time": "2021-12-28T15:15:10.380Z"
   },
   {
    "duration": 559,
    "start_time": "2021-12-28T15:15:11.066Z"
   },
   {
    "duration": 631,
    "start_time": "2021-12-28T15:15:11.628Z"
   },
   {
    "duration": 591,
    "start_time": "2021-12-28T15:15:12.261Z"
   },
   {
    "duration": 593,
    "start_time": "2021-12-28T15:15:12.856Z"
   },
   {
    "duration": 27,
    "start_time": "2021-12-28T15:15:13.453Z"
   },
   {
    "duration": 108,
    "start_time": "2021-12-28T15:15:13.483Z"
   },
   {
    "duration": 803,
    "start_time": "2021-12-28T15:15:13.593Z"
   },
   {
    "duration": 813,
    "start_time": "2021-12-28T15:15:14.399Z"
   },
   {
    "duration": 757,
    "start_time": "2021-12-28T15:15:15.215Z"
   },
   {
    "duration": 795,
    "start_time": "2021-12-28T15:15:15.976Z"
   },
   {
    "duration": 718,
    "start_time": "2021-12-28T15:15:16.773Z"
   },
   {
    "duration": 757,
    "start_time": "2021-12-28T15:15:17.493Z"
   },
   {
    "duration": 684,
    "start_time": "2021-12-28T15:15:18.252Z"
   },
   {
    "duration": 73,
    "start_time": "2021-12-28T15:16:02.968Z"
   },
   {
    "duration": 917,
    "start_time": "2021-12-28T15:16:52.233Z"
   },
   {
    "duration": 91,
    "start_time": "2021-12-28T15:16:53.153Z"
   },
   {
    "duration": 34,
    "start_time": "2021-12-28T15:16:53.247Z"
   },
   {
    "duration": 73,
    "start_time": "2021-12-28T15:16:53.284Z"
   },
   {
    "duration": 950,
    "start_time": "2021-12-28T15:16:53.360Z"
   },
   {
    "duration": 49,
    "start_time": "2021-12-28T15:16:54.313Z"
   },
   {
    "duration": 696,
    "start_time": "2021-12-28T15:16:54.365Z"
   },
   {
    "duration": 594,
    "start_time": "2021-12-28T15:16:55.067Z"
   },
   {
    "duration": 612,
    "start_time": "2021-12-28T15:16:55.664Z"
   },
   {
    "duration": 586,
    "start_time": "2021-12-28T15:16:56.279Z"
   },
   {
    "duration": 556,
    "start_time": "2021-12-28T15:16:56.867Z"
   },
   {
    "duration": 25,
    "start_time": "2021-12-28T15:16:57.425Z"
   },
   {
    "duration": 91,
    "start_time": "2021-12-28T15:16:57.452Z"
   },
   {
    "duration": 758,
    "start_time": "2021-12-28T15:16:57.545Z"
   },
   {
    "duration": 897,
    "start_time": "2021-12-28T15:16:58.307Z"
   },
   {
    "duration": 729,
    "start_time": "2021-12-28T15:16:59.206Z"
   },
   {
    "duration": 788,
    "start_time": "2021-12-28T15:16:59.938Z"
   },
   {
    "duration": 748,
    "start_time": "2021-12-28T15:17:00.728Z"
   },
   {
    "duration": 715,
    "start_time": "2021-12-28T15:17:01.479Z"
   },
   {
    "duration": 729,
    "start_time": "2021-12-28T15:17:02.196Z"
   },
   {
    "duration": 71,
    "start_time": "2021-12-28T15:17:20.031Z"
   },
   {
    "duration": 43,
    "start_time": "2021-12-28T15:18:16.636Z"
   },
   {
    "duration": 38,
    "start_time": "2021-12-28T15:18:24.604Z"
   },
   {
    "duration": 55,
    "start_time": "2021-12-28T15:18:41.032Z"
   },
   {
    "duration": 93,
    "start_time": "2021-12-28T15:18:48.522Z"
   },
   {
    "duration": 66,
    "start_time": "2021-12-28T15:18:55.706Z"
   },
   {
    "duration": 493,
    "start_time": "2021-12-28T15:25:26.269Z"
   },
   {
    "duration": 879,
    "start_time": "2021-12-28T15:25:50.559Z"
   },
   {
    "duration": 100,
    "start_time": "2021-12-28T15:25:51.440Z"
   },
   {
    "duration": 34,
    "start_time": "2021-12-28T15:25:51.543Z"
   },
   {
    "duration": 69,
    "start_time": "2021-12-28T15:25:51.580Z"
   },
   {
    "duration": 931,
    "start_time": "2021-12-28T15:25:51.651Z"
   },
   {
    "duration": 49,
    "start_time": "2021-12-28T15:25:52.584Z"
   },
   {
    "duration": 674,
    "start_time": "2021-12-28T15:25:52.636Z"
   },
   {
    "duration": 573,
    "start_time": "2021-12-28T15:25:53.313Z"
   },
   {
    "duration": 608,
    "start_time": "2021-12-28T15:25:53.889Z"
   },
   {
    "duration": 575,
    "start_time": "2021-12-28T15:25:54.500Z"
   },
   {
    "duration": 538,
    "start_time": "2021-12-28T15:25:55.078Z"
   },
   {
    "duration": 26,
    "start_time": "2021-12-28T15:25:55.623Z"
   },
   {
    "duration": 580,
    "start_time": "2021-12-28T15:25:55.652Z"
   },
   {
    "duration": -1420,
    "start_time": "2021-12-28T15:25:57.655Z"
   },
   {
    "duration": -1484,
    "start_time": "2021-12-28T15:25:57.720Z"
   },
   {
    "duration": -1492,
    "start_time": "2021-12-28T15:25:57.730Z"
   },
   {
    "duration": -1497,
    "start_time": "2021-12-28T15:25:57.736Z"
   },
   {
    "duration": -1502,
    "start_time": "2021-12-28T15:25:57.743Z"
   },
   {
    "duration": -1511,
    "start_time": "2021-12-28T15:25:57.754Z"
   },
   {
    "duration": -1517,
    "start_time": "2021-12-28T15:25:57.761Z"
   },
   {
    "duration": 74,
    "start_time": "2021-12-28T15:31:56.246Z"
   },
   {
    "duration": 72,
    "start_time": "2021-12-28T15:32:41.846Z"
   },
   {
    "duration": 233,
    "start_time": "2021-12-28T15:33:17.755Z"
   },
   {
    "duration": 135,
    "start_time": "2021-12-28T15:33:17.992Z"
   },
   {
    "duration": 36,
    "start_time": "2021-12-28T15:33:18.132Z"
   },
   {
    "duration": 76,
    "start_time": "2021-12-28T15:33:18.171Z"
   },
   {
    "duration": 1068,
    "start_time": "2021-12-28T15:33:18.250Z"
   },
   {
    "duration": 41,
    "start_time": "2021-12-28T15:33:19.324Z"
   },
   {
    "duration": 608,
    "start_time": "2021-12-28T15:33:19.367Z"
   },
   {
    "duration": 618,
    "start_time": "2021-12-28T15:33:19.979Z"
   },
   {
    "duration": 757,
    "start_time": "2021-12-28T15:33:20.599Z"
   },
   {
    "duration": 628,
    "start_time": "2021-12-28T15:33:21.359Z"
   },
   {
    "duration": 680,
    "start_time": "2021-12-28T15:33:21.990Z"
   },
   {
    "duration": 26,
    "start_time": "2021-12-28T15:33:22.673Z"
   },
   {
    "duration": 37,
    "start_time": "2021-12-28T15:33:22.701Z"
   },
   {
    "duration": 773,
    "start_time": "2021-12-28T15:33:22.741Z"
   },
   {
    "duration": 782,
    "start_time": "2021-12-28T15:33:23.523Z"
   },
   {
    "duration": 822,
    "start_time": "2021-12-28T15:33:24.307Z"
   },
   {
    "duration": 744,
    "start_time": "2021-12-28T15:33:25.138Z"
   },
   {
    "duration": 753,
    "start_time": "2021-12-28T15:33:25.884Z"
   },
   {
    "duration": 755,
    "start_time": "2021-12-28T15:33:26.640Z"
   },
   {
    "duration": 860,
    "start_time": "2021-12-28T15:33:27.397Z"
   },
   {
    "duration": 564,
    "start_time": "2021-12-28T15:36:46.562Z"
   },
   {
    "duration": 733,
    "start_time": "2021-12-28T15:37:05.073Z"
   },
   {
    "duration": 590,
    "start_time": "2021-12-28T15:37:22.777Z"
   },
   {
    "duration": 602,
    "start_time": "2021-12-28T15:37:35.412Z"
   },
   {
    "duration": 907,
    "start_time": "2021-12-28T15:37:50.422Z"
   },
   {
    "duration": 14,
    "start_time": "2021-12-28T15:39:21.271Z"
   },
   {
    "duration": 769,
    "start_time": "2021-12-28T15:39:28.883Z"
   },
   {
    "duration": 752,
    "start_time": "2021-12-28T15:39:29.655Z"
   },
   {
    "duration": 757,
    "start_time": "2021-12-28T15:39:30.409Z"
   },
   {
    "duration": 701,
    "start_time": "2021-12-28T15:39:31.169Z"
   },
   {
    "duration": 851,
    "start_time": "2021-12-28T15:39:31.872Z"
   },
   {
    "duration": 748,
    "start_time": "2021-12-28T15:39:32.725Z"
   },
   {
    "duration": 760,
    "start_time": "2021-12-28T15:39:33.475Z"
   },
   {
    "duration": 13,
    "start_time": "2021-12-28T16:00:53.702Z"
   },
   {
    "duration": 717,
    "start_time": "2021-12-28T16:01:01.654Z"
   },
   {
    "duration": 700,
    "start_time": "2021-12-28T16:01:02.374Z"
   },
   {
    "duration": 777,
    "start_time": "2021-12-28T16:01:03.078Z"
   },
   {
    "duration": 680,
    "start_time": "2021-12-28T16:01:03.859Z"
   },
   {
    "duration": 744,
    "start_time": "2021-12-28T16:01:04.541Z"
   },
   {
    "duration": 748,
    "start_time": "2021-12-28T16:01:05.288Z"
   },
   {
    "duration": 700,
    "start_time": "2021-12-28T16:01:06.038Z"
   },
   {
    "duration": 16,
    "start_time": "2021-12-28T16:02:28.055Z"
   },
   {
    "duration": 678,
    "start_time": "2021-12-28T16:02:31.589Z"
   },
   {
    "duration": 707,
    "start_time": "2021-12-28T16:02:32.270Z"
   },
   {
    "duration": 704,
    "start_time": "2021-12-28T16:02:32.980Z"
   },
   {
    "duration": 690,
    "start_time": "2021-12-28T16:02:33.687Z"
   },
   {
    "duration": 712,
    "start_time": "2021-12-28T16:02:34.380Z"
   },
   {
    "duration": 731,
    "start_time": "2021-12-28T16:02:35.094Z"
   },
   {
    "duration": 726,
    "start_time": "2021-12-28T16:02:35.828Z"
   },
   {
    "duration": 16,
    "start_time": "2021-12-28T16:03:10.343Z"
   },
   {
    "duration": 800,
    "start_time": "2021-12-28T16:03:12.384Z"
   },
   {
    "duration": 747,
    "start_time": "2021-12-28T16:03:13.187Z"
   },
   {
    "duration": 830,
    "start_time": "2021-12-28T16:03:13.938Z"
   },
   {
    "duration": 754,
    "start_time": "2021-12-28T16:03:14.771Z"
   },
   {
    "duration": 724,
    "start_time": "2021-12-28T16:03:15.528Z"
   },
   {
    "duration": 730,
    "start_time": "2021-12-28T16:03:16.254Z"
   },
   {
    "duration": 824,
    "start_time": "2021-12-28T16:03:16.987Z"
   },
   {
    "duration": 1848,
    "start_time": "2021-12-28T16:49:41.765Z"
   },
   {
    "duration": 718,
    "start_time": "2021-12-28T16:50:37.005Z"
   },
   {
    "duration": 1533,
    "start_time": "2021-12-28T16:50:46.426Z"
   },
   {
    "duration": 714,
    "start_time": "2021-12-28T16:50:58.028Z"
   },
   {
    "duration": 1016,
    "start_time": "2021-12-28T17:00:07.495Z"
   },
   {
    "duration": 79,
    "start_time": "2021-12-28T17:21:54.467Z"
   },
   {
    "duration": 66,
    "start_time": "2021-12-28T17:22:16.380Z"
   },
   {
    "duration": 72,
    "start_time": "2021-12-28T17:25:19.842Z"
   },
   {
    "duration": 63,
    "start_time": "2021-12-28T17:26:03.644Z"
   },
   {
    "duration": 46,
    "start_time": "2021-12-28T17:26:11.428Z"
   },
   {
    "duration": 47,
    "start_time": "2021-12-28T17:26:33.935Z"
   },
   {
    "duration": 462,
    "start_time": "2021-12-28T17:36:00.768Z"
   },
   {
    "duration": 9,
    "start_time": "2021-12-28T17:36:51.202Z"
   },
   {
    "duration": 364,
    "start_time": "2021-12-28T17:39:16.671Z"
   },
   {
    "duration": 121,
    "start_time": "2021-12-28T17:40:19.494Z"
   },
   {
    "duration": 26,
    "start_time": "2021-12-28T17:41:39.548Z"
   },
   {
    "duration": 26,
    "start_time": "2021-12-28T17:41:44.411Z"
   },
   {
    "duration": 52,
    "start_time": "2021-12-28T17:42:02.728Z"
   },
   {
    "duration": 27,
    "start_time": "2021-12-28T17:42:39.513Z"
   },
   {
    "duration": 159,
    "start_time": "2021-12-28T17:43:19.210Z"
   },
   {
    "duration": 481,
    "start_time": "2021-12-28T17:43:23.804Z"
   },
   {
    "duration": 50,
    "start_time": "2021-12-28T17:43:40.514Z"
   },
   {
    "duration": 337,
    "start_time": "2021-12-28T17:44:18.003Z"
   },
   {
    "duration": 321,
    "start_time": "2021-12-28T17:49:54.501Z"
   },
   {
    "duration": 763,
    "start_time": "2021-12-28T17:50:19.597Z"
   },
   {
    "duration": 165,
    "start_time": "2021-12-28T17:50:25.723Z"
   },
   {
    "duration": 23,
    "start_time": "2021-12-28T17:50:28.853Z"
   },
   {
    "duration": 489,
    "start_time": "2021-12-28T17:50:52.189Z"
   },
   {
    "duration": 354,
    "start_time": "2021-12-28T17:51:04.210Z"
   },
   {
    "duration": 390,
    "start_time": "2021-12-28T17:52:05.740Z"
   },
   {
    "duration": 20,
    "start_time": "2021-12-28T17:52:37.994Z"
   },
   {
    "duration": 50,
    "start_time": "2021-12-28T17:53:13.400Z"
   },
   {
    "duration": 331,
    "start_time": "2021-12-28T17:53:22.607Z"
   },
   {
    "duration": 359,
    "start_time": "2021-12-28T17:57:40.733Z"
   },
   {
    "duration": 20,
    "start_time": "2021-12-28T17:57:56.945Z"
   },
   {
    "duration": 365,
    "start_time": "2021-12-28T17:58:16.873Z"
   },
   {
    "duration": 371,
    "start_time": "2021-12-28T17:58:25.467Z"
   },
   {
    "duration": 328,
    "start_time": "2021-12-28T18:02:49.268Z"
   },
   {
    "duration": 359,
    "start_time": "2021-12-28T18:03:04.828Z"
   },
   {
    "duration": 116,
    "start_time": "2021-12-28T18:03:43.506Z"
   },
   {
    "duration": 11,
    "start_time": "2021-12-28T18:03:56.671Z"
   },
   {
    "duration": 25,
    "start_time": "2021-12-28T18:07:03.678Z"
   },
   {
    "duration": 326,
    "start_time": "2021-12-28T18:08:40.272Z"
   },
   {
    "duration": 13,
    "start_time": "2021-12-28T18:09:10.273Z"
   },
   {
    "duration": 12,
    "start_time": "2021-12-28T18:09:29.384Z"
   },
   {
    "duration": 12,
    "start_time": "2021-12-28T18:13:53.675Z"
   },
   {
    "duration": 432,
    "start_time": "2021-12-28T18:14:32.823Z"
   },
   {
    "duration": 316,
    "start_time": "2021-12-28T18:31:56.192Z"
   },
   {
    "duration": 8,
    "start_time": "2021-12-28T18:39:17.604Z"
   },
   {
    "duration": 14,
    "start_time": "2021-12-28T18:39:41.405Z"
   },
   {
    "duration": 17,
    "start_time": "2021-12-28T18:40:31.937Z"
   },
   {
    "duration": 12,
    "start_time": "2021-12-28T18:40:37.664Z"
   },
   {
    "duration": 8,
    "start_time": "2021-12-28T18:42:31.428Z"
   },
   {
    "duration": 9,
    "start_time": "2021-12-28T18:44:26.659Z"
   },
   {
    "duration": 11,
    "start_time": "2021-12-28T18:44:29.573Z"
   },
   {
    "duration": 11,
    "start_time": "2021-12-28T18:44:48.393Z"
   },
   {
    "duration": 11,
    "start_time": "2021-12-28T18:45:11.607Z"
   },
   {
    "duration": 9408,
    "start_time": "2021-12-28T18:46:26.510Z"
   },
   {
    "duration": 324,
    "start_time": "2021-12-28T18:48:54.503Z"
   },
   {
    "duration": 121,
    "start_time": "2021-12-28T18:49:04.159Z"
   },
   {
    "duration": 135,
    "start_time": "2021-12-28T18:49:25.401Z"
   },
   {
    "duration": 391,
    "start_time": "2021-12-28T18:49:47.863Z"
   },
   {
    "duration": 359,
    "start_time": "2021-12-28T18:49:55.173Z"
   },
   {
    "duration": 485,
    "start_time": "2021-12-28T18:50:38.619Z"
   },
   {
    "duration": 487,
    "start_time": "2021-12-28T18:51:24.049Z"
   },
   {
    "duration": 317,
    "start_time": "2021-12-28T18:51:37.967Z"
   },
   {
    "duration": 143,
    "start_time": "2021-12-28T18:52:01.801Z"
   },
   {
    "duration": 8446,
    "start_time": "2021-12-28T18:52:34.197Z"
   },
   {
    "duration": 9186,
    "start_time": "2021-12-28T18:52:46.197Z"
   },
   {
    "duration": 11,
    "start_time": "2021-12-28T19:09:19.112Z"
   },
   {
    "duration": 68,
    "start_time": "2021-12-28T19:12:21.222Z"
   },
   {
    "duration": 393,
    "start_time": "2021-12-28T19:12:44.923Z"
   },
   {
    "duration": 718,
    "start_time": "2021-12-28T19:13:35.617Z"
   },
   {
    "duration": 352,
    "start_time": "2021-12-28T19:13:54.063Z"
   },
   {
    "duration": 529,
    "start_time": "2021-12-28T19:14:26.423Z"
   },
   {
    "duration": 19,
    "start_time": "2021-12-28T19:14:32.855Z"
   },
   {
    "duration": 15,
    "start_time": "2021-12-28T19:14:50.719Z"
   },
   {
    "duration": 18,
    "start_time": "2021-12-28T19:14:54.578Z"
   },
   {
    "duration": 22,
    "start_time": "2021-12-28T19:14:58.287Z"
   },
   {
    "duration": 98,
    "start_time": "2021-12-28T19:15:03.041Z"
   },
   {
    "duration": 337,
    "start_time": "2021-12-28T19:15:15.178Z"
   },
   {
    "duration": 78,
    "start_time": "2021-12-28T19:15:31.528Z"
   },
   {
    "duration": 67,
    "start_time": "2021-12-28T19:15:48.767Z"
   },
   {
    "duration": 1038,
    "start_time": "2021-12-28T19:18:50.989Z"
   },
   {
    "duration": 122,
    "start_time": "2021-12-28T19:18:52.031Z"
   },
   {
    "duration": 37,
    "start_time": "2021-12-28T19:18:52.157Z"
   },
   {
    "duration": 44,
    "start_time": "2021-12-28T19:18:52.224Z"
   },
   {
    "duration": 1130,
    "start_time": "2021-12-28T19:18:52.271Z"
   },
   {
    "duration": 49,
    "start_time": "2021-12-28T19:18:53.405Z"
   },
   {
    "duration": 900,
    "start_time": "2021-12-28T19:18:53.456Z"
   },
   {
    "duration": 637,
    "start_time": "2021-12-28T19:18:54.361Z"
   },
   {
    "duration": 656,
    "start_time": "2021-12-28T19:18:55.002Z"
   },
   {
    "duration": 611,
    "start_time": "2021-12-28T19:18:55.662Z"
   },
   {
    "duration": 547,
    "start_time": "2021-12-28T19:18:56.276Z"
   },
   {
    "duration": 28,
    "start_time": "2021-12-28T19:18:56.826Z"
   },
   {
    "duration": 19,
    "start_time": "2021-12-28T19:18:56.857Z"
   },
   {
    "duration": 849,
    "start_time": "2021-12-28T19:18:56.879Z"
   },
   {
    "duration": 957,
    "start_time": "2021-12-28T19:18:57.731Z"
   },
   {
    "duration": 884,
    "start_time": "2021-12-28T19:18:58.691Z"
   },
   {
    "duration": 734,
    "start_time": "2021-12-28T19:18:59.577Z"
   },
   {
    "duration": 853,
    "start_time": "2021-12-28T19:19:00.313Z"
   },
   {
    "duration": 772,
    "start_time": "2021-12-28T19:19:01.169Z"
   },
   {
    "duration": 858,
    "start_time": "2021-12-28T19:19:01.944Z"
   },
   {
    "duration": 19,
    "start_time": "2021-12-28T19:19:02.805Z"
   },
   {
    "duration": 115,
    "start_time": "2021-12-28T19:19:02.828Z"
   },
   {
    "duration": 83,
    "start_time": "2021-12-28T19:19:29.834Z"
   },
   {
    "duration": 61,
    "start_time": "2021-12-28T19:20:48.220Z"
   },
   {
    "duration": 55,
    "start_time": "2021-12-28T19:21:07.195Z"
   },
   {
    "duration": 43,
    "start_time": "2021-12-28T19:21:47.835Z"
   },
   {
    "duration": 48,
    "start_time": "2021-12-28T19:24:10.163Z"
   },
   {
    "duration": 55,
    "start_time": "2021-12-28T19:24:20.876Z"
   },
   {
    "duration": 55,
    "start_time": "2021-12-28T19:25:21.647Z"
   },
   {
    "duration": 40,
    "start_time": "2021-12-28T19:25:45.550Z"
   },
   {
    "duration": 64,
    "start_time": "2021-12-28T19:43:51.492Z"
   },
   {
    "duration": 43,
    "start_time": "2021-12-28T19:45:09.295Z"
   },
   {
    "duration": 17,
    "start_time": "2021-12-28T19:47:38.482Z"
   },
   {
    "duration": 71,
    "start_time": "2021-12-28T19:49:56.675Z"
   },
   {
    "duration": 117,
    "start_time": "2021-12-28T19:51:13.171Z"
   },
   {
    "duration": 50,
    "start_time": "2021-12-28T19:51:17.338Z"
   },
   {
    "duration": 73,
    "start_time": "2021-12-28T19:51:27.932Z"
   },
   {
    "duration": 39,
    "start_time": "2021-12-28T19:57:59.195Z"
   },
   {
    "duration": 39,
    "start_time": "2021-12-28T19:58:47.601Z"
   },
   {
    "duration": 2120,
    "start_time": "2021-12-28T19:59:50.494Z"
   },
   {
    "duration": 3630,
    "start_time": "2021-12-28T20:00:20.377Z"
   },
   {
    "duration": 2477,
    "start_time": "2021-12-28T20:00:43.731Z"
   },
   {
    "duration": 2745,
    "start_time": "2021-12-28T20:01:11.861Z"
   },
   {
    "duration": 2218,
    "start_time": "2021-12-28T20:01:28.855Z"
   },
   {
    "duration": 538,
    "start_time": "2021-12-28T20:03:00.511Z"
   },
   {
    "duration": 600,
    "start_time": "2021-12-28T20:05:37.850Z"
   },
   {
    "duration": 77,
    "start_time": "2021-12-28T20:06:01.444Z"
   },
   {
    "duration": 703,
    "start_time": "2021-12-28T20:06:25.704Z"
   },
   {
    "duration": 545,
    "start_time": "2021-12-28T20:06:32.814Z"
   },
   {
    "duration": 544,
    "start_time": "2021-12-28T20:06:44.284Z"
   },
   {
    "duration": 51,
    "start_time": "2021-12-28T20:07:08.821Z"
   },
   {
    "duration": 361,
    "start_time": "2021-12-28T20:07:54.504Z"
   },
   {
    "duration": 383,
    "start_time": "2021-12-28T20:08:46.788Z"
   },
   {
    "duration": 473,
    "start_time": "2021-12-28T20:09:12.255Z"
   },
   {
    "duration": 430,
    "start_time": "2021-12-28T20:09:26.784Z"
   },
   {
    "duration": 8693,
    "start_time": "2021-12-28T20:10:15.065Z"
   },
   {
    "duration": 396,
    "start_time": "2021-12-28T20:10:40.372Z"
   },
   {
    "duration": -1613,
    "start_time": "2021-12-28T20:11:19.291Z"
   },
   {
    "duration": 8776,
    "start_time": "2021-12-28T20:11:37.881Z"
   },
   {
    "duration": 9055,
    "start_time": "2021-12-28T20:12:22.531Z"
   },
   {
    "duration": 374,
    "start_time": "2021-12-28T20:12:52.924Z"
   },
   {
    "duration": 50,
    "start_time": "2021-12-28T20:13:08.087Z"
   },
   {
    "duration": 342,
    "start_time": "2021-12-28T20:13:30.667Z"
   },
   {
    "duration": 323,
    "start_time": "2021-12-28T20:13:42.318Z"
   },
   {
    "duration": 809,
    "start_time": "2021-12-28T20:18:58.941Z"
   },
   {
    "duration": 327,
    "start_time": "2021-12-28T20:19:42.804Z"
   },
   {
    "duration": 441,
    "start_time": "2021-12-28T20:20:07.508Z"
   },
   {
    "duration": 362,
    "start_time": "2021-12-28T20:21:06.640Z"
   },
   {
    "duration": 394,
    "start_time": "2021-12-28T20:21:22.892Z"
   },
   {
    "duration": 324,
    "start_time": "2021-12-28T20:22:06.369Z"
   },
   {
    "duration": 532,
    "start_time": "2021-12-28T20:25:27.147Z"
   },
   {
    "duration": 905,
    "start_time": "2021-12-28T20:29:20.950Z"
   },
   {
    "duration": 106,
    "start_time": "2021-12-28T20:29:21.858Z"
   },
   {
    "duration": 37,
    "start_time": "2021-12-28T20:29:21.967Z"
   },
   {
    "duration": 53,
    "start_time": "2021-12-28T20:29:22.022Z"
   },
   {
    "duration": 1016,
    "start_time": "2021-12-28T20:29:22.078Z"
   },
   {
    "duration": 57,
    "start_time": "2021-12-28T20:29:23.097Z"
   },
   {
    "duration": 703,
    "start_time": "2021-12-28T20:29:23.156Z"
   },
   {
    "duration": 575,
    "start_time": "2021-12-28T20:29:23.863Z"
   },
   {
    "duration": 638,
    "start_time": "2021-12-28T20:29:24.441Z"
   },
   {
    "duration": 596,
    "start_time": "2021-12-28T20:29:25.082Z"
   },
   {
    "duration": 547,
    "start_time": "2021-12-28T20:29:25.680Z"
   },
   {
    "duration": 24,
    "start_time": "2021-12-28T20:29:26.230Z"
   },
   {
    "duration": 17,
    "start_time": "2021-12-28T20:29:26.257Z"
   },
   {
    "duration": 775,
    "start_time": "2021-12-28T20:29:26.277Z"
   },
   {
    "duration": 771,
    "start_time": "2021-12-28T20:29:27.055Z"
   },
   {
    "duration": 763,
    "start_time": "2021-12-28T20:29:27.828Z"
   },
   {
    "duration": 763,
    "start_time": "2021-12-28T20:29:28.593Z"
   },
   {
    "duration": 701,
    "start_time": "2021-12-28T20:29:29.359Z"
   },
   {
    "duration": 690,
    "start_time": "2021-12-28T20:29:30.063Z"
   },
   {
    "duration": 717,
    "start_time": "2021-12-28T20:29:30.755Z"
   },
   {
    "duration": 10,
    "start_time": "2021-12-28T20:29:31.475Z"
   },
   {
    "duration": 60,
    "start_time": "2021-12-28T20:29:31.487Z"
   },
   {
    "duration": 16,
    "start_time": "2021-12-28T20:29:31.551Z"
   },
   {
    "duration": 83,
    "start_time": "2021-12-28T20:29:31.569Z"
   },
   {
    "duration": 323,
    "start_time": "2021-12-28T20:30:27.276Z"
   },
   {
    "duration": 12,
    "start_time": "2021-12-28T20:31:48.117Z"
   },
   {
    "duration": 68,
    "start_time": "2021-12-28T20:32:03.097Z"
   },
   {
    "duration": 542,
    "start_time": "2021-12-28T20:35:08.380Z"
   },
   {
    "duration": 549,
    "start_time": "2021-12-28T20:35:14.524Z"
   },
   {
    "duration": 762,
    "start_time": "2021-12-28T20:35:46.050Z"
   },
   {
    "duration": 884,
    "start_time": "2021-12-28T20:37:14.617Z"
   },
   {
    "duration": 849,
    "start_time": "2021-12-28T20:39:16.234Z"
   },
   {
    "duration": 386,
    "start_time": "2021-12-28T20:39:39.896Z"
   },
   {
    "duration": 375,
    "start_time": "2021-12-28T20:40:11.810Z"
   },
   {
    "duration": 403,
    "start_time": "2021-12-28T20:40:13.569Z"
   },
   {
    "duration": 388,
    "start_time": "2021-12-28T20:40:14.460Z"
   },
   {
    "duration": 500,
    "start_time": "2021-12-28T20:40:15.570Z"
   },
   {
    "duration": 292,
    "start_time": "2021-12-28T20:53:18.204Z"
   },
   {
    "duration": 283,
    "start_time": "2021-12-28T20:53:44.632Z"
   },
   {
    "duration": 299,
    "start_time": "2021-12-28T20:54:22.735Z"
   },
   {
    "duration": 389,
    "start_time": "2021-12-28T20:55:37.641Z"
   },
   {
    "duration": 310,
    "start_time": "2021-12-28T20:55:44.201Z"
   },
   {
    "duration": 644,
    "start_time": "2021-12-28T20:56:28.200Z"
   },
   {
    "duration": 638,
    "start_time": "2021-12-28T20:57:14.371Z"
   },
   {
    "duration": 293,
    "start_time": "2021-12-28T20:57:33.969Z"
   },
   {
    "duration": 958,
    "start_time": "2021-12-29T20:24:16.912Z"
   },
   {
    "duration": 102,
    "start_time": "2021-12-29T20:24:17.872Z"
   },
   {
    "duration": 50,
    "start_time": "2021-12-29T20:24:17.978Z"
   },
   {
    "duration": 45,
    "start_time": "2021-12-29T20:24:18.031Z"
   },
   {
    "duration": 1005,
    "start_time": "2021-12-29T20:24:18.078Z"
   },
   {
    "duration": 51,
    "start_time": "2021-12-29T20:24:19.086Z"
   },
   {
    "duration": 687,
    "start_time": "2021-12-29T20:24:19.140Z"
   },
   {
    "duration": 619,
    "start_time": "2021-12-29T20:24:19.830Z"
   },
   {
    "duration": 748,
    "start_time": "2021-12-29T20:24:20.453Z"
   },
   {
    "duration": 605,
    "start_time": "2021-12-29T20:24:21.204Z"
   },
   {
    "duration": 563,
    "start_time": "2021-12-29T20:24:21.811Z"
   },
   {
    "duration": 22,
    "start_time": "2021-12-29T20:24:22.377Z"
   },
   {
    "duration": 34,
    "start_time": "2021-12-29T20:24:22.401Z"
   },
   {
    "duration": 719,
    "start_time": "2021-12-29T20:24:22.437Z"
   },
   {
    "duration": 805,
    "start_time": "2021-12-29T20:24:23.159Z"
   },
   {
    "duration": 710,
    "start_time": "2021-12-29T20:24:23.967Z"
   },
   {
    "duration": 673,
    "start_time": "2021-12-29T20:24:24.680Z"
   },
   {
    "duration": 727,
    "start_time": "2021-12-29T20:24:25.356Z"
   },
   {
    "duration": 730,
    "start_time": "2021-12-29T20:24:26.085Z"
   },
   {
    "duration": 728,
    "start_time": "2021-12-29T20:24:26.817Z"
   },
   {
    "duration": 8,
    "start_time": "2021-12-29T20:24:27.548Z"
   },
   {
    "duration": 43,
    "start_time": "2021-12-29T20:24:27.559Z"
   },
   {
    "duration": 326,
    "start_time": "2021-12-29T20:24:27.624Z"
   },
   {
    "duration": 460,
    "start_time": "2021-12-29T20:24:27.954Z"
   },
   {
    "duration": 414,
    "start_time": "2021-12-29T20:24:28.423Z"
   },
   {
    "duration": 392,
    "start_time": "2021-12-29T20:24:28.840Z"
   },
   {
    "duration": 412,
    "start_time": "2021-12-29T20:24:29.237Z"
   },
   {
    "duration": 348,
    "start_time": "2021-12-29T20:24:29.652Z"
   },
   {
    "duration": 375,
    "start_time": "2021-12-29T20:24:30.003Z"
   },
   {
    "duration": 318,
    "start_time": "2021-12-29T20:24:30.381Z"
   },
   {
    "duration": 444,
    "start_time": "2021-12-29T20:24:30.702Z"
   },
   {
    "duration": 553,
    "start_time": "2021-12-29T20:42:33.579Z"
   },
   {
    "duration": 992,
    "start_time": "2021-12-29T20:51:49.575Z"
   },
   {
    "duration": 98,
    "start_time": "2021-12-29T20:51:50.571Z"
   },
   {
    "duration": 60,
    "start_time": "2021-12-29T20:51:50.672Z"
   },
   {
    "duration": 46,
    "start_time": "2021-12-29T20:51:50.734Z"
   },
   {
    "duration": 983,
    "start_time": "2021-12-29T20:51:50.783Z"
   },
   {
    "duration": 48,
    "start_time": "2021-12-29T20:51:51.768Z"
   },
   {
    "duration": 721,
    "start_time": "2021-12-29T20:51:51.824Z"
   },
   {
    "duration": 602,
    "start_time": "2021-12-29T20:51:52.548Z"
   },
   {
    "duration": 660,
    "start_time": "2021-12-29T20:51:53.153Z"
   },
   {
    "duration": 579,
    "start_time": "2021-12-29T20:51:53.824Z"
   },
   {
    "duration": 556,
    "start_time": "2021-12-29T20:51:54.406Z"
   },
   {
    "duration": 26,
    "start_time": "2021-12-29T20:51:54.965Z"
   },
   {
    "duration": 39,
    "start_time": "2021-12-29T20:51:54.995Z"
   },
   {
    "duration": 733,
    "start_time": "2021-12-29T20:51:55.037Z"
   },
   {
    "duration": 760,
    "start_time": "2021-12-29T20:51:55.773Z"
   },
   {
    "duration": 740,
    "start_time": "2021-12-29T20:51:56.535Z"
   },
   {
    "duration": 715,
    "start_time": "2021-12-29T20:51:57.278Z"
   },
   {
    "duration": 752,
    "start_time": "2021-12-29T20:51:57.995Z"
   },
   {
    "duration": 702,
    "start_time": "2021-12-29T20:51:58.749Z"
   },
   {
    "duration": 698,
    "start_time": "2021-12-29T20:51:59.454Z"
   },
   {
    "duration": 8,
    "start_time": "2021-12-29T20:52:00.155Z"
   },
   {
    "duration": 57,
    "start_time": "2021-12-29T20:52:00.166Z"
   },
   {
    "duration": 340,
    "start_time": "2021-12-29T20:52:00.225Z"
   },
   {
    "duration": 426,
    "start_time": "2021-12-29T20:52:00.568Z"
   },
   {
    "duration": 413,
    "start_time": "2021-12-29T20:52:00.997Z"
   },
   {
    "duration": 410,
    "start_time": "2021-12-29T20:52:01.413Z"
   },
   {
    "duration": 418,
    "start_time": "2021-12-29T20:52:01.826Z"
   },
   {
    "duration": 367,
    "start_time": "2021-12-29T20:52:02.246Z"
   },
   {
    "duration": 306,
    "start_time": "2021-12-29T20:52:02.624Z"
   },
   {
    "duration": 332,
    "start_time": "2021-12-29T20:52:02.934Z"
   },
   {
    "duration": 471,
    "start_time": "2021-12-29T20:52:03.271Z"
   },
   {
    "duration": 361,
    "start_time": "2021-12-29T21:17:11.181Z"
   },
   {
    "duration": 261,
    "start_time": "2021-12-29T21:17:28.094Z"
   },
   {
    "duration": 1007,
    "start_time": "2021-12-29T21:17:41.442Z"
   },
   {
    "duration": 101,
    "start_time": "2021-12-29T21:17:42.463Z"
   },
   {
    "duration": 38,
    "start_time": "2021-12-29T21:17:42.567Z"
   },
   {
    "duration": 67,
    "start_time": "2021-12-29T21:17:42.608Z"
   },
   {
    "duration": 1013,
    "start_time": "2021-12-29T21:17:42.678Z"
   },
   {
    "duration": 46,
    "start_time": "2021-12-29T21:17:43.694Z"
   },
   {
    "duration": 739,
    "start_time": "2021-12-29T21:17:43.743Z"
   },
   {
    "duration": 625,
    "start_time": "2021-12-29T21:17:44.486Z"
   },
   {
    "duration": 679,
    "start_time": "2021-12-29T21:17:45.114Z"
   },
   {
    "duration": 632,
    "start_time": "2021-12-29T21:17:45.796Z"
   },
   {
    "duration": 591,
    "start_time": "2021-12-29T21:17:46.431Z"
   },
   {
    "duration": 39,
    "start_time": "2021-12-29T21:17:47.024Z"
   },
   {
    "duration": 18,
    "start_time": "2021-12-29T21:17:47.066Z"
   },
   {
    "duration": 759,
    "start_time": "2021-12-29T21:17:47.086Z"
   },
   {
    "duration": 791,
    "start_time": "2021-12-29T21:17:47.847Z"
   },
   {
    "duration": 775,
    "start_time": "2021-12-29T21:17:48.640Z"
   },
   {
    "duration": 735,
    "start_time": "2021-12-29T21:17:49.417Z"
   },
   {
    "duration": 780,
    "start_time": "2021-12-29T21:17:50.154Z"
   },
   {
    "duration": 817,
    "start_time": "2021-12-29T21:17:50.936Z"
   },
   {
    "duration": 767,
    "start_time": "2021-12-29T21:17:51.763Z"
   },
   {
    "duration": 10,
    "start_time": "2021-12-29T21:17:52.533Z"
   },
   {
    "duration": 59,
    "start_time": "2021-12-29T21:17:52.545Z"
   },
   {
    "duration": 357,
    "start_time": "2021-12-29T21:17:52.608Z"
   },
   {
    "duration": 423,
    "start_time": "2021-12-29T21:17:52.968Z"
   },
   {
    "duration": 442,
    "start_time": "2021-12-29T21:17:53.393Z"
   },
   {
    "duration": 404,
    "start_time": "2021-12-29T21:17:53.837Z"
   },
   {
    "duration": 647,
    "start_time": "2021-12-29T21:17:54.244Z"
   },
   {
    "duration": 550,
    "start_time": "2021-12-29T21:17:54.894Z"
   },
   {
    "duration": 303,
    "start_time": "2021-12-29T21:17:55.447Z"
   },
   {
    "duration": 340,
    "start_time": "2021-12-29T21:17:55.753Z"
   },
   {
    "duration": 668,
    "start_time": "2021-12-29T21:17:56.097Z"
   },
   {
    "duration": 534,
    "start_time": "2021-12-29T21:22:13.271Z"
   },
   {
    "duration": 675,
    "start_time": "2021-12-29T21:23:01.734Z"
   },
   {
    "duration": 123,
    "start_time": "2021-12-29T21:24:59.920Z"
   },
   {
    "duration": 323,
    "start_time": "2021-12-29T21:25:27.774Z"
   },
   {
    "duration": 587,
    "start_time": "2021-12-29T21:26:38.534Z"
   },
   {
    "duration": 1013,
    "start_time": "2021-12-29T21:27:04.166Z"
   },
   {
    "duration": 836,
    "start_time": "2021-12-29T21:31:04.249Z"
   },
   {
    "duration": 664,
    "start_time": "2021-12-29T21:31:22.654Z"
   },
   {
    "duration": 383,
    "start_time": "2021-12-29T21:35:02.761Z"
   },
   {
    "duration": 366,
    "start_time": "2021-12-29T21:35:54.411Z"
   },
   {
    "duration": 1954,
    "start_time": "2021-12-29T21:40:43.423Z"
   },
   {
    "duration": 1113,
    "start_time": "2021-12-29T21:41:17.628Z"
   },
   {
    "duration": 1765,
    "start_time": "2021-12-29T21:41:44.246Z"
   },
   {
    "duration": 1965,
    "start_time": "2021-12-29T21:41:52.776Z"
   },
   {
    "duration": 927,
    "start_time": "2021-12-30T07:30:44.828Z"
   },
   {
    "duration": 87,
    "start_time": "2021-12-30T07:30:53.229Z"
   },
   {
    "duration": 100,
    "start_time": "2021-12-30T07:33:09.761Z"
   },
   {
    "duration": 7,
    "start_time": "2021-12-30T07:35:33.958Z"
   },
   {
    "duration": 8,
    "start_time": "2021-12-30T07:46:54.519Z"
   },
   {
    "duration": 120,
    "start_time": "2021-12-30T07:47:47.562Z"
   },
   {
    "duration": 21,
    "start_time": "2021-12-30T07:47:51.544Z"
   },
   {
    "duration": 896,
    "start_time": "2021-12-30T07:47:58.351Z"
   },
   {
    "duration": 881,
    "start_time": "2021-12-30T07:48:04.413Z"
   },
   {
    "duration": 792,
    "start_time": "2021-12-30T07:48:08.736Z"
   },
   {
    "duration": 99,
    "start_time": "2021-12-30T07:48:23.637Z"
   },
   {
    "duration": 89,
    "start_time": "2021-12-30T07:48:25.344Z"
   },
   {
    "duration": 63,
    "start_time": "2021-12-30T07:48:30.961Z"
   },
   {
    "duration": 408,
    "start_time": "2021-12-30T07:48:39.222Z"
   },
   {
    "duration": 495,
    "start_time": "2021-12-30T07:48:46.260Z"
   },
   {
    "duration": 38,
    "start_time": "2021-12-30T07:48:52.656Z"
   },
   {
    "duration": 826,
    "start_time": "2021-12-30T07:52:16.293Z"
   },
   {
    "duration": 8,
    "start_time": "2021-12-30T07:54:31.398Z"
   },
   {
    "duration": 408,
    "start_time": "2021-12-30T07:54:51.687Z"
   },
   {
    "duration": 7,
    "start_time": "2021-12-30T07:55:34.999Z"
   },
   {
    "duration": 8,
    "start_time": "2021-12-30T07:55:44.873Z"
   },
   {
    "duration": 337,
    "start_time": "2021-12-30T07:55:57.938Z"
   },
   {
    "duration": 351,
    "start_time": "2021-12-30T07:56:07.446Z"
   },
   {
    "duration": 11,
    "start_time": "2021-12-30T08:03:16.595Z"
   },
   {
    "duration": 453,
    "start_time": "2021-12-30T08:03:32.084Z"
   },
   {
    "duration": 325,
    "start_time": "2021-12-30T08:03:39.048Z"
   },
   {
    "duration": 41,
    "start_time": "2021-12-30T08:04:30.792Z"
   },
   {
    "duration": 29,
    "start_time": "2021-12-30T08:06:32.617Z"
   },
   {
    "duration": 34,
    "start_time": "2021-12-30T08:06:49.644Z"
   },
   {
    "duration": 26,
    "start_time": "2021-12-30T08:08:47.661Z"
   },
   {
    "duration": 27,
    "start_time": "2021-12-30T08:08:51.682Z"
   },
   {
    "duration": 25,
    "start_time": "2021-12-30T08:09:06.198Z"
   },
   {
    "duration": 436,
    "start_time": "2021-12-30T08:10:21.274Z"
   },
   {
    "duration": 371,
    "start_time": "2021-12-30T08:10:53.410Z"
   },
   {
    "duration": 856,
    "start_time": "2021-12-30T08:13:02.593Z"
   },
   {
    "duration": 86,
    "start_time": "2021-12-30T08:13:04.749Z"
   },
   {
    "duration": 45,
    "start_time": "2021-12-30T08:13:30.703Z"
   },
   {
    "duration": 50,
    "start_time": "2021-12-30T08:13:35.309Z"
   },
   {
    "duration": 423,
    "start_time": "2021-12-30T08:14:03.115Z"
   },
   {
    "duration": 912,
    "start_time": "2021-12-30T08:14:30.516Z"
   },
   {
    "duration": 100,
    "start_time": "2021-12-30T08:14:31.431Z"
   },
   {
    "duration": 66,
    "start_time": "2021-12-30T08:14:31.535Z"
   },
   {
    "duration": 863,
    "start_time": "2021-12-30T08:14:31.605Z"
   },
   {
    "duration": 36,
    "start_time": "2021-12-30T08:14:32.471Z"
   },
   {
    "duration": 60,
    "start_time": "2021-12-30T08:14:32.509Z"
   },
   {
    "duration": 1067,
    "start_time": "2021-12-30T08:14:32.571Z"
   },
   {
    "duration": 49,
    "start_time": "2021-12-30T08:14:33.641Z"
   },
   {
    "duration": 580,
    "start_time": "2021-12-30T08:14:33.692Z"
   },
   {
    "duration": 614,
    "start_time": "2021-12-30T08:14:34.275Z"
   },
   {
    "duration": 413,
    "start_time": "2021-12-30T08:14:34.892Z"
   },
   {
    "duration": 332,
    "start_time": "2021-12-30T08:14:35.308Z"
   },
   {
    "duration": 575,
    "start_time": "2021-12-30T08:14:35.643Z"
   },
   {
    "duration": 106,
    "start_time": "2021-12-30T08:14:36.221Z"
   },
   {
    "duration": -1349,
    "start_time": "2021-12-30T08:14:37.679Z"
   },
   {
    "duration": -1355,
    "start_time": "2021-12-30T08:14:37.686Z"
   },
   {
    "duration": -1366,
    "start_time": "2021-12-30T08:14:37.698Z"
   },
   {
    "duration": -1369,
    "start_time": "2021-12-30T08:14:37.703Z"
   },
   {
    "duration": -1382,
    "start_time": "2021-12-30T08:14:37.717Z"
   },
   {
    "duration": -1390,
    "start_time": "2021-12-30T08:14:37.726Z"
   },
   {
    "duration": -1409,
    "start_time": "2021-12-30T08:14:37.747Z"
   },
   {
    "duration": -1418,
    "start_time": "2021-12-30T08:14:37.757Z"
   },
   {
    "duration": -1432,
    "start_time": "2021-12-30T08:14:37.772Z"
   },
   {
    "duration": -1459,
    "start_time": "2021-12-30T08:14:37.800Z"
   },
   {
    "duration": -1471,
    "start_time": "2021-12-30T08:14:37.813Z"
   },
   {
    "duration": -1474,
    "start_time": "2021-12-30T08:14:37.818Z"
   },
   {
    "duration": -1480,
    "start_time": "2021-12-30T08:14:37.825Z"
   },
   {
    "duration": -1492,
    "start_time": "2021-12-30T08:14:37.839Z"
   },
   {
    "duration": -1505,
    "start_time": "2021-12-30T08:14:37.853Z"
   },
   {
    "duration": -1511,
    "start_time": "2021-12-30T08:14:37.860Z"
   },
   {
    "duration": -1518,
    "start_time": "2021-12-30T08:14:37.869Z"
   },
   {
    "duration": -1523,
    "start_time": "2021-12-30T08:14:37.875Z"
   },
   {
    "duration": -1536,
    "start_time": "2021-12-30T08:14:37.889Z"
   },
   {
    "duration": 1035,
    "start_time": "2021-12-30T08:18:27.999Z"
   },
   {
    "duration": 162,
    "start_time": "2021-12-30T08:18:29.037Z"
   },
   {
    "duration": 57,
    "start_time": "2021-12-30T08:18:29.202Z"
   },
   {
    "duration": 868,
    "start_time": "2021-12-30T08:18:29.262Z"
   },
   {
    "duration": 49,
    "start_time": "2021-12-30T08:18:30.132Z"
   },
   {
    "duration": 42,
    "start_time": "2021-12-30T08:18:30.184Z"
   },
   {
    "duration": 1132,
    "start_time": "2021-12-30T08:18:30.229Z"
   },
   {
    "duration": 51,
    "start_time": "2021-12-30T08:18:31.367Z"
   },
   {
    "duration": 590,
    "start_time": "2021-12-30T08:18:31.421Z"
   },
   {
    "duration": 619,
    "start_time": "2021-12-30T08:18:32.014Z"
   },
   {
    "duration": 432,
    "start_time": "2021-12-30T08:18:32.635Z"
   },
   {
    "duration": 354,
    "start_time": "2021-12-30T08:18:33.069Z"
   },
   {
    "duration": 579,
    "start_time": "2021-12-30T08:18:33.425Z"
   },
   {
    "duration": 27,
    "start_time": "2021-12-30T08:18:34.006Z"
   },
   {
    "duration": 39,
    "start_time": "2021-12-30T08:18:34.036Z"
   },
   {
    "duration": 731,
    "start_time": "2021-12-30T08:18:34.077Z"
   },
   {
    "duration": 792,
    "start_time": "2021-12-30T08:18:34.812Z"
   },
   {
    "duration": 922,
    "start_time": "2021-12-30T08:18:35.607Z"
   },
   {
    "duration": 768,
    "start_time": "2021-12-30T08:18:36.531Z"
   },
   {
    "duration": 730,
    "start_time": "2021-12-30T08:18:37.301Z"
   },
   {
    "duration": 769,
    "start_time": "2021-12-30T08:18:38.034Z"
   },
   {
    "duration": 1815,
    "start_time": "2021-12-30T08:18:38.805Z"
   },
   {
    "duration": -1392,
    "start_time": "2021-12-30T08:18:42.016Z"
   },
   {
    "duration": -1402,
    "start_time": "2021-12-30T08:18:42.027Z"
   },
   {
    "duration": -1421,
    "start_time": "2021-12-30T08:18:42.048Z"
   },
   {
    "duration": -1428,
    "start_time": "2021-12-30T08:18:42.056Z"
   },
   {
    "duration": -1438,
    "start_time": "2021-12-30T08:18:42.068Z"
   },
   {
    "duration": -1442,
    "start_time": "2021-12-30T08:18:42.073Z"
   },
   {
    "duration": -1451,
    "start_time": "2021-12-30T08:18:42.084Z"
   },
   {
    "duration": -1455,
    "start_time": "2021-12-30T08:18:42.089Z"
   },
   {
    "duration": -1440,
    "start_time": "2021-12-30T08:18:42.099Z"
   },
   {
    "duration": -1444,
    "start_time": "2021-12-30T08:18:42.104Z"
   },
   {
    "duration": -1447,
    "start_time": "2021-12-30T08:18:42.109Z"
   },
   {
    "duration": 815,
    "start_time": "2021-12-30T08:19:03.112Z"
   },
   {
    "duration": 97,
    "start_time": "2021-12-30T08:19:03.929Z"
   },
   {
    "duration": 68,
    "start_time": "2021-12-30T08:19:04.029Z"
   },
   {
    "duration": 905,
    "start_time": "2021-12-30T08:19:04.099Z"
   },
   {
    "duration": 53,
    "start_time": "2021-12-30T08:19:05.006Z"
   },
   {
    "duration": 45,
    "start_time": "2021-12-30T08:19:05.061Z"
   },
   {
    "duration": 1031,
    "start_time": "2021-12-30T08:19:05.109Z"
   },
   {
    "duration": 64,
    "start_time": "2021-12-30T08:19:06.144Z"
   },
   {
    "duration": 632,
    "start_time": "2021-12-30T08:19:06.212Z"
   },
   {
    "duration": 615,
    "start_time": "2021-12-30T08:19:06.846Z"
   },
   {
    "duration": 440,
    "start_time": "2021-12-30T08:19:07.464Z"
   },
   {
    "duration": 349,
    "start_time": "2021-12-30T08:19:07.906Z"
   },
   {
    "duration": 560,
    "start_time": "2021-12-30T08:19:08.259Z"
   },
   {
    "duration": 38,
    "start_time": "2021-12-30T08:19:08.821Z"
   },
   {
    "duration": 20,
    "start_time": "2021-12-30T08:19:08.862Z"
   },
   {
    "duration": 745,
    "start_time": "2021-12-30T08:19:08.884Z"
   },
   {
    "duration": 740,
    "start_time": "2021-12-30T08:19:09.632Z"
   },
   {
    "duration": 786,
    "start_time": "2021-12-30T08:19:10.375Z"
   },
   {
    "duration": 728,
    "start_time": "2021-12-30T08:19:11.164Z"
   },
   {
    "duration": 722,
    "start_time": "2021-12-30T08:19:11.894Z"
   },
   {
    "duration": 733,
    "start_time": "2021-12-30T08:19:12.620Z"
   },
   {
    "duration": 742,
    "start_time": "2021-12-30T08:19:13.360Z"
   },
   {
    "duration": 8,
    "start_time": "2021-12-30T08:19:14.107Z"
   },
   {
    "duration": 58,
    "start_time": "2021-12-30T08:19:14.118Z"
   },
   {
    "duration": 342,
    "start_time": "2021-12-30T08:19:14.178Z"
   },
   {
    "duration": 412,
    "start_time": "2021-12-30T08:19:14.522Z"
   },
   {
    "duration": 425,
    "start_time": "2021-12-30T08:19:14.937Z"
   },
   {
    "duration": 484,
    "start_time": "2021-12-30T08:19:15.365Z"
   },
   {
    "duration": 428,
    "start_time": "2021-12-30T08:19:15.859Z"
   },
   {
    "duration": 301,
    "start_time": "2021-12-30T08:19:16.289Z"
   },
   {
    "duration": 361,
    "start_time": "2021-12-30T08:19:16.592Z"
   },
   {
    "duration": 339,
    "start_time": "2021-12-30T08:19:16.955Z"
   },
   {
    "duration": 443,
    "start_time": "2021-12-30T08:19:17.297Z"
   },
   {
    "duration": 12,
    "start_time": "2021-12-30T08:20:15.068Z"
   },
   {
    "duration": 430,
    "start_time": "2021-12-30T08:24:03.367Z"
   },
   {
    "duration": 854,
    "start_time": "2021-12-30T08:24:11.972Z"
   },
   {
    "duration": 94,
    "start_time": "2021-12-30T08:24:12.829Z"
   },
   {
    "duration": 61,
    "start_time": "2021-12-30T08:24:12.926Z"
   },
   {
    "duration": 827,
    "start_time": "2021-12-30T08:24:12.990Z"
   },
   {
    "duration": 49,
    "start_time": "2021-12-30T08:24:13.820Z"
   },
   {
    "duration": 39,
    "start_time": "2021-12-30T08:24:13.872Z"
   },
   {
    "duration": 1041,
    "start_time": "2021-12-30T08:24:13.913Z"
   },
   {
    "duration": 43,
    "start_time": "2021-12-30T08:24:14.960Z"
   },
   {
    "duration": 590,
    "start_time": "2021-12-30T08:24:15.006Z"
   },
   {
    "duration": 640,
    "start_time": "2021-12-30T08:24:15.599Z"
   },
   {
    "duration": 440,
    "start_time": "2021-12-30T08:24:16.241Z"
   },
   {
    "duration": 331,
    "start_time": "2021-12-30T08:24:16.684Z"
   },
   {
    "duration": 565,
    "start_time": "2021-12-30T08:24:17.017Z"
   },
   {
    "duration": 32,
    "start_time": "2021-12-30T08:24:17.585Z"
   },
   {
    "duration": 43,
    "start_time": "2021-12-30T08:24:17.620Z"
   },
   {
    "duration": 761,
    "start_time": "2021-12-30T08:24:17.665Z"
   },
   {
    "duration": 837,
    "start_time": "2021-12-30T08:24:18.429Z"
   },
   {
    "duration": 797,
    "start_time": "2021-12-30T08:24:19.269Z"
   },
   {
    "duration": 720,
    "start_time": "2021-12-30T08:24:20.069Z"
   },
   {
    "duration": 793,
    "start_time": "2021-12-30T08:24:20.792Z"
   },
   {
    "duration": 711,
    "start_time": "2021-12-30T08:24:21.588Z"
   },
   {
    "duration": 713,
    "start_time": "2021-12-30T08:24:22.302Z"
   },
   {
    "duration": 8,
    "start_time": "2021-12-30T08:24:23.020Z"
   },
   {
    "duration": 56,
    "start_time": "2021-12-30T08:24:23.031Z"
   },
   {
    "duration": 386,
    "start_time": "2021-12-30T08:24:23.089Z"
   },
   {
    "duration": 448,
    "start_time": "2021-12-30T08:24:23.478Z"
   },
   {
    "duration": 437,
    "start_time": "2021-12-30T08:24:23.928Z"
   },
   {
    "duration": 469,
    "start_time": "2021-12-30T08:24:24.368Z"
   },
   {
    "duration": 410,
    "start_time": "2021-12-30T08:24:24.839Z"
   },
   {
    "duration": 286,
    "start_time": "2021-12-30T08:24:25.260Z"
   },
   {
    "duration": 364,
    "start_time": "2021-12-30T08:24:25.549Z"
   },
   {
    "duration": 333,
    "start_time": "2021-12-30T08:24:25.916Z"
   },
   {
    "duration": 447,
    "start_time": "2021-12-30T08:24:26.260Z"
   },
   {
    "duration": 115,
    "start_time": "2021-12-30T08:24:58.210Z"
   },
   {
    "duration": 616,
    "start_time": "2021-12-30T08:25:05.940Z"
   },
   {
    "duration": 90,
    "start_time": "2021-12-30T08:25:28.019Z"
   },
   {
    "duration": 102,
    "start_time": "2021-12-30T08:25:28.111Z"
   },
   {
    "duration": 62,
    "start_time": "2021-12-30T08:25:28.216Z"
   },
   {
    "duration": 738,
    "start_time": "2021-12-30T08:25:32.429Z"
   },
   {
    "duration": 322,
    "start_time": "2021-12-30T08:25:47.766Z"
   },
   {
    "duration": 88,
    "start_time": "2021-12-30T08:25:54.795Z"
   },
   {
    "duration": 99,
    "start_time": "2021-12-30T08:25:54.885Z"
   },
   {
    "duration": 45,
    "start_time": "2021-12-30T08:25:54.988Z"
   },
   {
    "duration": 773,
    "start_time": "2021-12-30T08:25:56.275Z"
   },
   {
    "duration": 87,
    "start_time": "2021-12-30T08:26:44.398Z"
   },
   {
    "duration": 95,
    "start_time": "2021-12-30T08:26:44.487Z"
   },
   {
    "duration": 44,
    "start_time": "2021-12-30T08:26:44.584Z"
   },
   {
    "duration": 847,
    "start_time": "2021-12-30T08:26:46.151Z"
   },
   {
    "duration": 747,
    "start_time": "2021-12-30T08:38:11.621Z"
   },
   {
    "duration": 39,
    "start_time": "2021-12-30T08:38:16.238Z"
   },
   {
    "duration": 42,
    "start_time": "2021-12-30T08:38:16.279Z"
   },
   {
    "duration": 1093,
    "start_time": "2021-12-30T08:38:16.323Z"
   },
   {
    "duration": 58,
    "start_time": "2021-12-30T08:38:17.419Z"
   },
   {
    "duration": 620,
    "start_time": "2021-12-30T08:38:17.480Z"
   },
   {
    "duration": 773,
    "start_time": "2021-12-30T08:38:18.105Z"
   },
   {
    "duration": 440,
    "start_time": "2021-12-30T08:38:18.882Z"
   },
   {
    "duration": 362,
    "start_time": "2021-12-30T08:38:19.325Z"
   },
   {
    "duration": 667,
    "start_time": "2021-12-30T08:38:19.690Z"
   },
   {
    "duration": 25,
    "start_time": "2021-12-30T08:38:20.360Z"
   },
   {
    "duration": 16,
    "start_time": "2021-12-30T08:38:20.387Z"
   },
   {
    "duration": 859,
    "start_time": "2021-12-30T08:38:20.406Z"
   },
   {
    "duration": 791,
    "start_time": "2021-12-30T08:38:21.268Z"
   },
   {
    "duration": 734,
    "start_time": "2021-12-30T08:38:22.061Z"
   },
   {
    "duration": 809,
    "start_time": "2021-12-30T08:38:22.797Z"
   },
   {
    "duration": 825,
    "start_time": "2021-12-30T08:38:23.608Z"
   },
   {
    "duration": 774,
    "start_time": "2021-12-30T08:38:24.435Z"
   },
   {
    "duration": 773,
    "start_time": "2021-12-30T08:38:25.215Z"
   },
   {
    "duration": 8,
    "start_time": "2021-12-30T08:38:25.991Z"
   },
   {
    "duration": 60,
    "start_time": "2021-12-30T08:38:26.001Z"
   },
   {
    "duration": 481,
    "start_time": "2021-12-30T08:38:26.064Z"
   },
   {
    "duration": 548,
    "start_time": "2021-12-30T08:38:26.549Z"
   },
   {
    "duration": 459,
    "start_time": "2021-12-30T08:38:27.100Z"
   },
   {
    "duration": 415,
    "start_time": "2021-12-30T08:38:27.561Z"
   },
   {
    "duration": 437,
    "start_time": "2021-12-30T08:38:27.978Z"
   },
   {
    "duration": 289,
    "start_time": "2021-12-30T08:38:28.417Z"
   },
   {
    "duration": 319,
    "start_time": "2021-12-30T08:38:28.709Z"
   },
   {
    "duration": 374,
    "start_time": "2021-12-30T08:38:29.031Z"
   },
   {
    "duration": 436,
    "start_time": "2021-12-30T08:38:29.408Z"
   },
   {
    "duration": 92,
    "start_time": "2021-12-30T08:38:47.612Z"
   },
   {
    "duration": 81,
    "start_time": "2021-12-30T08:38:47.772Z"
   },
   {
    "duration": 45,
    "start_time": "2021-12-30T08:38:47.983Z"
   },
   {
    "duration": 47,
    "start_time": "2021-12-30T08:38:48.030Z"
   },
   {
    "duration": 453,
    "start_time": "2021-12-30T08:39:01.553Z"
   },
   {
    "duration": -1328,
    "start_time": "2021-12-30T08:39:03.337Z"
   },
   {
    "duration": -1334,
    "start_time": "2021-12-30T08:39:03.345Z"
   },
   {
    "duration": -1401,
    "start_time": "2021-12-30T08:39:03.413Z"
   },
   {
    "duration": -1462,
    "start_time": "2021-12-30T08:39:03.476Z"
   },
   {
    "duration": -1467,
    "start_time": "2021-12-30T08:39:03.482Z"
   },
   {
    "duration": -1471,
    "start_time": "2021-12-30T08:39:03.487Z"
   },
   {
    "duration": -1475,
    "start_time": "2021-12-30T08:39:03.493Z"
   },
   {
    "duration": -1479,
    "start_time": "2021-12-30T08:39:03.498Z"
   },
   {
    "duration": -1483,
    "start_time": "2021-12-30T08:39:03.503Z"
   },
   {
    "duration": -1486,
    "start_time": "2021-12-30T08:39:03.508Z"
   },
   {
    "duration": -1490,
    "start_time": "2021-12-30T08:39:03.514Z"
   },
   {
    "duration": -1495,
    "start_time": "2021-12-30T08:39:03.520Z"
   },
   {
    "duration": -1538,
    "start_time": "2021-12-30T08:39:03.565Z"
   },
   {
    "duration": -1542,
    "start_time": "2021-12-30T08:39:03.570Z"
   },
   {
    "duration": -1546,
    "start_time": "2021-12-30T08:39:03.576Z"
   },
   {
    "duration": -1550,
    "start_time": "2021-12-30T08:39:03.581Z"
   },
   {
    "duration": -1554,
    "start_time": "2021-12-30T08:39:03.586Z"
   },
   {
    "duration": -1557,
    "start_time": "2021-12-30T08:39:03.591Z"
   },
   {
    "duration": -1562,
    "start_time": "2021-12-30T08:39:03.597Z"
   },
   {
    "duration": -1565,
    "start_time": "2021-12-30T08:39:03.602Z"
   },
   {
    "duration": -1569,
    "start_time": "2021-12-30T08:39:03.607Z"
   },
   {
    "duration": -1573,
    "start_time": "2021-12-30T08:39:03.612Z"
   },
   {
    "duration": -1576,
    "start_time": "2021-12-30T08:39:03.617Z"
   },
   {
    "duration": -1581,
    "start_time": "2021-12-30T08:39:03.623Z"
   },
   {
    "duration": -1584,
    "start_time": "2021-12-30T08:39:03.628Z"
   },
   {
    "duration": -1587,
    "start_time": "2021-12-30T08:39:03.632Z"
   },
   {
    "duration": -1579,
    "start_time": "2021-12-30T08:39:03.638Z"
   },
   {
    "duration": -1582,
    "start_time": "2021-12-30T08:39:03.643Z"
   },
   {
    "duration": -1595,
    "start_time": "2021-12-30T08:39:03.657Z"
   },
   {
    "duration": 1049,
    "start_time": "2021-12-30T08:39:14.782Z"
   },
   {
    "duration": 154,
    "start_time": "2021-12-30T08:39:15.835Z"
   },
   {
    "duration": 46,
    "start_time": "2021-12-30T08:39:15.993Z"
   },
   {
    "duration": 59,
    "start_time": "2021-12-30T08:39:16.041Z"
   },
   {
    "duration": 58,
    "start_time": "2021-12-30T08:39:16.102Z"
   },
   {
    "duration": 43,
    "start_time": "2021-12-30T08:39:16.162Z"
   },
   {
    "duration": 1062,
    "start_time": "2021-12-30T08:39:16.208Z"
   },
   {
    "duration": 45,
    "start_time": "2021-12-30T08:39:17.274Z"
   },
   {
    "duration": 978,
    "start_time": "2021-12-30T08:39:17.323Z"
   },
   {
    "duration": 616,
    "start_time": "2021-12-30T08:39:18.304Z"
   },
   {
    "duration": 430,
    "start_time": "2021-12-30T08:39:18.923Z"
   },
   {
    "duration": 344,
    "start_time": "2021-12-30T08:39:19.360Z"
   },
   {
    "duration": 558,
    "start_time": "2021-12-30T08:39:19.707Z"
   },
   {
    "duration": 24,
    "start_time": "2021-12-30T08:39:20.267Z"
   },
   {
    "duration": 17,
    "start_time": "2021-12-30T08:39:20.294Z"
   },
   {
    "duration": 786,
    "start_time": "2021-12-30T08:39:20.314Z"
   },
   {
    "duration": 707,
    "start_time": "2021-12-30T08:39:21.103Z"
   },
   {
    "duration": 753,
    "start_time": "2021-12-30T08:39:21.813Z"
   },
   {
    "duration": 809,
    "start_time": "2021-12-30T08:39:22.568Z"
   },
   {
    "duration": 741,
    "start_time": "2021-12-30T08:39:23.380Z"
   },
   {
    "duration": 805,
    "start_time": "2021-12-30T08:39:24.124Z"
   },
   {
    "duration": 800,
    "start_time": "2021-12-30T08:39:24.933Z"
   },
   {
    "duration": 8,
    "start_time": "2021-12-30T08:39:25.738Z"
   },
   {
    "duration": 41,
    "start_time": "2021-12-30T08:39:25.760Z"
   },
   {
    "duration": 378,
    "start_time": "2021-12-30T08:39:25.804Z"
   },
   {
    "duration": 423,
    "start_time": "2021-12-30T08:39:26.184Z"
   },
   {
    "duration": 425,
    "start_time": "2021-12-30T08:39:26.609Z"
   },
   {
    "duration": 409,
    "start_time": "2021-12-30T08:39:27.036Z"
   },
   {
    "duration": 400,
    "start_time": "2021-12-30T08:39:27.447Z"
   },
   {
    "duration": 273,
    "start_time": "2021-12-30T08:39:27.850Z"
   },
   {
    "duration": 285,
    "start_time": "2021-12-30T08:39:28.126Z"
   },
   {
    "duration": 492,
    "start_time": "2021-12-30T08:39:28.414Z"
   },
   {
    "duration": 456,
    "start_time": "2021-12-30T08:39:28.909Z"
   },
   {
    "duration": 106,
    "start_time": "2021-12-30T08:54:54.061Z"
   },
   {
    "duration": 899,
    "start_time": "2021-12-30T08:55:06.781Z"
   },
   {
    "duration": 303,
    "start_time": "2021-12-30T08:55:20.028Z"
   },
   {
    "duration": 92,
    "start_time": "2021-12-30T08:55:20.335Z"
   },
   {
    "duration": 66,
    "start_time": "2021-12-30T08:55:20.430Z"
   },
   {
    "duration": 43,
    "start_time": "2021-12-30T08:55:20.498Z"
   },
   {
    "duration": 50,
    "start_time": "2021-12-30T08:55:20.544Z"
   },
   {
    "duration": 71,
    "start_time": "2021-12-30T08:55:20.597Z"
   },
   {
    "duration": 1028,
    "start_time": "2021-12-30T08:55:20.671Z"
   },
   {
    "duration": 63,
    "start_time": "2021-12-30T08:55:21.703Z"
   },
   {
    "duration": 582,
    "start_time": "2021-12-30T08:55:21.769Z"
   },
   {
    "duration": 611,
    "start_time": "2021-12-30T08:55:22.359Z"
   },
   {
    "duration": 420,
    "start_time": "2021-12-30T08:55:22.972Z"
   },
   {
    "duration": 523,
    "start_time": "2021-12-30T08:55:23.395Z"
   },
   {
    "duration": 550,
    "start_time": "2021-12-30T08:55:23.920Z"
   },
   {
    "duration": 749,
    "start_time": "2021-12-30T08:55:34.961Z"
   },
   {
    "duration": 40,
    "start_time": "2021-12-30T08:55:46.715Z"
   },
   {
    "duration": 776,
    "start_time": "2021-12-30T08:57:18.533Z"
   },
   {
    "duration": 33,
    "start_time": "2021-12-30T09:03:02.503Z"
   },
   {
    "duration": 43,
    "start_time": "2021-12-30T09:05:29.977Z"
   },
   {
    "duration": 90,
    "start_time": "2021-12-30T09:05:47.873Z"
   },
   {
    "duration": 116,
    "start_time": "2021-12-30T09:05:47.966Z"
   },
   {
    "duration": 50,
    "start_time": "2021-12-30T09:05:48.086Z"
   },
   {
    "duration": 47,
    "start_time": "2021-12-30T09:05:48.159Z"
   },
   {
    "duration": 57,
    "start_time": "2021-12-30T09:05:48.208Z"
   },
   {
    "duration": 41,
    "start_time": "2021-12-30T09:05:48.268Z"
   },
   {
    "duration": 1011,
    "start_time": "2021-12-30T09:05:48.312Z"
   },
   {
    "duration": 50,
    "start_time": "2021-12-30T09:05:49.327Z"
   },
   {
    "duration": 582,
    "start_time": "2021-12-30T09:05:49.380Z"
   },
   {
    "duration": 706,
    "start_time": "2021-12-30T09:05:49.964Z"
   },
   {
    "duration": 480,
    "start_time": "2021-12-30T09:05:50.673Z"
   },
   {
    "duration": 375,
    "start_time": "2021-12-30T09:05:51.159Z"
   },
   {
    "duration": 568,
    "start_time": "2021-12-30T09:05:51.536Z"
   },
   {
    "duration": 34,
    "start_time": "2021-12-30T09:05:52.107Z"
   },
   {
    "duration": 657,
    "start_time": "2021-12-30T09:05:52.160Z"
   },
   {
    "duration": 55,
    "start_time": "2021-12-30T09:05:57.211Z"
   },
   {
    "duration": 1641,
    "start_time": "2021-12-30T09:20:51.402Z"
   },
   {
    "duration": 1745,
    "start_time": "2021-12-30T09:27:20.872Z"
   },
   {
    "duration": 1821,
    "start_time": "2021-12-30T09:28:08.524Z"
   },
   {
    "duration": 1810,
    "start_time": "2021-12-30T09:28:17.889Z"
   },
   {
    "duration": 844,
    "start_time": "2021-12-30T09:29:31.568Z"
   },
   {
    "duration": 927,
    "start_time": "2021-12-30T09:29:55.327Z"
   },
   {
    "duration": 1124,
    "start_time": "2021-12-30T09:30:04.862Z"
   },
   {
    "duration": 1020,
    "start_time": "2021-12-30T09:30:17.642Z"
   },
   {
    "duration": 869,
    "start_time": "2021-12-30T09:30:23.047Z"
   },
   {
    "duration": 1865,
    "start_time": "2021-12-30T09:34:11.031Z"
   },
   {
    "duration": 737,
    "start_time": "2021-12-30T09:40:30.013Z"
   },
   {
    "duration": 752,
    "start_time": "2021-12-30T09:42:19.260Z"
   },
   {
    "duration": 468,
    "start_time": "2021-12-30T09:43:38.375Z"
   },
   {
    "duration": 864,
    "start_time": "2021-12-30T09:43:52.315Z"
   },
   {
    "duration": 98,
    "start_time": "2021-12-30T09:43:53.182Z"
   },
   {
    "duration": 48,
    "start_time": "2021-12-30T09:43:53.283Z"
   },
   {
    "duration": 66,
    "start_time": "2021-12-30T09:43:53.335Z"
   },
   {
    "duration": 57,
    "start_time": "2021-12-30T09:43:53.405Z"
   },
   {
    "duration": 41,
    "start_time": "2021-12-30T09:43:53.466Z"
   },
   {
    "duration": 1006,
    "start_time": "2021-12-30T09:43:53.510Z"
   },
   {
    "duration": 51,
    "start_time": "2021-12-30T09:43:54.519Z"
   },
   {
    "duration": 720,
    "start_time": "2021-12-30T09:43:54.577Z"
   },
   {
    "duration": 627,
    "start_time": "2021-12-30T09:43:55.300Z"
   },
   {
    "duration": 420,
    "start_time": "2021-12-30T09:43:55.929Z"
   },
   {
    "duration": 329,
    "start_time": "2021-12-30T09:43:56.359Z"
   },
   {
    "duration": 561,
    "start_time": "2021-12-30T09:43:56.690Z"
   },
   {
    "duration": 31,
    "start_time": "2021-12-30T09:43:57.253Z"
   },
   {
    "duration": 582,
    "start_time": "2021-12-30T09:43:57.286Z"
   },
   {
    "duration": 54,
    "start_time": "2021-12-30T09:43:57.872Z"
   },
   {
    "duration": 739,
    "start_time": "2021-12-30T09:43:57.960Z"
   },
   {
    "duration": 1833,
    "start_time": "2021-12-30T09:43:58.702Z"
   },
   {
    "duration": -1498,
    "start_time": "2021-12-30T09:44:02.035Z"
   },
   {
    "duration": -1522,
    "start_time": "2021-12-30T09:44:02.061Z"
   },
   {
    "duration": -1534,
    "start_time": "2021-12-30T09:44:02.075Z"
   },
   {
    "duration": -1545,
    "start_time": "2021-12-30T09:44:02.087Z"
   },
   {
    "duration": -1560,
    "start_time": "2021-12-30T09:44:02.104Z"
   },
   {
    "duration": -1556,
    "start_time": "2021-12-30T09:44:02.115Z"
   },
   {
    "duration": -1571,
    "start_time": "2021-12-30T09:44:02.131Z"
   },
   {
    "duration": -1580,
    "start_time": "2021-12-30T09:44:02.141Z"
   },
   {
    "duration": -1594,
    "start_time": "2021-12-30T09:44:02.157Z"
   },
   {
    "duration": -1606,
    "start_time": "2021-12-30T09:44:02.170Z"
   },
   {
    "duration": -1619,
    "start_time": "2021-12-30T09:44:02.185Z"
   },
   {
    "duration": -1623,
    "start_time": "2021-12-30T09:44:02.190Z"
   },
   {
    "duration": -1646,
    "start_time": "2021-12-30T09:44:02.214Z"
   },
   {
    "duration": -1651,
    "start_time": "2021-12-30T09:44:02.220Z"
   },
   {
    "duration": -1672,
    "start_time": "2021-12-30T09:44:02.243Z"
   },
   {
    "duration": -1686,
    "start_time": "2021-12-30T09:44:02.258Z"
   },
   {
    "duration": 1866,
    "start_time": "2021-12-30T09:44:10.615Z"
   },
   {
    "duration": 750,
    "start_time": "2021-12-30T09:54:48.773Z"
   },
   {
    "duration": 2385,
    "start_time": "2021-12-30T09:54:52.702Z"
   },
   {
    "duration": 160,
    "start_time": "2021-12-30T10:02:16.070Z"
   },
   {
    "duration": 1009,
    "start_time": "2021-12-30T10:02:25.123Z"
   },
   {
    "duration": 765,
    "start_time": "2021-12-30T10:02:39.874Z"
   },
   {
    "duration": 1112,
    "start_time": "2021-12-30T10:03:47.710Z"
   },
   {
    "duration": 809,
    "start_time": "2021-12-30T10:03:55.465Z"
   },
   {
    "duration": 754,
    "start_time": "2021-12-30T10:04:12.080Z"
   },
   {
    "duration": 730,
    "start_time": "2021-12-30T10:07:16.080Z"
   },
   {
    "duration": 1769,
    "start_time": "2021-12-30T10:07:22.420Z"
   },
   {
    "duration": 1605,
    "start_time": "2021-12-30T10:10:33.744Z"
   },
   {
    "duration": 9207,
    "start_time": "2021-12-30T10:13:11.306Z"
   },
   {
    "duration": 712,
    "start_time": "2021-12-30T10:14:55.684Z"
   },
   {
    "duration": 809,
    "start_time": "2021-12-30T10:19:21.295Z"
   },
   {
    "duration": 1029,
    "start_time": "2021-12-30T10:19:53.161Z"
   },
   {
    "duration": 6234,
    "start_time": "2021-12-30T10:20:17.710Z"
   },
   {
    "duration": 1058,
    "start_time": "2021-12-30T10:20:49.145Z"
   },
   {
    "duration": 9998,
    "start_time": "2021-12-30T10:21:35.064Z"
   },
   {
    "duration": 9058,
    "start_time": "2021-12-30T10:21:46.116Z"
   },
   {
    "duration": 748,
    "start_time": "2021-12-30T10:23:15.344Z"
   },
   {
    "duration": 722,
    "start_time": "2021-12-30T10:23:26.490Z"
   },
   {
    "duration": 119,
    "start_time": "2021-12-30T10:23:48.291Z"
   },
   {
    "duration": 724,
    "start_time": "2021-12-30T10:23:54.518Z"
   },
   {
    "duration": 688,
    "start_time": "2021-12-30T10:25:31.507Z"
   },
   {
    "duration": 728,
    "start_time": "2021-12-30T10:26:34.783Z"
   },
   {
    "duration": 765,
    "start_time": "2021-12-30T10:28:47.156Z"
   },
   {
    "duration": 759,
    "start_time": "2021-12-30T10:29:21.446Z"
   },
   {
    "duration": 806,
    "start_time": "2021-12-30T10:29:59.296Z"
   },
   {
    "duration": 780,
    "start_time": "2021-12-30T10:30:05.957Z"
   },
   {
    "duration": 758,
    "start_time": "2021-12-30T10:30:29.270Z"
   },
   {
    "duration": 748,
    "start_time": "2021-12-30T10:31:00.795Z"
   },
   {
    "duration": 896,
    "start_time": "2021-12-30T10:31:30.275Z"
   },
   {
    "duration": 125,
    "start_time": "2021-12-30T10:31:31.175Z"
   },
   {
    "duration": 64,
    "start_time": "2021-12-30T10:31:31.302Z"
   },
   {
    "duration": 47,
    "start_time": "2021-12-30T10:31:31.368Z"
   },
   {
    "duration": 60,
    "start_time": "2021-12-30T10:31:31.417Z"
   },
   {
    "duration": 40,
    "start_time": "2021-12-30T10:31:31.480Z"
   },
   {
    "duration": 1007,
    "start_time": "2021-12-30T10:31:31.523Z"
   },
   {
    "duration": 47,
    "start_time": "2021-12-30T10:31:32.533Z"
   },
   {
    "duration": 717,
    "start_time": "2021-12-30T10:31:32.583Z"
   },
   {
    "duration": 609,
    "start_time": "2021-12-30T10:31:33.302Z"
   },
   {
    "duration": 434,
    "start_time": "2021-12-30T10:31:33.913Z"
   },
   {
    "duration": 335,
    "start_time": "2021-12-30T10:31:34.350Z"
   },
   {
    "duration": 592,
    "start_time": "2021-12-30T10:31:34.688Z"
   },
   {
    "duration": 26,
    "start_time": "2021-12-30T10:31:35.283Z"
   },
   {
    "duration": 607,
    "start_time": "2021-12-30T10:31:35.311Z"
   },
   {
    "duration": 65,
    "start_time": "2021-12-30T10:31:35.920Z"
   },
   {
    "duration": 773,
    "start_time": "2021-12-30T10:31:35.988Z"
   },
   {
    "duration": 996,
    "start_time": "2021-12-30T10:31:36.765Z"
   },
   {
    "duration": 952,
    "start_time": "2021-12-30T10:31:37.764Z"
   },
   {
    "duration": 732,
    "start_time": "2021-12-30T10:31:38.718Z"
   },
   {
    "duration": 742,
    "start_time": "2021-12-30T10:31:39.459Z"
   },
   {
    "duration": 728,
    "start_time": "2021-12-30T10:31:40.204Z"
   },
   {
    "duration": 788,
    "start_time": "2021-12-30T10:31:40.936Z"
   },
   {
    "duration": 9,
    "start_time": "2021-12-30T10:31:41.726Z"
   },
   {
    "duration": 57,
    "start_time": "2021-12-30T10:31:41.737Z"
   },
   {
    "duration": 368,
    "start_time": "2021-12-30T10:31:41.797Z"
   },
   {
    "duration": 437,
    "start_time": "2021-12-30T10:31:42.167Z"
   },
   {
    "duration": 443,
    "start_time": "2021-12-30T10:31:42.607Z"
   },
   {
    "duration": 410,
    "start_time": "2021-12-30T10:31:43.053Z"
   },
   {
    "duration": 424,
    "start_time": "2021-12-30T10:31:43.466Z"
   },
   {
    "duration": 377,
    "start_time": "2021-12-30T10:31:43.893Z"
   },
   {
    "duration": 304,
    "start_time": "2021-12-30T10:31:44.272Z"
   },
   {
    "duration": 320,
    "start_time": "2021-12-30T10:31:44.578Z"
   },
   {
    "duration": 443,
    "start_time": "2021-12-30T10:31:44.900Z"
   },
   {
    "duration": 549,
    "start_time": "2021-12-30T10:37:11.238Z"
   },
   {
    "duration": 553,
    "start_time": "2021-12-30T10:37:32.258Z"
   },
   {
    "duration": 743,
    "start_time": "2022-07-20T10:02:38.359Z"
   },
   {
    "duration": 95,
    "start_time": "2022-07-20T10:02:39.105Z"
   },
   {
    "duration": 56,
    "start_time": "2022-07-20T10:02:39.202Z"
   },
   {
    "duration": 30,
    "start_time": "2022-07-20T10:02:39.260Z"
   },
   {
    "duration": 95,
    "start_time": "2022-07-20T10:02:39.291Z"
   },
   {
    "duration": 0,
    "start_time": "2022-07-20T10:02:39.389Z"
   },
   {
    "duration": 0,
    "start_time": "2022-07-20T10:02:39.390Z"
   },
   {
    "duration": 0,
    "start_time": "2022-07-20T10:02:39.391Z"
   },
   {
    "duration": 0,
    "start_time": "2022-07-20T10:02:39.393Z"
   },
   {
    "duration": 0,
    "start_time": "2022-07-20T10:02:39.395Z"
   },
   {
    "duration": 0,
    "start_time": "2022-07-20T10:02:39.396Z"
   },
   {
    "duration": 0,
    "start_time": "2022-07-20T10:02:39.397Z"
   },
   {
    "duration": 0,
    "start_time": "2022-07-20T10:02:39.398Z"
   },
   {
    "duration": 0,
    "start_time": "2022-07-20T10:02:39.399Z"
   },
   {
    "duration": 0,
    "start_time": "2022-07-20T10:02:39.401Z"
   },
   {
    "duration": 0,
    "start_time": "2022-07-20T10:02:39.423Z"
   },
   {
    "duration": 0,
    "start_time": "2022-07-20T10:02:39.425Z"
   },
   {
    "duration": 0,
    "start_time": "2022-07-20T10:02:39.426Z"
   },
   {
    "duration": 1,
    "start_time": "2022-07-20T10:02:39.426Z"
   },
   {
    "duration": 0,
    "start_time": "2022-07-20T10:02:39.428Z"
   },
   {
    "duration": 0,
    "start_time": "2022-07-20T10:02:39.429Z"
   },
   {
    "duration": 0,
    "start_time": "2022-07-20T10:02:39.430Z"
   },
   {
    "duration": 0,
    "start_time": "2022-07-20T10:02:39.431Z"
   },
   {
    "duration": 0,
    "start_time": "2022-07-20T10:02:39.432Z"
   },
   {
    "duration": 0,
    "start_time": "2022-07-20T10:02:39.433Z"
   },
   {
    "duration": 0,
    "start_time": "2022-07-20T10:02:39.434Z"
   },
   {
    "duration": 0,
    "start_time": "2022-07-20T10:02:39.435Z"
   },
   {
    "duration": 0,
    "start_time": "2022-07-20T10:02:39.436Z"
   },
   {
    "duration": 0,
    "start_time": "2022-07-20T10:02:39.437Z"
   },
   {
    "duration": 0,
    "start_time": "2022-07-20T10:02:39.439Z"
   },
   {
    "duration": 0,
    "start_time": "2022-07-20T10:02:39.439Z"
   },
   {
    "duration": 0,
    "start_time": "2022-07-20T10:02:39.441Z"
   },
   {
    "duration": 0,
    "start_time": "2022-07-20T10:02:39.442Z"
   },
   {
    "duration": 0,
    "start_time": "2022-07-20T10:02:39.443Z"
   },
   {
    "duration": 522,
    "start_time": "2022-07-20T10:06:56.013Z"
   },
   {
    "duration": 70,
    "start_time": "2022-07-20T10:06:56.537Z"
   },
   {
    "duration": 58,
    "start_time": "2022-07-20T10:06:56.609Z"
   },
   {
    "duration": 30,
    "start_time": "2022-07-20T10:06:56.670Z"
   },
   {
    "duration": 84,
    "start_time": "2022-07-20T10:06:56.701Z"
   },
   {
    "duration": 0,
    "start_time": "2022-07-20T10:06:56.788Z"
   },
   {
    "duration": 0,
    "start_time": "2022-07-20T10:06:56.790Z"
   },
   {
    "duration": 0,
    "start_time": "2022-07-20T10:06:56.792Z"
   },
   {
    "duration": 1,
    "start_time": "2022-07-20T10:06:56.793Z"
   },
   {
    "duration": 0,
    "start_time": "2022-07-20T10:06:56.795Z"
   },
   {
    "duration": 0,
    "start_time": "2022-07-20T10:06:56.796Z"
   },
   {
    "duration": 0,
    "start_time": "2022-07-20T10:06:56.797Z"
   },
   {
    "duration": 0,
    "start_time": "2022-07-20T10:06:56.799Z"
   },
   {
    "duration": 0,
    "start_time": "2022-07-20T10:06:56.823Z"
   },
   {
    "duration": 0,
    "start_time": "2022-07-20T10:06:56.825Z"
   },
   {
    "duration": 0,
    "start_time": "2022-07-20T10:06:56.826Z"
   },
   {
    "duration": 0,
    "start_time": "2022-07-20T10:06:56.827Z"
   },
   {
    "duration": 0,
    "start_time": "2022-07-20T10:06:56.828Z"
   },
   {
    "duration": 0,
    "start_time": "2022-07-20T10:06:56.829Z"
   },
   {
    "duration": 0,
    "start_time": "2022-07-20T10:06:56.830Z"
   },
   {
    "duration": 0,
    "start_time": "2022-07-20T10:06:56.831Z"
   },
   {
    "duration": 0,
    "start_time": "2022-07-20T10:06:56.832Z"
   },
   {
    "duration": 0,
    "start_time": "2022-07-20T10:06:56.833Z"
   },
   {
    "duration": 0,
    "start_time": "2022-07-20T10:06:56.834Z"
   },
   {
    "duration": 0,
    "start_time": "2022-07-20T10:06:56.834Z"
   },
   {
    "duration": 0,
    "start_time": "2022-07-20T10:06:56.835Z"
   },
   {
    "duration": 0,
    "start_time": "2022-07-20T10:06:56.837Z"
   },
   {
    "duration": 0,
    "start_time": "2022-07-20T10:06:56.837Z"
   },
   {
    "duration": 0,
    "start_time": "2022-07-20T10:06:56.839Z"
   },
   {
    "duration": 0,
    "start_time": "2022-07-20T10:06:56.839Z"
   },
   {
    "duration": 0,
    "start_time": "2022-07-20T10:06:56.840Z"
   },
   {
    "duration": 0,
    "start_time": "2022-07-20T10:06:56.841Z"
   },
   {
    "duration": 0,
    "start_time": "2022-07-20T10:06:56.842Z"
   },
   {
    "duration": 0,
    "start_time": "2022-07-20T10:06:56.843Z"
   },
   {
    "duration": 24,
    "start_time": "2022-07-20T10:17:22.601Z"
   },
   {
    "duration": 500,
    "start_time": "2022-07-20T10:17:40.442Z"
   },
   {
    "duration": 88,
    "start_time": "2022-07-20T10:17:40.944Z"
   },
   {
    "duration": 45,
    "start_time": "2022-07-20T10:17:41.033Z"
   },
   {
    "duration": 43,
    "start_time": "2022-07-20T10:17:41.080Z"
   },
   {
    "duration": 25,
    "start_time": "2022-07-20T10:17:41.126Z"
   },
   {
    "duration": 29,
    "start_time": "2022-07-20T10:17:41.153Z"
   },
   {
    "duration": 449,
    "start_time": "2022-07-20T10:17:41.183Z"
   },
   {
    "duration": 0,
    "start_time": "2022-07-20T10:17:41.635Z"
   },
   {
    "duration": 0,
    "start_time": "2022-07-20T10:17:41.636Z"
   },
   {
    "duration": 0,
    "start_time": "2022-07-20T10:17:41.637Z"
   },
   {
    "duration": 0,
    "start_time": "2022-07-20T10:17:41.638Z"
   },
   {
    "duration": 0,
    "start_time": "2022-07-20T10:17:41.639Z"
   },
   {
    "duration": 0,
    "start_time": "2022-07-20T10:17:41.640Z"
   },
   {
    "duration": 0,
    "start_time": "2022-07-20T10:17:41.640Z"
   },
   {
    "duration": 0,
    "start_time": "2022-07-20T10:17:41.642Z"
   },
   {
    "duration": 0,
    "start_time": "2022-07-20T10:17:41.643Z"
   },
   {
    "duration": 0,
    "start_time": "2022-07-20T10:17:41.644Z"
   },
   {
    "duration": 0,
    "start_time": "2022-07-20T10:17:41.645Z"
   },
   {
    "duration": 0,
    "start_time": "2022-07-20T10:17:41.646Z"
   },
   {
    "duration": 1,
    "start_time": "2022-07-20T10:17:41.646Z"
   },
   {
    "duration": 0,
    "start_time": "2022-07-20T10:17:41.647Z"
   },
   {
    "duration": 0,
    "start_time": "2022-07-20T10:17:41.648Z"
   },
   {
    "duration": 0,
    "start_time": "2022-07-20T10:17:41.649Z"
   },
   {
    "duration": 0,
    "start_time": "2022-07-20T10:17:41.650Z"
   },
   {
    "duration": 0,
    "start_time": "2022-07-20T10:17:41.651Z"
   },
   {
    "duration": 0,
    "start_time": "2022-07-20T10:17:41.652Z"
   },
   {
    "duration": 0,
    "start_time": "2022-07-20T10:17:41.653Z"
   },
   {
    "duration": 0,
    "start_time": "2022-07-20T10:17:41.654Z"
   },
   {
    "duration": 0,
    "start_time": "2022-07-20T10:17:41.655Z"
   },
   {
    "duration": 0,
    "start_time": "2022-07-20T10:17:41.656Z"
   },
   {
    "duration": 0,
    "start_time": "2022-07-20T10:17:41.657Z"
   },
   {
    "duration": 0,
    "start_time": "2022-07-20T10:17:41.657Z"
   },
   {
    "duration": 0,
    "start_time": "2022-07-20T10:17:41.658Z"
   },
   {
    "duration": 0,
    "start_time": "2022-07-20T10:17:41.659Z"
   },
   {
    "duration": 497,
    "start_time": "2022-07-20T10:22:31.585Z"
   },
   {
    "duration": 78,
    "start_time": "2022-07-20T10:22:32.084Z"
   },
   {
    "duration": 43,
    "start_time": "2022-07-20T10:22:32.163Z"
   },
   {
    "duration": 39,
    "start_time": "2022-07-20T10:22:32.209Z"
   },
   {
    "duration": 25,
    "start_time": "2022-07-20T10:22:32.250Z"
   },
   {
    "duration": 52,
    "start_time": "2022-07-20T10:22:32.277Z"
   },
   {
    "duration": 234,
    "start_time": "2022-07-20T10:22:32.330Z"
   },
   {
    "duration": 26,
    "start_time": "2022-07-20T10:22:32.566Z"
   },
   {
    "duration": 468,
    "start_time": "2022-07-20T10:22:32.593Z"
   },
   {
    "duration": 320,
    "start_time": "2022-07-20T10:22:33.063Z"
   },
   {
    "duration": 207,
    "start_time": "2022-07-20T10:22:33.384Z"
   },
   {
    "duration": 159,
    "start_time": "2022-07-20T10:22:33.592Z"
   },
   {
    "duration": 248,
    "start_time": "2022-07-20T10:22:33.753Z"
   },
   {
    "duration": 24,
    "start_time": "2022-07-20T10:22:34.002Z"
   },
   {
    "duration": 239,
    "start_time": "2022-07-20T10:22:34.028Z"
   },
   {
    "duration": 41,
    "start_time": "2022-07-20T10:22:34.269Z"
   },
   {
    "duration": 202,
    "start_time": "2022-07-20T10:22:34.311Z"
   },
   {
    "duration": 188,
    "start_time": "2022-07-20T10:22:34.515Z"
   },
   {
    "duration": 197,
    "start_time": "2022-07-20T10:22:34.705Z"
   },
   {
    "duration": 272,
    "start_time": "2022-07-20T10:22:34.903Z"
   },
   {
    "duration": 205,
    "start_time": "2022-07-20T10:22:35.177Z"
   },
   {
    "duration": 190,
    "start_time": "2022-07-20T10:22:35.383Z"
   },
   {
    "duration": 187,
    "start_time": "2022-07-20T10:22:35.575Z"
   },
   {
    "duration": 5,
    "start_time": "2022-07-20T10:22:35.764Z"
   },
   {
    "duration": 24,
    "start_time": "2022-07-20T10:22:35.771Z"
   },
   {
    "duration": 177,
    "start_time": "2022-07-20T10:22:35.796Z"
   },
   {
    "duration": 202,
    "start_time": "2022-07-20T10:22:35.974Z"
   },
   {
    "duration": 190,
    "start_time": "2022-07-20T10:22:36.179Z"
   },
   {
    "duration": 171,
    "start_time": "2022-07-20T10:22:36.371Z"
   },
   {
    "duration": 194,
    "start_time": "2022-07-20T10:22:36.543Z"
   },
   {
    "duration": 150,
    "start_time": "2022-07-20T10:22:36.739Z"
   },
   {
    "duration": 159,
    "start_time": "2022-07-20T10:22:36.891Z"
   },
   {
    "duration": 260,
    "start_time": "2022-07-20T10:22:37.052Z"
   },
   {
    "duration": 323,
    "start_time": "2022-07-20T10:22:37.314Z"
   }
  ],
  "kernelspec": {
   "display_name": "Python 3 (ipykernel)",
   "language": "python",
   "name": "python3"
  },
  "language_info": {
   "codemirror_mode": {
    "name": "ipython",
    "version": 3
   },
   "file_extension": ".py",
   "mimetype": "text/x-python",
   "name": "python",
   "nbconvert_exporter": "python",
   "pygments_lexer": "ipython3",
   "version": "3.9.5"
  },
  "toc": {
   "base_numbering": 1,
   "nav_menu": {},
   "number_sections": true,
   "sideBar": true,
   "skip_h1_title": true,
   "title_cell": "Содержание",
   "title_sidebar": "Contents",
   "toc_cell": true,
   "toc_position": {
    "height": "calc(100% - 180px)",
    "left": "10px",
    "top": "150px",
    "width": "165px"
   },
   "toc_section_display": true,
   "toc_window_display": false
  }
 },
 "nbformat": 4,
 "nbformat_minor": 2
}
