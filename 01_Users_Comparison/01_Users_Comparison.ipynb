{
 "cells": [
  {
   "cell_type": "markdown",
   "metadata": {
    "id": "E0vqbgi9ay0H"
   },
   "source": [
    "# Яндекс.Музыка"
   ]
  },
  {
   "cell_type": "markdown",
   "metadata": {
    "id": "VUC88oWjTJw2"
   },
   "source": [
    "Сравнение Москвы и Петербурга окружено мифами. Например:\n",
    " * Москва — мегаполис, подчинённый жёсткому ритму рабочей недели;\n",
    " * Петербург — культурная столица, со своими вкусами.\n",
    "\n",
    "На данных Яндекс.Музыки вы сравните поведение пользователей двух столиц.\n",
    "\n",
    "**Цель исследования** — проверьте три гипотезы:\n",
    "1. Активность пользователей зависит от дня недели. Причём в Москве и Петербурге это проявляется по-разному.\n",
    "2. В понедельник утром в Москве преобладают одни жанры, а в Петербурге — другие. Так же и вечером пятницы преобладают разные жанры — в зависимости от города. \n",
    "3. Москва и Петербург предпочитают разные жанры музыки. В Москве чаще слушают поп-музыку, в Петербурге — русский рэп.\n",
    "\n",
    "**Ход исследования**\n",
    "\n",
    "Данные о поведении пользователей вы получите из файла `yandex_music_project.csv`. О качестве данных ничего не известно. Поэтому перед проверкой гипотез понадобится обзор данных. \n",
    "\n",
    "Вы проверите данные на ошибки и оцените их влияние на исследование. Затем, на этапе предобработки вы поищете возможность исправить самые критичные ошибки данных.\n",
    " \n",
    "Таким образом, исследование пройдёт в три этапа:\n",
    " 1. Обзор данных.\n",
    " 2. Предобработка данных.\n",
    " 3. Проверка гипотез.\n",
    "\n"
   ]
  },
  {
   "cell_type": "markdown",
   "metadata": {
    "id": "Ml1hmfXC_Zcs"
   },
   "source": [
    "## Обзор данных\n",
    "\n",
    "Составьте первое представление о данных Яндекс.Музыки.\n",
    "\n",
    "\n"
   ]
  },
  {
   "cell_type": "markdown",
   "metadata": {
    "id": "57eAOGIz_Zcs"
   },
   "source": [
    "Основной инструмент аналитика — `pandas`. Импортируйте эту библиотеку."
   ]
  },
  {
   "cell_type": "code",
   "execution_count": 1,
   "metadata": {
    "id": "AXN7PHPN_Zcs"
   },
   "outputs": [],
   "source": [
    "import pandas as pd # импорт библиотеки pandas"
   ]
  },
  {
   "cell_type": "markdown",
   "metadata": {
    "id": "SG23P8tt_Zcs"
   },
   "source": [
    "Прочитайте файл `yandex_music_project.csv` из папки `/datasets` и сохраните его в переменной `df`:"
   ]
  },
  {
   "cell_type": "code",
   "execution_count": 2,
   "metadata": {
    "id": "fFVu7vqh_Zct"
   },
   "outputs": [],
   "source": [
    "df = pd.read_csv('/datasets/yandex_music_project.csv')# чтение файла с данными и сохранение в df"
   ]
  },
  {
   "cell_type": "markdown",
   "metadata": {
    "id": "rDoOMd3uTqnZ"
   },
   "source": [
    "Выведите на экран первые десять строк таблицы:"
   ]
  },
  {
   "cell_type": "code",
   "execution_count": 3,
   "metadata": {
    "id": "oWTVX3gW_Zct"
   },
   "outputs": [
    {
     "data": {
      "text/html": [
       "<div>\n",
       "<style scoped>\n",
       "    .dataframe tbody tr th:only-of-type {\n",
       "        vertical-align: middle;\n",
       "    }\n",
       "\n",
       "    .dataframe tbody tr th {\n",
       "        vertical-align: top;\n",
       "    }\n",
       "\n",
       "    .dataframe thead th {\n",
       "        text-align: right;\n",
       "    }\n",
       "</style>\n",
       "<table border=\"1\" class=\"dataframe\">\n",
       "  <thead>\n",
       "    <tr style=\"text-align: right;\">\n",
       "      <th></th>\n",
       "      <th>userID</th>\n",
       "      <th>Track</th>\n",
       "      <th>artist</th>\n",
       "      <th>genre</th>\n",
       "      <th>City</th>\n",
       "      <th>time</th>\n",
       "      <th>Day</th>\n",
       "    </tr>\n",
       "  </thead>\n",
       "  <tbody>\n",
       "    <tr>\n",
       "      <th>0</th>\n",
       "      <td>FFB692EC</td>\n",
       "      <td>Kamigata To Boots</td>\n",
       "      <td>The Mass Missile</td>\n",
       "      <td>rock</td>\n",
       "      <td>Saint-Petersburg</td>\n",
       "      <td>20:28:33</td>\n",
       "      <td>Wednesday</td>\n",
       "    </tr>\n",
       "    <tr>\n",
       "      <th>1</th>\n",
       "      <td>55204538</td>\n",
       "      <td>Delayed Because of Accident</td>\n",
       "      <td>Andreas Rönnberg</td>\n",
       "      <td>rock</td>\n",
       "      <td>Moscow</td>\n",
       "      <td>14:07:09</td>\n",
       "      <td>Friday</td>\n",
       "    </tr>\n",
       "    <tr>\n",
       "      <th>2</th>\n",
       "      <td>20EC38</td>\n",
       "      <td>Funiculì funiculà</td>\n",
       "      <td>Mario Lanza</td>\n",
       "      <td>pop</td>\n",
       "      <td>Saint-Petersburg</td>\n",
       "      <td>20:58:07</td>\n",
       "      <td>Wednesday</td>\n",
       "    </tr>\n",
       "    <tr>\n",
       "      <th>3</th>\n",
       "      <td>A3DD03C9</td>\n",
       "      <td>Dragons in the Sunset</td>\n",
       "      <td>Fire + Ice</td>\n",
       "      <td>folk</td>\n",
       "      <td>Saint-Petersburg</td>\n",
       "      <td>08:37:09</td>\n",
       "      <td>Monday</td>\n",
       "    </tr>\n",
       "    <tr>\n",
       "      <th>4</th>\n",
       "      <td>E2DC1FAE</td>\n",
       "      <td>Soul People</td>\n",
       "      <td>Space Echo</td>\n",
       "      <td>dance</td>\n",
       "      <td>Moscow</td>\n",
       "      <td>08:34:34</td>\n",
       "      <td>Monday</td>\n",
       "    </tr>\n",
       "    <tr>\n",
       "      <th>5</th>\n",
       "      <td>842029A1</td>\n",
       "      <td>Преданная</td>\n",
       "      <td>IMPERVTOR</td>\n",
       "      <td>rusrap</td>\n",
       "      <td>Saint-Petersburg</td>\n",
       "      <td>13:09:41</td>\n",
       "      <td>Friday</td>\n",
       "    </tr>\n",
       "    <tr>\n",
       "      <th>6</th>\n",
       "      <td>4CB90AA5</td>\n",
       "      <td>True</td>\n",
       "      <td>Roman Messer</td>\n",
       "      <td>dance</td>\n",
       "      <td>Moscow</td>\n",
       "      <td>13:00:07</td>\n",
       "      <td>Wednesday</td>\n",
       "    </tr>\n",
       "    <tr>\n",
       "      <th>7</th>\n",
       "      <td>F03E1C1F</td>\n",
       "      <td>Feeling This Way</td>\n",
       "      <td>Polina Griffith</td>\n",
       "      <td>dance</td>\n",
       "      <td>Moscow</td>\n",
       "      <td>20:47:49</td>\n",
       "      <td>Wednesday</td>\n",
       "    </tr>\n",
       "    <tr>\n",
       "      <th>8</th>\n",
       "      <td>8FA1D3BE</td>\n",
       "      <td>И вновь продолжается бой</td>\n",
       "      <td>NaN</td>\n",
       "      <td>ruspop</td>\n",
       "      <td>Moscow</td>\n",
       "      <td>09:17:40</td>\n",
       "      <td>Friday</td>\n",
       "    </tr>\n",
       "    <tr>\n",
       "      <th>9</th>\n",
       "      <td>E772D5C0</td>\n",
       "      <td>Pessimist</td>\n",
       "      <td>NaN</td>\n",
       "      <td>dance</td>\n",
       "      <td>Saint-Petersburg</td>\n",
       "      <td>21:20:49</td>\n",
       "      <td>Wednesday</td>\n",
       "    </tr>\n",
       "  </tbody>\n",
       "</table>\n",
       "</div>"
      ],
      "text/plain": [
       "     userID                        Track            artist   genre  \\\n",
       "0  FFB692EC            Kamigata To Boots  The Mass Missile    rock   \n",
       "1  55204538  Delayed Because of Accident  Andreas Rönnberg    rock   \n",
       "2    20EC38            Funiculì funiculà       Mario Lanza     pop   \n",
       "3  A3DD03C9        Dragons in the Sunset        Fire + Ice    folk   \n",
       "4  E2DC1FAE                  Soul People        Space Echo   dance   \n",
       "5  842029A1                    Преданная         IMPERVTOR  rusrap   \n",
       "6  4CB90AA5                         True      Roman Messer   dance   \n",
       "7  F03E1C1F             Feeling This Way   Polina Griffith   dance   \n",
       "8  8FA1D3BE     И вновь продолжается бой               NaN  ruspop   \n",
       "9  E772D5C0                    Pessimist               NaN   dance   \n",
       "\n",
       "             City        time        Day  \n",
       "0  Saint-Petersburg  20:28:33  Wednesday  \n",
       "1            Moscow  14:07:09     Friday  \n",
       "2  Saint-Petersburg  20:58:07  Wednesday  \n",
       "3  Saint-Petersburg  08:37:09     Monday  \n",
       "4            Moscow  08:34:34     Monday  \n",
       "5  Saint-Petersburg  13:09:41     Friday  \n",
       "6            Moscow  13:00:07  Wednesday  \n",
       "7            Moscow  20:47:49  Wednesday  \n",
       "8            Moscow  09:17:40     Friday  \n",
       "9  Saint-Petersburg  21:20:49  Wednesday  "
      ]
     },
     "execution_count": 3,
     "metadata": {},
     "output_type": "execute_result"
    }
   ],
   "source": [
    "df.head(10)# получение первых 10 строк таблицы df "
   ]
  },
  {
   "cell_type": "markdown",
   "metadata": {
    "id": "EO73Kwic_Zct"
   },
   "source": [
    "Одной командой получить общую информацию о таблице:"
   ]
  },
  {
   "cell_type": "code",
   "execution_count": 4,
   "metadata": {
    "id": "DSf2kIb-_Zct"
   },
   "outputs": [
    {
     "name": "stdout",
     "output_type": "stream",
     "text": [
      "<class 'pandas.core.frame.DataFrame'>\n",
      "RangeIndex: 65079 entries, 0 to 65078\n",
      "Data columns (total 7 columns):\n",
      " #   Column    Non-Null Count  Dtype \n",
      "---  ------    --------------  ----- \n",
      " 0     userID  65079 non-null  object\n",
      " 1   Track     63848 non-null  object\n",
      " 2   artist    57876 non-null  object\n",
      " 3   genre     63881 non-null  object\n",
      " 4     City    65079 non-null  object\n",
      " 5   time      65079 non-null  object\n",
      " 6   Day       65079 non-null  object\n",
      "dtypes: object(7)\n",
      "memory usage: 3.5+ MB\n"
     ]
    }
   ],
   "source": [
    "df.info()# получение общей информации о данных в таблице df"
   ]
  },
  {
   "cell_type": "markdown",
   "metadata": {
    "id": "TaQ2Iwbr_Zct"
   },
   "source": [
    "Итак, в таблице семь столбцов. Тип данных во всех столбцах — `object`.\n",
    "\n",
    "Согласно документации к данным:\n",
    "* `userID` — идентификатор пользователя;\n",
    "* `Track` — название трека;  \n",
    "* `artist` — имя исполнителя;\n",
    "* `genre` — название жанра;\n",
    "* `City` — город пользователя;\n",
    "* `time` — время начала прослушивания;\n",
    "* `Day` — день недели.\n",
    "\n",
    "В названиях колонок видны три нарушения стиля:\n",
    "1. Строчные буквы сочетаются с прописными.\n",
    "2. Встречаются пробелы.\n",
    "3. Необходимо использовать \"змеиный регистр\" в 'userID' #Найдите ещё одну проблему в названии колонок и опишите её в этом пункте.\n",
    "\n",
    "\n",
    "\n",
    "Количество значений в столбцах различается. Значит, в данных есть пропущенные значения.\n"
   ]
  },
  {
   "cell_type": "markdown",
   "metadata": {
    "id": "MCB6-dXG_Zct"
   },
   "source": [
    "**Выводы**\n",
    "\n",
    "В каждой строке таблицы — данные о прослушанном треке. Часть колонок описывает саму композицию: название, исполнителя и жанр. Остальные данные рассказывают о пользователе: из какого он города, когда он слушал музыку. \n",
    "\n",
    "Предварительно можно утверждать, что, данных достаточно для проверки гипотез. Но встречаются пропуски в данных, а в названиях колонок — расхождения с хорошим стилем.\n",
    "\n",
    "Чтобы двигаться дальше, нужно устранить проблемы в данных."
   ]
  },
  {
   "cell_type": "markdown",
   "metadata": {
    "id": "SjYF6Ub9_Zct"
   },
   "source": [
    "## Предобработка данных\n",
    "Исправьте стиль в заголовках столбцов, исключите пропуски. Затем проверьте данные на дубликаты."
   ]
  },
  {
   "cell_type": "markdown",
   "metadata": {
    "id": "dIaKXr29_Zct"
   },
   "source": [
    "### Стиль заголовков\n",
    "Выведите на экран названия столбцов:"
   ]
  },
  {
   "cell_type": "code",
   "execution_count": 5,
   "metadata": {
    "id": "oKOTdF_Q_Zct"
   },
   "outputs": [
    {
     "data": {
      "text/plain": [
       "Index(['  userID', 'Track', 'artist', 'genre', '  City  ', 'time', 'Day'], dtype='object')"
      ]
     },
     "execution_count": 5,
     "metadata": {},
     "output_type": "execute_result"
    }
   ],
   "source": [
    "df.columns# перечень названий столбцов таблицы df"
   ]
  },
  {
   "cell_type": "markdown",
   "metadata": {
    "id": "zj5534cv_Zct"
   },
   "source": [
    "Приведите названия в соответствие с хорошим стилем:\n",
    "* несколько слов в названии запишите в «змеином_регистре»,\n",
    "* все символы сделайте строчными,\n",
    "* устраните пробелы.\n",
    "\n",
    "Для этого переименуйте колонки так:\n",
    "* `'  userID'` → `'user_id'`;\n",
    "* `'Track'` → `'track'`;\n",
    "* `'  City  '` → `'city'`;\n",
    "* `'Day'` → `'day'`."
   ]
  },
  {
   "cell_type": "code",
   "execution_count": 6,
   "metadata": {
    "id": "ISlFqs5y_Zct"
   },
   "outputs": [],
   "source": [
    "df = df.rename(columns={'  userID': 'user_id', 'Track': 'track', '  City  ': 'city', 'Day': 'day'})# переименование столбцов"
   ]
  },
  {
   "cell_type": "markdown",
   "metadata": {
    "id": "1dqbh00J_Zct"
   },
   "source": [
    "Проверьте результат. Для этого ещё раз выведите на экран названия столбцов:"
   ]
  },
  {
   "cell_type": "code",
   "execution_count": 7,
   "metadata": {
    "id": "d4NOAmTW_Zct"
   },
   "outputs": [
    {
     "data": {
      "text/plain": [
       "Index(['user_id', 'track', 'artist', 'genre', 'city', 'time', 'day'], dtype='object')"
      ]
     },
     "execution_count": 7,
     "metadata": {},
     "output_type": "execute_result"
    }
   ],
   "source": [
    "df.columns# проверка результатов - перечень названий столбцов"
   ]
  },
  {
   "cell_type": "markdown",
   "metadata": {
    "id": "5ISfbcfY_Zct"
   },
   "source": [
    "### Пропуски значений\n",
    "Сначала посчитайте, сколько в таблице пропущенных значений. Для этого достаточно двух методов `pandas`:"
   ]
  },
  {
   "cell_type": "code",
   "execution_count": 8,
   "metadata": {
    "id": "RskX29qr_Zct"
   },
   "outputs": [
    {
     "data": {
      "text/plain": [
       "user_id       0\n",
       "track      1231\n",
       "artist     7203\n",
       "genre      1198\n",
       "city          0\n",
       "time          0\n",
       "day           0\n",
       "dtype: int64"
      ]
     },
     "execution_count": 8,
     "metadata": {},
     "output_type": "execute_result"
    }
   ],
   "source": [
    "df.isna().sum()# подсчёт пропусков"
   ]
  },
  {
   "cell_type": "markdown",
   "metadata": {
    "id": "qubhgnlO_Zct"
   },
   "source": [
    "Не все пропущенные значения влияют на исследование. Так в `track` и `artist` пропуски не важны для вашей работы. Достаточно заменить их явными обозначениями.\n",
    "\n",
    "Но пропуски в `genre` могут помешать сравнению музыкальных вкусов в Москве и Санкт-Петербурге. На практике было бы правильно установить причину пропусков и восстановить данные. Такой возможности нет в учебном проекте. Придётся:\n",
    "* заполнить и эти пропуски явными обозначениями,\n",
    "* оценить, насколько они повредят расчётам. "
   ]
  },
  {
   "cell_type": "markdown",
   "metadata": {
    "id": "fSv2laPA_Zct"
   },
   "source": [
    "Замените пропущенные значения в столбцах `track`, `artist` и `genre` на строку `'unknown'`. Для этого создайте список `columns_to_replace`, переберите его элементы циклом `for` и для каждого столбца выполните замену пропущенных значений:"
   ]
  },
  {
   "cell_type": "code",
   "execution_count": 9,
   "metadata": {
    "id": "KplB5qWs_Zct"
   },
   "outputs": [],
   "source": [
    "columns_to_replace = ['track', 'artist', 'genre']\n",
    "for column in columns_to_replace:\n",
    "    df[column] = df[column].fillna('unknown')\n",
    "\n",
    "# перебор названий столбцов в цикле и замена пропущенных значений на 'unknown'"
   ]
  },
  {
   "cell_type": "markdown",
   "metadata": {
    "id": "Ilsm-MZo_Zct"
   },
   "source": [
    "Убедитесь, что в таблице не осталось пропусков. Для этого ещё раз посчитайте пропущенные значения."
   ]
  },
  {
   "cell_type": "code",
   "execution_count": 10,
   "metadata": {
    "id": "Tq4nYRX4_Zct"
   },
   "outputs": [
    {
     "data": {
      "text/plain": [
       "user_id    0\n",
       "track      0\n",
       "artist     0\n",
       "genre      0\n",
       "city       0\n",
       "time       0\n",
       "day        0\n",
       "dtype: int64"
      ]
     },
     "execution_count": 10,
     "metadata": {},
     "output_type": "execute_result"
    }
   ],
   "source": [
    "df.isna().sum()# подсчёт пропусков"
   ]
  },
  {
   "cell_type": "markdown",
   "metadata": {
    "id": "BWKRtBJ3_Zct"
   },
   "source": [
    "### Дубликаты\n",
    "Посчитайте явные дубликаты в таблице одной командой:"
   ]
  },
  {
   "cell_type": "code",
   "execution_count": 11,
   "metadata": {
    "id": "36eES_S0_Zct"
   },
   "outputs": [
    {
     "data": {
      "text/plain": [
       "3826"
      ]
     },
     "execution_count": 11,
     "metadata": {},
     "output_type": "execute_result"
    }
   ],
   "source": [
    "df.duplicated().sum()# подсчёт явных дубликатов"
   ]
  },
  {
   "cell_type": "markdown",
   "metadata": {
    "id": "Ot25h6XR_Zct"
   },
   "source": [
    "Вызовите специальный метод `pandas`, чтобы удалить явные дубликаты:"
   ]
  },
  {
   "cell_type": "code",
   "execution_count": 12,
   "metadata": {
    "id": "exFHq6tt_Zct"
   },
   "outputs": [],
   "source": [
    "df=df.drop_duplicates().reset_index(drop=True)# удаление явных дубликатов (с удалением старых индексов и формированием новых)"
   ]
  },
  {
   "cell_type": "markdown",
   "metadata": {
    "id": "Im2YwBEG_Zct"
   },
   "source": [
    "Ещё раз посчитайте явные дубликаты в таблице — убедитесь, что полностью от них избавились:"
   ]
  },
  {
   "cell_type": "code",
   "execution_count": 13,
   "metadata": {
    "id": "-8PuNWQ0_Zct"
   },
   "outputs": [
    {
     "data": {
      "text/plain": [
       "0"
      ]
     },
     "execution_count": 13,
     "metadata": {},
     "output_type": "execute_result"
    }
   ],
   "source": [
    "df.duplicated().sum()# проверка на отсутствие дубликатов"
   ]
  },
  {
   "cell_type": "markdown",
   "metadata": {
    "id": "QlFBsxAr_Zct"
   },
   "source": [
    "Теперь избавьтесь от неявных дубликатов в колонке `genre`. Например, название одного и того же жанра может быть записано немного по-разному. Такие ошибки тоже повлияют на результат исследования."
   ]
  },
  {
   "cell_type": "markdown",
   "metadata": {
    "id": "eSjWwsOh_Zct"
   },
   "source": [
    "Выведите на экран список уникальных названий жанров, отсортированный в алфавитном порядке. Для этого:\n",
    "* извлеките нужный столбец датафрейма, \n",
    "* примените к нему метод сортировки,\n",
    "* для отсортированного столбца вызовите метод, который вернёт уникальные значения из столбца."
   ]
  },
  {
   "cell_type": "code",
   "execution_count": 14,
   "metadata": {
    "id": "JIUcqzZN_Zct"
   },
   "outputs": [
    {
     "name": "stdout",
     "output_type": "stream",
     "text": [
      "['acid' 'acoustic' 'action' 'adult' 'africa' 'afrikaans' 'alternative'\n",
      " 'alternativepunk' 'ambient' 'americana' 'animated' 'anime' 'arabesk'\n",
      " 'arabic' 'arena' 'argentinetango' 'art' 'audiobook' 'author' 'avantgarde'\n",
      " 'axé' 'baile' 'balkan' 'beats' 'bigroom' 'black' 'bluegrass' 'blues'\n",
      " 'bollywood' 'bossa' 'brazilian' 'breakbeat' 'breaks' 'broadway'\n",
      " 'cantautori' 'cantopop' 'canzone' 'caribbean' 'caucasian' 'celtic'\n",
      " 'chamber' 'chanson' 'children' 'chill' 'chinese' 'choral' 'christian'\n",
      " 'christmas' 'classical' 'classicmetal' 'club' 'colombian' 'comedy'\n",
      " 'conjazz' 'contemporary' 'country' 'cuban' 'dance' 'dancehall' 'dancepop'\n",
      " 'dark' 'death' 'deep' 'deutschrock' 'deutschspr' 'dirty' 'disco' 'dnb'\n",
      " 'documentary' 'downbeat' 'downtempo' 'drum' 'dub' 'dubstep' 'eastern'\n",
      " 'easy' 'electronic' 'electropop' 'emo' 'entehno' 'epicmetal' 'estrada'\n",
      " 'ethnic' 'eurofolk' 'european' 'experimental' 'extrememetal' 'fado'\n",
      " 'fairytail' 'film' 'fitness' 'flamenco' 'folk' 'folklore' 'folkmetal'\n",
      " 'folkrock' 'folktronica' 'forró' 'frankreich' 'französisch' 'french'\n",
      " 'funk' 'future' 'gangsta' 'garage' 'german' 'ghazal' 'gitarre' 'glitch'\n",
      " 'gospel' 'gothic' 'grime' 'grunge' 'gypsy' 'handsup' \"hard'n'heavy\"\n",
      " 'hardcore' 'hardstyle' 'hardtechno' 'hip' 'hip-hop' 'hiphop' 'historisch'\n",
      " 'holiday' 'hop' 'horror' 'house' 'hymn' 'idm' 'independent' 'indian'\n",
      " 'indie' 'indipop' 'industrial' 'inspirational' 'instrumental'\n",
      " 'international' 'irish' 'jam' 'japanese' 'jazz' 'jewish' 'jpop' 'jungle'\n",
      " 'k-pop' 'karadeniz' 'karaoke' 'kayokyoku' 'korean' 'laiko' 'latin'\n",
      " 'latino' 'leftfield' 'local' 'lounge' 'loungeelectronic' 'lovers'\n",
      " 'malaysian' 'mandopop' 'marschmusik' 'meditative' 'mediterranean'\n",
      " 'melodic' 'metal' 'metalcore' 'mexican' 'middle' 'minimal'\n",
      " 'miscellaneous' 'modern' 'mood' 'mpb' 'muslim' 'native' 'neoklassik'\n",
      " 'neue' 'new' 'newage' 'newwave' 'nu' 'nujazz' 'numetal' 'oceania' 'old'\n",
      " 'opera' 'orchestral' 'other' 'piano' 'podcasts' 'pop' 'popdance'\n",
      " 'popelectronic' 'popeurodance' 'poprussian' 'post' 'posthardcore'\n",
      " 'postrock' 'power' 'progmetal' 'progressive' 'psychedelic' 'punjabi'\n",
      " 'punk' 'quebecois' 'ragga' 'ram' 'rancheras' 'rap' 'rave' 'reggae'\n",
      " 'reggaeton' 'regional' 'relax' 'religious' 'retro' 'rhythm' 'rnb' 'rnr'\n",
      " 'rock' 'rockabilly' 'rockalternative' 'rockindie' 'rockother' 'romance'\n",
      " 'roots' 'ruspop' 'rusrap' 'rusrock' 'russian' 'salsa' 'samba' 'scenic'\n",
      " 'schlager' 'self' 'sertanejo' 'shanson' 'shoegazing' 'showtunes' 'singer'\n",
      " 'ska' 'skarock' 'slow' 'smooth' 'soft' 'soul' 'soulful' 'sound'\n",
      " 'soundtrack' 'southern' 'specialty' 'speech' 'spiritual' 'sport'\n",
      " 'stonerrock' 'surf' 'swing' 'synthpop' 'synthrock' 'sängerportrait'\n",
      " 'tango' 'tanzorchester' 'taraftar' 'tatar' 'tech' 'techno' 'teen'\n",
      " 'thrash' 'top' 'traditional' 'tradjazz' 'trance' 'tribal' 'trip'\n",
      " 'triphop' 'tropical' 'türk' 'türkçe' 'ukrrock' 'unknown' 'urban' 'uzbek'\n",
      " 'variété' 'vi' 'videogame' 'vocal' 'western' 'world' 'worldbeat' 'ïîï'\n",
      " 'электроника']\n"
     ]
    }
   ],
   "source": [
    "df_unique = df['genre'].sort_values().unique()\n",
    "df_unique.sort()\n",
    "print(df_unique)\n",
    "# Просмотр уникальных названий жанров"
   ]
  },
  {
   "cell_type": "markdown",
   "metadata": {
    "id": "qej-Qmuo_Zct"
   },
   "source": [
    "Просмотрите список и найдите неявные дубликаты названия `hiphop`. Это могут быть названия с ошибками или альтернативные названия того же жанра.\n",
    "\n",
    "Вы увидите следующие неявные дубликаты:\n",
    "* *hip*,\n",
    "* *hop*,\n",
    "* *hip-hop*.\n",
    "\n",
    "Чтобы очистить от них таблицу, напишите функцию `replace_wrong_genres()` с двумя параметрами: \n",
    "* `wrong_genres` — список дубликатов,\n",
    "* `correct_genre` — строка с правильным значением.\n",
    "\n",
    "Функция должна исправить колонку `genre` в таблице `df`: заменить каждое значение из списка `wrong_genres` на значение из `correct_genre`."
   ]
  },
  {
   "cell_type": "code",
   "execution_count": 15,
   "metadata": {
    "id": "ErNDkmns_Zct"
   },
   "outputs": [],
   "source": [
    "def replace_wrong_genres(wrong_values, correct_value):# Функция для замены неявных дубликатов\n",
    "    for wrong_value in wrong_values:\n",
    "        df['genre'] = df['genre'].replace(wrong_value, correct_value)"
   ]
  },
  {
   "cell_type": "markdown",
   "metadata": {
    "id": "aDoBJxbA_Zct"
   },
   "source": [
    "Вызовите `replace_wrong_genres()` и передайте ей такие аргументы, чтобы она устранила неявные дубликаты: вместо `hip`, `hop` и `hip-hop` в таблице должно быть значение `hiphop`:"
   ]
  },
  {
   "cell_type": "code",
   "execution_count": 16,
   "metadata": {
    "id": "YN5i2hpmSo09"
   },
   "outputs": [],
   "source": [
    "wrong_values = ['hip', 'hop', 'hip-hop']# Устранение неявных дубликатов\n",
    "correct_value = 'hiphop'\n",
    "replace_wrong_genres(wrong_values, correct_value)"
   ]
  },
  {
   "cell_type": "markdown",
   "metadata": {
    "id": "zQKF16_RG15m"
   },
   "source": [
    "Проверьте, что заменили неправильные названия:\n",
    "\n",
    "*   hip\n",
    "*   hop\n",
    "*   hip-hop\n",
    "\n",
    "Выведите отсортированный список уникальных значений столбца `genre`:"
   ]
  },
  {
   "cell_type": "code",
   "execution_count": 17,
   "metadata": {
    "id": "wvixALnFG15m",
    "scrolled": false
   },
   "outputs": [
    {
     "data": {
      "text/plain": [
       "array(['acid', 'acoustic', 'action', 'adult', 'africa', 'afrikaans',\n",
       "       'alternative', 'alternativepunk', 'ambient', 'americana',\n",
       "       'animated', 'anime', 'arabesk', 'arabic', 'arena',\n",
       "       'argentinetango', 'art', 'audiobook', 'author', 'avantgarde',\n",
       "       'axé', 'baile', 'balkan', 'beats', 'bigroom', 'black', 'bluegrass',\n",
       "       'blues', 'bollywood', 'bossa', 'brazilian', 'breakbeat', 'breaks',\n",
       "       'broadway', 'cantautori', 'cantopop', 'canzone', 'caribbean',\n",
       "       'caucasian', 'celtic', 'chamber', 'chanson', 'children', 'chill',\n",
       "       'chinese', 'choral', 'christian', 'christmas', 'classical',\n",
       "       'classicmetal', 'club', 'colombian', 'comedy', 'conjazz',\n",
       "       'contemporary', 'country', 'cuban', 'dance', 'dancehall',\n",
       "       'dancepop', 'dark', 'death', 'deep', 'deutschrock', 'deutschspr',\n",
       "       'dirty', 'disco', 'dnb', 'documentary', 'downbeat', 'downtempo',\n",
       "       'drum', 'dub', 'dubstep', 'eastern', 'easy', 'electronic',\n",
       "       'electropop', 'emo', 'entehno', 'epicmetal', 'estrada', 'ethnic',\n",
       "       'eurofolk', 'european', 'experimental', 'extrememetal', 'fado',\n",
       "       'fairytail', 'film', 'fitness', 'flamenco', 'folk', 'folklore',\n",
       "       'folkmetal', 'folkrock', 'folktronica', 'forró', 'frankreich',\n",
       "       'französisch', 'french', 'funk', 'future', 'gangsta', 'garage',\n",
       "       'german', 'ghazal', 'gitarre', 'glitch', 'gospel', 'gothic',\n",
       "       'grime', 'grunge', 'gypsy', 'handsup', \"hard'n'heavy\", 'hardcore',\n",
       "       'hardstyle', 'hardtechno', 'hiphop', 'historisch', 'holiday',\n",
       "       'horror', 'house', 'hymn', 'idm', 'independent', 'indian', 'indie',\n",
       "       'indipop', 'industrial', 'inspirational', 'instrumental',\n",
       "       'international', 'irish', 'jam', 'japanese', 'jazz', 'jewish',\n",
       "       'jpop', 'jungle', 'k-pop', 'karadeniz', 'karaoke', 'kayokyoku',\n",
       "       'korean', 'laiko', 'latin', 'latino', 'leftfield', 'local',\n",
       "       'lounge', 'loungeelectronic', 'lovers', 'malaysian', 'mandopop',\n",
       "       'marschmusik', 'meditative', 'mediterranean', 'melodic', 'metal',\n",
       "       'metalcore', 'mexican', 'middle', 'minimal', 'miscellaneous',\n",
       "       'modern', 'mood', 'mpb', 'muslim', 'native', 'neoklassik', 'neue',\n",
       "       'new', 'newage', 'newwave', 'nu', 'nujazz', 'numetal', 'oceania',\n",
       "       'old', 'opera', 'orchestral', 'other', 'piano', 'podcasts', 'pop',\n",
       "       'popdance', 'popelectronic', 'popeurodance', 'poprussian', 'post',\n",
       "       'posthardcore', 'postrock', 'power', 'progmetal', 'progressive',\n",
       "       'psychedelic', 'punjabi', 'punk', 'quebecois', 'ragga', 'ram',\n",
       "       'rancheras', 'rap', 'rave', 'reggae', 'reggaeton', 'regional',\n",
       "       'relax', 'religious', 'retro', 'rhythm', 'rnb', 'rnr', 'rock',\n",
       "       'rockabilly', 'rockalternative', 'rockindie', 'rockother',\n",
       "       'romance', 'roots', 'ruspop', 'rusrap', 'rusrock', 'russian',\n",
       "       'salsa', 'samba', 'scenic', 'schlager', 'self', 'sertanejo',\n",
       "       'shanson', 'shoegazing', 'showtunes', 'singer', 'ska', 'skarock',\n",
       "       'slow', 'smooth', 'soft', 'soul', 'soulful', 'sound', 'soundtrack',\n",
       "       'southern', 'specialty', 'speech', 'spiritual', 'sport',\n",
       "       'stonerrock', 'surf', 'swing', 'synthpop', 'synthrock',\n",
       "       'sängerportrait', 'tango', 'tanzorchester', 'taraftar', 'tatar',\n",
       "       'tech', 'techno', 'teen', 'thrash', 'top', 'traditional',\n",
       "       'tradjazz', 'trance', 'tribal', 'trip', 'triphop', 'tropical',\n",
       "       'türk', 'türkçe', 'ukrrock', 'unknown', 'urban', 'uzbek',\n",
       "       'variété', 'vi', 'videogame', 'vocal', 'western', 'world',\n",
       "       'worldbeat', 'ïîï', 'электроника'], dtype=object)"
      ]
     },
     "execution_count": 17,
     "metadata": {},
     "output_type": "execute_result"
    }
   ],
   "source": [
    "df['genre'].sort_values().unique()# Проверка на неявные дубликаты"
   ]
  },
  {
   "cell_type": "markdown",
   "metadata": {
    "id": "jz6a9-7HQUDd"
   },
   "source": [
    "**Выводы**\n",
    "\n",
    "Предобработка обнаружила три проблемы в данных:\n",
    "\n",
    "- нарушения в стиле заголовков,\n",
    "- пропущенные значения,\n",
    "- дубликаты — явные и неявные.\n",
    "\n",
    "Вы исправили заголовки, чтобы упростить работу с таблицей. Без дубликатов исследование станет более точным.\n",
    "\n",
    "Пропущенные значения вы заменили на `'unknown'`. Ещё предстоит увидеть, не повредят ли исследованию пропуски в колонке `genre`.\n",
    "\n",
    "Теперь можно перейти к проверке гипотез. "
   ]
  },
  {
   "cell_type": "markdown",
   "metadata": {
    "id": "WttZHXH0SqKk"
   },
   "source": [
    "## Проверка гипотез"
   ]
  },
  {
   "cell_type": "markdown",
   "metadata": {
    "id": "Im936VVi_Zcu"
   },
   "source": [
    "### Сравнение поведения пользователей двух столиц"
   ]
  },
  {
   "cell_type": "markdown",
   "metadata": {
    "id": "nwt_MuaL_Zcu"
   },
   "source": [
    "Первая гипотеза утверждает, что пользователи по-разному слушают музыку в Москве и Санкт-Петербурге. Проверьте это предположение по данным о трёх днях недели — понедельнике, среде и пятнице. Для этого:\n",
    "\n",
    "* Разделите пользователей Москвы и Санкт-Петербурга\n",
    "* Сравните, сколько треков послушала каждая группа пользователей в понедельник, среду и пятницу.\n"
   ]
  },
  {
   "cell_type": "markdown",
   "metadata": {
    "id": "8Dw_YMmT_Zcu"
   },
   "source": [
    "Для тренировки сначала выполните каждый из расчётов по отдельности. \n",
    "\n",
    "Оцените активность пользователей в каждом городе. Сгруппируйте данные по городу и посчитайте прослушивания в каждой группе.\n",
    "\n"
   ]
  },
  {
   "cell_type": "code",
   "execution_count": 18,
   "metadata": {
    "id": "0_Qs96oh_Zcu"
   },
   "outputs": [
    {
     "name": "stdout",
     "output_type": "stream",
     "text": [
      "Всего прослушиваний в Москве: 42741\n",
      "Всего прослушиваний в Питере: 18512\n"
     ]
    }
   ],
   "source": [
    "# Подсчёт прослушиваний в каждом городе\n",
    "print('Всего прослушиваний в Москве:', df[df['city'] == 'Moscow']['city'].count())\n",
    "print('Всего прослушиваний в Питере:', df[df['city'] == 'Saint-Petersburg']['city'].count())"
   ]
  },
  {
   "cell_type": "markdown",
   "metadata": {
    "id": "dzli3w8o_Zcu"
   },
   "source": [
    "В Москве прослушиваний больше, чем в Петербурге. Из этого не следует, что московские пользователи чаще слушают музыку. Просто самих пользователей в Москве больше.\n",
    "\n",
    "Теперь сгруппируйте данные по дню недели и подсчитайте прослушивания в понедельник, среду и пятницу. Учтите, что в данных есть информация только о прослушиваниях только за эти дни.\n"
   ]
  },
  {
   "cell_type": "code",
   "execution_count": 19,
   "metadata": {
    "id": "uZMKjiJz_Zcu"
   },
   "outputs": [
    {
     "name": "stdout",
     "output_type": "stream",
     "text": [
      "Всего прослушиваний в понедельник: 21354\n",
      "Всего прослушиваний во вторник: 18059\n",
      "Всего прослушиваний в среду: 21840\n"
     ]
    }
   ],
   "source": [
    "# Подсчёт прослушиваний в каждый из трёх дней\n",
    "print('Всего прослушиваний в понедельник:', df[df['day'] == 'Monday']['day'].count())\n",
    "print('Всего прослушиваний во вторник:', df[df['day'] == 'Wednesday']['day'].count())\n",
    "print('Всего прослушиваний в среду:', df[df['day'] == 'Friday']['day'].count())"
   ]
  },
  {
   "cell_type": "markdown",
   "metadata": {
    "id": "cC2tNrlL_Zcu"
   },
   "source": [
    "В среднем пользователи из двух городов менее активны по средам. Но картина может измениться, если рассмотреть каждый город в отдельности."
   ]
  },
  {
   "cell_type": "markdown",
   "metadata": {
    "id": "POzs8bGa_Zcu"
   },
   "source": [
    "Вы видели, как работает группировка по городу и по дням недели. Теперь напишите функцию, которая объединит два эти расчёта.\n",
    "\n",
    "Создайте функцию `number_tracks()`, которая посчитает прослушивания для заданного дня и города. Ей понадобятся два параметра:\n",
    "* день недели,\n",
    "* название города.\n",
    "\n",
    "В функции сохраните в переменную строки исходной таблицы, у которых значение:\n",
    "  * в колонке `day` равно параметру `day`,\n",
    "  * в колонке `city` равно параметру `city`.\n",
    "\n",
    "Для этого примените последовательную фильтрацию с логической индексацией.\n",
    "\n",
    "Затем посчитайте значения в столбце `user_id` получившейся таблицы. Результат сохраните в новую переменную. Верните эту переменную из функции."
   ]
  },
  {
   "cell_type": "code",
   "execution_count": 20,
   "metadata": {
    "id": "Nz3GdQB1_Zcu"
   },
   "outputs": [],
   "source": [
    "# <создание функции number_tracks()>\n",
    "# Объявляется функция с двумя параметрами: day, city.\n",
    "# В переменной track_list сохраняются те строки таблицы df, для которых \n",
    "# значение в столбце 'day' равно параметру day и одновременно значение\n",
    "# в столбце 'city' равно параметру city (используйте последовательную фильтрацию\n",
    "# с помощью логической индексации).\n",
    "# В переменной track_list_count сохраняется число значений столбца 'user_id',\n",
    "# рассчитанное методом count() для таблицы track_list.\n",
    "# Функция возвращает число - значение track_list_count.\n",
    "\n",
    "def number_tracks(day, city):\n",
    "    track_list = df[df['day'] == day]\n",
    "    track_list = track_list[track_list['city'] == city]\n",
    "    track_list_count = track_list['user_id'].count()\n",
    "    return track_list_count\n",
    "\n",
    "# Функция для подсчёта прослушиваний для конкретного города и дня.\n",
    "# С помощью последовательной фильтрации с логической индексацией она \n",
    "# сначала получит из исходной таблицы строки с нужным днём,\n",
    "# затем из результата отфильтрует строки с нужным городом,\n",
    "# методом count() посчитает количество значений в колонке user_id. \n",
    "# Это количество функция вернёт в качестве результата"
   ]
  },
  {
   "cell_type": "markdown",
   "metadata": {
    "id": "ytf7xFrFJQ2r"
   },
   "source": [
    "Вызовите `number_tracks()` шесть раз, меняя значение параметров — так, чтобы получить данные для каждого города в каждый из трёх дней."
   ]
  },
  {
   "cell_type": "code",
   "execution_count": 21,
   "metadata": {
    "id": "rJcRATNQ_Zcu"
   },
   "outputs": [
    {
     "data": {
      "text/plain": [
       "15740"
      ]
     },
     "execution_count": 21,
     "metadata": {},
     "output_type": "execute_result"
    }
   ],
   "source": [
    "number_tracks('Monday','Moscow')# количество прослушиваний в Москве по понедельникам"
   ]
  },
  {
   "cell_type": "code",
   "execution_count": 22,
   "metadata": {
    "id": "hq_ncZ5T_Zcu"
   },
   "outputs": [
    {
     "data": {
      "text/plain": [
       "5614"
      ]
     },
     "execution_count": 22,
     "metadata": {},
     "output_type": "execute_result"
    }
   ],
   "source": [
    "number_tracks('Monday','Saint-Petersburg')# количество прослушиваний в Санкт-Петербурге по понедельникам"
   ]
  },
  {
   "cell_type": "code",
   "execution_count": 23,
   "metadata": {
    "id": "_NTy2VPU_Zcu"
   },
   "outputs": [
    {
     "data": {
      "text/plain": [
       "11056"
      ]
     },
     "execution_count": 23,
     "metadata": {},
     "output_type": "execute_result"
    }
   ],
   "source": [
    "number_tracks('Wednesday','Moscow')# количество прослушиваний в Москве по средам"
   ]
  },
  {
   "cell_type": "code",
   "execution_count": 24,
   "metadata": {
    "id": "j2y3TAwo_Zcu"
   },
   "outputs": [
    {
     "data": {
      "text/plain": [
       "7003"
      ]
     },
     "execution_count": 24,
     "metadata": {},
     "output_type": "execute_result"
    }
   ],
   "source": [
    "number_tracks('Wednesday','Saint-Petersburg')# количество прослушиваний в Санкт-Петербурге по средам"
   ]
  },
  {
   "cell_type": "code",
   "execution_count": 25,
   "metadata": {
    "id": "vYDw5u_K_Zcu"
   },
   "outputs": [
    {
     "data": {
      "text/plain": [
       "15945"
      ]
     },
     "execution_count": 25,
     "metadata": {},
     "output_type": "execute_result"
    }
   ],
   "source": [
    "number_tracks('Friday','Moscow')# количество прослушиваний в Москве по пятницам"
   ]
  },
  {
   "cell_type": "code",
   "execution_count": 26,
   "metadata": {
    "id": "8_yzFtW3_Zcu"
   },
   "outputs": [
    {
     "data": {
      "text/plain": [
       "5895"
      ]
     },
     "execution_count": 26,
     "metadata": {},
     "output_type": "execute_result"
    }
   ],
   "source": [
    "number_tracks('Friday','Saint-Petersburg')# количество прослушиваний в Санкт-Петербурге по пятницам"
   ]
  },
  {
   "cell_type": "markdown",
   "metadata": {
    "id": "7QXffbO-_Zcu"
   },
   "source": [
    "Создайте c помощью конструктора `pd.DataFrame` таблицу, где\n",
    "* названия колонок — `['city', 'monday', 'wednesday', 'friday']`;\n",
    "* данные — результаты, которые вы получили с помощью `number_tracks`."
   ]
  },
  {
   "cell_type": "code",
   "execution_count": 27,
   "metadata": {
    "id": "APAcLpOr_Zcu"
   },
   "outputs": [
    {
     "data": {
      "text/html": [
       "<div>\n",
       "<style scoped>\n",
       "    .dataframe tbody tr th:only-of-type {\n",
       "        vertical-align: middle;\n",
       "    }\n",
       "\n",
       "    .dataframe tbody tr th {\n",
       "        vertical-align: top;\n",
       "    }\n",
       "\n",
       "    .dataframe thead th {\n",
       "        text-align: right;\n",
       "    }\n",
       "</style>\n",
       "<table border=\"1\" class=\"dataframe\">\n",
       "  <thead>\n",
       "    <tr style=\"text-align: right;\">\n",
       "      <th></th>\n",
       "      <th>Monday</th>\n",
       "      <th>Wednesday</th>\n",
       "      <th>Friday</th>\n",
       "    </tr>\n",
       "  </thead>\n",
       "  <tbody>\n",
       "    <tr>\n",
       "      <th>Moscow</th>\n",
       "      <td>15740</td>\n",
       "      <td>11056</td>\n",
       "      <td>15945</td>\n",
       "    </tr>\n",
       "    <tr>\n",
       "      <th>Saint-Petersburg</th>\n",
       "      <td>5614</td>\n",
       "      <td>7003</td>\n",
       "      <td>5895</td>\n",
       "    </tr>\n",
       "  </tbody>\n",
       "</table>\n",
       "</div>"
      ],
      "text/plain": [
       "                  Monday  Wednesday  Friday\n",
       "Moscow             15740      11056   15945\n",
       "Saint-Petersburg    5614       7003    5895"
      ]
     },
     "execution_count": 27,
     "metadata": {},
     "output_type": "execute_result"
    }
   ],
   "source": [
    "pd.DataFrame({day : {city : number_tracks(day, city) for city in ['Moscow', 'Saint-Petersburg'] } for day in ['Monday', 'Wednesday', 'Friday']})\n",
    "# Таблица с результатами"
   ]
  },
  {
   "cell_type": "markdown",
   "metadata": {
    "id": "-EgPIHYu_Zcu"
   },
   "source": [
    "**Выводы**\n",
    "\n",
    "Данные показывают разницу поведения пользователей:\n",
    "\n",
    "- В Москве пик прослушиваний приходится на понедельник и пятницу, а в среду заметен спад.\n",
    "- В Петербурге, наоборот, больше слушают музыку по средам. Активность в понедельник и пятницу здесь почти в равной мере уступает среде.\n",
    "\n",
    "Значит, данные говорят в пользу первой гипотезы."
   ]
  },
  {
   "cell_type": "markdown",
   "metadata": {
    "id": "atZAxtq4_Zcu"
   },
   "source": [
    "### Музыка в начале и в конце недели"
   ]
  },
  {
   "cell_type": "markdown",
   "metadata": {
    "id": "eXrQqXFH_Zcu"
   },
   "source": [
    "Согласно второй гипотезе, утром в понедельник в Москве преобладают одни жанры, а в Петербурге — другие. Так же и вечером пятницы преобладают разные жанры — в зависимости от города."
   ]
  },
  {
   "cell_type": "markdown",
   "metadata": {
    "id": "S8UcW6Hw_Zcu"
   },
   "source": [
    "Сохраните таблицы с данными в две переменные:\n",
    "* по Москве — в `moscow_general`;\n",
    "* по Санкт-Петербургу — в `spb_general`."
   ]
  },
  {
   "cell_type": "code",
   "execution_count": 28,
   "metadata": {
    "id": "qeaFfM_P_Zcu"
   },
   "outputs": [],
   "source": [
    "moscow_general = df[df['city']=='Moscow']# получение таблицы moscow_general из тех строк таблицы df, \n",
    "# для которых значение в столбце 'city' равно 'Moscow'\n"
   ]
  },
  {
   "cell_type": "code",
   "execution_count": 29,
   "metadata": {
    "id": "ORaVRKto_Zcu"
   },
   "outputs": [
    {
     "data": {
      "text/html": [
       "<div>\n",
       "<style scoped>\n",
       "    .dataframe tbody tr th:only-of-type {\n",
       "        vertical-align: middle;\n",
       "    }\n",
       "\n",
       "    .dataframe tbody tr th {\n",
       "        vertical-align: top;\n",
       "    }\n",
       "\n",
       "    .dataframe thead th {\n",
       "        text-align: right;\n",
       "    }\n",
       "</style>\n",
       "<table border=\"1\" class=\"dataframe\">\n",
       "  <thead>\n",
       "    <tr style=\"text-align: right;\">\n",
       "      <th></th>\n",
       "      <th>user_id</th>\n",
       "      <th>track</th>\n",
       "      <th>artist</th>\n",
       "      <th>genre</th>\n",
       "      <th>city</th>\n",
       "      <th>time</th>\n",
       "      <th>day</th>\n",
       "    </tr>\n",
       "  </thead>\n",
       "  <tbody>\n",
       "    <tr>\n",
       "      <th>0</th>\n",
       "      <td>FFB692EC</td>\n",
       "      <td>Kamigata To Boots</td>\n",
       "      <td>The Mass Missile</td>\n",
       "      <td>rock</td>\n",
       "      <td>Saint-Petersburg</td>\n",
       "      <td>20:28:33</td>\n",
       "      <td>Wednesday</td>\n",
       "    </tr>\n",
       "    <tr>\n",
       "      <th>2</th>\n",
       "      <td>20EC38</td>\n",
       "      <td>Funiculì funiculà</td>\n",
       "      <td>Mario Lanza</td>\n",
       "      <td>pop</td>\n",
       "      <td>Saint-Petersburg</td>\n",
       "      <td>20:58:07</td>\n",
       "      <td>Wednesday</td>\n",
       "    </tr>\n",
       "    <tr>\n",
       "      <th>3</th>\n",
       "      <td>A3DD03C9</td>\n",
       "      <td>Dragons in the Sunset</td>\n",
       "      <td>Fire + Ice</td>\n",
       "      <td>folk</td>\n",
       "      <td>Saint-Petersburg</td>\n",
       "      <td>08:37:09</td>\n",
       "      <td>Monday</td>\n",
       "    </tr>\n",
       "    <tr>\n",
       "      <th>5</th>\n",
       "      <td>842029A1</td>\n",
       "      <td>Преданная</td>\n",
       "      <td>IMPERVTOR</td>\n",
       "      <td>rusrap</td>\n",
       "      <td>Saint-Petersburg</td>\n",
       "      <td>13:09:41</td>\n",
       "      <td>Friday</td>\n",
       "    </tr>\n",
       "    <tr>\n",
       "      <th>9</th>\n",
       "      <td>E772D5C0</td>\n",
       "      <td>Pessimist</td>\n",
       "      <td>unknown</td>\n",
       "      <td>dance</td>\n",
       "      <td>Saint-Petersburg</td>\n",
       "      <td>21:20:49</td>\n",
       "      <td>Wednesday</td>\n",
       "    </tr>\n",
       "    <tr>\n",
       "      <th>14</th>\n",
       "      <td>94EB25C2</td>\n",
       "      <td>Make Love Whenever You Can</td>\n",
       "      <td>Arabesque</td>\n",
       "      <td>pop</td>\n",
       "      <td>Saint-Petersburg</td>\n",
       "      <td>13:22:08</td>\n",
       "      <td>Wednesday</td>\n",
       "    </tr>\n",
       "    <tr>\n",
       "      <th>16</th>\n",
       "      <td>81D05C7D</td>\n",
       "      <td>SLAVES OF FEAR</td>\n",
       "      <td>HEALTH</td>\n",
       "      <td>alternative</td>\n",
       "      <td>Saint-Petersburg</td>\n",
       "      <td>20:54:48</td>\n",
       "      <td>Monday</td>\n",
       "    </tr>\n",
       "    <tr>\n",
       "      <th>17</th>\n",
       "      <td>39DE290E</td>\n",
       "      <td>Веснянка</td>\n",
       "      <td>Веданъ Колодъ</td>\n",
       "      <td>folk</td>\n",
       "      <td>Saint-Petersburg</td>\n",
       "      <td>14:36:47</td>\n",
       "      <td>Monday</td>\n",
       "    </tr>\n",
       "    <tr>\n",
       "      <th>18</th>\n",
       "      <td>58AE138A</td>\n",
       "      <td>Pat-a-Cake</td>\n",
       "      <td>Mother Goose Club</td>\n",
       "      <td>children</td>\n",
       "      <td>Saint-Petersburg</td>\n",
       "      <td>20:04:56</td>\n",
       "      <td>Monday</td>\n",
       "    </tr>\n",
       "    <tr>\n",
       "      <th>22</th>\n",
       "      <td>B8E29C9C</td>\n",
       "      <td>Самота</td>\n",
       "      <td>unknown</td>\n",
       "      <td>folk</td>\n",
       "      <td>Saint-Petersburg</td>\n",
       "      <td>20:20:49</td>\n",
       "      <td>Wednesday</td>\n",
       "    </tr>\n",
       "  </tbody>\n",
       "</table>\n",
       "</div>"
      ],
      "text/plain": [
       "     user_id                       track             artist        genre  \\\n",
       "0   FFB692EC           Kamigata To Boots   The Mass Missile         rock   \n",
       "2     20EC38           Funiculì funiculà        Mario Lanza          pop   \n",
       "3   A3DD03C9       Dragons in the Sunset         Fire + Ice         folk   \n",
       "5   842029A1                   Преданная          IMPERVTOR       rusrap   \n",
       "9   E772D5C0                   Pessimist            unknown        dance   \n",
       "14  94EB25C2  Make Love Whenever You Can          Arabesque          pop   \n",
       "16  81D05C7D              SLAVES OF FEAR             HEALTH  alternative   \n",
       "17  39DE290E                    Веснянка      Веданъ Колодъ         folk   \n",
       "18  58AE138A                  Pat-a-Cake  Mother Goose Club     children   \n",
       "22  B8E29C9C                      Самота            unknown         folk   \n",
       "\n",
       "                city      time        day  \n",
       "0   Saint-Petersburg  20:28:33  Wednesday  \n",
       "2   Saint-Petersburg  20:58:07  Wednesday  \n",
       "3   Saint-Petersburg  08:37:09     Monday  \n",
       "5   Saint-Petersburg  13:09:41     Friday  \n",
       "9   Saint-Petersburg  21:20:49  Wednesday  \n",
       "14  Saint-Petersburg  13:22:08  Wednesday  \n",
       "16  Saint-Petersburg  20:54:48     Monday  \n",
       "17  Saint-Petersburg  14:36:47     Monday  \n",
       "18  Saint-Petersburg  20:04:56     Monday  \n",
       "22  Saint-Petersburg  20:20:49  Wednesday  "
      ]
     },
     "metadata": {},
     "output_type": "display_data"
    }
   ],
   "source": [
    "spb_general = df[df['city']=='Saint-Petersburg']\n",
    "display(spb_general.head(10))# получение таблицы spb_general из тех строк таблицы df,\n",
    "# для которых значение в столбце 'city' равно 'Saint-Petersburg'\n"
   ]
  },
  {
   "cell_type": "markdown",
   "metadata": {
    "id": "MEJV-CX2_Zcu"
   },
   "source": [
    "Создайте функцию `genre_weekday()` с четырьмя параметрами:\n",
    "* таблица (датафрейм) с данными,\n",
    "* день недели,\n",
    "* начальная временная метка в формате 'hh:mm', \n",
    "* последняя временная метка в формате 'hh:mm'.\n",
    "\n",
    "Функция должна вернуть информацию о топ-10 жанров тех треков, которые прослушивали в указанный день, в промежутке между двумя отметками времени."
   ]
  },
  {
   "cell_type": "code",
   "execution_count": 30,
   "metadata": {
    "id": "laJT9BYl_Zcu"
   },
   "outputs": [],
   "source": [
    "def genre_weekday(table, day, time1, time2):\n",
    "    genre_df=table[table['day']==day]\n",
    "    genre_df = genre_df.query('@time1 < time < @time2')\n",
    "    genre_df_count = genre_df['genre'].value_counts(ascending=False)\n",
    "    return genre_df_count.head(10)\n",
    "\n",
    "# Объявление функции genre_weekday() с параметрами table, day, time1, time2,\n",
    "# которая возвращает информацию о самых популярных жанрах в указанный день в\n",
    "# заданное время:\n",
    "# 1) в переменную genre_df сохраняются те строки переданного датафрейма table, для\n",
    "#    которых одновременно:\n",
    "#    - значение в столбце day равно значению аргумента day\n",
    "#    - значение в столбце time больше значения аргумента time1\n",
    "#    - значение в столбце time меньше значения аргумента time2\n",
    "#    Используйте последовательную фильтрацию с помощью логической индексации.\n",
    "# 2) сгруппировать датафрейм genre_df по столбцу genre, взять один из его\n",
    "#    столбцов и посчитать методом count() количество записей для каждого из\n",
    "#    присутствующих жанров, получившийся Series записать в переменную\n",
    "#    genre_df_count\n",
    "# 3) отсортировать genre_df_count по убыванию встречаемости и сохранить\n",
    "#    в переменную genre_df_sorted\n",
    "# 4) вернуть Series из 10 первых значений genre_df_sorted, это будут топ-10\n",
    "#    популярных жанров (в указанный день, в заданное время)"
   ]
  },
  {
   "cell_type": "markdown",
   "metadata": {
    "id": "la2s2_PF_Zcu"
   },
   "source": [
    "Cравните результаты функции `genre_weekday()` для Москвы и Санкт-Петербурга в понедельник утром (с 7:00 до 11:00) и в пятницу вечером (с 17:00 до 23:00):"
   ]
  },
  {
   "cell_type": "code",
   "execution_count": 31,
   "metadata": {
    "id": "yz7itPUQ_Zcu"
   },
   "outputs": [
    {
     "data": {
      "text/plain": [
       "pop            781\n",
       "dance          549\n",
       "electronic     480\n",
       "rock           474\n",
       "hiphop         286\n",
       "ruspop         186\n",
       "world          181\n",
       "rusrap         175\n",
       "alternative    164\n",
       "unknown        161\n",
       "Name: genre, dtype: int64"
      ]
     },
     "execution_count": 31,
     "metadata": {},
     "output_type": "execute_result"
    }
   ],
   "source": [
    "genre_weekday(moscow_general, 'Monday', '07:00', '11:00')\n",
    "# вызов функции для утра понедельника в Москве (вместо df — таблица moscow_general)\n",
    "# объекты, хранящие время, являются строками и сравниваются как строки\n",
    "# пример вызова: genre_weekday(moscow_general, 'Monday', '07:00', '11:00')"
   ]
  },
  {
   "cell_type": "code",
   "execution_count": 32,
   "metadata": {
    "id": "kwUcHPdy_Zcu"
   },
   "outputs": [
    {
     "data": {
      "text/plain": [
       "pop            218\n",
       "dance          182\n",
       "rock           162\n",
       "electronic     147\n",
       "hiphop          80\n",
       "ruspop          64\n",
       "alternative     58\n",
       "rusrap          55\n",
       "jazz            44\n",
       "classical       40\n",
       "Name: genre, dtype: int64"
      ]
     },
     "execution_count": 32,
     "metadata": {},
     "output_type": "execute_result"
    }
   ],
   "source": [
    "genre_weekday(spb_general, 'Monday', '07:00', '11:00')\n",
    "# вызов функции для утра понедельника в Петербурге (вместо df — таблица spb_general)"
   ]
  },
  {
   "cell_type": "code",
   "execution_count": 33,
   "metadata": {
    "id": "EzXVRE1o_Zcu"
   },
   "outputs": [
    {
     "data": {
      "text/plain": [
       "pop            713\n",
       "rock           517\n",
       "dance          495\n",
       "electronic     482\n",
       "hiphop         273\n",
       "world          208\n",
       "ruspop         170\n",
       "alternative    163\n",
       "classical      163\n",
       "rusrap         142\n",
       "Name: genre, dtype: int64"
      ]
     },
     "execution_count": 33,
     "metadata": {},
     "output_type": "execute_result"
    }
   ],
   "source": [
    "genre_weekday(moscow_general, 'Friday', '17:00', '23:00')# вызов функции для вечера пятницы в Москве"
   ]
  },
  {
   "cell_type": "code",
   "execution_count": 34,
   "metadata": {
    "id": "JZaEKu5v_Zcu"
   },
   "outputs": [
    {
     "data": {
      "text/plain": [
       "pop            256\n",
       "electronic     216\n",
       "rock           216\n",
       "dance          210\n",
       "hiphop          97\n",
       "alternative     63\n",
       "jazz            61\n",
       "classical       60\n",
       "rusrap          59\n",
       "world           54\n",
       "Name: genre, dtype: int64"
      ]
     },
     "execution_count": 34,
     "metadata": {},
     "output_type": "execute_result"
    }
   ],
   "source": [
    "genre_weekday(spb_general, 'Friday', '17:00', '23:00')# вызов функции для вечера пятницы в Петербурге"
   ]
  },
  {
   "cell_type": "markdown",
   "metadata": {
    "id": "wrCe4MNX_Zcu"
   },
   "source": [
    "**Выводы**\n",
    "\n",
    "Если сравнить топ-10 жанров в понедельник утром, можно сделать такие выводы:\n",
    "\n",
    "1. В Москве и Петербурге слушают похожую музыку. Единственное отличие — в московский рейтинг вошёл жанр “world”, а в петербургский — джаз и классика.\n",
    "\n",
    "2. В Москве пропущенных значений оказалось так много, что значение `'unknown'` заняло десятое место среди самых популярных жанров. Значит, пропущенные значения занимают существенную долю в данных и угрожают достоверности исследования.\n",
    "\n",
    "Вечер пятницы не меняет эту картину. Некоторые жанры поднимаются немного выше, другие спускаются, но в целом топ-10 остаётся тем же самым.\n",
    "\n",
    "Таким образом, вторая гипотеза подтвердилась лишь частично:\n",
    "* Пользователи слушают похожую музыку в начале недели и в конце.\n",
    "* Разница между Москвой и Петербургом не слишком выражена. В Москве чаще слушают русскую популярную музыку, в Петербурге — джаз.\n",
    "\n",
    "Однако пропуски в данных ставят под сомнение этот результат. В Москве их так много, что рейтинг топ-10 мог бы выглядеть иначе, если бы не утерянные  данные о жанрах."
   ]
  },
  {
   "cell_type": "markdown",
   "metadata": {
    "id": "JolODAqr_Zcu"
   },
   "source": [
    "### Жанровые предпочтения в Москве и Петербурге\n",
    "\n",
    "Гипотеза: Петербург — столица рэпа, музыку этого жанра там слушают чаще, чем в Москве.  А Москва — город контрастов, в котором, тем не менее, преобладает поп-музыка."
   ]
  },
  {
   "cell_type": "markdown",
   "metadata": {
    "id": "DlegSvaT_Zcu"
   },
   "source": [
    "Сгруппируйте таблицу `moscow_general` по жанру и посчитайте прослушивания треков каждого жанра методом `count()`. Затем отсортируйте результат в порядке убывания и сохраните его в таблице `moscow_genres`."
   ]
  },
  {
   "cell_type": "code",
   "execution_count": 35,
   "metadata": {
    "id": "r19lIPke_Zcu"
   },
   "outputs": [],
   "source": [
    "moscow_genres=moscow_general['genre'].value_counts(ascending=False)\n",
    "# одной строкой: группировка таблицы moscow_general по столбцу 'genre', \n",
    "# подсчёт числа значений 'genre' в этой группировке методом count(), \n",
    "# сортировка получившегося Series в порядке убывания и сохранение в moscow_genres"
   ]
  },
  {
   "cell_type": "markdown",
   "metadata": {
    "id": "6kMuomxTiIr8"
   },
   "source": [
    "Выведите на экран первые десять строк `moscow_genres`:"
   ]
  },
  {
   "cell_type": "code",
   "execution_count": 36,
   "metadata": {
    "id": "WhCSooF8_Zcv"
   },
   "outputs": [
    {
     "name": "stdout",
     "output_type": "stream",
     "text": [
      "pop            5892\n",
      "dance          4435\n",
      "rock           3965\n",
      "electronic     3786\n",
      "hiphop         2096\n",
      "classical      1616\n",
      "world          1432\n",
      "alternative    1379\n",
      "ruspop         1372\n",
      "rusrap         1161\n",
      "Name: genre, dtype: int64\n"
     ]
    }
   ],
   "source": [
    "print(moscow_genres.head(10))# просмотр первых 10 строк moscow_genres"
   ]
  },
  {
   "cell_type": "markdown",
   "metadata": {
    "id": "cnPG2vnN_Zcv"
   },
   "source": [
    "Теперь повторите то же и для Петербурга.\n",
    "\n",
    "Сгруппируйте таблицу `spb_general` по жанру. Посчитайте прослушивания треков каждого жанра. Результат отсортируйте в порядке убывания и сохраните в таблице `spb_genres`:\n"
   ]
  },
  {
   "cell_type": "code",
   "execution_count": 37,
   "metadata": {
    "id": "gluLIpE7_Zcv"
   },
   "outputs": [],
   "source": [
    "spb_genres=spb_general['genre'].value_counts(ascending=False)\n",
    "# одной строкой: группировка таблицы spb_general по столбцу 'genre', \n",
    "# подсчёт числа значений 'genre' в этой группировке методом count(), \n",
    "# сортировка получившегося Series в порядке убывания и сохранение в spb_genres"
   ]
  },
  {
   "cell_type": "markdown",
   "metadata": {
    "id": "5Doha_ODgyQ8"
   },
   "source": [
    "Выведите на экран первые десять строк `spb_genres`:"
   ]
  },
  {
   "cell_type": "code",
   "execution_count": 38,
   "metadata": {
    "id": "uaGJHjVU_Zcv"
   },
   "outputs": [
    {
     "data": {
      "text/plain": [
       "pop            2431\n",
       "dance          1932\n",
       "rock           1879\n",
       "electronic     1736\n",
       "hiphop          960\n",
       "alternative     649\n",
       "classical       646\n",
       "rusrap          564\n",
       "ruspop          538\n",
       "world           515\n",
       "Name: genre, dtype: int64"
      ]
     },
     "execution_count": 38,
     "metadata": {},
     "output_type": "execute_result"
    }
   ],
   "source": [
    "spb_genres.head(10)# просмотр первых 10 строк spb_genres"
   ]
  },
  {
   "cell_type": "markdown",
   "metadata": {
    "id": "RY51YJYu_Zcv"
   },
   "source": [
    "**Выводы**"
   ]
  },
  {
   "cell_type": "markdown",
   "metadata": {
    "id": "nVhnJEm__Zcv"
   },
   "source": [
    "Гипотеза частично подтвердилась:\n",
    "* Поп-музыка — самый популярный жанр в Москве, как и предполагала гипотеза. Более того, в топ-10 жанров встречается близкий жанр — русская популярная музыка.\n",
    "* Вопреки ожиданиям, рэп одинаково популярен в Москве и Петербурге. \n"
   ]
  },
  {
   "cell_type": "markdown",
   "metadata": {
    "id": "ykKQ0N65_Zcv"
   },
   "source": [
    "## Итоги исследования"
   ]
  },
  {
   "cell_type": "markdown",
   "metadata": {
    "id": "tjUwbHb3_Zcv"
   },
   "source": [
    "Вы проверили три гипотезы и установили:\n",
    "\n",
    "1. День недели по-разному влияет на активность пользователей в Москве и Петербурге. \n",
    "\n",
    "Первая гипотеза полностью подтвердилась.\n",
    "\n",
    "2. Музыкальные предпочтения не сильно меняются в течение недели — будь то Москва или Петербург. Небольшие различия заметны в начале недели, по понедельникам:\n",
    "* в Москве слушают музыку жанра “world”,\n",
    "* в Петербурге — джаз и классику.\n",
    "\n",
    "Таким образом, вторая гипотеза подтвердилась лишь отчасти. Этот результат мог оказаться иным, если бы не пропуски в данных.\n",
    "\n",
    "3. Во вкусах пользователей Москвы и Петербурга больше общего чем различий. Вопреки ожиданиям, предпочтения жанров в Петербурге напоминают московские.\n",
    "\n",
    "Третья гипотеза не подтвердилась. Если различия в предпочтениях и существуют, на основной массе пользователей они незаметны.\n",
    "\n",
    "**На практике исследования содержат проверки статистических гипотез.**\n",
    "Из данных одного сервиса не всегда можно сделать вывод о всех жителях города.\n",
    "Проверки статистических гипотез покажут, насколько они достоверны, исходя из имеющихся данных. \n",
    "С методами проверок гипотез вы ещё познакомитесь в следующих темах."
   ]
  },
  {
   "cell_type": "code",
   "execution_count": null,
   "metadata": {},
   "outputs": [],
   "source": []
  }
 ],
 "metadata": {
  "ExecuteTimeLog": [
   {
    "duration": 727,
    "start_time": "2021-11-28T13:51:49.387Z"
   },
   {
    "duration": 7,
    "start_time": "2021-11-28T13:51:59.067Z"
   },
   {
    "duration": 208,
    "start_time": "2021-11-28T14:02:11.575Z"
   },
   {
    "duration": 306,
    "start_time": "2021-11-28T14:02:33.827Z"
   },
   {
    "duration": 735,
    "start_time": "2021-11-28T14:02:42.767Z"
   },
   {
    "duration": 200,
    "start_time": "2021-11-28T14:02:48.097Z"
   },
   {
    "duration": 11,
    "start_time": "2021-11-28T14:05:02.027Z"
   },
   {
    "duration": 10,
    "start_time": "2021-11-28T14:06:05.952Z"
   },
   {
    "duration": 35,
    "start_time": "2021-11-28T14:07:36.277Z"
   },
   {
    "duration": 4,
    "start_time": "2021-11-28T14:23:06.291Z"
   },
   {
    "duration": 39,
    "start_time": "2021-11-28T14:24:10.617Z"
   },
   {
    "duration": 20,
    "start_time": "2021-11-28T14:24:45.107Z"
   },
   {
    "duration": 6,
    "start_time": "2021-11-28T14:25:48.106Z"
   },
   {
    "duration": 7,
    "start_time": "2021-11-28T14:30:55.074Z"
   },
   {
    "duration": 374,
    "start_time": "2021-11-28T14:31:20.406Z"
   },
   {
    "duration": 740,
    "start_time": "2021-11-28T14:31:34.401Z"
   },
   {
    "duration": 200,
    "start_time": "2021-11-28T14:31:43.552Z"
   },
   {
    "duration": 11,
    "start_time": "2021-11-28T14:31:45.911Z"
   },
   {
    "duration": 51,
    "start_time": "2021-11-28T14:31:53.531Z"
   },
   {
    "duration": 19,
    "start_time": "2021-11-28T14:32:01.021Z"
   },
   {
    "duration": 36,
    "start_time": "2021-11-28T14:32:07.441Z"
   },
   {
    "duration": 5,
    "start_time": "2021-11-28T14:32:13.091Z"
   },
   {
    "duration": 30,
    "start_time": "2021-11-28T14:34:45.252Z"
   },
   {
    "duration": 27,
    "start_time": "2021-11-28T14:38:53.590Z"
   },
   {
    "duration": 30,
    "start_time": "2021-11-28T14:39:18.862Z"
   },
   {
    "duration": 86,
    "start_time": "2021-11-28T14:42:50.973Z"
   },
   {
    "duration": 85,
    "start_time": "2021-11-28T14:43:08.414Z"
   },
   {
    "duration": 99,
    "start_time": "2021-11-28T14:43:16.695Z"
   },
   {
    "duration": 81,
    "start_time": "2021-11-28T14:43:26.615Z"
   },
   {
    "duration": 11,
    "start_time": "2021-11-28T14:49:32.822Z"
   },
   {
    "duration": 361,
    "start_time": "2021-11-28T14:52:09.516Z"
   },
   {
    "duration": 307,
    "start_time": "2021-11-28T14:52:32.836Z"
   },
   {
    "duration": 83,
    "start_time": "2021-11-28T14:53:38.366Z"
   },
   {
    "duration": 86,
    "start_time": "2021-11-28T14:54:56.406Z"
   },
   {
    "duration": 99,
    "start_time": "2021-11-28T14:55:57.221Z"
   },
   {
    "duration": 88,
    "start_time": "2021-11-28T14:56:00.592Z"
   },
   {
    "duration": 98,
    "start_time": "2021-11-28T14:56:11.172Z"
   },
   {
    "duration": 322,
    "start_time": "2021-11-28T14:56:28.391Z"
   },
   {
    "duration": 827,
    "start_time": "2021-11-28T14:56:46.908Z"
   },
   {
    "duration": 193,
    "start_time": "2021-11-28T14:56:53.348Z"
   },
   {
    "duration": 326,
    "start_time": "2021-11-28T14:57:13.456Z"
   },
   {
    "duration": 766,
    "start_time": "2021-11-28T14:57:33.437Z"
   },
   {
    "duration": 191,
    "start_time": "2021-11-28T14:57:34.205Z"
   },
   {
    "duration": 10,
    "start_time": "2021-11-28T14:57:34.399Z"
   },
   {
    "duration": 36,
    "start_time": "2021-11-28T14:57:34.412Z"
   },
   {
    "duration": 15,
    "start_time": "2021-11-28T14:57:34.468Z"
   },
   {
    "duration": 28,
    "start_time": "2021-11-28T14:57:34.485Z"
   },
   {
    "duration": 5,
    "start_time": "2021-11-28T14:57:34.516Z"
   },
   {
    "duration": 66,
    "start_time": "2021-11-28T14:57:34.524Z"
   },
   {
    "duration": 22,
    "start_time": "2021-11-28T14:57:34.595Z"
   },
   {
    "duration": 50,
    "start_time": "2021-11-28T14:57:34.620Z"
   },
   {
    "duration": 136,
    "start_time": "2021-11-28T14:57:34.673Z"
   },
   {
    "duration": 146,
    "start_time": "2021-11-28T14:57:34.812Z"
   },
   {
    "duration": 120,
    "start_time": "2021-11-28T14:57:34.961Z"
   },
   {
    "duration": 14,
    "start_time": "2021-11-28T14:57:35.084Z"
   },
   {
    "duration": 4,
    "start_time": "2021-11-28T14:57:35.101Z"
   },
   {
    "duration": 8,
    "start_time": "2021-11-28T14:57:35.108Z"
   },
   {
    "duration": 4,
    "start_time": "2021-11-28T14:57:35.120Z"
   },
   {
    "duration": 43,
    "start_time": "2021-11-28T14:57:35.127Z"
   },
   {
    "duration": 7,
    "start_time": "2021-11-28T14:57:35.173Z"
   },
   {
    "duration": 8,
    "start_time": "2021-11-28T14:57:35.183Z"
   },
   {
    "duration": 13,
    "start_time": "2021-11-28T14:57:35.194Z"
   },
   {
    "duration": 5,
    "start_time": "2021-11-28T14:57:35.210Z"
   },
   {
    "duration": 8,
    "start_time": "2021-11-28T14:57:35.218Z"
   },
   {
    "duration": 6,
    "start_time": "2021-11-28T14:57:35.229Z"
   },
   {
    "duration": 6,
    "start_time": "2021-11-28T14:57:35.237Z"
   },
   {
    "duration": 16,
    "start_time": "2021-11-28T14:57:35.268Z"
   },
   {
    "duration": 7,
    "start_time": "2021-11-28T14:57:35.291Z"
   },
   {
    "duration": 8,
    "start_time": "2021-11-28T14:57:35.302Z"
   },
   {
    "duration": 5,
    "start_time": "2021-11-28T14:57:35.313Z"
   },
   {
    "duration": 5,
    "start_time": "2021-11-28T14:57:35.321Z"
   },
   {
    "duration": 10,
    "start_time": "2021-11-28T14:57:35.329Z"
   },
   {
    "duration": 26,
    "start_time": "2021-11-28T14:57:35.341Z"
   },
   {
    "duration": 4,
    "start_time": "2021-11-28T14:57:35.369Z"
   },
   {
    "duration": 6,
    "start_time": "2021-11-28T14:57:35.375Z"
   },
   {
    "duration": 6,
    "start_time": "2021-11-28T14:57:35.383Z"
   },
   {
    "duration": 5,
    "start_time": "2021-11-28T14:57:35.392Z"
   },
   {
    "duration": 7,
    "start_time": "2021-11-28T14:57:35.400Z"
   },
   {
    "duration": 6,
    "start_time": "2021-11-28T14:57:35.409Z"
   },
   {
    "duration": 96,
    "start_time": "2021-11-28T14:58:25.830Z"
   },
   {
    "duration": 66,
    "start_time": "2021-11-28T15:21:57.244Z"
   },
   {
    "duration": 70,
    "start_time": "2021-11-28T15:22:08.533Z"
   },
   {
    "duration": 67,
    "start_time": "2021-11-28T15:22:19.594Z"
   },
   {
    "duration": 329,
    "start_time": "2021-11-28T15:22:36.588Z"
   },
   {
    "duration": 364,
    "start_time": "2021-11-28T15:23:13.455Z"
   },
   {
    "duration": 784,
    "start_time": "2021-11-28T15:24:14.583Z"
   },
   {
    "duration": 210,
    "start_time": "2021-11-28T15:24:15.370Z"
   },
   {
    "duration": 13,
    "start_time": "2021-11-28T15:24:15.583Z"
   },
   {
    "duration": 36,
    "start_time": "2021-11-28T15:24:15.599Z"
   },
   {
    "duration": 43,
    "start_time": "2021-11-28T15:24:15.638Z"
   },
   {
    "duration": 31,
    "start_time": "2021-11-28T15:24:15.684Z"
   },
   {
    "duration": 6,
    "start_time": "2021-11-28T15:24:15.717Z"
   },
   {
    "duration": 65,
    "start_time": "2021-11-28T15:24:15.725Z"
   },
   {
    "duration": 25,
    "start_time": "2021-11-28T15:24:15.794Z"
   },
   {
    "duration": 65,
    "start_time": "2021-11-28T15:24:15.822Z"
   },
   {
    "duration": 117,
    "start_time": "2021-11-28T15:24:15.890Z"
   },
   {
    "duration": 123,
    "start_time": "2021-11-28T15:24:16.009Z"
   },
   {
    "duration": 103,
    "start_time": "2021-11-28T15:24:16.134Z"
   },
   {
    "duration": 3,
    "start_time": "2021-11-28T15:31:23.905Z"
   },
   {
    "duration": 759,
    "start_time": "2021-11-28T15:31:46.808Z"
   },
   {
    "duration": 202,
    "start_time": "2021-11-28T15:31:47.569Z"
   },
   {
    "duration": 10,
    "start_time": "2021-11-28T15:31:47.774Z"
   },
   {
    "duration": 37,
    "start_time": "2021-11-28T15:31:47.787Z"
   },
   {
    "duration": 41,
    "start_time": "2021-11-28T15:31:47.826Z"
   },
   {
    "duration": 37,
    "start_time": "2021-11-28T15:31:49.591Z"
   },
   {
    "duration": 9,
    "start_time": "2021-11-28T15:31:49.631Z"
   },
   {
    "duration": 40,
    "start_time": "2021-11-28T15:31:49.643Z"
   },
   {
    "duration": 37,
    "start_time": "2021-11-28T15:31:49.687Z"
   },
   {
    "duration": 62,
    "start_time": "2021-11-28T15:31:49.728Z"
   },
   {
    "duration": 134,
    "start_time": "2021-11-28T15:31:49.793Z"
   },
   {
    "duration": 148,
    "start_time": "2021-11-28T15:31:49.930Z"
   },
   {
    "duration": 99,
    "start_time": "2021-11-28T15:31:50.081Z"
   },
   {
    "duration": 5,
    "start_time": "2021-11-28T15:31:50.183Z"
   },
   {
    "duration": 8,
    "start_time": "2021-11-28T15:31:50.191Z"
   },
   {
    "duration": 8,
    "start_time": "2021-11-28T15:31:50.203Z"
   },
   {
    "duration": 5,
    "start_time": "2021-11-28T15:31:50.215Z"
   },
   {
    "duration": 6,
    "start_time": "2021-11-28T15:31:50.223Z"
   },
   {
    "duration": 5,
    "start_time": "2021-11-28T15:31:50.269Z"
   },
   {
    "duration": 18,
    "start_time": "2021-11-28T15:31:50.277Z"
   },
   {
    "duration": 23,
    "start_time": "2021-11-28T15:31:50.298Z"
   },
   {
    "duration": 11,
    "start_time": "2021-11-28T15:31:50.324Z"
   },
   {
    "duration": 5,
    "start_time": "2021-11-28T15:31:50.338Z"
   },
   {
    "duration": 4,
    "start_time": "2021-11-28T15:31:50.370Z"
   },
   {
    "duration": 8,
    "start_time": "2021-11-28T15:31:50.378Z"
   },
   {
    "duration": 15,
    "start_time": "2021-11-28T15:31:50.389Z"
   },
   {
    "duration": 5,
    "start_time": "2021-11-28T15:31:50.407Z"
   },
   {
    "duration": 3,
    "start_time": "2021-11-28T15:31:50.439Z"
   },
   {
    "duration": 5,
    "start_time": "2021-11-28T15:31:50.447Z"
   },
   {
    "duration": 4,
    "start_time": "2021-11-28T15:31:50.552Z"
   },
   {
    "duration": 9,
    "start_time": "2021-11-28T15:31:50.559Z"
   },
   {
    "duration": 8,
    "start_time": "2021-11-28T15:31:50.572Z"
   },
   {
    "duration": 11,
    "start_time": "2021-11-28T15:31:50.584Z"
   },
   {
    "duration": 8,
    "start_time": "2021-11-28T15:31:50.598Z"
   },
   {
    "duration": 8,
    "start_time": "2021-11-28T15:31:50.609Z"
   },
   {
    "duration": 7,
    "start_time": "2021-11-28T15:31:50.620Z"
   },
   {
    "duration": 3,
    "start_time": "2021-11-28T15:31:50.929Z"
   },
   {
    "duration": 6,
    "start_time": "2021-11-28T15:31:50.936Z"
   },
   {
    "duration": 3,
    "start_time": "2021-11-28T15:32:04.288Z"
   },
   {
    "duration": 213,
    "start_time": "2021-11-28T15:32:04.343Z"
   },
   {
    "duration": 10,
    "start_time": "2021-11-28T15:32:04.559Z"
   },
   {
    "duration": 38,
    "start_time": "2021-11-28T15:32:04.572Z"
   },
   {
    "duration": 6,
    "start_time": "2021-11-28T15:32:04.613Z"
   },
   {
    "duration": 68,
    "start_time": "2021-11-28T15:32:04.622Z"
   },
   {
    "duration": 7,
    "start_time": "2021-11-28T15:32:04.693Z"
   },
   {
    "duration": 33,
    "start_time": "2021-11-28T15:32:04.703Z"
   },
   {
    "duration": 51,
    "start_time": "2021-11-28T15:32:04.738Z"
   },
   {
    "duration": 33,
    "start_time": "2021-11-28T15:32:04.793Z"
   },
   {
    "duration": 117,
    "start_time": "2021-11-28T15:32:04.829Z"
   },
   {
    "duration": 136,
    "start_time": "2021-11-28T15:32:04.949Z"
   },
   {
    "duration": 100,
    "start_time": "2021-11-28T15:32:05.088Z"
   },
   {
    "duration": 3,
    "start_time": "2021-11-28T15:32:05.191Z"
   },
   {
    "duration": 6,
    "start_time": "2021-11-28T15:32:05.197Z"
   },
   {
    "duration": 8,
    "start_time": "2021-11-28T15:32:05.205Z"
   },
   {
    "duration": 7,
    "start_time": "2021-11-28T15:32:05.217Z"
   },
   {
    "duration": 6,
    "start_time": "2021-11-28T15:32:05.227Z"
   },
   {
    "duration": 32,
    "start_time": "2021-11-28T15:32:05.236Z"
   },
   {
    "duration": 9,
    "start_time": "2021-11-28T15:32:05.271Z"
   },
   {
    "duration": 14,
    "start_time": "2021-11-28T15:32:05.282Z"
   },
   {
    "duration": 77,
    "start_time": "2021-11-28T15:32:05.299Z"
   },
   {
    "duration": 13,
    "start_time": "2021-11-28T15:32:05.379Z"
   },
   {
    "duration": 12,
    "start_time": "2021-11-28T15:32:05.394Z"
   },
   {
    "duration": 19,
    "start_time": "2021-11-28T15:32:05.408Z"
   },
   {
    "duration": 17,
    "start_time": "2021-11-28T15:32:05.430Z"
   },
   {
    "duration": 8,
    "start_time": "2021-11-28T15:32:05.450Z"
   },
   {
    "duration": 7,
    "start_time": "2021-11-28T15:32:05.461Z"
   },
   {
    "duration": 9,
    "start_time": "2021-11-28T15:32:05.473Z"
   },
   {
    "duration": 6,
    "start_time": "2021-11-28T15:32:05.485Z"
   },
   {
    "duration": 8,
    "start_time": "2021-11-28T15:32:05.494Z"
   },
   {
    "duration": 10,
    "start_time": "2021-11-28T15:32:05.505Z"
   },
   {
    "duration": 11,
    "start_time": "2021-11-28T15:32:05.517Z"
   },
   {
    "duration": 4,
    "start_time": "2021-11-28T15:32:05.581Z"
   },
   {
    "duration": 18,
    "start_time": "2021-11-28T15:32:05.588Z"
   },
   {
    "duration": 5,
    "start_time": "2021-11-28T15:32:05.611Z"
   },
   {
    "duration": 7,
    "start_time": "2021-11-28T15:32:05.618Z"
   },
   {
    "duration": 19,
    "start_time": "2021-11-28T15:32:05.628Z"
   },
   {
    "duration": 1036,
    "start_time": "2021-11-28T15:32:24.949Z"
   },
   {
    "duration": 289,
    "start_time": "2021-11-28T15:32:25.989Z"
   },
   {
    "duration": 14,
    "start_time": "2021-11-28T15:32:26.283Z"
   },
   {
    "duration": 38,
    "start_time": "2021-11-28T15:32:26.301Z"
   },
   {
    "duration": 20,
    "start_time": "2021-11-28T15:32:26.367Z"
   },
   {
    "duration": 31,
    "start_time": "2021-11-28T15:32:26.390Z"
   },
   {
    "duration": 7,
    "start_time": "2021-11-28T15:32:26.424Z"
   },
   {
    "duration": 69,
    "start_time": "2021-11-28T15:32:26.433Z"
   },
   {
    "duration": 24,
    "start_time": "2021-11-28T15:32:26.507Z"
   },
   {
    "duration": 65,
    "start_time": "2021-11-28T15:32:26.535Z"
   },
   {
    "duration": 122,
    "start_time": "2021-11-28T15:32:26.603Z"
   },
   {
    "duration": 137,
    "start_time": "2021-11-28T15:32:26.728Z"
   },
   {
    "duration": 101,
    "start_time": "2021-11-28T15:32:26.869Z"
   },
   {
    "duration": 3,
    "start_time": "2021-11-28T15:32:26.973Z"
   },
   {
    "duration": 6,
    "start_time": "2021-11-28T15:32:26.980Z"
   },
   {
    "duration": 10,
    "start_time": "2021-11-28T15:32:26.989Z"
   },
   {
    "duration": 14,
    "start_time": "2021-11-28T15:32:27.002Z"
   },
   {
    "duration": 6,
    "start_time": "2021-11-28T15:32:27.020Z"
   },
   {
    "duration": 5,
    "start_time": "2021-11-28T15:32:27.029Z"
   },
   {
    "duration": 5,
    "start_time": "2021-11-28T15:32:27.068Z"
   },
   {
    "duration": 12,
    "start_time": "2021-11-28T15:32:27.076Z"
   },
   {
    "duration": 9,
    "start_time": "2021-11-28T15:32:27.091Z"
   },
   {
    "duration": 9,
    "start_time": "2021-11-28T15:32:27.103Z"
   },
   {
    "duration": 6,
    "start_time": "2021-11-28T15:32:27.115Z"
   },
   {
    "duration": 6,
    "start_time": "2021-11-28T15:32:27.124Z"
   },
   {
    "duration": 12,
    "start_time": "2021-11-28T15:32:27.132Z"
   },
   {
    "duration": 4,
    "start_time": "2021-11-28T15:32:27.170Z"
   },
   {
    "duration": 9,
    "start_time": "2021-11-28T15:32:27.177Z"
   },
   {
    "duration": 10,
    "start_time": "2021-11-28T15:32:27.189Z"
   },
   {
    "duration": 11,
    "start_time": "2021-11-28T15:32:27.202Z"
   },
   {
    "duration": 16,
    "start_time": "2021-11-28T15:32:27.216Z"
   },
   {
    "duration": 9,
    "start_time": "2021-11-28T15:32:27.235Z"
   },
   {
    "duration": 20,
    "start_time": "2021-11-28T15:32:27.247Z"
   },
   {
    "duration": 11,
    "start_time": "2021-11-28T15:32:27.270Z"
   },
   {
    "duration": 6,
    "start_time": "2021-11-28T15:32:27.284Z"
   },
   {
    "duration": 10,
    "start_time": "2021-11-28T15:32:27.293Z"
   },
   {
    "duration": 12,
    "start_time": "2021-11-28T15:32:27.305Z"
   },
   {
    "duration": 7,
    "start_time": "2021-11-28T15:32:27.320Z"
   },
   {
    "duration": 86,
    "start_time": "2021-11-28T15:33:19.013Z"
   },
   {
    "duration": 16,
    "start_time": "2021-11-28T15:39:33.373Z"
   },
   {
    "duration": 23,
    "start_time": "2021-11-28T15:39:42.643Z"
   },
   {
    "duration": 845,
    "start_time": "2021-11-28T15:40:32.532Z"
   },
   {
    "duration": 231,
    "start_time": "2021-11-28T15:40:33.379Z"
   },
   {
    "duration": 11,
    "start_time": "2021-11-28T15:40:33.613Z"
   },
   {
    "duration": 59,
    "start_time": "2021-11-28T15:40:33.628Z"
   },
   {
    "duration": 21,
    "start_time": "2021-11-28T15:40:33.691Z"
   },
   {
    "duration": 58,
    "start_time": "2021-11-28T15:40:33.714Z"
   },
   {
    "duration": 14,
    "start_time": "2021-11-28T15:40:33.774Z"
   },
   {
    "duration": 33,
    "start_time": "2021-11-28T15:40:33.793Z"
   },
   {
    "duration": 59,
    "start_time": "2021-11-28T15:40:33.829Z"
   },
   {
    "duration": 36,
    "start_time": "2021-11-28T15:40:33.890Z"
   },
   {
    "duration": 158,
    "start_time": "2021-11-28T15:40:33.929Z"
   },
   {
    "duration": 183,
    "start_time": "2021-11-28T15:40:34.091Z"
   },
   {
    "duration": 134,
    "start_time": "2021-11-28T15:40:34.277Z"
   },
   {
    "duration": 517,
    "start_time": "2021-11-28T15:40:34.413Z"
   },
   {
    "duration": -3869,
    "start_time": "2021-11-28T15:40:38.802Z"
   },
   {
    "duration": -3882,
    "start_time": "2021-11-28T15:40:38.817Z"
   },
   {
    "duration": -3886,
    "start_time": "2021-11-28T15:40:38.822Z"
   },
   {
    "duration": -3895,
    "start_time": "2021-11-28T15:40:38.833Z"
   },
   {
    "duration": -3899,
    "start_time": "2021-11-28T15:40:38.838Z"
   },
   {
    "duration": -3915,
    "start_time": "2021-11-28T15:40:38.856Z"
   },
   {
    "duration": -3926,
    "start_time": "2021-11-28T15:40:38.869Z"
   },
   {
    "duration": -4235,
    "start_time": "2021-11-28T15:40:39.179Z"
   },
   {
    "duration": -4258,
    "start_time": "2021-11-28T15:40:39.204Z"
   },
   {
    "duration": -4263,
    "start_time": "2021-11-28T15:40:39.211Z"
   },
   {
    "duration": -4268,
    "start_time": "2021-11-28T15:40:39.217Z"
   },
   {
    "duration": -4272,
    "start_time": "2021-11-28T15:40:39.223Z"
   },
   {
    "duration": -4277,
    "start_time": "2021-11-28T15:40:39.229Z"
   },
   {
    "duration": -4280,
    "start_time": "2021-11-28T15:40:39.234Z"
   },
   {
    "duration": -4283,
    "start_time": "2021-11-28T15:40:39.239Z"
   },
   {
    "duration": -4285,
    "start_time": "2021-11-28T15:40:39.243Z"
   },
   {
    "duration": -4287,
    "start_time": "2021-11-28T15:40:39.247Z"
   },
   {
    "duration": -4290,
    "start_time": "2021-11-28T15:40:39.252Z"
   },
   {
    "duration": -4292,
    "start_time": "2021-11-28T15:40:39.256Z"
   },
   {
    "duration": -4294,
    "start_time": "2021-11-28T15:40:39.260Z"
   },
   {
    "duration": -4297,
    "start_time": "2021-11-28T15:40:39.265Z"
   },
   {
    "duration": -4300,
    "start_time": "2021-11-28T15:40:39.270Z"
   },
   {
    "duration": -4302,
    "start_time": "2021-11-28T15:40:39.274Z"
   },
   {
    "duration": -4304,
    "start_time": "2021-11-28T15:40:39.279Z"
   },
   {
    "duration": 9,
    "start_time": "2021-11-28T15:41:10.642Z"
   },
   {
    "duration": 272,
    "start_time": "2021-11-28T15:42:35.675Z"
   },
   {
    "duration": 264,
    "start_time": "2021-11-28T15:42:45.479Z"
   },
   {
    "duration": 776,
    "start_time": "2021-11-28T15:43:26.015Z"
   },
   {
    "duration": 223,
    "start_time": "2021-11-28T15:43:26.794Z"
   },
   {
    "duration": 11,
    "start_time": "2021-11-28T15:43:27.020Z"
   },
   {
    "duration": 67,
    "start_time": "2021-11-28T15:43:27.034Z"
   },
   {
    "duration": 14,
    "start_time": "2021-11-28T15:43:27.103Z"
   },
   {
    "duration": 58,
    "start_time": "2021-11-28T15:43:27.119Z"
   },
   {
    "duration": 6,
    "start_time": "2021-11-28T15:43:27.180Z"
   },
   {
    "duration": 35,
    "start_time": "2021-11-28T15:43:27.190Z"
   },
   {
    "duration": 52,
    "start_time": "2021-11-28T15:43:27.228Z"
   },
   {
    "duration": 32,
    "start_time": "2021-11-28T15:43:27.283Z"
   },
   {
    "duration": 117,
    "start_time": "2021-11-28T15:43:27.318Z"
   },
   {
    "duration": 129,
    "start_time": "2021-11-28T15:43:27.438Z"
   },
   {
    "duration": 103,
    "start_time": "2021-11-28T15:43:27.570Z"
   },
   {
    "duration": 375,
    "start_time": "2021-11-28T15:43:27.676Z"
   },
   {
    "duration": -4171,
    "start_time": "2021-11-28T15:43:32.226Z"
   },
   {
    "duration": -4193,
    "start_time": "2021-11-28T15:43:32.250Z"
   },
   {
    "duration": -4195,
    "start_time": "2021-11-28T15:43:32.255Z"
   },
   {
    "duration": -4199,
    "start_time": "2021-11-28T15:43:32.260Z"
   },
   {
    "duration": -4201,
    "start_time": "2021-11-28T15:43:32.264Z"
   },
   {
    "duration": -4204,
    "start_time": "2021-11-28T15:43:32.269Z"
   },
   {
    "duration": -4206,
    "start_time": "2021-11-28T15:43:32.273Z"
   },
   {
    "duration": -4209,
    "start_time": "2021-11-28T15:43:32.278Z"
   },
   {
    "duration": -4211,
    "start_time": "2021-11-28T15:43:32.282Z"
   },
   {
    "duration": -4213,
    "start_time": "2021-11-28T15:43:32.286Z"
   },
   {
    "duration": -4216,
    "start_time": "2021-11-28T15:43:32.291Z"
   },
   {
    "duration": -4218,
    "start_time": "2021-11-28T15:43:32.295Z"
   },
   {
    "duration": -4220,
    "start_time": "2021-11-28T15:43:32.299Z"
   },
   {
    "duration": -4224,
    "start_time": "2021-11-28T15:43:32.304Z"
   },
   {
    "duration": -4227,
    "start_time": "2021-11-28T15:43:32.308Z"
   },
   {
    "duration": -4230,
    "start_time": "2021-11-28T15:43:32.312Z"
   },
   {
    "duration": -4232,
    "start_time": "2021-11-28T15:43:32.316Z"
   },
   {
    "duration": -4235,
    "start_time": "2021-11-28T15:43:32.320Z"
   },
   {
    "duration": -4239,
    "start_time": "2021-11-28T15:43:32.325Z"
   },
   {
    "duration": -4242,
    "start_time": "2021-11-28T15:43:32.329Z"
   },
   {
    "duration": -4244,
    "start_time": "2021-11-28T15:43:32.333Z"
   },
   {
    "duration": -4248,
    "start_time": "2021-11-28T15:43:32.338Z"
   },
   {
    "duration": -4250,
    "start_time": "2021-11-28T15:43:32.342Z"
   },
   {
    "duration": -4252,
    "start_time": "2021-11-28T15:43:32.346Z"
   },
   {
    "duration": 275,
    "start_time": "2021-11-28T15:45:12.775Z"
   },
   {
    "duration": 270,
    "start_time": "2021-11-28T15:45:21.944Z"
   },
   {
    "duration": 8,
    "start_time": "2021-11-28T15:47:23.762Z"
   },
   {
    "duration": 7,
    "start_time": "2021-11-28T15:47:31.303Z"
   },
   {
    "duration": 12,
    "start_time": "2021-11-28T15:47:38.522Z"
   },
   {
    "duration": 80,
    "start_time": "2021-11-28T15:48:05.162Z"
   },
   {
    "duration": 7,
    "start_time": "2021-11-28T15:48:11.882Z"
   },
   {
    "duration": 13,
    "start_time": "2021-11-28T15:48:24.123Z"
   },
   {
    "duration": 333,
    "start_time": "2021-11-28T15:49:05.763Z"
   },
   {
    "duration": 9,
    "start_time": "2021-11-28T15:50:04.066Z"
   },
   {
    "duration": 9,
    "start_time": "2021-11-28T15:50:08.126Z"
   },
   {
    "duration": 832,
    "start_time": "2021-11-28T15:50:54.269Z"
   },
   {
    "duration": 219,
    "start_time": "2021-11-28T15:50:55.104Z"
   },
   {
    "duration": 12,
    "start_time": "2021-11-28T15:50:55.326Z"
   },
   {
    "duration": 61,
    "start_time": "2021-11-28T15:50:55.342Z"
   },
   {
    "duration": 15,
    "start_time": "2021-11-28T15:50:55.405Z"
   },
   {
    "duration": 51,
    "start_time": "2021-11-28T15:50:55.423Z"
   },
   {
    "duration": 15,
    "start_time": "2021-11-28T15:50:55.477Z"
   },
   {
    "duration": 37,
    "start_time": "2021-11-28T15:50:55.497Z"
   },
   {
    "duration": 49,
    "start_time": "2021-11-28T15:50:55.537Z"
   },
   {
    "duration": 35,
    "start_time": "2021-11-28T15:50:55.589Z"
   },
   {
    "duration": 122,
    "start_time": "2021-11-28T15:50:55.627Z"
   },
   {
    "duration": 130,
    "start_time": "2021-11-28T15:50:55.752Z"
   },
   {
    "duration": 97,
    "start_time": "2021-11-28T15:50:55.886Z"
   },
   {
    "duration": 11,
    "start_time": "2021-11-28T15:50:55.986Z"
   },
   {
    "duration": 4,
    "start_time": "2021-11-28T15:50:56.000Z"
   },
   {
    "duration": 6,
    "start_time": "2021-11-28T15:50:56.007Z"
   },
   {
    "duration": 7,
    "start_time": "2021-11-28T15:50:56.016Z"
   },
   {
    "duration": 46,
    "start_time": "2021-11-28T15:50:56.025Z"
   },
   {
    "duration": 6,
    "start_time": "2021-11-28T15:50:56.074Z"
   },
   {
    "duration": 4,
    "start_time": "2021-11-28T15:50:56.083Z"
   },
   {
    "duration": 11,
    "start_time": "2021-11-28T15:50:56.090Z"
   },
   {
    "duration": 9,
    "start_time": "2021-11-28T15:50:56.104Z"
   },
   {
    "duration": 4,
    "start_time": "2021-11-28T15:50:56.119Z"
   },
   {
    "duration": 10,
    "start_time": "2021-11-28T15:50:56.126Z"
   },
   {
    "duration": 30,
    "start_time": "2021-11-28T15:50:56.138Z"
   },
   {
    "duration": 4,
    "start_time": "2021-11-28T15:50:56.171Z"
   },
   {
    "duration": 11,
    "start_time": "2021-11-28T15:50:56.178Z"
   },
   {
    "duration": 3,
    "start_time": "2021-11-28T15:50:56.194Z"
   },
   {
    "duration": 18,
    "start_time": "2021-11-28T15:50:56.200Z"
   },
   {
    "duration": 15,
    "start_time": "2021-11-28T15:50:56.221Z"
   },
   {
    "duration": 14,
    "start_time": "2021-11-28T15:50:56.239Z"
   },
   {
    "duration": 4,
    "start_time": "2021-11-28T15:50:56.268Z"
   },
   {
    "duration": 18,
    "start_time": "2021-11-28T15:50:56.275Z"
   },
   {
    "duration": 21,
    "start_time": "2021-11-28T15:50:56.296Z"
   },
   {
    "duration": 9,
    "start_time": "2021-11-28T15:50:56.319Z"
   },
   {
    "duration": 8,
    "start_time": "2021-11-28T15:50:56.330Z"
   },
   {
    "duration": 6,
    "start_time": "2021-11-28T15:50:56.341Z"
   },
   {
    "duration": 17,
    "start_time": "2021-11-28T15:50:56.350Z"
   },
   {
    "duration": 11,
    "start_time": "2021-11-28T15:58:46.688Z"
   },
   {
    "duration": 8,
    "start_time": "2021-11-28T15:59:05.579Z"
   },
   {
    "duration": 466,
    "start_time": "2021-11-28T16:01:05.206Z"
   },
   {
    "duration": 9,
    "start_time": "2021-11-28T16:01:10.486Z"
   },
   {
    "duration": 8,
    "start_time": "2021-11-28T16:01:20.595Z"
   },
   {
    "duration": 7,
    "start_time": "2021-11-28T16:01:24.927Z"
   },
   {
    "duration": 9,
    "start_time": "2021-11-28T16:01:34.296Z"
   },
   {
    "duration": 14,
    "start_time": "2021-11-28T16:01:46.797Z"
   },
   {
    "duration": 5,
    "start_time": "2021-11-28T16:08:11.295Z"
   },
   {
    "duration": 101,
    "start_time": "2021-11-28T16:11:25.825Z"
   },
   {
    "duration": 1074,
    "start_time": "2021-11-28T16:11:54.363Z"
   },
   {
    "duration": 287,
    "start_time": "2021-11-28T16:11:55.441Z"
   },
   {
    "duration": 15,
    "start_time": "2021-11-28T16:11:55.732Z"
   },
   {
    "duration": 69,
    "start_time": "2021-11-28T16:11:55.751Z"
   },
   {
    "duration": 22,
    "start_time": "2021-11-28T16:11:55.823Z"
   },
   {
    "duration": 34,
    "start_time": "2021-11-28T16:11:55.867Z"
   },
   {
    "duration": 6,
    "start_time": "2021-11-28T16:11:55.904Z"
   },
   {
    "duration": 65,
    "start_time": "2021-11-28T16:11:55.914Z"
   },
   {
    "duration": 34,
    "start_time": "2021-11-28T16:11:55.984Z"
   },
   {
    "duration": 65,
    "start_time": "2021-11-28T16:11:56.022Z"
   },
   {
    "duration": 114,
    "start_time": "2021-11-28T16:11:56.091Z"
   },
   {
    "duration": 118,
    "start_time": "2021-11-28T16:11:56.207Z"
   },
   {
    "duration": 105,
    "start_time": "2021-11-28T16:11:56.328Z"
   },
   {
    "duration": 11,
    "start_time": "2021-11-28T16:11:56.437Z"
   },
   {
    "duration": 18,
    "start_time": "2021-11-28T16:11:56.451Z"
   },
   {
    "duration": 20,
    "start_time": "2021-11-28T16:11:56.473Z"
   },
   {
    "duration": 80,
    "start_time": "2021-11-28T16:11:56.495Z"
   },
   {
    "duration": -3969,
    "start_time": "2021-11-28T16:12:00.547Z"
   },
   {
    "duration": -3972,
    "start_time": "2021-11-28T16:12:00.551Z"
   },
   {
    "duration": -3974,
    "start_time": "2021-11-28T16:12:00.555Z"
   },
   {
    "duration": -3977,
    "start_time": "2021-11-28T16:12:00.559Z"
   },
   {
    "duration": -3979,
    "start_time": "2021-11-28T16:12:00.562Z"
   },
   {
    "duration": -3982,
    "start_time": "2021-11-28T16:12:00.566Z"
   },
   {
    "duration": -3983,
    "start_time": "2021-11-28T16:12:00.569Z"
   },
   {
    "duration": -3986,
    "start_time": "2021-11-28T16:12:00.573Z"
   },
   {
    "duration": -3986,
    "start_time": "2021-11-28T16:12:00.577Z"
   },
   {
    "duration": -3988,
    "start_time": "2021-11-28T16:12:00.581Z"
   },
   {
    "duration": -4065,
    "start_time": "2021-11-28T16:12:00.660Z"
   },
   {
    "duration": -4068,
    "start_time": "2021-11-28T16:12:00.665Z"
   },
   {
    "duration": -4090,
    "start_time": "2021-11-28T16:12:00.689Z"
   },
   {
    "duration": -4093,
    "start_time": "2021-11-28T16:12:00.693Z"
   },
   {
    "duration": -4095,
    "start_time": "2021-11-28T16:12:00.697Z"
   },
   {
    "duration": -4096,
    "start_time": "2021-11-28T16:12:00.700Z"
   },
   {
    "duration": -4105,
    "start_time": "2021-11-28T16:12:00.711Z"
   },
   {
    "duration": -4130,
    "start_time": "2021-11-28T16:12:00.737Z"
   },
   {
    "duration": -4133,
    "start_time": "2021-11-28T16:12:00.741Z"
   },
   {
    "duration": -4149,
    "start_time": "2021-11-28T16:12:00.759Z"
   },
   {
    "duration": -4153,
    "start_time": "2021-11-28T16:12:00.764Z"
   },
   {
    "duration": 67,
    "start_time": "2021-11-28T16:12:14.023Z"
   },
   {
    "duration": 15,
    "start_time": "2021-11-28T17:51:17.529Z"
   },
   {
    "duration": 30,
    "start_time": "2021-11-28T17:51:55.074Z"
   },
   {
    "duration": 42,
    "start_time": "2021-11-28T17:53:37.100Z"
   },
   {
    "duration": 62,
    "start_time": "2021-11-28T17:56:12.002Z"
   },
   {
    "duration": 404,
    "start_time": "2021-11-28T17:56:29.743Z"
   },
   {
    "duration": 55,
    "start_time": "2021-11-28T17:56:40.203Z"
   },
   {
    "duration": -4137,
    "start_time": "2021-11-28T17:58:46.885Z"
   },
   {
    "duration": 7383,
    "start_time": "2021-11-28T17:58:54.693Z"
   },
   {
    "duration": 83,
    "start_time": "2021-11-28T17:59:46.183Z"
   },
   {
    "duration": 50,
    "start_time": "2021-11-28T18:01:02.857Z"
   },
   {
    "duration": 44,
    "start_time": "2021-11-28T18:05:01.216Z"
   },
   {
    "duration": 5,
    "start_time": "2021-11-28T18:33:22.283Z"
   },
   {
    "duration": 2467,
    "start_time": "2021-11-28T18:34:07.200Z"
   },
   {
    "duration": 5,
    "start_time": "2021-11-28T18:34:58.467Z"
   },
   {
    "duration": 4078,
    "start_time": "2021-11-28T18:35:00.257Z"
   },
   {
    "duration": 5,
    "start_time": "2021-11-28T18:36:09.984Z"
   },
   {
    "duration": 4185,
    "start_time": "2021-11-28T18:36:12.123Z"
   },
   {
    "duration": 271,
    "start_time": "2021-11-28T18:36:52.305Z"
   },
   {
    "duration": 441,
    "start_time": "2021-11-30T08:34:39.961Z"
   },
   {
    "duration": 847,
    "start_time": "2021-11-30T08:35:26.160Z"
   },
   {
    "duration": 208,
    "start_time": "2021-11-30T08:35:27.010Z"
   },
   {
    "duration": 10,
    "start_time": "2021-11-30T08:35:27.221Z"
   },
   {
    "duration": 54,
    "start_time": "2021-11-30T08:35:27.234Z"
   },
   {
    "duration": 15,
    "start_time": "2021-11-30T08:35:27.291Z"
   },
   {
    "duration": 67,
    "start_time": "2021-11-30T08:35:27.309Z"
   },
   {
    "duration": 10,
    "start_time": "2021-11-30T08:35:27.379Z"
   },
   {
    "duration": 49,
    "start_time": "2021-11-30T08:35:27.396Z"
   },
   {
    "duration": 37,
    "start_time": "2021-11-30T08:35:27.470Z"
   },
   {
    "duration": 66,
    "start_time": "2021-11-30T08:35:27.510Z"
   },
   {
    "duration": 161,
    "start_time": "2021-11-30T08:35:27.580Z"
   },
   {
    "duration": 173,
    "start_time": "2021-11-30T08:35:27.744Z"
   },
   {
    "duration": 132,
    "start_time": "2021-11-30T08:35:27.920Z"
   },
   {
    "duration": 17,
    "start_time": "2021-11-30T08:35:28.055Z"
   },
   {
    "duration": 4,
    "start_time": "2021-11-30T08:35:28.075Z"
   },
   {
    "duration": 22,
    "start_time": "2021-11-30T08:35:28.081Z"
   },
   {
    "duration": 93,
    "start_time": "2021-11-30T08:35:28.106Z"
   },
   {
    "duration": 34,
    "start_time": "2021-11-30T08:35:28.201Z"
   },
   {
    "duration": 66,
    "start_time": "2021-11-30T08:35:28.237Z"
   },
   {
    "duration": 5,
    "start_time": "2021-11-30T08:35:28.306Z"
   },
   {
    "duration": 643,
    "start_time": "2021-11-30T08:35:28.314Z"
   },
   {
    "duration": -132,
    "start_time": "2021-11-30T08:35:29.092Z"
   },
   {
    "duration": -267,
    "start_time": "2021-11-30T08:35:29.229Z"
   },
   {
    "duration": -270,
    "start_time": "2021-11-30T08:35:29.234Z"
   },
   {
    "duration": -274,
    "start_time": "2021-11-30T08:35:29.239Z"
   },
   {
    "duration": -276,
    "start_time": "2021-11-30T08:35:29.243Z"
   },
   {
    "duration": -279,
    "start_time": "2021-11-30T08:35:29.247Z"
   },
   {
    "duration": -283,
    "start_time": "2021-11-30T08:35:29.252Z"
   },
   {
    "duration": -292,
    "start_time": "2021-11-30T08:35:29.263Z"
   },
   {
    "duration": -297,
    "start_time": "2021-11-30T08:35:29.269Z"
   },
   {
    "duration": -299,
    "start_time": "2021-11-30T08:35:29.273Z"
   },
   {
    "duration": -308,
    "start_time": "2021-11-30T08:35:29.283Z"
   },
   {
    "duration": -318,
    "start_time": "2021-11-30T08:35:29.294Z"
   },
   {
    "duration": -321,
    "start_time": "2021-11-30T08:35:29.299Z"
   },
   {
    "duration": -332,
    "start_time": "2021-11-30T08:35:29.311Z"
   },
   {
    "duration": -334,
    "start_time": "2021-11-30T08:35:29.315Z"
   },
   {
    "duration": -339,
    "start_time": "2021-11-30T08:35:29.321Z"
   },
   {
    "duration": -528,
    "start_time": "2021-11-30T08:35:29.511Z"
   },
   {
    "duration": 1017,
    "start_time": "2021-11-30T08:39:56.231Z"
   },
   {
    "duration": 5,
    "start_time": "2021-11-30T08:40:27.861Z"
   },
   {
    "duration": 38,
    "start_time": "2021-11-30T08:40:28.561Z"
   },
   {
    "duration": 21,
    "start_time": "2021-11-30T08:40:30.322Z"
   },
   {
    "duration": 25,
    "start_time": "2021-11-30T08:40:48.771Z"
   },
   {
    "duration": 21,
    "start_time": "2021-11-30T08:41:02.408Z"
   },
   {
    "duration": 24,
    "start_time": "2021-11-30T08:41:36.166Z"
   },
   {
    "duration": 29,
    "start_time": "2021-11-30T08:41:38.115Z"
   },
   {
    "duration": 13,
    "start_time": "2021-11-30T09:21:43.832Z"
   },
   {
    "duration": 263,
    "start_time": "2021-11-30T09:28:17.172Z"
   },
   {
    "duration": 257,
    "start_time": "2021-11-30T09:28:49.233Z"
   },
   {
    "duration": 13,
    "start_time": "2021-11-30T09:29:47.894Z"
   },
   {
    "duration": 14,
    "start_time": "2021-11-30T09:30:15.892Z"
   },
   {
    "duration": 13,
    "start_time": "2021-11-30T09:30:27.124Z"
   },
   {
    "duration": 257,
    "start_time": "2021-11-30T09:32:12.003Z"
   },
   {
    "duration": 18,
    "start_time": "2021-11-30T09:32:38.138Z"
   },
   {
    "duration": 96,
    "start_time": "2021-11-30T09:33:23.687Z"
   },
   {
    "duration": 13,
    "start_time": "2021-11-30T09:33:33.237Z"
   },
   {
    "duration": 134,
    "start_time": "2021-11-30T11:10:05.041Z"
   },
   {
    "duration": 15,
    "start_time": "2021-11-30T11:10:15.257Z"
   },
   {
    "duration": 19,
    "start_time": "2021-11-30T11:10:17.837Z"
   },
   {
    "duration": 17,
    "start_time": "2021-11-30T11:10:27.496Z"
   },
   {
    "duration": 19,
    "start_time": "2021-11-30T11:10:31.156Z"
   },
   {
    "duration": 280,
    "start_time": "2021-11-30T11:10:36.186Z"
   },
   {
    "duration": 28,
    "start_time": "2021-11-30T11:12:31.383Z"
   },
   {
    "duration": 268,
    "start_time": "2021-11-30T11:23:30.980Z"
   },
   {
    "duration": 6,
    "start_time": "2021-11-30T11:23:46.899Z"
   },
   {
    "duration": 49,
    "start_time": "2021-11-30T11:23:46.907Z"
   },
   {
    "duration": 39,
    "start_time": "2021-11-30T11:26:26.172Z"
   },
   {
    "duration": 39,
    "start_time": "2021-11-30T11:26:28.713Z"
   },
   {
    "duration": 40,
    "start_time": "2021-11-30T11:26:43.973Z"
   },
   {
    "duration": 18,
    "start_time": "2021-11-30T11:26:54.002Z"
   },
   {
    "duration": 15,
    "start_time": "2021-11-30T11:26:55.572Z"
   },
   {
    "duration": 6,
    "start_time": "2021-11-30T11:26:59.883Z"
   },
   {
    "duration": 38,
    "start_time": "2021-11-30T11:27:04.173Z"
   },
   {
    "duration": 39,
    "start_time": "2021-11-30T11:27:06.803Z"
   },
   {
    "duration": 37,
    "start_time": "2021-11-30T11:27:12.398Z"
   },
   {
    "duration": 37,
    "start_time": "2021-11-30T11:27:59.893Z"
   },
   {
    "duration": 935,
    "start_time": "2021-11-30T11:28:24.508Z"
   },
   {
    "duration": 257,
    "start_time": "2021-11-30T11:28:25.446Z"
   },
   {
    "duration": 13,
    "start_time": "2021-11-30T11:28:25.707Z"
   },
   {
    "duration": 68,
    "start_time": "2021-11-30T11:28:25.723Z"
   },
   {
    "duration": 18,
    "start_time": "2021-11-30T11:28:25.794Z"
   },
   {
    "duration": 59,
    "start_time": "2021-11-30T11:28:25.815Z"
   },
   {
    "duration": 7,
    "start_time": "2021-11-30T11:28:25.877Z"
   },
   {
    "duration": 48,
    "start_time": "2021-11-30T11:28:25.889Z"
   },
   {
    "duration": 53,
    "start_time": "2021-11-30T11:28:25.941Z"
   },
   {
    "duration": 46,
    "start_time": "2021-11-30T11:28:25.997Z"
   },
   {
    "duration": 129,
    "start_time": "2021-11-30T11:28:26.066Z"
   },
   {
    "duration": 121,
    "start_time": "2021-11-30T11:28:26.198Z"
   },
   {
    "duration": 92,
    "start_time": "2021-11-30T11:28:26.321Z"
   },
   {
    "duration": 8,
    "start_time": "2021-11-30T11:28:26.415Z"
   },
   {
    "duration": 6,
    "start_time": "2021-11-30T11:28:26.426Z"
   },
   {
    "duration": 41,
    "start_time": "2021-11-30T11:28:26.434Z"
   },
   {
    "duration": 61,
    "start_time": "2021-11-30T11:28:26.478Z"
   },
   {
    "duration": 48,
    "start_time": "2021-11-30T11:28:26.542Z"
   },
   {
    "duration": 42,
    "start_time": "2021-11-30T11:28:26.593Z"
   },
   {
    "duration": 30,
    "start_time": "2021-11-30T11:28:26.638Z"
   },
   {
    "duration": 34,
    "start_time": "2021-11-30T11:28:26.670Z"
   },
   {
    "duration": 18,
    "start_time": "2021-11-30T11:28:26.707Z"
   },
   {
    "duration": 46,
    "start_time": "2021-11-30T11:28:26.730Z"
   },
   {
    "duration": 28,
    "start_time": "2021-11-30T11:28:26.780Z"
   },
   {
    "duration": 57,
    "start_time": "2021-11-30T11:28:26.811Z"
   },
   {
    "duration": 22,
    "start_time": "2021-11-30T11:28:26.871Z"
   },
   {
    "duration": 15,
    "start_time": "2021-11-30T11:28:26.895Z"
   },
   {
    "duration": 16,
    "start_time": "2021-11-30T11:28:26.912Z"
   },
   {
    "duration": 44,
    "start_time": "2021-11-30T11:28:26.931Z"
   },
   {
    "duration": 6,
    "start_time": "2021-11-30T11:28:26.978Z"
   },
   {
    "duration": 52,
    "start_time": "2021-11-30T11:28:26.986Z"
   },
   {
    "duration": 56,
    "start_time": "2021-11-30T11:28:27.041Z"
   },
   {
    "duration": 35,
    "start_time": "2021-11-30T11:28:27.100Z"
   },
   {
    "duration": 60,
    "start_time": "2021-11-30T11:28:27.138Z"
   },
   {
    "duration": 3,
    "start_time": "2021-11-30T11:28:27.200Z"
   },
   {
    "duration": 6,
    "start_time": "2021-11-30T11:28:27.206Z"
   },
   {
    "duration": 12,
    "start_time": "2021-11-30T11:28:27.214Z"
   },
   {
    "duration": 8,
    "start_time": "2021-11-30T11:28:27.228Z"
   },
   {
    "duration": 84,
    "start_time": "2021-11-30T11:29:17.343Z"
   },
   {
    "duration": 24,
    "start_time": "2021-11-30T11:29:29.463Z"
   },
   {
    "duration": 7,
    "start_time": "2021-11-30T11:31:10.143Z"
   },
   {
    "duration": 658,
    "start_time": "2021-11-30T11:31:14.843Z"
   },
   {
    "duration": 6,
    "start_time": "2021-11-30T11:31:47.844Z"
   },
   {
    "duration": 42,
    "start_time": "2021-11-30T11:31:49.815Z"
   },
   {
    "duration": 96,
    "start_time": "2021-11-30T11:34:09.468Z"
   },
   {
    "duration": 365,
    "start_time": "2021-11-30T11:34:19.246Z"
   },
   {
    "duration": 89,
    "start_time": "2021-11-30T11:34:57.587Z"
   },
   {
    "duration": 41,
    "start_time": "2021-11-30T11:41:06.708Z"
   },
   {
    "duration": 5,
    "start_time": "2021-11-30T11:45:48.433Z"
   },
   {
    "duration": 35,
    "start_time": "2021-11-30T11:45:51.963Z"
   },
   {
    "duration": 6,
    "start_time": "2021-11-30T11:46:21.865Z"
   },
   {
    "duration": 21,
    "start_time": "2021-11-30T11:46:26.704Z"
   },
   {
    "duration": 21,
    "start_time": "2021-11-30T11:46:31.903Z"
   },
   {
    "duration": 5,
    "start_time": "2021-11-30T11:46:57.378Z"
   },
   {
    "duration": 29,
    "start_time": "2021-11-30T11:47:01.277Z"
   },
   {
    "duration": 15,
    "start_time": "2021-11-30T11:47:38.784Z"
   },
   {
    "duration": 38,
    "start_time": "2021-11-30T11:47:48.946Z"
   },
   {
    "duration": 6,
    "start_time": "2021-11-30T11:48:02.893Z"
   },
   {
    "duration": 5,
    "start_time": "2021-11-30T11:52:02.173Z"
   },
   {
    "duration": 575,
    "start_time": "2021-11-30T11:52:04.393Z"
   },
   {
    "duration": 6,
    "start_time": "2021-11-30T11:52:21.864Z"
   },
   {
    "duration": 537,
    "start_time": "2021-11-30T11:52:25.554Z"
   },
   {
    "duration": 6,
    "start_time": "2021-11-30T11:52:35.373Z"
   },
   {
    "duration": 40,
    "start_time": "2021-11-30T11:52:37.563Z"
   },
   {
    "duration": 6,
    "start_time": "2021-11-30T11:52:54.913Z"
   },
   {
    "duration": 519,
    "start_time": "2021-11-30T11:52:58.843Z"
   },
   {
    "duration": 5,
    "start_time": "2021-11-30T11:54:52.751Z"
   },
   {
    "duration": 42,
    "start_time": "2021-11-30T11:54:58.062Z"
   },
   {
    "duration": 96,
    "start_time": "2021-11-30T12:10:28.454Z"
   },
   {
    "duration": 939,
    "start_time": "2021-11-30T12:29:14.975Z"
   },
   {
    "duration": 204,
    "start_time": "2021-11-30T12:29:15.917Z"
   },
   {
    "duration": 11,
    "start_time": "2021-11-30T12:29:16.124Z"
   },
   {
    "duration": 58,
    "start_time": "2021-11-30T12:29:16.138Z"
   },
   {
    "duration": 15,
    "start_time": "2021-11-30T12:29:16.198Z"
   },
   {
    "duration": 31,
    "start_time": "2021-11-30T12:29:16.216Z"
   },
   {
    "duration": 7,
    "start_time": "2021-11-30T12:29:16.267Z"
   },
   {
    "duration": 37,
    "start_time": "2021-11-30T12:29:16.280Z"
   },
   {
    "duration": 57,
    "start_time": "2021-11-30T12:29:16.321Z"
   },
   {
    "duration": 34,
    "start_time": "2021-11-30T12:29:16.381Z"
   },
   {
    "duration": 124,
    "start_time": "2021-11-30T12:29:16.418Z"
   },
   {
    "duration": 125,
    "start_time": "2021-11-30T12:29:16.545Z"
   },
   {
    "duration": 100,
    "start_time": "2021-11-30T12:29:16.673Z"
   },
   {
    "duration": 17,
    "start_time": "2021-11-30T12:29:16.776Z"
   },
   {
    "duration": 4,
    "start_time": "2021-11-30T12:29:16.795Z"
   },
   {
    "duration": 17,
    "start_time": "2021-11-30T12:29:16.801Z"
   },
   {
    "duration": 116,
    "start_time": "2021-11-30T12:29:16.821Z"
   },
   {
    "duration": 49,
    "start_time": "2021-11-30T12:29:16.939Z"
   },
   {
    "duration": 40,
    "start_time": "2021-11-30T12:29:16.991Z"
   },
   {
    "duration": 5,
    "start_time": "2021-11-30T12:29:17.033Z"
   },
   {
    "duration": 58,
    "start_time": "2021-11-30T12:29:17.041Z"
   },
   {
    "duration": 22,
    "start_time": "2021-11-30T12:29:17.101Z"
   },
   {
    "duration": 35,
    "start_time": "2021-11-30T12:29:17.167Z"
   },
   {
    "duration": 21,
    "start_time": "2021-11-30T12:29:17.204Z"
   },
   {
    "duration": 61,
    "start_time": "2021-11-30T12:29:17.228Z"
   },
   {
    "duration": 23,
    "start_time": "2021-11-30T12:29:17.292Z"
   },
   {
    "duration": 163,
    "start_time": "2021-11-30T12:29:17.318Z"
   },
   {
    "duration": 19,
    "start_time": "2021-11-30T12:29:17.483Z"
   },
   {
    "duration": 26,
    "start_time": "2021-11-30T12:29:17.504Z"
   },
   {
    "duration": 5,
    "start_time": "2021-11-30T12:29:17.533Z"
   },
   {
    "duration": 88,
    "start_time": "2021-11-30T12:29:17.541Z"
   },
   {
    "duration": 70,
    "start_time": "2021-11-30T12:29:17.632Z"
   },
   {
    "duration": 74,
    "start_time": "2021-11-30T12:29:17.706Z"
   },
   {
    "duration": 39,
    "start_time": "2021-11-30T12:29:17.784Z"
   },
   {
    "duration": 4,
    "start_time": "2021-11-30T12:29:17.825Z"
   },
   {
    "duration": 8,
    "start_time": "2021-11-30T12:29:17.833Z"
   },
   {
    "duration": 26,
    "start_time": "2021-11-30T12:29:17.843Z"
   },
   {
    "duration": 7,
    "start_time": "2021-11-30T12:29:17.872Z"
   },
   {
    "duration": 6,
    "start_time": "2021-11-30T15:17:53.241Z"
   },
   {
    "duration": 726,
    "start_time": "2021-11-30T15:17:59.661Z"
   },
   {
    "duration": 57,
    "start_time": "2021-11-30T15:22:00.698Z"
   },
   {
    "duration": 55,
    "start_time": "2021-11-30T15:22:47.388Z"
   },
   {
    "duration": 45,
    "start_time": "2021-11-30T15:23:36.949Z"
   },
   {
    "duration": 349,
    "start_time": "2021-11-30T15:25:10.075Z"
   },
   {
    "duration": 284,
    "start_time": "2021-11-30T15:28:22.345Z"
   },
   {
    "duration": 300,
    "start_time": "2021-11-30T15:28:35.505Z"
   },
   {
    "duration": 45,
    "start_time": "2021-11-30T15:28:42.365Z"
   },
   {
    "duration": 69,
    "start_time": "2021-11-30T15:30:12.524Z"
   },
   {
    "duration": 43,
    "start_time": "2021-11-30T15:31:40.601Z"
   },
   {
    "duration": 49,
    "start_time": "2021-11-30T15:31:57.614Z"
   },
   {
    "duration": 5,
    "start_time": "2021-11-30T15:33:27.372Z"
   },
   {
    "duration": 33,
    "start_time": "2021-11-30T15:33:46.152Z"
   },
   {
    "duration": 32,
    "start_time": "2021-11-30T15:33:53.701Z"
   },
   {
    "duration": 92,
    "start_time": "2021-11-30T15:37:23.524Z"
   },
   {
    "duration": 99,
    "start_time": "2021-11-30T15:38:00.734Z"
   },
   {
    "duration": 883,
    "start_time": "2021-11-30T15:38:54.777Z"
   },
   {
    "duration": 198,
    "start_time": "2021-11-30T15:38:55.663Z"
   },
   {
    "duration": 12,
    "start_time": "2021-11-30T15:38:55.868Z"
   },
   {
    "duration": 40,
    "start_time": "2021-11-30T15:38:55.883Z"
   },
   {
    "duration": 14,
    "start_time": "2021-11-30T15:38:55.926Z"
   },
   {
    "duration": 53,
    "start_time": "2021-11-30T15:38:55.943Z"
   },
   {
    "duration": 7,
    "start_time": "2021-11-30T15:38:55.999Z"
   },
   {
    "duration": 63,
    "start_time": "2021-11-30T15:38:56.012Z"
   },
   {
    "duration": 23,
    "start_time": "2021-11-30T15:38:56.078Z"
   },
   {
    "duration": 30,
    "start_time": "2021-11-30T15:38:56.104Z"
   },
   {
    "duration": 116,
    "start_time": "2021-11-30T15:38:56.137Z"
   },
   {
    "duration": 112,
    "start_time": "2021-11-30T15:38:56.267Z"
   },
   {
    "duration": 94,
    "start_time": "2021-11-30T15:38:56.381Z"
   },
   {
    "duration": 14,
    "start_time": "2021-11-30T15:38:56.478Z"
   },
   {
    "duration": 6,
    "start_time": "2021-11-30T15:38:56.495Z"
   },
   {
    "duration": 27,
    "start_time": "2021-11-30T15:38:56.504Z"
   },
   {
    "duration": 87,
    "start_time": "2021-11-30T15:38:56.534Z"
   },
   {
    "duration": 61,
    "start_time": "2021-11-30T15:38:56.624Z"
   },
   {
    "duration": 46,
    "start_time": "2021-11-30T15:38:56.688Z"
   },
   {
    "duration": 30,
    "start_time": "2021-11-30T15:38:56.737Z"
   },
   {
    "duration": 24,
    "start_time": "2021-11-30T15:38:56.773Z"
   },
   {
    "duration": 21,
    "start_time": "2021-11-30T15:38:56.801Z"
   },
   {
    "duration": 60,
    "start_time": "2021-11-30T15:38:56.825Z"
   },
   {
    "duration": 19,
    "start_time": "2021-11-30T15:38:56.888Z"
   },
   {
    "duration": 23,
    "start_time": "2021-11-30T15:38:56.910Z"
   },
   {
    "duration": 47,
    "start_time": "2021-11-30T15:38:56.935Z"
   },
   {
    "duration": 119,
    "start_time": "2021-11-30T15:38:56.984Z"
   },
   {
    "duration": 16,
    "start_time": "2021-11-30T15:38:57.106Z"
   },
   {
    "duration": 48,
    "start_time": "2021-11-30T15:38:57.125Z"
   },
   {
    "duration": 5,
    "start_time": "2021-11-30T15:38:57.176Z"
   },
   {
    "duration": 661,
    "start_time": "2021-11-30T15:38:57.186Z"
   },
   {
    "duration": -2440,
    "start_time": "2021-11-30T15:39:00.290Z"
   },
   {
    "duration": -2446,
    "start_time": "2021-11-30T15:39:00.297Z"
   },
   {
    "duration": -2452,
    "start_time": "2021-11-30T15:39:00.304Z"
   },
   {
    "duration": -2457,
    "start_time": "2021-11-30T15:39:00.310Z"
   },
   {
    "duration": -2545,
    "start_time": "2021-11-30T15:39:00.399Z"
   },
   {
    "duration": -2563,
    "start_time": "2021-11-30T15:39:00.419Z"
   },
   {
    "duration": -2567,
    "start_time": "2021-11-30T15:39:00.424Z"
   },
   {
    "duration": 6,
    "start_time": "2021-11-30T15:45:15.259Z"
   },
   {
    "duration": 26,
    "start_time": "2021-11-30T15:45:20.550Z"
   },
   {
    "duration": 1070,
    "start_time": "2021-11-30T15:45:32.950Z"
   },
   {
    "duration": 207,
    "start_time": "2021-11-30T15:45:34.023Z"
   },
   {
    "duration": 13,
    "start_time": "2021-11-30T15:45:34.234Z"
   },
   {
    "duration": 49,
    "start_time": "2021-11-30T15:45:34.251Z"
   },
   {
    "duration": 17,
    "start_time": "2021-11-30T15:45:34.303Z"
   },
   {
    "duration": 63,
    "start_time": "2021-11-30T15:45:34.323Z"
   },
   {
    "duration": 6,
    "start_time": "2021-11-30T15:45:34.388Z"
   },
   {
    "duration": 38,
    "start_time": "2021-11-30T15:45:34.397Z"
   },
   {
    "duration": 55,
    "start_time": "2021-11-30T15:45:34.440Z"
   },
   {
    "duration": 50,
    "start_time": "2021-11-30T15:45:34.500Z"
   },
   {
    "duration": 128,
    "start_time": "2021-11-30T15:45:34.568Z"
   },
   {
    "duration": 161,
    "start_time": "2021-11-30T15:45:34.698Z"
   },
   {
    "duration": 130,
    "start_time": "2021-11-30T15:45:34.862Z"
   },
   {
    "duration": 11,
    "start_time": "2021-11-30T15:45:34.995Z"
   },
   {
    "duration": 8,
    "start_time": "2021-11-30T15:45:35.009Z"
   },
   {
    "duration": 20,
    "start_time": "2021-11-30T15:45:35.019Z"
   },
   {
    "duration": 91,
    "start_time": "2021-11-30T15:45:35.041Z"
   },
   {
    "duration": 63,
    "start_time": "2021-11-30T15:45:35.134Z"
   },
   {
    "duration": 46,
    "start_time": "2021-11-30T15:45:35.200Z"
   },
   {
    "duration": 23,
    "start_time": "2021-11-30T15:45:35.249Z"
   },
   {
    "duration": 32,
    "start_time": "2021-11-30T15:45:35.275Z"
   },
   {
    "duration": 21,
    "start_time": "2021-11-30T15:45:35.309Z"
   },
   {
    "duration": 57,
    "start_time": "2021-11-30T15:45:35.333Z"
   },
   {
    "duration": 22,
    "start_time": "2021-11-30T15:45:35.393Z"
   },
   {
    "duration": 58,
    "start_time": "2021-11-30T15:45:35.418Z"
   },
   {
    "duration": 20,
    "start_time": "2021-11-30T15:45:35.479Z"
   },
   {
    "duration": 125,
    "start_time": "2021-11-30T15:45:35.504Z"
   },
   {
    "duration": 35,
    "start_time": "2021-11-30T15:45:35.632Z"
   },
   {
    "duration": 39,
    "start_time": "2021-11-30T15:45:35.670Z"
   },
   {
    "duration": 7,
    "start_time": "2021-11-30T15:45:35.712Z"
   },
   {
    "duration": 65,
    "start_time": "2021-11-30T15:45:35.721Z"
   },
   {
    "duration": 24,
    "start_time": "2021-11-30T15:45:35.789Z"
   },
   {
    "duration": 22,
    "start_time": "2021-11-30T15:45:35.816Z"
   },
   {
    "duration": 16,
    "start_time": "2021-11-30T15:45:35.868Z"
   },
   {
    "duration": 4,
    "start_time": "2021-11-30T15:45:35.886Z"
   },
   {
    "duration": 5,
    "start_time": "2021-11-30T15:45:35.893Z"
   },
   {
    "duration": 16,
    "start_time": "2021-11-30T15:45:35.900Z"
   },
   {
    "duration": 23,
    "start_time": "2021-11-30T15:45:35.918Z"
   },
   {
    "duration": 63,
    "start_time": "2021-11-30T15:56:54.912Z"
   },
   {
    "duration": 13,
    "start_time": "2021-11-30T16:04:11.828Z"
   },
   {
    "duration": 12,
    "start_time": "2021-11-30T16:06:23.651Z"
   },
   {
    "duration": 10,
    "start_time": "2021-11-30T16:06:40.464Z"
   },
   {
    "duration": 93,
    "start_time": "2021-11-30T16:07:13.012Z"
   },
   {
    "duration": 6,
    "start_time": "2021-11-30T16:07:18.001Z"
   },
   {
    "duration": 743,
    "start_time": "2021-11-30T21:32:06.669Z"
   },
   {
    "duration": 188,
    "start_time": "2021-11-30T21:32:07.415Z"
   },
   {
    "duration": 10,
    "start_time": "2021-11-30T21:32:07.609Z"
   },
   {
    "duration": 57,
    "start_time": "2021-11-30T21:32:07.622Z"
   },
   {
    "duration": 17,
    "start_time": "2021-11-30T21:32:07.681Z"
   },
   {
    "duration": 33,
    "start_time": "2021-11-30T21:32:07.700Z"
   },
   {
    "duration": 6,
    "start_time": "2021-11-30T21:32:07.760Z"
   },
   {
    "duration": 36,
    "start_time": "2021-11-30T21:32:07.769Z"
   },
   {
    "duration": 59,
    "start_time": "2021-11-30T21:32:07.808Z"
   },
   {
    "duration": 34,
    "start_time": "2021-11-30T21:32:07.870Z"
   },
   {
    "duration": 110,
    "start_time": "2021-11-30T21:32:07.907Z"
   },
   {
    "duration": 105,
    "start_time": "2021-11-30T21:32:08.020Z"
   },
   {
    "duration": 84,
    "start_time": "2021-11-30T21:32:08.128Z"
   },
   {
    "duration": 9,
    "start_time": "2021-11-30T21:32:08.214Z"
   },
   {
    "duration": 11,
    "start_time": "2021-11-30T21:32:08.225Z"
   },
   {
    "duration": 31,
    "start_time": "2021-11-30T21:32:08.239Z"
   },
   {
    "duration": 62,
    "start_time": "2021-11-30T21:32:08.272Z"
   },
   {
    "duration": 51,
    "start_time": "2021-11-30T21:32:08.337Z"
   },
   {
    "duration": 38,
    "start_time": "2021-11-30T21:32:08.390Z"
   },
   {
    "duration": 29,
    "start_time": "2021-11-30T21:32:08.431Z"
   },
   {
    "duration": 28,
    "start_time": "2021-11-30T21:32:08.463Z"
   },
   {
    "duration": 19,
    "start_time": "2021-11-30T21:32:08.496Z"
   },
   {
    "duration": 43,
    "start_time": "2021-11-30T21:32:08.518Z"
   },
   {
    "duration": 19,
    "start_time": "2021-11-30T21:32:08.564Z"
   },
   {
    "duration": 22,
    "start_time": "2021-11-30T21:32:08.585Z"
   },
   {
    "duration": 51,
    "start_time": "2021-11-30T21:32:08.610Z"
   },
   {
    "duration": 100,
    "start_time": "2021-11-30T21:32:08.663Z"
   },
   {
    "duration": 14,
    "start_time": "2021-11-30T21:32:08.766Z"
   },
   {
    "duration": 24,
    "start_time": "2021-11-30T21:32:08.783Z"
   },
   {
    "duration": 5,
    "start_time": "2021-11-30T21:32:08.809Z"
   },
   {
    "duration": 59,
    "start_time": "2021-11-30T21:32:08.817Z"
   },
   {
    "duration": 16,
    "start_time": "2021-11-30T21:32:08.879Z"
   },
   {
    "duration": 21,
    "start_time": "2021-11-30T21:32:08.897Z"
   },
   {
    "duration": 49,
    "start_time": "2021-11-30T21:32:08.920Z"
   },
   {
    "duration": 9,
    "start_time": "2021-11-30T21:32:08.971Z"
   },
   {
    "duration": 8,
    "start_time": "2021-11-30T21:32:08.982Z"
   },
   {
    "duration": 9,
    "start_time": "2021-11-30T21:32:08.992Z"
   },
   {
    "duration": 6,
    "start_time": "2021-11-30T21:32:09.003Z"
   },
   {
    "duration": 435,
    "start_time": "2021-12-01T19:06:45.095Z"
   },
   {
    "duration": 818,
    "start_time": "2021-12-01T19:07:00.760Z"
   },
   {
    "duration": 180,
    "start_time": "2021-12-01T19:07:01.581Z"
   },
   {
    "duration": 26,
    "start_time": "2021-12-01T19:07:01.765Z"
   },
   {
    "duration": 33,
    "start_time": "2021-12-01T19:07:01.793Z"
   },
   {
    "duration": 32,
    "start_time": "2021-12-01T19:07:01.828Z"
   },
   {
    "duration": 25,
    "start_time": "2021-12-01T19:07:01.862Z"
   },
   {
    "duration": 10,
    "start_time": "2021-12-01T19:07:01.889Z"
   },
   {
    "duration": 60,
    "start_time": "2021-12-01T19:07:01.903Z"
   },
   {
    "duration": 24,
    "start_time": "2021-12-01T19:07:01.966Z"
   },
   {
    "duration": 30,
    "start_time": "2021-12-01T19:07:01.992Z"
   },
   {
    "duration": 110,
    "start_time": "2021-12-01T19:07:02.024Z"
   },
   {
    "duration": 100,
    "start_time": "2021-12-01T19:07:02.137Z"
   },
   {
    "duration": 90,
    "start_time": "2021-12-01T19:07:02.240Z"
   },
   {
    "duration": 27,
    "start_time": "2021-12-01T19:07:02.333Z"
   },
   {
    "duration": 4,
    "start_time": "2021-12-01T19:07:02.362Z"
   },
   {
    "duration": 18,
    "start_time": "2021-12-01T19:07:02.369Z"
   },
   {
    "duration": 77,
    "start_time": "2021-12-01T19:07:02.390Z"
   },
   {
    "duration": 31,
    "start_time": "2021-12-01T19:07:02.470Z"
   },
   {
    "duration": 61,
    "start_time": "2021-12-01T19:07:02.504Z"
   },
   {
    "duration": 4,
    "start_time": "2021-12-01T19:07:02.568Z"
   },
   {
    "duration": 26,
    "start_time": "2021-12-01T19:07:02.575Z"
   },
   {
    "duration": 18,
    "start_time": "2021-12-01T19:07:02.604Z"
   },
   {
    "duration": 48,
    "start_time": "2021-12-01T19:07:02.628Z"
   },
   {
    "duration": 18,
    "start_time": "2021-12-01T19:07:02.679Z"
   },
   {
    "duration": 21,
    "start_time": "2021-12-01T19:07:02.700Z"
   },
   {
    "duration": 53,
    "start_time": "2021-12-01T19:07:02.724Z"
   },
   {
    "duration": 109,
    "start_time": "2021-12-01T19:07:02.779Z"
   },
   {
    "duration": 15,
    "start_time": "2021-12-01T19:07:02.890Z"
   },
   {
    "duration": 24,
    "start_time": "2021-12-01T19:07:02.908Z"
   },
   {
    "duration": 26,
    "start_time": "2021-12-01T19:07:02.935Z"
   },
   {
    "duration": 34,
    "start_time": "2021-12-01T19:07:02.964Z"
   },
   {
    "duration": 18,
    "start_time": "2021-12-01T19:07:03.002Z"
   },
   {
    "duration": 27,
    "start_time": "2021-12-01T19:07:03.058Z"
   },
   {
    "duration": 17,
    "start_time": "2021-12-01T19:07:03.088Z"
   },
   {
    "duration": 9,
    "start_time": "2021-12-01T19:07:03.108Z"
   },
   {
    "duration": 43,
    "start_time": "2021-12-01T19:07:03.119Z"
   },
   {
    "duration": 11,
    "start_time": "2021-12-01T19:07:03.164Z"
   },
   {
    "duration": 6,
    "start_time": "2021-12-01T19:07:03.177Z"
   },
   {
    "duration": 6,
    "start_time": "2021-12-01T19:09:58.801Z"
   },
   {
    "duration": 57,
    "start_time": "2021-12-01T19:11:21.661Z"
   },
   {
    "duration": 5,
    "start_time": "2021-12-01T19:14:07.786Z"
   },
   {
    "duration": 467,
    "start_time": "2021-12-01T19:16:16.875Z"
   },
   {
    "duration": 390,
    "start_time": "2021-12-01T19:16:30.776Z"
   },
   {
    "duration": 767,
    "start_time": "2021-12-01T19:16:41.192Z"
   },
   {
    "duration": 182,
    "start_time": "2021-12-01T19:16:41.962Z"
   },
   {
    "duration": 31,
    "start_time": "2021-12-01T19:16:42.148Z"
   },
   {
    "duration": 35,
    "start_time": "2021-12-01T19:16:42.182Z"
   },
   {
    "duration": 7,
    "start_time": "2021-12-01T19:16:42.220Z"
   },
   {
    "duration": 30,
    "start_time": "2021-12-01T19:16:42.261Z"
   },
   {
    "duration": 12,
    "start_time": "2021-12-01T19:16:42.293Z"
   },
   {
    "duration": 32,
    "start_time": "2021-12-01T19:16:42.307Z"
   },
   {
    "duration": 21,
    "start_time": "2021-12-01T19:16:42.361Z"
   },
   {
    "duration": 28,
    "start_time": "2021-12-01T19:16:42.385Z"
   },
   {
    "duration": 109,
    "start_time": "2021-12-01T19:16:42.415Z"
   },
   {
    "duration": 110,
    "start_time": "2021-12-01T19:16:42.527Z"
   },
   {
    "duration": 82,
    "start_time": "2021-12-01T19:16:42.639Z"
   },
   {
    "duration": 64,
    "start_time": "2021-12-01T19:16:42.724Z"
   },
   {
    "duration": 4,
    "start_time": "2021-12-01T19:16:42.790Z"
   },
   {
    "duration": 21,
    "start_time": "2021-12-01T19:16:42.796Z"
   },
   {
    "duration": 76,
    "start_time": "2021-12-01T19:16:42.819Z"
   },
   {
    "duration": 36,
    "start_time": "2021-12-01T19:16:42.897Z"
   },
   {
    "duration": 66,
    "start_time": "2021-12-01T19:16:42.935Z"
   },
   {
    "duration": 5,
    "start_time": "2021-12-01T19:16:43.003Z"
   },
   {
    "duration": 51,
    "start_time": "2021-12-01T19:16:43.010Z"
   },
   {
    "duration": 23,
    "start_time": "2021-12-01T19:16:43.063Z"
   },
   {
    "duration": 22,
    "start_time": "2021-12-01T19:16:43.089Z"
   },
   {
    "duration": 49,
    "start_time": "2021-12-01T19:16:43.113Z"
   },
   {
    "duration": 25,
    "start_time": "2021-12-01T19:16:43.164Z"
   },
   {
    "duration": 24,
    "start_time": "2021-12-01T19:16:43.192Z"
   },
   {
    "duration": 140,
    "start_time": "2021-12-01T19:16:43.221Z"
   },
   {
    "duration": 16,
    "start_time": "2021-12-01T19:16:43.364Z"
   },
   {
    "duration": 27,
    "start_time": "2021-12-01T19:16:43.382Z"
   },
   {
    "duration": 5,
    "start_time": "2021-12-01T19:16:43.411Z"
   },
   {
    "duration": 67,
    "start_time": "2021-12-01T19:16:43.418Z"
   },
   {
    "duration": 18,
    "start_time": "2021-12-01T19:16:43.487Z"
   },
   {
    "duration": 27,
    "start_time": "2021-12-01T19:16:43.507Z"
   },
   {
    "duration": 19,
    "start_time": "2021-12-01T19:16:43.560Z"
   },
   {
    "duration": 10,
    "start_time": "2021-12-01T19:16:43.582Z"
   },
   {
    "duration": 7,
    "start_time": "2021-12-01T19:16:43.594Z"
   },
   {
    "duration": 526,
    "start_time": "2021-12-01T19:16:43.604Z"
   },
   {
    "duration": -728,
    "start_time": "2021-12-01T19:16:44.860Z"
   },
   {
    "duration": 7,
    "start_time": "2021-12-01T19:18:04.782Z"
   },
   {
    "duration": 7,
    "start_time": "2021-12-01T19:18:07.081Z"
   },
   {
    "duration": 762,
    "start_time": "2021-12-01T19:39:45.560Z"
   },
   {
    "duration": 183,
    "start_time": "2021-12-01T19:39:46.325Z"
   },
   {
    "duration": 28,
    "start_time": "2021-12-01T19:39:46.511Z"
   },
   {
    "duration": 34,
    "start_time": "2021-12-01T19:39:46.542Z"
   },
   {
    "duration": 5,
    "start_time": "2021-12-01T19:39:46.579Z"
   },
   {
    "duration": 58,
    "start_time": "2021-12-01T19:39:46.586Z"
   },
   {
    "duration": 7,
    "start_time": "2021-12-01T19:39:46.648Z"
   },
   {
    "duration": 29,
    "start_time": "2021-12-01T19:39:46.659Z"
   },
   {
    "duration": 46,
    "start_time": "2021-12-01T19:39:46.692Z"
   },
   {
    "duration": 30,
    "start_time": "2021-12-01T19:39:46.740Z"
   },
   {
    "duration": 105,
    "start_time": "2021-12-01T19:39:46.772Z"
   },
   {
    "duration": 119,
    "start_time": "2021-12-01T19:39:46.879Z"
   },
   {
    "duration": 86,
    "start_time": "2021-12-01T19:39:47.001Z"
   },
   {
    "duration": 60,
    "start_time": "2021-12-01T19:39:47.090Z"
   },
   {
    "duration": 4,
    "start_time": "2021-12-01T19:39:47.152Z"
   },
   {
    "duration": 24,
    "start_time": "2021-12-01T19:39:47.159Z"
   },
   {
    "duration": 77,
    "start_time": "2021-12-01T19:39:47.186Z"
   },
   {
    "duration": 30,
    "start_time": "2021-12-01T19:39:47.265Z"
   },
   {
    "duration": 60,
    "start_time": "2021-12-01T19:39:47.297Z"
   },
   {
    "duration": 5,
    "start_time": "2021-12-01T19:39:47.359Z"
   },
   {
    "duration": 30,
    "start_time": "2021-12-01T19:39:47.366Z"
   },
   {
    "duration": 41,
    "start_time": "2021-12-01T19:39:47.398Z"
   },
   {
    "duration": 21,
    "start_time": "2021-12-01T19:39:47.445Z"
   },
   {
    "duration": 19,
    "start_time": "2021-12-01T19:39:47.469Z"
   },
   {
    "duration": 59,
    "start_time": "2021-12-01T19:39:47.490Z"
   },
   {
    "duration": 21,
    "start_time": "2021-12-01T19:39:47.552Z"
   },
   {
    "duration": 134,
    "start_time": "2021-12-01T19:39:47.576Z"
   },
   {
    "duration": 23,
    "start_time": "2021-12-01T19:39:47.713Z"
   },
   {
    "duration": 23,
    "start_time": "2021-12-01T19:39:47.739Z"
   },
   {
    "duration": 5,
    "start_time": "2021-12-01T19:39:47.764Z"
   },
   {
    "duration": 58,
    "start_time": "2021-12-01T19:39:47.772Z"
   },
   {
    "duration": 18,
    "start_time": "2021-12-01T19:39:47.833Z"
   },
   {
    "duration": 24,
    "start_time": "2021-12-01T19:39:47.853Z"
   },
   {
    "duration": 53,
    "start_time": "2021-12-01T19:39:47.879Z"
   },
   {
    "duration": 10,
    "start_time": "2021-12-01T19:39:47.935Z"
   },
   {
    "duration": 8,
    "start_time": "2021-12-01T19:39:47.948Z"
   },
   {
    "duration": 10,
    "start_time": "2021-12-01T19:39:47.959Z"
   },
   {
    "duration": 9,
    "start_time": "2021-12-01T19:39:47.972Z"
   },
   {
    "duration": 445,
    "start_time": "2022-07-20T08:50:54.699Z"
   },
   {
    "duration": 230,
    "start_time": "2022-07-20T08:50:55.146Z"
   },
   {
    "duration": 17,
    "start_time": "2022-07-20T08:50:55.378Z"
   },
   {
    "duration": 36,
    "start_time": "2022-07-20T08:50:55.397Z"
   },
   {
    "duration": 4,
    "start_time": "2022-07-20T08:50:55.435Z"
   },
   {
    "duration": 23,
    "start_time": "2022-07-20T08:50:55.441Z"
   },
   {
    "duration": 18,
    "start_time": "2022-07-20T08:50:55.466Z"
   },
   {
    "duration": 31,
    "start_time": "2022-07-20T08:50:55.486Z"
   },
   {
    "duration": 30,
    "start_time": "2022-07-20T08:50:55.518Z"
   },
   {
    "duration": 27,
    "start_time": "2022-07-20T08:50:55.550Z"
   },
   {
    "duration": 77,
    "start_time": "2022-07-20T08:50:55.578Z"
   },
   {
    "duration": 87,
    "start_time": "2022-07-20T08:50:55.657Z"
   },
   {
    "duration": 60,
    "start_time": "2022-07-20T08:50:55.746Z"
   },
   {
    "duration": 46,
    "start_time": "2022-07-20T08:50:55.808Z"
   },
   {
    "duration": 18,
    "start_time": "2022-07-20T08:50:55.855Z"
   },
   {
    "duration": 19,
    "start_time": "2022-07-20T08:50:55.875Z"
   },
   {
    "duration": 38,
    "start_time": "2022-07-20T08:50:55.896Z"
   },
   {
    "duration": 20,
    "start_time": "2022-07-20T08:50:55.936Z"
   },
   {
    "duration": 31,
    "start_time": "2022-07-20T08:50:55.958Z"
   },
   {
    "duration": 5,
    "start_time": "2022-07-20T08:50:55.991Z"
   },
   {
    "duration": 24,
    "start_time": "2022-07-20T08:50:56.024Z"
   },
   {
    "duration": 18,
    "start_time": "2022-07-20T08:50:56.050Z"
   },
   {
    "duration": 18,
    "start_time": "2022-07-20T08:50:56.070Z"
   },
   {
    "duration": 45,
    "start_time": "2022-07-20T08:50:56.090Z"
   },
   {
    "duration": 16,
    "start_time": "2022-07-20T08:50:56.137Z"
   },
   {
    "duration": 14,
    "start_time": "2022-07-20T08:50:56.154Z"
   },
   {
    "duration": 103,
    "start_time": "2022-07-20T08:50:56.169Z"
   },
   {
    "duration": 10,
    "start_time": "2022-07-20T08:50:56.275Z"
   },
   {
    "duration": 18,
    "start_time": "2022-07-20T08:50:56.287Z"
   },
   {
    "duration": 20,
    "start_time": "2022-07-20T08:50:56.306Z"
   },
   {
    "duration": 26,
    "start_time": "2022-07-20T08:50:56.328Z"
   },
   {
    "duration": 13,
    "start_time": "2022-07-20T08:50:56.356Z"
   },
   {
    "duration": 16,
    "start_time": "2022-07-20T08:50:56.370Z"
   },
   {
    "duration": 43,
    "start_time": "2022-07-20T08:50:56.388Z"
   },
   {
    "duration": 6,
    "start_time": "2022-07-20T08:50:56.433Z"
   },
   {
    "duration": 23,
    "start_time": "2022-07-20T08:50:56.440Z"
   },
   {
    "duration": 22,
    "start_time": "2022-07-20T08:50:56.465Z"
   },
   {
    "duration": 28,
    "start_time": "2022-07-20T08:50:56.489Z"
   },
   {
    "duration": 417,
    "start_time": "2022-07-20T08:51:48.206Z"
   },
   {
    "duration": 153,
    "start_time": "2022-07-20T08:51:48.625Z"
   },
   {
    "duration": 17,
    "start_time": "2022-07-20T08:51:48.780Z"
   },
   {
    "duration": 41,
    "start_time": "2022-07-20T08:51:48.800Z"
   },
   {
    "duration": 6,
    "start_time": "2022-07-20T08:51:48.842Z"
   },
   {
    "duration": 21,
    "start_time": "2022-07-20T08:51:48.863Z"
   },
   {
    "duration": 9,
    "start_time": "2022-07-20T08:51:48.886Z"
   },
   {
    "duration": 41,
    "start_time": "2022-07-20T08:51:48.897Z"
   },
   {
    "duration": 21,
    "start_time": "2022-07-20T08:51:48.939Z"
   },
   {
    "duration": 32,
    "start_time": "2022-07-20T08:51:48.963Z"
   },
   {
    "duration": 99,
    "start_time": "2022-07-20T08:51:48.997Z"
   },
   {
    "duration": 91,
    "start_time": "2022-07-20T08:51:49.099Z"
   },
   {
    "duration": 75,
    "start_time": "2022-07-20T08:51:49.192Z"
   },
   {
    "duration": 32,
    "start_time": "2022-07-20T08:51:49.268Z"
   },
   {
    "duration": 22,
    "start_time": "2022-07-20T08:51:49.302Z"
   },
   {
    "duration": 13,
    "start_time": "2022-07-20T08:51:49.325Z"
   },
   {
    "duration": 36,
    "start_time": "2022-07-20T08:51:49.339Z"
   },
   {
    "duration": 48,
    "start_time": "2022-07-20T08:51:49.376Z"
   },
   {
    "duration": 26,
    "start_time": "2022-07-20T08:51:49.425Z"
   },
   {
    "duration": 3,
    "start_time": "2022-07-20T08:51:49.453Z"
   },
   {
    "duration": 19,
    "start_time": "2022-07-20T08:51:49.458Z"
   },
   {
    "duration": 13,
    "start_time": "2022-07-20T08:51:49.478Z"
   },
   {
    "duration": 17,
    "start_time": "2022-07-20T08:51:49.523Z"
   },
   {
    "duration": 13,
    "start_time": "2022-07-20T08:51:49.542Z"
   },
   {
    "duration": 15,
    "start_time": "2022-07-20T08:51:49.556Z"
   },
   {
    "duration": 50,
    "start_time": "2022-07-20T08:51:49.573Z"
   },
   {
    "duration": 63,
    "start_time": "2022-07-20T08:51:49.625Z"
   },
   {
    "duration": 10,
    "start_time": "2022-07-20T08:51:49.691Z"
   },
   {
    "duration": 18,
    "start_time": "2022-07-20T08:51:49.722Z"
   },
   {
    "duration": 5,
    "start_time": "2022-07-20T08:51:49.742Z"
   },
   {
    "duration": 33,
    "start_time": "2022-07-20T08:51:49.748Z"
   },
   {
    "duration": 13,
    "start_time": "2022-07-20T08:51:49.783Z"
   },
   {
    "duration": 42,
    "start_time": "2022-07-20T08:51:49.797Z"
   },
   {
    "duration": 12,
    "start_time": "2022-07-20T08:51:49.841Z"
   },
   {
    "duration": 7,
    "start_time": "2022-07-20T08:51:49.854Z"
   },
   {
    "duration": 9,
    "start_time": "2022-07-20T08:51:49.862Z"
   },
   {
    "duration": 9,
    "start_time": "2022-07-20T08:51:49.872Z"
   },
   {
    "duration": 42,
    "start_time": "2022-07-20T08:51:49.882Z"
   }
  ],
  "colab": {
   "collapsed_sections": [
    "E0vqbgi9ay0H",
    "VUC88oWjTJw2"
   ],
   "name": "yandex_music_project_2021.2.ipynb",
   "provenance": []
  },
  "kernelspec": {
   "display_name": "Python 3 (ipykernel)",
   "language": "python",
   "name": "python3"
  },
  "language_info": {
   "codemirror_mode": {
    "name": "ipython",
    "version": 3
   },
   "file_extension": ".py",
   "mimetype": "text/x-python",
   "name": "python",
   "nbconvert_exporter": "python",
   "pygments_lexer": "ipython3",
   "version": "3.9.5"
  },
  "toc": {
   "base_numbering": 1,
   "nav_menu": {},
   "number_sections": true,
   "sideBar": true,
   "skip_h1_title": true,
   "title_cell": "Table of Contents",
   "title_sidebar": "Contents",
   "toc_cell": false,
   "toc_position": {},
   "toc_section_display": true,
   "toc_window_display": false
  }
 },
 "nbformat": 4,
 "nbformat_minor": 1
}
