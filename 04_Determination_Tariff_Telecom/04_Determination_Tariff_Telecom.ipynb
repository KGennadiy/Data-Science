{
 "cells": [
  {
   "cell_type": "markdown",
   "metadata": {},
   "source": [
    "# Определение перспективного тарифа для телеком-компании"
   ]
  },
  {
   "cell_type": "markdown",
   "metadata": {},
   "source": [
    "<h2>Открытие файлов с данными и изучение общей информации"
   ]
  },
  {
   "cell_type": "code",
   "execution_count": 1,
   "metadata": {},
   "outputs": [],
   "source": [
    "import pandas as pd\n",
    "import numpy as np\n",
    "import matplotlib.pyplot as plt\n",
    "from pandas.plotting import scatter_matrix\n",
    "from scipy import stats as st"
   ]
  },
  {
   "cell_type": "code",
   "execution_count": 2,
   "metadata": {},
   "outputs": [],
   "source": [
    "from matplotlib import pyplot as plt"
   ]
  },
  {
   "cell_type": "markdown",
   "metadata": {},
   "source": [
    "<h3> Таблица <i>users</i> (информация о пользователях):"
   ]
  },
  {
   "cell_type": "code",
   "execution_count": 3,
   "metadata": {},
   "outputs": [
    {
     "name": "stdout",
     "output_type": "stream",
     "text": [
      "<class 'pandas.core.frame.DataFrame'>\n",
      "RangeIndex: 500 entries, 0 to 499\n",
      "Data columns (total 8 columns):\n",
      "user_id       500 non-null int64\n",
      "age           500 non-null int64\n",
      "churn_date    38 non-null object\n",
      "city          500 non-null object\n",
      "first_name    500 non-null object\n",
      "last_name     500 non-null object\n",
      "reg_date      500 non-null object\n",
      "tariff        500 non-null object\n",
      "dtypes: int64(2), object(6)\n",
      "memory usage: 31.4+ KB\n"
     ]
    },
    {
     "data": {
      "text/plain": [
       "None"
      ]
     },
     "metadata": {},
     "output_type": "display_data"
    },
    {
     "data": {
      "text/html": [
       "<div>\n",
       "<style scoped>\n",
       "    .dataframe tbody tr th:only-of-type {\n",
       "        vertical-align: middle;\n",
       "    }\n",
       "\n",
       "    .dataframe tbody tr th {\n",
       "        vertical-align: top;\n",
       "    }\n",
       "\n",
       "    .dataframe thead th {\n",
       "        text-align: right;\n",
       "    }\n",
       "</style>\n",
       "<table border=\"1\" class=\"dataframe\">\n",
       "  <thead>\n",
       "    <tr style=\"text-align: right;\">\n",
       "      <th></th>\n",
       "      <th>user_id</th>\n",
       "      <th>age</th>\n",
       "      <th>churn_date</th>\n",
       "      <th>city</th>\n",
       "      <th>first_name</th>\n",
       "      <th>last_name</th>\n",
       "      <th>reg_date</th>\n",
       "      <th>tariff</th>\n",
       "    </tr>\n",
       "  </thead>\n",
       "  <tbody>\n",
       "    <tr>\n",
       "      <td>0</td>\n",
       "      <td>1000</td>\n",
       "      <td>52</td>\n",
       "      <td>NaN</td>\n",
       "      <td>Краснодар</td>\n",
       "      <td>Рафаил</td>\n",
       "      <td>Верещагин</td>\n",
       "      <td>2018-05-25</td>\n",
       "      <td>ultra</td>\n",
       "    </tr>\n",
       "    <tr>\n",
       "      <td>1</td>\n",
       "      <td>1001</td>\n",
       "      <td>41</td>\n",
       "      <td>NaN</td>\n",
       "      <td>Москва</td>\n",
       "      <td>Иван</td>\n",
       "      <td>Ежов</td>\n",
       "      <td>2018-11-01</td>\n",
       "      <td>smart</td>\n",
       "    </tr>\n",
       "    <tr>\n",
       "      <td>2</td>\n",
       "      <td>1002</td>\n",
       "      <td>59</td>\n",
       "      <td>NaN</td>\n",
       "      <td>Стерлитамак</td>\n",
       "      <td>Евгений</td>\n",
       "      <td>Абрамович</td>\n",
       "      <td>2018-06-17</td>\n",
       "      <td>smart</td>\n",
       "    </tr>\n",
       "    <tr>\n",
       "      <td>3</td>\n",
       "      <td>1003</td>\n",
       "      <td>23</td>\n",
       "      <td>NaN</td>\n",
       "      <td>Москва</td>\n",
       "      <td>Белла</td>\n",
       "      <td>Белякова</td>\n",
       "      <td>2018-08-17</td>\n",
       "      <td>ultra</td>\n",
       "    </tr>\n",
       "    <tr>\n",
       "      <td>4</td>\n",
       "      <td>1004</td>\n",
       "      <td>68</td>\n",
       "      <td>NaN</td>\n",
       "      <td>Новокузнецк</td>\n",
       "      <td>Татьяна</td>\n",
       "      <td>Авдеенко</td>\n",
       "      <td>2018-05-14</td>\n",
       "      <td>ultra</td>\n",
       "    </tr>\n",
       "  </tbody>\n",
       "</table>\n",
       "</div>"
      ],
      "text/plain": [
       "   user_id  age churn_date         city first_name  last_name    reg_date  \\\n",
       "0     1000   52        NaN    Краснодар     Рафаил  Верещагин  2018-05-25   \n",
       "1     1001   41        NaN       Москва       Иван       Ежов  2018-11-01   \n",
       "2     1002   59        NaN  Стерлитамак    Евгений  Абрамович  2018-06-17   \n",
       "3     1003   23        NaN       Москва      Белла   Белякова  2018-08-17   \n",
       "4     1004   68        NaN  Новокузнецк    Татьяна   Авдеенко  2018-05-14   \n",
       "\n",
       "  tariff  \n",
       "0  ultra  \n",
       "1  smart  \n",
       "2  smart  \n",
       "3  ultra  \n",
       "4  ultra  "
      ]
     },
     "metadata": {},
     "output_type": "display_data"
    }
   ],
   "source": [
    "df_u = pd.read_csv('/datasets/users.csv') \n",
    "display(df_u.info())\n",
    "display(df_u.head())"
   ]
  },
  {
   "cell_type": "markdown",
   "metadata": {},
   "source": [
    "<b>Выводы:</b><br>\n",
    " - данные заполнены верно;\n",
    " - типы данных в столбцах \"Дата регистрации\" и \"Дата прекращения пользования тарифом\" имеют строчный тип - можно перевести в тип \"дата\""
   ]
  },
  {
   "cell_type": "markdown",
   "metadata": {},
   "source": [
    "<h3>Таблица <i>calls</i> (информация о звонках):"
   ]
  },
  {
   "cell_type": "code",
   "execution_count": 4,
   "metadata": {},
   "outputs": [
    {
     "name": "stdout",
     "output_type": "stream",
     "text": [
      "<class 'pandas.core.frame.DataFrame'>\n",
      "RangeIndex: 202607 entries, 0 to 202606\n",
      "Data columns (total 4 columns):\n",
      "id           202607 non-null object\n",
      "call_date    202607 non-null object\n",
      "duration     202607 non-null float64\n",
      "user_id      202607 non-null int64\n",
      "dtypes: float64(1), int64(1), object(2)\n",
      "memory usage: 6.2+ MB\n"
     ]
    },
    {
     "data": {
      "text/plain": [
       "None"
      ]
     },
     "metadata": {},
     "output_type": "display_data"
    },
    {
     "data": {
      "text/html": [
       "<div>\n",
       "<style scoped>\n",
       "    .dataframe tbody tr th:only-of-type {\n",
       "        vertical-align: middle;\n",
       "    }\n",
       "\n",
       "    .dataframe tbody tr th {\n",
       "        vertical-align: top;\n",
       "    }\n",
       "\n",
       "    .dataframe thead th {\n",
       "        text-align: right;\n",
       "    }\n",
       "</style>\n",
       "<table border=\"1\" class=\"dataframe\">\n",
       "  <thead>\n",
       "    <tr style=\"text-align: right;\">\n",
       "      <th></th>\n",
       "      <th>id</th>\n",
       "      <th>call_date</th>\n",
       "      <th>duration</th>\n",
       "      <th>user_id</th>\n",
       "    </tr>\n",
       "  </thead>\n",
       "  <tbody>\n",
       "    <tr>\n",
       "      <td>0</td>\n",
       "      <td>1000_0</td>\n",
       "      <td>2018-07-25</td>\n",
       "      <td>0.00</td>\n",
       "      <td>1000</td>\n",
       "    </tr>\n",
       "    <tr>\n",
       "      <td>1</td>\n",
       "      <td>1000_1</td>\n",
       "      <td>2018-08-17</td>\n",
       "      <td>0.00</td>\n",
       "      <td>1000</td>\n",
       "    </tr>\n",
       "    <tr>\n",
       "      <td>2</td>\n",
       "      <td>1000_2</td>\n",
       "      <td>2018-06-11</td>\n",
       "      <td>2.85</td>\n",
       "      <td>1000</td>\n",
       "    </tr>\n",
       "    <tr>\n",
       "      <td>3</td>\n",
       "      <td>1000_3</td>\n",
       "      <td>2018-09-21</td>\n",
       "      <td>13.80</td>\n",
       "      <td>1000</td>\n",
       "    </tr>\n",
       "    <tr>\n",
       "      <td>4</td>\n",
       "      <td>1000_4</td>\n",
       "      <td>2018-12-15</td>\n",
       "      <td>5.18</td>\n",
       "      <td>1000</td>\n",
       "    </tr>\n",
       "  </tbody>\n",
       "</table>\n",
       "</div>"
      ],
      "text/plain": [
       "       id   call_date  duration  user_id\n",
       "0  1000_0  2018-07-25      0.00     1000\n",
       "1  1000_1  2018-08-17      0.00     1000\n",
       "2  1000_2  2018-06-11      2.85     1000\n",
       "3  1000_3  2018-09-21     13.80     1000\n",
       "4  1000_4  2018-12-15      5.18     1000"
      ]
     },
     "metadata": {},
     "output_type": "display_data"
    }
   ],
   "source": [
    "df_c = pd.read_csv('/datasets/calls.csv') \n",
    "display(df_c.info())\n",
    "display(df_c.head())"
   ]
  },
  {
   "cell_type": "markdown",
   "metadata": {},
   "source": [
    "<b>Выводы:</b><br>\n",
    " - данные заполнены верно;\n",
    " - типы данных в столбце \"Дата звонка\" имеет строчный тип - можно перевести в тип \"дата\""
   ]
  },
  {
   "cell_type": "markdown",
   "metadata": {},
   "source": [
    "<h3>Таблица <i>messages</i> (информация о сообщениях):"
   ]
  },
  {
   "cell_type": "code",
   "execution_count": 5,
   "metadata": {
    "scrolled": true
   },
   "outputs": [
    {
     "name": "stdout",
     "output_type": "stream",
     "text": [
      "<class 'pandas.core.frame.DataFrame'>\n",
      "RangeIndex: 123036 entries, 0 to 123035\n",
      "Data columns (total 3 columns):\n",
      "id              123036 non-null object\n",
      "message_date    123036 non-null object\n",
      "user_id         123036 non-null int64\n",
      "dtypes: int64(1), object(2)\n",
      "memory usage: 2.8+ MB\n"
     ]
    },
    {
     "data": {
      "text/plain": [
       "None"
      ]
     },
     "metadata": {},
     "output_type": "display_data"
    },
    {
     "data": {
      "text/html": [
       "<div>\n",
       "<style scoped>\n",
       "    .dataframe tbody tr th:only-of-type {\n",
       "        vertical-align: middle;\n",
       "    }\n",
       "\n",
       "    .dataframe tbody tr th {\n",
       "        vertical-align: top;\n",
       "    }\n",
       "\n",
       "    .dataframe thead th {\n",
       "        text-align: right;\n",
       "    }\n",
       "</style>\n",
       "<table border=\"1\" class=\"dataframe\">\n",
       "  <thead>\n",
       "    <tr style=\"text-align: right;\">\n",
       "      <th></th>\n",
       "      <th>id</th>\n",
       "      <th>message_date</th>\n",
       "      <th>user_id</th>\n",
       "    </tr>\n",
       "  </thead>\n",
       "  <tbody>\n",
       "    <tr>\n",
       "      <td>0</td>\n",
       "      <td>1000_0</td>\n",
       "      <td>2018-06-27</td>\n",
       "      <td>1000</td>\n",
       "    </tr>\n",
       "    <tr>\n",
       "      <td>1</td>\n",
       "      <td>1000_1</td>\n",
       "      <td>2018-10-08</td>\n",
       "      <td>1000</td>\n",
       "    </tr>\n",
       "    <tr>\n",
       "      <td>2</td>\n",
       "      <td>1000_2</td>\n",
       "      <td>2018-08-04</td>\n",
       "      <td>1000</td>\n",
       "    </tr>\n",
       "    <tr>\n",
       "      <td>3</td>\n",
       "      <td>1000_3</td>\n",
       "      <td>2018-06-16</td>\n",
       "      <td>1000</td>\n",
       "    </tr>\n",
       "    <tr>\n",
       "      <td>4</td>\n",
       "      <td>1000_4</td>\n",
       "      <td>2018-12-05</td>\n",
       "      <td>1000</td>\n",
       "    </tr>\n",
       "  </tbody>\n",
       "</table>\n",
       "</div>"
      ],
      "text/plain": [
       "       id message_date  user_id\n",
       "0  1000_0   2018-06-27     1000\n",
       "1  1000_1   2018-10-08     1000\n",
       "2  1000_2   2018-08-04     1000\n",
       "3  1000_3   2018-06-16     1000\n",
       "4  1000_4   2018-12-05     1000"
      ]
     },
     "metadata": {},
     "output_type": "display_data"
    }
   ],
   "source": [
    "df_m = pd.read_csv('/datasets/messages.csv') \n",
    "display(df_m.info())\n",
    "display(df_m.head())"
   ]
  },
  {
   "cell_type": "markdown",
   "metadata": {},
   "source": [
    "<b>Выводы:</b><br>\n",
    " - данные заполнены верно;\n",
    " - типы данных в столбце \"Дата сообщения\" имеет строчный тип - можно перевести в тип \"дата\""
   ]
  },
  {
   "cell_type": "markdown",
   "metadata": {},
   "source": [
    "<h3>Таблица <i>internet</i> (информация об интернет-сессиях):"
   ]
  },
  {
   "cell_type": "code",
   "execution_count": 6,
   "metadata": {
    "scrolled": true
   },
   "outputs": [
    {
     "name": "stdout",
     "output_type": "stream",
     "text": [
      "<class 'pandas.core.frame.DataFrame'>\n",
      "RangeIndex: 149396 entries, 0 to 149395\n",
      "Data columns (total 5 columns):\n",
      "Unnamed: 0      149396 non-null int64\n",
      "id              149396 non-null object\n",
      "mb_used         149396 non-null float64\n",
      "session_date    149396 non-null object\n",
      "user_id         149396 non-null int64\n",
      "dtypes: float64(1), int64(2), object(2)\n",
      "memory usage: 5.7+ MB\n"
     ]
    },
    {
     "data": {
      "text/plain": [
       "None"
      ]
     },
     "metadata": {},
     "output_type": "display_data"
    },
    {
     "data": {
      "text/html": [
       "<div>\n",
       "<style scoped>\n",
       "    .dataframe tbody tr th:only-of-type {\n",
       "        vertical-align: middle;\n",
       "    }\n",
       "\n",
       "    .dataframe tbody tr th {\n",
       "        vertical-align: top;\n",
       "    }\n",
       "\n",
       "    .dataframe thead th {\n",
       "        text-align: right;\n",
       "    }\n",
       "</style>\n",
       "<table border=\"1\" class=\"dataframe\">\n",
       "  <thead>\n",
       "    <tr style=\"text-align: right;\">\n",
       "      <th></th>\n",
       "      <th>Unnamed: 0</th>\n",
       "      <th>id</th>\n",
       "      <th>mb_used</th>\n",
       "      <th>session_date</th>\n",
       "      <th>user_id</th>\n",
       "    </tr>\n",
       "  </thead>\n",
       "  <tbody>\n",
       "    <tr>\n",
       "      <td>0</td>\n",
       "      <td>0</td>\n",
       "      <td>1000_0</td>\n",
       "      <td>112.95</td>\n",
       "      <td>2018-11-25</td>\n",
       "      <td>1000</td>\n",
       "    </tr>\n",
       "    <tr>\n",
       "      <td>1</td>\n",
       "      <td>1</td>\n",
       "      <td>1000_1</td>\n",
       "      <td>1052.81</td>\n",
       "      <td>2018-09-07</td>\n",
       "      <td>1000</td>\n",
       "    </tr>\n",
       "    <tr>\n",
       "      <td>2</td>\n",
       "      <td>2</td>\n",
       "      <td>1000_2</td>\n",
       "      <td>1197.26</td>\n",
       "      <td>2018-06-25</td>\n",
       "      <td>1000</td>\n",
       "    </tr>\n",
       "    <tr>\n",
       "      <td>3</td>\n",
       "      <td>3</td>\n",
       "      <td>1000_3</td>\n",
       "      <td>550.27</td>\n",
       "      <td>2018-08-22</td>\n",
       "      <td>1000</td>\n",
       "    </tr>\n",
       "    <tr>\n",
       "      <td>4</td>\n",
       "      <td>4</td>\n",
       "      <td>1000_4</td>\n",
       "      <td>302.56</td>\n",
       "      <td>2018-09-24</td>\n",
       "      <td>1000</td>\n",
       "    </tr>\n",
       "  </tbody>\n",
       "</table>\n",
       "</div>"
      ],
      "text/plain": [
       "   Unnamed: 0      id  mb_used session_date  user_id\n",
       "0           0  1000_0   112.95   2018-11-25     1000\n",
       "1           1  1000_1  1052.81   2018-09-07     1000\n",
       "2           2  1000_2  1197.26   2018-06-25     1000\n",
       "3           3  1000_3   550.27   2018-08-22     1000\n",
       "4           4  1000_4   302.56   2018-09-24     1000"
      ]
     },
     "metadata": {},
     "output_type": "display_data"
    }
   ],
   "source": [
    "df_i = pd.read_csv('/datasets/internet.csv') \n",
    "display(df_i.info())\n",
    "display(df_i.head())"
   ]
  },
  {
   "cell_type": "markdown",
   "metadata": {},
   "source": [
    "<b>Выводы:</b><br>\n",
    " - дублирования столбца с индексом (Unnamed: 0) - необходимо удалить;\n",
    " - данные заполнены верно;\n",
    " - типы данных в столбце \"Дата сессии\" имеет строчный тип - можно перевести в тип \"дата\""
   ]
  },
  {
   "cell_type": "markdown",
   "metadata": {},
   "source": [
    "<h3>Таблица <i>tariffs</i> (информация о тарифах):"
   ]
  },
  {
   "cell_type": "code",
   "execution_count": 7,
   "metadata": {},
   "outputs": [
    {
     "name": "stdout",
     "output_type": "stream",
     "text": [
      "<class 'pandas.core.frame.DataFrame'>\n",
      "RangeIndex: 2 entries, 0 to 1\n",
      "Data columns (total 8 columns):\n",
      "messages_included        2 non-null int64\n",
      "mb_per_month_included    2 non-null int64\n",
      "minutes_included         2 non-null int64\n",
      "rub_monthly_fee          2 non-null int64\n",
      "rub_per_gb               2 non-null int64\n",
      "rub_per_message          2 non-null int64\n",
      "rub_per_minute           2 non-null int64\n",
      "tariff_name              2 non-null object\n",
      "dtypes: int64(7), object(1)\n",
      "memory usage: 256.0+ bytes\n"
     ]
    },
    {
     "data": {
      "text/plain": [
       "None"
      ]
     },
     "metadata": {},
     "output_type": "display_data"
    },
    {
     "data": {
      "text/html": [
       "<div>\n",
       "<style scoped>\n",
       "    .dataframe tbody tr th:only-of-type {\n",
       "        vertical-align: middle;\n",
       "    }\n",
       "\n",
       "    .dataframe tbody tr th {\n",
       "        vertical-align: top;\n",
       "    }\n",
       "\n",
       "    .dataframe thead th {\n",
       "        text-align: right;\n",
       "    }\n",
       "</style>\n",
       "<table border=\"1\" class=\"dataframe\">\n",
       "  <thead>\n",
       "    <tr style=\"text-align: right;\">\n",
       "      <th></th>\n",
       "      <th>messages_included</th>\n",
       "      <th>mb_per_month_included</th>\n",
       "      <th>minutes_included</th>\n",
       "      <th>rub_monthly_fee</th>\n",
       "      <th>rub_per_gb</th>\n",
       "      <th>rub_per_message</th>\n",
       "      <th>rub_per_minute</th>\n",
       "      <th>tariff_name</th>\n",
       "    </tr>\n",
       "  </thead>\n",
       "  <tbody>\n",
       "    <tr>\n",
       "      <td>0</td>\n",
       "      <td>50</td>\n",
       "      <td>15360</td>\n",
       "      <td>500</td>\n",
       "      <td>550</td>\n",
       "      <td>200</td>\n",
       "      <td>3</td>\n",
       "      <td>3</td>\n",
       "      <td>smart</td>\n",
       "    </tr>\n",
       "    <tr>\n",
       "      <td>1</td>\n",
       "      <td>1000</td>\n",
       "      <td>30720</td>\n",
       "      <td>3000</td>\n",
       "      <td>1950</td>\n",
       "      <td>150</td>\n",
       "      <td>1</td>\n",
       "      <td>1</td>\n",
       "      <td>ultra</td>\n",
       "    </tr>\n",
       "  </tbody>\n",
       "</table>\n",
       "</div>"
      ],
      "text/plain": [
       "   messages_included  mb_per_month_included  minutes_included  \\\n",
       "0                 50                  15360               500   \n",
       "1               1000                  30720              3000   \n",
       "\n",
       "   rub_monthly_fee  rub_per_gb  rub_per_message  rub_per_minute tariff_name  \n",
       "0              550         200                3               3       smart  \n",
       "1             1950         150                1               1       ultra  "
      ]
     },
     "metadata": {},
     "output_type": "display_data"
    }
   ],
   "source": [
    "df_t = pd.read_csv('/datasets/tariffs.csv') \n",
    "display(df_t.info())\n",
    "display(df_t.head())"
   ]
  },
  {
   "cell_type": "markdown",
   "metadata": {},
   "source": [
    "<b>Выводы:</b><br>\n",
    " - данные заполнены верно"
   ]
  },
  {
   "cell_type": "markdown",
   "metadata": {},
   "source": [
    "<h2> Подготовка данных"
   ]
  },
  {
   "cell_type": "markdown",
   "metadata": {},
   "source": [
    "<h3> Оптимизация исходных данных"
   ]
  },
  {
   "cell_type": "code",
   "execution_count": 8,
   "metadata": {},
   "outputs": [],
   "source": [
    "#приведение столбцов с датами\n",
    "df_u['churn_date'] = pd.to_datetime(df_u['churn_date'])\n",
    "df_u['reg_date'] = pd.to_datetime(df_u['reg_date'])\n",
    "df_c['call_date'] = pd.to_datetime(df_c['call_date'])\n",
    "df_m['message_date'] = pd.to_datetime(df_m['message_date'])\n",
    "df_i['session_date'] = pd.to_datetime(df_i['session_date'])"
   ]
  },
  {
   "cell_type": "markdown",
   "metadata": {},
   "source": [
    "<h3>Подсчет количества сделанных звонков и израсходованных минут разговора по месяцам"
   ]
  },
  {
   "cell_type": "markdown",
   "metadata": {},
   "source": [
    "<b>Приведение данных в соответствие с примечанием:</b>\n",
    "«Мегалайн» всегда округляет секунды до минут, а мегабайты — до гигабайт. Каждый звонок округляется отдельно: даже если он длился всего 1 секунду, будет засчитан как 1 минута."
   ]
  },
  {
   "cell_type": "code",
   "execution_count": 9,
   "metadata": {},
   "outputs": [],
   "source": [
    "#округление секунд до минут (с преобразованием в целочисленный тип столбца)\n",
    "df_c['duration'] = df_c['duration'].apply(np.ceil).astype('Int64')"
   ]
  },
  {
   "cell_type": "code",
   "execution_count": 10,
   "metadata": {},
   "outputs": [],
   "source": [
    "#приведение даты к виду \"№ месяца\"\n",
    "df_c['call_date'] = df_c['call_date'].dt.month"
   ]
  },
  {
   "cell_type": "code",
   "execution_count": 11,
   "metadata": {},
   "outputs": [
    {
     "data": {
      "text/html": [
       "<div>\n",
       "<style scoped>\n",
       "    .dataframe tbody tr th:only-of-type {\n",
       "        vertical-align: middle;\n",
       "    }\n",
       "\n",
       "    .dataframe tbody tr th {\n",
       "        vertical-align: top;\n",
       "    }\n",
       "\n",
       "    .dataframe thead tr th {\n",
       "        text-align: left;\n",
       "    }\n",
       "\n",
       "    .dataframe thead tr:last-of-type th {\n",
       "        text-align: right;\n",
       "    }\n",
       "</style>\n",
       "<table border=\"1\" class=\"dataframe\">\n",
       "  <thead>\n",
       "    <tr>\n",
       "      <th></th>\n",
       "      <th></th>\n",
       "      <th>count</th>\n",
       "      <th>sum</th>\n",
       "    </tr>\n",
       "    <tr>\n",
       "      <th></th>\n",
       "      <th></th>\n",
       "      <th>duration</th>\n",
       "      <th>duration</th>\n",
       "    </tr>\n",
       "    <tr>\n",
       "      <th>user_id</th>\n",
       "      <th>call_date</th>\n",
       "      <th></th>\n",
       "      <th></th>\n",
       "    </tr>\n",
       "  </thead>\n",
       "  <tbody>\n",
       "    <tr>\n",
       "      <td rowspan=\"5\" valign=\"top\">1000</td>\n",
       "      <td>5</td>\n",
       "      <td>22</td>\n",
       "      <td>159</td>\n",
       "    </tr>\n",
       "    <tr>\n",
       "      <td>6</td>\n",
       "      <td>43</td>\n",
       "      <td>172</td>\n",
       "    </tr>\n",
       "    <tr>\n",
       "      <td>7</td>\n",
       "      <td>47</td>\n",
       "      <td>340</td>\n",
       "    </tr>\n",
       "    <tr>\n",
       "      <td>8</td>\n",
       "      <td>52</td>\n",
       "      <td>408</td>\n",
       "    </tr>\n",
       "    <tr>\n",
       "      <td>9</td>\n",
       "      <td>58</td>\n",
       "      <td>466</td>\n",
       "    </tr>\n",
       "  </tbody>\n",
       "</table>\n",
       "</div>"
      ],
      "text/plain": [
       "                     count      sum\n",
       "                  duration duration\n",
       "user_id call_date                  \n",
       "1000    5               22      159\n",
       "        6               43      172\n",
       "        7               47      340\n",
       "        8               52      408\n",
       "        9               58      466"
      ]
     },
     "metadata": {},
     "output_type": "display_data"
    }
   ],
   "source": [
    "#подсчёт суммарного количества звонков и минут (создание сводной таблицы)\n",
    "df_c_pt=df_c.pivot_table(index=['user_id','call_date'], values='duration',aggfunc=['count', 'sum'])\n",
    "\n",
    "display(df_c_pt.head())"
   ]
  },
  {
   "cell_type": "markdown",
   "metadata": {},
   "source": [
    "<h3>Подсчет количества отправленных сообщений по месяцам"
   ]
  },
  {
   "cell_type": "code",
   "execution_count": 12,
   "metadata": {},
   "outputs": [],
   "source": [
    "#приведение даты к виду \"№ месяца\"\n",
    "df_m['message_date'] = df_m['message_date'].dt.month"
   ]
  },
  {
   "cell_type": "code",
   "execution_count": 13,
   "metadata": {},
   "outputs": [
    {
     "data": {
      "text/html": [
       "<div>\n",
       "<style scoped>\n",
       "    .dataframe tbody tr th:only-of-type {\n",
       "        vertical-align: middle;\n",
       "    }\n",
       "\n",
       "    .dataframe tbody tr th {\n",
       "        vertical-align: top;\n",
       "    }\n",
       "\n",
       "    .dataframe thead th {\n",
       "        text-align: right;\n",
       "    }\n",
       "</style>\n",
       "<table border=\"1\" class=\"dataframe\">\n",
       "  <thead>\n",
       "    <tr style=\"text-align: right;\">\n",
       "      <th></th>\n",
       "      <th></th>\n",
       "      <th>id</th>\n",
       "    </tr>\n",
       "    <tr>\n",
       "      <th>user_id</th>\n",
       "      <th>month</th>\n",
       "      <th></th>\n",
       "    </tr>\n",
       "  </thead>\n",
       "  <tbody>\n",
       "    <tr>\n",
       "      <td rowspan=\"5\" valign=\"top\">1000</td>\n",
       "      <td>5</td>\n",
       "      <td>22</td>\n",
       "    </tr>\n",
       "    <tr>\n",
       "      <td>6</td>\n",
       "      <td>60</td>\n",
       "    </tr>\n",
       "    <tr>\n",
       "      <td>7</td>\n",
       "      <td>75</td>\n",
       "    </tr>\n",
       "    <tr>\n",
       "      <td>8</td>\n",
       "      <td>81</td>\n",
       "    </tr>\n",
       "    <tr>\n",
       "      <td>9</td>\n",
       "      <td>57</td>\n",
       "    </tr>\n",
       "  </tbody>\n",
       "</table>\n",
       "</div>"
      ],
      "text/plain": [
       "               id\n",
       "user_id month    \n",
       "1000    5      22\n",
       "        6      60\n",
       "        7      75\n",
       "        8      81\n",
       "        9      57"
      ]
     },
     "metadata": {},
     "output_type": "display_data"
    }
   ],
   "source": [
    "#подсчёт суммарного количества сообщений (создание сводной таблицы)\n",
    "df_m_pt=df_m.pivot_table(index=['user_id','message_date'], values='id',aggfunc='count')\n",
    "df_m_pt.index.names = ['user_id','month']\n",
    "display(df_m_pt.head())"
   ]
  },
  {
   "cell_type": "markdown",
   "metadata": {},
   "source": [
    "<h3>Подсчет количества объема израсходованного интернет-трафика по месяцам"
   ]
  },
  {
   "cell_type": "markdown",
   "metadata": {},
   "source": [
    "<b>Приведение данных в соответствие с примечанием:</b>\n",
    "Для веб-трафика отдельные сессии не считаются. Вместо этого общая сумма за месяц округляется в бо́льшую сторону. Если абонент использует 1025 мегабайт в этом месяце, с него возьмут плату за 2 гигабайта."
   ]
  },
  {
   "cell_type": "code",
   "execution_count": 14,
   "metadata": {},
   "outputs": [],
   "source": [
    "#удаление дублирующегося столбца \n",
    "df_i=df_i.drop('Unnamed: 0', axis = 1)"
   ]
  },
  {
   "cell_type": "code",
   "execution_count": 15,
   "metadata": {},
   "outputs": [],
   "source": [
    "#приведение даты к виду \"№ месяца\"\n",
    "df_i['session_date'] = df_i['session_date'].dt.month"
   ]
  },
  {
   "cell_type": "code",
   "execution_count": 16,
   "metadata": {},
   "outputs": [],
   "source": [
    "#объединение и округление трафика (создание сводной таблицы)\n",
    "df_i_pt=df_i.pivot_table(index=['user_id','session_date'], values='mb_used',aggfunc=['sum'])\n",
    "df_i_pt['mb_s']=(df_i_pt['sum']/1024).apply(np.ceil).astype('Int64')"
   ]
  },
  {
   "cell_type": "code",
   "execution_count": 17,
   "metadata": {},
   "outputs": [
    {
     "data": {
      "text/html": [
       "<div>\n",
       "<style scoped>\n",
       "    .dataframe tbody tr th:only-of-type {\n",
       "        vertical-align: middle;\n",
       "    }\n",
       "\n",
       "    .dataframe tbody tr th {\n",
       "        vertical-align: top;\n",
       "    }\n",
       "\n",
       "    .dataframe thead tr th {\n",
       "        text-align: left;\n",
       "    }\n",
       "\n",
       "    .dataframe thead tr:last-of-type th {\n",
       "        text-align: right;\n",
       "    }\n",
       "</style>\n",
       "<table border=\"1\" class=\"dataframe\">\n",
       "  <thead>\n",
       "    <tr>\n",
       "      <th></th>\n",
       "      <th></th>\n",
       "      <th>mb_s</th>\n",
       "    </tr>\n",
       "    <tr>\n",
       "      <th></th>\n",
       "      <th></th>\n",
       "      <th></th>\n",
       "    </tr>\n",
       "    <tr>\n",
       "      <th>user_id</th>\n",
       "      <th>session_date</th>\n",
       "      <th></th>\n",
       "    </tr>\n",
       "  </thead>\n",
       "  <tbody>\n",
       "    <tr>\n",
       "      <td rowspan=\"5\" valign=\"top\">1000</td>\n",
       "      <td>5</td>\n",
       "      <td>3</td>\n",
       "    </tr>\n",
       "    <tr>\n",
       "      <td>6</td>\n",
       "      <td>23</td>\n",
       "    </tr>\n",
       "    <tr>\n",
       "      <td>7</td>\n",
       "      <td>14</td>\n",
       "    </tr>\n",
       "    <tr>\n",
       "      <td>8</td>\n",
       "      <td>14</td>\n",
       "    </tr>\n",
       "    <tr>\n",
       "      <td>9</td>\n",
       "      <td>15</td>\n",
       "    </tr>\n",
       "  </tbody>\n",
       "</table>\n",
       "</div>"
      ],
      "text/plain": [
       "                     mb_s\n",
       "                         \n",
       "user_id session_date     \n",
       "1000    5               3\n",
       "        6              23\n",
       "        7              14\n",
       "        8              14\n",
       "        9              15"
      ]
     },
     "metadata": {},
     "output_type": "display_data"
    }
   ],
   "source": [
    "#удаление лишнего столбца из сводной таблицы\n",
    "df_i_pt=df_i_pt.drop('sum', axis = 1)\n",
    "display(df_i_pt.head())"
   ]
  },
  {
   "cell_type": "markdown",
   "metadata": {},
   "source": [
    "<h3> Подсчет помесячной выручки с каждого пользователя (вычтите бесплатный лимит из суммарного количества звонков, сообщений и интернет-трафика; остаток умножьте на значение из тарифного плана; прибавьте абонентскую плату, соответствующую тарифному плану)"
   ]
  },
  {
   "cell_type": "code",
   "execution_count": 18,
   "metadata": {},
   "outputs": [
    {
     "data": {
      "text/html": [
       "<div>\n",
       "<style scoped>\n",
       "    .dataframe tbody tr th:only-of-type {\n",
       "        vertical-align: middle;\n",
       "    }\n",
       "\n",
       "    .dataframe tbody tr th {\n",
       "        vertical-align: top;\n",
       "    }\n",
       "\n",
       "    .dataframe thead th {\n",
       "        text-align: right;\n",
       "    }\n",
       "</style>\n",
       "<table border=\"1\" class=\"dataframe\">\n",
       "  <thead>\n",
       "    <tr style=\"text-align: right;\">\n",
       "      <th></th>\n",
       "      <th>user_id</th>\n",
       "      <th>city</th>\n",
       "      <th>tariff</th>\n",
       "    </tr>\n",
       "  </thead>\n",
       "  <tbody>\n",
       "    <tr>\n",
       "      <td>0</td>\n",
       "      <td>1000</td>\n",
       "      <td>Краснодар</td>\n",
       "      <td>ultra</td>\n",
       "    </tr>\n",
       "    <tr>\n",
       "      <td>1</td>\n",
       "      <td>1001</td>\n",
       "      <td>Москва</td>\n",
       "      <td>smart</td>\n",
       "    </tr>\n",
       "    <tr>\n",
       "      <td>2</td>\n",
       "      <td>1002</td>\n",
       "      <td>Стерлитамак</td>\n",
       "      <td>smart</td>\n",
       "    </tr>\n",
       "    <tr>\n",
       "      <td>3</td>\n",
       "      <td>1003</td>\n",
       "      <td>Москва</td>\n",
       "      <td>ultra</td>\n",
       "    </tr>\n",
       "    <tr>\n",
       "      <td>4</td>\n",
       "      <td>1004</td>\n",
       "      <td>Новокузнецк</td>\n",
       "      <td>ultra</td>\n",
       "    </tr>\n",
       "  </tbody>\n",
       "</table>\n",
       "</div>"
      ],
      "text/plain": [
       "   user_id         city tariff\n",
       "0     1000    Краснодар  ultra\n",
       "1     1001       Москва  smart\n",
       "2     1002  Стерлитамак  smart\n",
       "3     1003       Москва  ultra\n",
       "4     1004  Новокузнецк  ultra"
      ]
     },
     "metadata": {},
     "output_type": "display_data"
    }
   ],
   "source": [
    "#Создание справочника тарифов пользователей \n",
    "df_u_pt=df_u.drop(['age', 'churn_date', 'first_name', 'last_name', 'reg_date'], axis = 1)\n",
    "display(df_u_pt.head())"
   ]
  },
  {
   "cell_type": "code",
   "execution_count": 19,
   "metadata": {},
   "outputs": [
    {
     "data": {
      "text/html": [
       "<div>\n",
       "<style scoped>\n",
       "    .dataframe tbody tr th:only-of-type {\n",
       "        vertical-align: middle;\n",
       "    }\n",
       "\n",
       "    .dataframe tbody tr th {\n",
       "        vertical-align: top;\n",
       "    }\n",
       "\n",
       "    .dataframe thead th {\n",
       "        text-align: right;\n",
       "    }\n",
       "</style>\n",
       "<table border=\"1\" class=\"dataframe\">\n",
       "  <thead>\n",
       "    <tr style=\"text-align: right;\">\n",
       "      <th></th>\n",
       "      <th>user_id</th>\n",
       "      <th>month</th>\n",
       "      <th>count_сall</th>\n",
       "      <th>sum_сall</th>\n",
       "      <th>count_mes</th>\n",
       "      <th>gb</th>\n",
       "      <th>city</th>\n",
       "      <th>tariff</th>\n",
       "      <th>messages_included</th>\n",
       "      <th>mb_per_month_included</th>\n",
       "      <th>minutes_included</th>\n",
       "      <th>rub_monthly_fee</th>\n",
       "      <th>rub_per_gb</th>\n",
       "      <th>rub_per_message</th>\n",
       "      <th>rub_per_minute</th>\n",
       "    </tr>\n",
       "  </thead>\n",
       "  <tbody>\n",
       "    <tr>\n",
       "      <td>0</td>\n",
       "      <td>1000</td>\n",
       "      <td>5</td>\n",
       "      <td>22</td>\n",
       "      <td>159</td>\n",
       "      <td>22</td>\n",
       "      <td>3</td>\n",
       "      <td>Краснодар</td>\n",
       "      <td>ultra</td>\n",
       "      <td>1000</td>\n",
       "      <td>30720</td>\n",
       "      <td>3000</td>\n",
       "      <td>1950</td>\n",
       "      <td>150</td>\n",
       "      <td>1</td>\n",
       "      <td>1</td>\n",
       "    </tr>\n",
       "    <tr>\n",
       "      <td>1</td>\n",
       "      <td>1000</td>\n",
       "      <td>6</td>\n",
       "      <td>43</td>\n",
       "      <td>172</td>\n",
       "      <td>60</td>\n",
       "      <td>23</td>\n",
       "      <td>Краснодар</td>\n",
       "      <td>ultra</td>\n",
       "      <td>1000</td>\n",
       "      <td>30720</td>\n",
       "      <td>3000</td>\n",
       "      <td>1950</td>\n",
       "      <td>150</td>\n",
       "      <td>1</td>\n",
       "      <td>1</td>\n",
       "    </tr>\n",
       "    <tr>\n",
       "      <td>2</td>\n",
       "      <td>1000</td>\n",
       "      <td>7</td>\n",
       "      <td>47</td>\n",
       "      <td>340</td>\n",
       "      <td>75</td>\n",
       "      <td>14</td>\n",
       "      <td>Краснодар</td>\n",
       "      <td>ultra</td>\n",
       "      <td>1000</td>\n",
       "      <td>30720</td>\n",
       "      <td>3000</td>\n",
       "      <td>1950</td>\n",
       "      <td>150</td>\n",
       "      <td>1</td>\n",
       "      <td>1</td>\n",
       "    </tr>\n",
       "    <tr>\n",
       "      <td>3</td>\n",
       "      <td>1000</td>\n",
       "      <td>8</td>\n",
       "      <td>52</td>\n",
       "      <td>408</td>\n",
       "      <td>81</td>\n",
       "      <td>14</td>\n",
       "      <td>Краснодар</td>\n",
       "      <td>ultra</td>\n",
       "      <td>1000</td>\n",
       "      <td>30720</td>\n",
       "      <td>3000</td>\n",
       "      <td>1950</td>\n",
       "      <td>150</td>\n",
       "      <td>1</td>\n",
       "      <td>1</td>\n",
       "    </tr>\n",
       "    <tr>\n",
       "      <td>4</td>\n",
       "      <td>1000</td>\n",
       "      <td>9</td>\n",
       "      <td>58</td>\n",
       "      <td>466</td>\n",
       "      <td>57</td>\n",
       "      <td>15</td>\n",
       "      <td>Краснодар</td>\n",
       "      <td>ultra</td>\n",
       "      <td>1000</td>\n",
       "      <td>30720</td>\n",
       "      <td>3000</td>\n",
       "      <td>1950</td>\n",
       "      <td>150</td>\n",
       "      <td>1</td>\n",
       "      <td>1</td>\n",
       "    </tr>\n",
       "  </tbody>\n",
       "</table>\n",
       "</div>"
      ],
      "text/plain": [
       "   user_id  month  count_сall  sum_сall  count_mes  gb       city tariff  \\\n",
       "0     1000      5          22       159         22   3  Краснодар  ultra   \n",
       "1     1000      6          43       172         60  23  Краснодар  ultra   \n",
       "2     1000      7          47       340         75  14  Краснодар  ultra   \n",
       "3     1000      8          52       408         81  14  Краснодар  ultra   \n",
       "4     1000      9          58       466         57  15  Краснодар  ultra   \n",
       "\n",
       "   messages_included  mb_per_month_included  minutes_included  \\\n",
       "0               1000                  30720              3000   \n",
       "1               1000                  30720              3000   \n",
       "2               1000                  30720              3000   \n",
       "3               1000                  30720              3000   \n",
       "4               1000                  30720              3000   \n",
       "\n",
       "   rub_monthly_fee  rub_per_gb  rub_per_message  rub_per_minute  \n",
       "0             1950         150                1               1  \n",
       "1             1950         150                1               1  \n",
       "2             1950         150                1               1  \n",
       "3             1950         150                1               1  \n",
       "4             1950         150                1               1  "
      ]
     },
     "metadata": {},
     "output_type": "display_data"
    }
   ],
   "source": [
    "#Объединение всех приведеных данных в одну таблицу\n",
    "df_s=pd.concat([df_c_pt,df_m_pt,df_i_pt],sort=False,axis=1)\n",
    "df_s=df_s.reset_index()\n",
    "df_s.columns = ['user_id','month','count_сall', 'sum_сall', 'count_mes', 'gb']\n",
    "#Приведение типов данных к целочисленным и заполнение пустых значений \"0\"\n",
    "df_s['count_сall']=df_s['count_сall'].fillna(0).astype('Int64')\n",
    "df_s['count_mes']=df_s['count_mes'].fillna(0).astype('Int64')\n",
    "df_s['gb']=df_s['gb'].fillna(0).astype('Int64')\n",
    "df_s=df_s.merge(df_u_pt, how = 'left', left_on='user_id', right_on='user_id')\n",
    "df_s=df_s.merge(df_t, how = 'left', left_on='tariff', right_on='tariff_name')\n",
    "\n",
    "df_s=df_s.drop('tariff_name', axis = 1)\n",
    "\n",
    "display(df_s.head())"
   ]
  },
  {
   "cell_type": "code",
   "execution_count": 20,
   "metadata": {},
   "outputs": [
    {
     "data": {
      "text/html": [
       "<div>\n",
       "<style scoped>\n",
       "    .dataframe tbody tr th:only-of-type {\n",
       "        vertical-align: middle;\n",
       "    }\n",
       "\n",
       "    .dataframe tbody tr th {\n",
       "        vertical-align: top;\n",
       "    }\n",
       "\n",
       "    .dataframe thead th {\n",
       "        text-align: right;\n",
       "    }\n",
       "</style>\n",
       "<table border=\"1\" class=\"dataframe\">\n",
       "  <thead>\n",
       "    <tr style=\"text-align: right;\">\n",
       "      <th></th>\n",
       "      <th>user_id</th>\n",
       "      <th>month</th>\n",
       "      <th>count_сall</th>\n",
       "      <th>sum_сall</th>\n",
       "      <th>count_mes</th>\n",
       "      <th>gb</th>\n",
       "      <th>city</th>\n",
       "      <th>tariff</th>\n",
       "      <th>cost</th>\n",
       "    </tr>\n",
       "  </thead>\n",
       "  <tbody>\n",
       "    <tr>\n",
       "      <td>0</td>\n",
       "      <td>1000</td>\n",
       "      <td>5</td>\n",
       "      <td>22</td>\n",
       "      <td>159</td>\n",
       "      <td>22</td>\n",
       "      <td>3</td>\n",
       "      <td>Краснодар</td>\n",
       "      <td>ultra</td>\n",
       "      <td>1950</td>\n",
       "    </tr>\n",
       "    <tr>\n",
       "      <td>1</td>\n",
       "      <td>1000</td>\n",
       "      <td>6</td>\n",
       "      <td>43</td>\n",
       "      <td>172</td>\n",
       "      <td>60</td>\n",
       "      <td>23</td>\n",
       "      <td>Краснодар</td>\n",
       "      <td>ultra</td>\n",
       "      <td>1950</td>\n",
       "    </tr>\n",
       "    <tr>\n",
       "      <td>2</td>\n",
       "      <td>1000</td>\n",
       "      <td>7</td>\n",
       "      <td>47</td>\n",
       "      <td>340</td>\n",
       "      <td>75</td>\n",
       "      <td>14</td>\n",
       "      <td>Краснодар</td>\n",
       "      <td>ultra</td>\n",
       "      <td>1950</td>\n",
       "    </tr>\n",
       "    <tr>\n",
       "      <td>3</td>\n",
       "      <td>1000</td>\n",
       "      <td>8</td>\n",
       "      <td>52</td>\n",
       "      <td>408</td>\n",
       "      <td>81</td>\n",
       "      <td>14</td>\n",
       "      <td>Краснодар</td>\n",
       "      <td>ultra</td>\n",
       "      <td>1950</td>\n",
       "    </tr>\n",
       "    <tr>\n",
       "      <td>4</td>\n",
       "      <td>1000</td>\n",
       "      <td>9</td>\n",
       "      <td>58</td>\n",
       "      <td>466</td>\n",
       "      <td>57</td>\n",
       "      <td>15</td>\n",
       "      <td>Краснодар</td>\n",
       "      <td>ultra</td>\n",
       "      <td>1950</td>\n",
       "    </tr>\n",
       "    <tr>\n",
       "      <td>5</td>\n",
       "      <td>1000</td>\n",
       "      <td>10</td>\n",
       "      <td>57</td>\n",
       "      <td>350</td>\n",
       "      <td>73</td>\n",
       "      <td>15</td>\n",
       "      <td>Краснодар</td>\n",
       "      <td>ultra</td>\n",
       "      <td>1950</td>\n",
       "    </tr>\n",
       "    <tr>\n",
       "      <td>6</td>\n",
       "      <td>1000</td>\n",
       "      <td>11</td>\n",
       "      <td>43</td>\n",
       "      <td>338</td>\n",
       "      <td>58</td>\n",
       "      <td>15</td>\n",
       "      <td>Краснодар</td>\n",
       "      <td>ultra</td>\n",
       "      <td>1950</td>\n",
       "    </tr>\n",
       "    <tr>\n",
       "      <td>7</td>\n",
       "      <td>1000</td>\n",
       "      <td>12</td>\n",
       "      <td>46</td>\n",
       "      <td>333</td>\n",
       "      <td>70</td>\n",
       "      <td>10</td>\n",
       "      <td>Краснодар</td>\n",
       "      <td>ultra</td>\n",
       "      <td>1950</td>\n",
       "    </tr>\n",
       "    <tr>\n",
       "      <td>8</td>\n",
       "      <td>1001</td>\n",
       "      <td>11</td>\n",
       "      <td>59</td>\n",
       "      <td>430</td>\n",
       "      <td>0</td>\n",
       "      <td>18</td>\n",
       "      <td>Москва</td>\n",
       "      <td>smart</td>\n",
       "      <td>1150</td>\n",
       "    </tr>\n",
       "    <tr>\n",
       "      <td>9</td>\n",
       "      <td>1001</td>\n",
       "      <td>12</td>\n",
       "      <td>63</td>\n",
       "      <td>414</td>\n",
       "      <td>0</td>\n",
       "      <td>14</td>\n",
       "      <td>Москва</td>\n",
       "      <td>smart</td>\n",
       "      <td>550</td>\n",
       "    </tr>\n",
       "  </tbody>\n",
       "</table>\n",
       "</div>"
      ],
      "text/plain": [
       "   user_id  month  count_сall  sum_сall  count_mes  gb       city tariff  cost\n",
       "0     1000      5          22       159         22   3  Краснодар  ultra  1950\n",
       "1     1000      6          43       172         60  23  Краснодар  ultra  1950\n",
       "2     1000      7          47       340         75  14  Краснодар  ultra  1950\n",
       "3     1000      8          52       408         81  14  Краснодар  ultra  1950\n",
       "4     1000      9          58       466         57  15  Краснодар  ultra  1950\n",
       "5     1000     10          57       350         73  15  Краснодар  ultra  1950\n",
       "6     1000     11          43       338         58  15  Краснодар  ultra  1950\n",
       "7     1000     12          46       333         70  10  Краснодар  ultra  1950\n",
       "8     1001     11          59       430          0  18     Москва  smart  1150\n",
       "9     1001     12          63       414          0  14     Москва  smart   550"
      ]
     },
     "metadata": {},
     "output_type": "display_data"
    }
   ],
   "source": [
    "def cost_s(d):\n",
    "    sum=d['rub_monthly_fee']\n",
    "    if d['sum_сall']>d['minutes_included']:\n",
    "        sum += (d['sum_сall']-d['minutes_included'])*d['rub_per_minute']\n",
    "    if d['count_mes']>d['messages_included']:\n",
    "        sum += (d['count_mes']-d['messages_included'])*d['rub_per_message']\n",
    "    if d['gb']>(d['mb_per_month_included']/1024):\n",
    "        sum += (d['gb']-(d['mb_per_month_included']/1024))*d['rub_per_gb']\n",
    "    return sum        \n",
    " \n",
    "\n",
    "df_s['cost']=df_s.apply(lambda d: cost_s(d),axis=1).astype('Int64')\n",
    "\n",
    "df_s=df_s.drop(['messages_included', 'mb_per_month_included', 'minutes_included', 'rub_monthly_fee', 'rub_per_gb', 'rub_per_message', 'rub_per_minute'], axis = 1)\n",
    "\n",
    "display(df_s.head(10))"
   ]
  },
  {
   "cell_type": "markdown",
   "metadata": {},
   "source": [
    "<h2>Анализ данных"
   ]
  },
  {
   "cell_type": "markdown",
   "metadata": {},
   "source": [
    "<b>Описание поведения клиентов оператора, исходя из выборки. "
   ]
  },
  {
   "cell_type": "markdown",
   "metadata": {},
   "source": [
    "Сколько минут разговора, сколько сообщений и какой объём интернет-трафика требуется пользователям каждого тарифа в месяц?<br>\n",
    "<br>Постройте гистограммы. <br>Опишите распределения."
   ]
  },
  {
   "cell_type": "code",
   "execution_count": 21,
   "metadata": {},
   "outputs": [
    {
     "data": {
      "text/html": [
       "<div>\n",
       "<style scoped>\n",
       "    .dataframe tbody tr th:only-of-type {\n",
       "        vertical-align: middle;\n",
       "    }\n",
       "\n",
       "    .dataframe tbody tr th {\n",
       "        vertical-align: top;\n",
       "    }\n",
       "\n",
       "    .dataframe thead th {\n",
       "        text-align: right;\n",
       "    }\n",
       "</style>\n",
       "<table border=\"1\" class=\"dataframe\">\n",
       "  <thead>\n",
       "    <tr style=\"text-align: right;\">\n",
       "      <th></th>\n",
       "      <th>cost</th>\n",
       "      <th>count_mes</th>\n",
       "      <th>gb</th>\n",
       "      <th>sum_сall</th>\n",
       "    </tr>\n",
       "    <tr>\n",
       "      <th>tariff</th>\n",
       "      <th></th>\n",
       "      <th></th>\n",
       "      <th></th>\n",
       "      <th></th>\n",
       "    </tr>\n",
       "  </thead>\n",
       "  <tbody>\n",
       "    <tr>\n",
       "      <td>smart</td>\n",
       "      <td>1289.973531</td>\n",
       "      <td>33.384029</td>\n",
       "      <td>16.328847</td>\n",
       "      <td>419.062978</td>\n",
       "    </tr>\n",
       "    <tr>\n",
       "      <td>ultra</td>\n",
       "      <td>2070.152284</td>\n",
       "      <td>49.363452</td>\n",
       "      <td>19.494416</td>\n",
       "      <td>545.451104</td>\n",
       "    </tr>\n",
       "  </tbody>\n",
       "</table>\n",
       "</div>"
      ],
      "text/plain": [
       "               cost  count_mes         gb    sum_сall\n",
       "tariff                                               \n",
       "smart   1289.973531  33.384029  16.328847  419.062978\n",
       "ultra   2070.152284  49.363452  19.494416  545.451104"
      ]
     },
     "metadata": {},
     "output_type": "display_data"
    }
   ],
   "source": [
    "#Cреднее количество\n",
    "display(df_s.pivot_table(index='tariff', values=['sum_сall','count_mes','gb','cost'],aggfunc='mean'))"
   ]
  },
  {
   "cell_type": "markdown",
   "metadata": {},
   "source": [
    "<b> По среднему количеству</b> все рассматриваемые показатели в тарифе \"ultra\" превышают базовый тариф \"smart\""
   ]
  },
  {
   "cell_type": "code",
   "execution_count": 22,
   "metadata": {
    "scrolled": true
   },
   "outputs": [
    {
     "data": {
      "text/html": [
       "<div>\n",
       "<style scoped>\n",
       "    .dataframe tbody tr th:only-of-type {\n",
       "        vertical-align: middle;\n",
       "    }\n",
       "\n",
       "    .dataframe tbody tr th {\n",
       "        vertical-align: top;\n",
       "    }\n",
       "\n",
       "    .dataframe thead th {\n",
       "        text-align: right;\n",
       "    }\n",
       "</style>\n",
       "<table border=\"1\" class=\"dataframe\">\n",
       "  <thead>\n",
       "    <tr style=\"text-align: right;\">\n",
       "      <th></th>\n",
       "      <th>count_mes</th>\n",
       "      <th>gb</th>\n",
       "      <th>sum_сall</th>\n",
       "    </tr>\n",
       "    <tr>\n",
       "      <th>tariff</th>\n",
       "      <th></th>\n",
       "      <th></th>\n",
       "      <th></th>\n",
       "    </tr>\n",
       "  </thead>\n",
       "  <tbody>\n",
       "    <tr>\n",
       "      <td>smart</td>\n",
       "      <td>796.812958</td>\n",
       "      <td>33.028705</td>\n",
       "      <td>35844.189551</td>\n",
       "    </tr>\n",
       "    <tr>\n",
       "      <td>ultra</td>\n",
       "      <td>2285.266143</td>\n",
       "      <td>97.091686</td>\n",
       "      <td>94203.418396</td>\n",
       "    </tr>\n",
       "  </tbody>\n",
       "</table>\n",
       "</div>"
      ],
      "text/plain": [
       "          count_mes         gb      sum_сall\n",
       "tariff                                      \n",
       "smart    796.812958  33.028705  35844.189551\n",
       "ultra   2285.266143  97.091686  94203.418396"
      ]
     },
     "metadata": {},
     "output_type": "display_data"
    }
   ],
   "source": [
    "#Дисперсия\n",
    "display(df_s.pivot_table(index='tariff', values=['sum_сall','count_mes','gb'],aggfunc='var'))"
   ]
  },
  {
   "cell_type": "markdown",
   "metadata": {},
   "source": [
    "<b> По дисперсии</b> можем сделать вывод о том, что в тарифе \"ultra\" разброс значений значительно (в 3 раза) выше в сравнении с тарифом \"smart\""
   ]
  },
  {
   "cell_type": "code",
   "execution_count": 23,
   "metadata": {},
   "outputs": [
    {
     "data": {
      "text/html": [
       "<div>\n",
       "<style scoped>\n",
       "    .dataframe tbody tr th:only-of-type {\n",
       "        vertical-align: middle;\n",
       "    }\n",
       "\n",
       "    .dataframe tbody tr th {\n",
       "        vertical-align: top;\n",
       "    }\n",
       "\n",
       "    .dataframe thead th {\n",
       "        text-align: right;\n",
       "    }\n",
       "</style>\n",
       "<table border=\"1\" class=\"dataframe\">\n",
       "  <thead>\n",
       "    <tr style=\"text-align: right;\">\n",
       "      <th></th>\n",
       "      <th>count_mes</th>\n",
       "      <th>gb</th>\n",
       "      <th>sum_сall</th>\n",
       "    </tr>\n",
       "    <tr>\n",
       "      <th>tariff</th>\n",
       "      <th></th>\n",
       "      <th></th>\n",
       "      <th></th>\n",
       "    </tr>\n",
       "  </thead>\n",
       "  <tbody>\n",
       "    <tr>\n",
       "      <td>smart</td>\n",
       "      <td>28.227876</td>\n",
       "      <td>5.747061</td>\n",
       "      <td>189.325618</td>\n",
       "    </tr>\n",
       "    <tr>\n",
       "      <td>ultra</td>\n",
       "      <td>47.804457</td>\n",
       "      <td>9.853511</td>\n",
       "      <td>306.925754</td>\n",
       "    </tr>\n",
       "  </tbody>\n",
       "</table>\n",
       "</div>"
      ],
      "text/plain": [
       "        count_mes        gb    sum_сall\n",
       "tariff                                 \n",
       "smart   28.227876  5.747061  189.325618\n",
       "ultra   47.804457  9.853511  306.925754"
      ]
     },
     "metadata": {},
     "output_type": "display_data"
    }
   ],
   "source": [
    "#Стандартное отклонение\n",
    "display(df_s.pivot_table(index='tariff', values=['sum_сall','count_mes','gb'],aggfunc='std'))"
   ]
  },
  {
   "cell_type": "markdown",
   "metadata": {},
   "source": [
    "<b> По стандартному отклонению</b> можем понять, что в тарифе \"ultra\" отклонение выше, чем в тарифе \"smart\""
   ]
  },
  {
   "cell_type": "code",
   "execution_count": 25,
   "metadata": {},
   "outputs": [
    {
     "data": {
      "image/png": "[encoded data removed]",
      "text/plain": [
       "<Figure size 720x432 with 1 Axes>"
      ]
     },
     "metadata": {
      "needs_background": "light"
     },
     "output_type": "display_data"
    }
   ],
   "source": [
    "plt.figure(figsize=(10, 6))\n",
    "df_s['sum_сall'][df_s['tariff'] == 'smart'].plot(kind='hist', alpha=0.5, bins=30)\n",
    "df_s['sum_сall'][df_s['tariff'] == 'ultra'].plot(kind='hist', alpha=0.5, bins=30)\n",
    "plt.title('Гистограмма распределения продолжительности звонков по 2-м тарифам'+ \"\\n\")\n",
    "plt.xlabel('Минуты')\n",
    "plt.ylabel('Частотность')\n",
    "plt.legend(['smart', 'ultra'])\n",
    "\n",
    "plt.show()"
   ]
  },
  {
   "cell_type": "code",
   "execution_count": 26,
   "metadata": {},
   "outputs": [
    {
     "data": {
      "image/png": "[encoded data removed]",
      "text/plain": [
       "<Figure size 720x432 with 1 Axes>"
      ]
     },
     "metadata": {
      "needs_background": "light"
     },
     "output_type": "display_data"
    }
   ],
   "source": [
    "plt.figure(figsize=(10, 6))\n",
    "df_s['count_mes'][df_s['tariff'] == 'smart'].plot(kind='hist', alpha=0.5, bins=30,range=(1, 150))\n",
    "df_s['count_mes'][df_s['tariff'] == 'ultra'].plot(kind='hist', alpha=0.5, bins=30,range=(1, 150))\n",
    "plt.title('Гистограмма распределения количества сообщений по 2-м тарифам'+ \"\\n\")\n",
    "plt.xlabel('Количество')\n",
    "plt.ylabel('Частотность')\n",
    "plt.legend(['smart', 'ultra'])\n",
    "\n",
    "plt.show()"
   ]
  },
  {
   "cell_type": "code",
   "execution_count": 27,
   "metadata": {},
   "outputs": [
    {
     "data": {
      "image/png": "[encoded data removed]",
      "text/plain": [
       "<Figure size 720x432 with 1 Axes>"
      ]
     },
     "metadata": {
      "needs_background": "light"
     },
     "output_type": "display_data"
    }
   ],
   "source": [
    "plt.figure(figsize=(10, 6))\n",
    "df_s['gb'][df_s['tariff'] == 'smart'].plot(kind='hist', alpha=0.5, bins=30)\n",
    "df_s['gb'][df_s['tariff'] == 'ultra'].plot(kind='hist', alpha=0.5, bins=30)\n",
    "plt.title('Гистограмма распределения израсходованного трафика по 2-м тарифам'+ \"\\n\")\n",
    "plt.xlabel('Гб')\n",
    "plt.ylabel('Частотность')\n",
    "plt.legend(['smart', 'ultra'])\n",
    "\n",
    "plt.show()"
   ]
  },
  {
   "cell_type": "markdown",
   "metadata": {},
   "source": [
    "<b>На основании гистограмм </b> выводы статистического анализа подтверждаются.\n",
    "Также стоит отметить следующие особенности:\n",
    " - максимальные пиковые показатели использования услуг приходятся на тариф \"smart\";\n",
    " - в тарифе \"ultra\" наблюдаются более равномерные показатели по всем услугам связи во всем диапазоне значений;\n",
    " - закономерно, что средние показатели по тарифам выше в тарифе \"ultra\";\n",
    " - распределения в тарифах по количеству минут и мегабайт - нормальное, по количеству сообщений - распределение Пуассона."
   ]
  },
  {
   "cell_type": "markdown",
   "metadata": {},
   "source": [
    "## Проверка гипотез"
   ]
  },
  {
   "cell_type": "markdown",
   "metadata": {},
   "source": [
    "### Средняя выручка пользователей тарифов «Ультра» и «Смарт» различаются"
   ]
  },
  {
   "cell_type": "markdown",
   "metadata": {},
   "source": [
    "Для проверки гипотезы создадим две соответствующие выборки mos и oth.\n",
    "\n",
    "Критический уровень значимости поставим 0.05, чтобы вероятность вывода была не мение 95%."
   ]
  },
  {
   "cell_type": "code",
   "execution_count": 28,
   "metadata": {},
   "outputs": [
    {
     "name": "stdout",
     "output_type": "stream",
     "text": [
      "P-value: 4.260631393082884e-250\n",
      "Отвергаем нулевую гипотезу\n"
     ]
    }
   ],
   "source": [
    "#создадим две выборки для тарифа «Ультра» и «Смарт»\n",
    "ultra = df_s[df_s['tariff'] == 'ultra']\n",
    "smart = df_s[df_s['tariff'] == 'smart']\n",
    "\n",
    "alpha = 0.05\n",
    "results = st.ttest_ind(ultra['cost'], smart['cost'], equal_var = False)\n",
    "print('P-value:', results.pvalue)\n",
    "\n",
    "if (results.pvalue < alpha):\n",
    "    print(\"Отвергаем нулевую гипотезу\")\n",
    "else:\n",
    "    print(\"Не получилось отвергнуть нулевую гипотезу\")"
   ]
  },
  {
   "cell_type": "markdown",
   "metadata": {},
   "source": [
    "<b>Нулевой гипотезой была гипотеза о равенстве средних наших выборок. </b>\n",
    "\n",
    "Очень маленькое p-value свидетельствует о том, что вероятность случайного совпадения средних наших выборок ничтожно мало. <b>Нулевая гипотеза отвергается!</b>\n",
    "\n",
    "А значит сформулированная нами альтернативная гипотеза о том, что средние наших выборок отличаются, не отвергается!"
   ]
  },
  {
   "cell_type": "markdown",
   "metadata": {},
   "source": [
    "### Средняя выручка пользователей из Москвы отличается от выручки пользователей из других регионов"
   ]
  },
  {
   "cell_type": "markdown",
   "metadata": {},
   "source": [
    "Для проверки гипотезы создадим две соответствующие выборки mos и oth.\n",
    "\n",
    "Критический уровень значимости поставим 0.05, чтобы вероятность вывода была не мение 95%."
   ]
  },
  {
   "cell_type": "code",
   "execution_count": 29,
   "metadata": {},
   "outputs": [
    {
     "name": "stdout",
     "output_type": "stream",
     "text": [
      "P-value: 0.5257376663729292\n",
      "Не получилось отвергнуть нулевую гипотезу\n"
     ]
    }
   ],
   "source": [
    "#создадим две выборки для Москвы и остальных городов\n",
    "mos = df_s[df_s['city'] == 'Москва']\n",
    "oth = df_s[df_s['city'] != 'Москва']\n",
    "\n",
    "alpha = 0.05\n",
    "results = st.ttest_ind(mos['cost'], oth['cost'], equal_var = False)\n",
    "print('P-value:', results.pvalue)\n",
    "\n",
    "if (results.pvalue < alpha):\n",
    "    print(\"Отвергаем нулевую гипотезу\")\n",
    "else:\n",
    "    print(\"Не получилось отвергнуть нулевую гипотезу\")"
   ]
  },
  {
   "cell_type": "markdown",
   "metadata": {},
   "source": [
    "<b>Вывод:</b>\n",
    "\n",
    "Соотношение в двух наших таблицах клиентов с разными тарифами примерно одинаковое, поэтому нам не пришлось создавать 4 таблицы.\n",
    "\n",
    "p-value равно 0.526, следовательно есть большая вероятность того, что отличие средних значений наших выборок случайно и мы не можем отвергнуть нулевую гипотезу, которая говорит нам о равенстве средних значений.\n",
    "\n",
    "Значит, нашу альтернативную гипотезу о различии средних мы отвергаем!"
   ]
  },
  {
   "cell_type": "markdown",
   "metadata": {},
   "source": [
    "# Общий вывод"
   ]
  },
  {
   "cell_type": "markdown",
   "metadata": {},
   "source": [
    "Из предоставленных нам таблиц получены все необходимые значения израсходованных минут, мегабайт и сообщений, а также прибыль по каждому месяцу.\n",
    "\n",
    "Из полученных значений можно сделать следующие выводы:\n",
    " - прибыльность по тарифам отличается - в среднем пользователи тарифа Смарт тратят на услуги связи около 1200р (что у 2 раза превышает стоимость базового тарифа) при этом в тарифе Ультра прослеживается небольшое количество дополнительно оплаченных услуг, что говорит о средней достаточности входящих в пакет объёмов; \n",
    " - в обоих тарифах средние значения использованных услуг отличаются не значительно;\n",
    " - по минутам в целом средние показатели схожи, с поправкой на то, что в тарифе смарт, многие пользователи расходуют минуты оплачивая их сверх включенных в пакет;\n",
    " - по сообщениям видно, что бОльшая часть пользователей не пользуется в полным объемом предоставленных пакетных сообщений и при этом количество сообщений по обоим тарифам незначительно;\n",
    " - по интернет услугам прослеживается значительная нехватка пакетных Гб пользователям тарифа Смарт, что приводит к расходам на покупку дополнительных услуг сверх пакета.\n",
    "\n",
    "Также было проведедена проверка гипотиз и получены выводы о том, что с большей вероятностью выручка от тарифов различается и вероятно, что пользователи Москвы не значительно отличаются от пользователей из других регионов по предпочтениям использования услуг."
   ]
  }
 ],
 "metadata": {
  "ExecuteTimeLog": [
   {
    "duration": 516,
    "start_time": "2022-01-13T12:11:40.150Z"
   },
   {
    "duration": 22,
    "start_time": "2022-01-13T12:12:59.134Z"
   },
   {
    "duration": 39,
    "start_time": "2022-01-13T12:13:16.953Z"
   },
   {
    "duration": 137,
    "start_time": "2022-01-13T12:15:05.040Z"
   },
   {
    "duration": 126,
    "start_time": "2022-01-13T12:15:16.660Z"
   },
   {
    "duration": 524,
    "start_time": "2022-01-13T12:15:27.183Z"
   },
   {
    "duration": 38,
    "start_time": "2022-01-13T12:15:28.969Z"
   },
   {
    "duration": 132,
    "start_time": "2022-01-13T12:15:32.962Z"
   },
   {
    "duration": 81,
    "start_time": "2022-01-13T12:17:11.732Z"
   },
   {
    "duration": 119,
    "start_time": "2022-01-13T12:18:25.668Z"
   },
   {
    "duration": 17,
    "start_time": "2022-01-13T12:20:32.926Z"
   },
   {
    "duration": 89,
    "start_time": "2022-01-13T12:23:46.781Z"
   },
   {
    "duration": 26,
    "start_time": "2022-01-13T12:33:23.788Z"
   },
   {
    "duration": 31,
    "start_time": "2022-01-13T12:34:27.004Z"
   },
   {
    "duration": 306,
    "start_time": "2022-01-13T12:43:06.295Z"
   },
   {
    "duration": 33,
    "start_time": "2022-01-13T12:43:13.431Z"
   },
   {
    "duration": 33,
    "start_time": "2022-01-13T12:43:22.297Z"
   },
   {
    "duration": 34,
    "start_time": "2022-01-13T12:44:13.807Z"
   },
   {
    "duration": 33,
    "start_time": "2022-01-13T12:44:36.603Z"
   },
   {
    "duration": 17,
    "start_time": "2022-01-13T12:46:05.486Z"
   },
   {
    "duration": 30,
    "start_time": "2022-01-13T12:46:25.562Z"
   },
   {
    "duration": 31,
    "start_time": "2022-01-13T12:47:15.994Z"
   },
   {
    "duration": 495,
    "start_time": "2022-01-13T13:36:28.768Z"
   },
   {
    "duration": 61,
    "start_time": "2022-01-13T13:36:30.844Z"
   },
   {
    "duration": 158,
    "start_time": "2022-01-13T13:36:36.026Z"
   },
   {
    "duration": 193,
    "start_time": "2022-01-13T13:37:38.095Z"
   },
   {
    "duration": 161,
    "start_time": "2022-01-13T13:37:51.136Z"
   },
   {
    "duration": 150,
    "start_time": "2022-01-13T13:38:21.446Z"
   },
   {
    "duration": 174,
    "start_time": "2022-01-13T13:38:38.479Z"
   },
   {
    "duration": 168,
    "start_time": "2022-01-13T13:38:55.482Z"
   },
   {
    "duration": 94,
    "start_time": "2022-01-13T13:39:48.613Z"
   },
   {
    "duration": 96,
    "start_time": "2022-01-13T13:40:19.986Z"
   },
   {
    "duration": 126,
    "start_time": "2022-01-13T13:43:42.765Z"
   },
   {
    "duration": 155,
    "start_time": "2022-01-13T13:44:15.288Z"
   },
   {
    "duration": 6608,
    "start_time": "2022-01-13T13:44:27.419Z"
   },
   {
    "duration": 127,
    "start_time": "2022-01-13T13:44:37.805Z"
   },
   {
    "duration": 164,
    "start_time": "2022-01-13T13:44:55.561Z"
   },
   {
    "duration": 127,
    "start_time": "2022-01-13T13:51:41.541Z"
   },
   {
    "duration": 22,
    "start_time": "2022-01-13T13:53:51.891Z"
   },
   {
    "duration": 15,
    "start_time": "2022-01-13T15:41:19.922Z"
   },
   {
    "duration": 16,
    "start_time": "2022-01-13T15:41:55.146Z"
   },
   {
    "duration": 40,
    "start_time": "2022-01-13T17:19:39.857Z"
   },
   {
    "duration": 269,
    "start_time": "2022-01-13T17:33:55.560Z"
   },
   {
    "duration": 511,
    "start_time": "2022-01-13T17:34:24.644Z"
   },
   {
    "duration": 39,
    "start_time": "2022-01-13T17:34:25.156Z"
   },
   {
    "duration": 154,
    "start_time": "2022-01-13T17:34:25.197Z"
   },
   {
    "duration": 98,
    "start_time": "2022-01-13T17:34:25.353Z"
   },
   {
    "duration": 144,
    "start_time": "2022-01-13T17:34:25.453Z"
   },
   {
    "duration": 23,
    "start_time": "2022-01-13T17:34:25.599Z"
   },
   {
    "duration": 7,
    "start_time": "2022-01-13T17:34:25.624Z"
   },
   {
    "duration": 2,
    "start_time": "2022-01-13T17:34:25.634Z"
   },
   {
    "duration": 74,
    "start_time": "2022-01-13T17:34:25.638Z"
   },
   {
    "duration": 2,
    "start_time": "2022-01-13T17:39:04.320Z"
   },
   {
    "duration": 530,
    "start_time": "2022-01-13T17:39:16.230Z"
   },
   {
    "duration": 37,
    "start_time": "2022-01-13T17:39:16.762Z"
   },
   {
    "duration": 162,
    "start_time": "2022-01-13T17:39:16.800Z"
   },
   {
    "duration": 96,
    "start_time": "2022-01-13T17:39:16.963Z"
   },
   {
    "duration": 138,
    "start_time": "2022-01-13T17:39:17.061Z"
   },
   {
    "duration": 20,
    "start_time": "2022-01-13T17:39:17.201Z"
   },
   {
    "duration": 8,
    "start_time": "2022-01-13T17:39:17.223Z"
   },
   {
    "duration": 2,
    "start_time": "2022-01-13T17:39:17.233Z"
   },
   {
    "duration": 53,
    "start_time": "2022-01-13T17:39:17.236Z"
   },
   {
    "duration": 22,
    "start_time": "2022-01-13T17:41:47.970Z"
   },
   {
    "duration": 21,
    "start_time": "2022-01-13T17:42:36.591Z"
   },
   {
    "duration": 6,
    "start_time": "2022-01-13T17:49:33.934Z"
   },
   {
    "duration": 12,
    "start_time": "2022-01-13T17:59:33.652Z"
   },
   {
    "duration": 13,
    "start_time": "2022-01-13T17:59:55.984Z"
   },
   {
    "duration": 12,
    "start_time": "2022-01-13T18:00:15.868Z"
   },
   {
    "duration": 289,
    "start_time": "2022-01-13T18:02:48.244Z"
   },
   {
    "duration": 527,
    "start_time": "2022-01-13T18:03:03.121Z"
   },
   {
    "duration": 37,
    "start_time": "2022-01-13T18:03:03.650Z"
   },
   {
    "duration": 150,
    "start_time": "2022-01-13T18:03:03.689Z"
   },
   {
    "duration": 91,
    "start_time": "2022-01-13T18:03:03.841Z"
   },
   {
    "duration": 134,
    "start_time": "2022-01-13T18:03:03.934Z"
   },
   {
    "duration": 21,
    "start_time": "2022-01-13T18:03:04.070Z"
   },
   {
    "duration": 20,
    "start_time": "2022-01-13T18:03:04.092Z"
   },
   {
    "duration": 8,
    "start_time": "2022-01-13T18:03:04.114Z"
   },
   {
    "duration": 5640,
    "start_time": "2022-01-13T18:03:04.124Z"
   },
   {
    "duration": -1475,
    "start_time": "2022-01-13T18:03:11.241Z"
   },
   {
    "duration": 26,
    "start_time": "2022-01-13T18:03:42.995Z"
   },
   {
    "duration": 47,
    "start_time": "2022-01-13T18:03:56.027Z"
   },
   {
    "duration": 28,
    "start_time": "2022-01-13T18:04:04.903Z"
   },
   {
    "duration": 12,
    "start_time": "2022-01-13T18:04:15.178Z"
   },
   {
    "duration": 19,
    "start_time": "2022-01-13T18:04:17.433Z"
   },
   {
    "duration": 498,
    "start_time": "2022-01-13T18:04:38.175Z"
   },
   {
    "duration": 37,
    "start_time": "2022-01-13T18:04:38.675Z"
   },
   {
    "duration": 151,
    "start_time": "2022-01-13T18:04:38.714Z"
   },
   {
    "duration": 90,
    "start_time": "2022-01-13T18:04:38.866Z"
   },
   {
    "duration": 136,
    "start_time": "2022-01-13T18:04:38.957Z"
   },
   {
    "duration": 22,
    "start_time": "2022-01-13T18:04:39.095Z"
   },
   {
    "duration": 6,
    "start_time": "2022-01-13T18:04:39.118Z"
   },
   {
    "duration": 7,
    "start_time": "2022-01-13T18:04:39.126Z"
   },
   {
    "duration": 23,
    "start_time": "2022-01-13T18:04:39.134Z"
   },
   {
    "duration": 71,
    "start_time": "2022-01-13T18:04:39.158Z"
   },
   {
    "duration": 29,
    "start_time": "2022-01-13T18:04:45.851Z"
   },
   {
    "duration": 44,
    "start_time": "2022-01-13T18:05:16.814Z"
   },
   {
    "duration": 14,
    "start_time": "2022-01-13T18:27:08.012Z"
   },
   {
    "duration": 314,
    "start_time": "2022-01-13T18:44:52.687Z"
   },
   {
    "duration": 523,
    "start_time": "2022-01-13T18:45:10.844Z"
   },
   {
    "duration": 38,
    "start_time": "2022-01-13T18:45:11.369Z"
   },
   {
    "duration": 159,
    "start_time": "2022-01-13T18:45:11.409Z"
   },
   {
    "duration": 95,
    "start_time": "2022-01-13T18:45:11.570Z"
   },
   {
    "duration": 134,
    "start_time": "2022-01-13T18:45:11.667Z"
   },
   {
    "duration": 30,
    "start_time": "2022-01-13T18:45:11.803Z"
   },
   {
    "duration": 65,
    "start_time": "2022-01-13T18:45:11.834Z"
   },
   {
    "duration": 15,
    "start_time": "2022-01-13T18:45:11.901Z"
   },
   {
    "duration": 36,
    "start_time": "2022-01-13T18:45:11.918Z"
   },
   {
    "duration": 299,
    "start_time": "2022-01-13T18:52:09.627Z"
   },
   {
    "duration": 622,
    "start_time": "2022-01-14T07:19:15.086Z"
   },
   {
    "duration": 93,
    "start_time": "2022-01-14T07:19:15.710Z"
   },
   {
    "duration": 180,
    "start_time": "2022-01-14T07:19:15.805Z"
   },
   {
    "duration": 112,
    "start_time": "2022-01-14T07:19:15.987Z"
   },
   {
    "duration": 164,
    "start_time": "2022-01-14T07:19:16.101Z"
   },
   {
    "duration": 31,
    "start_time": "2022-01-14T07:19:16.267Z"
   },
   {
    "duration": 82,
    "start_time": "2022-01-14T07:19:16.300Z"
   },
   {
    "duration": 9,
    "start_time": "2022-01-14T07:19:16.398Z"
   },
   {
    "duration": 8,
    "start_time": "2022-01-14T07:19:16.409Z"
   },
   {
    "duration": 81,
    "start_time": "2022-01-14T07:19:16.419Z"
   },
   {
    "duration": 292,
    "start_time": "2022-01-14T07:36:40.092Z"
   },
   {
    "duration": 603,
    "start_time": "2022-01-14T07:37:06.313Z"
   },
   {
    "duration": 94,
    "start_time": "2022-01-14T07:37:06.918Z"
   },
   {
    "duration": 216,
    "start_time": "2022-01-14T07:37:07.014Z"
   },
   {
    "duration": 116,
    "start_time": "2022-01-14T07:37:07.232Z"
   },
   {
    "duration": 170,
    "start_time": "2022-01-14T07:37:07.349Z"
   },
   {
    "duration": 26,
    "start_time": "2022-01-14T07:37:07.521Z"
   },
   {
    "duration": 89,
    "start_time": "2022-01-14T07:37:07.548Z"
   },
   {
    "duration": 8,
    "start_time": "2022-01-14T07:37:07.639Z"
   },
   {
    "duration": 15,
    "start_time": "2022-01-14T07:37:07.649Z"
   },
   {
    "duration": 40,
    "start_time": "2022-01-14T07:37:07.666Z"
   },
   {
    "duration": 5747,
    "start_time": "2022-01-14T07:37:07.708Z"
   },
   {
    "duration": 34,
    "start_time": "2022-01-14T07:37:29.812Z"
   },
   {
    "duration": 5316,
    "start_time": "2022-01-14T07:37:46.323Z"
   },
   {
    "duration": 37,
    "start_time": "2022-01-14T07:38:39.512Z"
   },
   {
    "duration": 5354,
    "start_time": "2022-01-14T07:38:59.647Z"
   },
   {
    "duration": 47,
    "start_time": "2022-01-14T07:39:54.194Z"
   },
   {
    "duration": 34,
    "start_time": "2022-01-14T07:40:53.087Z"
   },
   {
    "duration": 11,
    "start_time": "2022-01-14T07:42:00.417Z"
   },
   {
    "duration": 228,
    "start_time": "2022-01-14T07:42:15.182Z"
   },
   {
    "duration": 590,
    "start_time": "2022-01-14T07:42:28.037Z"
   },
   {
    "duration": 87,
    "start_time": "2022-01-14T07:42:28.629Z"
   },
   {
    "duration": 187,
    "start_time": "2022-01-14T07:42:28.718Z"
   },
   {
    "duration": 110,
    "start_time": "2022-01-14T07:42:28.907Z"
   },
   {
    "duration": 163,
    "start_time": "2022-01-14T07:42:29.019Z"
   },
   {
    "duration": 28,
    "start_time": "2022-01-14T07:42:29.184Z"
   },
   {
    "duration": 98,
    "start_time": "2022-01-14T07:42:29.214Z"
   },
   {
    "duration": 9,
    "start_time": "2022-01-14T07:42:29.315Z"
   },
   {
    "duration": 9,
    "start_time": "2022-01-14T07:42:29.327Z"
   },
   {
    "duration": 28,
    "start_time": "2022-01-14T07:42:29.338Z"
   },
   {
    "duration": 56,
    "start_time": "2022-01-14T07:42:29.368Z"
   },
   {
    "duration": 11,
    "start_time": "2022-01-14T07:42:29.426Z"
   },
   {
    "duration": 446,
    "start_time": "2022-01-14T07:57:30.409Z"
   },
   {
    "duration": 651,
    "start_time": "2022-01-14T07:57:45.818Z"
   },
   {
    "duration": 85,
    "start_time": "2022-01-14T07:57:46.473Z"
   },
   {
    "duration": 191,
    "start_time": "2022-01-14T07:57:46.560Z"
   },
   {
    "duration": 117,
    "start_time": "2022-01-14T07:57:46.753Z"
   },
   {
    "duration": 177,
    "start_time": "2022-01-14T07:57:46.872Z"
   },
   {
    "duration": 27,
    "start_time": "2022-01-14T07:57:47.052Z"
   },
   {
    "duration": 94,
    "start_time": "2022-01-14T07:57:47.081Z"
   },
   {
    "duration": 21,
    "start_time": "2022-01-14T07:57:47.178Z"
   },
   {
    "duration": 9,
    "start_time": "2022-01-14T07:57:47.201Z"
   },
   {
    "duration": 29,
    "start_time": "2022-01-14T07:57:47.212Z"
   },
   {
    "duration": 34,
    "start_time": "2022-01-14T07:57:47.243Z"
   },
   {
    "duration": 24,
    "start_time": "2022-01-14T07:57:47.278Z"
   },
   {
    "duration": 284,
    "start_time": "2022-01-14T07:59:53.438Z"
   },
   {
    "duration": 611,
    "start_time": "2022-01-14T08:00:34.911Z"
   },
   {
    "duration": 63,
    "start_time": "2022-01-14T08:00:35.524Z"
   },
   {
    "duration": 189,
    "start_time": "2022-01-14T08:00:35.590Z"
   },
   {
    "duration": 111,
    "start_time": "2022-01-14T08:00:35.781Z"
   },
   {
    "duration": 164,
    "start_time": "2022-01-14T08:00:35.894Z"
   },
   {
    "duration": 28,
    "start_time": "2022-01-14T08:00:36.059Z"
   },
   {
    "duration": 85,
    "start_time": "2022-01-14T08:00:36.089Z"
   },
   {
    "duration": 22,
    "start_time": "2022-01-14T08:00:36.176Z"
   },
   {
    "duration": 9,
    "start_time": "2022-01-14T08:00:36.200Z"
   },
   {
    "duration": 23,
    "start_time": "2022-01-14T08:00:36.211Z"
   },
   {
    "duration": 33,
    "start_time": "2022-01-14T08:00:36.236Z"
   },
   {
    "duration": 29,
    "start_time": "2022-01-14T08:00:36.270Z"
   },
   {
    "duration": 302,
    "start_time": "2022-01-14T08:03:43.550Z"
   },
   {
    "duration": 16,
    "start_time": "2022-01-14T08:03:46.721Z"
   },
   {
    "duration": 635,
    "start_time": "2022-01-14T08:05:39.088Z"
   },
   {
    "duration": 75,
    "start_time": "2022-01-14T08:05:39.725Z"
   },
   {
    "duration": 187,
    "start_time": "2022-01-14T08:05:39.802Z"
   },
   {
    "duration": 111,
    "start_time": "2022-01-14T08:05:39.999Z"
   },
   {
    "duration": 167,
    "start_time": "2022-01-14T08:05:40.112Z"
   },
   {
    "duration": 25,
    "start_time": "2022-01-14T08:05:40.281Z"
   },
   {
    "duration": 97,
    "start_time": "2022-01-14T08:05:40.308Z"
   },
   {
    "duration": 9,
    "start_time": "2022-01-14T08:05:40.407Z"
   },
   {
    "duration": 9,
    "start_time": "2022-01-14T08:05:40.420Z"
   },
   {
    "duration": 19,
    "start_time": "2022-01-14T08:05:40.431Z"
   },
   {
    "duration": 278,
    "start_time": "2022-01-14T08:05:40.452Z"
   },
   {
    "duration": -758,
    "start_time": "2022-01-14T08:05:41.490Z"
   },
   {
    "duration": -760,
    "start_time": "2022-01-14T08:05:41.494Z"
   },
   {
    "duration": -763,
    "start_time": "2022-01-14T08:05:41.498Z"
   },
   {
    "duration": 19,
    "start_time": "2022-01-14T08:10:40.787Z"
   },
   {
    "duration": 33,
    "start_time": "2022-01-14T08:10:41.747Z"
   },
   {
    "duration": 12,
    "start_time": "2022-01-14T08:10:42.328Z"
   },
   {
    "duration": 25,
    "start_time": "2022-01-14T08:13:10.437Z"
   },
   {
    "duration": 26,
    "start_time": "2022-01-14T08:13:58.288Z"
   },
   {
    "duration": 155,
    "start_time": "2022-01-14T08:15:29.308Z"
   },
   {
    "duration": 150,
    "start_time": "2022-01-14T08:15:51.027Z"
   },
   {
    "duration": 25,
    "start_time": "2022-01-14T08:16:02.998Z"
   },
   {
    "duration": 237,
    "start_time": "2022-01-14T08:16:14.628Z"
   },
   {
    "duration": -778,
    "start_time": "2022-01-14T08:18:40.504Z"
   },
   {
    "duration": -783,
    "start_time": "2022-01-14T08:18:40.510Z"
   },
   {
    "duration": -787,
    "start_time": "2022-01-14T08:18:40.515Z"
   },
   {
    "duration": -790,
    "start_time": "2022-01-14T08:18:40.519Z"
   },
   {
    "duration": -794,
    "start_time": "2022-01-14T08:18:40.523Z"
   },
   {
    "duration": -796,
    "start_time": "2022-01-14T08:18:40.526Z"
   },
   {
    "duration": -806,
    "start_time": "2022-01-14T08:18:40.537Z"
   },
   {
    "duration": -809,
    "start_time": "2022-01-14T08:18:40.541Z"
   },
   {
    "duration": -811,
    "start_time": "2022-01-14T08:18:40.544Z"
   },
   {
    "duration": -813,
    "start_time": "2022-01-14T08:18:40.547Z"
   },
   {
    "duration": -901,
    "start_time": "2022-01-14T08:18:40.636Z"
   },
   {
    "duration": -934,
    "start_time": "2022-01-14T08:18:40.670Z"
   },
   {
    "duration": -937,
    "start_time": "2022-01-14T08:18:40.674Z"
   },
   {
    "duration": -938,
    "start_time": "2022-01-14T08:18:40.676Z"
   },
   {
    "duration": 2,
    "start_time": "2022-01-14T08:20:04.125Z"
   },
   {
    "duration": 52,
    "start_time": "2022-01-14T08:20:04.145Z"
   },
   {
    "duration": 189,
    "start_time": "2022-01-14T08:20:04.199Z"
   },
   {
    "duration": 118,
    "start_time": "2022-01-14T08:20:04.390Z"
   },
   {
    "duration": 158,
    "start_time": "2022-01-14T08:20:04.510Z"
   },
   {
    "duration": 32,
    "start_time": "2022-01-14T08:20:04.670Z"
   },
   {
    "duration": 69,
    "start_time": "2022-01-14T08:20:04.704Z"
   },
   {
    "duration": 23,
    "start_time": "2022-01-14T08:20:04.775Z"
   },
   {
    "duration": 9,
    "start_time": "2022-01-14T08:20:04.801Z"
   },
   {
    "duration": 20,
    "start_time": "2022-01-14T08:20:04.812Z"
   },
   {
    "duration": 1028,
    "start_time": "2022-01-14T08:20:04.834Z"
   },
   {
    "duration": -781,
    "start_time": "2022-01-14T08:20:06.645Z"
   },
   {
    "duration": -1134,
    "start_time": "2022-01-14T08:20:06.999Z"
   },
   {
    "duration": -1138,
    "start_time": "2022-01-14T08:20:07.004Z"
   },
   {
    "duration": 625,
    "start_time": "2022-01-14T08:23:43.198Z"
   },
   {
    "duration": 101,
    "start_time": "2022-01-14T08:23:43.826Z"
   },
   {
    "duration": 191,
    "start_time": "2022-01-14T08:23:43.930Z"
   },
   {
    "duration": 117,
    "start_time": "2022-01-14T08:23:44.123Z"
   },
   {
    "duration": 162,
    "start_time": "2022-01-14T08:23:44.242Z"
   },
   {
    "duration": 25,
    "start_time": "2022-01-14T08:23:44.406Z"
   },
   {
    "duration": 94,
    "start_time": "2022-01-14T08:23:44.432Z"
   },
   {
    "duration": 9,
    "start_time": "2022-01-14T08:23:44.528Z"
   },
   {
    "duration": 9,
    "start_time": "2022-01-14T08:23:44.539Z"
   },
   {
    "duration": 19,
    "start_time": "2022-01-14T08:23:44.549Z"
   },
   {
    "duration": 324,
    "start_time": "2022-01-14T08:23:44.570Z"
   },
   {
    "duration": -796,
    "start_time": "2022-01-14T08:23:45.692Z"
   },
   {
    "duration": -796,
    "start_time": "2022-01-14T08:23:45.694Z"
   },
   {
    "duration": -904,
    "start_time": "2022-01-14T08:23:45.803Z"
   },
   {
    "duration": 594,
    "start_time": "2022-01-14T08:26:05.038Z"
   },
   {
    "duration": 64,
    "start_time": "2022-01-14T08:26:05.634Z"
   },
   {
    "duration": 184,
    "start_time": "2022-01-14T08:26:05.701Z"
   },
   {
    "duration": 121,
    "start_time": "2022-01-14T08:26:05.887Z"
   },
   {
    "duration": 166,
    "start_time": "2022-01-14T08:26:06.009Z"
   },
   {
    "duration": 26,
    "start_time": "2022-01-14T08:26:06.177Z"
   },
   {
    "duration": 82,
    "start_time": "2022-01-14T08:26:06.204Z"
   },
   {
    "duration": 9,
    "start_time": "2022-01-14T08:26:06.298Z"
   },
   {
    "duration": 40,
    "start_time": "2022-01-14T08:26:06.309Z"
   },
   {
    "duration": 294,
    "start_time": "2022-01-14T08:26:06.351Z"
   },
   {
    "duration": -769,
    "start_time": "2022-01-14T08:26:07.415Z"
   },
   {
    "duration": -772,
    "start_time": "2022-01-14T08:26:07.420Z"
   },
   {
    "duration": -777,
    "start_time": "2022-01-14T08:26:07.426Z"
   },
   {
    "duration": -779,
    "start_time": "2022-01-14T08:26:07.429Z"
   },
   {
    "duration": -781,
    "start_time": "2022-01-14T08:26:07.432Z"
   },
   {
    "duration": -784,
    "start_time": "2022-01-14T08:26:07.436Z"
   },
   {
    "duration": 225,
    "start_time": "2022-01-14T08:26:58.719Z"
   },
   {
    "duration": 219,
    "start_time": "2022-01-14T08:27:11.331Z"
   },
   {
    "duration": 223,
    "start_time": "2022-01-14T08:27:21.378Z"
   },
   {
    "duration": 225,
    "start_time": "2022-01-14T08:27:33.228Z"
   },
   {
    "duration": 616,
    "start_time": "2022-01-14T08:27:50.307Z"
   },
   {
    "duration": 53,
    "start_time": "2022-01-14T08:27:50.926Z"
   },
   {
    "duration": 200,
    "start_time": "2022-01-14T08:27:50.981Z"
   },
   {
    "duration": 117,
    "start_time": "2022-01-14T08:27:51.183Z"
   },
   {
    "duration": 166,
    "start_time": "2022-01-14T08:27:51.302Z"
   },
   {
    "duration": 29,
    "start_time": "2022-01-14T08:27:51.469Z"
   },
   {
    "duration": 81,
    "start_time": "2022-01-14T08:27:51.500Z"
   },
   {
    "duration": 296,
    "start_time": "2022-01-14T08:27:51.583Z"
   },
   {
    "duration": -773,
    "start_time": "2022-01-14T08:27:52.654Z"
   },
   {
    "duration": -779,
    "start_time": "2022-01-14T08:27:52.661Z"
   },
   {
    "duration": -782,
    "start_time": "2022-01-14T08:27:52.665Z"
   },
   {
    "duration": -787,
    "start_time": "2022-01-14T08:27:52.671Z"
   },
   {
    "duration": -789,
    "start_time": "2022-01-14T08:27:52.674Z"
   },
   {
    "duration": -791,
    "start_time": "2022-01-14T08:27:52.677Z"
   },
   {
    "duration": -793,
    "start_time": "2022-01-14T08:27:52.680Z"
   },
   {
    "duration": -795,
    "start_time": "2022-01-14T08:27:52.683Z"
   },
   {
    "duration": 13,
    "start_time": "2022-01-14T08:28:36.487Z"
   },
   {
    "duration": 241,
    "start_time": "2022-01-14T08:28:47.507Z"
   },
   {
    "duration": 210,
    "start_time": "2022-01-14T08:28:57.338Z"
   },
   {
    "duration": 591,
    "start_time": "2022-01-14T08:29:33.162Z"
   },
   {
    "duration": 55,
    "start_time": "2022-01-14T08:29:33.756Z"
   },
   {
    "duration": 192,
    "start_time": "2022-01-14T08:29:33.813Z"
   },
   {
    "duration": 116,
    "start_time": "2022-01-14T08:29:34.007Z"
   },
   {
    "duration": 175,
    "start_time": "2022-01-14T08:29:34.124Z"
   },
   {
    "duration": 26,
    "start_time": "2022-01-14T08:29:34.301Z"
   },
   {
    "duration": 95,
    "start_time": "2022-01-14T08:29:34.329Z"
   },
   {
    "duration": 10,
    "start_time": "2022-01-14T08:29:34.427Z"
   },
   {
    "duration": 42,
    "start_time": "2022-01-14T08:29:34.439Z"
   },
   {
    "duration": 278,
    "start_time": "2022-01-14T08:29:34.483Z"
   },
   {
    "duration": -790,
    "start_time": "2022-01-14T08:29:35.553Z"
   },
   {
    "duration": -795,
    "start_time": "2022-01-14T08:29:35.559Z"
   },
   {
    "duration": -798,
    "start_time": "2022-01-14T08:29:35.563Z"
   },
   {
    "duration": -801,
    "start_time": "2022-01-14T08:29:35.567Z"
   },
   {
    "duration": -804,
    "start_time": "2022-01-14T08:29:35.571Z"
   },
   {
    "duration": -806,
    "start_time": "2022-01-14T08:29:35.574Z"
   },
   {
    "duration": 261,
    "start_time": "2022-01-14T08:30:11.303Z"
   },
   {
    "duration": 39,
    "start_time": "2022-01-14T08:30:18.354Z"
   },
   {
    "duration": 218,
    "start_time": "2022-01-14T08:37:58.753Z"
   },
   {
    "duration": 66,
    "start_time": "2022-01-14T08:38:18.563Z"
   },
   {
    "duration": 226,
    "start_time": "2022-01-14T08:39:58.176Z"
   },
   {
    "duration": 568,
    "start_time": "2022-01-14T08:40:10.849Z"
   },
   {
    "duration": 76,
    "start_time": "2022-01-14T08:40:11.419Z"
   },
   {
    "duration": 195,
    "start_time": "2022-01-14T08:40:11.497Z"
   },
   {
    "duration": 119,
    "start_time": "2022-01-14T08:40:11.694Z"
   },
   {
    "duration": 187,
    "start_time": "2022-01-14T08:40:11.815Z"
   },
   {
    "duration": 26,
    "start_time": "2022-01-14T08:40:12.004Z"
   },
   {
    "duration": 99,
    "start_time": "2022-01-14T08:40:12.032Z"
   },
   {
    "duration": 9,
    "start_time": "2022-01-14T08:40:12.133Z"
   },
   {
    "duration": 25,
    "start_time": "2022-01-14T08:40:12.145Z"
   },
   {
    "duration": 90,
    "start_time": "2022-01-14T08:40:12.171Z"
   },
   {
    "duration": 17,
    "start_time": "2022-01-14T08:40:12.263Z"
   },
   {
    "duration": 339,
    "start_time": "2022-01-14T08:40:12.282Z"
   },
   {
    "duration": -768,
    "start_time": "2022-01-14T08:40:13.391Z"
   },
   {
    "duration": -772,
    "start_time": "2022-01-14T08:40:13.396Z"
   },
   {
    "duration": -776,
    "start_time": "2022-01-14T08:40:13.401Z"
   },
   {
    "duration": -779,
    "start_time": "2022-01-14T08:40:13.405Z"
   },
   {
    "duration": 25,
    "start_time": "2022-01-14T08:40:37.329Z"
   },
   {
    "duration": 12,
    "start_time": "2022-01-14T08:40:56.216Z"
   },
   {
    "duration": 21,
    "start_time": "2022-01-14T08:40:56.639Z"
   },
   {
    "duration": 35,
    "start_time": "2022-01-14T08:40:57.029Z"
   },
   {
    "duration": 10,
    "start_time": "2022-01-14T08:40:57.709Z"
   },
   {
    "duration": 9,
    "start_time": "2022-01-14T09:19:19.327Z"
   },
   {
    "duration": 8,
    "start_time": "2022-01-14T09:19:23.726Z"
   },
   {
    "duration": 8,
    "start_time": "2022-01-14T09:19:27.521Z"
   },
   {
    "duration": 12,
    "start_time": "2022-01-14T09:28:38.734Z"
   },
   {
    "duration": 12,
    "start_time": "2022-01-14T09:29:13.635Z"
   },
   {
    "duration": 18,
    "start_time": "2022-01-14T09:29:36.551Z"
   },
   {
    "duration": 18,
    "start_time": "2022-01-14T09:32:01.477Z"
   },
   {
    "duration": 75,
    "start_time": "2022-01-14T09:32:18.731Z"
   },
   {
    "duration": 15,
    "start_time": "2022-01-14T09:32:22.209Z"
   },
   {
    "duration": 6,
    "start_time": "2022-01-14T09:32:38.449Z"
   },
   {
    "duration": 231,
    "start_time": "2022-01-14T09:32:51.918Z"
   },
   {
    "duration": 644,
    "start_time": "2022-01-14T09:33:01.112Z"
   },
   {
    "duration": 76,
    "start_time": "2022-01-14T09:33:01.758Z"
   },
   {
    "duration": 212,
    "start_time": "2022-01-14T09:33:01.837Z"
   },
   {
    "duration": 122,
    "start_time": "2022-01-14T09:33:02.051Z"
   },
   {
    "duration": 181,
    "start_time": "2022-01-14T09:33:02.175Z"
   },
   {
    "duration": 28,
    "start_time": "2022-01-14T09:33:02.358Z"
   },
   {
    "duration": 99,
    "start_time": "2022-01-14T09:33:02.388Z"
   },
   {
    "duration": 15,
    "start_time": "2022-01-14T09:33:02.489Z"
   },
   {
    "duration": 52,
    "start_time": "2022-01-14T09:33:02.507Z"
   },
   {
    "duration": 77,
    "start_time": "2022-01-14T09:33:02.562Z"
   },
   {
    "duration": 16,
    "start_time": "2022-01-14T09:33:02.641Z"
   },
   {
    "duration": 27,
    "start_time": "2022-01-14T09:33:02.659Z"
   },
   {
    "duration": 11,
    "start_time": "2022-01-14T09:33:02.688Z"
   },
   {
    "duration": 23,
    "start_time": "2022-01-14T09:33:02.701Z"
   },
   {
    "duration": 33,
    "start_time": "2022-01-14T09:33:02.726Z"
   },
   {
    "duration": 11,
    "start_time": "2022-01-14T09:33:02.761Z"
   },
   {
    "duration": 24,
    "start_time": "2022-01-14T09:33:02.774Z"
   },
   {
    "duration": 8,
    "start_time": "2022-01-14T09:33:02.800Z"
   },
   {
    "duration": 29,
    "start_time": "2022-01-14T09:33:02.810Z"
   },
   {
    "duration": 16,
    "start_time": "2022-01-14T09:35:00.621Z"
   },
   {
    "duration": 16,
    "start_time": "2022-01-14T09:36:02.645Z"
   },
   {
    "duration": 318,
    "start_time": "2022-01-14T09:37:00.687Z"
   },
   {
    "duration": 22,
    "start_time": "2022-01-14T09:37:27.403Z"
   },
   {
    "duration": 630,
    "start_time": "2022-01-14T10:03:32.216Z"
   },
   {
    "duration": 84,
    "start_time": "2022-01-14T10:03:32.848Z"
   },
   {
    "duration": 207,
    "start_time": "2022-01-14T10:03:32.935Z"
   },
   {
    "duration": 124,
    "start_time": "2022-01-14T10:03:33.145Z"
   },
   {
    "duration": 178,
    "start_time": "2022-01-14T10:03:33.271Z"
   },
   {
    "duration": 30,
    "start_time": "2022-01-14T10:03:33.451Z"
   },
   {
    "duration": 84,
    "start_time": "2022-01-14T10:03:33.499Z"
   },
   {
    "duration": 14,
    "start_time": "2022-01-14T10:03:33.585Z"
   },
   {
    "duration": 37,
    "start_time": "2022-01-14T10:03:33.602Z"
   },
   {
    "duration": 87,
    "start_time": "2022-01-14T10:03:33.641Z"
   },
   {
    "duration": 17,
    "start_time": "2022-01-14T10:03:33.730Z"
   },
   {
    "duration": 26,
    "start_time": "2022-01-14T10:03:33.749Z"
   },
   {
    "duration": 30,
    "start_time": "2022-01-14T10:03:33.776Z"
   },
   {
    "duration": 23,
    "start_time": "2022-01-14T10:03:33.809Z"
   },
   {
    "duration": 32,
    "start_time": "2022-01-14T10:03:33.834Z"
   },
   {
    "duration": 32,
    "start_time": "2022-01-14T10:03:33.868Z"
   },
   {
    "duration": 24,
    "start_time": "2022-01-14T10:03:33.902Z"
   },
   {
    "duration": 7,
    "start_time": "2022-01-14T10:03:33.928Z"
   },
   {
    "duration": 15,
    "start_time": "2022-01-14T10:03:33.937Z"
   },
   {
    "duration": 32,
    "start_time": "2022-01-14T10:07:38.427Z"
   },
   {
    "duration": 40,
    "start_time": "2022-01-14T10:10:58.217Z"
   },
   {
    "duration": 4615,
    "start_time": "2022-01-14T10:35:22.007Z"
   },
   {
    "duration": 225,
    "start_time": "2022-01-14T10:38:18.661Z"
   },
   {
    "duration": 218,
    "start_time": "2022-01-14T10:38:39.857Z"
   },
   {
    "duration": 12,
    "start_time": "2022-01-14T10:39:23.326Z"
   },
   {
    "duration": 839,
    "start_time": "2022-01-14T10:39:40.711Z"
   },
   {
    "duration": 85,
    "start_time": "2022-01-14T10:40:18.261Z"
   },
   {
    "duration": 887,
    "start_time": "2022-01-14T10:43:40.137Z"
   },
   {
    "duration": 39,
    "start_time": "2022-01-14T10:43:44.862Z"
   },
   {
    "duration": 23,
    "start_time": "2022-01-14T10:44:32.385Z"
   },
   {
    "duration": 32,
    "start_time": "2022-01-14T10:44:41.113Z"
   },
   {
    "duration": 38,
    "start_time": "2022-01-14T10:44:56.026Z"
   },
   {
    "duration": 61,
    "start_time": "2022-01-14T10:48:56.301Z"
   },
   {
    "duration": 79,
    "start_time": "2022-01-14T10:49:12.035Z"
   },
   {
    "duration": 40,
    "start_time": "2022-01-14T10:51:36.198Z"
   },
   {
    "duration": 38,
    "start_time": "2022-01-14T10:52:42.670Z"
   },
   {
    "duration": 46,
    "start_time": "2022-01-14T10:53:52.287Z"
   },
   {
    "duration": 38,
    "start_time": "2022-01-14T10:54:29.636Z"
   },
   {
    "duration": 38,
    "start_time": "2022-01-14T10:54:49.966Z"
   },
   {
    "duration": 81,
    "start_time": "2022-01-14T10:55:05.300Z"
   },
   {
    "duration": 41,
    "start_time": "2022-01-14T10:58:04.946Z"
   },
   {
    "duration": 45,
    "start_time": "2022-01-14T10:58:22.577Z"
   },
   {
    "duration": 44,
    "start_time": "2022-01-14T11:00:40.685Z"
   },
   {
    "duration": 40,
    "start_time": "2022-01-14T11:01:03.858Z"
   },
   {
    "duration": 219,
    "start_time": "2022-01-14T11:02:41.616Z"
   },
   {
    "duration": 8,
    "start_time": "2022-01-14T11:03:16.731Z"
   },
   {
    "duration": 13,
    "start_time": "2022-01-14T11:21:36.117Z"
   },
   {
    "duration": 240,
    "start_time": "2022-01-14T11:23:15.071Z"
   },
   {
    "duration": 1121,
    "start_time": "2022-01-14T11:23:22.281Z"
   },
   {
    "duration": 16,
    "start_time": "2022-01-14T11:24:37.667Z"
   },
   {
    "duration": 5445,
    "start_time": "2022-01-14T11:31:21.512Z"
   },
   {
    "duration": 232,
    "start_time": "2022-01-14T11:32:36.424Z"
   },
   {
    "duration": 236,
    "start_time": "2022-01-14T11:33:33.043Z"
   },
   {
    "duration": 8,
    "start_time": "2022-01-14T11:45:30.205Z"
   },
   {
    "duration": 8,
    "start_time": "2022-01-14T11:45:43.697Z"
   },
   {
    "duration": 888,
    "start_time": "2022-01-14T11:46:04.621Z"
   },
   {
    "duration": 75,
    "start_time": "2022-01-14T11:46:32.997Z"
   },
   {
    "duration": 9,
    "start_time": "2022-01-14T11:46:50.961Z"
   },
   {
    "duration": 71,
    "start_time": "2022-01-14T12:48:44.605Z"
   },
   {
    "duration": 897,
    "start_time": "2022-01-14T14:04:47.370Z"
   },
   {
    "duration": 41,
    "start_time": "2022-01-14T14:05:25.337Z"
   },
   {
    "duration": 36,
    "start_time": "2022-01-14T14:08:24.720Z"
   },
   {
    "duration": 251,
    "start_time": "2022-01-14T14:12:10.048Z"
   },
   {
    "duration": 273,
    "start_time": "2022-01-14T14:14:20.784Z"
   },
   {
    "duration": 8,
    "start_time": "2022-01-14T14:17:16.852Z"
   },
   {
    "duration": 37,
    "start_time": "2022-01-14T14:17:21.603Z"
   },
   {
    "duration": 72,
    "start_time": "2022-01-14T14:21:40.457Z"
   },
   {
    "duration": 38,
    "start_time": "2022-01-14T14:22:00.450Z"
   },
   {
    "duration": 245,
    "start_time": "2022-01-14T14:23:11.636Z"
   },
   {
    "duration": 35,
    "start_time": "2022-01-14T14:28:24.911Z"
   },
   {
    "duration": 39,
    "start_time": "2022-01-14T14:29:05.495Z"
   },
   {
    "duration": 235,
    "start_time": "2022-01-14T16:48:56.984Z"
   },
   {
    "duration": 28,
    "start_time": "2022-01-14T16:49:13.794Z"
   },
   {
    "duration": 496,
    "start_time": "2022-01-18T06:46:48.697Z"
   },
   {
    "duration": 46,
    "start_time": "2022-01-18T06:46:49.195Z"
   },
   {
    "duration": 160,
    "start_time": "2022-01-18T06:46:49.243Z"
   },
   {
    "duration": 104,
    "start_time": "2022-01-18T06:46:49.405Z"
   },
   {
    "duration": 146,
    "start_time": "2022-01-18T06:46:49.511Z"
   },
   {
    "duration": 26,
    "start_time": "2022-01-18T06:46:49.659Z"
   },
   {
    "duration": 79,
    "start_time": "2022-01-18T06:46:49.686Z"
   },
   {
    "duration": 8,
    "start_time": "2022-01-18T06:46:49.767Z"
   },
   {
    "duration": 20,
    "start_time": "2022-01-18T06:46:49.777Z"
   },
   {
    "duration": 81,
    "start_time": "2022-01-18T06:46:49.799Z"
   },
   {
    "duration": 13,
    "start_time": "2022-01-18T06:46:49.882Z"
   },
   {
    "duration": 22,
    "start_time": "2022-01-18T06:46:49.897Z"
   },
   {
    "duration": 21,
    "start_time": "2022-01-18T06:46:49.920Z"
   },
   {
    "duration": 15,
    "start_time": "2022-01-18T06:46:49.942Z"
   },
   {
    "duration": 29,
    "start_time": "2022-01-18T06:46:49.959Z"
   },
   {
    "duration": 9,
    "start_time": "2022-01-18T06:46:49.989Z"
   },
   {
    "duration": 10,
    "start_time": "2022-01-18T06:46:49.999Z"
   },
   {
    "duration": 65,
    "start_time": "2022-01-18T06:46:50.011Z"
   },
   {
    "duration": 11,
    "start_time": "2022-01-18T06:46:50.078Z"
   },
   {
    "duration": 6,
    "start_time": "2022-01-18T06:46:50.091Z"
   },
   {
    "duration": 12,
    "start_time": "2022-01-18T06:47:54.617Z"
   },
   {
    "duration": 12,
    "start_time": "2022-01-18T06:48:50.326Z"
   },
   {
    "duration": 11,
    "start_time": "2022-01-18T06:49:30.097Z"
   },
   {
    "duration": 987,
    "start_time": "2022-01-18T06:50:18.967Z"
   },
   {
    "duration": 666,
    "start_time": "2022-01-18T06:53:05.473Z"
   },
   {
    "duration": 51,
    "start_time": "2022-01-18T06:53:06.141Z"
   },
   {
    "duration": 220,
    "start_time": "2022-01-18T06:53:06.194Z"
   },
   {
    "duration": 133,
    "start_time": "2022-01-18T06:53:06.416Z"
   },
   {
    "duration": 179,
    "start_time": "2022-01-18T06:53:06.550Z"
   },
   {
    "duration": 25,
    "start_time": "2022-01-18T06:53:06.730Z"
   },
   {
    "duration": 78,
    "start_time": "2022-01-18T06:53:06.757Z"
   },
   {
    "duration": 6,
    "start_time": "2022-01-18T06:53:06.837Z"
   },
   {
    "duration": 50,
    "start_time": "2022-01-18T06:53:06.845Z"
   },
   {
    "duration": 65,
    "start_time": "2022-01-18T06:53:06.897Z"
   },
   {
    "duration": 14,
    "start_time": "2022-01-18T06:53:06.963Z"
   },
   {
    "duration": 35,
    "start_time": "2022-01-18T06:53:06.978Z"
   },
   {
    "duration": 7,
    "start_time": "2022-01-18T06:53:07.014Z"
   },
   {
    "duration": 35,
    "start_time": "2022-01-18T06:53:07.023Z"
   },
   {
    "duration": 42,
    "start_time": "2022-01-18T06:53:07.061Z"
   },
   {
    "duration": 11,
    "start_time": "2022-01-18T06:53:07.106Z"
   },
   {
    "duration": 28,
    "start_time": "2022-01-18T06:53:07.119Z"
   },
   {
    "duration": 1414,
    "start_time": "2022-01-18T06:53:07.149Z"
   },
   {
    "duration": -3583,
    "start_time": "2022-01-18T06:53:12.148Z"
   },
   {
    "duration": -3587,
    "start_time": "2022-01-18T06:53:12.154Z"
   },
   {
    "duration": 36,
    "start_time": "2022-01-18T06:59:13.443Z"
   },
   {
    "duration": 17,
    "start_time": "2022-01-18T06:59:36.602Z"
   },
   {
    "duration": 11,
    "start_time": "2022-01-18T06:59:37.162Z"
   },
   {
    "duration": 76,
    "start_time": "2022-01-18T07:27:11.548Z"
   },
   {
    "duration": 5349,
    "start_time": "2022-01-18T07:28:16.748Z"
   },
   {
    "duration": 563,
    "start_time": "2022-01-18T07:28:44.261Z"
   },
   {
    "duration": 52,
    "start_time": "2022-01-18T07:28:44.826Z"
   },
   {
    "duration": 183,
    "start_time": "2022-01-18T07:28:44.880Z"
   },
   {
    "duration": 108,
    "start_time": "2022-01-18T07:28:45.065Z"
   },
   {
    "duration": 158,
    "start_time": "2022-01-18T07:28:45.175Z"
   },
   {
    "duration": 29,
    "start_time": "2022-01-18T07:28:45.341Z"
   },
   {
    "duration": 84,
    "start_time": "2022-01-18T07:28:45.372Z"
   },
   {
    "duration": 10,
    "start_time": "2022-01-18T07:28:45.459Z"
   },
   {
    "duration": 25,
    "start_time": "2022-01-18T07:28:45.471Z"
   },
   {
    "duration": 97,
    "start_time": "2022-01-18T07:28:45.498Z"
   },
   {
    "duration": 16,
    "start_time": "2022-01-18T07:28:45.597Z"
   },
   {
    "duration": 44,
    "start_time": "2022-01-18T07:28:45.615Z"
   },
   {
    "duration": 10,
    "start_time": "2022-01-18T07:28:45.662Z"
   },
   {
    "duration": 27,
    "start_time": "2022-01-18T07:28:45.674Z"
   },
   {
    "duration": 53,
    "start_time": "2022-01-18T07:28:45.703Z"
   },
   {
    "duration": 12,
    "start_time": "2022-01-18T07:28:45.757Z"
   },
   {
    "duration": 38,
    "start_time": "2022-01-18T07:28:45.770Z"
   },
   {
    "duration": 5371,
    "start_time": "2022-01-18T07:28:45.809Z"
   },
   {
    "duration": -3571,
    "start_time": "2022-01-18T07:28:54.753Z"
   },
   {
    "duration": -3589,
    "start_time": "2022-01-18T07:28:54.771Z"
   },
   {
    "duration": 6165,
    "start_time": "2022-01-18T07:29:15.581Z"
   },
   {
    "duration": 84,
    "start_time": "2022-01-18T07:30:34.061Z"
   },
   {
    "duration": 18,
    "start_time": "2022-01-18T07:34:24.762Z"
   },
   {
    "duration": 15,
    "start_time": "2022-01-18T07:35:55.742Z"
   },
   {
    "duration": 16,
    "start_time": "2022-01-18T07:36:14.083Z"
   },
   {
    "duration": 12,
    "start_time": "2022-01-18T07:36:33.653Z"
   },
   {
    "duration": 16,
    "start_time": "2022-01-18T07:36:45.672Z"
   },
   {
    "duration": 19,
    "start_time": "2022-01-18T07:51:23.678Z"
   },
   {
    "duration": 41,
    "start_time": "2022-01-18T07:52:03.907Z"
   },
   {
    "duration": 46,
    "start_time": "2022-01-18T07:54:29.621Z"
   },
   {
    "duration": 47,
    "start_time": "2022-01-18T07:55:36.322Z"
   },
   {
    "duration": 32,
    "start_time": "2022-01-18T08:10:36.713Z"
   },
   {
    "duration": 42,
    "start_time": "2022-01-18T08:10:53.484Z"
   },
   {
    "duration": 26,
    "start_time": "2022-01-18T08:32:30.634Z"
   },
   {
    "duration": 197,
    "start_time": "2022-01-18T08:33:32.424Z"
   },
   {
    "duration": 102,
    "start_time": "2022-01-18T08:33:56.195Z"
   },
   {
    "duration": 285,
    "start_time": "2022-01-18T08:34:22.073Z"
   },
   {
    "duration": -3398,
    "start_time": "2022-01-18T08:35:03.613Z"
   },
   {
    "duration": 500,
    "start_time": "2022-01-18T08:35:04.097Z"
   },
   {
    "duration": 47,
    "start_time": "2022-01-18T08:35:04.599Z"
   },
   {
    "duration": 173,
    "start_time": "2022-01-18T08:35:04.648Z"
   },
   {
    "duration": 119,
    "start_time": "2022-01-18T08:35:04.823Z"
   },
   {
    "duration": 164,
    "start_time": "2022-01-18T08:35:04.944Z"
   },
   {
    "duration": 28,
    "start_time": "2022-01-18T08:35:05.110Z"
   },
   {
    "duration": 71,
    "start_time": "2022-01-18T08:35:05.140Z"
   },
   {
    "duration": 7,
    "start_time": "2022-01-18T08:35:05.214Z"
   },
   {
    "duration": 37,
    "start_time": "2022-01-18T08:35:05.223Z"
   },
   {
    "duration": 66,
    "start_time": "2022-01-18T08:35:05.262Z"
   },
   {
    "duration": 23,
    "start_time": "2022-01-18T08:35:05.330Z"
   },
   {
    "duration": 27,
    "start_time": "2022-01-18T08:35:05.354Z"
   },
   {
    "duration": 9,
    "start_time": "2022-01-18T08:35:05.384Z"
   },
   {
    "duration": 46,
    "start_time": "2022-01-18T08:35:05.395Z"
   },
   {
    "duration": 35,
    "start_time": "2022-01-18T08:35:05.443Z"
   },
   {
    "duration": 9,
    "start_time": "2022-01-18T08:35:05.479Z"
   },
   {
    "duration": 19,
    "start_time": "2022-01-18T08:35:05.490Z"
   },
   {
    "duration": 71,
    "start_time": "2022-01-18T08:35:05.512Z"
   },
   {
    "duration": 241,
    "start_time": "2022-01-18T08:35:05.585Z"
   },
   {
    "duration": -3414,
    "start_time": "2022-01-18T08:35:09.242Z"
   },
   {
    "duration": 191,
    "start_time": "2022-01-18T08:35:41.049Z"
   },
   {
    "duration": 40,
    "start_time": "2022-01-18T08:35:58.688Z"
   },
   {
    "duration": 213,
    "start_time": "2022-01-18T08:42:13.458Z"
   },
   {
    "duration": 19,
    "start_time": "2022-01-18T08:42:41.039Z"
   },
   {
    "duration": 19,
    "start_time": "2022-01-18T08:48:40.842Z"
   },
   {
    "duration": 200,
    "start_time": "2022-01-18T08:50:35.720Z"
   },
   {
    "duration": 69,
    "start_time": "2022-01-18T09:13:28.931Z"
   },
   {
    "duration": 418,
    "start_time": "2022-01-18T09:14:01.143Z"
   },
   {
    "duration": 206,
    "start_time": "2022-01-18T09:15:03.652Z"
   },
   {
    "duration": 420,
    "start_time": "2022-01-18T09:15:29.402Z"
   },
   {
    "duration": 57,
    "start_time": "2022-01-18T09:18:15.413Z"
   },
   {
    "duration": 49,
    "start_time": "2022-01-18T09:18:43.853Z"
   },
   {
    "duration": 172,
    "start_time": "2022-01-18T09:22:55.932Z"
   },
   {
    "duration": 215,
    "start_time": "2022-01-18T09:23:22.863Z"
   },
   {
    "duration": 198,
    "start_time": "2022-01-18T09:23:37.361Z"
   },
   {
    "duration": 213,
    "start_time": "2022-01-18T09:25:40.003Z"
   },
   {
    "duration": 238,
    "start_time": "2022-01-18T09:27:12.232Z"
   },
   {
    "duration": 221,
    "start_time": "2022-01-18T09:27:27.353Z"
   },
   {
    "duration": 86,
    "start_time": "2022-01-18T09:28:29.003Z"
   },
   {
    "duration": 226,
    "start_time": "2022-01-18T09:28:30.612Z"
   },
   {
    "duration": 199,
    "start_time": "2022-01-18T09:28:46.183Z"
   },
   {
    "duration": 207,
    "start_time": "2022-01-18T09:28:59.723Z"
   },
   {
    "duration": 191,
    "start_time": "2022-01-18T09:51:42.863Z"
   },
   {
    "duration": 71,
    "start_time": "2022-01-18T09:59:21.363Z"
   },
   {
    "duration": 795,
    "start_time": "2022-01-18T09:59:28.642Z"
   },
   {
    "duration": 66,
    "start_time": "2022-01-18T09:59:29.439Z"
   },
   {
    "duration": 269,
    "start_time": "2022-01-18T09:59:29.508Z"
   },
   {
    "duration": 492,
    "start_time": "2022-01-18T09:59:29.779Z"
   },
   {
    "duration": 458,
    "start_time": "2022-01-18T09:59:30.273Z"
   },
   {
    "duration": 57,
    "start_time": "2022-01-18T09:59:30.732Z"
   },
   {
    "duration": 81,
    "start_time": "2022-01-18T09:59:30.791Z"
   },
   {
    "duration": 8,
    "start_time": "2022-01-18T09:59:30.874Z"
   },
   {
    "duration": 52,
    "start_time": "2022-01-18T09:59:30.884Z"
   },
   {
    "duration": 121,
    "start_time": "2022-01-18T09:59:30.938Z"
   },
   {
    "duration": 14,
    "start_time": "2022-01-18T09:59:31.061Z"
   },
   {
    "duration": 48,
    "start_time": "2022-01-18T09:59:31.077Z"
   },
   {
    "duration": 33,
    "start_time": "2022-01-18T09:59:31.126Z"
   },
   {
    "duration": 65,
    "start_time": "2022-01-18T09:59:31.161Z"
   },
   {
    "duration": 81,
    "start_time": "2022-01-18T09:59:31.227Z"
   },
   {
    "duration": 20,
    "start_time": "2022-01-18T09:59:31.310Z"
   },
   {
    "duration": 88,
    "start_time": "2022-01-18T09:59:31.332Z"
   },
   {
    "duration": 134,
    "start_time": "2022-01-18T09:59:31.422Z"
   },
   {
    "duration": 259,
    "start_time": "2022-01-18T09:59:31.558Z"
   },
   {
    "duration": 314,
    "start_time": "2022-01-18T09:59:31.820Z"
   },
   {
    "duration": 307,
    "start_time": "2022-01-18T10:00:19.192Z"
   },
   {
    "duration": 5,
    "start_time": "2022-01-18T10:00:40.645Z"
   },
   {
    "duration": 3,
    "start_time": "2022-01-18T10:00:44.204Z"
   },
   {
    "duration": 203,
    "start_time": "2022-01-18T10:00:49.264Z"
   },
   {
    "duration": 204,
    "start_time": "2022-01-18T10:00:58.461Z"
   },
   {
    "duration": 20003,
    "start_time": "2022-01-18T10:01:36.381Z"
   },
   {
    "duration": 390,
    "start_time": "2022-01-18T10:09:44.492Z"
   },
   {
    "duration": 200,
    "start_time": "2022-01-18T10:10:04.634Z"
   },
   {
    "duration": -3710,
    "start_time": "2022-01-18T10:10:51.828Z"
   },
   {
    "duration": 657,
    "start_time": "2022-01-18T10:11:01.472Z"
   },
   {
    "duration": 47,
    "start_time": "2022-01-18T10:11:02.131Z"
   },
   {
    "duration": 199,
    "start_time": "2022-01-18T10:11:02.180Z"
   },
   {
    "duration": 122,
    "start_time": "2022-01-18T10:11:02.381Z"
   },
   {
    "duration": 185,
    "start_time": "2022-01-18T10:11:02.505Z"
   },
   {
    "duration": 31,
    "start_time": "2022-01-18T10:11:02.693Z"
   },
   {
    "duration": 90,
    "start_time": "2022-01-18T10:11:02.726Z"
   },
   {
    "duration": 23,
    "start_time": "2022-01-18T10:11:02.818Z"
   },
   {
    "duration": 31,
    "start_time": "2022-01-18T10:11:02.843Z"
   },
   {
    "duration": 87,
    "start_time": "2022-01-18T10:11:02.876Z"
   },
   {
    "duration": 16,
    "start_time": "2022-01-18T10:11:02.965Z"
   },
   {
    "duration": 37,
    "start_time": "2022-01-18T10:11:02.983Z"
   },
   {
    "duration": 27,
    "start_time": "2022-01-18T10:11:03.022Z"
   },
   {
    "duration": 34,
    "start_time": "2022-01-18T10:11:03.051Z"
   },
   {
    "duration": 51,
    "start_time": "2022-01-18T10:11:03.087Z"
   },
   {
    "duration": 12,
    "start_time": "2022-01-18T10:11:03.140Z"
   },
   {
    "duration": 15,
    "start_time": "2022-01-18T10:11:03.154Z"
   },
   {
    "duration": 53,
    "start_time": "2022-01-18T10:11:03.171Z"
   },
   {
    "duration": 329,
    "start_time": "2022-01-18T10:11:03.226Z"
   },
   {
    "duration": 4837,
    "start_time": "2022-01-18T10:11:03.557Z"
   },
   {
    "duration": 3044,
    "start_time": "2022-01-18T10:25:25.142Z"
   },
   {
    "duration": 3,
    "start_time": "2022-01-18T10:32:49.932Z"
   },
   {
    "duration": 605,
    "start_time": "2022-01-18T10:32:57.183Z"
   },
   {
    "duration": 42,
    "start_time": "2022-01-18T10:32:57.790Z"
   },
   {
    "duration": 167,
    "start_time": "2022-01-18T10:32:57.833Z"
   },
   {
    "duration": 102,
    "start_time": "2022-01-18T10:32:58.002Z"
   },
   {
    "duration": 146,
    "start_time": "2022-01-18T10:32:58.105Z"
   },
   {
    "duration": 24,
    "start_time": "2022-01-18T10:32:58.252Z"
   },
   {
    "duration": 68,
    "start_time": "2022-01-18T10:32:58.278Z"
   },
   {
    "duration": 6,
    "start_time": "2022-01-18T10:32:58.349Z"
   },
   {
    "duration": 20,
    "start_time": "2022-01-18T10:32:58.357Z"
   },
   {
    "duration": 81,
    "start_time": "2022-01-18T10:32:58.378Z"
   },
   {
    "duration": 13,
    "start_time": "2022-01-18T10:32:58.461Z"
   },
   {
    "duration": 23,
    "start_time": "2022-01-18T10:32:58.475Z"
   },
   {
    "duration": 8,
    "start_time": "2022-01-18T10:32:58.500Z"
   },
   {
    "duration": 40,
    "start_time": "2022-01-18T10:32:58.510Z"
   },
   {
    "duration": 29,
    "start_time": "2022-01-18T10:32:58.552Z"
   },
   {
    "duration": 10,
    "start_time": "2022-01-18T10:32:58.582Z"
   },
   {
    "duration": 8,
    "start_time": "2022-01-18T10:32:58.594Z"
   },
   {
    "duration": 67,
    "start_time": "2022-01-18T10:32:58.604Z"
   },
   {
    "duration": 202,
    "start_time": "2022-01-18T10:32:58.673Z"
   },
   {
    "duration": 3,
    "start_time": "2022-01-18T10:32:58.877Z"
   },
   {
    "duration": 19,
    "start_time": "2022-01-18T10:38:09.545Z"
   },
   {
    "duration": 22,
    "start_time": "2022-01-18T10:38:53.853Z"
   },
   {
    "duration": 25,
    "start_time": "2022-01-18T10:40:41.272Z"
   },
   {
    "duration": 43,
    "start_time": "2022-01-18T10:40:49.944Z"
   },
   {
    "duration": 2957,
    "start_time": "2022-01-18T10:41:25.715Z"
   },
   {
    "duration": 22,
    "start_time": "2022-01-18T10:41:56.114Z"
   },
   {
    "duration": 1966,
    "start_time": "2022-01-18T10:42:01.563Z"
   },
   {
    "duration": 3,
    "start_time": "2022-01-18T10:45:11.553Z"
   },
   {
    "duration": 8,
    "start_time": "2022-01-18T11:33:28.602Z"
   },
   {
    "duration": 319,
    "start_time": "2022-01-18T11:39:30.933Z"
   },
   {
    "duration": -3810,
    "start_time": "2022-01-18T11:40:22.635Z"
   },
   {
    "duration": 636,
    "start_time": "2022-01-18T11:40:29.805Z"
   },
   {
    "duration": 43,
    "start_time": "2022-01-18T11:40:30.443Z"
   },
   {
    "duration": 179,
    "start_time": "2022-01-18T11:40:30.488Z"
   },
   {
    "duration": 121,
    "start_time": "2022-01-18T11:40:30.669Z"
   },
   {
    "duration": 162,
    "start_time": "2022-01-18T11:40:30.792Z"
   },
   {
    "duration": 26,
    "start_time": "2022-01-18T11:40:30.956Z"
   },
   {
    "duration": 82,
    "start_time": "2022-01-18T11:40:30.983Z"
   },
   {
    "duration": 9,
    "start_time": "2022-01-18T11:40:31.066Z"
   },
   {
    "duration": 30,
    "start_time": "2022-01-18T11:40:31.078Z"
   },
   {
    "duration": 87,
    "start_time": "2022-01-18T11:40:31.110Z"
   },
   {
    "duration": 16,
    "start_time": "2022-01-18T11:40:31.198Z"
   },
   {
    "duration": 39,
    "start_time": "2022-01-18T11:40:31.215Z"
   },
   {
    "duration": 8,
    "start_time": "2022-01-18T11:40:31.256Z"
   },
   {
    "duration": 23,
    "start_time": "2022-01-18T11:40:31.266Z"
   },
   {
    "duration": 31,
    "start_time": "2022-01-18T11:40:31.291Z"
   },
   {
    "duration": 22,
    "start_time": "2022-01-18T11:40:31.324Z"
   },
   {
    "duration": 10,
    "start_time": "2022-01-18T11:40:31.348Z"
   },
   {
    "duration": 48,
    "start_time": "2022-01-18T11:40:31.360Z"
   },
   {
    "duration": 226,
    "start_time": "2022-01-18T11:40:31.410Z"
   },
   {
    "duration": 27,
    "start_time": "2022-01-18T11:40:31.638Z"
   },
   {
    "duration": 263,
    "start_time": "2022-01-18T11:40:31.667Z"
   },
   {
    "duration": -3389,
    "start_time": "2022-01-18T11:40:35.322Z"
   },
   {
    "duration": -3394,
    "start_time": "2022-01-18T11:40:35.328Z"
   },
   {
    "duration": 189,
    "start_time": "2022-01-18T11:41:58.755Z"
   },
   {
    "duration": 216,
    "start_time": "2022-01-18T11:42:09.876Z"
   },
   {
    "duration": 446,
    "start_time": "2022-01-18T11:42:23.737Z"
   },
   {
    "duration": 223,
    "start_time": "2022-01-18T11:42:31.771Z"
   },
   {
    "duration": 203,
    "start_time": "2022-01-18T11:42:44.322Z"
   },
   {
    "duration": 193,
    "start_time": "2022-01-18T11:42:57.325Z"
   },
   {
    "duration": 22,
    "start_time": "2022-01-18T11:44:27.878Z"
   },
   {
    "duration": 17,
    "start_time": "2022-01-18T11:45:43.877Z"
   },
   {
    "duration": 22,
    "start_time": "2022-01-18T11:45:56.433Z"
   },
   {
    "duration": 21,
    "start_time": "2022-01-18T11:48:02.958Z"
   },
   {
    "duration": 19,
    "start_time": "2022-01-18T11:48:18.619Z"
   },
   {
    "duration": 22,
    "start_time": "2022-01-18T11:48:20.576Z"
   },
   {
    "duration": 207,
    "start_time": "2022-01-18T11:49:29.142Z"
   },
   {
    "duration": 21,
    "start_time": "2022-01-18T11:49:40.612Z"
   },
   {
    "duration": 4585,
    "start_time": "2022-01-18T12:04:32.704Z"
   },
   {
    "duration": 831,
    "start_time": "2022-01-18T12:07:37.177Z"
   },
   {
    "duration": 4559,
    "start_time": "2022-01-18T12:08:07.239Z"
   },
   {
    "duration": 5022,
    "start_time": "2022-01-18T12:08:25.506Z"
   },
   {
    "duration": 6643,
    "start_time": "2022-01-18T12:08:42.558Z"
   },
   {
    "duration": 97,
    "start_time": "2022-01-18T12:49:30.054Z"
   },
   {
    "duration": 64,
    "start_time": "2022-01-18T12:49:46.401Z"
   },
   {
    "duration": 205,
    "start_time": "2022-01-18T12:50:32.890Z"
   },
   {
    "duration": 213,
    "start_time": "2022-01-18T12:52:14.169Z"
   },
   {
    "duration": 3,
    "start_time": "2022-01-18T12:54:09.834Z"
   },
   {
    "duration": 193,
    "start_time": "2022-01-18T12:54:23.150Z"
   },
   {
    "duration": 270,
    "start_time": "2022-01-18T14:10:21.721Z"
   },
   {
    "duration": 4890,
    "start_time": "2022-01-18T14:10:54.604Z"
   },
   {
    "duration": 991,
    "start_time": "2022-01-18T14:11:30.943Z"
   },
   {
    "duration": 296,
    "start_time": "2022-01-18T14:12:09.393Z"
   },
   {
    "duration": 242,
    "start_time": "2022-01-18T14:12:50.813Z"
   },
   {
    "duration": 276,
    "start_time": "2022-01-18T14:13:24.457Z"
   },
   {
    "duration": 186,
    "start_time": "2022-01-18T14:23:42.975Z"
   },
   {
    "duration": 308,
    "start_time": "2022-01-18T14:24:10.673Z"
   },
   {
    "duration": 359,
    "start_time": "2022-01-18T14:24:25.536Z"
   },
   {
    "duration": 679,
    "start_time": "2022-01-18T14:24:34.799Z"
   },
   {
    "duration": 391,
    "start_time": "2022-01-18T14:24:38.465Z"
   },
   {
    "duration": 4284,
    "start_time": "2022-01-18T14:25:17.643Z"
   },
   {
    "duration": 208,
    "start_time": "2022-01-18T14:26:24.205Z"
   },
   {
    "duration": 238,
    "start_time": "2022-01-18T14:27:07.254Z"
   },
   {
    "duration": 229,
    "start_time": "2022-01-18T14:27:23.811Z"
   },
   {
    "duration": 228,
    "start_time": "2022-01-18T14:45:02.724Z"
   },
   {
    "duration": 5542,
    "start_time": "2022-01-18T14:47:14.514Z"
   },
   {
    "duration": 996,
    "start_time": "2022-01-18T14:47:27.733Z"
   },
   {
    "duration": 45,
    "start_time": "2022-01-18T14:47:28.731Z"
   },
   {
    "duration": 171,
    "start_time": "2022-01-18T14:47:28.778Z"
   },
   {
    "duration": 110,
    "start_time": "2022-01-18T14:47:28.951Z"
   },
   {
    "duration": 154,
    "start_time": "2022-01-18T14:47:29.062Z"
   },
   {
    "duration": 25,
    "start_time": "2022-01-18T14:47:29.218Z"
   },
   {
    "duration": 68,
    "start_time": "2022-01-18T14:47:29.244Z"
   },
   {
    "duration": 7,
    "start_time": "2022-01-18T14:47:29.314Z"
   },
   {
    "duration": 36,
    "start_time": "2022-01-18T14:47:29.323Z"
   },
   {
    "duration": 66,
    "start_time": "2022-01-18T14:47:29.361Z"
   },
   {
    "duration": 22,
    "start_time": "2022-01-18T14:47:29.428Z"
   },
   {
    "duration": 28,
    "start_time": "2022-01-18T14:47:29.451Z"
   },
   {
    "duration": 9,
    "start_time": "2022-01-18T14:47:29.480Z"
   },
   {
    "duration": 21,
    "start_time": "2022-01-18T14:47:29.490Z"
   },
   {
    "duration": 57,
    "start_time": "2022-01-18T14:47:29.512Z"
   },
   {
    "duration": 10,
    "start_time": "2022-01-18T14:47:29.570Z"
   },
   {
    "duration": 12,
    "start_time": "2022-01-18T14:47:29.582Z"
   },
   {
    "duration": 53,
    "start_time": "2022-01-18T14:47:29.596Z"
   },
   {
    "duration": 200,
    "start_time": "2022-01-18T14:47:29.650Z"
   },
   {
    "duration": 18,
    "start_time": "2022-01-18T14:47:29.851Z"
   },
   {
    "duration": 5453,
    "start_time": "2022-01-18T14:47:29.871Z"
   },
   {
    "duration": -3565,
    "start_time": "2022-01-18T14:47:38.891Z"
   },
   {
    "duration": -3571,
    "start_time": "2022-01-18T14:47:38.897Z"
   },
   {
    "duration": 20,
    "start_time": "2022-01-18T14:47:52.923Z"
   },
   {
    "duration": 16,
    "start_time": "2022-01-18T14:48:05.593Z"
   },
   {
    "duration": 291,
    "start_time": "2022-01-18T14:48:39.774Z"
   },
   {
    "duration": 475,
    "start_time": "2022-01-18T14:49:45.733Z"
   },
   {
    "duration": 660,
    "start_time": "2022-01-18T15:03:12.652Z"
   },
   {
    "duration": 580,
    "start_time": "2022-01-18T15:03:22.013Z"
   },
   {
    "duration": 505,
    "start_time": "2022-01-18T15:03:37.763Z"
   },
   {
    "duration": 215,
    "start_time": "2022-01-18T15:04:09.143Z"
   },
   {
    "duration": 1001,
    "start_time": "2022-01-18T15:04:15.700Z"
   },
   {
    "duration": 42,
    "start_time": "2022-01-18T15:04:16.703Z"
   },
   {
    "duration": 165,
    "start_time": "2022-01-18T15:04:16.747Z"
   },
   {
    "duration": 101,
    "start_time": "2022-01-18T15:04:16.914Z"
   },
   {
    "duration": 149,
    "start_time": "2022-01-18T15:04:17.016Z"
   },
   {
    "duration": 25,
    "start_time": "2022-01-18T15:04:17.167Z"
   },
   {
    "duration": 71,
    "start_time": "2022-01-18T15:04:17.194Z"
   },
   {
    "duration": 7,
    "start_time": "2022-01-18T15:04:17.268Z"
   },
   {
    "duration": 21,
    "start_time": "2022-01-18T15:04:17.277Z"
   },
   {
    "duration": 78,
    "start_time": "2022-01-18T15:04:17.300Z"
   },
   {
    "duration": 16,
    "start_time": "2022-01-18T15:04:17.379Z"
   },
   {
    "duration": 25,
    "start_time": "2022-01-18T15:04:17.397Z"
   },
   {
    "duration": 25,
    "start_time": "2022-01-18T15:04:17.424Z"
   },
   {
    "duration": 20,
    "start_time": "2022-01-18T15:04:17.450Z"
   },
   {
    "duration": 31,
    "start_time": "2022-01-18T15:04:17.472Z"
   },
   {
    "duration": 9,
    "start_time": "2022-01-18T15:04:17.505Z"
   },
   {
    "duration": 29,
    "start_time": "2022-01-18T15:04:17.516Z"
   },
   {
    "duration": 43,
    "start_time": "2022-01-18T15:04:17.547Z"
   },
   {
    "duration": 203,
    "start_time": "2022-01-18T15:04:17.591Z"
   },
   {
    "duration": 17,
    "start_time": "2022-01-18T15:04:17.796Z"
   },
   {
    "duration": 469,
    "start_time": "2022-01-18T15:04:17.814Z"
   },
   {
    "duration": 19,
    "start_time": "2022-01-18T15:04:18.285Z"
   },
   {
    "duration": 37,
    "start_time": "2022-01-18T15:04:18.307Z"
   },
   {
    "duration": 743,
    "start_time": "2022-01-18T15:04:26.721Z"
   },
   {
    "duration": 577,
    "start_time": "2022-01-18T15:06:28.091Z"
   },
   {
    "duration": 578,
    "start_time": "2022-01-18T15:06:49.100Z"
   },
   {
    "duration": 716,
    "start_time": "2022-01-18T15:17:06.101Z"
   },
   {
    "duration": 494,
    "start_time": "2022-01-18T15:17:48.961Z"
   },
   {
    "duration": 629,
    "start_time": "2022-01-18T15:18:19.114Z"
   },
   {
    "duration": 794,
    "start_time": "2022-01-18T15:18:33.352Z"
   },
   {
    "duration": 816,
    "start_time": "2022-01-18T15:19:11.018Z"
   },
   {
    "duration": 657,
    "start_time": "2022-01-18T15:20:03.145Z"
   },
   {
    "duration": 749,
    "start_time": "2022-01-18T15:20:11.458Z"
   },
   {
    "duration": 612,
    "start_time": "2022-01-18T15:20:49.384Z"
   },
   {
    "duration": 481,
    "start_time": "2022-01-18T15:20:57.797Z"
   },
   {
    "duration": 807,
    "start_time": "2022-01-18T15:21:04.361Z"
   },
   {
    "duration": 417,
    "start_time": "2022-01-18T15:27:20.001Z"
   },
   {
    "duration": 3861,
    "start_time": "2022-01-18T15:27:43.700Z"
   },
   {
    "duration": 347,
    "start_time": "2022-01-18T15:28:58.851Z"
   },
   {
    "duration": 880,
    "start_time": "2022-01-18T15:31:07.481Z"
   },
   {
    "duration": 1087,
    "start_time": "2022-01-18T15:33:08.181Z"
   },
   {
    "duration": 875,
    "start_time": "2022-01-18T15:33:34.371Z"
   },
   {
    "duration": 897,
    "start_time": "2022-01-18T15:41:50.562Z"
   },
   {
    "duration": 1566,
    "start_time": "2022-01-18T15:42:49.731Z"
   },
   {
    "duration": 1419,
    "start_time": "2022-01-18T15:43:07.842Z"
   },
   {
    "duration": 1246,
    "start_time": "2022-01-18T15:43:17.280Z"
   },
   {
    "duration": 1447,
    "start_time": "2022-01-18T15:43:41.394Z"
   },
   {
    "duration": 1309,
    "start_time": "2022-01-18T15:44:45.732Z"
   },
   {
    "duration": 1652,
    "start_time": "2022-01-18T15:45:12.556Z"
   },
   {
    "duration": 1903,
    "start_time": "2022-01-18T15:46:35.724Z"
   },
   {
    "duration": 13,
    "start_time": "2022-01-18T16:27:40.653Z"
   },
   {
    "duration": 216,
    "start_time": "2022-01-18T16:31:25.228Z"
   },
   {
    "duration": 1033,
    "start_time": "2022-01-18T16:34:53.701Z"
   },
   {
    "duration": 49,
    "start_time": "2022-01-18T16:34:54.736Z"
   },
   {
    "duration": 204,
    "start_time": "2022-01-18T16:34:54.787Z"
   },
   {
    "duration": 120,
    "start_time": "2022-01-18T16:34:54.993Z"
   },
   {
    "duration": 174,
    "start_time": "2022-01-18T16:34:55.115Z"
   },
   {
    "duration": 25,
    "start_time": "2022-01-18T16:34:55.291Z"
   },
   {
    "duration": 92,
    "start_time": "2022-01-18T16:34:55.317Z"
   },
   {
    "duration": 7,
    "start_time": "2022-01-18T16:34:55.412Z"
   },
   {
    "duration": 55,
    "start_time": "2022-01-18T16:34:55.421Z"
   },
   {
    "duration": 80,
    "start_time": "2022-01-18T16:34:55.478Z"
   },
   {
    "duration": 14,
    "start_time": "2022-01-18T16:34:55.560Z"
   },
   {
    "duration": 34,
    "start_time": "2022-01-18T16:34:55.575Z"
   },
   {
    "duration": 18,
    "start_time": "2022-01-18T16:34:55.610Z"
   },
   {
    "duration": 53,
    "start_time": "2022-01-18T16:34:55.630Z"
   },
   {
    "duration": 42,
    "start_time": "2022-01-18T16:34:55.685Z"
   },
   {
    "duration": 10,
    "start_time": "2022-01-18T16:34:55.729Z"
   },
   {
    "duration": 24,
    "start_time": "2022-01-18T16:34:55.741Z"
   },
   {
    "duration": 62,
    "start_time": "2022-01-18T16:34:55.767Z"
   },
   {
    "duration": 226,
    "start_time": "2022-01-18T16:34:55.830Z"
   },
   {
    "duration": 22,
    "start_time": "2022-01-18T16:34:56.058Z"
   },
   {
    "duration": 30,
    "start_time": "2022-01-18T16:34:56.082Z"
   },
   {
    "duration": 41,
    "start_time": "2022-01-18T16:34:56.114Z"
   },
   {
    "duration": 2097,
    "start_time": "2022-01-18T16:34:56.159Z"
   },
   {
    "duration": 14,
    "start_time": "2022-01-18T16:34:58.258Z"
   },
   {
    "duration": 5184,
    "start_time": "2022-01-18T17:17:00.707Z"
   },
   {
    "duration": 31,
    "start_time": "2022-01-18T17:18:05.714Z"
   },
   {
    "duration": 263,
    "start_time": "2022-01-18T17:19:01.741Z"
   },
   {
    "duration": 193,
    "start_time": "2022-01-18T17:29:04.352Z"
   },
   {
    "duration": 208,
    "start_time": "2022-01-18T17:29:22.830Z"
   },
   {
    "duration": 256,
    "start_time": "2022-01-18T17:37:12.955Z"
   },
   {
    "duration": 260,
    "start_time": "2022-01-18T17:37:57.823Z"
   },
   {
    "duration": 49,
    "start_time": "2022-01-18T17:38:38.810Z"
   },
   {
    "duration": 217,
    "start_time": "2022-01-18T17:38:53.000Z"
   },
   {
    "duration": 224,
    "start_time": "2022-01-18T17:39:11.458Z"
   },
   {
    "duration": 42,
    "start_time": "2022-01-18T17:39:24.747Z"
   },
   {
    "duration": 41,
    "start_time": "2022-01-18T17:44:43.801Z"
   },
   {
    "duration": 11,
    "start_time": "2022-01-18T17:45:58.999Z"
   },
   {
    "duration": 10,
    "start_time": "2022-01-18T17:57:47.095Z"
   },
   {
    "duration": 236,
    "start_time": "2022-01-18T18:01:14.747Z"
   },
   {
    "duration": 21,
    "start_time": "2022-01-18T18:01:31.161Z"
   },
   {
    "duration": 25,
    "start_time": "2022-01-18T18:01:55.887Z"
   },
   {
    "duration": 24,
    "start_time": "2022-01-18T18:02:07.524Z"
   },
   {
    "duration": 11,
    "start_time": "2022-01-18T18:02:27.628Z"
   },
   {
    "duration": 10,
    "start_time": "2022-01-18T18:09:50.863Z"
   },
   {
    "duration": 21,
    "start_time": "2022-01-18T18:43:09.653Z"
   },
   {
    "duration": 986,
    "start_time": "2022-01-18T18:43:26.474Z"
   },
   {
    "duration": 43,
    "start_time": "2022-01-18T18:43:27.462Z"
   },
   {
    "duration": 174,
    "start_time": "2022-01-18T18:43:27.507Z"
   },
   {
    "duration": 111,
    "start_time": "2022-01-18T18:43:27.683Z"
   },
   {
    "duration": 159,
    "start_time": "2022-01-18T18:43:27.795Z"
   },
   {
    "duration": 26,
    "start_time": "2022-01-18T18:43:27.955Z"
   },
   {
    "duration": 85,
    "start_time": "2022-01-18T18:43:27.982Z"
   },
   {
    "duration": 7,
    "start_time": "2022-01-18T18:43:28.070Z"
   },
   {
    "duration": 24,
    "start_time": "2022-01-18T18:43:28.079Z"
   },
   {
    "duration": 82,
    "start_time": "2022-01-18T18:43:28.105Z"
   },
   {
    "duration": 13,
    "start_time": "2022-01-18T18:43:28.189Z"
   },
   {
    "duration": 38,
    "start_time": "2022-01-18T18:43:28.204Z"
   },
   {
    "duration": 8,
    "start_time": "2022-01-18T18:43:28.244Z"
   },
   {
    "duration": 20,
    "start_time": "2022-01-18T18:43:28.254Z"
   },
   {
    "duration": 30,
    "start_time": "2022-01-18T18:43:28.275Z"
   },
   {
    "duration": 9,
    "start_time": "2022-01-18T18:43:28.307Z"
   },
   {
    "duration": 29,
    "start_time": "2022-01-18T18:43:28.317Z"
   },
   {
    "duration": 45,
    "start_time": "2022-01-18T18:43:28.347Z"
   },
   {
    "duration": 229,
    "start_time": "2022-01-18T18:43:28.393Z"
   },
   {
    "duration": 34,
    "start_time": "2022-01-18T18:43:28.624Z"
   },
   {
    "duration": 18,
    "start_time": "2022-01-18T18:43:28.659Z"
   },
   {
    "duration": 19,
    "start_time": "2022-01-18T18:43:28.678Z"
   },
   {
    "duration": 1981,
    "start_time": "2022-01-18T18:43:28.699Z"
   },
   {
    "duration": 10,
    "start_time": "2022-01-18T18:43:30.682Z"
   },
   {
    "duration": 27,
    "start_time": "2022-01-18T18:43:30.694Z"
   },
   {
    "duration": 1367,
    "start_time": "2022-01-22T09:52:28.123Z"
   },
   {
    "duration": 58,
    "start_time": "2022-01-22T09:52:29.493Z"
   },
   {
    "duration": 248,
    "start_time": "2022-01-22T09:52:29.553Z"
   },
   {
    "duration": 157,
    "start_time": "2022-01-22T09:52:29.804Z"
   },
   {
    "duration": 213,
    "start_time": "2022-01-22T09:52:29.963Z"
   },
   {
    "duration": 29,
    "start_time": "2022-01-22T09:52:30.179Z"
   },
   {
    "duration": 127,
    "start_time": "2022-01-22T09:52:30.210Z"
   },
   {
    "duration": 10,
    "start_time": "2022-01-22T09:52:30.340Z"
   },
   {
    "duration": 39,
    "start_time": "2022-01-22T09:52:30.354Z"
   },
   {
    "duration": 125,
    "start_time": "2022-01-22T09:52:30.396Z"
   },
   {
    "duration": 29,
    "start_time": "2022-01-22T09:52:30.523Z"
   },
   {
    "duration": 33,
    "start_time": "2022-01-22T09:52:30.555Z"
   },
   {
    "duration": 11,
    "start_time": "2022-01-22T09:52:30.591Z"
   },
   {
    "duration": 29,
    "start_time": "2022-01-22T09:52:30.634Z"
   },
   {
    "duration": 44,
    "start_time": "2022-01-22T09:52:30.666Z"
   },
   {
    "duration": 40,
    "start_time": "2022-01-22T09:52:30.713Z"
   },
   {
    "duration": 20,
    "start_time": "2022-01-22T09:52:30.755Z"
   },
   {
    "duration": 104,
    "start_time": "2022-01-22T09:52:30.777Z"
   },
   {
    "duration": 407,
    "start_time": "2022-01-22T09:52:30.883Z"
   },
   {
    "duration": 49,
    "start_time": "2022-01-22T09:52:31.293Z"
   },
   {
    "duration": 32,
    "start_time": "2022-01-22T09:52:31.345Z"
   },
   {
    "duration": 57,
    "start_time": "2022-01-22T09:52:31.379Z"
   },
   {
    "duration": 3564,
    "start_time": "2022-01-22T09:52:31.440Z"
   },
   {
    "duration": 38,
    "start_time": "2022-01-22T09:52:35.006Z"
   },
   {
    "duration": 16,
    "start_time": "2022-01-22T09:52:35.047Z"
   },
   {
    "duration": 12,
    "start_time": "2022-01-22T10:09:34.839Z"
   },
   {
    "duration": 9,
    "start_time": "2022-01-22T10:09:58.166Z"
   },
   {
    "duration": 8,
    "start_time": "2022-01-22T10:10:02.793Z"
   },
   {
    "duration": 1351,
    "start_time": "2022-01-22T16:18:06.999Z"
   },
   {
    "duration": 4,
    "start_time": "2022-01-22T16:18:08.353Z"
   },
   {
    "duration": 162,
    "start_time": "2022-01-22T16:18:59.389Z"
   },
   {
    "duration": 4,
    "start_time": "2022-01-22T16:19:05.540Z"
   },
   {
    "duration": 474,
    "start_time": "2022-01-22T16:20:22.087Z"
   },
   {
    "duration": 1338,
    "start_time": "2022-01-22T16:20:32.533Z"
   },
   {
    "duration": 4,
    "start_time": "2022-01-22T16:20:33.875Z"
   },
   {
    "duration": 59,
    "start_time": "2022-01-22T16:20:33.883Z"
   },
   {
    "duration": 236,
    "start_time": "2022-01-22T16:20:33.946Z"
   },
   {
    "duration": 155,
    "start_time": "2022-01-22T16:20:34.185Z"
   },
   {
    "duration": 212,
    "start_time": "2022-01-22T16:20:34.343Z"
   },
   {
    "duration": 32,
    "start_time": "2022-01-22T16:20:34.557Z"
   },
   {
    "duration": 120,
    "start_time": "2022-01-22T16:20:34.591Z"
   },
   {
    "duration": 9,
    "start_time": "2022-01-22T16:20:34.724Z"
   },
   {
    "duration": 45,
    "start_time": "2022-01-22T16:20:34.736Z"
   },
   {
    "duration": 100,
    "start_time": "2022-01-22T16:20:34.783Z"
   },
   {
    "duration": 21,
    "start_time": "2022-01-22T16:20:34.886Z"
   },
   {
    "duration": 46,
    "start_time": "2022-01-22T16:20:34.909Z"
   },
   {
    "duration": 10,
    "start_time": "2022-01-22T16:20:34.958Z"
   },
   {
    "duration": 52,
    "start_time": "2022-01-22T16:20:34.971Z"
   },
   {
    "duration": 48,
    "start_time": "2022-01-22T16:20:35.026Z"
   },
   {
    "duration": 15,
    "start_time": "2022-01-22T16:20:35.077Z"
   },
   {
    "duration": 34,
    "start_time": "2022-01-22T16:20:35.094Z"
   },
   {
    "duration": 73,
    "start_time": "2022-01-22T16:20:35.130Z"
   },
   {
    "duration": 388,
    "start_time": "2022-01-22T16:20:35.205Z"
   },
   {
    "duration": 48,
    "start_time": "2022-01-22T16:20:35.596Z"
   },
   {
    "duration": 31,
    "start_time": "2022-01-22T16:20:35.647Z"
   },
   {
    "duration": 64,
    "start_time": "2022-01-22T16:20:35.680Z"
   },
   {
    "duration": 3500,
    "start_time": "2022-01-22T16:20:35.746Z"
   },
   {
    "duration": 16,
    "start_time": "2022-01-22T16:20:39.248Z"
   },
   {
    "duration": 15,
    "start_time": "2022-01-22T16:20:39.266Z"
   },
   {
    "duration": 3,
    "start_time": "2022-01-22T16:21:22.978Z"
   },
   {
    "duration": 9660,
    "start_time": "2022-01-22T16:22:53.848Z"
   },
   {
    "duration": 582,
    "start_time": "2022-01-22T16:23:16.702Z"
   },
   {
    "duration": 554,
    "start_time": "2022-01-22T16:24:44.657Z"
   },
   {
    "duration": 962,
    "start_time": "2022-01-22T16:25:19.402Z"
   },
   {
    "duration": 574,
    "start_time": "2022-01-22T16:27:01.210Z"
   },
   {
    "duration": 562,
    "start_time": "2022-01-22T16:27:14.764Z"
   },
   {
    "duration": 106,
    "start_time": "2022-01-22T16:33:07.144Z"
   },
   {
    "duration": 778,
    "start_time": "2022-01-22T16:35:14.362Z"
   },
   {
    "duration": 1620,
    "start_time": "2022-01-22T16:47:47.491Z"
   },
   {
    "duration": 9,
    "start_time": "2022-01-22T16:47:49.114Z"
   },
   {
    "duration": 60,
    "start_time": "2022-01-22T16:47:49.128Z"
   },
   {
    "duration": 1393,
    "start_time": "2022-01-24T12:19:22.024Z"
   },
   {
    "duration": 4,
    "start_time": "2022-01-24T12:19:23.420Z"
   },
   {
    "duration": 103,
    "start_time": "2022-01-24T12:19:23.427Z"
   },
   {
    "duration": 238,
    "start_time": "2022-01-24T12:19:23.532Z"
   },
   {
    "duration": 148,
    "start_time": "2022-01-24T12:19:23.773Z"
   },
   {
    "duration": 208,
    "start_time": "2022-01-24T12:19:23.924Z"
   },
   {
    "duration": 39,
    "start_time": "2022-01-24T12:19:24.134Z"
   },
   {
    "duration": 115,
    "start_time": "2022-01-24T12:19:24.176Z"
   },
   {
    "duration": 9,
    "start_time": "2022-01-24T12:19:24.294Z"
   },
   {
    "duration": 31,
    "start_time": "2022-01-24T12:19:24.305Z"
   },
   {
    "duration": 109,
    "start_time": "2022-01-24T12:19:24.338Z"
   },
   {
    "duration": 20,
    "start_time": "2022-01-24T12:19:24.459Z"
   },
   {
    "duration": 35,
    "start_time": "2022-01-24T12:19:24.481Z"
   },
   {
    "duration": 10,
    "start_time": "2022-01-24T12:19:24.518Z"
   },
   {
    "duration": 24,
    "start_time": "2022-01-24T12:19:24.559Z"
   },
   {
    "duration": 40,
    "start_time": "2022-01-24T12:19:24.585Z"
   },
   {
    "duration": 32,
    "start_time": "2022-01-24T12:19:24.628Z"
   },
   {
    "duration": 14,
    "start_time": "2022-01-24T12:19:24.663Z"
   },
   {
    "duration": 98,
    "start_time": "2022-01-24T12:19:24.680Z"
   },
   {
    "duration": 465,
    "start_time": "2022-01-24T12:19:24.781Z"
   },
   {
    "duration": 41,
    "start_time": "2022-01-24T12:19:25.248Z"
   },
   {
    "duration": 29,
    "start_time": "2022-01-24T12:19:25.292Z"
   },
   {
    "duration": 60,
    "start_time": "2022-01-24T12:19:25.325Z"
   },
   {
    "duration": 3,
    "start_time": "2022-01-24T12:19:25.388Z"
   },
   {
    "duration": 615,
    "start_time": "2022-01-24T12:19:25.393Z"
   },
   {
    "duration": 718,
    "start_time": "2022-01-24T12:19:26.011Z"
   },
   {
    "duration": 599,
    "start_time": "2022-01-24T12:19:26.732Z"
   },
   {
    "duration": 27,
    "start_time": "2022-01-24T12:19:27.333Z"
   },
   {
    "duration": 14,
    "start_time": "2022-01-24T12:19:27.363Z"
   }
  ],
  "kernelspec": {
   "display_name": "Python 3 (ipykernel)",
   "language": "python",
   "name": "python3"
  },
  "language_info": {
   "codemirror_mode": {
    "name": "ipython",
    "version": 3
   },
   "file_extension": ".py",
   "mimetype": "text/x-python",
   "name": "python",
   "nbconvert_exporter": "python",
   "pygments_lexer": "ipython3",
   "version": "3.9.5"
  },
  "toc": {
   "base_numbering": 1,
   "nav_menu": {
    "height": "326.997px",
    "width": "930.99px"
   },
   "number_sections": true,
   "sideBar": true,
   "skip_h1_title": true,
   "title_cell": "Table of Contents",
   "title_sidebar": "Contents",
   "toc_cell": false,
   "toc_position": {},
   "toc_section_display": true,
   "toc_window_display": false
  }
 },
 "nbformat": 4,
 "nbformat_minor": 2
}
