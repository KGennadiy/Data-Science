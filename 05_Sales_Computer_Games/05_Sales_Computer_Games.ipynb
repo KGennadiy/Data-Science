{
 "cells": [
  {
   "cell_type": "markdown",
   "metadata": {},
   "source": [
    "# Выявление закономерностей определяющих успешность игры"
   ]
  },
  {
   "cell_type": "markdown",
   "metadata": {},
   "source": [
    "## Изучение общей информации"
   ]
  },
  {
   "cell_type": "markdown",
   "metadata": {},
   "source": [
    "### Подключение библиотек"
   ]
  },
  {
   "cell_type": "code",
   "execution_count": 1,
   "metadata": {},
   "outputs": [],
   "source": [
    "import pandas as pd\n",
    "import matplotlib.pyplot as plt\n",
    "import seaborn as sns\n",
    "from scipy import stats as st"
   ]
  },
  {
   "cell_type": "markdown",
   "metadata": {},
   "source": [
    "### Открытие файла и его первичный анализ"
   ]
  },
  {
   "cell_type": "code",
   "execution_count": 2,
   "metadata": {},
   "outputs": [
    {
     "name": "stdout",
     "output_type": "stream",
     "text": [
      "<class 'pandas.core.frame.DataFrame'>\n",
      "RangeIndex: 16715 entries, 0 to 16714\n",
      "Data columns (total 11 columns):\n",
      " #   Column           Non-Null Count  Dtype  \n",
      "---  ------           --------------  -----  \n",
      " 0   Name             16713 non-null  object \n",
      " 1   Platform         16715 non-null  object \n",
      " 2   Year_of_Release  16446 non-null  float64\n",
      " 3   Genre            16713 non-null  object \n",
      " 4   NA_sales         16715 non-null  float64\n",
      " 5   EU_sales         16715 non-null  float64\n",
      " 6   JP_sales         16715 non-null  float64\n",
      " 7   Other_sales      16715 non-null  float64\n",
      " 8   Critic_Score     8137 non-null   float64\n",
      " 9   User_Score       10014 non-null  object \n",
      " 10  Rating           9949 non-null   object \n",
      "dtypes: float64(6), object(5)\n",
      "memory usage: 1.4+ MB\n"
     ]
    },
    {
     "data": {
      "text/plain": [
       "None"
      ]
     },
     "metadata": {},
     "output_type": "display_data"
    },
    {
     "data": {
      "text/html": [
       "<div>\n",
       "<style scoped>\n",
       "    .dataframe tbody tr th:only-of-type {\n",
       "        vertical-align: middle;\n",
       "    }\n",
       "\n",
       "    .dataframe tbody tr th {\n",
       "        vertical-align: top;\n",
       "    }\n",
       "\n",
       "    .dataframe thead th {\n",
       "        text-align: right;\n",
       "    }\n",
       "</style>\n",
       "<table border=\"1\" class=\"dataframe\">\n",
       "  <thead>\n",
       "    <tr style=\"text-align: right;\">\n",
       "      <th></th>\n",
       "      <th>Name</th>\n",
       "      <th>Platform</th>\n",
       "      <th>Year_of_Release</th>\n",
       "      <th>Genre</th>\n",
       "      <th>NA_sales</th>\n",
       "      <th>EU_sales</th>\n",
       "      <th>JP_sales</th>\n",
       "      <th>Other_sales</th>\n",
       "      <th>Critic_Score</th>\n",
       "      <th>User_Score</th>\n",
       "      <th>Rating</th>\n",
       "    </tr>\n",
       "  </thead>\n",
       "  <tbody>\n",
       "    <tr>\n",
       "      <th>0</th>\n",
       "      <td>Wii Sports</td>\n",
       "      <td>Wii</td>\n",
       "      <td>2006.0</td>\n",
       "      <td>Sports</td>\n",
       "      <td>41.36</td>\n",
       "      <td>28.96</td>\n",
       "      <td>3.77</td>\n",
       "      <td>8.45</td>\n",
       "      <td>76.0</td>\n",
       "      <td>8</td>\n",
       "      <td>E</td>\n",
       "    </tr>\n",
       "    <tr>\n",
       "      <th>1</th>\n",
       "      <td>Super Mario Bros.</td>\n",
       "      <td>NES</td>\n",
       "      <td>1985.0</td>\n",
       "      <td>Platform</td>\n",
       "      <td>29.08</td>\n",
       "      <td>3.58</td>\n",
       "      <td>6.81</td>\n",
       "      <td>0.77</td>\n",
       "      <td>NaN</td>\n",
       "      <td>NaN</td>\n",
       "      <td>NaN</td>\n",
       "    </tr>\n",
       "    <tr>\n",
       "      <th>2</th>\n",
       "      <td>Mario Kart Wii</td>\n",
       "      <td>Wii</td>\n",
       "      <td>2008.0</td>\n",
       "      <td>Racing</td>\n",
       "      <td>15.68</td>\n",
       "      <td>12.76</td>\n",
       "      <td>3.79</td>\n",
       "      <td>3.29</td>\n",
       "      <td>82.0</td>\n",
       "      <td>8.3</td>\n",
       "      <td>E</td>\n",
       "    </tr>\n",
       "    <tr>\n",
       "      <th>3</th>\n",
       "      <td>Wii Sports Resort</td>\n",
       "      <td>Wii</td>\n",
       "      <td>2009.0</td>\n",
       "      <td>Sports</td>\n",
       "      <td>15.61</td>\n",
       "      <td>10.93</td>\n",
       "      <td>3.28</td>\n",
       "      <td>2.95</td>\n",
       "      <td>80.0</td>\n",
       "      <td>8</td>\n",
       "      <td>E</td>\n",
       "    </tr>\n",
       "    <tr>\n",
       "      <th>4</th>\n",
       "      <td>Pokemon Red/Pokemon Blue</td>\n",
       "      <td>GB</td>\n",
       "      <td>1996.0</td>\n",
       "      <td>Role-Playing</td>\n",
       "      <td>11.27</td>\n",
       "      <td>8.89</td>\n",
       "      <td>10.22</td>\n",
       "      <td>1.00</td>\n",
       "      <td>NaN</td>\n",
       "      <td>NaN</td>\n",
       "      <td>NaN</td>\n",
       "    </tr>\n",
       "  </tbody>\n",
       "</table>\n",
       "</div>"
      ],
      "text/plain": [
       "                       Name Platform  Year_of_Release         Genre  NA_sales  \\\n",
       "0                Wii Sports      Wii           2006.0        Sports     41.36   \n",
       "1         Super Mario Bros.      NES           1985.0      Platform     29.08   \n",
       "2            Mario Kart Wii      Wii           2008.0        Racing     15.68   \n",
       "3         Wii Sports Resort      Wii           2009.0        Sports     15.61   \n",
       "4  Pokemon Red/Pokemon Blue       GB           1996.0  Role-Playing     11.27   \n",
       "\n",
       "   EU_sales  JP_sales  Other_sales  Critic_Score User_Score Rating  \n",
       "0     28.96      3.77         8.45          76.0          8      E  \n",
       "1      3.58      6.81         0.77           NaN        NaN    NaN  \n",
       "2     12.76      3.79         3.29          82.0        8.3      E  \n",
       "3     10.93      3.28         2.95          80.0          8      E  \n",
       "4      8.89     10.22         1.00           NaN        NaN    NaN  "
      ]
     },
     "metadata": {},
     "output_type": "display_data"
    }
   ],
   "source": [
    "df = pd.read_csv('/datasets/games.csv') \n",
    "display(df.info())\n",
    "display(df.head())"
   ]
  },
  {
   "cell_type": "markdown",
   "metadata": {},
   "source": [
    "<b>Предварительные выводы:</b><br>\n",
    " - данные имеют пропуски;\n",
    " - в некоторых столбцах использован неверный тип;\n",
    " - наименование столбцов необходимо скорректировать (привести к нижнему регистру)"
   ]
  },
  {
   "cell_type": "markdown",
   "metadata": {},
   "source": [
    "## Подготовка данных"
   ]
  },
  {
   "cell_type": "markdown",
   "metadata": {},
   "source": [
    "### Замена названия столбцов (приведение к нижнему регистру)"
   ]
  },
  {
   "cell_type": "code",
   "execution_count": 3,
   "metadata": {},
   "outputs": [
    {
     "data": {
      "text/html": [
       "<div>\n",
       "<style scoped>\n",
       "    .dataframe tbody tr th:only-of-type {\n",
       "        vertical-align: middle;\n",
       "    }\n",
       "\n",
       "    .dataframe tbody tr th {\n",
       "        vertical-align: top;\n",
       "    }\n",
       "\n",
       "    .dataframe thead th {\n",
       "        text-align: right;\n",
       "    }\n",
       "</style>\n",
       "<table border=\"1\" class=\"dataframe\">\n",
       "  <thead>\n",
       "    <tr style=\"text-align: right;\">\n",
       "      <th></th>\n",
       "      <th>name</th>\n",
       "      <th>platform</th>\n",
       "      <th>year_of_release</th>\n",
       "      <th>genre</th>\n",
       "      <th>na_sales</th>\n",
       "      <th>eu_sales</th>\n",
       "      <th>jp_sales</th>\n",
       "      <th>other_sales</th>\n",
       "      <th>critic_score</th>\n",
       "      <th>user_score</th>\n",
       "      <th>rating</th>\n",
       "    </tr>\n",
       "  </thead>\n",
       "  <tbody>\n",
       "    <tr>\n",
       "      <th>0</th>\n",
       "      <td>Wii Sports</td>\n",
       "      <td>Wii</td>\n",
       "      <td>2006.0</td>\n",
       "      <td>Sports</td>\n",
       "      <td>41.36</td>\n",
       "      <td>28.96</td>\n",
       "      <td>3.77</td>\n",
       "      <td>8.45</td>\n",
       "      <td>76.0</td>\n",
       "      <td>8</td>\n",
       "      <td>E</td>\n",
       "    </tr>\n",
       "    <tr>\n",
       "      <th>1</th>\n",
       "      <td>Super Mario Bros.</td>\n",
       "      <td>NES</td>\n",
       "      <td>1985.0</td>\n",
       "      <td>Platform</td>\n",
       "      <td>29.08</td>\n",
       "      <td>3.58</td>\n",
       "      <td>6.81</td>\n",
       "      <td>0.77</td>\n",
       "      <td>NaN</td>\n",
       "      <td>NaN</td>\n",
       "      <td>NaN</td>\n",
       "    </tr>\n",
       "    <tr>\n",
       "      <th>2</th>\n",
       "      <td>Mario Kart Wii</td>\n",
       "      <td>Wii</td>\n",
       "      <td>2008.0</td>\n",
       "      <td>Racing</td>\n",
       "      <td>15.68</td>\n",
       "      <td>12.76</td>\n",
       "      <td>3.79</td>\n",
       "      <td>3.29</td>\n",
       "      <td>82.0</td>\n",
       "      <td>8.3</td>\n",
       "      <td>E</td>\n",
       "    </tr>\n",
       "    <tr>\n",
       "      <th>3</th>\n",
       "      <td>Wii Sports Resort</td>\n",
       "      <td>Wii</td>\n",
       "      <td>2009.0</td>\n",
       "      <td>Sports</td>\n",
       "      <td>15.61</td>\n",
       "      <td>10.93</td>\n",
       "      <td>3.28</td>\n",
       "      <td>2.95</td>\n",
       "      <td>80.0</td>\n",
       "      <td>8</td>\n",
       "      <td>E</td>\n",
       "    </tr>\n",
       "    <tr>\n",
       "      <th>4</th>\n",
       "      <td>Pokemon Red/Pokemon Blue</td>\n",
       "      <td>GB</td>\n",
       "      <td>1996.0</td>\n",
       "      <td>Role-Playing</td>\n",
       "      <td>11.27</td>\n",
       "      <td>8.89</td>\n",
       "      <td>10.22</td>\n",
       "      <td>1.00</td>\n",
       "      <td>NaN</td>\n",
       "      <td>NaN</td>\n",
       "      <td>NaN</td>\n",
       "    </tr>\n",
       "  </tbody>\n",
       "</table>\n",
       "</div>"
      ],
      "text/plain": [
       "                       name platform  year_of_release         genre  na_sales  \\\n",
       "0                Wii Sports      Wii           2006.0        Sports     41.36   \n",
       "1         Super Mario Bros.      NES           1985.0      Platform     29.08   \n",
       "2            Mario Kart Wii      Wii           2008.0        Racing     15.68   \n",
       "3         Wii Sports Resort      Wii           2009.0        Sports     15.61   \n",
       "4  Pokemon Red/Pokemon Blue       GB           1996.0  Role-Playing     11.27   \n",
       "\n",
       "   eu_sales  jp_sales  other_sales  critic_score user_score rating  \n",
       "0     28.96      3.77         8.45          76.0          8      E  \n",
       "1      3.58      6.81         0.77           NaN        NaN    NaN  \n",
       "2     12.76      3.79         3.29          82.0        8.3      E  \n",
       "3     10.93      3.28         2.95          80.0          8      E  \n",
       "4      8.89     10.22         1.00           NaN        NaN    NaN  "
      ]
     },
     "metadata": {},
     "output_type": "display_data"
    }
   ],
   "source": [
    "df.columns = map(str.lower, df.columns)\n",
    "display(df.head())"
   ]
  },
  {
   "cell_type": "markdown",
   "metadata": {},
   "source": [
    "### Преобразование данных в нужные типы"
   ]
  },
  {
   "cell_type": "markdown",
   "metadata": {},
   "source": [
    "В столбцах <i>year_of_release, user_score</i> данные не соответствуют типу, т.к. год не может быть дробным числом, а рейтинг является числовым значением (не объектным)"
   ]
  },
  {
   "cell_type": "code",
   "execution_count": 4,
   "metadata": {
    "scrolled": true
   },
   "outputs": [],
   "source": [
    "#print(df['year_of_release'].value_counts(dropna= False)) # - предварительная оценка содержащейся в столбце информации\n",
    "df['year_of_release']=df['year_of_release'].astype('Int64')"
   ]
  },
  {
   "cell_type": "code",
   "execution_count": 5,
   "metadata": {},
   "outputs": [
    {
     "data": {
      "text/plain": [
       "NaN    6701\n",
       "tbd    2424\n",
       "7.8     324\n",
       "8       290\n",
       "8.2     282\n",
       "       ... \n",
       "1.1       2\n",
       "9.6       2\n",
       "1.9       2\n",
       "9.7       1\n",
       "0         1\n",
       "Name: user_score, Length: 97, dtype: int64"
      ]
     },
     "execution_count": 5,
     "metadata": {},
     "output_type": "execute_result"
    }
   ],
   "source": [
    "df['user_score'].value_counts(dropna= False)"
   ]
  },
  {
   "cell_type": "markdown",
   "metadata": {},
   "source": [
    "~ На данном этапе приведение типа данных к вещественному не представляется возможным, т.к. в столбце с оценкой пользователей есть текстовое значение \"tbd\""
   ]
  },
  {
   "cell_type": "markdown",
   "metadata": {},
   "source": [
    "### Обработка пропусков"
   ]
  },
  {
   "cell_type": "markdown",
   "metadata": {},
   "source": [
    "<b>Провески обнаружены в следущих столбцах:</b><br>\n",
    "<i>\n",
    " - name (2);\n",
    " - year_of_release (269);\n",
    " - genre (2);\n",
    " - critic_score (8578);\n",
    " - user_score (6701);\n",
    " - rating(6766)"
   ]
  },
  {
   "cell_type": "markdown",
   "metadata": {},
   "source": [
    "#### Пропуски в столбцах \"name\" и \"genre\""
   ]
  },
  {
   "cell_type": "code",
   "execution_count": 6,
   "metadata": {},
   "outputs": [
    {
     "data": {
      "text/html": [
       "<div>\n",
       "<style scoped>\n",
       "    .dataframe tbody tr th:only-of-type {\n",
       "        vertical-align: middle;\n",
       "    }\n",
       "\n",
       "    .dataframe tbody tr th {\n",
       "        vertical-align: top;\n",
       "    }\n",
       "\n",
       "    .dataframe thead th {\n",
       "        text-align: right;\n",
       "    }\n",
       "</style>\n",
       "<table border=\"1\" class=\"dataframe\">\n",
       "  <thead>\n",
       "    <tr style=\"text-align: right;\">\n",
       "      <th></th>\n",
       "      <th>name</th>\n",
       "      <th>platform</th>\n",
       "      <th>year_of_release</th>\n",
       "      <th>genre</th>\n",
       "      <th>na_sales</th>\n",
       "      <th>eu_sales</th>\n",
       "      <th>jp_sales</th>\n",
       "      <th>other_sales</th>\n",
       "      <th>critic_score</th>\n",
       "      <th>user_score</th>\n",
       "      <th>rating</th>\n",
       "    </tr>\n",
       "  </thead>\n",
       "  <tbody>\n",
       "    <tr>\n",
       "      <th>659</th>\n",
       "      <td>NaN</td>\n",
       "      <td>GEN</td>\n",
       "      <td>1993</td>\n",
       "      <td>NaN</td>\n",
       "      <td>1.78</td>\n",
       "      <td>0.53</td>\n",
       "      <td>0.00</td>\n",
       "      <td>0.08</td>\n",
       "      <td>NaN</td>\n",
       "      <td>NaN</td>\n",
       "      <td>NaN</td>\n",
       "    </tr>\n",
       "    <tr>\n",
       "      <th>14244</th>\n",
       "      <td>NaN</td>\n",
       "      <td>GEN</td>\n",
       "      <td>1993</td>\n",
       "      <td>NaN</td>\n",
       "      <td>0.00</td>\n",
       "      <td>0.00</td>\n",
       "      <td>0.03</td>\n",
       "      <td>0.00</td>\n",
       "      <td>NaN</td>\n",
       "      <td>NaN</td>\n",
       "      <td>NaN</td>\n",
       "    </tr>\n",
       "  </tbody>\n",
       "</table>\n",
       "</div>"
      ],
      "text/plain": [
       "      name platform  year_of_release genre  na_sales  eu_sales  jp_sales  \\\n",
       "659    NaN      GEN             1993   NaN      1.78      0.53      0.00   \n",
       "14244  NaN      GEN             1993   NaN      0.00      0.00      0.03   \n",
       "\n",
       "       other_sales  critic_score user_score rating  \n",
       "659           0.08           NaN        NaN    NaN  \n",
       "14244         0.00           NaN        NaN    NaN  "
      ]
     },
     "execution_count": 6,
     "metadata": {},
     "output_type": "execute_result"
    }
   ],
   "source": [
    "#вывод на экран пропусков в столбце имя\n",
    "df.query('name.isnull()')"
   ]
  },
  {
   "cell_type": "markdown",
   "metadata": {},
   "source": [
    "<b> Данные строки содержат мало полезной информации и их количество ничтожно мало. Полагаю, что их стоит удалить из выборки, тем самым уходят по 2 пропуска в столбцах <i> name, genre, critic_score, user_score, rating"
   ]
  },
  {
   "cell_type": "code",
   "execution_count": 7,
   "metadata": {},
   "outputs": [],
   "source": [
    "df.dropna(subset = ['name'], inplace = True)\n",
    "#df.info() # проверка удаления"
   ]
  },
  {
   "cell_type": "markdown",
   "metadata": {},
   "source": [
    "#### Пропуски в столбце \"year_of_release\""
   ]
  },
  {
   "cell_type": "code",
   "execution_count": 8,
   "metadata": {
    "scrolled": true
   },
   "outputs": [
    {
     "data": {
      "text/plain": [
       "2008    1427\n",
       "2009    1426\n",
       "2010    1255\n",
       "2007    1197\n",
       "2011    1136\n",
       "2006    1006\n",
       "2005     939\n",
       "2002     829\n",
       "2003     775\n",
       "2004     762\n",
       "2012     653\n",
       "2015     606\n",
       "2014     581\n",
       "2013     544\n",
       "2016     502\n",
       "2001     482\n",
       "1998     379\n",
       "2000     350\n",
       "1999     338\n",
       "1997     289\n",
       "NaN      269\n",
       "1996     263\n",
       "1995     219\n",
       "1994     121\n",
       "1993      60\n",
       "1981      46\n",
       "1992      43\n",
       "1991      41\n",
       "1982      36\n",
       "1986      21\n",
       "1989      17\n",
       "1983      17\n",
       "1990      16\n",
       "1987      16\n",
       "1988      15\n",
       "1985      14\n",
       "1984      14\n",
       "1980       9\n",
       "Name: year_of_release, dtype: Int64"
      ]
     },
     "execution_count": 8,
     "metadata": {},
     "output_type": "execute_result"
    }
   ],
   "source": [
    "df['year_of_release'].value_counts(dropna= False)"
   ]
  },
  {
   "cell_type": "markdown",
   "metadata": {},
   "source": [
    "<b> Т.к. в столбце \"year_of_release\" количество пропусков достаточно мало, чтобы не влиять значительно на общую выборку, то пока не вижу необходимости обрабатывать все пропущенные значения и заполним их \"-1\"."
   ]
  },
  {
   "cell_type": "code",
   "execution_count": 9,
   "metadata": {},
   "outputs": [
    {
     "data": {
      "text/html": [
       "<div>\n",
       "<style scoped>\n",
       "    .dataframe tbody tr th:only-of-type {\n",
       "        vertical-align: middle;\n",
       "    }\n",
       "\n",
       "    .dataframe tbody tr th {\n",
       "        vertical-align: top;\n",
       "    }\n",
       "\n",
       "    .dataframe thead th {\n",
       "        text-align: right;\n",
       "    }\n",
       "</style>\n",
       "<table border=\"1\" class=\"dataframe\">\n",
       "  <thead>\n",
       "    <tr style=\"text-align: right;\">\n",
       "      <th></th>\n",
       "      <th>name</th>\n",
       "      <th>platform</th>\n",
       "      <th>year_of_release</th>\n",
       "      <th>genre</th>\n",
       "      <th>na_sales</th>\n",
       "      <th>eu_sales</th>\n",
       "      <th>jp_sales</th>\n",
       "      <th>other_sales</th>\n",
       "      <th>critic_score</th>\n",
       "      <th>user_score</th>\n",
       "      <th>rating</th>\n",
       "    </tr>\n",
       "  </thead>\n",
       "  <tbody>\n",
       "    <tr>\n",
       "      <th>183</th>\n",
       "      <td>Madden NFL 2004</td>\n",
       "      <td>PS2</td>\n",
       "      <td>&lt;NA&gt;</td>\n",
       "      <td>Sports</td>\n",
       "      <td>4.26</td>\n",
       "      <td>0.26</td>\n",
       "      <td>0.01</td>\n",
       "      <td>0.71</td>\n",
       "      <td>94.0</td>\n",
       "      <td>8.5</td>\n",
       "      <td>E</td>\n",
       "    </tr>\n",
       "    <tr>\n",
       "      <th>377</th>\n",
       "      <td>FIFA Soccer 2004</td>\n",
       "      <td>PS2</td>\n",
       "      <td>&lt;NA&gt;</td>\n",
       "      <td>Sports</td>\n",
       "      <td>0.59</td>\n",
       "      <td>2.36</td>\n",
       "      <td>0.04</td>\n",
       "      <td>0.51</td>\n",
       "      <td>84.0</td>\n",
       "      <td>6.4</td>\n",
       "      <td>E</td>\n",
       "    </tr>\n",
       "    <tr>\n",
       "      <th>456</th>\n",
       "      <td>LEGO Batman: The Videogame</td>\n",
       "      <td>Wii</td>\n",
       "      <td>&lt;NA&gt;</td>\n",
       "      <td>Action</td>\n",
       "      <td>1.80</td>\n",
       "      <td>0.97</td>\n",
       "      <td>0.00</td>\n",
       "      <td>0.29</td>\n",
       "      <td>74.0</td>\n",
       "      <td>7.9</td>\n",
       "      <td>E10+</td>\n",
       "    </tr>\n",
       "    <tr>\n",
       "      <th>475</th>\n",
       "      <td>wwe Smackdown vs. Raw 2006</td>\n",
       "      <td>PS2</td>\n",
       "      <td>&lt;NA&gt;</td>\n",
       "      <td>Fighting</td>\n",
       "      <td>1.57</td>\n",
       "      <td>1.02</td>\n",
       "      <td>0.00</td>\n",
       "      <td>0.41</td>\n",
       "      <td>NaN</td>\n",
       "      <td>NaN</td>\n",
       "      <td>NaN</td>\n",
       "    </tr>\n",
       "    <tr>\n",
       "      <th>609</th>\n",
       "      <td>Space Invaders</td>\n",
       "      <td>2600</td>\n",
       "      <td>&lt;NA&gt;</td>\n",
       "      <td>Shooter</td>\n",
       "      <td>2.36</td>\n",
       "      <td>0.14</td>\n",
       "      <td>0.00</td>\n",
       "      <td>0.03</td>\n",
       "      <td>NaN</td>\n",
       "      <td>NaN</td>\n",
       "      <td>NaN</td>\n",
       "    </tr>\n",
       "    <tr>\n",
       "      <th>...</th>\n",
       "      <td>...</td>\n",
       "      <td>...</td>\n",
       "      <td>...</td>\n",
       "      <td>...</td>\n",
       "      <td>...</td>\n",
       "      <td>...</td>\n",
       "      <td>...</td>\n",
       "      <td>...</td>\n",
       "      <td>...</td>\n",
       "      <td>...</td>\n",
       "      <td>...</td>\n",
       "    </tr>\n",
       "    <tr>\n",
       "      <th>16373</th>\n",
       "      <td>PDC World Championship Darts 2008</td>\n",
       "      <td>PSP</td>\n",
       "      <td>&lt;NA&gt;</td>\n",
       "      <td>Sports</td>\n",
       "      <td>0.01</td>\n",
       "      <td>0.00</td>\n",
       "      <td>0.00</td>\n",
       "      <td>0.00</td>\n",
       "      <td>43.0</td>\n",
       "      <td>tbd</td>\n",
       "      <td>E10+</td>\n",
       "    </tr>\n",
       "    <tr>\n",
       "      <th>16405</th>\n",
       "      <td>Freaky Flyers</td>\n",
       "      <td>GC</td>\n",
       "      <td>&lt;NA&gt;</td>\n",
       "      <td>Racing</td>\n",
       "      <td>0.01</td>\n",
       "      <td>0.00</td>\n",
       "      <td>0.00</td>\n",
       "      <td>0.00</td>\n",
       "      <td>69.0</td>\n",
       "      <td>6.5</td>\n",
       "      <td>T</td>\n",
       "    </tr>\n",
       "    <tr>\n",
       "      <th>16448</th>\n",
       "      <td>Inversion</td>\n",
       "      <td>PC</td>\n",
       "      <td>&lt;NA&gt;</td>\n",
       "      <td>Shooter</td>\n",
       "      <td>0.01</td>\n",
       "      <td>0.00</td>\n",
       "      <td>0.00</td>\n",
       "      <td>0.00</td>\n",
       "      <td>59.0</td>\n",
       "      <td>6.7</td>\n",
       "      <td>M</td>\n",
       "    </tr>\n",
       "    <tr>\n",
       "      <th>16458</th>\n",
       "      <td>Hakuouki: Shinsengumi Kitan</td>\n",
       "      <td>PS3</td>\n",
       "      <td>&lt;NA&gt;</td>\n",
       "      <td>Adventure</td>\n",
       "      <td>0.01</td>\n",
       "      <td>0.00</td>\n",
       "      <td>0.00</td>\n",
       "      <td>0.00</td>\n",
       "      <td>NaN</td>\n",
       "      <td>NaN</td>\n",
       "      <td>NaN</td>\n",
       "    </tr>\n",
       "    <tr>\n",
       "      <th>16522</th>\n",
       "      <td>Virtua Quest</td>\n",
       "      <td>GC</td>\n",
       "      <td>&lt;NA&gt;</td>\n",
       "      <td>Role-Playing</td>\n",
       "      <td>0.01</td>\n",
       "      <td>0.00</td>\n",
       "      <td>0.00</td>\n",
       "      <td>0.00</td>\n",
       "      <td>55.0</td>\n",
       "      <td>5.5</td>\n",
       "      <td>T</td>\n",
       "    </tr>\n",
       "  </tbody>\n",
       "</table>\n",
       "<p>269 rows × 11 columns</p>\n",
       "</div>"
      ],
      "text/plain": [
       "                                    name platform  year_of_release  \\\n",
       "183                      Madden NFL 2004      PS2             <NA>   \n",
       "377                     FIFA Soccer 2004      PS2             <NA>   \n",
       "456           LEGO Batman: The Videogame      Wii             <NA>   \n",
       "475           wwe Smackdown vs. Raw 2006      PS2             <NA>   \n",
       "609                       Space Invaders     2600             <NA>   \n",
       "...                                  ...      ...              ...   \n",
       "16373  PDC World Championship Darts 2008      PSP             <NA>   \n",
       "16405                      Freaky Flyers       GC             <NA>   \n",
       "16448                          Inversion       PC             <NA>   \n",
       "16458        Hakuouki: Shinsengumi Kitan      PS3             <NA>   \n",
       "16522                       Virtua Quest       GC             <NA>   \n",
       "\n",
       "              genre  na_sales  eu_sales  jp_sales  other_sales  critic_score  \\\n",
       "183          Sports      4.26      0.26      0.01         0.71          94.0   \n",
       "377          Sports      0.59      2.36      0.04         0.51          84.0   \n",
       "456          Action      1.80      0.97      0.00         0.29          74.0   \n",
       "475        Fighting      1.57      1.02      0.00         0.41           NaN   \n",
       "609         Shooter      2.36      0.14      0.00         0.03           NaN   \n",
       "...             ...       ...       ...       ...          ...           ...   \n",
       "16373        Sports      0.01      0.00      0.00         0.00          43.0   \n",
       "16405        Racing      0.01      0.00      0.00         0.00          69.0   \n",
       "16448       Shooter      0.01      0.00      0.00         0.00          59.0   \n",
       "16458     Adventure      0.01      0.00      0.00         0.00           NaN   \n",
       "16522  Role-Playing      0.01      0.00      0.00         0.00          55.0   \n",
       "\n",
       "      user_score rating  \n",
       "183          8.5      E  \n",
       "377          6.4      E  \n",
       "456          7.9   E10+  \n",
       "475          NaN    NaN  \n",
       "609          NaN    NaN  \n",
       "...          ...    ...  \n",
       "16373        tbd   E10+  \n",
       "16405        6.5      T  \n",
       "16448        6.7      M  \n",
       "16458        NaN    NaN  \n",
       "16522        5.5      T  \n",
       "\n",
       "[269 rows x 11 columns]"
      ]
     },
     "execution_count": 9,
     "metadata": {},
     "output_type": "execute_result"
    }
   ],
   "source": [
    "#вывод на экран пропусков в столбце year_of_release\n",
    "df.query('year_of_release.isnull()')"
   ]
  },
  {
   "cell_type": "code",
   "execution_count": 10,
   "metadata": {
    "scrolled": true
   },
   "outputs": [
    {
     "data": {
      "text/html": [
       "<div>\n",
       "<style scoped>\n",
       "    .dataframe tbody tr th:only-of-type {\n",
       "        vertical-align: middle;\n",
       "    }\n",
       "\n",
       "    .dataframe tbody tr th {\n",
       "        vertical-align: top;\n",
       "    }\n",
       "\n",
       "    .dataframe thead th {\n",
       "        text-align: right;\n",
       "    }\n",
       "</style>\n",
       "<table border=\"1\" class=\"dataframe\">\n",
       "  <thead>\n",
       "    <tr style=\"text-align: right;\">\n",
       "      <th></th>\n",
       "      <th>name</th>\n",
       "      <th>platform</th>\n",
       "      <th>year_of_release</th>\n",
       "      <th>genre</th>\n",
       "      <th>na_sales</th>\n",
       "      <th>eu_sales</th>\n",
       "      <th>jp_sales</th>\n",
       "      <th>other_sales</th>\n",
       "      <th>critic_score</th>\n",
       "      <th>user_score</th>\n",
       "      <th>rating</th>\n",
       "    </tr>\n",
       "  </thead>\n",
       "  <tbody>\n",
       "    <tr>\n",
       "      <th>183</th>\n",
       "      <td>Madden NFL 2004</td>\n",
       "      <td>PS2</td>\n",
       "      <td>-1</td>\n",
       "      <td>Sports</td>\n",
       "      <td>4.26</td>\n",
       "      <td>0.26</td>\n",
       "      <td>0.01</td>\n",
       "      <td>0.71</td>\n",
       "      <td>94.0</td>\n",
       "      <td>8.5</td>\n",
       "      <td>E</td>\n",
       "    </tr>\n",
       "    <tr>\n",
       "      <th>377</th>\n",
       "      <td>FIFA Soccer 2004</td>\n",
       "      <td>PS2</td>\n",
       "      <td>-1</td>\n",
       "      <td>Sports</td>\n",
       "      <td>0.59</td>\n",
       "      <td>2.36</td>\n",
       "      <td>0.04</td>\n",
       "      <td>0.51</td>\n",
       "      <td>84.0</td>\n",
       "      <td>6.4</td>\n",
       "      <td>E</td>\n",
       "    </tr>\n",
       "    <tr>\n",
       "      <th>456</th>\n",
       "      <td>LEGO Batman: The Videogame</td>\n",
       "      <td>Wii</td>\n",
       "      <td>-1</td>\n",
       "      <td>Action</td>\n",
       "      <td>1.80</td>\n",
       "      <td>0.97</td>\n",
       "      <td>0.00</td>\n",
       "      <td>0.29</td>\n",
       "      <td>74.0</td>\n",
       "      <td>7.9</td>\n",
       "      <td>E10+</td>\n",
       "    </tr>\n",
       "    <tr>\n",
       "      <th>475</th>\n",
       "      <td>wwe Smackdown vs. Raw 2006</td>\n",
       "      <td>PS2</td>\n",
       "      <td>-1</td>\n",
       "      <td>Fighting</td>\n",
       "      <td>1.57</td>\n",
       "      <td>1.02</td>\n",
       "      <td>0.00</td>\n",
       "      <td>0.41</td>\n",
       "      <td>NaN</td>\n",
       "      <td>NaN</td>\n",
       "      <td>NaN</td>\n",
       "    </tr>\n",
       "    <tr>\n",
       "      <th>609</th>\n",
       "      <td>Space Invaders</td>\n",
       "      <td>2600</td>\n",
       "      <td>-1</td>\n",
       "      <td>Shooter</td>\n",
       "      <td>2.36</td>\n",
       "      <td>0.14</td>\n",
       "      <td>0.00</td>\n",
       "      <td>0.03</td>\n",
       "      <td>NaN</td>\n",
       "      <td>NaN</td>\n",
       "      <td>NaN</td>\n",
       "    </tr>\n",
       "    <tr>\n",
       "      <th>...</th>\n",
       "      <td>...</td>\n",
       "      <td>...</td>\n",
       "      <td>...</td>\n",
       "      <td>...</td>\n",
       "      <td>...</td>\n",
       "      <td>...</td>\n",
       "      <td>...</td>\n",
       "      <td>...</td>\n",
       "      <td>...</td>\n",
       "      <td>...</td>\n",
       "      <td>...</td>\n",
       "    </tr>\n",
       "    <tr>\n",
       "      <th>16373</th>\n",
       "      <td>PDC World Championship Darts 2008</td>\n",
       "      <td>PSP</td>\n",
       "      <td>-1</td>\n",
       "      <td>Sports</td>\n",
       "      <td>0.01</td>\n",
       "      <td>0.00</td>\n",
       "      <td>0.00</td>\n",
       "      <td>0.00</td>\n",
       "      <td>43.0</td>\n",
       "      <td>tbd</td>\n",
       "      <td>E10+</td>\n",
       "    </tr>\n",
       "    <tr>\n",
       "      <th>16405</th>\n",
       "      <td>Freaky Flyers</td>\n",
       "      <td>GC</td>\n",
       "      <td>-1</td>\n",
       "      <td>Racing</td>\n",
       "      <td>0.01</td>\n",
       "      <td>0.00</td>\n",
       "      <td>0.00</td>\n",
       "      <td>0.00</td>\n",
       "      <td>69.0</td>\n",
       "      <td>6.5</td>\n",
       "      <td>T</td>\n",
       "    </tr>\n",
       "    <tr>\n",
       "      <th>16448</th>\n",
       "      <td>Inversion</td>\n",
       "      <td>PC</td>\n",
       "      <td>-1</td>\n",
       "      <td>Shooter</td>\n",
       "      <td>0.01</td>\n",
       "      <td>0.00</td>\n",
       "      <td>0.00</td>\n",
       "      <td>0.00</td>\n",
       "      <td>59.0</td>\n",
       "      <td>6.7</td>\n",
       "      <td>M</td>\n",
       "    </tr>\n",
       "    <tr>\n",
       "      <th>16458</th>\n",
       "      <td>Hakuouki: Shinsengumi Kitan</td>\n",
       "      <td>PS3</td>\n",
       "      <td>-1</td>\n",
       "      <td>Adventure</td>\n",
       "      <td>0.01</td>\n",
       "      <td>0.00</td>\n",
       "      <td>0.00</td>\n",
       "      <td>0.00</td>\n",
       "      <td>NaN</td>\n",
       "      <td>NaN</td>\n",
       "      <td>NaN</td>\n",
       "    </tr>\n",
       "    <tr>\n",
       "      <th>16522</th>\n",
       "      <td>Virtua Quest</td>\n",
       "      <td>GC</td>\n",
       "      <td>-1</td>\n",
       "      <td>Role-Playing</td>\n",
       "      <td>0.01</td>\n",
       "      <td>0.00</td>\n",
       "      <td>0.00</td>\n",
       "      <td>0.00</td>\n",
       "      <td>55.0</td>\n",
       "      <td>5.5</td>\n",
       "      <td>T</td>\n",
       "    </tr>\n",
       "  </tbody>\n",
       "</table>\n",
       "<p>269 rows × 11 columns</p>\n",
       "</div>"
      ],
      "text/plain": [
       "                                    name platform  year_of_release  \\\n",
       "183                      Madden NFL 2004      PS2               -1   \n",
       "377                     FIFA Soccer 2004      PS2               -1   \n",
       "456           LEGO Batman: The Videogame      Wii               -1   \n",
       "475           wwe Smackdown vs. Raw 2006      PS2               -1   \n",
       "609                       Space Invaders     2600               -1   \n",
       "...                                  ...      ...              ...   \n",
       "16373  PDC World Championship Darts 2008      PSP               -1   \n",
       "16405                      Freaky Flyers       GC               -1   \n",
       "16448                          Inversion       PC               -1   \n",
       "16458        Hakuouki: Shinsengumi Kitan      PS3               -1   \n",
       "16522                       Virtua Quest       GC               -1   \n",
       "\n",
       "              genre  na_sales  eu_sales  jp_sales  other_sales  critic_score  \\\n",
       "183          Sports      4.26      0.26      0.01         0.71          94.0   \n",
       "377          Sports      0.59      2.36      0.04         0.51          84.0   \n",
       "456          Action      1.80      0.97      0.00         0.29          74.0   \n",
       "475        Fighting      1.57      1.02      0.00         0.41           NaN   \n",
       "609         Shooter      2.36      0.14      0.00         0.03           NaN   \n",
       "...             ...       ...       ...       ...          ...           ...   \n",
       "16373        Sports      0.01      0.00      0.00         0.00          43.0   \n",
       "16405        Racing      0.01      0.00      0.00         0.00          69.0   \n",
       "16448       Shooter      0.01      0.00      0.00         0.00          59.0   \n",
       "16458     Adventure      0.01      0.00      0.00         0.00           NaN   \n",
       "16522  Role-Playing      0.01      0.00      0.00         0.00          55.0   \n",
       "\n",
       "      user_score rating  \n",
       "183          8.5      E  \n",
       "377          6.4      E  \n",
       "456          7.9   E10+  \n",
       "475          NaN    NaN  \n",
       "609          NaN    NaN  \n",
       "...          ...    ...  \n",
       "16373        tbd   E10+  \n",
       "16405        6.5      T  \n",
       "16448        6.7      M  \n",
       "16458        NaN    NaN  \n",
       "16522        5.5      T  \n",
       "\n",
       "[269 rows x 11 columns]"
      ]
     },
     "execution_count": 10,
     "metadata": {},
     "output_type": "execute_result"
    }
   ],
   "source": [
    "df['year_of_release'] = df['year_of_release'].fillna(-1)\n",
    "df.query('year_of_release==-1')"
   ]
  },
  {
   "cell_type": "markdown",
   "metadata": {},
   "source": [
    "#### Обработка значения \"tbd\" в столбце <i>\"user_score\""
   ]
  },
  {
   "cell_type": "markdown",
   "metadata": {},
   "source": [
    "<b>tbd расшифровывается как - To Be Determined, то есть \"Будет определено\"</b><br>\n",
    "Т.к. мы не можем знать фактическое значение, мы их заполним \"-1\"."
   ]
  },
  {
   "cell_type": "code",
   "execution_count": 11,
   "metadata": {},
   "outputs": [],
   "source": [
    "df['user_score'] = df['user_score'].replace('tbd', -1)\n",
    "df['user_score'] = pd.to_numeric(df['user_score'])"
   ]
  },
  {
   "cell_type": "markdown",
   "metadata": {},
   "source": [
    "#### Пропуски в столбцах <i>\"critic_score\", \"user_score\" и \"rating\""
   ]
  },
  {
   "cell_type": "code",
   "execution_count": 12,
   "metadata": {
    "scrolled": true
   },
   "outputs": [
    {
     "data": {
      "text/html": [
       "<div>\n",
       "<style scoped>\n",
       "    .dataframe tbody tr th:only-of-type {\n",
       "        vertical-align: middle;\n",
       "    }\n",
       "\n",
       "    .dataframe tbody tr th {\n",
       "        vertical-align: top;\n",
       "    }\n",
       "\n",
       "    .dataframe thead th {\n",
       "        text-align: right;\n",
       "    }\n",
       "</style>\n",
       "<table border=\"1\" class=\"dataframe\">\n",
       "  <thead>\n",
       "    <tr style=\"text-align: right;\">\n",
       "      <th></th>\n",
       "      <th>name</th>\n",
       "      <th>platform</th>\n",
       "      <th>year_of_release</th>\n",
       "      <th>genre</th>\n",
       "      <th>na_sales</th>\n",
       "      <th>eu_sales</th>\n",
       "      <th>jp_sales</th>\n",
       "      <th>other_sales</th>\n",
       "      <th>critic_score</th>\n",
       "      <th>user_score</th>\n",
       "      <th>rating</th>\n",
       "    </tr>\n",
       "  </thead>\n",
       "  <tbody>\n",
       "    <tr>\n",
       "      <th>1</th>\n",
       "      <td>Super Mario Bros.</td>\n",
       "      <td>NES</td>\n",
       "      <td>1985</td>\n",
       "      <td>Platform</td>\n",
       "      <td>29.08</td>\n",
       "      <td>3.58</td>\n",
       "      <td>6.81</td>\n",
       "      <td>0.77</td>\n",
       "      <td>NaN</td>\n",
       "      <td>NaN</td>\n",
       "      <td>NaN</td>\n",
       "    </tr>\n",
       "    <tr>\n",
       "      <th>4</th>\n",
       "      <td>Pokemon Red/Pokemon Blue</td>\n",
       "      <td>GB</td>\n",
       "      <td>1996</td>\n",
       "      <td>Role-Playing</td>\n",
       "      <td>11.27</td>\n",
       "      <td>8.89</td>\n",
       "      <td>10.22</td>\n",
       "      <td>1.00</td>\n",
       "      <td>NaN</td>\n",
       "      <td>NaN</td>\n",
       "      <td>NaN</td>\n",
       "    </tr>\n",
       "    <tr>\n",
       "      <th>5</th>\n",
       "      <td>Tetris</td>\n",
       "      <td>GB</td>\n",
       "      <td>1989</td>\n",
       "      <td>Puzzle</td>\n",
       "      <td>23.20</td>\n",
       "      <td>2.26</td>\n",
       "      <td>4.22</td>\n",
       "      <td>0.58</td>\n",
       "      <td>NaN</td>\n",
       "      <td>NaN</td>\n",
       "      <td>NaN</td>\n",
       "    </tr>\n",
       "    <tr>\n",
       "      <th>9</th>\n",
       "      <td>Duck Hunt</td>\n",
       "      <td>NES</td>\n",
       "      <td>1984</td>\n",
       "      <td>Shooter</td>\n",
       "      <td>26.93</td>\n",
       "      <td>0.63</td>\n",
       "      <td>0.28</td>\n",
       "      <td>0.47</td>\n",
       "      <td>NaN</td>\n",
       "      <td>NaN</td>\n",
       "      <td>NaN</td>\n",
       "    </tr>\n",
       "    <tr>\n",
       "      <th>10</th>\n",
       "      <td>Nintendogs</td>\n",
       "      <td>DS</td>\n",
       "      <td>2005</td>\n",
       "      <td>Simulation</td>\n",
       "      <td>9.05</td>\n",
       "      <td>10.95</td>\n",
       "      <td>1.93</td>\n",
       "      <td>2.74</td>\n",
       "      <td>NaN</td>\n",
       "      <td>NaN</td>\n",
       "      <td>NaN</td>\n",
       "    </tr>\n",
       "    <tr>\n",
       "      <th>...</th>\n",
       "      <td>...</td>\n",
       "      <td>...</td>\n",
       "      <td>...</td>\n",
       "      <td>...</td>\n",
       "      <td>...</td>\n",
       "      <td>...</td>\n",
       "      <td>...</td>\n",
       "      <td>...</td>\n",
       "      <td>...</td>\n",
       "      <td>...</td>\n",
       "      <td>...</td>\n",
       "    </tr>\n",
       "    <tr>\n",
       "      <th>16710</th>\n",
       "      <td>Samurai Warriors: Sanada Maru</td>\n",
       "      <td>PS3</td>\n",
       "      <td>2016</td>\n",
       "      <td>Action</td>\n",
       "      <td>0.00</td>\n",
       "      <td>0.00</td>\n",
       "      <td>0.01</td>\n",
       "      <td>0.00</td>\n",
       "      <td>NaN</td>\n",
       "      <td>NaN</td>\n",
       "      <td>NaN</td>\n",
       "    </tr>\n",
       "    <tr>\n",
       "      <th>16711</th>\n",
       "      <td>LMA Manager 2007</td>\n",
       "      <td>X360</td>\n",
       "      <td>2006</td>\n",
       "      <td>Sports</td>\n",
       "      <td>0.00</td>\n",
       "      <td>0.01</td>\n",
       "      <td>0.00</td>\n",
       "      <td>0.00</td>\n",
       "      <td>NaN</td>\n",
       "      <td>NaN</td>\n",
       "      <td>NaN</td>\n",
       "    </tr>\n",
       "    <tr>\n",
       "      <th>16712</th>\n",
       "      <td>Haitaka no Psychedelica</td>\n",
       "      <td>PSV</td>\n",
       "      <td>2016</td>\n",
       "      <td>Adventure</td>\n",
       "      <td>0.00</td>\n",
       "      <td>0.00</td>\n",
       "      <td>0.01</td>\n",
       "      <td>0.00</td>\n",
       "      <td>NaN</td>\n",
       "      <td>NaN</td>\n",
       "      <td>NaN</td>\n",
       "    </tr>\n",
       "    <tr>\n",
       "      <th>16713</th>\n",
       "      <td>Spirits &amp; Spells</td>\n",
       "      <td>GBA</td>\n",
       "      <td>2003</td>\n",
       "      <td>Platform</td>\n",
       "      <td>0.01</td>\n",
       "      <td>0.00</td>\n",
       "      <td>0.00</td>\n",
       "      <td>0.00</td>\n",
       "      <td>NaN</td>\n",
       "      <td>NaN</td>\n",
       "      <td>NaN</td>\n",
       "    </tr>\n",
       "    <tr>\n",
       "      <th>16714</th>\n",
       "      <td>Winning Post 8 2016</td>\n",
       "      <td>PSV</td>\n",
       "      <td>2016</td>\n",
       "      <td>Simulation</td>\n",
       "      <td>0.00</td>\n",
       "      <td>0.00</td>\n",
       "      <td>0.01</td>\n",
       "      <td>0.00</td>\n",
       "      <td>NaN</td>\n",
       "      <td>NaN</td>\n",
       "      <td>NaN</td>\n",
       "    </tr>\n",
       "  </tbody>\n",
       "</table>\n",
       "<p>8576 rows × 11 columns</p>\n",
       "</div>"
      ],
      "text/plain": [
       "                                name platform  year_of_release         genre  \\\n",
       "1                  Super Mario Bros.      NES             1985      Platform   \n",
       "4           Pokemon Red/Pokemon Blue       GB             1996  Role-Playing   \n",
       "5                             Tetris       GB             1989        Puzzle   \n",
       "9                          Duck Hunt      NES             1984       Shooter   \n",
       "10                        Nintendogs       DS             2005    Simulation   \n",
       "...                              ...      ...              ...           ...   \n",
       "16710  Samurai Warriors: Sanada Maru      PS3             2016        Action   \n",
       "16711               LMA Manager 2007     X360             2006        Sports   \n",
       "16712        Haitaka no Psychedelica      PSV             2016     Adventure   \n",
       "16713               Spirits & Spells      GBA             2003      Platform   \n",
       "16714            Winning Post 8 2016      PSV             2016    Simulation   \n",
       "\n",
       "       na_sales  eu_sales  jp_sales  other_sales  critic_score  user_score  \\\n",
       "1         29.08      3.58      6.81         0.77           NaN         NaN   \n",
       "4         11.27      8.89     10.22         1.00           NaN         NaN   \n",
       "5         23.20      2.26      4.22         0.58           NaN         NaN   \n",
       "9         26.93      0.63      0.28         0.47           NaN         NaN   \n",
       "10         9.05     10.95      1.93         2.74           NaN         NaN   \n",
       "...         ...       ...       ...          ...           ...         ...   \n",
       "16710      0.00      0.00      0.01         0.00           NaN         NaN   \n",
       "16711      0.00      0.01      0.00         0.00           NaN         NaN   \n",
       "16712      0.00      0.00      0.01         0.00           NaN         NaN   \n",
       "16713      0.01      0.00      0.00         0.00           NaN         NaN   \n",
       "16714      0.00      0.00      0.01         0.00           NaN         NaN   \n",
       "\n",
       "      rating  \n",
       "1        NaN  \n",
       "4        NaN  \n",
       "5        NaN  \n",
       "9        NaN  \n",
       "10       NaN  \n",
       "...      ...  \n",
       "16710    NaN  \n",
       "16711    NaN  \n",
       "16712    NaN  \n",
       "16713    NaN  \n",
       "16714    NaN  \n",
       "\n",
       "[8576 rows x 11 columns]"
      ]
     },
     "execution_count": 12,
     "metadata": {},
     "output_type": "execute_result"
    }
   ],
   "source": [
    "#вывод на экран пропусков в столбце critic_score\n",
    "df.query('critic_score.isnull()')"
   ]
  },
  {
   "cell_type": "code",
   "execution_count": 13,
   "metadata": {},
   "outputs": [
    {
     "data": {
      "text/html": [
       "<div>\n",
       "<style scoped>\n",
       "    .dataframe tbody tr th:only-of-type {\n",
       "        vertical-align: middle;\n",
       "    }\n",
       "\n",
       "    .dataframe tbody tr th {\n",
       "        vertical-align: top;\n",
       "    }\n",
       "\n",
       "    .dataframe thead th {\n",
       "        text-align: right;\n",
       "    }\n",
       "</style>\n",
       "<table border=\"1\" class=\"dataframe\">\n",
       "  <thead>\n",
       "    <tr style=\"text-align: right;\">\n",
       "      <th></th>\n",
       "      <th>name</th>\n",
       "      <th>platform</th>\n",
       "      <th>year_of_release</th>\n",
       "      <th>genre</th>\n",
       "      <th>na_sales</th>\n",
       "      <th>eu_sales</th>\n",
       "      <th>jp_sales</th>\n",
       "      <th>other_sales</th>\n",
       "      <th>critic_score</th>\n",
       "      <th>user_score</th>\n",
       "      <th>rating</th>\n",
       "    </tr>\n",
       "  </thead>\n",
       "  <tbody>\n",
       "    <tr>\n",
       "      <th>1</th>\n",
       "      <td>Super Mario Bros.</td>\n",
       "      <td>NES</td>\n",
       "      <td>1985</td>\n",
       "      <td>Platform</td>\n",
       "      <td>29.08</td>\n",
       "      <td>3.58</td>\n",
       "      <td>6.81</td>\n",
       "      <td>0.77</td>\n",
       "      <td>NaN</td>\n",
       "      <td>NaN</td>\n",
       "      <td>NaN</td>\n",
       "    </tr>\n",
       "    <tr>\n",
       "      <th>4</th>\n",
       "      <td>Pokemon Red/Pokemon Blue</td>\n",
       "      <td>GB</td>\n",
       "      <td>1996</td>\n",
       "      <td>Role-Playing</td>\n",
       "      <td>11.27</td>\n",
       "      <td>8.89</td>\n",
       "      <td>10.22</td>\n",
       "      <td>1.00</td>\n",
       "      <td>NaN</td>\n",
       "      <td>NaN</td>\n",
       "      <td>NaN</td>\n",
       "    </tr>\n",
       "    <tr>\n",
       "      <th>5</th>\n",
       "      <td>Tetris</td>\n",
       "      <td>GB</td>\n",
       "      <td>1989</td>\n",
       "      <td>Puzzle</td>\n",
       "      <td>23.20</td>\n",
       "      <td>2.26</td>\n",
       "      <td>4.22</td>\n",
       "      <td>0.58</td>\n",
       "      <td>NaN</td>\n",
       "      <td>NaN</td>\n",
       "      <td>NaN</td>\n",
       "    </tr>\n",
       "    <tr>\n",
       "      <th>9</th>\n",
       "      <td>Duck Hunt</td>\n",
       "      <td>NES</td>\n",
       "      <td>1984</td>\n",
       "      <td>Shooter</td>\n",
       "      <td>26.93</td>\n",
       "      <td>0.63</td>\n",
       "      <td>0.28</td>\n",
       "      <td>0.47</td>\n",
       "      <td>NaN</td>\n",
       "      <td>NaN</td>\n",
       "      <td>NaN</td>\n",
       "    </tr>\n",
       "    <tr>\n",
       "      <th>10</th>\n",
       "      <td>Nintendogs</td>\n",
       "      <td>DS</td>\n",
       "      <td>2005</td>\n",
       "      <td>Simulation</td>\n",
       "      <td>9.05</td>\n",
       "      <td>10.95</td>\n",
       "      <td>1.93</td>\n",
       "      <td>2.74</td>\n",
       "      <td>NaN</td>\n",
       "      <td>NaN</td>\n",
       "      <td>NaN</td>\n",
       "    </tr>\n",
       "    <tr>\n",
       "      <th>...</th>\n",
       "      <td>...</td>\n",
       "      <td>...</td>\n",
       "      <td>...</td>\n",
       "      <td>...</td>\n",
       "      <td>...</td>\n",
       "      <td>...</td>\n",
       "      <td>...</td>\n",
       "      <td>...</td>\n",
       "      <td>...</td>\n",
       "      <td>...</td>\n",
       "      <td>...</td>\n",
       "    </tr>\n",
       "    <tr>\n",
       "      <th>16710</th>\n",
       "      <td>Samurai Warriors: Sanada Maru</td>\n",
       "      <td>PS3</td>\n",
       "      <td>2016</td>\n",
       "      <td>Action</td>\n",
       "      <td>0.00</td>\n",
       "      <td>0.00</td>\n",
       "      <td>0.01</td>\n",
       "      <td>0.00</td>\n",
       "      <td>NaN</td>\n",
       "      <td>NaN</td>\n",
       "      <td>NaN</td>\n",
       "    </tr>\n",
       "    <tr>\n",
       "      <th>16711</th>\n",
       "      <td>LMA Manager 2007</td>\n",
       "      <td>X360</td>\n",
       "      <td>2006</td>\n",
       "      <td>Sports</td>\n",
       "      <td>0.00</td>\n",
       "      <td>0.01</td>\n",
       "      <td>0.00</td>\n",
       "      <td>0.00</td>\n",
       "      <td>NaN</td>\n",
       "      <td>NaN</td>\n",
       "      <td>NaN</td>\n",
       "    </tr>\n",
       "    <tr>\n",
       "      <th>16712</th>\n",
       "      <td>Haitaka no Psychedelica</td>\n",
       "      <td>PSV</td>\n",
       "      <td>2016</td>\n",
       "      <td>Adventure</td>\n",
       "      <td>0.00</td>\n",
       "      <td>0.00</td>\n",
       "      <td>0.01</td>\n",
       "      <td>0.00</td>\n",
       "      <td>NaN</td>\n",
       "      <td>NaN</td>\n",
       "      <td>NaN</td>\n",
       "    </tr>\n",
       "    <tr>\n",
       "      <th>16713</th>\n",
       "      <td>Spirits &amp; Spells</td>\n",
       "      <td>GBA</td>\n",
       "      <td>2003</td>\n",
       "      <td>Platform</td>\n",
       "      <td>0.01</td>\n",
       "      <td>0.00</td>\n",
       "      <td>0.00</td>\n",
       "      <td>0.00</td>\n",
       "      <td>NaN</td>\n",
       "      <td>NaN</td>\n",
       "      <td>NaN</td>\n",
       "    </tr>\n",
       "    <tr>\n",
       "      <th>16714</th>\n",
       "      <td>Winning Post 8 2016</td>\n",
       "      <td>PSV</td>\n",
       "      <td>2016</td>\n",
       "      <td>Simulation</td>\n",
       "      <td>0.00</td>\n",
       "      <td>0.00</td>\n",
       "      <td>0.01</td>\n",
       "      <td>0.00</td>\n",
       "      <td>NaN</td>\n",
       "      <td>NaN</td>\n",
       "      <td>NaN</td>\n",
       "    </tr>\n",
       "  </tbody>\n",
       "</table>\n",
       "<p>6699 rows × 11 columns</p>\n",
       "</div>"
      ],
      "text/plain": [
       "                                name platform  year_of_release         genre  \\\n",
       "1                  Super Mario Bros.      NES             1985      Platform   \n",
       "4           Pokemon Red/Pokemon Blue       GB             1996  Role-Playing   \n",
       "5                             Tetris       GB             1989        Puzzle   \n",
       "9                          Duck Hunt      NES             1984       Shooter   \n",
       "10                        Nintendogs       DS             2005    Simulation   \n",
       "...                              ...      ...              ...           ...   \n",
       "16710  Samurai Warriors: Sanada Maru      PS3             2016        Action   \n",
       "16711               LMA Manager 2007     X360             2006        Sports   \n",
       "16712        Haitaka no Psychedelica      PSV             2016     Adventure   \n",
       "16713               Spirits & Spells      GBA             2003      Platform   \n",
       "16714            Winning Post 8 2016      PSV             2016    Simulation   \n",
       "\n",
       "       na_sales  eu_sales  jp_sales  other_sales  critic_score  user_score  \\\n",
       "1         29.08      3.58      6.81         0.77           NaN         NaN   \n",
       "4         11.27      8.89     10.22         1.00           NaN         NaN   \n",
       "5         23.20      2.26      4.22         0.58           NaN         NaN   \n",
       "9         26.93      0.63      0.28         0.47           NaN         NaN   \n",
       "10         9.05     10.95      1.93         2.74           NaN         NaN   \n",
       "...         ...       ...       ...          ...           ...         ...   \n",
       "16710      0.00      0.00      0.01         0.00           NaN         NaN   \n",
       "16711      0.00      0.01      0.00         0.00           NaN         NaN   \n",
       "16712      0.00      0.00      0.01         0.00           NaN         NaN   \n",
       "16713      0.01      0.00      0.00         0.00           NaN         NaN   \n",
       "16714      0.00      0.00      0.01         0.00           NaN         NaN   \n",
       "\n",
       "      rating  \n",
       "1        NaN  \n",
       "4        NaN  \n",
       "5        NaN  \n",
       "9        NaN  \n",
       "10       NaN  \n",
       "...      ...  \n",
       "16710    NaN  \n",
       "16711    NaN  \n",
       "16712    NaN  \n",
       "16713    NaN  \n",
       "16714    NaN  \n",
       "\n",
       "[6699 rows x 11 columns]"
      ]
     },
     "execution_count": 13,
     "metadata": {},
     "output_type": "execute_result"
    }
   ],
   "source": [
    "#вывод на экран пропусков в столбце user_score\n",
    "df.query('user_score.isnull()')"
   ]
  },
  {
   "cell_type": "code",
   "execution_count": 14,
   "metadata": {},
   "outputs": [
    {
     "data": {
      "text/html": [
       "<div>\n",
       "<style scoped>\n",
       "    .dataframe tbody tr th:only-of-type {\n",
       "        vertical-align: middle;\n",
       "    }\n",
       "\n",
       "    .dataframe tbody tr th {\n",
       "        vertical-align: top;\n",
       "    }\n",
       "\n",
       "    .dataframe thead th {\n",
       "        text-align: right;\n",
       "    }\n",
       "</style>\n",
       "<table border=\"1\" class=\"dataframe\">\n",
       "  <thead>\n",
       "    <tr style=\"text-align: right;\">\n",
       "      <th></th>\n",
       "      <th>name</th>\n",
       "      <th>platform</th>\n",
       "      <th>year_of_release</th>\n",
       "      <th>genre</th>\n",
       "      <th>na_sales</th>\n",
       "      <th>eu_sales</th>\n",
       "      <th>jp_sales</th>\n",
       "      <th>other_sales</th>\n",
       "      <th>critic_score</th>\n",
       "      <th>user_score</th>\n",
       "      <th>rating</th>\n",
       "    </tr>\n",
       "  </thead>\n",
       "  <tbody>\n",
       "    <tr>\n",
       "      <th>1</th>\n",
       "      <td>Super Mario Bros.</td>\n",
       "      <td>NES</td>\n",
       "      <td>1985</td>\n",
       "      <td>Platform</td>\n",
       "      <td>29.08</td>\n",
       "      <td>3.58</td>\n",
       "      <td>6.81</td>\n",
       "      <td>0.77</td>\n",
       "      <td>NaN</td>\n",
       "      <td>NaN</td>\n",
       "      <td>NaN</td>\n",
       "    </tr>\n",
       "    <tr>\n",
       "      <th>4</th>\n",
       "      <td>Pokemon Red/Pokemon Blue</td>\n",
       "      <td>GB</td>\n",
       "      <td>1996</td>\n",
       "      <td>Role-Playing</td>\n",
       "      <td>11.27</td>\n",
       "      <td>8.89</td>\n",
       "      <td>10.22</td>\n",
       "      <td>1.00</td>\n",
       "      <td>NaN</td>\n",
       "      <td>NaN</td>\n",
       "      <td>NaN</td>\n",
       "    </tr>\n",
       "    <tr>\n",
       "      <th>5</th>\n",
       "      <td>Tetris</td>\n",
       "      <td>GB</td>\n",
       "      <td>1989</td>\n",
       "      <td>Puzzle</td>\n",
       "      <td>23.20</td>\n",
       "      <td>2.26</td>\n",
       "      <td>4.22</td>\n",
       "      <td>0.58</td>\n",
       "      <td>NaN</td>\n",
       "      <td>NaN</td>\n",
       "      <td>NaN</td>\n",
       "    </tr>\n",
       "    <tr>\n",
       "      <th>9</th>\n",
       "      <td>Duck Hunt</td>\n",
       "      <td>NES</td>\n",
       "      <td>1984</td>\n",
       "      <td>Shooter</td>\n",
       "      <td>26.93</td>\n",
       "      <td>0.63</td>\n",
       "      <td>0.28</td>\n",
       "      <td>0.47</td>\n",
       "      <td>NaN</td>\n",
       "      <td>NaN</td>\n",
       "      <td>NaN</td>\n",
       "    </tr>\n",
       "    <tr>\n",
       "      <th>10</th>\n",
       "      <td>Nintendogs</td>\n",
       "      <td>DS</td>\n",
       "      <td>2005</td>\n",
       "      <td>Simulation</td>\n",
       "      <td>9.05</td>\n",
       "      <td>10.95</td>\n",
       "      <td>1.93</td>\n",
       "      <td>2.74</td>\n",
       "      <td>NaN</td>\n",
       "      <td>NaN</td>\n",
       "      <td>NaN</td>\n",
       "    </tr>\n",
       "    <tr>\n",
       "      <th>...</th>\n",
       "      <td>...</td>\n",
       "      <td>...</td>\n",
       "      <td>...</td>\n",
       "      <td>...</td>\n",
       "      <td>...</td>\n",
       "      <td>...</td>\n",
       "      <td>...</td>\n",
       "      <td>...</td>\n",
       "      <td>...</td>\n",
       "      <td>...</td>\n",
       "      <td>...</td>\n",
       "    </tr>\n",
       "    <tr>\n",
       "      <th>16710</th>\n",
       "      <td>Samurai Warriors: Sanada Maru</td>\n",
       "      <td>PS3</td>\n",
       "      <td>2016</td>\n",
       "      <td>Action</td>\n",
       "      <td>0.00</td>\n",
       "      <td>0.00</td>\n",
       "      <td>0.01</td>\n",
       "      <td>0.00</td>\n",
       "      <td>NaN</td>\n",
       "      <td>NaN</td>\n",
       "      <td>NaN</td>\n",
       "    </tr>\n",
       "    <tr>\n",
       "      <th>16711</th>\n",
       "      <td>LMA Manager 2007</td>\n",
       "      <td>X360</td>\n",
       "      <td>2006</td>\n",
       "      <td>Sports</td>\n",
       "      <td>0.00</td>\n",
       "      <td>0.01</td>\n",
       "      <td>0.00</td>\n",
       "      <td>0.00</td>\n",
       "      <td>NaN</td>\n",
       "      <td>NaN</td>\n",
       "      <td>NaN</td>\n",
       "    </tr>\n",
       "    <tr>\n",
       "      <th>16712</th>\n",
       "      <td>Haitaka no Psychedelica</td>\n",
       "      <td>PSV</td>\n",
       "      <td>2016</td>\n",
       "      <td>Adventure</td>\n",
       "      <td>0.00</td>\n",
       "      <td>0.00</td>\n",
       "      <td>0.01</td>\n",
       "      <td>0.00</td>\n",
       "      <td>NaN</td>\n",
       "      <td>NaN</td>\n",
       "      <td>NaN</td>\n",
       "    </tr>\n",
       "    <tr>\n",
       "      <th>16713</th>\n",
       "      <td>Spirits &amp; Spells</td>\n",
       "      <td>GBA</td>\n",
       "      <td>2003</td>\n",
       "      <td>Platform</td>\n",
       "      <td>0.01</td>\n",
       "      <td>0.00</td>\n",
       "      <td>0.00</td>\n",
       "      <td>0.00</td>\n",
       "      <td>NaN</td>\n",
       "      <td>NaN</td>\n",
       "      <td>NaN</td>\n",
       "    </tr>\n",
       "    <tr>\n",
       "      <th>16714</th>\n",
       "      <td>Winning Post 8 2016</td>\n",
       "      <td>PSV</td>\n",
       "      <td>2016</td>\n",
       "      <td>Simulation</td>\n",
       "      <td>0.00</td>\n",
       "      <td>0.00</td>\n",
       "      <td>0.01</td>\n",
       "      <td>0.00</td>\n",
       "      <td>NaN</td>\n",
       "      <td>NaN</td>\n",
       "      <td>NaN</td>\n",
       "    </tr>\n",
       "  </tbody>\n",
       "</table>\n",
       "<p>6764 rows × 11 columns</p>\n",
       "</div>"
      ],
      "text/plain": [
       "                                name platform  year_of_release         genre  \\\n",
       "1                  Super Mario Bros.      NES             1985      Platform   \n",
       "4           Pokemon Red/Pokemon Blue       GB             1996  Role-Playing   \n",
       "5                             Tetris       GB             1989        Puzzle   \n",
       "9                          Duck Hunt      NES             1984       Shooter   \n",
       "10                        Nintendogs       DS             2005    Simulation   \n",
       "...                              ...      ...              ...           ...   \n",
       "16710  Samurai Warriors: Sanada Maru      PS3             2016        Action   \n",
       "16711               LMA Manager 2007     X360             2006        Sports   \n",
       "16712        Haitaka no Psychedelica      PSV             2016     Adventure   \n",
       "16713               Spirits & Spells      GBA             2003      Platform   \n",
       "16714            Winning Post 8 2016      PSV             2016    Simulation   \n",
       "\n",
       "       na_sales  eu_sales  jp_sales  other_sales  critic_score  user_score  \\\n",
       "1         29.08      3.58      6.81         0.77           NaN         NaN   \n",
       "4         11.27      8.89     10.22         1.00           NaN         NaN   \n",
       "5         23.20      2.26      4.22         0.58           NaN         NaN   \n",
       "9         26.93      0.63      0.28         0.47           NaN         NaN   \n",
       "10         9.05     10.95      1.93         2.74           NaN         NaN   \n",
       "...         ...       ...       ...          ...           ...         ...   \n",
       "16710      0.00      0.00      0.01         0.00           NaN         NaN   \n",
       "16711      0.00      0.01      0.00         0.00           NaN         NaN   \n",
       "16712      0.00      0.00      0.01         0.00           NaN         NaN   \n",
       "16713      0.01      0.00      0.00         0.00           NaN         NaN   \n",
       "16714      0.00      0.00      0.01         0.00           NaN         NaN   \n",
       "\n",
       "      rating  \n",
       "1        NaN  \n",
       "4        NaN  \n",
       "5        NaN  \n",
       "9        NaN  \n",
       "10       NaN  \n",
       "...      ...  \n",
       "16710    NaN  \n",
       "16711    NaN  \n",
       "16712    NaN  \n",
       "16713    NaN  \n",
       "16714    NaN  \n",
       "\n",
       "[6764 rows x 11 columns]"
      ]
     },
     "execution_count": 14,
     "metadata": {},
     "output_type": "execute_result"
    }
   ],
   "source": [
    "#вывод на экран пропусков в столбце rating\n",
    "df.query('rating.isnull()')"
   ]
  },
  {
   "cell_type": "markdown",
   "metadata": {},
   "source": [
    "<b> Т.к. в столбцах \"critic_score\", \"user_score\" и \"rating\" большое количество пропусков.<br>\n",
    "Бросается в глаза отсутствие всех искомых данных в значительном количестве строк, что приводит к мысли о том, что значения были не заполнены сознательно или отсутсвовала информация. <br>\n",
    "Т.к. мы не можем субективно оценить на значения этих параметров, мы их заполним \"-1\"."
   ]
  },
  {
   "cell_type": "code",
   "execution_count": 15,
   "metadata": {},
   "outputs": [],
   "source": [
    "df['critic_score'] = df['critic_score'].fillna(-1)\n",
    "df['user_score'] = df['user_score'].fillna(-1)\n",
    "df['rating'] = df['rating'].fillna(-1)"
   ]
  },
  {
   "cell_type": "markdown",
   "metadata": {},
   "source": [
    "### Посчет суммарных продаж во всех регионах"
   ]
  },
  {
   "cell_type": "code",
   "execution_count": 16,
   "metadata": {},
   "outputs": [
    {
     "name": "stdout",
     "output_type": "stream",
     "text": [
      "<class 'pandas.core.frame.DataFrame'>\n",
      "Int64Index: 16713 entries, 0 to 16714\n",
      "Data columns (total 12 columns):\n",
      " #   Column           Non-Null Count  Dtype  \n",
      "---  ------           --------------  -----  \n",
      " 0   name             16713 non-null  object \n",
      " 1   platform         16713 non-null  object \n",
      " 2   year_of_release  16713 non-null  Int64  \n",
      " 3   genre            16713 non-null  object \n",
      " 4   na_sales         16713 non-null  float64\n",
      " 5   eu_sales         16713 non-null  float64\n",
      " 6   jp_sales         16713 non-null  float64\n",
      " 7   other_sales      16713 non-null  float64\n",
      " 8   critic_score     16713 non-null  float64\n",
      " 9   user_score       16713 non-null  float64\n",
      " 10  rating           16713 non-null  object \n",
      " 11  total_sales      16713 non-null  float64\n",
      "dtypes: Int64(1), float64(7), object(4)\n",
      "memory usage: 1.7+ MB\n"
     ]
    }
   ],
   "source": [
    "df['total_sales'] = df['na_sales'] + df['eu_sales'] + df['jp_sales'] + df['other_sales']\n",
    "df.info()"
   ]
  },
  {
   "cell_type": "markdown",
   "metadata": {},
   "source": [
    "<b>Промежуточные результаты:</b>\n",
    " - наименование столбцов приведены к нижнему регистру;\n",
    " - пропуски в name и genre удалены;\n",
    " - типы данных приведены в соответствие с содержанием;\n",
    " - обработаны пропуски в столбцах сritic_score, user_score и rating. Заполнение этих пропусков синтетическими данными привело бы к искажению результатов исследования, поэтому принято решение заменить их на -1 (что будет учитываться в дальнейшем исследовании);\n",
    " - в user_score заменено значения tbd на -1;\n",
    " - рассчитаны суммарные продажи во всех регионах (столбец total_sales)"
   ]
  },
  {
   "cell_type": "markdown",
   "metadata": {},
   "source": [
    "## Исследовательский анализ данных"
   ]
  },
  {
   "cell_type": "markdown",
   "metadata": {},
   "source": [
    "### Выпуск игр в разные годы"
   ]
  },
  {
   "cell_type": "code",
   "execution_count": 17,
   "metadata": {},
   "outputs": [
    {
     "data": {
      "text/html": [
       "<div>\n",
       "<style scoped>\n",
       "    .dataframe tbody tr th:only-of-type {\n",
       "        vertical-align: middle;\n",
       "    }\n",
       "\n",
       "    .dataframe tbody tr th {\n",
       "        vertical-align: top;\n",
       "    }\n",
       "\n",
       "    .dataframe thead th {\n",
       "        text-align: right;\n",
       "    }\n",
       "</style>\n",
       "<table border=\"1\" class=\"dataframe\">\n",
       "  <thead>\n",
       "    <tr style=\"text-align: right;\">\n",
       "      <th></th>\n",
       "      <th>year</th>\n",
       "      <th>quantity</th>\n",
       "    </tr>\n",
       "  </thead>\n",
       "  <tbody>\n",
       "    <tr>\n",
       "      <th>0</th>\n",
       "      <td>1980</td>\n",
       "      <td>9</td>\n",
       "    </tr>\n",
       "    <tr>\n",
       "      <th>1</th>\n",
       "      <td>1981</td>\n",
       "      <td>46</td>\n",
       "    </tr>\n",
       "    <tr>\n",
       "      <th>2</th>\n",
       "      <td>1982</td>\n",
       "      <td>36</td>\n",
       "    </tr>\n",
       "    <tr>\n",
       "      <th>3</th>\n",
       "      <td>1983</td>\n",
       "      <td>17</td>\n",
       "    </tr>\n",
       "    <tr>\n",
       "      <th>4</th>\n",
       "      <td>1984</td>\n",
       "      <td>14</td>\n",
       "    </tr>\n",
       "    <tr>\n",
       "      <th>5</th>\n",
       "      <td>1985</td>\n",
       "      <td>14</td>\n",
       "    </tr>\n",
       "    <tr>\n",
       "      <th>6</th>\n",
       "      <td>1986</td>\n",
       "      <td>21</td>\n",
       "    </tr>\n",
       "    <tr>\n",
       "      <th>7</th>\n",
       "      <td>1987</td>\n",
       "      <td>16</td>\n",
       "    </tr>\n",
       "    <tr>\n",
       "      <th>8</th>\n",
       "      <td>1988</td>\n",
       "      <td>15</td>\n",
       "    </tr>\n",
       "    <tr>\n",
       "      <th>9</th>\n",
       "      <td>1989</td>\n",
       "      <td>17</td>\n",
       "    </tr>\n",
       "    <tr>\n",
       "      <th>10</th>\n",
       "      <td>1990</td>\n",
       "      <td>16</td>\n",
       "    </tr>\n",
       "    <tr>\n",
       "      <th>11</th>\n",
       "      <td>1991</td>\n",
       "      <td>41</td>\n",
       "    </tr>\n",
       "    <tr>\n",
       "      <th>12</th>\n",
       "      <td>1992</td>\n",
       "      <td>43</td>\n",
       "    </tr>\n",
       "    <tr>\n",
       "      <th>13</th>\n",
       "      <td>1993</td>\n",
       "      <td>60</td>\n",
       "    </tr>\n",
       "    <tr>\n",
       "      <th>14</th>\n",
       "      <td>1994</td>\n",
       "      <td>121</td>\n",
       "    </tr>\n",
       "    <tr>\n",
       "      <th>15</th>\n",
       "      <td>1995</td>\n",
       "      <td>219</td>\n",
       "    </tr>\n",
       "    <tr>\n",
       "      <th>16</th>\n",
       "      <td>1996</td>\n",
       "      <td>263</td>\n",
       "    </tr>\n",
       "    <tr>\n",
       "      <th>17</th>\n",
       "      <td>1997</td>\n",
       "      <td>289</td>\n",
       "    </tr>\n",
       "    <tr>\n",
       "      <th>18</th>\n",
       "      <td>1998</td>\n",
       "      <td>379</td>\n",
       "    </tr>\n",
       "    <tr>\n",
       "      <th>19</th>\n",
       "      <td>1999</td>\n",
       "      <td>338</td>\n",
       "    </tr>\n",
       "    <tr>\n",
       "      <th>20</th>\n",
       "      <td>2000</td>\n",
       "      <td>350</td>\n",
       "    </tr>\n",
       "    <tr>\n",
       "      <th>21</th>\n",
       "      <td>2001</td>\n",
       "      <td>482</td>\n",
       "    </tr>\n",
       "    <tr>\n",
       "      <th>22</th>\n",
       "      <td>2002</td>\n",
       "      <td>829</td>\n",
       "    </tr>\n",
       "    <tr>\n",
       "      <th>23</th>\n",
       "      <td>2003</td>\n",
       "      <td>775</td>\n",
       "    </tr>\n",
       "    <tr>\n",
       "      <th>24</th>\n",
       "      <td>2004</td>\n",
       "      <td>762</td>\n",
       "    </tr>\n",
       "    <tr>\n",
       "      <th>25</th>\n",
       "      <td>2005</td>\n",
       "      <td>939</td>\n",
       "    </tr>\n",
       "    <tr>\n",
       "      <th>26</th>\n",
       "      <td>2006</td>\n",
       "      <td>1006</td>\n",
       "    </tr>\n",
       "    <tr>\n",
       "      <th>27</th>\n",
       "      <td>2007</td>\n",
       "      <td>1197</td>\n",
       "    </tr>\n",
       "    <tr>\n",
       "      <th>28</th>\n",
       "      <td>2008</td>\n",
       "      <td>1427</td>\n",
       "    </tr>\n",
       "    <tr>\n",
       "      <th>29</th>\n",
       "      <td>2009</td>\n",
       "      <td>1426</td>\n",
       "    </tr>\n",
       "    <tr>\n",
       "      <th>30</th>\n",
       "      <td>2010</td>\n",
       "      <td>1255</td>\n",
       "    </tr>\n",
       "    <tr>\n",
       "      <th>31</th>\n",
       "      <td>2011</td>\n",
       "      <td>1136</td>\n",
       "    </tr>\n",
       "    <tr>\n",
       "      <th>32</th>\n",
       "      <td>2012</td>\n",
       "      <td>653</td>\n",
       "    </tr>\n",
       "    <tr>\n",
       "      <th>33</th>\n",
       "      <td>2013</td>\n",
       "      <td>544</td>\n",
       "    </tr>\n",
       "    <tr>\n",
       "      <th>34</th>\n",
       "      <td>2014</td>\n",
       "      <td>581</td>\n",
       "    </tr>\n",
       "    <tr>\n",
       "      <th>35</th>\n",
       "      <td>2015</td>\n",
       "      <td>606</td>\n",
       "    </tr>\n",
       "    <tr>\n",
       "      <th>36</th>\n",
       "      <td>2016</td>\n",
       "      <td>502</td>\n",
       "    </tr>\n",
       "  </tbody>\n",
       "</table>\n",
       "</div>"
      ],
      "text/plain": [
       "    year  quantity\n",
       "0   1980         9\n",
       "1   1981        46\n",
       "2   1982        36\n",
       "3   1983        17\n",
       "4   1984        14\n",
       "5   1985        14\n",
       "6   1986        21\n",
       "7   1987        16\n",
       "8   1988        15\n",
       "9   1989        17\n",
       "10  1990        16\n",
       "11  1991        41\n",
       "12  1992        43\n",
       "13  1993        60\n",
       "14  1994       121\n",
       "15  1995       219\n",
       "16  1996       263\n",
       "17  1997       289\n",
       "18  1998       379\n",
       "19  1999       338\n",
       "20  2000       350\n",
       "21  2001       482\n",
       "22  2002       829\n",
       "23  2003       775\n",
       "24  2004       762\n",
       "25  2005       939\n",
       "26  2006      1006\n",
       "27  2007      1197\n",
       "28  2008      1427\n",
       "29  2009      1426\n",
       "30  2010      1255\n",
       "31  2011      1136\n",
       "32  2012       653\n",
       "33  2013       544\n",
       "34  2014       581\n",
       "35  2015       606\n",
       "36  2016       502"
      ]
     },
     "execution_count": 17,
     "metadata": {},
     "output_type": "execute_result"
    }
   ],
   "source": [
    "y_rel = df.query('year_of_release >= 0').groupby('year_of_release')['name'].count().reset_index()\n",
    "y_rel.columns = ['year', 'quantity']\n",
    "y_rel"
   ]
  },
  {
   "cell_type": "code",
   "execution_count": 18,
   "metadata": {
    "scrolled": false
   },
   "outputs": [
    {
     "data": {
      "image/png": "[encoded data removed]",
      "text/plain": [
       "<Figure size 1008x360 with 1 Axes>"
      ]
     },
     "metadata": {
      "needs_background": "light"
     },
     "output_type": "display_data"
    }
   ],
   "source": [
    "plt.figure(figsize=(14, 5))\n",
    "plt.bar(y_rel['year'], y_rel['quantity'], alpha=0.85, width=0.9)\n",
    "plt.title('Количество релизов по годам')\n",
    "plt.xlabel('Год релиза')\n",
    "plt.ylabel('Количество релизов')\n",
    "plt.grid()\n",
    "\n",
    "plt.show();"
   ]
  },
  {
   "cell_type": "markdown",
   "metadata": {},
   "source": [
    "<b>Вывод:\n",
    "\n",
    "Исходя из графика можно сделать вывод о том, что для анализа предположительно достаточно выборки данных начиная с 2000 года.\n",
    "    \n",
    "\n",
    "Также можно проследить значительный рост с 1994 по 2008 гг., который сменился значительным (в 2 раза) падением.\n",
    "    \n",
    "За последние 5 лет (2012-2016) количество ежегодных релизов находится в относильно постоянном диапазоне."
   ]
  },
  {
   "cell_type": "markdown",
   "metadata": {},
   "source": [
    "### Изменение продаж по платформам"
   ]
  },
  {
   "cell_type": "code",
   "execution_count": 19,
   "metadata": {},
   "outputs": [
    {
     "data": {
      "text/html": [
       "<div>\n",
       "<style scoped>\n",
       "    .dataframe tbody tr th:only-of-type {\n",
       "        vertical-align: middle;\n",
       "    }\n",
       "\n",
       "    .dataframe tbody tr th {\n",
       "        vertical-align: top;\n",
       "    }\n",
       "\n",
       "    .dataframe thead th {\n",
       "        text-align: right;\n",
       "    }\n",
       "</style>\n",
       "<table border=\"1\" class=\"dataframe\">\n",
       "  <thead>\n",
       "    <tr style=\"text-align: right;\">\n",
       "      <th>year_of_release</th>\n",
       "      <th>2000</th>\n",
       "      <th>2001</th>\n",
       "      <th>2002</th>\n",
       "      <th>2003</th>\n",
       "      <th>2004</th>\n",
       "      <th>2005</th>\n",
       "      <th>2006</th>\n",
       "      <th>2007</th>\n",
       "      <th>2008</th>\n",
       "      <th>2009</th>\n",
       "      <th>2010</th>\n",
       "      <th>2011</th>\n",
       "      <th>2012</th>\n",
       "      <th>2013</th>\n",
       "      <th>2014</th>\n",
       "      <th>2015</th>\n",
       "      <th>2016</th>\n",
       "    </tr>\n",
       "    <tr>\n",
       "      <th>platform</th>\n",
       "      <th></th>\n",
       "      <th></th>\n",
       "      <th></th>\n",
       "      <th></th>\n",
       "      <th></th>\n",
       "      <th></th>\n",
       "      <th></th>\n",
       "      <th></th>\n",
       "      <th></th>\n",
       "      <th></th>\n",
       "      <th></th>\n",
       "      <th></th>\n",
       "      <th></th>\n",
       "      <th></th>\n",
       "      <th></th>\n",
       "      <th></th>\n",
       "      <th></th>\n",
       "    </tr>\n",
       "  </thead>\n",
       "  <tbody>\n",
       "    <tr>\n",
       "      <th>3DS</th>\n",
       "      <td></td>\n",
       "      <td></td>\n",
       "      <td></td>\n",
       "      <td></td>\n",
       "      <td></td>\n",
       "      <td></td>\n",
       "      <td></td>\n",
       "      <td></td>\n",
       "      <td></td>\n",
       "      <td></td>\n",
       "      <td></td>\n",
       "      <td>116.0</td>\n",
       "      <td>93.0</td>\n",
       "      <td>91.0</td>\n",
       "      <td>80.0</td>\n",
       "      <td>86.0</td>\n",
       "      <td>46.0</td>\n",
       "    </tr>\n",
       "    <tr>\n",
       "      <th>DC</th>\n",
       "      <td>20.0</td>\n",
       "      <td>8.0</td>\n",
       "      <td>1.0</td>\n",
       "      <td></td>\n",
       "      <td></td>\n",
       "      <td></td>\n",
       "      <td></td>\n",
       "      <td>1.0</td>\n",
       "      <td>1.0</td>\n",
       "      <td></td>\n",
       "      <td></td>\n",
       "      <td></td>\n",
       "      <td></td>\n",
       "      <td></td>\n",
       "      <td></td>\n",
       "      <td></td>\n",
       "      <td></td>\n",
       "    </tr>\n",
       "    <tr>\n",
       "      <th>DS</th>\n",
       "      <td></td>\n",
       "      <td></td>\n",
       "      <td></td>\n",
       "      <td></td>\n",
       "      <td>23.0</td>\n",
       "      <td>118.0</td>\n",
       "      <td>201.0</td>\n",
       "      <td>376.0</td>\n",
       "      <td>492.0</td>\n",
       "      <td>403.0</td>\n",
       "      <td>323.0</td>\n",
       "      <td>153.0</td>\n",
       "      <td>23.0</td>\n",
       "      <td>8.0</td>\n",
       "      <td></td>\n",
       "      <td></td>\n",
       "      <td></td>\n",
       "    </tr>\n",
       "    <tr>\n",
       "      <th>GB</th>\n",
       "      <td>17.0</td>\n",
       "      <td>10.0</td>\n",
       "      <td></td>\n",
       "      <td></td>\n",
       "      <td></td>\n",
       "      <td></td>\n",
       "      <td></td>\n",
       "      <td></td>\n",
       "      <td></td>\n",
       "      <td></td>\n",
       "      <td></td>\n",
       "      <td></td>\n",
       "      <td></td>\n",
       "      <td></td>\n",
       "      <td></td>\n",
       "      <td></td>\n",
       "      <td></td>\n",
       "    </tr>\n",
       "    <tr>\n",
       "      <th>GBA</th>\n",
       "      <td>1.0</td>\n",
       "      <td>107.0</td>\n",
       "      <td>198.0</td>\n",
       "      <td>150.0</td>\n",
       "      <td>175.0</td>\n",
       "      <td>135.0</td>\n",
       "      <td>39.0</td>\n",
       "      <td>6.0</td>\n",
       "      <td></td>\n",
       "      <td></td>\n",
       "      <td></td>\n",
       "      <td></td>\n",
       "      <td></td>\n",
       "      <td></td>\n",
       "      <td></td>\n",
       "      <td></td>\n",
       "      <td></td>\n",
       "    </tr>\n",
       "    <tr>\n",
       "      <th>GC</th>\n",
       "      <td></td>\n",
       "      <td>22.0</td>\n",
       "      <td>152.0</td>\n",
       "      <td>144.0</td>\n",
       "      <td>83.0</td>\n",
       "      <td>97.0</td>\n",
       "      <td>40.0</td>\n",
       "      <td>4.0</td>\n",
       "      <td></td>\n",
       "      <td></td>\n",
       "      <td></td>\n",
       "      <td></td>\n",
       "      <td></td>\n",
       "      <td></td>\n",
       "      <td></td>\n",
       "      <td></td>\n",
       "      <td></td>\n",
       "    </tr>\n",
       "    <tr>\n",
       "      <th>N64</th>\n",
       "      <td>60.0</td>\n",
       "      <td>9.0</td>\n",
       "      <td>1.0</td>\n",
       "      <td></td>\n",
       "      <td></td>\n",
       "      <td></td>\n",
       "      <td></td>\n",
       "      <td></td>\n",
       "      <td></td>\n",
       "      <td></td>\n",
       "      <td></td>\n",
       "      <td></td>\n",
       "      <td></td>\n",
       "      <td></td>\n",
       "      <td></td>\n",
       "      <td></td>\n",
       "      <td></td>\n",
       "    </tr>\n",
       "    <tr>\n",
       "      <th>PC</th>\n",
       "      <td>7.0</td>\n",
       "      <td>15.0</td>\n",
       "      <td>19.0</td>\n",
       "      <td>33.0</td>\n",
       "      <td>30.0</td>\n",
       "      <td>37.0</td>\n",
       "      <td>52.0</td>\n",
       "      <td>62.0</td>\n",
       "      <td>76.0</td>\n",
       "      <td>107.0</td>\n",
       "      <td>90.0</td>\n",
       "      <td>139.0</td>\n",
       "      <td>61.0</td>\n",
       "      <td>38.0</td>\n",
       "      <td>47.0</td>\n",
       "      <td>50.0</td>\n",
       "      <td>54.0</td>\n",
       "    </tr>\n",
       "    <tr>\n",
       "      <th>PS</th>\n",
       "      <td>160.0</td>\n",
       "      <td>91.0</td>\n",
       "      <td>20.0</td>\n",
       "      <td>3.0</td>\n",
       "      <td></td>\n",
       "      <td></td>\n",
       "      <td></td>\n",
       "      <td></td>\n",
       "      <td></td>\n",
       "      <td></td>\n",
       "      <td></td>\n",
       "      <td></td>\n",
       "      <td></td>\n",
       "      <td></td>\n",
       "      <td></td>\n",
       "      <td></td>\n",
       "      <td></td>\n",
       "    </tr>\n",
       "    <tr>\n",
       "      <th>PS2</th>\n",
       "      <td>82.0</td>\n",
       "      <td>185.0</td>\n",
       "      <td>280.0</td>\n",
       "      <td>256.0</td>\n",
       "      <td>259.0</td>\n",
       "      <td>260.0</td>\n",
       "      <td>259.0</td>\n",
       "      <td>214.0</td>\n",
       "      <td>191.0</td>\n",
       "      <td>96.0</td>\n",
       "      <td>38.0</td>\n",
       "      <td>7.0</td>\n",
       "      <td></td>\n",
       "      <td></td>\n",
       "      <td></td>\n",
       "      <td></td>\n",
       "      <td></td>\n",
       "    </tr>\n",
       "    <tr>\n",
       "      <th>PS3</th>\n",
       "      <td></td>\n",
       "      <td></td>\n",
       "      <td></td>\n",
       "      <td></td>\n",
       "      <td></td>\n",
       "      <td></td>\n",
       "      <td>27.0</td>\n",
       "      <td>90.0</td>\n",
       "      <td>138.0</td>\n",
       "      <td>162.0</td>\n",
       "      <td>181.0</td>\n",
       "      <td>215.0</td>\n",
       "      <td>148.0</td>\n",
       "      <td>126.0</td>\n",
       "      <td>108.0</td>\n",
       "      <td>73.0</td>\n",
       "      <td>38.0</td>\n",
       "    </tr>\n",
       "    <tr>\n",
       "      <th>PS4</th>\n",
       "      <td></td>\n",
       "      <td></td>\n",
       "      <td></td>\n",
       "      <td></td>\n",
       "      <td></td>\n",
       "      <td></td>\n",
       "      <td></td>\n",
       "      <td></td>\n",
       "      <td></td>\n",
       "      <td></td>\n",
       "      <td></td>\n",
       "      <td></td>\n",
       "      <td></td>\n",
       "      <td>16.0</td>\n",
       "      <td>75.0</td>\n",
       "      <td>137.0</td>\n",
       "      <td>164.0</td>\n",
       "    </tr>\n",
       "    <tr>\n",
       "      <th>PSP</th>\n",
       "      <td></td>\n",
       "      <td></td>\n",
       "      <td></td>\n",
       "      <td></td>\n",
       "      <td>15.0</td>\n",
       "      <td>95.0</td>\n",
       "      <td>189.0</td>\n",
       "      <td>133.0</td>\n",
       "      <td>100.0</td>\n",
       "      <td>161.0</td>\n",
       "      <td>188.0</td>\n",
       "      <td>139.0</td>\n",
       "      <td>106.0</td>\n",
       "      <td>54.0</td>\n",
       "      <td>10.0</td>\n",
       "      <td>3.0</td>\n",
       "      <td></td>\n",
       "    </tr>\n",
       "    <tr>\n",
       "      <th>PSV</th>\n",
       "      <td></td>\n",
       "      <td></td>\n",
       "      <td></td>\n",
       "      <td></td>\n",
       "      <td></td>\n",
       "      <td></td>\n",
       "      <td></td>\n",
       "      <td></td>\n",
       "      <td></td>\n",
       "      <td></td>\n",
       "      <td></td>\n",
       "      <td>18.0</td>\n",
       "      <td>53.0</td>\n",
       "      <td>63.0</td>\n",
       "      <td>100.0</td>\n",
       "      <td>110.0</td>\n",
       "      <td>85.0</td>\n",
       "    </tr>\n",
       "    <tr>\n",
       "      <th>WS</th>\n",
       "      <td>2.0</td>\n",
       "      <td>2.0</td>\n",
       "      <td></td>\n",
       "      <td></td>\n",
       "      <td></td>\n",
       "      <td></td>\n",
       "      <td></td>\n",
       "      <td></td>\n",
       "      <td></td>\n",
       "      <td></td>\n",
       "      <td></td>\n",
       "      <td></td>\n",
       "      <td></td>\n",
       "      <td></td>\n",
       "      <td></td>\n",
       "      <td></td>\n",
       "      <td></td>\n",
       "    </tr>\n",
       "    <tr>\n",
       "      <th>Wii</th>\n",
       "      <td></td>\n",
       "      <td></td>\n",
       "      <td></td>\n",
       "      <td></td>\n",
       "      <td></td>\n",
       "      <td></td>\n",
       "      <td>44.0</td>\n",
       "      <td>185.0</td>\n",
       "      <td>282.0</td>\n",
       "      <td>325.0</td>\n",
       "      <td>253.0</td>\n",
       "      <td>143.0</td>\n",
       "      <td>31.0</td>\n",
       "      <td>12.0</td>\n",
       "      <td>6.0</td>\n",
       "      <td>4.0</td>\n",
       "      <td>1.0</td>\n",
       "    </tr>\n",
       "    <tr>\n",
       "      <th>WiiU</th>\n",
       "      <td></td>\n",
       "      <td></td>\n",
       "      <td></td>\n",
       "      <td></td>\n",
       "      <td></td>\n",
       "      <td></td>\n",
       "      <td></td>\n",
       "      <td></td>\n",
       "      <td></td>\n",
       "      <td></td>\n",
       "      <td></td>\n",
       "      <td></td>\n",
       "      <td>32.0</td>\n",
       "      <td>42.0</td>\n",
       "      <td>31.0</td>\n",
       "      <td>28.0</td>\n",
       "      <td>14.0</td>\n",
       "    </tr>\n",
       "    <tr>\n",
       "      <th>X360</th>\n",
       "      <td></td>\n",
       "      <td></td>\n",
       "      <td></td>\n",
       "      <td></td>\n",
       "      <td></td>\n",
       "      <td>18.0</td>\n",
       "      <td>93.0</td>\n",
       "      <td>123.0</td>\n",
       "      <td>146.0</td>\n",
       "      <td>172.0</td>\n",
       "      <td>182.0</td>\n",
       "      <td>206.0</td>\n",
       "      <td>106.0</td>\n",
       "      <td>75.0</td>\n",
       "      <td>63.0</td>\n",
       "      <td>35.0</td>\n",
       "      <td>13.0</td>\n",
       "    </tr>\n",
       "    <tr>\n",
       "      <th>XB</th>\n",
       "      <td>1.0</td>\n",
       "      <td>33.0</td>\n",
       "      <td>158.0</td>\n",
       "      <td>189.0</td>\n",
       "      <td>177.0</td>\n",
       "      <td>179.0</td>\n",
       "      <td>62.0</td>\n",
       "      <td>3.0</td>\n",
       "      <td>1.0</td>\n",
       "      <td></td>\n",
       "      <td></td>\n",
       "      <td></td>\n",
       "      <td></td>\n",
       "      <td></td>\n",
       "      <td></td>\n",
       "      <td></td>\n",
       "      <td></td>\n",
       "    </tr>\n",
       "    <tr>\n",
       "      <th>XOne</th>\n",
       "      <td></td>\n",
       "      <td></td>\n",
       "      <td></td>\n",
       "      <td></td>\n",
       "      <td></td>\n",
       "      <td></td>\n",
       "      <td></td>\n",
       "      <td></td>\n",
       "      <td></td>\n",
       "      <td></td>\n",
       "      <td></td>\n",
       "      <td></td>\n",
       "      <td></td>\n",
       "      <td>19.0</td>\n",
       "      <td>61.0</td>\n",
       "      <td>80.0</td>\n",
       "      <td>87.0</td>\n",
       "    </tr>\n",
       "  </tbody>\n",
       "</table>\n",
       "</div>"
      ],
      "text/plain": [
       "year_of_release   2000   2001   2002   2003   2004   2005   2006   2007  \\\n",
       "platform                                                                  \n",
       "3DS                                                                       \n",
       "DC                20.0    8.0    1.0                                1.0   \n",
       "DS                                            23.0  118.0  201.0  376.0   \n",
       "GB                17.0   10.0                                             \n",
       "GBA                1.0  107.0  198.0  150.0  175.0  135.0   39.0    6.0   \n",
       "GC                       22.0  152.0  144.0   83.0   97.0   40.0    4.0   \n",
       "N64               60.0    9.0    1.0                                      \n",
       "PC                 7.0   15.0   19.0   33.0   30.0   37.0   52.0   62.0   \n",
       "PS               160.0   91.0   20.0    3.0                               \n",
       "PS2               82.0  185.0  280.0  256.0  259.0  260.0  259.0  214.0   \n",
       "PS3                                                         27.0   90.0   \n",
       "PS4                                                                       \n",
       "PSP                                           15.0   95.0  189.0  133.0   \n",
       "PSV                                                                       \n",
       "WS                 2.0    2.0                                             \n",
       "Wii                                                         44.0  185.0   \n",
       "WiiU                                                                      \n",
       "X360                                                 18.0   93.0  123.0   \n",
       "XB                 1.0   33.0  158.0  189.0  177.0  179.0   62.0    3.0   \n",
       "XOne                                                                      \n",
       "\n",
       "year_of_release   2008   2009   2010   2011   2012   2013   2014   2015   2016  \n",
       "platform                                                                        \n",
       "3DS                                   116.0   93.0   91.0   80.0   86.0   46.0  \n",
       "DC                 1.0                                                          \n",
       "DS               492.0  403.0  323.0  153.0   23.0    8.0                       \n",
       "GB                                                                              \n",
       "GBA                                                                             \n",
       "GC                                                                              \n",
       "N64                                                                             \n",
       "PC                76.0  107.0   90.0  139.0   61.0   38.0   47.0   50.0   54.0  \n",
       "PS                                                                              \n",
       "PS2              191.0   96.0   38.0    7.0                                     \n",
       "PS3              138.0  162.0  181.0  215.0  148.0  126.0  108.0   73.0   38.0  \n",
       "PS4                                                  16.0   75.0  137.0  164.0  \n",
       "PSP              100.0  161.0  188.0  139.0  106.0   54.0   10.0    3.0         \n",
       "PSV                                    18.0   53.0   63.0  100.0  110.0   85.0  \n",
       "WS                                                                              \n",
       "Wii              282.0  325.0  253.0  143.0   31.0   12.0    6.0    4.0    1.0  \n",
       "WiiU                                          32.0   42.0   31.0   28.0   14.0  \n",
       "X360             146.0  172.0  182.0  206.0  106.0   75.0   63.0   35.0   13.0  \n",
       "XB                 1.0                                                          \n",
       "XOne                                                 19.0   61.0   80.0   87.0  "
      ]
     },
     "execution_count": 19,
     "metadata": {},
     "output_type": "execute_result"
    }
   ],
   "source": [
    "df.query('year_of_release > 1999').pivot_table(index='platform', columns='year_of_release', values='name', aggfunc='count', fill_value='')"
   ]
  },
  {
   "cell_type": "markdown",
   "metadata": {},
   "source": [
    "<b> Из полученной таблицы можно увидеть, что к 2016 году основная часть платформ прекратила выпуск новых релизов (морально устарела или обновилась)"
   ]
  },
  {
   "cell_type": "code",
   "execution_count": 20,
   "metadata": {},
   "outputs": [
    {
     "data": {
      "text/html": [
       "<div>\n",
       "<style scoped>\n",
       "    .dataframe tbody tr th:only-of-type {\n",
       "        vertical-align: middle;\n",
       "    }\n",
       "\n",
       "    .dataframe tbody tr th {\n",
       "        vertical-align: top;\n",
       "    }\n",
       "\n",
       "    .dataframe thead th {\n",
       "        text-align: right;\n",
       "    }\n",
       "</style>\n",
       "<table border=\"1\" class=\"dataframe\">\n",
       "  <thead>\n",
       "    <tr style=\"text-align: right;\">\n",
       "      <th></th>\n",
       "      <th>platform</th>\n",
       "      <th>total_sales</th>\n",
       "    </tr>\n",
       "  </thead>\n",
       "  <tbody>\n",
       "    <tr>\n",
       "      <th>0</th>\n",
       "      <td>PS2</td>\n",
       "      <td>1255.77</td>\n",
       "    </tr>\n",
       "    <tr>\n",
       "      <th>1</th>\n",
       "      <td>X360</td>\n",
       "      <td>971.42</td>\n",
       "    </tr>\n",
       "    <tr>\n",
       "      <th>2</th>\n",
       "      <td>PS3</td>\n",
       "      <td>939.65</td>\n",
       "    </tr>\n",
       "    <tr>\n",
       "      <th>3</th>\n",
       "      <td>Wii</td>\n",
       "      <td>907.51</td>\n",
       "    </tr>\n",
       "    <tr>\n",
       "      <th>4</th>\n",
       "      <td>DS</td>\n",
       "      <td>806.12</td>\n",
       "    </tr>\n",
       "    <tr>\n",
       "      <th>5</th>\n",
       "      <td>PS</td>\n",
       "      <td>730.86</td>\n",
       "    </tr>\n",
       "    <tr>\n",
       "      <th>6</th>\n",
       "      <td>GBA</td>\n",
       "      <td>317.85</td>\n",
       "    </tr>\n",
       "    <tr>\n",
       "      <th>7</th>\n",
       "      <td>PS4</td>\n",
       "      <td>314.14</td>\n",
       "    </tr>\n",
       "    <tr>\n",
       "      <th>8</th>\n",
       "      <td>PSP</td>\n",
       "      <td>294.05</td>\n",
       "    </tr>\n",
       "    <tr>\n",
       "      <th>9</th>\n",
       "      <td>PC</td>\n",
       "      <td>259.52</td>\n",
       "    </tr>\n",
       "  </tbody>\n",
       "</table>\n",
       "</div>"
      ],
      "text/plain": [
       "  platform  total_sales\n",
       "0      PS2      1255.77\n",
       "1     X360       971.42\n",
       "2      PS3       939.65\n",
       "3      Wii       907.51\n",
       "4       DS       806.12\n",
       "5       PS       730.86\n",
       "6      GBA       317.85\n",
       "7      PS4       314.14\n",
       "8      PSP       294.05\n",
       "9       PC       259.52"
      ]
     },
     "execution_count": 20,
     "metadata": {},
     "output_type": "execute_result"
    }
   ],
   "source": [
    "#получение 10 наиболее востребованных платформ\n",
    "pl_s = df.groupby('platform')['total_sales'].sum().sort_values(ascending=False).reset_index().head(10)\n",
    "pl_s.head(10)"
   ]
  },
  {
   "cell_type": "code",
   "execution_count": 21,
   "metadata": {},
   "outputs": [
    {
     "data": {
      "text/plain": [
       "array(['PS2', 'X360', 'PS3', 'Wii', 'DS', 'PS', 'GBA', 'PS4', 'PSP', 'PC'],\n",
       "      dtype=object)"
      ]
     },
     "execution_count": 21,
     "metadata": {},
     "output_type": "execute_result"
    }
   ],
   "source": [
    "pop_pl = pl_s['platform'].values\n",
    "pop_pl"
   ]
  },
  {
   "cell_type": "code",
   "execution_count": 22,
   "metadata": {},
   "outputs": [
    {
     "data": {
      "image/png": "[encoded data removed]",
      "text/plain": [
       "<Figure size 1080x432 with 1 Axes>"
      ]
     },
     "metadata": {
      "needs_background": "light"
     },
     "output_type": "display_data"
    }
   ],
   "source": [
    "color = ['r','b','y','black','c','orange','grey','green','purple','m']\n",
    "\n",
    "plt.figure(figsize=(15, 6))\n",
    "\n",
    "plt.title('Объёмы продаж 10 лучших платформ по годам')\n",
    "\n",
    "m_y = 0\n",
    "for i in range(0,len(pop_pl)):\n",
    "    platform  = df.query('year_of_release >= 1994').query('platform == @pop_pl[@i]').groupby('year_of_release')['total_sales'].sum()\n",
    "    m_y += platform.count()\n",
    "    platform.plot(x=platform.index, y=platform.values, style='-^', color=color[i], \\\n",
    "                  label=pop_pl[i], alpha=0.5, grid=True);\n",
    "plt.xlabel('Год')\n",
    "plt.ylabel('Объём продаж')\n",
    "plt.grid()\n",
    "plt.legend()\n",
    "plt.show()"
   ]
  },
  {
   "cell_type": "code",
   "execution_count": 23,
   "metadata": {},
   "outputs": [
    {
     "data": {
      "text/plain": [
       "11.3"
      ]
     },
     "execution_count": 23,
     "metadata": {},
     "output_type": "execute_result"
    }
   ],
   "source": [
    "#расчет среднего времени жизни платформы\n",
    "m_y/len(pop_pl)"
   ]
  },
  {
   "cell_type": "markdown",
   "metadata": {},
   "source": [
    "<b>По распределению можно сделать следующие выводы:</b>\n",
    " - средний жизненный цикл платформы 11 лет (исулючение cоcтавляют игры на PC);\n",
    " - новые платформы появляются на смену старым (линейка PS)\n",
    " - наиболее популярной платформой за всё время можно уверенно назвать Play Station (PS)"
   ]
  },
  {
   "cell_type": "markdown",
   "metadata": {},
   "source": [
    "### Определение актуального периода"
   ]
  },
  {
   "cell_type": "markdown",
   "metadata": {},
   "source": [
    "<b>Исходя из предварительного анализа, делаем вывод, что актуальная информация для прогноза лежит в диапазоне после 2011 года, т.к. в этом году основная масса актуальных платформ показывает наиболее корректные показатели сегодняшнего рынка"
   ]
  },
  {
   "cell_type": "code",
   "execution_count": 24,
   "metadata": {},
   "outputs": [],
   "source": [
    "df_n=df.query('year_of_release >= 2012')"
   ]
  },
  {
   "cell_type": "markdown",
   "metadata": {},
   "source": [
    "### Определение лидирующих платформ"
   ]
  },
  {
   "cell_type": "code",
   "execution_count": 25,
   "metadata": {
    "scrolled": false
   },
   "outputs": [
    {
     "data": {
      "text/html": [
       "<div>\n",
       "<style scoped>\n",
       "    .dataframe tbody tr th:only-of-type {\n",
       "        vertical-align: middle;\n",
       "    }\n",
       "\n",
       "    .dataframe tbody tr th {\n",
       "        vertical-align: top;\n",
       "    }\n",
       "\n",
       "    .dataframe thead th {\n",
       "        text-align: right;\n",
       "    }\n",
       "</style>\n",
       "<table border=\"1\" class=\"dataframe\">\n",
       "  <thead>\n",
       "    <tr style=\"text-align: right;\">\n",
       "      <th></th>\n",
       "      <th>platform</th>\n",
       "      <th>total_sales</th>\n",
       "    </tr>\n",
       "  </thead>\n",
       "  <tbody>\n",
       "    <tr>\n",
       "      <th>0</th>\n",
       "      <td>PS4</td>\n",
       "      <td>314.14</td>\n",
       "    </tr>\n",
       "    <tr>\n",
       "      <th>1</th>\n",
       "      <td>PS3</td>\n",
       "      <td>288.79</td>\n",
       "    </tr>\n",
       "    <tr>\n",
       "      <th>2</th>\n",
       "      <td>X360</td>\n",
       "      <td>236.54</td>\n",
       "    </tr>\n",
       "    <tr>\n",
       "      <th>3</th>\n",
       "      <td>3DS</td>\n",
       "      <td>194.61</td>\n",
       "    </tr>\n",
       "    <tr>\n",
       "      <th>4</th>\n",
       "      <td>XOne</td>\n",
       "      <td>159.32</td>\n",
       "    </tr>\n",
       "  </tbody>\n",
       "</table>\n",
       "</div>"
      ],
      "text/plain": [
       "  platform  total_sales\n",
       "0      PS4       314.14\n",
       "1      PS3       288.79\n",
       "2     X360       236.54\n",
       "3      3DS       194.61\n",
       "4     XOne       159.32"
      ]
     },
     "execution_count": 25,
     "metadata": {},
     "output_type": "execute_result"
    }
   ],
   "source": [
    "pl = df_n.groupby('platform')['total_sales'].sum().sort_values(ascending=False).reset_index().head(5)\n",
    "pl.head()"
   ]
  },
  {
   "cell_type": "code",
   "execution_count": 26,
   "metadata": {},
   "outputs": [
    {
     "data": {
      "text/plain": [
       "array(['PS4', 'PS3', 'X360', '3DS', 'XOne'], dtype=object)"
      ]
     },
     "execution_count": 26,
     "metadata": {},
     "output_type": "execute_result"
    }
   ],
   "source": [
    "pop1_pl = pl['platform'].values\n",
    "pop1_pl"
   ]
  },
  {
   "cell_type": "code",
   "execution_count": 27,
   "metadata": {},
   "outputs": [
    {
     "data": {
      "image/png": "[encoded data removed]",
      "text/plain": [
       "<Figure size 1008x576 with 1 Axes>"
      ]
     },
     "metadata": {
      "needs_background": "light"
     },
     "output_type": "display_data"
    }
   ],
   "source": [
    "color = ['r','b','y','black','c']\n",
    "\n",
    "plt.figure(figsize=(14, 8))\n",
    "plt.grid()\n",
    "plt.title('Объёмы продаж 5 лучших платформ с 2012 года')\n",
    "\n",
    "m_y = 0\n",
    "for i in range(0,len(pop1_pl)):\n",
    "    platform  = df_n.query('platform == @pop1_pl[@i]').groupby('year_of_release')['total_sales'].sum()\n",
    "    m_y += platform.count()\n",
    "    platform.plot(x=platform.index, y=platform.values, style='-', color=color[i], \\\n",
    "                  label=pop1_pl[i], alpha=0.5, grid=True);\n",
    "plt.xlabel('Год')\n",
    "plt.ylabel('Объём продаж')\n",
    "plt.legend()\n",
    "plt.show()"
   ]
  },
  {
   "cell_type": "markdown",
   "metadata": {},
   "source": [
    "<b>Вывод:\n",
    " - за выбранный период с 2012 года видно, что лидирующими платформами можно смело назвать PS4 и XOne;\n",
    " - у остальных платформ наблюдается спад, поэтому развитие этих направлений должно быть более умеренное."
   ]
  },
  {
   "cell_type": "markdown",
   "metadata": {},
   "source": [
    "### Анализ глобальных продаж игр в разбивке по платформам"
   ]
  },
  {
   "cell_type": "code",
   "execution_count": 28,
   "metadata": {},
   "outputs": [
    {
     "data": {
      "image/png": "[encoded data removed]",
      "text/plain": [
       "<Figure size 1152x864 with 5 Axes>"
      ]
     },
     "metadata": {
      "needs_background": "light"
     },
     "output_type": "display_data"
    }
   ],
   "source": [
    "fig, (ax1, ax2, ax3, ax4, ax5) = plt.subplots(nrows=1, ncols=5, figsize=(16, 12))\n",
    "fig.autofmt_xdate();\n",
    "\n",
    "p = {ax1:'PS4', ax2:'PS3', ax3:'X360', ax4:'3DS', ax5:'XOne'}\n",
    "for ax in [ax1, ax2, ax3, ax4, ax5]:\n",
    "    sales = df_n.query('platform==@p[@ax] and total_sales<1.8')['total_sales']\n",
    "    ax.boxplot(sales)\n",
    "    ax.grid()\n",
    "    ax.set_title(p[ax])\n",
    "\n",
    "fig.autofmt_xdate()"
   ]
  },
  {
   "cell_type": "markdown",
   "metadata": {},
   "source": [
    "<b>Вывод:</b>\n",
    "\n",
    "По диаграммам размаха можно заметить, что медианные значения продаж у X360 находятся близко к уровню 0,25, а в остальных к уровню 0,15.\n",
    "\n",
    "На платформе PS4 большая часть проданых игр лежит до значения в 0,9, на платформe 3DS около 0,6, на  XONE и PS3 по 1,2, а в лидерах X360(1.4)"
   ]
  },
  {
   "cell_type": "markdown",
   "metadata": {},
   "source": [
    "### Влияние на продажи внутри одной популярной платформы отзывов пользователей и критиков"
   ]
  },
  {
   "cell_type": "markdown",
   "metadata": {},
   "source": [
    "<b> В качестве исследуемой популярной платформы возьмём PS4"
   ]
  },
  {
   "cell_type": "code",
   "execution_count": 29,
   "metadata": {},
   "outputs": [],
   "source": [
    "#выделим в отдельную таблицу продажи по PS4\n",
    "st_ps = df_n.query('platform == \"PS4\" and user_score != -1 and critic_score != -1')"
   ]
  },
  {
   "cell_type": "code",
   "execution_count": 30,
   "metadata": {},
   "outputs": [
    {
     "data": {
      "text/plain": [
       "Text(0.5, 0, 'Оценка пользователей')"
      ]
     },
     "execution_count": 30,
     "metadata": {},
     "output_type": "execute_result"
    },
    {
     "data": {
      "image/png": "[encoded data removed]",
      "text/plain": [
       "<Figure size 432x288 with 1 Axes>"
      ]
     },
     "metadata": {
      "needs_background": "light"
     },
     "output_type": "display_data"
    }
   ],
   "source": [
    "#график\n",
    "st_ps.plot(y='total_sales', x='user_score', kind='scatter', alpha=0.7, title='Зависимость выручки PS4 от оценки пользователей')\n",
    "ax = plt.gca()\n",
    "ax.set_ylabel('Выручка')\n",
    "ax.set_xlabel('Оценка пользователей')"
   ]
  },
  {
   "cell_type": "code",
   "execution_count": 31,
   "metadata": {},
   "outputs": [
    {
     "data": {
      "text/plain": [
       "-0.03362497596528878"
      ]
     },
     "execution_count": 31,
     "metadata": {},
     "output_type": "execute_result"
    }
   ],
   "source": [
    "#корреляция продаж к отзывам пользователей\n",
    "st_ps['total_sales'].corr(st_ps['user_score'])"
   ]
  },
  {
   "cell_type": "code",
   "execution_count": 32,
   "metadata": {},
   "outputs": [
    {
     "data": {
      "text/plain": [
       "Text(0.5, 0, 'Оценка критиков')"
      ]
     },
     "execution_count": 32,
     "metadata": {},
     "output_type": "execute_result"
    },
    {
     "data": {
      "image/png": "[encoded data removed]",
      "text/plain": [
       "<Figure size 432x288 with 1 Axes>"
      ]
     },
     "metadata": {
      "needs_background": "light"
     },
     "output_type": "display_data"
    }
   ],
   "source": [
    "st_ps.plot(y='total_sales', x='critic_score', kind='scatter', alpha=0.5, title='Зависимость выручки PS4 от оценки критиков')\n",
    "ax = plt.gca()\n",
    "ax.set_ylabel('Выручка')\n",
    "ax.set_xlabel('Оценка критиков')"
   ]
  },
  {
   "cell_type": "code",
   "execution_count": 33,
   "metadata": {},
   "outputs": [
    {
     "data": {
      "text/plain": [
       "0.40589480145836687"
      ]
     },
     "execution_count": 33,
     "metadata": {},
     "output_type": "execute_result"
    }
   ],
   "source": [
    "#корреляция продаж к отзывам критиков\n",
    "st_ps['total_sales'].corr(st_ps['critic_score'])"
   ]
  },
  {
   "cell_type": "markdown",
   "metadata": {},
   "source": [
    "<b>Вывод:</b>\n",
    "По графикам и значениям корреляции видно, что отзывы критиков в большей степени влияют на продажи, чем отзывы пользователей.\n",
    "Прослеживается закоромерность значительного роста выручки при оценке  критиков более 70"
   ]
  },
  {
   "cell_type": "markdown",
   "metadata": {},
   "source": [
    "### Анализ выводов и продаж игр на других платформах"
   ]
  },
  {
   "cell_type": "code",
   "execution_count": 34,
   "metadata": {},
   "outputs": [],
   "source": [
    "#выделим в отдельную таблицу продажи без учета значений \"-1\" и PS4\n",
    "st_o = df_n.query('platform != \"PS4\" and user_score != -1 and critic_score != -1')"
   ]
  },
  {
   "cell_type": "code",
   "execution_count": 35,
   "metadata": {},
   "outputs": [
    {
     "data": {
      "text/plain": [
       "Text(0.5, 0, 'Оценка пользователей')"
      ]
     },
     "execution_count": 35,
     "metadata": {},
     "output_type": "execute_result"
    },
    {
     "data": {
      "image/png": "[encoded data removed]",
      "text/plain": [
       "<Figure size 432x288 with 1 Axes>"
      ]
     },
     "metadata": {
      "needs_background": "light"
     },
     "output_type": "display_data"
    }
   ],
   "source": [
    "st_o.plot(y='total_sales', x='user_score', kind='scatter', alpha=0.5, title='Зависимость выручки всех платформ от оценки пользователей')\n",
    "ax = plt.gca()\n",
    "ax.set_ylabel('Выручка')\n",
    "ax.set_xlabel('Оценка пользователей')"
   ]
  },
  {
   "cell_type": "code",
   "execution_count": 36,
   "metadata": {},
   "outputs": [
    {
     "data": {
      "text/plain": [
       "0.009742454472434624"
      ]
     },
     "execution_count": 36,
     "metadata": {},
     "output_type": "execute_result"
    }
   ],
   "source": [
    "#корреляция продаж к отзывам пользователей\n",
    "st_o['total_sales'].corr(st_o['user_score'])"
   ]
  },
  {
   "cell_type": "code",
   "execution_count": 37,
   "metadata": {},
   "outputs": [
    {
     "data": {
      "text/plain": [
       "Text(0.5, 0, 'Оценка критиков')"
      ]
     },
     "execution_count": 37,
     "metadata": {},
     "output_type": "execute_result"
    },
    {
     "data": {
      "image/png": "[encoded data removed]",
      "text/plain": [
       "<Figure size 432x288 with 1 Axes>"
      ]
     },
     "metadata": {
      "needs_background": "light"
     },
     "output_type": "display_data"
    }
   ],
   "source": [
    "st_o.plot(y='total_sales', x='critic_score', kind='scatter', alpha=0.5, title='Зависимость выручки PS4 от оценки критиков')\n",
    "ax = plt.gca()\n",
    "ax.set_ylabel('Выручка')\n",
    "ax.set_xlabel('Оценка критиков')"
   ]
  },
  {
   "cell_type": "code",
   "execution_count": 38,
   "metadata": {},
   "outputs": [
    {
     "data": {
      "text/plain": [
       "0.28281979211123304"
      ]
     },
     "execution_count": 38,
     "metadata": {},
     "output_type": "execute_result"
    }
   ],
   "source": [
    "#корреляция продаж к отзывам критиков\n",
    "st_o['total_sales'].corr(st_o['critic_score'])"
   ]
  },
  {
   "cell_type": "markdown",
   "metadata": {},
   "source": [
    "<b>Вывод:</b>\n",
    "По полученным графикам и значениям корреляции остальных платформ выявлена небольшая разница между отзывами пользователей и критиков и несущественное влияние продаж от отзывов."
   ]
  },
  {
   "cell_type": "markdown",
   "metadata": {},
   "source": [
    "### Анализ жанров"
   ]
  },
  {
   "cell_type": "code",
   "execution_count": 39,
   "metadata": {},
   "outputs": [
    {
     "data": {
      "text/html": [
       "<div>\n",
       "<style scoped>\n",
       "    .dataframe tbody tr th:only-of-type {\n",
       "        vertical-align: middle;\n",
       "    }\n",
       "\n",
       "    .dataframe tbody tr th {\n",
       "        vertical-align: top;\n",
       "    }\n",
       "\n",
       "    .dataframe thead th {\n",
       "        text-align: right;\n",
       "    }\n",
       "</style>\n",
       "<table border=\"1\" class=\"dataframe\">\n",
       "  <thead>\n",
       "    <tr style=\"text-align: right;\">\n",
       "      <th></th>\n",
       "      <th>total_sales</th>\n",
       "    </tr>\n",
       "    <tr>\n",
       "      <th>genre</th>\n",
       "      <th></th>\n",
       "    </tr>\n",
       "  </thead>\n",
       "  <tbody>\n",
       "    <tr>\n",
       "      <th>Action</th>\n",
       "      <td>441.12</td>\n",
       "    </tr>\n",
       "    <tr>\n",
       "      <th>Shooter</th>\n",
       "      <td>304.73</td>\n",
       "    </tr>\n",
       "    <tr>\n",
       "      <th>Role-Playing</th>\n",
       "      <td>192.80</td>\n",
       "    </tr>\n",
       "    <tr>\n",
       "      <th>Sports</th>\n",
       "      <td>181.07</td>\n",
       "    </tr>\n",
       "    <tr>\n",
       "      <th>Misc</th>\n",
       "      <td>85.04</td>\n",
       "    </tr>\n",
       "    <tr>\n",
       "      <th>Platform</th>\n",
       "      <td>61.00</td>\n",
       "    </tr>\n",
       "    <tr>\n",
       "      <th>Racing</th>\n",
       "      <td>53.50</td>\n",
       "    </tr>\n",
       "    <tr>\n",
       "      <th>Fighting</th>\n",
       "      <td>44.49</td>\n",
       "    </tr>\n",
       "    <tr>\n",
       "      <th>Simulation</th>\n",
       "      <td>35.12</td>\n",
       "    </tr>\n",
       "    <tr>\n",
       "      <th>Adventure</th>\n",
       "      <td>29.43</td>\n",
       "    </tr>\n",
       "    <tr>\n",
       "      <th>Strategy</th>\n",
       "      <td>13.34</td>\n",
       "    </tr>\n",
       "    <tr>\n",
       "      <th>Puzzle</th>\n",
       "      <td>4.89</td>\n",
       "    </tr>\n",
       "  </tbody>\n",
       "</table>\n",
       "</div>"
      ],
      "text/plain": [
       "              total_sales\n",
       "genre                    \n",
       "Action             441.12\n",
       "Shooter            304.73\n",
       "Role-Playing       192.80\n",
       "Sports             181.07\n",
       "Misc                85.04\n",
       "Platform            61.00\n",
       "Racing              53.50\n",
       "Fighting            44.49\n",
       "Simulation          35.12\n",
       "Adventure           29.43\n",
       "Strategy            13.34\n",
       "Puzzle               4.89"
      ]
     },
     "execution_count": 39,
     "metadata": {},
     "output_type": "execute_result"
    }
   ],
   "source": [
    "df_n.pivot_table(index='genre', values='total_sales', aggfunc='sum').sort_values(by='total_sales', ascending=False)"
   ]
  },
  {
   "cell_type": "markdown",
   "metadata": {},
   "source": [
    "<b>Вывод:</b>\n",
    "- со значительным отрывом лидируют жанры Action, Shooter и Role-Playing.\n",
    "- самые низкие сборы у жанров Puzzle, Strategy и Adventure."
   ]
  },
  {
   "cell_type": "markdown",
   "metadata": {},
   "source": [
    "## Составление портрета пользователя каждого региона"
   ]
  },
  {
   "cell_type": "markdown",
   "metadata": {},
   "source": [
    "Определим для пользователя каждого региона (NA, EU, JP):\n",
    "\n",
    " - самые популярные платформы (топ-5)\n",
    " - самые популярные жанры (топ-5)\n",
    " - влияние рейтинга ESRB на продажи в регионе"
   ]
  },
  {
   "cell_type": "markdown",
   "metadata": {},
   "source": [
    "### Регион Северная Америка(NA)"
   ]
  },
  {
   "cell_type": "code",
   "execution_count": 40,
   "metadata": {
    "scrolled": true
   },
   "outputs": [
    {
     "data": {
      "text/html": [
       "<div>\n",
       "<style scoped>\n",
       "    .dataframe tbody tr th:only-of-type {\n",
       "        vertical-align: middle;\n",
       "    }\n",
       "\n",
       "    .dataframe tbody tr th {\n",
       "        vertical-align: top;\n",
       "    }\n",
       "\n",
       "    .dataframe thead th {\n",
       "        text-align: right;\n",
       "    }\n",
       "</style>\n",
       "<table border=\"1\" class=\"dataframe\">\n",
       "  <thead>\n",
       "    <tr style=\"text-align: right;\">\n",
       "      <th></th>\n",
       "      <th>platform</th>\n",
       "      <th>na_sales</th>\n",
       "    </tr>\n",
       "  </thead>\n",
       "  <tbody>\n",
       "    <tr>\n",
       "      <th>9</th>\n",
       "      <td>X360</td>\n",
       "      <td>140.05</td>\n",
       "    </tr>\n",
       "    <tr>\n",
       "      <th>4</th>\n",
       "      <td>PS4</td>\n",
       "      <td>108.74</td>\n",
       "    </tr>\n",
       "    <tr>\n",
       "      <th>3</th>\n",
       "      <td>PS3</td>\n",
       "      <td>103.38</td>\n",
       "    </tr>\n",
       "    <tr>\n",
       "      <th>10</th>\n",
       "      <td>XOne</td>\n",
       "      <td>93.12</td>\n",
       "    </tr>\n",
       "    <tr>\n",
       "      <th>0</th>\n",
       "      <td>3DS</td>\n",
       "      <td>55.31</td>\n",
       "    </tr>\n",
       "  </tbody>\n",
       "</table>\n",
       "</div>"
      ],
      "text/plain": [
       "   platform  na_sales\n",
       "9      X360    140.05\n",
       "4       PS4    108.74\n",
       "3       PS3    103.38\n",
       "10     XOne     93.12\n",
       "0       3DS     55.31"
      ]
     },
     "execution_count": 40,
     "metadata": {},
     "output_type": "execute_result"
    }
   ],
   "source": [
    "df_n.groupby('platform')['na_sales'].sum().reset_index().sort_values(by='na_sales', ascending=False).head()"
   ]
  },
  {
   "cell_type": "code",
   "execution_count": 41,
   "metadata": {},
   "outputs": [
    {
     "data": {
      "text/html": [
       "<div>\n",
       "<style scoped>\n",
       "    .dataframe tbody tr th:only-of-type {\n",
       "        vertical-align: middle;\n",
       "    }\n",
       "\n",
       "    .dataframe tbody tr th {\n",
       "        vertical-align: top;\n",
       "    }\n",
       "\n",
       "    .dataframe thead th {\n",
       "        text-align: right;\n",
       "    }\n",
       "</style>\n",
       "<table border=\"1\" class=\"dataframe\">\n",
       "  <thead>\n",
       "    <tr style=\"text-align: right;\">\n",
       "      <th></th>\n",
       "      <th>genre</th>\n",
       "      <th>na_sales</th>\n",
       "    </tr>\n",
       "  </thead>\n",
       "  <tbody>\n",
       "    <tr>\n",
       "      <th>0</th>\n",
       "      <td>Action</td>\n",
       "      <td>177.84</td>\n",
       "    </tr>\n",
       "    <tr>\n",
       "      <th>8</th>\n",
       "      <td>Shooter</td>\n",
       "      <td>144.77</td>\n",
       "    </tr>\n",
       "    <tr>\n",
       "      <th>10</th>\n",
       "      <td>Sports</td>\n",
       "      <td>81.53</td>\n",
       "    </tr>\n",
       "    <tr>\n",
       "      <th>7</th>\n",
       "      <td>Role-Playing</td>\n",
       "      <td>64.00</td>\n",
       "    </tr>\n",
       "    <tr>\n",
       "      <th>3</th>\n",
       "      <td>Misc</td>\n",
       "      <td>38.19</td>\n",
       "    </tr>\n",
       "  </tbody>\n",
       "</table>\n",
       "</div>"
      ],
      "text/plain": [
       "           genre  na_sales\n",
       "0         Action    177.84\n",
       "8        Shooter    144.77\n",
       "10        Sports     81.53\n",
       "7   Role-Playing     64.00\n",
       "3           Misc     38.19"
      ]
     },
     "execution_count": 41,
     "metadata": {},
     "output_type": "execute_result"
    }
   ],
   "source": [
    "df_n.groupby('genre')['na_sales'].sum().reset_index().sort_values(by='na_sales', ascending=False).head()"
   ]
  },
  {
   "cell_type": "code",
   "execution_count": 42,
   "metadata": {},
   "outputs": [
    {
     "data": {
      "text/html": [
       "<div>\n",
       "<style scoped>\n",
       "    .dataframe tbody tr th:only-of-type {\n",
       "        vertical-align: middle;\n",
       "    }\n",
       "\n",
       "    .dataframe tbody tr th {\n",
       "        vertical-align: top;\n",
       "    }\n",
       "\n",
       "    .dataframe thead th {\n",
       "        text-align: right;\n",
       "    }\n",
       "</style>\n",
       "<table border=\"1\" class=\"dataframe\">\n",
       "  <thead>\n",
       "    <tr style=\"text-align: right;\">\n",
       "      <th></th>\n",
       "      <th>rating</th>\n",
       "      <th>na_sales</th>\n",
       "    </tr>\n",
       "  </thead>\n",
       "  <tbody>\n",
       "    <tr>\n",
       "      <th>2</th>\n",
       "      <td>M</td>\n",
       "      <td>231.57</td>\n",
       "    </tr>\n",
       "    <tr>\n",
       "      <th>0</th>\n",
       "      <td>E</td>\n",
       "      <td>114.37</td>\n",
       "    </tr>\n",
       "    <tr>\n",
       "      <th>1</th>\n",
       "      <td>E10+</td>\n",
       "      <td>75.70</td>\n",
       "    </tr>\n",
       "    <tr>\n",
       "      <th>3</th>\n",
       "      <td>T</td>\n",
       "      <td>66.02</td>\n",
       "    </tr>\n",
       "  </tbody>\n",
       "</table>\n",
       "</div>"
      ],
      "text/plain": [
       "  rating  na_sales\n",
       "2      M    231.57\n",
       "0      E    114.37\n",
       "1   E10+     75.70\n",
       "3      T     66.02"
      ]
     },
     "execution_count": 42,
     "metadata": {},
     "output_type": "execute_result"
    }
   ],
   "source": [
    "df_n.query('rating != -1').groupby('rating')['na_sales'].sum().reset_index().sort_values(by='na_sales', ascending=False).head()"
   ]
  },
  {
   "cell_type": "markdown",
   "metadata": {},
   "source": [
    "<b>Выводы:\n",
    "- в Северной Америке наибольшую популярность имеют платформы X360, PS4 и PS3\n",
    "- наиболее популярными жанрами являются Action, Shooter, Sports, Role-Playing и Misc\n",
    "- с большим отрывом по лидирует рейтинг M, затем идут E и E10+"
   ]
  },
  {
   "cell_type": "markdown",
   "metadata": {},
   "source": [
    "### Регион Европа(EU)"
   ]
  },
  {
   "cell_type": "code",
   "execution_count": 43,
   "metadata": {},
   "outputs": [
    {
     "data": {
      "text/html": [
       "<div>\n",
       "<style scoped>\n",
       "    .dataframe tbody tr th:only-of-type {\n",
       "        vertical-align: middle;\n",
       "    }\n",
       "\n",
       "    .dataframe tbody tr th {\n",
       "        vertical-align: top;\n",
       "    }\n",
       "\n",
       "    .dataframe thead th {\n",
       "        text-align: right;\n",
       "    }\n",
       "</style>\n",
       "<table border=\"1\" class=\"dataframe\">\n",
       "  <thead>\n",
       "    <tr style=\"text-align: right;\">\n",
       "      <th></th>\n",
       "      <th>platform</th>\n",
       "      <th>eu_sales</th>\n",
       "    </tr>\n",
       "  </thead>\n",
       "  <tbody>\n",
       "    <tr>\n",
       "      <th>4</th>\n",
       "      <td>PS4</td>\n",
       "      <td>141.09</td>\n",
       "    </tr>\n",
       "    <tr>\n",
       "      <th>3</th>\n",
       "      <td>PS3</td>\n",
       "      <td>106.86</td>\n",
       "    </tr>\n",
       "    <tr>\n",
       "      <th>9</th>\n",
       "      <td>X360</td>\n",
       "      <td>74.52</td>\n",
       "    </tr>\n",
       "    <tr>\n",
       "      <th>10</th>\n",
       "      <td>XOne</td>\n",
       "      <td>51.59</td>\n",
       "    </tr>\n",
       "    <tr>\n",
       "      <th>0</th>\n",
       "      <td>3DS</td>\n",
       "      <td>42.64</td>\n",
       "    </tr>\n",
       "  </tbody>\n",
       "</table>\n",
       "</div>"
      ],
      "text/plain": [
       "   platform  eu_sales\n",
       "4       PS4    141.09\n",
       "3       PS3    106.86\n",
       "9      X360     74.52\n",
       "10     XOne     51.59\n",
       "0       3DS     42.64"
      ]
     },
     "execution_count": 43,
     "metadata": {},
     "output_type": "execute_result"
    }
   ],
   "source": [
    "df_n.groupby('platform')['eu_sales'].sum().reset_index().sort_values(by='eu_sales', ascending=False).head()"
   ]
  },
  {
   "cell_type": "code",
   "execution_count": 44,
   "metadata": {},
   "outputs": [
    {
     "data": {
      "text/html": [
       "<div>\n",
       "<style scoped>\n",
       "    .dataframe tbody tr th:only-of-type {\n",
       "        vertical-align: middle;\n",
       "    }\n",
       "\n",
       "    .dataframe tbody tr th {\n",
       "        vertical-align: top;\n",
       "    }\n",
       "\n",
       "    .dataframe thead th {\n",
       "        text-align: right;\n",
       "    }\n",
       "</style>\n",
       "<table border=\"1\" class=\"dataframe\">\n",
       "  <thead>\n",
       "    <tr style=\"text-align: right;\">\n",
       "      <th></th>\n",
       "      <th>genre</th>\n",
       "      <th>eu_sales</th>\n",
       "    </tr>\n",
       "  </thead>\n",
       "  <tbody>\n",
       "    <tr>\n",
       "      <th>0</th>\n",
       "      <td>Action</td>\n",
       "      <td>159.34</td>\n",
       "    </tr>\n",
       "    <tr>\n",
       "      <th>8</th>\n",
       "      <td>Shooter</td>\n",
       "      <td>113.47</td>\n",
       "    </tr>\n",
       "    <tr>\n",
       "      <th>10</th>\n",
       "      <td>Sports</td>\n",
       "      <td>69.09</td>\n",
       "    </tr>\n",
       "    <tr>\n",
       "      <th>7</th>\n",
       "      <td>Role-Playing</td>\n",
       "      <td>48.53</td>\n",
       "    </tr>\n",
       "    <tr>\n",
       "      <th>6</th>\n",
       "      <td>Racing</td>\n",
       "      <td>27.29</td>\n",
       "    </tr>\n",
       "  </tbody>\n",
       "</table>\n",
       "</div>"
      ],
      "text/plain": [
       "           genre  eu_sales\n",
       "0         Action    159.34\n",
       "8        Shooter    113.47\n",
       "10        Sports     69.09\n",
       "7   Role-Playing     48.53\n",
       "6         Racing     27.29"
      ]
     },
     "execution_count": 44,
     "metadata": {},
     "output_type": "execute_result"
    }
   ],
   "source": [
    "df_n.groupby('genre')['eu_sales'].sum().reset_index().sort_values(by='eu_sales', ascending=False).head()"
   ]
  },
  {
   "cell_type": "code",
   "execution_count": 45,
   "metadata": {},
   "outputs": [
    {
     "data": {
      "text/html": [
       "<div>\n",
       "<style scoped>\n",
       "    .dataframe tbody tr th:only-of-type {\n",
       "        vertical-align: middle;\n",
       "    }\n",
       "\n",
       "    .dataframe tbody tr th {\n",
       "        vertical-align: top;\n",
       "    }\n",
       "\n",
       "    .dataframe thead th {\n",
       "        text-align: right;\n",
       "    }\n",
       "</style>\n",
       "<table border=\"1\" class=\"dataframe\">\n",
       "  <thead>\n",
       "    <tr style=\"text-align: right;\">\n",
       "      <th></th>\n",
       "      <th>rating</th>\n",
       "      <th>eu_sales</th>\n",
       "    </tr>\n",
       "  </thead>\n",
       "  <tbody>\n",
       "    <tr>\n",
       "      <th>2</th>\n",
       "      <td>M</td>\n",
       "      <td>193.96</td>\n",
       "    </tr>\n",
       "    <tr>\n",
       "      <th>0</th>\n",
       "      <td>E</td>\n",
       "      <td>113.03</td>\n",
       "    </tr>\n",
       "    <tr>\n",
       "      <th>1</th>\n",
       "      <td>E10+</td>\n",
       "      <td>55.37</td>\n",
       "    </tr>\n",
       "    <tr>\n",
       "      <th>3</th>\n",
       "      <td>T</td>\n",
       "      <td>52.96</td>\n",
       "    </tr>\n",
       "  </tbody>\n",
       "</table>\n",
       "</div>"
      ],
      "text/plain": [
       "  rating  eu_sales\n",
       "2      M    193.96\n",
       "0      E    113.03\n",
       "1   E10+     55.37\n",
       "3      T     52.96"
      ]
     },
     "execution_count": 45,
     "metadata": {},
     "output_type": "execute_result"
    }
   ],
   "source": [
    "df_n.query('rating != -1').groupby('rating')['eu_sales'].sum().reset_index().sort_values(by='eu_sales', ascending=False).head()"
   ]
  },
  {
   "cell_type": "markdown",
   "metadata": {},
   "source": [
    "<b>Выводы:\n",
    "- в Европе наибольшую популярность имеют платформы PS4, PS3, а также X360 и XOne\n",
    "- наиболее популярными жанрами являются Action, Shooter, Sports, Role-Playing и Racing\n",
    "- с большим отрывом по лидирует рейтинг M, затем E, завершают список E10+ и Т"
   ]
  },
  {
   "cell_type": "markdown",
   "metadata": {},
   "source": [
    "### Регион Япония(JP)"
   ]
  },
  {
   "cell_type": "code",
   "execution_count": 46,
   "metadata": {},
   "outputs": [
    {
     "data": {
      "text/html": [
       "<div>\n",
       "<style scoped>\n",
       "    .dataframe tbody tr th:only-of-type {\n",
       "        vertical-align: middle;\n",
       "    }\n",
       "\n",
       "    .dataframe tbody tr th {\n",
       "        vertical-align: top;\n",
       "    }\n",
       "\n",
       "    .dataframe thead th {\n",
       "        text-align: right;\n",
       "    }\n",
       "</style>\n",
       "<table border=\"1\" class=\"dataframe\">\n",
       "  <thead>\n",
       "    <tr style=\"text-align: right;\">\n",
       "      <th></th>\n",
       "      <th>platform</th>\n",
       "      <th>jp_sales</th>\n",
       "    </tr>\n",
       "  </thead>\n",
       "  <tbody>\n",
       "    <tr>\n",
       "      <th>0</th>\n",
       "      <td>3DS</td>\n",
       "      <td>87.79</td>\n",
       "    </tr>\n",
       "    <tr>\n",
       "      <th>3</th>\n",
       "      <td>PS3</td>\n",
       "      <td>35.29</td>\n",
       "    </tr>\n",
       "    <tr>\n",
       "      <th>6</th>\n",
       "      <td>PSV</td>\n",
       "      <td>21.04</td>\n",
       "    </tr>\n",
       "    <tr>\n",
       "      <th>4</th>\n",
       "      <td>PS4</td>\n",
       "      <td>15.96</td>\n",
       "    </tr>\n",
       "    <tr>\n",
       "      <th>8</th>\n",
       "      <td>WiiU</td>\n",
       "      <td>13.01</td>\n",
       "    </tr>\n",
       "  </tbody>\n",
       "</table>\n",
       "</div>"
      ],
      "text/plain": [
       "  platform  jp_sales\n",
       "0      3DS     87.79\n",
       "3      PS3     35.29\n",
       "6      PSV     21.04\n",
       "4      PS4     15.96\n",
       "8     WiiU     13.01"
      ]
     },
     "execution_count": 46,
     "metadata": {},
     "output_type": "execute_result"
    }
   ],
   "source": [
    "df_n.groupby('platform')['jp_sales'].sum().reset_index().sort_values(by='jp_sales', ascending=False).head()"
   ]
  },
  {
   "cell_type": "code",
   "execution_count": 47,
   "metadata": {},
   "outputs": [
    {
     "data": {
      "text/html": [
       "<div>\n",
       "<style scoped>\n",
       "    .dataframe tbody tr th:only-of-type {\n",
       "        vertical-align: middle;\n",
       "    }\n",
       "\n",
       "    .dataframe tbody tr th {\n",
       "        vertical-align: top;\n",
       "    }\n",
       "\n",
       "    .dataframe thead th {\n",
       "        text-align: right;\n",
       "    }\n",
       "</style>\n",
       "<table border=\"1\" class=\"dataframe\">\n",
       "  <thead>\n",
       "    <tr style=\"text-align: right;\">\n",
       "      <th></th>\n",
       "      <th>genre</th>\n",
       "      <th>jp_sales</th>\n",
       "    </tr>\n",
       "  </thead>\n",
       "  <tbody>\n",
       "    <tr>\n",
       "      <th>7</th>\n",
       "      <td>Role-Playing</td>\n",
       "      <td>65.44</td>\n",
       "    </tr>\n",
       "    <tr>\n",
       "      <th>0</th>\n",
       "      <td>Action</td>\n",
       "      <td>52.80</td>\n",
       "    </tr>\n",
       "    <tr>\n",
       "      <th>3</th>\n",
       "      <td>Misc</td>\n",
       "      <td>12.86</td>\n",
       "    </tr>\n",
       "    <tr>\n",
       "      <th>9</th>\n",
       "      <td>Simulation</td>\n",
       "      <td>10.41</td>\n",
       "    </tr>\n",
       "    <tr>\n",
       "      <th>2</th>\n",
       "      <td>Fighting</td>\n",
       "      <td>9.44</td>\n",
       "    </tr>\n",
       "  </tbody>\n",
       "</table>\n",
       "</div>"
      ],
      "text/plain": [
       "          genre  jp_sales\n",
       "7  Role-Playing     65.44\n",
       "0        Action     52.80\n",
       "3          Misc     12.86\n",
       "9    Simulation     10.41\n",
       "2      Fighting      9.44"
      ]
     },
     "execution_count": 47,
     "metadata": {},
     "output_type": "execute_result"
    }
   ],
   "source": [
    "df_n.groupby('genre')['jp_sales'].sum().reset_index().sort_values(by='jp_sales', ascending=False).head()"
   ]
  },
  {
   "cell_type": "code",
   "execution_count": 48,
   "metadata": {},
   "outputs": [
    {
     "data": {
      "text/html": [
       "<div>\n",
       "<style scoped>\n",
       "    .dataframe tbody tr th:only-of-type {\n",
       "        vertical-align: middle;\n",
       "    }\n",
       "\n",
       "    .dataframe tbody tr th {\n",
       "        vertical-align: top;\n",
       "    }\n",
       "\n",
       "    .dataframe thead th {\n",
       "        text-align: right;\n",
       "    }\n",
       "</style>\n",
       "<table border=\"1\" class=\"dataframe\">\n",
       "  <thead>\n",
       "    <tr style=\"text-align: right;\">\n",
       "      <th></th>\n",
       "      <th>rating</th>\n",
       "      <th>jp_sales</th>\n",
       "    </tr>\n",
       "  </thead>\n",
       "  <tbody>\n",
       "    <tr>\n",
       "      <th>0</th>\n",
       "      <td>E</td>\n",
       "      <td>28.33</td>\n",
       "    </tr>\n",
       "    <tr>\n",
       "      <th>3</th>\n",
       "      <td>T</td>\n",
       "      <td>26.02</td>\n",
       "    </tr>\n",
       "    <tr>\n",
       "      <th>2</th>\n",
       "      <td>M</td>\n",
       "      <td>21.20</td>\n",
       "    </tr>\n",
       "    <tr>\n",
       "      <th>1</th>\n",
       "      <td>E10+</td>\n",
       "      <td>8.19</td>\n",
       "    </tr>\n",
       "  </tbody>\n",
       "</table>\n",
       "</div>"
      ],
      "text/plain": [
       "  rating  jp_sales\n",
       "0      E     28.33\n",
       "3      T     26.02\n",
       "2      M     21.20\n",
       "1   E10+      8.19"
      ]
     },
     "execution_count": 48,
     "metadata": {},
     "output_type": "execute_result"
    }
   ],
   "source": [
    "df_n.query('rating != -1').groupby('rating')['jp_sales'].sum().reset_index().sort_values(by='jp_sales', ascending=False).head()"
   ]
  },
  {
   "cell_type": "markdown",
   "metadata": {},
   "source": [
    "<b>Выводы:\n",
    "- в Японии наибольшую популярность имеют платформы 3DS, PS3 и PSV\t\n",
    "- наиболее популярными жанрами являются Role-Playing, Action, Misc, Sports, Simulation и Fighting\n",
    "- лидируют рейтинг E, T и M"
   ]
  },
  {
   "cell_type": "markdown",
   "metadata": {},
   "source": [
    "## Проверка гипотез"
   ]
  },
  {
   "cell_type": "markdown",
   "metadata": {},
   "source": [
    "### Средние пользовательские рейтинги платформ Xbox One и PC одинаковые"
   ]
  },
  {
   "cell_type": "markdown",
   "metadata": {},
   "source": [
    "<b><u>Сформулируем нулевую и альтернативную гипотезы</u>\n",
    "    \n",
    " - Нулевая гипотеза (Hо): средние пользовательские рейтинги платформ Xbox One и PC равны\n",
    " - Альтернативная гипотеза(Н1): средние пользовательские рейтинги платформ Xbox One и PC не равны"
   ]
  },
  {
   "cell_type": "code",
   "execution_count": 49,
   "metadata": {},
   "outputs": [
    {
     "name": "stdout",
     "output_type": "stream",
     "text": [
      "p-значение: 0.0010259813499343441\n",
      "Отвергаем нулевую гипотезу\n",
      "\n",
      "Cредний пользовательский рейтинг платформы Xbox One - 4.5\n",
      "Cредний пользовательский рейтинг платформы PC - 5.4\n"
     ]
    }
   ],
   "source": [
    "xone = df.query('platform == \"XOne\"')\n",
    "pc = df.query('platform == \"PC\"')\n",
    "results = st.ttest_ind(\n",
    "    xone['user_score'],\n",
    "    pc['user_score'],\n",
    ")\n",
    "\n",
    "#уровень статистической значимости\n",
    "alpha = .05\n",
    "\n",
    "print('p-значение:', results.pvalue)\n",
    "\n",
    "if (results.pvalue < alpha):\n",
    "    print(\"Отвергаем нулевую гипотезу\")\n",
    "else:\n",
    "    print(\"Не получилось отвергнуть нулевую гипотезу\")\n",
    "    \n",
    "print()    \n",
    "print('Cредний пользовательский рейтинг платформы Xbox One -', xone['user_score'].mean().round(1))\n",
    "print('Cредний пользовательский рейтинг платформы PC -', pc['user_score'].mean().round(1))"
   ]
  },
  {
   "cell_type": "markdown",
   "metadata": {},
   "source": [
    "### Средние пользовательские рейтинги жанров Action (англ. «действие», экшен-игры) и Sports (англ. «спортивные соревнования») разные"
   ]
  },
  {
   "cell_type": "markdown",
   "metadata": {},
   "source": [
    "<b><u>Сформулируем нулевую и альтернативную гипотезы</u>\n",
    "\n",
    " - Нулевая гипотеза (Hо): средние пользовательские рейтинги жанров Action и Sports равны\n",
    " - Альтернативная гипотеза(Н1): средние пользовательские рейтинги жанров Action и Sports не равны"
   ]
  },
  {
   "cell_type": "code",
   "execution_count": 50,
   "metadata": {},
   "outputs": [
    {
     "name": "stdout",
     "output_type": "stream",
     "text": [
      "p-значение: 1.1705362926146342e-08\n",
      "Отвергаем нулевую гипотезу\n",
      "\n",
      "Cредний пользовательский рейтинг жанра Action - 3.4\n",
      "Cредний пользовательский рейтинг жанра Sports - 2.7\n"
     ]
    }
   ],
   "source": [
    "act = df.query('genre == \"Action\"')\n",
    "spr = df.query('genre == \"Sports\"')\n",
    "\n",
    "results = st.ttest_ind(\n",
    "    act['user_score'],\n",
    "    spr['user_score'],\n",
    "    equal_var = False\n",
    ")\n",
    "#уровень статистической значимости находится в памяти из предыдущего исследования\n",
    "print('p-значение:', results.pvalue)\n",
    "\n",
    "if (results.pvalue < alpha):\n",
    "    print(\"Отвергаем нулевую гипотезу\")\n",
    "else:\n",
    "    print(\"Не получилось отвергнуть нулевую гипотезу\")\n",
    "    \n",
    "print()    \n",
    "print('Cредний пользовательский рейтинг жанра Action -', act['user_score'].mean().round(1))\n",
    "print('Cредний пользовательский рейтинг жанра Sports -', spr['user_score'].mean().round(1))"
   ]
  },
  {
   "cell_type": "markdown",
   "metadata": {},
   "source": [
    "<b><u>Вывод: <br></u>\n",
    "Обе выдвинутые гипотезы отвергануты:\n",
    " - средние пользовательские рейтинги платформ Xbox One и PC равны\n",
    " - средние пользовательские рейтинги жанров Action и Sports равны<br>\n",
    "    \n",
    "<i>По данным исследования гипотез видно, что различия между платформами и жанрами есть"
   ]
  },
  {
   "cell_type": "markdown",
   "metadata": {},
   "source": [
    "## Общий вывод"
   ]
  },
  {
   "cell_type": "markdown",
   "metadata": {},
   "source": [
    "### В ходе предобработки:\n",
    "\n",
    "1) ознакомились с предоставленными данными, выявили ошибки и пропуски в датасете и обработали их: \n",
    "  - привели названия столбцов к нижнему регистру,\n",
    "  - преобразовали данные в нужные типы,\n",
    "  - обработали пропуски,\n",
    "  - посчитали суммарные продажи во всех регионах и добавили в датасет.\n",
    "\n",
    "2) провели исследовательский анализ данных, выделили срез данных за 2012-2016 гг\n",
    "\n",
    "3) определили 10 платформ-лидеров по продажам: PS2, X360, PS3, Wii, DS, PS, GBA, PS4, PSP, PC"
   ]
  },
  {
   "cell_type": "markdown",
   "metadata": {},
   "source": [
    "### В ходе анализа было выявлено:\n",
    "\n",
    "1) В исследывании пик прибыли у большинства платформ приходится на 2007-2011 годы. <br>\n",
    "2) С 2012 года выручка упала примерно в 2 раза. <br>\n",
    "3) На текущем этапе (за 2012-2016гг) наиболее перспективной является платформа PS4 (последний выпуск семейства PS).<br>\n",
    "4) На примере PS4 рассмотрели корреляцию \"оценка критика\"/\"выручка\" и \"оценка пользователя\"/выручка\" и пришли к выводу о том, что отзывы критиков в большей степени влияют на продажи, а отзывы пользователей практически не влияют.<br>\n",
    "5) Сравнивая полученные результаты с данными других платформ, можем утверждать, что выводы сопоставимы.<br>\n",
    "6) Анализируя жанры, увидели, что самыми прибыльными являются Action, Sports и Shooter. Напротив в аутсайдерах Strategy,Adventure и Puzzle<br>"
   ]
  },
  {
   "cell_type": "markdown",
   "metadata": {},
   "source": [
    "### Составили игровой портрет предпочтений пользователей в Северной Америке, Европе и Японии:\n",
    "\n",
    "<b><i>Из проанализированных данных можем сделать вывод о том, что в Северной Америке и Европе пользовательские предпочтения схожи:</b></i>\n",
    " - лидируют платформы PS (PS4 и PS3: платформа PS в целом занимает в совокупности 1 место) и X360,\n",
    " - самые популярные жанры - Action, Shooter, Sports и Role-Playing,\n",
    " - с большим отрывом по продажам лидирует рейтинг M («Для взрослых») и E («Для всех»), в т.ч. E10+(«Для всех от 10 лет и старше»).\n",
    "\n",
    "<b><i>У Японии свойственные ей предпочтения:</b></i>\n",
    " - лидируют семейства платформ 3DS, PS3 и PSV\n",
    " - самые популярные жанры - Role-Playing, Action, Misc, Sports, Simulation и Fighting. \n",
    " - самые большие продажи у рейтингов E, T(«Подросткам») и M, что с некоторыми в целом схоже с мировыми тенденциями.\n",
    "\n",
    "<i> Япония имеет свои сособенности и предпочтения, что дает основания подходить к рекламным компаниям на этом рынке обособленно.</i>"
   ]
  },
  {
   "cell_type": "markdown",
   "metadata": {},
   "source": [
    "### Проверка выдвинутых гипотез\n",
    "\n",
    "В результате проверки выдвинутых гипотез получили их опровержение, т.к. разница между пользовательскими рейтингами платформ и жанров существенна"
   ]
  },
  {
   "cell_type": "markdown",
   "metadata": {},
   "source": [
    "### Рекомендации\n",
    "\n",
    "<b><i>Планируя рекламную кампанию на 2017 год стоит обратить особое внимание на продвижение платформы PS4 (как наиболле восстребованой на рынке из-за её новизны и большого опыта продвижения (на основании прочих платформ серии PS)), а также платформ 3DS, PS3 и PSV для азиатского рынка. Также следует особое внимание  уделить жанрам Action, Shooter, Sports и Role-Playing, в Японии Role-Playing, Action, Misc, Sports, Simulation и Fighting.\n",
    "\n",
    "Стоит уделять особое внимание Японскому рынку, нуждающемуся в особом подходе."
   ]
  }
 ],
 "metadata": {
  "ExecuteTimeLog": [
   {
    "duration": 1397,
    "start_time": "2022-01-24T07:59:39.031Z"
   },
   {
    "duration": 79,
    "start_time": "2022-01-24T08:00:54.813Z"
   },
   {
    "duration": 73,
    "start_time": "2022-01-24T08:01:25.765Z"
   },
   {
    "duration": 1552,
    "start_time": "2022-01-24T08:17:20.901Z"
   },
   {
    "duration": 4,
    "start_time": "2022-01-24T08:18:02.675Z"
   },
   {
    "duration": 20,
    "start_time": "2022-01-24T08:18:22.946Z"
   },
   {
    "duration": 6,
    "start_time": "2022-01-24T08:23:51.485Z"
   },
   {
    "duration": 327,
    "start_time": "2022-01-24T08:24:14.121Z"
   },
   {
    "duration": 322,
    "start_time": "2022-01-24T08:24:17.385Z"
   },
   {
    "duration": 5,
    "start_time": "2022-01-24T08:30:04.851Z"
   },
   {
    "duration": 9190,
    "start_time": "2022-01-24T08:38:40.637Z"
   },
   {
    "duration": 1354,
    "start_time": "2022-01-24T08:38:57.054Z"
   },
   {
    "duration": 82,
    "start_time": "2022-01-24T08:38:58.411Z"
   },
   {
    "duration": 20,
    "start_time": "2022-01-24T08:38:58.496Z"
   },
   {
    "duration": 9,
    "start_time": "2022-01-24T08:38:58.519Z"
   },
   {
    "duration": 843,
    "start_time": "2022-01-24T08:38:58.558Z"
   },
   {
    "duration": 328,
    "start_time": "2022-01-24T08:39:38.027Z"
   },
   {
    "duration": 6,
    "start_time": "2022-01-24T08:39:57.114Z"
   },
   {
    "duration": 10,
    "start_time": "2022-01-24T08:41:07.235Z"
   },
   {
    "duration": 10,
    "start_time": "2022-01-24T08:42:27.561Z"
   },
   {
    "duration": 4,
    "start_time": "2022-01-24T08:45:07.694Z"
   },
   {
    "duration": 5,
    "start_time": "2022-01-24T08:45:35.248Z"
   },
   {
    "duration": 10,
    "start_time": "2022-01-24T08:45:54.988Z"
   },
   {
    "duration": 22,
    "start_time": "2022-01-24T09:10:58.214Z"
   },
   {
    "duration": 120,
    "start_time": "2022-01-24T09:17:05.696Z"
   },
   {
    "duration": 1453,
    "start_time": "2022-01-24T09:17:15.181Z"
   },
   {
    "duration": 76,
    "start_time": "2022-01-24T09:17:16.638Z"
   },
   {
    "duration": 19,
    "start_time": "2022-01-24T09:17:16.716Z"
   },
   {
    "duration": 22,
    "start_time": "2022-01-24T09:17:16.738Z"
   },
   {
    "duration": 11,
    "start_time": "2022-01-24T09:17:16.762Z"
   },
   {
    "duration": 28,
    "start_time": "2022-01-24T09:30:29.221Z"
   },
   {
    "duration": 12,
    "start_time": "2022-01-24T09:36:12.466Z"
   },
   {
    "duration": 21,
    "start_time": "2022-01-24T09:36:20.787Z"
   },
   {
    "duration": 12,
    "start_time": "2022-01-24T09:37:17.670Z"
   },
   {
    "duration": 15,
    "start_time": "2022-01-24T09:52:32.009Z"
   },
   {
    "duration": 10,
    "start_time": "2022-01-24T09:56:12.674Z"
   },
   {
    "duration": 33,
    "start_time": "2022-01-24T10:05:23.007Z"
   },
   {
    "duration": 5,
    "start_time": "2022-01-24T10:06:19.604Z"
   },
   {
    "duration": 19,
    "start_time": "2022-01-24T10:06:34.506Z"
   },
   {
    "duration": 34,
    "start_time": "2022-01-24T10:07:03.354Z"
   },
   {
    "duration": 15,
    "start_time": "2022-01-24T10:11:58.133Z"
   },
   {
    "duration": 1502,
    "start_time": "2022-01-24T10:12:08.821Z"
   },
   {
    "duration": 78,
    "start_time": "2022-01-24T10:12:10.326Z"
   },
   {
    "duration": 18,
    "start_time": "2022-01-24T10:12:10.407Z"
   },
   {
    "duration": 6,
    "start_time": "2022-01-24T10:12:10.427Z"
   },
   {
    "duration": 11,
    "start_time": "2022-01-24T10:12:10.460Z"
   },
   {
    "duration": 28,
    "start_time": "2022-01-24T10:12:10.473Z"
   },
   {
    "duration": 10,
    "start_time": "2022-01-24T10:12:10.503Z"
   },
   {
    "duration": 46,
    "start_time": "2022-01-24T10:12:10.516Z"
   },
   {
    "duration": 33,
    "start_time": "2022-01-24T10:12:10.565Z"
   },
   {
    "duration": 33,
    "start_time": "2022-01-24T10:12:10.600Z"
   },
   {
    "duration": 34,
    "start_time": "2022-01-24T10:15:05.554Z"
   },
   {
    "duration": 33,
    "start_time": "2022-01-24T10:24:02.651Z"
   },
   {
    "duration": 32,
    "start_time": "2022-01-24T10:24:07.403Z"
   },
   {
    "duration": 39,
    "start_time": "2022-01-24T10:28:33.821Z"
   },
   {
    "duration": 21,
    "start_time": "2022-01-24T10:29:09.544Z"
   },
   {
    "duration": 13,
    "start_time": "2022-01-24T10:59:35.037Z"
   },
   {
    "duration": 1701,
    "start_time": "2022-01-24T10:59:52.529Z"
   },
   {
    "duration": 77,
    "start_time": "2022-01-24T10:59:54.233Z"
   },
   {
    "duration": 19,
    "start_time": "2022-01-24T10:59:54.313Z"
   },
   {
    "duration": 27,
    "start_time": "2022-01-24T10:59:54.335Z"
   },
   {
    "duration": 17,
    "start_time": "2022-01-24T10:59:54.364Z"
   },
   {
    "duration": 24,
    "start_time": "2022-01-24T10:59:54.384Z"
   },
   {
    "duration": 11,
    "start_time": "2022-01-24T10:59:54.410Z"
   },
   {
    "duration": 42,
    "start_time": "2022-01-24T10:59:54.423Z"
   },
   {
    "duration": 34,
    "start_time": "2022-01-24T10:59:54.469Z"
   },
   {
    "duration": 61,
    "start_time": "2022-01-24T10:59:54.505Z"
   },
   {
    "duration": 14,
    "start_time": "2022-01-24T10:59:54.569Z"
   },
   {
    "duration": 34,
    "start_time": "2022-01-24T10:59:54.586Z"
   },
   {
    "duration": 55,
    "start_time": "2022-01-24T10:59:54.623Z"
   },
   {
    "duration": 33,
    "start_time": "2022-01-24T10:59:54.680Z"
   },
   {
    "duration": 51,
    "start_time": "2022-01-24T10:59:54.716Z"
   },
   {
    "duration": 8,
    "start_time": "2022-01-24T11:29:24.007Z"
   },
   {
    "duration": 18,
    "start_time": "2022-01-24T11:29:26.667Z"
   },
   {
    "duration": 20,
    "start_time": "2022-01-24T12:12:07.072Z"
   },
   {
    "duration": 19,
    "start_time": "2022-01-24T12:23:00.904Z"
   },
   {
    "duration": 21,
    "start_time": "2022-01-24T12:23:39.999Z"
   },
   {
    "duration": 456,
    "start_time": "2022-01-24T12:24:03.315Z"
   },
   {
    "duration": 505,
    "start_time": "2022-01-24T12:24:25.439Z"
   },
   {
    "duration": 486,
    "start_time": "2022-01-24T12:24:47.569Z"
   },
   {
    "duration": 593,
    "start_time": "2022-01-24T12:24:57.194Z"
   },
   {
    "duration": 493,
    "start_time": "2022-01-24T12:25:21.259Z"
   },
   {
    "duration": 24,
    "start_time": "2022-01-24T12:26:25.363Z"
   },
   {
    "duration": 506,
    "start_time": "2022-01-24T12:26:31.125Z"
   },
   {
    "duration": 62,
    "start_time": "2022-01-24T13:17:29.569Z"
   },
   {
    "duration": 139,
    "start_time": "2022-01-24T13:17:40.323Z"
   },
   {
    "duration": 56,
    "start_time": "2022-01-24T13:18:22.449Z"
   },
   {
    "duration": 71,
    "start_time": "2022-01-24T13:18:36.190Z"
   },
   {
    "duration": 3,
    "start_time": "2022-01-24T13:38:14.686Z"
   },
   {
    "duration": 17,
    "start_time": "2022-01-24T13:41:04.851Z"
   },
   {
    "duration": 840,
    "start_time": "2022-01-24T13:46:19.443Z"
   },
   {
    "duration": 17,
    "start_time": "2022-01-24T13:46:54.208Z"
   },
   {
    "duration": 643,
    "start_time": "2022-01-24T13:47:47.642Z"
   },
   {
    "duration": 726,
    "start_time": "2022-01-24T13:48:31.105Z"
   },
   {
    "duration": 756,
    "start_time": "2022-01-24T13:58:52.550Z"
   },
   {
    "duration": 9095,
    "start_time": "2022-01-24T13:59:16.105Z"
   },
   {
    "duration": 402,
    "start_time": "2022-01-24T14:01:07.728Z"
   },
   {
    "duration": 6,
    "start_time": "2022-01-24T14:01:52.495Z"
   },
   {
    "duration": 6,
    "start_time": "2022-01-24T14:02:13.464Z"
   },
   {
    "duration": 1063,
    "start_time": "2022-01-24T14:05:19.607Z"
   },
   {
    "duration": 4396,
    "start_time": "2022-01-24T14:05:41.501Z"
   },
   {
    "duration": 4253,
    "start_time": "2022-01-24T14:08:01.829Z"
   },
   {
    "duration": 5267,
    "start_time": "2022-01-24T14:08:08.605Z"
   },
   {
    "duration": 676,
    "start_time": "2022-01-24T14:09:09.100Z"
   },
   {
    "duration": 720,
    "start_time": "2022-01-24T14:10:43.117Z"
   },
   {
    "duration": 6219,
    "start_time": "2022-01-24T14:10:55.390Z"
   },
   {
    "duration": 4818,
    "start_time": "2022-01-24T14:11:21.901Z"
   },
   {
    "duration": 4896,
    "start_time": "2022-01-24T14:12:11.988Z"
   },
   {
    "duration": 1122,
    "start_time": "2022-01-24T14:12:27.954Z"
   },
   {
    "duration": 3974,
    "start_time": "2022-01-24T14:12:35.336Z"
   },
   {
    "duration": 4208,
    "start_time": "2022-01-24T14:12:57.729Z"
   },
   {
    "duration": 3974,
    "start_time": "2022-01-24T14:13:07.559Z"
   },
   {
    "duration": 3993,
    "start_time": "2022-01-24T14:23:01.260Z"
   },
   {
    "duration": 4281,
    "start_time": "2022-01-24T14:23:19.526Z"
   },
   {
    "duration": 4242,
    "start_time": "2022-01-24T14:23:35.301Z"
   },
   {
    "duration": 4136,
    "start_time": "2022-01-24T14:23:49.259Z"
   },
   {
    "duration": 6,
    "start_time": "2022-01-24T14:48:00.545Z"
   },
   {
    "duration": 6,
    "start_time": "2022-01-24T14:48:26.623Z"
   },
   {
    "duration": 5637,
    "start_time": "2022-01-24T14:53:35.013Z"
   },
   {
    "duration": 5655,
    "start_time": "2022-01-24T14:53:56.174Z"
   },
   {
    "duration": 20,
    "start_time": "2022-01-24T15:16:13.360Z"
   },
   {
    "duration": 20,
    "start_time": "2022-01-24T15:16:39.110Z"
   },
   {
    "duration": 21,
    "start_time": "2022-01-24T15:16:42.663Z"
   },
   {
    "duration": 5,
    "start_time": "2022-01-24T15:20:54.842Z"
   },
   {
    "duration": 6,
    "start_time": "2022-01-24T15:21:02.157Z"
   },
   {
    "duration": 2351,
    "start_time": "2022-01-24T15:22:08.867Z"
   },
   {
    "duration": 9257,
    "start_time": "2022-01-24T15:24:25.870Z"
   },
   {
    "duration": 2328,
    "start_time": "2022-01-24T15:24:44.006Z"
   },
   {
    "duration": 1616,
    "start_time": "2022-01-24T15:25:27.711Z"
   },
   {
    "duration": 86,
    "start_time": "2022-01-24T15:25:29.330Z"
   },
   {
    "duration": 19,
    "start_time": "2022-01-24T15:25:29.419Z"
   },
   {
    "duration": 5,
    "start_time": "2022-01-24T15:25:29.459Z"
   },
   {
    "duration": 12,
    "start_time": "2022-01-24T15:25:29.467Z"
   },
   {
    "duration": 28,
    "start_time": "2022-01-24T15:25:29.482Z"
   },
   {
    "duration": 12,
    "start_time": "2022-01-24T15:25:29.513Z"
   },
   {
    "duration": 10,
    "start_time": "2022-01-24T15:25:29.561Z"
   },
   {
    "duration": 38,
    "start_time": "2022-01-24T15:25:29.575Z"
   },
   {
    "duration": 85,
    "start_time": "2022-01-24T15:25:29.615Z"
   },
   {
    "duration": 12,
    "start_time": "2022-01-24T15:25:29.703Z"
   },
   {
    "duration": 53,
    "start_time": "2022-01-24T15:25:29.718Z"
   },
   {
    "duration": 32,
    "start_time": "2022-01-24T15:25:29.773Z"
   },
   {
    "duration": 62,
    "start_time": "2022-01-24T15:25:29.808Z"
   },
   {
    "duration": 8,
    "start_time": "2022-01-24T15:25:29.872Z"
   },
   {
    "duration": 19,
    "start_time": "2022-01-24T15:25:29.883Z"
   },
   {
    "duration": 57,
    "start_time": "2022-01-24T15:25:29.905Z"
   },
   {
    "duration": 512,
    "start_time": "2022-01-24T15:25:29.965Z"
   },
   {
    "duration": 81,
    "start_time": "2022-01-24T15:25:30.480Z"
   },
   {
    "duration": 15,
    "start_time": "2022-01-24T15:25:30.563Z"
   },
   {
    "duration": 5,
    "start_time": "2022-01-24T15:25:30.581Z"
   },
   {
    "duration": 1330,
    "start_time": "2022-01-24T15:25:30.588Z"
   },
   {
    "duration": -4405,
    "start_time": "2022-01-24T15:25:36.325Z"
   },
   {
    "duration": -4410,
    "start_time": "2022-01-24T15:25:36.331Z"
   },
   {
    "duration": -4429,
    "start_time": "2022-01-24T15:25:36.352Z"
   },
   {
    "duration": -4439,
    "start_time": "2022-01-24T15:25:36.363Z"
   },
   {
    "duration": 3951,
    "start_time": "2022-01-24T15:30:59.792Z"
   },
   {
    "duration": 1461,
    "start_time": "2022-01-24T15:31:14.258Z"
   },
   {
    "duration": 78,
    "start_time": "2022-01-24T15:31:15.721Z"
   },
   {
    "duration": 18,
    "start_time": "2022-01-24T15:31:15.802Z"
   },
   {
    "duration": 6,
    "start_time": "2022-01-24T15:31:15.822Z"
   },
   {
    "duration": 34,
    "start_time": "2022-01-24T15:31:15.830Z"
   },
   {
    "duration": 23,
    "start_time": "2022-01-24T15:31:15.867Z"
   },
   {
    "duration": 10,
    "start_time": "2022-01-24T15:31:15.892Z"
   },
   {
    "duration": 11,
    "start_time": "2022-01-24T15:31:15.906Z"
   },
   {
    "duration": 73,
    "start_time": "2022-01-24T15:31:15.920Z"
   },
   {
    "duration": 64,
    "start_time": "2022-01-24T15:31:15.995Z"
   },
   {
    "duration": 13,
    "start_time": "2022-01-24T15:31:16.061Z"
   },
   {
    "duration": 34,
    "start_time": "2022-01-24T15:31:16.076Z"
   },
   {
    "duration": 70,
    "start_time": "2022-01-24T15:31:16.112Z"
   },
   {
    "duration": 33,
    "start_time": "2022-01-24T15:31:16.185Z"
   },
   {
    "duration": 8,
    "start_time": "2022-01-24T15:31:16.220Z"
   },
   {
    "duration": 44,
    "start_time": "2022-01-24T15:31:16.230Z"
   },
   {
    "duration": 25,
    "start_time": "2022-01-24T15:31:16.277Z"
   },
   {
    "duration": 616,
    "start_time": "2022-01-24T15:31:16.304Z"
   },
   {
    "duration": 81,
    "start_time": "2022-01-24T15:31:16.923Z"
   },
   {
    "duration": 14,
    "start_time": "2022-01-24T15:31:17.007Z"
   },
   {
    "duration": 4,
    "start_time": "2022-01-24T15:31:17.024Z"
   },
   {
    "duration": 4173,
    "start_time": "2022-01-24T15:31:17.031Z"
   },
   {
    "duration": 6,
    "start_time": "2022-01-24T15:31:21.208Z"
   },
   {
    "duration": 50,
    "start_time": "2022-01-24T15:31:21.216Z"
   },
   {
    "duration": 6,
    "start_time": "2022-01-24T15:31:21.268Z"
   },
   {
    "duration": 1243,
    "start_time": "2022-01-24T15:31:21.276Z"
   },
   {
    "duration": 2129,
    "start_time": "2022-01-24T15:31:34.972Z"
   },
   {
    "duration": 2050,
    "start_time": "2022-01-24T15:42:41.751Z"
   },
   {
    "duration": 1935,
    "start_time": "2022-01-24T15:43:08.432Z"
   },
   {
    "duration": -4456,
    "start_time": "2022-01-24T15:44:25.352Z"
   },
   {
    "duration": 1810,
    "start_time": "2022-01-24T15:44:25.131Z"
   },
   {
    "duration": 1897,
    "start_time": "2022-01-24T15:44:47.331Z"
   },
   {
    "duration": 2677,
    "start_time": "2022-01-24T15:45:10.478Z"
   },
   {
    "duration": 2631,
    "start_time": "2022-01-24T15:45:58.575Z"
   },
   {
    "duration": 2957,
    "start_time": "2022-01-24T15:47:52.804Z"
   },
   {
    "duration": 3162,
    "start_time": "2022-01-24T16:50:13.435Z"
   },
   {
    "duration": 2918,
    "start_time": "2022-01-24T16:50:52.362Z"
   },
   {
    "duration": 2724,
    "start_time": "2022-01-24T16:56:53.560Z"
   },
   {
    "duration": 330,
    "start_time": "2022-01-24T17:19:30.253Z"
   },
   {
    "duration": 21,
    "start_time": "2022-01-24T17:19:57.042Z"
   },
   {
    "duration": 332,
    "start_time": "2022-01-24T17:24:32.825Z"
   },
   {
    "duration": 103,
    "start_time": "2022-01-24T17:25:34.653Z"
   },
   {
    "duration": 102,
    "start_time": "2022-01-24T17:25:45.471Z"
   },
   {
    "duration": 354,
    "start_time": "2022-01-24T17:26:14.603Z"
   },
   {
    "duration": 11,
    "start_time": "2022-01-24T17:28:16.105Z"
   },
   {
    "duration": 39,
    "start_time": "2022-01-24T17:28:28.615Z"
   },
   {
    "duration": 10,
    "start_time": "2022-01-24T17:28:41.463Z"
   },
   {
    "duration": 431,
    "start_time": "2022-01-24T17:29:50.235Z"
   },
   {
    "duration": 517,
    "start_time": "2022-01-24T17:30:46.169Z"
   },
   {
    "duration": 445,
    "start_time": "2022-01-24T17:30:57.449Z"
   },
   {
    "duration": 341,
    "start_time": "2022-01-24T17:31:15.925Z"
   },
   {
    "duration": 8,
    "start_time": "2022-01-24T18:22:51.214Z"
   },
   {
    "duration": 456,
    "start_time": "2022-01-24T18:23:29.271Z"
   },
   {
    "duration": 7,
    "start_time": "2022-01-24T18:25:20.373Z"
   },
   {
    "duration": 12,
    "start_time": "2022-01-24T18:32:30.420Z"
   },
   {
    "duration": 482,
    "start_time": "2022-01-24T18:32:39.471Z"
   },
   {
    "duration": 518,
    "start_time": "2022-01-24T18:33:11.587Z"
   },
   {
    "duration": 12,
    "start_time": "2022-01-24T18:33:47.372Z"
   },
   {
    "duration": 513,
    "start_time": "2022-01-24T18:33:51.323Z"
   },
   {
    "duration": 7,
    "start_time": "2022-01-24T18:35:13.770Z"
   },
   {
    "duration": 425,
    "start_time": "2022-01-24T18:35:35.765Z"
   },
   {
    "duration": 8,
    "start_time": "2022-01-24T18:36:00.054Z"
   },
   {
    "duration": 473,
    "start_time": "2022-01-24T18:36:07.201Z"
   },
   {
    "duration": 303,
    "start_time": "2022-01-24T18:40:08.217Z"
   },
   {
    "duration": 21,
    "start_time": "2022-01-24T18:40:22.312Z"
   },
   {
    "duration": 17,
    "start_time": "2022-01-24T18:58:19.374Z"
   },
   {
    "duration": 18,
    "start_time": "2022-01-24T18:58:21.463Z"
   },
   {
    "duration": 32,
    "start_time": "2022-01-24T18:58:28.668Z"
   },
   {
    "duration": 326,
    "start_time": "2022-01-24T18:58:48.124Z"
   },
   {
    "duration": 21,
    "start_time": "2022-01-24T18:59:11.547Z"
   },
   {
    "duration": 354,
    "start_time": "2022-01-24T18:59:23.162Z"
   },
   {
    "duration": 321,
    "start_time": "2022-01-24T18:59:53.292Z"
   },
   {
    "duration": 103,
    "start_time": "2022-01-24T19:00:00.977Z"
   },
   {
    "duration": 396,
    "start_time": "2022-01-24T19:00:13.117Z"
   },
   {
    "duration": 15,
    "start_time": "2022-01-24T19:00:52.838Z"
   },
   {
    "duration": 17,
    "start_time": "2022-01-24T19:01:04.401Z"
   },
   {
    "duration": 15,
    "start_time": "2022-01-24T19:01:15.008Z"
   },
   {
    "duration": 24,
    "start_time": "2022-01-24T19:01:19.874Z"
   },
   {
    "duration": 17,
    "start_time": "2022-01-24T19:01:30.097Z"
   },
   {
    "duration": 15,
    "start_time": "2022-01-24T19:01:51.227Z"
   },
   {
    "duration": 16,
    "start_time": "2022-01-24T19:01:58.058Z"
   },
   {
    "duration": 21,
    "start_time": "2022-01-24T19:02:34.555Z"
   },
   {
    "duration": 450,
    "start_time": "2022-01-24T19:09:10.894Z"
   },
   {
    "duration": 372,
    "start_time": "2022-01-24T19:09:13.158Z"
   },
   {
    "duration": 344,
    "start_time": "2022-01-24T19:09:43.271Z"
   },
   {
    "duration": 1659,
    "start_time": "2022-01-24T19:09:50.575Z"
   },
   {
    "duration": 80,
    "start_time": "2022-01-24T19:09:52.237Z"
   },
   {
    "duration": 44,
    "start_time": "2022-01-24T19:09:52.321Z"
   },
   {
    "duration": 7,
    "start_time": "2022-01-24T19:09:52.369Z"
   },
   {
    "duration": 18,
    "start_time": "2022-01-24T19:09:52.379Z"
   },
   {
    "duration": 77,
    "start_time": "2022-01-24T19:09:52.399Z"
   },
   {
    "duration": 15,
    "start_time": "2022-01-24T19:09:52.480Z"
   },
   {
    "duration": 63,
    "start_time": "2022-01-24T19:09:52.501Z"
   },
   {
    "duration": 53,
    "start_time": "2022-01-24T19:09:52.569Z"
   },
   {
    "duration": 69,
    "start_time": "2022-01-24T19:09:52.625Z"
   },
   {
    "duration": 69,
    "start_time": "2022-01-24T19:09:52.698Z"
   },
   {
    "duration": 109,
    "start_time": "2022-01-24T19:09:52.771Z"
   },
   {
    "duration": 91,
    "start_time": "2022-01-24T19:09:52.883Z"
   },
   {
    "duration": 51,
    "start_time": "2022-01-24T19:09:52.977Z"
   },
   {
    "duration": 33,
    "start_time": "2022-01-24T19:09:53.031Z"
   },
   {
    "duration": 27,
    "start_time": "2022-01-24T19:09:53.068Z"
   },
   {
    "duration": 37,
    "start_time": "2022-01-24T19:09:53.099Z"
   },
   {
    "duration": 523,
    "start_time": "2022-01-24T19:09:53.139Z"
   },
   {
    "duration": 140,
    "start_time": "2022-01-24T19:09:53.664Z"
   },
   {
    "duration": 66,
    "start_time": "2022-01-24T19:09:53.806Z"
   },
   {
    "duration": 6,
    "start_time": "2022-01-24T19:09:53.874Z"
   },
   {
    "duration": 4170,
    "start_time": "2022-01-24T19:09:53.882Z"
   },
   {
    "duration": 6,
    "start_time": "2022-01-24T19:09:58.057Z"
   },
   {
    "duration": 19,
    "start_time": "2022-01-24T19:09:58.066Z"
   },
   {
    "duration": 5,
    "start_time": "2022-01-24T19:09:58.088Z"
   },
   {
    "duration": 2252,
    "start_time": "2022-01-24T19:09:58.095Z"
   },
   {
    "duration": 2876,
    "start_time": "2022-01-24T19:10:00.350Z"
   },
   {
    "duration": 11,
    "start_time": "2022-01-24T19:10:03.229Z"
   },
   {
    "duration": 444,
    "start_time": "2022-01-24T19:10:03.242Z"
   },
   {
    "duration": 8,
    "start_time": "2022-01-24T19:10:03.689Z"
   },
   {
    "duration": 650,
    "start_time": "2022-01-24T19:10:03.701Z"
   },
   {
    "duration": 8,
    "start_time": "2022-01-24T19:10:04.359Z"
   },
   {
    "duration": 13,
    "start_time": "2022-01-24T19:10:04.370Z"
   },
   {
    "duration": 525,
    "start_time": "2022-01-24T19:10:04.386Z"
   },
   {
    "duration": 7,
    "start_time": "2022-01-24T19:10:04.915Z"
   },
   {
    "duration": 491,
    "start_time": "2022-01-24T19:10:04.925Z"
   },
   {
    "duration": 9,
    "start_time": "2022-01-24T19:10:05.419Z"
   },
   {
    "duration": 49,
    "start_time": "2022-01-24T19:10:05.431Z"
   },
   {
    "duration": 18,
    "start_time": "2022-01-24T19:10:05.484Z"
   },
   {
    "duration": 17,
    "start_time": "2022-01-24T19:10:05.505Z"
   },
   {
    "duration": 57,
    "start_time": "2022-01-24T19:10:05.524Z"
   },
   {
    "duration": 17,
    "start_time": "2022-01-24T19:10:05.584Z"
   },
   {
    "duration": 57,
    "start_time": "2022-01-24T19:10:05.604Z"
   },
   {
    "duration": 21,
    "start_time": "2022-01-24T19:10:05.663Z"
   },
   {
    "duration": 15,
    "start_time": "2022-01-24T19:10:05.687Z"
   },
   {
    "duration": 16,
    "start_time": "2022-01-24T19:10:05.704Z"
   },
   {
    "duration": 21,
    "start_time": "2022-01-24T19:10:05.760Z"
   },
   {
    "duration": 1614,
    "start_time": "2022-01-26T06:30:36.783Z"
   },
   {
    "duration": 81,
    "start_time": "2022-01-26T06:30:38.400Z"
   },
   {
    "duration": 20,
    "start_time": "2022-01-26T06:30:38.484Z"
   },
   {
    "duration": 10,
    "start_time": "2022-01-26T06:30:38.507Z"
   },
   {
    "duration": 17,
    "start_time": "2022-01-26T06:30:38.520Z"
   },
   {
    "duration": 51,
    "start_time": "2022-01-26T06:30:38.540Z"
   },
   {
    "duration": 14,
    "start_time": "2022-01-26T06:30:38.594Z"
   },
   {
    "duration": 14,
    "start_time": "2022-01-26T06:30:38.610Z"
   },
   {
    "duration": 73,
    "start_time": "2022-01-26T06:30:38.628Z"
   },
   {
    "duration": 34,
    "start_time": "2022-01-26T06:30:38.704Z"
   },
   {
    "duration": 59,
    "start_time": "2022-01-26T06:30:38.741Z"
   },
   {
    "duration": 33,
    "start_time": "2022-01-26T06:30:38.804Z"
   },
   {
    "duration": 42,
    "start_time": "2022-01-26T06:30:38.839Z"
   },
   {
    "duration": 38,
    "start_time": "2022-01-26T06:30:38.883Z"
   },
   {
    "duration": 8,
    "start_time": "2022-01-26T06:30:38.924Z"
   },
   {
    "duration": 49,
    "start_time": "2022-01-26T06:30:38.935Z"
   },
   {
    "duration": 24,
    "start_time": "2022-01-26T06:30:38.986Z"
   },
   {
    "duration": 529,
    "start_time": "2022-01-26T06:30:39.013Z"
   },
   {
    "duration": 81,
    "start_time": "2022-01-26T06:30:39.545Z"
   },
   {
    "duration": 16,
    "start_time": "2022-01-26T06:30:39.628Z"
   },
   {
    "duration": 24,
    "start_time": "2022-01-26T06:30:39.647Z"
   },
   {
    "duration": 4781,
    "start_time": "2022-01-26T06:30:39.674Z"
   },
   {
    "duration": 14,
    "start_time": "2022-01-26T06:30:44.458Z"
   },
   {
    "duration": 26,
    "start_time": "2022-01-26T06:30:44.476Z"
   },
   {
    "duration": 6,
    "start_time": "2022-01-26T06:30:44.504Z"
   },
   {
    "duration": 2563,
    "start_time": "2022-01-26T06:30:44.513Z"
   },
   {
    "duration": 3235,
    "start_time": "2022-01-26T06:30:47.081Z"
   },
   {
    "duration": 11,
    "start_time": "2022-01-26T06:30:50.319Z"
   },
   {
    "duration": 477,
    "start_time": "2022-01-26T06:30:50.332Z"
   },
   {
    "duration": 7,
    "start_time": "2022-01-26T06:30:50.812Z"
   },
   {
    "duration": 488,
    "start_time": "2022-01-26T06:30:50.822Z"
   },
   {
    "duration": 7,
    "start_time": "2022-01-26T06:30:51.313Z"
   },
   {
    "duration": 16,
    "start_time": "2022-01-26T06:30:51.323Z"
   },
   {
    "duration": 731,
    "start_time": "2022-01-26T06:30:51.342Z"
   },
   {
    "duration": 8,
    "start_time": "2022-01-26T06:30:52.076Z"
   },
   {
    "duration": 547,
    "start_time": "2022-01-26T06:30:52.088Z"
   },
   {
    "duration": 7,
    "start_time": "2022-01-26T06:30:52.638Z"
   },
   {
    "duration": 46,
    "start_time": "2022-01-26T06:30:52.649Z"
   },
   {
    "duration": 22,
    "start_time": "2022-01-26T06:30:52.697Z"
   },
   {
    "duration": 54,
    "start_time": "2022-01-26T06:30:52.722Z"
   },
   {
    "duration": 22,
    "start_time": "2022-01-26T06:30:52.778Z"
   },
   {
    "duration": 20,
    "start_time": "2022-01-26T06:30:52.803Z"
   },
   {
    "duration": 54,
    "start_time": "2022-01-26T06:30:52.826Z"
   },
   {
    "duration": 22,
    "start_time": "2022-01-26T06:30:52.883Z"
   },
   {
    "duration": 17,
    "start_time": "2022-01-26T06:30:52.907Z"
   },
   {
    "duration": 61,
    "start_time": "2022-01-26T06:30:52.927Z"
   },
   {
    "duration": 29,
    "start_time": "2022-01-26T06:30:52.991Z"
   },
   {
    "duration": 1435,
    "start_time": "2022-01-26T06:48:38.120Z"
   },
   {
    "duration": 86,
    "start_time": "2022-01-26T06:48:43.316Z"
   },
   {
    "duration": 24,
    "start_time": "2022-01-26T06:48:45.576Z"
   },
   {
    "duration": 6,
    "start_time": "2022-01-26T06:48:47.059Z"
   },
   {
    "duration": 12,
    "start_time": "2022-01-26T06:48:49.405Z"
   },
   {
    "duration": 31,
    "start_time": "2022-01-26T06:48:52.210Z"
   },
   {
    "duration": 15,
    "start_time": "2022-01-26T06:48:56.376Z"
   },
   {
    "duration": 11,
    "start_time": "2022-01-26T06:48:57.529Z"
   },
   {
    "duration": 34,
    "start_time": "2022-01-26T06:49:01.116Z"
   },
   {
    "duration": 36,
    "start_time": "2022-01-26T06:49:03.189Z"
   },
   {
    "duration": 1606,
    "start_time": "2022-01-26T06:49:35.343Z"
   },
   {
    "duration": 81,
    "start_time": "2022-01-26T06:49:36.952Z"
   },
   {
    "duration": 39,
    "start_time": "2022-01-26T06:49:37.037Z"
   },
   {
    "duration": 16,
    "start_time": "2022-01-26T06:49:37.079Z"
   },
   {
    "duration": 17,
    "start_time": "2022-01-26T06:49:37.098Z"
   },
   {
    "duration": 28,
    "start_time": "2022-01-26T06:49:37.117Z"
   },
   {
    "duration": 36,
    "start_time": "2022-01-26T06:49:37.148Z"
   },
   {
    "duration": 12,
    "start_time": "2022-01-26T06:49:37.189Z"
   },
   {
    "duration": 68,
    "start_time": "2022-01-26T06:49:37.204Z"
   },
   {
    "duration": 608,
    "start_time": "2022-01-26T06:49:43.167Z"
   },
   {
    "duration": 415,
    "start_time": "2022-01-26T06:50:14.319Z"
   },
   {
    "duration": 4,
    "start_time": "2022-01-26T06:52:26.834Z"
   },
   {
    "duration": 74,
    "start_time": "2022-01-26T06:52:26.840Z"
   },
   {
    "duration": 18,
    "start_time": "2022-01-26T06:52:26.917Z"
   },
   {
    "duration": 31,
    "start_time": "2022-01-26T06:52:26.938Z"
   },
   {
    "duration": 13,
    "start_time": "2022-01-26T06:52:26.972Z"
   },
   {
    "duration": 26,
    "start_time": "2022-01-26T06:52:26.988Z"
   },
   {
    "duration": 13,
    "start_time": "2022-01-26T06:52:27.017Z"
   },
   {
    "duration": 45,
    "start_time": "2022-01-26T06:52:27.034Z"
   },
   {
    "duration": 42,
    "start_time": "2022-01-26T06:52:27.081Z"
   },
   {
    "duration": 1434,
    "start_time": "2022-01-26T06:53:24.013Z"
   },
   {
    "duration": 85,
    "start_time": "2022-01-26T06:53:27.843Z"
   },
   {
    "duration": 20,
    "start_time": "2022-01-26T06:53:30.099Z"
   },
   {
    "duration": 9,
    "start_time": "2022-01-26T06:53:31.589Z"
   },
   {
    "duration": 11,
    "start_time": "2022-01-26T06:53:33.305Z"
   },
   {
    "duration": 28,
    "start_time": "2022-01-26T06:53:36.811Z"
   },
   {
    "duration": 11,
    "start_time": "2022-01-26T06:53:39.885Z"
   },
   {
    "duration": 10,
    "start_time": "2022-01-26T06:53:41.103Z"
   },
   {
    "duration": 34,
    "start_time": "2022-01-26T06:53:43.003Z"
   },
   {
    "duration": 35,
    "start_time": "2022-01-26T06:53:44.879Z"
   },
   {
    "duration": 1512,
    "start_time": "2022-01-26T06:54:03.936Z"
   },
   {
    "duration": 107,
    "start_time": "2022-01-26T06:54:05.469Z"
   },
   {
    "duration": 28,
    "start_time": "2022-01-26T06:54:09.985Z"
   },
   {
    "duration": 6,
    "start_time": "2022-01-26T06:54:11.506Z"
   },
   {
    "duration": 14,
    "start_time": "2022-01-26T06:54:13.154Z"
   },
   {
    "duration": 30,
    "start_time": "2022-01-26T06:54:16.639Z"
   },
   {
    "duration": 12,
    "start_time": "2022-01-26T06:54:19.526Z"
   },
   {
    "duration": 10,
    "start_time": "2022-01-26T06:54:20.905Z"
   },
   {
    "duration": 35,
    "start_time": "2022-01-26T06:54:23.086Z"
   },
   {
    "duration": 53583,
    "start_time": "2022-01-26T06:54:25.695Z"
   },
   {
    "duration": 34,
    "start_time": "2022-01-26T06:55:59.789Z"
   },
   {
    "duration": 49,
    "start_time": "2022-01-26T06:56:26.109Z"
   },
   {
    "duration": 1542,
    "start_time": "2022-01-26T06:56:59.396Z"
   },
   {
    "duration": 91,
    "start_time": "2022-01-26T06:57:00.941Z"
   },
   {
    "duration": 36,
    "start_time": "2022-01-26T06:57:01.035Z"
   },
   {
    "duration": 23,
    "start_time": "2022-01-26T06:57:01.074Z"
   },
   {
    "duration": 17,
    "start_time": "2022-01-26T06:57:01.100Z"
   },
   {
    "duration": 37,
    "start_time": "2022-01-26T06:57:01.121Z"
   },
   {
    "duration": 28,
    "start_time": "2022-01-26T06:57:01.160Z"
   },
   {
    "duration": 14,
    "start_time": "2022-01-26T06:57:01.190Z"
   },
   {
    "duration": 53,
    "start_time": "2022-01-26T06:57:01.208Z"
   },
   {
    "duration": 41,
    "start_time": "2022-01-26T06:57:01.264Z"
   },
   {
    "duration": 32,
    "start_time": "2022-01-26T06:57:01.307Z"
   },
   {
    "duration": 45,
    "start_time": "2022-01-26T06:57:01.341Z"
   },
   {
    "duration": 35,
    "start_time": "2022-01-26T06:57:01.389Z"
   },
   {
    "duration": 50,
    "start_time": "2022-01-26T06:57:01.427Z"
   },
   {
    "duration": 37,
    "start_time": "2022-01-26T06:57:01.479Z"
   },
   {
    "duration": 8,
    "start_time": "2022-01-26T06:57:01.519Z"
   },
   {
    "duration": 49,
    "start_time": "2022-01-26T06:57:01.529Z"
   },
   {
    "duration": 24,
    "start_time": "2022-01-26T06:57:01.581Z"
   },
   {
    "duration": 523,
    "start_time": "2022-01-26T06:57:01.607Z"
   },
   {
    "duration": 71,
    "start_time": "2022-01-26T06:57:02.133Z"
   },
   {
    "duration": 15,
    "start_time": "2022-01-26T06:57:02.207Z"
   },
   {
    "duration": 6,
    "start_time": "2022-01-26T06:57:02.224Z"
   },
   {
    "duration": 4181,
    "start_time": "2022-01-26T06:57:02.233Z"
   },
   {
    "duration": 5,
    "start_time": "2022-01-26T06:57:06.417Z"
   },
   {
    "duration": 19,
    "start_time": "2022-01-26T06:57:06.425Z"
   },
   {
    "duration": 8,
    "start_time": "2022-01-26T06:57:06.470Z"
   },
   {
    "duration": 2254,
    "start_time": "2022-01-26T06:57:06.488Z"
   },
   {
    "duration": 3084,
    "start_time": "2022-01-26T06:57:08.745Z"
   },
   {
    "duration": 11,
    "start_time": "2022-01-26T06:57:11.832Z"
   },
   {
    "duration": 475,
    "start_time": "2022-01-26T06:57:11.845Z"
   },
   {
    "duration": 7,
    "start_time": "2022-01-26T06:57:12.322Z"
   },
   {
    "duration": 479,
    "start_time": "2022-01-26T06:57:12.331Z"
   },
   {
    "duration": 7,
    "start_time": "2022-01-26T06:57:12.812Z"
   },
   {
    "duration": 14,
    "start_time": "2022-01-26T06:57:12.821Z"
   },
   {
    "duration": 511,
    "start_time": "2022-01-26T06:57:12.837Z"
   },
   {
    "duration": 19,
    "start_time": "2022-01-26T06:57:13.351Z"
   },
   {
    "duration": 465,
    "start_time": "2022-01-26T06:57:13.373Z"
   },
   {
    "duration": 31,
    "start_time": "2022-01-26T06:57:13.842Z"
   },
   {
    "duration": 30,
    "start_time": "2022-01-26T06:57:13.876Z"
   },
   {
    "duration": 16,
    "start_time": "2022-01-26T06:57:13.909Z"
   },
   {
    "duration": 16,
    "start_time": "2022-01-26T06:57:13.927Z"
   },
   {
    "duration": 47,
    "start_time": "2022-01-26T06:57:13.945Z"
   },
   {
    "duration": 15,
    "start_time": "2022-01-26T06:57:13.994Z"
   },
   {
    "duration": 16,
    "start_time": "2022-01-26T06:57:14.011Z"
   },
   {
    "duration": 58,
    "start_time": "2022-01-26T06:57:14.030Z"
   },
   {
    "duration": 15,
    "start_time": "2022-01-26T06:57:14.091Z"
   },
   {
    "duration": 15,
    "start_time": "2022-01-26T06:57:14.109Z"
   },
   {
    "duration": 59,
    "start_time": "2022-01-26T06:57:14.126Z"
   },
   {
    "duration": 108,
    "start_time": "2022-01-26T07:00:47.892Z"
   },
   {
    "duration": 106,
    "start_time": "2022-01-26T07:01:10.757Z"
   },
   {
    "duration": 42,
    "start_time": "2022-01-26T07:01:29.139Z"
   },
   {
    "duration": 63,
    "start_time": "2022-01-26T07:01:49.984Z"
   },
   {
    "duration": 1594,
    "start_time": "2022-01-26T07:09:35.963Z"
   },
   {
    "duration": 80,
    "start_time": "2022-01-26T07:09:37.560Z"
   },
   {
    "duration": 39,
    "start_time": "2022-01-26T07:09:37.643Z"
   },
   {
    "duration": 12,
    "start_time": "2022-01-26T07:09:37.687Z"
   },
   {
    "duration": 16,
    "start_time": "2022-01-26T07:09:37.702Z"
   },
   {
    "duration": 55,
    "start_time": "2022-01-26T07:09:37.721Z"
   },
   {
    "duration": 13,
    "start_time": "2022-01-26T07:09:37.779Z"
   },
   {
    "duration": 10,
    "start_time": "2022-01-26T07:09:37.796Z"
   },
   {
    "duration": 38,
    "start_time": "2022-01-26T07:09:37.809Z"
   },
   {
    "duration": 8,
    "start_time": "2022-01-26T07:09:37.869Z"
   },
   {
    "duration": 43,
    "start_time": "2022-01-26T07:09:37.880Z"
   },
   {
    "duration": 12,
    "start_time": "2022-01-26T07:09:37.925Z"
   },
   {
    "duration": 61,
    "start_time": "2022-01-26T07:09:37.939Z"
   },
   {
    "duration": 31,
    "start_time": "2022-01-26T07:09:38.003Z"
   },
   {
    "duration": 56,
    "start_time": "2022-01-26T07:09:38.037Z"
   },
   {
    "duration": 8,
    "start_time": "2022-01-26T07:09:38.095Z"
   },
   {
    "duration": 19,
    "start_time": "2022-01-26T07:09:38.105Z"
   },
   {
    "duration": 58,
    "start_time": "2022-01-26T07:09:38.126Z"
   },
   {
    "duration": 533,
    "start_time": "2022-01-26T07:09:38.187Z"
   },
   {
    "duration": 82,
    "start_time": "2022-01-26T07:09:38.723Z"
   },
   {
    "duration": 16,
    "start_time": "2022-01-26T07:09:38.809Z"
   },
   {
    "duration": 7,
    "start_time": "2022-01-26T07:09:38.827Z"
   },
   {
    "duration": 4334,
    "start_time": "2022-01-26T07:09:38.873Z"
   },
   {
    "duration": 4,
    "start_time": "2022-01-26T07:09:43.210Z"
   },
   {
    "duration": 19,
    "start_time": "2022-01-26T07:09:43.217Z"
   },
   {
    "duration": 5,
    "start_time": "2022-01-26T07:09:43.238Z"
   },
   {
    "duration": 2339,
    "start_time": "2022-01-26T07:09:43.269Z"
   },
   {
    "duration": 3650,
    "start_time": "2022-01-26T07:09:45.611Z"
   },
   {
    "duration": 13,
    "start_time": "2022-01-26T07:09:49.264Z"
   },
   {
    "duration": 434,
    "start_time": "2022-01-26T07:09:49.280Z"
   },
   {
    "duration": 7,
    "start_time": "2022-01-26T07:09:49.716Z"
   },
   {
    "duration": 462,
    "start_time": "2022-01-26T07:09:49.725Z"
   },
   {
    "duration": 7,
    "start_time": "2022-01-26T07:09:50.190Z"
   },
   {
    "duration": 11,
    "start_time": "2022-01-26T07:09:50.199Z"
   },
   {
    "duration": 546,
    "start_time": "2022-01-26T07:09:50.213Z"
   },
   {
    "duration": 11,
    "start_time": "2022-01-26T07:09:50.761Z"
   },
   {
    "duration": 481,
    "start_time": "2022-01-26T07:09:50.775Z"
   },
   {
    "duration": 15,
    "start_time": "2022-01-26T07:09:51.259Z"
   },
   {
    "duration": 26,
    "start_time": "2022-01-26T07:09:51.278Z"
   },
   {
    "duration": 15,
    "start_time": "2022-01-26T07:09:51.306Z"
   },
   {
    "duration": 53,
    "start_time": "2022-01-26T07:09:51.324Z"
   },
   {
    "duration": 27,
    "start_time": "2022-01-26T07:09:51.380Z"
   },
   {
    "duration": 18,
    "start_time": "2022-01-26T07:09:51.410Z"
   },
   {
    "duration": 18,
    "start_time": "2022-01-26T07:09:51.474Z"
   },
   {
    "duration": 24,
    "start_time": "2022-01-26T07:09:51.495Z"
   },
   {
    "duration": 52,
    "start_time": "2022-01-26T07:09:51.522Z"
   },
   {
    "duration": 17,
    "start_time": "2022-01-26T07:09:51.577Z"
   },
   {
    "duration": 19,
    "start_time": "2022-01-26T07:09:51.597Z"
   },
   {
    "duration": 18,
    "start_time": "2022-01-26T07:16:15.386Z"
   },
   {
    "duration": 22,
    "start_time": "2022-01-26T07:16:36.096Z"
   },
   {
    "duration": 367,
    "start_time": "2022-01-26T07:26:27.257Z"
   },
   {
    "duration": 388,
    "start_time": "2022-01-26T07:27:48.910Z"
   },
   {
    "duration": 424,
    "start_time": "2022-01-26T07:28:05.545Z"
   },
   {
    "duration": 25,
    "start_time": "2022-01-26T07:28:33.176Z"
   },
   {
    "duration": 22,
    "start_time": "2022-01-26T07:28:42.322Z"
   },
   {
    "duration": 19,
    "start_time": "2022-01-26T07:31:58.635Z"
   },
   {
    "duration": 19,
    "start_time": "2022-01-26T07:32:07.682Z"
   },
   {
    "duration": 2528,
    "start_time": "2022-01-26T08:05:13.594Z"
   },
   {
    "duration": 420,
    "start_time": "2022-01-26T09:24:49.554Z"
   },
   {
    "duration": 1431,
    "start_time": "2022-01-26T09:25:09.316Z"
   },
   {
    "duration": 86,
    "start_time": "2022-01-26T09:25:10.750Z"
   },
   {
    "duration": 32,
    "start_time": "2022-01-26T09:25:10.839Z"
   },
   {
    "duration": 12,
    "start_time": "2022-01-26T09:25:10.874Z"
   },
   {
    "duration": 11,
    "start_time": "2022-01-26T09:25:10.889Z"
   },
   {
    "duration": 25,
    "start_time": "2022-01-26T09:25:10.902Z"
   },
   {
    "duration": 40,
    "start_time": "2022-01-26T09:25:10.929Z"
   },
   {
    "duration": 10,
    "start_time": "2022-01-26T09:25:10.974Z"
   },
   {
    "duration": 40,
    "start_time": "2022-01-26T09:25:10.987Z"
   },
   {
    "duration": 68,
    "start_time": "2022-01-26T09:25:11.030Z"
   },
   {
    "duration": 14,
    "start_time": "2022-01-26T09:25:11.100Z"
   },
   {
    "duration": 55,
    "start_time": "2022-01-26T09:25:11.116Z"
   },
   {
    "duration": 34,
    "start_time": "2022-01-26T09:25:11.174Z"
   },
   {
    "duration": 67,
    "start_time": "2022-01-26T09:25:11.211Z"
   },
   {
    "duration": 8,
    "start_time": "2022-01-26T09:25:11.281Z"
   },
   {
    "duration": 29,
    "start_time": "2022-01-26T09:25:11.292Z"
   },
   {
    "duration": 23,
    "start_time": "2022-01-26T09:25:11.323Z"
   },
   {
    "duration": 523,
    "start_time": "2022-01-26T09:25:11.349Z"
   },
   {
    "duration": 69,
    "start_time": "2022-01-26T09:25:11.874Z"
   },
   {
    "duration": 37,
    "start_time": "2022-01-26T09:25:11.946Z"
   },
   {
    "duration": 6,
    "start_time": "2022-01-26T09:25:11.986Z"
   },
   {
    "duration": 4537,
    "start_time": "2022-01-26T09:25:11.994Z"
   },
   {
    "duration": 6,
    "start_time": "2022-01-26T09:25:16.539Z"
   },
   {
    "duration": 42,
    "start_time": "2022-01-26T09:25:16.549Z"
   },
   {
    "duration": 5,
    "start_time": "2022-01-26T09:25:16.594Z"
   },
   {
    "duration": 2506,
    "start_time": "2022-01-26T09:25:16.601Z"
   },
   {
    "duration": 4144,
    "start_time": "2022-01-26T09:25:19.110Z"
   },
   {
    "duration": 20,
    "start_time": "2022-01-26T09:25:23.257Z"
   },
   {
    "duration": 430,
    "start_time": "2022-01-26T09:25:23.280Z"
   },
   {
    "duration": 6,
    "start_time": "2022-01-26T09:25:23.713Z"
   },
   {
    "duration": 498,
    "start_time": "2022-01-26T09:25:23.722Z"
   },
   {
    "duration": 7,
    "start_time": "2022-01-26T09:25:24.223Z"
   },
   {
    "duration": 16,
    "start_time": "2022-01-26T09:25:24.232Z"
   },
   {
    "duration": 514,
    "start_time": "2022-01-26T09:25:24.250Z"
   },
   {
    "duration": 8,
    "start_time": "2022-01-26T09:25:24.770Z"
   },
   {
    "duration": 545,
    "start_time": "2022-01-26T09:25:24.780Z"
   },
   {
    "duration": 6,
    "start_time": "2022-01-26T09:25:25.327Z"
   },
   {
    "duration": 49,
    "start_time": "2022-01-26T09:25:25.336Z"
   },
   {
    "duration": 16,
    "start_time": "2022-01-26T09:25:25.388Z"
   },
   {
    "duration": 16,
    "start_time": "2022-01-26T09:25:25.406Z"
   },
   {
    "duration": 52,
    "start_time": "2022-01-26T09:25:25.425Z"
   },
   {
    "duration": 18,
    "start_time": "2022-01-26T09:25:25.480Z"
   },
   {
    "duration": 16,
    "start_time": "2022-01-26T09:25:25.500Z"
   },
   {
    "duration": 61,
    "start_time": "2022-01-26T09:25:25.518Z"
   },
   {
    "duration": 16,
    "start_time": "2022-01-26T09:25:25.582Z"
   },
   {
    "duration": 21,
    "start_time": "2022-01-26T09:25:25.601Z"
   },
   {
    "duration": 56,
    "start_time": "2022-01-26T09:25:25.625Z"
   },
   {
    "duration": 19,
    "start_time": "2022-01-26T09:25:25.683Z"
   },
   {
    "duration": 25,
    "start_time": "2022-01-26T09:25:25.705Z"
   },
   {
    "duration": 2214,
    "start_time": "2022-01-26T09:28:00.989Z"
   },
   {
    "duration": 2386,
    "start_time": "2022-01-26T09:28:21.322Z"
   },
   {
    "duration": 2117,
    "start_time": "2022-01-26T09:28:36.078Z"
   },
   {
    "duration": 2080,
    "start_time": "2022-01-26T09:28:50.663Z"
   },
   {
    "duration": 2295,
    "start_time": "2022-01-26T09:29:01.806Z"
   },
   {
    "duration": 2409,
    "start_time": "2022-01-26T09:29:11.239Z"
   },
   {
    "duration": 1583,
    "start_time": "2022-01-26T09:30:18.763Z"
   },
   {
    "duration": 77,
    "start_time": "2022-01-26T09:30:20.349Z"
   },
   {
    "duration": 18,
    "start_time": "2022-01-26T09:30:20.428Z"
   },
   {
    "duration": 24,
    "start_time": "2022-01-26T09:30:20.449Z"
   },
   {
    "duration": 11,
    "start_time": "2022-01-26T09:30:20.475Z"
   },
   {
    "duration": 23,
    "start_time": "2022-01-26T09:30:20.489Z"
   },
   {
    "duration": 11,
    "start_time": "2022-01-26T09:30:20.514Z"
   },
   {
    "duration": 49,
    "start_time": "2022-01-26T09:30:20.528Z"
   },
   {
    "duration": 37,
    "start_time": "2022-01-26T09:30:20.580Z"
   },
   {
    "duration": 53,
    "start_time": "2022-01-26T09:30:20.619Z"
   },
   {
    "duration": 13,
    "start_time": "2022-01-26T09:30:20.674Z"
   },
   {
    "duration": 47,
    "start_time": "2022-01-26T09:30:20.690Z"
   },
   {
    "duration": 35,
    "start_time": "2022-01-26T09:30:20.768Z"
   },
   {
    "duration": 35,
    "start_time": "2022-01-26T09:30:20.806Z"
   },
   {
    "duration": 9,
    "start_time": "2022-01-26T09:30:20.870Z"
   },
   {
    "duration": 18,
    "start_time": "2022-01-26T09:30:20.881Z"
   },
   {
    "duration": 24,
    "start_time": "2022-01-26T09:30:20.902Z"
   },
   {
    "duration": 541,
    "start_time": "2022-01-26T09:30:20.928Z"
   },
   {
    "duration": 66,
    "start_time": "2022-01-26T09:30:21.472Z"
   },
   {
    "duration": 41,
    "start_time": "2022-01-26T09:30:21.541Z"
   },
   {
    "duration": 11,
    "start_time": "2022-01-26T09:30:21.585Z"
   },
   {
    "duration": 4321,
    "start_time": "2022-01-26T09:30:21.598Z"
   },
   {
    "duration": 5,
    "start_time": "2022-01-26T09:30:25.924Z"
   },
   {
    "duration": 41,
    "start_time": "2022-01-26T09:30:25.932Z"
   },
   {
    "duration": 5,
    "start_time": "2022-01-26T09:30:25.975Z"
   },
   {
    "duration": 2945,
    "start_time": "2022-01-26T09:30:25.982Z"
   },
   {
    "duration": 3322,
    "start_time": "2022-01-26T09:30:28.929Z"
   },
   {
    "duration": 22,
    "start_time": "2022-01-26T09:30:32.253Z"
   },
   {
    "duration": 421,
    "start_time": "2022-01-26T09:30:32.278Z"
   },
   {
    "duration": 7,
    "start_time": "2022-01-26T09:30:32.702Z"
   },
   {
    "duration": 478,
    "start_time": "2022-01-26T09:30:32.711Z"
   },
   {
    "duration": 6,
    "start_time": "2022-01-26T09:30:33.192Z"
   },
   {
    "duration": 15,
    "start_time": "2022-01-26T09:30:33.201Z"
   },
   {
    "duration": 514,
    "start_time": "2022-01-26T09:30:33.218Z"
   },
   {
    "duration": 8,
    "start_time": "2022-01-26T09:30:33.735Z"
   },
   {
    "duration": 488,
    "start_time": "2022-01-26T09:30:33.746Z"
   },
   {
    "duration": 8,
    "start_time": "2022-01-26T09:30:34.237Z"
   },
   {
    "duration": 20,
    "start_time": "2022-01-26T09:30:34.270Z"
   },
   {
    "duration": 15,
    "start_time": "2022-01-26T09:30:34.293Z"
   },
   {
    "duration": 15,
    "start_time": "2022-01-26T09:30:34.311Z"
   },
   {
    "duration": 57,
    "start_time": "2022-01-26T09:30:34.328Z"
   },
   {
    "duration": 16,
    "start_time": "2022-01-26T09:30:34.387Z"
   },
   {
    "duration": 15,
    "start_time": "2022-01-26T09:30:34.405Z"
   },
   {
    "duration": 59,
    "start_time": "2022-01-26T09:30:34.422Z"
   },
   {
    "duration": 14,
    "start_time": "2022-01-26T09:30:34.484Z"
   },
   {
    "duration": 14,
    "start_time": "2022-01-26T09:30:34.500Z"
   },
   {
    "duration": 55,
    "start_time": "2022-01-26T09:30:34.516Z"
   },
   {
    "duration": 19,
    "start_time": "2022-01-26T09:30:34.573Z"
   },
   {
    "duration": 18,
    "start_time": "2022-01-26T09:30:34.594Z"
   },
   {
    "duration": 37,
    "start_time": "2022-01-26T09:34:10.585Z"
   },
   {
    "duration": 33,
    "start_time": "2022-01-26T09:34:28.404Z"
   },
   {
    "duration": 22,
    "start_time": "2022-01-26T09:35:32.354Z"
   },
   {
    "duration": 10,
    "start_time": "2022-01-26T09:38:34.614Z"
   },
   {
    "duration": 18,
    "start_time": "2022-01-26T09:38:44.038Z"
   },
   {
    "duration": 1610,
    "start_time": "2022-01-26T09:42:21.335Z"
   },
   {
    "duration": 77,
    "start_time": "2022-01-26T09:42:22.948Z"
   },
   {
    "duration": 19,
    "start_time": "2022-01-26T09:42:23.028Z"
   },
   {
    "duration": 6,
    "start_time": "2022-01-26T09:42:23.070Z"
   },
   {
    "duration": 15,
    "start_time": "2022-01-26T09:42:23.078Z"
   },
   {
    "duration": 28,
    "start_time": "2022-01-26T09:42:23.096Z"
   },
   {
    "duration": 12,
    "start_time": "2022-01-26T09:42:23.127Z"
   },
   {
    "duration": 41,
    "start_time": "2022-01-26T09:42:23.141Z"
   },
   {
    "duration": 34,
    "start_time": "2022-01-26T09:42:23.188Z"
   },
   {
    "duration": 71,
    "start_time": "2022-01-26T09:42:23.226Z"
   },
   {
    "duration": 14,
    "start_time": "2022-01-26T09:42:23.300Z"
   },
   {
    "duration": 62,
    "start_time": "2022-01-26T09:42:23.317Z"
   },
   {
    "duration": 34,
    "start_time": "2022-01-26T09:42:23.381Z"
   },
   {
    "duration": 57,
    "start_time": "2022-01-26T09:42:23.417Z"
   },
   {
    "duration": 7,
    "start_time": "2022-01-26T09:42:23.477Z"
   },
   {
    "duration": 18,
    "start_time": "2022-01-26T09:42:23.487Z"
   },
   {
    "duration": 24,
    "start_time": "2022-01-26T09:42:23.508Z"
   },
   {
    "duration": 530,
    "start_time": "2022-01-26T09:42:23.534Z"
   },
   {
    "duration": 65,
    "start_time": "2022-01-26T09:42:24.069Z"
   },
   {
    "duration": 35,
    "start_time": "2022-01-26T09:42:24.136Z"
   },
   {
    "duration": 6,
    "start_time": "2022-01-26T09:42:24.173Z"
   },
   {
    "duration": 5044,
    "start_time": "2022-01-26T09:42:24.182Z"
   },
   {
    "duration": 5,
    "start_time": "2022-01-26T09:42:29.229Z"
   },
   {
    "duration": 8,
    "start_time": "2022-01-26T09:42:29.237Z"
   },
   {
    "duration": 37,
    "start_time": "2022-01-26T09:42:29.247Z"
   },
   {
    "duration": 12,
    "start_time": "2022-01-26T09:42:29.286Z"
   },
   {
    "duration": 2583,
    "start_time": "2022-01-26T09:42:29.304Z"
   },
   {
    "duration": 3330,
    "start_time": "2022-01-26T09:42:31.890Z"
   },
   {
    "duration": 11,
    "start_time": "2022-01-26T09:42:35.223Z"
   },
   {
    "duration": 469,
    "start_time": "2022-01-26T09:42:35.237Z"
   },
   {
    "duration": 6,
    "start_time": "2022-01-26T09:42:35.708Z"
   },
   {
    "duration": 570,
    "start_time": "2022-01-26T09:42:35.717Z"
   },
   {
    "duration": 7,
    "start_time": "2022-01-26T09:42:36.289Z"
   },
   {
    "duration": 18,
    "start_time": "2022-01-26T09:42:36.299Z"
   },
   {
    "duration": 441,
    "start_time": "2022-01-26T09:42:36.319Z"
   },
   {
    "duration": 9,
    "start_time": "2022-01-26T09:42:36.763Z"
   },
   {
    "duration": 415,
    "start_time": "2022-01-26T09:42:36.775Z"
   },
   {
    "duration": 7,
    "start_time": "2022-01-26T09:42:37.192Z"
   },
   {
    "duration": 25,
    "start_time": "2022-01-26T09:42:37.202Z"
   },
   {
    "duration": 45,
    "start_time": "2022-01-26T09:42:37.229Z"
   },
   {
    "duration": 20,
    "start_time": "2022-01-26T09:42:37.277Z"
   },
   {
    "duration": 18,
    "start_time": "2022-01-26T09:42:37.300Z"
   },
   {
    "duration": 21,
    "start_time": "2022-01-26T09:42:37.321Z"
   },
   {
    "duration": 18,
    "start_time": "2022-01-26T09:42:37.371Z"
   },
   {
    "duration": 24,
    "start_time": "2022-01-26T09:42:37.391Z"
   },
   {
    "duration": 15,
    "start_time": "2022-01-26T09:42:37.417Z"
   },
   {
    "duration": 46,
    "start_time": "2022-01-26T09:42:37.434Z"
   },
   {
    "duration": 19,
    "start_time": "2022-01-26T09:42:37.483Z"
   },
   {
    "duration": 19,
    "start_time": "2022-01-26T09:42:37.504Z"
   },
   {
    "duration": 53,
    "start_time": "2022-01-26T09:42:37.525Z"
   },
   {
    "duration": 1644,
    "start_time": "2022-01-26T10:08:55.018Z"
   },
   {
    "duration": 80,
    "start_time": "2022-01-26T10:08:56.665Z"
   },
   {
    "duration": 32,
    "start_time": "2022-01-26T10:08:56.748Z"
   },
   {
    "duration": 10,
    "start_time": "2022-01-26T10:08:56.782Z"
   },
   {
    "duration": 14,
    "start_time": "2022-01-26T10:08:56.794Z"
   },
   {
    "duration": 25,
    "start_time": "2022-01-26T10:08:56.810Z"
   },
   {
    "duration": 13,
    "start_time": "2022-01-26T10:08:56.871Z"
   },
   {
    "duration": 14,
    "start_time": "2022-01-26T10:08:56.886Z"
   },
   {
    "duration": 35,
    "start_time": "2022-01-26T10:08:56.904Z"
   },
   {
    "duration": 33,
    "start_time": "2022-01-26T10:08:56.970Z"
   },
   {
    "duration": 12,
    "start_time": "2022-01-26T10:08:57.005Z"
   },
   {
    "duration": 62,
    "start_time": "2022-01-26T10:08:57.020Z"
   },
   {
    "duration": 33,
    "start_time": "2022-01-26T10:08:57.085Z"
   },
   {
    "duration": 64,
    "start_time": "2022-01-26T10:08:57.120Z"
   },
   {
    "duration": 9,
    "start_time": "2022-01-26T10:08:57.186Z"
   },
   {
    "duration": 18,
    "start_time": "2022-01-26T10:08:57.198Z"
   },
   {
    "duration": 53,
    "start_time": "2022-01-26T10:08:57.218Z"
   },
   {
    "duration": 535,
    "start_time": "2022-01-26T10:08:57.274Z"
   },
   {
    "duration": 84,
    "start_time": "2022-01-26T10:08:57.812Z"
   },
   {
    "duration": 17,
    "start_time": "2022-01-26T10:08:57.898Z"
   },
   {
    "duration": 6,
    "start_time": "2022-01-26T10:08:57.917Z"
   },
   {
    "duration": 5800,
    "start_time": "2022-01-26T10:08:57.925Z"
   },
   {
    "duration": 5,
    "start_time": "2022-01-26T10:09:03.727Z"
   },
   {
    "duration": 9,
    "start_time": "2022-01-26T10:09:03.734Z"
   },
   {
    "duration": 39,
    "start_time": "2022-01-26T10:09:03.745Z"
   },
   {
    "duration": 5,
    "start_time": "2022-01-26T10:09:03.787Z"
   },
   {
    "duration": 2310,
    "start_time": "2022-01-26T10:09:03.797Z"
   },
   {
    "duration": 2962,
    "start_time": "2022-01-26T10:09:06.110Z"
   },
   {
    "duration": 11,
    "start_time": "2022-01-26T10:09:09.075Z"
   },
   {
    "duration": 435,
    "start_time": "2022-01-26T10:09:09.089Z"
   },
   {
    "duration": 7,
    "start_time": "2022-01-26T10:09:09.526Z"
   },
   {
    "duration": 481,
    "start_time": "2022-01-26T10:09:09.535Z"
   },
   {
    "duration": 6,
    "start_time": "2022-01-26T10:09:10.018Z"
   },
   {
    "duration": 12,
    "start_time": "2022-01-26T10:09:10.026Z"
   },
   {
    "duration": 544,
    "start_time": "2022-01-26T10:09:10.040Z"
   },
   {
    "duration": 6,
    "start_time": "2022-01-26T10:09:10.586Z"
   },
   {
    "duration": 416,
    "start_time": "2022-01-26T10:09:10.594Z"
   },
   {
    "duration": 7,
    "start_time": "2022-01-26T10:09:11.012Z"
   },
   {
    "duration": 24,
    "start_time": "2022-01-26T10:09:11.022Z"
   },
   {
    "duration": 21,
    "start_time": "2022-01-26T10:09:11.070Z"
   },
   {
    "duration": 17,
    "start_time": "2022-01-26T10:09:11.093Z"
   },
   {
    "duration": 20,
    "start_time": "2022-01-26T10:09:11.113Z"
   },
   {
    "duration": 49,
    "start_time": "2022-01-26T10:09:11.136Z"
   },
   {
    "duration": 18,
    "start_time": "2022-01-26T10:09:11.188Z"
   },
   {
    "duration": 21,
    "start_time": "2022-01-26T10:09:11.208Z"
   },
   {
    "duration": 19,
    "start_time": "2022-01-26T10:09:11.268Z"
   },
   {
    "duration": 16,
    "start_time": "2022-01-26T10:09:11.290Z"
   },
   {
    "duration": 61,
    "start_time": "2022-01-26T10:09:11.310Z"
   },
   {
    "duration": 22,
    "start_time": "2022-01-26T10:09:11.374Z"
   },
   {
    "duration": 20,
    "start_time": "2022-01-26T10:09:11.399Z"
   },
   {
    "duration": 1104,
    "start_time": "2022-02-03T15:39:52.693Z"
   },
   {
    "duration": 55,
    "start_time": "2022-02-03T15:39:53.798Z"
   },
   {
    "duration": 10,
    "start_time": "2022-02-03T15:39:53.854Z"
   },
   {
    "duration": 19,
    "start_time": "2022-02-03T15:39:53.866Z"
   },
   {
    "duration": 8,
    "start_time": "2022-02-03T15:39:53.887Z"
   },
   {
    "duration": 35,
    "start_time": "2022-02-03T15:39:53.896Z"
   },
   {
    "duration": 7,
    "start_time": "2022-02-03T15:39:53.933Z"
   },
   {
    "duration": 15,
    "start_time": "2022-02-03T15:39:53.942Z"
   },
   {
    "duration": 19,
    "start_time": "2022-02-03T15:39:53.959Z"
   },
   {
    "duration": 21,
    "start_time": "2022-02-03T15:39:53.980Z"
   },
   {
    "duration": 7,
    "start_time": "2022-02-03T15:39:54.002Z"
   },
   {
    "duration": 28,
    "start_time": "2022-02-03T15:39:54.011Z"
   },
   {
    "duration": 17,
    "start_time": "2022-02-03T15:39:54.041Z"
   },
   {
    "duration": 25,
    "start_time": "2022-02-03T15:39:54.059Z"
   },
   {
    "duration": 5,
    "start_time": "2022-02-03T15:39:54.085Z"
   },
   {
    "duration": 16,
    "start_time": "2022-02-03T15:39:54.091Z"
   },
   {
    "duration": 15,
    "start_time": "2022-02-03T15:39:54.108Z"
   },
   {
    "duration": 272,
    "start_time": "2022-02-03T15:39:54.124Z"
   },
   {
    "duration": 35,
    "start_time": "2022-02-03T15:39:54.398Z"
   },
   {
    "duration": 9,
    "start_time": "2022-02-03T15:39:54.435Z"
   },
   {
    "duration": 6,
    "start_time": "2022-02-03T15:39:54.445Z"
   },
   {
    "duration": 2893,
    "start_time": "2022-02-03T15:39:54.452Z"
   },
   {
    "duration": 3,
    "start_time": "2022-02-03T15:39:57.348Z"
   },
   {
    "duration": 18,
    "start_time": "2022-02-03T15:39:57.353Z"
   },
   {
    "duration": 12,
    "start_time": "2022-02-03T15:39:57.373Z"
   },
   {
    "duration": 11,
    "start_time": "2022-02-03T15:39:57.386Z"
   },
   {
    "duration": 1448,
    "start_time": "2022-02-03T15:39:57.398Z"
   },
   {
    "duration": 1871,
    "start_time": "2022-02-03T15:39:58.847Z"
   },
   {
    "duration": 6,
    "start_time": "2022-02-03T15:40:00.720Z"
   },
   {
    "duration": 336,
    "start_time": "2022-02-03T15:40:00.728Z"
   },
   {
    "duration": 9,
    "start_time": "2022-02-03T15:40:01.066Z"
   },
   {
    "duration": 296,
    "start_time": "2022-02-03T15:40:01.076Z"
   },
   {
    "duration": 4,
    "start_time": "2022-02-03T15:40:01.373Z"
   },
   {
    "duration": 12,
    "start_time": "2022-02-03T15:40:01.379Z"
   },
   {
    "duration": 292,
    "start_time": "2022-02-03T15:40:01.392Z"
   },
   {
    "duration": 4,
    "start_time": "2022-02-03T15:40:01.686Z"
   },
   {
    "duration": 290,
    "start_time": "2022-02-03T15:40:01.692Z"
   },
   {
    "duration": 5,
    "start_time": "2022-02-03T15:40:01.983Z"
   },
   {
    "duration": 22,
    "start_time": "2022-02-03T15:40:01.989Z"
   },
   {
    "duration": 10,
    "start_time": "2022-02-03T15:40:02.013Z"
   },
   {
    "duration": 10,
    "start_time": "2022-02-03T15:40:02.024Z"
   },
   {
    "duration": 37,
    "start_time": "2022-02-03T15:40:02.036Z"
   },
   {
    "duration": 11,
    "start_time": "2022-02-03T15:40:02.075Z"
   },
   {
    "duration": 26,
    "start_time": "2022-02-03T15:40:02.088Z"
   },
   {
    "duration": 16,
    "start_time": "2022-02-03T15:40:02.116Z"
   },
   {
    "duration": 9,
    "start_time": "2022-02-03T15:40:02.134Z"
   },
   {
    "duration": 27,
    "start_time": "2022-02-03T15:40:02.145Z"
   },
   {
    "duration": 12,
    "start_time": "2022-02-03T15:40:02.174Z"
   },
   {
    "duration": 11,
    "start_time": "2022-02-03T15:40:02.187Z"
   },
   {
    "duration": 19,
    "start_time": "2022-02-03T15:40:02.199Z"
   },
   {
    "duration": 10,
    "start_time": "2022-02-03T15:54:07.157Z"
   },
   {
    "duration": 1839,
    "start_time": "2022-02-03T15:57:52.574Z"
   },
   {
    "duration": 1738,
    "start_time": "2022-02-03T15:58:40.527Z"
   },
   {
    "duration": 1811,
    "start_time": "2022-02-03T15:59:02.214Z"
   },
   {
    "duration": 1132,
    "start_time": "2022-07-20T11:58:29.482Z"
   },
   {
    "duration": 126,
    "start_time": "2022-07-20T11:58:30.616Z"
   },
   {
    "duration": 15,
    "start_time": "2022-07-20T11:58:30.744Z"
   },
   {
    "duration": 16,
    "start_time": "2022-07-20T11:58:30.761Z"
   },
   {
    "duration": 17,
    "start_time": "2022-07-20T11:58:30.779Z"
   },
   {
    "duration": 28,
    "start_time": "2022-07-20T11:58:30.798Z"
   },
   {
    "duration": 8,
    "start_time": "2022-07-20T11:58:30.828Z"
   },
   {
    "duration": 20,
    "start_time": "2022-07-20T11:58:30.837Z"
   },
   {
    "duration": 31,
    "start_time": "2022-07-20T11:58:30.858Z"
   },
   {
    "duration": 23,
    "start_time": "2022-07-20T11:58:30.891Z"
   },
   {
    "duration": 15,
    "start_time": "2022-07-20T11:58:30.916Z"
   },
   {
    "duration": 41,
    "start_time": "2022-07-20T11:58:30.933Z"
   },
   {
    "duration": 26,
    "start_time": "2022-07-20T11:58:30.976Z"
   },
   {
    "duration": 25,
    "start_time": "2022-07-20T11:58:31.005Z"
   },
   {
    "duration": 6,
    "start_time": "2022-07-20T11:58:31.031Z"
   },
   {
    "duration": 26,
    "start_time": "2022-07-20T11:58:31.038Z"
   },
   {
    "duration": 16,
    "start_time": "2022-07-20T11:58:31.066Z"
   },
   {
    "duration": 232,
    "start_time": "2022-07-20T11:58:31.083Z"
   },
   {
    "duration": 40,
    "start_time": "2022-07-20T11:58:31.316Z"
   },
   {
    "duration": 11,
    "start_time": "2022-07-20T11:58:31.358Z"
   },
   {
    "duration": 4,
    "start_time": "2022-07-20T11:58:31.370Z"
   },
   {
    "duration": 568,
    "start_time": "2022-07-20T11:58:31.376Z"
   },
   {
    "duration": 4,
    "start_time": "2022-07-20T11:58:31.946Z"
   },
   {
    "duration": 22,
    "start_time": "2022-07-20T11:58:31.951Z"
   },
   {
    "duration": 14,
    "start_time": "2022-07-20T11:58:31.974Z"
   },
   {
    "duration": 5,
    "start_time": "2022-07-20T11:58:31.990Z"
   },
   {
    "duration": 316,
    "start_time": "2022-07-20T11:58:31.997Z"
   },
   {
    "duration": 507,
    "start_time": "2022-07-20T11:58:32.314Z"
   },
   {
    "duration": 7,
    "start_time": "2022-07-20T11:58:32.822Z"
   },
   {
    "duration": 167,
    "start_time": "2022-07-20T11:58:32.830Z"
   },
   {
    "duration": 11,
    "start_time": "2022-07-20T11:58:32.999Z"
   },
   {
    "duration": 242,
    "start_time": "2022-07-20T11:58:33.011Z"
   },
   {
    "duration": 4,
    "start_time": "2022-07-20T11:58:33.255Z"
   },
   {
    "duration": 12,
    "start_time": "2022-07-20T11:58:33.261Z"
   },
   {
    "duration": 135,
    "start_time": "2022-07-20T11:58:33.275Z"
   },
   {
    "duration": 13,
    "start_time": "2022-07-20T11:58:33.411Z"
   },
   {
    "duration": 136,
    "start_time": "2022-07-20T11:58:33.426Z"
   },
   {
    "duration": 5,
    "start_time": "2022-07-20T11:58:33.564Z"
   },
   {
    "duration": 15,
    "start_time": "2022-07-20T11:58:33.571Z"
   },
   {
    "duration": 10,
    "start_time": "2022-07-20T11:58:33.587Z"
   },
   {
    "duration": 12,
    "start_time": "2022-07-20T11:58:33.624Z"
   },
   {
    "duration": 16,
    "start_time": "2022-07-20T11:58:33.637Z"
   },
   {
    "duration": 11,
    "start_time": "2022-07-20T11:58:33.655Z"
   },
   {
    "duration": 27,
    "start_time": "2022-07-20T11:58:33.667Z"
   },
   {
    "duration": 34,
    "start_time": "2022-07-20T11:58:33.697Z"
   },
   {
    "duration": 13,
    "start_time": "2022-07-20T11:58:33.733Z"
   },
   {
    "duration": 17,
    "start_time": "2022-07-20T11:58:33.748Z"
   },
   {
    "duration": 14,
    "start_time": "2022-07-20T11:58:33.766Z"
   },
   {
    "duration": 14,
    "start_time": "2022-07-20T11:58:33.782Z"
   },
   {
    "duration": 14,
    "start_time": "2022-07-20T11:58:33.824Z"
   }
  ],
  "kernelspec": {
   "display_name": "Python 3 (ipykernel)",
   "language": "python",
   "name": "python3"
  },
  "language_info": {
   "codemirror_mode": {
    "name": "ipython",
    "version": 3
   },
   "file_extension": ".py",
   "mimetype": "text/x-python",
   "name": "python",
   "nbconvert_exporter": "python",
   "pygments_lexer": "ipython3",
   "version": "3.9.5"
  },
  "toc": {
   "base_numbering": 1,
   "nav_menu": {
    "height": "143px",
    "width": "226px"
   },
   "number_sections": true,
   "sideBar": true,
   "skip_h1_title": true,
   "title_cell": "Table of Contents",
   "title_sidebar": "Contents",
   "toc_cell": false,
   "toc_position": {},
   "toc_section_display": true,
   "toc_window_display": false
  }
 },
 "nbformat": 4,
 "nbformat_minor": 2
}
