{
 "cells": [
  {
   "cell_type": "markdown",
   "metadata": {},
   "source": [
    "# Восстановление золота из руды"
   ]
  },
  {
   "cell_type": "markdown",
   "metadata": {},
   "source": [
    "Подготовьте прототип модели машинного обучения для «Цифры». Компания разрабатывает решения для эффективной работы промышленных предприятий.\n",
    "\n",
    "Модель должна предсказать коэффициент восстановления золота из золотосодержащей руды. Используйте данные с параметрами добычи и очистки. \n",
    "\n",
    "Модель поможет оптимизировать производство, чтобы не запускать предприятие с убыточными характеристиками.\n",
    "\n",
    "Вам нужно:\n",
    "\n",
    "1. Подготовить данные;\n",
    "2. Провести исследовательский анализ данных;\n",
    "3. Построить и обучить модель.\n",
    "\n",
    "Чтобы выполнить проект, обращайтесь к библиотекам *pandas*, *matplotlib* и *sklearn.* Вам поможет их документация."
   ]
  },
  {
   "cell_type": "markdown",
   "metadata": {
    "toc": true
   },
   "source": [
    "<h1>Содержание<span class=\"tocSkip\"></span></h1>\n",
    "<div class=\"toc\"><ul class=\"toc-item\"><li><span><a href=\"#Подготовка-данных\" data-toc-modified-id=\"Подготовка-данных-1\"><span class=\"toc-item-num\">1&nbsp;&nbsp;</span>Подготовка данных</a></span><ul class=\"toc-item\"><li><span><a href=\"#Импорт-бибилиотек\" data-toc-modified-id=\"Импорт-бибилиотек-1.1\"><span class=\"toc-item-num\">1.1&nbsp;&nbsp;</span>Импорт бибилиотек</a></span></li><li><span><a href=\"#Открытие-файлов-и--их-изучение\" data-toc-modified-id=\"Открытие-файлов-и--их-изучение-1.2\"><span class=\"toc-item-num\">1.2&nbsp;&nbsp;</span>Открытие файлов и  их изучение</a></span><ul class=\"toc-item\"><li><span><a href=\"#Получение-данных\" data-toc-modified-id=\"Получение-данных-1.2.1\"><span class=\"toc-item-num\">1.2.1&nbsp;&nbsp;</span>Получение данных</a></span></li><li><span><a href=\"#Анализ-данных\" data-toc-modified-id=\"Анализ-данных-1.2.2\"><span class=\"toc-item-num\">1.2.2&nbsp;&nbsp;</span>Анализ данных</a></span></li><li><span><a href=\"#Поиск-дубликатов\" data-toc-modified-id=\"Поиск-дубликатов-1.2.3\"><span class=\"toc-item-num\">1.2.3&nbsp;&nbsp;</span>Поиск дубликатов</a></span></li><li><span><a href=\"#Корректировка-типа-данных-столбца-data\" data-toc-modified-id=\"Корректировка-типа-данных-столбца-data-1.2.4\"><span class=\"toc-item-num\">1.2.4&nbsp;&nbsp;</span>Корректировка типа данных столбца data</a></span></li><li><span><a href=\"#Назначим-столбец-data-в-качестве-индексного\" data-toc-modified-id=\"Назначим-столбец-data-в-качестве-индексного-1.2.5\"><span class=\"toc-item-num\">1.2.5&nbsp;&nbsp;</span>Назначим столбец data в качестве индексного</a></span></li></ul></li><li><span><a href=\"#-Комментарий-ревьюера-v1\" data-toc-modified-id=\"-Комментарий-ревьюера-v1-1.3\"><span class=\"toc-item-num\">1.3&nbsp;&nbsp;</span> Комментарий ревьюера v1</a></span></li><li><span><a href=\"#Проверка-рассчета-правильности-значений-эффективности-обогащения\" data-toc-modified-id=\"Проверка-рассчета-правильности-значений-эффективности-обогащения-1.4\"><span class=\"toc-item-num\">1.4&nbsp;&nbsp;</span>Проверка рассчета правильности значений эффективности обогащения</a></span></li><li><span><a href=\"#-Комментарий-ревьюера-v1\" data-toc-modified-id=\"-Комментарий-ревьюера-v1-1.5\"><span class=\"toc-item-num\">1.5&nbsp;&nbsp;</span> Комментарий ревьюера v1</a></span></li><li><span><a href=\"#Анализ-признаков,-недоступных-в-тестовой-выборке.\" data-toc-modified-id=\"Анализ-признаков,-недоступных-в-тестовой-выборке.-1.6\"><span class=\"toc-item-num\">1.6&nbsp;&nbsp;</span>Анализ признаков, недоступных в тестовой выборке.</a></span></li><li><span><a href=\"#Предобработка\" data-toc-modified-id=\"Предобработка-1.7\"><span class=\"toc-item-num\">1.7&nbsp;&nbsp;</span>Предобработка</a></span><ul class=\"toc-item\"><li><span><a href=\"#Анализ-пропусков\" data-toc-modified-id=\"Анализ-пропусков-1.7.1\"><span class=\"toc-item-num\">1.7.1&nbsp;&nbsp;</span>Анализ пропусков</a></span></li><li><span><a href=\"#Предобработка-нецелевых-признаков\" data-toc-modified-id=\"Предобработка-нецелевых-признаков-1.7.2\"><span class=\"toc-item-num\">1.7.2&nbsp;&nbsp;</span>Предобработка нецелевых признаков</a></span></li></ul></li><li><span><a href=\"#-Комментарий-ревьюера-v1\" data-toc-modified-id=\"-Комментарий-ревьюера-v1-1.8\"><span class=\"toc-item-num\">1.8&nbsp;&nbsp;</span> Комментарий ревьюера v1</a></span></li><li><span><a href=\"#-Комментарий-ревьюера-v1\" data-toc-modified-id=\"-Комментарий-ревьюера-v1-1.9\"><span class=\"toc-item-num\">1.9&nbsp;&nbsp;</span> Комментарий ревьюера v1</a></span></li></ul></li><li><span><a href=\"#Анализ-данных\" data-toc-modified-id=\"Анализ-данных-2\"><span class=\"toc-item-num\">2&nbsp;&nbsp;</span>Анализ данных</a></span><ul class=\"toc-item\"><li><span><a href=\"#Изменение-концентрации-металлов-(Au,-Ag,-Pb)-на-различных-этапах-очистки\" data-toc-modified-id=\"Изменение-концентрации-металлов-(Au,-Ag,-Pb)-на-различных-этапах-очистки-2.1\"><span class=\"toc-item-num\">2.1&nbsp;&nbsp;</span>Изменение концентрации металлов (Au, Ag, Pb) на различных этапах очистки</a></span></li><li><span><a href=\"#-Комментарий-ревьюера-v1\" data-toc-modified-id=\"-Комментарий-ревьюера-v1-2.2\"><span class=\"toc-item-num\">2.2&nbsp;&nbsp;</span> Комментарий ревьюера v1</a></span></li><li><span><a href=\"#Сравните-распределения-размеров-гранул-сырья-на-обучающей-и-тестовой-выборках\" data-toc-modified-id=\"Сравните-распределения-размеров-гранул-сырья-на-обучающей-и-тестовой-выборках-2.3\"><span class=\"toc-item-num\">2.3&nbsp;&nbsp;</span>Сравните распределения размеров гранул сырья на обучающей и тестовой выборках</a></span></li><li><span><a href=\"#-Комментарий-ревьюера-v1\" data-toc-modified-id=\"-Комментарий-ревьюера-v1-2.4\"><span class=\"toc-item-num\">2.4&nbsp;&nbsp;</span> Комментарий ревьюера v1</a></span></li><li><span><a href=\"#Исследование-суммарной-концентрации-всех-веществ-на-разных-стадиях:-в-сырье,-в-черновом-и-финальном-концентратах\" data-toc-modified-id=\"Исследование-суммарной-концентрации-всех-веществ-на-разных-стадиях:-в-сырье,-в-черновом-и-финальном-концентратах-2.5\"><span class=\"toc-item-num\">2.5&nbsp;&nbsp;</span>Исследование суммарной концентрации всех веществ на разных стадиях: в сырье, в черновом и финальном концентратах</a></span></li><li><span><a href=\"#-Комментарий-ревьюера-v1\" data-toc-modified-id=\"-Комментарий-ревьюера-v1-2.6\"><span class=\"toc-item-num\">2.6&nbsp;&nbsp;</span> Комментарий ревьюера v1</a></span></li></ul></li><li><span><a href=\"#Модель\" data-toc-modified-id=\"Модель-3\"><span class=\"toc-item-num\">3&nbsp;&nbsp;</span>Модель</a></span><ul class=\"toc-item\"><li><span><a href=\"#Подготовка-функций\" data-toc-modified-id=\"Подготовка-функций-3.1\"><span class=\"toc-item-num\">3.1&nbsp;&nbsp;</span>Подготовка функций</a></span><ul class=\"toc-item\"><li><span><a href=\"#Функция-для-вычисления-sMAPE\" data-toc-modified-id=\"Функция-для-вычисления-sMAPE-3.1.1\"><span class=\"toc-item-num\">3.1.1&nbsp;&nbsp;</span>Функция для вычисления sMAPE</a></span></li></ul></li><li><span><a href=\"#-Комментарий-ревьюера-v1\" data-toc-modified-id=\"-Комментарий-ревьюера-v1-3.2\"><span class=\"toc-item-num\">3.2&nbsp;&nbsp;</span> Комментарий ревьюера v1</a></span><ul class=\"toc-item\"><li><span><a href=\"#Функция-для-вычисления-итоговой-sMAPE\" data-toc-modified-id=\"Функция-для-вычисления-итоговой-sMAPE-3.2.1\"><span class=\"toc-item-num\">3.2.1&nbsp;&nbsp;</span>Функция для вычисления итоговой sMAPE</a></span></li><li><span><a href=\"#Присоединение-целевых-признаков\" data-toc-modified-id=\"Присоединение-целевых-признаков-3.2.2\"><span class=\"toc-item-num\">3.2.2&nbsp;&nbsp;</span>Присоединение целевых признаков</a></span></li><li><span><a href=\"#Создание-функции-для-стандартизации-данных\" data-toc-modified-id=\"Создание-функции-для-стандартизации-данных-3.2.3\"><span class=\"toc-item-num\">3.2.3&nbsp;&nbsp;</span>Создание функции для стандартизации данных</a></span></li></ul></li><li><span><a href=\"#-Комментарий-ревьюера-v1\" data-toc-modified-id=\"-Комментарий-ревьюера-v1-3.3\"><span class=\"toc-item-num\">3.3&nbsp;&nbsp;</span> Комментарий ревьюера v1</a></span></li><li><span><a href=\"#-Комментарий-ревьюера-v1\" data-toc-modified-id=\"-Комментарий-ревьюера-v1-3.4\"><span class=\"toc-item-num\">3.4&nbsp;&nbsp;</span> Комментарий ревьюера v1</a></span></li><li><span><a href=\"#Обучение-разных-моделей-и-оценка-качества-кросс-валидацией\" data-toc-modified-id=\"Обучение-разных-моделей-и-оценка-качества-кросс-валидацией-3.5\"><span class=\"toc-item-num\">3.5&nbsp;&nbsp;</span>Обучение разных моделей и оценка качества кросс-валидацией</a></span><ul class=\"toc-item\"><li><span><a href=\"#Разделим-обучающую-и-тестовую-выборки-на-целевые-признаки-(features),-признак-rougher.output.recovery-(targ_rougher)-и-признак-final.output.recovery-(targ_final).\" data-toc-modified-id=\"Разделим-обучающую-и-тестовую-выборки-на-целевые-признаки-(features),-признак-rougher.output.recovery-(targ_rougher)-и-признак-final.output.recovery-(targ_final).-3.5.1\"><span class=\"toc-item-num\">3.5.1&nbsp;&nbsp;</span>Разделим обучающую и тестовую выборки на целевые признаки (features), признак rougher.output.recovery (targ_rougher) и признак final.output.recovery (targ_final).</a></span></li><li><span><a href=\"#Обучение-модели-для-предсказания-эффективности-обогащения-чернового-концентрата-(rougher.output.recovery)\" data-toc-modified-id=\"Обучение-модели-для-предсказания-эффективности-обогащения-чернового-концентрата-(rougher.output.recovery)-3.5.2\"><span class=\"toc-item-num\">3.5.2&nbsp;&nbsp;</span>Обучение модели для предсказания эффективности обогащения чернового концентрата (rougher.output.recovery)</a></span><ul class=\"toc-item\"><li><span><a href=\"#Модель-линейной-регрессии\" data-toc-modified-id=\"Модель-линейной-регрессии-3.5.2.1\"><span class=\"toc-item-num\">3.5.2.1&nbsp;&nbsp;</span>Модель линейной регрессии</a></span></li><li><span><a href=\"#Модель-решающего-дерева\" data-toc-modified-id=\"Модель-решающего-дерева-3.5.2.2\"><span class=\"toc-item-num\">3.5.2.2&nbsp;&nbsp;</span>Модель решающего дерева</a></span></li><li><span><a href=\"#Модель-Dummy\" data-toc-modified-id=\"Модель-Dummy-3.5.2.3\"><span class=\"toc-item-num\">3.5.2.3&nbsp;&nbsp;</span>Модель Dummy</a></span></li></ul></li><li><span><a href=\"#Обучение-модели-для-предсказания-эффективности-обогащения-финального-концентрата-(final.output.recovery)\" data-toc-modified-id=\"Обучение-модели-для-предсказания-эффективности-обогащения-финального-концентрата-(final.output.recovery)-3.5.3\"><span class=\"toc-item-num\">3.5.3&nbsp;&nbsp;</span>Обучение модели для предсказания эффективности обогащения финального концентрата (final.output.recovery)</a></span><ul class=\"toc-item\"><li><span><a href=\"#Модель-линейной-регрессии\" data-toc-modified-id=\"Модель-линейной-регрессии-3.5.3.1\"><span class=\"toc-item-num\">3.5.3.1&nbsp;&nbsp;</span>Модель линейной регрессии</a></span></li><li><span><a href=\"#Модель-решающего-дерева\" data-toc-modified-id=\"Модель-решающего-дерева-3.5.3.2\"><span class=\"toc-item-num\">3.5.3.2&nbsp;&nbsp;</span>Модель решающего дерева</a></span></li><li><span><a href=\"#Модель-Dummy¶\" data-toc-modified-id=\"Модель-Dummy¶-3.5.3.3\"><span class=\"toc-item-num\">3.5.3.3&nbsp;&nbsp;</span>Модель Dummy¶</a></span></li></ul></li></ul></li><li><span><a href=\"#Выбор-лучшей-модели-и-подсчет-итогового-значения-sMAPE\" data-toc-modified-id=\"Выбор-лучшей-модели-и-подсчет-итогового-значения-sMAPE-3.6\"><span class=\"toc-item-num\">3.6&nbsp;&nbsp;</span>Выбор лучшей модели и подсчет итогового значения sMAPE</a></span></li></ul></li><li><span><a href=\"#Вывод\" data-toc-modified-id=\"Вывод-4\"><span class=\"toc-item-num\">4&nbsp;&nbsp;</span>Вывод</a></span></li><li><span><a href=\"#Чек-лист-готовности-проекта\" data-toc-modified-id=\"Чек-лист-готовности-проекта-5\"><span class=\"toc-item-num\">5&nbsp;&nbsp;</span>Чек-лист готовности проекта</a></span><ul class=\"toc-item\"><li><span><a href=\"#-Итоговый-комментарий\" data-toc-modified-id=\"-Итоговый-комментарий-5.1\"><span class=\"toc-item-num\">5.1&nbsp;&nbsp;</span> Итоговый комментарий</a></span></li><li><span><a href=\"#-Комментарий-ревьюера-v2\" data-toc-modified-id=\"-Комментарий-ревьюера-v2-5.2\"><span class=\"toc-item-num\">5.2&nbsp;&nbsp;</span> Комментарий ревьюера v2</a></span></li></ul></li></ul></div>"
   ]
  },
  {
   "cell_type": "markdown",
   "metadata": {},
   "source": [
    "## Подготовка данных"
   ]
  },
  {
   "cell_type": "markdown",
   "metadata": {},
   "source": [
    " ### Импорт бибилиотек"
   ]
  },
  {
   "cell_type": "code",
   "execution_count": 1,
   "metadata": {},
   "outputs": [],
   "source": [
    "import pandas as pd\n",
    "import numpy as np\n",
    "from sklearn.metrics import mean_absolute_error, r2_score, make_scorer\n",
    "import matplotlib.pyplot as plt\n",
    "from sklearn.pipeline import Pipeline\n",
    "from sklearn.model_selection import GridSearchCV, cross_val_score\n",
    "from sklearn.linear_model import LinearRegression\n",
    "from sklearn.preprocessing import StandardScaler\n",
    "from sklearn.tree import DecisionTreeRegressor\n",
    "from sklearn.dummy import DummyRegressor\n",
    "import random\n",
    "import warnings\n",
    "warnings.filterwarnings('ignore')"
   ]
  },
  {
   "cell_type": "markdown",
   "metadata": {},
   "source": [
    "### Открытие файлов и  их изучение"
   ]
  },
  {
   "cell_type": "markdown",
   "metadata": {},
   "source": [
    "#### Получение данных"
   ]
  },
  {
   "cell_type": "code",
   "execution_count": 2,
   "metadata": {},
   "outputs": [],
   "source": [
    "tr = pd.read_csv('/datasets/gold_recovery_train_new.csv') # тренировочная\n",
    "t = pd.read_csv('/datasets/gold_recovery_test_new.csv') # тестовая\n",
    "f = pd.read_csv('/datasets/gold_recovery_full_new.csv') # общая\n",
    "\n",
    "tr.name = 'Тренировочная выборка'   \n",
    "t.name = 'Тестовая выборка'\n",
    "f.name = 'Общая'\n",
    "\n",
    "dfs = [tr, t, f]"
   ]
  },
  {
   "cell_type": "markdown",
   "metadata": {},
   "source": [
    "#### Анализ данных"
   ]
  },
  {
   "cell_type": "code",
   "execution_count": 3,
   "metadata": {
    "scrolled": false
   },
   "outputs": [
    {
     "name": "stdout",
     "output_type": "stream",
     "text": [
      "Тренировочная выборка:\n",
      "<class 'pandas.core.frame.DataFrame'>\n",
      "RangeIndex: 14149 entries, 0 to 14148\n",
      "Data columns (total 87 columns):\n",
      " #   Column                                              Non-Null Count  Dtype  \n",
      "---  ------                                              --------------  -----  \n",
      " 0   date                                                14149 non-null  object \n",
      " 1   final.output.concentrate_ag                         14148 non-null  float64\n",
      " 2   final.output.concentrate_pb                         14148 non-null  float64\n",
      " 3   final.output.concentrate_sol                        13938 non-null  float64\n",
      " 4   final.output.concentrate_au                         14149 non-null  float64\n",
      " 5   final.output.recovery                               14149 non-null  float64\n",
      " 6   final.output.tail_ag                                14149 non-null  float64\n",
      " 7   final.output.tail_pb                                14049 non-null  float64\n",
      " 8   final.output.tail_sol                               14144 non-null  float64\n",
      " 9   final.output.tail_au                                14149 non-null  float64\n",
      " 10  primary_cleaner.input.sulfate                       14129 non-null  float64\n",
      " 11  primary_cleaner.input.depressant                    14117 non-null  float64\n",
      " 12  primary_cleaner.input.feed_size                     14149 non-null  float64\n",
      " 13  primary_cleaner.input.xanthate                      14049 non-null  float64\n",
      " 14  primary_cleaner.output.concentrate_ag               14149 non-null  float64\n",
      " 15  primary_cleaner.output.concentrate_pb               14063 non-null  float64\n",
      " 16  primary_cleaner.output.concentrate_sol              13863 non-null  float64\n",
      " 17  primary_cleaner.output.concentrate_au               14149 non-null  float64\n",
      " 18  primary_cleaner.output.tail_ag                      14148 non-null  float64\n",
      " 19  primary_cleaner.output.tail_pb                      14134 non-null  float64\n",
      " 20  primary_cleaner.output.tail_sol                     14103 non-null  float64\n",
      " 21  primary_cleaner.output.tail_au                      14149 non-null  float64\n",
      " 22  primary_cleaner.state.floatbank8_a_air              14145 non-null  float64\n",
      " 23  primary_cleaner.state.floatbank8_a_level            14148 non-null  float64\n",
      " 24  primary_cleaner.state.floatbank8_b_air              14145 non-null  float64\n",
      " 25  primary_cleaner.state.floatbank8_b_level            14148 non-null  float64\n",
      " 26  primary_cleaner.state.floatbank8_c_air              14147 non-null  float64\n",
      " 27  primary_cleaner.state.floatbank8_c_level            14148 non-null  float64\n",
      " 28  primary_cleaner.state.floatbank8_d_air              14146 non-null  float64\n",
      " 29  primary_cleaner.state.floatbank8_d_level            14148 non-null  float64\n",
      " 30  rougher.calculation.sulfate_to_au_concentrate       14148 non-null  float64\n",
      " 31  rougher.calculation.floatbank10_sulfate_to_au_feed  14148 non-null  float64\n",
      " 32  rougher.calculation.floatbank11_sulfate_to_au_feed  14148 non-null  float64\n",
      " 33  rougher.calculation.au_pb_ratio                     14149 non-null  float64\n",
      " 34  rougher.input.feed_ag                               14149 non-null  float64\n",
      " 35  rougher.input.feed_pb                               14049 non-null  float64\n",
      " 36  rougher.input.feed_rate                             14141 non-null  float64\n",
      " 37  rougher.input.feed_size                             14005 non-null  float64\n",
      " 38  rougher.input.feed_sol                              14071 non-null  float64\n",
      " 39  rougher.input.feed_au                               14149 non-null  float64\n",
      " 40  rougher.input.floatbank10_sulfate                   14120 non-null  float64\n",
      " 41  rougher.input.floatbank10_xanthate                  14141 non-null  float64\n",
      " 42  rougher.input.floatbank11_sulfate                   14113 non-null  float64\n",
      " 43  rougher.input.floatbank11_xanthate                  13721 non-null  float64\n",
      " 44  rougher.output.concentrate_ag                       14149 non-null  float64\n",
      " 45  rougher.output.concentrate_pb                       14149 non-null  float64\n",
      " 46  rougher.output.concentrate_sol                      14127 non-null  float64\n",
      " 47  rougher.output.concentrate_au                       14149 non-null  float64\n",
      " 48  rougher.output.recovery                             14149 non-null  float64\n",
      " 49  rougher.output.tail_ag                              14148 non-null  float64\n",
      " 50  rougher.output.tail_pb                              14149 non-null  float64\n",
      " 51  rougher.output.tail_sol                             14149 non-null  float64\n",
      " 52  rougher.output.tail_au                              14149 non-null  float64\n",
      " 53  rougher.state.floatbank10_a_air                     14148 non-null  float64\n",
      " 54  rougher.state.floatbank10_a_level                   14148 non-null  float64\n",
      " 55  rougher.state.floatbank10_b_air                     14148 non-null  float64\n",
      " 56  rougher.state.floatbank10_b_level                   14148 non-null  float64\n",
      " 57  rougher.state.floatbank10_c_air                     14148 non-null  float64\n",
      " 58  rougher.state.floatbank10_c_level                   14148 non-null  float64\n",
      " 59  rougher.state.floatbank10_d_air                     14149 non-null  float64\n",
      " 60  rougher.state.floatbank10_d_level                   14149 non-null  float64\n",
      " 61  rougher.state.floatbank10_e_air                     13713 non-null  float64\n",
      " 62  rougher.state.floatbank10_e_level                   14149 non-null  float64\n",
      " 63  rougher.state.floatbank10_f_air                     14149 non-null  float64\n",
      " 64  rougher.state.floatbank10_f_level                   14149 non-null  float64\n",
      " 65  secondary_cleaner.output.tail_ag                    14147 non-null  float64\n",
      " 66  secondary_cleaner.output.tail_pb                    14139 non-null  float64\n",
      " 67  secondary_cleaner.output.tail_sol                   12544 non-null  float64\n",
      " 68  secondary_cleaner.output.tail_au                    14149 non-null  float64\n",
      " 69  secondary_cleaner.state.floatbank2_a_air            13932 non-null  float64\n",
      " 70  secondary_cleaner.state.floatbank2_a_level          14148 non-null  float64\n",
      " 71  secondary_cleaner.state.floatbank2_b_air            14128 non-null  float64\n",
      " 72  secondary_cleaner.state.floatbank2_b_level          14148 non-null  float64\n",
      " 73  secondary_cleaner.state.floatbank3_a_air            14145 non-null  float64\n",
      " 74  secondary_cleaner.state.floatbank3_a_level          14148 non-null  float64\n",
      " 75  secondary_cleaner.state.floatbank3_b_air            14148 non-null  float64\n",
      " 76  secondary_cleaner.state.floatbank3_b_level          14148 non-null  float64\n",
      " 77  secondary_cleaner.state.floatbank4_a_air            14143 non-null  float64\n",
      " 78  secondary_cleaner.state.floatbank4_a_level          14148 non-null  float64\n",
      " 79  secondary_cleaner.state.floatbank4_b_air            14148 non-null  float64\n",
      " 80  secondary_cleaner.state.floatbank4_b_level          14148 non-null  float64\n",
      " 81  secondary_cleaner.state.floatbank5_a_air            14148 non-null  float64\n",
      " 82  secondary_cleaner.state.floatbank5_a_level          14148 non-null  float64\n",
      " 83  secondary_cleaner.state.floatbank5_b_air            14148 non-null  float64\n",
      " 84  secondary_cleaner.state.floatbank5_b_level          14148 non-null  float64\n",
      " 85  secondary_cleaner.state.floatbank6_a_air            14147 non-null  float64\n",
      " 86  secondary_cleaner.state.floatbank6_a_level          14148 non-null  float64\n",
      "dtypes: float64(86), object(1)\n",
      "memory usage: 9.4+ MB\n"
     ]
    },
    {
     "data": {
      "text/plain": [
       "None"
      ]
     },
     "metadata": {},
     "output_type": "display_data"
    },
    {
     "data": {
      "text/html": [
       "<div>\n",
       "<style scoped>\n",
       "    .dataframe tbody tr th:only-of-type {\n",
       "        vertical-align: middle;\n",
       "    }\n",
       "\n",
       "    .dataframe tbody tr th {\n",
       "        vertical-align: top;\n",
       "    }\n",
       "\n",
       "    .dataframe thead th {\n",
       "        text-align: right;\n",
       "    }\n",
       "</style>\n",
       "<table border=\"1\" class=\"dataframe\">\n",
       "  <thead>\n",
       "    <tr style=\"text-align: right;\">\n",
       "      <th></th>\n",
       "      <th>date</th>\n",
       "      <th>final.output.concentrate_ag</th>\n",
       "      <th>final.output.concentrate_pb</th>\n",
       "      <th>final.output.concentrate_sol</th>\n",
       "      <th>final.output.concentrate_au</th>\n",
       "      <th>final.output.recovery</th>\n",
       "      <th>final.output.tail_ag</th>\n",
       "      <th>final.output.tail_pb</th>\n",
       "      <th>final.output.tail_sol</th>\n",
       "      <th>final.output.tail_au</th>\n",
       "      <th>...</th>\n",
       "      <th>secondary_cleaner.state.floatbank4_a_air</th>\n",
       "      <th>secondary_cleaner.state.floatbank4_a_level</th>\n",
       "      <th>secondary_cleaner.state.floatbank4_b_air</th>\n",
       "      <th>secondary_cleaner.state.floatbank4_b_level</th>\n",
       "      <th>secondary_cleaner.state.floatbank5_a_air</th>\n",
       "      <th>secondary_cleaner.state.floatbank5_a_level</th>\n",
       "      <th>secondary_cleaner.state.floatbank5_b_air</th>\n",
       "      <th>secondary_cleaner.state.floatbank5_b_level</th>\n",
       "      <th>secondary_cleaner.state.floatbank6_a_air</th>\n",
       "      <th>secondary_cleaner.state.floatbank6_a_level</th>\n",
       "    </tr>\n",
       "  </thead>\n",
       "  <tbody>\n",
       "    <tr>\n",
       "      <th>0</th>\n",
       "      <td>2016-01-15 00:00:00</td>\n",
       "      <td>6.055403</td>\n",
       "      <td>9.889648</td>\n",
       "      <td>5.507324</td>\n",
       "      <td>42.192020</td>\n",
       "      <td>70.541216</td>\n",
       "      <td>10.411962</td>\n",
       "      <td>0.895447</td>\n",
       "      <td>16.904297</td>\n",
       "      <td>2.143149</td>\n",
       "      <td>...</td>\n",
       "      <td>14.016835</td>\n",
       "      <td>-502.488007</td>\n",
       "      <td>12.099931</td>\n",
       "      <td>-504.715942</td>\n",
       "      <td>9.925633</td>\n",
       "      <td>-498.310211</td>\n",
       "      <td>8.079666</td>\n",
       "      <td>-500.470978</td>\n",
       "      <td>14.151341</td>\n",
       "      <td>-605.841980</td>\n",
       "    </tr>\n",
       "    <tr>\n",
       "      <th>1</th>\n",
       "      <td>2016-01-15 01:00:00</td>\n",
       "      <td>6.029369</td>\n",
       "      <td>9.968944</td>\n",
       "      <td>5.257781</td>\n",
       "      <td>42.701629</td>\n",
       "      <td>69.266198</td>\n",
       "      <td>10.462676</td>\n",
       "      <td>0.927452</td>\n",
       "      <td>16.634514</td>\n",
       "      <td>2.224930</td>\n",
       "      <td>...</td>\n",
       "      <td>13.992281</td>\n",
       "      <td>-505.503262</td>\n",
       "      <td>11.950531</td>\n",
       "      <td>-501.331529</td>\n",
       "      <td>10.039245</td>\n",
       "      <td>-500.169983</td>\n",
       "      <td>7.984757</td>\n",
       "      <td>-500.582168</td>\n",
       "      <td>13.998353</td>\n",
       "      <td>-599.787184</td>\n",
       "    </tr>\n",
       "    <tr>\n",
       "      <th>2</th>\n",
       "      <td>2016-01-15 02:00:00</td>\n",
       "      <td>6.055926</td>\n",
       "      <td>10.213995</td>\n",
       "      <td>5.383759</td>\n",
       "      <td>42.657501</td>\n",
       "      <td>68.116445</td>\n",
       "      <td>10.507046</td>\n",
       "      <td>0.953716</td>\n",
       "      <td>16.208849</td>\n",
       "      <td>2.257889</td>\n",
       "      <td>...</td>\n",
       "      <td>14.015015</td>\n",
       "      <td>-502.520901</td>\n",
       "      <td>11.912783</td>\n",
       "      <td>-501.133383</td>\n",
       "      <td>10.070913</td>\n",
       "      <td>-500.129135</td>\n",
       "      <td>8.013877</td>\n",
       "      <td>-500.517572</td>\n",
       "      <td>14.028663</td>\n",
       "      <td>-601.427363</td>\n",
       "    </tr>\n",
       "    <tr>\n",
       "      <th>3</th>\n",
       "      <td>2016-01-15 03:00:00</td>\n",
       "      <td>6.047977</td>\n",
       "      <td>9.977019</td>\n",
       "      <td>4.858634</td>\n",
       "      <td>42.689819</td>\n",
       "      <td>68.347543</td>\n",
       "      <td>10.422762</td>\n",
       "      <td>0.883763</td>\n",
       "      <td>16.532835</td>\n",
       "      <td>2.146849</td>\n",
       "      <td>...</td>\n",
       "      <td>14.036510</td>\n",
       "      <td>-500.857308</td>\n",
       "      <td>11.999550</td>\n",
       "      <td>-501.193686</td>\n",
       "      <td>9.970366</td>\n",
       "      <td>-499.201640</td>\n",
       "      <td>7.977324</td>\n",
       "      <td>-500.255908</td>\n",
       "      <td>14.005551</td>\n",
       "      <td>-599.996129</td>\n",
       "    </tr>\n",
       "    <tr>\n",
       "      <th>4</th>\n",
       "      <td>2016-01-15 04:00:00</td>\n",
       "      <td>6.148599</td>\n",
       "      <td>10.142511</td>\n",
       "      <td>4.939416</td>\n",
       "      <td>42.774141</td>\n",
       "      <td>66.927016</td>\n",
       "      <td>10.360302</td>\n",
       "      <td>0.792826</td>\n",
       "      <td>16.525686</td>\n",
       "      <td>2.055292</td>\n",
       "      <td>...</td>\n",
       "      <td>14.027298</td>\n",
       "      <td>-499.838632</td>\n",
       "      <td>11.953070</td>\n",
       "      <td>-501.053894</td>\n",
       "      <td>9.925709</td>\n",
       "      <td>-501.686727</td>\n",
       "      <td>7.894242</td>\n",
       "      <td>-500.356035</td>\n",
       "      <td>13.996647</td>\n",
       "      <td>-601.496691</td>\n",
       "    </tr>\n",
       "  </tbody>\n",
       "</table>\n",
       "<p>5 rows × 87 columns</p>\n",
       "</div>"
      ],
      "text/plain": [
       "                  date  final.output.concentrate_ag  \\\n",
       "0  2016-01-15 00:00:00                     6.055403   \n",
       "1  2016-01-15 01:00:00                     6.029369   \n",
       "2  2016-01-15 02:00:00                     6.055926   \n",
       "3  2016-01-15 03:00:00                     6.047977   \n",
       "4  2016-01-15 04:00:00                     6.148599   \n",
       "\n",
       "   final.output.concentrate_pb  final.output.concentrate_sol  \\\n",
       "0                     9.889648                      5.507324   \n",
       "1                     9.968944                      5.257781   \n",
       "2                    10.213995                      5.383759   \n",
       "3                     9.977019                      4.858634   \n",
       "4                    10.142511                      4.939416   \n",
       "\n",
       "   final.output.concentrate_au  final.output.recovery  final.output.tail_ag  \\\n",
       "0                    42.192020              70.541216             10.411962   \n",
       "1                    42.701629              69.266198             10.462676   \n",
       "2                    42.657501              68.116445             10.507046   \n",
       "3                    42.689819              68.347543             10.422762   \n",
       "4                    42.774141              66.927016             10.360302   \n",
       "\n",
       "   final.output.tail_pb  final.output.tail_sol  final.output.tail_au  ...  \\\n",
       "0              0.895447              16.904297              2.143149  ...   \n",
       "1              0.927452              16.634514              2.224930  ...   \n",
       "2              0.953716              16.208849              2.257889  ...   \n",
       "3              0.883763              16.532835              2.146849  ...   \n",
       "4              0.792826              16.525686              2.055292  ...   \n",
       "\n",
       "   secondary_cleaner.state.floatbank4_a_air  \\\n",
       "0                                 14.016835   \n",
       "1                                 13.992281   \n",
       "2                                 14.015015   \n",
       "3                                 14.036510   \n",
       "4                                 14.027298   \n",
       "\n",
       "   secondary_cleaner.state.floatbank4_a_level  \\\n",
       "0                                 -502.488007   \n",
       "1                                 -505.503262   \n",
       "2                                 -502.520901   \n",
       "3                                 -500.857308   \n",
       "4                                 -499.838632   \n",
       "\n",
       "   secondary_cleaner.state.floatbank4_b_air  \\\n",
       "0                                 12.099931   \n",
       "1                                 11.950531   \n",
       "2                                 11.912783   \n",
       "3                                 11.999550   \n",
       "4                                 11.953070   \n",
       "\n",
       "   secondary_cleaner.state.floatbank4_b_level  \\\n",
       "0                                 -504.715942   \n",
       "1                                 -501.331529   \n",
       "2                                 -501.133383   \n",
       "3                                 -501.193686   \n",
       "4                                 -501.053894   \n",
       "\n",
       "   secondary_cleaner.state.floatbank5_a_air  \\\n",
       "0                                  9.925633   \n",
       "1                                 10.039245   \n",
       "2                                 10.070913   \n",
       "3                                  9.970366   \n",
       "4                                  9.925709   \n",
       "\n",
       "   secondary_cleaner.state.floatbank5_a_level  \\\n",
       "0                                 -498.310211   \n",
       "1                                 -500.169983   \n",
       "2                                 -500.129135   \n",
       "3                                 -499.201640   \n",
       "4                                 -501.686727   \n",
       "\n",
       "   secondary_cleaner.state.floatbank5_b_air  \\\n",
       "0                                  8.079666   \n",
       "1                                  7.984757   \n",
       "2                                  8.013877   \n",
       "3                                  7.977324   \n",
       "4                                  7.894242   \n",
       "\n",
       "   secondary_cleaner.state.floatbank5_b_level  \\\n",
       "0                                 -500.470978   \n",
       "1                                 -500.582168   \n",
       "2                                 -500.517572   \n",
       "3                                 -500.255908   \n",
       "4                                 -500.356035   \n",
       "\n",
       "   secondary_cleaner.state.floatbank6_a_air  \\\n",
       "0                                 14.151341   \n",
       "1                                 13.998353   \n",
       "2                                 14.028663   \n",
       "3                                 14.005551   \n",
       "4                                 13.996647   \n",
       "\n",
       "   secondary_cleaner.state.floatbank6_a_level  \n",
       "0                                 -605.841980  \n",
       "1                                 -599.787184  \n",
       "2                                 -601.427363  \n",
       "3                                 -599.996129  \n",
       "4                                 -601.496691  \n",
       "\n",
       "[5 rows x 87 columns]"
      ]
     },
     "metadata": {},
     "output_type": "display_data"
    },
    {
     "name": "stdout",
     "output_type": "stream",
     "text": [
      "Кол-во строк: 14149\n",
      "Кол-во столбцов: 87\n",
      "......................................................................................................\n",
      "\n",
      "\n",
      "Тестовая выборка:\n",
      "<class 'pandas.core.frame.DataFrame'>\n",
      "RangeIndex: 5290 entries, 0 to 5289\n",
      "Data columns (total 53 columns):\n",
      " #   Column                                      Non-Null Count  Dtype  \n",
      "---  ------                                      --------------  -----  \n",
      " 0   date                                        5290 non-null   object \n",
      " 1   primary_cleaner.input.sulfate               5286 non-null   float64\n",
      " 2   primary_cleaner.input.depressant            5285 non-null   float64\n",
      " 3   primary_cleaner.input.feed_size             5290 non-null   float64\n",
      " 4   primary_cleaner.input.xanthate              5286 non-null   float64\n",
      " 5   primary_cleaner.state.floatbank8_a_air      5290 non-null   float64\n",
      " 6   primary_cleaner.state.floatbank8_a_level    5290 non-null   float64\n",
      " 7   primary_cleaner.state.floatbank8_b_air      5290 non-null   float64\n",
      " 8   primary_cleaner.state.floatbank8_b_level    5290 non-null   float64\n",
      " 9   primary_cleaner.state.floatbank8_c_air      5290 non-null   float64\n",
      " 10  primary_cleaner.state.floatbank8_c_level    5290 non-null   float64\n",
      " 11  primary_cleaner.state.floatbank8_d_air      5290 non-null   float64\n",
      " 12  primary_cleaner.state.floatbank8_d_level    5290 non-null   float64\n",
      " 13  rougher.input.feed_ag                       5290 non-null   float64\n",
      " 14  rougher.input.feed_pb                       5290 non-null   float64\n",
      " 15  rougher.input.feed_rate                     5287 non-null   float64\n",
      " 16  rougher.input.feed_size                     5289 non-null   float64\n",
      " 17  rougher.input.feed_sol                      5269 non-null   float64\n",
      " 18  rougher.input.feed_au                       5290 non-null   float64\n",
      " 19  rougher.input.floatbank10_sulfate           5285 non-null   float64\n",
      " 20  rougher.input.floatbank10_xanthate          5290 non-null   float64\n",
      " 21  rougher.input.floatbank11_sulfate           5282 non-null   float64\n",
      " 22  rougher.input.floatbank11_xanthate          5265 non-null   float64\n",
      " 23  rougher.state.floatbank10_a_air             5290 non-null   float64\n",
      " 24  rougher.state.floatbank10_a_level           5290 non-null   float64\n",
      " 25  rougher.state.floatbank10_b_air             5290 non-null   float64\n",
      " 26  rougher.state.floatbank10_b_level           5290 non-null   float64\n",
      " 27  rougher.state.floatbank10_c_air             5290 non-null   float64\n",
      " 28  rougher.state.floatbank10_c_level           5290 non-null   float64\n",
      " 29  rougher.state.floatbank10_d_air             5290 non-null   float64\n",
      " 30  rougher.state.floatbank10_d_level           5290 non-null   float64\n",
      " 31  rougher.state.floatbank10_e_air             5290 non-null   float64\n",
      " 32  rougher.state.floatbank10_e_level           5290 non-null   float64\n",
      " 33  rougher.state.floatbank10_f_air             5290 non-null   float64\n",
      " 34  rougher.state.floatbank10_f_level           5290 non-null   float64\n",
      " 35  secondary_cleaner.state.floatbank2_a_air    5287 non-null   float64\n",
      " 36  secondary_cleaner.state.floatbank2_a_level  5290 non-null   float64\n",
      " 37  secondary_cleaner.state.floatbank2_b_air    5288 non-null   float64\n",
      " 38  secondary_cleaner.state.floatbank2_b_level  5290 non-null   float64\n",
      " 39  secondary_cleaner.state.floatbank3_a_air    5281 non-null   float64\n",
      " 40  secondary_cleaner.state.floatbank3_a_level  5290 non-null   float64\n",
      " 41  secondary_cleaner.state.floatbank3_b_air    5290 non-null   float64\n",
      " 42  secondary_cleaner.state.floatbank3_b_level  5290 non-null   float64\n",
      " 43  secondary_cleaner.state.floatbank4_a_air    5290 non-null   float64\n",
      " 44  secondary_cleaner.state.floatbank4_a_level  5290 non-null   float64\n",
      " 45  secondary_cleaner.state.floatbank4_b_air    5290 non-null   float64\n",
      " 46  secondary_cleaner.state.floatbank4_b_level  5290 non-null   float64\n",
      " 47  secondary_cleaner.state.floatbank5_a_air    5290 non-null   float64\n",
      " 48  secondary_cleaner.state.floatbank5_a_level  5290 non-null   float64\n",
      " 49  secondary_cleaner.state.floatbank5_b_air    5290 non-null   float64\n",
      " 50  secondary_cleaner.state.floatbank5_b_level  5290 non-null   float64\n",
      " 51  secondary_cleaner.state.floatbank6_a_air    5290 non-null   float64\n",
      " 52  secondary_cleaner.state.floatbank6_a_level  5290 non-null   float64\n",
      "dtypes: float64(52), object(1)\n",
      "memory usage: 2.1+ MB\n"
     ]
    },
    {
     "data": {
      "text/plain": [
       "None"
      ]
     },
     "metadata": {},
     "output_type": "display_data"
    },
    {
     "data": {
      "text/html": [
       "<div>\n",
       "<style scoped>\n",
       "    .dataframe tbody tr th:only-of-type {\n",
       "        vertical-align: middle;\n",
       "    }\n",
       "\n",
       "    .dataframe tbody tr th {\n",
       "        vertical-align: top;\n",
       "    }\n",
       "\n",
       "    .dataframe thead th {\n",
       "        text-align: right;\n",
       "    }\n",
       "</style>\n",
       "<table border=\"1\" class=\"dataframe\">\n",
       "  <thead>\n",
       "    <tr style=\"text-align: right;\">\n",
       "      <th></th>\n",
       "      <th>date</th>\n",
       "      <th>primary_cleaner.input.sulfate</th>\n",
       "      <th>primary_cleaner.input.depressant</th>\n",
       "      <th>primary_cleaner.input.feed_size</th>\n",
       "      <th>primary_cleaner.input.xanthate</th>\n",
       "      <th>primary_cleaner.state.floatbank8_a_air</th>\n",
       "      <th>primary_cleaner.state.floatbank8_a_level</th>\n",
       "      <th>primary_cleaner.state.floatbank8_b_air</th>\n",
       "      <th>primary_cleaner.state.floatbank8_b_level</th>\n",
       "      <th>primary_cleaner.state.floatbank8_c_air</th>\n",
       "      <th>...</th>\n",
       "      <th>secondary_cleaner.state.floatbank4_a_air</th>\n",
       "      <th>secondary_cleaner.state.floatbank4_a_level</th>\n",
       "      <th>secondary_cleaner.state.floatbank4_b_air</th>\n",
       "      <th>secondary_cleaner.state.floatbank4_b_level</th>\n",
       "      <th>secondary_cleaner.state.floatbank5_a_air</th>\n",
       "      <th>secondary_cleaner.state.floatbank5_a_level</th>\n",
       "      <th>secondary_cleaner.state.floatbank5_b_air</th>\n",
       "      <th>secondary_cleaner.state.floatbank5_b_level</th>\n",
       "      <th>secondary_cleaner.state.floatbank6_a_air</th>\n",
       "      <th>secondary_cleaner.state.floatbank6_a_level</th>\n",
       "    </tr>\n",
       "  </thead>\n",
       "  <tbody>\n",
       "    <tr>\n",
       "      <th>0</th>\n",
       "      <td>2016-09-01 00:59:59</td>\n",
       "      <td>210.800909</td>\n",
       "      <td>14.993118</td>\n",
       "      <td>8.080000</td>\n",
       "      <td>1.005021</td>\n",
       "      <td>1398.981301</td>\n",
       "      <td>-500.225577</td>\n",
       "      <td>1399.144926</td>\n",
       "      <td>-499.919735</td>\n",
       "      <td>1400.102998</td>\n",
       "      <td>...</td>\n",
       "      <td>12.023554</td>\n",
       "      <td>-497.795834</td>\n",
       "      <td>8.016656</td>\n",
       "      <td>-501.289139</td>\n",
       "      <td>7.946562</td>\n",
       "      <td>-432.317850</td>\n",
       "      <td>4.872511</td>\n",
       "      <td>-500.037437</td>\n",
       "      <td>26.705889</td>\n",
       "      <td>-499.709414</td>\n",
       "    </tr>\n",
       "    <tr>\n",
       "      <th>1</th>\n",
       "      <td>2016-09-01 01:59:59</td>\n",
       "      <td>215.392455</td>\n",
       "      <td>14.987471</td>\n",
       "      <td>8.080000</td>\n",
       "      <td>0.990469</td>\n",
       "      <td>1398.777912</td>\n",
       "      <td>-500.057435</td>\n",
       "      <td>1398.055362</td>\n",
       "      <td>-499.778182</td>\n",
       "      <td>1396.151033</td>\n",
       "      <td>...</td>\n",
       "      <td>12.058140</td>\n",
       "      <td>-498.695773</td>\n",
       "      <td>8.130979</td>\n",
       "      <td>-499.634209</td>\n",
       "      <td>7.958270</td>\n",
       "      <td>-525.839648</td>\n",
       "      <td>4.878850</td>\n",
       "      <td>-500.162375</td>\n",
       "      <td>25.019940</td>\n",
       "      <td>-499.819438</td>\n",
       "    </tr>\n",
       "    <tr>\n",
       "      <th>2</th>\n",
       "      <td>2016-09-01 02:59:59</td>\n",
       "      <td>215.259946</td>\n",
       "      <td>12.884934</td>\n",
       "      <td>7.786667</td>\n",
       "      <td>0.996043</td>\n",
       "      <td>1398.493666</td>\n",
       "      <td>-500.868360</td>\n",
       "      <td>1398.860436</td>\n",
       "      <td>-499.764529</td>\n",
       "      <td>1398.075709</td>\n",
       "      <td>...</td>\n",
       "      <td>11.962366</td>\n",
       "      <td>-498.767484</td>\n",
       "      <td>8.096893</td>\n",
       "      <td>-500.827423</td>\n",
       "      <td>8.071056</td>\n",
       "      <td>-500.801673</td>\n",
       "      <td>4.905125</td>\n",
       "      <td>-499.828510</td>\n",
       "      <td>24.994862</td>\n",
       "      <td>-500.622559</td>\n",
       "    </tr>\n",
       "    <tr>\n",
       "      <th>3</th>\n",
       "      <td>2016-09-01 03:59:59</td>\n",
       "      <td>215.336236</td>\n",
       "      <td>12.006805</td>\n",
       "      <td>7.640000</td>\n",
       "      <td>0.863514</td>\n",
       "      <td>1399.618111</td>\n",
       "      <td>-498.863574</td>\n",
       "      <td>1397.440120</td>\n",
       "      <td>-499.211024</td>\n",
       "      <td>1400.129303</td>\n",
       "      <td>...</td>\n",
       "      <td>12.033091</td>\n",
       "      <td>-498.350935</td>\n",
       "      <td>8.074946</td>\n",
       "      <td>-499.474407</td>\n",
       "      <td>7.897085</td>\n",
       "      <td>-500.868509</td>\n",
       "      <td>4.931400</td>\n",
       "      <td>-499.963623</td>\n",
       "      <td>24.948919</td>\n",
       "      <td>-498.709987</td>\n",
       "    </tr>\n",
       "    <tr>\n",
       "      <th>4</th>\n",
       "      <td>2016-09-01 04:59:59</td>\n",
       "      <td>199.099327</td>\n",
       "      <td>10.682530</td>\n",
       "      <td>7.530000</td>\n",
       "      <td>0.805575</td>\n",
       "      <td>1401.268123</td>\n",
       "      <td>-500.808305</td>\n",
       "      <td>1398.128818</td>\n",
       "      <td>-499.504543</td>\n",
       "      <td>1402.172226</td>\n",
       "      <td>...</td>\n",
       "      <td>12.025367</td>\n",
       "      <td>-500.786497</td>\n",
       "      <td>8.054678</td>\n",
       "      <td>-500.397500</td>\n",
       "      <td>8.107890</td>\n",
       "      <td>-509.526725</td>\n",
       "      <td>4.957674</td>\n",
       "      <td>-500.360026</td>\n",
       "      <td>25.003331</td>\n",
       "      <td>-500.856333</td>\n",
       "    </tr>\n",
       "  </tbody>\n",
       "</table>\n",
       "<p>5 rows × 53 columns</p>\n",
       "</div>"
      ],
      "text/plain": [
       "                  date  primary_cleaner.input.sulfate  \\\n",
       "0  2016-09-01 00:59:59                     210.800909   \n",
       "1  2016-09-01 01:59:59                     215.392455   \n",
       "2  2016-09-01 02:59:59                     215.259946   \n",
       "3  2016-09-01 03:59:59                     215.336236   \n",
       "4  2016-09-01 04:59:59                     199.099327   \n",
       "\n",
       "   primary_cleaner.input.depressant  primary_cleaner.input.feed_size  \\\n",
       "0                         14.993118                         8.080000   \n",
       "1                         14.987471                         8.080000   \n",
       "2                         12.884934                         7.786667   \n",
       "3                         12.006805                         7.640000   \n",
       "4                         10.682530                         7.530000   \n",
       "\n",
       "   primary_cleaner.input.xanthate  primary_cleaner.state.floatbank8_a_air  \\\n",
       "0                        1.005021                             1398.981301   \n",
       "1                        0.990469                             1398.777912   \n",
       "2                        0.996043                             1398.493666   \n",
       "3                        0.863514                             1399.618111   \n",
       "4                        0.805575                             1401.268123   \n",
       "\n",
       "   primary_cleaner.state.floatbank8_a_level  \\\n",
       "0                               -500.225577   \n",
       "1                               -500.057435   \n",
       "2                               -500.868360   \n",
       "3                               -498.863574   \n",
       "4                               -500.808305   \n",
       "\n",
       "   primary_cleaner.state.floatbank8_b_air  \\\n",
       "0                             1399.144926   \n",
       "1                             1398.055362   \n",
       "2                             1398.860436   \n",
       "3                             1397.440120   \n",
       "4                             1398.128818   \n",
       "\n",
       "   primary_cleaner.state.floatbank8_b_level  \\\n",
       "0                               -499.919735   \n",
       "1                               -499.778182   \n",
       "2                               -499.764529   \n",
       "3                               -499.211024   \n",
       "4                               -499.504543   \n",
       "\n",
       "   primary_cleaner.state.floatbank8_c_air  ...  \\\n",
       "0                             1400.102998  ...   \n",
       "1                             1396.151033  ...   \n",
       "2                             1398.075709  ...   \n",
       "3                             1400.129303  ...   \n",
       "4                             1402.172226  ...   \n",
       "\n",
       "   secondary_cleaner.state.floatbank4_a_air  \\\n",
       "0                                 12.023554   \n",
       "1                                 12.058140   \n",
       "2                                 11.962366   \n",
       "3                                 12.033091   \n",
       "4                                 12.025367   \n",
       "\n",
       "   secondary_cleaner.state.floatbank4_a_level  \\\n",
       "0                                 -497.795834   \n",
       "1                                 -498.695773   \n",
       "2                                 -498.767484   \n",
       "3                                 -498.350935   \n",
       "4                                 -500.786497   \n",
       "\n",
       "   secondary_cleaner.state.floatbank4_b_air  \\\n",
       "0                                  8.016656   \n",
       "1                                  8.130979   \n",
       "2                                  8.096893   \n",
       "3                                  8.074946   \n",
       "4                                  8.054678   \n",
       "\n",
       "   secondary_cleaner.state.floatbank4_b_level  \\\n",
       "0                                 -501.289139   \n",
       "1                                 -499.634209   \n",
       "2                                 -500.827423   \n",
       "3                                 -499.474407   \n",
       "4                                 -500.397500   \n",
       "\n",
       "   secondary_cleaner.state.floatbank5_a_air  \\\n",
       "0                                  7.946562   \n",
       "1                                  7.958270   \n",
       "2                                  8.071056   \n",
       "3                                  7.897085   \n",
       "4                                  8.107890   \n",
       "\n",
       "   secondary_cleaner.state.floatbank5_a_level  \\\n",
       "0                                 -432.317850   \n",
       "1                                 -525.839648   \n",
       "2                                 -500.801673   \n",
       "3                                 -500.868509   \n",
       "4                                 -509.526725   \n",
       "\n",
       "   secondary_cleaner.state.floatbank5_b_air  \\\n",
       "0                                  4.872511   \n",
       "1                                  4.878850   \n",
       "2                                  4.905125   \n",
       "3                                  4.931400   \n",
       "4                                  4.957674   \n",
       "\n",
       "   secondary_cleaner.state.floatbank5_b_level  \\\n",
       "0                                 -500.037437   \n",
       "1                                 -500.162375   \n",
       "2                                 -499.828510   \n",
       "3                                 -499.963623   \n",
       "4                                 -500.360026   \n",
       "\n",
       "   secondary_cleaner.state.floatbank6_a_air  \\\n",
       "0                                 26.705889   \n",
       "1                                 25.019940   \n",
       "2                                 24.994862   \n",
       "3                                 24.948919   \n",
       "4                                 25.003331   \n",
       "\n",
       "   secondary_cleaner.state.floatbank6_a_level  \n",
       "0                                 -499.709414  \n",
       "1                                 -499.819438  \n",
       "2                                 -500.622559  \n",
       "3                                 -498.709987  \n",
       "4                                 -500.856333  \n",
       "\n",
       "[5 rows x 53 columns]"
      ]
     },
     "metadata": {},
     "output_type": "display_data"
    },
    {
     "name": "stdout",
     "output_type": "stream",
     "text": [
      "Кол-во строк: 5290\n",
      "Кол-во столбцов: 53\n",
      "......................................................................................................\n",
      "\n",
      "\n",
      "Общая:\n",
      "<class 'pandas.core.frame.DataFrame'>\n",
      "RangeIndex: 19439 entries, 0 to 19438\n",
      "Data columns (total 87 columns):\n",
      " #   Column                                              Non-Null Count  Dtype  \n",
      "---  ------                                              --------------  -----  \n",
      " 0   date                                                19439 non-null  object \n",
      " 1   final.output.concentrate_ag                         19438 non-null  float64\n",
      " 2   final.output.concentrate_pb                         19438 non-null  float64\n",
      " 3   final.output.concentrate_sol                        19228 non-null  float64\n",
      " 4   final.output.concentrate_au                         19439 non-null  float64\n",
      " 5   final.output.recovery                               19439 non-null  float64\n",
      " 6   final.output.tail_ag                                19438 non-null  float64\n",
      " 7   final.output.tail_pb                                19338 non-null  float64\n",
      " 8   final.output.tail_sol                               19433 non-null  float64\n",
      " 9   final.output.tail_au                                19439 non-null  float64\n",
      " 10  primary_cleaner.input.sulfate                       19415 non-null  float64\n",
      " 11  primary_cleaner.input.depressant                    19402 non-null  float64\n",
      " 12  primary_cleaner.input.feed_size                     19439 non-null  float64\n",
      " 13  primary_cleaner.input.xanthate                      19335 non-null  float64\n",
      " 14  primary_cleaner.output.concentrate_ag               19439 non-null  float64\n",
      " 15  primary_cleaner.output.concentrate_pb               19323 non-null  float64\n",
      " 16  primary_cleaner.output.concentrate_sol              19069 non-null  float64\n",
      " 17  primary_cleaner.output.concentrate_au               19439 non-null  float64\n",
      " 18  primary_cleaner.output.tail_ag                      19435 non-null  float64\n",
      " 19  primary_cleaner.output.tail_pb                      19418 non-null  float64\n",
      " 20  primary_cleaner.output.tail_sol                     19377 non-null  float64\n",
      " 21  primary_cleaner.output.tail_au                      19439 non-null  float64\n",
      " 22  primary_cleaner.state.floatbank8_a_air              19435 non-null  float64\n",
      " 23  primary_cleaner.state.floatbank8_a_level            19438 non-null  float64\n",
      " 24  primary_cleaner.state.floatbank8_b_air              19435 non-null  float64\n",
      " 25  primary_cleaner.state.floatbank8_b_level            19438 non-null  float64\n",
      " 26  primary_cleaner.state.floatbank8_c_air              19437 non-null  float64\n",
      " 27  primary_cleaner.state.floatbank8_c_level            19438 non-null  float64\n",
      " 28  primary_cleaner.state.floatbank8_d_air              19436 non-null  float64\n",
      " 29  primary_cleaner.state.floatbank8_d_level            19438 non-null  float64\n",
      " 30  rougher.calculation.sulfate_to_au_concentrate       19437 non-null  float64\n",
      " 31  rougher.calculation.floatbank10_sulfate_to_au_feed  19437 non-null  float64\n",
      " 32  rougher.calculation.floatbank11_sulfate_to_au_feed  19437 non-null  float64\n",
      " 33  rougher.calculation.au_pb_ratio                     19439 non-null  float64\n",
      " 34  rougher.input.feed_ag                               19439 non-null  float64\n",
      " 35  rougher.input.feed_pb                               19339 non-null  float64\n",
      " 36  rougher.input.feed_rate                             19428 non-null  float64\n",
      " 37  rougher.input.feed_size                             19294 non-null  float64\n",
      " 38  rougher.input.feed_sol                              19340 non-null  float64\n",
      " 39  rougher.input.feed_au                               19439 non-null  float64\n",
      " 40  rougher.input.floatbank10_sulfate                   19405 non-null  float64\n",
      " 41  rougher.input.floatbank10_xanthate                  19431 non-null  float64\n",
      " 42  rougher.input.floatbank11_sulfate                   19395 non-null  float64\n",
      " 43  rougher.input.floatbank11_xanthate                  18986 non-null  float64\n",
      " 44  rougher.output.concentrate_ag                       19439 non-null  float64\n",
      " 45  rougher.output.concentrate_pb                       19439 non-null  float64\n",
      " 46  rougher.output.concentrate_sol                      19416 non-null  float64\n",
      " 47  rougher.output.concentrate_au                       19439 non-null  float64\n",
      " 48  rougher.output.recovery                             19439 non-null  float64\n",
      " 49  rougher.output.tail_ag                              19438 non-null  float64\n",
      " 50  rougher.output.tail_pb                              19439 non-null  float64\n",
      " 51  rougher.output.tail_sol                             19439 non-null  float64\n",
      " 52  rougher.output.tail_au                              19439 non-null  float64\n",
      " 53  rougher.state.floatbank10_a_air                     19438 non-null  float64\n",
      " 54  rougher.state.floatbank10_a_level                   19438 non-null  float64\n",
      " 55  rougher.state.floatbank10_b_air                     19438 non-null  float64\n",
      " 56  rougher.state.floatbank10_b_level                   19438 non-null  float64\n",
      " 57  rougher.state.floatbank10_c_air                     19438 non-null  float64\n",
      " 58  rougher.state.floatbank10_c_level                   19438 non-null  float64\n",
      " 59  rougher.state.floatbank10_d_air                     19439 non-null  float64\n",
      " 60  rougher.state.floatbank10_d_level                   19439 non-null  float64\n",
      " 61  rougher.state.floatbank10_e_air                     19003 non-null  float64\n",
      " 62  rougher.state.floatbank10_e_level                   19439 non-null  float64\n",
      " 63  rougher.state.floatbank10_f_air                     19439 non-null  float64\n",
      " 64  rougher.state.floatbank10_f_level                   19439 non-null  float64\n",
      " 65  secondary_cleaner.output.tail_ag                    19437 non-null  float64\n",
      " 66  secondary_cleaner.output.tail_pb                    19427 non-null  float64\n",
      " 67  secondary_cleaner.output.tail_sol                   17691 non-null  float64\n",
      " 68  secondary_cleaner.output.tail_au                    19439 non-null  float64\n",
      " 69  secondary_cleaner.state.floatbank2_a_air            19219 non-null  float64\n",
      " 70  secondary_cleaner.state.floatbank2_a_level          19438 non-null  float64\n",
      " 71  secondary_cleaner.state.floatbank2_b_air            19416 non-null  float64\n",
      " 72  secondary_cleaner.state.floatbank2_b_level          19438 non-null  float64\n",
      " 73  secondary_cleaner.state.floatbank3_a_air            19426 non-null  float64\n",
      " 74  secondary_cleaner.state.floatbank3_a_level          19438 non-null  float64\n",
      " 75  secondary_cleaner.state.floatbank3_b_air            19438 non-null  float64\n",
      " 76  secondary_cleaner.state.floatbank3_b_level          19438 non-null  float64\n",
      " 77  secondary_cleaner.state.floatbank4_a_air            19433 non-null  float64\n",
      " 78  secondary_cleaner.state.floatbank4_a_level          19438 non-null  float64\n",
      " 79  secondary_cleaner.state.floatbank4_b_air            19438 non-null  float64\n",
      " 80  secondary_cleaner.state.floatbank4_b_level          19438 non-null  float64\n",
      " 81  secondary_cleaner.state.floatbank5_a_air            19438 non-null  float64\n",
      " 82  secondary_cleaner.state.floatbank5_a_level          19438 non-null  float64\n",
      " 83  secondary_cleaner.state.floatbank5_b_air            19438 non-null  float64\n",
      " 84  secondary_cleaner.state.floatbank5_b_level          19438 non-null  float64\n",
      " 85  secondary_cleaner.state.floatbank6_a_air            19437 non-null  float64\n",
      " 86  secondary_cleaner.state.floatbank6_a_level          19438 non-null  float64\n",
      "dtypes: float64(86), object(1)\n",
      "memory usage: 12.9+ MB\n"
     ]
    },
    {
     "data": {
      "text/plain": [
       "None"
      ]
     },
     "metadata": {},
     "output_type": "display_data"
    },
    {
     "data": {
      "text/html": [
       "<div>\n",
       "<style scoped>\n",
       "    .dataframe tbody tr th:only-of-type {\n",
       "        vertical-align: middle;\n",
       "    }\n",
       "\n",
       "    .dataframe tbody tr th {\n",
       "        vertical-align: top;\n",
       "    }\n",
       "\n",
       "    .dataframe thead th {\n",
       "        text-align: right;\n",
       "    }\n",
       "</style>\n",
       "<table border=\"1\" class=\"dataframe\">\n",
       "  <thead>\n",
       "    <tr style=\"text-align: right;\">\n",
       "      <th></th>\n",
       "      <th>date</th>\n",
       "      <th>final.output.concentrate_ag</th>\n",
       "      <th>final.output.concentrate_pb</th>\n",
       "      <th>final.output.concentrate_sol</th>\n",
       "      <th>final.output.concentrate_au</th>\n",
       "      <th>final.output.recovery</th>\n",
       "      <th>final.output.tail_ag</th>\n",
       "      <th>final.output.tail_pb</th>\n",
       "      <th>final.output.tail_sol</th>\n",
       "      <th>final.output.tail_au</th>\n",
       "      <th>...</th>\n",
       "      <th>secondary_cleaner.state.floatbank4_a_air</th>\n",
       "      <th>secondary_cleaner.state.floatbank4_a_level</th>\n",
       "      <th>secondary_cleaner.state.floatbank4_b_air</th>\n",
       "      <th>secondary_cleaner.state.floatbank4_b_level</th>\n",
       "      <th>secondary_cleaner.state.floatbank5_a_air</th>\n",
       "      <th>secondary_cleaner.state.floatbank5_a_level</th>\n",
       "      <th>secondary_cleaner.state.floatbank5_b_air</th>\n",
       "      <th>secondary_cleaner.state.floatbank5_b_level</th>\n",
       "      <th>secondary_cleaner.state.floatbank6_a_air</th>\n",
       "      <th>secondary_cleaner.state.floatbank6_a_level</th>\n",
       "    </tr>\n",
       "  </thead>\n",
       "  <tbody>\n",
       "    <tr>\n",
       "      <th>0</th>\n",
       "      <td>2016-01-15 00:00:00</td>\n",
       "      <td>6.055403</td>\n",
       "      <td>9.889648</td>\n",
       "      <td>5.507324</td>\n",
       "      <td>42.192020</td>\n",
       "      <td>70.541216</td>\n",
       "      <td>10.411962</td>\n",
       "      <td>0.895447</td>\n",
       "      <td>16.904297</td>\n",
       "      <td>2.143149</td>\n",
       "      <td>...</td>\n",
       "      <td>14.016835</td>\n",
       "      <td>-502.488007</td>\n",
       "      <td>12.099931</td>\n",
       "      <td>-504.715942</td>\n",
       "      <td>9.925633</td>\n",
       "      <td>-498.310211</td>\n",
       "      <td>8.079666</td>\n",
       "      <td>-500.470978</td>\n",
       "      <td>14.151341</td>\n",
       "      <td>-605.841980</td>\n",
       "    </tr>\n",
       "    <tr>\n",
       "      <th>1</th>\n",
       "      <td>2016-01-15 01:00:00</td>\n",
       "      <td>6.029369</td>\n",
       "      <td>9.968944</td>\n",
       "      <td>5.257781</td>\n",
       "      <td>42.701629</td>\n",
       "      <td>69.266198</td>\n",
       "      <td>10.462676</td>\n",
       "      <td>0.927452</td>\n",
       "      <td>16.634514</td>\n",
       "      <td>2.224930</td>\n",
       "      <td>...</td>\n",
       "      <td>13.992281</td>\n",
       "      <td>-505.503262</td>\n",
       "      <td>11.950531</td>\n",
       "      <td>-501.331529</td>\n",
       "      <td>10.039245</td>\n",
       "      <td>-500.169983</td>\n",
       "      <td>7.984757</td>\n",
       "      <td>-500.582168</td>\n",
       "      <td>13.998353</td>\n",
       "      <td>-599.787184</td>\n",
       "    </tr>\n",
       "    <tr>\n",
       "      <th>2</th>\n",
       "      <td>2016-01-15 02:00:00</td>\n",
       "      <td>6.055926</td>\n",
       "      <td>10.213995</td>\n",
       "      <td>5.383759</td>\n",
       "      <td>42.657501</td>\n",
       "      <td>68.116445</td>\n",
       "      <td>10.507046</td>\n",
       "      <td>0.953716</td>\n",
       "      <td>16.208849</td>\n",
       "      <td>2.257889</td>\n",
       "      <td>...</td>\n",
       "      <td>14.015015</td>\n",
       "      <td>-502.520901</td>\n",
       "      <td>11.912783</td>\n",
       "      <td>-501.133383</td>\n",
       "      <td>10.070913</td>\n",
       "      <td>-500.129135</td>\n",
       "      <td>8.013877</td>\n",
       "      <td>-500.517572</td>\n",
       "      <td>14.028663</td>\n",
       "      <td>-601.427363</td>\n",
       "    </tr>\n",
       "    <tr>\n",
       "      <th>3</th>\n",
       "      <td>2016-01-15 03:00:00</td>\n",
       "      <td>6.047977</td>\n",
       "      <td>9.977019</td>\n",
       "      <td>4.858634</td>\n",
       "      <td>42.689819</td>\n",
       "      <td>68.347543</td>\n",
       "      <td>10.422762</td>\n",
       "      <td>0.883763</td>\n",
       "      <td>16.532835</td>\n",
       "      <td>2.146849</td>\n",
       "      <td>...</td>\n",
       "      <td>14.036510</td>\n",
       "      <td>-500.857308</td>\n",
       "      <td>11.999550</td>\n",
       "      <td>-501.193686</td>\n",
       "      <td>9.970366</td>\n",
       "      <td>-499.201640</td>\n",
       "      <td>7.977324</td>\n",
       "      <td>-500.255908</td>\n",
       "      <td>14.005551</td>\n",
       "      <td>-599.996129</td>\n",
       "    </tr>\n",
       "    <tr>\n",
       "      <th>4</th>\n",
       "      <td>2016-01-15 04:00:00</td>\n",
       "      <td>6.148599</td>\n",
       "      <td>10.142511</td>\n",
       "      <td>4.939416</td>\n",
       "      <td>42.774141</td>\n",
       "      <td>66.927016</td>\n",
       "      <td>10.360302</td>\n",
       "      <td>0.792826</td>\n",
       "      <td>16.525686</td>\n",
       "      <td>2.055292</td>\n",
       "      <td>...</td>\n",
       "      <td>14.027298</td>\n",
       "      <td>-499.838632</td>\n",
       "      <td>11.953070</td>\n",
       "      <td>-501.053894</td>\n",
       "      <td>9.925709</td>\n",
       "      <td>-501.686727</td>\n",
       "      <td>7.894242</td>\n",
       "      <td>-500.356035</td>\n",
       "      <td>13.996647</td>\n",
       "      <td>-601.496691</td>\n",
       "    </tr>\n",
       "  </tbody>\n",
       "</table>\n",
       "<p>5 rows × 87 columns</p>\n",
       "</div>"
      ],
      "text/plain": [
       "                  date  final.output.concentrate_ag  \\\n",
       "0  2016-01-15 00:00:00                     6.055403   \n",
       "1  2016-01-15 01:00:00                     6.029369   \n",
       "2  2016-01-15 02:00:00                     6.055926   \n",
       "3  2016-01-15 03:00:00                     6.047977   \n",
       "4  2016-01-15 04:00:00                     6.148599   \n",
       "\n",
       "   final.output.concentrate_pb  final.output.concentrate_sol  \\\n",
       "0                     9.889648                      5.507324   \n",
       "1                     9.968944                      5.257781   \n",
       "2                    10.213995                      5.383759   \n",
       "3                     9.977019                      4.858634   \n",
       "4                    10.142511                      4.939416   \n",
       "\n",
       "   final.output.concentrate_au  final.output.recovery  final.output.tail_ag  \\\n",
       "0                    42.192020              70.541216             10.411962   \n",
       "1                    42.701629              69.266198             10.462676   \n",
       "2                    42.657501              68.116445             10.507046   \n",
       "3                    42.689819              68.347543             10.422762   \n",
       "4                    42.774141              66.927016             10.360302   \n",
       "\n",
       "   final.output.tail_pb  final.output.tail_sol  final.output.tail_au  ...  \\\n",
       "0              0.895447              16.904297              2.143149  ...   \n",
       "1              0.927452              16.634514              2.224930  ...   \n",
       "2              0.953716              16.208849              2.257889  ...   \n",
       "3              0.883763              16.532835              2.146849  ...   \n",
       "4              0.792826              16.525686              2.055292  ...   \n",
       "\n",
       "   secondary_cleaner.state.floatbank4_a_air  \\\n",
       "0                                 14.016835   \n",
       "1                                 13.992281   \n",
       "2                                 14.015015   \n",
       "3                                 14.036510   \n",
       "4                                 14.027298   \n",
       "\n",
       "   secondary_cleaner.state.floatbank4_a_level  \\\n",
       "0                                 -502.488007   \n",
       "1                                 -505.503262   \n",
       "2                                 -502.520901   \n",
       "3                                 -500.857308   \n",
       "4                                 -499.838632   \n",
       "\n",
       "   secondary_cleaner.state.floatbank4_b_air  \\\n",
       "0                                 12.099931   \n",
       "1                                 11.950531   \n",
       "2                                 11.912783   \n",
       "3                                 11.999550   \n",
       "4                                 11.953070   \n",
       "\n",
       "   secondary_cleaner.state.floatbank4_b_level  \\\n",
       "0                                 -504.715942   \n",
       "1                                 -501.331529   \n",
       "2                                 -501.133383   \n",
       "3                                 -501.193686   \n",
       "4                                 -501.053894   \n",
       "\n",
       "   secondary_cleaner.state.floatbank5_a_air  \\\n",
       "0                                  9.925633   \n",
       "1                                 10.039245   \n",
       "2                                 10.070913   \n",
       "3                                  9.970366   \n",
       "4                                  9.925709   \n",
       "\n",
       "   secondary_cleaner.state.floatbank5_a_level  \\\n",
       "0                                 -498.310211   \n",
       "1                                 -500.169983   \n",
       "2                                 -500.129135   \n",
       "3                                 -499.201640   \n",
       "4                                 -501.686727   \n",
       "\n",
       "   secondary_cleaner.state.floatbank5_b_air  \\\n",
       "0                                  8.079666   \n",
       "1                                  7.984757   \n",
       "2                                  8.013877   \n",
       "3                                  7.977324   \n",
       "4                                  7.894242   \n",
       "\n",
       "   secondary_cleaner.state.floatbank5_b_level  \\\n",
       "0                                 -500.470978   \n",
       "1                                 -500.582168   \n",
       "2                                 -500.517572   \n",
       "3                                 -500.255908   \n",
       "4                                 -500.356035   \n",
       "\n",
       "   secondary_cleaner.state.floatbank6_a_air  \\\n",
       "0                                 14.151341   \n",
       "1                                 13.998353   \n",
       "2                                 14.028663   \n",
       "3                                 14.005551   \n",
       "4                                 13.996647   \n",
       "\n",
       "   secondary_cleaner.state.floatbank6_a_level  \n",
       "0                                 -605.841980  \n",
       "1                                 -599.787184  \n",
       "2                                 -601.427363  \n",
       "3                                 -599.996129  \n",
       "4                                 -601.496691  \n",
       "\n",
       "[5 rows x 87 columns]"
      ]
     },
     "metadata": {},
     "output_type": "display_data"
    },
    {
     "name": "stdout",
     "output_type": "stream",
     "text": [
      "Кол-во строк: 19439\n",
      "Кол-во столбцов: 87\n",
      "......................................................................................................\n",
      "\n",
      "\n"
     ]
    }
   ],
   "source": [
    "for df in dfs:\n",
    "    print(df.name + ':')\n",
    "    display(df.info())\n",
    "    display(df.head())\n",
    "    print('Кол-во строк: {}\\nКол-во столбцов: {}'.format(df.shape[0], df.shape[1]))\n",
    "    print('......................................................................................................')\n",
    "    print('\\n')"
   ]
  },
  {
   "cell_type": "markdown",
   "metadata": {},
   "source": [
    "<b> В данных столбец date имеет не верный тип"
   ]
  },
  {
   "cell_type": "markdown",
   "metadata": {},
   "source": [
    "#### Поиск дубликатов"
   ]
  },
  {
   "cell_type": "code",
   "execution_count": 4,
   "metadata": {
    "scrolled": true
   },
   "outputs": [
    {
     "name": "stdout",
     "output_type": "stream",
     "text": [
      "Количество дубликатов:\n",
      "- датафрейм \"Тренировочная выборка\": 0 шт.\n",
      "- датафрейм \"Тестовая выборка\": 0 шт.\n",
      "- датафрейм \"Общая\": 0 шт.\n"
     ]
    }
   ],
   "source": [
    "print('Количество дубликатов:')\n",
    "for df in dfs:\n",
    "    print('- датафрейм \"{}\": {} шт.'.format(df.name, len(df[df.duplicated('date')])))"
   ]
  },
  {
   "cell_type": "markdown",
   "metadata": {},
   "source": [
    "#### Корректировка типа данных столбца data"
   ]
  },
  {
   "cell_type": "markdown",
   "metadata": {},
   "source": [
    "<b>Приведем data к типу datetime64 и отсортируем по возрастанию"
   ]
  },
  {
   "cell_type": "code",
   "execution_count": 5,
   "metadata": {},
   "outputs": [
    {
     "name": "stdout",
     "output_type": "stream",
     "text": [
      "Тип данных столбца \"date\":\n",
      " - датафрейм \"Тренировочная выборка\": datetime64[ns]\n",
      " - датафрейм \"Тестовая выборка\": datetime64[ns]\n",
      " - датафрейм \"Общая\": datetime64[ns]\n"
     ]
    }
   ],
   "source": [
    "print('Тип данных столбца \"date\":')\n",
    "for df in dfs:\n",
    "    df['date'] = pd.to_datetime(df['date'], format='%Y-%m-%d %H:%M:%S')\n",
    "    name = df.name\n",
    "    df.sort_values(by='date', inplace=True)\n",
    "    df.name = name\n",
    "    print(' - датафрейм \"{}\": {}'.format(df.name, df.dtypes['date']))"
   ]
  },
  {
   "cell_type": "markdown",
   "metadata": {},
   "source": [
    "#### Назначим столбец data в качестве индексного"
   ]
  },
  {
   "cell_type": "code",
   "execution_count": 6,
   "metadata": {},
   "outputs": [],
   "source": [
    "for df in dfs:\n",
    "    name = df.name\n",
    "    df.set_index(keys='date', inplace=True)\n",
    "    df.name = name"
   ]
  },
  {
   "cell_type": "markdown",
   "metadata": {},
   "source": [
    "### Проверка рассчета правильности значений эффективности обогащения"
   ]
  },
  {
   "cell_type": "markdown",
   "metadata": {},
   "source": [
    "<b> Вычислим эффективность обогащения на обучающей выборке для признака rougher.output.recovery.\n",
    "\n",
    "Найдем среднюю абсолютную ошибку (MAE) и коэффициент детерминации (R2) между расчётами и значениями признака rougher.output.recovery."
   ]
  },
  {
   "cell_type": "code",
   "execution_count": 7,
   "metadata": {},
   "outputs": [
    {
     "name": "stdout",
     "output_type": "stream",
     "text": [
      "Средняя абсолютная ошибка (MAE) признака \"rougher.output.recovery\": 0.0000\n",
      "Коэффициент детерминации (R2) признака \"rougher.output.recovery\": 100.00%\n"
     ]
    }
   ],
   "source": [
    "C = tr['rougher.output.concentrate_au'] #доля золота в концентрате после флотации/очистки;\n",
    "F = tr['rougher.input.feed_au'] #доля золота в сырье/концентрате до флотации/очистки;\n",
    "T =tr['rougher.output.tail_au'] #доля золота в отвальных хвостах после флотации/очистки.\n",
    "\n",
    "tr['rougher.output.recovery_check'] = ( (C*(F - T)) / (F*(C - T)) ) * 100 #столбец для проверки\n",
    "m_r_t = mean_absolute_error(tr['rougher.output.recovery'], tr['rougher.output.recovery_check'])\n",
    "r2 = r2_score(tr['rougher.output.recovery'], tr['rougher.output.recovery_check']) \n",
    "print('Средняя абсолютная ошибка (MAE) признака \"rougher.output.recovery\": {:.4f}'.format(m_r_t))\n",
    "print('Коэффициент детерминации (R2) признака \"rougher.output.recovery\": {:.2%}'.format(r2))\n",
    "\n",
    "tr.drop('rougher.output.recovery_check', axis=1, inplace=True) #удаление служебного столбца \"rougher.output.recovery_check\""
   ]
  },
  {
   "cell_type": "markdown",
   "metadata": {},
   "source": [
    "<b> ВЫВОДЫ\n",
    "    \n",
    "В результате анализа, можем утверждать, что эффективность обогащения рассчитана верно"
   ]
  },
  {
   "cell_type": "markdown",
   "metadata": {},
   "source": [
    "### Анализ признаков, недоступных в тестовой выборке.\n",
    "Что это за параметры? К какому типу относятся?"
   ]
  },
  {
   "cell_type": "code",
   "execution_count": 8,
   "metadata": {},
   "outputs": [
    {
     "name": "stdout",
     "output_type": "stream",
     "text": [
      "34\n"
     ]
    },
    {
     "data": {
      "text/plain": [
       "['final.output.concentrate_ag',\n",
       " 'final.output.concentrate_pb',\n",
       " 'final.output.concentrate_sol',\n",
       " 'final.output.concentrate_au',\n",
       " 'final.output.recovery',\n",
       " 'final.output.tail_ag',\n",
       " 'final.output.tail_pb',\n",
       " 'final.output.tail_sol',\n",
       " 'final.output.tail_au',\n",
       " 'primary_cleaner.output.concentrate_ag',\n",
       " 'primary_cleaner.output.concentrate_pb',\n",
       " 'primary_cleaner.output.concentrate_sol',\n",
       " 'primary_cleaner.output.concentrate_au',\n",
       " 'primary_cleaner.output.tail_ag',\n",
       " 'primary_cleaner.output.tail_pb',\n",
       " 'primary_cleaner.output.tail_sol',\n",
       " 'primary_cleaner.output.tail_au',\n",
       " 'rougher.calculation.sulfate_to_au_concentrate',\n",
       " 'rougher.calculation.floatbank10_sulfate_to_au_feed',\n",
       " 'rougher.calculation.floatbank11_sulfate_to_au_feed',\n",
       " 'rougher.calculation.au_pb_ratio',\n",
       " 'rougher.output.concentrate_ag',\n",
       " 'rougher.output.concentrate_pb',\n",
       " 'rougher.output.concentrate_sol',\n",
       " 'rougher.output.concentrate_au',\n",
       " 'rougher.output.recovery',\n",
       " 'rougher.output.tail_ag',\n",
       " 'rougher.output.tail_pb',\n",
       " 'rougher.output.tail_sol',\n",
       " 'rougher.output.tail_au',\n",
       " 'secondary_cleaner.output.tail_ag',\n",
       " 'secondary_cleaner.output.tail_pb',\n",
       " 'secondary_cleaner.output.tail_sol',\n",
       " 'secondary_cleaner.output.tail_au']"
      ]
     },
     "execution_count": 8,
     "metadata": {},
     "output_type": "execute_result"
    }
   ],
   "source": [
    "col = [col for col in f.columns if col not in t.columns]\n",
    "print(len(col))\n",
    "col"
   ]
  },
  {
   "cell_type": "markdown",
   "metadata": {},
   "source": [
    "<b> В тестовой выборке отсутствуют 34 столбца. В основном отсутствующие признаки это \"отвальные хвосты\" (tail) и концентраты (concentrate). Данные параметры недоступны, т.к. измеряются и/или рассчитываются позже, поэтому в тестовой выборке отсутствуют, но могут быть в обучающей. В тестовой выборке недоступны некоторые расчетные (calculation) и выходные (output) характеристики процесса, т.к. их невозможно получить/измерить во время выполнения технологического процесса.\n",
    "\n",
    "Для того, чтобы обучить модель, необходимо, чтобы количество признаков (features) в тестовой выборке совпадало с количеством признаков (features) в обучающей, что приведем в соответствие в дальнейшем."
   ]
  },
  {
   "cell_type": "markdown",
   "metadata": {},
   "source": [
    "### Предобработка"
   ]
  },
  {
   "cell_type": "markdown",
   "metadata": {},
   "source": [
    "#### Анализ пропусков"
   ]
  },
  {
   "cell_type": "code",
   "execution_count": 9,
   "metadata": {},
   "outputs": [],
   "source": [
    "def missing_data(data):\n",
    "    print('Датафрейм \"{}\"'.format(df.name))\n",
    "    total = df.isnull().sum().sort_values(ascending = False).loc[df.isna().sum() > 0]\n",
    "    percent = (df.isnull().sum()/df.isnull().count()*100).sort_values(ascending = False).loc[df.isna().sum() > 0].round(2)\n",
    "    print(pd.concat([total, percent], axis=1, keys=['шт.', '%']))\n",
    "    print('\\n')"
   ]
  },
  {
   "cell_type": "markdown",
   "metadata": {},
   "source": [
    "<b> Кол-во пропусков"
   ]
  },
  {
   "cell_type": "code",
   "execution_count": 10,
   "metadata": {},
   "outputs": [
    {
     "name": "stdout",
     "output_type": "stream",
     "text": [
      "Датафрейм \"Тренировочная выборка\"\n",
      "                                                шт.      %\n",
      "secondary_cleaner.output.tail_sol              1605  11.34\n",
      "rougher.state.floatbank10_e_air                 436   3.08\n",
      "rougher.input.floatbank11_xanthate              428   3.02\n",
      "primary_cleaner.output.concentrate_sol          286   2.02\n",
      "secondary_cleaner.state.floatbank2_a_air        217   1.53\n",
      "...                                             ...    ...\n",
      "primary_cleaner.state.floatbank8_a_level          1   0.01\n",
      "final.output.concentrate_pb                       1   0.01\n",
      "primary_cleaner.output.tail_ag                    1   0.01\n",
      "rougher.calculation.sulfate_to_au_concentrate     1   0.01\n",
      "rougher.output.tail_ag                            1   0.01\n",
      "\n",
      "[62 rows x 2 columns]\n",
      "\n",
      "\n",
      "Датафрейм \"Тестовая выборка\"\n",
      "                                          шт.     %\n",
      "rougher.input.floatbank11_xanthate         25  0.47\n",
      "rougher.input.feed_sol                     21  0.40\n",
      "secondary_cleaner.state.floatbank3_a_air    9  0.17\n",
      "rougher.input.floatbank11_sulfate           8  0.15\n",
      "primary_cleaner.input.depressant            5  0.09\n",
      "rougher.input.floatbank10_sulfate           5  0.09\n",
      "primary_cleaner.input.sulfate               4  0.08\n",
      "primary_cleaner.input.xanthate              4  0.08\n",
      "rougher.input.feed_rate                     3  0.06\n",
      "secondary_cleaner.state.floatbank2_a_air    3  0.06\n",
      "secondary_cleaner.state.floatbank2_b_air    2  0.04\n",
      "rougher.input.feed_size                     1  0.02\n",
      "\n",
      "\n",
      "Датафрейм \"Общая\"\n",
      "                                           шт.     %\n",
      "secondary_cleaner.output.tail_sol         1748  8.99\n",
      "rougher.input.floatbank11_xanthate         453  2.33\n",
      "rougher.state.floatbank10_e_air            436  2.24\n",
      "primary_cleaner.output.concentrate_sol     370  1.90\n",
      "secondary_cleaner.state.floatbank2_a_air   220  1.13\n",
      "...                                        ...   ...\n",
      "primary_cleaner.state.floatbank8_c_level     1  0.01\n",
      "primary_cleaner.state.floatbank8_b_level     1  0.01\n",
      "primary_cleaner.state.floatbank8_a_level     1  0.01\n",
      "rougher.state.floatbank10_a_air              1  0.01\n",
      "final.output.tail_ag                         1  0.01\n",
      "\n",
      "[63 rows x 2 columns]\n",
      "\n",
      "\n"
     ]
    }
   ],
   "source": [
    "for df in dfs:\n",
    "    missing_data(df)"
   ]
  },
  {
   "cell_type": "markdown",
   "metadata": {},
   "source": [
    "<b> Выводы\n",
    "\n",
    "Наибольшее количество пропусков находится в значении отвалов после вторичной очистки продукта (secondary_cleaner.output.tail_sol)"
   ]
  },
  {
   "cell_type": "markdown",
   "metadata": {},
   "source": [
    "#### Предобработка нецелевых признаков\n",
    "\n",
    "Данные индексируются временем получения информации (date). \n",
    "Соседние по времени параметры должны быть похожи, поэтому мы можем обработать пропуски с помощью метода .fillna(method='ffill')"
   ]
  },
  {
   "cell_type": "markdown",
   "metadata": {},
   "source": [
    "<b> Определим переменные targets и features, в которых будут содержаться целевые и нецелевые признаки"
   ]
  },
  {
   "cell_type": "code",
   "execution_count": 11,
   "metadata": {},
   "outputs": [],
   "source": [
    "targ = ['rougher.output.recovery', 'final.output.recovery']\n",
    "feat = [column for column in f.columns if column not in ['rougher.output.recovery', 'final.output.recovery']]"
   ]
  },
  {
   "cell_type": "code",
   "execution_count": 12,
   "metadata": {},
   "outputs": [
    {
     "name": "stdout",
     "output_type": "stream",
     "text": [
      "Датафрейм \"Тренировочная выборка\"\n",
      "                                                шт.      %\n",
      "secondary_cleaner.output.tail_sol              1605  11.34\n",
      "rougher.state.floatbank10_e_air                 436   3.08\n",
      "rougher.input.floatbank11_xanthate              428   3.02\n",
      "primary_cleaner.output.concentrate_sol          286   2.02\n",
      "secondary_cleaner.state.floatbank2_a_air        217   1.53\n",
      "...                                             ...    ...\n",
      "primary_cleaner.state.floatbank8_a_level          1   0.01\n",
      "final.output.concentrate_pb                       1   0.01\n",
      "primary_cleaner.output.tail_ag                    1   0.01\n",
      "rougher.calculation.sulfate_to_au_concentrate     1   0.01\n",
      "rougher.output.tail_ag                            1   0.01\n",
      "\n",
      "[62 rows x 2 columns]\n",
      "\n",
      "\n",
      "После обработки:\n",
      "Датафрейм \"Тренировочная выборка\"\n",
      "Empty DataFrame\n",
      "Columns: [шт., %]\n",
      "Index: []\n",
      "\n",
      "\n",
      "Датафрейм \"Тестовая выборка\"\n",
      "                                          шт.     %\n",
      "rougher.input.floatbank11_xanthate         25  0.47\n",
      "rougher.input.feed_sol                     21  0.40\n",
      "secondary_cleaner.state.floatbank3_a_air    9  0.17\n",
      "rougher.input.floatbank11_sulfate           8  0.15\n",
      "primary_cleaner.input.depressant            5  0.09\n",
      "rougher.input.floatbank10_sulfate           5  0.09\n",
      "primary_cleaner.input.sulfate               4  0.08\n",
      "primary_cleaner.input.xanthate              4  0.08\n",
      "rougher.input.feed_rate                     3  0.06\n",
      "secondary_cleaner.state.floatbank2_a_air    3  0.06\n",
      "secondary_cleaner.state.floatbank2_b_air    2  0.04\n",
      "rougher.input.feed_size                     1  0.02\n",
      "\n",
      "\n",
      "После обработки:\n",
      "Датафрейм \"Тестовая выборка\"\n",
      "Empty DataFrame\n",
      "Columns: [шт., %]\n",
      "Index: []\n",
      "\n",
      "\n",
      "Датафрейм \"Общая\"\n",
      "                                           шт.     %\n",
      "secondary_cleaner.output.tail_sol         1748  8.99\n",
      "rougher.input.floatbank11_xanthate         453  2.33\n",
      "rougher.state.floatbank10_e_air            436  2.24\n",
      "primary_cleaner.output.concentrate_sol     370  1.90\n",
      "secondary_cleaner.state.floatbank2_a_air   220  1.13\n",
      "...                                        ...   ...\n",
      "primary_cleaner.state.floatbank8_c_level     1  0.01\n",
      "primary_cleaner.state.floatbank8_b_level     1  0.01\n",
      "primary_cleaner.state.floatbank8_a_level     1  0.01\n",
      "rougher.state.floatbank10_a_air              1  0.01\n",
      "final.output.tail_ag                         1  0.01\n",
      "\n",
      "[63 rows x 2 columns]\n",
      "\n",
      "\n",
      "После обработки:\n",
      "Датафрейм \"Общая\"\n",
      "Empty DataFrame\n",
      "Columns: [шт., %]\n",
      "Index: []\n",
      "\n",
      "\n"
     ]
    }
   ],
   "source": [
    "for df in dfs:\n",
    "    missing_data(df)\n",
    "    name = df.name\n",
    "    feat = [column for column in df.columns if column not in targ]\n",
    "    df[feat] = df[feat].fillna(method='ffill', axis=0)\n",
    "    df.name = name\n",
    "    print('После обработки:')\n",
    "    missing_data(df)"
   ]
  },
  {
   "cell_type": "markdown",
   "metadata": {},
   "source": [
    "Все пропуски в нецелевых признаках (features) были заполнены. \n",
    "\n",
    "Стоит отметить, что тестовая выборка (test) не содержит целевые признаки (rougher.output.recovery и rougher.output.recovery)\n",
    "\n",
    "<b>Проверим количество пропусков в целевых признаках (targets)"
   ]
  },
  {
   "cell_type": "code",
   "execution_count": 13,
   "metadata": {},
   "outputs": [],
   "source": [
    "def nan_col_counts(data, column):\n",
    "    nan_counts = len(data.loc[data[column].isnull(), column])\n",
    "    print('Кол-во пропусков столбца \"{}\" в датафрейма \"{}\": {}'.format(column, data.name, nan_counts))"
   ]
  },
  {
   "cell_type": "markdown",
   "metadata": {},
   "source": [
    "<b> Проверим количество пропусков в целевых признаках у датафреймов train и full"
   ]
  },
  {
   "cell_type": "code",
   "execution_count": 14,
   "metadata": {},
   "outputs": [
    {
     "name": "stdout",
     "output_type": "stream",
     "text": [
      "Кол-во пропусков столбца \"rougher.output.recovery\" в датафрейма \"Тренировочная выборка\": 0\n",
      "Кол-во пропусков столбца \"final.output.recovery\" в датафрейма \"Тренировочная выборка\": 0\n",
      "Кол-во пропусков столбца \"rougher.output.recovery\" в датафрейма \"Общая\": 0\n",
      "Кол-во пропусков столбца \"final.output.recovery\" в датафрейма \"Общая\": 0\n"
     ]
    }
   ],
   "source": [
    "for df in [tr, f]:\n",
    "    for column in targ:\n",
    "        nan_col_counts(df, column)"
   ]
  },
  {
   "cell_type": "markdown",
   "metadata": {},
   "source": [
    "<b> После предобработки данных пропусков больше нет"
   ]
  },
  {
   "cell_type": "markdown",
   "metadata": {},
   "source": [
    "<b>ВЫВОДЫ ПО ЭТАПУ:\n",
    "- данные предобработаны;\n",
    "- дубликаты отсутствуют;\n",
    "- проверили рассчет правильности значений эффективности обогащения;\n",
    "- пропуски заполнены исходя из предположения, что данные по ближайшим по времени значениям сопоставимы.\n",
    "   "
   ]
  },
  {
   "cell_type": "markdown",
   "metadata": {},
   "source": [
    "## Анализ данных"
   ]
  },
  {
   "cell_type": "markdown",
   "metadata": {},
   "source": [
    "### Изменение концентрации металлов (Au, Ag, Pb) на различных этапах очистки"
   ]
  },
  {
   "cell_type": "code",
   "execution_count": 15,
   "metadata": {},
   "outputs": [
    {
     "data": {
      "image/png": "[encoded data removed]",
      "text/plain": [
       "<Figure size 1440x720 with 3 Axes>"
      ]
     },
     "metadata": {
      "needs_background": "light"
     },
     "output_type": "display_data"
    }
   ],
   "source": [
    "met = ['au', 'ag', 'pb']\n",
    "stg = ['rougher.output.concentrate', 'primary_cleaner.output.concentrate', 'final.output.concentrate']\n",
    "fig = plt.figure(figsize=(20, 10))\n",
    "fig.suptitle('Тренировочная выборка',  fontsize=25)\n",
    "\n",
    "rows = 1\n",
    "cols = 3\n",
    "counter = 1\n",
    "for metal in met:\n",
    "    ax = plt.subplot(rows, cols, counter)\n",
    "    plt.xlabel('Значение признака', fontsize=20)\n",
    "    plt.ylabel('Объем', fontsize=20)\n",
    "    ax.set_title(metal, fontsize=20)\n",
    "    for stage in stg:\n",
    "        tr[stage + '_' + metal].hist(bins=100, alpha=0.5, label=(stage))\n",
    "    plt.legend(loc='upper left', fontsize=12)\n",
    "    counter += 1\n",
    "plt.show()"
   ]
  },
  {
   "cell_type": "markdown",
   "metadata": {},
   "source": [
    "<b> ВЫВОД </b>\n",
    "\n",
    "Изменение концентрации металлов (Au, Ag, Pb) следующая:\n",
    " - с очисткой концентрация золота (Au) значительно увеличивается;\n",
    " - концентрация серебра (Ag) снижается с каждым этапом;\n",
    " - концентрация свинца (Pb) с каждым этапом не значительно увеличивается."
   ]
  },
  {
   "cell_type": "markdown",
   "metadata": {},
   "source": [
    "### Сравните распределения размеров гранул сырья на обучающей и тестовой выборках"
   ]
  },
  {
   "cell_type": "code",
   "execution_count": 16,
   "metadata": {},
   "outputs": [
    {
     "data": {
      "image/png": "[encoded data removed]",
      "text/plain": [
       "<Figure size 1296x720 with 1 Axes>"
      ]
     },
     "metadata": {
      "needs_background": "light"
     },
     "output_type": "display_data"
    }
   ],
   "source": [
    "fig = plt.figure(figsize=(18, 10))\n",
    "fig.suptitle('Распределение гранул сырья',  fontsize=20)\n",
    "plt.xlabel('Значение', fontsize=18)\n",
    "plt.ylabel('Плотность', fontsize=18)\n",
    "tr['rougher.input.feed_size'].hist(bins=100, density=True, alpha=0.5, label='Тренировочная')\n",
    "t['rougher.input.feed_size'].hist(bins=100, density=True, alpha=0.5, label='Тестовая')\n",
    "plt.legend(loc='upper right', fontsize=15)\n",
    "plt.show()"
   ]
  },
  {
   "cell_type": "markdown",
   "metadata": {},
   "source": [
    "<b> ВЫВОД</b>\n",
    "\n",
    "Значения размеров гранул сырья на обучающей и тестовой выборках близки."
   ]
  },
  {
   "cell_type": "markdown",
   "metadata": {},
   "source": [
    "### Исследование суммарной концентрации всех веществ на разных стадиях: в сырье, в черновом и финальном концентратах"
   ]
  },
  {
   "cell_type": "code",
   "execution_count": 17,
   "metadata": {},
   "outputs": [],
   "source": [
    "for df in [f, tr]:\n",
    "    for st in stg:\n",
    "        df[(st + '_total_metals')] = (\n",
    "            df[st + '_au'] + df[st + '_ag'] + \n",
    "            df[st + '_pb'] + df[st + '_sol'])"
   ]
  },
  {
   "cell_type": "code",
   "execution_count": 18,
   "metadata": {
    "scrolled": true
   },
   "outputs": [
    {
     "data": {
      "image/png": "[encoded data removed]",
      "text/plain": [
       "<Figure size 1800x720 with 2 Axes>"
      ]
     },
     "metadata": {
      "needs_background": "light"
     },
     "output_type": "display_data"
    }
   ],
   "source": [
    "fig = plt.figure(figsize=(25, 10))\n",
    "fig.suptitle('Концентрация веществ на разных стадиях',  fontsize=25)\n",
    "\n",
    "rows = 1\n",
    "cols = 2\n",
    "counter = 1\n",
    "for df in [f, tr]:\n",
    "    ax = plt.subplot(rows, cols, counter)\n",
    "    ax.set_title(df.name, fontsize=18)    \n",
    "    plt.xlabel('Значение', fontsize=18)\n",
    "    plt.ylabel('Плотность', fontsize=18)\n",
    "    for st in stg:\n",
    "        df[st + '_total_metals'].hist(bins=100, alpha=0.5, label=(st))\n",
    "    plt.legend(loc='upper left', fontsize=13)\n",
    "    counter += 1\n",
    "plt.show()"
   ]
  },
  {
   "cell_type": "markdown",
   "metadata": {},
   "source": [
    "У датафреймов есть аномальные околонулевые значения, которые стоит удалить."
   ]
  },
  {
   "cell_type": "code",
   "execution_count": 19,
   "metadata": {},
   "outputs": [],
   "source": [
    "for df in [f, tr]:\n",
    "    df.drop(df[((\n",
    "        df['rougher.output.concentrate_total_metals'] < 1) | (df['primary_cleaner.output.concentrate_total_metals'] < 1) |\n",
    "    (df['final.output.concentrate_total_metals'] < 1))].index, inplace=True)"
   ]
  },
  {
   "cell_type": "markdown",
   "metadata": {},
   "source": [
    "<b> ВЫВОД</b>\n",
    "\n",
    "В общей и обучающей выборках было значительное количество аномальных нулевых значений. Чтобы данные значения не повлияли на качество дальнейшего обучения, строки с этими значениями были удалены"
   ]
  },
  {
   "cell_type": "markdown",
   "metadata": {},
   "source": [
    "## Модель"
   ]
  },
  {
   "cell_type": "markdown",
   "metadata": {},
   "source": [
    "### Подготовка функций"
   ]
  },
  {
   "cell_type": "markdown",
   "metadata": {},
   "source": [
    "#### Функция для вычисления sMAPE"
   ]
  },
  {
   "cell_type": "code",
   "execution_count": 20,
   "metadata": {},
   "outputs": [],
   "source": [
    "def smape(y_tr, y_pr, **kwargs):\n",
    "    return 100/len(y_tr) * np.sum(2 * np.abs(y_pr - y_tr) / (np.abs(y_tr) + np.abs(y_pr)))"
   ]
  },
  {
   "cell_type": "markdown",
   "metadata": {},
   "source": [
    "#### Функция для вычисления итоговой sMAPE"
   ]
  },
  {
   "cell_type": "markdown",
   "metadata": {},
   "source": [
    "<b> sMAPE считается по формуле: sMAPE_total = 25% sMAPE_rougher + 75% sMAPE_final"
   ]
  },
  {
   "cell_type": "code",
   "execution_count": 21,
   "metadata": {},
   "outputs": [],
   "source": [
    "def f_smape(smape_rougher, smape_final):\n",
    "    return 0.25*smape_rougher + 0.75*smape_final"
   ]
  },
  {
   "cell_type": "markdown",
   "metadata": {},
   "source": [
    "#### Присоединение целевых признаков"
   ]
  },
  {
   "cell_type": "markdown",
   "metadata": {},
   "source": [
    "т.к. условию задачи в тестовом наборе нет целевых признаков, присоединим целевые признаки (rougher.output.recovery, final.output.recovery) к тестовой выборке из общего датафрейма (f)"
   ]
  },
  {
   "cell_type": "code",
   "execution_count": 22,
   "metadata": {},
   "outputs": [],
   "source": [
    "t_name = t.name\n",
    "t = t.join(f[targ], how='left')\n",
    "t.name = t_name"
   ]
  },
  {
   "cell_type": "markdown",
   "metadata": {},
   "source": [
    "#### Создание функции для стандартизации данных"
   ]
  },
  {
   "cell_type": "markdown",
   "metadata": {},
   "source": [
    "Для облегчения обучения моделей, воспользуемся модулем Pipeline() для стандартизации данных и предсказания целевого признака на обработанных данных.\n",
    "Кросс-валидация будет заложена в GridSearch с помощью параметра cv=4 внутри функции."
   ]
  },
  {
   "cell_type": "code",
   "execution_count": 23,
   "metadata": {},
   "outputs": [],
   "source": [
    "def tun_model(model, param, name_reg):\n",
    "    scal = StandardScaler() #создание экземпляров класса стандартизатора и классификатора\n",
    "    steps = [('normalizer', scal), (name_reg, model)] #создание массива последовательности «шагов» конвейера\n",
    "    pipe = Pipeline(steps)\n",
    "    params = param #создание множества гипермараметров (для решающего дерева)\n",
    "    smape_sc = make_scorer(smape, greater_is_better=False)\n",
    "    #Укажем внутри `GridSearch` параметр кросс-валидации `cv` \n",
    "    grid_search = GridSearchCV(estimator=pipe, param_grid=params, scoring=smape_sc, cv=4)\n",
    "    return grid_search"
   ]
  },
  {
   "cell_type": "markdown",
   "metadata": {},
   "source": [
    "### Обучение разных моделей и оценка качества кросс-валидацией"
   ]
  },
  {
   "cell_type": "markdown",
   "metadata": {},
   "source": [
    "<b>Перед началом обучения, удалим признаки из обучающей выборки (tr), которых нет в тестовой (t)"
   ]
  },
  {
   "cell_type": "code",
   "execution_count": 24,
   "metadata": {},
   "outputs": [],
   "source": [
    "def df1_nin_df2(df1, df2):\n",
    "    count = 0\n",
    "    o_col = []\n",
    "    for column in df1.columns:\n",
    "        if column not in df2.columns: \n",
    "            o_col.append(column)\n",
    "            count +=1\n",
    "    c_col = \"Кол-во отсутствующих столбцов в тестовой выборке: {}\".format(count)\n",
    "    return (o_col, c_col)"
   ]
  },
  {
   "cell_type": "code",
   "execution_count": 25,
   "metadata": {},
   "outputs": [
    {
     "data": {
      "text/plain": [
       "'Кол-во отсутствующих столбцов в тестовой выборке: 0'"
      ]
     },
     "execution_count": 25,
     "metadata": {},
     "output_type": "execute_result"
    }
   ],
   "source": [
    "tr.drop(df1_nin_df2(tr, t)[0], axis=1, inplace=True)\n",
    "dfs = [tr, t, f]\n",
    "#Проверим результат\n",
    "df1_nin_df2(tr, t)[1]"
   ]
  },
  {
   "cell_type": "markdown",
   "metadata": {},
   "source": [
    "#### Разделим обучающую и тестовую выборки на целевые признаки (features), признак rougher.output.recovery (targ_rougher) и признак final.output.recovery (targ_final)."
   ]
  },
  {
   "cell_type": "code",
   "execution_count": 26,
   "metadata": {},
   "outputs": [],
   "source": [
    "features_tr = tr.drop(['rougher.output.recovery', 'final.output.recovery'], axis=1)\n",
    "targ_tr_rougher = pd.Series(tr['rougher.output.recovery'])\n",
    "targ_tr_final = pd.Series(tr['final.output.recovery'])\n",
    "\n",
    "features_t = t.drop(['rougher.output.recovery', 'final.output.recovery'], axis=1)\n",
    "targ_t_rougher = pd.Series(t['rougher.output.recovery'])\n",
    "targ_t_final = pd.Series(t['final.output.recovery'])"
   ]
  },
  {
   "cell_type": "markdown",
   "metadata": {},
   "source": [
    "#### Обучение модели для предсказания эффективности обогащения чернового концентрата (rougher.output.recovery)"
   ]
  },
  {
   "cell_type": "markdown",
   "metadata": {},
   "source": [
    "##### Модель линейной регрессии"
   ]
  },
  {
   "cell_type": "markdown",
   "metadata": {},
   "source": [
    "Обучим модель с помощью линейной регрессии"
   ]
  },
  {
   "cell_type": "code",
   "execution_count": 27,
   "metadata": {},
   "outputs": [
    {
     "name": "stdout",
     "output_type": "stream",
     "text": [
      "sMAPE модели линейной регрессии для эффективности обогащения чернового концентрата (rougher.output.recovery): 4.78%\n"
     ]
    }
   ],
   "source": [
    "rougher_linear = tun_model(\n",
    "    model=LinearRegression(),\n",
    "    param={'rougher_linear__fit_intercept': [True, False], 'rougher_linear__copy_X': [True, False]},\n",
    "    name_reg='rougher_linear')\n",
    "\n",
    "rougher_linear.fit(features_tr, targ_tr_rougher)\n",
    "predicted_t_rougher_lin = rougher_linear.predict(features_t)\n",
    "smape_rougher_lin = smape(targ_t_rougher, predicted_t_rougher_lin)\n",
    "print('sMAPE модели линейной регрессии для эффективности обогащения чернового концентрата (rougher.output.recovery): {:.2f}%'.format(smape_rougher_lin))"
   ]
  },
  {
   "cell_type": "markdown",
   "metadata": {},
   "source": [
    "##### Модель решающего дерева"
   ]
  },
  {
   "cell_type": "code",
   "execution_count": 28,
   "metadata": {},
   "outputs": [
    {
     "name": "stdout",
     "output_type": "stream",
     "text": [
      "sMAPE модели решающего дерева для эффективности обогащения чернового концентрата (rougher.output.recovery): 4.44%\n"
     ]
    }
   ],
   "source": [
    "rougher_tree = tun_model(\n",
    "    model=DecisionTreeRegressor(random_state=12345),\n",
    "    param={'rougher_tree__max_depth': np.arange(1, 21),'rougher_tree__min_samples_leaf': [1, 5, 10, 20, 50, 100]},\n",
    "    name_reg='rougher_tree')\n",
    "\n",
    "rougher_tree.fit(features_tr, targ_tr_rougher)\n",
    "predicted_t_rougher_tree = rougher_tree.predict(features_t)\n",
    "\n",
    "smape_rougher_tree = smape(targ_t_rougher, predicted_t_rougher_tree)\n",
    "print('sMAPE модели решающего дерева для эффективности обогащения чернового концентрата (rougher.output.recovery): {:.2f}%'.format(smape_rougher_tree))"
   ]
  },
  {
   "cell_type": "markdown",
   "metadata": {},
   "source": [
    "##### Модель Dummy"
   ]
  },
  {
   "cell_type": "code",
   "execution_count": 29,
   "metadata": {},
   "outputs": [
    {
     "name": "stdout",
     "output_type": "stream",
     "text": [
      "sMAPE модели DummyRegressor для эффективности обогащения чернового концентрата (rougher.output.recovery): 4.66%\n"
     ]
    }
   ],
   "source": [
    "rougher_dummy = DummyRegressor(strategy='median')\n",
    "rougher_dummy.fit(features_tr, targ_tr_rougher)\n",
    "predicted_t_r_dummy = rougher_dummy.predict(features_t)\n",
    "\n",
    "smape_rougher_dummy = smape(targ_t_rougher, predicted_t_r_dummy)\n",
    "\n",
    "print('sMAPE модели DummyRegressor для эффективности обогащения чернового концентрата (rougher.output.recovery): {:.2f}%'.format(smape_rougher_dummy))"
   ]
  },
  {
   "cell_type": "markdown",
   "metadata": {},
   "source": [
    "<b> Наилучший результат показала модель решающего дерева"
   ]
  },
  {
   "cell_type": "code",
   "execution_count": 30,
   "metadata": {},
   "outputs": [],
   "source": [
    "best_r_model = rougher_tree\n",
    "best_r_smape = smape_rougher_tree"
   ]
  },
  {
   "cell_type": "markdown",
   "metadata": {},
   "source": [
    "#### Обучение модели для предсказания эффективности обогащения финального концентрата (final.output.recovery)"
   ]
  },
  {
   "cell_type": "markdown",
   "metadata": {},
   "source": [
    "##### Модель линейной регрессии"
   ]
  },
  {
   "cell_type": "code",
   "execution_count": 31,
   "metadata": {},
   "outputs": [
    {
     "name": "stdout",
     "output_type": "stream",
     "text": [
      "sMAPE модели линейной регрессии для обогащения финального концентрата (final.output.recovery): 7.87%\n"
     ]
    }
   ],
   "source": [
    "final_linear = tun_model(\n",
    "    model=LinearRegression(),\n",
    "    param={'final_linear__fit_intercept': [True, False], 'final_linear__copy_X': [True, False]},\n",
    "    name_reg='final_linear')\n",
    "final_linear.fit(features_tr, targ_tr_final)\n",
    "predicted_t_f_lin = final_linear.predict(features_t)\n",
    "smape_final_lin = smape(targ_t_final, predicted_t_f_lin)\n",
    "print('sMAPE модели линейной регрессии для обогащения финального концентрата (final.output.recovery): {:.2f}%'.format(smape_final_lin))"
   ]
  },
  {
   "cell_type": "markdown",
   "metadata": {},
   "source": [
    "##### Модель решающего дерева"
   ]
  },
  {
   "cell_type": "code",
   "execution_count": 32,
   "metadata": {},
   "outputs": [
    {
     "name": "stdout",
     "output_type": "stream",
     "text": [
      "sMAPE модели решающего дерева для обогащения финального концентрата (final.output.recovery): 7.50%\n"
     ]
    }
   ],
   "source": [
    "final_tree = tun_model(\n",
    "    model=DecisionTreeRegressor(random_state=12345),\n",
    "    param={'final_tree__max_depth': np.arange(1, 21),'final_tree__min_samples_leaf': [1, 5, 10, 20, 50, 100]},\n",
    "    name_reg='final_tree')\n",
    "final_tree.fit(features_tr, targ_tr_final)\n",
    "predicted_t_f_tree = final_tree.predict(features_t)\n",
    "smape_final_tree = smape(targ_t_final, predicted_t_f_tree)\n",
    "print('sMAPE модели решающего дерева для обогащения финального концентрата (final.output.recovery): {:.2f}%'.format(smape_final_tree))"
   ]
  },
  {
   "cell_type": "markdown",
   "metadata": {},
   "source": [
    "##### Модель Dummy¶"
   ]
  },
  {
   "cell_type": "code",
   "execution_count": 33,
   "metadata": {},
   "outputs": [
    {
     "name": "stdout",
     "output_type": "stream",
     "text": [
      "sMAPE модели Dummy для обогащения финального концентрата (final.output.recovery): 7.97%\n"
     ]
    }
   ],
   "source": [
    "final_dummy = DummyRegressor(strategy='median')\n",
    "final_dummy.fit(features_tr, targ_tr_final)\n",
    "predicted_t_f_dummy = final_dummy.predict(features_t)\n",
    "smape_final_dummy = smape(targ_t_final, predicted_t_f_dummy)\n",
    "\n",
    "print('sMAPE модели Dummy для обогащения финального концентрата (final.output.recovery): {:.2f}%'.format(smape_final_dummy))"
   ]
  },
  {
   "cell_type": "markdown",
   "metadata": {},
   "source": [
    "<b> ВЫВОД\n",
    "\n",
    "    Как и на предыдущем этапе, лучшей моделью (т.е. с наименьшим значением sMAPE) стала модель Решающего дерева, её и будем использовать для итогового расчета sMAPE_total."
   ]
  },
  {
   "cell_type": "code",
   "execution_count": 34,
   "metadata": {},
   "outputs": [],
   "source": [
    "best_f_model = final_tree\n",
    "best_f_smape = smape_final_tree"
   ]
  },
  {
   "cell_type": "markdown",
   "metadata": {},
   "source": [
    "### Выбор лучшей модели и подсчет итогового значения sMAPE"
   ]
  },
  {
   "cell_type": "code",
   "execution_count": 35,
   "metadata": {},
   "outputs": [
    {
     "name": "stdout",
     "output_type": "stream",
     "text": [
      "Итоговое значение cимметричной средней абсолютной ошибки (sMAPE): 6.74%\n"
     ]
    }
   ],
   "source": [
    "print('Итоговое значение cимметричной средней абсолютной ошибки (sMAPE): {:.2f}%'.format(f_smape(best_r_smape, best_f_smape)))"
   ]
  },
  {
   "cell_type": "markdown",
   "metadata": {},
   "source": [
    "## Вывод\n",
    "В ходе проделанной работы удалось обучить модель с помощью алгоритма решающего дерева и добиться итогового качества модели (sMAPE_total) равное 9,06%.\n",
    "\n",
    "Исходные данные были достаточно объемными, имели пропуски и отсутствующие признаки, что потребовало соответствующей предобработки.\n",
    "\n",
    "Проверка метрики эффективности обогащения подтвердила правильность представленных данныхрассчитана верно\n",
    "\n",
    "В результате анализа данных:\n",
    " - подтвердилось утверждение, что на каждом этапе концентрация золота растет, а в хвостах количество золота падает;\n",
    " - распределение размеров гранул сырья в двух выборках (обучающей и тестовой) близки; \n",
    " - по остальным металлам четкого разделения нет.\n",
    "\n",
    "После обучения моделей для предсказания эффективности обогащения чернового концентрата (rougher.output.recovery) и эффективности обогащения финального концентрата (final.output.recovery), были получены лучшие результаты обучения на модели Решабщее дерево. \n",
    "\n",
    "В результате достигнуто Итоговое значение cимметричной средней абсолютной ошибки (sMAPE): 6.74% (что может быть досточерным значением, т.к. приближено к реальному диапазону 7-10%)."
   ]
  },
  {
   "cell_type": "code",
   "execution_count": null,
   "metadata": {},
   "outputs": [],
   "source": []
  }
 ],
 "metadata": {
  "ExecuteTimeLog": [
   {
    "duration": 50,
    "start_time": "2022-03-23T09:50:50.152Z"
   },
   {
    "duration": 6,
    "start_time": "2022-03-23T09:51:01.521Z"
   },
   {
    "duration": 401,
    "start_time": "2022-03-23T09:51:03.729Z"
   },
   {
    "duration": 93,
    "start_time": "2022-03-23T09:51:05.955Z"
   },
   {
    "duration": 671,
    "start_time": "2022-03-23T09:55:15.697Z"
   },
   {
    "duration": 98,
    "start_time": "2022-03-23T10:29:25.665Z"
   },
   {
    "duration": 677,
    "start_time": "2022-03-23T10:31:10.011Z"
   },
   {
    "duration": 94,
    "start_time": "2022-03-23T10:31:13.649Z"
   },
   {
    "duration": 638,
    "start_time": "2022-03-23T10:31:35.153Z"
   },
   {
    "duration": 93,
    "start_time": "2022-03-23T10:31:38.459Z"
   },
   {
    "duration": 83,
    "start_time": "2022-03-23T10:31:56.383Z"
   },
   {
    "duration": 134,
    "start_time": "2022-03-23T10:32:13.948Z"
   },
   {
    "duration": 90,
    "start_time": "2022-03-23T10:32:48.352Z"
   },
   {
    "duration": 95,
    "start_time": "2022-03-23T10:33:15.350Z"
   },
   {
    "duration": 95,
    "start_time": "2022-03-23T10:42:09.448Z"
   },
   {
    "duration": 30,
    "start_time": "2022-03-23T10:55:18.212Z"
   },
   {
    "duration": 50,
    "start_time": "2022-03-23T10:59:01.285Z"
   },
   {
    "duration": 31,
    "start_time": "2022-03-23T10:59:20.787Z"
   },
   {
    "duration": 40,
    "start_time": "2022-03-23T11:00:13.715Z"
   },
   {
    "duration": 64,
    "start_time": "2022-03-23T11:00:39.428Z"
   },
   {
    "duration": 31,
    "start_time": "2022-03-23T11:00:43.250Z"
   },
   {
    "duration": 30,
    "start_time": "2022-03-23T11:00:52.455Z"
   },
   {
    "duration": 30,
    "start_time": "2022-03-23T11:00:59.641Z"
   },
   {
    "duration": 8,
    "start_time": "2022-03-23T11:07:04.407Z"
   },
   {
    "duration": 13,
    "start_time": "2022-03-23T11:07:43.138Z"
   },
   {
    "duration": 12,
    "start_time": "2022-03-23T11:07:57.097Z"
   },
   {
    "duration": 14,
    "start_time": "2022-03-23T11:08:23.901Z"
   },
   {
    "duration": 363,
    "start_time": "2022-03-23T11:10:01.855Z"
   },
   {
    "duration": 661,
    "start_time": "2022-03-23T11:10:02.220Z"
   },
   {
    "duration": 107,
    "start_time": "2022-03-23T11:10:02.882Z"
   },
   {
    "duration": 15,
    "start_time": "2022-03-23T11:10:03.009Z"
   },
   {
    "duration": 26,
    "start_time": "2022-03-23T11:10:03.026Z"
   },
   {
    "duration": 5,
    "start_time": "2022-03-23T11:11:17.502Z"
   },
   {
    "duration": 1600,
    "start_time": "2022-03-23T11:11:19.697Z"
   },
   {
    "duration": 416,
    "start_time": "2022-03-23T11:12:58.809Z"
   },
   {
    "duration": 631,
    "start_time": "2022-03-23T11:12:59.228Z"
   },
   {
    "duration": 109,
    "start_time": "2022-03-23T11:12:59.860Z"
   },
   {
    "duration": 13,
    "start_time": "2022-03-23T11:12:59.971Z"
   },
   {
    "duration": 28,
    "start_time": "2022-03-23T11:13:00.009Z"
   },
   {
    "duration": 4,
    "start_time": "2022-03-23T11:13:00.039Z"
   },
   {
    "duration": 3,
    "start_time": "2022-03-23T11:14:02.246Z"
   },
   {
    "duration": 44,
    "start_time": "2022-03-23T11:14:04.410Z"
   },
   {
    "duration": 421,
    "start_time": "2022-03-23T11:19:19.511Z"
   },
   {
    "duration": 687,
    "start_time": "2022-03-23T11:19:19.934Z"
   },
   {
    "duration": 123,
    "start_time": "2022-03-23T11:19:20.623Z"
   },
   {
    "duration": 15,
    "start_time": "2022-03-23T11:19:20.748Z"
   },
   {
    "duration": 55,
    "start_time": "2022-03-23T11:19:20.765Z"
   },
   {
    "duration": 5,
    "start_time": "2022-03-23T11:19:20.822Z"
   },
   {
    "duration": 4,
    "start_time": "2022-03-23T11:21:18.730Z"
   },
   {
    "duration": 37,
    "start_time": "2022-03-23T11:21:19.413Z"
   },
   {
    "duration": 4,
    "start_time": "2022-03-23T11:25:02.027Z"
   },
   {
    "duration": 34,
    "start_time": "2022-03-23T11:25:07.049Z"
   },
   {
    "duration": 5,
    "start_time": "2022-03-23T11:26:15.725Z"
   },
   {
    "duration": 38,
    "start_time": "2022-03-23T11:26:16.067Z"
   },
   {
    "duration": 4,
    "start_time": "2022-03-23T11:29:16.071Z"
   },
   {
    "duration": 36,
    "start_time": "2022-03-23T11:29:17.965Z"
   },
   {
    "duration": 4,
    "start_time": "2022-03-23T11:31:42.445Z"
   },
   {
    "duration": 67,
    "start_time": "2022-03-23T11:31:44.318Z"
   },
   {
    "duration": 5,
    "start_time": "2022-03-23T13:25:04.507Z"
   },
   {
    "duration": 44,
    "start_time": "2022-03-23T13:25:06.084Z"
   },
   {
    "duration": 4,
    "start_time": "2022-03-23T13:26:10.689Z"
   },
   {
    "duration": 45,
    "start_time": "2022-03-23T13:26:12.812Z"
   },
   {
    "duration": 42,
    "start_time": "2022-03-23T13:27:01.736Z"
   },
   {
    "duration": 4,
    "start_time": "2022-03-23T13:27:10.644Z"
   },
   {
    "duration": 46,
    "start_time": "2022-03-23T13:27:11.262Z"
   },
   {
    "duration": 4,
    "start_time": "2022-03-23T13:27:25.237Z"
   },
   {
    "duration": 59,
    "start_time": "2022-03-23T13:27:28.722Z"
   },
   {
    "duration": 4,
    "start_time": "2022-03-23T13:30:18.370Z"
   },
   {
    "duration": 76,
    "start_time": "2022-03-23T13:30:18.821Z"
   },
   {
    "duration": 5,
    "start_time": "2022-03-23T13:30:26.743Z"
   },
   {
    "duration": 66,
    "start_time": "2022-03-23T13:30:28.400Z"
   },
   {
    "duration": 4,
    "start_time": "2022-03-23T13:38:08.196Z"
   },
   {
    "duration": 32,
    "start_time": "2022-03-23T13:38:08.456Z"
   },
   {
    "duration": 4,
    "start_time": "2022-03-23T13:38:28.990Z"
   },
   {
    "duration": 33,
    "start_time": "2022-03-23T13:38:29.449Z"
   },
   {
    "duration": 4,
    "start_time": "2022-03-23T13:38:41.192Z"
   },
   {
    "duration": 41,
    "start_time": "2022-03-23T13:38:41.617Z"
   },
   {
    "duration": 3,
    "start_time": "2022-03-23T13:39:14.786Z"
   },
   {
    "duration": 41,
    "start_time": "2022-03-23T13:39:16.946Z"
   },
   {
    "duration": 3,
    "start_time": "2022-03-23T13:39:28.116Z"
   },
   {
    "duration": 40,
    "start_time": "2022-03-23T13:39:29.659Z"
   },
   {
    "duration": 3,
    "start_time": "2022-03-23T13:40:14.554Z"
   },
   {
    "duration": 42,
    "start_time": "2022-03-23T13:40:14.777Z"
   },
   {
    "duration": 39,
    "start_time": "2022-03-23T13:41:27.826Z"
   },
   {
    "duration": 3,
    "start_time": "2022-03-23T13:41:35.691Z"
   },
   {
    "duration": 40,
    "start_time": "2022-03-23T13:41:37.432Z"
   },
   {
    "duration": 4,
    "start_time": "2022-03-23T13:41:43.968Z"
   },
   {
    "duration": 40,
    "start_time": "2022-03-23T13:41:45.474Z"
   },
   {
    "duration": 4,
    "start_time": "2022-03-23T13:42:32.847Z"
   },
   {
    "duration": 61,
    "start_time": "2022-03-23T13:42:33.346Z"
   },
   {
    "duration": 4,
    "start_time": "2022-03-23T13:42:48.894Z"
   },
   {
    "duration": 52,
    "start_time": "2022-03-23T13:42:49.437Z"
   },
   {
    "duration": 3,
    "start_time": "2022-03-23T13:43:08.384Z"
   },
   {
    "duration": 60,
    "start_time": "2022-03-23T13:43:08.797Z"
   },
   {
    "duration": 3,
    "start_time": "2022-03-23T13:43:21.584Z"
   },
   {
    "duration": 50,
    "start_time": "2022-03-23T13:43:24.048Z"
   },
   {
    "duration": 4,
    "start_time": "2022-03-23T13:43:40.607Z"
   },
   {
    "duration": 56,
    "start_time": "2022-03-23T13:43:41.246Z"
   },
   {
    "duration": 4,
    "start_time": "2022-03-23T13:44:30.038Z"
   },
   {
    "duration": 61,
    "start_time": "2022-03-23T13:44:30.564Z"
   },
   {
    "duration": 414,
    "start_time": "2022-03-23T13:46:00.108Z"
   },
   {
    "duration": 655,
    "start_time": "2022-03-23T13:46:00.524Z"
   },
   {
    "duration": 105,
    "start_time": "2022-03-23T13:46:01.181Z"
   },
   {
    "duration": 14,
    "start_time": "2022-03-23T13:46:01.309Z"
   },
   {
    "duration": 28,
    "start_time": "2022-03-23T13:46:01.325Z"
   },
   {
    "duration": 17,
    "start_time": "2022-03-23T13:46:01.355Z"
   },
   {
    "duration": 15,
    "start_time": "2022-03-23T13:46:01.374Z"
   },
   {
    "duration": 24,
    "start_time": "2022-03-23T13:46:01.391Z"
   },
   {
    "duration": 84,
    "start_time": "2022-03-23T13:46:01.417Z"
   },
   {
    "duration": 529,
    "start_time": "2022-03-23T18:34:28.653Z"
   },
   {
    "duration": 812,
    "start_time": "2022-03-23T18:34:29.185Z"
   },
   {
    "duration": 196,
    "start_time": "2022-03-23T18:34:29.999Z"
   },
   {
    "duration": 20,
    "start_time": "2022-03-23T18:34:30.198Z"
   },
   {
    "duration": 74,
    "start_time": "2022-03-23T18:34:30.220Z"
   },
   {
    "duration": 8,
    "start_time": "2022-03-23T18:34:30.296Z"
   },
   {
    "duration": 9,
    "start_time": "2022-03-23T18:34:30.306Z"
   },
   {
    "duration": 114,
    "start_time": "2022-03-23T18:34:30.317Z"
   },
   {
    "duration": 480,
    "start_time": "2022-03-23T18:39:23.328Z"
   },
   {
    "duration": 791,
    "start_time": "2022-03-23T18:39:23.811Z"
   },
   {
    "duration": 195,
    "start_time": "2022-03-23T18:39:24.605Z"
   },
   {
    "duration": 20,
    "start_time": "2022-03-23T18:39:24.805Z"
   },
   {
    "duration": 71,
    "start_time": "2022-03-23T18:39:24.828Z"
   },
   {
    "duration": 7,
    "start_time": "2022-03-23T18:39:24.901Z"
   },
   {
    "duration": 8,
    "start_time": "2022-03-23T18:39:24.910Z"
   },
   {
    "duration": 112,
    "start_time": "2022-03-23T18:39:24.920Z"
   },
   {
    "duration": 95,
    "start_time": "2022-03-23T18:48:35.092Z"
   },
   {
    "duration": 559,
    "start_time": "2022-03-23T18:48:44.862Z"
   },
   {
    "duration": 878,
    "start_time": "2022-03-23T18:48:45.425Z"
   },
   {
    "duration": 216,
    "start_time": "2022-03-23T18:48:46.305Z"
   },
   {
    "duration": 21,
    "start_time": "2022-03-23T18:48:46.523Z"
   },
   {
    "duration": 79,
    "start_time": "2022-03-23T18:48:46.547Z"
   },
   {
    "duration": 8,
    "start_time": "2022-03-23T18:48:46.628Z"
   },
   {
    "duration": 138,
    "start_time": "2022-03-23T18:48:46.639Z"
   },
   {
    "duration": 0,
    "start_time": "2022-03-23T18:48:46.782Z"
   },
   {
    "duration": 0,
    "start_time": "2022-03-23T18:48:46.785Z"
   },
   {
    "duration": 23,
    "start_time": "2022-03-23T18:54:41.071Z"
   },
   {
    "duration": 995,
    "start_time": "2022-03-23T18:55:52.631Z"
   },
   {
    "duration": 70,
    "start_time": "2022-03-23T18:56:01.323Z"
   },
   {
    "duration": 26,
    "start_time": "2022-03-23T18:56:24.872Z"
   },
   {
    "duration": 77,
    "start_time": "2022-03-24T07:59:38.979Z"
   },
   {
    "duration": 75,
    "start_time": "2022-03-24T12:00:17.429Z"
   },
   {
    "duration": 1785,
    "start_time": "2022-03-24T12:00:27.939Z"
   },
   {
    "duration": 961,
    "start_time": "2022-03-24T12:00:29.727Z"
   },
   {
    "duration": 232,
    "start_time": "2022-03-24T12:00:30.691Z"
   },
   {
    "duration": 47,
    "start_time": "2022-03-24T12:00:30.925Z"
   },
   {
    "duration": 53,
    "start_time": "2022-03-24T12:00:30.977Z"
   },
   {
    "duration": 37,
    "start_time": "2022-03-24T12:00:31.033Z"
   },
   {
    "duration": 38,
    "start_time": "2022-03-24T12:00:31.073Z"
   },
   {
    "duration": 187,
    "start_time": "2022-03-24T12:00:31.114Z"
   },
   {
    "duration": 0,
    "start_time": "2022-03-24T12:00:31.304Z"
   },
   {
    "duration": 0,
    "start_time": "2022-03-24T12:00:31.305Z"
   },
   {
    "duration": 8,
    "start_time": "2022-03-24T12:01:14.882Z"
   },
   {
    "duration": 7,
    "start_time": "2022-03-24T12:34:57.655Z"
   },
   {
    "duration": 5,
    "start_time": "2022-03-24T12:35:18.630Z"
   },
   {
    "duration": 8,
    "start_time": "2022-03-24T12:35:27.595Z"
   },
   {
    "duration": 7,
    "start_time": "2022-03-24T12:49:31.493Z"
   },
   {
    "duration": 113,
    "start_time": "2022-03-24T12:49:32.377Z"
   },
   {
    "duration": 134,
    "start_time": "2022-03-24T13:31:40.557Z"
   },
   {
    "duration": 133,
    "start_time": "2022-03-24T13:31:45.898Z"
   },
   {
    "duration": 6,
    "start_time": "2022-03-24T13:31:54.477Z"
   },
   {
    "duration": 76,
    "start_time": "2022-03-24T13:31:56.517Z"
   },
   {
    "duration": 17,
    "start_time": "2022-03-24T13:39:49.287Z"
   },
   {
    "duration": 11,
    "start_time": "2022-03-24T13:42:31.538Z"
   },
   {
    "duration": 4,
    "start_time": "2022-03-24T13:42:38.479Z"
   },
   {
    "duration": 37,
    "start_time": "2022-03-24T13:42:40.148Z"
   },
   {
    "duration": 186,
    "start_time": "2022-03-24T13:45:29.788Z"
   },
   {
    "duration": 5,
    "start_time": "2022-03-24T13:47:07.188Z"
   },
   {
    "duration": 100,
    "start_time": "2022-03-24T13:47:08.018Z"
   },
   {
    "duration": 1472,
    "start_time": "2022-03-24T13:48:14.130Z"
   },
   {
    "duration": 4444,
    "start_time": "2022-03-24T13:48:15.605Z"
   },
   {
    "duration": 179,
    "start_time": "2022-03-24T13:48:20.051Z"
   },
   {
    "duration": 47,
    "start_time": "2022-03-24T13:48:20.232Z"
   },
   {
    "duration": 47,
    "start_time": "2022-03-24T13:48:20.283Z"
   },
   {
    "duration": 38,
    "start_time": "2022-03-24T13:48:20.332Z"
   },
   {
    "duration": 34,
    "start_time": "2022-03-24T13:48:20.373Z"
   },
   {
    "duration": 8,
    "start_time": "2022-03-24T13:48:20.410Z"
   },
   {
    "duration": 10,
    "start_time": "2022-03-24T13:48:20.420Z"
   },
   {
    "duration": 104,
    "start_time": "2022-03-24T13:48:20.467Z"
   },
   {
    "duration": 4,
    "start_time": "2022-03-24T13:48:20.573Z"
   },
   {
    "duration": 9,
    "start_time": "2022-03-24T13:48:20.580Z"
   },
   {
    "duration": 145,
    "start_time": "2022-03-24T13:48:20.592Z"
   },
   {
    "duration": 189,
    "start_time": "2022-03-24T13:48:54.348Z"
   },
   {
    "duration": 67,
    "start_time": "2022-03-24T13:49:43.668Z"
   },
   {
    "duration": 6,
    "start_time": "2022-03-24T13:49:46.209Z"
   },
   {
    "duration": 62,
    "start_time": "2022-03-24T13:49:46.769Z"
   },
   {
    "duration": 6,
    "start_time": "2022-03-24T13:51:32.159Z"
   },
   {
    "duration": 6,
    "start_time": "2022-03-24T13:51:43.149Z"
   },
   {
    "duration": 4,
    "start_time": "2022-03-24T13:51:56.909Z"
   },
   {
    "duration": 5,
    "start_time": "2022-03-24T13:53:09.590Z"
   },
   {
    "duration": 58,
    "start_time": "2022-03-24T13:53:13.391Z"
   },
   {
    "duration": 53,
    "start_time": "2022-03-24T13:56:14.178Z"
   },
   {
    "duration": 1388,
    "start_time": "2022-03-24T13:56:24.803Z"
   },
   {
    "duration": 831,
    "start_time": "2022-03-24T13:56:26.193Z"
   },
   {
    "duration": 175,
    "start_time": "2022-03-24T13:56:27.027Z"
   },
   {
    "duration": 20,
    "start_time": "2022-03-24T13:56:27.204Z"
   },
   {
    "duration": 73,
    "start_time": "2022-03-24T13:56:27.227Z"
   },
   {
    "duration": 7,
    "start_time": "2022-03-24T13:56:27.302Z"
   },
   {
    "duration": 56,
    "start_time": "2022-03-24T13:56:27.311Z"
   },
   {
    "duration": 7,
    "start_time": "2022-03-24T13:56:27.370Z"
   },
   {
    "duration": 8,
    "start_time": "2022-03-24T13:56:27.379Z"
   },
   {
    "duration": 106,
    "start_time": "2022-03-24T13:56:27.389Z"
   },
   {
    "duration": 4,
    "start_time": "2022-03-24T13:56:27.498Z"
   },
   {
    "duration": 188,
    "start_time": "2022-03-24T13:56:27.504Z"
   },
   {
    "duration": 69,
    "start_time": "2022-03-24T13:56:45.776Z"
   },
   {
    "duration": 125,
    "start_time": "2022-03-24T13:57:08.286Z"
   },
   {
    "duration": 1438,
    "start_time": "2022-03-24T13:57:27.275Z"
   },
   {
    "duration": 808,
    "start_time": "2022-03-24T13:57:28.716Z"
   },
   {
    "duration": 194,
    "start_time": "2022-03-24T13:57:29.526Z"
   },
   {
    "duration": 51,
    "start_time": "2022-03-24T13:57:29.724Z"
   },
   {
    "duration": 63,
    "start_time": "2022-03-24T13:57:29.778Z"
   },
   {
    "duration": 29,
    "start_time": "2022-03-24T13:57:29.843Z"
   },
   {
    "duration": 32,
    "start_time": "2022-03-24T13:57:29.875Z"
   },
   {
    "duration": 8,
    "start_time": "2022-03-24T13:57:29.910Z"
   },
   {
    "duration": 8,
    "start_time": "2022-03-24T13:57:29.921Z"
   },
   {
    "duration": 96,
    "start_time": "2022-03-24T13:57:29.979Z"
   },
   {
    "duration": 4,
    "start_time": "2022-03-24T13:57:30.078Z"
   },
   {
    "duration": 259,
    "start_time": "2022-03-24T13:57:30.084Z"
   },
   {
    "duration": 1542,
    "start_time": "2022-03-24T14:00:00.635Z"
   },
   {
    "duration": 865,
    "start_time": "2022-03-24T14:00:02.180Z"
   },
   {
    "duration": 187,
    "start_time": "2022-03-24T14:00:03.047Z"
   },
   {
    "duration": 43,
    "start_time": "2022-03-24T14:00:03.237Z"
   },
   {
    "duration": 49,
    "start_time": "2022-03-24T14:00:03.282Z"
   },
   {
    "duration": 35,
    "start_time": "2022-03-24T14:00:03.333Z"
   },
   {
    "duration": 48,
    "start_time": "2022-03-24T14:00:03.370Z"
   },
   {
    "duration": 23,
    "start_time": "2022-03-24T14:00:03.420Z"
   },
   {
    "duration": 30,
    "start_time": "2022-03-24T14:00:03.445Z"
   },
   {
    "duration": 102,
    "start_time": "2022-03-24T14:00:03.479Z"
   },
   {
    "duration": 3,
    "start_time": "2022-03-24T14:00:03.584Z"
   },
   {
    "duration": 254,
    "start_time": "2022-03-24T14:00:03.591Z"
   },
   {
    "duration": 129,
    "start_time": "2022-03-24T14:00:53.664Z"
   },
   {
    "duration": 1462,
    "start_time": "2022-03-24T14:01:03.234Z"
   },
   {
    "duration": 841,
    "start_time": "2022-03-24T14:01:04.699Z"
   },
   {
    "duration": 186,
    "start_time": "2022-03-24T14:01:05.542Z"
   },
   {
    "duration": 49,
    "start_time": "2022-03-24T14:01:05.731Z"
   },
   {
    "duration": 47,
    "start_time": "2022-03-24T14:01:05.783Z"
   },
   {
    "duration": 6,
    "start_time": "2022-03-24T14:01:05.833Z"
   },
   {
    "duration": 54,
    "start_time": "2022-03-24T14:01:05.841Z"
   },
   {
    "duration": 8,
    "start_time": "2022-03-24T14:01:05.897Z"
   },
   {
    "duration": 8,
    "start_time": "2022-03-24T14:01:05.907Z"
   },
   {
    "duration": 122,
    "start_time": "2022-03-24T14:01:05.918Z"
   },
   {
    "duration": 4,
    "start_time": "2022-03-24T14:01:06.042Z"
   },
   {
    "duration": 181,
    "start_time": "2022-03-24T14:01:06.047Z"
   },
   {
    "duration": 1476,
    "start_time": "2022-03-24T14:02:24.231Z"
   },
   {
    "duration": 798,
    "start_time": "2022-03-24T14:02:25.710Z"
   },
   {
    "duration": 184,
    "start_time": "2022-03-24T14:02:26.510Z"
   },
   {
    "duration": 18,
    "start_time": "2022-03-24T14:02:26.697Z"
   },
   {
    "duration": 72,
    "start_time": "2022-03-24T14:02:26.717Z"
   },
   {
    "duration": 8,
    "start_time": "2022-03-24T14:02:26.792Z"
   },
   {
    "duration": 27,
    "start_time": "2022-03-24T14:02:26.802Z"
   },
   {
    "duration": 36,
    "start_time": "2022-03-24T14:02:26.831Z"
   },
   {
    "duration": 6,
    "start_time": "2022-03-24T14:02:26.870Z"
   },
   {
    "duration": 108,
    "start_time": "2022-03-24T14:02:26.880Z"
   },
   {
    "duration": 4,
    "start_time": "2022-03-24T14:02:26.990Z"
   },
   {
    "duration": 237,
    "start_time": "2022-03-24T14:02:26.996Z"
   },
   {
    "duration": 4,
    "start_time": "2022-03-24T14:06:05.372Z"
   },
   {
    "duration": 134,
    "start_time": "2022-03-24T14:07:17.721Z"
   },
   {
    "duration": 4,
    "start_time": "2022-03-24T14:07:23.231Z"
   },
   {
    "duration": 11,
    "start_time": "2022-03-24T14:07:30.501Z"
   },
   {
    "duration": 8,
    "start_time": "2022-03-24T14:07:40.311Z"
   },
   {
    "duration": 1468,
    "start_time": "2022-03-24T14:08:05.593Z"
   },
   {
    "duration": 818,
    "start_time": "2022-03-24T14:08:07.064Z"
   },
   {
    "duration": 262,
    "start_time": "2022-03-24T14:08:07.884Z"
   },
   {
    "duration": 23,
    "start_time": "2022-03-24T14:08:08.169Z"
   },
   {
    "duration": 74,
    "start_time": "2022-03-24T14:08:08.194Z"
   },
   {
    "duration": 7,
    "start_time": "2022-03-24T14:08:08.271Z"
   },
   {
    "duration": 33,
    "start_time": "2022-03-24T14:08:08.281Z"
   },
   {
    "duration": 8,
    "start_time": "2022-03-24T14:08:08.317Z"
   },
   {
    "duration": 43,
    "start_time": "2022-03-24T14:08:08.327Z"
   },
   {
    "duration": 100,
    "start_time": "2022-03-24T14:08:08.373Z"
   },
   {
    "duration": 6,
    "start_time": "2022-03-24T14:08:08.476Z"
   },
   {
    "duration": 248,
    "start_time": "2022-03-24T14:08:08.485Z"
   },
   {
    "duration": 5,
    "start_time": "2022-03-24T14:08:08.736Z"
   },
   {
    "duration": 29,
    "start_time": "2022-03-24T14:08:08.746Z"
   },
   {
    "duration": 5,
    "start_time": "2022-03-24T14:10:41.640Z"
   },
   {
    "duration": 9,
    "start_time": "2022-03-24T14:10:42.931Z"
   },
   {
    "duration": 1807,
    "start_time": "2022-03-24T15:54:56.522Z"
   },
   {
    "duration": 897,
    "start_time": "2022-03-24T15:54:58.331Z"
   },
   {
    "duration": 203,
    "start_time": "2022-03-24T15:54:59.230Z"
   },
   {
    "duration": 43,
    "start_time": "2022-03-24T15:54:59.437Z"
   },
   {
    "duration": 60,
    "start_time": "2022-03-24T15:54:59.483Z"
   },
   {
    "duration": 8,
    "start_time": "2022-03-24T15:54:59.568Z"
   },
   {
    "duration": 45,
    "start_time": "2022-03-24T15:54:59.579Z"
   },
   {
    "duration": 8,
    "start_time": "2022-03-24T15:54:59.627Z"
   },
   {
    "duration": 33,
    "start_time": "2022-03-24T15:54:59.638Z"
   },
   {
    "duration": 120,
    "start_time": "2022-03-24T15:54:59.676Z"
   },
   {
    "duration": 4,
    "start_time": "2022-03-24T15:54:59.800Z"
   },
   {
    "duration": 330,
    "start_time": "2022-03-24T15:54:59.807Z"
   },
   {
    "duration": 6,
    "start_time": "2022-03-24T15:55:00.139Z"
   },
   {
    "duration": 26,
    "start_time": "2022-03-24T15:55:00.147Z"
   },
   {
    "duration": 95,
    "start_time": "2022-03-24T15:55:00.176Z"
   },
   {
    "duration": 138,
    "start_time": "2022-03-24T15:55:43.111Z"
   },
   {
    "duration": 629,
    "start_time": "2022-03-24T15:55:53.780Z"
   },
   {
    "duration": 346,
    "start_time": "2022-03-24T15:55:58.726Z"
   },
   {
    "duration": 2737,
    "start_time": "2022-03-24T15:56:44.436Z"
   },
   {
    "duration": 2506,
    "start_time": "2022-03-24T16:01:49.454Z"
   },
   {
    "duration": 2308,
    "start_time": "2022-03-24T16:03:00.483Z"
   },
   {
    "duration": 2952,
    "start_time": "2022-03-24T16:03:29.308Z"
   },
   {
    "duration": 3722,
    "start_time": "2022-03-24T16:03:55.040Z"
   },
   {
    "duration": 2864,
    "start_time": "2022-03-24T16:04:29.124Z"
   },
   {
    "duration": 2707,
    "start_time": "2022-03-24T16:04:56.938Z"
   },
   {
    "duration": 3116,
    "start_time": "2022-03-24T16:06:17.677Z"
   },
   {
    "duration": 2325,
    "start_time": "2022-03-24T16:07:38.348Z"
   },
   {
    "duration": 1006,
    "start_time": "2022-03-24T16:07:40.677Z"
   },
   {
    "duration": 203,
    "start_time": "2022-03-24T16:07:41.687Z"
   },
   {
    "duration": 29,
    "start_time": "2022-03-24T16:07:41.893Z"
   },
   {
    "duration": 92,
    "start_time": "2022-03-24T16:07:41.925Z"
   },
   {
    "duration": 10,
    "start_time": "2022-03-24T16:07:42.020Z"
   },
   {
    "duration": 62,
    "start_time": "2022-03-24T16:07:42.032Z"
   },
   {
    "duration": 8,
    "start_time": "2022-03-24T16:07:42.097Z"
   },
   {
    "duration": 12,
    "start_time": "2022-03-24T16:07:42.107Z"
   },
   {
    "duration": 152,
    "start_time": "2022-03-24T16:07:42.124Z"
   },
   {
    "duration": 5,
    "start_time": "2022-03-24T16:07:42.279Z"
   },
   {
    "duration": 273,
    "start_time": "2022-03-24T16:07:42.286Z"
   },
   {
    "duration": 5,
    "start_time": "2022-03-24T16:07:42.568Z"
   },
   {
    "duration": 11,
    "start_time": "2022-03-24T16:07:42.576Z"
   },
   {
    "duration": 3452,
    "start_time": "2022-03-24T16:07:42.589Z"
   },
   {
    "duration": 149,
    "start_time": "2022-03-24T16:23:53.135Z"
   },
   {
    "duration": 757,
    "start_time": "2022-03-24T16:24:30.094Z"
   },
   {
    "duration": 720,
    "start_time": "2022-03-24T16:25:32.176Z"
   },
   {
    "duration": 857,
    "start_time": "2022-03-24T16:26:36.768Z"
   },
   {
    "duration": 1775,
    "start_time": "2022-03-24T16:34:08.489Z"
   },
   {
    "duration": 801,
    "start_time": "2022-03-24T16:34:10.268Z"
   },
   {
    "duration": 177,
    "start_time": "2022-03-24T16:34:11.071Z"
   },
   {
    "duration": 22,
    "start_time": "2022-03-24T16:34:11.269Z"
   },
   {
    "duration": 47,
    "start_time": "2022-03-24T16:34:11.293Z"
   },
   {
    "duration": 7,
    "start_time": "2022-03-24T16:34:11.368Z"
   },
   {
    "duration": 29,
    "start_time": "2022-03-24T16:34:11.378Z"
   },
   {
    "duration": 8,
    "start_time": "2022-03-24T16:34:11.409Z"
   },
   {
    "duration": 6,
    "start_time": "2022-03-24T16:34:11.420Z"
   },
   {
    "duration": 99,
    "start_time": "2022-03-24T16:34:11.469Z"
   },
   {
    "duration": 4,
    "start_time": "2022-03-24T16:34:11.570Z"
   },
   {
    "duration": 240,
    "start_time": "2022-03-24T16:34:11.577Z"
   },
   {
    "duration": 4,
    "start_time": "2022-03-24T16:34:11.820Z"
   },
   {
    "duration": 14,
    "start_time": "2022-03-24T16:34:11.826Z"
   },
   {
    "duration": 2651,
    "start_time": "2022-03-24T16:34:11.867Z"
   },
   {
    "duration": 776,
    "start_time": "2022-03-24T16:34:14.520Z"
   },
   {
    "duration": 283,
    "start_time": "2022-03-24T16:36:29.575Z"
   },
   {
    "duration": 13,
    "start_time": "2022-03-24T16:36:47.436Z"
   },
   {
    "duration": 24,
    "start_time": "2022-03-24T16:37:19.034Z"
   },
   {
    "duration": 1896,
    "start_time": "2022-03-24T16:37:54.094Z"
   },
   {
    "duration": 1876,
    "start_time": "2022-03-24T16:39:05.340Z"
   },
   {
    "duration": 1801,
    "start_time": "2022-03-24T16:39:30.176Z"
   },
   {
    "duration": 1906,
    "start_time": "2022-03-24T16:39:52.752Z"
   },
   {
    "duration": 1937,
    "start_time": "2022-03-24T16:40:09.438Z"
   },
   {
    "duration": 1884,
    "start_time": "2022-03-24T16:41:50.856Z"
   },
   {
    "duration": 51,
    "start_time": "2022-03-24T16:47:18.851Z"
   },
   {
    "duration": 2068,
    "start_time": "2022-03-24T16:47:56.102Z"
   },
   {
    "duration": 283,
    "start_time": "2022-03-24T16:48:22.227Z"
   },
   {
    "duration": 1729,
    "start_time": "2022-03-24T16:48:24.367Z"
   },
   {
    "duration": 259,
    "start_time": "2022-03-24T16:48:42.457Z"
   },
   {
    "duration": 1895,
    "start_time": "2022-03-24T16:48:46.579Z"
   },
   {
    "duration": 1984,
    "start_time": "2022-03-24T16:49:02.380Z"
   },
   {
    "duration": 867,
    "start_time": "2022-03-24T16:49:04.369Z"
   },
   {
    "duration": 189,
    "start_time": "2022-03-24T16:49:05.238Z"
   },
   {
    "duration": 51,
    "start_time": "2022-03-24T16:49:05.431Z"
   },
   {
    "duration": 50,
    "start_time": "2022-03-24T16:49:05.484Z"
   },
   {
    "duration": 35,
    "start_time": "2022-03-24T16:49:05.536Z"
   },
   {
    "duration": 32,
    "start_time": "2022-03-24T16:49:05.574Z"
   },
   {
    "duration": 8,
    "start_time": "2022-03-24T16:49:05.608Z"
   },
   {
    "duration": 7,
    "start_time": "2022-03-24T16:49:05.618Z"
   },
   {
    "duration": 113,
    "start_time": "2022-03-24T16:49:05.629Z"
   },
   {
    "duration": 24,
    "start_time": "2022-03-24T16:49:05.744Z"
   },
   {
    "duration": 240,
    "start_time": "2022-03-24T16:49:05.771Z"
   },
   {
    "duration": 4,
    "start_time": "2022-03-24T16:49:06.014Z"
   },
   {
    "duration": 11,
    "start_time": "2022-03-24T16:49:06.021Z"
   },
   {
    "duration": 2852,
    "start_time": "2022-03-24T16:49:06.035Z"
   },
   {
    "duration": 768,
    "start_time": "2022-03-24T16:49:08.890Z"
   },
   {
    "duration": 23,
    "start_time": "2022-03-24T16:49:09.660Z"
   },
   {
    "duration": 1962,
    "start_time": "2022-03-24T16:49:09.685Z"
   },
   {
    "duration": 53,
    "start_time": "2022-03-24T16:49:11.649Z"
   },
   {
    "duration": 1534,
    "start_time": "2022-03-25T09:29:16.268Z"
   },
   {
    "duration": 1081,
    "start_time": "2022-03-25T09:29:17.804Z"
   },
   {
    "duration": 122,
    "start_time": "2022-03-25T09:29:18.887Z"
   },
   {
    "duration": 43,
    "start_time": "2022-03-25T09:29:19.011Z"
   },
   {
    "duration": 50,
    "start_time": "2022-03-25T09:29:19.056Z"
   },
   {
    "duration": 5,
    "start_time": "2022-03-25T09:29:19.108Z"
   },
   {
    "duration": 51,
    "start_time": "2022-03-25T09:29:19.114Z"
   },
   {
    "duration": 5,
    "start_time": "2022-03-25T09:29:19.167Z"
   },
   {
    "duration": 5,
    "start_time": "2022-03-25T09:29:19.174Z"
   },
   {
    "duration": 100,
    "start_time": "2022-03-25T09:29:19.181Z"
   },
   {
    "duration": 3,
    "start_time": "2022-03-25T09:29:19.283Z"
   },
   {
    "duration": 227,
    "start_time": "2022-03-25T09:29:19.287Z"
   },
   {
    "duration": 4,
    "start_time": "2022-03-25T09:29:19.515Z"
   },
   {
    "duration": 8,
    "start_time": "2022-03-25T09:29:19.537Z"
   },
   {
    "duration": 1841,
    "start_time": "2022-03-25T09:29:19.547Z"
   },
   {
    "duration": 478,
    "start_time": "2022-03-25T09:29:21.390Z"
   },
   {
    "duration": 14,
    "start_time": "2022-03-25T09:29:21.870Z"
   },
   {
    "duration": 1376,
    "start_time": "2022-03-25T09:29:21.885Z"
   },
   {
    "duration": 51,
    "start_time": "2022-03-25T09:29:23.263Z"
   },
   {
    "duration": 3,
    "start_time": "2022-03-25T09:29:23.316Z"
   },
   {
    "duration": 17,
    "start_time": "2022-03-25T09:29:23.321Z"
   },
   {
    "duration": 122,
    "start_time": "2022-03-25T09:29:23.340Z"
   },
   {
    "duration": 0,
    "start_time": "2022-03-25T09:29:23.464Z"
   },
   {
    "duration": 8,
    "start_time": "2022-03-25T09:29:59.050Z"
   },
   {
    "duration": 768,
    "start_time": "2022-03-25T09:30:16.777Z"
   },
   {
    "duration": 1428,
    "start_time": "2022-03-25T09:30:37.487Z"
   },
   {
    "duration": 757,
    "start_time": "2022-03-25T09:30:38.917Z"
   },
   {
    "duration": 127,
    "start_time": "2022-03-25T09:30:39.675Z"
   },
   {
    "duration": 14,
    "start_time": "2022-03-25T09:30:39.805Z"
   },
   {
    "duration": 38,
    "start_time": "2022-03-25T09:30:39.840Z"
   },
   {
    "duration": 5,
    "start_time": "2022-03-25T09:30:39.880Z"
   },
   {
    "duration": 28,
    "start_time": "2022-03-25T09:30:39.887Z"
   },
   {
    "duration": 11,
    "start_time": "2022-03-25T09:30:39.942Z"
   },
   {
    "duration": 7,
    "start_time": "2022-03-25T09:30:39.957Z"
   },
   {
    "duration": 90,
    "start_time": "2022-03-25T09:30:39.967Z"
   },
   {
    "duration": 4,
    "start_time": "2022-03-25T09:30:40.059Z"
   },
   {
    "duration": 203,
    "start_time": "2022-03-25T09:30:40.065Z"
   },
   {
    "duration": 3,
    "start_time": "2022-03-25T09:30:40.270Z"
   },
   {
    "duration": 14,
    "start_time": "2022-03-25T09:30:40.275Z"
   },
   {
    "duration": 1811,
    "start_time": "2022-03-25T09:30:40.291Z"
   },
   {
    "duration": 477,
    "start_time": "2022-03-25T09:30:42.104Z"
   },
   {
    "duration": 14,
    "start_time": "2022-03-25T09:30:42.583Z"
   },
   {
    "duration": 1308,
    "start_time": "2022-03-25T09:30:42.599Z"
   },
   {
    "duration": 51,
    "start_time": "2022-03-25T09:30:43.909Z"
   },
   {
    "duration": 3,
    "start_time": "2022-03-25T09:30:43.963Z"
   },
   {
    "duration": 7,
    "start_time": "2022-03-25T09:30:43.967Z"
   },
   {
    "duration": 2044,
    "start_time": "2022-03-25T09:30:43.976Z"
   },
   {
    "duration": 0,
    "start_time": "2022-03-25T09:30:46.022Z"
   },
   {
    "duration": 7,
    "start_time": "2022-03-25T09:30:59.424Z"
   },
   {
    "duration": 4,
    "start_time": "2022-03-25T09:31:37.160Z"
   },
   {
    "duration": 8,
    "start_time": "2022-03-25T09:31:41.201Z"
   },
   {
    "duration": 4,
    "start_time": "2022-03-25T09:33:02.407Z"
   },
   {
    "duration": 6,
    "start_time": "2022-03-25T09:33:03.328Z"
   },
   {
    "duration": 1488,
    "start_time": "2022-03-25T09:37:54.697Z"
   },
   {
    "duration": 738,
    "start_time": "2022-03-25T09:37:56.187Z"
   },
   {
    "duration": 141,
    "start_time": "2022-03-25T09:37:56.926Z"
   },
   {
    "duration": 16,
    "start_time": "2022-03-25T09:37:57.070Z"
   },
   {
    "duration": 62,
    "start_time": "2022-03-25T09:37:57.088Z"
   },
   {
    "duration": 5,
    "start_time": "2022-03-25T09:37:57.152Z"
   },
   {
    "duration": 26,
    "start_time": "2022-03-25T09:37:57.159Z"
   },
   {
    "duration": 6,
    "start_time": "2022-03-25T09:37:57.187Z"
   },
   {
    "duration": 15,
    "start_time": "2022-03-25T09:37:57.195Z"
   },
   {
    "duration": 91,
    "start_time": "2022-03-25T09:37:57.214Z"
   },
   {
    "duration": 3,
    "start_time": "2022-03-25T09:37:57.307Z"
   },
   {
    "duration": 206,
    "start_time": "2022-03-25T09:37:57.312Z"
   },
   {
    "duration": 22,
    "start_time": "2022-03-25T09:37:57.520Z"
   },
   {
    "duration": 18,
    "start_time": "2022-03-25T09:37:57.544Z"
   },
   {
    "duration": 1760,
    "start_time": "2022-03-25T09:37:57.564Z"
   },
   {
    "duration": 486,
    "start_time": "2022-03-25T09:37:59.326Z"
   },
   {
    "duration": 29,
    "start_time": "2022-03-25T09:37:59.814Z"
   },
   {
    "duration": 1351,
    "start_time": "2022-03-25T09:37:59.845Z"
   },
   {
    "duration": 47,
    "start_time": "2022-03-25T09:38:01.198Z"
   },
   {
    "duration": 3,
    "start_time": "2022-03-25T09:38:01.249Z"
   },
   {
    "duration": 9,
    "start_time": "2022-03-25T09:38:01.257Z"
   },
   {
    "duration": 23,
    "start_time": "2022-03-25T09:38:01.268Z"
   },
   {
    "duration": 132,
    "start_time": "2022-03-25T09:38:01.293Z"
   },
   {
    "duration": 0,
    "start_time": "2022-03-25T09:38:01.426Z"
   },
   {
    "duration": 1385,
    "start_time": "2022-03-25T10:17:38.614Z"
   },
   {
    "duration": 1053,
    "start_time": "2022-03-25T10:17:40.001Z"
   },
   {
    "duration": 120,
    "start_time": "2022-03-25T10:17:41.056Z"
   },
   {
    "duration": 15,
    "start_time": "2022-03-25T10:17:41.178Z"
   },
   {
    "duration": 60,
    "start_time": "2022-03-25T10:17:41.195Z"
   },
   {
    "duration": 5,
    "start_time": "2022-03-25T10:17:41.257Z"
   },
   {
    "duration": 26,
    "start_time": "2022-03-25T10:17:41.263Z"
   },
   {
    "duration": 5,
    "start_time": "2022-03-25T10:17:41.290Z"
   },
   {
    "duration": 4,
    "start_time": "2022-03-25T10:17:41.297Z"
   },
   {
    "duration": 93,
    "start_time": "2022-03-25T10:17:41.303Z"
   },
   {
    "duration": 3,
    "start_time": "2022-03-25T10:17:41.397Z"
   },
   {
    "duration": 197,
    "start_time": "2022-03-25T10:17:41.402Z"
   },
   {
    "duration": 3,
    "start_time": "2022-03-25T10:17:41.601Z"
   },
   {
    "duration": 8,
    "start_time": "2022-03-25T10:17:41.606Z"
   },
   {
    "duration": 1753,
    "start_time": "2022-03-25T10:17:41.616Z"
   },
   {
    "duration": 466,
    "start_time": "2022-03-25T10:17:43.371Z"
   },
   {
    "duration": 15,
    "start_time": "2022-03-25T10:17:43.839Z"
   },
   {
    "duration": 1349,
    "start_time": "2022-03-25T10:17:43.856Z"
   },
   {
    "duration": 51,
    "start_time": "2022-03-25T10:17:45.207Z"
   },
   {
    "duration": 3,
    "start_time": "2022-03-25T10:17:45.260Z"
   },
   {
    "duration": 119,
    "start_time": "2022-03-25T10:17:45.265Z"
   },
   {
    "duration": 0,
    "start_time": "2022-03-25T10:17:45.385Z"
   },
   {
    "duration": 0,
    "start_time": "2022-03-25T10:17:45.387Z"
   },
   {
    "duration": 0,
    "start_time": "2022-03-25T10:17:45.389Z"
   },
   {
    "duration": 0,
    "start_time": "2022-03-25T10:17:45.390Z"
   },
   {
    "duration": 46,
    "start_time": "2022-03-25T14:26:46.858Z"
   },
   {
    "duration": 1585,
    "start_time": "2022-03-25T14:27:44.610Z"
   },
   {
    "duration": 664,
    "start_time": "2022-03-25T14:27:46.197Z"
   },
   {
    "duration": 107,
    "start_time": "2022-03-25T14:27:46.863Z"
   },
   {
    "duration": 14,
    "start_time": "2022-03-25T14:27:46.972Z"
   },
   {
    "duration": 57,
    "start_time": "2022-03-25T14:27:46.988Z"
   },
   {
    "duration": 6,
    "start_time": "2022-03-25T14:27:47.047Z"
   },
   {
    "duration": 31,
    "start_time": "2022-03-25T14:27:47.055Z"
   },
   {
    "duration": 5,
    "start_time": "2022-03-25T14:27:47.087Z"
   },
   {
    "duration": 5,
    "start_time": "2022-03-25T14:27:47.094Z"
   },
   {
    "duration": 86,
    "start_time": "2022-03-25T14:27:47.102Z"
   },
   {
    "duration": 3,
    "start_time": "2022-03-25T14:27:47.190Z"
   },
   {
    "duration": 193,
    "start_time": "2022-03-25T14:27:47.194Z"
   },
   {
    "duration": 3,
    "start_time": "2022-03-25T14:27:47.389Z"
   },
   {
    "duration": 8,
    "start_time": "2022-03-25T14:27:47.393Z"
   },
   {
    "duration": 1654,
    "start_time": "2022-03-25T14:27:47.403Z"
   },
   {
    "duration": 440,
    "start_time": "2022-03-25T14:27:49.059Z"
   },
   {
    "duration": 13,
    "start_time": "2022-03-25T14:27:49.502Z"
   },
   {
    "duration": 1197,
    "start_time": "2022-03-25T14:27:49.517Z"
   },
   {
    "duration": 57,
    "start_time": "2022-03-25T14:27:50.716Z"
   },
   {
    "duration": 3,
    "start_time": "2022-03-25T14:27:50.775Z"
   },
   {
    "duration": 11,
    "start_time": "2022-03-25T14:27:50.780Z"
   },
   {
    "duration": 7,
    "start_time": "2022-03-25T14:27:50.793Z"
   },
   {
    "duration": 11,
    "start_time": "2022-03-25T14:27:50.801Z"
   },
   {
    "duration": 27,
    "start_time": "2022-03-25T14:27:50.814Z"
   },
   {
    "duration": 114,
    "start_time": "2022-03-25T14:27:50.844Z"
   },
   {
    "duration": 10,
    "start_time": "2022-03-25T14:33:19.988Z"
   },
   {
    "duration": 2075,
    "start_time": "2022-03-25T15:30:51.922Z"
   },
   {
    "duration": 740,
    "start_time": "2022-03-25T15:30:53.999Z"
   },
   {
    "duration": 172,
    "start_time": "2022-03-25T15:30:54.741Z"
   },
   {
    "duration": 21,
    "start_time": "2022-03-25T15:30:54.917Z"
   },
   {
    "duration": 43,
    "start_time": "2022-03-25T15:30:54.973Z"
   },
   {
    "duration": 7,
    "start_time": "2022-03-25T15:30:55.018Z"
   },
   {
    "duration": 55,
    "start_time": "2022-03-25T15:30:55.027Z"
   },
   {
    "duration": 7,
    "start_time": "2022-03-25T15:30:55.084Z"
   },
   {
    "duration": 6,
    "start_time": "2022-03-25T15:30:55.093Z"
   },
   {
    "duration": 106,
    "start_time": "2022-03-25T15:30:55.103Z"
   },
   {
    "duration": 4,
    "start_time": "2022-03-25T15:30:55.211Z"
   },
   {
    "duration": 233,
    "start_time": "2022-03-25T15:30:55.217Z"
   },
   {
    "duration": 14,
    "start_time": "2022-03-25T15:30:55.453Z"
   },
   {
    "duration": 11,
    "start_time": "2022-03-25T15:30:55.469Z"
   },
   {
    "duration": 2551,
    "start_time": "2022-03-25T15:30:55.482Z"
   },
   {
    "duration": 730,
    "start_time": "2022-03-25T15:30:58.035Z"
   },
   {
    "duration": 17,
    "start_time": "2022-03-25T15:30:58.768Z"
   },
   {
    "duration": 1987,
    "start_time": "2022-03-25T15:30:58.787Z"
   },
   {
    "duration": 54,
    "start_time": "2022-03-25T15:31:00.777Z"
   },
   {
    "duration": 4,
    "start_time": "2022-03-25T15:31:00.833Z"
   },
   {
    "duration": 30,
    "start_time": "2022-03-25T15:31:00.839Z"
   },
   {
    "duration": 25,
    "start_time": "2022-03-25T15:31:00.871Z"
   },
   {
    "duration": 8,
    "start_time": "2022-03-25T15:31:00.899Z"
   },
   {
    "duration": 12,
    "start_time": "2022-03-25T15:31:00.909Z"
   },
   {
    "duration": 21,
    "start_time": "2022-03-25T15:31:00.923Z"
   },
   {
    "duration": 6,
    "start_time": "2022-03-25T15:31:00.946Z"
   },
   {
    "duration": 158,
    "start_time": "2022-03-25T15:31:00.967Z"
   },
   {
    "duration": 0,
    "start_time": "2022-03-25T15:31:01.127Z"
   },
   {
    "duration": 13,
    "start_time": "2022-03-25T15:31:46.331Z"
   },
   {
    "duration": 5,
    "start_time": "2022-03-25T15:33:11.222Z"
   },
   {
    "duration": 13,
    "start_time": "2022-03-25T15:33:13.555Z"
   },
   {
    "duration": 5,
    "start_time": "2022-03-25T15:35:29.723Z"
   },
   {
    "duration": 5,
    "start_time": "2022-03-25T15:35:41.141Z"
   },
   {
    "duration": 6,
    "start_time": "2022-03-25T15:35:48.652Z"
   },
   {
    "duration": 13,
    "start_time": "2022-03-25T15:35:50.582Z"
   },
   {
    "duration": 13,
    "start_time": "2022-03-25T15:36:21.522Z"
   },
   {
    "duration": 17,
    "start_time": "2022-03-25T15:37:01.482Z"
   },
   {
    "duration": 5,
    "start_time": "2022-03-25T15:37:34.742Z"
   },
   {
    "duration": 1856,
    "start_time": "2022-03-25T15:37:45.625Z"
   },
   {
    "duration": 792,
    "start_time": "2022-03-25T15:37:47.484Z"
   },
   {
    "duration": 171,
    "start_time": "2022-03-25T15:37:48.278Z"
   },
   {
    "duration": 35,
    "start_time": "2022-03-25T15:37:48.451Z"
   },
   {
    "duration": 43,
    "start_time": "2022-03-25T15:37:48.490Z"
   },
   {
    "duration": 33,
    "start_time": "2022-03-25T15:37:48.536Z"
   },
   {
    "duration": 28,
    "start_time": "2022-03-25T15:37:48.572Z"
   },
   {
    "duration": 8,
    "start_time": "2022-03-25T15:37:48.603Z"
   },
   {
    "duration": 5,
    "start_time": "2022-03-25T15:37:48.614Z"
   },
   {
    "duration": 119,
    "start_time": "2022-03-25T15:37:48.622Z"
   },
   {
    "duration": 5,
    "start_time": "2022-03-25T15:37:48.743Z"
   },
   {
    "duration": 263,
    "start_time": "2022-03-25T15:37:48.750Z"
   },
   {
    "duration": 4,
    "start_time": "2022-03-25T15:37:49.016Z"
   },
   {
    "duration": 9,
    "start_time": "2022-03-25T15:37:49.024Z"
   },
   {
    "duration": 2585,
    "start_time": "2022-03-25T15:37:49.036Z"
   },
   {
    "duration": 734,
    "start_time": "2022-03-25T15:37:51.623Z"
   },
   {
    "duration": 17,
    "start_time": "2022-03-25T15:37:52.367Z"
   },
   {
    "duration": 1935,
    "start_time": "2022-03-25T15:37:52.386Z"
   },
   {
    "duration": 66,
    "start_time": "2022-03-25T15:37:54.324Z"
   },
   {
    "duration": 28,
    "start_time": "2022-03-25T15:37:54.392Z"
   },
   {
    "duration": 25,
    "start_time": "2022-03-25T15:37:54.422Z"
   },
   {
    "duration": 19,
    "start_time": "2022-03-25T15:37:54.449Z"
   },
   {
    "duration": 12,
    "start_time": "2022-03-25T15:37:54.470Z"
   },
   {
    "duration": 34,
    "start_time": "2022-03-25T15:37:54.484Z"
   },
   {
    "duration": 35,
    "start_time": "2022-03-25T15:37:54.521Z"
   },
   {
    "duration": 17,
    "start_time": "2022-03-25T15:37:54.559Z"
   },
   {
    "duration": 155,
    "start_time": "2022-03-25T15:37:54.578Z"
   },
   {
    "duration": 0,
    "start_time": "2022-03-25T15:37:54.736Z"
   },
   {
    "duration": 12,
    "start_time": "2022-03-25T15:38:26.843Z"
   },
   {
    "duration": 5468,
    "start_time": "2022-03-25T15:38:41.302Z"
   },
   {
    "duration": 5317,
    "start_time": "2022-03-25T15:38:54.852Z"
   },
   {
    "duration": 2328,
    "start_time": "2022-03-25T15:42:58.182Z"
   },
   {
    "duration": 786,
    "start_time": "2022-03-25T15:43:00.512Z"
   },
   {
    "duration": 193,
    "start_time": "2022-03-25T15:43:01.300Z"
   },
   {
    "duration": 26,
    "start_time": "2022-03-25T15:43:01.495Z"
   },
   {
    "duration": 187,
    "start_time": "2022-03-25T15:43:01.524Z"
   },
   {
    "duration": 8,
    "start_time": "2022-03-25T15:43:01.713Z"
   },
   {
    "duration": 48,
    "start_time": "2022-03-25T15:43:01.723Z"
   },
   {
    "duration": 8,
    "start_time": "2022-03-25T15:43:01.773Z"
   },
   {
    "duration": 49,
    "start_time": "2022-03-25T15:43:01.783Z"
   },
   {
    "duration": 166,
    "start_time": "2022-03-25T15:43:01.834Z"
   },
   {
    "duration": 282,
    "start_time": "2022-03-25T15:43:02.002Z"
   },
   {
    "duration": 457,
    "start_time": "2022-03-25T15:43:02.287Z"
   },
   {
    "duration": 50,
    "start_time": "2022-03-25T15:43:02.747Z"
   },
   {
    "duration": 274,
    "start_time": "2022-03-25T15:43:02.803Z"
   },
   {
    "duration": 2729,
    "start_time": "2022-03-25T15:43:03.079Z"
   },
   {
    "duration": 742,
    "start_time": "2022-03-25T15:43:05.810Z"
   },
   {
    "duration": 25,
    "start_time": "2022-03-25T15:43:06.554Z"
   },
   {
    "duration": 1845,
    "start_time": "2022-03-25T15:43:06.581Z"
   },
   {
    "duration": 66,
    "start_time": "2022-03-25T15:43:08.429Z"
   },
   {
    "duration": 5,
    "start_time": "2022-03-25T15:43:08.497Z"
   },
   {
    "duration": 7,
    "start_time": "2022-03-25T15:43:08.505Z"
   },
   {
    "duration": 12,
    "start_time": "2022-03-25T15:43:08.514Z"
   },
   {
    "duration": 6,
    "start_time": "2022-03-25T15:43:08.528Z"
   },
   {
    "duration": 6,
    "start_time": "2022-03-25T15:43:08.568Z"
   },
   {
    "duration": 9,
    "start_time": "2022-03-25T15:43:08.577Z"
   },
   {
    "duration": 11,
    "start_time": "2022-03-25T15:43:08.589Z"
   },
   {
    "duration": 5876,
    "start_time": "2022-03-25T15:43:08.602Z"
   },
   {
    "duration": 165,
    "start_time": "2022-03-25T15:43:14.568Z"
   },
   {
    "duration": 1938,
    "start_time": "2022-03-25T15:56:12.125Z"
   },
   {
    "duration": 768,
    "start_time": "2022-03-25T15:56:14.066Z"
   },
   {
    "duration": 177,
    "start_time": "2022-03-25T15:56:14.837Z"
   },
   {
    "duration": 20,
    "start_time": "2022-03-25T15:56:15.017Z"
   },
   {
    "duration": 71,
    "start_time": "2022-03-25T15:56:15.040Z"
   },
   {
    "duration": 7,
    "start_time": "2022-03-25T15:56:15.113Z"
   },
   {
    "duration": 56,
    "start_time": "2022-03-25T15:56:15.122Z"
   },
   {
    "duration": 7,
    "start_time": "2022-03-25T15:56:15.181Z"
   },
   {
    "duration": 6,
    "start_time": "2022-03-25T15:56:15.190Z"
   },
   {
    "duration": 127,
    "start_time": "2022-03-25T15:56:15.198Z"
   },
   {
    "duration": 5,
    "start_time": "2022-03-25T15:56:15.328Z"
   },
   {
    "duration": 269,
    "start_time": "2022-03-25T15:56:15.336Z"
   },
   {
    "duration": 5,
    "start_time": "2022-03-25T15:56:15.607Z"
   },
   {
    "duration": 13,
    "start_time": "2022-03-25T15:56:15.616Z"
   },
   {
    "duration": 2720,
    "start_time": "2022-03-25T15:56:15.631Z"
   },
   {
    "duration": 809,
    "start_time": "2022-03-25T15:56:18.354Z"
   },
   {
    "duration": 30,
    "start_time": "2022-03-25T15:56:19.166Z"
   },
   {
    "duration": 1962,
    "start_time": "2022-03-25T15:56:19.198Z"
   },
   {
    "duration": 66,
    "start_time": "2022-03-25T15:56:21.168Z"
   },
   {
    "duration": 6,
    "start_time": "2022-03-25T15:56:21.237Z"
   },
   {
    "duration": 23,
    "start_time": "2022-03-25T15:56:21.246Z"
   },
   {
    "duration": 15,
    "start_time": "2022-03-25T15:56:21.272Z"
   },
   {
    "duration": 6,
    "start_time": "2022-03-25T15:56:21.290Z"
   },
   {
    "duration": 8,
    "start_time": "2022-03-25T15:56:21.300Z"
   },
   {
    "duration": 16,
    "start_time": "2022-03-25T15:56:21.311Z"
   },
   {
    "duration": 50,
    "start_time": "2022-03-25T15:56:21.329Z"
   },
   {
    "duration": 6921,
    "start_time": "2022-03-25T15:56:21.382Z"
   },
   {
    "duration": 5432,
    "start_time": "2022-03-25T15:56:54.143Z"
   },
   {
    "duration": 5861,
    "start_time": "2022-03-25T15:57:27.213Z"
   },
   {
    "duration": 5895,
    "start_time": "2022-03-25T15:58:20.683Z"
   },
   {
    "duration": 5580,
    "start_time": "2022-03-25T15:59:09.893Z"
   },
   {
    "duration": 5926,
    "start_time": "2022-03-25T15:59:56.443Z"
   },
   {
    "duration": 1826,
    "start_time": "2022-03-25T16:04:43.404Z"
   },
   {
    "duration": 779,
    "start_time": "2022-03-25T16:04:45.233Z"
   },
   {
    "duration": 182,
    "start_time": "2022-03-25T16:04:46.015Z"
   },
   {
    "duration": 27,
    "start_time": "2022-03-25T16:04:46.201Z"
   },
   {
    "duration": 75,
    "start_time": "2022-03-25T16:04:46.230Z"
   },
   {
    "duration": 8,
    "start_time": "2022-03-25T16:04:46.307Z"
   },
   {
    "duration": 59,
    "start_time": "2022-03-25T16:04:46.317Z"
   },
   {
    "duration": 10,
    "start_time": "2022-03-25T16:04:46.378Z"
   },
   {
    "duration": 6,
    "start_time": "2022-03-25T16:04:46.392Z"
   },
   {
    "duration": 122,
    "start_time": "2022-03-25T16:04:46.400Z"
   },
   {
    "duration": 4,
    "start_time": "2022-03-25T16:04:46.524Z"
   },
   {
    "duration": 250,
    "start_time": "2022-03-25T16:04:46.530Z"
   },
   {
    "duration": 5,
    "start_time": "2022-03-25T16:04:46.784Z"
   },
   {
    "duration": 15,
    "start_time": "2022-03-25T16:04:46.792Z"
   },
   {
    "duration": 2628,
    "start_time": "2022-03-25T16:04:46.810Z"
   },
   {
    "duration": 751,
    "start_time": "2022-03-25T16:04:49.441Z"
   },
   {
    "duration": 17,
    "start_time": "2022-03-25T16:04:50.195Z"
   },
   {
    "duration": 1906,
    "start_time": "2022-03-25T16:04:50.214Z"
   },
   {
    "duration": 66,
    "start_time": "2022-03-25T16:04:52.122Z"
   },
   {
    "duration": 4,
    "start_time": "2022-03-25T16:04:52.190Z"
   },
   {
    "duration": 7,
    "start_time": "2022-03-25T16:04:52.196Z"
   },
   {
    "duration": 14,
    "start_time": "2022-03-25T16:04:52.205Z"
   },
   {
    "duration": 10,
    "start_time": "2022-03-25T16:04:52.221Z"
   },
   {
    "duration": 38,
    "start_time": "2022-03-25T16:04:52.233Z"
   },
   {
    "duration": 15,
    "start_time": "2022-03-25T16:04:52.274Z"
   },
   {
    "duration": 18,
    "start_time": "2022-03-25T16:04:52.292Z"
   },
   {
    "duration": 5464,
    "start_time": "2022-03-25T16:04:52.313Z"
   },
   {
    "duration": 262,
    "start_time": "2022-03-25T16:04:57.780Z"
   },
   {
    "duration": 31,
    "start_time": "2022-03-25T16:05:23.754Z"
   },
   {
    "duration": 1887,
    "start_time": "2022-03-25T16:05:42.674Z"
   },
   {
    "duration": 737,
    "start_time": "2022-03-25T16:05:44.563Z"
   },
   {
    "duration": 175,
    "start_time": "2022-03-25T16:05:45.302Z"
   },
   {
    "duration": 20,
    "start_time": "2022-03-25T16:05:45.479Z"
   },
   {
    "duration": 77,
    "start_time": "2022-03-25T16:05:45.501Z"
   },
   {
    "duration": 6,
    "start_time": "2022-03-25T16:05:45.580Z"
   },
   {
    "duration": 29,
    "start_time": "2022-03-25T16:05:45.588Z"
   },
   {
    "duration": 7,
    "start_time": "2022-03-25T16:05:45.619Z"
   },
   {
    "duration": 42,
    "start_time": "2022-03-25T16:05:45.629Z"
   },
   {
    "duration": 108,
    "start_time": "2022-03-25T16:05:45.677Z"
   },
   {
    "duration": 4,
    "start_time": "2022-03-25T16:05:45.787Z"
   },
   {
    "duration": 236,
    "start_time": "2022-03-25T16:05:45.793Z"
   },
   {
    "duration": 5,
    "start_time": "2022-03-25T16:05:46.031Z"
   },
   {
    "duration": 33,
    "start_time": "2022-03-25T16:05:46.039Z"
   },
   {
    "duration": 2588,
    "start_time": "2022-03-25T16:05:46.075Z"
   },
   {
    "duration": 741,
    "start_time": "2022-03-25T16:05:48.665Z"
   },
   {
    "duration": 19,
    "start_time": "2022-03-25T16:05:49.408Z"
   },
   {
    "duration": 1892,
    "start_time": "2022-03-25T16:05:49.430Z"
   },
   {
    "duration": 80,
    "start_time": "2022-03-25T16:05:51.324Z"
   },
   {
    "duration": 5,
    "start_time": "2022-03-25T16:05:51.408Z"
   },
   {
    "duration": 5,
    "start_time": "2022-03-25T16:05:51.416Z"
   },
   {
    "duration": 12,
    "start_time": "2022-03-25T16:05:51.424Z"
   },
   {
    "duration": 28,
    "start_time": "2022-03-25T16:05:51.439Z"
   },
   {
    "duration": 5,
    "start_time": "2022-03-25T16:05:51.470Z"
   },
   {
    "duration": 13,
    "start_time": "2022-03-25T16:05:51.477Z"
   },
   {
    "duration": 11,
    "start_time": "2022-03-25T16:05:51.492Z"
   },
   {
    "duration": 6764,
    "start_time": "2022-03-25T16:05:51.506Z"
   },
   {
    "duration": 264,
    "start_time": "2022-03-25T16:05:58.282Z"
   },
   {
    "duration": 231817,
    "start_time": "2022-03-25T16:06:50.405Z"
   },
   {
    "duration": 1830,
    "start_time": "2022-03-25T16:14:22.673Z"
   },
   {
    "duration": 1174,
    "start_time": "2022-03-25T16:14:24.506Z"
   },
   {
    "duration": 241,
    "start_time": "2022-03-25T16:14:25.682Z"
   },
   {
    "duration": 20,
    "start_time": "2022-03-25T16:14:25.925Z"
   },
   {
    "duration": 45,
    "start_time": "2022-03-25T16:14:25.969Z"
   },
   {
    "duration": 7,
    "start_time": "2022-03-25T16:14:26.016Z"
   },
   {
    "duration": 63,
    "start_time": "2022-03-25T16:14:26.025Z"
   },
   {
    "duration": 9,
    "start_time": "2022-03-25T16:14:26.090Z"
   },
   {
    "duration": 8,
    "start_time": "2022-03-25T16:14:26.103Z"
   },
   {
    "duration": 138,
    "start_time": "2022-03-25T16:14:26.114Z"
   },
   {
    "duration": 15,
    "start_time": "2022-03-25T16:14:26.254Z"
   },
   {
    "duration": 264,
    "start_time": "2022-03-25T16:14:26.271Z"
   },
   {
    "duration": 5,
    "start_time": "2022-03-25T16:14:26.537Z"
   },
   {
    "duration": 8,
    "start_time": "2022-03-25T16:14:26.569Z"
   },
   {
    "duration": 3754,
    "start_time": "2022-03-25T16:14:26.579Z"
   },
   {
    "duration": 1039,
    "start_time": "2022-03-25T16:14:30.336Z"
   },
   {
    "duration": 20,
    "start_time": "2022-03-25T16:14:31.378Z"
   },
   {
    "duration": 2658,
    "start_time": "2022-03-25T16:14:31.401Z"
   },
   {
    "duration": 65,
    "start_time": "2022-03-25T16:14:34.066Z"
   },
   {
    "duration": 5,
    "start_time": "2022-03-25T16:14:34.134Z"
   },
   {
    "duration": 28,
    "start_time": "2022-03-25T16:14:34.141Z"
   },
   {
    "duration": 16,
    "start_time": "2022-03-25T16:14:34.173Z"
   },
   {
    "duration": 6,
    "start_time": "2022-03-25T16:14:34.192Z"
   },
   {
    "duration": 9,
    "start_time": "2022-03-25T16:14:34.200Z"
   },
   {
    "duration": 16,
    "start_time": "2022-03-25T16:14:34.211Z"
   },
   {
    "duration": 45,
    "start_time": "2022-03-25T16:14:34.230Z"
   },
   {
    "duration": 6095,
    "start_time": "2022-03-25T16:14:34.278Z"
   },
   {
    "duration": 240202,
    "start_time": "2022-03-25T16:14:40.377Z"
   },
   {
    "duration": 10,
    "start_time": "2022-03-25T16:18:40.582Z"
   },
   {
    "duration": 4,
    "start_time": "2022-03-25T16:18:40.594Z"
   },
   {
    "duration": 7470,
    "start_time": "2022-03-25T16:39:13.492Z"
   },
   {
    "duration": 7421,
    "start_time": "2022-03-25T16:39:30.885Z"
   },
   {
    "duration": 2133,
    "start_time": "2022-03-25T16:44:37.887Z"
   },
   {
    "duration": 824,
    "start_time": "2022-03-25T16:44:40.024Z"
   },
   {
    "duration": 236,
    "start_time": "2022-03-25T16:44:40.850Z"
   },
   {
    "duration": 26,
    "start_time": "2022-03-25T16:44:41.090Z"
   },
   {
    "duration": 88,
    "start_time": "2022-03-25T16:44:41.118Z"
   },
   {
    "duration": 7,
    "start_time": "2022-03-25T16:44:41.209Z"
   },
   {
    "duration": 59,
    "start_time": "2022-03-25T16:44:41.218Z"
   },
   {
    "duration": 9,
    "start_time": "2022-03-25T16:44:41.279Z"
   },
   {
    "duration": 16,
    "start_time": "2022-03-25T16:44:41.291Z"
   },
   {
    "duration": 106,
    "start_time": "2022-03-25T16:44:41.312Z"
   },
   {
    "duration": 4,
    "start_time": "2022-03-25T16:44:41.421Z"
   },
   {
    "duration": 282,
    "start_time": "2022-03-25T16:44:41.428Z"
   },
   {
    "duration": 6,
    "start_time": "2022-03-25T16:44:41.713Z"
   },
   {
    "duration": 9,
    "start_time": "2022-03-25T16:44:41.721Z"
   },
   {
    "duration": 3055,
    "start_time": "2022-03-25T16:44:41.732Z"
   },
   {
    "duration": 833,
    "start_time": "2022-03-25T16:44:44.789Z"
   },
   {
    "duration": 24,
    "start_time": "2022-03-25T16:44:45.625Z"
   },
   {
    "duration": 2225,
    "start_time": "2022-03-25T16:44:45.671Z"
   },
   {
    "duration": 80,
    "start_time": "2022-03-25T16:44:47.898Z"
   },
   {
    "duration": 5,
    "start_time": "2022-03-25T16:44:47.982Z"
   },
   {
    "duration": 6,
    "start_time": "2022-03-25T16:44:47.991Z"
   },
   {
    "duration": 12,
    "start_time": "2022-03-25T16:44:48.001Z"
   },
   {
    "duration": 7,
    "start_time": "2022-03-25T16:44:48.019Z"
   },
   {
    "duration": 7,
    "start_time": "2022-03-25T16:44:48.069Z"
   },
   {
    "duration": 15,
    "start_time": "2022-03-25T16:44:48.079Z"
   },
   {
    "duration": 15,
    "start_time": "2022-03-25T16:44:48.097Z"
   },
   {
    "duration": 8251,
    "start_time": "2022-03-25T16:44:48.116Z"
   },
   {
    "duration": 3871,
    "start_time": "2022-03-25T16:50:16.608Z"
   },
   {
    "duration": 827,
    "start_time": "2022-03-25T16:50:20.483Z"
   },
   {
    "duration": 204,
    "start_time": "2022-03-25T16:50:21.313Z"
   },
   {
    "duration": 21,
    "start_time": "2022-03-25T16:50:21.521Z"
   },
   {
    "duration": 46,
    "start_time": "2022-03-25T16:50:21.570Z"
   },
   {
    "duration": 8,
    "start_time": "2022-03-25T16:50:21.618Z"
   },
   {
    "duration": 80,
    "start_time": "2022-03-25T16:50:21.630Z"
   },
   {
    "duration": 11,
    "start_time": "2022-03-25T16:50:21.714Z"
   },
   {
    "duration": 9,
    "start_time": "2022-03-25T16:50:21.730Z"
   },
   {
    "duration": 104,
    "start_time": "2022-03-25T16:50:21.767Z"
   },
   {
    "duration": 5,
    "start_time": "2022-03-25T16:50:21.874Z"
   },
   {
    "duration": 408,
    "start_time": "2022-03-25T16:50:21.883Z"
   },
   {
    "duration": 7,
    "start_time": "2022-03-25T16:50:22.295Z"
   },
   {
    "duration": 12,
    "start_time": "2022-03-25T16:50:22.312Z"
   },
   {
    "duration": 2874,
    "start_time": "2022-03-25T16:50:22.328Z"
   },
   {
    "duration": 1296,
    "start_time": "2022-03-25T16:50:25.204Z"
   },
   {
    "duration": 17,
    "start_time": "2022-03-25T16:50:26.503Z"
   },
   {
    "duration": 2760,
    "start_time": "2022-03-25T16:50:26.523Z"
   },
   {
    "duration": 83,
    "start_time": "2022-03-25T16:50:29.286Z"
   },
   {
    "duration": 5,
    "start_time": "2022-03-25T16:50:29.372Z"
   },
   {
    "duration": 19,
    "start_time": "2022-03-25T16:50:29.380Z"
   },
   {
    "duration": 18,
    "start_time": "2022-03-25T16:50:29.402Z"
   },
   {
    "duration": 8,
    "start_time": "2022-03-25T16:50:29.424Z"
   },
   {
    "duration": 12,
    "start_time": "2022-03-25T16:50:29.435Z"
   },
   {
    "duration": 30,
    "start_time": "2022-03-25T16:50:29.450Z"
   },
   {
    "duration": 18,
    "start_time": "2022-03-25T16:50:29.482Z"
   },
   {
    "duration": 8870,
    "start_time": "2022-03-25T16:50:29.506Z"
   },
   {
    "duration": 8736,
    "start_time": "2022-03-25T16:55:32.933Z"
   },
   {
    "duration": 264489,
    "start_time": "2022-03-25T16:55:41.679Z"
   },
   {
    "duration": 0,
    "start_time": "2022-03-25T17:00:06.170Z"
   },
   {
    "duration": 0,
    "start_time": "2022-03-25T17:00:06.173Z"
   },
   {
    "duration": 0,
    "start_time": "2022-03-25T17:00:06.174Z"
   },
   {
    "duration": 2411,
    "start_time": "2022-03-25T17:20:13.344Z"
   },
   {
    "duration": 1130,
    "start_time": "2022-03-25T17:20:15.759Z"
   },
   {
    "duration": 262,
    "start_time": "2022-03-25T17:20:16.892Z"
   },
   {
    "duration": 28,
    "start_time": "2022-03-25T17:20:17.169Z"
   },
   {
    "duration": 73,
    "start_time": "2022-03-25T17:20:17.201Z"
   },
   {
    "duration": 6,
    "start_time": "2022-03-25T17:20:17.277Z"
   },
   {
    "duration": 37,
    "start_time": "2022-03-25T17:20:17.287Z"
   },
   {
    "duration": 9,
    "start_time": "2022-03-25T17:20:17.327Z"
   },
   {
    "duration": 34,
    "start_time": "2022-03-25T17:20:17.339Z"
   },
   {
    "duration": 143,
    "start_time": "2022-03-25T17:20:17.379Z"
   },
   {
    "duration": 5,
    "start_time": "2022-03-25T17:20:17.525Z"
   },
   {
    "duration": 310,
    "start_time": "2022-03-25T17:20:17.534Z"
   },
   {
    "duration": 5,
    "start_time": "2022-03-25T17:20:17.847Z"
   },
   {
    "duration": 11,
    "start_time": "2022-03-25T17:20:17.877Z"
   },
   {
    "duration": 4065,
    "start_time": "2022-03-25T17:20:17.890Z"
   },
   {
    "duration": 1398,
    "start_time": "2022-03-25T17:20:21.959Z"
   },
   {
    "duration": 24,
    "start_time": "2022-03-25T17:20:23.369Z"
   },
   {
    "duration": 2621,
    "start_time": "2022-03-25T17:20:23.395Z"
   },
   {
    "duration": 90,
    "start_time": "2022-03-25T17:20:26.022Z"
   },
   {
    "duration": 9,
    "start_time": "2022-03-25T17:20:26.122Z"
   },
   {
    "duration": 84,
    "start_time": "2022-03-25T17:20:26.134Z"
   },
   {
    "duration": 97,
    "start_time": "2022-03-25T17:20:26.225Z"
   },
   {
    "duration": 63,
    "start_time": "2022-03-25T17:20:26.332Z"
   },
   {
    "duration": 46,
    "start_time": "2022-03-25T17:20:26.398Z"
   },
   {
    "duration": 84,
    "start_time": "2022-03-25T17:20:26.446Z"
   },
   {
    "duration": 31,
    "start_time": "2022-03-25T17:20:26.533Z"
   },
   {
    "duration": 14024,
    "start_time": "2022-03-25T17:20:26.567Z"
   },
   {
    "duration": 283380,
    "start_time": "2022-03-25T17:20:40.608Z"
   },
   {
    "duration": 13,
    "start_time": "2022-03-25T17:25:23.991Z"
   },
   {
    "duration": 7,
    "start_time": "2022-03-25T17:25:24.007Z"
   },
   {
    "duration": 9881,
    "start_time": "2022-03-25T17:25:24.017Z"
   },
   {
    "duration": 286657,
    "start_time": "2022-03-25T17:25:33.903Z"
   },
   {
    "duration": 0,
    "start_time": "2022-03-25T17:30:20.562Z"
   },
   {
    "duration": 0,
    "start_time": "2022-03-25T17:30:20.567Z"
   },
   {
    "duration": 0,
    "start_time": "2022-03-25T17:30:20.569Z"
   },
   {
    "duration": 291253,
    "start_time": "2022-03-25T17:33:08.624Z"
   },
   {
    "duration": 19,
    "start_time": "2022-03-25T17:37:59.880Z"
   },
   {
    "duration": 0,
    "start_time": "2022-03-25T17:37:59.902Z"
   },
   {
    "duration": 0,
    "start_time": "2022-03-25T17:37:59.904Z"
   },
   {
    "duration": 10,
    "start_time": "2022-03-25T17:38:31.362Z"
   },
   {
    "duration": 7,
    "start_time": "2022-03-25T17:42:12.077Z"
   },
   {
    "duration": 4,
    "start_time": "2022-03-25T17:42:43.924Z"
   },
   {
    "duration": 13,
    "start_time": "2022-03-25T17:42:45.831Z"
   },
   {
    "duration": 6,
    "start_time": "2022-03-25T17:43:33.003Z"
   },
   {
    "duration": 4,
    "start_time": "2022-03-25T17:45:23.793Z"
   },
   {
    "duration": 1961,
    "start_time": "2022-03-25T17:52:36.155Z"
   },
   {
    "duration": 856,
    "start_time": "2022-03-25T17:52:38.119Z"
   },
   {
    "duration": 237,
    "start_time": "2022-03-25T17:52:38.978Z"
   },
   {
    "duration": 21,
    "start_time": "2022-03-25T17:52:39.218Z"
   },
   {
    "duration": 84,
    "start_time": "2022-03-25T17:52:39.242Z"
   },
   {
    "duration": 7,
    "start_time": "2022-03-25T17:52:39.329Z"
   },
   {
    "duration": 66,
    "start_time": "2022-03-25T17:52:39.339Z"
   },
   {
    "duration": 8,
    "start_time": "2022-03-25T17:52:39.408Z"
   },
   {
    "duration": 8,
    "start_time": "2022-03-25T17:52:39.420Z"
   },
   {
    "duration": 127,
    "start_time": "2022-03-25T17:52:39.434Z"
   },
   {
    "duration": 9,
    "start_time": "2022-03-25T17:52:39.565Z"
   },
   {
    "duration": 276,
    "start_time": "2022-03-25T17:52:39.577Z"
   },
   {
    "duration": 6,
    "start_time": "2022-03-25T17:52:39.867Z"
   },
   {
    "duration": 20,
    "start_time": "2022-03-25T17:52:39.875Z"
   },
   {
    "duration": 2903,
    "start_time": "2022-03-25T17:52:39.899Z"
   },
   {
    "duration": 843,
    "start_time": "2022-03-25T17:52:42.805Z"
   },
   {
    "duration": 33,
    "start_time": "2022-03-25T17:52:43.650Z"
   },
   {
    "duration": 2407,
    "start_time": "2022-03-25T17:52:43.686Z"
   },
   {
    "duration": 78,
    "start_time": "2022-03-25T17:52:46.097Z"
   },
   {
    "duration": 10,
    "start_time": "2022-03-25T17:52:46.177Z"
   },
   {
    "duration": 5,
    "start_time": "2022-03-25T17:52:46.190Z"
   },
   {
    "duration": 12,
    "start_time": "2022-03-25T17:52:46.197Z"
   },
   {
    "duration": 5,
    "start_time": "2022-03-25T17:52:46.211Z"
   },
   {
    "duration": 12,
    "start_time": "2022-03-25T17:52:46.219Z"
   },
   {
    "duration": 48,
    "start_time": "2022-03-25T17:52:46.234Z"
   },
   {
    "duration": 26,
    "start_time": "2022-03-25T17:52:46.284Z"
   },
   {
    "duration": 11475,
    "start_time": "2022-03-25T17:52:46.313Z"
   },
   {
    "duration": 255263,
    "start_time": "2022-03-25T17:52:57.793Z"
   },
   {
    "duration": 15,
    "start_time": "2022-03-25T17:57:13.060Z"
   },
   {
    "duration": 7,
    "start_time": "2022-03-25T17:57:13.077Z"
   },
   {
    "duration": 8599,
    "start_time": "2022-03-25T17:57:13.087Z"
   },
   {
    "duration": 262877,
    "start_time": "2022-03-25T17:57:21.690Z"
   },
   {
    "duration": 11,
    "start_time": "2022-03-25T18:01:44.570Z"
   },
   {
    "duration": 11,
    "start_time": "2022-03-25T18:01:44.585Z"
   },
   {
    "duration": 5,
    "start_time": "2022-03-25T18:01:44.599Z"
   }
  ],
  "kernelspec": {
   "display_name": "Python 3 (ipykernel)",
   "language": "python",
   "name": "python3"
  },
  "language_info": {
   "codemirror_mode": {
    "name": "ipython",
    "version": 3
   },
   "file_extension": ".py",
   "mimetype": "text/x-python",
   "name": "python",
   "nbconvert_exporter": "python",
   "pygments_lexer": "ipython3",
   "version": "3.9.5"
  },
  "toc": {
   "base_numbering": 1,
   "nav_menu": {},
   "number_sections": true,
   "sideBar": true,
   "skip_h1_title": true,
   "title_cell": "Содержание",
   "title_sidebar": "Contents",
   "toc_cell": true,
   "toc_position": {
    "height": "calc(100% - 180px)",
    "left": "10px",
    "top": "150px",
    "width": "300px"
   },
   "toc_section_display": true,
   "toc_window_display": true
  }
 },
 "nbformat": 4,
 "nbformat_minor": 2
}
