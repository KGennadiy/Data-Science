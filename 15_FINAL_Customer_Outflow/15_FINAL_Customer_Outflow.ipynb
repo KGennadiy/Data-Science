{
 "cells": [
  {
   "cell_type": "markdown",
   "metadata": {},
   "source": [
    "# Телеком "
   ]
  },
  {
   "cell_type": "markdown",
   "metadata": {},
   "source": [
    "## Описание проекта\n",
    "\n",
    "Оператор связи «Ниединогоразрыва.ком» хочет научиться прогнозировать отток клиентов. Если выяснится, что пользователь планирует уйти, ему будут предложены промокоды и специальные условия. Команда оператора собрала персональные данные о некоторых клиентах, информацию об их тарифах и договорах."
   ]
  },
  {
   "cell_type": "markdown",
   "metadata": {},
   "source": [
    "**Описание данных**\n",
    "\n",
    "Данные состоят из файлов, полученных из разных источников:\n",
    "\n",
    "- `contract.csv` — информация о договоре;\n",
    "- `personal.csv` — персональные данные клиента;\n",
    "- `internet.csv` — информация об интернет-услугах;\n",
    "- `phone.csv` — информация об услугах телефонии.\n",
    "\n",
    "Для лучшего пониманя содержания массивов расшифровка значения столбцов:\n",
    "\n",
    "**contract**\n",
    "- `customerID`: код клиента\n",
    "- `BeginDate`: дата подключения\n",
    "- `EndDate`: дата завершения пользования услугами\n",
    "- `Type`: тип оплаты (ежемесячно, раз в год или раз в два года)\n",
    "- `PaperlessBilling`: метка выставления счёта в бумажном или электронном виде\n",
    "- `PaymentMethod`: способ оплаты\n",
    "- `MonthlyCharges`: сумма ежемесячного платёжа\n",
    "- `TotalCharges`: сумма всех платежей\n",
    "\n",
    "**personal**\n",
    "- `customerID`: код клиента\n",
    "- `gender`: пол клиента\n",
    "- `SeniorCitizen`: метка пенсионного возраста (старше 60 лет)\n",
    "- `Partner`: метка семейного положения\n",
    "- `Dependents`: метка наличия иждивенцев\n",
    "\n",
    "**internet**\n",
    "- `customerID`: код клиента\n",
    "- `InternetService`: метод интернет подключения\n",
    "- `OnlineSecurity`: метка наличия блокировки небезопасных сайтов\n",
    "- `OnlineBackup`: метка использования облачного хранилища\n",
    "- `DeviceProtection`: метка наличия антивируса\n",
    "- `TechSupport`: метка наличия выделенной линии технической поддержки \n",
    "- `StreamingTV`: метка использования стримингового телевидения\n",
    "- `StreamingMovies`: метка возможности использования хранилища фильмов\n",
    "\n",
    "**phone**\n",
    "- `customerID`: код клиента\n",
    "- `MultipleLines`: подключено ли несколько телефонный линий одновременно"
   ]
  },
  {
   "cell_type": "markdown",
   "metadata": {},
   "source": [
    "## Предподготовка"
   ]
  },
  {
   "cell_type": "code",
   "execution_count": 1,
   "metadata": {},
   "outputs": [],
   "source": [
    "# импорт библиотек\n",
    "import pandas as pd\n",
    "import numpy as np \n",
    "import matplotlib.pyplot as plt\n",
    "\n",
    "import seaborn as sns\n",
    "\n",
    "from sklearn.model_selection import train_test_split, GridSearchCV\n",
    "from sklearn.preprocessing import StandardScaler\n",
    "from sklearn.utils import shuffle\n",
    "from sklearn.metrics import roc_auc_score\n",
    "\n",
    "from sklearn.linear_model import LogisticRegression\n",
    "from catboost import CatBoostClassifier\n",
    "from sklearn.ensemble import RandomForestClassifier\n",
    "\n",
    "pd.set_option('display.max_columns', None)\n",
    "import warnings\n",
    "warnings.filterwarnings(\"ignore\")"
   ]
  },
  {
   "cell_type": "markdown",
   "metadata": {},
   "source": [
    "## Изучение и подготовка данных"
   ]
  },
  {
   "cell_type": "code",
   "execution_count": 2,
   "metadata": {},
   "outputs": [],
   "source": [
    "# функция первичного анализа данных\n",
    "def info_df(df):\n",
    "    print('Размер таблицы', df.shape)\n",
    "    df.info()\n",
    "    display(df.head(5))\n",
    "    display(df.describe())\n",
    "    print('Количество дубликатов ID пользователя', df['customerID'].duplicated().sum())"
   ]
  },
  {
   "cell_type": "code",
   "execution_count": 3,
   "metadata": {},
   "outputs": [],
   "source": [
    "c_df = pd.read_csv('/datasets/final_provider/contract.csv')\n",
    "p_df = pd.read_csv('/datasets/final_provider/personal.csv')\n",
    "i_df = pd.read_csv('/datasets/final_provider/internet.csv')\n",
    "ph_df = pd.read_csv('/datasets/final_provider/phone.csv')"
   ]
  },
  {
   "cell_type": "markdown",
   "metadata": {},
   "source": [
    "### Анализ исходных массивов"
   ]
  },
  {
   "cell_type": "code",
   "execution_count": 4,
   "metadata": {},
   "outputs": [
    {
     "name": "stdout",
     "output_type": "stream",
     "text": [
      "Массив ДОГОВОР\n",
      "Размер таблицы (7043, 8)\n",
      "<class 'pandas.core.frame.DataFrame'>\n",
      "RangeIndex: 7043 entries, 0 to 7042\n",
      "Data columns (total 8 columns):\n",
      " #   Column            Non-Null Count  Dtype  \n",
      "---  ------            --------------  -----  \n",
      " 0   customerID        7043 non-null   object \n",
      " 1   BeginDate         7043 non-null   object \n",
      " 2   EndDate           7043 non-null   object \n",
      " 3   Type              7043 non-null   object \n",
      " 4   PaperlessBilling  7043 non-null   object \n",
      " 5   PaymentMethod     7043 non-null   object \n",
      " 6   MonthlyCharges    7043 non-null   float64\n",
      " 7   TotalCharges      7043 non-null   object \n",
      "dtypes: float64(1), object(7)\n",
      "memory usage: 440.3+ KB\n"
     ]
    },
    {
     "data": {
      "text/html": [
       "<div>\n",
       "<style scoped>\n",
       "    .dataframe tbody tr th:only-of-type {\n",
       "        vertical-align: middle;\n",
       "    }\n",
       "\n",
       "    .dataframe tbody tr th {\n",
       "        vertical-align: top;\n",
       "    }\n",
       "\n",
       "    .dataframe thead th {\n",
       "        text-align: right;\n",
       "    }\n",
       "</style>\n",
       "<table border=\"1\" class=\"dataframe\">\n",
       "  <thead>\n",
       "    <tr style=\"text-align: right;\">\n",
       "      <th></th>\n",
       "      <th>customerID</th>\n",
       "      <th>BeginDate</th>\n",
       "      <th>EndDate</th>\n",
       "      <th>Type</th>\n",
       "      <th>PaperlessBilling</th>\n",
       "      <th>PaymentMethod</th>\n",
       "      <th>MonthlyCharges</th>\n",
       "      <th>TotalCharges</th>\n",
       "    </tr>\n",
       "  </thead>\n",
       "  <tbody>\n",
       "    <tr>\n",
       "      <th>0</th>\n",
       "      <td>7590-VHVEG</td>\n",
       "      <td>2020-01-01</td>\n",
       "      <td>No</td>\n",
       "      <td>Month-to-month</td>\n",
       "      <td>Yes</td>\n",
       "      <td>Electronic check</td>\n",
       "      <td>29.85</td>\n",
       "      <td>29.85</td>\n",
       "    </tr>\n",
       "    <tr>\n",
       "      <th>1</th>\n",
       "      <td>5575-GNVDE</td>\n",
       "      <td>2017-04-01</td>\n",
       "      <td>No</td>\n",
       "      <td>One year</td>\n",
       "      <td>No</td>\n",
       "      <td>Mailed check</td>\n",
       "      <td>56.95</td>\n",
       "      <td>1889.5</td>\n",
       "    </tr>\n",
       "    <tr>\n",
       "      <th>2</th>\n",
       "      <td>3668-QPYBK</td>\n",
       "      <td>2019-10-01</td>\n",
       "      <td>2019-12-01 00:00:00</td>\n",
       "      <td>Month-to-month</td>\n",
       "      <td>Yes</td>\n",
       "      <td>Mailed check</td>\n",
       "      <td>53.85</td>\n",
       "      <td>108.15</td>\n",
       "    </tr>\n",
       "    <tr>\n",
       "      <th>3</th>\n",
       "      <td>7795-CFOCW</td>\n",
       "      <td>2016-05-01</td>\n",
       "      <td>No</td>\n",
       "      <td>One year</td>\n",
       "      <td>No</td>\n",
       "      <td>Bank transfer (automatic)</td>\n",
       "      <td>42.30</td>\n",
       "      <td>1840.75</td>\n",
       "    </tr>\n",
       "    <tr>\n",
       "      <th>4</th>\n",
       "      <td>9237-HQITU</td>\n",
       "      <td>2019-09-01</td>\n",
       "      <td>2019-11-01 00:00:00</td>\n",
       "      <td>Month-to-month</td>\n",
       "      <td>Yes</td>\n",
       "      <td>Electronic check</td>\n",
       "      <td>70.70</td>\n",
       "      <td>151.65</td>\n",
       "    </tr>\n",
       "  </tbody>\n",
       "</table>\n",
       "</div>"
      ],
      "text/plain": [
       "   customerID   BeginDate              EndDate            Type  \\\n",
       "0  7590-VHVEG  2020-01-01                   No  Month-to-month   \n",
       "1  5575-GNVDE  2017-04-01                   No        One year   \n",
       "2  3668-QPYBK  2019-10-01  2019-12-01 00:00:00  Month-to-month   \n",
       "3  7795-CFOCW  2016-05-01                   No        One year   \n",
       "4  9237-HQITU  2019-09-01  2019-11-01 00:00:00  Month-to-month   \n",
       "\n",
       "  PaperlessBilling              PaymentMethod  MonthlyCharges TotalCharges  \n",
       "0              Yes           Electronic check           29.85        29.85  \n",
       "1               No               Mailed check           56.95       1889.5  \n",
       "2              Yes               Mailed check           53.85       108.15  \n",
       "3               No  Bank transfer (automatic)           42.30      1840.75  \n",
       "4              Yes           Electronic check           70.70       151.65  "
      ]
     },
     "metadata": {},
     "output_type": "display_data"
    },
    {
     "data": {
      "text/html": [
       "<div>\n",
       "<style scoped>\n",
       "    .dataframe tbody tr th:only-of-type {\n",
       "        vertical-align: middle;\n",
       "    }\n",
       "\n",
       "    .dataframe tbody tr th {\n",
       "        vertical-align: top;\n",
       "    }\n",
       "\n",
       "    .dataframe thead th {\n",
       "        text-align: right;\n",
       "    }\n",
       "</style>\n",
       "<table border=\"1\" class=\"dataframe\">\n",
       "  <thead>\n",
       "    <tr style=\"text-align: right;\">\n",
       "      <th></th>\n",
       "      <th>MonthlyCharges</th>\n",
       "    </tr>\n",
       "  </thead>\n",
       "  <tbody>\n",
       "    <tr>\n",
       "      <th>count</th>\n",
       "      <td>7043.000000</td>\n",
       "    </tr>\n",
       "    <tr>\n",
       "      <th>mean</th>\n",
       "      <td>64.761692</td>\n",
       "    </tr>\n",
       "    <tr>\n",
       "      <th>std</th>\n",
       "      <td>30.090047</td>\n",
       "    </tr>\n",
       "    <tr>\n",
       "      <th>min</th>\n",
       "      <td>18.250000</td>\n",
       "    </tr>\n",
       "    <tr>\n",
       "      <th>25%</th>\n",
       "      <td>35.500000</td>\n",
       "    </tr>\n",
       "    <tr>\n",
       "      <th>50%</th>\n",
       "      <td>70.350000</td>\n",
       "    </tr>\n",
       "    <tr>\n",
       "      <th>75%</th>\n",
       "      <td>89.850000</td>\n",
       "    </tr>\n",
       "    <tr>\n",
       "      <th>max</th>\n",
       "      <td>118.750000</td>\n",
       "    </tr>\n",
       "  </tbody>\n",
       "</table>\n",
       "</div>"
      ],
      "text/plain": [
       "       MonthlyCharges\n",
       "count     7043.000000\n",
       "mean        64.761692\n",
       "std         30.090047\n",
       "min         18.250000\n",
       "25%         35.500000\n",
       "50%         70.350000\n",
       "75%         89.850000\n",
       "max        118.750000"
      ]
     },
     "metadata": {},
     "output_type": "display_data"
    },
    {
     "name": "stdout",
     "output_type": "stream",
     "text": [
      "Количество дубликатов ID пользователя 0\n"
     ]
    }
   ],
   "source": [
    "print('Массив ДОГОВОР')\n",
    "info_df(c_df)"
   ]
  },
  {
   "cell_type": "code",
   "execution_count": 5,
   "metadata": {},
   "outputs": [
    {
     "name": "stdout",
     "output_type": "stream",
     "text": [
      "столбец СПОСОБ ОПЛАТЫ\n"
     ]
    },
    {
     "data": {
      "text/plain": [
       "Electronic check             2365\n",
       "Mailed check                 1612\n",
       "Bank transfer (automatic)    1544\n",
       "Credit card (automatic)      1522\n",
       "Name: PaymentMethod, dtype: int64"
      ]
     },
     "metadata": {},
     "output_type": "display_data"
    },
    {
     "name": "stdout",
     "output_type": "stream",
     "text": [
      "столбец ТИП ОПЛАТЫ\n"
     ]
    },
    {
     "data": {
      "text/plain": [
       "Month-to-month    3875\n",
       "Two year          1695\n",
       "One year          1473\n",
       "Name: Type, dtype: int64"
      ]
     },
     "metadata": {},
     "output_type": "display_data"
    }
   ],
   "source": [
    "print('столбец СПОСОБ ОПЛАТЫ')\n",
    "display(c_df['PaymentMethod'].value_counts())\n",
    "print('столбец ТИП ОПЛАТЫ')\n",
    "display(c_df['Type'].value_counts())"
   ]
  },
  {
   "cell_type": "code",
   "execution_count": 6,
   "metadata": {},
   "outputs": [
    {
     "name": "stdout",
     "output_type": "stream",
     "text": [
      "Массив ПЕРСОНАЛЬНЫЕ ДАННЫЕ КЛИЕНТА\n",
      "Размер таблицы (7043, 5)\n",
      "<class 'pandas.core.frame.DataFrame'>\n",
      "RangeIndex: 7043 entries, 0 to 7042\n",
      "Data columns (total 5 columns):\n",
      " #   Column         Non-Null Count  Dtype \n",
      "---  ------         --------------  ----- \n",
      " 0   customerID     7043 non-null   object\n",
      " 1   gender         7043 non-null   object\n",
      " 2   SeniorCitizen  7043 non-null   int64 \n",
      " 3   Partner        7043 non-null   object\n",
      " 4   Dependents     7043 non-null   object\n",
      "dtypes: int64(1), object(4)\n",
      "memory usage: 275.2+ KB\n"
     ]
    },
    {
     "data": {
      "text/html": [
       "<div>\n",
       "<style scoped>\n",
       "    .dataframe tbody tr th:only-of-type {\n",
       "        vertical-align: middle;\n",
       "    }\n",
       "\n",
       "    .dataframe tbody tr th {\n",
       "        vertical-align: top;\n",
       "    }\n",
       "\n",
       "    .dataframe thead th {\n",
       "        text-align: right;\n",
       "    }\n",
       "</style>\n",
       "<table border=\"1\" class=\"dataframe\">\n",
       "  <thead>\n",
       "    <tr style=\"text-align: right;\">\n",
       "      <th></th>\n",
       "      <th>customerID</th>\n",
       "      <th>gender</th>\n",
       "      <th>SeniorCitizen</th>\n",
       "      <th>Partner</th>\n",
       "      <th>Dependents</th>\n",
       "    </tr>\n",
       "  </thead>\n",
       "  <tbody>\n",
       "    <tr>\n",
       "      <th>0</th>\n",
       "      <td>7590-VHVEG</td>\n",
       "      <td>Female</td>\n",
       "      <td>0</td>\n",
       "      <td>Yes</td>\n",
       "      <td>No</td>\n",
       "    </tr>\n",
       "    <tr>\n",
       "      <th>1</th>\n",
       "      <td>5575-GNVDE</td>\n",
       "      <td>Male</td>\n",
       "      <td>0</td>\n",
       "      <td>No</td>\n",
       "      <td>No</td>\n",
       "    </tr>\n",
       "    <tr>\n",
       "      <th>2</th>\n",
       "      <td>3668-QPYBK</td>\n",
       "      <td>Male</td>\n",
       "      <td>0</td>\n",
       "      <td>No</td>\n",
       "      <td>No</td>\n",
       "    </tr>\n",
       "    <tr>\n",
       "      <th>3</th>\n",
       "      <td>7795-CFOCW</td>\n",
       "      <td>Male</td>\n",
       "      <td>0</td>\n",
       "      <td>No</td>\n",
       "      <td>No</td>\n",
       "    </tr>\n",
       "    <tr>\n",
       "      <th>4</th>\n",
       "      <td>9237-HQITU</td>\n",
       "      <td>Female</td>\n",
       "      <td>0</td>\n",
       "      <td>No</td>\n",
       "      <td>No</td>\n",
       "    </tr>\n",
       "  </tbody>\n",
       "</table>\n",
       "</div>"
      ],
      "text/plain": [
       "   customerID  gender  SeniorCitizen Partner Dependents\n",
       "0  7590-VHVEG  Female              0     Yes         No\n",
       "1  5575-GNVDE    Male              0      No         No\n",
       "2  3668-QPYBK    Male              0      No         No\n",
       "3  7795-CFOCW    Male              0      No         No\n",
       "4  9237-HQITU  Female              0      No         No"
      ]
     },
     "metadata": {},
     "output_type": "display_data"
    },
    {
     "data": {
      "text/html": [
       "<div>\n",
       "<style scoped>\n",
       "    .dataframe tbody tr th:only-of-type {\n",
       "        vertical-align: middle;\n",
       "    }\n",
       "\n",
       "    .dataframe tbody tr th {\n",
       "        vertical-align: top;\n",
       "    }\n",
       "\n",
       "    .dataframe thead th {\n",
       "        text-align: right;\n",
       "    }\n",
       "</style>\n",
       "<table border=\"1\" class=\"dataframe\">\n",
       "  <thead>\n",
       "    <tr style=\"text-align: right;\">\n",
       "      <th></th>\n",
       "      <th>SeniorCitizen</th>\n",
       "    </tr>\n",
       "  </thead>\n",
       "  <tbody>\n",
       "    <tr>\n",
       "      <th>count</th>\n",
       "      <td>7043.000000</td>\n",
       "    </tr>\n",
       "    <tr>\n",
       "      <th>mean</th>\n",
       "      <td>0.162147</td>\n",
       "    </tr>\n",
       "    <tr>\n",
       "      <th>std</th>\n",
       "      <td>0.368612</td>\n",
       "    </tr>\n",
       "    <tr>\n",
       "      <th>min</th>\n",
       "      <td>0.000000</td>\n",
       "    </tr>\n",
       "    <tr>\n",
       "      <th>25%</th>\n",
       "      <td>0.000000</td>\n",
       "    </tr>\n",
       "    <tr>\n",
       "      <th>50%</th>\n",
       "      <td>0.000000</td>\n",
       "    </tr>\n",
       "    <tr>\n",
       "      <th>75%</th>\n",
       "      <td>0.000000</td>\n",
       "    </tr>\n",
       "    <tr>\n",
       "      <th>max</th>\n",
       "      <td>1.000000</td>\n",
       "    </tr>\n",
       "  </tbody>\n",
       "</table>\n",
       "</div>"
      ],
      "text/plain": [
       "       SeniorCitizen\n",
       "count    7043.000000\n",
       "mean        0.162147\n",
       "std         0.368612\n",
       "min         0.000000\n",
       "25%         0.000000\n",
       "50%         0.000000\n",
       "75%         0.000000\n",
       "max         1.000000"
      ]
     },
     "metadata": {},
     "output_type": "display_data"
    },
    {
     "name": "stdout",
     "output_type": "stream",
     "text": [
      "Количество дубликатов ID пользователя 0\n"
     ]
    }
   ],
   "source": [
    "print('Массив ПЕРСОНАЛЬНЫЕ ДАННЫЕ КЛИЕНТА')\n",
    "info_df(p_df)"
   ]
  },
  {
   "cell_type": "code",
   "execution_count": 7,
   "metadata": {},
   "outputs": [
    {
     "name": "stdout",
     "output_type": "stream",
     "text": [
      "Массив ИНТЕРНЕТ УСЛУГИ\n",
      "Размер таблицы (5517, 8)\n",
      "<class 'pandas.core.frame.DataFrame'>\n",
      "RangeIndex: 5517 entries, 0 to 5516\n",
      "Data columns (total 8 columns):\n",
      " #   Column            Non-Null Count  Dtype \n",
      "---  ------            --------------  ----- \n",
      " 0   customerID        5517 non-null   object\n",
      " 1   InternetService   5517 non-null   object\n",
      " 2   OnlineSecurity    5517 non-null   object\n",
      " 3   OnlineBackup      5517 non-null   object\n",
      " 4   DeviceProtection  5517 non-null   object\n",
      " 5   TechSupport       5517 non-null   object\n",
      " 6   StreamingTV       5517 non-null   object\n",
      " 7   StreamingMovies   5517 non-null   object\n",
      "dtypes: object(8)\n",
      "memory usage: 344.9+ KB\n"
     ]
    },
    {
     "data": {
      "text/html": [
       "<div>\n",
       "<style scoped>\n",
       "    .dataframe tbody tr th:only-of-type {\n",
       "        vertical-align: middle;\n",
       "    }\n",
       "\n",
       "    .dataframe tbody tr th {\n",
       "        vertical-align: top;\n",
       "    }\n",
       "\n",
       "    .dataframe thead th {\n",
       "        text-align: right;\n",
       "    }\n",
       "</style>\n",
       "<table border=\"1\" class=\"dataframe\">\n",
       "  <thead>\n",
       "    <tr style=\"text-align: right;\">\n",
       "      <th></th>\n",
       "      <th>customerID</th>\n",
       "      <th>InternetService</th>\n",
       "      <th>OnlineSecurity</th>\n",
       "      <th>OnlineBackup</th>\n",
       "      <th>DeviceProtection</th>\n",
       "      <th>TechSupport</th>\n",
       "      <th>StreamingTV</th>\n",
       "      <th>StreamingMovies</th>\n",
       "    </tr>\n",
       "  </thead>\n",
       "  <tbody>\n",
       "    <tr>\n",
       "      <th>0</th>\n",
       "      <td>7590-VHVEG</td>\n",
       "      <td>DSL</td>\n",
       "      <td>No</td>\n",
       "      <td>Yes</td>\n",
       "      <td>No</td>\n",
       "      <td>No</td>\n",
       "      <td>No</td>\n",
       "      <td>No</td>\n",
       "    </tr>\n",
       "    <tr>\n",
       "      <th>1</th>\n",
       "      <td>5575-GNVDE</td>\n",
       "      <td>DSL</td>\n",
       "      <td>Yes</td>\n",
       "      <td>No</td>\n",
       "      <td>Yes</td>\n",
       "      <td>No</td>\n",
       "      <td>No</td>\n",
       "      <td>No</td>\n",
       "    </tr>\n",
       "    <tr>\n",
       "      <th>2</th>\n",
       "      <td>3668-QPYBK</td>\n",
       "      <td>DSL</td>\n",
       "      <td>Yes</td>\n",
       "      <td>Yes</td>\n",
       "      <td>No</td>\n",
       "      <td>No</td>\n",
       "      <td>No</td>\n",
       "      <td>No</td>\n",
       "    </tr>\n",
       "    <tr>\n",
       "      <th>3</th>\n",
       "      <td>7795-CFOCW</td>\n",
       "      <td>DSL</td>\n",
       "      <td>Yes</td>\n",
       "      <td>No</td>\n",
       "      <td>Yes</td>\n",
       "      <td>Yes</td>\n",
       "      <td>No</td>\n",
       "      <td>No</td>\n",
       "    </tr>\n",
       "    <tr>\n",
       "      <th>4</th>\n",
       "      <td>9237-HQITU</td>\n",
       "      <td>Fiber optic</td>\n",
       "      <td>No</td>\n",
       "      <td>No</td>\n",
       "      <td>No</td>\n",
       "      <td>No</td>\n",
       "      <td>No</td>\n",
       "      <td>No</td>\n",
       "    </tr>\n",
       "  </tbody>\n",
       "</table>\n",
       "</div>"
      ],
      "text/plain": [
       "   customerID InternetService OnlineSecurity OnlineBackup DeviceProtection  \\\n",
       "0  7590-VHVEG             DSL             No          Yes               No   \n",
       "1  5575-GNVDE             DSL            Yes           No              Yes   \n",
       "2  3668-QPYBK             DSL            Yes          Yes               No   \n",
       "3  7795-CFOCW             DSL            Yes           No              Yes   \n",
       "4  9237-HQITU     Fiber optic             No           No               No   \n",
       "\n",
       "  TechSupport StreamingTV StreamingMovies  \n",
       "0          No          No              No  \n",
       "1          No          No              No  \n",
       "2          No          No              No  \n",
       "3         Yes          No              No  \n",
       "4          No          No              No  "
      ]
     },
     "metadata": {},
     "output_type": "display_data"
    },
    {
     "data": {
      "text/html": [
       "<div>\n",
       "<style scoped>\n",
       "    .dataframe tbody tr th:only-of-type {\n",
       "        vertical-align: middle;\n",
       "    }\n",
       "\n",
       "    .dataframe tbody tr th {\n",
       "        vertical-align: top;\n",
       "    }\n",
       "\n",
       "    .dataframe thead th {\n",
       "        text-align: right;\n",
       "    }\n",
       "</style>\n",
       "<table border=\"1\" class=\"dataframe\">\n",
       "  <thead>\n",
       "    <tr style=\"text-align: right;\">\n",
       "      <th></th>\n",
       "      <th>customerID</th>\n",
       "      <th>InternetService</th>\n",
       "      <th>OnlineSecurity</th>\n",
       "      <th>OnlineBackup</th>\n",
       "      <th>DeviceProtection</th>\n",
       "      <th>TechSupport</th>\n",
       "      <th>StreamingTV</th>\n",
       "      <th>StreamingMovies</th>\n",
       "    </tr>\n",
       "  </thead>\n",
       "  <tbody>\n",
       "    <tr>\n",
       "      <th>count</th>\n",
       "      <td>5517</td>\n",
       "      <td>5517</td>\n",
       "      <td>5517</td>\n",
       "      <td>5517</td>\n",
       "      <td>5517</td>\n",
       "      <td>5517</td>\n",
       "      <td>5517</td>\n",
       "      <td>5517</td>\n",
       "    </tr>\n",
       "    <tr>\n",
       "      <th>unique</th>\n",
       "      <td>5517</td>\n",
       "      <td>2</td>\n",
       "      <td>2</td>\n",
       "      <td>2</td>\n",
       "      <td>2</td>\n",
       "      <td>2</td>\n",
       "      <td>2</td>\n",
       "      <td>2</td>\n",
       "    </tr>\n",
       "    <tr>\n",
       "      <th>top</th>\n",
       "      <td>0581-BXBUB</td>\n",
       "      <td>Fiber optic</td>\n",
       "      <td>No</td>\n",
       "      <td>No</td>\n",
       "      <td>No</td>\n",
       "      <td>No</td>\n",
       "      <td>No</td>\n",
       "      <td>No</td>\n",
       "    </tr>\n",
       "    <tr>\n",
       "      <th>freq</th>\n",
       "      <td>1</td>\n",
       "      <td>3096</td>\n",
       "      <td>3498</td>\n",
       "      <td>3088</td>\n",
       "      <td>3095</td>\n",
       "      <td>3473</td>\n",
       "      <td>2810</td>\n",
       "      <td>2785</td>\n",
       "    </tr>\n",
       "  </tbody>\n",
       "</table>\n",
       "</div>"
      ],
      "text/plain": [
       "        customerID InternetService OnlineSecurity OnlineBackup  \\\n",
       "count         5517            5517           5517         5517   \n",
       "unique        5517               2              2            2   \n",
       "top     0581-BXBUB     Fiber optic             No           No   \n",
       "freq             1            3096           3498         3088   \n",
       "\n",
       "       DeviceProtection TechSupport StreamingTV StreamingMovies  \n",
       "count              5517        5517        5517            5517  \n",
       "unique                2           2           2               2  \n",
       "top                  No          No          No              No  \n",
       "freq               3095        3473        2810            2785  "
      ]
     },
     "metadata": {},
     "output_type": "display_data"
    },
    {
     "name": "stdout",
     "output_type": "stream",
     "text": [
      "Количество дубликатов ID пользователя 0\n"
     ]
    }
   ],
   "source": [
    "print('Массив ИНТЕРНЕТ УСЛУГИ')\n",
    "info_df(i_df)"
   ]
  },
  {
   "cell_type": "code",
   "execution_count": 8,
   "metadata": {},
   "outputs": [
    {
     "name": "stdout",
     "output_type": "stream",
     "text": [
      "Массив ТЕЛЕФОНИЯ\n",
      "Размер таблицы (6361, 2)\n",
      "<class 'pandas.core.frame.DataFrame'>\n",
      "RangeIndex: 6361 entries, 0 to 6360\n",
      "Data columns (total 2 columns):\n",
      " #   Column         Non-Null Count  Dtype \n",
      "---  ------         --------------  ----- \n",
      " 0   customerID     6361 non-null   object\n",
      " 1   MultipleLines  6361 non-null   object\n",
      "dtypes: object(2)\n",
      "memory usage: 99.5+ KB\n"
     ]
    },
    {
     "data": {
      "text/html": [
       "<div>\n",
       "<style scoped>\n",
       "    .dataframe tbody tr th:only-of-type {\n",
       "        vertical-align: middle;\n",
       "    }\n",
       "\n",
       "    .dataframe tbody tr th {\n",
       "        vertical-align: top;\n",
       "    }\n",
       "\n",
       "    .dataframe thead th {\n",
       "        text-align: right;\n",
       "    }\n",
       "</style>\n",
       "<table border=\"1\" class=\"dataframe\">\n",
       "  <thead>\n",
       "    <tr style=\"text-align: right;\">\n",
       "      <th></th>\n",
       "      <th>customerID</th>\n",
       "      <th>MultipleLines</th>\n",
       "    </tr>\n",
       "  </thead>\n",
       "  <tbody>\n",
       "    <tr>\n",
       "      <th>0</th>\n",
       "      <td>5575-GNVDE</td>\n",
       "      <td>No</td>\n",
       "    </tr>\n",
       "    <tr>\n",
       "      <th>1</th>\n",
       "      <td>3668-QPYBK</td>\n",
       "      <td>No</td>\n",
       "    </tr>\n",
       "    <tr>\n",
       "      <th>2</th>\n",
       "      <td>9237-HQITU</td>\n",
       "      <td>No</td>\n",
       "    </tr>\n",
       "    <tr>\n",
       "      <th>3</th>\n",
       "      <td>9305-CDSKC</td>\n",
       "      <td>Yes</td>\n",
       "    </tr>\n",
       "    <tr>\n",
       "      <th>4</th>\n",
       "      <td>1452-KIOVK</td>\n",
       "      <td>Yes</td>\n",
       "    </tr>\n",
       "  </tbody>\n",
       "</table>\n",
       "</div>"
      ],
      "text/plain": [
       "   customerID MultipleLines\n",
       "0  5575-GNVDE            No\n",
       "1  3668-QPYBK            No\n",
       "2  9237-HQITU            No\n",
       "3  9305-CDSKC           Yes\n",
       "4  1452-KIOVK           Yes"
      ]
     },
     "metadata": {},
     "output_type": "display_data"
    },
    {
     "data": {
      "text/html": [
       "<div>\n",
       "<style scoped>\n",
       "    .dataframe tbody tr th:only-of-type {\n",
       "        vertical-align: middle;\n",
       "    }\n",
       "\n",
       "    .dataframe tbody tr th {\n",
       "        vertical-align: top;\n",
       "    }\n",
       "\n",
       "    .dataframe thead th {\n",
       "        text-align: right;\n",
       "    }\n",
       "</style>\n",
       "<table border=\"1\" class=\"dataframe\">\n",
       "  <thead>\n",
       "    <tr style=\"text-align: right;\">\n",
       "      <th></th>\n",
       "      <th>customerID</th>\n",
       "      <th>MultipleLines</th>\n",
       "    </tr>\n",
       "  </thead>\n",
       "  <tbody>\n",
       "    <tr>\n",
       "      <th>count</th>\n",
       "      <td>6361</td>\n",
       "      <td>6361</td>\n",
       "    </tr>\n",
       "    <tr>\n",
       "      <th>unique</th>\n",
       "      <td>6361</td>\n",
       "      <td>2</td>\n",
       "    </tr>\n",
       "    <tr>\n",
       "      <th>top</th>\n",
       "      <td>0581-BXBUB</td>\n",
       "      <td>No</td>\n",
       "    </tr>\n",
       "    <tr>\n",
       "      <th>freq</th>\n",
       "      <td>1</td>\n",
       "      <td>3390</td>\n",
       "    </tr>\n",
       "  </tbody>\n",
       "</table>\n",
       "</div>"
      ],
      "text/plain": [
       "        customerID MultipleLines\n",
       "count         6361          6361\n",
       "unique        6361             2\n",
       "top     0581-BXBUB            No\n",
       "freq             1          3390"
      ]
     },
     "metadata": {},
     "output_type": "display_data"
    },
    {
     "name": "stdout",
     "output_type": "stream",
     "text": [
      "Количество дубликатов ID пользователя 0\n"
     ]
    }
   ],
   "source": [
    "print('Массив ТЕЛЕФОНИЯ')\n",
    "info_df(ph_df)"
   ]
  },
  {
   "cell_type": "markdown",
   "metadata": {},
   "source": [
    "**Выводы:**\n",
    "\n",
    "- пропуски отсутствуют;\n",
    "- дубликаты отсутствуют;\n",
    "- общее количество заключенных контрактов с пользователями 7043, из которых с доступом в интернет 5517, а телефония 6361;\n",
    "- требуется переименование столбцов;\n",
    "- требуется изменение типа полей в таблице ДОГОВОР BeginDate, EndDate (в формат даты) и TotalCharges (в числовой тип);\n",
    "- целевой признак в таблице ДОГОВОР(столбец EndDate) имеет значение \"No\" и несет смысл \"по настоящее время\" (т.е. на дату 1 февраля 2020);\n",
    "- для корректной обработки значение \"No\" в столбце EndDate мы можем заменить на значение последней даты обновления данных (01 февраля 2020)."
   ]
  },
  {
   "cell_type": "markdown",
   "metadata": {},
   "source": [
    "### Предобработка данных"
   ]
  },
  {
   "cell_type": "markdown",
   "metadata": {},
   "source": [
    "#### Переименование столбцов"
   ]
  },
  {
   "cell_type": "code",
   "execution_count": 9,
   "metadata": {},
   "outputs": [],
   "source": [
    "c_df = c_df.rename(columns={'customerID': 'CustomerID'})\n",
    "p_df = p_df.rename(columns={'customerID': 'CustomerID', 'gender': 'Gender'})\n",
    "i_df = i_df.rename(columns={'customerID': 'CustomerID'})\n",
    "ph_df = ph_df.rename(columns={'customerID': 'CustomerID'})"
   ]
  },
  {
   "cell_type": "markdown",
   "metadata": {},
   "source": [
    "#### Добавление целевого признака\n",
    "\n",
    "Создадим целевой признак `Trgt` на основании занчения столбца EndDate `No` в таблице ДОГОВОР"
   ]
  },
  {
   "cell_type": "code",
   "execution_count": 10,
   "metadata": {},
   "outputs": [
    {
     "data": {
      "text/html": [
       "<div>\n",
       "<style scoped>\n",
       "    .dataframe tbody tr th:only-of-type {\n",
       "        vertical-align: middle;\n",
       "    }\n",
       "\n",
       "    .dataframe tbody tr th {\n",
       "        vertical-align: top;\n",
       "    }\n",
       "\n",
       "    .dataframe thead th {\n",
       "        text-align: right;\n",
       "    }\n",
       "</style>\n",
       "<table border=\"1\" class=\"dataframe\">\n",
       "  <thead>\n",
       "    <tr style=\"text-align: right;\">\n",
       "      <th></th>\n",
       "      <th>CustomerID</th>\n",
       "      <th>BeginDate</th>\n",
       "      <th>EndDate</th>\n",
       "      <th>Type</th>\n",
       "      <th>PaperlessBilling</th>\n",
       "      <th>PaymentMethod</th>\n",
       "      <th>MonthlyCharges</th>\n",
       "      <th>TotalCharges</th>\n",
       "      <th>Trgt</th>\n",
       "    </tr>\n",
       "  </thead>\n",
       "  <tbody>\n",
       "    <tr>\n",
       "      <th>0</th>\n",
       "      <td>7590-VHVEG</td>\n",
       "      <td>2020-01-01</td>\n",
       "      <td>No</td>\n",
       "      <td>Month-to-month</td>\n",
       "      <td>Yes</td>\n",
       "      <td>Electronic check</td>\n",
       "      <td>29.85</td>\n",
       "      <td>29.85</td>\n",
       "      <td>0</td>\n",
       "    </tr>\n",
       "    <tr>\n",
       "      <th>1</th>\n",
       "      <td>5575-GNVDE</td>\n",
       "      <td>2017-04-01</td>\n",
       "      <td>No</td>\n",
       "      <td>One year</td>\n",
       "      <td>No</td>\n",
       "      <td>Mailed check</td>\n",
       "      <td>56.95</td>\n",
       "      <td>1889.5</td>\n",
       "      <td>0</td>\n",
       "    </tr>\n",
       "    <tr>\n",
       "      <th>2</th>\n",
       "      <td>3668-QPYBK</td>\n",
       "      <td>2019-10-01</td>\n",
       "      <td>2019-12-01 00:00:00</td>\n",
       "      <td>Month-to-month</td>\n",
       "      <td>Yes</td>\n",
       "      <td>Mailed check</td>\n",
       "      <td>53.85</td>\n",
       "      <td>108.15</td>\n",
       "      <td>1</td>\n",
       "    </tr>\n",
       "    <tr>\n",
       "      <th>3</th>\n",
       "      <td>7795-CFOCW</td>\n",
       "      <td>2016-05-01</td>\n",
       "      <td>No</td>\n",
       "      <td>One year</td>\n",
       "      <td>No</td>\n",
       "      <td>Bank transfer (automatic)</td>\n",
       "      <td>42.30</td>\n",
       "      <td>1840.75</td>\n",
       "      <td>0</td>\n",
       "    </tr>\n",
       "    <tr>\n",
       "      <th>4</th>\n",
       "      <td>9237-HQITU</td>\n",
       "      <td>2019-09-01</td>\n",
       "      <td>2019-11-01 00:00:00</td>\n",
       "      <td>Month-to-month</td>\n",
       "      <td>Yes</td>\n",
       "      <td>Electronic check</td>\n",
       "      <td>70.70</td>\n",
       "      <td>151.65</td>\n",
       "      <td>1</td>\n",
       "    </tr>\n",
       "  </tbody>\n",
       "</table>\n",
       "</div>"
      ],
      "text/plain": [
       "   CustomerID   BeginDate              EndDate            Type  \\\n",
       "0  7590-VHVEG  2020-01-01                   No  Month-to-month   \n",
       "1  5575-GNVDE  2017-04-01                   No        One year   \n",
       "2  3668-QPYBK  2019-10-01  2019-12-01 00:00:00  Month-to-month   \n",
       "3  7795-CFOCW  2016-05-01                   No        One year   \n",
       "4  9237-HQITU  2019-09-01  2019-11-01 00:00:00  Month-to-month   \n",
       "\n",
       "  PaperlessBilling              PaymentMethod  MonthlyCharges TotalCharges  \\\n",
       "0              Yes           Electronic check           29.85        29.85   \n",
       "1               No               Mailed check           56.95       1889.5   \n",
       "2              Yes               Mailed check           53.85       108.15   \n",
       "3               No  Bank transfer (automatic)           42.30      1840.75   \n",
       "4              Yes           Electronic check           70.70       151.65   \n",
       "\n",
       "   Trgt  \n",
       "0     0  \n",
       "1     0  \n",
       "2     1  \n",
       "3     0  \n",
       "4     1  "
      ]
     },
     "execution_count": 10,
     "metadata": {},
     "output_type": "execute_result"
    }
   ],
   "source": [
    "c_df['Trgt'] = (c_df['EndDate'] != 'No').astype(int)\n",
    "c_df.head()"
   ]
  },
  {
   "cell_type": "markdown",
   "metadata": {},
   "source": [
    "#### Обработка столбцов `BeginDate`, `EndDate` и `TotalCharges`"
   ]
  },
  {
   "cell_type": "code",
   "execution_count": 11,
   "metadata": {},
   "outputs": [
    {
     "name": "stdout",
     "output_type": "stream",
     "text": [
      "<class 'pandas.core.frame.DataFrame'>\n",
      "RangeIndex: 7043 entries, 0 to 7042\n",
      "Data columns (total 9 columns):\n",
      " #   Column            Non-Null Count  Dtype         \n",
      "---  ------            --------------  -----         \n",
      " 0   CustomerID        7043 non-null   object        \n",
      " 1   BeginDate         7043 non-null   datetime64[ns]\n",
      " 2   EndDate           7043 non-null   datetime64[ns]\n",
      " 3   Type              7043 non-null   object        \n",
      " 4   PaperlessBilling  7043 non-null   object        \n",
      " 5   PaymentMethod     7043 non-null   object        \n",
      " 6   MonthlyCharges    7043 non-null   float64       \n",
      " 7   TotalCharges      7043 non-null   float64       \n",
      " 8   Trgt              7043 non-null   int64         \n",
      "dtypes: datetime64[ns](2), float64(2), int64(1), object(4)\n",
      "memory usage: 495.3+ KB\n"
     ]
    }
   ],
   "source": [
    "c_df['BeginDate']= pd.to_datetime(c_df['BeginDate'], format='%Y-%m-%d')\n",
    "\n",
    "# для преобразования типа столбща 'EndDate' необходимо все значения привести вид даты\n",
    "c_df['EndDate'] = c_df['EndDate'].replace(['No'], ['2020-02-01'])\n",
    "c_df['EndDate']= pd.to_datetime(c_df['EndDate'], format='%Y-%m-%d')\n",
    "\n",
    "# у новых клиентов (договор меньше месяца) значение столбца TotalCharges пустое, заполним его значением 0:\n",
    "c_df['TotalCharges'] = pd.to_numeric(c_df['TotalCharges'], errors ='coerce')\n",
    "c_df['TotalCharges'] = c_df['TotalCharges'].fillna(0)\n",
    "\n",
    "c_df.info()"
   ]
  },
  {
   "cell_type": "markdown",
   "metadata": {},
   "source": [
    "#### Создание столбца `IntTime` (для подсчёта длительности действия договора)"
   ]
  },
  {
   "cell_type": "code",
   "execution_count": 12,
   "metadata": {},
   "outputs": [
    {
     "data": {
      "text/html": [
       "<div>\n",
       "<style scoped>\n",
       "    .dataframe tbody tr th:only-of-type {\n",
       "        vertical-align: middle;\n",
       "    }\n",
       "\n",
       "    .dataframe tbody tr th {\n",
       "        vertical-align: top;\n",
       "    }\n",
       "\n",
       "    .dataframe thead th {\n",
       "        text-align: right;\n",
       "    }\n",
       "</style>\n",
       "<table border=\"1\" class=\"dataframe\">\n",
       "  <thead>\n",
       "    <tr style=\"text-align: right;\">\n",
       "      <th></th>\n",
       "      <th>CustomerID</th>\n",
       "      <th>BeginDate</th>\n",
       "      <th>EndDate</th>\n",
       "      <th>Type</th>\n",
       "      <th>PaperlessBilling</th>\n",
       "      <th>PaymentMethod</th>\n",
       "      <th>MonthlyCharges</th>\n",
       "      <th>TotalCharges</th>\n",
       "      <th>Trgt</th>\n",
       "      <th>IntTime</th>\n",
       "    </tr>\n",
       "  </thead>\n",
       "  <tbody>\n",
       "    <tr>\n",
       "      <th>0</th>\n",
       "      <td>7590-VHVEG</td>\n",
       "      <td>2020-01-01</td>\n",
       "      <td>2020-02-01</td>\n",
       "      <td>Month-to-month</td>\n",
       "      <td>Yes</td>\n",
       "      <td>Electronic check</td>\n",
       "      <td>29.85</td>\n",
       "      <td>29.85</td>\n",
       "      <td>0</td>\n",
       "      <td>31</td>\n",
       "    </tr>\n",
       "    <tr>\n",
       "      <th>1</th>\n",
       "      <td>5575-GNVDE</td>\n",
       "      <td>2017-04-01</td>\n",
       "      <td>2020-02-01</td>\n",
       "      <td>One year</td>\n",
       "      <td>No</td>\n",
       "      <td>Mailed check</td>\n",
       "      <td>56.95</td>\n",
       "      <td>1889.50</td>\n",
       "      <td>0</td>\n",
       "      <td>1036</td>\n",
       "    </tr>\n",
       "    <tr>\n",
       "      <th>2</th>\n",
       "      <td>3668-QPYBK</td>\n",
       "      <td>2019-10-01</td>\n",
       "      <td>2019-12-01</td>\n",
       "      <td>Month-to-month</td>\n",
       "      <td>Yes</td>\n",
       "      <td>Mailed check</td>\n",
       "      <td>53.85</td>\n",
       "      <td>108.15</td>\n",
       "      <td>1</td>\n",
       "      <td>61</td>\n",
       "    </tr>\n",
       "    <tr>\n",
       "      <th>3</th>\n",
       "      <td>7795-CFOCW</td>\n",
       "      <td>2016-05-01</td>\n",
       "      <td>2020-02-01</td>\n",
       "      <td>One year</td>\n",
       "      <td>No</td>\n",
       "      <td>Bank transfer (automatic)</td>\n",
       "      <td>42.30</td>\n",
       "      <td>1840.75</td>\n",
       "      <td>0</td>\n",
       "      <td>1371</td>\n",
       "    </tr>\n",
       "    <tr>\n",
       "      <th>4</th>\n",
       "      <td>9237-HQITU</td>\n",
       "      <td>2019-09-01</td>\n",
       "      <td>2019-11-01</td>\n",
       "      <td>Month-to-month</td>\n",
       "      <td>Yes</td>\n",
       "      <td>Electronic check</td>\n",
       "      <td>70.70</td>\n",
       "      <td>151.65</td>\n",
       "      <td>1</td>\n",
       "      <td>61</td>\n",
       "    </tr>\n",
       "  </tbody>\n",
       "</table>\n",
       "</div>"
      ],
      "text/plain": [
       "   CustomerID  BeginDate    EndDate            Type PaperlessBilling  \\\n",
       "0  7590-VHVEG 2020-01-01 2020-02-01  Month-to-month              Yes   \n",
       "1  5575-GNVDE 2017-04-01 2020-02-01        One year               No   \n",
       "2  3668-QPYBK 2019-10-01 2019-12-01  Month-to-month              Yes   \n",
       "3  7795-CFOCW 2016-05-01 2020-02-01        One year               No   \n",
       "4  9237-HQITU 2019-09-01 2019-11-01  Month-to-month              Yes   \n",
       "\n",
       "               PaymentMethod  MonthlyCharges  TotalCharges  Trgt  IntTime  \n",
       "0           Electronic check           29.85         29.85     0       31  \n",
       "1               Mailed check           56.95       1889.50     0     1036  \n",
       "2               Mailed check           53.85        108.15     1       61  \n",
       "3  Bank transfer (automatic)           42.30       1840.75     0     1371  \n",
       "4           Electronic check           70.70        151.65     1       61  "
      ]
     },
     "execution_count": 12,
     "metadata": {},
     "output_type": "execute_result"
    }
   ],
   "source": [
    "c_df['IntTime'] = (c_df['EndDate'] - c_df['BeginDate']).dt.days\n",
    "c_df.head()"
   ]
  },
  {
   "cell_type": "markdown",
   "metadata": {},
   "source": [
    "#### Создание объединенного массива"
   ]
  },
  {
   "cell_type": "code",
   "execution_count": 13,
   "metadata": {},
   "outputs": [
    {
     "name": "stdout",
     "output_type": "stream",
     "text": [
      "Значения CustomerID уникальные? True\n",
      "<class 'pandas.core.frame.DataFrame'>\n",
      "Index: 7043 entries, 7590-VHVEG to 3186-AJIEK\n",
      "Data columns (total 21 columns):\n",
      " #   Column            Non-Null Count  Dtype         \n",
      "---  ------            --------------  -----         \n",
      " 0   BeginDate         7043 non-null   datetime64[ns]\n",
      " 1   EndDate           7043 non-null   datetime64[ns]\n",
      " 2   Type              7043 non-null   object        \n",
      " 3   PaperlessBilling  7043 non-null   object        \n",
      " 4   PaymentMethod     7043 non-null   object        \n",
      " 5   MonthlyCharges    7043 non-null   float64       \n",
      " 6   TotalCharges      7043 non-null   float64       \n",
      " 7   Trgt              7043 non-null   int64         \n",
      " 8   IntTime           7043 non-null   int64         \n",
      " 9   Gender            7043 non-null   object        \n",
      " 10  SeniorCitizen     7043 non-null   int64         \n",
      " 11  Partner           7043 non-null   object        \n",
      " 12  Dependents        7043 non-null   object        \n",
      " 13  InternetService   5517 non-null   object        \n",
      " 14  OnlineSecurity    5517 non-null   object        \n",
      " 15  OnlineBackup      5517 non-null   object        \n",
      " 16  DeviceProtection  5517 non-null   object        \n",
      " 17  TechSupport       5517 non-null   object        \n",
      " 18  StreamingTV       5517 non-null   object        \n",
      " 19  StreamingMovies   5517 non-null   object        \n",
      " 20  MultipleLines     6361 non-null   object        \n",
      "dtypes: datetime64[ns](2), float64(2), int64(3), object(14)\n",
      "memory usage: 1.2+ MB\n"
     ]
    }
   ],
   "source": [
    "df = c_df.merge(p_df, how='left', on='CustomerID') \\\n",
    "    .merge(i_df, how='left', on='CustomerID') \\\n",
    "    .merge(ph_df, how='left', on='CustomerID')\n",
    "print('Значения CustomerID уникальные?', df['CustomerID'].is_unique)\n",
    "df = df.set_index('CustomerID')\n",
    "df.info()"
   ]
  },
  {
   "cell_type": "markdown",
   "metadata": {},
   "source": [
    "#### Обработка пропусков, появившихся в следствие объединения из-за отсутствия услуг у пользователя"
   ]
  },
  {
   "cell_type": "code",
   "execution_count": 14,
   "metadata": {},
   "outputs": [
    {
     "name": "stdout",
     "output_type": "stream",
     "text": [
      "<class 'pandas.core.frame.DataFrame'>\n",
      "Index: 7043 entries, 7590-VHVEG to 3186-AJIEK\n",
      "Data columns (total 21 columns):\n",
      " #   Column            Non-Null Count  Dtype         \n",
      "---  ------            --------------  -----         \n",
      " 0   BeginDate         7043 non-null   datetime64[ns]\n",
      " 1   EndDate           7043 non-null   datetime64[ns]\n",
      " 2   Type              7043 non-null   object        \n",
      " 3   PaperlessBilling  7043 non-null   object        \n",
      " 4   PaymentMethod     7043 non-null   object        \n",
      " 5   MonthlyCharges    7043 non-null   float64       \n",
      " 6   TotalCharges      7043 non-null   float64       \n",
      " 7   Trgt              7043 non-null   int64         \n",
      " 8   IntTime           7043 non-null   int64         \n",
      " 9   Gender            7043 non-null   object        \n",
      " 10  SeniorCitizen     7043 non-null   int64         \n",
      " 11  Partner           7043 non-null   object        \n",
      " 12  Dependents        7043 non-null   object        \n",
      " 13  InternetService   7043 non-null   object        \n",
      " 14  OnlineSecurity    7043 non-null   object        \n",
      " 15  OnlineBackup      7043 non-null   object        \n",
      " 16  DeviceProtection  7043 non-null   object        \n",
      " 17  TechSupport       7043 non-null   object        \n",
      " 18  StreamingTV       7043 non-null   object        \n",
      " 19  StreamingMovies   7043 non-null   object        \n",
      " 20  MultipleLines     7043 non-null   object        \n",
      "dtypes: datetime64[ns](2), float64(2), int64(3), object(14)\n",
      "memory usage: 1.2+ MB\n"
     ]
    }
   ],
   "source": [
    "# пропуски заполняем по логике: отсутствующее значение свидетельствует о отсутствии услуги\n",
    "for clmn in ('InternetService', 'OnlineSecurity', 'OnlineBackup', 'DeviceProtection', 'TechSupport', 'StreamingTV', 'StreamingMovies', 'MultipleLines'):\n",
    "    df[clmn] = df[clmn].fillna('No')\n",
    "df.info()"
   ]
  },
  {
   "cell_type": "markdown",
   "metadata": {},
   "source": [
    "**ДАННЫЕ ПОДГОТОВЛЕНЫ ДЛЯ ДАЛЬНЕЙШЕГО ИЗУЧЕНИЯ**"
   ]
  },
  {
   "cell_type": "markdown",
   "metadata": {},
   "source": [
    "## Исследовательский анализ данных"
   ]
  },
  {
   "cell_type": "markdown",
   "metadata": {},
   "source": [
    "### Иссладование данных для отдела маркетинга"
   ]
  },
  {
   "cell_type": "markdown",
   "metadata": {},
   "source": [
    "#### Сравните распределения величин ежемесячных платежей (MonthlyCharges) всех клиентов и бывших пользователей"
   ]
  },
  {
   "cell_type": "code",
   "execution_count": 15,
   "metadata": {},
   "outputs": [
    {
     "data": {
      "image/png": "[encoded data removed]",
      "text/plain": [
       "<Figure size 1080x504 with 1 Axes>"
      ]
     },
     "metadata": {
      "needs_background": "light"
     },
     "output_type": "display_data"
    }
   ],
   "source": [
    "fig, axes = plt.subplots(1, 1, figsize=(15, 7))\n",
    "sns.distplot(df.query('Trgt==0')['MonthlyCharges'], label='Текущий').set_title('Распределене ежемесячных платежей (MonthlyCharges)')\n",
    "sns.distplot(df.query('Trgt==1')['MonthlyCharges'], label='Бывший')\n",
    "plt.setp(axes, xlabel='Размер платежей', ylabel='Плотность распределения')\n",
    "plt.legend(loc='upper right', title='Пользователь')\n",
    "plt.show()"
   ]
  },
  {
   "cell_type": "markdown",
   "metadata": {},
   "source": [
    "#### Статистика по клиентам и бывшим пользователям"
   ]
  },
  {
   "cell_type": "code",
   "execution_count": 16,
   "metadata": {},
   "outputs": [],
   "source": [
    "#разделим массив на 2 (текущие клиенты и ушедшие пользователи)\n",
    "df_n = df[df['Trgt'] == 0]\n",
    "df_t = df[df['Trgt'] == 1]"
   ]
  },
  {
   "cell_type": "code",
   "execution_count": 17,
   "metadata": {
    "scrolled": true
   },
   "outputs": [
    {
     "name": "stdout",
     "output_type": "stream",
     "text": [
      "Статистика по текущим клиентам:\n"
     ]
    },
    {
     "data": {
      "text/html": [
       "<div>\n",
       "<style scoped>\n",
       "    .dataframe tbody tr th:only-of-type {\n",
       "        vertical-align: middle;\n",
       "    }\n",
       "\n",
       "    .dataframe tbody tr th {\n",
       "        vertical-align: top;\n",
       "    }\n",
       "\n",
       "    .dataframe thead th {\n",
       "        text-align: right;\n",
       "    }\n",
       "</style>\n",
       "<table border=\"1\" class=\"dataframe\">\n",
       "  <thead>\n",
       "    <tr style=\"text-align: right;\">\n",
       "      <th></th>\n",
       "      <th>MonthlyCharges</th>\n",
       "      <th>TotalCharges</th>\n",
       "      <th>IntTime</th>\n",
       "    </tr>\n",
       "  </thead>\n",
       "  <tbody>\n",
       "    <tr>\n",
       "      <th>count</th>\n",
       "      <td>5174.000000</td>\n",
       "      <td>5174.000000</td>\n",
       "      <td>5174.000000</td>\n",
       "    </tr>\n",
       "    <tr>\n",
       "      <th>mean</th>\n",
       "      <td>61.265124</td>\n",
       "      <td>2549.911442</td>\n",
       "      <td>1144.447236</td>\n",
       "    </tr>\n",
       "    <tr>\n",
       "      <th>std</th>\n",
       "      <td>31.092648</td>\n",
       "      <td>2329.954215</td>\n",
       "      <td>733.897937</td>\n",
       "    </tr>\n",
       "    <tr>\n",
       "      <th>min</th>\n",
       "      <td>18.250000</td>\n",
       "      <td>0.000000</td>\n",
       "      <td>0.000000</td>\n",
       "    </tr>\n",
       "    <tr>\n",
       "      <th>25%</th>\n",
       "      <td>25.100000</td>\n",
       "      <td>572.900000</td>\n",
       "      <td>457.000000</td>\n",
       "    </tr>\n",
       "    <tr>\n",
       "      <th>50%</th>\n",
       "      <td>64.425000</td>\n",
       "      <td>1679.525000</td>\n",
       "      <td>1157.000000</td>\n",
       "    </tr>\n",
       "    <tr>\n",
       "      <th>75%</th>\n",
       "      <td>88.400000</td>\n",
       "      <td>4262.850000</td>\n",
       "      <td>1857.000000</td>\n",
       "    </tr>\n",
       "    <tr>\n",
       "      <th>max</th>\n",
       "      <td>118.750000</td>\n",
       "      <td>8672.450000</td>\n",
       "      <td>2191.000000</td>\n",
       "    </tr>\n",
       "  </tbody>\n",
       "</table>\n",
       "</div>"
      ],
      "text/plain": [
       "       MonthlyCharges  TotalCharges      IntTime\n",
       "count     5174.000000   5174.000000  5174.000000\n",
       "mean        61.265124   2549.911442  1144.447236\n",
       "std         31.092648   2329.954215   733.897937\n",
       "min         18.250000      0.000000     0.000000\n",
       "25%         25.100000    572.900000   457.000000\n",
       "50%         64.425000   1679.525000  1157.000000\n",
       "75%         88.400000   4262.850000  1857.000000\n",
       "max        118.750000   8672.450000  2191.000000"
      ]
     },
     "metadata": {},
     "output_type": "display_data"
    },
    {
     "name": "stdout",
     "output_type": "stream",
     "text": [
      "Статистика по ушедшим пользователям:\n"
     ]
    },
    {
     "data": {
      "text/html": [
       "<div>\n",
       "<style scoped>\n",
       "    .dataframe tbody tr th:only-of-type {\n",
       "        vertical-align: middle;\n",
       "    }\n",
       "\n",
       "    .dataframe tbody tr th {\n",
       "        vertical-align: top;\n",
       "    }\n",
       "\n",
       "    .dataframe thead th {\n",
       "        text-align: right;\n",
       "    }\n",
       "</style>\n",
       "<table border=\"1\" class=\"dataframe\">\n",
       "  <thead>\n",
       "    <tr style=\"text-align: right;\">\n",
       "      <th></th>\n",
       "      <th>MonthlyCharges</th>\n",
       "      <th>TotalCharges</th>\n",
       "      <th>IntTime</th>\n",
       "    </tr>\n",
       "  </thead>\n",
       "  <tbody>\n",
       "    <tr>\n",
       "      <th>count</th>\n",
       "      <td>1869.000000</td>\n",
       "      <td>1869.000000</td>\n",
       "      <td>1869.000000</td>\n",
       "    </tr>\n",
       "    <tr>\n",
       "      <th>mean</th>\n",
       "      <td>74.441332</td>\n",
       "      <td>1531.796094</td>\n",
       "      <td>547.352060</td>\n",
       "    </tr>\n",
       "    <tr>\n",
       "      <th>std</th>\n",
       "      <td>24.666053</td>\n",
       "      <td>1890.822994</td>\n",
       "      <td>594.389607</td>\n",
       "    </tr>\n",
       "    <tr>\n",
       "      <th>min</th>\n",
       "      <td>18.850000</td>\n",
       "      <td>18.850000</td>\n",
       "      <td>30.000000</td>\n",
       "    </tr>\n",
       "    <tr>\n",
       "      <th>25%</th>\n",
       "      <td>56.150000</td>\n",
       "      <td>134.500000</td>\n",
       "      <td>61.000000</td>\n",
       "    </tr>\n",
       "    <tr>\n",
       "      <th>50%</th>\n",
       "      <td>79.650000</td>\n",
       "      <td>703.550000</td>\n",
       "      <td>304.000000</td>\n",
       "    </tr>\n",
       "    <tr>\n",
       "      <th>75%</th>\n",
       "      <td>94.200000</td>\n",
       "      <td>2331.300000</td>\n",
       "      <td>883.000000</td>\n",
       "    </tr>\n",
       "    <tr>\n",
       "      <th>max</th>\n",
       "      <td>118.350000</td>\n",
       "      <td>8684.800000</td>\n",
       "      <td>2191.000000</td>\n",
       "    </tr>\n",
       "  </tbody>\n",
       "</table>\n",
       "</div>"
      ],
      "text/plain": [
       "       MonthlyCharges  TotalCharges      IntTime\n",
       "count     1869.000000   1869.000000  1869.000000\n",
       "mean        74.441332   1531.796094   547.352060\n",
       "std         24.666053   1890.822994   594.389607\n",
       "min         18.850000     18.850000    30.000000\n",
       "25%         56.150000    134.500000    61.000000\n",
       "50%         79.650000    703.550000   304.000000\n",
       "75%         94.200000   2331.300000   883.000000\n",
       "max        118.350000   8684.800000  2191.000000"
      ]
     },
     "metadata": {},
     "output_type": "display_data"
    }
   ],
   "source": [
    "num_clmns = ['MonthlyCharges', 'TotalCharges', 'IntTime']\n",
    "print('Статистика по текущим клиентам:')\n",
    "display(df_n[num_clmns].describe())\n",
    "print('Статистика по ушедшим пользователям:')\n",
    "display(df_t[num_clmns].describe())"
   ]
  },
  {
   "cell_type": "markdown",
   "metadata": {},
   "source": [
    "#### Гистограммы распределения"
   ]
  },
  {
   "cell_type": "code",
   "execution_count": 18,
   "metadata": {},
   "outputs": [
    {
     "data": {
      "image/png": "[encoded data removed]",
      "text/plain": [
       "<Figure size 1440x432 with 3 Axes>"
      ]
     },
     "metadata": {
      "needs_background": "light"
     },
     "output_type": "display_data"
    }
   ],
   "source": [
    "fig, axes = plt.subplots(1, 3, figsize=(20, 6))\n",
    "\n",
    "for clmn, ax in zip(num_clmns, axes.flat):\n",
    "    sns.distplot(df.query('Trgt==0')[clmn], label='Текущий', ax=ax).set_title(clmn)\n",
    "    sns.distplot(df.query('Trgt==1')[clmn], label='Бывший', ax=ax).set_title(clmn)\n",
    "    ax.legend(loc='upper right', title='Пользователь')\n",
    "\n",
    "plt.setp(axes, xlabel=None, ylabel=None)\n",
    "plt.show()"
   ]
  },
  {
   "cell_type": "markdown",
   "metadata": {},
   "source": [
    "#### Сравнение поведения клиентов и бывших пользователей ("
   ]
  },
  {
   "cell_type": "code",
   "execution_count": 19,
   "metadata": {},
   "outputs": [],
   "source": [
    "# определение перечня столбцов с категориальными переменными\n",
    "cat_clmns = ['Trgt',\n",
    "    'Type',\n",
    "    'PaperlessBilling',\n",
    "    'PaymentMethod',\n",
    "    'Gender',\n",
    "    'SeniorCitizen',\n",
    "    'Partner',\n",
    "    'Dependents',\n",
    "    'InternetService', \n",
    "    'OnlineSecurity', \n",
    "    'OnlineBackup', \n",
    "    'DeviceProtection', \n",
    "    'TechSupport', \n",
    "    'StreamingTV', \n",
    "    'StreamingMovies', \n",
    "    'MultipleLines']"
   ]
  },
  {
   "cell_type": "code",
   "execution_count": 20,
   "metadata": {},
   "outputs": [
    {
     "data": {
      "image/png": "[encoded data removed]",
      "text/plain": [
       "<Figure size 1800x3600 with 16 Axes>"
      ]
     },
     "metadata": {
      "needs_background": "light"
     },
     "output_type": "display_data"
    }
   ],
   "source": [
    "fig, axes = plt.subplots(8, 2, figsize=(25, 50))\n",
    "for clmn, ax in zip(cat_clmns, axes.flat):\n",
    "    sns.countplot(clmn, hue='Trgt', data=df, ax=ax).set_title(clmn)\n",
    "    ax.legend(loc='upper right', title='Бывший пользователь')\n",
    "\n",
    "plt.setp(axes, xlabel=None, ylabel=None)\n",
    "plt.show()"
   ]
  },
  {
   "cell_type": "markdown",
   "metadata": {},
   "source": [
    "**Выводы:**\n",
    "\n",
    "- Целевая переменная показывает, что лишь 25% от всех пользователей прекращают использование услуг\n",
    "- Наибольшее (40%) количество пользователей используют помесячную оплату\n",
    "- Большинство предпочитает электронные чеки\n",
    "- Наиболее популярный способ оплаты - электронный\n",
    "- Значения пола и семейного положения в целом равны\n",
    "- Предсказуемо пенсионеров не большое количество, а абонентов с иждивенцами около 30%\n",
    "- Наиболее популярный способ подключения к интернету оптоволокно\n",
    "- Дополнительные услуги интернета пользуются популярностью в среднем у трети пользователей\n",
    "- Около 40% пользователей пользуются несколькими телефонными линиями"
   ]
  },
  {
   "cell_type": "markdown",
   "metadata": {},
   "source": [
    "## Моделирование"
   ]
  },
  {
   "cell_type": "markdown",
   "metadata": {},
   "source": [
    "### Предобработка исходных данных для обучения"
   ]
  },
  {
   "cell_type": "code",
   "execution_count": 21,
   "metadata": {},
   "outputs": [],
   "source": [
    "# удаление столбцов BeginDate и EndDate, которые не несут обучающей ценности и могут негативно повлиять на обучение модели\n",
    "del df['BeginDate'], df['EndDate']\n",
    "# также можно утверждать, что столбец TotalCharges несет в себе похожий смысл со столбцом IntTime, т.к. \n",
    "# чем больше время использования услуг, тем больше общая сумма всех трат клиента\n",
    "del df['TotalCharges']"
   ]
  },
  {
   "cell_type": "code",
   "execution_count": 22,
   "metadata": {},
   "outputs": [
    {
     "data": {
      "text/html": [
       "<div>\n",
       "<style scoped>\n",
       "    .dataframe tbody tr th:only-of-type {\n",
       "        vertical-align: middle;\n",
       "    }\n",
       "\n",
       "    .dataframe tbody tr th {\n",
       "        vertical-align: top;\n",
       "    }\n",
       "\n",
       "    .dataframe thead th {\n",
       "        text-align: right;\n",
       "    }\n",
       "</style>\n",
       "<table border=\"1\" class=\"dataframe\">\n",
       "  <thead>\n",
       "    <tr style=\"text-align: right;\">\n",
       "      <th></th>\n",
       "      <th>MonthlyCharges</th>\n",
       "      <th>Trgt</th>\n",
       "      <th>IntTime</th>\n",
       "      <th>SeniorCitizen</th>\n",
       "      <th>Type_One year</th>\n",
       "      <th>Type_Two year</th>\n",
       "      <th>PaperlessBilling_Yes</th>\n",
       "      <th>PaymentMethod_Credit card (automatic)</th>\n",
       "      <th>PaymentMethod_Electronic check</th>\n",
       "      <th>PaymentMethod_Mailed check</th>\n",
       "      <th>Gender_Male</th>\n",
       "      <th>Partner_Yes</th>\n",
       "      <th>Dependents_Yes</th>\n",
       "      <th>InternetService_Fiber optic</th>\n",
       "      <th>InternetService_No</th>\n",
       "      <th>OnlineSecurity_Yes</th>\n",
       "      <th>OnlineBackup_Yes</th>\n",
       "      <th>DeviceProtection_Yes</th>\n",
       "      <th>TechSupport_Yes</th>\n",
       "      <th>StreamingTV_Yes</th>\n",
       "      <th>StreamingMovies_Yes</th>\n",
       "      <th>MultipleLines_Yes</th>\n",
       "    </tr>\n",
       "    <tr>\n",
       "      <th>CustomerID</th>\n",
       "      <th></th>\n",
       "      <th></th>\n",
       "      <th></th>\n",
       "      <th></th>\n",
       "      <th></th>\n",
       "      <th></th>\n",
       "      <th></th>\n",
       "      <th></th>\n",
       "      <th></th>\n",
       "      <th></th>\n",
       "      <th></th>\n",
       "      <th></th>\n",
       "      <th></th>\n",
       "      <th></th>\n",
       "      <th></th>\n",
       "      <th></th>\n",
       "      <th></th>\n",
       "      <th></th>\n",
       "      <th></th>\n",
       "      <th></th>\n",
       "      <th></th>\n",
       "      <th></th>\n",
       "    </tr>\n",
       "  </thead>\n",
       "  <tbody>\n",
       "    <tr>\n",
       "      <th>7590-VHVEG</th>\n",
       "      <td>29.85</td>\n",
       "      <td>0</td>\n",
       "      <td>31</td>\n",
       "      <td>0</td>\n",
       "      <td>0</td>\n",
       "      <td>0</td>\n",
       "      <td>1</td>\n",
       "      <td>0</td>\n",
       "      <td>1</td>\n",
       "      <td>0</td>\n",
       "      <td>0</td>\n",
       "      <td>1</td>\n",
       "      <td>0</td>\n",
       "      <td>0</td>\n",
       "      <td>0</td>\n",
       "      <td>0</td>\n",
       "      <td>1</td>\n",
       "      <td>0</td>\n",
       "      <td>0</td>\n",
       "      <td>0</td>\n",
       "      <td>0</td>\n",
       "      <td>0</td>\n",
       "    </tr>\n",
       "    <tr>\n",
       "      <th>5575-GNVDE</th>\n",
       "      <td>56.95</td>\n",
       "      <td>0</td>\n",
       "      <td>1036</td>\n",
       "      <td>0</td>\n",
       "      <td>1</td>\n",
       "      <td>0</td>\n",
       "      <td>0</td>\n",
       "      <td>0</td>\n",
       "      <td>0</td>\n",
       "      <td>1</td>\n",
       "      <td>1</td>\n",
       "      <td>0</td>\n",
       "      <td>0</td>\n",
       "      <td>0</td>\n",
       "      <td>0</td>\n",
       "      <td>1</td>\n",
       "      <td>0</td>\n",
       "      <td>1</td>\n",
       "      <td>0</td>\n",
       "      <td>0</td>\n",
       "      <td>0</td>\n",
       "      <td>0</td>\n",
       "    </tr>\n",
       "    <tr>\n",
       "      <th>3668-QPYBK</th>\n",
       "      <td>53.85</td>\n",
       "      <td>1</td>\n",
       "      <td>61</td>\n",
       "      <td>0</td>\n",
       "      <td>0</td>\n",
       "      <td>0</td>\n",
       "      <td>1</td>\n",
       "      <td>0</td>\n",
       "      <td>0</td>\n",
       "      <td>1</td>\n",
       "      <td>1</td>\n",
       "      <td>0</td>\n",
       "      <td>0</td>\n",
       "      <td>0</td>\n",
       "      <td>0</td>\n",
       "      <td>1</td>\n",
       "      <td>1</td>\n",
       "      <td>0</td>\n",
       "      <td>0</td>\n",
       "      <td>0</td>\n",
       "      <td>0</td>\n",
       "      <td>0</td>\n",
       "    </tr>\n",
       "    <tr>\n",
       "      <th>7795-CFOCW</th>\n",
       "      <td>42.30</td>\n",
       "      <td>0</td>\n",
       "      <td>1371</td>\n",
       "      <td>0</td>\n",
       "      <td>1</td>\n",
       "      <td>0</td>\n",
       "      <td>0</td>\n",
       "      <td>0</td>\n",
       "      <td>0</td>\n",
       "      <td>0</td>\n",
       "      <td>1</td>\n",
       "      <td>0</td>\n",
       "      <td>0</td>\n",
       "      <td>0</td>\n",
       "      <td>0</td>\n",
       "      <td>1</td>\n",
       "      <td>0</td>\n",
       "      <td>1</td>\n",
       "      <td>1</td>\n",
       "      <td>0</td>\n",
       "      <td>0</td>\n",
       "      <td>0</td>\n",
       "    </tr>\n",
       "    <tr>\n",
       "      <th>9237-HQITU</th>\n",
       "      <td>70.70</td>\n",
       "      <td>1</td>\n",
       "      <td>61</td>\n",
       "      <td>0</td>\n",
       "      <td>0</td>\n",
       "      <td>0</td>\n",
       "      <td>1</td>\n",
       "      <td>0</td>\n",
       "      <td>1</td>\n",
       "      <td>0</td>\n",
       "      <td>0</td>\n",
       "      <td>0</td>\n",
       "      <td>0</td>\n",
       "      <td>1</td>\n",
       "      <td>0</td>\n",
       "      <td>0</td>\n",
       "      <td>0</td>\n",
       "      <td>0</td>\n",
       "      <td>0</td>\n",
       "      <td>0</td>\n",
       "      <td>0</td>\n",
       "      <td>0</td>\n",
       "    </tr>\n",
       "  </tbody>\n",
       "</table>\n",
       "</div>"
      ],
      "text/plain": [
       "            MonthlyCharges  Trgt  IntTime  SeniorCitizen  Type_One year  \\\n",
       "CustomerID                                                                \n",
       "7590-VHVEG           29.85     0       31              0              0   \n",
       "5575-GNVDE           56.95     0     1036              0              1   \n",
       "3668-QPYBK           53.85     1       61              0              0   \n",
       "7795-CFOCW           42.30     0     1371              0              1   \n",
       "9237-HQITU           70.70     1       61              0              0   \n",
       "\n",
       "            Type_Two year  PaperlessBilling_Yes  \\\n",
       "CustomerID                                        \n",
       "7590-VHVEG              0                     1   \n",
       "5575-GNVDE              0                     0   \n",
       "3668-QPYBK              0                     1   \n",
       "7795-CFOCW              0                     0   \n",
       "9237-HQITU              0                     1   \n",
       "\n",
       "            PaymentMethod_Credit card (automatic)  \\\n",
       "CustomerID                                          \n",
       "7590-VHVEG                                      0   \n",
       "5575-GNVDE                                      0   \n",
       "3668-QPYBK                                      0   \n",
       "7795-CFOCW                                      0   \n",
       "9237-HQITU                                      0   \n",
       "\n",
       "            PaymentMethod_Electronic check  PaymentMethod_Mailed check  \\\n",
       "CustomerID                                                               \n",
       "7590-VHVEG                               1                           0   \n",
       "5575-GNVDE                               0                           1   \n",
       "3668-QPYBK                               0                           1   \n",
       "7795-CFOCW                               0                           0   \n",
       "9237-HQITU                               1                           0   \n",
       "\n",
       "            Gender_Male  Partner_Yes  Dependents_Yes  \\\n",
       "CustomerID                                             \n",
       "7590-VHVEG            0            1               0   \n",
       "5575-GNVDE            1            0               0   \n",
       "3668-QPYBK            1            0               0   \n",
       "7795-CFOCW            1            0               0   \n",
       "9237-HQITU            0            0               0   \n",
       "\n",
       "            InternetService_Fiber optic  InternetService_No  \\\n",
       "CustomerID                                                    \n",
       "7590-VHVEG                            0                   0   \n",
       "5575-GNVDE                            0                   0   \n",
       "3668-QPYBK                            0                   0   \n",
       "7795-CFOCW                            0                   0   \n",
       "9237-HQITU                            1                   0   \n",
       "\n",
       "            OnlineSecurity_Yes  OnlineBackup_Yes  DeviceProtection_Yes  \\\n",
       "CustomerID                                                               \n",
       "7590-VHVEG                   0                 1                     0   \n",
       "5575-GNVDE                   1                 0                     1   \n",
       "3668-QPYBK                   1                 1                     0   \n",
       "7795-CFOCW                   1                 0                     1   \n",
       "9237-HQITU                   0                 0                     0   \n",
       "\n",
       "            TechSupport_Yes  StreamingTV_Yes  StreamingMovies_Yes  \\\n",
       "CustomerID                                                          \n",
       "7590-VHVEG                0                0                    0   \n",
       "5575-GNVDE                0                0                    0   \n",
       "3668-QPYBK                0                0                    0   \n",
       "7795-CFOCW                1                0                    0   \n",
       "9237-HQITU                0                0                    0   \n",
       "\n",
       "            MultipleLines_Yes  \n",
       "CustomerID                     \n",
       "7590-VHVEG                  0  \n",
       "5575-GNVDE                  0  \n",
       "3668-QPYBK                  0  \n",
       "7795-CFOCW                  0  \n",
       "9237-HQITU                  0  "
      ]
     },
     "execution_count": 22,
     "metadata": {},
     "output_type": "execute_result"
    }
   ],
   "source": [
    "# применение OHE\n",
    "df = pd.get_dummies(df, drop_first=True)\n",
    "df.head()"
   ]
  },
  {
   "cell_type": "code",
   "execution_count": 23,
   "metadata": {},
   "outputs": [],
   "source": [
    "# разделение данных на целевые и признаки \n",
    "trgt = df['Trgt'] \n",
    "ftrs = df.drop(columns=['Trgt'])"
   ]
  },
  {
   "cell_type": "code",
   "execution_count": 24,
   "metadata": {},
   "outputs": [],
   "source": [
    "# разделение на обучающие и тестовую выборки\n",
    "ftrs_trn, ftrs_tst, trgt_trn, trgt_tst = train_test_split(ftrs, trgt, test_size=0.2, random_state=12345)"
   ]
  },
  {
   "cell_type": "code",
   "execution_count": 25,
   "metadata": {},
   "outputs": [],
   "source": [
    "num_clmns = ['MonthlyCharges', 'IntTime']\n",
    "# масштабирование количественных значений\n",
    "scaler = StandardScaler()\n",
    "\n",
    "scaler.fit(ftrs_trn[num_clmns])\n",
    "\n",
    "ftrs_trn = ftrs_trn.copy()\n",
    "ftrs_trn[num_clmns] = scaler.transform(ftrs_trn[num_clmns])\n",
    "\n",
    "ftrs_tst = ftrs_tst.copy()\n",
    "ftrs_tst[num_clmns] = scaler.transform(ftrs_tst[num_clmns])"
   ]
  },
  {
   "cell_type": "code",
   "execution_count": 26,
   "metadata": {},
   "outputs": [
    {
     "name": "stdout",
     "output_type": "stream",
     "text": [
      "features_train 5634\n",
      "features_test 1409\n"
     ]
    }
   ],
   "source": [
    "print('features_train', len(ftrs_trn))\n",
    "print('features_test', len(ftrs_tst))"
   ]
  },
  {
   "cell_type": "code",
   "execution_count": 27,
   "metadata": {},
   "outputs": [
    {
     "data": {
      "image/png": "[encoded data removed]",
      "text/plain": [
       "<Figure size 432x288 with 1 Axes>"
      ]
     },
     "metadata": {
      "needs_background": "light"
     },
     "output_type": "display_data"
    }
   ],
   "source": [
    "trgt_trn.value_counts().plot(kind='bar', title='Распределение целевого признака')\n",
    "plt.show()"
   ]
  },
  {
   "cell_type": "code",
   "execution_count": 28,
   "metadata": {},
   "outputs": [
    {
     "data": {
      "image/png": "[encoded data removed]",
      "text/plain": [
       "<Figure size 432x288 with 1 Axes>"
      ]
     },
     "metadata": {
      "needs_background": "light"
     },
     "output_type": "display_data"
    }
   ],
   "source": [
    "# для устраненя дисбаланса классов проведём upsampling\n",
    "\n",
    "def upsmpl(ftrs, trgt, rpt):\n",
    "    ftrs_z = ftrs[trgt == 0]\n",
    "    ftrs_o = ftrs[trgt == 1]\n",
    "    trgt_z = trgt[trgt == 0]\n",
    "    trgt_o = trgt[trgt == 1]\n",
    "    ftrs_upsmpl = pd.concat([ftrs_z]+[ftrs_o]*rpt)\n",
    "    trgt_upsmpl = pd.concat([trgt_z]+[trgt_o]*rpt)\n",
    "    ftrs_upsmpl, trgt_upsmpl = shuffle(ftrs_upsmpl, trgt_upsmpl, random_state=12345)\n",
    "    return ftrs_upsmpl, trgt_upsmpl\n",
    "\n",
    "ftrs_trn, trgt_trn = upsmpl(ftrs_trn, trgt_trn, 3)\n",
    "\n",
    "trgt_trn.value_counts().plot(kind='bar', title='Распределение целевого признака')\n",
    "plt.show()"
   ]
  },
  {
   "cell_type": "markdown",
   "metadata": {},
   "source": [
    "### Обучение моделей"
   ]
  },
  {
   "cell_type": "markdown",
   "metadata": {},
   "source": [
    "#### LogisticRegression"
   ]
  },
  {
   "cell_type": "code",
   "execution_count": 29,
   "metadata": {},
   "outputs": [
    {
     "name": "stdout",
     "output_type": "stream",
     "text": [
      "{'C': 900}\n",
      "LogisticRegression ROC-AUC target test score 0.843766170556139\n",
      "CPU times: user 5.45 s, sys: 6.19 s, total: 11.6 s\n",
      "Wall time: 11.7 s\n"
     ]
    }
   ],
   "source": [
    "%%time\n",
    "param_grid = {'C': [850, 900, 1000]}\n",
    "\n",
    "model = LogisticRegression(solver='lbfgs', n_jobs=-1)\n",
    "\n",
    "lr = GridSearchCV(model, param_grid, cv=5, scoring='roc_auc')\n",
    "lr.fit(ftrs_trn, trgt_trn)\n",
    "\n",
    "print(lr.best_params_)\n",
    "\n",
    "predicted_prob = lr.best_estimator_.predict_proba(ftrs_tst)[:, 1]\n",
    "print('LogisticRegression ROC-AUC target test score', roc_auc_score(trgt_tst, predicted_prob))"
   ]
  },
  {
   "cell_type": "markdown",
   "metadata": {},
   "source": [
    "#### RandomForestClassifier"
   ]
  },
  {
   "cell_type": "code",
   "execution_count": 30,
   "metadata": {},
   "outputs": [
    {
     "name": "stdout",
     "output_type": "stream",
     "text": [
      "{'max_depth': 20, 'min_samples_leaf': 2, 'min_samples_split': 2, 'n_estimators': 125}\n",
      "RandomForestClassifier ROC-AUC target test score 0.8493698286241258\n",
      "CPU times: user 1min 22s, sys: 0 ns, total: 1min 22s\n",
      "Wall time: 1min 22s\n"
     ]
    }
   ],
   "source": [
    "%%time\n",
    "param_grid = {\n",
    "    'max_depth': [20, 25, 30],\n",
    "    'min_samples_split': [2, 10],\n",
    "    'min_samples_leaf': [2, 10],\n",
    "    'n_estimators': [75, 100, 125], \n",
    "}\n",
    "\n",
    "model = RandomForestClassifier(random_state=12345)\n",
    "\n",
    "rfc = GridSearchCV(model, param_grid, cv=5, scoring='roc_auc')\n",
    "rfc.fit(ftrs_trn, trgt_trn)\n",
    "\n",
    "print(rfc.best_params_)\n",
    "\n",
    "predicted_prob = rfc.best_estimator_.predict_proba(ftrs_tst)[:, 1]\n",
    "print('RandomForestClassifier ROC-AUC target test score', roc_auc_score(trgt_tst, predicted_prob))"
   ]
  },
  {
   "cell_type": "markdown",
   "metadata": {},
   "source": [
    "#### CatBoostClassifier"
   ]
  },
  {
   "cell_type": "code",
   "execution_count": 31,
   "metadata": {},
   "outputs": [
    {
     "name": "stdout",
     "output_type": "stream",
     "text": [
      "{'iterations': 110, 'l2_leaf_reg': 0.5, 'learning_rate': 0.4}\n",
      "CatBoostClassifier ROC-AUC target test score 0.9045367215718422\n",
      "CPU times: user 1min 1s, sys: 2.67 s, total: 1min 4s\n",
      "Wall time: 2min 43s\n"
     ]
    }
   ],
   "source": [
    "%%time\n",
    "param_grid = {\n",
    "    'learning_rate': [0.2, 0.3, 0.4],\n",
    "    'iterations': [90, 100, 110],\n",
    "    'l2_leaf_reg': [0.25, 0.5, 1, 2, 3]\n",
    "}\n",
    "\n",
    "model = CatBoostClassifier(random_state=12345, verbose=0)\n",
    "\n",
    "cbc = GridSearchCV(model, param_grid, cv=5, scoring='roc_auc')\n",
    "cbc.fit(ftrs_trn, trgt_trn)\n",
    "\n",
    "print(cbc.best_params_)\n",
    "\n",
    "predicted_prob = cbc.best_estimator_.predict_proba(ftrs_tst)[:, 1]\n",
    "print('CatBoostClassifier ROC-AUC target test score', roc_auc_score(trgt_tst, predicted_prob))"
   ]
  },
  {
   "cell_type": "markdown",
   "metadata": {},
   "source": [
    "##### Определение важности признаков"
   ]
  },
  {
   "cell_type": "code",
   "execution_count": 32,
   "metadata": {},
   "outputs": [
    {
     "data": {
      "image/png": "[encoded data removed]",
      "text/plain": [
       "<Figure size 720x360 with 1 Axes>"
      ]
     },
     "metadata": {
      "needs_background": "light"
     },
     "output_type": "display_data"
    }
   ],
   "source": [
    "pd.DataFrame(cbc.best_estimator_.feature_importances_, index = ftrs_tst.columns,\\\n",
    "             columns=['importance']).sort_values(by='importance',\\\n",
    "                                                 ascending=False).plot(kind='bar', figsize=(10, 5), title='Важность признаков')\n",
    "plt.show()"
   ]
  },
  {
   "cell_type": "markdown",
   "metadata": {},
   "source": [
    "# Результат исследования"
   ]
  },
  {
   "cell_type": "markdown",
   "metadata": {},
   "source": [
    "В данной работе проведено обучение моделей для предсказания оттока клиентов оператора сотовой связи.\n",
    "\n",
    "1. По обработанным исходным данным были сделаны предварительные выводы:\n",
    "- пропуски отсутствуют и дубликаты в исходных данных отсутствуют;\n",
    "- общее количество заключенных контрактов с пользователями 7043, из которых с доступом в интернет 5517, а телефония 6361;\n",
    "- требуется изменение типа полей в таблице ДОГОВОР BeginDate, EndDate (в формат даты) и TotalCharges (в числовой тип);\n",
    "- данные требуют незначительной подготовки;\n",
    "- для целевой функции моделирования подходит значение `No` столбца  `EndDate`.\n",
    "\n",
    "2. Для анализа модели, были добавлены 2 новых столбца - целевой признак Trgt(действующий абонент или нет) и IntTime(количество дней пользования услугами)\n",
    "\n",
    "\n",
    "3. После этого был проведен исследовательский анализ данных:\n",
    "- сравнение распределения величин ежемесячных платежей (MonthlyCharges) всех клиентов и тех, кто ушёл;\n",
    "- для каждой группы посчитана статистика;\n",
    "- построены гистограммы распределения;\n",
    "- предоставлены выводы для `отдела маркетинга`;\n",
    "- в целом по результатам анализа выявлены типы клиентов потенциально склонныхк смене оператора и наиболее востребованные способы их удержанияк. \n",
    "\n",
    "5. Для обучения модели проведена подготовка данных: удалены ненужные столбцы, применена техника OHE, датафрейм был разделен на обучающую и тестовую выборки, проведено масштабирование количественных признаков и проведен upsample.\n",
    "\n",
    "\n",
    "6. В результате обучения моделей, лучший результат показала CatBoostClassifier: согласно требованиям к целевому показателию ROC-AUC в 0.905, что выше максимального требуемого значения 0,88.\n",
    "\n",
    "\n",
    "7. После моделирования графически определена важность признаков для определения лояльности клиентов: время пользования услугами и стоимость услуг в месяц."
   ]
  }
 ],
 "metadata": {
  "ExecuteTimeLog": [
   {
    "duration": 949,
    "start_time": "2022-07-11T15:31:45.217Z"
   },
   {
    "duration": 3,
    "start_time": "2022-07-11T15:33:32.394Z"
   },
   {
    "duration": 89,
    "start_time": "2022-07-11T15:42:30.593Z"
   },
   {
    "duration": 194,
    "start_time": "2022-07-11T15:42:36.252Z"
   },
   {
    "duration": 44,
    "start_time": "2022-07-11T15:42:36.748Z"
   },
   {
    "duration": 4,
    "start_time": "2022-07-11T15:44:34.093Z"
   },
   {
    "duration": 37,
    "start_time": "2022-07-11T15:44:39.337Z"
   },
   {
    "duration": 4,
    "start_time": "2022-07-11T16:19:59.832Z"
   },
   {
    "duration": 4,
    "start_time": "2022-07-11T16:20:00.273Z"
   },
   {
    "duration": 81,
    "start_time": "2022-07-11T16:20:02.021Z"
   },
   {
    "duration": 33,
    "start_time": "2022-07-11T16:20:02.380Z"
   },
   {
    "duration": 3,
    "start_time": "2022-07-11T16:20:40.462Z"
   },
   {
    "duration": 3,
    "start_time": "2022-07-11T16:20:49.991Z"
   },
   {
    "duration": 79,
    "start_time": "2022-07-11T16:20:50.861Z"
   },
   {
    "duration": 30,
    "start_time": "2022-07-11T16:20:51.780Z"
   },
   {
    "duration": 37,
    "start_time": "2022-07-11T16:30:17.738Z"
   },
   {
    "duration": 821,
    "start_time": "2022-07-12T17:28:15.815Z"
   },
   {
    "duration": 3,
    "start_time": "2022-07-12T17:28:16.641Z"
   },
   {
    "duration": 214,
    "start_time": "2022-07-12T17:28:16.646Z"
   },
   {
    "duration": 33,
    "start_time": "2022-07-12T17:28:16.862Z"
   },
   {
    "duration": 25,
    "start_time": "2022-07-12T17:28:16.897Z"
   },
   {
    "duration": 3,
    "start_time": "2022-07-12T17:30:54.868Z"
   },
   {
    "duration": 102,
    "start_time": "2022-07-12T17:30:57.461Z"
   },
   {
    "duration": 44,
    "start_time": "2022-07-12T17:30:57.753Z"
   },
   {
    "duration": 5,
    "start_time": "2022-07-12T17:31:56.353Z"
   },
   {
    "duration": 87,
    "start_time": "2022-07-12T17:31:57.904Z"
   },
   {
    "duration": 31,
    "start_time": "2022-07-12T17:31:58.074Z"
   },
   {
    "duration": 5,
    "start_time": "2022-07-12T17:32:51.948Z"
   },
   {
    "duration": 88,
    "start_time": "2022-07-12T17:32:53.595Z"
   },
   {
    "duration": 30,
    "start_time": "2022-07-12T17:32:53.685Z"
   },
   {
    "duration": 38,
    "start_time": "2022-07-12T17:34:48.980Z"
   },
   {
    "duration": 58,
    "start_time": "2022-07-12T17:34:57.400Z"
   },
   {
    "duration": 28,
    "start_time": "2022-07-12T17:35:21.280Z"
   },
   {
    "duration": 704,
    "start_time": "2022-07-12T17:39:01.060Z"
   },
   {
    "duration": 4,
    "start_time": "2022-07-12T17:39:01.766Z"
   },
   {
    "duration": 104,
    "start_time": "2022-07-12T17:39:01.772Z"
   },
   {
    "duration": 37,
    "start_time": "2022-07-12T17:39:01.878Z"
   },
   {
    "duration": 48,
    "start_time": "2022-07-12T17:39:01.917Z"
   },
   {
    "duration": 76,
    "start_time": "2022-07-12T17:39:01.969Z"
   },
   {
    "duration": 48,
    "start_time": "2022-07-12T17:39:02.052Z"
   },
   {
    "duration": 33,
    "start_time": "2022-07-12T17:39:02.102Z"
   },
   {
    "duration": 767,
    "start_time": "2022-07-12T18:04:07.562Z"
   },
   {
    "duration": 20,
    "start_time": "2022-07-12T18:04:08.331Z"
   },
   {
    "duration": 159,
    "start_time": "2022-07-12T18:04:08.353Z"
   },
   {
    "duration": 45,
    "start_time": "2022-07-12T18:04:08.514Z"
   },
   {
    "duration": 44,
    "start_time": "2022-07-12T18:04:08.563Z"
   },
   {
    "duration": 55,
    "start_time": "2022-07-12T18:04:08.609Z"
   },
   {
    "duration": 74,
    "start_time": "2022-07-12T18:04:08.669Z"
   },
   {
    "duration": 54,
    "start_time": "2022-07-12T18:04:08.750Z"
   },
   {
    "duration": 45,
    "start_time": "2022-07-12T18:04:08.806Z"
   },
   {
    "duration": 10,
    "start_time": "2022-07-12T18:04:43.762Z"
   },
   {
    "duration": 18,
    "start_time": "2022-07-12T18:06:31.662Z"
   },
   {
    "duration": 7,
    "start_time": "2022-07-12T18:08:45.577Z"
   },
   {
    "duration": 8,
    "start_time": "2022-07-12T18:08:58.617Z"
   },
   {
    "duration": 1750,
    "start_time": "2022-07-12T18:09:25.555Z"
   },
   {
    "duration": 19,
    "start_time": "2022-07-12T18:09:53.921Z"
   },
   {
    "duration": 7,
    "start_time": "2022-07-12T18:10:14.475Z"
   },
   {
    "duration": 7,
    "start_time": "2022-07-12T18:10:25.313Z"
   },
   {
    "duration": 10,
    "start_time": "2022-07-12T18:10:33.619Z"
   },
   {
    "duration": 12,
    "start_time": "2022-07-12T18:10:39.663Z"
   },
   {
    "duration": 14,
    "start_time": "2022-07-12T18:10:49.453Z"
   },
   {
    "duration": 1191,
    "start_time": "2022-07-12T18:11:06.118Z"
   },
   {
    "duration": 6,
    "start_time": "2022-07-12T18:11:20.468Z"
   },
   {
    "duration": 708,
    "start_time": "2022-07-12T18:11:55.190Z"
   },
   {
    "duration": 4,
    "start_time": "2022-07-12T18:11:55.900Z"
   },
   {
    "duration": 94,
    "start_time": "2022-07-12T18:11:55.907Z"
   },
   {
    "duration": 67,
    "start_time": "2022-07-12T18:11:56.003Z"
   },
   {
    "duration": 14,
    "start_time": "2022-07-12T18:11:56.072Z"
   },
   {
    "duration": 30,
    "start_time": "2022-07-12T18:11:56.088Z"
   },
   {
    "duration": 70,
    "start_time": "2022-07-12T18:11:56.120Z"
   },
   {
    "duration": 66,
    "start_time": "2022-07-12T18:11:56.192Z"
   },
   {
    "duration": 39,
    "start_time": "2022-07-12T18:11:56.260Z"
   },
   {
    "duration": 625,
    "start_time": "2022-07-13T05:24:30.611Z"
   },
   {
    "duration": 4,
    "start_time": "2022-07-13T05:24:31.238Z"
   },
   {
    "duration": 78,
    "start_time": "2022-07-13T05:24:31.243Z"
   },
   {
    "duration": 31,
    "start_time": "2022-07-13T05:24:31.323Z"
   },
   {
    "duration": 9,
    "start_time": "2022-07-13T05:24:31.356Z"
   },
   {
    "duration": 29,
    "start_time": "2022-07-13T05:24:31.366Z"
   },
   {
    "duration": 66,
    "start_time": "2022-07-13T05:24:31.396Z"
   },
   {
    "duration": 24,
    "start_time": "2022-07-13T05:24:31.463Z"
   },
   {
    "duration": 65,
    "start_time": "2022-07-13T06:08:43.093Z"
   },
   {
    "duration": 5,
    "start_time": "2022-07-13T06:08:49.799Z"
   },
   {
    "duration": 12,
    "start_time": "2022-07-13T06:09:45.396Z"
   },
   {
    "duration": 14,
    "start_time": "2022-07-13T06:10:06.488Z"
   },
   {
    "duration": 14,
    "start_time": "2022-07-13T06:10:28.503Z"
   },
   {
    "duration": 535,
    "start_time": "2022-07-13T06:10:39.282Z"
   },
   {
    "duration": 5,
    "start_time": "2022-07-13T06:10:39.819Z"
   },
   {
    "duration": 71,
    "start_time": "2022-07-13T06:10:39.826Z"
   },
   {
    "duration": 37,
    "start_time": "2022-07-13T06:10:39.899Z"
   },
   {
    "duration": 9,
    "start_time": "2022-07-13T06:10:39.937Z"
   },
   {
    "duration": 26,
    "start_time": "2022-07-13T06:10:39.947Z"
   },
   {
    "duration": 65,
    "start_time": "2022-07-13T06:10:39.975Z"
   },
   {
    "duration": 27,
    "start_time": "2022-07-13T06:10:40.042Z"
   },
   {
    "duration": 7,
    "start_time": "2022-07-13T06:10:40.071Z"
   },
   {
    "duration": 44,
    "start_time": "2022-07-13T06:10:40.081Z"
   },
   {
    "duration": 14,
    "start_time": "2022-07-13T06:10:50.234Z"
   },
   {
    "duration": 600,
    "start_time": "2022-07-13T06:11:00.243Z"
   },
   {
    "duration": 3,
    "start_time": "2022-07-13T06:11:00.845Z"
   },
   {
    "duration": 84,
    "start_time": "2022-07-13T06:11:00.849Z"
   },
   {
    "duration": 34,
    "start_time": "2022-07-13T06:11:00.935Z"
   },
   {
    "duration": 9,
    "start_time": "2022-07-13T06:11:00.971Z"
   },
   {
    "duration": 51,
    "start_time": "2022-07-13T06:11:00.981Z"
   },
   {
    "duration": 43,
    "start_time": "2022-07-13T06:11:01.034Z"
   },
   {
    "duration": 51,
    "start_time": "2022-07-13T06:11:01.078Z"
   },
   {
    "duration": 6,
    "start_time": "2022-07-13T06:11:01.131Z"
   },
   {
    "duration": 81,
    "start_time": "2022-07-13T06:11:01.139Z"
   },
   {
    "duration": 5,
    "start_time": "2022-07-13T06:11:08.393Z"
   },
   {
    "duration": 634,
    "start_time": "2022-07-13T06:11:16.602Z"
   },
   {
    "duration": 3,
    "start_time": "2022-07-13T06:11:17.238Z"
   },
   {
    "duration": 70,
    "start_time": "2022-07-13T06:11:17.242Z"
   },
   {
    "duration": 36,
    "start_time": "2022-07-13T06:11:17.314Z"
   },
   {
    "duration": 11,
    "start_time": "2022-07-13T06:11:17.351Z"
   },
   {
    "duration": 57,
    "start_time": "2022-07-13T06:11:17.364Z"
   },
   {
    "duration": 39,
    "start_time": "2022-07-13T06:11:17.424Z"
   },
   {
    "duration": 24,
    "start_time": "2022-07-13T06:11:17.464Z"
   },
   {
    "duration": 35,
    "start_time": "2022-07-13T06:11:17.489Z"
   },
   {
    "duration": 5,
    "start_time": "2022-07-13T06:11:17.833Z"
   },
   {
    "duration": 596,
    "start_time": "2022-07-13T06:11:34.539Z"
   },
   {
    "duration": 3,
    "start_time": "2022-07-13T06:11:35.137Z"
   },
   {
    "duration": 78,
    "start_time": "2022-07-13T06:11:35.141Z"
   },
   {
    "duration": 35,
    "start_time": "2022-07-13T06:11:35.221Z"
   },
   {
    "duration": 9,
    "start_time": "2022-07-13T06:11:35.258Z"
   },
   {
    "duration": 26,
    "start_time": "2022-07-13T06:11:35.269Z"
   },
   {
    "duration": 44,
    "start_time": "2022-07-13T06:11:35.324Z"
   },
   {
    "duration": 25,
    "start_time": "2022-07-13T06:11:35.370Z"
   },
   {
    "duration": 6,
    "start_time": "2022-07-13T06:11:35.423Z"
   },
   {
    "duration": 17,
    "start_time": "2022-07-13T06:11:35.431Z"
   },
   {
    "duration": 586,
    "start_time": "2022-07-13T06:32:47.848Z"
   },
   {
    "duration": 3,
    "start_time": "2022-07-13T06:32:48.436Z"
   },
   {
    "duration": 72,
    "start_time": "2022-07-13T06:32:48.441Z"
   },
   {
    "duration": 31,
    "start_time": "2022-07-13T06:32:48.515Z"
   },
   {
    "duration": 9,
    "start_time": "2022-07-13T06:32:48.548Z"
   },
   {
    "duration": 23,
    "start_time": "2022-07-13T06:32:48.559Z"
   },
   {
    "duration": 73,
    "start_time": "2022-07-13T06:32:48.584Z"
   },
   {
    "duration": 25,
    "start_time": "2022-07-13T06:32:48.658Z"
   },
   {
    "duration": 6,
    "start_time": "2022-07-13T06:32:48.684Z"
   },
   {
    "duration": 40,
    "start_time": "2022-07-13T06:32:48.692Z"
   },
   {
    "duration": 13,
    "start_time": "2022-07-13T07:24:03.899Z"
   },
   {
    "duration": 2,
    "start_time": "2022-07-13T07:24:48.980Z"
   },
   {
    "duration": 4,
    "start_time": "2022-07-13T07:25:38.445Z"
   },
   {
    "duration": 10,
    "start_time": "2022-07-13T07:28:29.209Z"
   },
   {
    "duration": 16,
    "start_time": "2022-07-13T07:29:25.414Z"
   },
   {
    "duration": 23,
    "start_time": "2022-07-13T07:29:40.174Z"
   },
   {
    "duration": 63,
    "start_time": "2022-07-13T07:30:19.064Z"
   },
   {
    "duration": 645,
    "start_time": "2022-07-13T07:32:06.100Z"
   },
   {
    "duration": 523,
    "start_time": "2022-07-13T07:34:37.155Z"
   },
   {
    "duration": 604,
    "start_time": "2022-07-13T07:34:46.290Z"
   },
   {
    "duration": 3,
    "start_time": "2022-07-13T07:34:46.895Z"
   },
   {
    "duration": 76,
    "start_time": "2022-07-13T07:34:46.899Z"
   },
   {
    "duration": 35,
    "start_time": "2022-07-13T07:34:46.977Z"
   },
   {
    "duration": 9,
    "start_time": "2022-07-13T07:34:47.014Z"
   },
   {
    "duration": 24,
    "start_time": "2022-07-13T07:34:47.025Z"
   },
   {
    "duration": 42,
    "start_time": "2022-07-13T07:34:47.050Z"
   },
   {
    "duration": 51,
    "start_time": "2022-07-13T07:34:47.093Z"
   },
   {
    "duration": 5,
    "start_time": "2022-07-13T07:34:47.145Z"
   },
   {
    "duration": 14,
    "start_time": "2022-07-13T07:34:47.152Z"
   },
   {
    "duration": 531,
    "start_time": "2022-07-13T07:34:47.168Z"
   },
   {
    "duration": 616,
    "start_time": "2022-07-13T07:51:38.301Z"
   },
   {
    "duration": 5,
    "start_time": "2022-07-13T07:51:38.919Z"
   },
   {
    "duration": 71,
    "start_time": "2022-07-13T07:51:38.925Z"
   },
   {
    "duration": 32,
    "start_time": "2022-07-13T07:51:38.998Z"
   },
   {
    "duration": 8,
    "start_time": "2022-07-13T07:51:39.031Z"
   },
   {
    "duration": 23,
    "start_time": "2022-07-13T07:51:39.041Z"
   },
   {
    "duration": 67,
    "start_time": "2022-07-13T07:51:39.066Z"
   },
   {
    "duration": 24,
    "start_time": "2022-07-13T07:51:39.134Z"
   },
   {
    "duration": 6,
    "start_time": "2022-07-13T07:51:39.159Z"
   },
   {
    "duration": 14,
    "start_time": "2022-07-13T07:51:39.167Z"
   },
   {
    "duration": 43,
    "start_time": "2022-07-13T07:51:39.182Z"
   },
   {
    "duration": 24,
    "start_time": "2022-07-13T07:51:49.960Z"
   },
   {
    "duration": 551,
    "start_time": "2022-07-13T07:51:56.676Z"
   },
   {
    "duration": 4,
    "start_time": "2022-07-13T07:51:57.229Z"
   },
   {
    "duration": 70,
    "start_time": "2022-07-13T07:51:57.234Z"
   },
   {
    "duration": 33,
    "start_time": "2022-07-13T07:51:57.306Z"
   },
   {
    "duration": 9,
    "start_time": "2022-07-13T07:51:57.340Z"
   },
   {
    "duration": 25,
    "start_time": "2022-07-13T07:51:57.350Z"
   },
   {
    "duration": 76,
    "start_time": "2022-07-13T07:51:57.376Z"
   },
   {
    "duration": 37,
    "start_time": "2022-07-13T07:51:57.454Z"
   },
   {
    "duration": 34,
    "start_time": "2022-07-13T07:51:57.493Z"
   },
   {
    "duration": 24,
    "start_time": "2022-07-13T07:51:57.529Z"
   },
   {
    "duration": 524,
    "start_time": "2022-07-13T07:51:57.555Z"
   },
   {
    "duration": 30,
    "start_time": "2022-07-13T07:54:04.898Z"
   },
   {
    "duration": 621,
    "start_time": "2022-07-13T07:59:57.021Z"
   },
   {
    "duration": 3,
    "start_time": "2022-07-13T07:59:57.643Z"
   },
   {
    "duration": 76,
    "start_time": "2022-07-13T07:59:57.648Z"
   },
   {
    "duration": 33,
    "start_time": "2022-07-13T07:59:57.725Z"
   },
   {
    "duration": 9,
    "start_time": "2022-07-13T07:59:57.760Z"
   },
   {
    "duration": 24,
    "start_time": "2022-07-13T07:59:57.770Z"
   },
   {
    "duration": 68,
    "start_time": "2022-07-13T07:59:57.795Z"
   },
   {
    "duration": 24,
    "start_time": "2022-07-13T07:59:57.864Z"
   },
   {
    "duration": 5,
    "start_time": "2022-07-13T07:59:57.890Z"
   },
   {
    "duration": 40,
    "start_time": "2022-07-13T07:59:57.896Z"
   },
   {
    "duration": 21,
    "start_time": "2022-07-13T07:59:57.937Z"
   },
   {
    "duration": 76,
    "start_time": "2022-07-13T07:59:57.960Z"
   },
   {
    "duration": 8,
    "start_time": "2022-07-13T08:01:26.579Z"
   },
   {
    "duration": 13,
    "start_time": "2022-07-13T08:01:50.669Z"
   },
   {
    "duration": 24,
    "start_time": "2022-07-13T08:19:59.560Z"
   },
   {
    "duration": 41,
    "start_time": "2022-07-13T08:20:24.339Z"
   },
   {
    "duration": 28,
    "start_time": "2022-07-13T08:21:14.010Z"
   },
   {
    "duration": 40,
    "start_time": "2022-07-13T08:21:18.694Z"
   },
   {
    "duration": 44,
    "start_time": "2022-07-13T08:21:55.196Z"
   },
   {
    "duration": 988,
    "start_time": "2022-07-13T08:22:56.286Z"
   },
   {
    "duration": 10,
    "start_time": "2022-07-13T08:32:05.600Z"
   },
   {
    "duration": 41,
    "start_time": "2022-07-13T08:33:04.367Z"
   },
   {
    "duration": 663,
    "start_time": "2022-07-13T08:34:04.538Z"
   },
   {
    "duration": 3,
    "start_time": "2022-07-13T08:34:05.203Z"
   },
   {
    "duration": 74,
    "start_time": "2022-07-13T08:34:05.208Z"
   },
   {
    "duration": 34,
    "start_time": "2022-07-13T08:34:05.284Z"
   },
   {
    "duration": 8,
    "start_time": "2022-07-13T08:34:05.321Z"
   },
   {
    "duration": 25,
    "start_time": "2022-07-13T08:34:05.331Z"
   },
   {
    "duration": 67,
    "start_time": "2022-07-13T08:34:05.357Z"
   },
   {
    "duration": 26,
    "start_time": "2022-07-13T08:34:05.426Z"
   },
   {
    "duration": 5,
    "start_time": "2022-07-13T08:34:05.454Z"
   },
   {
    "duration": 13,
    "start_time": "2022-07-13T08:34:05.460Z"
   },
   {
    "duration": 53,
    "start_time": "2022-07-13T08:34:05.475Z"
   },
   {
    "duration": 20,
    "start_time": "2022-07-13T08:34:05.530Z"
   },
   {
    "duration": 1844,
    "start_time": "2022-07-13T08:34:05.552Z"
   },
   {
    "duration": 0,
    "start_time": "2022-07-13T08:34:07.398Z"
   },
   {
    "duration": 0,
    "start_time": "2022-07-13T08:34:07.398Z"
   },
   {
    "duration": 699,
    "start_time": "2022-07-13T08:34:31.498Z"
   },
   {
    "duration": 3,
    "start_time": "2022-07-13T08:34:32.199Z"
   },
   {
    "duration": 78,
    "start_time": "2022-07-13T08:34:32.204Z"
   },
   {
    "duration": 39,
    "start_time": "2022-07-13T08:34:32.284Z"
   },
   {
    "duration": 11,
    "start_time": "2022-07-13T08:34:32.324Z"
   },
   {
    "duration": 33,
    "start_time": "2022-07-13T08:34:32.337Z"
   },
   {
    "duration": 69,
    "start_time": "2022-07-13T08:34:32.371Z"
   },
   {
    "duration": 25,
    "start_time": "2022-07-13T08:34:32.441Z"
   },
   {
    "duration": 5,
    "start_time": "2022-07-13T08:34:32.468Z"
   },
   {
    "duration": 13,
    "start_time": "2022-07-13T08:34:32.476Z"
   },
   {
    "duration": 50,
    "start_time": "2022-07-13T08:34:32.490Z"
   },
   {
    "duration": 13,
    "start_time": "2022-07-13T08:34:32.542Z"
   },
   {
    "duration": 3164,
    "start_time": "2022-07-13T08:34:32.556Z"
   },
   {
    "duration": 0,
    "start_time": "2022-07-13T08:34:35.722Z"
   },
   {
    "duration": 0,
    "start_time": "2022-07-13T08:34:35.723Z"
   },
   {
    "duration": 616,
    "start_time": "2022-07-13T08:34:53.613Z"
   },
   {
    "duration": 3,
    "start_time": "2022-07-13T08:34:54.231Z"
   },
   {
    "duration": 80,
    "start_time": "2022-07-13T08:34:54.236Z"
   },
   {
    "duration": 34,
    "start_time": "2022-07-13T08:34:54.317Z"
   },
   {
    "duration": 8,
    "start_time": "2022-07-13T08:34:54.353Z"
   },
   {
    "duration": 25,
    "start_time": "2022-07-13T08:34:54.363Z"
   },
   {
    "duration": 73,
    "start_time": "2022-07-13T08:34:54.389Z"
   },
   {
    "duration": 24,
    "start_time": "2022-07-13T08:34:54.463Z"
   },
   {
    "duration": 7,
    "start_time": "2022-07-13T08:34:54.489Z"
   },
   {
    "duration": 39,
    "start_time": "2022-07-13T08:34:54.497Z"
   },
   {
    "duration": 39,
    "start_time": "2022-07-13T08:34:54.538Z"
   },
   {
    "duration": 17,
    "start_time": "2022-07-13T08:34:54.579Z"
   },
   {
    "duration": 1289,
    "start_time": "2022-07-13T08:34:54.598Z"
   },
   {
    "duration": 0,
    "start_time": "2022-07-13T08:34:55.888Z"
   },
   {
    "duration": 0,
    "start_time": "2022-07-13T08:34:55.890Z"
   },
   {
    "duration": 12,
    "start_time": "2022-07-13T08:35:04.546Z"
   },
   {
    "duration": 43,
    "start_time": "2022-07-13T08:35:06.009Z"
   },
   {
    "duration": 671,
    "start_time": "2022-07-13T09:00:56.509Z"
   },
   {
    "duration": 4,
    "start_time": "2022-07-13T09:00:57.182Z"
   },
   {
    "duration": 104,
    "start_time": "2022-07-13T09:00:57.187Z"
   },
   {
    "duration": 50,
    "start_time": "2022-07-13T09:00:57.294Z"
   },
   {
    "duration": 12,
    "start_time": "2022-07-13T09:00:57.346Z"
   },
   {
    "duration": 40,
    "start_time": "2022-07-13T09:00:57.359Z"
   },
   {
    "duration": 73,
    "start_time": "2022-07-13T09:00:57.401Z"
   },
   {
    "duration": 63,
    "start_time": "2022-07-13T09:00:57.476Z"
   },
   {
    "duration": 6,
    "start_time": "2022-07-13T09:00:57.541Z"
   },
   {
    "duration": 26,
    "start_time": "2022-07-13T09:00:57.549Z"
   },
   {
    "duration": 22,
    "start_time": "2022-07-13T09:00:57.577Z"
   },
   {
    "duration": 13,
    "start_time": "2022-07-13T09:00:57.601Z"
   },
   {
    "duration": 1235,
    "start_time": "2022-07-13T09:00:57.631Z"
   },
   {
    "duration": 0,
    "start_time": "2022-07-13T09:00:58.868Z"
   },
   {
    "duration": 0,
    "start_time": "2022-07-13T09:00:58.870Z"
   },
   {
    "duration": 28,
    "start_time": "2022-07-13T09:01:46.370Z"
   },
   {
    "duration": 28,
    "start_time": "2022-07-13T09:01:51.757Z"
   },
   {
    "duration": 1050,
    "start_time": "2022-07-13T09:02:14.988Z"
   },
   {
    "duration": 42,
    "start_time": "2022-07-13T09:03:18.572Z"
   },
   {
    "duration": 55,
    "start_time": "2022-07-13T09:03:40.259Z"
   },
   {
    "duration": 614,
    "start_time": "2022-07-13T09:05:18.526Z"
   },
   {
    "duration": 3,
    "start_time": "2022-07-13T09:05:19.142Z"
   },
   {
    "duration": 74,
    "start_time": "2022-07-13T09:05:19.147Z"
   },
   {
    "duration": 36,
    "start_time": "2022-07-13T09:05:19.223Z"
   },
   {
    "duration": 10,
    "start_time": "2022-07-13T09:05:19.261Z"
   },
   {
    "duration": 61,
    "start_time": "2022-07-13T09:05:19.273Z"
   },
   {
    "duration": 44,
    "start_time": "2022-07-13T09:05:19.336Z"
   },
   {
    "duration": 51,
    "start_time": "2022-07-13T09:05:19.382Z"
   },
   {
    "duration": 5,
    "start_time": "2022-07-13T09:05:19.435Z"
   },
   {
    "duration": 15,
    "start_time": "2022-07-13T09:05:19.442Z"
   },
   {
    "duration": 25,
    "start_time": "2022-07-13T09:05:19.458Z"
   },
   {
    "duration": 12,
    "start_time": "2022-07-13T09:05:19.485Z"
   },
   {
    "duration": 62,
    "start_time": "2022-07-13T09:05:19.499Z"
   },
   {
    "duration": 8,
    "start_time": "2022-07-13T09:05:19.564Z"
   },
   {
    "duration": 65,
    "start_time": "2022-07-13T09:05:19.573Z"
   },
   {
    "duration": 24,
    "start_time": "2022-07-13T09:10:19.084Z"
   },
   {
    "duration": 68,
    "start_time": "2022-07-13T09:17:06.674Z"
   },
   {
    "duration": 3,
    "start_time": "2022-07-13T09:19:53.845Z"
   },
   {
    "duration": 122,
    "start_time": "2022-07-13T09:19:54.796Z"
   },
   {
    "duration": 12,
    "start_time": "2022-07-13T09:20:55.695Z"
   },
   {
    "duration": 3,
    "start_time": "2022-07-13T09:21:00.650Z"
   },
   {
    "duration": 1367,
    "start_time": "2022-07-13T09:21:00.874Z"
   },
   {
    "duration": 4,
    "start_time": "2022-07-13T09:22:07.049Z"
   },
   {
    "duration": 1413,
    "start_time": "2022-07-13T09:22:07.648Z"
   },
   {
    "duration": 1721,
    "start_time": "2022-07-13T09:30:44.051Z"
   },
   {
    "duration": 1798,
    "start_time": "2022-07-13T09:31:00.551Z"
   },
   {
    "duration": 1655,
    "start_time": "2022-07-13T09:31:16.080Z"
   },
   {
    "duration": 2130,
    "start_time": "2022-07-13T09:31:23.153Z"
   },
   {
    "duration": 1776,
    "start_time": "2022-07-13T09:31:38.301Z"
   },
   {
    "duration": 1657,
    "start_time": "2022-07-13T09:31:59.321Z"
   },
   {
    "duration": 1663,
    "start_time": "2022-07-13T09:32:49.397Z"
   },
   {
    "duration": 1645,
    "start_time": "2022-07-13T09:33:14.149Z"
   },
   {
    "duration": 10,
    "start_time": "2022-07-13T10:12:00.171Z"
   },
   {
    "duration": 11,
    "start_time": "2022-07-13T10:12:06.628Z"
   },
   {
    "duration": 5,
    "start_time": "2022-07-13T10:13:51.464Z"
   },
   {
    "duration": 4,
    "start_time": "2022-07-13T10:17:36.301Z"
   },
   {
    "duration": 11,
    "start_time": "2022-07-13T10:17:37.545Z"
   },
   {
    "duration": 16,
    "start_time": "2022-07-13T10:17:43.963Z"
   },
   {
    "duration": 17,
    "start_time": "2022-07-13T10:18:32.050Z"
   },
   {
    "duration": 4,
    "start_time": "2022-07-13T10:18:33.501Z"
   },
   {
    "duration": 399,
    "start_time": "2022-07-13T10:18:34.564Z"
   },
   {
    "duration": 5,
    "start_time": "2022-07-13T10:19:52.559Z"
   },
   {
    "duration": 570,
    "start_time": "2022-07-13T10:19:52.873Z"
   },
   {
    "duration": 4,
    "start_time": "2022-07-13T10:21:33.101Z"
   },
   {
    "duration": 595,
    "start_time": "2022-07-13T10:21:34.880Z"
   },
   {
    "duration": 4,
    "start_time": "2022-07-13T10:23:41.010Z"
   },
   {
    "duration": 1029,
    "start_time": "2022-07-13T10:23:45.499Z"
   },
   {
    "duration": 4,
    "start_time": "2022-07-13T10:24:01.410Z"
   },
   {
    "duration": 768,
    "start_time": "2022-07-13T10:24:02.869Z"
   },
   {
    "duration": 6,
    "start_time": "2022-07-13T10:24:17.309Z"
   },
   {
    "duration": 769,
    "start_time": "2022-07-13T10:24:17.540Z"
   },
   {
    "duration": 7,
    "start_time": "2022-07-13T10:24:30.460Z"
   },
   {
    "duration": 744,
    "start_time": "2022-07-13T10:24:30.680Z"
   },
   {
    "duration": 58,
    "start_time": "2022-07-13T10:24:43.836Z"
   },
   {
    "duration": 5,
    "start_time": "2022-07-13T10:25:00.870Z"
   },
   {
    "duration": 457,
    "start_time": "2022-07-13T10:25:01.709Z"
   },
   {
    "duration": 6,
    "start_time": "2022-07-13T10:25:20.071Z"
   },
   {
    "duration": 645,
    "start_time": "2022-07-13T10:25:20.671Z"
   },
   {
    "duration": 4,
    "start_time": "2022-07-13T10:48:19.524Z"
   },
   {
    "duration": 15,
    "start_time": "2022-07-13T10:48:19.904Z"
   },
   {
    "duration": 4,
    "start_time": "2022-07-13T10:48:29.914Z"
   },
   {
    "duration": 576,
    "start_time": "2022-07-13T10:48:31.056Z"
   },
   {
    "duration": 4,
    "start_time": "2022-07-13T10:49:09.174Z"
   },
   {
    "duration": 674,
    "start_time": "2022-07-13T10:49:09.752Z"
   },
   {
    "duration": 4,
    "start_time": "2022-07-13T10:49:53.604Z"
   },
   {
    "duration": 563,
    "start_time": "2022-07-13T10:49:53.783Z"
   },
   {
    "duration": 4,
    "start_time": "2022-07-13T10:51:23.313Z"
   },
   {
    "duration": 562,
    "start_time": "2022-07-13T10:51:23.484Z"
   },
   {
    "duration": 44,
    "start_time": "2022-07-13T19:05:10.362Z"
   },
   {
    "duration": 5,
    "start_time": "2022-07-13T19:05:22.682Z"
   },
   {
    "duration": 18,
    "start_time": "2022-07-13T19:05:23.108Z"
   },
   {
    "duration": 1177,
    "start_time": "2022-07-13T19:11:51.276Z"
   },
   {
    "duration": 2,
    "start_time": "2022-07-13T19:11:52.455Z"
   },
   {
    "duration": 74,
    "start_time": "2022-07-13T19:11:52.459Z"
   },
   {
    "duration": 39,
    "start_time": "2022-07-13T19:11:52.534Z"
   },
   {
    "duration": 8,
    "start_time": "2022-07-13T19:11:52.575Z"
   },
   {
    "duration": 42,
    "start_time": "2022-07-13T19:11:52.585Z"
   },
   {
    "duration": 42,
    "start_time": "2022-07-13T19:11:52.628Z"
   },
   {
    "duration": 24,
    "start_time": "2022-07-13T19:11:52.672Z"
   },
   {
    "duration": 7,
    "start_time": "2022-07-13T19:11:52.724Z"
   },
   {
    "duration": 17,
    "start_time": "2022-07-13T19:11:52.733Z"
   },
   {
    "duration": 27,
    "start_time": "2022-07-13T19:11:52.751Z"
   },
   {
    "duration": 17,
    "start_time": "2022-07-13T19:11:52.788Z"
   },
   {
    "duration": 56,
    "start_time": "2022-07-13T19:11:52.807Z"
   },
   {
    "duration": 24,
    "start_time": "2022-07-13T19:11:52.865Z"
   },
   {
    "duration": 4,
    "start_time": "2022-07-13T19:11:52.890Z"
   },
   {
    "duration": 1561,
    "start_time": "2022-07-13T19:11:52.896Z"
   },
   {
    "duration": 4,
    "start_time": "2022-07-13T19:11:54.459Z"
   },
   {
    "duration": 639,
    "start_time": "2022-07-13T19:11:54.465Z"
   },
   {
    "duration": 46,
    "start_time": "2022-07-13T19:11:55.106Z"
   },
   {
    "duration": 0,
    "start_time": "2022-07-13T19:11:55.154Z"
   },
   {
    "duration": 0,
    "start_time": "2022-07-13T19:11:55.155Z"
   },
   {
    "duration": 0,
    "start_time": "2022-07-13T19:11:55.156Z"
   },
   {
    "duration": 0,
    "start_time": "2022-07-13T19:11:55.157Z"
   },
   {
    "duration": 1361,
    "start_time": "2022-07-13T19:12:23.713Z"
   },
   {
    "duration": 3,
    "start_time": "2022-07-13T19:12:25.076Z"
   },
   {
    "duration": 78,
    "start_time": "2022-07-13T19:12:25.081Z"
   },
   {
    "duration": 35,
    "start_time": "2022-07-13T19:12:25.161Z"
   },
   {
    "duration": 8,
    "start_time": "2022-07-13T19:12:25.197Z"
   },
   {
    "duration": 36,
    "start_time": "2022-07-13T19:12:25.207Z"
   },
   {
    "duration": 43,
    "start_time": "2022-07-13T19:12:25.245Z"
   },
   {
    "duration": 55,
    "start_time": "2022-07-13T19:12:25.290Z"
   },
   {
    "duration": 6,
    "start_time": "2022-07-13T19:12:25.347Z"
   },
   {
    "duration": 15,
    "start_time": "2022-07-13T19:12:25.355Z"
   },
   {
    "duration": 25,
    "start_time": "2022-07-13T19:12:25.372Z"
   },
   {
    "duration": 38,
    "start_time": "2022-07-13T19:12:25.398Z"
   },
   {
    "duration": 41,
    "start_time": "2022-07-13T19:12:25.438Z"
   },
   {
    "duration": 43,
    "start_time": "2022-07-13T19:12:25.481Z"
   },
   {
    "duration": 4,
    "start_time": "2022-07-13T19:12:25.526Z"
   },
   {
    "duration": 1597,
    "start_time": "2022-07-13T19:12:25.532Z"
   },
   {
    "duration": 5,
    "start_time": "2022-07-13T19:12:27.131Z"
   },
   {
    "duration": 792,
    "start_time": "2022-07-13T19:12:27.138Z"
   },
   {
    "duration": 5,
    "start_time": "2022-07-13T19:12:27.932Z"
   },
   {
    "duration": 29,
    "start_time": "2022-07-13T19:12:27.939Z"
   },
   {
    "duration": 5,
    "start_time": "2022-07-13T19:12:27.969Z"
   },
   {
    "duration": 12,
    "start_time": "2022-07-13T19:12:27.975Z"
   },
   {
    "duration": 1308,
    "start_time": "2022-07-13T19:26:30.239Z"
   },
   {
    "duration": 3,
    "start_time": "2022-07-13T19:26:31.549Z"
   },
   {
    "duration": 101,
    "start_time": "2022-07-13T19:26:31.554Z"
   },
   {
    "duration": 39,
    "start_time": "2022-07-13T19:26:31.657Z"
   },
   {
    "duration": 9,
    "start_time": "2022-07-13T19:26:31.698Z"
   },
   {
    "duration": 41,
    "start_time": "2022-07-13T19:26:31.709Z"
   },
   {
    "duration": 48,
    "start_time": "2022-07-13T19:26:31.752Z"
   },
   {
    "duration": 52,
    "start_time": "2022-07-13T19:26:31.802Z"
   },
   {
    "duration": 6,
    "start_time": "2022-07-13T19:26:31.855Z"
   },
   {
    "duration": 15,
    "start_time": "2022-07-13T19:26:31.864Z"
   },
   {
    "duration": 56,
    "start_time": "2022-07-13T19:26:31.881Z"
   },
   {
    "duration": 14,
    "start_time": "2022-07-13T19:26:31.938Z"
   },
   {
    "duration": 40,
    "start_time": "2022-07-13T19:26:31.953Z"
   },
   {
    "duration": 40,
    "start_time": "2022-07-13T19:26:31.995Z"
   },
   {
    "duration": 4,
    "start_time": "2022-07-13T19:26:32.037Z"
   },
   {
    "duration": 1667,
    "start_time": "2022-07-13T19:26:32.042Z"
   },
   {
    "duration": 4,
    "start_time": "2022-07-13T19:26:33.711Z"
   },
   {
    "duration": 655,
    "start_time": "2022-07-13T19:26:33.717Z"
   },
   {
    "duration": 4,
    "start_time": "2022-07-13T19:26:34.373Z"
   },
   {
    "duration": 29,
    "start_time": "2022-07-13T19:26:34.378Z"
   },
   {
    "duration": 27,
    "start_time": "2022-07-13T19:26:34.409Z"
   },
   {
    "duration": 11,
    "start_time": "2022-07-13T19:26:34.438Z"
   },
   {
    "duration": 34,
    "start_time": "2022-07-13T19:26:34.450Z"
   },
   {
    "duration": 12,
    "start_time": "2022-07-13T19:26:34.486Z"
   },
   {
    "duration": 140,
    "start_time": "2022-07-13T19:29:14.798Z"
   },
   {
    "duration": 1453,
    "start_time": "2022-07-13T19:36:03.287Z"
   },
   {
    "duration": 5,
    "start_time": "2022-07-13T19:36:04.742Z"
   },
   {
    "duration": 105,
    "start_time": "2022-07-13T19:36:04.748Z"
   },
   {
    "duration": 39,
    "start_time": "2022-07-13T19:36:04.855Z"
   },
   {
    "duration": 11,
    "start_time": "2022-07-13T19:36:04.896Z"
   },
   {
    "duration": 50,
    "start_time": "2022-07-13T19:36:04.909Z"
   },
   {
    "duration": 78,
    "start_time": "2022-07-13T19:36:04.960Z"
   },
   {
    "duration": 33,
    "start_time": "2022-07-13T19:36:05.039Z"
   },
   {
    "duration": 7,
    "start_time": "2022-07-13T19:36:05.073Z"
   },
   {
    "duration": 19,
    "start_time": "2022-07-13T19:36:05.082Z"
   },
   {
    "duration": 66,
    "start_time": "2022-07-13T19:36:05.103Z"
   },
   {
    "duration": 23,
    "start_time": "2022-07-13T19:36:05.171Z"
   },
   {
    "duration": 52,
    "start_time": "2022-07-13T19:36:05.196Z"
   },
   {
    "duration": 28,
    "start_time": "2022-07-13T19:36:05.250Z"
   },
   {
    "duration": 3,
    "start_time": "2022-07-13T19:36:05.281Z"
   },
   {
    "duration": 1743,
    "start_time": "2022-07-13T19:36:05.287Z"
   },
   {
    "duration": 8,
    "start_time": "2022-07-13T19:36:07.035Z"
   },
   {
    "duration": 791,
    "start_time": "2022-07-13T19:36:07.045Z"
   },
   {
    "duration": 4,
    "start_time": "2022-07-13T19:36:07.842Z"
   },
   {
    "duration": 31,
    "start_time": "2022-07-13T19:36:07.847Z"
   },
   {
    "duration": 5,
    "start_time": "2022-07-13T19:36:07.880Z"
   },
   {
    "duration": 14,
    "start_time": "2022-07-13T19:36:07.887Z"
   },
   {
    "duration": 30,
    "start_time": "2022-07-13T19:36:07.903Z"
   },
   {
    "duration": 5,
    "start_time": "2022-07-13T19:36:07.939Z"
   },
   {
    "duration": 121,
    "start_time": "2022-07-13T19:36:07.945Z"
   },
   {
    "duration": 5,
    "start_time": "2022-07-13T19:36:43.417Z"
   },
   {
    "duration": 4,
    "start_time": "2022-07-13T19:36:52.200Z"
   },
   {
    "duration": 1443,
    "start_time": "2022-07-13T19:36:59.019Z"
   },
   {
    "duration": 4,
    "start_time": "2022-07-13T19:37:00.465Z"
   },
   {
    "duration": 111,
    "start_time": "2022-07-13T19:37:00.471Z"
   },
   {
    "duration": 44,
    "start_time": "2022-07-13T19:37:00.585Z"
   },
   {
    "duration": 17,
    "start_time": "2022-07-13T19:37:00.633Z"
   },
   {
    "duration": 39,
    "start_time": "2022-07-13T19:37:00.652Z"
   },
   {
    "duration": 92,
    "start_time": "2022-07-13T19:37:00.693Z"
   },
   {
    "duration": 59,
    "start_time": "2022-07-13T19:37:00.787Z"
   },
   {
    "duration": 8,
    "start_time": "2022-07-13T19:37:00.847Z"
   },
   {
    "duration": 24,
    "start_time": "2022-07-13T19:37:00.857Z"
   },
   {
    "duration": 42,
    "start_time": "2022-07-13T19:37:00.883Z"
   },
   {
    "duration": 19,
    "start_time": "2022-07-13T19:37:00.936Z"
   },
   {
    "duration": 55,
    "start_time": "2022-07-13T19:37:00.957Z"
   },
   {
    "duration": 35,
    "start_time": "2022-07-13T19:37:01.015Z"
   },
   {
    "duration": 14,
    "start_time": "2022-07-13T19:37:01.052Z"
   },
   {
    "duration": 1753,
    "start_time": "2022-07-13T19:37:01.068Z"
   },
   {
    "duration": 7,
    "start_time": "2022-07-13T19:37:02.823Z"
   },
   {
    "duration": 703,
    "start_time": "2022-07-13T19:37:02.834Z"
   },
   {
    "duration": 7,
    "start_time": "2022-07-13T19:37:03.541Z"
   },
   {
    "duration": 33,
    "start_time": "2022-07-13T19:37:03.550Z"
   },
   {
    "duration": 5,
    "start_time": "2022-07-13T19:37:03.585Z"
   },
   {
    "duration": 13,
    "start_time": "2022-07-13T19:37:03.592Z"
   },
   {
    "duration": 27,
    "start_time": "2022-07-13T19:37:03.607Z"
   },
   {
    "duration": 18,
    "start_time": "2022-07-13T19:37:03.637Z"
   },
   {
    "duration": 123,
    "start_time": "2022-07-13T19:37:03.657Z"
   },
   {
    "duration": 33,
    "start_time": "2022-07-13T19:37:56.215Z"
   },
   {
    "duration": 16,
    "start_time": "2022-07-13T19:39:51.775Z"
   },
   {
    "duration": 27,
    "start_time": "2022-07-13T19:40:42.015Z"
   },
   {
    "duration": 1384,
    "start_time": "2022-07-13T19:42:35.224Z"
   },
   {
    "duration": 5,
    "start_time": "2022-07-13T19:42:36.610Z"
   },
   {
    "duration": 100,
    "start_time": "2022-07-13T19:42:36.617Z"
   },
   {
    "duration": 49,
    "start_time": "2022-07-13T19:42:36.719Z"
   },
   {
    "duration": 14,
    "start_time": "2022-07-13T19:42:36.770Z"
   },
   {
    "duration": 63,
    "start_time": "2022-07-13T19:42:36.785Z"
   },
   {
    "duration": 52,
    "start_time": "2022-07-13T19:42:36.849Z"
   },
   {
    "duration": 35,
    "start_time": "2022-07-13T19:42:36.925Z"
   },
   {
    "duration": 8,
    "start_time": "2022-07-13T19:42:36.962Z"
   },
   {
    "duration": 21,
    "start_time": "2022-07-13T19:42:36.974Z"
   },
   {
    "duration": 67,
    "start_time": "2022-07-13T19:42:36.997Z"
   },
   {
    "duration": 16,
    "start_time": "2022-07-13T19:42:37.065Z"
   },
   {
    "duration": 57,
    "start_time": "2022-07-13T19:42:37.083Z"
   },
   {
    "duration": 24,
    "start_time": "2022-07-13T19:42:37.143Z"
   },
   {
    "duration": 3,
    "start_time": "2022-07-13T19:42:37.169Z"
   },
   {
    "duration": 1867,
    "start_time": "2022-07-13T19:42:37.174Z"
   },
   {
    "duration": 6,
    "start_time": "2022-07-13T19:42:39.045Z"
   },
   {
    "duration": 730,
    "start_time": "2022-07-13T19:42:39.054Z"
   },
   {
    "duration": 4,
    "start_time": "2022-07-13T19:42:39.787Z"
   },
   {
    "duration": 55,
    "start_time": "2022-07-13T19:42:39.793Z"
   },
   {
    "duration": 5,
    "start_time": "2022-07-13T19:42:39.850Z"
   },
   {
    "duration": 10,
    "start_time": "2022-07-13T19:42:39.857Z"
   },
   {
    "duration": 20,
    "start_time": "2022-07-13T19:42:39.868Z"
   },
   {
    "duration": 4,
    "start_time": "2022-07-13T19:42:39.889Z"
   },
   {
    "duration": 41,
    "start_time": "2022-07-13T19:42:39.894Z"
   },
   {
    "duration": 193,
    "start_time": "2022-07-13T19:44:44.075Z"
   },
   {
    "duration": 54,
    "start_time": "2022-07-13T19:51:10.653Z"
   },
   {
    "duration": 122,
    "start_time": "2022-07-13T19:51:38.643Z"
   },
   {
    "duration": 26,
    "start_time": "2022-07-13T19:52:23.335Z"
   },
   {
    "duration": 140,
    "start_time": "2022-07-13T19:52:45.330Z"
   },
   {
    "duration": 1523,
    "start_time": "2022-07-13T19:54:09.430Z"
   },
   {
    "duration": 4,
    "start_time": "2022-07-13T19:54:10.956Z"
   },
   {
    "duration": 95,
    "start_time": "2022-07-13T19:54:10.963Z"
   },
   {
    "duration": 42,
    "start_time": "2022-07-13T19:54:11.061Z"
   },
   {
    "duration": 21,
    "start_time": "2022-07-13T19:54:11.104Z"
   },
   {
    "duration": 33,
    "start_time": "2022-07-13T19:54:11.127Z"
   },
   {
    "duration": 104,
    "start_time": "2022-07-13T19:54:11.162Z"
   },
   {
    "duration": 35,
    "start_time": "2022-07-13T19:54:11.268Z"
   },
   {
    "duration": 9,
    "start_time": "2022-07-13T19:54:11.323Z"
   },
   {
    "duration": 31,
    "start_time": "2022-07-13T19:54:11.336Z"
   },
   {
    "duration": 30,
    "start_time": "2022-07-13T19:54:11.369Z"
   },
   {
    "duration": 30,
    "start_time": "2022-07-13T19:54:11.401Z"
   },
   {
    "duration": 45,
    "start_time": "2022-07-13T19:54:11.433Z"
   },
   {
    "duration": 48,
    "start_time": "2022-07-13T19:54:11.480Z"
   },
   {
    "duration": 7,
    "start_time": "2022-07-13T19:54:11.531Z"
   },
   {
    "duration": 1644,
    "start_time": "2022-07-13T19:54:11.541Z"
   },
   {
    "duration": 6,
    "start_time": "2022-07-13T19:54:13.188Z"
   },
   {
    "duration": 667,
    "start_time": "2022-07-13T19:54:13.196Z"
   },
   {
    "duration": 5,
    "start_time": "2022-07-13T19:54:13.865Z"
   },
   {
    "duration": 52,
    "start_time": "2022-07-13T19:54:13.872Z"
   },
   {
    "duration": 5,
    "start_time": "2022-07-13T19:54:13.927Z"
   },
   {
    "duration": 9,
    "start_time": "2022-07-13T19:54:13.934Z"
   },
   {
    "duration": 20,
    "start_time": "2022-07-13T19:54:13.944Z"
   },
   {
    "duration": 5,
    "start_time": "2022-07-13T19:54:13.966Z"
   },
   {
    "duration": 18,
    "start_time": "2022-07-13T19:54:13.973Z"
   },
   {
    "duration": 1384,
    "start_time": "2022-07-13T19:55:12.974Z"
   },
   {
    "duration": 4,
    "start_time": "2022-07-13T19:55:14.360Z"
   },
   {
    "duration": 88,
    "start_time": "2022-07-13T19:55:14.366Z"
   },
   {
    "duration": 37,
    "start_time": "2022-07-13T19:55:14.456Z"
   },
   {
    "duration": 14,
    "start_time": "2022-07-13T19:55:14.495Z"
   },
   {
    "duration": 39,
    "start_time": "2022-07-13T19:55:14.511Z"
   },
   {
    "duration": 78,
    "start_time": "2022-07-13T19:55:14.552Z"
   },
   {
    "duration": 37,
    "start_time": "2022-07-13T19:55:14.632Z"
   },
   {
    "duration": 8,
    "start_time": "2022-07-13T19:55:14.671Z"
   },
   {
    "duration": 42,
    "start_time": "2022-07-13T19:55:14.683Z"
   },
   {
    "duration": 29,
    "start_time": "2022-07-13T19:55:14.727Z"
   },
   {
    "duration": 13,
    "start_time": "2022-07-13T19:55:14.757Z"
   },
   {
    "duration": 68,
    "start_time": "2022-07-13T19:55:14.772Z"
   },
   {
    "duration": 23,
    "start_time": "2022-07-13T19:55:14.841Z"
   },
   {
    "duration": 3,
    "start_time": "2022-07-13T19:55:14.866Z"
   },
   {
    "duration": 1686,
    "start_time": "2022-07-13T19:55:14.871Z"
   },
   {
    "duration": 7,
    "start_time": "2022-07-13T19:55:16.559Z"
   },
   {
    "duration": 780,
    "start_time": "2022-07-13T19:55:16.569Z"
   },
   {
    "duration": 5,
    "start_time": "2022-07-13T19:55:17.351Z"
   },
   {
    "duration": 53,
    "start_time": "2022-07-13T19:55:17.358Z"
   },
   {
    "duration": 15,
    "start_time": "2022-07-13T19:55:17.413Z"
   },
   {
    "duration": 19,
    "start_time": "2022-07-13T19:55:17.429Z"
   },
   {
    "duration": 26,
    "start_time": "2022-07-13T19:55:17.450Z"
   },
   {
    "duration": 19,
    "start_time": "2022-07-13T19:55:17.478Z"
   },
   {
    "duration": 29,
    "start_time": "2022-07-13T19:55:17.500Z"
   },
   {
    "duration": 1361,
    "start_time": "2022-07-13T20:06:55.474Z"
   },
   {
    "duration": 6,
    "start_time": "2022-07-13T20:06:56.837Z"
   },
   {
    "duration": 95,
    "start_time": "2022-07-13T20:06:56.845Z"
   },
   {
    "duration": 47,
    "start_time": "2022-07-13T20:06:56.942Z"
   },
   {
    "duration": 12,
    "start_time": "2022-07-13T20:06:56.991Z"
   },
   {
    "duration": 31,
    "start_time": "2022-07-13T20:06:57.024Z"
   },
   {
    "duration": 83,
    "start_time": "2022-07-13T20:06:57.057Z"
   },
   {
    "duration": 29,
    "start_time": "2022-07-13T20:06:57.143Z"
   },
   {
    "duration": 8,
    "start_time": "2022-07-13T20:06:57.174Z"
   },
   {
    "duration": 57,
    "start_time": "2022-07-13T20:06:57.186Z"
   },
   {
    "duration": 56,
    "start_time": "2022-07-13T20:06:57.246Z"
   },
   {
    "duration": 18,
    "start_time": "2022-07-13T20:06:57.304Z"
   },
   {
    "duration": 97,
    "start_time": "2022-07-13T20:06:57.324Z"
   },
   {
    "duration": 33,
    "start_time": "2022-07-13T20:06:57.423Z"
   },
   {
    "duration": 8,
    "start_time": "2022-07-13T20:06:57.459Z"
   },
   {
    "duration": 1776,
    "start_time": "2022-07-13T20:06:57.469Z"
   },
   {
    "duration": 4,
    "start_time": "2022-07-13T20:06:59.247Z"
   },
   {
    "duration": 697,
    "start_time": "2022-07-13T20:06:59.253Z"
   },
   {
    "duration": 4,
    "start_time": "2022-07-13T20:06:59.951Z"
   },
   {
    "duration": 29,
    "start_time": "2022-07-13T20:06:59.957Z"
   },
   {
    "duration": 5,
    "start_time": "2022-07-13T20:06:59.988Z"
   },
   {
    "duration": 59,
    "start_time": "2022-07-13T20:06:59.994Z"
   },
   {
    "duration": 27,
    "start_time": "2022-07-13T20:07:00.054Z"
   },
   {
    "duration": 4,
    "start_time": "2022-07-13T20:07:00.083Z"
   },
   {
    "duration": 20,
    "start_time": "2022-07-13T20:07:00.089Z"
   },
   {
    "duration": 1372,
    "start_time": "2022-07-13T20:07:22.447Z"
   },
   {
    "duration": 3,
    "start_time": "2022-07-13T20:07:23.821Z"
   },
   {
    "duration": 111,
    "start_time": "2022-07-13T20:07:23.826Z"
   },
   {
    "duration": 47,
    "start_time": "2022-07-13T20:07:23.941Z"
   },
   {
    "duration": 11,
    "start_time": "2022-07-13T20:07:23.990Z"
   },
   {
    "duration": 61,
    "start_time": "2022-07-13T20:07:24.002Z"
   },
   {
    "duration": 94,
    "start_time": "2022-07-13T20:07:24.066Z"
   },
   {
    "duration": 36,
    "start_time": "2022-07-13T20:07:24.162Z"
   },
   {
    "duration": 38,
    "start_time": "2022-07-13T20:07:24.200Z"
   },
   {
    "duration": 21,
    "start_time": "2022-07-13T20:07:24.242Z"
   },
   {
    "duration": 28,
    "start_time": "2022-07-13T20:07:24.265Z"
   },
   {
    "duration": 17,
    "start_time": "2022-07-13T20:07:24.294Z"
   },
   {
    "duration": 63,
    "start_time": "2022-07-13T20:07:24.328Z"
   },
   {
    "duration": 23,
    "start_time": "2022-07-13T20:07:24.392Z"
   },
   {
    "duration": 11,
    "start_time": "2022-07-13T20:07:24.417Z"
   },
   {
    "duration": 1812,
    "start_time": "2022-07-13T20:07:24.430Z"
   },
   {
    "duration": 5,
    "start_time": "2022-07-13T20:07:26.244Z"
   },
   {
    "duration": 715,
    "start_time": "2022-07-13T20:07:26.251Z"
   },
   {
    "duration": 4,
    "start_time": "2022-07-13T20:07:26.968Z"
   },
   {
    "duration": 28,
    "start_time": "2022-07-13T20:07:26.973Z"
   },
   {
    "duration": 26,
    "start_time": "2022-07-13T20:07:27.003Z"
   },
   {
    "duration": 34,
    "start_time": "2022-07-13T20:07:27.030Z"
   },
   {
    "duration": 32,
    "start_time": "2022-07-13T20:07:27.065Z"
   },
   {
    "duration": 5,
    "start_time": "2022-07-13T20:07:27.100Z"
   },
   {
    "duration": 18,
    "start_time": "2022-07-13T20:07:27.107Z"
   },
   {
    "duration": 113,
    "start_time": "2022-07-13T20:07:27.130Z"
   },
   {
    "duration": 1665,
    "start_time": "2022-07-13T20:08:16.136Z"
   },
   {
    "duration": 5,
    "start_time": "2022-07-13T20:08:17.804Z"
   },
   {
    "duration": 109,
    "start_time": "2022-07-13T20:08:17.811Z"
   },
   {
    "duration": 50,
    "start_time": "2022-07-13T20:08:17.925Z"
   },
   {
    "duration": 13,
    "start_time": "2022-07-13T20:08:17.977Z"
   },
   {
    "duration": 78,
    "start_time": "2022-07-13T20:08:17.992Z"
   },
   {
    "duration": 99,
    "start_time": "2022-07-13T20:08:18.074Z"
   },
   {
    "duration": 75,
    "start_time": "2022-07-13T20:08:18.175Z"
   },
   {
    "duration": 7,
    "start_time": "2022-07-13T20:08:18.253Z"
   },
   {
    "duration": 23,
    "start_time": "2022-07-13T20:08:18.264Z"
   },
   {
    "duration": 54,
    "start_time": "2022-07-13T20:08:18.290Z"
   },
   {
    "duration": 31,
    "start_time": "2022-07-13T20:08:18.350Z"
   },
   {
    "duration": 91,
    "start_time": "2022-07-13T20:08:18.385Z"
   },
   {
    "duration": 38,
    "start_time": "2022-07-13T20:08:18.478Z"
   },
   {
    "duration": 33,
    "start_time": "2022-07-13T20:08:18.532Z"
   },
   {
    "duration": 1833,
    "start_time": "2022-07-13T20:08:18.568Z"
   },
   {
    "duration": 7,
    "start_time": "2022-07-13T20:08:20.403Z"
   },
   {
    "duration": 711,
    "start_time": "2022-07-13T20:08:20.412Z"
   },
   {
    "duration": 5,
    "start_time": "2022-07-13T20:08:21.125Z"
   },
   {
    "duration": 69,
    "start_time": "2022-07-13T20:08:21.132Z"
   },
   {
    "duration": 7,
    "start_time": "2022-07-13T20:08:21.203Z"
   },
   {
    "duration": 12,
    "start_time": "2022-07-13T20:08:21.213Z"
   },
   {
    "duration": 35,
    "start_time": "2022-07-13T20:08:21.228Z"
   },
   {
    "duration": 18,
    "start_time": "2022-07-13T20:08:21.266Z"
   },
   {
    "duration": 17,
    "start_time": "2022-07-13T20:08:21.285Z"
   },
   {
    "duration": 50457,
    "start_time": "2022-07-13T20:08:21.304Z"
   },
   {
    "duration": 55659,
    "start_time": "2022-07-13T20:10:00.382Z"
   },
   {
    "duration": 1492,
    "start_time": "2022-07-13T20:15:45.478Z"
   },
   {
    "duration": 4,
    "start_time": "2022-07-13T20:15:46.972Z"
   },
   {
    "duration": 85,
    "start_time": "2022-07-13T20:15:46.977Z"
   },
   {
    "duration": 35,
    "start_time": "2022-07-13T20:15:47.064Z"
   },
   {
    "duration": 9,
    "start_time": "2022-07-13T20:15:47.101Z"
   },
   {
    "duration": 44,
    "start_time": "2022-07-13T20:15:47.112Z"
   },
   {
    "duration": 44,
    "start_time": "2022-07-13T20:15:47.157Z"
   },
   {
    "duration": 58,
    "start_time": "2022-07-13T20:15:47.203Z"
   },
   {
    "duration": 7,
    "start_time": "2022-07-13T20:15:47.262Z"
   },
   {
    "duration": 16,
    "start_time": "2022-07-13T20:15:47.271Z"
   },
   {
    "duration": 52,
    "start_time": "2022-07-13T20:15:47.289Z"
   },
   {
    "duration": 14,
    "start_time": "2022-07-13T20:15:47.344Z"
   },
   {
    "duration": 41,
    "start_time": "2022-07-13T20:15:47.360Z"
   },
   {
    "duration": 50,
    "start_time": "2022-07-13T20:15:47.402Z"
   },
   {
    "duration": 5,
    "start_time": "2022-07-13T20:15:47.453Z"
   },
   {
    "duration": 1979,
    "start_time": "2022-07-13T20:15:47.460Z"
   },
   {
    "duration": 4,
    "start_time": "2022-07-13T20:15:49.441Z"
   },
   {
    "duration": 729,
    "start_time": "2022-07-13T20:15:49.447Z"
   },
   {
    "duration": 5,
    "start_time": "2022-07-13T20:15:50.178Z"
   },
   {
    "duration": 55,
    "start_time": "2022-07-13T20:15:50.185Z"
   },
   {
    "duration": 6,
    "start_time": "2022-07-13T20:15:50.243Z"
   },
   {
    "duration": 17,
    "start_time": "2022-07-13T20:15:50.251Z"
   },
   {
    "duration": 24,
    "start_time": "2022-07-13T20:15:50.270Z"
   },
   {
    "duration": 5,
    "start_time": "2022-07-13T20:15:50.296Z"
   },
   {
    "duration": 35,
    "start_time": "2022-07-13T20:15:50.303Z"
   },
   {
    "duration": 21586,
    "start_time": "2022-07-13T20:15:50.340Z"
   },
   {
    "duration": 31167,
    "start_time": "2022-07-13T20:16:11.929Z"
   },
   {
    "duration": 46010,
    "start_time": "2022-07-13T20:16:43.099Z"
   },
   {
    "duration": 1367,
    "start_time": "2022-07-13T20:18:27.644Z"
   },
   {
    "duration": 3,
    "start_time": "2022-07-13T20:18:29.013Z"
   },
   {
    "duration": 72,
    "start_time": "2022-07-13T20:18:29.018Z"
   },
   {
    "duration": 35,
    "start_time": "2022-07-13T20:18:29.091Z"
   },
   {
    "duration": 10,
    "start_time": "2022-07-13T20:18:29.127Z"
   },
   {
    "duration": 26,
    "start_time": "2022-07-13T20:18:29.139Z"
   },
   {
    "duration": 76,
    "start_time": "2022-07-13T20:18:29.167Z"
   },
   {
    "duration": 30,
    "start_time": "2022-07-13T20:18:29.245Z"
   },
   {
    "duration": 7,
    "start_time": "2022-07-13T20:18:29.277Z"
   },
   {
    "duration": 40,
    "start_time": "2022-07-13T20:18:29.286Z"
   },
   {
    "duration": 24,
    "start_time": "2022-07-13T20:18:29.327Z"
   },
   {
    "duration": 12,
    "start_time": "2022-07-13T20:18:29.353Z"
   },
   {
    "duration": 59,
    "start_time": "2022-07-13T20:18:29.367Z"
   },
   {
    "duration": 21,
    "start_time": "2022-07-13T20:18:29.427Z"
   },
   {
    "duration": 4,
    "start_time": "2022-07-13T20:18:29.450Z"
   },
   {
    "duration": 1586,
    "start_time": "2022-07-13T20:18:29.455Z"
   },
   {
    "duration": 4,
    "start_time": "2022-07-13T20:18:31.043Z"
   },
   {
    "duration": 639,
    "start_time": "2022-07-13T20:18:31.049Z"
   },
   {
    "duration": 4,
    "start_time": "2022-07-13T20:18:31.690Z"
   },
   {
    "duration": 39,
    "start_time": "2022-07-13T20:18:31.695Z"
   },
   {
    "duration": 5,
    "start_time": "2022-07-13T20:18:31.736Z"
   },
   {
    "duration": 19,
    "start_time": "2022-07-13T20:18:31.742Z"
   },
   {
    "duration": 19,
    "start_time": "2022-07-13T20:18:31.763Z"
   },
   {
    "duration": 6,
    "start_time": "2022-07-13T20:18:31.784Z"
   },
   {
    "duration": 19,
    "start_time": "2022-07-13T20:18:31.792Z"
   },
   {
    "duration": 14614,
    "start_time": "2022-07-13T20:18:31.823Z"
   },
   {
    "duration": 28493,
    "start_time": "2022-07-13T20:18:46.439Z"
   },
   {
    "duration": 45144,
    "start_time": "2022-07-13T20:19:14.939Z"
   },
   {
    "duration": 14648,
    "start_time": "2022-07-13T20:32:53.782Z"
   },
   {
    "duration": 142060,
    "start_time": "2022-07-13T20:34:11.050Z"
   },
   {
    "duration": 41784,
    "start_time": "2022-07-13T20:36:33.112Z"
   },
   {
    "duration": 4,
    "start_time": "2022-07-14T06:11:36.149Z"
   },
   {
    "duration": 1394,
    "start_time": "2022-07-14T06:31:44.435Z"
   },
   {
    "duration": 4,
    "start_time": "2022-07-14T06:31:45.831Z"
   },
   {
    "duration": 162,
    "start_time": "2022-07-14T06:31:45.836Z"
   },
   {
    "duration": 36,
    "start_time": "2022-07-14T06:31:46.000Z"
   },
   {
    "duration": 9,
    "start_time": "2022-07-14T06:31:46.038Z"
   },
   {
    "duration": 26,
    "start_time": "2022-07-14T06:31:46.049Z"
   },
   {
    "duration": 81,
    "start_time": "2022-07-14T06:31:46.077Z"
   },
   {
    "duration": 27,
    "start_time": "2022-07-14T06:31:46.160Z"
   },
   {
    "duration": 35,
    "start_time": "2022-07-14T06:31:46.189Z"
   },
   {
    "duration": 18,
    "start_time": "2022-07-14T06:31:46.227Z"
   },
   {
    "duration": 30,
    "start_time": "2022-07-14T06:31:46.247Z"
   },
   {
    "duration": 14,
    "start_time": "2022-07-14T06:31:46.278Z"
   },
   {
    "duration": 67,
    "start_time": "2022-07-14T06:31:46.294Z"
   },
   {
    "duration": 21,
    "start_time": "2022-07-14T06:31:46.363Z"
   },
   {
    "duration": 3,
    "start_time": "2022-07-14T06:31:46.386Z"
   },
   {
    "duration": 1622,
    "start_time": "2022-07-14T06:31:46.391Z"
   },
   {
    "duration": 4,
    "start_time": "2022-07-14T06:31:48.015Z"
   },
   {
    "duration": 635,
    "start_time": "2022-07-14T06:31:48.020Z"
   },
   {
    "duration": 4,
    "start_time": "2022-07-14T06:31:48.658Z"
   },
   {
    "duration": 28,
    "start_time": "2022-07-14T06:31:48.664Z"
   },
   {
    "duration": 5,
    "start_time": "2022-07-14T06:31:48.694Z"
   },
   {
    "duration": 7,
    "start_time": "2022-07-14T06:31:48.724Z"
   },
   {
    "duration": 18,
    "start_time": "2022-07-14T06:31:48.732Z"
   },
   {
    "duration": 4,
    "start_time": "2022-07-14T06:31:48.751Z"
   },
   {
    "duration": 24,
    "start_time": "2022-07-14T06:31:48.756Z"
   },
   {
    "duration": 20850,
    "start_time": "2022-07-14T06:31:48.782Z"
   },
   {
    "duration": 196683,
    "start_time": "2022-07-14T06:32:09.634Z"
   },
   {
    "duration": 43769,
    "start_time": "2022-07-14T06:35:26.320Z"
   },
   {
    "duration": 1407,
    "start_time": "2022-07-14T07:11:06.185Z"
   },
   {
    "duration": 4,
    "start_time": "2022-07-14T07:11:07.596Z"
   },
   {
    "duration": 138,
    "start_time": "2022-07-14T07:11:07.602Z"
   },
   {
    "duration": 34,
    "start_time": "2022-07-14T07:11:07.743Z"
   },
   {
    "duration": 11,
    "start_time": "2022-07-14T07:11:07.779Z"
   },
   {
    "duration": 56,
    "start_time": "2022-07-14T07:11:07.793Z"
   },
   {
    "duration": 42,
    "start_time": "2022-07-14T07:11:07.850Z"
   },
   {
    "duration": 56,
    "start_time": "2022-07-14T07:11:07.894Z"
   },
   {
    "duration": 6,
    "start_time": "2022-07-14T07:11:07.952Z"
   },
   {
    "duration": 15,
    "start_time": "2022-07-14T07:11:07.960Z"
   },
   {
    "duration": 47,
    "start_time": "2022-07-14T07:11:07.977Z"
   },
   {
    "duration": 18,
    "start_time": "2022-07-14T07:11:08.026Z"
   },
   {
    "duration": 44,
    "start_time": "2022-07-14T07:11:08.046Z"
   },
   {
    "duration": 48,
    "start_time": "2022-07-14T07:11:08.092Z"
   },
   {
    "duration": 5,
    "start_time": "2022-07-14T07:11:08.142Z"
   },
   {
    "duration": 1657,
    "start_time": "2022-07-14T07:11:08.148Z"
   },
   {
    "duration": 4,
    "start_time": "2022-07-14T07:11:09.807Z"
   },
   {
    "duration": 644,
    "start_time": "2022-07-14T07:11:09.813Z"
   },
   {
    "duration": 4,
    "start_time": "2022-07-14T07:11:10.459Z"
   },
   {
    "duration": 26,
    "start_time": "2022-07-14T07:11:10.464Z"
   },
   {
    "duration": 5,
    "start_time": "2022-07-14T07:11:10.491Z"
   },
   {
    "duration": 30,
    "start_time": "2022-07-14T07:11:10.497Z"
   },
   {
    "duration": 17,
    "start_time": "2022-07-14T07:11:10.530Z"
   },
   {
    "duration": 3,
    "start_time": "2022-07-14T07:11:10.548Z"
   },
   {
    "duration": 14,
    "start_time": "2022-07-14T07:11:10.553Z"
   },
   {
    "duration": 18872,
    "start_time": "2022-07-14T07:11:10.568Z"
   },
   {
    "duration": 208498,
    "start_time": "2022-07-14T07:11:29.444Z"
   },
   {
    "duration": 44910,
    "start_time": "2022-07-14T07:14:57.945Z"
   },
   {
    "duration": 1456,
    "start_time": "2022-07-14T07:17:40.938Z"
   },
   {
    "duration": 4,
    "start_time": "2022-07-14T07:17:42.396Z"
   },
   {
    "duration": 108,
    "start_time": "2022-07-14T07:17:42.401Z"
   },
   {
    "duration": 49,
    "start_time": "2022-07-14T07:17:42.511Z"
   },
   {
    "duration": 13,
    "start_time": "2022-07-14T07:17:42.563Z"
   },
   {
    "duration": 55,
    "start_time": "2022-07-14T07:17:42.578Z"
   },
   {
    "duration": 51,
    "start_time": "2022-07-14T07:17:42.635Z"
   },
   {
    "duration": 59,
    "start_time": "2022-07-14T07:17:42.687Z"
   },
   {
    "duration": 7,
    "start_time": "2022-07-14T07:17:42.748Z"
   },
   {
    "duration": 17,
    "start_time": "2022-07-14T07:17:42.759Z"
   },
   {
    "duration": 68,
    "start_time": "2022-07-14T07:17:42.778Z"
   },
   {
    "duration": 13,
    "start_time": "2022-07-14T07:17:42.849Z"
   },
   {
    "duration": 40,
    "start_time": "2022-07-14T07:17:42.864Z"
   },
   {
    "duration": 38,
    "start_time": "2022-07-14T07:17:42.906Z"
   },
   {
    "duration": 3,
    "start_time": "2022-07-14T07:17:42.946Z"
   },
   {
    "duration": 1555,
    "start_time": "2022-07-14T07:17:42.950Z"
   },
   {
    "duration": 6,
    "start_time": "2022-07-14T07:17:44.507Z"
   },
   {
    "duration": 626,
    "start_time": "2022-07-14T07:17:44.515Z"
   },
   {
    "duration": 3,
    "start_time": "2022-07-14T07:17:45.143Z"
   },
   {
    "duration": 27,
    "start_time": "2022-07-14T07:17:45.147Z"
   },
   {
    "duration": 5,
    "start_time": "2022-07-14T07:17:45.176Z"
   },
   {
    "duration": 8,
    "start_time": "2022-07-14T07:17:45.182Z"
   },
   {
    "duration": 46,
    "start_time": "2022-07-14T07:17:45.191Z"
   },
   {
    "duration": 3,
    "start_time": "2022-07-14T07:17:45.238Z"
   },
   {
    "duration": 14,
    "start_time": "2022-07-14T07:17:45.243Z"
   },
   {
    "duration": 17071,
    "start_time": "2022-07-14T07:17:45.259Z"
   },
   {
    "duration": 154945,
    "start_time": "2022-07-14T07:18:02.332Z"
   },
   {
    "duration": 52656,
    "start_time": "2022-07-14T07:20:37.281Z"
   },
   {
    "duration": 37588,
    "start_time": "2022-07-14T07:24:05.361Z"
   },
   {
    "duration": 1356,
    "start_time": "2022-07-14T07:26:38.877Z"
   },
   {
    "duration": 3,
    "start_time": "2022-07-14T07:26:40.235Z"
   },
   {
    "duration": 97,
    "start_time": "2022-07-14T07:26:40.240Z"
   },
   {
    "duration": 34,
    "start_time": "2022-07-14T07:26:40.339Z"
   },
   {
    "duration": 13,
    "start_time": "2022-07-14T07:26:40.376Z"
   },
   {
    "duration": 63,
    "start_time": "2022-07-14T07:26:40.391Z"
   },
   {
    "duration": 44,
    "start_time": "2022-07-14T07:26:40.456Z"
   },
   {
    "duration": 28,
    "start_time": "2022-07-14T07:26:40.524Z"
   },
   {
    "duration": 6,
    "start_time": "2022-07-14T07:26:40.554Z"
   },
   {
    "duration": 23,
    "start_time": "2022-07-14T07:26:40.563Z"
   },
   {
    "duration": 41,
    "start_time": "2022-07-14T07:26:40.588Z"
   },
   {
    "duration": 14,
    "start_time": "2022-07-14T07:26:40.631Z"
   },
   {
    "duration": 40,
    "start_time": "2022-07-14T07:26:40.647Z"
   },
   {
    "duration": 46,
    "start_time": "2022-07-14T07:26:40.689Z"
   },
   {
    "duration": 3,
    "start_time": "2022-07-14T07:26:40.737Z"
   },
   {
    "duration": 1551,
    "start_time": "2022-07-14T07:26:40.742Z"
   },
   {
    "duration": 5,
    "start_time": "2022-07-14T07:26:42.296Z"
   },
   {
    "duration": 649,
    "start_time": "2022-07-14T07:26:42.303Z"
   },
   {
    "duration": 4,
    "start_time": "2022-07-14T07:26:42.954Z"
   },
   {
    "duration": 30,
    "start_time": "2022-07-14T07:26:42.960Z"
   },
   {
    "duration": 4,
    "start_time": "2022-07-14T07:26:42.992Z"
   },
   {
    "duration": 30,
    "start_time": "2022-07-14T07:26:42.997Z"
   },
   {
    "duration": 18,
    "start_time": "2022-07-14T07:26:43.029Z"
   },
   {
    "duration": 4,
    "start_time": "2022-07-14T07:26:43.049Z"
   },
   {
    "duration": 18,
    "start_time": "2022-07-14T07:26:43.055Z"
   },
   {
    "duration": 16651,
    "start_time": "2022-07-14T07:26:43.074Z"
   },
   {
    "duration": 256533,
    "start_time": "2022-07-14T07:26:59.727Z"
   },
   {
    "duration": 92642,
    "start_time": "2022-07-14T07:31:16.263Z"
   },
   {
    "duration": 209062,
    "start_time": "2022-07-14T07:41:46.438Z"
   },
   {
    "duration": 91186,
    "start_time": "2022-07-14T07:45:15.503Z"
   },
   {
    "duration": 1895,
    "start_time": "2022-07-14T08:26:12.152Z"
   },
   {
    "duration": 5,
    "start_time": "2022-07-14T08:26:14.049Z"
   },
   {
    "duration": 332,
    "start_time": "2022-07-14T08:26:14.055Z"
   },
   {
    "duration": 36,
    "start_time": "2022-07-14T08:26:14.390Z"
   },
   {
    "duration": 9,
    "start_time": "2022-07-14T08:26:14.428Z"
   },
   {
    "duration": 32,
    "start_time": "2022-07-14T08:26:14.439Z"
   },
   {
    "duration": 47,
    "start_time": "2022-07-14T08:26:14.473Z"
   },
   {
    "duration": 48,
    "start_time": "2022-07-14T08:26:14.521Z"
   },
   {
    "duration": 6,
    "start_time": "2022-07-14T08:26:14.570Z"
   },
   {
    "duration": 18,
    "start_time": "2022-07-14T08:26:14.580Z"
   },
   {
    "duration": 28,
    "start_time": "2022-07-14T08:26:14.600Z"
   },
   {
    "duration": 36,
    "start_time": "2022-07-14T08:26:14.630Z"
   },
   {
    "duration": 45,
    "start_time": "2022-07-14T08:26:14.667Z"
   },
   {
    "duration": 21,
    "start_time": "2022-07-14T08:26:14.714Z"
   },
   {
    "duration": 10,
    "start_time": "2022-07-14T08:26:14.737Z"
   },
   {
    "duration": 1580,
    "start_time": "2022-07-14T08:26:14.764Z"
   },
   {
    "duration": 4,
    "start_time": "2022-07-14T08:26:16.346Z"
   },
   {
    "duration": 582,
    "start_time": "2022-07-14T08:26:16.352Z"
   },
   {
    "duration": 3,
    "start_time": "2022-07-14T08:26:16.936Z"
   },
   {
    "duration": 43,
    "start_time": "2022-07-14T08:26:16.940Z"
   },
   {
    "duration": 5,
    "start_time": "2022-07-14T08:26:16.985Z"
   },
   {
    "duration": 11,
    "start_time": "2022-07-14T08:26:16.992Z"
   },
   {
    "duration": 28,
    "start_time": "2022-07-14T08:26:17.005Z"
   },
   {
    "duration": 11,
    "start_time": "2022-07-14T08:26:17.035Z"
   },
   {
    "duration": 23,
    "start_time": "2022-07-14T08:26:17.048Z"
   },
   {
    "duration": 20993,
    "start_time": "2022-07-14T08:26:17.072Z"
   },
   {
    "duration": 1444,
    "start_time": "2022-07-14T08:26:47.856Z"
   },
   {
    "duration": 3,
    "start_time": "2022-07-14T08:26:49.302Z"
   },
   {
    "duration": 106,
    "start_time": "2022-07-14T08:26:49.307Z"
   },
   {
    "duration": 34,
    "start_time": "2022-07-14T08:26:49.416Z"
   },
   {
    "duration": 9,
    "start_time": "2022-07-14T08:26:49.452Z"
   },
   {
    "duration": 24,
    "start_time": "2022-07-14T08:26:49.463Z"
   },
   {
    "duration": 41,
    "start_time": "2022-07-14T08:26:49.488Z"
   },
   {
    "duration": 50,
    "start_time": "2022-07-14T08:26:49.530Z"
   },
   {
    "duration": 7,
    "start_time": "2022-07-14T08:26:49.581Z"
   },
   {
    "duration": 16,
    "start_time": "2022-07-14T08:26:49.590Z"
   },
   {
    "duration": 25,
    "start_time": "2022-07-14T08:26:49.608Z"
   },
   {
    "duration": 41,
    "start_time": "2022-07-14T08:26:49.635Z"
   },
   {
    "duration": 38,
    "start_time": "2022-07-14T08:26:49.678Z"
   },
   {
    "duration": 20,
    "start_time": "2022-07-14T08:26:49.718Z"
   },
   {
    "duration": 4,
    "start_time": "2022-07-14T08:26:49.764Z"
   },
   {
    "duration": 1623,
    "start_time": "2022-07-14T08:26:49.769Z"
   },
   {
    "duration": 6,
    "start_time": "2022-07-14T08:26:51.394Z"
   },
   {
    "duration": 664,
    "start_time": "2022-07-14T08:26:51.403Z"
   },
   {
    "duration": 4,
    "start_time": "2022-07-14T08:26:52.069Z"
   },
   {
    "duration": 36,
    "start_time": "2022-07-14T08:26:52.075Z"
   },
   {
    "duration": 5,
    "start_time": "2022-07-14T08:26:52.113Z"
   },
   {
    "duration": 38,
    "start_time": "2022-07-14T08:26:52.120Z"
   },
   {
    "duration": 19,
    "start_time": "2022-07-14T08:26:52.160Z"
   },
   {
    "duration": 3,
    "start_time": "2022-07-14T08:26:52.181Z"
   },
   {
    "duration": 19,
    "start_time": "2022-07-14T08:26:52.186Z"
   },
   {
    "duration": 19461,
    "start_time": "2022-07-14T08:26:52.206Z"
   },
   {
    "duration": 95807,
    "start_time": "2022-07-14T08:27:11.670Z"
   },
   {
    "duration": 202204,
    "start_time": "2022-07-14T08:28:47.482Z"
   },
   {
    "duration": 126,
    "start_time": "2022-07-14T08:32:09.689Z"
   },
   {
    "duration": 111,
    "start_time": "2022-07-14T08:34:40.565Z"
   },
   {
    "duration": 10,
    "start_time": "2022-07-14T08:34:56.846Z"
   },
   {
    "duration": 64,
    "start_time": "2022-07-14T08:36:03.615Z"
   },
   {
    "duration": 282,
    "start_time": "2022-07-14T08:36:52.234Z"
   },
   {
    "duration": 1509,
    "start_time": "2022-07-14T09:11:19.147Z"
   },
   {
    "duration": 6,
    "start_time": "2022-07-14T09:11:20.658Z"
   },
   {
    "duration": 81,
    "start_time": "2022-07-14T09:11:20.666Z"
   },
   {
    "duration": 34,
    "start_time": "2022-07-14T09:11:20.749Z"
   },
   {
    "duration": 10,
    "start_time": "2022-07-14T09:11:20.785Z"
   },
   {
    "duration": 25,
    "start_time": "2022-07-14T09:11:20.796Z"
   },
   {
    "duration": 76,
    "start_time": "2022-07-14T09:11:20.823Z"
   },
   {
    "duration": 24,
    "start_time": "2022-07-14T09:11:20.901Z"
   },
   {
    "duration": 6,
    "start_time": "2022-07-14T09:11:20.927Z"
   },
   {
    "duration": 13,
    "start_time": "2022-07-14T09:11:20.965Z"
   },
   {
    "duration": 22,
    "start_time": "2022-07-14T09:11:20.979Z"
   },
   {
    "duration": 13,
    "start_time": "2022-07-14T09:11:21.003Z"
   },
   {
    "duration": 66,
    "start_time": "2022-07-14T09:11:21.017Z"
   },
   {
    "duration": 24,
    "start_time": "2022-07-14T09:11:21.085Z"
   },
   {
    "duration": 3,
    "start_time": "2022-07-14T09:11:21.111Z"
   },
   {
    "duration": 1633,
    "start_time": "2022-07-14T09:11:21.115Z"
   },
   {
    "duration": 6,
    "start_time": "2022-07-14T09:11:22.750Z"
   },
   {
    "duration": 588,
    "start_time": "2022-07-14T09:11:22.758Z"
   },
   {
    "duration": 4,
    "start_time": "2022-07-14T09:11:23.348Z"
   },
   {
    "duration": 34,
    "start_time": "2022-07-14T09:11:23.353Z"
   },
   {
    "duration": 5,
    "start_time": "2022-07-14T09:11:23.389Z"
   },
   {
    "duration": 15,
    "start_time": "2022-07-14T09:11:23.396Z"
   },
   {
    "duration": 16,
    "start_time": "2022-07-14T09:11:23.413Z"
   },
   {
    "duration": 4,
    "start_time": "2022-07-14T09:11:23.430Z"
   },
   {
    "duration": 35,
    "start_time": "2022-07-14T09:11:23.436Z"
   },
   {
    "duration": 21909,
    "start_time": "2022-07-14T09:11:23.473Z"
   },
   {
    "duration": 94190,
    "start_time": "2022-07-14T09:11:45.465Z"
   },
   {
    "duration": 188070,
    "start_time": "2022-07-14T09:13:19.658Z"
   },
   {
    "duration": 275,
    "start_time": "2022-07-14T09:16:27.730Z"
   },
   {
    "duration": 1481,
    "start_time": "2022-07-14T11:57:19.466Z"
   },
   {
    "duration": 1220,
    "start_time": "2022-07-14T11:57:33.812Z"
   },
   {
    "duration": 32,
    "start_time": "2022-07-14T11:58:46.789Z"
   },
   {
    "duration": 1447,
    "start_time": "2022-07-14T11:58:58.979Z"
   },
   {
    "duration": 3,
    "start_time": "2022-07-14T11:59:00.428Z"
   },
   {
    "duration": 166,
    "start_time": "2022-07-14T11:59:00.433Z"
   },
   {
    "duration": 37,
    "start_time": "2022-07-14T11:59:00.601Z"
   },
   {
    "duration": 12,
    "start_time": "2022-07-14T11:59:00.642Z"
   },
   {
    "duration": 36,
    "start_time": "2022-07-14T11:59:00.664Z"
   },
   {
    "duration": 78,
    "start_time": "2022-07-14T11:59:00.702Z"
   },
   {
    "duration": 29,
    "start_time": "2022-07-14T11:59:00.781Z"
   },
   {
    "duration": 7,
    "start_time": "2022-07-14T11:59:00.811Z"
   },
   {
    "duration": 26,
    "start_time": "2022-07-14T11:59:00.820Z"
   },
   {
    "duration": 631,
    "start_time": "2022-07-14T11:59:00.848Z"
   },
   {
    "duration": 0,
    "start_time": "2022-07-14T11:59:01.482Z"
   },
   {
    "duration": 0,
    "start_time": "2022-07-14T11:59:01.484Z"
   },
   {
    "duration": 0,
    "start_time": "2022-07-14T11:59:01.485Z"
   },
   {
    "duration": 0,
    "start_time": "2022-07-14T11:59:01.487Z"
   },
   {
    "duration": 0,
    "start_time": "2022-07-14T11:59:01.488Z"
   },
   {
    "duration": 0,
    "start_time": "2022-07-14T11:59:01.489Z"
   },
   {
    "duration": 0,
    "start_time": "2022-07-14T11:59:01.491Z"
   },
   {
    "duration": 0,
    "start_time": "2022-07-14T11:59:01.492Z"
   },
   {
    "duration": 0,
    "start_time": "2022-07-14T11:59:01.493Z"
   },
   {
    "duration": 0,
    "start_time": "2022-07-14T11:59:01.495Z"
   },
   {
    "duration": 0,
    "start_time": "2022-07-14T11:59:01.496Z"
   },
   {
    "duration": 0,
    "start_time": "2022-07-14T11:59:01.497Z"
   },
   {
    "duration": 0,
    "start_time": "2022-07-14T11:59:01.498Z"
   },
   {
    "duration": 0,
    "start_time": "2022-07-14T11:59:01.499Z"
   },
   {
    "duration": 0,
    "start_time": "2022-07-14T11:59:01.501Z"
   },
   {
    "duration": 0,
    "start_time": "2022-07-14T11:59:01.502Z"
   },
   {
    "duration": 0,
    "start_time": "2022-07-14T11:59:01.504Z"
   },
   {
    "duration": 0,
    "start_time": "2022-07-14T11:59:01.505Z"
   },
   {
    "duration": 30,
    "start_time": "2022-07-14T12:01:33.578Z"
   },
   {
    "duration": 1403,
    "start_time": "2022-07-14T12:01:42.769Z"
   },
   {
    "duration": 3,
    "start_time": "2022-07-14T12:01:44.174Z"
   },
   {
    "duration": 106,
    "start_time": "2022-07-14T12:01:44.179Z"
   },
   {
    "duration": 36,
    "start_time": "2022-07-14T12:01:44.287Z"
   },
   {
    "duration": 10,
    "start_time": "2022-07-14T12:01:44.325Z"
   },
   {
    "duration": 43,
    "start_time": "2022-07-14T12:01:44.337Z"
   },
   {
    "duration": 53,
    "start_time": "2022-07-14T12:01:44.381Z"
   },
   {
    "duration": 28,
    "start_time": "2022-07-14T12:01:44.464Z"
   },
   {
    "duration": 6,
    "start_time": "2022-07-14T12:01:44.494Z"
   },
   {
    "duration": 16,
    "start_time": "2022-07-14T12:01:44.502Z"
   },
   {
    "duration": 44,
    "start_time": "2022-07-14T12:01:44.520Z"
   },
   {
    "duration": 14,
    "start_time": "2022-07-14T12:01:44.565Z"
   },
   {
    "duration": 38,
    "start_time": "2022-07-14T12:01:44.580Z"
   },
   {
    "duration": 20,
    "start_time": "2022-07-14T12:01:44.620Z"
   },
   {
    "duration": 3,
    "start_time": "2022-07-14T12:01:44.664Z"
   },
   {
    "duration": 1612,
    "start_time": "2022-07-14T12:01:44.668Z"
   },
   {
    "duration": 4,
    "start_time": "2022-07-14T12:01:46.282Z"
   },
   {
    "duration": 605,
    "start_time": "2022-07-14T12:01:46.288Z"
   },
   {
    "duration": 4,
    "start_time": "2022-07-14T12:01:46.894Z"
   },
   {
    "duration": 37,
    "start_time": "2022-07-14T12:01:46.900Z"
   },
   {
    "duration": 5,
    "start_time": "2022-07-14T12:01:46.938Z"
   },
   {
    "duration": 20,
    "start_time": "2022-07-14T12:01:46.944Z"
   },
   {
    "duration": 33,
    "start_time": "2022-07-14T12:01:46.965Z"
   },
   {
    "duration": 21,
    "start_time": "2022-07-14T12:01:47.000Z"
   },
   {
    "duration": 30,
    "start_time": "2022-07-14T12:01:47.022Z"
   },
   {
    "duration": 16916,
    "start_time": "2022-07-14T12:01:47.053Z"
   },
   {
    "duration": 92158,
    "start_time": "2022-07-14T12:02:03.972Z"
   },
   {
    "duration": 216605,
    "start_time": "2022-07-14T12:03:36.133Z"
   },
   {
    "duration": 314,
    "start_time": "2022-07-14T12:07:12.740Z"
   },
   {
    "duration": 17,
    "start_time": "2022-07-14T12:20:18.796Z"
   },
   {
    "duration": 1439,
    "start_time": "2022-07-14T12:28:54.963Z"
   },
   {
    "duration": 5,
    "start_time": "2022-07-14T12:28:56.405Z"
   },
   {
    "duration": 114,
    "start_time": "2022-07-14T12:28:56.412Z"
   },
   {
    "duration": 39,
    "start_time": "2022-07-14T12:28:56.528Z"
   },
   {
    "duration": 10,
    "start_time": "2022-07-14T12:28:56.568Z"
   },
   {
    "duration": 28,
    "start_time": "2022-07-14T12:28:56.580Z"
   },
   {
    "duration": 79,
    "start_time": "2022-07-14T12:28:56.610Z"
   },
   {
    "duration": 26,
    "start_time": "2022-07-14T12:28:56.691Z"
   },
   {
    "duration": 6,
    "start_time": "2022-07-14T12:28:56.719Z"
   },
   {
    "duration": 47,
    "start_time": "2022-07-14T12:28:56.728Z"
   },
   {
    "duration": 25,
    "start_time": "2022-07-14T12:28:56.777Z"
   },
   {
    "duration": 14,
    "start_time": "2022-07-14T12:28:56.804Z"
   },
   {
    "duration": 64,
    "start_time": "2022-07-14T12:28:56.819Z"
   },
   {
    "duration": 23,
    "start_time": "2022-07-14T12:28:56.884Z"
   },
   {
    "duration": 4,
    "start_time": "2022-07-14T12:28:56.909Z"
   },
   {
    "duration": 1625,
    "start_time": "2022-07-14T12:28:56.915Z"
   },
   {
    "duration": 5,
    "start_time": "2022-07-14T12:28:58.542Z"
   },
   {
    "duration": 621,
    "start_time": "2022-07-14T12:28:58.549Z"
   },
   {
    "duration": 6,
    "start_time": "2022-07-14T12:28:59.172Z"
   },
   {
    "duration": 41,
    "start_time": "2022-07-14T12:28:59.179Z"
   },
   {
    "duration": 6,
    "start_time": "2022-07-14T12:28:59.222Z"
   },
   {
    "duration": 9,
    "start_time": "2022-07-14T12:28:59.230Z"
   },
   {
    "duration": 133,
    "start_time": "2022-07-14T12:28:59.241Z"
   },
   {
    "duration": 0,
    "start_time": "2022-07-14T12:28:59.376Z"
   },
   {
    "duration": 0,
    "start_time": "2022-07-14T12:28:59.378Z"
   },
   {
    "duration": 0,
    "start_time": "2022-07-14T12:28:59.380Z"
   },
   {
    "duration": 0,
    "start_time": "2022-07-14T12:28:59.382Z"
   },
   {
    "duration": 0,
    "start_time": "2022-07-14T12:28:59.384Z"
   },
   {
    "duration": 0,
    "start_time": "2022-07-14T12:28:59.385Z"
   },
   {
    "duration": 21,
    "start_time": "2022-07-14T12:47:40.687Z"
   },
   {
    "duration": 5,
    "start_time": "2022-07-14T12:47:42.677Z"
   },
   {
    "duration": 4,
    "start_time": "2022-07-14T12:52:44.191Z"
   },
   {
    "duration": 134,
    "start_time": "2022-07-14T12:53:21.049Z"
   },
   {
    "duration": 169,
    "start_time": "2022-07-14T12:53:40.260Z"
   },
   {
    "duration": 124,
    "start_time": "2022-07-14T12:54:53.823Z"
   },
   {
    "duration": 152,
    "start_time": "2022-07-14T12:55:08.082Z"
   },
   {
    "duration": 144,
    "start_time": "2022-07-14T12:55:26.516Z"
   },
   {
    "duration": 229,
    "start_time": "2022-07-14T12:55:45.421Z"
   },
   {
    "duration": 99,
    "start_time": "2022-07-14T12:56:33.820Z"
   },
   {
    "duration": 1477,
    "start_time": "2022-07-14T12:57:12.542Z"
   },
   {
    "duration": 5,
    "start_time": "2022-07-14T12:57:14.021Z"
   },
   {
    "duration": 123,
    "start_time": "2022-07-14T12:57:14.027Z"
   },
   {
    "duration": 39,
    "start_time": "2022-07-14T12:57:14.151Z"
   },
   {
    "duration": 10,
    "start_time": "2022-07-14T12:57:14.193Z"
   },
   {
    "duration": 59,
    "start_time": "2022-07-14T12:57:14.205Z"
   },
   {
    "duration": 51,
    "start_time": "2022-07-14T12:57:14.266Z"
   },
   {
    "duration": 58,
    "start_time": "2022-07-14T12:57:14.318Z"
   },
   {
    "duration": 7,
    "start_time": "2022-07-14T12:57:14.378Z"
   },
   {
    "duration": 20,
    "start_time": "2022-07-14T12:57:14.386Z"
   },
   {
    "duration": 29,
    "start_time": "2022-07-14T12:57:14.408Z"
   },
   {
    "duration": 33,
    "start_time": "2022-07-14T12:57:14.439Z"
   },
   {
    "duration": 44,
    "start_time": "2022-07-14T12:57:14.474Z"
   },
   {
    "duration": 44,
    "start_time": "2022-07-14T12:57:14.521Z"
   },
   {
    "duration": 3,
    "start_time": "2022-07-14T12:57:14.567Z"
   },
   {
    "duration": 1660,
    "start_time": "2022-07-14T12:57:14.572Z"
   },
   {
    "duration": 5,
    "start_time": "2022-07-14T12:57:16.234Z"
   },
   {
    "duration": 624,
    "start_time": "2022-07-14T12:57:16.241Z"
   },
   {
    "duration": 5,
    "start_time": "2022-07-14T12:57:16.867Z"
   },
   {
    "duration": 41,
    "start_time": "2022-07-14T12:57:16.873Z"
   },
   {
    "duration": 5,
    "start_time": "2022-07-14T12:57:16.916Z"
   },
   {
    "duration": 9,
    "start_time": "2022-07-14T12:57:16.922Z"
   },
   {
    "duration": 38,
    "start_time": "2022-07-14T12:57:16.933Z"
   },
   {
    "duration": 3,
    "start_time": "2022-07-14T12:57:16.973Z"
   },
   {
    "duration": 126,
    "start_time": "2022-07-14T12:57:16.977Z"
   },
   {
    "duration": 115,
    "start_time": "2022-07-14T12:57:17.104Z"
   },
   {
    "duration": 18346,
    "start_time": "2022-07-14T12:57:17.221Z"
   },
   {
    "duration": 84827,
    "start_time": "2022-07-14T12:57:35.570Z"
   },
   {
    "duration": 287,
    "start_time": "2022-07-14T13:02:20.264Z"
   },
   {
    "duration": 1408,
    "start_time": "2022-07-14T13:50:20.669Z"
   },
   {
    "duration": 5,
    "start_time": "2022-07-14T13:50:22.079Z"
   },
   {
    "duration": 110,
    "start_time": "2022-07-14T13:50:22.086Z"
   },
   {
    "duration": 38,
    "start_time": "2022-07-14T13:50:22.198Z"
   },
   {
    "duration": 10,
    "start_time": "2022-07-14T13:50:22.239Z"
   },
   {
    "duration": 36,
    "start_time": "2022-07-14T13:50:22.251Z"
   },
   {
    "duration": 48,
    "start_time": "2022-07-14T13:50:22.289Z"
   },
   {
    "duration": 38,
    "start_time": "2022-07-14T13:50:22.364Z"
   },
   {
    "duration": 10,
    "start_time": "2022-07-14T13:50:22.404Z"
   },
   {
    "duration": 49,
    "start_time": "2022-07-14T13:50:22.417Z"
   },
   {
    "duration": 35,
    "start_time": "2022-07-14T13:50:22.468Z"
   },
   {
    "duration": 23,
    "start_time": "2022-07-14T13:50:22.505Z"
   },
   {
    "duration": 102,
    "start_time": "2022-07-14T13:50:22.531Z"
   },
   {
    "duration": 50,
    "start_time": "2022-07-14T13:50:22.638Z"
   },
   {
    "duration": 4,
    "start_time": "2022-07-14T13:50:22.690Z"
   },
   {
    "duration": 1756,
    "start_time": "2022-07-14T13:50:22.696Z"
   },
   {
    "duration": 7,
    "start_time": "2022-07-14T13:50:24.454Z"
   },
   {
    "duration": 700,
    "start_time": "2022-07-14T13:50:24.463Z"
   },
   {
    "duration": 5,
    "start_time": "2022-07-14T13:50:25.166Z"
   },
   {
    "duration": 44,
    "start_time": "2022-07-14T13:50:25.172Z"
   },
   {
    "duration": 5,
    "start_time": "2022-07-14T13:50:25.217Z"
   },
   {
    "duration": 15,
    "start_time": "2022-07-14T13:50:25.224Z"
   },
   {
    "duration": 35,
    "start_time": "2022-07-14T13:50:25.241Z"
   },
   {
    "duration": 16,
    "start_time": "2022-07-14T13:50:25.279Z"
   },
   {
    "duration": 122,
    "start_time": "2022-07-14T13:50:25.297Z"
   },
   {
    "duration": 108,
    "start_time": "2022-07-14T13:50:25.421Z"
   },
   {
    "duration": 5438,
    "start_time": "2022-07-14T13:50:25.531Z"
   },
   {
    "duration": 87799,
    "start_time": "2022-07-14T13:50:30.972Z"
   },
   {
    "duration": 286,
    "start_time": "2022-07-14T13:55:34.389Z"
   },
   {
    "duration": 68,
    "start_time": "2022-07-14T13:55:34.678Z"
   },
   {
    "duration": 2,
    "start_time": "2022-07-14T14:46:40.608Z"
   },
   {
    "duration": 54,
    "start_time": "2022-07-14T14:55:28.980Z"
   },
   {
    "duration": 26,
    "start_time": "2022-07-14T14:56:03.794Z"
   },
   {
    "duration": 81,
    "start_time": "2022-07-14T14:56:18.806Z"
   },
   {
    "duration": 50,
    "start_time": "2022-07-14T14:56:45.492Z"
   },
   {
    "duration": 153,
    "start_time": "2022-07-14T14:56:58.688Z"
   },
   {
    "duration": 85,
    "start_time": "2022-07-14T14:57:15.546Z"
   },
   {
    "duration": 1379,
    "start_time": "2022-07-14T14:57:48.024Z"
   },
   {
    "duration": 188,
    "start_time": "2022-07-14T14:58:31.235Z"
   },
   {
    "duration": 73,
    "start_time": "2022-07-14T14:58:52.985Z"
   },
   {
    "duration": 77,
    "start_time": "2022-07-14T14:59:58.614Z"
   },
   {
    "duration": 77,
    "start_time": "2022-07-14T15:01:20.380Z"
   },
   {
    "duration": 82,
    "start_time": "2022-07-14T15:01:32.327Z"
   },
   {
    "duration": 1234,
    "start_time": "2022-07-14T15:02:45.759Z"
   },
   {
    "duration": 1803,
    "start_time": "2022-07-14T15:04:11.728Z"
   },
   {
    "duration": 410,
    "start_time": "2022-07-14T15:04:34.588Z"
   },
   {
    "duration": 138,
    "start_time": "2022-07-14T15:04:50.307Z"
   },
   {
    "duration": 635,
    "start_time": "2022-07-14T15:04:57.637Z"
   },
   {
    "duration": 131,
    "start_time": "2022-07-14T15:06:00.238Z"
   },
   {
    "duration": 12,
    "start_time": "2022-07-14T15:07:17.806Z"
   },
   {
    "duration": 71,
    "start_time": "2022-07-14T15:08:08.497Z"
   },
   {
    "duration": 67,
    "start_time": "2022-07-14T15:09:28.285Z"
   },
   {
    "duration": 68,
    "start_time": "2022-07-14T15:09:57.550Z"
   },
   {
    "duration": 240,
    "start_time": "2022-07-14T15:27:46.590Z"
   },
   {
    "duration": 246,
    "start_time": "2022-07-14T15:28:28.886Z"
   },
   {
    "duration": 216,
    "start_time": "2022-07-14T15:28:47.290Z"
   },
   {
    "duration": 280,
    "start_time": "2022-07-14T15:29:05.344Z"
   },
   {
    "duration": 237,
    "start_time": "2022-07-14T15:29:40.816Z"
   },
   {
    "duration": 269,
    "start_time": "2022-07-14T15:29:52.255Z"
   },
   {
    "duration": 260,
    "start_time": "2022-07-14T15:30:11.729Z"
   },
   {
    "duration": 386,
    "start_time": "2022-07-14T15:31:19.761Z"
   },
   {
    "duration": 215,
    "start_time": "2022-07-14T15:33:47.943Z"
   },
   {
    "duration": 331,
    "start_time": "2022-07-14T15:34:05.429Z"
   },
   {
    "duration": 250,
    "start_time": "2022-07-14T15:34:16.309Z"
   },
   {
    "duration": 20,
    "start_time": "2022-07-14T15:35:23.726Z"
   },
   {
    "duration": 324,
    "start_time": "2022-07-14T15:35:43.012Z"
   },
   {
    "duration": 519,
    "start_time": "2022-07-14T15:37:39.291Z"
   },
   {
    "duration": 324,
    "start_time": "2022-07-14T15:37:45.807Z"
   },
   {
    "duration": 394,
    "start_time": "2022-07-14T15:37:50.783Z"
   },
   {
    "duration": 366,
    "start_time": "2022-07-14T15:38:03.154Z"
   },
   {
    "duration": 333,
    "start_time": "2022-07-14T15:38:10.799Z"
   },
   {
    "duration": 439,
    "start_time": "2022-07-14T15:38:45.035Z"
   },
   {
    "duration": 299,
    "start_time": "2022-07-14T15:39:03.246Z"
   },
   {
    "duration": 376,
    "start_time": "2022-07-14T15:39:14.823Z"
   },
   {
    "duration": 414,
    "start_time": "2022-07-14T15:39:40.445Z"
   },
   {
    "duration": 381,
    "start_time": "2022-07-14T15:40:08.665Z"
   },
   {
    "duration": 286,
    "start_time": "2022-07-14T15:40:12.883Z"
   },
   {
    "duration": 289,
    "start_time": "2022-07-14T15:40:23.084Z"
   },
   {
    "duration": 272,
    "start_time": "2022-07-14T15:40:59.265Z"
   },
   {
    "duration": 258,
    "start_time": "2022-07-14T15:41:09.135Z"
   },
   {
    "duration": 167,
    "start_time": "2022-07-14T15:41:17.164Z"
   },
   {
    "duration": 83,
    "start_time": "2022-07-14T15:41:30.764Z"
   },
   {
    "duration": 305,
    "start_time": "2022-07-14T15:41:37.104Z"
   },
   {
    "duration": 493,
    "start_time": "2022-07-14T15:42:23.333Z"
   },
   {
    "duration": 316,
    "start_time": "2022-07-14T15:43:32.035Z"
   },
   {
    "duration": 332,
    "start_time": "2022-07-14T15:43:42.124Z"
   },
   {
    "duration": 334,
    "start_time": "2022-07-14T15:44:00.191Z"
   },
   {
    "duration": 12,
    "start_time": "2022-07-14T15:51:34.960Z"
   },
   {
    "duration": 92,
    "start_time": "2022-07-14T15:51:38.820Z"
   },
   {
    "duration": 9,
    "start_time": "2022-07-14T16:06:44.032Z"
   },
   {
    "duration": 5,
    "start_time": "2022-07-14T16:06:46.382Z"
   },
   {
    "duration": 70,
    "start_time": "2022-07-14T16:06:46.601Z"
   },
   {
    "duration": 30,
    "start_time": "2022-07-14T16:07:22.451Z"
   },
   {
    "duration": 62,
    "start_time": "2022-07-14T16:07:33.282Z"
   },
   {
    "duration": 530,
    "start_time": "2022-07-14T16:11:43.343Z"
   },
   {
    "duration": 1501,
    "start_time": "2022-07-14T16:14:36.922Z"
   },
   {
    "duration": 3,
    "start_time": "2022-07-14T16:14:38.427Z"
   },
   {
    "duration": 134,
    "start_time": "2022-07-14T16:14:38.431Z"
   },
   {
    "duration": 40,
    "start_time": "2022-07-14T16:14:38.568Z"
   },
   {
    "duration": 9,
    "start_time": "2022-07-14T16:14:38.610Z"
   },
   {
    "duration": 56,
    "start_time": "2022-07-14T16:14:38.621Z"
   },
   {
    "duration": 45,
    "start_time": "2022-07-14T16:14:38.680Z"
   },
   {
    "duration": 41,
    "start_time": "2022-07-14T16:14:38.727Z"
   },
   {
    "duration": 23,
    "start_time": "2022-07-14T16:14:38.772Z"
   },
   {
    "duration": 13,
    "start_time": "2022-07-14T16:14:38.798Z"
   },
   {
    "duration": 22,
    "start_time": "2022-07-14T16:14:38.813Z"
   },
   {
    "duration": 12,
    "start_time": "2022-07-14T16:14:38.837Z"
   },
   {
    "duration": 62,
    "start_time": "2022-07-14T16:14:38.850Z"
   },
   {
    "duration": 22,
    "start_time": "2022-07-14T16:14:38.914Z"
   },
   {
    "duration": 384,
    "start_time": "2022-07-14T16:14:38.938Z"
   },
   {
    "duration": 6,
    "start_time": "2022-07-14T16:14:39.324Z"
   },
   {
    "duration": 5,
    "start_time": "2022-07-14T16:14:39.331Z"
   },
   {
    "duration": 136,
    "start_time": "2022-07-14T16:14:39.337Z"
   },
   {
    "duration": 0,
    "start_time": "2022-07-14T16:14:39.476Z"
   },
   {
    "duration": 0,
    "start_time": "2022-07-14T16:14:39.477Z"
   },
   {
    "duration": 0,
    "start_time": "2022-07-14T16:14:39.479Z"
   },
   {
    "duration": 0,
    "start_time": "2022-07-14T16:14:39.480Z"
   },
   {
    "duration": 0,
    "start_time": "2022-07-14T16:14:39.481Z"
   },
   {
    "duration": 0,
    "start_time": "2022-07-14T16:14:39.483Z"
   },
   {
    "duration": 0,
    "start_time": "2022-07-14T16:14:39.485Z"
   },
   {
    "duration": 0,
    "start_time": "2022-07-14T16:14:39.486Z"
   },
   {
    "duration": 0,
    "start_time": "2022-07-14T16:14:39.487Z"
   },
   {
    "duration": 0,
    "start_time": "2022-07-14T16:14:39.489Z"
   },
   {
    "duration": 0,
    "start_time": "2022-07-14T16:14:39.490Z"
   },
   {
    "duration": 0,
    "start_time": "2022-07-14T16:14:39.492Z"
   },
   {
    "duration": 0,
    "start_time": "2022-07-14T16:14:39.494Z"
   },
   {
    "duration": 0,
    "start_time": "2022-07-14T16:14:39.495Z"
   },
   {
    "duration": 758,
    "start_time": "2022-07-14T16:14:58.089Z"
   },
   {
    "duration": 35,
    "start_time": "2022-07-14T16:19:22.935Z"
   },
   {
    "duration": 30,
    "start_time": "2022-07-14T16:21:08.102Z"
   },
   {
    "duration": 37,
    "start_time": "2022-07-14T16:21:53.654Z"
   },
   {
    "duration": 269,
    "start_time": "2022-07-14T16:34:03.441Z"
   },
   {
    "duration": 371,
    "start_time": "2022-07-14T16:34:23.940Z"
   },
   {
    "duration": 363,
    "start_time": "2022-07-14T16:35:04.449Z"
   },
   {
    "duration": 64,
    "start_time": "2022-07-14T16:35:50.384Z"
   },
   {
    "duration": 729,
    "start_time": "2022-07-14T16:36:01.014Z"
   },
   {
    "duration": 803,
    "start_time": "2022-07-14T16:36:35.485Z"
   },
   {
    "duration": 16,
    "start_time": "2022-07-14T16:38:04.555Z"
   },
   {
    "duration": 1612,
    "start_time": "2022-07-14T16:38:12.159Z"
   },
   {
    "duration": 0,
    "start_time": "2022-07-14T16:38:13.775Z"
   },
   {
    "duration": 0,
    "start_time": "2022-07-14T16:38:13.777Z"
   },
   {
    "duration": 0,
    "start_time": "2022-07-14T16:38:13.778Z"
   },
   {
    "duration": 0,
    "start_time": "2022-07-14T16:38:13.779Z"
   },
   {
    "duration": 0,
    "start_time": "2022-07-14T16:38:13.780Z"
   },
   {
    "duration": 0,
    "start_time": "2022-07-14T16:38:13.781Z"
   },
   {
    "duration": 0,
    "start_time": "2022-07-14T16:38:13.782Z"
   },
   {
    "duration": 0,
    "start_time": "2022-07-14T16:38:13.784Z"
   },
   {
    "duration": 0,
    "start_time": "2022-07-14T16:38:13.784Z"
   },
   {
    "duration": 0,
    "start_time": "2022-07-14T16:38:13.786Z"
   },
   {
    "duration": 0,
    "start_time": "2022-07-14T16:38:13.787Z"
   },
   {
    "duration": 0,
    "start_time": "2022-07-14T16:38:13.787Z"
   },
   {
    "duration": 0,
    "start_time": "2022-07-14T16:38:13.788Z"
   },
   {
    "duration": 0,
    "start_time": "2022-07-14T16:38:13.790Z"
   },
   {
    "duration": 0,
    "start_time": "2022-07-14T16:38:13.790Z"
   },
   {
    "duration": 0,
    "start_time": "2022-07-14T16:38:13.792Z"
   },
   {
    "duration": 0,
    "start_time": "2022-07-14T16:38:13.793Z"
   },
   {
    "duration": 0,
    "start_time": "2022-07-14T16:38:13.794Z"
   },
   {
    "duration": 0,
    "start_time": "2022-07-14T16:38:13.795Z"
   },
   {
    "duration": 0,
    "start_time": "2022-07-14T16:38:13.795Z"
   },
   {
    "duration": 0,
    "start_time": "2022-07-14T16:38:13.796Z"
   },
   {
    "duration": 0,
    "start_time": "2022-07-14T16:38:13.797Z"
   },
   {
    "duration": 0,
    "start_time": "2022-07-14T16:38:13.798Z"
   },
   {
    "duration": 0,
    "start_time": "2022-07-14T16:38:13.799Z"
   },
   {
    "duration": 0,
    "start_time": "2022-07-14T16:38:13.800Z"
   },
   {
    "duration": 0,
    "start_time": "2022-07-14T16:38:13.801Z"
   },
   {
    "duration": 0,
    "start_time": "2022-07-14T16:38:13.802Z"
   },
   {
    "duration": 0,
    "start_time": "2022-07-14T16:38:13.803Z"
   },
   {
    "duration": 0,
    "start_time": "2022-07-14T16:38:13.804Z"
   },
   {
    "duration": 0,
    "start_time": "2022-07-14T16:38:13.805Z"
   },
   {
    "duration": 0,
    "start_time": "2022-07-14T16:38:13.806Z"
   },
   {
    "duration": 1439,
    "start_time": "2022-07-14T16:38:50.195Z"
   },
   {
    "duration": 8,
    "start_time": "2022-07-14T16:38:51.637Z"
   },
   {
    "duration": 115,
    "start_time": "2022-07-14T16:38:51.647Z"
   },
   {
    "duration": 39,
    "start_time": "2022-07-14T16:38:51.765Z"
   },
   {
    "duration": 9,
    "start_time": "2022-07-14T16:38:51.806Z"
   },
   {
    "duration": 53,
    "start_time": "2022-07-14T16:38:51.816Z"
   },
   {
    "duration": 49,
    "start_time": "2022-07-14T16:38:51.871Z"
   },
   {
    "duration": 60,
    "start_time": "2022-07-14T16:38:51.922Z"
   },
   {
    "duration": 8,
    "start_time": "2022-07-14T16:38:51.983Z"
   },
   {
    "duration": 12,
    "start_time": "2022-07-14T16:38:51.994Z"
   },
   {
    "duration": 23,
    "start_time": "2022-07-14T16:38:52.008Z"
   },
   {
    "duration": 48,
    "start_time": "2022-07-14T16:38:52.033Z"
   },
   {
    "duration": 46,
    "start_time": "2022-07-14T16:38:52.083Z"
   },
   {
    "duration": 51,
    "start_time": "2022-07-14T16:38:52.131Z"
   },
   {
    "duration": 342,
    "start_time": "2022-07-14T16:38:52.183Z"
   },
   {
    "duration": 7,
    "start_time": "2022-07-14T16:38:52.528Z"
   },
   {
    "duration": 61,
    "start_time": "2022-07-14T16:38:52.537Z"
   },
   {
    "duration": 827,
    "start_time": "2022-07-14T16:38:52.600Z"
   },
   {
    "duration": 3,
    "start_time": "2022-07-14T16:38:53.429Z"
   },
   {
    "duration": 1531,
    "start_time": "2022-07-14T16:38:53.434Z"
   },
   {
    "duration": 8,
    "start_time": "2022-07-14T16:38:54.967Z"
   },
   {
    "duration": 48,
    "start_time": "2022-07-14T16:38:54.977Z"
   },
   {
    "duration": 5,
    "start_time": "2022-07-14T16:38:55.026Z"
   },
   {
    "duration": 11,
    "start_time": "2022-07-14T16:38:55.033Z"
   },
   {
    "duration": 30,
    "start_time": "2022-07-14T16:38:55.045Z"
   },
   {
    "duration": 10,
    "start_time": "2022-07-14T16:38:55.078Z"
   },
   {
    "duration": 114,
    "start_time": "2022-07-14T16:38:55.090Z"
   },
   {
    "duration": 117,
    "start_time": "2022-07-14T16:38:55.207Z"
   },
   {
    "duration": 7243,
    "start_time": "2022-07-14T16:38:55.326Z"
   },
   {
    "duration": 87541,
    "start_time": "2022-07-14T16:39:02.570Z"
   },
   {
    "duration": 1494,
    "start_time": "2022-07-14T16:41:29.125Z"
   },
   {
    "duration": 4,
    "start_time": "2022-07-14T16:41:30.622Z"
   },
   {
    "duration": 178,
    "start_time": "2022-07-14T16:41:30.627Z"
   },
   {
    "duration": 36,
    "start_time": "2022-07-14T16:41:30.807Z"
   },
   {
    "duration": 10,
    "start_time": "2022-07-14T16:41:30.846Z"
   },
   {
    "duration": 73,
    "start_time": "2022-07-14T16:41:30.858Z"
   },
   {
    "duration": 63,
    "start_time": "2022-07-14T16:41:30.933Z"
   },
   {
    "duration": 29,
    "start_time": "2022-07-14T16:41:30.998Z"
   },
   {
    "duration": 16,
    "start_time": "2022-07-14T16:41:31.029Z"
   },
   {
    "duration": 44,
    "start_time": "2022-07-14T16:41:31.047Z"
   },
   {
    "duration": 40,
    "start_time": "2022-07-14T16:41:31.093Z"
   },
   {
    "duration": 27,
    "start_time": "2022-07-14T16:41:31.135Z"
   },
   {
    "duration": 62,
    "start_time": "2022-07-14T16:41:31.165Z"
   },
   {
    "duration": 24,
    "start_time": "2022-07-14T16:41:31.230Z"
   },
   {
    "duration": 360,
    "start_time": "2022-07-14T16:41:31.257Z"
   },
   {
    "duration": 6,
    "start_time": "2022-07-14T16:41:31.620Z"
   },
   {
    "duration": 58,
    "start_time": "2022-07-14T16:41:31.628Z"
   },
   {
    "duration": 808,
    "start_time": "2022-07-14T16:41:31.687Z"
   },
   {
    "duration": 3,
    "start_time": "2022-07-14T16:41:32.497Z"
   },
   {
    "duration": 1686,
    "start_time": "2022-07-14T16:41:32.502Z"
   },
   {
    "duration": 5,
    "start_time": "2022-07-14T16:41:34.190Z"
   },
   {
    "duration": 61,
    "start_time": "2022-07-14T16:41:34.197Z"
   },
   {
    "duration": 7,
    "start_time": "2022-07-14T16:41:34.260Z"
   },
   {
    "duration": 24,
    "start_time": "2022-07-14T16:41:34.269Z"
   },
   {
    "duration": 16,
    "start_time": "2022-07-14T16:41:34.295Z"
   },
   {
    "duration": 10,
    "start_time": "2022-07-14T16:41:34.312Z"
   },
   {
    "duration": 172,
    "start_time": "2022-07-14T16:41:34.323Z"
   },
   {
    "duration": 109,
    "start_time": "2022-07-14T16:41:34.497Z"
   },
   {
    "duration": 6356,
    "start_time": "2022-07-14T16:41:34.608Z"
   },
   {
    "duration": 1504,
    "start_time": "2022-07-14T16:42:31.199Z"
   },
   {
    "duration": 3,
    "start_time": "2022-07-14T16:42:32.708Z"
   },
   {
    "duration": 143,
    "start_time": "2022-07-14T16:42:32.714Z"
   },
   {
    "duration": 43,
    "start_time": "2022-07-14T16:42:32.859Z"
   },
   {
    "duration": 10,
    "start_time": "2022-07-14T16:42:32.905Z"
   },
   {
    "duration": 60,
    "start_time": "2022-07-14T16:42:32.916Z"
   },
   {
    "duration": 47,
    "start_time": "2022-07-14T16:42:32.978Z"
   },
   {
    "duration": 56,
    "start_time": "2022-07-14T16:42:33.026Z"
   },
   {
    "duration": 7,
    "start_time": "2022-07-14T16:42:33.084Z"
   },
   {
    "duration": 35,
    "start_time": "2022-07-14T16:42:33.092Z"
   },
   {
    "duration": 30,
    "start_time": "2022-07-14T16:42:33.129Z"
   },
   {
    "duration": 20,
    "start_time": "2022-07-14T16:42:33.161Z"
   },
   {
    "duration": 47,
    "start_time": "2022-07-14T16:42:33.184Z"
   },
   {
    "duration": 46,
    "start_time": "2022-07-14T16:42:33.234Z"
   },
   {
    "duration": 334,
    "start_time": "2022-07-14T16:42:33.281Z"
   },
   {
    "duration": 6,
    "start_time": "2022-07-14T16:42:33.617Z"
   },
   {
    "duration": 50,
    "start_time": "2022-07-14T16:42:33.625Z"
   },
   {
    "duration": 836,
    "start_time": "2022-07-14T16:42:33.678Z"
   },
   {
    "duration": 719,
    "start_time": "2022-07-14T16:42:45.997Z"
   },
   {
    "duration": 1111,
    "start_time": "2022-07-14T17:10:15.451Z"
   },
   {
    "duration": 1150,
    "start_time": "2022-07-14T17:10:25.589Z"
   },
   {
    "duration": 3,
    "start_time": "2022-07-14T17:12:25.289Z"
   },
   {
    "duration": 1004,
    "start_time": "2022-07-14T17:12:26.422Z"
   },
   {
    "duration": 1176,
    "start_time": "2022-07-14T17:12:48.680Z"
   },
   {
    "duration": 1640,
    "start_time": "2022-07-14T17:13:02.850Z"
   },
   {
    "duration": 1537,
    "start_time": "2022-07-14T17:13:33.793Z"
   },
   {
    "duration": 1767,
    "start_time": "2022-07-14T17:13:40.613Z"
   },
   {
    "duration": 1800,
    "start_time": "2022-07-14T17:13:58.731Z"
   },
   {
    "duration": 2036,
    "start_time": "2022-07-14T17:14:23.295Z"
   },
   {
    "duration": 1814,
    "start_time": "2022-07-14T17:14:47.455Z"
   },
   {
    "duration": 1810,
    "start_time": "2022-07-14T17:15:04.009Z"
   },
   {
    "duration": 1600,
    "start_time": "2022-07-14T17:15:20.338Z"
   },
   {
    "duration": 1396,
    "start_time": "2022-07-14T17:15:43.425Z"
   },
   {
    "duration": 1626,
    "start_time": "2022-07-14T17:15:55.118Z"
   },
   {
    "duration": 1549,
    "start_time": "2022-07-14T17:16:01.598Z"
   },
   {
    "duration": 1806,
    "start_time": "2022-07-14T17:16:10.686Z"
   },
   {
    "duration": 1619,
    "start_time": "2022-07-14T17:16:25.953Z"
   },
   {
    "duration": 1954,
    "start_time": "2022-07-14T17:16:41.657Z"
   },
   {
    "duration": 2112,
    "start_time": "2022-07-14T17:16:59.228Z"
   },
   {
    "duration": 2034,
    "start_time": "2022-07-14T17:18:09.833Z"
   },
   {
    "duration": 2038,
    "start_time": "2022-07-14T17:18:39.153Z"
   },
   {
    "duration": 2051,
    "start_time": "2022-07-14T17:19:16.614Z"
   },
   {
    "duration": 1377,
    "start_time": "2022-07-14T17:49:10.861Z"
   },
   {
    "duration": 6,
    "start_time": "2022-07-14T17:49:12.240Z"
   },
   {
    "duration": 127,
    "start_time": "2022-07-14T17:49:12.248Z"
   },
   {
    "duration": 42,
    "start_time": "2022-07-14T17:49:12.378Z"
   },
   {
    "duration": 21,
    "start_time": "2022-07-14T17:49:12.421Z"
   },
   {
    "duration": 37,
    "start_time": "2022-07-14T17:49:12.443Z"
   },
   {
    "duration": 46,
    "start_time": "2022-07-14T17:49:12.482Z"
   },
   {
    "duration": 57,
    "start_time": "2022-07-14T17:49:12.529Z"
   },
   {
    "duration": 9,
    "start_time": "2022-07-14T17:49:12.588Z"
   },
   {
    "duration": 39,
    "start_time": "2022-07-14T17:49:12.600Z"
   },
   {
    "duration": 47,
    "start_time": "2022-07-14T17:49:12.642Z"
   },
   {
    "duration": 19,
    "start_time": "2022-07-14T17:49:12.691Z"
   },
   {
    "duration": 59,
    "start_time": "2022-07-14T17:49:12.712Z"
   },
   {
    "duration": 23,
    "start_time": "2022-07-14T17:49:12.773Z"
   },
   {
    "duration": 307,
    "start_time": "2022-07-14T17:49:12.797Z"
   },
   {
    "duration": 7,
    "start_time": "2022-07-14T17:49:13.105Z"
   },
   {
    "duration": 55,
    "start_time": "2022-07-14T17:49:13.113Z"
   },
   {
    "duration": 727,
    "start_time": "2022-07-14T17:49:13.170Z"
   },
   {
    "duration": 3,
    "start_time": "2022-07-14T17:49:13.899Z"
   },
   {
    "duration": 1958,
    "start_time": "2022-07-14T17:49:13.903Z"
   },
   {
    "duration": 4,
    "start_time": "2022-07-14T17:49:15.863Z"
   },
   {
    "duration": 39,
    "start_time": "2022-07-14T17:49:15.869Z"
   },
   {
    "duration": 5,
    "start_time": "2022-07-14T17:49:15.910Z"
   },
   {
    "duration": 7,
    "start_time": "2022-07-14T17:49:15.916Z"
   },
   {
    "duration": 39,
    "start_time": "2022-07-14T17:49:15.925Z"
   },
   {
    "duration": 4,
    "start_time": "2022-07-14T17:49:15.965Z"
   },
   {
    "duration": 120,
    "start_time": "2022-07-14T17:49:15.970Z"
   },
   {
    "duration": 107,
    "start_time": "2022-07-14T17:49:16.093Z"
   },
   {
    "duration": 11666,
    "start_time": "2022-07-14T17:49:16.202Z"
   },
   {
    "duration": 82907,
    "start_time": "2022-07-14T17:49:27.870Z"
   },
   {
    "duration": 163338,
    "start_time": "2022-07-14T17:50:50.779Z"
   },
   {
    "duration": 253,
    "start_time": "2022-07-14T17:53:34.119Z"
   }
  ],
  "kernelspec": {
   "display_name": "Python 3 (ipykernel)",
   "language": "python",
   "name": "python3"
  },
  "language_info": {
   "codemirror_mode": {
    "name": "ipython",
    "version": 3
   },
   "file_extension": ".py",
   "mimetype": "text/x-python",
   "name": "python",
   "nbconvert_exporter": "python",
   "pygments_lexer": "ipython3",
   "version": "3.9.5"
  },
  "toc": {
   "base_numbering": 1,
   "nav_menu": {
    "height": "274.5px",
    "width": "375.75px"
   },
   "number_sections": true,
   "sideBar": true,
   "skip_h1_title": true,
   "title_cell": "Table of Contents",
   "title_sidebar": "Contents",
   "toc_cell": false,
   "toc_position": {},
   "toc_section_display": true,
   "toc_window_display": false
  }
 },
 "nbformat": 4,
 "nbformat_minor": 2
}
