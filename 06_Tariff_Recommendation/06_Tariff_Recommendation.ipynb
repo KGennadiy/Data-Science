{
 "cells": [
  {
   "cell_type": "markdown",
   "metadata": {},
   "source": [
    "# Рекомендация тарифов"
   ]
  },
  {
   "cell_type": "markdown",
   "metadata": {},
   "source": [
    "В вашем распоряжении данные о поведении клиентов, которые уже перешли на эти тарифы (из проекта курса «Статистический анализ данных»). Нужно построить модель для задачи классификации, которая выберет подходящий тариф. Предобработка данных не понадобится — вы её уже сделали.\n",
    "\n",
    "Постройте модель с максимально большим значением *accuracy*. Чтобы сдать проект успешно, нужно довести долю правильных ответов по крайней мере до 0.75. Проверьте *accuracy* на тестовой выборке самостоятельно."
   ]
  },
  {
   "cell_type": "markdown",
   "metadata": {},
   "source": [
    "## Откройте и изучите файл"
   ]
  },
  {
   "cell_type": "code",
   "execution_count": 1,
   "metadata": {},
   "outputs": [],
   "source": [
    "import pandas as pd\n",
    "import sklearn\n",
    "from sklearn.model_selection import train_test_split # импорт функции деления датасета\n",
    "from sklearn.metrics import accuracy_score #метод оценки доли правильных ответов\n",
    "from sklearn.tree import DecisionTreeClassifier #метод дерева принятия решений\n",
    "from sklearn.ensemble import RandomForestClassifier # метод случайного леса\n",
    "from sklearn.linear_model import LogisticRegression # метод логистической регрессии\n",
    "from sklearn.dummy import DummyClassifier # модель Думми"
   ]
  },
  {
   "cell_type": "code",
   "execution_count": 2,
   "metadata": {
    "scrolled": true
   },
   "outputs": [
    {
     "data": {
      "text/html": [
       "<div>\n",
       "<style scoped>\n",
       "    .dataframe tbody tr th:only-of-type {\n",
       "        vertical-align: middle;\n",
       "    }\n",
       "\n",
       "    .dataframe tbody tr th {\n",
       "        vertical-align: top;\n",
       "    }\n",
       "\n",
       "    .dataframe thead th {\n",
       "        text-align: right;\n",
       "    }\n",
       "</style>\n",
       "<table border=\"1\" class=\"dataframe\">\n",
       "  <thead>\n",
       "    <tr style=\"text-align: right;\">\n",
       "      <th></th>\n",
       "      <th>calls</th>\n",
       "      <th>minutes</th>\n",
       "      <th>messages</th>\n",
       "      <th>mb_used</th>\n",
       "      <th>is_ultra</th>\n",
       "    </tr>\n",
       "  </thead>\n",
       "  <tbody>\n",
       "    <tr>\n",
       "      <td>0</td>\n",
       "      <td>40.0</td>\n",
       "      <td>311.90</td>\n",
       "      <td>83.0</td>\n",
       "      <td>19915.42</td>\n",
       "      <td>0</td>\n",
       "    </tr>\n",
       "    <tr>\n",
       "      <td>1</td>\n",
       "      <td>85.0</td>\n",
       "      <td>516.75</td>\n",
       "      <td>56.0</td>\n",
       "      <td>22696.96</td>\n",
       "      <td>0</td>\n",
       "    </tr>\n",
       "    <tr>\n",
       "      <td>2</td>\n",
       "      <td>77.0</td>\n",
       "      <td>467.66</td>\n",
       "      <td>86.0</td>\n",
       "      <td>21060.45</td>\n",
       "      <td>0</td>\n",
       "    </tr>\n",
       "    <tr>\n",
       "      <td>3</td>\n",
       "      <td>106.0</td>\n",
       "      <td>745.53</td>\n",
       "      <td>81.0</td>\n",
       "      <td>8437.39</td>\n",
       "      <td>1</td>\n",
       "    </tr>\n",
       "    <tr>\n",
       "      <td>4</td>\n",
       "      <td>66.0</td>\n",
       "      <td>418.74</td>\n",
       "      <td>1.0</td>\n",
       "      <td>14502.75</td>\n",
       "      <td>0</td>\n",
       "    </tr>\n",
       "    <tr>\n",
       "      <td>...</td>\n",
       "      <td>...</td>\n",
       "      <td>...</td>\n",
       "      <td>...</td>\n",
       "      <td>...</td>\n",
       "      <td>...</td>\n",
       "    </tr>\n",
       "    <tr>\n",
       "      <td>3209</td>\n",
       "      <td>122.0</td>\n",
       "      <td>910.98</td>\n",
       "      <td>20.0</td>\n",
       "      <td>35124.90</td>\n",
       "      <td>1</td>\n",
       "    </tr>\n",
       "    <tr>\n",
       "      <td>3210</td>\n",
       "      <td>25.0</td>\n",
       "      <td>190.36</td>\n",
       "      <td>0.0</td>\n",
       "      <td>3275.61</td>\n",
       "      <td>0</td>\n",
       "    </tr>\n",
       "    <tr>\n",
       "      <td>3211</td>\n",
       "      <td>97.0</td>\n",
       "      <td>634.44</td>\n",
       "      <td>70.0</td>\n",
       "      <td>13974.06</td>\n",
       "      <td>0</td>\n",
       "    </tr>\n",
       "    <tr>\n",
       "      <td>3212</td>\n",
       "      <td>64.0</td>\n",
       "      <td>462.32</td>\n",
       "      <td>90.0</td>\n",
       "      <td>31239.78</td>\n",
       "      <td>0</td>\n",
       "    </tr>\n",
       "    <tr>\n",
       "      <td>3213</td>\n",
       "      <td>80.0</td>\n",
       "      <td>566.09</td>\n",
       "      <td>6.0</td>\n",
       "      <td>29480.52</td>\n",
       "      <td>1</td>\n",
       "    </tr>\n",
       "  </tbody>\n",
       "</table>\n",
       "<p>3214 rows × 5 columns</p>\n",
       "</div>"
      ],
      "text/plain": [
       "      calls  minutes  messages   mb_used  is_ultra\n",
       "0      40.0   311.90      83.0  19915.42         0\n",
       "1      85.0   516.75      56.0  22696.96         0\n",
       "2      77.0   467.66      86.0  21060.45         0\n",
       "3     106.0   745.53      81.0   8437.39         1\n",
       "4      66.0   418.74       1.0  14502.75         0\n",
       "...     ...      ...       ...       ...       ...\n",
       "3209  122.0   910.98      20.0  35124.90         1\n",
       "3210   25.0   190.36       0.0   3275.61         0\n",
       "3211   97.0   634.44      70.0  13974.06         0\n",
       "3212   64.0   462.32      90.0  31239.78         0\n",
       "3213   80.0   566.09       6.0  29480.52         1\n",
       "\n",
       "[3214 rows x 5 columns]"
      ]
     },
     "execution_count": 2,
     "metadata": {},
     "output_type": "execute_result"
    }
   ],
   "source": [
    "df = pd.read_csv('/datasets/users_behavior.csv')\n",
    "df"
   ]
  },
  {
   "cell_type": "code",
   "execution_count": 3,
   "metadata": {
    "scrolled": true
   },
   "outputs": [
    {
     "name": "stdout",
     "output_type": "stream",
     "text": [
      "<class 'pandas.core.frame.DataFrame'>\n",
      "RangeIndex: 3214 entries, 0 to 3213\n",
      "Data columns (total 5 columns):\n",
      "calls       3214 non-null float64\n",
      "minutes     3214 non-null float64\n",
      "messages    3214 non-null float64\n",
      "mb_used     3214 non-null float64\n",
      "is_ultra    3214 non-null int64\n",
      "dtypes: float64(4), int64(1)\n",
      "memory usage: 125.7 KB\n"
     ]
    },
    {
     "data": {
      "text/html": [
       "<div>\n",
       "<style scoped>\n",
       "    .dataframe tbody tr th:only-of-type {\n",
       "        vertical-align: middle;\n",
       "    }\n",
       "\n",
       "    .dataframe tbody tr th {\n",
       "        vertical-align: top;\n",
       "    }\n",
       "\n",
       "    .dataframe thead th {\n",
       "        text-align: right;\n",
       "    }\n",
       "</style>\n",
       "<table border=\"1\" class=\"dataframe\">\n",
       "  <thead>\n",
       "    <tr style=\"text-align: right;\">\n",
       "      <th></th>\n",
       "      <th>calls</th>\n",
       "      <th>minutes</th>\n",
       "      <th>messages</th>\n",
       "      <th>mb_used</th>\n",
       "      <th>is_ultra</th>\n",
       "    </tr>\n",
       "  </thead>\n",
       "  <tbody>\n",
       "    <tr>\n",
       "      <td>count</td>\n",
       "      <td>3214.000000</td>\n",
       "      <td>3214.000000</td>\n",
       "      <td>3214.000000</td>\n",
       "      <td>3214.000000</td>\n",
       "      <td>3214.000000</td>\n",
       "    </tr>\n",
       "    <tr>\n",
       "      <td>mean</td>\n",
       "      <td>63.038892</td>\n",
       "      <td>438.208787</td>\n",
       "      <td>38.281269</td>\n",
       "      <td>17207.673836</td>\n",
       "      <td>0.306472</td>\n",
       "    </tr>\n",
       "    <tr>\n",
       "      <td>std</td>\n",
       "      <td>33.236368</td>\n",
       "      <td>234.569872</td>\n",
       "      <td>36.148326</td>\n",
       "      <td>7570.968246</td>\n",
       "      <td>0.461100</td>\n",
       "    </tr>\n",
       "    <tr>\n",
       "      <td>min</td>\n",
       "      <td>0.000000</td>\n",
       "      <td>0.000000</td>\n",
       "      <td>0.000000</td>\n",
       "      <td>0.000000</td>\n",
       "      <td>0.000000</td>\n",
       "    </tr>\n",
       "    <tr>\n",
       "      <td>25%</td>\n",
       "      <td>40.000000</td>\n",
       "      <td>274.575000</td>\n",
       "      <td>9.000000</td>\n",
       "      <td>12491.902500</td>\n",
       "      <td>0.000000</td>\n",
       "    </tr>\n",
       "    <tr>\n",
       "      <td>50%</td>\n",
       "      <td>62.000000</td>\n",
       "      <td>430.600000</td>\n",
       "      <td>30.000000</td>\n",
       "      <td>16943.235000</td>\n",
       "      <td>0.000000</td>\n",
       "    </tr>\n",
       "    <tr>\n",
       "      <td>75%</td>\n",
       "      <td>82.000000</td>\n",
       "      <td>571.927500</td>\n",
       "      <td>57.000000</td>\n",
       "      <td>21424.700000</td>\n",
       "      <td>1.000000</td>\n",
       "    </tr>\n",
       "    <tr>\n",
       "      <td>max</td>\n",
       "      <td>244.000000</td>\n",
       "      <td>1632.060000</td>\n",
       "      <td>224.000000</td>\n",
       "      <td>49745.730000</td>\n",
       "      <td>1.000000</td>\n",
       "    </tr>\n",
       "  </tbody>\n",
       "</table>\n",
       "</div>"
      ],
      "text/plain": [
       "             calls      minutes     messages       mb_used     is_ultra\n",
       "count  3214.000000  3214.000000  3214.000000   3214.000000  3214.000000\n",
       "mean     63.038892   438.208787    38.281269  17207.673836     0.306472\n",
       "std      33.236368   234.569872    36.148326   7570.968246     0.461100\n",
       "min       0.000000     0.000000     0.000000      0.000000     0.000000\n",
       "25%      40.000000   274.575000     9.000000  12491.902500     0.000000\n",
       "50%      62.000000   430.600000    30.000000  16943.235000     0.000000\n",
       "75%      82.000000   571.927500    57.000000  21424.700000     1.000000\n",
       "max     244.000000  1632.060000   224.000000  49745.730000     1.000000"
      ]
     },
     "execution_count": 3,
     "metadata": {},
     "output_type": "execute_result"
    }
   ],
   "source": [
    "df.info()\n",
    "df.describe()"
   ]
  },
  {
   "cell_type": "markdown",
   "metadata": {},
   "source": [
    "Предсталенные данные не имеют пропусков.<br>\n",
    "\n",
    "Количество исследований 3214, содержат в себе количество звонков(сalls), суммарную длительность звонков в минутах (minutes), количество sms-сообщений (messages), израсходованный интернет-трафик в Мб(mb_used) и тип тарифа (is_ultra, где «Ультра» — 1, «Смарт» — 0).<br>\n",
    "\n",
    "Представленние данные соответствуют типу и предобработаны (согласно постановке задачи)."
   ]
  },
  {
   "cell_type": "markdown",
   "metadata": {},
   "source": [
    "## Разбейте данные на выборки"
   ]
  },
  {
   "cell_type": "code",
   "execution_count": 4,
   "metadata": {},
   "outputs": [],
   "source": [
    "# Разделение данных на 3 выборки: обучающую, валидационную, тестовую\n",
    "df_train, df_valid_test = train_test_split(df, train_size=0.7, test_size=0.3, random_state=12345)\n",
    "df_valid, df_test = train_test_split(df_valid_test, test_size=0.5, random_state=12345)"
   ]
  },
  {
   "cell_type": "code",
   "execution_count": 5,
   "metadata": {},
   "outputs": [
    {
     "data": {
      "text/plain": [
       "2249"
      ]
     },
     "metadata": {},
     "output_type": "display_data"
    },
    {
     "data": {
      "text/plain": [
       "482"
      ]
     },
     "metadata": {},
     "output_type": "display_data"
    },
    {
     "data": {
      "text/plain": [
       "483"
      ]
     },
     "metadata": {},
     "output_type": "display_data"
    }
   ],
   "source": [
    "display(len(df_train)) # обучающая\n",
    "display(len(df_valid)) # валидационная\n",
    "display(len(df_test)) # тестовая"
   ]
  },
  {
   "cell_type": "markdown",
   "metadata": {},
   "source": [
    "### Разделение выборок"
   ]
  },
  {
   "cell_type": "markdown",
   "metadata": {},
   "source": [
    "#### Разделение обучающей выборки на признаки и целевой признак"
   ]
  },
  {
   "cell_type": "code",
   "execution_count": 6,
   "metadata": {},
   "outputs": [
    {
     "data": {
      "text/html": [
       "<div>\n",
       "<style scoped>\n",
       "    .dataframe tbody tr th:only-of-type {\n",
       "        vertical-align: middle;\n",
       "    }\n",
       "\n",
       "    .dataframe tbody tr th {\n",
       "        vertical-align: top;\n",
       "    }\n",
       "\n",
       "    .dataframe thead th {\n",
       "        text-align: right;\n",
       "    }\n",
       "</style>\n",
       "<table border=\"1\" class=\"dataframe\">\n",
       "  <thead>\n",
       "    <tr style=\"text-align: right;\">\n",
       "      <th></th>\n",
       "      <th>calls</th>\n",
       "      <th>minutes</th>\n",
       "      <th>messages</th>\n",
       "      <th>mb_used</th>\n",
       "    </tr>\n",
       "  </thead>\n",
       "  <tbody>\n",
       "    <tr>\n",
       "      <td>372</td>\n",
       "      <td>100.0</td>\n",
       "      <td>626.94</td>\n",
       "      <td>43.0</td>\n",
       "      <td>22690.35</td>\n",
       "    </tr>\n",
       "    <tr>\n",
       "      <td>703</td>\n",
       "      <td>28.0</td>\n",
       "      <td>195.36</td>\n",
       "      <td>29.0</td>\n",
       "      <td>11179.93</td>\n",
       "    </tr>\n",
       "    <tr>\n",
       "      <td>2406</td>\n",
       "      <td>53.0</td>\n",
       "      <td>359.13</td>\n",
       "      <td>0.0</td>\n",
       "      <td>13758.39</td>\n",
       "    </tr>\n",
       "  </tbody>\n",
       "</table>\n",
       "</div>"
      ],
      "text/plain": [
       "      calls  minutes  messages   mb_used\n",
       "372   100.0   626.94      43.0  22690.35\n",
       "703    28.0   195.36      29.0  11179.93\n",
       "2406   53.0   359.13       0.0  13758.39"
      ]
     },
     "metadata": {},
     "output_type": "display_data"
    },
    {
     "data": {
      "text/plain": [
       "372     1\n",
       "703     0\n",
       "2406    0\n",
       "Name: is_ultra, dtype: int64"
      ]
     },
     "metadata": {},
     "output_type": "display_data"
    }
   ],
   "source": [
    "features_train = df_train.drop(['is_ultra'],axis=1)\n",
    "target_train = df_train['is_ultra']\n",
    "display(features_train.head(3))# признаки\n",
    "display(target_train.head(3))# целевой признак"
   ]
  },
  {
   "cell_type": "markdown",
   "metadata": {},
   "source": [
    "#### Разделение валидационной выборки на признаки и целевой признак"
   ]
  },
  {
   "cell_type": "code",
   "execution_count": 7,
   "metadata": {},
   "outputs": [
    {
     "data": {
      "text/html": [
       "<div>\n",
       "<style scoped>\n",
       "    .dataframe tbody tr th:only-of-type {\n",
       "        vertical-align: middle;\n",
       "    }\n",
       "\n",
       "    .dataframe tbody tr th {\n",
       "        vertical-align: top;\n",
       "    }\n",
       "\n",
       "    .dataframe thead th {\n",
       "        text-align: right;\n",
       "    }\n",
       "</style>\n",
       "<table border=\"1\" class=\"dataframe\">\n",
       "  <thead>\n",
       "    <tr style=\"text-align: right;\">\n",
       "      <th></th>\n",
       "      <th>calls</th>\n",
       "      <th>minutes</th>\n",
       "      <th>messages</th>\n",
       "      <th>mb_used</th>\n",
       "    </tr>\n",
       "  </thead>\n",
       "  <tbody>\n",
       "    <tr>\n",
       "      <td>2487</td>\n",
       "      <td>67.0</td>\n",
       "      <td>439.01</td>\n",
       "      <td>20.0</td>\n",
       "      <td>24095.57</td>\n",
       "    </tr>\n",
       "    <tr>\n",
       "      <td>864</td>\n",
       "      <td>6.0</td>\n",
       "      <td>35.11</td>\n",
       "      <td>34.0</td>\n",
       "      <td>17625.23</td>\n",
       "    </tr>\n",
       "    <tr>\n",
       "      <td>1647</td>\n",
       "      <td>41.0</td>\n",
       "      <td>243.63</td>\n",
       "      <td>42.0</td>\n",
       "      <td>20579.46</td>\n",
       "    </tr>\n",
       "  </tbody>\n",
       "</table>\n",
       "</div>"
      ],
      "text/plain": [
       "      calls  minutes  messages   mb_used\n",
       "2487   67.0   439.01      20.0  24095.57\n",
       "864     6.0    35.11      34.0  17625.23\n",
       "1647   41.0   243.63      42.0  20579.46"
      ]
     },
     "metadata": {},
     "output_type": "display_data"
    },
    {
     "data": {
      "text/plain": [
       "2487    0\n",
       "864     0\n",
       "1647    0\n",
       "Name: is_ultra, dtype: int64"
      ]
     },
     "metadata": {},
     "output_type": "display_data"
    }
   ],
   "source": [
    "features_valid = df_valid.drop(['is_ultra'],axis=1)\n",
    "target_valid = df_valid['is_ultra']\n",
    "display(features_valid.head(3))# признаки\n",
    "display(target_valid.head(3))# целевой признак"
   ]
  },
  {
   "cell_type": "markdown",
   "metadata": {},
   "source": [
    "#### Разделение тестовой выборки на признаки и целевой признак"
   ]
  },
  {
   "cell_type": "code",
   "execution_count": 8,
   "metadata": {},
   "outputs": [
    {
     "data": {
      "text/html": [
       "<div>\n",
       "<style scoped>\n",
       "    .dataframe tbody tr th:only-of-type {\n",
       "        vertical-align: middle;\n",
       "    }\n",
       "\n",
       "    .dataframe tbody tr th {\n",
       "        vertical-align: top;\n",
       "    }\n",
       "\n",
       "    .dataframe thead th {\n",
       "        text-align: right;\n",
       "    }\n",
       "</style>\n",
       "<table border=\"1\" class=\"dataframe\">\n",
       "  <thead>\n",
       "    <tr style=\"text-align: right;\">\n",
       "      <th></th>\n",
       "      <th>calls</th>\n",
       "      <th>minutes</th>\n",
       "      <th>messages</th>\n",
       "      <th>mb_used</th>\n",
       "    </tr>\n",
       "  </thead>\n",
       "  <tbody>\n",
       "    <tr>\n",
       "      <td>2208</td>\n",
       "      <td>22.0</td>\n",
       "      <td>175.96</td>\n",
       "      <td>29.0</td>\n",
       "      <td>14303.32</td>\n",
       "    </tr>\n",
       "    <tr>\n",
       "      <td>1584</td>\n",
       "      <td>27.0</td>\n",
       "      <td>192.57</td>\n",
       "      <td>105.0</td>\n",
       "      <td>23746.70</td>\n",
       "    </tr>\n",
       "    <tr>\n",
       "      <td>2584</td>\n",
       "      <td>46.0</td>\n",
       "      <td>298.79</td>\n",
       "      <td>39.0</td>\n",
       "      <td>19376.93</td>\n",
       "    </tr>\n",
       "  </tbody>\n",
       "</table>\n",
       "</div>"
      ],
      "text/plain": [
       "      calls  minutes  messages   mb_used\n",
       "2208   22.0   175.96      29.0  14303.32\n",
       "1584   27.0   192.57     105.0  23746.70\n",
       "2584   46.0   298.79      39.0  19376.93"
      ]
     },
     "metadata": {},
     "output_type": "display_data"
    },
    {
     "data": {
      "text/plain": [
       "2208    0\n",
       "1584    1\n",
       "2584    1\n",
       "Name: is_ultra, dtype: int64"
      ]
     },
     "metadata": {},
     "output_type": "display_data"
    }
   ],
   "source": [
    "features_test = df_test.drop(['is_ultra'],axis=1)\n",
    "target_test = df_test['is_ultra']\n",
    "display(features_test.head(3))# признаки\n",
    "display(target_test.head(3))# целевой признак"
   ]
  },
  {
   "cell_type": "markdown",
   "metadata": {},
   "source": [
    "<b> Разделение тестовой, тренировочной и валидационной выборки на признаки(features) и целевой признак(target) прошло успешно."
   ]
  },
  {
   "cell_type": "markdown",
   "metadata": {},
   "source": [
    "## Исследуйте модели"
   ]
  },
  {
   "cell_type": "markdown",
   "metadata": {},
   "source": [
    "### Обучение модели \"Дерево решений\""
   ]
  },
  {
   "cell_type": "code",
   "execution_count": 9,
   "metadata": {},
   "outputs": [
    {
     "name": "stdout",
     "output_type": "stream",
     "text": [
      "max_depth: 1 accuracy: 0.7510373443983402\n",
      "max_depth: 2 accuracy: 0.7800829875518672\n",
      "max_depth: 3 accuracy: 0.7863070539419087\n",
      "max_depth: 4 accuracy: 0.7883817427385892\n",
      "max_depth: 5 accuracy: 0.7614107883817427\n",
      "max_depth: 6 accuracy: 0.7842323651452282\n"
     ]
    }
   ],
   "source": [
    "for depth in range(1,7): # оптимально-показательное количество, т.к. при глубине более 6 значения преимущественно ухудшались\n",
    "    model_tree=DecisionTreeClassifier(random_state=12345, max_depth=depth) # присваиваем модели имя\n",
    "    model_tree.fit(features_train,target_train) # обучаем\n",
    "    prediction_tree=model_tree.predict(features_valid) # проверяем\n",
    "    print('max_depth:',depth,end='')\n",
    "    print(' accuracy:',accuracy_score(prediction_tree,target_valid))"
   ]
  },
  {
   "cell_type": "markdown",
   "metadata": {},
   "source": [
    "<b> По результатам обучения видим, что наилучшая глубина 4 (лучшее значение гиперпараметров) и качество модели = 0.788"
   ]
  },
  {
   "cell_type": "markdown",
   "metadata": {},
   "source": [
    "### Обучение модели \"Случайный лес\""
   ]
  },
  {
   "cell_type": "code",
   "execution_count": 10,
   "metadata": {},
   "outputs": [
    {
     "name": "stdout",
     "output_type": "stream",
     "text": [
      "n_estimators: 24 depth: 6 accuracy 0.8132780082987552\n"
     ]
    }
   ],
   "source": [
    "ac=0\n",
    "es=0\n",
    "de=0\n",
    "for estim in range(1,50):    \n",
    "    model_forest = RandomForestClassifier(max_depth=10,n_estimators=estim,random_state=12345)\n",
    "    model_forest.fit(features_train,target_train) # обучаем\n",
    "    prediction_forest = model_forest.predict(features_valid) # проверяем\n",
    "    accuracy = accuracy_score(target_valid, prediction_forest)\n",
    "    if accuracy > ac:\n",
    "        ac=accuracy\n",
    "        es=estim\n",
    "        de=depth\n",
    "print(\"n_estimators:\", es, \"depth:\", de, \"accuracy\", ac)"
   ]
  },
  {
   "cell_type": "markdown",
   "metadata": {},
   "source": [
    "<b>По результатам обучения видим, что наилучшая глубина 6 (лучшее значение гиперпараметров) и качество модели = 0.813"
   ]
  },
  {
   "cell_type": "markdown",
   "metadata": {},
   "source": [
    "### Обучение модели \"Логистическая регрессия\""
   ]
  },
  {
   "cell_type": "code",
   "execution_count": 11,
   "metadata": {},
   "outputs": [
    {
     "name": "stdout",
     "output_type": "stream",
     "text": [
      "accuracy: 0.6950207468879668\n"
     ]
    },
    {
     "name": "stderr",
     "output_type": "stream",
     "text": [
      "/opt/conda/lib/python3.7/site-packages/sklearn/linear_model/logistic.py:432: FutureWarning: Default solver will be changed to 'lbfgs' in 0.22. Specify a solver to silence this warning.\n",
      "  FutureWarning)\n"
     ]
    }
   ],
   "source": [
    "model = LogisticRegression()\n",
    "model.fit(features_train, target_train)\n",
    "predictions = model.predict(features_valid)\n",
    "accuracy = accuracy_score(target_valid, predictions)\n",
    "print('accuracy:', accuracy)"
   ]
  },
  {
   "cell_type": "markdown",
   "metadata": {},
   "source": [
    "<b> По результатам видно, что модель не эффективна. Качество модели \"Логистическая регрессия\" = 0.695, что является самым низким показателем."
   ]
  },
  {
   "cell_type": "markdown",
   "metadata": {},
   "source": [
    "<b> Вывод:</b><br>\n",
    "В результате исследования 3-х разных моделей получены следующие показатели: <br>\n",
    " - Качество модели \"Дерево предсказания\", при гиперпараметрах глубины = 4, составляет 0.788;\n",
    " - Качество модели \"Случайный лес\" при гиперпараметрах глубины = 6, составляет 0.813;\n",
    " - Качество модели \"Логистическая регрессия\": 0.695, что является самым худшим показателем.\n",
    "\n",
    "<b>Лучшей для данной выборки оказалась модель \"Случайный лес\""
   ]
  },
  {
   "cell_type": "markdown",
   "metadata": {},
   "source": [
    "## Проверьте модель на тестовой выборке"
   ]
  },
  {
   "cell_type": "markdown",
   "metadata": {},
   "source": [
    "<b>Тестирование данных на модели \"Случайный лес\""
   ]
  },
  {
   "cell_type": "code",
   "execution_count": 12,
   "metadata": {},
   "outputs": [
    {
     "name": "stdout",
     "output_type": "stream",
     "text": [
      " accuracy: 0.8157349896480331\n"
     ]
    }
   ],
   "source": [
    "model_forest = RandomForestClassifier(max_depth=10,n_estimators=24,random_state=12345)\n",
    "model_forest.fit(features_train,target_train)\n",
    "prediction_forest = model_forest.predict(features_test)\n",
    "print(' accuracy:',accuracy_score(prediction_forest,target_test))"
   ]
  },
  {
   "cell_type": "markdown",
   "metadata": {},
   "source": [
    "<b> Модель проверены на тестовой выборке. Метрики качества тестовой выборки сопоставимы с метрикам качества валидационной модели"
   ]
  },
  {
   "cell_type": "markdown",
   "metadata": {},
   "source": [
    "## (бонус) Проверьте модели на адекватность"
   ]
  },
  {
   "cell_type": "markdown",
   "metadata": {},
   "source": [
    "Наиболее простая модель, которая предсказывает наиболее часто встречающийся класс - модель Думми"
   ]
  },
  {
   "cell_type": "code",
   "execution_count": 13,
   "metadata": {},
   "outputs": [
    {
     "data": {
      "text/plain": [
       "0.6927523343708315"
      ]
     },
     "execution_count": 13,
     "metadata": {},
     "output_type": "execute_result"
    }
   ],
   "source": [
    "dummy_clf = DummyClassifier(strategy=\"most_frequent\", random_state=0)\n",
    "dummy_clf.fit(features_train, target_train)\n",
    "dummy_clf.score(features_train, target_train)"
   ]
  },
  {
   "cell_type": "markdown",
   "metadata": {},
   "source": [
    "<b> Вывод </b> <br>\n",
    "В результате исследования определено, что наилучшим образом для данной выборки подходит модель <b>\"Случайный лес\"</b>, которая показывает около <b>82%</b> качество предсказания, что на 12% больше тестовой модели Думми и достаточно для выполнения поставленных в проекте задач."
   ]
  }
 ],
 "metadata": {
  "ExecuteTimeLog": [
   {
    "duration": 834,
    "start_time": "2022-02-15T09:25:03.819Z"
   },
   {
    "duration": 42,
    "start_time": "2022-02-15T09:25:27.552Z"
   },
   {
    "duration": 24,
    "start_time": "2022-02-15T09:26:15.473Z"
   },
   {
    "duration": 452,
    "start_time": "2022-02-15T09:47:21.680Z"
   },
   {
    "duration": 1053,
    "start_time": "2022-02-15T09:47:44.895Z"
   },
   {
    "duration": 32,
    "start_time": "2022-02-15T09:47:45.950Z"
   },
   {
    "duration": 22,
    "start_time": "2022-02-15T09:47:47.605Z"
   },
   {
    "duration": 6,
    "start_time": "2022-02-15T09:47:52.312Z"
   },
   {
    "duration": 4,
    "start_time": "2022-02-15T09:47:54.925Z"
   },
   {
    "duration": 5,
    "start_time": "2022-02-15T09:48:23.212Z"
   },
   {
    "duration": 4,
    "start_time": "2022-02-15T10:03:24.952Z"
   },
   {
    "duration": 478,
    "start_time": "2022-02-15T10:04:33.035Z"
   },
   {
    "duration": 12,
    "start_time": "2022-02-15T10:05:03.015Z"
   },
   {
    "duration": 9,
    "start_time": "2022-02-15T10:05:51.116Z"
   },
   {
    "duration": 11,
    "start_time": "2022-02-15T10:12:43.144Z"
   },
   {
    "duration": 10,
    "start_time": "2022-02-15T10:14:16.462Z"
   },
   {
    "duration": 10,
    "start_time": "2022-02-15T10:14:31.377Z"
   },
   {
    "duration": 1011,
    "start_time": "2022-02-15T10:19:39.638Z"
   },
   {
    "duration": 42,
    "start_time": "2022-02-15T10:19:40.651Z"
   },
   {
    "duration": 24,
    "start_time": "2022-02-15T10:19:40.695Z"
   },
   {
    "duration": 5,
    "start_time": "2022-02-15T10:19:40.721Z"
   },
   {
    "duration": 5,
    "start_time": "2022-02-15T10:19:40.727Z"
   },
   {
    "duration": 14,
    "start_time": "2022-02-15T10:19:40.734Z"
   },
   {
    "duration": 9,
    "start_time": "2022-02-15T10:19:40.750Z"
   },
   {
    "duration": 8,
    "start_time": "2022-02-15T10:19:40.761Z"
   },
   {
    "duration": 1219,
    "start_time": "2022-02-15T11:54:58.115Z"
   },
   {
    "duration": 30,
    "start_time": "2022-02-15T11:54:59.336Z"
   },
   {
    "duration": 20,
    "start_time": "2022-02-15T11:54:59.368Z"
   },
   {
    "duration": 6,
    "start_time": "2022-02-15T11:54:59.390Z"
   },
   {
    "duration": 6,
    "start_time": "2022-02-15T11:54:59.398Z"
   },
   {
    "duration": 30,
    "start_time": "2022-02-15T11:54:59.406Z"
   },
   {
    "duration": 9,
    "start_time": "2022-02-15T11:54:59.437Z"
   },
   {
    "duration": 9,
    "start_time": "2022-02-15T11:54:59.447Z"
   },
   {
    "duration": 147,
    "start_time": "2022-02-15T11:54:59.457Z"
   },
   {
    "duration": 241,
    "start_time": "2022-02-15T11:56:36.685Z"
   },
   {
    "duration": 26,
    "start_time": "2022-02-15T11:58:07.685Z"
   },
   {
    "duration": 32,
    "start_time": "2022-02-15T11:58:13.280Z"
   },
   {
    "duration": 35,
    "start_time": "2022-02-15T11:58:45.445Z"
   },
   {
    "duration": 393,
    "start_time": "2022-02-15T12:03:53.167Z"
   },
   {
    "duration": 299,
    "start_time": "2022-02-15T12:04:17.215Z"
   },
   {
    "duration": 1251,
    "start_time": "2022-02-15T12:04:50.315Z"
   },
   {
    "duration": 29,
    "start_time": "2022-02-15T12:04:51.569Z"
   },
   {
    "duration": 22,
    "start_time": "2022-02-15T12:04:51.600Z"
   },
   {
    "duration": 7,
    "start_time": "2022-02-15T12:04:51.632Z"
   },
   {
    "duration": 7,
    "start_time": "2022-02-15T12:04:51.641Z"
   },
   {
    "duration": 12,
    "start_time": "2022-02-15T12:04:51.650Z"
   },
   {
    "duration": 10,
    "start_time": "2022-02-15T12:04:51.664Z"
   },
   {
    "duration": 9,
    "start_time": "2022-02-15T12:04:51.676Z"
   },
   {
    "duration": 76,
    "start_time": "2022-02-15T12:04:51.687Z"
   },
   {
    "duration": 2236,
    "start_time": "2022-02-15T12:04:51.765Z"
   },
   {
    "duration": 2003,
    "start_time": "2022-02-15T12:06:06.515Z"
   },
   {
    "duration": 3955,
    "start_time": "2022-02-15T12:06:18.430Z"
   },
   {
    "duration": 1090,
    "start_time": "2022-02-15T12:07:11.205Z"
   },
   {
    "duration": 412,
    "start_time": "2022-02-15T12:09:31.651Z"
   },
   {
    "duration": 845,
    "start_time": "2022-02-15T12:09:59.890Z"
   },
   {
    "duration": 4118,
    "start_time": "2022-02-15T12:10:12.861Z"
   },
   {
    "duration": 3798,
    "start_time": "2022-02-15T12:15:05.744Z"
   },
   {
    "duration": 3,
    "start_time": "2022-02-15T12:19:20.215Z"
   },
   {
    "duration": 389,
    "start_time": "2022-02-15T12:19:52.008Z"
   },
   {
    "duration": 1317,
    "start_time": "2022-02-15T12:20:05.643Z"
   },
   {
    "duration": 31,
    "start_time": "2022-02-15T12:20:06.962Z"
   },
   {
    "duration": 23,
    "start_time": "2022-02-15T12:20:06.995Z"
   },
   {
    "duration": 17,
    "start_time": "2022-02-15T12:20:07.019Z"
   },
   {
    "duration": 7,
    "start_time": "2022-02-15T12:20:07.038Z"
   },
   {
    "duration": 13,
    "start_time": "2022-02-15T12:20:07.047Z"
   },
   {
    "duration": 11,
    "start_time": "2022-02-15T12:20:07.063Z"
   },
   {
    "duration": 13,
    "start_time": "2022-02-15T12:20:07.077Z"
   },
   {
    "duration": 76,
    "start_time": "2022-02-15T12:20:07.091Z"
   },
   {
    "duration": 3936,
    "start_time": "2022-02-15T12:20:07.168Z"
   },
   {
    "duration": 10,
    "start_time": "2022-02-15T12:20:11.106Z"
   },
   {
    "duration": 81,
    "start_time": "2022-02-15T12:38:27.486Z"
   },
   {
    "duration": 3,
    "start_time": "2022-02-15T12:41:01.861Z"
   },
   {
    "duration": 959,
    "start_time": "2022-02-15T12:41:12.578Z"
   },
   {
    "duration": 28,
    "start_time": "2022-02-15T12:41:13.539Z"
   },
   {
    "duration": 21,
    "start_time": "2022-02-15T12:41:13.569Z"
   },
   {
    "duration": 5,
    "start_time": "2022-02-15T12:41:13.591Z"
   },
   {
    "duration": 4,
    "start_time": "2022-02-15T12:41:13.598Z"
   },
   {
    "duration": 28,
    "start_time": "2022-02-15T12:41:13.604Z"
   },
   {
    "duration": 9,
    "start_time": "2022-02-15T12:41:13.633Z"
   },
   {
    "duration": 10,
    "start_time": "2022-02-15T12:41:13.643Z"
   },
   {
    "duration": 369,
    "start_time": "2022-02-15T12:41:13.656Z"
   },
   {
    "duration": -3170,
    "start_time": "2022-02-15T12:41:17.197Z"
   },
   {
    "duration": -3179,
    "start_time": "2022-02-15T12:41:17.207Z"
   },
   {
    "duration": -3180,
    "start_time": "2022-02-15T12:41:17.210Z"
   },
   {
    "duration": 1016,
    "start_time": "2022-02-15T12:43:34.224Z"
   },
   {
    "duration": 39,
    "start_time": "2022-02-15T12:43:35.242Z"
   },
   {
    "duration": 21,
    "start_time": "2022-02-15T12:43:35.283Z"
   },
   {
    "duration": 6,
    "start_time": "2022-02-15T12:43:35.305Z"
   },
   {
    "duration": 9,
    "start_time": "2022-02-15T12:43:35.312Z"
   },
   {
    "duration": 14,
    "start_time": "2022-02-15T12:43:35.322Z"
   },
   {
    "duration": 17,
    "start_time": "2022-02-15T12:43:35.337Z"
   },
   {
    "duration": 12,
    "start_time": "2022-02-15T12:43:35.356Z"
   },
   {
    "duration": 33,
    "start_time": "2022-02-15T12:43:35.370Z"
   },
   {
    "duration": 3720,
    "start_time": "2022-02-15T12:43:35.405Z"
   },
   {
    "duration": 10,
    "start_time": "2022-02-15T12:43:39.131Z"
   },
   {
    "duration": 74,
    "start_time": "2022-02-15T12:43:39.143Z"
   },
   {
    "duration": 2189,
    "start_time": "2022-02-15T13:40:26.298Z"
   },
   {
    "duration": 1341,
    "start_time": "2022-02-15T13:40:56.490Z"
   },
   {
    "duration": 43,
    "start_time": "2022-02-15T13:40:57.833Z"
   },
   {
    "duration": 45,
    "start_time": "2022-02-15T13:40:57.878Z"
   },
   {
    "duration": 9,
    "start_time": "2022-02-15T13:40:57.926Z"
   },
   {
    "duration": 9,
    "start_time": "2022-02-15T13:40:57.938Z"
   },
   {
    "duration": 16,
    "start_time": "2022-02-15T13:40:57.949Z"
   },
   {
    "duration": 58,
    "start_time": "2022-02-15T13:40:57.968Z"
   },
   {
    "duration": 16,
    "start_time": "2022-02-15T13:40:58.029Z"
   },
   {
    "duration": 87,
    "start_time": "2022-02-15T13:40:58.048Z"
   },
   {
    "duration": 5783,
    "start_time": "2022-02-15T13:40:58.137Z"
   },
   {
    "duration": 23,
    "start_time": "2022-02-15T13:41:03.923Z"
   },
   {
    "duration": 154,
    "start_time": "2022-02-15T13:41:03.949Z"
   },
   {
    "duration": 9,
    "start_time": "2022-02-15T13:41:04.110Z"
   }
  ],
  "kernelspec": {
   "display_name": "Python 3 (ipykernel)",
   "language": "python",
   "name": "python3"
  },
  "language_info": {
   "codemirror_mode": {
    "name": "ipython",
    "version": 3
   },
   "file_extension": ".py",
   "mimetype": "text/x-python",
   "name": "python",
   "nbconvert_exporter": "python",
   "pygments_lexer": "ipython3",
   "version": "3.9.5"
  },
  "toc": {
   "base_numbering": 1,
   "nav_menu": {},
   "number_sections": true,
   "sideBar": true,
   "skip_h1_title": true,
   "title_cell": "Table of Contents",
   "title_sidebar": "Contents",
   "toc_cell": false,
   "toc_position": {},
   "toc_section_display": true,
   "toc_window_display": false
  }
 },
 "nbformat": 4,
 "nbformat_minor": 2
}
