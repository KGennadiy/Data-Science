{
 "cells": [
  {
   "cell_type": "markdown",
   "metadata": {},
   "source": [
    "# Проект для «Викишоп»"
   ]
  },
  {
   "cell_type": "markdown",
   "metadata": {},
   "source": [
    "Интернет-магазин «Викишоп» запускает новый сервис. Теперь пользователи могут редактировать и дополнять описания товаров, как в вики-сообществах. То есть клиенты предлагают свои правки и комментируют изменения других. Магазину нужен инструмент, который будет искать токсичные комментарии и отправлять их на модерацию. \n",
    "\n",
    "Обучите модель классифицировать комментарии на позитивные и негативные. В вашем распоряжении набор данных с разметкой о токсичности правок.\n",
    "\n",
    "Постройте модель со значением метрики качества *F1* не меньше 0.75. \n",
    "\n",
    "**Инструкция по выполнению проекта**\n",
    "\n",
    "1. Загрузите и подготовьте данные.\n",
    "2. Обучите разные модели. \n",
    "3. Сделайте выводы.\n",
    "\n",
    "Для выполнения проекта применять *BERT* необязательно, но вы можете попробовать.\n",
    "\n",
    "**Описание данных**\n",
    "\n",
    "Данные находятся в файле `toxic_comments.csv`. Столбец *text* в нём содержит текст комментария, а *toxic* — целевой признак."
   ]
  },
  {
   "cell_type": "markdown",
   "metadata": {
    "toc": true
   },
   "source": [
    "<h1>Содержание<span class=\"tocSkip\"></span></h1>\n",
    "<div class=\"toc\"><ul class=\"toc-item\"><li><span><a href=\"#Подготовка\" data-toc-modified-id=\"Подготовка-1\"><span class=\"toc-item-num\">1&nbsp;&nbsp;</span>Подготовка</a></span><ul class=\"toc-item\"><li><span><a href=\"#Загрузка-и-анализ\" data-toc-modified-id=\"Загрузка-и-анализ-1.1\"><span class=\"toc-item-num\">1.1&nbsp;&nbsp;</span>Загрузка и анализ</a></span></li><li><span><a href=\"#Предобработка\" data-toc-modified-id=\"Предобработка-1.2\"><span class=\"toc-item-num\">1.2&nbsp;&nbsp;</span>Предобработка</a></span></li></ul></li><li><span><a href=\"#Обучение\" data-toc-modified-id=\"Обучение-2\"><span class=\"toc-item-num\">2&nbsp;&nbsp;</span>Обучение</a></span><ul class=\"toc-item\"><li><span><a href=\"#Логистическая-реграссия-(LogisticRegression)\" data-toc-modified-id=\"Логистическая-реграссия-(LogisticRegression)-2.1\"><span class=\"toc-item-num\">2.1&nbsp;&nbsp;</span>Логистическая реграссия (LogisticRegression)</a></span></li><li><span><a href=\"#Случайный-лес-(DecisionTreeClassifier)\" data-toc-modified-id=\"Случайный-лес-(DecisionTreeClassifier)-2.2\"><span class=\"toc-item-num\">2.2&nbsp;&nbsp;</span>Случайный лес (DecisionTreeClassifier)</a></span></li><li><span><a href=\"#Стахостический-радиентный-спуск-(SGDClassifier)\" data-toc-modified-id=\"Стахостический-радиентный-спуск-(SGDClassifier)-2.3\"><span class=\"toc-item-num\">2.3&nbsp;&nbsp;</span>Стахостический радиентный спуск (SGDClassifier)</a></span></li><li><span><a href=\"#Сводные-показатели\" data-toc-modified-id=\"Сводные-показатели-2.4\"><span class=\"toc-item-num\">2.4&nbsp;&nbsp;</span>Сводные показатели</a></span></li></ul></li><li><span><a href=\"#Выводы\" data-toc-modified-id=\"Выводы-3\"><span class=\"toc-item-num\">3&nbsp;&nbsp;</span>Выводы</a></span></li><li><span><a href=\"#Чек-лист-проверки\" data-toc-modified-id=\"Чек-лист-проверки-4\"><span class=\"toc-item-num\">4&nbsp;&nbsp;</span>Чек-лист проверки</a></span></li></ul></div>"
   ]
  },
  {
   "cell_type": "markdown",
   "metadata": {},
   "source": [
    "## Подготовка"
   ]
  },
  {
   "cell_type": "markdown",
   "metadata": {},
   "source": [
    "### Загрузка и анализ"
   ]
  },
  {
   "cell_type": "code",
   "execution_count": 1,
   "metadata": {},
   "outputs": [],
   "source": [
    "#подключение библиотек\n",
    "import pandas as pd\n",
    "import numpy as np\n",
    "\n",
    "import re\n",
    "from pymystem3 import Mystem\n",
    "import nltk\n",
    "\n",
    "import matplotlib.pyplot as plt\n",
    "\n",
    "from nltk.corpus import stopwords as nltk_stopwords\n",
    "from sklearn.feature_extraction.text import TfidfVectorizer\n",
    "from sklearn.model_selection import train_test_split, cross_val_score, GridSearchCV\n",
    "\n",
    "from sklearn.linear_model import LogisticRegression, SGDClassifier\n",
    "from sklearn.tree import DecisionTreeClassifier\n",
    "from sklearn.utils import shuffle\n",
    "from sklearn.metrics import f1_score\n",
    "\n",
    "import warnings\n",
    "warnings.filterwarnings('ignore')"
   ]
  },
  {
   "cell_type": "code",
   "execution_count": 2,
   "metadata": {
    "scrolled": true
   },
   "outputs": [
    {
     "name": "stdout",
     "output_type": "stream",
     "text": [
      "Общая информация:\n",
      "<class 'pandas.core.frame.DataFrame'>\n",
      "RangeIndex: 159571 entries, 0 to 159570\n",
      "Data columns (total 2 columns):\n",
      " #   Column  Non-Null Count   Dtype \n",
      "---  ------  --------------   ----- \n",
      " 0   text    159571 non-null  object\n",
      " 1   toxic   159571 non-null  int64 \n",
      "dtypes: int64(1), object(1)\n",
      "memory usage: 2.4+ MB\n"
     ]
    },
    {
     "data": {
      "text/plain": [
       "None"
      ]
     },
     "metadata": {},
     "output_type": "display_data"
    },
    {
     "data": {
      "text/html": [
       "<div>\n",
       "<style scoped>\n",
       "    .dataframe tbody tr th:only-of-type {\n",
       "        vertical-align: middle;\n",
       "    }\n",
       "\n",
       "    .dataframe tbody tr th {\n",
       "        vertical-align: top;\n",
       "    }\n",
       "\n",
       "    .dataframe thead th {\n",
       "        text-align: right;\n",
       "    }\n",
       "</style>\n",
       "<table border=\"1\" class=\"dataframe\">\n",
       "  <thead>\n",
       "    <tr style=\"text-align: right;\">\n",
       "      <th></th>\n",
       "      <th>text</th>\n",
       "      <th>toxic</th>\n",
       "    </tr>\n",
       "  </thead>\n",
       "  <tbody>\n",
       "    <tr>\n",
       "      <th>0</th>\n",
       "      <td>Explanation\\nWhy the edits made under my usern...</td>\n",
       "      <td>0</td>\n",
       "    </tr>\n",
       "    <tr>\n",
       "      <th>1</th>\n",
       "      <td>D'aww! He matches this background colour I'm s...</td>\n",
       "      <td>0</td>\n",
       "    </tr>\n",
       "    <tr>\n",
       "      <th>2</th>\n",
       "      <td>Hey man, I'm really not trying to edit war. It...</td>\n",
       "      <td>0</td>\n",
       "    </tr>\n",
       "    <tr>\n",
       "      <th>3</th>\n",
       "      <td>\"\\nMore\\nI can't make any real suggestions on ...</td>\n",
       "      <td>0</td>\n",
       "    </tr>\n",
       "    <tr>\n",
       "      <th>4</th>\n",
       "      <td>You, sir, are my hero. Any chance you remember...</td>\n",
       "      <td>0</td>\n",
       "    </tr>\n",
       "  </tbody>\n",
       "</table>\n",
       "</div>"
      ],
      "text/plain": [
       "                                                text  toxic\n",
       "0  Explanation\\nWhy the edits made under my usern...      0\n",
       "1  D'aww! He matches this background colour I'm s...      0\n",
       "2  Hey man, I'm really not trying to edit war. It...      0\n",
       "3  \"\\nMore\\nI can't make any real suggestions on ...      0\n",
       "4  You, sir, are my hero. Any chance you remember...      0"
      ]
     },
     "metadata": {},
     "output_type": "display_data"
    },
    {
     "name": "stdout",
     "output_type": "stream",
     "text": [
      "Количество начений в столбце toxic:\n"
     ]
    },
    {
     "data": {
      "text/plain": [
       "0    143346\n",
       "1     16225\n",
       "Name: toxic, dtype: int64"
      ]
     },
     "metadata": {},
     "output_type": "display_data"
    },
    {
     "data": {
      "text/plain": [
       "'Количество дубликатов: 0'"
      ]
     },
     "metadata": {},
     "output_type": "display_data"
    }
   ],
   "source": [
    "#получение данных\n",
    "df = pd.read_csv('/datasets/toxic_comments.csv')\n",
    "print(\"Общая информация:\")\n",
    "display(df.info())\n",
    "display(df.head())\n",
    "print(\"Количество начений в столбце toxic:\")\n",
    "display(df['toxic'].value_counts())\n",
    "display(f\"Количество дубликатов: {df.duplicated().sum()}\")"
   ]
  },
  {
   "cell_type": "code",
   "execution_count": 3,
   "metadata": {},
   "outputs": [
    {
     "data": {
      "text/plain": [
       "'Балансировка классов: 8.834884437596301'"
      ]
     },
     "metadata": {},
     "output_type": "display_data"
    }
   ],
   "source": [
    "cl_ratio = df['toxic'].value_counts()[0] / df['toxic'].value_counts()[1]\n",
    "display(f\"Балансировка классов: {cl_ratio}\")"
   ]
  },
  {
   "cell_type": "markdown",
   "metadata": {},
   "source": [
    "**Первичный анализ** <br>\n",
    " - 159571 строка, 2 столбца (text, toxic);\n",
    " - дубликатов и пропусков нет;\n",
    " - классы несбалансированы (отношение 1:8,83);\n",
    " - 89% данных не токсичны"
   ]
  },
  {
   "cell_type": "markdown",
   "metadata": {},
   "source": [
    "### Предобработка"
   ]
  },
  {
   "cell_type": "code",
   "execution_count": 4,
   "metadata": {},
   "outputs": [
    {
     "data": {
      "text/html": [
       "<div>\n",
       "<style scoped>\n",
       "    .dataframe tbody tr th:only-of-type {\n",
       "        vertical-align: middle;\n",
       "    }\n",
       "\n",
       "    .dataframe tbody tr th {\n",
       "        vertical-align: top;\n",
       "    }\n",
       "\n",
       "    .dataframe thead th {\n",
       "        text-align: right;\n",
       "    }\n",
       "</style>\n",
       "<table border=\"1\" class=\"dataframe\">\n",
       "  <thead>\n",
       "    <tr style=\"text-align: right;\">\n",
       "      <th></th>\n",
       "      <th>toxic</th>\n",
       "      <th>l_text</th>\n",
       "    </tr>\n",
       "  </thead>\n",
       "  <tbody>\n",
       "    <tr>\n",
       "      <th>0</th>\n",
       "      <td>0</td>\n",
       "      <td>explanation why the edits made under my userna...</td>\n",
       "    </tr>\n",
       "    <tr>\n",
       "      <th>1</th>\n",
       "      <td>0</td>\n",
       "      <td>d aww he matches this background colour i m se...</td>\n",
       "    </tr>\n",
       "    <tr>\n",
       "      <th>2</th>\n",
       "      <td>0</td>\n",
       "      <td>hey man i m really not trying to edit war it s...</td>\n",
       "    </tr>\n",
       "    <tr>\n",
       "      <th>3</th>\n",
       "      <td>0</td>\n",
       "      <td>more i can t make any real suggestions on impr...</td>\n",
       "    </tr>\n",
       "    <tr>\n",
       "      <th>4</th>\n",
       "      <td>0</td>\n",
       "      <td>you sir are my hero any chance you remember wh...</td>\n",
       "    </tr>\n",
       "  </tbody>\n",
       "</table>\n",
       "</div>"
      ],
      "text/plain": [
       "   toxic                                             l_text\n",
       "0      0  explanation why the edits made under my userna...\n",
       "1      0  d aww he matches this background colour i m se...\n",
       "2      0  hey man i m really not trying to edit war it s...\n",
       "3      0  more i can t make any real suggestions on impr...\n",
       "4      0  you sir are my hero any chance you remember wh..."
      ]
     },
     "metadata": {},
     "output_type": "display_data"
    },
    {
     "name": "stdout",
     "output_type": "stream",
     "text": [
      "CPU times: user 57.8 s, sys: 14.7 s, total: 1min 12s\n",
      "Wall time: 2min 37s\n"
     ]
    }
   ],
   "source": [
    "%%time\n",
    "# Подготовка файла и лемматизация текста\n",
    "\n",
    "m = Mystem()\n",
    "\n",
    "def lemmatize_text(text):\n",
    "    text = text.lower()\n",
    "    lemm_text = \"\".join(m.lemmatize(text))\n",
    "    cleared_text = re.sub(r'[^a-zA-Z]', ' ', lemm_text) \n",
    "    return \" \".join(cleared_text.split())\n",
    "\n",
    "df['l_text'] = df['text'].apply(lemmatize_text)\n",
    "\n",
    "df = df.drop(['text'], axis=1)\n",
    "\n",
    "display(df.head())"
   ]
  },
  {
   "cell_type": "code",
   "execution_count": 5,
   "metadata": {
    "scrolled": true
   },
   "outputs": [
    {
     "name": "stderr",
     "output_type": "stream",
     "text": [
      "[nltk_data] Downloading package stopwords to /home/jovyan/nltk_data...\n",
      "[nltk_data]   Package stopwords is already up-to-date!\n"
     ]
    },
    {
     "name": "stdout",
     "output_type": "stream",
     "text": [
      "Размеры выборок\n",
      "тренировочная: (111699, 138428)\n",
      "валидационная: (23936, 138428)\n",
      "тестовая: (23936, 138428)\n"
     ]
    }
   ],
   "source": [
    "# Разделение файла на тренировочную(70%), валидацинную(15%) и тестовую(15%) выборки\n",
    "\n",
    "targ = df['toxic']\n",
    "feat = df.drop(['toxic'], axis=1)\n",
    "\n",
    "feat_tr, feat_v, targ_tr, targ_v = train_test_split(feat, targ, test_size=0.3, random_state=12345)\n",
    "feat_v, feat_t, targ_v, targ_t = train_test_split(feat_v, targ_v, test_size=0.5, random_state=12345)\n",
    "\n",
    "nltk.download('stopwords')\n",
    "stpwrds = set(nltk_stopwords.words('english'))\n",
    "\n",
    "count_tf_idf = TfidfVectorizer(stop_words=stpwrds)\n",
    "\n",
    "feat_tr = count_tf_idf.fit_transform(feat_tr['l_text'].values.astype('U'))\n",
    "feat_v = count_tf_idf.transform(feat_v['l_text'].values.astype('U'))\n",
    "feat_t = count_tf_idf.transform(feat_t['l_text'].values.astype('U'))\n",
    "print(\"Размеры выборок\")\n",
    "print(f\"тренировочная: {feat_tr.shape}\")\n",
    "print(f\"валидационная: {feat_v.shape}\")\n",
    "print(f\"тестовая: {feat_t.shape}\")"
   ]
  },
  {
   "cell_type": "code",
   "execution_count": 6,
   "metadata": {},
   "outputs": [
    {
     "name": "stdout",
     "output_type": "stream",
     "text": [
      "F1 на CV 0.6832478349308616\n",
      "CPU times: user 1min 6s, sys: 1min 10s, total: 2min 17s\n",
      "Wall time: 2min 17s\n"
     ]
    }
   ],
   "source": [
    "%%time\n",
    "\n",
    "tr_f1 = cross_val_score(LogisticRegression(), feat_tr, targ_tr, cv=3, scoring='f1').mean()\n",
    "print('F1 на CV', tr_f1)"
   ]
  },
  {
   "cell_type": "code",
   "execution_count": 7,
   "metadata": {},
   "outputs": [
    {
     "name": "stdout",
     "output_type": "stream",
     "text": [
      "F1 на CV со балансированными классами 0.7463928428281513\n",
      "CPU times: user 1min 4s, sys: 1min 15s, total: 2min 19s\n",
      "Wall time: 2min 19s\n"
     ]
    }
   ],
   "source": [
    "%%time\n",
    "\n",
    "# Проведем балансировку классов\n",
    "\n",
    "tr_f1_b = cross_val_score(LogisticRegression(class_weight='balanced'), feat_tr, targ_tr, cv=3, scoring='f1').mean() \n",
    "\n",
    "print('F1 на CV со балансированными классами', tr_f1_b)"
   ]
  },
  {
   "cell_type": "markdown",
   "metadata": {},
   "source": [
    "**F1 сбалансированной модели увеличилась**"
   ]
  },
  {
   "cell_type": "code",
   "execution_count": 8,
   "metadata": {},
   "outputs": [
    {
     "name": "stdout",
     "output_type": "stream",
     "text": [
      "F1 на CV с уменьшением классов 0.8811427157190891\n",
      "CPU times: user 25.8 s, sys: 32 s, total: 57.9 s\n",
      "Wall time: 58 s\n"
     ]
    }
   ],
   "source": [
    "%%time\n",
    "\n",
    "# Проведем ресэмплинг по нетоксичным комментариям(0)\n",
    "\n",
    "df_tr = df.iloc[targ_tr.index]\n",
    "\n",
    "targ_tr_zero = df_tr[df_tr['toxic'] == 0]['toxic']\n",
    "targ_tr_one = df_tr[df_tr['toxic'] == 1]['toxic']\n",
    "\n",
    "targ_tr_zero_ds = targ_tr_zero.sample(targ_tr_one.shape[0], random_state=12345)\n",
    "targ_tr_ds = pd.concat([targ_tr_zero_ds, targ_tr_one])\n",
    "\n",
    "feat_tr_ds = df.iloc[targ_tr_ds.index]\n",
    "feat_tr_ds, targ_tr_ds = shuffle(feat_tr_ds, targ_tr_ds, random_state=12345)\n",
    "feat_tr_ds = count_tf_idf.transform(feat_tr_ds['l_text'].values.astype('U'))\n",
    "\n",
    "tr_f1_ds = cross_val_score(LogisticRegression(), feat_tr_ds, targ_tr_ds, cv=3, scoring='f1').mean()\n",
    "print('F1 на CV с уменьшением классов', tr_f1_ds)"
   ]
  },
  {
   "cell_type": "markdown",
   "metadata": {},
   "source": [
    "**Получили значительный прирост F1** "
   ]
  },
  {
   "cell_type": "code",
   "execution_count": 9,
   "metadata": {},
   "outputs": [
    {
     "data": {
      "text/html": [
       "<div>\n",
       "<style scoped>\n",
       "    .dataframe tbody tr th:only-of-type {\n",
       "        vertical-align: middle;\n",
       "    }\n",
       "\n",
       "    .dataframe tbody tr th {\n",
       "        vertical-align: top;\n",
       "    }\n",
       "\n",
       "    .dataframe thead th {\n",
       "        text-align: right;\n",
       "    }\n",
       "</style>\n",
       "<table border=\"1\" class=\"dataframe\">\n",
       "  <thead>\n",
       "    <tr style=\"text-align: right;\">\n",
       "      <th></th>\n",
       "      <th>F1 на CV</th>\n",
       "    </tr>\n",
       "  </thead>\n",
       "  <tbody>\n",
       "    <tr>\n",
       "      <th>LogisticRegression</th>\n",
       "      <td>0.683248</td>\n",
       "    </tr>\n",
       "    <tr>\n",
       "      <th>LogisticRegression(balansed)</th>\n",
       "      <td>0.746393</td>\n",
       "    </tr>\n",
       "    <tr>\n",
       "      <th>LogisticRegression(downsampled)</th>\n",
       "      <td>0.881143</td>\n",
       "    </tr>\n",
       "  </tbody>\n",
       "</table>\n",
       "</div>"
      ],
      "text/plain": [
       "                                 F1 на CV\n",
       "LogisticRegression               0.683248\n",
       "LogisticRegression(balansed)     0.746393\n",
       "LogisticRegression(downsampled)  0.881143"
      ]
     },
     "metadata": {},
     "output_type": "display_data"
    }
   ],
   "source": [
    "# Сводная таблица полученных значений\n",
    "\n",
    "index = ['LogisticRegression', 'LogisticRegression(balansed)', 'LogisticRegression(downsampled)']\n",
    "data = {'F1 на CV':[tr_f1, tr_f1_b, tr_f1_ds]}\n",
    "\n",
    "display(pd.DataFrame(data=data, index=index))"
   ]
  },
  {
   "cell_type": "markdown",
   "metadata": {},
   "source": [
    "**Получили наилучшие показатели F1 на CV у Логистической регрессии с балансировкой по классам**, его и будем использовать в обучении"
   ]
  },
  {
   "cell_type": "markdown",
   "metadata": {},
   "source": [
    "## Обучение"
   ]
  },
  {
   "cell_type": "markdown",
   "metadata": {},
   "source": [
    "**Для обучения выберем следующие модели:**\n",
    " - Логистическая реграссия (LogisticRegression)\n",
    " - Случайный лес (DecisionTreeClassifier)\n",
    " - Стахостический радиентный спуск (SGDClassifier)"
   ]
  },
  {
   "cell_type": "markdown",
   "metadata": {},
   "source": [
    "### Логистическая реграссия (LogisticRegression)"
   ]
  },
  {
   "cell_type": "code",
   "execution_count": 10,
   "metadata": {},
   "outputs": [
    {
     "name": "stdout",
     "output_type": "stream",
     "text": [
      "Настройка гипер-параметров для F1 метрики\n",
      "Лучшие параметры:\n",
      "{'C': 10, 'class_weight': {0: 1, 1: 8.834884437596301}, 'solver': 'lbfgs'}\n",
      "CPU times: user 6min 21s, sys: 6min 22s, total: 12min 44s\n",
      "Wall time: 12min 44s\n"
     ]
    }
   ],
   "source": [
    "%%time\n",
    "\n",
    "dict_classes={0:1, 1:cl_ratio}\n",
    "hyperparams = [{'solver':['newton-cg', 'lbfgs', 'liblinear'], 'C':[0.1, 1, 10], 'class_weight':[dict_classes]}]\n",
    "\n",
    "print('Настройка гипер-параметров для F1 метрики')\n",
    "clf = GridSearchCV(LogisticRegression(), hyperparams, scoring='f1',cv=3)\n",
    "clf.fit(feat_tr, targ_tr)\n",
    "print('Лучшие параметры:')\n",
    "LR_b_p = clf.best_params_\n",
    "print(LR_b_p)\n",
    "means = clf.cv_results_['mean_test_score']\n",
    "\n",
    "cv_f1_LR = max(means)"
   ]
  },
  {
   "cell_type": "code",
   "execution_count": 11,
   "metadata": {},
   "outputs": [
    {
     "name": "stdout",
     "output_type": "stream",
     "text": [
      "F1 на cv 0.7659187656441069\n",
      "F1 при валидации 0.7722538809196305\n",
      "CPU times: user 27.4 s, sys: 27.5 s, total: 54.9 s\n",
      "Wall time: 55 s\n"
     ]
    }
   ],
   "source": [
    "%%time\n",
    "cl = LogisticRegression()\n",
    "cl.set_params(**LR_b_p)\n",
    "cl.fit(feat_tr, targ_tr)\n",
    "targ_p = cl.predict(feat_v)\n",
    "v_f1_LR = f1_score(targ_v, targ_p)\n",
    "print('F1 на cv', cv_f1_LR)\n",
    "print('F1 при валидации', v_f1_LR)"
   ]
  },
  {
   "cell_type": "markdown",
   "metadata": {},
   "source": [
    "### Случайный лес (DecisionTreeClassifier)"
   ]
  },
  {
   "cell_type": "code",
   "execution_count": 12,
   "metadata": {},
   "outputs": [
    {
     "name": "stdout",
     "output_type": "stream",
     "text": [
      "Настройка гипер-параметров для F1 метрики\n",
      "Лучшие параметры:\n",
      "{'class_weight': {0: 1, 1: 8.834884437596301}, 'max_depth': 48, 'random_state': 12345}\n",
      "CPU times: user 19min 28s, sys: 0 ns, total: 19min 28s\n",
      "Wall time: 19min 37s\n"
     ]
    }
   ],
   "source": [
    "%%time\n",
    "\n",
    "hyperparams = [{'max_depth':[x for x in range(30,51,2)], 'random_state':[12345], 'class_weight':[dict_classes]}]\n",
    "\n",
    "print('Настройка гипер-параметров для F1 метрики')\n",
    "clf = GridSearchCV(DecisionTreeClassifier(), hyperparams, scoring='f1',cv=3)\n",
    "clf.fit(feat_tr, targ_tr)\n",
    "print('Лучшие параметры:')\n",
    "DTC_b_p = clf.best_params_\n",
    "print(DTC_b_p)\n",
    "means = clf.cv_results_['mean_test_score']\n",
    "\n",
    "cv_f1_DTC = max(means)"
   ]
  },
  {
   "cell_type": "code",
   "execution_count": 13,
   "metadata": {},
   "outputs": [
    {
     "name": "stdout",
     "output_type": "stream",
     "text": [
      "F1 на cv 0.6192904787372325\n",
      "F1 при валидации 0.6142439024390244\n",
      "CPU times: user 54.9 s, sys: 0 ns, total: 54.9 s\n",
      "Wall time: 55.4 s\n"
     ]
    }
   ],
   "source": [
    "%%time\n",
    "cl=DecisionTreeClassifier()\n",
    "cl.set_params(**DTC_b_p)\n",
    "cl.fit(feat_tr, targ_tr)\n",
    "targ_p = cl.predict(feat_v)\n",
    "v_f1_DTC = f1_score(targ_v, targ_p)\n",
    "print('F1 на cv', cv_f1_DTC)\n",
    "print('F1 при валидации', v_f1_DTC)"
   ]
  },
  {
   "cell_type": "markdown",
   "metadata": {},
   "source": [
    "### Стахостический радиентный спуск (SGDClassifier)"
   ]
  },
  {
   "cell_type": "code",
   "execution_count": 14,
   "metadata": {},
   "outputs": [
    {
     "name": "stdout",
     "output_type": "stream",
     "text": [
      "Настройка гипер-параметров для F1 метрики\n",
      "Лучшие параметры:\n",
      "{'class_weight': {0: 1, 1: 8.834884437596301}, 'eta0': 0.5, 'learning_rate': 'adaptive', 'loss': 'modified_huber', 'random_state': 12345}\n",
      "CPU times: user 4min 29s, sys: 0 ns, total: 4min 29s\n",
      "Wall time: 4min 31s\n"
     ]
    }
   ],
   "source": [
    "%%time\n",
    "\n",
    "hyperparams = [{'loss':['hinge', 'log', 'modified_huber'],\n",
    "                'learning_rate':['constant', 'optimal', 'invscaling', 'adaptive'],\n",
    "                'eta0':[0.01, 0.05, 0.1, 0.2, 0.3, 0.5], 'random_state':[12345], 'class_weight':[dict_classes]}]\n",
    "\n",
    "print('Настройка гипер-параметров для F1 метрики')\n",
    "clf = GridSearchCV(SGDClassifier(), hyperparams, scoring='f1',cv=3)\n",
    "clf.fit(feat_tr, targ_tr)\n",
    "print('Лучшие параметры:')\n",
    "SGDC_b_p = clf.best_params_\n",
    "print(SGDC_b_p)\n",
    "means = clf.cv_results_['mean_test_score']\n",
    "\n",
    "cv_f1_SGDC = max(means)"
   ]
  },
  {
   "cell_type": "code",
   "execution_count": 15,
   "metadata": {},
   "outputs": [
    {
     "name": "stdout",
     "output_type": "stream",
     "text": [
      "F1 на cv 0.7584178251584687\n",
      "F1 при валидации 0.7592455621301776\n",
      "CPU times: user 2.65 s, sys: 0 ns, total: 2.65 s\n",
      "Wall time: 2.67 s\n"
     ]
    }
   ],
   "source": [
    "%%time\n",
    "cl=SGDClassifier()\n",
    "cl.set_params(**SGDC_b_p)\n",
    "cl.fit(feat_tr, targ_tr)\n",
    "targ_p = cl.predict(feat_v)\n",
    "v_f1_SGDC = f1_score(targ_v, targ_p)\n",
    "print('F1 на cv', cv_f1_SGDC)\n",
    "print('F1 при валидации', v_f1_SGDC)"
   ]
  },
  {
   "cell_type": "markdown",
   "metadata": {},
   "source": [
    "### Сводные показатели"
   ]
  },
  {
   "cell_type": "code",
   "execution_count": 16,
   "metadata": {},
   "outputs": [
    {
     "data": {
      "text/html": [
       "<div>\n",
       "<style scoped>\n",
       "    .dataframe tbody tr th:only-of-type {\n",
       "        vertical-align: middle;\n",
       "    }\n",
       "\n",
       "    .dataframe tbody tr th {\n",
       "        vertical-align: top;\n",
       "    }\n",
       "\n",
       "    .dataframe thead th {\n",
       "        text-align: right;\n",
       "    }\n",
       "</style>\n",
       "<table border=\"1\" class=\"dataframe\">\n",
       "  <thead>\n",
       "    <tr style=\"text-align: right;\">\n",
       "      <th></th>\n",
       "      <th>F1 на CV</th>\n",
       "      <th>F1 при валидации</th>\n",
       "      <th>Требование выполнено</th>\n",
       "    </tr>\n",
       "  </thead>\n",
       "  <tbody>\n",
       "    <tr>\n",
       "      <th>Логистическая реграссия (LogisticRegression)</th>\n",
       "      <td>0.765919</td>\n",
       "      <td>0.772254</td>\n",
       "      <td>True</td>\n",
       "    </tr>\n",
       "    <tr>\n",
       "      <th>Случайный лес (DecisionTreeClassifier)</th>\n",
       "      <td>0.619290</td>\n",
       "      <td>0.614244</td>\n",
       "      <td>False</td>\n",
       "    </tr>\n",
       "    <tr>\n",
       "      <th>Стахостический радиентный спуск (SGDClassifier)</th>\n",
       "      <td>0.758418</td>\n",
       "      <td>0.759246</td>\n",
       "      <td>True</td>\n",
       "    </tr>\n",
       "  </tbody>\n",
       "</table>\n",
       "</div>"
      ],
      "text/plain": [
       "                                                 F1 на CV  F1 при валидации  \\\n",
       "Логистическая реграссия (LogisticRegression)     0.765919          0.772254   \n",
       "Случайный лес (DecisionTreeClassifier)           0.619290          0.614244   \n",
       "Стахостический радиентный спуск (SGDClassifier)  0.758418          0.759246   \n",
       "\n",
       "                                                 Требование выполнено  \n",
       "Логистическая реграссия (LogisticRegression)                     True  \n",
       "Случайный лес (DecisionTreeClassifier)                          False  \n",
       "Стахостический радиентный спуск (SGDClassifier)                  True  "
      ]
     },
     "metadata": {},
     "output_type": "display_data"
    }
   ],
   "source": [
    "index = ['Логистическая реграссия (LogisticRegression)', 'Случайный лес (DecisionTreeClassifier)',\n",
    "         'Стахостический радиентный спуск (SGDClassifier)']\n",
    "data = {'F1 на CV':[cv_f1_LR, cv_f1_DTC, cv_f1_SGDC],\n",
    "        'F1 при валидации':[v_f1_LR, v_f1_DTC, v_f1_SGDC]}\n",
    "\n",
    "sc_data = pd.DataFrame(data=data, index=index)\n",
    "sc_data['Требование выполнено'] = sc_data['F1 при валидации'] > 0.75\n",
    "display(sc_data)"
   ]
  },
  {
   "cell_type": "markdown",
   "metadata": {},
   "source": [
    "## Выводы"
   ]
  },
  {
   "cell_type": "markdown",
   "metadata": {},
   "source": [
    "В проекте произведена:\n",
    " - подготовка данных для обучения на моделях (в т.ч. проведена лемматизация);\n",
    " - определен способ баланса классов;\n",
    " - данные разделены на обучающую, валидационную и тестовою выборки;\n",
    " - обучены модели и определены лучшие для валидационной выборки.\n",
    " \n",
    "В исходные данные отличаются больним количеством признаков.<br>\n",
    "\n",
    "Хотя **Логистическая реграссия (LogisticRegression)** показала максимальный результат по **F1=0.77**, но по совокумности факторов, лучше других проявил себя **Стахостический радиентный спуск (SGDClassifier)**, выполнивнивший требование по **F1 > 0.75** и затративший минимальное **время на обучение менее 5 мин.**"
   ]
  }
 ],
 "metadata": {
  "ExecuteTimeLog": [
   {
    "duration": 4893,
    "start_time": "2022-05-12T08:54:31.022Z"
   },
   {
    "duration": 1099,
    "start_time": "2022-05-12T08:56:07.114Z"
   },
   {
    "duration": 7,
    "start_time": "2022-05-12T08:56:08.917Z"
   },
   {
    "duration": 1072,
    "start_time": "2022-05-12T08:56:09.315Z"
   },
   {
    "duration": 1079,
    "start_time": "2022-05-12T08:57:10.071Z"
   },
   {
    "duration": 1162,
    "start_time": "2022-05-12T08:57:22.283Z"
   },
   {
    "duration": 2856,
    "start_time": "2022-05-12T08:57:43.474Z"
   },
   {
    "duration": 2516,
    "start_time": "2022-05-12T09:00:29.084Z"
   },
   {
    "duration": 1158,
    "start_time": "2022-05-12T09:00:31.604Z"
   },
   {
    "duration": 958,
    "start_time": "2022-05-12T09:00:32.764Z"
   },
   {
    "duration": 1145,
    "start_time": "2022-05-12T09:02:17.746Z"
   },
   {
    "duration": 1166,
    "start_time": "2022-05-12T09:03:20.078Z"
   },
   {
    "duration": 1687,
    "start_time": "2022-05-12T09:03:35.412Z"
   },
   {
    "duration": 1174,
    "start_time": "2022-05-12T09:03:51.133Z"
   },
   {
    "duration": 1076,
    "start_time": "2022-05-12T09:04:24.062Z"
   },
   {
    "duration": 1054,
    "start_time": "2022-05-12T09:06:37.363Z"
   },
   {
    "duration": 1706,
    "start_time": "2022-05-12T09:06:48.953Z"
   },
   {
    "duration": 1318,
    "start_time": "2022-05-12T09:07:29.250Z"
   },
   {
    "duration": 2787,
    "start_time": "2022-05-12T09:07:54.683Z"
   },
   {
    "duration": 1489,
    "start_time": "2022-05-12T09:07:57.472Z"
   },
   {
    "duration": 14,
    "start_time": "2022-05-12T09:11:00.283Z"
   },
   {
    "duration": 12,
    "start_time": "2022-05-12T09:11:59.699Z"
   },
   {
    "duration": 11,
    "start_time": "2022-05-12T11:40:25.138Z"
   },
   {
    "duration": 2179,
    "start_time": "2022-05-12T11:41:10.952Z"
   },
   {
    "duration": 1353,
    "start_time": "2022-05-12T11:41:13.134Z"
   },
   {
    "duration": 11,
    "start_time": "2022-05-12T11:41:14.489Z"
   },
   {
    "duration": 8,
    "start_time": "2022-05-12T11:41:14.503Z"
   },
   {
    "duration": 2104,
    "start_time": "2022-05-12T11:43:10.530Z"
   },
   {
    "duration": 1360,
    "start_time": "2022-05-12T11:43:12.637Z"
   },
   {
    "duration": 11,
    "start_time": "2022-05-12T11:43:13.999Z"
   },
   {
    "duration": 2121,
    "start_time": "2022-05-12T11:44:46.909Z"
   },
   {
    "duration": 2087,
    "start_time": "2022-05-12T11:44:49.034Z"
   },
   {
    "duration": 13,
    "start_time": "2022-05-12T11:44:51.124Z"
   },
   {
    "duration": 2774,
    "start_time": "2022-05-12T11:45:28.292Z"
   },
   {
    "duration": 1981,
    "start_time": "2022-05-12T11:45:31.069Z"
   },
   {
    "duration": 29,
    "start_time": "2022-05-12T11:45:33.053Z"
   },
   {
    "duration": 9,
    "start_time": "2022-05-12T11:45:33.086Z"
   },
   {
    "duration": 2199,
    "start_time": "2022-05-12T11:46:00.579Z"
   },
   {
    "duration": 1448,
    "start_time": "2022-05-12T11:46:02.781Z"
   },
   {
    "duration": 11,
    "start_time": "2022-05-12T11:46:04.231Z"
   },
   {
    "duration": 3035,
    "start_time": "2022-05-12T11:47:46.054Z"
   },
   {
    "duration": 2106,
    "start_time": "2022-05-12T11:47:49.094Z"
   },
   {
    "duration": 13,
    "start_time": "2022-05-12T11:47:51.203Z"
   },
   {
    "duration": 2952,
    "start_time": "2022-05-12T11:49:50.566Z"
   },
   {
    "duration": 2184,
    "start_time": "2022-05-12T11:49:53.522Z"
   },
   {
    "duration": 14,
    "start_time": "2022-05-12T11:49:55.709Z"
   },
   {
    "duration": 215409,
    "start_time": "2022-05-12T11:49:55.727Z"
   },
   {
    "duration": 2507,
    "start_time": "2022-05-12T12:13:37.448Z"
   },
   {
    "duration": 5,
    "start_time": "2022-05-12T12:13:59.918Z"
   },
   {
    "duration": 1306,
    "start_time": "2022-05-12T12:14:00.719Z"
   },
   {
    "duration": 13,
    "start_time": "2022-05-12T12:14:02.029Z"
   },
   {
    "duration": 167,
    "start_time": "2022-05-12T12:14:30.778Z"
   },
   {
    "duration": 2333,
    "start_time": "2022-05-12T12:14:39.693Z"
   },
   {
    "duration": 1406,
    "start_time": "2022-05-12T12:14:42.029Z"
   },
   {
    "duration": 11,
    "start_time": "2022-05-12T12:14:43.438Z"
   },
   {
    "duration": 2955,
    "start_time": "2022-05-12T12:15:54.429Z"
   },
   {
    "duration": 1907,
    "start_time": "2022-05-12T12:15:57.388Z"
   },
   {
    "duration": 12,
    "start_time": "2022-05-12T12:15:59.297Z"
   },
   {
    "duration": 2155,
    "start_time": "2022-05-12T12:16:21.934Z"
   },
   {
    "duration": 1489,
    "start_time": "2022-05-12T12:16:24.092Z"
   },
   {
    "duration": 12,
    "start_time": "2022-05-12T12:16:25.584Z"
   },
   {
    "duration": 2437,
    "start_time": "2022-05-12T12:18:23.582Z"
   },
   {
    "duration": 1366,
    "start_time": "2022-05-12T12:18:26.022Z"
   },
   {
    "duration": 13,
    "start_time": "2022-05-12T12:18:27.391Z"
   },
   {
    "duration": 195776,
    "start_time": "2022-05-12T12:18:27.408Z"
   },
   {
    "duration": 8,
    "start_time": "2022-05-12T12:21:43.187Z"
   },
   {
    "duration": 214,
    "start_time": "2022-05-12T12:21:43.197Z"
   },
   {
    "duration": 7,
    "start_time": "2022-05-12T12:28:45.516Z"
   },
   {
    "duration": 25633,
    "start_time": "2022-05-12T12:28:50.897Z"
   },
   {
    "duration": 19,
    "start_time": "2022-05-12T12:29:53.094Z"
   },
   {
    "duration": 15,
    "start_time": "2022-05-12T12:30:14.443Z"
   },
   {
    "duration": 17842,
    "start_time": "2022-05-12T12:37:31.284Z"
   },
   {
    "duration": 15839,
    "start_time": "2022-05-12T12:39:23.242Z"
   },
   {
    "duration": 139,
    "start_time": "2022-05-12T12:40:31.857Z"
   },
   {
    "duration": 6,
    "start_time": "2022-05-12T12:40:42.876Z"
   },
   {
    "duration": 137,
    "start_time": "2022-05-12T12:40:50.252Z"
   },
   {
    "duration": 2515,
    "start_time": "2022-05-12T12:44:32.635Z"
   },
   {
    "duration": 2054,
    "start_time": "2022-05-12T12:44:35.153Z"
   },
   {
    "duration": 11,
    "start_time": "2022-05-12T12:44:37.210Z"
   },
   {
    "duration": 193683,
    "start_time": "2022-05-12T12:44:37.224Z"
   },
   {
    "duration": 19147,
    "start_time": "2022-05-12T12:47:50.910Z"
   },
   {
    "duration": 171931,
    "start_time": "2022-05-12T12:48:10.060Z"
   },
   {
    "duration": 140381,
    "start_time": "2022-05-12T13:10:38.907Z"
   },
   {
    "duration": 356,
    "start_time": "2022-05-12T13:19:59.898Z"
   },
   {
    "duration": 6,
    "start_time": "2022-05-12T13:20:17.542Z"
   },
   {
    "duration": 6916,
    "start_time": "2022-05-12T13:20:23.090Z"
   },
   {
    "duration": 2403,
    "start_time": "2022-05-12T13:56:27.981Z"
   },
   {
    "duration": 3059,
    "start_time": "2022-05-12T13:56:30.387Z"
   },
   {
    "duration": 15,
    "start_time": "2022-05-12T13:56:33.449Z"
   },
   {
    "duration": 216020,
    "start_time": "2022-05-12T13:56:33.481Z"
   },
   {
    "duration": 24102,
    "start_time": "2022-05-12T14:00:09.505Z"
   },
   {
    "duration": 165025,
    "start_time": "2022-05-12T14:00:33.624Z"
   },
   {
    "duration": 139741,
    "start_time": "2022-05-12T14:03:18.655Z"
   },
   {
    "duration": 2400,
    "start_time": "2022-05-12T14:05:38.399Z"
   },
   {
    "duration": 16,
    "start_time": "2022-05-12T14:06:22.461Z"
   },
   {
    "duration": 18,
    "start_time": "2022-05-12T14:08:39.191Z"
   },
   {
    "duration": 60,
    "start_time": "2022-05-12T14:08:47.245Z"
   },
   {
    "duration": 9,
    "start_time": "2022-05-12T14:08:50.121Z"
   },
   {
    "duration": 83,
    "start_time": "2022-05-12T14:09:16.359Z"
   },
   {
    "duration": 9,
    "start_time": "2022-05-12T14:09:19.969Z"
   },
   {
    "duration": 17,
    "start_time": "2022-05-12T14:09:33.672Z"
   },
   {
    "duration": 21,
    "start_time": "2022-05-12T14:09:54.417Z"
   },
   {
    "duration": 65064,
    "start_time": "2022-05-12T14:10:23.621Z"
   },
   {
    "duration": 12,
    "start_time": "2022-05-12T14:23:02.401Z"
   },
   {
    "duration": 2197,
    "start_time": "2022-05-12T15:07:32.541Z"
   },
   {
    "duration": 1468,
    "start_time": "2022-05-12T15:07:34.741Z"
   },
   {
    "duration": 11,
    "start_time": "2022-05-12T15:07:36.212Z"
   },
   {
    "duration": 190961,
    "start_time": "2022-05-12T15:07:36.227Z"
   },
   {
    "duration": 17985,
    "start_time": "2022-05-12T15:10:47.191Z"
   },
   {
    "duration": 162353,
    "start_time": "2022-05-12T15:11:05.186Z"
   },
   {
    "duration": 137888,
    "start_time": "2022-05-12T15:13:47.542Z"
   },
   {
    "duration": 61853,
    "start_time": "2022-05-12T15:16:05.432Z"
   },
   {
    "duration": 20,
    "start_time": "2022-05-12T15:17:07.289Z"
   },
   {
    "duration": 413,
    "start_time": "2022-05-12T15:17:07.314Z"
   },
   {
    "duration": 141,
    "start_time": "2022-05-12T15:17:07.730Z"
   },
   {
    "duration": 167,
    "start_time": "2022-05-12T15:17:07.874Z"
   },
   {
    "duration": 155,
    "start_time": "2022-05-12T15:17:08.044Z"
   },
   {
    "duration": 135,
    "start_time": "2022-05-12T15:17:08.204Z"
   },
   {
    "duration": 172,
    "start_time": "2022-05-12T15:17:08.343Z"
   },
   {
    "duration": 20,
    "start_time": "2022-05-12T15:17:08.518Z"
   },
   {
    "duration": 2255,
    "start_time": "2022-05-12T15:30:33.455Z"
   },
   {
    "duration": 1614,
    "start_time": "2022-05-12T15:30:35.713Z"
   },
   {
    "duration": 14,
    "start_time": "2022-05-12T15:30:37.330Z"
   },
   {
    "duration": 192649,
    "start_time": "2022-05-12T15:30:37.346Z"
   },
   {
    "duration": 17718,
    "start_time": "2022-05-12T15:33:50.000Z"
   },
   {
    "duration": 163082,
    "start_time": "2022-05-12T15:34:07.720Z"
   },
   {
    "duration": 137906,
    "start_time": "2022-05-12T15:36:50.805Z"
   },
   {
    "duration": 404,
    "start_time": "2022-05-12T15:39:08.714Z"
   },
   {
    "duration": 15,
    "start_time": "2022-05-12T15:39:09.120Z"
   },
   {
    "duration": 0,
    "start_time": "2022-05-12T15:39:09.138Z"
   },
   {
    "duration": 0,
    "start_time": "2022-05-12T15:39:09.140Z"
   },
   {
    "duration": 0,
    "start_time": "2022-05-12T15:39:09.141Z"
   },
   {
    "duration": 0,
    "start_time": "2022-05-12T15:39:09.142Z"
   },
   {
    "duration": 0,
    "start_time": "2022-05-12T15:39:09.144Z"
   },
   {
    "duration": 0,
    "start_time": "2022-05-12T15:39:09.145Z"
   },
   {
    "duration": 0,
    "start_time": "2022-05-12T15:39:09.146Z"
   },
   {
    "duration": 2686,
    "start_time": "2022-05-12T15:41:08.726Z"
   },
   {
    "duration": 1791,
    "start_time": "2022-05-12T15:41:11.415Z"
   },
   {
    "duration": 15,
    "start_time": "2022-05-12T15:41:13.209Z"
   },
   {
    "duration": 205974,
    "start_time": "2022-05-12T15:41:13.227Z"
   },
   {
    "duration": 20546,
    "start_time": "2022-05-12T15:44:39.207Z"
   },
   {
    "duration": 165974,
    "start_time": "2022-05-12T15:44:59.756Z"
   },
   {
    "duration": 134601,
    "start_time": "2022-05-12T15:47:45.734Z"
   },
   {
    "duration": 60983,
    "start_time": "2022-05-12T15:50:00.337Z"
   },
   {
    "duration": 11,
    "start_time": "2022-05-12T15:51:01.324Z"
   },
   {
    "duration": 789915,
    "start_time": "2022-05-12T15:51:01.338Z"
   },
   {
    "duration": 60807,
    "start_time": "2022-05-12T16:04:11.256Z"
   },
   {
    "duration": 2937,
    "start_time": "2022-05-12T16:27:38.315Z"
   },
   {
    "duration": 1532,
    "start_time": "2022-05-12T16:27:41.261Z"
   },
   {
    "duration": 17,
    "start_time": "2022-05-12T16:27:42.796Z"
   },
   {
    "duration": 207161,
    "start_time": "2022-05-12T16:27:42.817Z"
   },
   {
    "duration": 19741,
    "start_time": "2022-05-12T16:31:09.982Z"
   },
   {
    "duration": 158563,
    "start_time": "2022-05-12T16:31:29.725Z"
   },
   {
    "duration": 137197,
    "start_time": "2022-05-12T16:34:08.298Z"
   },
   {
    "duration": 70915,
    "start_time": "2022-05-12T16:36:25.498Z"
   },
   {
    "duration": 20,
    "start_time": "2022-05-12T16:37:36.418Z"
   },
   {
    "duration": 783888,
    "start_time": "2022-05-12T16:37:36.503Z"
   },
   {
    "duration": 60929,
    "start_time": "2022-05-12T16:50:40.394Z"
   },
   {
    "duration": 1364103,
    "start_time": "2022-05-12T16:51:41.326Z"
   },
   {
    "duration": 601015,
    "start_time": "2022-05-12T17:14:25.431Z"
   },
   {
    "duration": 308728,
    "start_time": "2022-05-12T17:24:26.449Z"
   },
   {
    "duration": 723,
    "start_time": "2022-05-12T17:29:35.182Z"
   },
   {
    "duration": 15,
    "start_time": "2022-05-12T17:29:35.908Z"
   },
   {
    "duration": 2483,
    "start_time": "2022-05-12T18:24:56.286Z"
   },
   {
    "duration": 1972,
    "start_time": "2022-05-12T18:24:58.772Z"
   },
   {
    "duration": 11,
    "start_time": "2022-05-12T18:25:00.747Z"
   },
   {
    "duration": 189622,
    "start_time": "2022-05-12T18:25:00.781Z"
   },
   {
    "duration": 16934,
    "start_time": "2022-05-12T18:28:10.407Z"
   },
   {
    "duration": 170562,
    "start_time": "2022-05-12T18:28:27.343Z"
   },
   {
    "duration": 143703,
    "start_time": "2022-05-12T18:31:17.908Z"
   },
   {
    "duration": 54407,
    "start_time": "2022-05-12T18:33:41.683Z"
   },
   {
    "duration": 13,
    "start_time": "2022-05-12T18:34:36.093Z"
   },
   {
    "duration": 853279,
    "start_time": "2022-05-12T18:34:36.108Z"
   },
   {
    "duration": 62841,
    "start_time": "2022-05-12T18:48:49.389Z"
   },
   {
    "duration": 2695,
    "start_time": "2022-05-12T18:51:30.429Z"
   },
   {
    "duration": 2090,
    "start_time": "2022-05-12T18:51:33.127Z"
   },
   {
    "duration": 12,
    "start_time": "2022-05-12T18:51:35.220Z"
   },
   {
    "duration": 189809,
    "start_time": "2022-05-12T18:51:35.235Z"
   },
   {
    "duration": 17878,
    "start_time": "2022-05-12T18:54:45.049Z"
   },
   {
    "duration": 166668,
    "start_time": "2022-05-12T18:55:02.929Z"
   },
   {
    "duration": 134095,
    "start_time": "2022-05-12T18:57:49.600Z"
   },
   {
    "duration": 54185,
    "start_time": "2022-05-12T19:00:03.698Z"
   },
   {
    "duration": 11,
    "start_time": "2022-05-12T19:00:57.886Z"
   },
   {
    "duration": 840884,
    "start_time": "2022-05-12T19:00:57.900Z"
   },
   {
    "duration": 71629,
    "start_time": "2022-05-12T19:14:58.787Z"
   },
   {
    "duration": 1498041,
    "start_time": "2022-05-12T19:16:10.420Z"
   },
   {
    "duration": 2112,
    "start_time": "2022-05-12T19:41:26.809Z"
   },
   {
    "duration": 1898,
    "start_time": "2022-05-12T19:41:28.924Z"
   },
   {
    "duration": 14,
    "start_time": "2022-05-12T19:41:30.825Z"
   },
   {
    "duration": 211207,
    "start_time": "2022-05-12T19:41:30.843Z"
   },
   {
    "duration": 20328,
    "start_time": "2022-05-12T19:45:02.055Z"
   },
   {
    "duration": 180499,
    "start_time": "2022-05-12T19:45:22.386Z"
   },
   {
    "duration": 143438,
    "start_time": "2022-05-12T19:48:22.887Z"
   },
   {
    "duration": 56856,
    "start_time": "2022-05-12T19:50:46.329Z"
   },
   {
    "duration": 16,
    "start_time": "2022-05-12T19:51:43.188Z"
   },
   {
    "duration": 789181,
    "start_time": "2022-05-12T19:51:43.208Z"
   },
   {
    "duration": 61324,
    "start_time": "2022-05-12T20:04:52.396Z"
   },
   {
    "duration": 179,
    "start_time": "2022-05-13T06:47:07.489Z"
   },
   {
    "duration": 2717,
    "start_time": "2022-05-13T06:48:45.801Z"
   },
   {
    "duration": 1956,
    "start_time": "2022-05-13T06:48:48.521Z"
   },
   {
    "duration": 11,
    "start_time": "2022-05-13T06:48:50.479Z"
   },
   {
    "duration": 155884,
    "start_time": "2022-05-13T06:48:50.492Z"
   },
   {
    "duration": 15921,
    "start_time": "2022-05-13T06:51:26.379Z"
   },
   {
    "duration": 135660,
    "start_time": "2022-05-13T06:51:42.302Z"
   },
   {
    "duration": 116800,
    "start_time": "2022-05-13T06:53:57.964Z"
   },
   {
    "duration": 46293,
    "start_time": "2022-05-13T06:55:54.766Z"
   },
   {
    "duration": 11,
    "start_time": "2022-05-13T06:56:41.062Z"
   },
   {
    "duration": 742877,
    "start_time": "2022-05-13T06:56:41.077Z"
   },
   {
    "duration": 56899,
    "start_time": "2022-05-13T07:09:03.957Z"
   },
   {
    "duration": 1133670,
    "start_time": "2022-05-13T07:10:00.858Z"
   },
   {
    "duration": 51813,
    "start_time": "2022-05-13T07:28:54.530Z"
   },
   {
    "duration": 268425,
    "start_time": "2022-05-13T07:29:46.346Z"
   },
   {
    "duration": 2842,
    "start_time": "2022-05-13T07:34:14.774Z"
   },
   {
    "duration": 305,
    "start_time": "2022-05-13T07:34:17.618Z"
   },
   {
    "duration": 15,
    "start_time": "2022-05-13T07:38:49.081Z"
   },
   {
    "duration": 6,
    "start_time": "2022-05-13T07:53:22.287Z"
   },
   {
    "duration": 2031,
    "start_time": "2022-05-13T07:54:05.641Z"
   },
   {
    "duration": 1321,
    "start_time": "2022-05-13T07:54:07.675Z"
   },
   {
    "duration": 11,
    "start_time": "2022-05-13T07:54:08.998Z"
   },
   {
    "duration": 159074,
    "start_time": "2022-05-13T07:54:09.012Z"
   },
   {
    "duration": 15680,
    "start_time": "2022-05-13T07:56:48.088Z"
   },
   {
    "duration": 119908,
    "start_time": "2022-05-13T07:59:20.359Z"
   },
   {
    "duration": 48608,
    "start_time": "2022-05-13T08:01:20.270Z"
   },
   {
    "duration": 80,
    "start_time": "2022-05-13T08:02:08.881Z"
   },
   {
    "duration": 776989,
    "start_time": "2022-05-13T08:02:08.966Z"
   },
   {
    "duration": 58103,
    "start_time": "2022-05-13T08:15:05.958Z"
   },
   {
    "duration": 1163421,
    "start_time": "2022-05-13T08:16:04.063Z"
   },
   {
    "duration": 52574,
    "start_time": "2022-05-13T08:35:27.486Z"
   },
   {
    "duration": 268583,
    "start_time": "2022-05-13T08:36:20.063Z"
   },
   {
    "duration": 3244,
    "start_time": "2022-05-13T08:40:48.648Z"
   },
   {
    "duration": 15,
    "start_time": "2022-05-13T08:40:51.894Z"
   },
   {
    "duration": 2032,
    "start_time": "2022-05-13T09:13:17.790Z"
   },
   {
    "duration": 1354,
    "start_time": "2022-05-13T09:13:19.824Z"
   },
   {
    "duration": 11,
    "start_time": "2022-05-13T09:13:21.180Z"
   },
   {
    "duration": 157108,
    "start_time": "2022-05-13T09:13:21.194Z"
   },
   {
    "duration": 15961,
    "start_time": "2022-05-13T09:15:58.305Z"
   },
   {
    "duration": 137495,
    "start_time": "2022-05-13T09:16:14.269Z"
   },
   {
    "duration": 139996,
    "start_time": "2022-05-13T09:18:31.766Z"
   },
   {
    "duration": 57992,
    "start_time": "2022-05-13T09:20:51.765Z"
   },
   {
    "duration": 15,
    "start_time": "2022-05-13T09:21:49.760Z"
   },
   {
    "duration": 764476,
    "start_time": "2022-05-13T09:21:49.780Z"
   },
   {
    "duration": 55099,
    "start_time": "2022-05-13T09:34:34.259Z"
   },
   {
    "duration": 1177085,
    "start_time": "2022-05-13T09:35:29.360Z"
   },
   {
    "duration": 55445,
    "start_time": "2022-05-13T09:55:06.451Z"
   },
   {
    "duration": 271200,
    "start_time": "2022-05-13T09:56:01.898Z"
   },
   {
    "duration": 2672,
    "start_time": "2022-05-13T10:00:33.100Z"
   },
   {
    "duration": 15,
    "start_time": "2022-05-13T10:00:35.774Z"
   }
  ],
  "kernelspec": {
   "display_name": "Python 3 (ipykernel)",
   "language": "python",
   "name": "python3"
  },
  "language_info": {
   "codemirror_mode": {
    "name": "ipython",
    "version": 3
   },
   "file_extension": ".py",
   "mimetype": "text/x-python",
   "name": "python",
   "nbconvert_exporter": "python",
   "pygments_lexer": "ipython3",
   "version": "3.9.5"
  },
  "toc": {
   "base_numbering": 1,
   "nav_menu": {},
   "number_sections": true,
   "sideBar": true,
   "skip_h1_title": true,
   "title_cell": "Содержание",
   "title_sidebar": "Contents",
   "toc_cell": true,
   "toc_position": {
    "height": "calc(100% - 180px)",
    "left": "10px",
    "top": "150px",
    "width": "302.391px"
   },
   "toc_section_display": true,
   "toc_window_display": false
  }
 },
 "nbformat": 4,
 "nbformat_minor": 2
}
