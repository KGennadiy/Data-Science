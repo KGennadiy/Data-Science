{
 "cells": [
  {
   "cell_type": "markdown",
   "metadata": {},
   "source": [
    "# Отток клиентов"
   ]
  },
  {
   "cell_type": "markdown",
   "metadata": {},
   "source": [
    "Из «Бета-Банка» стали уходить клиенты. Каждый месяц. Немного, но заметно. Банковские маркетологи посчитали: сохранять текущих клиентов дешевле, чем привлекать новых.\n",
    "\n",
    "Нужно спрогнозировать, уйдёт клиент из банка в ближайшее время или нет. Вам предоставлены исторические данные о поведении клиентов и расторжении договоров с банком. \n",
    "\n",
    "Постройте модель с предельно большим значением *F1*-меры. Чтобы сдать проект успешно, нужно довести метрику до 0.59. Проверьте *F1*-меру на тестовой выборке самостоятельно.\n",
    "\n",
    "Дополнительно измеряйте *AUC-ROC*, сравнивайте её значение с *F1*-мерой.\n",
    "\n",
    "Источник данных: [https://www.kaggle.com/barelydedicated/bank-customer-churn-modeling](https://www.kaggle.com/barelydedicated/bank-customer-churn-modeling)"
   ]
  },
  {
   "cell_type": "markdown",
   "metadata": {
    "toc": true
   },
   "source": [
    "<h1>Содержание<span class=\"tocSkip\"></span></h1>\n",
    "<div class=\"toc\"><ul class=\"toc-item\"><li><span><a href=\"#Подготовка-данных\" data-toc-modified-id=\"Подготовка-данных-1\"><span class=\"toc-item-num\">1&nbsp;&nbsp;</span>Подготовка данных</a></span><ul class=\"toc-item\"><li><span><a href=\"#Чтение-файла\" data-toc-modified-id=\"Чтение-файла-1.1\"><span class=\"toc-item-num\">1.1&nbsp;&nbsp;</span>Чтение файла</a></span></li><li><span><a href=\"#Предобработка-пропусков\" data-toc-modified-id=\"Предобработка-пропусков-1.2\"><span class=\"toc-item-num\">1.2&nbsp;&nbsp;</span>Предобработка пропусков</a></span></li><li><span><a href=\"#Очистка-таблицы-от-излишних-значений\" data-toc-modified-id=\"Очистка-таблицы-от-излишних-значений-1.3\"><span class=\"toc-item-num\">1.3&nbsp;&nbsp;</span>Очистка таблицы от излишних значений</a></span></li><li><span><a href=\"#Подготовка-массивов-для-дальнейшей-работы\" data-toc-modified-id=\"Подготовка-массивов-для-дальнейшей-работы-1.4\"><span class=\"toc-item-num\">1.4&nbsp;&nbsp;</span>Подготовка массивов для дальнейшей работы</a></span></li><li><span><a href=\"#ПРОМЕЖУТОЧНЫЕ-ВЫВОДЫ:\" data-toc-modified-id=\"ПРОМЕЖУТОЧНЫЕ-ВЫВОДЫ:-1.5\"><span class=\"toc-item-num\">1.5&nbsp;&nbsp;</span>ПРОМЕЖУТОЧНЫЕ ВЫВОДЫ:</a></span></li></ul></li><li><span><a href=\"#Исследование-задачи\" data-toc-modified-id=\"Исследование-задачи-2\"><span class=\"toc-item-num\">2&nbsp;&nbsp;</span>Исследование задачи</a></span><ul class=\"toc-item\"><li><span><a href=\"#Исследование-баланса-классов\" data-toc-modified-id=\"Исследование-баланса-классов-2.1\"><span class=\"toc-item-num\">2.1&nbsp;&nbsp;</span>Исследование баланса классов</a></span></li><li><span><a href=\"#Изучение-модели-без-учёта-дисбаланса\" data-toc-modified-id=\"Изучение-модели-без-учёта-дисбаланса-2.2\"><span class=\"toc-item-num\">2.2&nbsp;&nbsp;</span>Изучение модели без учёта дисбаланса</a></span></li><li><span><a href=\"#ВЫВОДЫ-ПО-РЕЗУЛЬТАТАМ-ИССЛЕДОВАНИЯ\" data-toc-modified-id=\"ВЫВОДЫ-ПО-РЕЗУЛЬТАТАМ-ИССЛЕДОВАНИЯ-2.3\"><span class=\"toc-item-num\">2.3&nbsp;&nbsp;</span>ВЫВОДЫ ПО РЕЗУЛЬТАТАМ ИССЛЕДОВАНИЯ</a></span></li></ul></li><li><span><a href=\"#Борьба-с-дисбалансом\" data-toc-modified-id=\"Борьба-с-дисбалансом-3\"><span class=\"toc-item-num\">3&nbsp;&nbsp;</span>Борьба с дисбалансом</a></span><ul class=\"toc-item\"><li><span><a href=\"#Изучение-автобалансировки-моделей\" data-toc-modified-id=\"Изучение-автобалансировки-моделей-3.1\"><span class=\"toc-item-num\">3.1&nbsp;&nbsp;</span>Изучение автобалансировки моделей</a></span></li><li><span><a href=\"#Исследование-UPSAMPLE\" data-toc-modified-id=\"Исследование-UPSAMPLE-3.2\"><span class=\"toc-item-num\">3.2&nbsp;&nbsp;</span>Исследование UPSAMPLE</a></span></li><li><span><a href=\"#Исследование-DOWNSAMPLE\" data-toc-modified-id=\"Исследование-DOWNSAMPLE-3.3\"><span class=\"toc-item-num\">3.3&nbsp;&nbsp;</span>Исследование DOWNSAMPLE</a></span></li><li><span><a href=\"#ВЫВОДЫ-ПО-РЕЗУЛЬТАТАМ-БОРЬБЫ-С-ДИСБАЛАНСОМ\" data-toc-modified-id=\"ВЫВОДЫ-ПО-РЕЗУЛЬТАТАМ-БОРЬБЫ-С-ДИСБАЛАНСОМ-3.4\"><span class=\"toc-item-num\">3.4&nbsp;&nbsp;</span>ВЫВОДЫ ПО РЕЗУЛЬТАТАМ БОРЬБЫ С ДИСБАЛАНСОМ</a></span></li></ul></li><li><span><a href=\"#Тестирование-модели\" data-toc-modified-id=\"Тестирование-модели-4\"><span class=\"toc-item-num\">4&nbsp;&nbsp;</span>Тестирование модели</a></span><ul class=\"toc-item\"><li><span><a href=\"#Вывод\" data-toc-modified-id=\"Вывод-4.1\"><span class=\"toc-item-num\">4.1&nbsp;&nbsp;</span>Вывод</a></span></li></ul></li><li><span><a href=\"#Итоговый-вывод\" data-toc-modified-id=\"Итоговый-вывод-5\"><span class=\"toc-item-num\">5&nbsp;&nbsp;</span>Итоговый вывод</a></span></li><li><span><a href=\"#Чек-лист-готовности-проекта\" data-toc-modified-id=\"Чек-лист-готовности-проекта-6\"><span class=\"toc-item-num\">6&nbsp;&nbsp;</span>Чек-лист готовности проекта</a></span></li></ul></div>"
   ]
  },
  {
   "cell_type": "code",
   "execution_count": 1,
   "metadata": {},
   "outputs": [],
   "source": [
    "# импорт библиотек для работы с данными\n",
    "import pandas as pd\n",
    "import numpy as np\n",
    "import matplotlib.pyplot as plt"
   ]
  },
  {
   "cell_type": "code",
   "execution_count": 2,
   "metadata": {},
   "outputs": [],
   "source": [
    "# импорт моделей\n",
    "from sklearn.linear_model import LogisticRegression\n",
    "from sklearn.tree import DecisionTreeClassifier\n",
    "from sklearn.ensemble import RandomForestClassifier"
   ]
  },
  {
   "cell_type": "code",
   "execution_count": 3,
   "metadata": {},
   "outputs": [],
   "source": [
    "# импорт метрик\n",
    "from sklearn.metrics import f1_score, roc_auc_score, accuracy_score, precision_score, recall_score, roc_curve"
   ]
  },
  {
   "cell_type": "code",
   "execution_count": 4,
   "metadata": {},
   "outputs": [],
   "source": [
    "# импорт утилит\n",
    "from sklearn.model_selection import train_test_split\n",
    "from sklearn.utils import shuffle"
   ]
  },
  {
   "cell_type": "code",
   "execution_count": 5,
   "metadata": {},
   "outputs": [],
   "source": [
    "# импорт классов и пайплайнов\n",
    "from sklearn.pipeline import Pipeline\n",
    "from sklearn.preprocessing import StandardScaler"
   ]
  },
  {
   "cell_type": "markdown",
   "metadata": {},
   "source": [
    "## Подготовка данных"
   ]
  },
  {
   "cell_type": "markdown",
   "metadata": {},
   "source": [
    "### Чтение файла"
   ]
  },
  {
   "cell_type": "code",
   "execution_count": 6,
   "metadata": {},
   "outputs": [
    {
     "name": "stdout",
     "output_type": "stream",
     "text": [
      "<class 'pandas.core.frame.DataFrame'>\n",
      "RangeIndex: 10000 entries, 0 to 9999\n",
      "Data columns (total 14 columns):\n",
      "RowNumber          10000 non-null int64\n",
      "CustomerId         10000 non-null int64\n",
      "Surname            10000 non-null object\n",
      "CreditScore        10000 non-null int64\n",
      "Geography          10000 non-null object\n",
      "Gender             10000 non-null object\n",
      "Age                10000 non-null int64\n",
      "Tenure             9091 non-null float64\n",
      "Balance            10000 non-null float64\n",
      "NumOfProducts      10000 non-null int64\n",
      "HasCrCard          10000 non-null int64\n",
      "IsActiveMember     10000 non-null int64\n",
      "EstimatedSalary    10000 non-null float64\n",
      "Exited             10000 non-null int64\n",
      "dtypes: float64(3), int64(8), object(3)\n",
      "memory usage: 1.1+ MB\n"
     ]
    }
   ],
   "source": [
    "df = pd.read_csv('/datasets/Churn.csv')\n",
    "df.info()"
   ]
  },
  {
   "cell_type": "code",
   "execution_count": 7,
   "metadata": {
    "scrolled": false
   },
   "outputs": [
    {
     "data": {
      "text/html": [
       "<div>\n",
       "<style scoped>\n",
       "    .dataframe tbody tr th:only-of-type {\n",
       "        vertical-align: middle;\n",
       "    }\n",
       "\n",
       "    .dataframe tbody tr th {\n",
       "        vertical-align: top;\n",
       "    }\n",
       "\n",
       "    .dataframe thead th {\n",
       "        text-align: right;\n",
       "    }\n",
       "</style>\n",
       "<table border=\"1\" class=\"dataframe\">\n",
       "  <thead>\n",
       "    <tr style=\"text-align: right;\">\n",
       "      <th></th>\n",
       "      <th>RowNumber</th>\n",
       "      <th>CustomerId</th>\n",
       "      <th>Surname</th>\n",
       "      <th>CreditScore</th>\n",
       "      <th>Geography</th>\n",
       "      <th>Gender</th>\n",
       "      <th>Age</th>\n",
       "      <th>Tenure</th>\n",
       "      <th>Balance</th>\n",
       "      <th>NumOfProducts</th>\n",
       "      <th>HasCrCard</th>\n",
       "      <th>IsActiveMember</th>\n",
       "      <th>EstimatedSalary</th>\n",
       "      <th>Exited</th>\n",
       "    </tr>\n",
       "  </thead>\n",
       "  <tbody>\n",
       "    <tr>\n",
       "      <td>0</td>\n",
       "      <td>1</td>\n",
       "      <td>15634602</td>\n",
       "      <td>Hargrave</td>\n",
       "      <td>619</td>\n",
       "      <td>France</td>\n",
       "      <td>Female</td>\n",
       "      <td>42</td>\n",
       "      <td>2.0</td>\n",
       "      <td>0.00</td>\n",
       "      <td>1</td>\n",
       "      <td>1</td>\n",
       "      <td>1</td>\n",
       "      <td>101348.88</td>\n",
       "      <td>1</td>\n",
       "    </tr>\n",
       "    <tr>\n",
       "      <td>1</td>\n",
       "      <td>2</td>\n",
       "      <td>15647311</td>\n",
       "      <td>Hill</td>\n",
       "      <td>608</td>\n",
       "      <td>Spain</td>\n",
       "      <td>Female</td>\n",
       "      <td>41</td>\n",
       "      <td>1.0</td>\n",
       "      <td>83807.86</td>\n",
       "      <td>1</td>\n",
       "      <td>0</td>\n",
       "      <td>1</td>\n",
       "      <td>112542.58</td>\n",
       "      <td>0</td>\n",
       "    </tr>\n",
       "    <tr>\n",
       "      <td>2</td>\n",
       "      <td>3</td>\n",
       "      <td>15619304</td>\n",
       "      <td>Onio</td>\n",
       "      <td>502</td>\n",
       "      <td>France</td>\n",
       "      <td>Female</td>\n",
       "      <td>42</td>\n",
       "      <td>8.0</td>\n",
       "      <td>159660.80</td>\n",
       "      <td>3</td>\n",
       "      <td>1</td>\n",
       "      <td>0</td>\n",
       "      <td>113931.57</td>\n",
       "      <td>1</td>\n",
       "    </tr>\n",
       "    <tr>\n",
       "      <td>3</td>\n",
       "      <td>4</td>\n",
       "      <td>15701354</td>\n",
       "      <td>Boni</td>\n",
       "      <td>699</td>\n",
       "      <td>France</td>\n",
       "      <td>Female</td>\n",
       "      <td>39</td>\n",
       "      <td>1.0</td>\n",
       "      <td>0.00</td>\n",
       "      <td>2</td>\n",
       "      <td>0</td>\n",
       "      <td>0</td>\n",
       "      <td>93826.63</td>\n",
       "      <td>0</td>\n",
       "    </tr>\n",
       "    <tr>\n",
       "      <td>4</td>\n",
       "      <td>5</td>\n",
       "      <td>15737888</td>\n",
       "      <td>Mitchell</td>\n",
       "      <td>850</td>\n",
       "      <td>Spain</td>\n",
       "      <td>Female</td>\n",
       "      <td>43</td>\n",
       "      <td>2.0</td>\n",
       "      <td>125510.82</td>\n",
       "      <td>1</td>\n",
       "      <td>1</td>\n",
       "      <td>1</td>\n",
       "      <td>79084.10</td>\n",
       "      <td>0</td>\n",
       "    </tr>\n",
       "  </tbody>\n",
       "</table>\n",
       "</div>"
      ],
      "text/plain": [
       "   RowNumber  CustomerId   Surname  CreditScore Geography  Gender  Age  \\\n",
       "0          1    15634602  Hargrave          619    France  Female   42   \n",
       "1          2    15647311      Hill          608     Spain  Female   41   \n",
       "2          3    15619304      Onio          502    France  Female   42   \n",
       "3          4    15701354      Boni          699    France  Female   39   \n",
       "4          5    15737888  Mitchell          850     Spain  Female   43   \n",
       "\n",
       "   Tenure    Balance  NumOfProducts  HasCrCard  IsActiveMember  \\\n",
       "0     2.0       0.00              1          1               1   \n",
       "1     1.0   83807.86              1          0               1   \n",
       "2     8.0  159660.80              3          1               0   \n",
       "3     1.0       0.00              2          0               0   \n",
       "4     2.0  125510.82              1          1               1   \n",
       "\n",
       "   EstimatedSalary  Exited  \n",
       "0        101348.88       1  \n",
       "1        112542.58       0  \n",
       "2        113931.57       1  \n",
       "3         93826.63       0  \n",
       "4         79084.10       0  "
      ]
     },
     "execution_count": 7,
     "metadata": {},
     "output_type": "execute_result"
    }
   ],
   "source": [
    "df.head()"
   ]
  },
  {
   "cell_type": "markdown",
   "metadata": {},
   "source": [
    "<b> Из предварительного изучения данных, видим:</b>\n",
    " - типы данных соответствуют описанию данных;\n",
    " - есть пропуски в столбце Tenure (сколько лет человек обслуживается банком);\n",
    " - столбец RowNumber, CustomerId и Surname - избыточный (информационной нагрузки не несёт)."
   ]
  },
  {
   "cell_type": "code",
   "execution_count": 8,
   "metadata": {
    "scrolled": true
   },
   "outputs": [
    {
     "data": {
      "text/html": [
       "<div>\n",
       "<style scoped>\n",
       "    .dataframe tbody tr th:only-of-type {\n",
       "        vertical-align: middle;\n",
       "    }\n",
       "\n",
       "    .dataframe tbody tr th {\n",
       "        vertical-align: top;\n",
       "    }\n",
       "\n",
       "    .dataframe thead th {\n",
       "        text-align: right;\n",
       "    }\n",
       "</style>\n",
       "<table border=\"1\" class=\"dataframe\">\n",
       "  <thead>\n",
       "    <tr style=\"text-align: right;\">\n",
       "      <th></th>\n",
       "      <th>RowNumber</th>\n",
       "      <th>CustomerId</th>\n",
       "      <th>CreditScore</th>\n",
       "      <th>Age</th>\n",
       "      <th>Tenure</th>\n",
       "      <th>Balance</th>\n",
       "      <th>NumOfProducts</th>\n",
       "      <th>HasCrCard</th>\n",
       "      <th>IsActiveMember</th>\n",
       "      <th>EstimatedSalary</th>\n",
       "      <th>Exited</th>\n",
       "    </tr>\n",
       "  </thead>\n",
       "  <tbody>\n",
       "    <tr>\n",
       "      <td>count</td>\n",
       "      <td>10000.00000</td>\n",
       "      <td>1.000000e+04</td>\n",
       "      <td>10000.000000</td>\n",
       "      <td>10000.000000</td>\n",
       "      <td>9091.000000</td>\n",
       "      <td>10000.000000</td>\n",
       "      <td>10000.000000</td>\n",
       "      <td>10000.00000</td>\n",
       "      <td>10000.000000</td>\n",
       "      <td>10000.000000</td>\n",
       "      <td>10000.000000</td>\n",
       "    </tr>\n",
       "    <tr>\n",
       "      <td>mean</td>\n",
       "      <td>5000.50000</td>\n",
       "      <td>1.569094e+07</td>\n",
       "      <td>650.528800</td>\n",
       "      <td>38.921800</td>\n",
       "      <td>4.997690</td>\n",
       "      <td>76485.889288</td>\n",
       "      <td>1.530200</td>\n",
       "      <td>0.70550</td>\n",
       "      <td>0.515100</td>\n",
       "      <td>100090.239881</td>\n",
       "      <td>0.203700</td>\n",
       "    </tr>\n",
       "    <tr>\n",
       "      <td>std</td>\n",
       "      <td>2886.89568</td>\n",
       "      <td>7.193619e+04</td>\n",
       "      <td>96.653299</td>\n",
       "      <td>10.487806</td>\n",
       "      <td>2.894723</td>\n",
       "      <td>62397.405202</td>\n",
       "      <td>0.581654</td>\n",
       "      <td>0.45584</td>\n",
       "      <td>0.499797</td>\n",
       "      <td>57510.492818</td>\n",
       "      <td>0.402769</td>\n",
       "    </tr>\n",
       "    <tr>\n",
       "      <td>min</td>\n",
       "      <td>1.00000</td>\n",
       "      <td>1.556570e+07</td>\n",
       "      <td>350.000000</td>\n",
       "      <td>18.000000</td>\n",
       "      <td>0.000000</td>\n",
       "      <td>0.000000</td>\n",
       "      <td>1.000000</td>\n",
       "      <td>0.00000</td>\n",
       "      <td>0.000000</td>\n",
       "      <td>11.580000</td>\n",
       "      <td>0.000000</td>\n",
       "    </tr>\n",
       "    <tr>\n",
       "      <td>25%</td>\n",
       "      <td>2500.75000</td>\n",
       "      <td>1.562853e+07</td>\n",
       "      <td>584.000000</td>\n",
       "      <td>32.000000</td>\n",
       "      <td>2.000000</td>\n",
       "      <td>0.000000</td>\n",
       "      <td>1.000000</td>\n",
       "      <td>0.00000</td>\n",
       "      <td>0.000000</td>\n",
       "      <td>51002.110000</td>\n",
       "      <td>0.000000</td>\n",
       "    </tr>\n",
       "    <tr>\n",
       "      <td>50%</td>\n",
       "      <td>5000.50000</td>\n",
       "      <td>1.569074e+07</td>\n",
       "      <td>652.000000</td>\n",
       "      <td>37.000000</td>\n",
       "      <td>5.000000</td>\n",
       "      <td>97198.540000</td>\n",
       "      <td>1.000000</td>\n",
       "      <td>1.00000</td>\n",
       "      <td>1.000000</td>\n",
       "      <td>100193.915000</td>\n",
       "      <td>0.000000</td>\n",
       "    </tr>\n",
       "    <tr>\n",
       "      <td>75%</td>\n",
       "      <td>7500.25000</td>\n",
       "      <td>1.575323e+07</td>\n",
       "      <td>718.000000</td>\n",
       "      <td>44.000000</td>\n",
       "      <td>7.000000</td>\n",
       "      <td>127644.240000</td>\n",
       "      <td>2.000000</td>\n",
       "      <td>1.00000</td>\n",
       "      <td>1.000000</td>\n",
       "      <td>149388.247500</td>\n",
       "      <td>0.000000</td>\n",
       "    </tr>\n",
       "    <tr>\n",
       "      <td>max</td>\n",
       "      <td>10000.00000</td>\n",
       "      <td>1.581569e+07</td>\n",
       "      <td>850.000000</td>\n",
       "      <td>92.000000</td>\n",
       "      <td>10.000000</td>\n",
       "      <td>250898.090000</td>\n",
       "      <td>4.000000</td>\n",
       "      <td>1.00000</td>\n",
       "      <td>1.000000</td>\n",
       "      <td>199992.480000</td>\n",
       "      <td>1.000000</td>\n",
       "    </tr>\n",
       "  </tbody>\n",
       "</table>\n",
       "</div>"
      ],
      "text/plain": [
       "         RowNumber    CustomerId   CreditScore           Age       Tenure  \\\n",
       "count  10000.00000  1.000000e+04  10000.000000  10000.000000  9091.000000   \n",
       "mean    5000.50000  1.569094e+07    650.528800     38.921800     4.997690   \n",
       "std     2886.89568  7.193619e+04     96.653299     10.487806     2.894723   \n",
       "min        1.00000  1.556570e+07    350.000000     18.000000     0.000000   \n",
       "25%     2500.75000  1.562853e+07    584.000000     32.000000     2.000000   \n",
       "50%     5000.50000  1.569074e+07    652.000000     37.000000     5.000000   \n",
       "75%     7500.25000  1.575323e+07    718.000000     44.000000     7.000000   \n",
       "max    10000.00000  1.581569e+07    850.000000     92.000000    10.000000   \n",
       "\n",
       "             Balance  NumOfProducts    HasCrCard  IsActiveMember  \\\n",
       "count   10000.000000   10000.000000  10000.00000    10000.000000   \n",
       "mean    76485.889288       1.530200      0.70550        0.515100   \n",
       "std     62397.405202       0.581654      0.45584        0.499797   \n",
       "min         0.000000       1.000000      0.00000        0.000000   \n",
       "25%         0.000000       1.000000      0.00000        0.000000   \n",
       "50%     97198.540000       1.000000      1.00000        1.000000   \n",
       "75%    127644.240000       2.000000      1.00000        1.000000   \n",
       "max    250898.090000       4.000000      1.00000        1.000000   \n",
       "\n",
       "       EstimatedSalary        Exited  \n",
       "count     10000.000000  10000.000000  \n",
       "mean     100090.239881      0.203700  \n",
       "std       57510.492818      0.402769  \n",
       "min          11.580000      0.000000  \n",
       "25%       51002.110000      0.000000  \n",
       "50%      100193.915000      0.000000  \n",
       "75%      149388.247500      0.000000  \n",
       "max      199992.480000      1.000000  "
      ]
     },
     "execution_count": 8,
     "metadata": {},
     "output_type": "execute_result"
    }
   ],
   "source": [
    "df.describe()"
   ]
  },
  {
   "cell_type": "markdown",
   "metadata": {},
   "source": [
    "<b>Видим значительный разброс значений, что потребует масштабирования."
   ]
  },
  {
   "cell_type": "code",
   "execution_count": 9,
   "metadata": {
    "scrolled": true
   },
   "outputs": [
    {
     "data": {
      "image/png": "[encoded data removed]",
      "text/plain": [
       "<Figure size 1440x1080 with 12 Axes>"
      ]
     },
     "metadata": {
      "needs_background": "light"
     },
     "output_type": "display_data"
    }
   ],
   "source": [
    "df.hist(bins=50, figsize=(20,15), color='green', edgecolor='blue', linewidth=1)\n",
    "plt.show()"
   ]
  },
  {
   "cell_type": "markdown",
   "metadata": {},
   "source": [
    "### Предобработка пропусков"
   ]
  },
  {
   "cell_type": "code",
   "execution_count": 10,
   "metadata": {
    "scrolled": false
   },
   "outputs": [
    {
     "data": {
      "image/png": "[encoded data removed]",
      "text/plain": [
       "<Figure size 432x288 with 1 Axes>"
      ]
     },
     "metadata": {
      "needs_background": "light"
     },
     "output_type": "display_data"
    }
   ],
   "source": [
    "# Пропущенные значения вынуждены заполнить случайными значениями,\n",
    "# чтобы минимизировать искажение данных при дальнейшем моделировании.\n",
    "df.loc[df['Tenure'].isna(),'Tenure']=(np.random.randint(0,10,size=df['Tenure'].isna().sum()))\n",
    "df['Tenure'].hist(bins=50, color='green', edgecolor='blue', linewidth=1)\n",
    "plt.show()\n",
    "# После обработки видим,что гистограмма изменилась незначительно."
   ]
  },
  {
   "cell_type": "markdown",
   "metadata": {},
   "source": [
    "### Очистка таблицы от излишних значений"
   ]
  },
  {
   "cell_type": "markdown",
   "metadata": {},
   "source": [
    "Столбцы RowNumber (индекс строки в данных), CustomerId (уникальный идентификатор клиента) и Surname (фамилия) не несут аналитического смысла, т.к. не влияют на лояльность клиентов."
   ]
  },
  {
   "cell_type": "code",
   "execution_count": 11,
   "metadata": {
    "scrolled": true
   },
   "outputs": [
    {
     "data": {
      "text/html": [
       "<div>\n",
       "<style scoped>\n",
       "    .dataframe tbody tr th:only-of-type {\n",
       "        vertical-align: middle;\n",
       "    }\n",
       "\n",
       "    .dataframe tbody tr th {\n",
       "        vertical-align: top;\n",
       "    }\n",
       "\n",
       "    .dataframe thead th {\n",
       "        text-align: right;\n",
       "    }\n",
       "</style>\n",
       "<table border=\"1\" class=\"dataframe\">\n",
       "  <thead>\n",
       "    <tr style=\"text-align: right;\">\n",
       "      <th></th>\n",
       "      <th>CreditScore</th>\n",
       "      <th>Geography</th>\n",
       "      <th>Gender</th>\n",
       "      <th>Age</th>\n",
       "      <th>Tenure</th>\n",
       "      <th>Balance</th>\n",
       "      <th>NumOfProducts</th>\n",
       "      <th>HasCrCard</th>\n",
       "      <th>IsActiveMember</th>\n",
       "      <th>EstimatedSalary</th>\n",
       "      <th>Exited</th>\n",
       "    </tr>\n",
       "  </thead>\n",
       "  <tbody>\n",
       "    <tr>\n",
       "      <td>0</td>\n",
       "      <td>619</td>\n",
       "      <td>France</td>\n",
       "      <td>Female</td>\n",
       "      <td>42</td>\n",
       "      <td>2.0</td>\n",
       "      <td>0.00</td>\n",
       "      <td>1</td>\n",
       "      <td>1</td>\n",
       "      <td>1</td>\n",
       "      <td>101348.88</td>\n",
       "      <td>1</td>\n",
       "    </tr>\n",
       "    <tr>\n",
       "      <td>1</td>\n",
       "      <td>608</td>\n",
       "      <td>Spain</td>\n",
       "      <td>Female</td>\n",
       "      <td>41</td>\n",
       "      <td>1.0</td>\n",
       "      <td>83807.86</td>\n",
       "      <td>1</td>\n",
       "      <td>0</td>\n",
       "      <td>1</td>\n",
       "      <td>112542.58</td>\n",
       "      <td>0</td>\n",
       "    </tr>\n",
       "    <tr>\n",
       "      <td>2</td>\n",
       "      <td>502</td>\n",
       "      <td>France</td>\n",
       "      <td>Female</td>\n",
       "      <td>42</td>\n",
       "      <td>8.0</td>\n",
       "      <td>159660.80</td>\n",
       "      <td>3</td>\n",
       "      <td>1</td>\n",
       "      <td>0</td>\n",
       "      <td>113931.57</td>\n",
       "      <td>1</td>\n",
       "    </tr>\n",
       "    <tr>\n",
       "      <td>3</td>\n",
       "      <td>699</td>\n",
       "      <td>France</td>\n",
       "      <td>Female</td>\n",
       "      <td>39</td>\n",
       "      <td>1.0</td>\n",
       "      <td>0.00</td>\n",
       "      <td>2</td>\n",
       "      <td>0</td>\n",
       "      <td>0</td>\n",
       "      <td>93826.63</td>\n",
       "      <td>0</td>\n",
       "    </tr>\n",
       "    <tr>\n",
       "      <td>4</td>\n",
       "      <td>850</td>\n",
       "      <td>Spain</td>\n",
       "      <td>Female</td>\n",
       "      <td>43</td>\n",
       "      <td>2.0</td>\n",
       "      <td>125510.82</td>\n",
       "      <td>1</td>\n",
       "      <td>1</td>\n",
       "      <td>1</td>\n",
       "      <td>79084.10</td>\n",
       "      <td>0</td>\n",
       "    </tr>\n",
       "  </tbody>\n",
       "</table>\n",
       "</div>"
      ],
      "text/plain": [
       "   CreditScore Geography  Gender  Age  Tenure    Balance  NumOfProducts  \\\n",
       "0          619    France  Female   42     2.0       0.00              1   \n",
       "1          608     Spain  Female   41     1.0   83807.86              1   \n",
       "2          502    France  Female   42     8.0  159660.80              3   \n",
       "3          699    France  Female   39     1.0       0.00              2   \n",
       "4          850     Spain  Female   43     2.0  125510.82              1   \n",
       "\n",
       "   HasCrCard  IsActiveMember  EstimatedSalary  Exited  \n",
       "0          1               1        101348.88       1  \n",
       "1          0               1        112542.58       0  \n",
       "2          1               0        113931.57       1  \n",
       "3          0               0         93826.63       0  \n",
       "4          1               1         79084.10       0  "
      ]
     },
     "execution_count": 11,
     "metadata": {},
     "output_type": "execute_result"
    }
   ],
   "source": [
    "df.drop(columns=['RowNumber', 'CustomerId', 'Surname'],axis=1,inplace=True)\n",
    "df.head()"
   ]
  },
  {
   "cell_type": "markdown",
   "metadata": {},
   "source": [
    "###  Подготовка массивов для дальнейшей работы"
   ]
  },
  {
   "cell_type": "code",
   "execution_count": 12,
   "metadata": {
    "scrolled": true
   },
   "outputs": [
    {
     "name": "stdout",
     "output_type": "stream",
     "text": [
      "<class 'pandas.core.frame.DataFrame'>\n",
      "RangeIndex: 10000 entries, 0 to 9999\n",
      "Data columns (total 12 columns):\n",
      "CreditScore          10000 non-null int64\n",
      "Age                  10000 non-null int64\n",
      "Tenure               10000 non-null float64\n",
      "Balance              10000 non-null float64\n",
      "NumOfProducts        10000 non-null int64\n",
      "HasCrCard            10000 non-null int64\n",
      "IsActiveMember       10000 non-null int64\n",
      "EstimatedSalary      10000 non-null float64\n",
      "Exited               10000 non-null int64\n",
      "Geography_Germany    10000 non-null uint8\n",
      "Geography_Spain      10000 non-null uint8\n",
      "Gender_Male          10000 non-null uint8\n",
      "dtypes: float64(3), int64(6), uint8(3)\n",
      "memory usage: 732.5 KB\n"
     ]
    }
   ],
   "source": [
    "# Создание датафрейма по методу прямого кодирования с защитой от дамми-ловушки.\n",
    "df_one = pd.get_dummies(df, drop_first=True)\n",
    "df_one.info()\n",
    "\n",
    "numeric = ['CreditScore','Age','Balance','NumOfProducts','EstimatedSalary','Tenure']"
   ]
  },
  {
   "cell_type": "code",
   "execution_count": 13,
   "metadata": {},
   "outputs": [],
   "source": [
    "# Выполним разделение выборки на обучающу валидационную и тестовую\n",
    "features = df_one.drop(['Exited'], axis = 1)\n",
    "target = df_one['Exited']\n",
    "\n",
    "# Получение пропорции 60(тренировочная):40\n",
    "features_train, features_40, target_train, target_40 = train_test_split(\n",
    "    features, target, test_size = 0.40, random_state = 12345)\n",
    "\n",
    "# Разделение 40% на валидационную и тестовую в соотношении 50/50\n",
    "features_valid, features_test, target_valid, target_test = train_test_split(\n",
    "    features_40, target_40, test_size = 0.50, random_state = 12345)"
   ]
  },
  {
   "cell_type": "code",
   "execution_count": 14,
   "metadata": {},
   "outputs": [],
   "source": [
    "# Отключение предупреждения компилятора\n",
    "import warnings\n",
    "from pandas.core.common import SettingWithCopyWarning\n",
    "warnings.simplefilter(action=\"ignore\", category=SettingWithCopyWarning)\n",
    "\n",
    "# Масштабирование признаков\n",
    "\n",
    "numeric = ['CreditScore', 'Age','Tenure', 'Balance', 'NumOfProducts', 'EstimatedSalary']\n",
    "\n",
    "scaler = StandardScaler()\n",
    "scaler.fit(features_train[numeric])\n",
    "\n",
    "features_train[numeric] = scaler.transform(features_train[numeric])\n",
    "features_valid[numeric] = scaler.transform(features_valid[numeric])\n",
    "features_test[numeric] = scaler.transform(features_test[numeric])"
   ]
  },
  {
   "cell_type": "markdown",
   "metadata": {},
   "source": [
    "Комментарий: Для дальнейшей работы с данными, мы разделили их в пропорции 60:20:20 (train/valid/test), а также отмасштабировали их при помощи класса StandardScaler.\n",
    "\n",
    "<b> Данные готовы к исследованию"
   ]
  },
  {
   "cell_type": "markdown",
   "metadata": {},
   "source": [
    "### ПРОМЕЖУТОЧНЫЕ ВЫВОДЫ:\n",
    "\n",
    "1) Пропуски заполнены случайными значениями, что в целом незначительно повлияло на качество данных.\n",
    "\n",
    "2) Для уменьшения нагрузки при обработке данных, лишние столбцы были исключены из таблиц.\n",
    "\n",
    "3) Большой разброс значений потребовал масштабирования признаков.\n",
    "\n",
    "4) Обнаружены выбросы, которые необходимо изучить подробнее:\n",
    " - данные признака credit_score ограничены по правой стороне, что может быть проблемой для алгоритмов МО.\n",
    " - данные признака balance ограничены по левой стороне, что может быть проблемой для алгоритмов МО.\n",
    " - признаки credit_score, age, tenure, balance стремятся к колоколообразному распределнию для целей МО.\n",
    " - форма распределения признака tenure позволяет предложить заполнение пустых значений средним значением распределения.\n",
    " \n",
    " \n",
    "numeric = ['CreditScore','Age','Balance','NumOfProducts','EstimatedSalary','Tenure']"
   ]
  },
  {
   "cell_type": "markdown",
   "metadata": {},
   "source": [
    "## Исследование задачи"
   ]
  },
  {
   "cell_type": "markdown",
   "metadata": {},
   "source": [
    "### Исследование баланса классов"
   ]
  },
  {
   "cell_type": "code",
   "execution_count": 15,
   "metadata": {
    "scrolled": true
   },
   "outputs": [
    {
     "data": {
      "text/plain": [
       "0    0.7963\n",
       "1    0.2037\n",
       "Name: Exited, dtype: float64"
      ]
     },
     "execution_count": 15,
     "metadata": {},
     "output_type": "execute_result"
    }
   ],
   "source": [
    "# Проверим, как часто в наших исходных данных указано клиент\n",
    "# ушел(1) или нет(0):\n",
    "\n",
    "ex = df['Exited'].value_counts(normalize=True)\n",
    "ex"
   ]
  },
  {
   "cell_type": "markdown",
   "metadata": {},
   "source": [
    "Соотношение очень неравномерно: 4:1."
   ]
  },
  {
   "cell_type": "markdown",
   "metadata": {},
   "source": [
    "### Изучение модели без учёта дисбаланса"
   ]
  },
  {
   "cell_type": "markdown",
   "metadata": {},
   "source": [
    "При исследовании модели без учета дисбаланса классов, заведомо ожидаем плохие результаты.\n",
    "\n",
    "Часть данных - категориальные. \n",
    "\n",
    "Для обучения модели логистической регрессии потребуется преобразовать категориальные признаки прямым кодированием.\n",
    "\n",
    "Для обучения модели решающего дерева или случайного леса выполним порядковое кодирование."
   ]
  },
  {
   "cell_type": "markdown",
   "metadata": {},
   "source": [
    "<b> Для исследования будем использовать следующие модели:\n",
    " - Логистическая регрессия\n",
    " - Случайный лес\n",
    " - Решающее дерево"
   ]
  },
  {
   "cell_type": "code",
   "execution_count": 16,
   "metadata": {},
   "outputs": [
    {
     "name": "stdout",
     "output_type": "stream",
     "text": [
      "Для ЛОГИСТИЧЕСКОЙ РЕГРЕССИИ лучший результат F1 = 0.33389544688026984\n"
     ]
    }
   ],
   "source": [
    "# Логистическая регрессия\n",
    "model =  LogisticRegression(random_state=12345, solver='liblinear')\n",
    "model.fit(features_train, target_train)\n",
    "predicted_valid = model.predict(features_valid)\n",
    "print('Для ЛОГИСТИЧЕСКОЙ РЕГРЕССИИ лучший результат F1 =', f1_score(target_valid, predicted_valid))"
   ]
  },
  {
   "cell_type": "code",
   "execution_count": 17,
   "metadata": {},
   "outputs": [
    {
     "name": "stdout",
     "output_type": "stream",
     "text": [
      "Для CЛУЧАЙНОГО ЛЕСА лучший результат при оценке 43 : F1 =  0.6041666666666667\n"
     ]
    }
   ],
   "source": [
    "# Случайный лес\n",
    "f1=0\n",
    "es = 0\n",
    "t_v = 0\n",
    "p_v = 0\n",
    "for estimator in range(1, 100, 1):\n",
    "    model =  RandomForestClassifier(random_state=12345, n_estimators=estimator)\n",
    "    model.fit(features_train, target_train)\n",
    "    predicted_valid = model.predict(features_valid)\n",
    "    if f1_score(target_valid, predicted_valid)>f1:\n",
    "        f1 = f1_score(target_valid, predicted_valid)\n",
    "        es = estimator\n",
    "        t_v = target_valid\n",
    "        p_v = predicted_valid\n",
    "\n",
    "print('Для CЛУЧАЙНОГО ЛЕСА лучший результат при оценке', es,': F1 = ', f1_score(t_v, p_v))"
   ]
  },
  {
   "cell_type": "code",
   "execution_count": 18,
   "metadata": {},
   "outputs": [
    {
     "name": "stderr",
     "output_type": "stream",
     "text": [
      "/opt/conda/lib/python3.7/site-packages/sklearn/metrics/classification.py:1437: UndefinedMetricWarning: F-score is ill-defined and being set to 0.0 due to no predicted samples.\n",
      "  'precision', 'predicted', average, warn_for)\n"
     ]
    },
    {
     "name": "stdout",
     "output_type": "stream",
     "text": [
      "Для РЕШАЮЩЕГО ДЕРЕВА лучший результат при максимальной глубине 9 : F1 =  0.5714285714285715\n"
     ]
    }
   ],
   "source": [
    "# Решающее дерево\n",
    "f1=0\n",
    "depth_m = 0\n",
    "t_v = 0\n",
    "p_v = 0\n",
    "for depth in range(1, 30):\n",
    "    model = DecisionTreeClassifier(random_state=12345, max_depth=depth)\n",
    "    model.fit(features_train, target_train)\n",
    "\n",
    "    predicted_valid = model.predict(features_valid)\n",
    "    if f1_score(target_valid, predicted_valid)>f1:\n",
    "        f1 = f1_score(target_valid, predicted_valid)\n",
    "        depth_m = depth\n",
    "        t_v = target_valid\n",
    "        p_v = predicted_valid\n",
    "    \n",
    "    \n",
    "print('Для РЕШАЮЩЕГО ДЕРЕВА лучший результат при максимальной глубине', depth_m,': F1 = ', f1_score(t_v, p_v))"
   ]
  },
  {
   "cell_type": "markdown",
   "metadata": {},
   "source": [
    "Проведем оценку accuracy, precision и recall, также покажем F-метрику."
   ]
  },
  {
   "cell_type": "code",
   "execution_count": 19,
   "metadata": {
    "scrolled": true
   },
   "outputs": [
    {
     "name": "stdout",
     "output_type": "stream",
     "text": [
      "ЛОГИСТИЧЕСКАЙ РЕГРЕССИЯ\n",
      "Точность попадания по классам 0.8025\n",
      "Precision 0.5657142857142857\n",
      "Recall 0.23684210526315788\n",
      "F1 0.33389544688026984\n",
      "AUC-ROC Логистической регрессии 0.7589554134733454\n",
      "\n",
      "СЛУЧАЙНЫЙ ЛЕС\n",
      "Точность попадания по классам 0.859\n",
      "Precision 0.7556390977443609\n",
      "Recall 0.48086124401913877\n",
      "F1 0.587719298245614\n",
      "AUC-ROC Случайного леса 0.8295454545454546\n",
      "\n",
      "РЕШАЮЩЕЕ ДЕРЕВО\n",
      "Точность попадания по классам 0.8485\n",
      "Precision 0.698961937716263\n",
      "Recall 0.48325358851674644\n",
      "F1 0.5714285714285715\n",
      "AUC-ROC Решающего дерева 0.7793901487427338\n"
     ]
    },
    {
     "data": {
      "image/png": "[encoded data removed]",
      "text/plain": [
       "<Figure size 864x648 with 1 Axes>"
      ]
     },
     "metadata": {
      "needs_background": "light"
     },
     "output_type": "display_data"
    }
   ],
   "source": [
    "plt.figure(figsize=[12,9])\n",
    "\n",
    "plt.plot([0, 1], [0, 1], linestyle='--', label='Случайная модель')\n",
    "\n",
    "model = LogisticRegression(random_state=12345, solver='liblinear')\n",
    "model.fit(features_train, target_train)\n",
    "predicted_valid = model.predict(features_valid)\n",
    "probabilities_valid = model.predict_proba(features_valid)\n",
    "probabilities_one_valid = probabilities_valid[:, 1]\n",
    "fpr, tpr, thresholds = roc_curve(target_valid, probabilities_one_valid)\n",
    "auc_roc = roc_auc_score(target_valid, probabilities_one_valid)\n",
    "print('ЛОГИСТИЧЕСКАЙ РЕГРЕССИЯ')\n",
    "print('Точность попадания по классам', accuracy_score(target_valid, predicted_valid))\n",
    "print('Precision', precision_score(target_valid, predicted_valid))\n",
    "print('Recall', recall_score(target_valid, predicted_valid))\n",
    "print('F1', f1_score(target_valid, predicted_valid))\n",
    "print('AUC-ROC Логистической регрессии',auc_roc)\n",
    "plt.plot(fpr, tpr, label='ЛОГИСТИЧЕСКАЙ РЕГРЕССИЯ')\n",
    "print()\n",
    "\n",
    "model = RandomForestClassifier(random_state=12345, n_estimators=19)\n",
    "model.fit(features_train, target_train)\n",
    "predicted_valid = model.predict(features_valid)\n",
    "probabilities_valid = model.predict_proba(features_valid)\n",
    "probabilities_one_valid = probabilities_valid[:, 1]\n",
    "fpr, tpr, thresholds = roc_curve(target_valid, probabilities_one_valid)\n",
    "auc_roc = roc_auc_score(target_valid, probabilities_one_valid)\n",
    "print('СЛУЧАЙНЫЙ ЛЕС')\n",
    "print('Точность попадания по классам', accuracy_score(target_valid, predicted_valid))\n",
    "print('Precision', precision_score(target_valid, predicted_valid))\n",
    "print('Recall', recall_score(target_valid, predicted_valid))\n",
    "print('F1', f1_score(target_valid, predicted_valid))\n",
    "print('AUC-ROC Случайного леса',auc_roc)\n",
    "plt.plot(fpr, tpr, label='СЛУЧАЙНЫЙ ЛЕС')\n",
    "print()\n",
    "\n",
    "model = DecisionTreeClassifier(random_state=12345, max_depth=9)\n",
    "model.fit(features_train, target_train)\n",
    "predicted_valid = model.predict(features_valid)\n",
    "probabilities_valid = model.predict_proba(features_valid)\n",
    "probabilities_one_valid = probabilities_valid[:, 1]\n",
    "fpr, tpr, thresholds = roc_curve(target_valid, probabilities_one_valid)\n",
    "auc_roc = roc_auc_score(target_valid, probabilities_one_valid)\n",
    "print('РЕШАЮЩЕЕ ДЕРЕВО')\n",
    "print('Точность попадания по классам', accuracy_score(target_valid, predicted_valid))\n",
    "print('Precision', precision_score(target_valid, predicted_valid))\n",
    "print('Recall', recall_score(target_valid, predicted_valid))\n",
    "print('F1', f1_score(target_valid, predicted_valid))\n",
    "print('AUC-ROC Решающего дерева',auc_roc)\n",
    "plt.plot(fpr, tpr, label='РЕШАЮЩЕЕ ДЕРЕВО')\n",
    "\n",
    "plt.xlim([0,1])\n",
    "plt.ylim([0,1])\n",
    "\n",
    "plt.xlabel(\"Частота ложноположительных результатов\")\n",
    "plt.ylabel(\"Частота положительных результатов\")\n",
    "\n",
    "plt.legend(loc='lower right', fontsize='x-large')\n",
    "\n",
    "plt.title(\"ROC-кривая\")\n",
    "plt.show()"
   ]
  },
  {
   "cell_type": "markdown",
   "metadata": {},
   "source": [
    "По результатам видно, что метрика f1 и AUC-ROC лучшая на модели СЛУЧАЙНЫЙ ЛЕС."
   ]
  },
  {
   "cell_type": "markdown",
   "metadata": {},
   "source": [
    "### ВЫВОДЫ ПО РЕЗУЛЬТАТАМ ИССЛЕДОВАНИЯ"
   ]
  },
  {
   "cell_type": "markdown",
   "metadata": {},
   "source": [
    "В данных сущестует дисбаланс классов в отношении 1:4, что возможно влияет на качество изучаемых моделей.\n",
    "\n",
    "Все модели имеют recall ниже, чем percision, из-за перекоса данных, что в свою очередь влияет на F-меру."
   ]
  },
  {
   "cell_type": "markdown",
   "metadata": {},
   "source": [
    "## Борьба с дисбалансом"
   ]
  },
  {
   "cell_type": "markdown",
   "metadata": {},
   "source": [
    "### Изучение автобалансировки моделей"
   ]
  },
  {
   "cell_type": "code",
   "execution_count": 20,
   "metadata": {},
   "outputs": [
    {
     "name": "stdout",
     "output_type": "stream",
     "text": [
      "ЛОГИСТИЧЕСКАЙ РЕГРЕССИЯ\n",
      "Точность попадания по классам 0.702\n",
      "Precision 0.3810160427807487\n",
      "Recall 0.6818181818181818\n",
      "F1 0.4888507718696398\n",
      "AUC-ROC Логистической регрессии 0.7639351798643834\n",
      "\n",
      "СЛУЧАЙНЫЙ ЛЕС\n",
      "Точность попадания по классам 0.8535\n",
      "Precision 0.7323420074349443\n",
      "Recall 0.47129186602870815\n",
      "F1 0.5735080058224163\n",
      "AUC-ROC Случайного леса 0.823212244206655\n",
      "\n",
      "РЕШАЮЩЕЕ ДЕРЕВО\n",
      "Точность попадания по классам 0.77\n",
      "Precision 0.46464646464646464\n",
      "Recall 0.6602870813397129\n",
      "F1 0.5454545454545454\n",
      "AUC-ROC Решающего дерева 0.7658647826323652\n"
     ]
    },
    {
     "data": {
      "image/png": "[encoded data removed]",
      "text/plain": [
       "<Figure size 864x648 with 1 Axes>"
      ]
     },
     "metadata": {
      "needs_background": "light"
     },
     "output_type": "display_data"
    }
   ],
   "source": [
    "plt.figure(figsize=[12,9])\n",
    "\n",
    "plt.plot([0, 1], [0, 1], linestyle='--', label='Случайная модель')\n",
    "\n",
    "model = LogisticRegression(random_state=12345, solver='liblinear', class_weight='balanced')\n",
    "model.fit(features_train, target_train)\n",
    "predicted_valid = model.predict(features_valid)\n",
    "probabilities_valid = model.predict_proba(features_valid)\n",
    "probabilities_one_valid = probabilities_valid[:, 1]\n",
    "fpr, tpr, thresholds = roc_curve(target_valid, probabilities_one_valid)\n",
    "auc_roc = roc_auc_score(target_valid, probabilities_one_valid)\n",
    "print('ЛОГИСТИЧЕСКАЙ РЕГРЕССИЯ')\n",
    "print('Точность попадания по классам', accuracy_score(target_valid, predicted_valid))\n",
    "print('Precision', precision_score(target_valid, predicted_valid))\n",
    "print('Recall', recall_score(target_valid, predicted_valid))\n",
    "print('F1', f1_score(target_valid, predicted_valid))\n",
    "print('AUC-ROC Логистической регрессии',auc_roc)\n",
    "plt.plot(fpr, tpr, label='ЛОГИСТИЧЕСКАЙ РЕГРЕССИЯ')\n",
    "print()\n",
    "\n",
    "model = RandomForestClassifier(random_state=12345, n_estimators=19, class_weight='balanced')\n",
    "model.fit(features_train, target_train)\n",
    "predicted_valid = model.predict(features_valid)\n",
    "probabilities_valid = model.predict_proba(features_valid)\n",
    "probabilities_one_valid = probabilities_valid[:, 1]\n",
    "fpr, tpr, thresholds = roc_curve(target_valid, probabilities_one_valid)\n",
    "auc_roc = roc_auc_score(target_valid, probabilities_one_valid)\n",
    "print('СЛУЧАЙНЫЙ ЛЕС')\n",
    "print('Точность попадания по классам', accuracy_score(target_valid, predicted_valid))\n",
    "print('Precision', precision_score(target_valid, predicted_valid))\n",
    "print('Recall', recall_score(target_valid, predicted_valid))\n",
    "print('F1', f1_score(target_valid, predicted_valid))\n",
    "print('AUC-ROC Случайного леса',auc_roc)\n",
    "plt.plot(fpr, tpr, label='СЛУЧАЙНЫЙ ЛЕС')\n",
    "print()\n",
    "\n",
    "model = DecisionTreeClassifier(random_state=12345, max_depth=9, class_weight='balanced')\n",
    "model.fit(features_train, target_train)\n",
    "predicted_valid = model.predict(features_valid)\n",
    "probabilities_valid = model.predict_proba(features_valid)\n",
    "probabilities_one_valid = probabilities_valid[:, 1]\n",
    "fpr, tpr, thresholds = roc_curve(target_valid, probabilities_one_valid)\n",
    "auc_roc = roc_auc_score(target_valid, probabilities_one_valid)\n",
    "print('РЕШАЮЩЕЕ ДЕРЕВО')\n",
    "print('Точность попадания по классам', accuracy_score(target_valid, predicted_valid))\n",
    "print('Precision', precision_score(target_valid, predicted_valid))\n",
    "print('Recall', recall_score(target_valid, predicted_valid))\n",
    "print('F1', f1_score(target_valid, predicted_valid))\n",
    "print('AUC-ROC Решающего дерева',auc_roc)\n",
    "plt.plot(fpr, tpr, label='РЕШАЮЩЕЕ ДЕРЕВО')\n",
    "\n",
    "plt.xlim([0,1])\n",
    "plt.ylim([0,1])\n",
    "\n",
    "plt.xlabel(\"Частота ложноположительных результатов\")\n",
    "plt.ylabel(\"Частота положительных результатов\")\n",
    "\n",
    "plt.legend(loc='lower right', fontsize='x-large')\n",
    "\n",
    "plt.title(\"ROC-кривая\")\n",
    "plt.show()"
   ]
  },
  {
   "cell_type": "markdown",
   "metadata": {
    "scrolled": true
   },
   "source": [
    "<b> На данном этапе </b> видно, что значительно улучшелись показатели в Логистической регрессии, но ухудгились в Решающем дереве"
   ]
  },
  {
   "cell_type": "markdown",
   "metadata": {},
   "source": [
    "### Исследование UPSAMPLE"
   ]
  },
  {
   "cell_type": "code",
   "execution_count": 21,
   "metadata": {},
   "outputs": [
    {
     "name": "stdout",
     "output_type": "stream",
     "text": [
      "0    4804\n",
      "1    4784\n",
      "Name: Exited, dtype: int64\n"
     ]
    }
   ],
   "source": [
    "def upsample(features, target, repeat):\n",
    "    features_zeros = features[target == 0]\n",
    "    features_ones = features[target == 1]\n",
    "    target_zeros = target[target == 0]\n",
    "    target_ones = target[target == 1]\n",
    "\n",
    "    features_upsampled = pd.concat([features_zeros] + [features_ones] * repeat)\n",
    "    target_upsampled = pd.concat([target_zeros] + [target_ones] * repeat)\n",
    "    \n",
    "    features_upsampled, target_upsampled = shuffle(\n",
    "        features_upsampled, target_upsampled, random_state=12345)\n",
    "    \n",
    "    return features_upsampled, target_upsampled\n",
    "\n",
    "features_upsampled, target_upsampled = upsample(features_train, target_train, 4)\n",
    "\n",
    "print(target_upsampled.value_counts())"
   ]
  },
  {
   "cell_type": "code",
   "execution_count": 22,
   "metadata": {},
   "outputs": [
    {
     "name": "stdout",
     "output_type": "stream",
     "text": [
      "ЛОГИСТИЧЕСКАЙ РЕГРЕССИЯ\n",
      "Точность попадания по классам 0.7025\n",
      "Precision 0.3815261044176707\n",
      "Recall 0.6818181818181818\n",
      "F1 0.4892703862660944\n",
      "AUC-ROC Логистической регрессии 0.7638610806985282\n",
      "\n",
      "СЛУЧАЙНЫЙ ЛЕС\n",
      "Точность попадания по классам 0.8415\n",
      "Precision 0.6438746438746439\n",
      "Recall 0.5406698564593302\n",
      "F1 0.58777633289987\n",
      "AUC-ROC Случайного леса 0.829119006284819\n",
      "\n",
      "РЕШАЮЩЕЕ ДЕРЕВО\n",
      "Точность попадания по классам 0.77\n",
      "Precision 0.46452702702702703\n",
      "Recall 0.6578947368421053\n",
      "F1 0.5445544554455446\n",
      "AUC-ROC Решающего дерева 0.7647911008414036\n"
     ]
    },
    {
     "data": {
      "image/png": "[encoded data removed]",
      "text/plain": [
       "<Figure size 864x648 with 1 Axes>"
      ]
     },
     "metadata": {
      "needs_background": "light"
     },
     "output_type": "display_data"
    }
   ],
   "source": [
    "plt.figure(figsize=[12,9])\n",
    "\n",
    "plt.plot([0, 1], [0, 1], linestyle='--', label='Случайная модель')\n",
    "\n",
    "model = LogisticRegression(random_state=12345, solver='liblinear')\n",
    "model.fit(features_upsampled, target_upsampled)\n",
    "predicted_valid = model.predict(features_valid)\n",
    "probabilities_valid = model.predict_proba(features_valid)\n",
    "probabilities_one_valid = probabilities_valid[:, 1]\n",
    "fpr, tpr, thresholds = roc_curve(target_valid, probabilities_one_valid)\n",
    "auc_roc = roc_auc_score(target_valid, probabilities_one_valid)\n",
    "print('ЛОГИСТИЧЕСКАЙ РЕГРЕССИЯ')\n",
    "print('Точность попадания по классам', accuracy_score(target_valid, predicted_valid))\n",
    "print('Precision', precision_score(target_valid, predicted_valid))\n",
    "print('Recall', recall_score(target_valid, predicted_valid))\n",
    "print('F1', f1_score(target_valid, predicted_valid))\n",
    "print('AUC-ROC Логистической регрессии',auc_roc)\n",
    "plt.plot(fpr, tpr, label='ЛОГИСТИЧЕСКАЙ РЕГРЕССИЯ')\n",
    "print()\n",
    "\n",
    "model = RandomForestClassifier(random_state=12345, n_estimators=19)\n",
    "model.fit(features_upsampled, target_upsampled)\n",
    "predicted_valid = model.predict(features_valid)\n",
    "probabilities_valid = model.predict_proba(features_valid)\n",
    "probabilities_one_valid = probabilities_valid[:, 1]\n",
    "fpr, tpr, thresholds = roc_curve(target_valid, probabilities_one_valid)\n",
    "auc_roc = roc_auc_score(target_valid, probabilities_one_valid)\n",
    "print('СЛУЧАЙНЫЙ ЛЕС')\n",
    "print('Точность попадания по классам', accuracy_score(target_valid, predicted_valid))\n",
    "print('Precision', precision_score(target_valid, predicted_valid))\n",
    "print('Recall', recall_score(target_valid, predicted_valid))\n",
    "print('F1', f1_score(target_valid, predicted_valid))\n",
    "print('AUC-ROC Случайного леса',auc_roc)\n",
    "plt.plot(fpr, tpr, label='СЛУЧАЙНЫЙ ЛЕС')\n",
    "print()\n",
    "\n",
    "model = DecisionTreeClassifier(random_state=12345, max_depth=9)\n",
    "model.fit(features_upsampled, target_upsampled)\n",
    "predicted_valid = model.predict(features_valid)\n",
    "probabilities_valid = model.predict_proba(features_valid)\n",
    "probabilities_one_valid = probabilities_valid[:, 1]\n",
    "fpr, tpr, thresholds = roc_curve(target_valid, probabilities_one_valid)\n",
    "auc_roc = roc_auc_score(target_valid, probabilities_one_valid)\n",
    "print('РЕШАЮЩЕЕ ДЕРЕВО')\n",
    "print('Точность попадания по классам', accuracy_score(target_valid, predicted_valid))\n",
    "print('Precision', precision_score(target_valid, predicted_valid))\n",
    "print('Recall', recall_score(target_valid, predicted_valid))\n",
    "print('F1', f1_score(target_valid, predicted_valid))\n",
    "print('AUC-ROC Решающего дерева',auc_roc)\n",
    "plt.plot(fpr, tpr, label='РЕШАЮЩЕЕ ДЕРЕВО')\n",
    "\n",
    "plt.xlim([0,1])\n",
    "plt.ylim([0,1])\n",
    "\n",
    "plt.xlabel(\"Частота ложноположительных результатов\")\n",
    "plt.ylabel(\"Частота положительных результатов\")\n",
    "\n",
    "plt.legend(loc='lower right', fontsize='x-large')\n",
    "\n",
    "plt.title(\"ROC-кривая\")\n",
    "plt.show()"
   ]
  },
  {
   "cell_type": "markdown",
   "metadata": {},
   "source": [
    "<b> На данном этапе</b> видно, что значительно улучшились показатели в Случайном лесу"
   ]
  },
  {
   "cell_type": "markdown",
   "metadata": {},
   "source": [
    "### Исследование DOWNSAMPLE"
   ]
  },
  {
   "cell_type": "code",
   "execution_count": 23,
   "metadata": {},
   "outputs": [
    {
     "name": "stdout",
     "output_type": "stream",
     "text": [
      "0    1201\n",
      "1    1196\n",
      "Name: Exited, dtype: int64\n"
     ]
    }
   ],
   "source": [
    "def downsample(features, target, fraction):\n",
    "    features_zeros = features[target == 0]\n",
    "    features_ones = features[target == 1]\n",
    "    target_zeros = target[target == 0]\n",
    "    target_ones = target[target == 1]\n",
    "\n",
    "    features_downsampled = pd.concat(\n",
    "        [features_zeros.sample(frac=fraction, random_state=12345)] + [features_ones])\n",
    "    target_downsampled = pd.concat(\n",
    "        [target_zeros.sample(frac=fraction, random_state=12345)] + [target_ones])\n",
    "    \n",
    "    features_downsampled, target_downsampled = shuffle(\n",
    "        features_downsampled, target_downsampled, random_state=12345)\n",
    "    \n",
    "    return features_downsampled, target_downsampled\n",
    "\n",
    "features_downsampled, target_downsampled = downsample(features_train, target_train, 0.25)\n",
    "\n",
    "print(target_downsampled.value_counts())"
   ]
  },
  {
   "cell_type": "code",
   "execution_count": 24,
   "metadata": {},
   "outputs": [
    {
     "name": "stdout",
     "output_type": "stream",
     "text": [
      "ЛОГИСТИЧЕСКАЙ РЕГРЕССИЯ\n",
      "Точность попадания по классам 0.7005\n",
      "Precision 0.37720488466757124\n",
      "Recall 0.6650717703349283\n",
      "F1 0.48138528138528136\n",
      "AUC-ROC Логистической регрессии 0.7617500105855952\n",
      "\n",
      "СЛУЧАЙНЫЙ ЛЕС\n",
      "Точность попадания по классам 0.7665\n",
      "Precision 0.4628224582701062\n",
      "Recall 0.7296650717703349\n",
      "F1 0.5663881151346332\n",
      "AUC-ROC Случайного леса 0.8258896436586236\n",
      "\n",
      "РЕШАЮЩЕЕ ДЕРЕВО\n",
      "Точность попадания по классам 0.732\n",
      "Precision 0.4169014084507042\n",
      "Recall 0.7081339712918661\n",
      "F1 0.524822695035461\n",
      "AUC-ROC Решающего дерева 0.7624342936988489\n"
     ]
    },
    {
     "data": {
      "image/png": "[encoded data removed]",
      "text/plain": [
       "<Figure size 864x648 with 1 Axes>"
      ]
     },
     "metadata": {
      "needs_background": "light"
     },
     "output_type": "display_data"
    }
   ],
   "source": [
    "plt.figure(figsize=[12,9])\n",
    "\n",
    "plt.plot([0, 1], [0, 1], linestyle='--', label='Случайная модель')\n",
    "\n",
    "model = LogisticRegression(random_state=12345, solver='liblinear')\n",
    "model.fit(features_downsampled, target_downsampled)\n",
    "predicted_valid = model.predict(features_valid)\n",
    "probabilities_valid = model.predict_proba(features_valid)\n",
    "probabilities_one_valid = probabilities_valid[:, 1]\n",
    "fpr, tpr, thresholds = roc_curve(target_valid, probabilities_one_valid)\n",
    "auc_roc = roc_auc_score(target_valid, probabilities_one_valid)\n",
    "print('ЛОГИСТИЧЕСКАЙ РЕГРЕССИЯ')\n",
    "print('Точность попадания по классам', accuracy_score(target_valid, predicted_valid))\n",
    "print('Precision', precision_score(target_valid, predicted_valid))\n",
    "print('Recall', recall_score(target_valid, predicted_valid))\n",
    "print('F1', f1_score(target_valid, predicted_valid))\n",
    "print('AUC-ROC Логистической регрессии',auc_roc)\n",
    "plt.plot(fpr, tpr, label='ЛОГИСТИЧЕСКАЙ РЕГРЕССИЯ')\n",
    "print()\n",
    "\n",
    "model = RandomForestClassifier(random_state=12345, n_estimators=19)\n",
    "model.fit(features_downsampled, target_downsampled)\n",
    "predicted_valid = model.predict(features_valid)\n",
    "probabilities_valid = model.predict_proba(features_valid)\n",
    "probabilities_one_valid = probabilities_valid[:, 1]\n",
    "fpr, tpr, thresholds = roc_curve(target_valid, probabilities_one_valid)\n",
    "auc_roc = roc_auc_score(target_valid, probabilities_one_valid)\n",
    "print('СЛУЧАЙНЫЙ ЛЕС')\n",
    "print('Точность попадания по классам', accuracy_score(target_valid, predicted_valid))\n",
    "print('Precision', precision_score(target_valid, predicted_valid))\n",
    "print('Recall', recall_score(target_valid, predicted_valid))\n",
    "print('F1', f1_score(target_valid, predicted_valid))\n",
    "print('AUC-ROC Случайного леса',auc_roc)\n",
    "plt.plot(fpr, tpr, label='СЛУЧАЙНЫЙ ЛЕС')\n",
    "print()\n",
    "\n",
    "model = DecisionTreeClassifier(random_state=12345, max_depth=9)\n",
    "model.fit(features_downsampled, target_downsampled)\n",
    "predicted_valid = model.predict(features_valid)\n",
    "probabilities_valid = model.predict_proba(features_valid)\n",
    "probabilities_one_valid = probabilities_valid[:, 1]\n",
    "fpr, tpr, thresholds = roc_curve(target_valid, probabilities_one_valid)\n",
    "auc_roc = roc_auc_score(target_valid, probabilities_one_valid)\n",
    "print('РЕШАЮЩЕЕ ДЕРЕВО')\n",
    "print('Точность попадания по классам', accuracy_score(target_valid, predicted_valid))\n",
    "print('Precision', precision_score(target_valid, predicted_valid))\n",
    "print('Recall', recall_score(target_valid, predicted_valid))\n",
    "print('F1', f1_score(target_valid, predicted_valid))\n",
    "print('AUC-ROC Решающего дерева',auc_roc)\n",
    "plt.plot(fpr, tpr, label='РЕШАЮЩЕЕ ДЕРЕВО')\n",
    "\n",
    "plt.xlim([0,1])\n",
    "plt.ylim([0,1])\n",
    "\n",
    "plt.xlabel(\"Частота ложноположительных результатов\")\n",
    "plt.ylabel(\"Частота положительных результатов\")\n",
    "\n",
    "plt.legend(loc='lower right', fontsize='x-large')\n",
    "\n",
    "plt.title(\"ROC-кривая\")\n",
    "plt.show()"
   ]
  },
  {
   "cell_type": "markdown",
   "metadata": {},
   "source": [
    "### ВЫВОДЫ ПО РЕЗУЛЬТАТАМ БОРЬБЫ С ДИСБАЛАНСОМ"
   ]
  },
  {
   "cell_type": "markdown",
   "metadata": {},
   "source": [
    "Дисбаланс повлиял на модель в худшую сторону. \n",
    "\n",
    "Лучшим решением стало увеличение классов 1 (upsample) в тренировочной выборке.\n",
    "\n",
    "Выравние классов в выборке привело к резкому росту параметра recall и небольшому понижению percison.\n",
    "В целом F-мера выросла."
   ]
  },
  {
   "cell_type": "markdown",
   "metadata": {},
   "source": [
    "## Тестирование модели"
   ]
  },
  {
   "cell_type": "markdown",
   "metadata": {},
   "source": [
    "К тестовой выборке примем модель Случайного леса.\n",
    "\n",
    "Исследуем гиперпараметры и улучшим F-меру модели.\n",
    "\n",
    "Начнем с гиперпараметра n_estimators."
   ]
  },
  {
   "cell_type": "code",
   "execution_count": 25,
   "metadata": {},
   "outputs": [
    {
     "name": "stdout",
     "output_type": "stream",
     "text": [
      "Для CЛУЧАЙНОГО ЛЕСА лучший результат при оценке 127 : F1 =  0.6094986807387863\n"
     ]
    }
   ],
   "source": [
    "f1=0\n",
    "es = 0\n",
    "t_v = 0\n",
    "p_v = 0\n",
    "for estimator in range(1, 200, 1):\n",
    "    model =  RandomForestClassifier(random_state=12345, n_estimators=estimator)\n",
    "    model.fit(features_upsampled, target_upsampled)\n",
    "    predicted_valid = model.predict(features_valid)\n",
    "    if f1_score(target_valid, predicted_valid)>f1:\n",
    "        f1 = f1_score(target_valid, predicted_valid)\n",
    "        es = estimator\n",
    "        t_v = target_valid\n",
    "        p_v = predicted_valid\n",
    "\n",
    "print('Для CЛУЧАЙНОГО ЛЕСА лучший результат при оценке', es,': F1 = ', f1_score(t_v, p_v))"
   ]
  },
  {
   "cell_type": "code",
   "execution_count": 30,
   "metadata": {},
   "outputs": [
    {
     "name": "stdout",
     "output_type": "stream",
     "text": [
      "F1 0.6111833550065019\n"
     ]
    }
   ],
   "source": [
    "model =  RandomForestClassifier(random_state=12345, n_estimators=127, criterion='entropy')\n",
    "model.fit(features_upsampled, target_upsampled)\n",
    "predicted_valid = model.predict(features_valid)\n",
    "print('F1', f1_score(target_valid, predicted_valid))"
   ]
  },
  {
   "cell_type": "code",
   "execution_count": 27,
   "metadata": {},
   "outputs": [
    {
     "name": "stdout",
     "output_type": "stream",
     "text": [
      "Разделение образцов 8 F1 0.6223337515683814\n"
     ]
    }
   ],
   "source": [
    "s_s = 0\n",
    "f1 = 0\n",
    "for samples_split in range(2, 11):\n",
    "    model =  RandomForestClassifier(random_state=12345, n_estimators=estimator, min_samples_split=samples_split)\n",
    "    model.fit(features_upsampled, target_upsampled)\n",
    "    predicted_valid = model.predict(features_valid)\n",
    "    if f1_score(target_valid, predicted_valid)>f1:\n",
    "        f1 = f1_score(target_valid, predicted_valid)\n",
    "        s_s = samples_split\n",
    "print('Разделение образцов', s_s,'F1', f1)"
   ]
  },
  {
   "cell_type": "code",
   "execution_count": 31,
   "metadata": {},
   "outputs": [
    {
     "name": "stdout",
     "output_type": "stream",
     "text": [
      "Образцы листа 10 F1 0.630901287553648\n"
     ]
    }
   ],
   "source": [
    "s_l = 0\n",
    "f1 = 0\n",
    "for samples_leaf in range(1, 11):\n",
    "    model =  RandomForestClassifier(random_state=12345, n_estimators=estimator, min_samples_split=8, min_samples_leaf=samples_leaf)\n",
    "    model.fit(features_upsampled, target_upsampled)\n",
    "    predicted_valid = model.predict(features_valid)\n",
    "    if f1_score(target_valid, predicted_valid)>f1:\n",
    "        f1 = f1_score(target_valid, predicted_valid)\n",
    "        s_l = samples_split\n",
    "print('Образцы листа', s_l,'F1', f1)"
   ]
  },
  {
   "cell_type": "markdown",
   "metadata": {},
   "source": [
    "<b> Испытаем на тестовой выборке четыре модели:\n",
    "    \n",
    "    - на дисбалансных данных \n",
    "    \n",
    "    - сбалансированных данных (со взвешенными классами, усечением 0 класса и расширением класса 1)"
   ]
  },
  {
   "cell_type": "code",
   "execution_count": 32,
   "metadata": {},
   "outputs": [
    {
     "name": "stdout",
     "output_type": "stream",
     "text": [
      "AUC-ROC Случайный лес - дисбаланс классов 0.8564695512171868\n",
      "Случайный лес - дисбаланс классов\n",
      "Точность попадания по классам 0.845\n",
      "Precision 0.7627906976744186\n",
      "Recall 0.3877068557919622\n",
      "F1 0.5141065830721003\n",
      "\n",
      "AUC-ROC Случайный лес - сбалансированные классы 0.8580690811023115\n",
      "Случайный лес - сбалансированные классы\n",
      "Точность попадания по классам 0.8195\n",
      "Precision 0.5607843137254902\n",
      "Recall 0.6761229314420804\n",
      "F1 0.6130760986066452\n",
      "\n",
      "AUC-ROC Случайный лес - downsample 0.8468948582684603\n",
      "Случайный лес - downsample\n",
      "Точность попадания по классам 0.77\n",
      "Precision 0.47234678624813153\n",
      "Recall 0.7470449172576832\n",
      "F1 0.5787545787545787\n",
      "\n",
      "AUC-ROC Случайный лес - upsample 0.8567303930166353\n",
      "Случайный лес - upsample\n",
      "Точность попадания по классам 0.8185\n",
      "Precision 0.5570342205323194\n",
      "Recall 0.6926713947990544\n",
      "F1 0.6174920969441517\n",
      "\n"
     ]
    },
    {
     "data": {
      "image/png": "[encoded data removed]",
      "text/plain": [
       "<Figure size 864x648 with 1 Axes>"
      ]
     },
     "metadata": {
      "needs_background": "light"
     },
     "output_type": "display_data"
    }
   ],
   "source": [
    "plt.figure(figsize=[12,9])\n",
    "\n",
    "plt.plot([0, 1], [0, 1], linestyle='--', label='RandomModel')\n",
    "\n",
    "\n",
    "model = RandomForestClassifier(random_state=12345, n_estimators=estimator, min_samples_split=8, min_samples_leaf=10)\n",
    "model.fit(features_train, target_train)\n",
    "predicted_test = model.predict(features_test)\n",
    "probabilities_test = model.predict_proba(features_test)\n",
    "probabilities_one_test = probabilities_test[:, 1]\n",
    "fpr, tpr, thresholds = roc_curve(target_test, probabilities_one_test)\n",
    "auc_roc = roc_auc_score(target_test, probabilities_one_test)\n",
    "print('AUC-ROC Случайный лес - дисбаланс классов',auc_roc)\n",
    "print('Случайный лес - дисбаланс классов')\n",
    "print('Точность попадания по классам', accuracy_score(target_test, predicted_test))\n",
    "print('Precision', precision_score(target_test, predicted_test))\n",
    "print('Recall', recall_score(target_test, predicted_test))\n",
    "print('F1', f1_score(target_test, predicted_test))\n",
    "print()\n",
    "plt.plot(fpr, tpr, label='Случайный лес - дисбаланс классов')\n",
    "\n",
    "\n",
    "model = RandomForestClassifier(random_state=12345, n_estimators=estimator, min_samples_split=8, min_samples_leaf=10, class_weight='balanced')\n",
    "model.fit(features_train, target_train)\n",
    "predicted_test = model.predict(features_test)\n",
    "probabilities_test = model.predict_proba(features_test)\n",
    "probabilities_one_test = probabilities_test[:, 1]\n",
    "fpr, tpr, thresholds = roc_curve(target_test, probabilities_one_test)\n",
    "auc_roc = roc_auc_score(target_test, probabilities_one_test)\n",
    "print('AUC-ROC Случайный лес - сбалансированные классы',auc_roc)\n",
    "print('Случайный лес - сбалансированные классы')\n",
    "print('Точность попадания по классам', accuracy_score(target_test, predicted_test))\n",
    "print('Precision', precision_score(target_test, predicted_test))\n",
    "print('Recall', recall_score(target_test, predicted_test))\n",
    "print('F1', f1_score(target_test, predicted_test))\n",
    "print()\n",
    "plt.plot(fpr, tpr, label='Случайный лес - сбалансированные классы')\n",
    "\n",
    "\n",
    "\n",
    "model = RandomForestClassifier(random_state=12345, n_estimators=estimator, min_samples_split=9,\n",
    "                                   min_samples_leaf=10)\n",
    "model.fit(features_downsampled, target_downsampled)\n",
    "predicted_test = model.predict(features_test)\n",
    "probabilities_test = model.predict_proba(features_test)\n",
    "probabilities_one_test = probabilities_test[:, 1]\n",
    "fpr, tpr, thresholds = roc_curve(target_test, probabilities_one_test)\n",
    "auc_roc = roc_auc_score(target_test, probabilities_one_test)\n",
    "print('AUC-ROC Случайный лес - downsample',auc_roc)\n",
    "print('Случайный лес - downsample')\n",
    "print('Точность попадания по классам', accuracy_score(target_test, predicted_test))\n",
    "print('Precision', precision_score(target_test, predicted_test))\n",
    "print('Recall', recall_score(target_test, predicted_test))\n",
    "print('F1', f1_score(target_test, predicted_test))\n",
    "print()\n",
    "plt.plot(fpr, tpr, label='Случайный лес - downsample')\n",
    "\n",
    "\n",
    "\n",
    "model = RandomForestClassifier(random_state=12345, n_estimators=estimator, min_samples_split=8, min_samples_leaf=10)\n",
    "model.fit(features_upsampled, target_upsampled)\n",
    "predicted_test = model.predict(features_test)\n",
    "probabilities_test = model.predict_proba(features_test)\n",
    "probabilities_one_test = probabilities_test[:, 1]\n",
    "fpr, tpr, thresholds = roc_curve(target_test, probabilities_one_test)\n",
    "auc_roc = roc_auc_score(target_test, probabilities_one_test)\n",
    "print('AUC-ROC Случайный лес - upsample',auc_roc)\n",
    "print('Случайный лес - upsample')\n",
    "print('Точность попадания по классам', accuracy_score(target_test, predicted_test))\n",
    "print('Precision', precision_score(target_test, predicted_test))\n",
    "print('Recall', recall_score(target_test, predicted_test))\n",
    "print('F1', f1_score(target_test, predicted_test))\n",
    "print()\n",
    "plt.plot(fpr, tpr, label='Случайный лес - upsample')\n",
    "\n",
    "\n",
    "plt.xlim([0,1])\n",
    "plt.ylim([0,1])\n",
    "\n",
    "plt.xlabel(\"Частота ложноположительных результатов\")\n",
    "plt.ylabel(\"Частота положительных результатов\")\n",
    "\n",
    "plt.legend(loc='lower right', fontsize='x-large')\n",
    "\n",
    "plt.title(\"ROC-кривая\")\n",
    "plt.show()"
   ]
  },
  {
   "cell_type": "markdown",
   "metadata": {},
   "source": [
    "### Вывод"
   ]
  },
  {
   "cell_type": "markdown",
   "metadata": {},
   "source": [
    "2 из 4 моделей достигли искомой F-меры на тестовых данных:\n",
    "- модель сбалансированного Случайного леса \n",
    "- модель с увеличенным количеством класса 1.\n",
    "\n",
    "Оценивая адеватность модели видно, что AUC-ROC дисбалансной модели и модели с весами примерно одинаково эффективно предсказывают вероятность ухода клиента.\n",
    "\n",
    "В результате исследования самые лучшие показатели получены на модели СБАЛАНСИРОВАННОГО СЛУЧАЙНОГО ЛЕСА"
   ]
  },
  {
   "cell_type": "markdown",
   "metadata": {},
   "source": [
    "## Итоговый вывод\n",
    "\n",
    "Для выполнения поставленных задач по пожготовке модели, предсказывающей уход клиентов было проанализировано несколько вариантов построения модели.\n",
    "\n",
    "Данные были разделены и обработаны.\n",
    "\n",
    "Получена улучшенная модель благодаря настройке гиперпараметров и баланса класса.\n",
    "\n",
    "По результатам финального теста было достигнуты необходимые значения параметров AUC-ROC и f1:\n",
    "- AUC-ROC Случайный лес - upsample 0.8567303930166353\n",
    "- Случайный лес - upsample\n",
    "- Точность попадания по классам 0.8185\n",
    "- Precision 0.5570342205323194\n",
    "- Recall 0.6926713947990544\n",
    "- F1 0.6174920969441517"
   ]
  }
 ],
 "metadata": {
  "ExecuteTimeLog": [
   {
    "duration": 1395,
    "start_time": "2022-02-28T09:47:54.488Z"
   },
   {
    "duration": 91,
    "start_time": "2022-02-28T09:47:55.886Z"
   },
   {
    "duration": 4,
    "start_time": "2022-02-28T09:47:56.790Z"
   },
   {
    "duration": 4,
    "start_time": "2022-02-28T09:47:57.275Z"
   },
   {
    "duration": 17,
    "start_time": "2022-02-28T09:47:57.751Z"
   },
   {
    "duration": 44,
    "start_time": "2022-02-28T09:51:17.611Z"
   },
   {
    "duration": 22,
    "start_time": "2022-02-28T09:56:42.501Z"
   },
   {
    "duration": 62,
    "start_time": "2022-02-28T09:58:05.702Z"
   },
   {
    "duration": 4273,
    "start_time": "2022-02-28T10:14:36.821Z"
   },
   {
    "duration": 4526,
    "start_time": "2022-02-28T10:14:59.541Z"
   },
   {
    "duration": 5315,
    "start_time": "2022-02-28T10:15:40.900Z"
   },
   {
    "duration": 3375,
    "start_time": "2022-02-28T10:16:02.683Z"
   },
   {
    "duration": 4376,
    "start_time": "2022-02-28T10:16:07.974Z"
   },
   {
    "duration": 6946,
    "start_time": "2022-02-28T12:25:51.857Z"
   },
   {
    "duration": 6,
    "start_time": "2022-02-28T12:26:17.866Z"
   },
   {
    "duration": 354,
    "start_time": "2022-02-28T12:31:40.370Z"
   },
   {
    "duration": 1411,
    "start_time": "2022-02-28T12:32:00.495Z"
   },
   {
    "duration": 125,
    "start_time": "2022-02-28T12:32:01.909Z"
   },
   {
    "duration": 5,
    "start_time": "2022-02-28T12:32:02.039Z"
   },
   {
    "duration": 17,
    "start_time": "2022-02-28T12:32:02.047Z"
   },
   {
    "duration": 22,
    "start_time": "2022-02-28T12:32:02.067Z"
   },
   {
    "duration": 69,
    "start_time": "2022-02-28T12:32:02.092Z"
   },
   {
    "duration": 32,
    "start_time": "2022-02-28T12:32:02.164Z"
   },
   {
    "duration": 87,
    "start_time": "2022-02-28T12:32:02.200Z"
   },
   {
    "duration": 4470,
    "start_time": "2022-02-28T12:32:02.289Z"
   },
   {
    "duration": 20,
    "start_time": "2022-02-28T12:32:06.761Z"
   },
   {
    "duration": 14,
    "start_time": "2022-02-28T12:32:33.311Z"
   },
   {
    "duration": 4515,
    "start_time": "2022-02-28T12:33:21.384Z"
   },
   {
    "duration": 46,
    "start_time": "2022-02-28T12:36:09.520Z"
   },
   {
    "duration": 21,
    "start_time": "2022-02-28T12:45:58.530Z"
   },
   {
    "duration": 27,
    "start_time": "2022-02-28T13:29:47.860Z"
   },
   {
    "duration": 1412,
    "start_time": "2022-02-28T13:30:08.085Z"
   },
   {
    "duration": 90,
    "start_time": "2022-02-28T13:30:09.500Z"
   },
   {
    "duration": 4,
    "start_time": "2022-02-28T13:30:09.593Z"
   },
   {
    "duration": 5,
    "start_time": "2022-02-28T13:30:09.599Z"
   },
   {
    "duration": 11,
    "start_time": "2022-02-28T13:30:09.606Z"
   },
   {
    "duration": 48,
    "start_time": "2022-02-28T13:30:09.638Z"
   },
   {
    "duration": 24,
    "start_time": "2022-02-28T13:30:09.689Z"
   },
   {
    "duration": 72,
    "start_time": "2022-02-28T13:30:09.717Z"
   },
   {
    "duration": 4452,
    "start_time": "2022-02-28T13:30:09.792Z"
   },
   {
    "duration": 15,
    "start_time": "2022-02-28T13:30:14.247Z"
   },
   {
    "duration": 18,
    "start_time": "2022-02-28T13:30:14.264Z"
   },
   {
    "duration": 59,
    "start_time": "2022-02-28T13:30:14.285Z"
   },
   {
    "duration": 2168,
    "start_time": "2022-02-28T13:40:19.793Z"
   },
   {
    "duration": 102,
    "start_time": "2022-02-28T13:40:21.969Z"
   },
   {
    "duration": 5,
    "start_time": "2022-02-28T13:40:22.074Z"
   },
   {
    "duration": 7,
    "start_time": "2022-02-28T13:40:22.082Z"
   },
   {
    "duration": 11,
    "start_time": "2022-02-28T13:40:22.092Z"
   },
   {
    "duration": 61,
    "start_time": "2022-02-28T13:40:22.105Z"
   },
   {
    "duration": 23,
    "start_time": "2022-02-28T13:40:22.169Z"
   },
   {
    "duration": 91,
    "start_time": "2022-02-28T13:40:22.196Z"
   },
   {
    "duration": 4831,
    "start_time": "2022-02-28T13:40:22.290Z"
   },
   {
    "duration": 20,
    "start_time": "2022-02-28T13:40:27.124Z"
   },
   {
    "duration": 29,
    "start_time": "2022-02-28T13:40:27.147Z"
   },
   {
    "duration": 40,
    "start_time": "2022-02-28T13:40:27.178Z"
   },
   {
    "duration": 433,
    "start_time": "2022-02-28T13:44:16.276Z"
   },
   {
    "duration": 317,
    "start_time": "2022-02-28T13:45:48.084Z"
   },
   {
    "duration": 1506,
    "start_time": "2022-02-28T13:45:58.755Z"
   },
   {
    "duration": 107,
    "start_time": "2022-02-28T13:46:00.264Z"
   },
   {
    "duration": 3,
    "start_time": "2022-02-28T13:46:00.374Z"
   },
   {
    "duration": 13,
    "start_time": "2022-02-28T13:46:00.380Z"
   },
   {
    "duration": 24,
    "start_time": "2022-02-28T13:46:00.395Z"
   },
   {
    "duration": 75,
    "start_time": "2022-02-28T13:46:00.421Z"
   },
   {
    "duration": 23,
    "start_time": "2022-02-28T13:46:00.498Z"
   },
   {
    "duration": 96,
    "start_time": "2022-02-28T13:46:00.526Z"
   },
   {
    "duration": 4916,
    "start_time": "2022-02-28T13:46:00.625Z"
   },
   {
    "duration": 18,
    "start_time": "2022-02-28T13:46:05.546Z"
   },
   {
    "duration": 18,
    "start_time": "2022-02-28T13:46:05.567Z"
   },
   {
    "duration": 70,
    "start_time": "2022-02-28T13:46:05.588Z"
   },
   {
    "duration": 438,
    "start_time": "2022-02-28T13:50:43.176Z"
   },
   {
    "duration": 17,
    "start_time": "2022-02-28T13:51:08.205Z"
   },
   {
    "duration": 4,
    "start_time": "2022-02-28T14:09:39.346Z"
   },
   {
    "duration": 40,
    "start_time": "2022-02-28T14:15:48.570Z"
   },
   {
    "duration": 297,
    "start_time": "2022-02-28T14:16:13.674Z"
   },
   {
    "duration": 33,
    "start_time": "2022-02-28T14:17:08.358Z"
   },
   {
    "duration": 430,
    "start_time": "2022-02-28T14:48:06.876Z"
   },
   {
    "duration": 413,
    "start_time": "2022-02-28T14:48:29.105Z"
   },
   {
    "duration": 18,
    "start_time": "2022-02-28T16:55:13.546Z"
   },
   {
    "duration": 210,
    "start_time": "2022-02-28T16:55:33.530Z"
   },
   {
    "duration": 428,
    "start_time": "2022-02-28T16:55:54.941Z"
   },
   {
    "duration": 19,
    "start_time": "2022-02-28T16:59:47.081Z"
   },
   {
    "duration": 416,
    "start_time": "2022-02-28T17:00:43.751Z"
   },
   {
    "duration": 22998,
    "start_time": "2022-02-28T17:01:08.890Z"
   },
   {
    "duration": 739,
    "start_time": "2022-03-03T10:31:12.166Z"
   },
   {
    "duration": 282,
    "start_time": "2022-03-03T11:00:13.015Z"
   },
   {
    "duration": 710,
    "start_time": "2022-03-03T11:00:29.913Z"
   },
   {
    "duration": 515,
    "start_time": "2022-03-03T11:00:31.356Z"
   },
   {
    "duration": 3,
    "start_time": "2022-03-03T11:00:32.969Z"
   },
   {
    "duration": 3,
    "start_time": "2022-03-03T11:00:34.639Z"
   },
   {
    "duration": 4,
    "start_time": "2022-03-03T11:00:35.750Z"
   },
   {
    "duration": 37,
    "start_time": "2022-03-03T11:00:38.343Z"
   },
   {
    "duration": 16,
    "start_time": "2022-03-03T11:00:42.614Z"
   },
   {
    "duration": 44,
    "start_time": "2022-03-03T11:00:52.239Z"
   },
   {
    "duration": 3075,
    "start_time": "2022-03-03T11:00:58.013Z"
   },
   {
    "duration": 322,
    "start_time": "2022-03-03T11:01:06.149Z"
   },
   {
    "duration": 175,
    "start_time": "2022-03-03T11:01:18.790Z"
   },
   {
    "duration": 696,
    "start_time": "2022-03-03T11:12:45.500Z"
   },
   {
    "duration": 515,
    "start_time": "2022-03-03T11:12:47.360Z"
   },
   {
    "duration": 3,
    "start_time": "2022-03-03T11:12:48.220Z"
   },
   {
    "duration": 3,
    "start_time": "2022-03-03T11:12:48.279Z"
   },
   {
    "duration": 4,
    "start_time": "2022-03-03T11:12:48.989Z"
   },
   {
    "duration": 42,
    "start_time": "2022-03-03T11:12:53.170Z"
   },
   {
    "duration": 23,
    "start_time": "2022-03-03T11:12:54.099Z"
   },
   {
    "duration": 41,
    "start_time": "2022-03-03T11:12:56.529Z"
   },
   {
    "duration": 3148,
    "start_time": "2022-03-03T11:13:01.012Z"
   },
   {
    "duration": 280,
    "start_time": "2022-03-03T11:13:04.162Z"
   },
   {
    "duration": 213,
    "start_time": "2022-03-03T11:14:15.314Z"
   },
   {
    "duration": 13,
    "start_time": "2022-03-03T11:14:33.880Z"
   },
   {
    "duration": 195,
    "start_time": "2022-03-03T11:14:58.559Z"
   },
   {
    "duration": 264,
    "start_time": "2022-03-03T11:15:42.111Z"
   },
   {
    "duration": 698,
    "start_time": "2022-03-03T11:18:18.792Z"
   },
   {
    "duration": 519,
    "start_time": "2022-03-03T11:18:19.492Z"
   },
   {
    "duration": 5,
    "start_time": "2022-03-03T11:18:20.016Z"
   },
   {
    "duration": 12,
    "start_time": "2022-03-03T11:18:20.023Z"
   },
   {
    "duration": 21,
    "start_time": "2022-03-03T11:18:20.037Z"
   },
   {
    "duration": 45,
    "start_time": "2022-03-03T11:18:20.060Z"
   },
   {
    "duration": 20,
    "start_time": "2022-03-03T11:18:20.108Z"
   },
   {
    "duration": 43,
    "start_time": "2022-03-03T11:18:20.131Z"
   },
   {
    "duration": 3168,
    "start_time": "2022-03-03T11:18:20.176Z"
   },
   {
    "duration": 289,
    "start_time": "2022-03-03T11:18:23.346Z"
   },
   {
    "duration": 14,
    "start_time": "2022-03-03T11:18:23.637Z"
   },
   {
    "duration": 23,
    "start_time": "2022-03-03T11:18:23.653Z"
   },
   {
    "duration": 351,
    "start_time": "2022-03-03T11:18:23.678Z"
   },
   {
    "duration": -6038,
    "start_time": "2022-03-03T11:18:30.069Z"
   },
   {
    "duration": 13,
    "start_time": "2022-03-03T11:23:48.127Z"
   },
   {
    "duration": 29,
    "start_time": "2022-03-03T11:24:00.668Z"
   },
   {
    "duration": 25,
    "start_time": "2022-03-03T11:24:29.640Z"
   },
   {
    "duration": 4174,
    "start_time": "2022-03-03T14:24:16.589Z"
   },
   {
    "duration": 698,
    "start_time": "2022-03-03T14:24:32.117Z"
   },
   {
    "duration": 544,
    "start_time": "2022-03-03T14:24:32.817Z"
   },
   {
    "duration": 3,
    "start_time": "2022-03-03T14:24:33.363Z"
   },
   {
    "duration": 10,
    "start_time": "2022-03-03T14:24:33.368Z"
   },
   {
    "duration": 10,
    "start_time": "2022-03-03T14:24:33.381Z"
   },
   {
    "duration": 49,
    "start_time": "2022-03-03T14:24:33.393Z"
   },
   {
    "duration": 18,
    "start_time": "2022-03-03T14:24:33.444Z"
   },
   {
    "duration": 48,
    "start_time": "2022-03-03T14:24:33.464Z"
   },
   {
    "duration": 2841,
    "start_time": "2022-03-03T14:24:33.514Z"
   },
   {
    "duration": 264,
    "start_time": "2022-03-03T14:24:36.356Z"
   },
   {
    "duration": 14,
    "start_time": "2022-03-03T14:24:36.622Z"
   },
   {
    "duration": 25,
    "start_time": "2022-03-03T14:24:36.637Z"
   },
   {
    "duration": 11,
    "start_time": "2022-03-03T14:24:36.664Z"
   },
   {
    "duration": 49,
    "start_time": "2022-03-03T14:24:36.677Z"
   },
   {
    "duration": 4283,
    "start_time": "2022-03-03T14:24:53.748Z"
   },
   {
    "duration": 11,
    "start_time": "2022-03-03T14:25:19.719Z"
   },
   {
    "duration": 8,
    "start_time": "2022-03-03T14:29:59.961Z"
   },
   {
    "duration": 337,
    "start_time": "2022-03-03T14:56:37.874Z"
   },
   {
    "duration": 797,
    "start_time": "2022-03-03T15:15:06.748Z"
   },
   {
    "duration": 782,
    "start_time": "2022-03-03T15:19:01.068Z"
   },
   {
    "duration": 866,
    "start_time": "2022-03-03T15:31:40.524Z"
   },
   {
    "duration": 785,
    "start_time": "2022-03-03T15:31:48.653Z"
   },
   {
    "duration": 797,
    "start_time": "2022-03-03T15:31:55.163Z"
   },
   {
    "duration": 792,
    "start_time": "2022-03-03T15:33:09.164Z"
   },
   {
    "duration": 794,
    "start_time": "2022-03-03T15:33:29.784Z"
   },
   {
    "duration": 746,
    "start_time": "2022-03-03T15:35:07.293Z"
   },
   {
    "duration": 743,
    "start_time": "2022-03-03T15:35:20.494Z"
   },
   {
    "duration": 761,
    "start_time": "2022-03-03T15:35:33.633Z"
   },
   {
    "duration": 756,
    "start_time": "2022-03-03T15:36:07.063Z"
   },
   {
    "duration": 746,
    "start_time": "2022-03-03T15:36:19.494Z"
   },
   {
    "duration": 196,
    "start_time": "2022-03-03T15:39:00.820Z"
   },
   {
    "duration": 783,
    "start_time": "2022-03-03T15:39:31.032Z"
   },
   {
    "duration": 771,
    "start_time": "2022-03-03T15:41:18.200Z"
   },
   {
    "duration": 746,
    "start_time": "2022-03-03T15:41:40.849Z"
   },
   {
    "duration": 31258,
    "start_time": "2022-03-03T15:43:28.292Z"
   },
   {
    "duration": 784,
    "start_time": "2022-03-03T15:45:29.980Z"
   },
   {
    "duration": 752,
    "start_time": "2022-03-03T15:45:50.434Z"
   },
   {
    "duration": 678,
    "start_time": "2022-03-03T15:51:49.502Z"
   },
   {
    "duration": 478,
    "start_time": "2022-03-03T15:51:50.182Z"
   },
   {
    "duration": 3,
    "start_time": "2022-03-03T15:51:50.663Z"
   },
   {
    "duration": 14,
    "start_time": "2022-03-03T15:51:50.668Z"
   },
   {
    "duration": 9,
    "start_time": "2022-03-03T15:51:50.684Z"
   },
   {
    "duration": 44,
    "start_time": "2022-03-03T15:51:50.695Z"
   },
   {
    "duration": 16,
    "start_time": "2022-03-03T15:51:50.742Z"
   },
   {
    "duration": 49,
    "start_time": "2022-03-03T15:51:50.762Z"
   },
   {
    "duration": 2851,
    "start_time": "2022-03-03T15:51:50.814Z"
   },
   {
    "duration": 262,
    "start_time": "2022-03-03T15:51:53.667Z"
   },
   {
    "duration": 15,
    "start_time": "2022-03-03T15:51:53.931Z"
   },
   {
    "duration": 25,
    "start_time": "2022-03-03T15:51:53.948Z"
   },
   {
    "duration": 34,
    "start_time": "2022-03-03T15:51:53.975Z"
   },
   {
    "duration": 27,
    "start_time": "2022-03-03T15:51:54.012Z"
   },
   {
    "duration": 10,
    "start_time": "2022-03-03T15:51:54.040Z"
   },
   {
    "duration": 282,
    "start_time": "2022-03-03T15:51:54.052Z"
   },
   {
    "duration": -2896,
    "start_time": "2022-03-03T15:51:57.232Z"
   },
   {
    "duration": 179,
    "start_time": "2022-03-03T15:52:38.922Z"
   },
   {
    "duration": 778,
    "start_time": "2022-03-03T15:53:02.313Z"
   },
   {
    "duration": 31976,
    "start_time": "2022-03-03T15:53:12.980Z"
   },
   {
    "duration": 67,
    "start_time": "2022-03-03T16:48:36.206Z"
   },
   {
    "duration": 84,
    "start_time": "2022-03-03T16:48:56.056Z"
   },
   {
    "duration": 58,
    "start_time": "2022-03-03T16:49:05.550Z"
   },
   {
    "duration": 27,
    "start_time": "2022-03-03T16:49:19.176Z"
   },
   {
    "duration": 746,
    "start_time": "2022-03-03T16:49:27.055Z"
   },
   {
    "duration": 184,
    "start_time": "2022-03-03T16:49:47.053Z"
   },
   {
    "duration": 36749,
    "start_time": "2022-03-03T16:50:02.295Z"
   },
   {
    "duration": 253,
    "start_time": "2022-03-03T17:01:49.608Z"
   },
   {
    "duration": 3,
    "start_time": "2022-03-03T17:03:58.574Z"
   },
   {
    "duration": 5,
    "start_time": "2022-03-03T17:03:58.580Z"
   },
   {
    "duration": 11,
    "start_time": "2022-03-03T17:03:58.588Z"
   },
   {
    "duration": 7,
    "start_time": "2022-03-03T17:03:58.601Z"
   },
   {
    "duration": 6,
    "start_time": "2022-03-03T17:03:58.610Z"
   },
   {
    "duration": 28,
    "start_time": "2022-03-03T17:03:58.712Z"
   },
   {
    "duration": 14,
    "start_time": "2022-03-03T17:03:58.742Z"
   },
   {
    "duration": 47,
    "start_time": "2022-03-03T17:03:58.758Z"
   },
   {
    "duration": 3044,
    "start_time": "2022-03-03T17:03:58.807Z"
   },
   {
    "duration": 278,
    "start_time": "2022-03-03T17:04:01.854Z"
   },
   {
    "duration": 16,
    "start_time": "2022-03-03T17:04:02.134Z"
   },
   {
    "duration": 32,
    "start_time": "2022-03-03T17:04:02.153Z"
   },
   {
    "duration": 12,
    "start_time": "2022-03-03T17:04:02.201Z"
   },
   {
    "duration": 66,
    "start_time": "2022-03-03T17:04:02.215Z"
   },
   {
    "duration": 8,
    "start_time": "2022-03-03T17:04:02.283Z"
   },
   {
    "duration": 107,
    "start_time": "2022-03-03T17:04:02.293Z"
   },
   {
    "duration": 701,
    "start_time": "2022-03-03T17:04:41.121Z"
   },
   {
    "duration": 541,
    "start_time": "2022-03-03T17:04:41.824Z"
   },
   {
    "duration": 3,
    "start_time": "2022-03-03T17:04:42.368Z"
   },
   {
    "duration": 7,
    "start_time": "2022-03-03T17:04:42.373Z"
   },
   {
    "duration": 19,
    "start_time": "2022-03-03T17:04:42.382Z"
   },
   {
    "duration": 34,
    "start_time": "2022-03-03T17:04:42.403Z"
   },
   {
    "duration": 18,
    "start_time": "2022-03-03T17:04:42.439Z"
   },
   {
    "duration": 66,
    "start_time": "2022-03-03T17:04:42.459Z"
   },
   {
    "duration": 3299,
    "start_time": "2022-03-03T17:04:42.528Z"
   },
   {
    "duration": 275,
    "start_time": "2022-03-03T17:04:45.830Z"
   },
   {
    "duration": 21,
    "start_time": "2022-03-03T17:04:46.107Z"
   },
   {
    "duration": 30,
    "start_time": "2022-03-03T17:04:46.131Z"
   },
   {
    "duration": 45,
    "start_time": "2022-03-03T17:04:46.164Z"
   },
   {
    "duration": 41,
    "start_time": "2022-03-03T17:04:46.212Z"
   },
   {
    "duration": 16,
    "start_time": "2022-03-03T17:04:46.256Z"
   },
   {
    "duration": 131,
    "start_time": "2022-03-03T17:04:46.274Z"
   },
   {
    "duration": 38706,
    "start_time": "2022-03-03T17:04:46.407Z"
   },
   {
    "duration": 799,
    "start_time": "2022-03-03T17:05:25.115Z"
   },
   {
    "duration": 388,
    "start_time": "2022-03-03T17:05:25.916Z"
   },
   {
    "duration": -2330,
    "start_time": "2022-03-03T17:05:28.636Z"
   },
   {
    "duration": -2334,
    "start_time": "2022-03-03T17:05:28.641Z"
   },
   {
    "duration": -2337,
    "start_time": "2022-03-03T17:05:28.646Z"
   },
   {
    "duration": -2344,
    "start_time": "2022-03-03T17:05:28.653Z"
   },
   {
    "duration": -2347,
    "start_time": "2022-03-03T17:05:28.658Z"
   },
   {
    "duration": -2351,
    "start_time": "2022-03-03T17:05:28.662Z"
   },
   {
    "duration": -2355,
    "start_time": "2022-03-03T17:05:28.667Z"
   },
   {
    "duration": -2459,
    "start_time": "2022-03-03T17:05:28.772Z"
   },
   {
    "duration": -2465,
    "start_time": "2022-03-03T17:05:28.779Z"
   },
   {
    "duration": -2469,
    "start_time": "2022-03-03T17:05:28.784Z"
   },
   {
    "duration": -2472,
    "start_time": "2022-03-03T17:05:28.788Z"
   },
   {
    "duration": 3,
    "start_time": "2022-03-03T17:06:01.953Z"
   },
   {
    "duration": 259,
    "start_time": "2022-03-03T17:06:10.453Z"
   },
   {
    "duration": 3,
    "start_time": "2022-03-03T17:06:34.712Z"
   },
   {
    "duration": 261,
    "start_time": "2022-03-03T17:06:48.582Z"
   },
   {
    "duration": 3,
    "start_time": "2022-03-03T17:07:11.180Z"
   },
   {
    "duration": 514,
    "start_time": "2022-03-03T17:07:17.083Z"
   },
   {
    "duration": 476,
    "start_time": "2022-03-03T17:08:17.953Z"
   },
   {
    "duration": 455,
    "start_time": "2022-03-03T17:12:29.914Z"
   },
   {
    "duration": 405,
    "start_time": "2022-03-03T17:13:16.852Z"
   },
   {
    "duration": 3,
    "start_time": "2022-03-03T17:13:43.202Z"
   },
   {
    "duration": 790,
    "start_time": "2022-03-03T17:13:59.043Z"
   },
   {
    "duration": 979,
    "start_time": "2022-03-03T17:25:45.263Z"
   },
   {
    "duration": 1005,
    "start_time": "2022-03-03T17:27:33.452Z"
   },
   {
    "duration": 841,
    "start_time": "2022-03-03T17:30:59.502Z"
   },
   {
    "duration": 953,
    "start_time": "2022-03-03T17:32:01.285Z"
   },
   {
    "duration": 990,
    "start_time": "2022-03-03T17:33:01.402Z"
   },
   {
    "duration": 790,
    "start_time": "2022-03-03T17:33:30.076Z"
   },
   {
    "duration": 797,
    "start_time": "2022-03-03T17:36:58.563Z"
   },
   {
    "duration": 803,
    "start_time": "2022-03-03T17:39:09.225Z"
   },
   {
    "duration": 880,
    "start_time": "2022-03-03T17:42:50.162Z"
   },
   {
    "duration": 847,
    "start_time": "2022-03-03T17:57:32.461Z"
   },
   {
    "duration": 804,
    "start_time": "2022-03-03T17:58:41.709Z"
   },
   {
    "duration": 16,
    "start_time": "2022-03-03T18:19:16.792Z"
   },
   {
    "duration": 17,
    "start_time": "2022-03-03T18:19:42.358Z"
   },
   {
    "duration": 656,
    "start_time": "2022-03-03T18:30:20.920Z"
   },
   {
    "duration": 479,
    "start_time": "2022-03-03T18:30:21.578Z"
   },
   {
    "duration": 3,
    "start_time": "2022-03-03T18:30:22.059Z"
   },
   {
    "duration": 6,
    "start_time": "2022-03-03T18:30:22.064Z"
   },
   {
    "duration": 7,
    "start_time": "2022-03-03T18:30:22.072Z"
   },
   {
    "duration": 42,
    "start_time": "2022-03-03T18:30:22.081Z"
   },
   {
    "duration": 17,
    "start_time": "2022-03-03T18:30:22.125Z"
   },
   {
    "duration": 58,
    "start_time": "2022-03-03T18:30:22.144Z"
   },
   {
    "duration": 2828,
    "start_time": "2022-03-03T18:30:22.205Z"
   },
   {
    "duration": 269,
    "start_time": "2022-03-03T18:30:25.035Z"
   },
   {
    "duration": 13,
    "start_time": "2022-03-03T18:30:25.306Z"
   },
   {
    "duration": 21,
    "start_time": "2022-03-03T18:30:25.321Z"
   },
   {
    "duration": 10,
    "start_time": "2022-03-03T18:30:25.344Z"
   },
   {
    "duration": 57,
    "start_time": "2022-03-03T18:30:25.356Z"
   },
   {
    "duration": 11,
    "start_time": "2022-03-03T18:30:25.415Z"
   },
   {
    "duration": 79,
    "start_time": "2022-03-03T18:30:25.428Z"
   },
   {
    "duration": 36329,
    "start_time": "2022-03-03T18:30:25.510Z"
   },
   {
    "duration": 789,
    "start_time": "2022-03-03T18:31:01.841Z"
   },
   {
    "duration": 878,
    "start_time": "2022-03-03T18:31:02.633Z"
   },
   {
    "duration": 808,
    "start_time": "2022-03-03T18:31:03.514Z"
   },
   {
    "duration": 17,
    "start_time": "2022-03-03T18:31:04.325Z"
   },
   {
    "duration": 872,
    "start_time": "2022-03-03T18:31:04.344Z"
   },
   {
    "duration": 17,
    "start_time": "2022-03-03T18:31:05.218Z"
   },
   {
    "duration": 879,
    "start_time": "2022-03-03T18:31:05.237Z"
   },
   {
    "duration": 255,
    "start_time": "2022-03-03T18:31:06.118Z"
   },
   {
    "duration": -5393,
    "start_time": "2022-03-03T18:31:11.768Z"
   },
   {
    "duration": -5396,
    "start_time": "2022-03-03T18:31:11.772Z"
   },
   {
    "duration": -5399,
    "start_time": "2022-03-03T18:31:11.776Z"
   },
   {
    "duration": 680,
    "start_time": "2022-03-03T18:51:01.332Z"
   },
   {
    "duration": 552,
    "start_time": "2022-03-03T18:51:02.014Z"
   },
   {
    "duration": 4,
    "start_time": "2022-03-03T18:51:02.569Z"
   },
   {
    "duration": 15,
    "start_time": "2022-03-03T18:51:02.575Z"
   },
   {
    "duration": 14,
    "start_time": "2022-03-03T18:51:02.592Z"
   },
   {
    "duration": 48,
    "start_time": "2022-03-03T18:51:02.608Z"
   },
   {
    "duration": 18,
    "start_time": "2022-03-03T18:51:02.658Z"
   },
   {
    "duration": 59,
    "start_time": "2022-03-03T18:51:02.678Z"
   },
   {
    "duration": 2833,
    "start_time": "2022-03-03T18:51:02.742Z"
   },
   {
    "duration": 259,
    "start_time": "2022-03-03T18:51:05.578Z"
   },
   {
    "duration": 17,
    "start_time": "2022-03-03T18:51:05.839Z"
   },
   {
    "duration": 44,
    "start_time": "2022-03-03T18:51:05.858Z"
   },
   {
    "duration": 11,
    "start_time": "2022-03-03T18:51:05.905Z"
   },
   {
    "duration": 27,
    "start_time": "2022-03-03T18:51:05.918Z"
   },
   {
    "duration": 10,
    "start_time": "2022-03-03T18:51:05.947Z"
   },
   {
    "duration": 58,
    "start_time": "2022-03-03T18:51:05.960Z"
   },
   {
    "duration": 37563,
    "start_time": "2022-03-03T18:51:06.105Z"
   },
   {
    "duration": 780,
    "start_time": "2022-03-03T18:51:43.670Z"
   },
   {
    "duration": 868,
    "start_time": "2022-03-03T18:51:44.452Z"
   },
   {
    "duration": 790,
    "start_time": "2022-03-03T18:51:45.322Z"
   },
   {
    "duration": 16,
    "start_time": "2022-03-03T18:51:46.114Z"
   },
   {
    "duration": 1007,
    "start_time": "2022-03-03T18:51:46.132Z"
   },
   {
    "duration": 17,
    "start_time": "2022-03-03T18:51:47.141Z"
   },
   {
    "duration": 730,
    "start_time": "2022-03-03T18:51:47.160Z"
   },
   {
    "duration": 259,
    "start_time": "2022-03-03T18:51:47.892Z"
   },
   {
    "duration": -2569,
    "start_time": "2022-03-03T18:51:50.722Z"
   },
   {
    "duration": 838,
    "start_time": "2022-03-03T19:06:14.487Z"
   },
   {
    "duration": 661,
    "start_time": "2022-03-03T19:06:15.328Z"
   },
   {
    "duration": 9,
    "start_time": "2022-03-03T19:06:15.992Z"
   },
   {
    "duration": 53,
    "start_time": "2022-03-03T19:06:16.005Z"
   },
   {
    "duration": 24,
    "start_time": "2022-03-03T19:06:16.061Z"
   },
   {
    "duration": 48,
    "start_time": "2022-03-03T19:06:16.087Z"
   },
   {
    "duration": 17,
    "start_time": "2022-03-03T19:06:16.138Z"
   },
   {
    "duration": 62,
    "start_time": "2022-03-03T19:06:16.158Z"
   },
   {
    "duration": 3249,
    "start_time": "2022-03-03T19:06:16.222Z"
   },
   {
    "duration": 370,
    "start_time": "2022-03-03T19:06:19.474Z"
   },
   {
    "duration": 19,
    "start_time": "2022-03-03T19:06:19.846Z"
   },
   {
    "duration": 41,
    "start_time": "2022-03-03T19:06:19.868Z"
   },
   {
    "duration": 15,
    "start_time": "2022-03-03T19:06:19.911Z"
   },
   {
    "duration": 37,
    "start_time": "2022-03-03T19:06:19.932Z"
   },
   {
    "duration": 35,
    "start_time": "2022-03-03T19:06:19.971Z"
   },
   {
    "duration": 37,
    "start_time": "2022-03-03T19:06:20.008Z"
   },
   {
    "duration": 39921,
    "start_time": "2022-03-03T19:06:20.103Z"
   },
   {
    "duration": 807,
    "start_time": "2022-03-03T19:07:00.026Z"
   },
   {
    "duration": 880,
    "start_time": "2022-03-03T19:07:00.835Z"
   },
   {
    "duration": 846,
    "start_time": "2022-03-03T19:07:01.717Z"
   },
   {
    "duration": 17,
    "start_time": "2022-03-03T19:07:02.565Z"
   },
   {
    "duration": 947,
    "start_time": "2022-03-03T19:07:02.584Z"
   },
   {
    "duration": 16,
    "start_time": "2022-03-03T19:07:03.535Z"
   },
   {
    "duration": 741,
    "start_time": "2022-03-03T19:07:03.553Z"
   },
   {
    "duration": 686,
    "start_time": "2022-03-03T19:16:19.366Z"
   },
   {
    "duration": 503,
    "start_time": "2022-03-03T19:16:20.054Z"
   },
   {
    "duration": 3,
    "start_time": "2022-03-03T19:16:20.561Z"
   },
   {
    "duration": 7,
    "start_time": "2022-03-03T19:16:20.567Z"
   },
   {
    "duration": 10,
    "start_time": "2022-03-03T19:16:20.576Z"
   },
   {
    "duration": 42,
    "start_time": "2022-03-03T19:16:20.588Z"
   },
   {
    "duration": 16,
    "start_time": "2022-03-03T19:16:20.632Z"
   },
   {
    "duration": 60,
    "start_time": "2022-03-03T19:16:20.650Z"
   },
   {
    "duration": 3022,
    "start_time": "2022-03-03T19:16:20.713Z"
   },
   {
    "duration": 256,
    "start_time": "2022-03-03T19:16:23.738Z"
   },
   {
    "duration": 15,
    "start_time": "2022-03-03T19:16:23.996Z"
   },
   {
    "duration": 22,
    "start_time": "2022-03-03T19:16:24.013Z"
   },
   {
    "duration": 11,
    "start_time": "2022-03-03T19:16:24.037Z"
   },
   {
    "duration": 52,
    "start_time": "2022-03-03T19:16:24.050Z"
   },
   {
    "duration": 12,
    "start_time": "2022-03-03T19:16:24.103Z"
   },
   {
    "duration": 25,
    "start_time": "2022-03-03T19:16:24.117Z"
   },
   {
    "duration": 37865,
    "start_time": "2022-03-03T19:16:24.204Z"
   },
   {
    "duration": 896,
    "start_time": "2022-03-03T19:17:02.071Z"
   },
   {
    "duration": 920,
    "start_time": "2022-03-03T19:17:02.969Z"
   },
   {
    "duration": 830,
    "start_time": "2022-03-03T19:17:03.891Z"
   },
   {
    "duration": 16,
    "start_time": "2022-03-03T19:17:04.723Z"
   },
   {
    "duration": 986,
    "start_time": "2022-03-03T19:17:04.741Z"
   },
   {
    "duration": 17,
    "start_time": "2022-03-03T19:17:05.729Z"
   },
   {
    "duration": 717,
    "start_time": "2022-03-03T19:17:05.747Z"
   },
   {
    "duration": 126805,
    "start_time": "2022-03-03T19:17:06.466Z"
   },
   {
    "duration": 973,
    "start_time": "2022-03-03T19:20:26.942Z"
   },
   {
    "duration": 955,
    "start_time": "2022-03-03T19:20:50.462Z"
   },
   {
    "duration": 794,
    "start_time": "2022-03-03T19:21:11.189Z"
   },
   {
    "duration": 209698,
    "start_time": "2022-03-03T19:23:23.637Z"
   },
   {
    "duration": 1373,
    "start_time": "2022-03-03T19:29:24.478Z"
   },
   {
    "duration": 1427,
    "start_time": "2022-03-03T19:30:13.406Z"
   },
   {
    "duration": 23783,
    "start_time": "2022-03-03T19:30:57.557Z"
   },
   {
    "duration": 5913,
    "start_time": "2022-03-03T19:36:27.629Z"
   },
   {
    "duration": 348,
    "start_time": "2022-03-03T19:36:54.973Z"
   },
   {
    "duration": 285,
    "start_time": "2022-03-03T19:37:24.798Z"
   },
   {
    "duration": 18168,
    "start_time": "2022-03-03T19:38:23.357Z"
   },
   {
    "duration": 19241,
    "start_time": "2022-03-03T19:41:55.902Z"
   },
   {
    "duration": 4805,
    "start_time": "2022-03-03T19:42:55.552Z"
   },
   {
    "duration": 4789,
    "start_time": "2022-03-03T19:47:29.948Z"
   },
   {
    "duration": 5343,
    "start_time": "2022-03-03T20:05:36.199Z"
   },
   {
    "duration": 653,
    "start_time": "2022-03-03T20:18:10.944Z"
   },
   {
    "duration": 489,
    "start_time": "2022-03-03T20:18:11.601Z"
   },
   {
    "duration": 3,
    "start_time": "2022-03-03T20:18:12.092Z"
   },
   {
    "duration": 3,
    "start_time": "2022-03-03T20:18:12.102Z"
   },
   {
    "duration": 7,
    "start_time": "2022-03-03T20:18:12.107Z"
   },
   {
    "duration": 37,
    "start_time": "2022-03-03T20:18:12.115Z"
   },
   {
    "duration": 17,
    "start_time": "2022-03-03T20:18:12.153Z"
   },
   {
    "duration": 62,
    "start_time": "2022-03-03T20:18:12.172Z"
   },
   {
    "duration": 2828,
    "start_time": "2022-03-03T20:18:12.237Z"
   },
   {
    "duration": 264,
    "start_time": "2022-03-03T20:18:15.067Z"
   },
   {
    "duration": 16,
    "start_time": "2022-03-03T20:18:15.333Z"
   },
   {
    "duration": 28,
    "start_time": "2022-03-03T20:18:15.351Z"
   },
   {
    "duration": 28,
    "start_time": "2022-03-03T20:18:15.381Z"
   },
   {
    "duration": 27,
    "start_time": "2022-03-03T20:18:15.411Z"
   },
   {
    "duration": 10,
    "start_time": "2022-03-03T20:18:15.440Z"
   },
   {
    "duration": 151,
    "start_time": "2022-03-03T20:18:15.451Z"
   },
   {
    "duration": 36752,
    "start_time": "2022-03-03T20:18:15.604Z"
   },
   {
    "duration": 791,
    "start_time": "2022-03-03T20:18:52.358Z"
   },
   {
    "duration": 762,
    "start_time": "2022-03-03T20:18:53.152Z"
   },
   {
    "duration": 733,
    "start_time": "2022-03-03T20:18:53.916Z"
   },
   {
    "duration": 16,
    "start_time": "2022-03-03T20:18:54.651Z"
   },
   {
    "duration": 902,
    "start_time": "2022-03-03T20:18:54.670Z"
   },
   {
    "duration": 27,
    "start_time": "2022-03-03T20:18:55.574Z"
   },
   {
    "duration": 620,
    "start_time": "2022-03-03T20:18:55.603Z"
   },
   {
    "duration": 205859,
    "start_time": "2022-03-03T20:18:56.225Z"
   },
   {
    "duration": 1356,
    "start_time": "2022-03-03T20:22:22.086Z"
   },
   {
    "duration": 17776,
    "start_time": "2022-03-03T20:22:23.445Z"
   },
   {
    "duration": 18771,
    "start_time": "2022-03-03T20:22:41.223Z"
   },
   {
    "duration": 5463,
    "start_time": "2022-03-03T20:23:00.002Z"
   },
   {
    "duration": 1611,
    "start_time": "2022-03-03T20:23:05.470Z"
   },
   {
    "duration": 18436,
    "start_time": "2022-03-03T20:23:22.315Z"
   },
   {
    "duration": 5161,
    "start_time": "2022-03-03T20:24:11.928Z"
   }
  ],
  "kernelspec": {
   "display_name": "Python 3 (ipykernel)",
   "language": "python",
   "name": "python3"
  },
  "language_info": {
   "codemirror_mode": {
    "name": "ipython",
    "version": 3
   },
   "file_extension": ".py",
   "mimetype": "text/x-python",
   "name": "python",
   "nbconvert_exporter": "python",
   "pygments_lexer": "ipython3",
   "version": "3.9.5"
  },
  "toc": {
   "base_numbering": 1,
   "nav_menu": {},
   "number_sections": true,
   "sideBar": true,
   "skip_h1_title": true,
   "title_cell": "Содержание",
   "title_sidebar": "Contents",
   "toc_cell": true,
   "toc_position": {
    "height": "544.444px",
    "left": "58px",
    "top": "111.441px",
    "width": "285.99px"
   },
   "toc_section_display": true,
   "toc_window_display": true
  }
 },
 "nbformat": 4,
 "nbformat_minor": 2
}
