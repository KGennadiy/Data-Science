{
 "cells": [
  {
   "cell_type": "markdown",
   "metadata": {},
   "source": [
    "# Выбор локации для скважины"
   ]
  },
  {
   "cell_type": "markdown",
   "metadata": {},
   "source": [
    "Допустим, вы работаете в добывающей компании «ГлавРосГосНефть». Нужно решить, где бурить новую скважину.\n",
    "\n",
    "Вам предоставлены пробы нефти в трёх регионах: в каждом 10 000 месторождений, где измерили качество нефти и объём её запасов. Постройте модель машинного обучения, которая поможет определить регион, где добыча принесёт наибольшую прибыль. Проанализируйте возможную прибыль и риски техникой *Bootstrap.*\n",
    "\n",
    "Шаги для выбора локации:\n",
    "\n",
    "- В избранном регионе ищут месторождения, для каждого определяют значения признаков;\n",
    "- Строят модель и оценивают объём запасов;\n",
    "- Выбирают месторождения с самым высокими оценками значений. Количество месторождений зависит от бюджета компании и стоимости разработки одной скважины;\n",
    "- Прибыль равна суммарной прибыли отобранных месторождений."
   ]
  },
  {
   "cell_type": "markdown",
   "metadata": {},
   "source": [
    "## Загрузка и подготовка данных"
   ]
  },
  {
   "cell_type": "code",
   "execution_count": 1,
   "metadata": {},
   "outputs": [],
   "source": [
    "# Импорт библиотек\n",
    "import pandas as pd\n",
    "import numpy as np\n",
    "import matplotlib.pyplot as plt\n",
    "\n",
    "from sklearn.model_selection import train_test_split\n",
    "from sklearn.preprocessing import StandardScaler\n",
    "from sklearn.linear_model import LinearRegression\n",
    "from sklearn.metrics import mean_squared_error\n",
    "from sklearn.metrics import r2_score\n",
    "\n",
    "import random\n",
    "\n",
    "import warnings\n",
    "warnings.filterwarnings('ignore') "
   ]
  },
  {
   "cell_type": "code",
   "execution_count": 2,
   "metadata": {},
   "outputs": [],
   "source": [
    "# Загрузка данных\n",
    "df0 = pd.read_csv('/datasets/geo_data_0.csv')\n",
    "df1 = pd.read_csv('/datasets/geo_data_1.csv')\n",
    "df2 = pd.read_csv('/datasets/geo_data_2.csv')"
   ]
  },
  {
   "cell_type": "code",
   "execution_count": 3,
   "metadata": {},
   "outputs": [
    {
     "name": "stdout",
     "output_type": "stream",
     "text": [
      "<class 'pandas.core.frame.DataFrame'>\n",
      "RangeIndex: 100000 entries, 0 to 99999\n",
      "Data columns (total 5 columns):\n",
      " #   Column   Non-Null Count   Dtype  \n",
      "---  ------   --------------   -----  \n",
      " 0   id       100000 non-null  object \n",
      " 1   f0       100000 non-null  float64\n",
      " 2   f1       100000 non-null  float64\n",
      " 3   f2       100000 non-null  float64\n",
      " 4   product  100000 non-null  float64\n",
      "dtypes: float64(4), object(1)\n",
      "memory usage: 3.8+ MB\n"
     ]
    },
    {
     "data": {
      "text/plain": [
       "None"
      ]
     },
     "metadata": {},
     "output_type": "display_data"
    },
    {
     "data": {
      "text/html": [
       "<div>\n",
       "<style scoped>\n",
       "    .dataframe tbody tr th:only-of-type {\n",
       "        vertical-align: middle;\n",
       "    }\n",
       "\n",
       "    .dataframe tbody tr th {\n",
       "        vertical-align: top;\n",
       "    }\n",
       "\n",
       "    .dataframe thead th {\n",
       "        text-align: right;\n",
       "    }\n",
       "</style>\n",
       "<table border=\"1\" class=\"dataframe\">\n",
       "  <thead>\n",
       "    <tr style=\"text-align: right;\">\n",
       "      <th></th>\n",
       "      <th>id</th>\n",
       "      <th>f0</th>\n",
       "      <th>f1</th>\n",
       "      <th>f2</th>\n",
       "      <th>product</th>\n",
       "    </tr>\n",
       "  </thead>\n",
       "  <tbody>\n",
       "    <tr>\n",
       "      <th>0</th>\n",
       "      <td>txEyH</td>\n",
       "      <td>0.705745</td>\n",
       "      <td>-0.497823</td>\n",
       "      <td>1.221170</td>\n",
       "      <td>105.280062</td>\n",
       "    </tr>\n",
       "    <tr>\n",
       "      <th>1</th>\n",
       "      <td>2acmU</td>\n",
       "      <td>1.334711</td>\n",
       "      <td>-0.340164</td>\n",
       "      <td>4.365080</td>\n",
       "      <td>73.037750</td>\n",
       "    </tr>\n",
       "    <tr>\n",
       "      <th>2</th>\n",
       "      <td>409Wp</td>\n",
       "      <td>1.022732</td>\n",
       "      <td>0.151990</td>\n",
       "      <td>1.419926</td>\n",
       "      <td>85.265647</td>\n",
       "    </tr>\n",
       "    <tr>\n",
       "      <th>3</th>\n",
       "      <td>iJLyR</td>\n",
       "      <td>-0.032172</td>\n",
       "      <td>0.139033</td>\n",
       "      <td>2.978566</td>\n",
       "      <td>168.620776</td>\n",
       "    </tr>\n",
       "    <tr>\n",
       "      <th>4</th>\n",
       "      <td>Xdl7t</td>\n",
       "      <td>1.988431</td>\n",
       "      <td>0.155413</td>\n",
       "      <td>4.751769</td>\n",
       "      <td>154.036647</td>\n",
       "    </tr>\n",
       "  </tbody>\n",
       "</table>\n",
       "</div>"
      ],
      "text/plain": [
       "      id        f0        f1        f2     product\n",
       "0  txEyH  0.705745 -0.497823  1.221170  105.280062\n",
       "1  2acmU  1.334711 -0.340164  4.365080   73.037750\n",
       "2  409Wp  1.022732  0.151990  1.419926   85.265647\n",
       "3  iJLyR -0.032172  0.139033  2.978566  168.620776\n",
       "4  Xdl7t  1.988431  0.155413  4.751769  154.036647"
      ]
     },
     "execution_count": 3,
     "metadata": {},
     "output_type": "execute_result"
    }
   ],
   "source": [
    "# Изучение df0\n",
    "display(df0.info())\n",
    "df0.head()"
   ]
  },
  {
   "cell_type": "code",
   "execution_count": 4,
   "metadata": {},
   "outputs": [
    {
     "name": "stdout",
     "output_type": "stream",
     "text": [
      "<class 'pandas.core.frame.DataFrame'>\n",
      "RangeIndex: 100000 entries, 0 to 99999\n",
      "Data columns (total 5 columns):\n",
      " #   Column   Non-Null Count   Dtype  \n",
      "---  ------   --------------   -----  \n",
      " 0   id       100000 non-null  object \n",
      " 1   f0       100000 non-null  float64\n",
      " 2   f1       100000 non-null  float64\n",
      " 3   f2       100000 non-null  float64\n",
      " 4   product  100000 non-null  float64\n",
      "dtypes: float64(4), object(1)\n",
      "memory usage: 3.8+ MB\n"
     ]
    },
    {
     "data": {
      "text/plain": [
       "None"
      ]
     },
     "metadata": {},
     "output_type": "display_data"
    },
    {
     "data": {
      "text/html": [
       "<div>\n",
       "<style scoped>\n",
       "    .dataframe tbody tr th:only-of-type {\n",
       "        vertical-align: middle;\n",
       "    }\n",
       "\n",
       "    .dataframe tbody tr th {\n",
       "        vertical-align: top;\n",
       "    }\n",
       "\n",
       "    .dataframe thead th {\n",
       "        text-align: right;\n",
       "    }\n",
       "</style>\n",
       "<table border=\"1\" class=\"dataframe\">\n",
       "  <thead>\n",
       "    <tr style=\"text-align: right;\">\n",
       "      <th></th>\n",
       "      <th>id</th>\n",
       "      <th>f0</th>\n",
       "      <th>f1</th>\n",
       "      <th>f2</th>\n",
       "      <th>product</th>\n",
       "    </tr>\n",
       "  </thead>\n",
       "  <tbody>\n",
       "    <tr>\n",
       "      <th>0</th>\n",
       "      <td>kBEdx</td>\n",
       "      <td>-15.001348</td>\n",
       "      <td>-8.276000</td>\n",
       "      <td>-0.005876</td>\n",
       "      <td>3.179103</td>\n",
       "    </tr>\n",
       "    <tr>\n",
       "      <th>1</th>\n",
       "      <td>62mP7</td>\n",
       "      <td>14.272088</td>\n",
       "      <td>-3.475083</td>\n",
       "      <td>0.999183</td>\n",
       "      <td>26.953261</td>\n",
       "    </tr>\n",
       "    <tr>\n",
       "      <th>2</th>\n",
       "      <td>vyE1P</td>\n",
       "      <td>6.263187</td>\n",
       "      <td>-5.948386</td>\n",
       "      <td>5.001160</td>\n",
       "      <td>134.766305</td>\n",
       "    </tr>\n",
       "    <tr>\n",
       "      <th>3</th>\n",
       "      <td>KcrkZ</td>\n",
       "      <td>-13.081196</td>\n",
       "      <td>-11.506057</td>\n",
       "      <td>4.999415</td>\n",
       "      <td>137.945408</td>\n",
       "    </tr>\n",
       "    <tr>\n",
       "      <th>4</th>\n",
       "      <td>AHL4O</td>\n",
       "      <td>12.702195</td>\n",
       "      <td>-8.147433</td>\n",
       "      <td>5.004363</td>\n",
       "      <td>134.766305</td>\n",
       "    </tr>\n",
       "  </tbody>\n",
       "</table>\n",
       "</div>"
      ],
      "text/plain": [
       "      id         f0         f1        f2     product\n",
       "0  kBEdx -15.001348  -8.276000 -0.005876    3.179103\n",
       "1  62mP7  14.272088  -3.475083  0.999183   26.953261\n",
       "2  vyE1P   6.263187  -5.948386  5.001160  134.766305\n",
       "3  KcrkZ -13.081196 -11.506057  4.999415  137.945408\n",
       "4  AHL4O  12.702195  -8.147433  5.004363  134.766305"
      ]
     },
     "execution_count": 4,
     "metadata": {},
     "output_type": "execute_result"
    }
   ],
   "source": [
    "# Изучение df1\n",
    "display(df1.info())\n",
    "df1.head()"
   ]
  },
  {
   "cell_type": "code",
   "execution_count": 5,
   "metadata": {},
   "outputs": [
    {
     "name": "stdout",
     "output_type": "stream",
     "text": [
      "<class 'pandas.core.frame.DataFrame'>\n",
      "RangeIndex: 100000 entries, 0 to 99999\n",
      "Data columns (total 5 columns):\n",
      " #   Column   Non-Null Count   Dtype  \n",
      "---  ------   --------------   -----  \n",
      " 0   id       100000 non-null  object \n",
      " 1   f0       100000 non-null  float64\n",
      " 2   f1       100000 non-null  float64\n",
      " 3   f2       100000 non-null  float64\n",
      " 4   product  100000 non-null  float64\n",
      "dtypes: float64(4), object(1)\n",
      "memory usage: 3.8+ MB\n"
     ]
    },
    {
     "data": {
      "text/plain": [
       "None"
      ]
     },
     "metadata": {},
     "output_type": "display_data"
    },
    {
     "data": {
      "text/html": [
       "<div>\n",
       "<style scoped>\n",
       "    .dataframe tbody tr th:only-of-type {\n",
       "        vertical-align: middle;\n",
       "    }\n",
       "\n",
       "    .dataframe tbody tr th {\n",
       "        vertical-align: top;\n",
       "    }\n",
       "\n",
       "    .dataframe thead th {\n",
       "        text-align: right;\n",
       "    }\n",
       "</style>\n",
       "<table border=\"1\" class=\"dataframe\">\n",
       "  <thead>\n",
       "    <tr style=\"text-align: right;\">\n",
       "      <th></th>\n",
       "      <th>id</th>\n",
       "      <th>f0</th>\n",
       "      <th>f1</th>\n",
       "      <th>f2</th>\n",
       "      <th>product</th>\n",
       "    </tr>\n",
       "  </thead>\n",
       "  <tbody>\n",
       "    <tr>\n",
       "      <th>0</th>\n",
       "      <td>kBEdx</td>\n",
       "      <td>-15.001348</td>\n",
       "      <td>-8.276000</td>\n",
       "      <td>-0.005876</td>\n",
       "      <td>3.179103</td>\n",
       "    </tr>\n",
       "    <tr>\n",
       "      <th>1</th>\n",
       "      <td>62mP7</td>\n",
       "      <td>14.272088</td>\n",
       "      <td>-3.475083</td>\n",
       "      <td>0.999183</td>\n",
       "      <td>26.953261</td>\n",
       "    </tr>\n",
       "    <tr>\n",
       "      <th>2</th>\n",
       "      <td>vyE1P</td>\n",
       "      <td>6.263187</td>\n",
       "      <td>-5.948386</td>\n",
       "      <td>5.001160</td>\n",
       "      <td>134.766305</td>\n",
       "    </tr>\n",
       "    <tr>\n",
       "      <th>3</th>\n",
       "      <td>KcrkZ</td>\n",
       "      <td>-13.081196</td>\n",
       "      <td>-11.506057</td>\n",
       "      <td>4.999415</td>\n",
       "      <td>137.945408</td>\n",
       "    </tr>\n",
       "    <tr>\n",
       "      <th>4</th>\n",
       "      <td>AHL4O</td>\n",
       "      <td>12.702195</td>\n",
       "      <td>-8.147433</td>\n",
       "      <td>5.004363</td>\n",
       "      <td>134.766305</td>\n",
       "    </tr>\n",
       "  </tbody>\n",
       "</table>\n",
       "</div>"
      ],
      "text/plain": [
       "      id         f0         f1        f2     product\n",
       "0  kBEdx -15.001348  -8.276000 -0.005876    3.179103\n",
       "1  62mP7  14.272088  -3.475083  0.999183   26.953261\n",
       "2  vyE1P   6.263187  -5.948386  5.001160  134.766305\n",
       "3  KcrkZ -13.081196 -11.506057  4.999415  137.945408\n",
       "4  AHL4O  12.702195  -8.147433  5.004363  134.766305"
      ]
     },
     "execution_count": 5,
     "metadata": {},
     "output_type": "execute_result"
    }
   ],
   "source": [
    "# Изучение df1\n",
    "display(df0.info())\n",
    "df1.head()"
   ]
  },
  {
   "cell_type": "markdown",
   "metadata": {},
   "source": [
    "<b> Cтолбцы всех датафреймов имеют корректные типы данных и не содержат пропусков"
   ]
  },
  {
   "cell_type": "code",
   "execution_count": 6,
   "metadata": {},
   "outputs": [
    {
     "data": {
      "text/plain": [
       "0"
      ]
     },
     "metadata": {},
     "output_type": "display_data"
    },
    {
     "data": {
      "text/plain": [
       "0"
      ]
     },
     "metadata": {},
     "output_type": "display_data"
    },
    {
     "data": {
      "text/plain": [
       "0"
      ]
     },
     "metadata": {},
     "output_type": "display_data"
    }
   ],
   "source": [
    "# Проверка на наличие дубликатов\n",
    "display(df0.duplicated().sum())\n",
    "display(df1.duplicated().sum())\n",
    "display(df2.duplicated().sum())"
   ]
  },
  {
   "cell_type": "markdown",
   "metadata": {},
   "source": [
    "<b> По всем данным полных дубликатов нет"
   ]
  },
  {
   "cell_type": "code",
   "execution_count": 7,
   "metadata": {},
   "outputs": [
    {
     "data": {
      "text/plain": [
       "id          99990\n",
       "f0         100000\n",
       "f1         100000\n",
       "f2         100000\n",
       "product    100000\n",
       "dtype: int64"
      ]
     },
     "execution_count": 7,
     "metadata": {},
     "output_type": "execute_result"
    }
   ],
   "source": [
    "# Проверка данных на уникальность\n",
    "df0.nunique()"
   ]
  },
  {
   "cell_type": "code",
   "execution_count": 8,
   "metadata": {
    "scrolled": true
   },
   "outputs": [
    {
     "data": {
      "text/plain": [
       "id          99996\n",
       "f0         100000\n",
       "f1         100000\n",
       "f2         100000\n",
       "product        12\n",
       "dtype: int64"
      ]
     },
     "execution_count": 8,
     "metadata": {},
     "output_type": "execute_result"
    }
   ],
   "source": [
    "df1.nunique()"
   ]
  },
  {
   "cell_type": "code",
   "execution_count": 9,
   "metadata": {},
   "outputs": [
    {
     "data": {
      "text/plain": [
       "53.906522     8472\n",
       "26.953261     8468\n",
       "84.038886     8431\n",
       "57.085625     8390\n",
       "3.179103      8337\n",
       "80.859783     8320\n",
       "30.132364     8306\n",
       "134.766305    8304\n",
       "110.992147    8303\n",
       "0.000000      8235\n",
       "137.945408    8233\n",
       "107.813044    8201\n",
       "Name: product, dtype: int64"
      ]
     },
     "execution_count": 9,
     "metadata": {},
     "output_type": "execute_result"
    }
   ],
   "source": [
    "df1['product'].value_counts()"
   ]
  },
  {
   "cell_type": "markdown",
   "metadata": {},
   "source": [
    "<b> В датафрейме всего 12 вариантов значений объемов запасов, при этом прочие столбцы различаются. Возможно данный датафрейм заполнялся с помощью алгоритма и требуют более глубокого изучения"
   ]
  },
  {
   "cell_type": "code",
   "execution_count": 10,
   "metadata": {
    "scrolled": true
   },
   "outputs": [
    {
     "data": {
      "text/plain": [
       "id          99996\n",
       "f0         100000\n",
       "f1         100000\n",
       "f2         100000\n",
       "product    100000\n",
       "dtype: int64"
      ]
     },
     "execution_count": 10,
     "metadata": {},
     "output_type": "execute_result"
    }
   ],
   "source": [
    "df2.nunique()"
   ]
  },
  {
   "cell_type": "markdown",
   "metadata": {},
   "source": [
    "<b> В целом по всем датафреймам видно, что присутсвуют несколько неуникальных значений идентификаторов скважин, но они имеют разные признаки. </b> Можно предположить, что значения некоторых скважин необходимо было повторно перепроверить, из-за чего и возникли дубликаты."
   ]
  },
  {
   "cell_type": "code",
   "execution_count": 11,
   "metadata": {
    "scrolled": true
   },
   "outputs": [
    {
     "name": "stdout",
     "output_type": "stream",
     "text": [
      "\n",
      "\n"
     ]
    },
    {
     "data": {
      "image/png": "[encoded data removed]",
      "text/plain": [
       "<Figure size 1584x360 with 4 Axes>"
      ]
     },
     "metadata": {
      "needs_background": "light"
     },
     "output_type": "display_data"
    },
    {
     "name": "stdout",
     "output_type": "stream",
     "text": [
      "\n",
      "\n"
     ]
    },
    {
     "data": {
      "image/png": "[encoded data removed]",
      "text/plain": [
       "<Figure size 1584x360 with 4 Axes>"
      ]
     },
     "metadata": {
      "needs_background": "light"
     },
     "output_type": "display_data"
    },
    {
     "name": "stdout",
     "output_type": "stream",
     "text": [
      "\n",
      "\n"
     ]
    },
    {
     "data": {
      "image/png": "[encoded data removed]",
      "text/plain": [
       "<Figure size 1584x360 with 4 Axes>"
      ]
     },
     "metadata": {
      "needs_background": "light"
     },
     "output_type": "display_data"
    }
   ],
   "source": [
    "# Т.к. id скважин уникально и не численно, выводим для анализа только значение параметров каждого датафрейма\n",
    "\n",
    "df0.name = 'Geo Data 0'   \n",
    "df1.name = 'Geo Data 1'\n",
    "df2.name = 'Geo Data 2'\n",
    "dfs = [df0, df1, df2]\n",
    "for df in dfs:\n",
    "    f = plt.figure(figsize=(22, 5))\n",
    "    t = f.suptitle('DF \"{}\"'.format(df.name), fontsize=25)\n",
    "    t.set_position([.5, 1.05])\n",
    "    rows = 1\n",
    "    cols = 4\n",
    "    counter = 1\n",
    "    for column in ['f0', 'f1', 'f2', 'product']:\n",
    "        ax = plt.subplot(rows, cols, counter)\n",
    "        plt.xlabel('Значение признака', fontsize=15)\n",
    "        plt.ylabel('Кол-во', fontsize=15)\n",
    "        ax.set_title(column, fontsize=20)\n",
    "        df[column].hist(bins=30)\n",
    "        counter += 1\n",
    "    print('\\n')\n",
    "    plt.show()"
   ]
  },
  {
   "cell_type": "markdown",
   "metadata": {},
   "source": [
    "<b> У датафреймов geo_data_0 (признаки f0 и f1) и geo_data_1 (признак f0) имееют несколько вершин в своих распределениях. Не имея более подробной информации о сути признаков, понять природу отклонения не представляется возможным.\n",
    "\n",
    "Из графиков видно, что данные имеют разный масштаб, который необходимо будет в дальнейшем масштабировать."
   ]
  },
  {
   "cell_type": "markdown",
   "metadata": {},
   "source": [
    "<b> Для работы с моделью информация о идентификаторе скважины является избыточной и её стоит удалить."
   ]
  },
  {
   "cell_type": "code",
   "execution_count": 12,
   "metadata": {},
   "outputs": [],
   "source": [
    "for df in dfs:\n",
    "    df.drop('id', axis=1, inplace=True)"
   ]
  },
  {
   "cell_type": "markdown",
   "metadata": {},
   "source": [
    "<b>Предвартельные выводы по предобработке данных:</b>\n",
    "\n",
    "- Данные не содержат пропусков;\n",
    "- Данные не имеют полных дубликатов;\n",
    "- Данные необходимо будет масштабировать, для дальнейшего использования."
   ]
  },
  {
   "cell_type": "markdown",
   "metadata": {},
   "source": [
    "## Обучение и проверка модели"
   ]
  },
  {
   "cell_type": "markdown",
   "metadata": {},
   "source": [
    "### Разделение датафреймов на две выборки: обучающую ( 75%) и валидационную ( 25%)"
   ]
  },
  {
   "cell_type": "code",
   "execution_count": 13,
   "metadata": {},
   "outputs": [],
   "source": [
    "#словарь 'features' будет содержать имя датафрейма и набор соответствующих ему признаков\n",
    "features = {}\n",
    "for df in dfs:\n",
    "    features[df.name] = df.drop('product', axis=1)\n",
    "\n",
    "#словарь 'target' будет содержать имя датафрейма и набор целевого признака\n",
    "target = {}\n",
    "for df in dfs:\n",
    "    target[df.name] = df['product']\n",
    "\n",
    "#создание обучающих и валидационных выборок\n",
    "features_train = {}\n",
    "features_valid = {}\n",
    "target_train = {}\n",
    "target_valid = {}\n",
    "\n",
    "for df in dfs:\n",
    "    features_train[df.name], features_valid[df.name], target_train[df.name], target_valid[df.name] = train_test_split(\n",
    "        features[df.name], target[df.name], test_size=0.25, random_state=12345, shuffle=True)\n"
   ]
  },
  {
   "cell_type": "markdown",
   "metadata": {},
   "source": [
    "### Проведем масштабирование признаков"
   ]
  },
  {
   "cell_type": "code",
   "execution_count": 14,
   "metadata": {},
   "outputs": [],
   "source": [
    "columns = ['f0', 'f1', 'f2']\n",
    "for df in dfs:\n",
    "    scaler = StandardScaler()\n",
    "    scaler.fit(features_train[df.name])\n",
    "    features_train[df.name][columns] = scaler.transform(features_train[df.name][columns])\n",
    "    features_valid[df.name][columns] = scaler.transform(features_valid[df.name][columns])"
   ]
  },
  {
   "cell_type": "markdown",
   "metadata": {},
   "source": [
    "Проверка масштабирования:"
   ]
  },
  {
   "cell_type": "code",
   "execution_count": 15,
   "metadata": {},
   "outputs": [
    {
     "name": "stdout",
     "output_type": "stream",
     "text": [
      "\n",
      "\n"
     ]
    },
    {
     "data": {
      "image/png": "[encoded data removed]",
      "text/plain": [
       "<Figure size 1800x360 with 3 Axes>"
      ]
     },
     "metadata": {
      "needs_background": "light"
     },
     "output_type": "display_data"
    },
    {
     "name": "stdout",
     "output_type": "stream",
     "text": [
      "\n",
      "\n"
     ]
    },
    {
     "data": {
      "image/png": "[encoded data removed]",
      "text/plain": [
       "<Figure size 1800x360 with 3 Axes>"
      ]
     },
     "metadata": {
      "needs_background": "light"
     },
     "output_type": "display_data"
    },
    {
     "name": "stdout",
     "output_type": "stream",
     "text": [
      "\n",
      "\n"
     ]
    },
    {
     "data": {
      "image/png": "[encoded data removed]",
      "text/plain": [
       "<Figure size 1800x360 with 3 Axes>"
      ]
     },
     "metadata": {
      "needs_background": "light"
     },
     "output_type": "display_data"
    }
   ],
   "source": [
    "for df in dfs:\n",
    "    f = plt.figure(figsize=(25, 5))\n",
    "    t = f.suptitle('DF \"{}\"'.format(df.name), fontsize=22)\n",
    "    t.set_position([.5, 1.05])\n",
    "    rows = 1\n",
    "    cols = 3\n",
    "    counter = 1\n",
    "    for column in ['f0', 'f1', 'f2']:\n",
    "        ax = plt.subplot(rows, cols, counter)\n",
    "        plt.xlabel('Значение признака', fontsize=15)\n",
    "        plt.ylabel('Кол-во', fontsize=15)\n",
    "        ax.set_title(column, fontsize=20)\n",
    "        features_train[df.name][column].hist(bins=30)\n",
    "        counter += 1\n",
    "    print('\\n')\n",
    "    plt.show()"
   ]
  },
  {
   "cell_type": "markdown",
   "metadata": {},
   "source": [
    "### Обучение модели"
   ]
  },
  {
   "cell_type": "code",
   "execution_count": 16,
   "metadata": {},
   "outputs": [
    {
     "name": "stdout",
     "output_type": "stream",
     "text": [
      "Регион \"Geo Data 0\"\n",
      "Средний запас сырья скважин:                     92.593 тыс.\n",
      "RMSE:                                            37.579 тыс.\n",
      "Коэффициент R2 (по всей валидационной выборке):  27.99%\n",
      "\n",
      "\n",
      "Регион \"Geo Data 1\"\n",
      "Средний запас сырья скважин:                     68.729 тыс.\n",
      "RMSE:                                            0.893 тыс.\n",
      "Коэффициент R2 (по всей валидационной выборке):  99.96%\n",
      "\n",
      "\n",
      "Регион \"Geo Data 2\"\n",
      "Средний запас сырья скважин:                     94.965 тыс.\n",
      "RMSE:                                            40.030 тыс.\n",
      "Коэффициент R2 (по всей валидационной выборке):  20.52%\n",
      "\n",
      "\n"
     ]
    }
   ],
   "source": [
    "#Словари для хранения предсказаний/таргетов/признаков (значение словаря) по соответствующему датафрейму (ключ словаря)\n",
    "predicted_valid = {}\n",
    "predicted_valid200 = {}\n",
    "target_valid200 = {}\n",
    "features_valid200 = {}\n",
    "model = {}\n",
    "\n",
    "for df in dfs:\n",
    "    model[df.name] = LinearRegression()\n",
    "    model[df.name].fit(features_train[df.name], target_train[df.name])\n",
    "    predicted_valid[df.name] = pd.Series(data=model[df.name].predict(features_valid[df.name]),\n",
    "                                         index=features_valid[df.name].index)\n",
    "    \n",
    "   \n",
    "    predicted_valid_mean = predicted_valid[df.name].mean()\n",
    "    rmse = mean_squared_error(target_valid[df.name], predicted_valid[df.name]) ** 0.5\n",
    "    r2 = r2_score(target_valid[df.name], predicted_valid[df.name])\n",
    "    \n",
    "    print('Регион \"{}\"'.format(df.name))\n",
    "    print('Средний запас сырья скважин:                     {:.3f} тыс.'. format(predicted_valid_mean))\n",
    "    print('RMSE:                                            {:.3f} тыс.'. format(rmse))\n",
    "    print('Коэффициент R2 (по всей валидационной выборке):  {:.2%}'. format(r2)) \n",
    "    print('\\n')"
   ]
  },
  {
   "cell_type": "markdown",
   "metadata": {},
   "source": [
    "### Вывод\n",
    "\n",
    "- Модели обученные для Geo Data 0 и Geo Data 2, имеют слабые показатели предсказания (т.к. коэффициент детерминации (R2) низкий).\n",
    "- В регионе Geo Data 1 наименьшее количество предсказанного сырья, но при этом коэффициент детерминации высокий, что свидетельствует о хорошей обученности модели на этих данных."
   ]
  },
  {
   "cell_type": "markdown",
   "metadata": {},
   "source": [
    "## Подготовка к расчёту прибыли"
   ]
  },
  {
   "cell_type": "markdown",
   "metadata": {},
   "source": [
    "<b>Определение ключевых параметров для дальнейшего исследования"
   ]
  },
  {
   "cell_type": "code",
   "execution_count": 17,
   "metadata": {},
   "outputs": [],
   "source": [
    "X = 500 # количество исследуемых точек\n",
    "B = 200 # количество лучших скважин\n",
    "T_C = 10000000000 # бюджет на разработку скважин\n",
    "REV = 450000 # доход с каждой единицы продукта составляет 450 тыс. рублей\n",
    "LOSS_P = 0.025 # допустимая вероятность убытков"
   ]
  },
  {
   "cell_type": "markdown",
   "metadata": {},
   "source": [
    "<b> Рассчет минимального объёма сырья для безубыточной разработки скважины."
   ]
  },
  {
   "cell_type": "code",
   "execution_count": 18,
   "metadata": {},
   "outputs": [
    {
     "name": "stdout",
     "output_type": "stream",
     "text": [
      "Необходимый минимальный объём сырья в скважине: 111.11 тыс. баррелей\n"
     ]
    }
   ],
   "source": [
    "t_c_b = T_C/B #Делим весь бюджет на кол-во разведываемых скважин\n",
    "nec_prod = t_c_b/REV\n",
    "print('Необходимый минимальный объём сырья в скважине: {:.2f} тыс. баррелей'.\n",
    "      format(nec_prod))"
   ]
  },
  {
   "cell_type": "markdown",
   "metadata": {},
   "source": [
    "<b> Вывод</b><br>\n",
    "- Среднее количество сырья во всех регионах выше минимально объема (точки безубыточности). \n",
    "- Из представленных регионов, наибольшие средние показатели объема имеет Geo Data 0."
   ]
  },
  {
   "cell_type": "markdown",
   "metadata": {},
   "source": [
    "## Создание функции для расчёта прибыли по выбранным скважинам и предсказаниям модели"
   ]
  },
  {
   "cell_type": "code",
   "execution_count": 19,
   "metadata": {},
   "outputs": [],
   "source": [
    "def t_prof(data, region):\n",
    "    features = data.drop('product', axis=1)\n",
    "    targets = data['product']\n",
    "    predictions = model[region].predict(features)\n",
    "    predictions = pd.Series(predictions, index=features.index)\n",
    "    sel_oil = predictions.sort_values(ascending=False).head(200).index\n",
    "    revenue = targets.loc[sel_oil].sum() * REV\n",
    "    costs = T_C\n",
    "    profit = revenue - costs\n",
    "    return profit"
   ]
  },
  {
   "cell_type": "markdown",
   "metadata": {},
   "source": [
    "## Расчёт прибыли и рисков "
   ]
  },
  {
   "cell_type": "markdown",
   "metadata": {},
   "source": [
    "### Распределение прибыли по регионам"
   ]
  },
  {
   "cell_type": "code",
   "execution_count": 20,
   "metadata": {},
   "outputs": [],
   "source": [
    "state = np.random.RandomState(12345)\n",
    "BOOTSTRAP_SAMPLES = 1000 \n",
    "\n",
    "values = {}\n",
    "for df in dfs:\n",
    "    values[df.name] = []\n",
    "\n",
    "for df in dfs:\n",
    "    for i in range(BOOTSTRAP_SAMPLES):\n",
    "        df_j=features_valid[df.name].join(target_valid[df.name])\n",
    "        subsample = df_j.sample(n=500, replace=False, random_state=state)\n",
    "        values[df.name].append(t_prof(data=subsample, region=df.name))\n",
    "    values[df.name] = pd.Series(values[df.name])"
   ]
  },
  {
   "cell_type": "code",
   "execution_count": 21,
   "metadata": {
    "scrolled": true
   },
   "outputs": [
    {
     "data": {
      "image/png": "[encoded data removed]",
      "text/plain": [
       "<Figure size 1800x360 with 3 Axes>"
      ]
     },
     "metadata": {
      "needs_background": "light"
     },
     "output_type": "display_data"
    }
   ],
   "source": [
    "f = plt.figure(figsize=(25, 5))\n",
    "t = f.suptitle('Распределение прибыли по регионам \\n', fontsize=27, )\n",
    "t.set_position([.5, 1.05])\n",
    "\n",
    "rows = 1\n",
    "cols = 3\n",
    "counter = 1\n",
    "for df in dfs:\n",
    "    ax = plt.subplot(rows, cols, counter)\n",
    "    plt.xlabel('Прибыль', fontsize=15)\n",
    "    plt.ylabel('Объём', fontsize=15)\n",
    "    ax.set_title(df.name, fontsize=20)\n",
    "    plt.hist(values[df.name], density=False, bins=50)\n",
    "    counter += 1\n",
    "plt.show()"
   ]
  },
  {
   "cell_type": "markdown",
   "metadata": {},
   "source": [
    "### Cредняя прибыль в каждом регионе"
   ]
  },
  {
   "cell_type": "code",
   "execution_count": 22,
   "metadata": {},
   "outputs": [
    {
     "name": "stdout",
     "output_type": "stream",
     "text": [
      "Средняя прибыль в \"Geo Data 0\": 380.71 млн.руб.\n",
      "Средняя прибыль в \"Geo Data 1\": 454.79 млн.руб.\n",
      "Средняя прибыль в \"Geo Data 2\": 389.22 млн.руб.\n"
     ]
    }
   ],
   "source": [
    "for df in dfs:\n",
    "    prof_mean = values[df.name].mean() / 1000000\n",
    "    print('Средняя прибыль в \"{}\": {:.2f} млн.руб.'.format(df.name, prof_mean))"
   ]
  },
  {
   "cell_type": "markdown",
   "metadata": {},
   "source": [
    "### Доверительный интервал"
   ]
  },
  {
   "cell_type": "code",
   "execution_count": 23,
   "metadata": {},
   "outputs": [
    {
     "name": "stdout",
     "output_type": "stream",
     "text": [
      "Доверительный интервал для средней прибыли в \"Geo Data 0\": [-126.95, 879.61] (млн. руб.)\n",
      "Доверительный интервал для средней прибыли в \"Geo Data 1\": [46.73, 840.21] (млн. руб.)\n",
      "Доверительный интервал для средней прибыли в \"Geo Data 2\": [-115.61, 906.51] (млн. руб.)\n"
     ]
    }
   ],
   "source": [
    "for df in dfs:\n",
    "    lower = values[df.name].quantile(0.025) / 1000000\n",
    "    upper = values[df.name].quantile(0.975) / 1000000 #доверительный интервал 95% от всех значений прибыли\n",
    "    print('Доверительный интервал для средней прибыли в \"{}\": [{:.2f}, {:.2f}] (млн. руб.)'.\n",
    "          format(df.name, lower, upper))"
   ]
  },
  {
   "cell_type": "markdown",
   "metadata": {},
   "source": [
    "<b> Для значений средней прибыли в регионах Geo Data 0 и Geo Data 2 характерен значительный разброс, что делает их средние значения прибыли не достаточно информативными, что может привести к риску убытка."
   ]
  },
  {
   "cell_type": "code",
   "execution_count": 24,
   "metadata": {},
   "outputs": [
    {
     "name": "stdout",
     "output_type": "stream",
     "text": [
      "Вероятность убытка в \"Geo Data 0\": 7.20%\n",
      "Вероятность убытка в \"Geo Data 1\": 1.30%\n",
      "Вероятность убытка в \"Geo Data 2\": 7.30%\n"
     ]
    }
   ],
   "source": [
    "for df in dfs:\n",
    "    count_loss = len(values[df.name][values[df.name] < 0])\n",
    "    loss_prob = count_loss / BOOTSTRAP_SAMPLES\n",
    "    print('Вероятность убытка в \"{}\": {:.2%}'.format(df.name, loss_prob))"
   ]
  },
  {
   "cell_type": "markdown",
   "metadata": {},
   "source": [
    "## Вывод\n",
    "\n",
    "В соответствии с требованиями задачи, для добычи стоит отдать преимущество региону Geo Data 1:\n",
    "- соответствует требованиям по вероятности убытков менее 2.5%;\n",
    "- имеет наибольшую среднюю прибыль от разработки."
   ]
  }
 ],
 "metadata": {
  "ExecuteTimeLog": [
   {
    "duration": 613,
    "start_time": "2022-03-09T09:05:30.099Z"
   },
   {
    "duration": 365,
    "start_time": "2022-03-09T09:05:30.889Z"
   },
   {
    "duration": 301,
    "start_time": "2022-03-09T09:06:15.011Z"
   },
   {
    "duration": 15,
    "start_time": "2022-03-09T09:06:20.322Z"
   },
   {
    "duration": 273,
    "start_time": "2022-03-09T09:06:40.487Z"
   },
   {
    "duration": 16,
    "start_time": "2022-03-09T09:06:47.261Z"
   },
   {
    "duration": 16,
    "start_time": "2022-03-09T09:08:04.769Z"
   },
   {
    "duration": 16,
    "start_time": "2022-03-09T09:08:05.824Z"
   },
   {
    "duration": 40,
    "start_time": "2022-03-09T09:09:31.405Z"
   },
   {
    "duration": 43,
    "start_time": "2022-03-09T09:09:43.444Z"
   },
   {
    "duration": 16,
    "start_time": "2022-03-09T09:11:42.833Z"
   },
   {
    "duration": 100,
    "start_time": "2022-03-09T09:14:31.359Z"
   },
   {
    "duration": 313,
    "start_time": "2022-03-09T09:17:08.189Z"
   },
   {
    "duration": 251,
    "start_time": "2022-03-09T09:17:22.577Z"
   },
   {
    "duration": 291,
    "start_time": "2022-03-09T09:17:23.259Z"
   },
   {
    "duration": 7,
    "start_time": "2022-03-09T09:19:59.723Z"
   },
   {
    "duration": 261,
    "start_time": "2022-03-09T09:41:46.101Z"
   },
   {
    "duration": 66,
    "start_time": "2022-03-09T09:42:11.712Z"
   },
   {
    "duration": 250,
    "start_time": "2022-03-09T09:42:18.051Z"
   },
   {
    "duration": 1176,
    "start_time": "2022-03-09T09:48:14.499Z"
   },
   {
    "duration": 2376,
    "start_time": "2022-03-09T09:49:28.208Z"
   },
   {
    "duration": 2336,
    "start_time": "2022-03-09T09:49:49.048Z"
   },
   {
    "duration": 714,
    "start_time": "2022-03-09T09:50:19.982Z"
   },
   {
    "duration": 2363,
    "start_time": "2022-03-09T09:50:33.738Z"
   },
   {
    "duration": 519,
    "start_time": "2022-03-09T09:51:38.832Z"
   },
   {
    "duration": 565,
    "start_time": "2022-03-09T09:53:42.855Z"
   },
   {
    "duration": 340,
    "start_time": "2022-03-09T09:53:43.422Z"
   },
   {
    "duration": 19,
    "start_time": "2022-03-09T09:53:43.764Z"
   },
   {
    "duration": 29,
    "start_time": "2022-03-09T09:53:43.785Z"
   },
   {
    "duration": 14,
    "start_time": "2022-03-09T09:53:43.816Z"
   },
   {
    "duration": 121,
    "start_time": "2022-03-09T09:53:43.832Z"
   },
   {
    "duration": 350,
    "start_time": "2022-03-09T09:53:43.955Z"
   },
   {
    "duration": 265,
    "start_time": "2022-03-09T09:53:44.307Z"
   },
   {
    "duration": 6,
    "start_time": "2022-03-09T09:53:44.574Z"
   },
   {
    "duration": 299,
    "start_time": "2022-03-09T09:53:44.582Z"
   },
   {
    "duration": 2364,
    "start_time": "2022-03-09T09:53:44.883Z"
   },
   {
    "duration": 322,
    "start_time": "2022-03-10T09:26:42.547Z"
   },
   {
    "duration": 624,
    "start_time": "2022-03-10T09:26:55.702Z"
   },
   {
    "duration": 364,
    "start_time": "2022-03-10T09:26:56.328Z"
   },
   {
    "duration": 20,
    "start_time": "2022-03-10T09:26:56.694Z"
   },
   {
    "duration": 16,
    "start_time": "2022-03-10T09:26:56.716Z"
   },
   {
    "duration": 42,
    "start_time": "2022-03-10T09:26:56.734Z"
   },
   {
    "duration": 137,
    "start_time": "2022-03-10T09:26:56.778Z"
   },
   {
    "duration": 354,
    "start_time": "2022-03-10T09:26:56.916Z"
   },
   {
    "duration": 300,
    "start_time": "2022-03-10T09:26:57.272Z"
   },
   {
    "duration": 6,
    "start_time": "2022-03-10T09:26:57.574Z"
   },
   {
    "duration": 331,
    "start_time": "2022-03-10T09:26:57.582Z"
   },
   {
    "duration": 2624,
    "start_time": "2022-03-10T09:26:57.915Z"
   },
   {
    "duration": 13,
    "start_time": "2022-03-10T09:27:00.541Z"
   },
   {
    "duration": 321,
    "start_time": "2022-03-10T09:27:00.563Z"
   },
   {
    "duration": 454,
    "start_time": "2022-03-10T09:31:45.254Z"
   },
   {
    "duration": 43,
    "start_time": "2022-03-10T09:31:50.890Z"
   },
   {
    "duration": 223,
    "start_time": "2022-03-10T09:36:59.776Z"
   },
   {
    "duration": 61,
    "start_time": "2022-03-10T09:37:29.288Z"
   },
   {
    "duration": 208,
    "start_time": "2022-03-10T09:37:31.207Z"
   },
   {
    "duration": 5,
    "start_time": "2022-03-10T09:37:38.203Z"
   },
   {
    "duration": 38,
    "start_time": "2022-03-10T09:37:43.769Z"
   },
   {
    "duration": 2016,
    "start_time": "2022-03-10T09:38:27.101Z"
   },
   {
    "duration": 2235,
    "start_time": "2022-03-10T09:39:55.338Z"
   },
   {
    "duration": 2063,
    "start_time": "2022-03-10T09:40:25.828Z"
   },
   {
    "duration": 2533,
    "start_time": "2022-03-10T09:40:45.593Z"
   },
   {
    "duration": 2478,
    "start_time": "2022-03-10T09:41:06.107Z"
   },
   {
    "duration": 182,
    "start_time": "2022-03-10T09:45:28.080Z"
   },
   {
    "duration": 17,
    "start_time": "2022-03-10T09:45:46.126Z"
   },
   {
    "duration": 297,
    "start_time": "2022-03-10T09:45:57.346Z"
   },
   {
    "duration": 349,
    "start_time": "2022-03-10T09:46:38.312Z"
   },
   {
    "duration": 4,
    "start_time": "2022-03-10T09:46:44.835Z"
   },
   {
    "duration": 283,
    "start_time": "2022-03-10T09:46:52.415Z"
   },
   {
    "duration": 4,
    "start_time": "2022-03-10T09:48:34.329Z"
   },
   {
    "duration": 300,
    "start_time": "2022-03-10T09:48:41.104Z"
   },
   {
    "duration": 243,
    "start_time": "2022-03-10T09:48:54.828Z"
   },
   {
    "duration": 391,
    "start_time": "2022-03-10T09:49:37.572Z"
   },
   {
    "duration": 236,
    "start_time": "2022-03-10T09:52:45.931Z"
   },
   {
    "duration": 146,
    "start_time": "2022-03-10T09:52:57.429Z"
   },
   {
    "duration": 324,
    "start_time": "2022-03-10T09:53:17.951Z"
   },
   {
    "duration": 232,
    "start_time": "2022-03-10T09:53:25.745Z"
   },
   {
    "duration": 4,
    "start_time": "2022-03-10T09:57:57.085Z"
   },
   {
    "duration": 3,
    "start_time": "2022-03-10T10:03:08.338Z"
   },
   {
    "duration": 4,
    "start_time": "2022-03-10T10:06:35.144Z"
   },
   {
    "duration": 2,
    "start_time": "2022-03-10T10:07:38.350Z"
   },
   {
    "duration": 4,
    "start_time": "2022-03-10T10:07:39.900Z"
   },
   {
    "duration": 4,
    "start_time": "2022-03-10T10:30:04.718Z"
   },
   {
    "duration": 2024,
    "start_time": "2022-03-11T06:53:49.791Z"
   },
   {
    "duration": 348,
    "start_time": "2022-03-11T06:53:51.817Z"
   },
   {
    "duration": 21,
    "start_time": "2022-03-11T06:53:52.167Z"
   },
   {
    "duration": 15,
    "start_time": "2022-03-11T06:53:52.190Z"
   },
   {
    "duration": 40,
    "start_time": "2022-03-11T06:53:52.206Z"
   },
   {
    "duration": 122,
    "start_time": "2022-03-11T06:53:52.248Z"
   },
   {
    "duration": 341,
    "start_time": "2022-03-11T06:53:52.371Z"
   },
   {
    "duration": 269,
    "start_time": "2022-03-11T06:53:52.715Z"
   },
   {
    "duration": 6,
    "start_time": "2022-03-11T06:53:52.987Z"
   },
   {
    "duration": 322,
    "start_time": "2022-03-11T06:53:52.995Z"
   },
   {
    "duration": 2462,
    "start_time": "2022-03-11T06:53:53.319Z"
   },
   {
    "duration": 14,
    "start_time": "2022-03-11T06:53:55.782Z"
   },
   {
    "duration": 55,
    "start_time": "2022-03-11T06:53:55.798Z"
   },
   {
    "duration": 33,
    "start_time": "2022-03-11T06:53:55.855Z"
   },
   {
    "duration": 2035,
    "start_time": "2022-03-11T06:53:55.890Z"
   },
   {
    "duration": 311,
    "start_time": "2022-03-11T06:53:57.927Z"
   },
   {
    "duration": 2,
    "start_time": "2022-03-11T06:53:58.333Z"
   },
   {
    "duration": 6,
    "start_time": "2022-03-11T06:53:58.338Z"
   },
   {
    "duration": 7,
    "start_time": "2022-03-11T06:53:58.345Z"
   },
   {
    "duration": 1909,
    "start_time": "2022-03-11T06:54:14.744Z"
   },
   {
    "duration": 303,
    "start_time": "2022-03-11T06:54:37.534Z"
   },
   {
    "duration": 3,
    "start_time": "2022-03-11T06:54:43.793Z"
   },
   {
    "duration": 3,
    "start_time": "2022-03-11T06:54:45.673Z"
   },
   {
    "duration": 4,
    "start_time": "2022-03-11T06:54:55.722Z"
   },
   {
    "duration": 1077,
    "start_time": "2022-03-11T07:13:17.272Z"
   },
   {
    "duration": 342,
    "start_time": "2022-03-11T07:13:18.350Z"
   },
   {
    "duration": 20,
    "start_time": "2022-03-11T07:13:18.694Z"
   },
   {
    "duration": 28,
    "start_time": "2022-03-11T07:13:18.716Z"
   },
   {
    "duration": 15,
    "start_time": "2022-03-11T07:13:18.745Z"
   },
   {
    "duration": 125,
    "start_time": "2022-03-11T07:13:18.762Z"
   },
   {
    "duration": 344,
    "start_time": "2022-03-11T07:13:18.889Z"
   },
   {
    "duration": 283,
    "start_time": "2022-03-11T07:13:19.235Z"
   },
   {
    "duration": 14,
    "start_time": "2022-03-11T07:13:19.519Z"
   },
   {
    "duration": 325,
    "start_time": "2022-03-11T07:13:19.535Z"
   },
   {
    "duration": 2485,
    "start_time": "2022-03-11T07:13:19.861Z"
   },
   {
    "duration": 14,
    "start_time": "2022-03-11T07:13:22.348Z"
   },
   {
    "duration": 45,
    "start_time": "2022-03-11T07:13:22.363Z"
   },
   {
    "duration": 50,
    "start_time": "2022-03-11T07:13:22.410Z"
   },
   {
    "duration": 2015,
    "start_time": "2022-03-11T07:13:22.461Z"
   },
   {
    "duration": 363,
    "start_time": "2022-03-11T07:13:24.478Z"
   },
   {
    "duration": 3,
    "start_time": "2022-03-11T07:13:24.932Z"
   },
   {
    "duration": 13,
    "start_time": "2022-03-11T07:13:24.937Z"
   },
   {
    "duration": 8,
    "start_time": "2022-03-11T07:13:24.952Z"
   },
   {
    "duration": 11612,
    "start_time": "2022-03-11T07:13:24.962Z"
   },
   {
    "duration": 42,
    "start_time": "2022-03-11T07:16:44.664Z"
   },
   {
    "duration": 274,
    "start_time": "2022-03-11T07:18:40.916Z"
   },
   {
    "duration": 40,
    "start_time": "2022-03-11T07:20:20.757Z"
   },
   {
    "duration": 42,
    "start_time": "2022-03-11T07:21:07.510Z"
   },
   {
    "duration": 41,
    "start_time": "2022-03-11T07:21:46.734Z"
   },
   {
    "duration": 42,
    "start_time": "2022-03-11T07:21:51.381Z"
   },
   {
    "duration": 48,
    "start_time": "2022-03-11T07:21:56.386Z"
   },
   {
    "duration": 45,
    "start_time": "2022-03-11T07:22:03.092Z"
   },
   {
    "duration": 42,
    "start_time": "2022-03-11T07:22:24.030Z"
   },
   {
    "duration": 4,
    "start_time": "2022-03-11T07:23:19.558Z"
   },
   {
    "duration": 46,
    "start_time": "2022-03-11T07:23:39.768Z"
   },
   {
    "duration": 41,
    "start_time": "2022-03-11T07:25:13.532Z"
   },
   {
    "duration": 236,
    "start_time": "2022-03-11T07:27:33.175Z"
   },
   {
    "duration": 718,
    "start_time": "2022-03-11T07:27:58.070Z"
   },
   {
    "duration": 710,
    "start_time": "2022-03-11T07:28:15.674Z"
   },
   {
    "duration": 729,
    "start_time": "2022-03-11T07:30:01.750Z"
   },
   {
    "duration": 827,
    "start_time": "2022-03-11T07:30:27.669Z"
   },
   {
    "duration": 721,
    "start_time": "2022-03-11T07:31:21.089Z"
   },
   {
    "duration": 704,
    "start_time": "2022-03-11T07:31:31.535Z"
   },
   {
    "duration": 831,
    "start_time": "2022-03-11T07:31:36.542Z"
   },
   {
    "duration": 6,
    "start_time": "2022-03-11T07:33:29.313Z"
   },
   {
    "duration": 5,
    "start_time": "2022-03-11T07:33:52.429Z"
   },
   {
    "duration": 4,
    "start_time": "2022-03-11T07:34:02.733Z"
   },
   {
    "duration": 10,
    "start_time": "2022-03-11T07:35:16.889Z"
   },
   {
    "duration": 9,
    "start_time": "2022-03-11T07:35:26.209Z"
   },
   {
    "duration": 10,
    "start_time": "2022-03-11T07:35:46.207Z"
   },
   {
    "duration": 9,
    "start_time": "2022-03-11T07:48:37.754Z"
   },
   {
    "duration": 10,
    "start_time": "2022-03-11T07:48:46.276Z"
   },
   {
    "duration": 1139,
    "start_time": "2022-03-11T08:29:02.175Z"
   },
   {
    "duration": 341,
    "start_time": "2022-03-11T08:29:03.316Z"
   },
   {
    "duration": 23,
    "start_time": "2022-03-11T08:29:03.660Z"
   },
   {
    "duration": 17,
    "start_time": "2022-03-11T08:29:03.685Z"
   },
   {
    "duration": 41,
    "start_time": "2022-03-11T08:29:03.703Z"
   },
   {
    "duration": 122,
    "start_time": "2022-03-11T08:29:03.746Z"
   },
   {
    "duration": 337,
    "start_time": "2022-03-11T08:29:03.870Z"
   },
   {
    "duration": 277,
    "start_time": "2022-03-11T08:29:04.209Z"
   },
   {
    "duration": 7,
    "start_time": "2022-03-11T08:29:04.488Z"
   },
   {
    "duration": 321,
    "start_time": "2022-03-11T08:29:04.497Z"
   },
   {
    "duration": 2555,
    "start_time": "2022-03-11T08:29:04.819Z"
   },
   {
    "duration": 14,
    "start_time": "2022-03-11T08:29:07.376Z"
   },
   {
    "duration": 59,
    "start_time": "2022-03-11T08:29:07.392Z"
   },
   {
    "duration": 34,
    "start_time": "2022-03-11T08:29:07.453Z"
   },
   {
    "duration": 2063,
    "start_time": "2022-03-11T08:29:07.489Z"
   },
   {
    "duration": 381,
    "start_time": "2022-03-11T08:29:09.553Z"
   },
   {
    "duration": 4,
    "start_time": "2022-03-11T08:29:09.937Z"
   },
   {
    "duration": 7,
    "start_time": "2022-03-11T08:29:10.033Z"
   },
   {
    "duration": 6,
    "start_time": "2022-03-11T08:29:10.042Z"
   },
   {
    "duration": 11432,
    "start_time": "2022-03-11T08:29:10.050Z"
   },
   {
    "duration": 725,
    "start_time": "2022-03-11T08:29:21.484Z"
   },
   {
    "duration": 4,
    "start_time": "2022-03-11T08:29:22.211Z"
   },
   {
    "duration": 9,
    "start_time": "2022-03-11T08:29:22.233Z"
   },
   {
    "duration": 13,
    "start_time": "2022-03-11T08:29:22.243Z"
   },
   {
    "duration": 1258,
    "start_time": "2022-03-11T13:29:50.658Z"
   },
   {
    "duration": 423,
    "start_time": "2022-03-11T13:29:51.919Z"
   },
   {
    "duration": 25,
    "start_time": "2022-03-11T13:29:52.344Z"
   },
   {
    "duration": 23,
    "start_time": "2022-03-11T13:29:52.372Z"
   },
   {
    "duration": 17,
    "start_time": "2022-03-11T13:29:52.397Z"
   },
   {
    "duration": 146,
    "start_time": "2022-03-11T13:29:52.415Z"
   },
   {
    "duration": 460,
    "start_time": "2022-03-11T13:29:52.564Z"
   },
   {
    "duration": 462,
    "start_time": "2022-03-11T13:29:53.026Z"
   },
   {
    "duration": 6,
    "start_time": "2022-03-11T13:29:53.491Z"
   },
   {
    "duration": 367,
    "start_time": "2022-03-11T13:29:53.500Z"
   },
   {
    "duration": 3284,
    "start_time": "2022-03-11T13:29:53.870Z"
   },
   {
    "duration": 15,
    "start_time": "2022-03-11T13:29:57.155Z"
   },
   {
    "duration": 50,
    "start_time": "2022-03-11T13:29:57.172Z"
   },
   {
    "duration": 58,
    "start_time": "2022-03-11T13:29:57.223Z"
   },
   {
    "duration": 2524,
    "start_time": "2022-03-11T13:29:57.283Z"
   },
   {
    "duration": 551,
    "start_time": "2022-03-11T13:29:59.809Z"
   },
   {
    "duration": 4,
    "start_time": "2022-03-11T13:30:00.362Z"
   },
   {
    "duration": 8,
    "start_time": "2022-03-11T13:30:00.368Z"
   },
   {
    "duration": 13,
    "start_time": "2022-03-11T13:30:00.378Z"
   },
   {
    "duration": 12685,
    "start_time": "2022-03-11T13:30:00.393Z"
   },
   {
    "duration": 843,
    "start_time": "2022-03-11T13:30:13.080Z"
   },
   {
    "duration": 5,
    "start_time": "2022-03-11T13:30:13.925Z"
   },
   {
    "duration": 11,
    "start_time": "2022-03-11T13:30:13.932Z"
   },
   {
    "duration": 22,
    "start_time": "2022-03-11T13:30:13.944Z"
   },
   {
    "duration": 4,
    "start_time": "2022-03-11T13:32:55.792Z"
   },
   {
    "duration": 3,
    "start_time": "2022-03-11T13:32:58.614Z"
   },
   {
    "duration": 191,
    "start_time": "2022-03-11T13:45:31.074Z"
   },
   {
    "duration": 3,
    "start_time": "2022-03-11T13:45:55.646Z"
   },
   {
    "duration": 3,
    "start_time": "2022-03-11T13:45:58.862Z"
   },
   {
    "duration": 3,
    "start_time": "2022-03-11T13:46:01.050Z"
   },
   {
    "duration": 1090,
    "start_time": "2022-03-11T13:47:23.700Z"
   },
   {
    "duration": 410,
    "start_time": "2022-03-11T13:47:24.792Z"
   },
   {
    "duration": 22,
    "start_time": "2022-03-11T13:47:25.204Z"
   },
   {
    "duration": 35,
    "start_time": "2022-03-11T13:47:25.228Z"
   },
   {
    "duration": 18,
    "start_time": "2022-03-11T13:47:25.265Z"
   },
   {
    "duration": 149,
    "start_time": "2022-03-11T13:47:25.285Z"
   },
   {
    "duration": 400,
    "start_time": "2022-03-11T13:47:25.436Z"
   },
   {
    "duration": 331,
    "start_time": "2022-03-11T13:47:25.837Z"
   },
   {
    "duration": 6,
    "start_time": "2022-03-11T13:47:26.171Z"
   },
   {
    "duration": 370,
    "start_time": "2022-03-11T13:47:26.179Z"
   },
   {
    "duration": 2940,
    "start_time": "2022-03-11T13:47:26.551Z"
   },
   {
    "duration": 16,
    "start_time": "2022-03-11T13:47:29.493Z"
   },
   {
    "duration": 61,
    "start_time": "2022-03-11T13:47:29.511Z"
   },
   {
    "duration": 35,
    "start_time": "2022-03-11T13:47:29.574Z"
   },
   {
    "duration": 2500,
    "start_time": "2022-03-11T13:47:29.610Z"
   },
   {
    "duration": 250,
    "start_time": "2022-03-11T13:47:32.111Z"
   },
   {
    "duration": 8,
    "start_time": "2022-03-11T13:47:32.364Z"
   },
   {
    "duration": 90,
    "start_time": "2022-03-11T13:47:32.374Z"
   },
   {
    "duration": 8,
    "start_time": "2022-03-11T13:47:32.466Z"
   },
   {
    "duration": 652,
    "start_time": "2022-03-11T13:47:32.476Z"
   },
   {
    "duration": -2059,
    "start_time": "2022-03-11T13:47:35.189Z"
   },
   {
    "duration": -2074,
    "start_time": "2022-03-11T13:47:35.205Z"
   },
   {
    "duration": -2078,
    "start_time": "2022-03-11T13:47:35.210Z"
   },
   {
    "duration": -2082,
    "start_time": "2022-03-11T13:47:35.214Z"
   },
   {
    "duration": 4,
    "start_time": "2022-03-11T13:48:48.918Z"
   },
   {
    "duration": 12600,
    "start_time": "2022-03-11T13:48:52.659Z"
   },
   {
    "duration": 862,
    "start_time": "2022-03-11T13:49:05.261Z"
   },
   {
    "duration": 503,
    "start_time": "2022-03-11T14:56:08.284Z"
   },
   {
    "duration": 12444,
    "start_time": "2022-03-11T14:58:21.112Z"
   },
   {
    "duration": 263,
    "start_time": "2022-03-11T14:59:10.303Z"
   },
   {
    "duration": 321,
    "start_time": "2022-03-11T14:59:40.282Z"
   },
   {
    "duration": 13212,
    "start_time": "2022-03-11T14:59:53.694Z"
   },
   {
    "duration": 1087,
    "start_time": "2022-03-11T15:01:08.497Z"
   },
   {
    "duration": 362,
    "start_time": "2022-03-11T15:01:09.586Z"
   },
   {
    "duration": 20,
    "start_time": "2022-03-11T15:01:09.950Z"
   },
   {
    "duration": 16,
    "start_time": "2022-03-11T15:01:09.972Z"
   },
   {
    "duration": 17,
    "start_time": "2022-03-11T15:01:09.990Z"
   },
   {
    "duration": 150,
    "start_time": "2022-03-11T15:01:10.009Z"
   },
   {
    "duration": 352,
    "start_time": "2022-03-11T15:01:10.161Z"
   },
   {
    "duration": 293,
    "start_time": "2022-03-11T15:01:10.515Z"
   },
   {
    "duration": 7,
    "start_time": "2022-03-11T15:01:10.811Z"
   },
   {
    "duration": 344,
    "start_time": "2022-03-11T15:01:10.821Z"
   },
   {
    "duration": 2880,
    "start_time": "2022-03-11T15:01:11.167Z"
   },
   {
    "duration": 16,
    "start_time": "2022-03-11T15:01:14.048Z"
   },
   {
    "duration": 60,
    "start_time": "2022-03-11T15:01:14.065Z"
   },
   {
    "duration": 40,
    "start_time": "2022-03-11T15:01:14.127Z"
   },
   {
    "duration": 2423,
    "start_time": "2022-03-11T15:01:14.169Z"
   },
   {
    "duration": 172,
    "start_time": "2022-03-11T15:01:16.594Z"
   },
   {
    "duration": 99,
    "start_time": "2022-03-11T15:01:16.768Z"
   },
   {
    "duration": 3,
    "start_time": "2022-03-11T15:01:16.960Z"
   },
   {
    "duration": 30,
    "start_time": "2022-03-11T15:01:16.965Z"
   },
   {
    "duration": 12400,
    "start_time": "2022-03-11T15:01:16.996Z"
   },
   {
    "duration": 862,
    "start_time": "2022-03-11T15:01:29.398Z"
   },
   {
    "duration": 5,
    "start_time": "2022-03-11T15:01:30.262Z"
   },
   {
    "duration": 14,
    "start_time": "2022-03-11T15:01:30.268Z"
   },
   {
    "duration": 329,
    "start_time": "2022-03-11T15:01:30.284Z"
   },
   {
    "duration": 10,
    "start_time": "2022-03-11T15:12:10.472Z"
   },
   {
    "duration": 230,
    "start_time": "2022-03-11T15:31:48.834Z"
   },
   {
    "duration": 242,
    "start_time": "2022-03-11T15:32:41.786Z"
   },
   {
    "duration": 12455,
    "start_time": "2022-03-11T15:32:57.615Z"
   },
   {
    "duration": 230,
    "start_time": "2022-03-11T15:46:08.354Z"
   },
   {
    "duration": 221,
    "start_time": "2022-03-11T15:46:35.203Z"
   },
   {
    "duration": 12419,
    "start_time": "2022-03-11T15:53:49.208Z"
   },
   {
    "duration": 226,
    "start_time": "2022-03-11T15:55:06.959Z"
   },
   {
    "duration": 233,
    "start_time": "2022-03-11T15:55:13.552Z"
   },
   {
    "duration": 12792,
    "start_time": "2022-03-11T15:55:27.456Z"
   },
   {
    "duration": 484,
    "start_time": "2022-03-11T15:56:43.581Z"
   },
   {
    "duration": 12706,
    "start_time": "2022-03-11T15:56:59.772Z"
   },
   {
    "duration": 1138,
    "start_time": "2022-03-11T15:57:23.373Z"
   },
   {
    "duration": 375,
    "start_time": "2022-03-11T15:57:24.513Z"
   },
   {
    "duration": 21,
    "start_time": "2022-03-11T15:57:24.890Z"
   },
   {
    "duration": 17,
    "start_time": "2022-03-11T15:57:24.913Z"
   },
   {
    "duration": 35,
    "start_time": "2022-03-11T15:57:24.932Z"
   },
   {
    "duration": 137,
    "start_time": "2022-03-11T15:57:24.968Z"
   },
   {
    "duration": 367,
    "start_time": "2022-03-11T15:57:25.107Z"
   },
   {
    "duration": 289,
    "start_time": "2022-03-11T15:57:25.476Z"
   },
   {
    "duration": 7,
    "start_time": "2022-03-11T15:57:25.768Z"
   },
   {
    "duration": 354,
    "start_time": "2022-03-11T15:57:25.777Z"
   },
   {
    "duration": 2939,
    "start_time": "2022-03-11T15:57:26.133Z"
   },
   {
    "duration": 16,
    "start_time": "2022-03-11T15:57:29.074Z"
   },
   {
    "duration": 67,
    "start_time": "2022-03-11T15:57:29.092Z"
   },
   {
    "duration": 39,
    "start_time": "2022-03-11T15:57:29.161Z"
   },
   {
    "duration": 2467,
    "start_time": "2022-03-11T15:57:29.202Z"
   },
   {
    "duration": 288,
    "start_time": "2022-03-11T15:57:31.671Z"
   },
   {
    "duration": 4,
    "start_time": "2022-03-11T15:57:31.962Z"
   },
   {
    "duration": 117,
    "start_time": "2022-03-11T15:57:31.968Z"
   },
   {
    "duration": 21,
    "start_time": "2022-03-11T15:57:32.087Z"
   },
   {
    "duration": 12661,
    "start_time": "2022-03-11T15:57:32.109Z"
   },
   {
    "duration": 855,
    "start_time": "2022-03-11T15:57:44.771Z"
   },
   {
    "duration": 4,
    "start_time": "2022-03-11T15:57:45.628Z"
   },
   {
    "duration": 27,
    "start_time": "2022-03-11T15:57:45.633Z"
   },
   {
    "duration": 14,
    "start_time": "2022-03-11T15:57:45.662Z"
   },
   {
    "duration": 355,
    "start_time": "2022-03-11T16:03:13.486Z"
   },
   {
    "duration": 475,
    "start_time": "2022-03-11T16:04:29.609Z"
   },
   {
    "duration": 476,
    "start_time": "2022-03-11T16:07:01.774Z"
   },
   {
    "duration": 238,
    "start_time": "2022-03-11T16:10:07.763Z"
   },
   {
    "duration": 233,
    "start_time": "2022-03-11T16:10:37.316Z"
   },
   {
    "duration": 556,
    "start_time": "2022-03-11T16:16:10.835Z"
   },
   {
    "duration": 12380,
    "start_time": "2022-03-11T16:16:29.198Z"
   },
   {
    "duration": 4,
    "start_time": "2022-03-11T17:13:48.200Z"
   },
   {
    "duration": 442,
    "start_time": "2022-03-11T17:13:59.264Z"
   },
   {
    "duration": 437,
    "start_time": "2022-03-11T17:14:24.794Z"
   },
   {
    "duration": 12721,
    "start_time": "2022-03-11T17:14:37.660Z"
   },
   {
    "duration": 501,
    "start_time": "2022-03-11T17:21:23.059Z"
   },
   {
    "duration": 12704,
    "start_time": "2022-03-11T17:21:40.160Z"
   },
   {
    "duration": 39,
    "start_time": "2022-03-11T17:25:00.826Z"
   },
   {
    "duration": 269,
    "start_time": "2022-03-11T17:25:12.468Z"
   },
   {
    "duration": 42,
    "start_time": "2022-03-11T17:25:26.934Z"
   },
   {
    "duration": 43,
    "start_time": "2022-03-11T17:25:36.006Z"
   },
   {
    "duration": 45,
    "start_time": "2022-03-11T17:25:46.512Z"
   },
   {
    "duration": 482,
    "start_time": "2022-03-11T17:28:45.697Z"
   },
   {
    "duration": 501,
    "start_time": "2022-03-11T17:31:04.504Z"
   },
   {
    "duration": 15445,
    "start_time": "2022-03-11T17:31:11.196Z"
   },
   {
    "duration": 1164,
    "start_time": "2022-03-11T17:31:41.032Z"
   },
   {
    "duration": 377,
    "start_time": "2022-03-11T17:31:42.198Z"
   },
   {
    "duration": 21,
    "start_time": "2022-03-11T17:31:42.577Z"
   },
   {
    "duration": 16,
    "start_time": "2022-03-11T17:31:42.600Z"
   },
   {
    "duration": 46,
    "start_time": "2022-03-11T17:31:42.618Z"
   },
   {
    "duration": 135,
    "start_time": "2022-03-11T17:31:42.666Z"
   },
   {
    "duration": 368,
    "start_time": "2022-03-11T17:31:42.803Z"
   },
   {
    "duration": 290,
    "start_time": "2022-03-11T17:31:43.174Z"
   },
   {
    "duration": 8,
    "start_time": "2022-03-11T17:31:43.467Z"
   },
   {
    "duration": 359,
    "start_time": "2022-03-11T17:31:43.477Z"
   },
   {
    "duration": 2922,
    "start_time": "2022-03-11T17:31:43.838Z"
   },
   {
    "duration": 16,
    "start_time": "2022-03-11T17:31:46.762Z"
   },
   {
    "duration": 59,
    "start_time": "2022-03-11T17:31:46.780Z"
   },
   {
    "duration": 38,
    "start_time": "2022-03-11T17:31:46.860Z"
   },
   {
    "duration": 2439,
    "start_time": "2022-03-11T17:31:46.900Z"
   },
   {
    "duration": 227,
    "start_time": "2022-03-11T17:31:49.340Z"
   },
   {
    "duration": 89,
    "start_time": "2022-03-11T17:31:49.571Z"
   },
   {
    "duration": 95,
    "start_time": "2022-03-11T17:31:49.663Z"
   },
   {
    "duration": 9,
    "start_time": "2022-03-11T17:31:49.760Z"
   },
   {
    "duration": 15318,
    "start_time": "2022-03-11T17:31:49.771Z"
   },
   {
    "duration": 887,
    "start_time": "2022-03-11T17:32:05.091Z"
   },
   {
    "duration": 5,
    "start_time": "2022-03-11T17:32:05.980Z"
   },
   {
    "duration": 17,
    "start_time": "2022-03-11T17:32:05.987Z"
   },
   {
    "duration": 9,
    "start_time": "2022-03-11T17:32:06.006Z"
   },
   {
    "duration": 36,
    "start_time": "2022-03-11T17:32:14.614Z"
   },
   {
    "duration": 1209,
    "start_time": "2022-03-11T17:32:22.384Z"
   },
   {
    "duration": 373,
    "start_time": "2022-03-11T17:32:23.595Z"
   },
   {
    "duration": 22,
    "start_time": "2022-03-11T17:32:23.970Z"
   },
   {
    "duration": 18,
    "start_time": "2022-03-11T17:32:23.994Z"
   },
   {
    "duration": 46,
    "start_time": "2022-03-11T17:32:24.013Z"
   },
   {
    "duration": 134,
    "start_time": "2022-03-11T17:32:24.061Z"
   },
   {
    "duration": 370,
    "start_time": "2022-03-11T17:32:24.196Z"
   },
   {
    "duration": 302,
    "start_time": "2022-03-11T17:32:24.568Z"
   },
   {
    "duration": 7,
    "start_time": "2022-03-11T17:32:24.873Z"
   },
   {
    "duration": 356,
    "start_time": "2022-03-11T17:32:24.882Z"
   },
   {
    "duration": 2963,
    "start_time": "2022-03-11T17:32:25.240Z"
   },
   {
    "duration": 16,
    "start_time": "2022-03-11T17:32:28.204Z"
   },
   {
    "duration": 61,
    "start_time": "2022-03-11T17:32:28.222Z"
   },
   {
    "duration": 38,
    "start_time": "2022-03-11T17:32:28.285Z"
   },
   {
    "duration": 2493,
    "start_time": "2022-03-11T17:32:28.325Z"
   },
   {
    "duration": 242,
    "start_time": "2022-03-11T17:32:30.820Z"
   },
   {
    "duration": 9,
    "start_time": "2022-03-11T17:32:31.064Z"
   },
   {
    "duration": 5,
    "start_time": "2022-03-11T17:32:31.160Z"
   },
   {
    "duration": 19,
    "start_time": "2022-03-11T17:32:31.167Z"
   },
   {
    "duration": 15287,
    "start_time": "2022-03-11T17:32:31.188Z"
   },
   {
    "duration": 887,
    "start_time": "2022-03-11T17:32:46.477Z"
   },
   {
    "duration": 4,
    "start_time": "2022-03-11T17:32:47.366Z"
   },
   {
    "duration": 11,
    "start_time": "2022-03-11T17:32:47.372Z"
   },
   {
    "duration": 9,
    "start_time": "2022-03-11T17:32:47.385Z"
   },
   {
    "duration": 1326,
    "start_time": "2022-07-20T12:43:00.651Z"
   },
   {
    "duration": 772,
    "start_time": "2022-07-20T12:43:01.979Z"
   },
   {
    "duration": 28,
    "start_time": "2022-07-20T12:43:02.753Z"
   },
   {
    "duration": 21,
    "start_time": "2022-07-20T12:43:02.783Z"
   },
   {
    "duration": 23,
    "start_time": "2022-07-20T12:43:02.825Z"
   },
   {
    "duration": 164,
    "start_time": "2022-07-20T12:43:02.850Z"
   },
   {
    "duration": 51,
    "start_time": "2022-07-20T12:43:03.016Z"
   },
   {
    "duration": 63,
    "start_time": "2022-07-20T12:43:03.069Z"
   },
   {
    "duration": 6,
    "start_time": "2022-07-20T12:43:03.134Z"
   },
   {
    "duration": 48,
    "start_time": "2022-07-20T12:43:03.142Z"
   },
   {
    "duration": 1951,
    "start_time": "2022-07-20T12:43:03.192Z"
   },
   {
    "duration": 13,
    "start_time": "2022-07-20T12:43:05.144Z"
   },
   {
    "duration": 40,
    "start_time": "2022-07-20T12:43:05.159Z"
   },
   {
    "duration": 51,
    "start_time": "2022-07-20T12:43:05.202Z"
   },
   {
    "duration": 1594,
    "start_time": "2022-07-20T12:43:05.255Z"
   },
   {
    "duration": 177,
    "start_time": "2022-07-20T12:43:06.850Z"
   },
   {
    "duration": 196,
    "start_time": "2022-07-20T12:43:07.029Z"
   },
   {
    "duration": 26,
    "start_time": "2022-07-20T12:43:07.227Z"
   },
   {
    "duration": 16,
    "start_time": "2022-07-20T12:43:07.255Z"
   },
   {
    "duration": 15026,
    "start_time": "2022-07-20T12:43:07.273Z"
   },
   {
    "duration": 547,
    "start_time": "2022-07-20T12:43:22.301Z"
   },
   {
    "duration": 5,
    "start_time": "2022-07-20T12:43:22.850Z"
   },
   {
    "duration": 26,
    "start_time": "2022-07-20T12:43:22.858Z"
   },
   {
    "duration": 28,
    "start_time": "2022-07-20T12:43:22.886Z"
   }
  ],
  "kernelspec": {
   "display_name": "Python 3 (ipykernel)",
   "language": "python",
   "name": "python3"
  },
  "language_info": {
   "codemirror_mode": {
    "name": "ipython",
    "version": 3
   },
   "file_extension": ".py",
   "mimetype": "text/x-python",
   "name": "python",
   "nbconvert_exporter": "python",
   "pygments_lexer": "ipython3",
   "version": "3.9.5"
  },
  "toc": {
   "base_numbering": 1,
   "nav_menu": {
    "height": "280px",
    "width": "284px"
   },
   "number_sections": true,
   "sideBar": true,
   "skip_h1_title": true,
   "title_cell": "Table of Contents",
   "title_sidebar": "Contents",
   "toc_cell": false,
   "toc_position": {},
   "toc_section_display": true,
   "toc_window_display": false
  }
 },
 "nbformat": 4,
 "nbformat_minor": 2
}
